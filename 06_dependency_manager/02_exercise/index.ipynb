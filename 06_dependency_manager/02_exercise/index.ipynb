{
 "cells": [
  {
   "cell_type": "markdown",
   "metadata": {},
   "source": [
    "# PHP 2022"
   ]
  },
  {
   "cell_type": "markdown",
   "metadata": {},
   "source": [
    "## 6. Dependency Manager"
   ]
  },
  {
   "cell_type": "markdown",
   "metadata": {},
   "source": [
    "### 6.2 Exercise"
   ]
  },
  {
   "cell_type": "markdown",
   "metadata": {},
   "source": [
    "Configure ```Composer```, add ```predis/predis``` package and implement the ```RedisStorage``` class."
   ]
  },
  {
   "cell_type": "markdown",
   "metadata": {},
   "source": [
    "Start the databses:"
   ]
  },
  {
   "cell_type": "code",
   "execution_count": 1,
   "metadata": {},
   "outputs": [
    {
     "name": "stdout",
     "output_type": "stream",
     "text": [
      "docker: Error response from daemon: Conflict. The container name \"/redis\" is already in use by container \"3c2e8ac8ecc67e67571bfd8c9b2a79250708888895f2879389a301f41ce262b3\". You have to remove (or rename) that container to be able to reuse that name.\r\n",
      "See 'docker run --help'.\r\n"
     ]
    }
   ],
   "source": [
    "! docker run --net=host --rm --name redis -d redis"
   ]
  },
  {
   "cell_type": "code",
   "execution_count": 2,
   "metadata": {},
   "outputs": [
    {
     "name": "stdout",
     "output_type": "stream",
     "text": [
      "docker: Error response from daemon: Conflict. The container name \"/mysql\" is already in use by container \"ff6721d075a5310e18b2d1196c8d6647af4e71a64e0e2bfb46be823e608139a2\". You have to remove (or rename) that container to be able to reuse that name.\r\n",
      "See 'docker run --help'.\r\n"
     ]
    }
   ],
   "source": [
    "! docker run --name=mysql --net=host --rm --env MYSQL_ROOT_PASSWORD=root123 --env MYSQL_DATABASE=test --env MYSQL_USER=test --env MYSQL_PASSWORD=test123 -d mysql/mysql-server:8.0"
   ]
  },
  {
   "cell_type": "code",
   "execution_count": 3,
   "metadata": {},
   "outputs": [
    {
     "name": "stdout",
     "output_type": "stream",
     "text": [
      "Done.\r\n"
     ]
    }
   ],
   "source": [
    "! while ! timeout 1 bash -c \"echo > /dev/tcp/localhost/6379\" 2> /dev/null; do sleep 1; done; echo \"Done.\";"
   ]
  },
  {
   "cell_type": "code",
   "execution_count": 4,
   "metadata": {},
   "outputs": [
    {
     "name": "stdout",
     "output_type": "stream",
     "text": [
      "Done.\r\n"
     ]
    }
   ],
   "source": [
    "! while ! timeout 1 bash -c \"echo > /dev/tcp/localhost/3306\" 2> /dev/null; do sleep 1; done; echo \"Done.\";"
   ]
  },
  {
   "cell_type": "markdown",
   "metadata": {},
   "source": [
    "Edit the code:"
   ]
  },
  {
   "cell_type": "code",
   "execution_count": 36,
   "metadata": {},
   "outputs": [
    {
     "name": "stdout",
     "output_type": "stream",
     "text": [
      "Info  | RdCoroutineScope          | 13:JobScheduler FJ pool 1/3 | RdCoroutineHost overridden \n",
      "2022-11-07 23:43:32,251 [  10251]   WARN - #c.i.o.a.e.ActionUtil - Can not find action by id CompileDirty\n",
      "2022-11-07 23:43:32,774 [  10774]   WARN - #c.i.o.a.i.ActionUpdater - 1916 ms to grab EDT for SaveAsAction#update@MainMenu (com.intellij.ide.actions.SaveAsAction)\n",
      "2022-11-07 23:43:34,518 [  12518]   WARN - #c.i.o.a.i.ActionUpdater - 902 ms to grab EDT for BackAction#update@MainToolbar (com.intellij.ide.actions.BackAction)\n",
      "2022-11-07 23:43:47,062 [  25062]   WARN - #c.i.u.x.Binding - no accessors for org.jetbrains.idea.perforce.perforce.ConnectionId\n"
     ]
    }
   ],
   "source": [
    "! phpstorm project"
   ]
  },
  {
   "cell_type": "markdown",
   "metadata": {},
   "source": [
    "You can test your solution using included tests:"
   ]
  },
  {
   "cell_type": "code",
   "execution_count": 30,
   "metadata": {},
   "outputs": [
    {
     "name": "stdout",
     "output_type": "stream",
     "text": [
      "\u001b[32mChanged current directory to /home/student/.composer\u001b[39m\n",
      "Using version \u001b[32m^3.13\u001b[39m for \u001b[32mfriendsofphp/php-cs-fixer\u001b[39m\n",
      "Using version \u001b[32m^1.9\u001b[39m for \u001b[32mphpstan/phpstan\u001b[39m\n",
      "Using version \u001b[32m^6.0\u001b[39m for \u001b[32msebastian/phpcpd\u001b[39m\n",
      "\u001b[32m./composer.json has been updated\u001b[39m\n",
      "\u001b[32mRunning composer update friendsofphp/php-cs-fixer phpstan/phpstan sebastian/phpcpd\u001b[39m\n",
      "\u001b[32mLoading composer repositories with package information\u001b[39m\n",
      "\u001b[32mUpdating dependencies\u001b[39m\n",
      "Nothing to modify in lock file\n",
      "\u001b[32mInstalling dependencies from lock file (including require-dev)\u001b[39m\n",
      "Nothing to install, update or remove\n",
      "\u001b[32mGenerating autoload files\u001b[39m\n",
      "\u001b[32m29 packages you are using are looking for funding.\u001b[39m\n",
      "\u001b[32mUse the `composer fund` command to find out more!\u001b[39m\n",
      "\u001b[32mNo security vulnerability advisories found\u001b[39m\n"
     ]
    }
   ],
   "source": [
    "! composer global require friendsofphp/php-cs-fixer phpstan/phpstan sebastian/phpcpd"
   ]
  },
  {
   "cell_type": "code",
   "execution_count": 37,
   "metadata": {},
   "outputs": [
    {
     "name": "stdout",
     "output_type": "stream",
     "text": [
      "/home/student/php_2022_adam_lewinski/06_dependency_manager/02_exercise/project\n"
     ]
    }
   ],
   "source": [
    "%cd project"
   ]
  },
  {
   "cell_type": "code",
   "execution_count": 38,
   "metadata": {},
   "outputs": [
    {
     "name": "stdout",
     "output_type": "stream",
     "text": [
      "\u001b[32mInstalling dependencies from lock file (including require-dev)\u001b[39m\r\n",
      "\u001b[32mVerifying lock file contents can be installed on current platform.\u001b[39m\r\n",
      "Nothing to install, update or remove\r\n",
      "\u001b[32mGenerating autoload files\u001b[39m\r\n",
      "\u001b[32m1 package you are using is looking for funding.\u001b[39m\r\n",
      "\u001b[32mUse the `composer fund` command to find out more!\u001b[39m\r\n"
     ]
    }
   ],
   "source": [
    "! composer install"
   ]
  },
  {
   "cell_type": "code",
   "execution_count": 39,
   "metadata": {},
   "outputs": [
    {
     "name": "stdout",
     "output_type": "stream",
     "text": [
      "Loaded config \u001b[33mdefault\u001b[39m.\n",
      "Using cache file \".php-cs-fixer.cache\".\n",
      "\n",
      "Checked all files in 0.011 seconds, 12.000 MB memory used\n"
     ]
    }
   ],
   "source": [
    "! ~/.composer/vendor/bin/php-cs-fixer fix --diff --dry-run ."
   ]
  },
  {
   "cell_type": "code",
   "execution_count": null,
   "metadata": {},
   "outputs": [
    {
     "name": "stdout",
     "output_type": "stream",
     "text": [
      "  0/15 [░░░░░░░░░░░░░░░░░░░░░░░░░░░░]   0%"
     ]
    }
   ],
   "source": [
    "! ~/.composer/vendor/bin/phpstan analyze --xdebug --level max public/ src/"
   ]
  },
  {
   "cell_type": "code",
   "execution_count": 35,
   "metadata": {},
   "outputs": [
    {
     "name": "stdout",
     "output_type": "stream",
     "text": [
      "/home/student/php_2022_adam_lewinski/06_dependency_manager/02_exercise\n"
     ]
    }
   ],
   "source": [
    "%cd ../"
   ]
  },
  {
   "cell_type": "code",
   "execution_count": 12,
   "metadata": {},
   "outputs": [],
   "source": [
    "import subprocess\n",
    "phpServer = subprocess.Popen(['php', '-S', 'localhost:8888', '-t', 'project/public'])"
   ]
  },
  {
   "cell_type": "code",
   "execution_count": 13,
   "metadata": {},
   "outputs": [
    {
     "name": "stderr",
     "output_type": "stream",
     "text": [
      "[Mon Nov  7 23:33:22 2022] PHP 8.1.9 Development Server (http://localhost:8888) started\n"
     ]
    },
    {
     "name": "stdout",
     "output_type": "stream",
     "text": [
      "\u001b[32mInstalling dependencies from lock file (including require-dev)\u001b[39m\n",
      "\u001b[32mVerifying lock file contents can be installed on current platform.\u001b[39m\n",
      "\u001b[32mPackage operations: 71 installs, 0 updates, 0 removals\u001b[39m\n",
      "  - Downloading \u001b[32mbehat/gherkin\u001b[39m (\u001b[33mv4.8.0\u001b[39m)\n",
      "  - Downloading \u001b[32msebastian/version\u001b[39m (\u001b[33m3.0.2\u001b[39m)\n",
      "  - Downloading \u001b[32msebastian/type\u001b[39m (\u001b[33m2.3.4\u001b[39m)\n",
      "  - Downloading \u001b[32msebastian/resource-operations\u001b[39m (\u001b[33m3.0.3\u001b[39m)\n",
      "  - Downloading \u001b[32msebastian/recursion-context\u001b[39m (\u001b[33m4.0.4\u001b[39m)\n",
      "  - Downloading \u001b[32msebastian/object-reflector\u001b[39m (\u001b[33m2.0.4\u001b[39m)\n",
      "  - Downloading \u001b[32msebastian/object-enumerator\u001b[39m (\u001b[33m4.0.4\u001b[39m)\n",
      "  - Downloading \u001b[32msebastian/global-state\u001b[39m (\u001b[33m5.0.3\u001b[39m)\n",
      "  - Downloading \u001b[32msebastian/exporter\u001b[39m (\u001b[33m4.0.3\u001b[39m)\n",
      "  - Downloading \u001b[32msebastian/environment\u001b[39m (\u001b[33m5.1.3\u001b[39m)\n",
      "  - Downloading \u001b[32msebastian/diff\u001b[39m (\u001b[33m4.0.4\u001b[39m)\n",
      "  - Downloading \u001b[32msebastian/comparator\u001b[39m (\u001b[33m4.0.6\u001b[39m)\n",
      "  - Downloading \u001b[32msebastian/code-unit\u001b[39m (\u001b[33m1.0.8\u001b[39m)\n",
      "  - Downloading \u001b[32msebastian/cli-parser\u001b[39m (\u001b[33m1.0.1\u001b[39m)\n",
      "  - Downloading \u001b[32mphpunit/php-timer\u001b[39m (\u001b[33m5.0.3\u001b[39m)\n",
      "  - Downloading \u001b[32mphpunit/php-text-template\u001b[39m (\u001b[33m2.0.4\u001b[39m)\n",
      "  - Downloading \u001b[32mphpunit/php-invoker\u001b[39m (\u001b[33m3.1.1\u001b[39m)\n",
      "  - Downloading \u001b[32mphpunit/php-file-iterator\u001b[39m (\u001b[33m3.0.5\u001b[39m)\n",
      "  - Downloading \u001b[32mtheseer/tokenizer\u001b[39m (\u001b[33m1.2.1\u001b[39m)\n",
      "  - Downloading \u001b[32mnikic/php-parser\u001b[39m (\u001b[33mv4.12.0\u001b[39m)\n",
      "  - Downloading \u001b[32msebastian/lines-of-code\u001b[39m (\u001b[33m1.0.3\u001b[39m)\n",
      "  - Downloading \u001b[32msebastian/complexity\u001b[39m (\u001b[33m2.0.2\u001b[39m)\n",
      "  - Downloading \u001b[32msebastian/code-unit-reverse-lookup\u001b[39m (\u001b[33m2.0.3\u001b[39m)\n",
      "  - Downloading \u001b[32mphpunit/php-code-coverage\u001b[39m (\u001b[33m9.2.6\u001b[39m)\n",
      "  - Downloading \u001b[32msymfony/polyfill-ctype\u001b[39m (\u001b[33mv1.23.0\u001b[39m)\n",
      "  - Downloading \u001b[32mwebmozart/assert\u001b[39m (\u001b[33m1.10.0\u001b[39m)\n",
      "  - Downloading \u001b[32mphpdocumentor/reflection-common\u001b[39m (\u001b[33m2.2.0\u001b[39m)\n",
      "  - Downloading \u001b[32mphpdocumentor/type-resolver\u001b[39m (\u001b[33m1.4.0\u001b[39m)\n",
      "  - Downloading \u001b[32mphpdocumentor/reflection-docblock\u001b[39m (\u001b[33m5.2.2\u001b[39m)\n",
      "  - Downloading \u001b[32mdoctrine/instantiator\u001b[39m (\u001b[33m1.4.0\u001b[39m)\n",
      "  - Downloading \u001b[32mphpspec/prophecy\u001b[39m (\u001b[33m1.14.0\u001b[39m)\n",
      "  - Downloading \u001b[32mphar-io/version\u001b[39m (\u001b[33m3.1.0\u001b[39m)\n",
      "  - Downloading \u001b[32mphar-io/manifest\u001b[39m (\u001b[33m2.0.3\u001b[39m)\n",
      "  - Downloading \u001b[32mmyclabs/deep-copy\u001b[39m (\u001b[33m1.10.2\u001b[39m)\n",
      "  - Downloading \u001b[32mphpunit/phpunit\u001b[39m (\u001b[33m9.5.9\u001b[39m)\n",
      "  - Downloading \u001b[32mcodeception/phpunit-wrapper\u001b[39m (\u001b[33m9.0.6\u001b[39m)\n",
      "  - Downloading \u001b[32mcodeception/lib-asserts\u001b[39m (\u001b[33m1.13.2\u001b[39m)\n",
      "  - Downloading \u001b[32msymfony/deprecation-contracts\u001b[39m (\u001b[33mv2.4.0\u001b[39m)\n",
      "  - Downloading \u001b[32msymfony/yaml\u001b[39m (\u001b[33mv5.3.6\u001b[39m)\n",
      "  - Downloading \u001b[32msymfony/polyfill-php80\u001b[39m (\u001b[33mv1.23.1\u001b[39m)\n",
      "  - Downloading \u001b[32msymfony/finder\u001b[39m (\u001b[33mv5.3.7\u001b[39m)\n",
      "  - Downloading \u001b[32mpsr/event-dispatcher\u001b[39m (\u001b[33m1.0.0\u001b[39m)\n",
      "  - Downloading \u001b[32msymfony/event-dispatcher-contracts\u001b[39m (\u001b[33mv2.4.0\u001b[39m)\n",
      "  - Downloading \u001b[32msymfony/event-dispatcher\u001b[39m (\u001b[33mv5.3.7\u001b[39m)\n",
      "  - Downloading \u001b[32msymfony/css-selector\u001b[39m (\u001b[33mv5.3.4\u001b[39m)\n",
      "  - Downloading \u001b[32msymfony/polyfill-mbstring\u001b[39m (\u001b[33mv1.23.1\u001b[39m)\n",
      "  - Downloading \u001b[32msymfony/polyfill-intl-normalizer\u001b[39m (\u001b[33mv1.23.0\u001b[39m)\n",
      "  - Downloading \u001b[32msymfony/polyfill-intl-grapheme\u001b[39m (\u001b[33mv1.23.1\u001b[39m)\n",
      "  - Downloading \u001b[32msymfony/string\u001b[39m (\u001b[33mv5.3.7\u001b[39m)\n",
      "  - Downloading \u001b[32mpsr/container\u001b[39m (\u001b[33m1.1.1\u001b[39m)\n",
      "  - Downloading \u001b[32msymfony/service-contracts\u001b[39m (\u001b[33mv2.4.0\u001b[39m)\n",
      "  - Downloading \u001b[32msymfony/polyfill-php73\u001b[39m (\u001b[33mv1.23.0\u001b[39m)\n",
      "  - Downloading \u001b[32msymfony/console\u001b[39m (\u001b[33mv5.3.7\u001b[39m)\n",
      "  - Downloading \u001b[32mralouphie/getallheaders\u001b[39m (\u001b[33m3.0.3\u001b[39m)\n",
      "  - Downloading \u001b[32mpsr/http-message\u001b[39m (\u001b[33m1.0.1\u001b[39m)\n",
      "  - Downloading \u001b[32mpsr/http-factory\u001b[39m (\u001b[33m1.0.1\u001b[39m)\n",
      "  - Downloading \u001b[32mguzzlehttp/psr7\u001b[39m (\u001b[33m2.0.0\u001b[39m)\n",
      "  - Downloading \u001b[32mcodeception/stub\u001b[39m (\u001b[33m3.7.0\u001b[39m)\n",
      "  - Downloading \u001b[32mcodeception/codeception\u001b[39m (\u001b[33m4.1.22\u001b[39m)\n",
      "  - Downloading \u001b[32mcodeception/module-asserts\u001b[39m (\u001b[33m1.3.1\u001b[39m)\n",
      "  - Downloading \u001b[32mcodeception/module-db\u001b[39m (\u001b[33m1.1.0\u001b[39m)\n",
      "  - Downloading \u001b[32mcodeception/module-filesystem\u001b[39m (\u001b[33m1.0.3\u001b[39m)\n",
      "  - Downloading \u001b[32mpsr/http-client\u001b[39m (\u001b[33m1.0.1\u001b[39m)\n",
      "  - Downloading \u001b[32mguzzlehttp/promises\u001b[39m (\u001b[33m1.4.1\u001b[39m)\n",
      "  - Downloading \u001b[32mguzzlehttp/guzzle\u001b[39m (\u001b[33m7.3.0\u001b[39m)\n",
      "  - Downloading \u001b[32msymfony/dom-crawler\u001b[39m (\u001b[33mv5.3.7\u001b[39m)\n",
      "  - Downloading \u001b[32msymfony/browser-kit\u001b[39m (\u001b[33mv5.3.4\u001b[39m)\n",
      "  - Downloading \u001b[32mcodeception/lib-innerbrowser\u001b[39m (\u001b[33m1.5.1\u001b[39m)\n",
      "  - Downloading \u001b[32mcodeception/module-phpbrowser\u001b[39m (\u001b[33m1.0.2\u001b[39m)\n",
      "  - Downloading \u001b[32mpredis/predis\u001b[39m (\u001b[33mv1.1.7\u001b[39m)\n",
      "  - Downloading \u001b[32mcodeception/module-redis\u001b[39m (\u001b[33m1.1.0\u001b[39m)\n",
      "  0/71 [>---------------------------]   0%\u001b[1G\u001b[2K 10/71 [===>------------------------]  14%\u001b[1G\u001b[2K 19/71 [=======>--------------------]  26%\u001b[1G\u001b[2K 24/71 [=========>------------------]  33%\u001b[1G\u001b[2K 33/71 [=============>--------------]  46%\u001b[1G\u001b[2K 46/71 [==================>---------]  64%\u001b[1G\u001b[2K 53/71 [====================>-------]  74%\u001b[1G\u001b[2K 59/71 [=======================>----]  83%\u001b[1G\u001b[2K 64/71 [=========================>--]  90%\u001b[1G\u001b[2K 71/71 [============================] 100%\u001b[1G\u001b[2K  - Installing \u001b[32mbehat/gherkin\u001b[39m (\u001b[33mv4.8.0\u001b[39m): Extracting archive\n",
      "  - Installing \u001b[32msebastian/version\u001b[39m (\u001b[33m3.0.2\u001b[39m): Extracting archive\n",
      "  - Installing \u001b[32msebastian/type\u001b[39m (\u001b[33m2.3.4\u001b[39m): Extracting archive\n",
      "  - Installing \u001b[32msebastian/resource-operations\u001b[39m (\u001b[33m3.0.3\u001b[39m): Extracting archive\n",
      "  - Installing \u001b[32msebastian/recursion-context\u001b[39m (\u001b[33m4.0.4\u001b[39m): Extracting archive\n",
      "  - Installing \u001b[32msebastian/object-reflector\u001b[39m (\u001b[33m2.0.4\u001b[39m): Extracting archive\n",
      "  - Installing \u001b[32msebastian/object-enumerator\u001b[39m (\u001b[33m4.0.4\u001b[39m): Extracting archive\n",
      "  - Installing \u001b[32msebastian/global-state\u001b[39m (\u001b[33m5.0.3\u001b[39m): Extracting archive\n",
      "  - Installing \u001b[32msebastian/exporter\u001b[39m (\u001b[33m4.0.3\u001b[39m): Extracting archive\n",
      "  - Installing \u001b[32msebastian/environment\u001b[39m (\u001b[33m5.1.3\u001b[39m): Extracting archive\n",
      "  - Installing \u001b[32msebastian/diff\u001b[39m (\u001b[33m4.0.4\u001b[39m): Extracting archive\n",
      "  - Installing \u001b[32msebastian/comparator\u001b[39m (\u001b[33m4.0.6\u001b[39m): Extracting archive\n",
      "  - Installing \u001b[32msebastian/code-unit\u001b[39m (\u001b[33m1.0.8\u001b[39m): Extracting archive\n",
      "  - Installing \u001b[32msebastian/cli-parser\u001b[39m (\u001b[33m1.0.1\u001b[39m): Extracting archive\n",
      "  - Installing \u001b[32mphpunit/php-timer\u001b[39m (\u001b[33m5.0.3\u001b[39m): Extracting archive\n",
      "  - Installing \u001b[32mphpunit/php-text-template\u001b[39m (\u001b[33m2.0.4\u001b[39m): Extracting archive\n",
      "  - Installing \u001b[32mphpunit/php-invoker\u001b[39m (\u001b[33m3.1.1\u001b[39m): Extracting archive\n",
      "  - Installing \u001b[32mphpunit/php-file-iterator\u001b[39m (\u001b[33m3.0.5\u001b[39m): Extracting archive\n",
      "  - Installing \u001b[32mtheseer/tokenizer\u001b[39m (\u001b[33m1.2.1\u001b[39m): Extracting archive\n",
      "  - Installing \u001b[32mnikic/php-parser\u001b[39m (\u001b[33mv4.12.0\u001b[39m): Extracting archive\n",
      "  - Installing \u001b[32msebastian/lines-of-code\u001b[39m (\u001b[33m1.0.3\u001b[39m): Extracting archive\n",
      "  - Installing \u001b[32msebastian/complexity\u001b[39m (\u001b[33m2.0.2\u001b[39m): Extracting archive\n",
      "  - Installing \u001b[32msebastian/code-unit-reverse-lookup\u001b[39m (\u001b[33m2.0.3\u001b[39m): Extracting archive\n",
      "  - Installing \u001b[32mphpunit/php-code-coverage\u001b[39m (\u001b[33m9.2.6\u001b[39m): Extracting archive\n",
      "  - Installing \u001b[32msymfony/polyfill-ctype\u001b[39m (\u001b[33mv1.23.0\u001b[39m): Extracting archive\n",
      "  - Installing \u001b[32mwebmozart/assert\u001b[39m (\u001b[33m1.10.0\u001b[39m): Extracting archive\n",
      "  - Installing \u001b[32mphpdocumentor/reflection-common\u001b[39m (\u001b[33m2.2.0\u001b[39m): Extracting archive\n",
      "  - Installing \u001b[32mphpdocumentor/type-resolver\u001b[39m (\u001b[33m1.4.0\u001b[39m): Extracting archive\n",
      "  - Installing \u001b[32mphpdocumentor/reflection-docblock\u001b[39m (\u001b[33m5.2.2\u001b[39m): Extracting archive\n",
      "  - Installing \u001b[32mdoctrine/instantiator\u001b[39m (\u001b[33m1.4.0\u001b[39m): Extracting archive\n",
      "  - Installing \u001b[32mphpspec/prophecy\u001b[39m (\u001b[33m1.14.0\u001b[39m): Extracting archive\n",
      "  - Installing \u001b[32mphar-io/version\u001b[39m (\u001b[33m3.1.0\u001b[39m): Extracting archive\n",
      "  - Installing \u001b[32mphar-io/manifest\u001b[39m (\u001b[33m2.0.3\u001b[39m): Extracting archive\n",
      "  - Installing \u001b[32mmyclabs/deep-copy\u001b[39m (\u001b[33m1.10.2\u001b[39m): Extracting archive\n",
      "  - Installing \u001b[32mphpunit/phpunit\u001b[39m (\u001b[33m9.5.9\u001b[39m): Extracting archive\n",
      "  - Installing \u001b[32mcodeception/phpunit-wrapper\u001b[39m (\u001b[33m9.0.6\u001b[39m): Extracting archive\n",
      "  - Installing \u001b[32mcodeception/lib-asserts\u001b[39m (\u001b[33m1.13.2\u001b[39m): Extracting archive\n",
      "  - Installing \u001b[32msymfony/deprecation-contracts\u001b[39m (\u001b[33mv2.4.0\u001b[39m): Extracting archive\n",
      "  - Installing \u001b[32msymfony/yaml\u001b[39m (\u001b[33mv5.3.6\u001b[39m): Extracting archive\n",
      "  - Installing \u001b[32msymfony/polyfill-php80\u001b[39m (\u001b[33mv1.23.1\u001b[39m): Extracting archive\n",
      "  - Installing \u001b[32msymfony/finder\u001b[39m (\u001b[33mv5.3.7\u001b[39m): Extracting archive\n",
      "  - Installing \u001b[32mpsr/event-dispatcher\u001b[39m (\u001b[33m1.0.0\u001b[39m): Extracting archive\n",
      "  - Installing \u001b[32msymfony/event-dispatcher-contracts\u001b[39m (\u001b[33mv2.4.0\u001b[39m): Extracting archive\n",
      "  - Installing \u001b[32msymfony/event-dispatcher\u001b[39m (\u001b[33mv5.3.7\u001b[39m): Extracting archive\n",
      "  - Installing \u001b[32msymfony/css-selector\u001b[39m (\u001b[33mv5.3.4\u001b[39m): Extracting archive\n",
      "  - Installing \u001b[32msymfony/polyfill-mbstring\u001b[39m (\u001b[33mv1.23.1\u001b[39m): Extracting archive\n",
      "  - Installing \u001b[32msymfony/polyfill-intl-normalizer\u001b[39m (\u001b[33mv1.23.0\u001b[39m): Extracting archive\n",
      "  - Installing \u001b[32msymfony/polyfill-intl-grapheme\u001b[39m (\u001b[33mv1.23.1\u001b[39m): Extracting archive\n",
      "  - Installing \u001b[32msymfony/string\u001b[39m (\u001b[33mv5.3.7\u001b[39m): Extracting archive\n",
      "  - Installing \u001b[32mpsr/container\u001b[39m (\u001b[33m1.1.1\u001b[39m): Extracting archive\n",
      "  - Installing \u001b[32msymfony/service-contracts\u001b[39m (\u001b[33mv2.4.0\u001b[39m): Extracting archive\n",
      "  - Installing \u001b[32msymfony/polyfill-php73\u001b[39m (\u001b[33mv1.23.0\u001b[39m): Extracting archive\n",
      "  - Installing \u001b[32msymfony/console\u001b[39m (\u001b[33mv5.3.7\u001b[39m): Extracting archive\n",
      "  - Installing \u001b[32mralouphie/getallheaders\u001b[39m (\u001b[33m3.0.3\u001b[39m): Extracting archive\n",
      "  - Installing \u001b[32mpsr/http-message\u001b[39m (\u001b[33m1.0.1\u001b[39m): Extracting archive\n",
      "  - Installing \u001b[32mpsr/http-factory\u001b[39m (\u001b[33m1.0.1\u001b[39m): Extracting archive\n",
      "  - Installing \u001b[32mguzzlehttp/psr7\u001b[39m (\u001b[33m2.0.0\u001b[39m): Extracting archive\n",
      "  - Installing \u001b[32mcodeception/stub\u001b[39m (\u001b[33m3.7.0\u001b[39m): Extracting archive\n",
      "  - Installing \u001b[32mcodeception/codeception\u001b[39m (\u001b[33m4.1.22\u001b[39m): Extracting archive\n"
     ]
    },
    {
     "name": "stdout",
     "output_type": "stream",
     "text": [
      "  - Installing \u001b[32mcodeception/module-asserts\u001b[39m (\u001b[33m1.3.1\u001b[39m): Extracting archive\n",
      "  - Installing \u001b[32mcodeception/module-db\u001b[39m (\u001b[33m1.1.0\u001b[39m): Extracting archive\n",
      "  - Installing \u001b[32mcodeception/module-filesystem\u001b[39m (\u001b[33m1.0.3\u001b[39m): Extracting archive\n",
      "  - Installing \u001b[32mpsr/http-client\u001b[39m (\u001b[33m1.0.1\u001b[39m): Extracting archive\n",
      "  - Installing \u001b[32mguzzlehttp/promises\u001b[39m (\u001b[33m1.4.1\u001b[39m): Extracting archive\n",
      "  - Installing \u001b[32mguzzlehttp/guzzle\u001b[39m (\u001b[33m7.3.0\u001b[39m): Extracting archive\n",
      "  - Installing \u001b[32msymfony/dom-crawler\u001b[39m (\u001b[33mv5.3.7\u001b[39m): Extracting archive\n",
      "  - Installing \u001b[32msymfony/browser-kit\u001b[39m (\u001b[33mv5.3.4\u001b[39m): Extracting archive\n",
      "  - Installing \u001b[32mcodeception/lib-innerbrowser\u001b[39m (\u001b[33m1.5.1\u001b[39m): Extracting archive\n",
      "  - Installing \u001b[32mcodeception/module-phpbrowser\u001b[39m (\u001b[33m1.0.2\u001b[39m): Extracting archive\n",
      "  - Installing \u001b[32mpredis/predis\u001b[39m (\u001b[33mv1.1.7\u001b[39m): Extracting archive\n",
      "  - Installing \u001b[32mcodeception/module-redis\u001b[39m (\u001b[33m1.1.0\u001b[39m): Extracting archive\n",
      "  0/71 [>---------------------------]   0%\u001b[1G\u001b[2K 20/71 [=======>--------------------]  28%\u001b[1G\u001b[2K 36/71 [==============>-------------]  50%\u001b[1G\u001b[2K 50/71 [===================>--------]  70%\u001b[1G\u001b[2K 66/71 [==========================>-]  92%\u001b[1G\u001b[2K 71/71 [============================] 100%\u001b[1G\u001b[2K\u001b[30;43mPackage sebastian/resource-operations is abandoned, you should avoid using it. No replacement was suggested.\u001b[39;49m\n",
      "\u001b[32mGenerating autoload files\u001b[39m\n",
      "\u001b[32m45 packages you are using are looking for funding.\u001b[39m\n",
      "\u001b[32mUse the `composer fund` command to find out more!\u001b[39m\n",
      "Codeception PHP Testing Framework v4.1.22\n",
      "Powered by PHPUnit 9.5.9 by Sebastian Bergmann and contributors.\n",
      "\n",
      "\u001b[1mAcceptance Tests (5) \u001b[22m-----------------------------------------------------------\n",
      "\u001b[32;1m✔\u001b[39;22m \u001b[35;1mFileStorageCept:\u001b[39;22m  \u001b[32m(0.03s)\u001b[39m\n",
      "\u001b[32;1m✔\u001b[39;22m \u001b[35;1mMySQLStorageCept:\u001b[39;22m  \u001b[32m(0.10s)\u001b[39m\n",
      "\u001b[31;1m✖\u001b[39;22m \u001b[35;1mRedisStorageCept:\u001b[39;22m  \u001b[32m(0.01s)\u001b[39m\n",
      "\u001b[32;1m✔\u001b[39;22m \u001b[35;1mSQLiteStorageCept:\u001b[39;22m  \u001b[32m(0.03s)\u001b[39m\n",
      "\u001b[32;1m✔\u001b[39;22m \u001b[35;1mSessionStorageCept:\u001b[39;22m  \u001b[32m(0.01s)\u001b[39m\n",
      "--------------------------------------------------------------------------------\n",
      "\n",
      "\n",
      "Time: 00:00.370, Memory: 12.00 MB\n",
      "\n",
      "There was 1 failure:\n",
      "\n",
      "---------\n",
      "1) \u001b[35;1mRedisStorageCept:\u001b[39;22m \n",
      "\u001b[37;41;1m Test \u001b[39;49;22m tests/acceptance/RedisStorageCept.php\n",
      "\u001b[37;41;1m Step \u001b[39;49;22m See element \"input[value=widget_button_1]\"\n",
      "\u001b[37;41;1m Fail \u001b[39;49;22m Element located either by name, CSS or XPath element with 'input[value=widget_button_1]' was not found.\n",
      "\u001b[33m\n",
      "Scenario Steps:\n",
      "\u001b[39m\n",
      "\u001b[1m 10. $I->seeElement(\"input[value=widget_button_1]\")\u001b[22m at \u001b[32mtests/acceptance/RedisStorageCept.php:18\u001b[39m\n",
      " 9. $I->seeCurrentUrlEquals(\"/RedisStorage\") at \u001b[32mtests/acceptance/RedisStorageCept.php:16\u001b[39m\n",
      " 8. $I->amOnPage(\"/RedisStorage\") at \u001b[32mtests/acceptance/RedisStorageCept.php:15\u001b[39m\n",
      " 7. $I->dontSeeInRedis(\"widget_button_3\") at \u001b[32mtests/acceptance/RedisStorageCept.php:13\u001b[39m\n",
      " 6. $I->dontSeeInRedis(\"widget_button_2\") at \u001b[32mtests/acceptance/RedisStorageCept.php:12\u001b[39m\n",
      " 5. $I->dontSeeInRedis(\"widget_button_1\") at \u001b[32mtests/acceptance/RedisStorageCept.php:11\u001b[39m\n",
      "\n",
      "\u001b[33mArtifacts:\u001b[39m\n",
      "\n",
      "Html: \u001b[36m/home/student/php_2022_adam_lewinski/06_dependency_manager/02_exercise/tests/tests/_output/RedisStorageCept.fail.html\u001b[39m\n",
      "Response: \u001b[36m/home/student/php_2022_adam_lewinski/06_dependency_manager/02_exercise/tests/tests/_output/RedisStorageCept.fail.html\u001b[39m\n",
      "\n",
      "\u001b[37;41mFAILURES!\u001b[0m\n",
      "\u001b[37;41mTests: 5\u001b[0m\u001b[37;41m, Assertions: 103\u001b[0m\u001b[37;41m, Failures: 1\u001b[0m\u001b[37;41m.\u001b[0m\n"
     ]
    },
    {
     "name": "stderr",
     "output_type": "stream",
     "text": [
      "[Mon Nov  7 23:33:27 2022] [::1]:59716 Accepted\n",
      "[Mon Nov  7 23:33:27 2022] [::1]:59716 [200]: GET /FileStorage\n",
      "[Mon Nov  7 23:33:27 2022] [::1]:59716 Closing\n",
      "[Mon Nov  7 23:33:27 2022] [::1]:59730 Accepted\n",
      "[Mon Nov  7 23:33:27 2022] [::1]:59730 [200]: GET /MySQLStorage\n",
      "[Mon Nov  7 23:33:27 2022] [::1]:59730 Closing\n",
      "[Mon Nov  7 23:33:27 2022] [::1]:59732 Accepted\n",
      "[Mon Nov  7 23:33:27 2022] [::1]:59732 [200]: GET /MySQLStorage\n",
      "[Mon Nov  7 23:33:27 2022] [::1]:59732 Closing\n",
      "[Mon Nov  7 23:33:27 2022] [::1]:59744 Accepted\n",
      "[Mon Nov  7 23:33:27 2022] PHP Fatal error:  Uncaught Error: Class \"Storage\\Predis\\Client\" not found in /home/student/php_2022_adam_lewinski/06_dependency_manager/02_exercise/project/src/Storage/RedisStorage.php:14\n",
      "Stack trace:\n",
      "#0 /home/student/php_2022_adam_lewinski/06_dependency_manager/02_exercise/project/src/App.php(16): Storage\\RedisStorage->__construct()\n",
      "#1 /home/student/php_2022_adam_lewinski/06_dependency_manager/02_exercise/project/public/index.php(26): App->run()\n",
      "#2 {main}\n",
      "  thrown in /home/student/php_2022_adam_lewinski/06_dependency_manager/02_exercise/project/src/Storage/RedisStorage.php on line 14\n",
      "[Mon Nov  7 23:33:27 2022] [::1]:59744 [200]: GET /RedisStorage - Uncaught Error: Class \"Storage\\Predis\\Client\" not found in /home/student/php_2022_adam_lewinski/06_dependency_manager/02_exercise/project/src/Storage/RedisStorage.php:14\n",
      "Stack trace:\n",
      "#0 /home/student/php_2022_adam_lewinski/06_dependency_manager/02_exercise/project/src/App.php(16): Storage\\RedisStorage->__construct()\n",
      "#1 /home/student/php_2022_adam_lewinski/06_dependency_manager/02_exercise/project/public/index.php(26): App->run()\n",
      "#2 {main}\n",
      "  thrown in /home/student/php_2022_adam_lewinski/06_dependency_manager/02_exercise/project/src/Storage/RedisStorage.php on line 14\n",
      "[Mon Nov  7 23:33:27 2022] [::1]:59744 Closing\n",
      "[Mon Nov  7 23:33:27 2022] [::1]:59760 Accepted\n",
      "[Mon Nov  7 23:33:27 2022] [::1]:59760 [200]: GET /SQLiteStorage\n",
      "[Mon Nov  7 23:33:27 2022] [::1]:59760 Closing\n",
      "[Mon Nov  7 23:33:27 2022] [::1]:59764 Accepted\n",
      "[Mon Nov  7 23:33:27 2022] [::1]:59764 [200]: GET /SessionStorage\n",
      "[Mon Nov  7 23:33:27 2022] [::1]:59764 Closing\n"
     ]
    }
   ],
   "source": [
    "! cd tests && composer install && vendor/bin/codecept run"
   ]
  },
  {
   "cell_type": "code",
   "execution_count": 14,
   "metadata": {},
   "outputs": [],
   "source": [
    "phpServer.kill()"
   ]
  },
  {
   "cell_type": "code",
   "execution_count": 15,
   "metadata": {},
   "outputs": [
    {
     "name": "stdout",
     "output_type": "stream",
     "text": [
      "phpcpd 6.0.3 by Sebastian Bergmann.\r\n",
      "\r\n",
      "No clones found.\r\n",
      "\r\n",
      "Time: 00:00.003, Memory: 2.00 MB\r\n"
     ]
    }
   ],
   "source": [
    "! cd project && ~/.composer/vendor/bin/phpcpd --fuzzy --min-lines 1 --min-tokens 10 public/ src/"
   ]
  },
  {
   "cell_type": "markdown",
   "metadata": {},
   "source": [
    "Stop the databses:"
   ]
  },
  {
   "cell_type": "code",
   "execution_count": 16,
   "metadata": {},
   "outputs": [
    {
     "name": "stdout",
     "output_type": "stream",
     "text": [
      "redis\r\n"
     ]
    }
   ],
   "source": [
    "! docker container stop redis"
   ]
  },
  {
   "cell_type": "code",
   "execution_count": 17,
   "metadata": {},
   "outputs": [
    {
     "name": "stdout",
     "output_type": "stream",
     "text": [
      "mysql\r\n"
     ]
    }
   ],
   "source": [
    "! docker container stop mysql"
   ]
  },
  {
   "cell_type": "code",
   "execution_count": null,
   "metadata": {},
   "outputs": [],
   "source": []
  }
 ],
 "metadata": {
  "kernelspec": {
   "display_name": "Python 3 (ipykernel)",
   "language": "python",
   "name": "python3"
  },
  "language_info": {
   "codemirror_mode": {
    "name": "ipython",
    "version": 3
   },
   "file_extension": ".py",
   "mimetype": "text/x-python",
   "name": "python",
   "nbconvert_exporter": "python",
   "pygments_lexer": "ipython3",
   "version": "3.10.4"
  }
 },
 "nbformat": 4,
 "nbformat_minor": 4
}
