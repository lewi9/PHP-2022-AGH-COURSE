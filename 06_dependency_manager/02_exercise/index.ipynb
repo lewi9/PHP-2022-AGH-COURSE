{
 "cells": [
  {
   "cell_type": "markdown",
   "metadata": {},
   "source": [
    "# PHP 2022"
   ]
  },
  {
   "cell_type": "markdown",
   "metadata": {},
   "source": [
    "## 6. Dependency Manager"
   ]
  },
  {
   "cell_type": "markdown",
   "metadata": {},
   "source": [
    "### 6.2 Exercise"
   ]
  },
  {
   "cell_type": "markdown",
   "metadata": {},
   "source": [
    "Configure ```Composer```, add ```predis/predis``` package and implement the ```RedisStorage``` class."
   ]
  },
  {
   "cell_type": "markdown",
   "metadata": {},
   "source": [
    "Start the databses:"
   ]
  },
  {
   "cell_type": "code",
   "execution_count": 14,
   "metadata": {},
   "outputs": [
    {
     "name": "stdout",
     "output_type": "stream",
     "text": [
      "3c2e8ac8ecc67e67571bfd8c9b2a79250708888895f2879389a301f41ce262b3\r\n"
     ]
    }
   ],
   "source": [
    "! docker run --net=host --rm --name redis -d redis"
   ]
  },
  {
   "cell_type": "code",
   "execution_count": 15,
   "metadata": {},
   "outputs": [
    {
     "name": "stdout",
     "output_type": "stream",
     "text": [
      "ff6721d075a5310e18b2d1196c8d6647af4e71a64e0e2bfb46be823e608139a2\r\n"
     ]
    }
   ],
   "source": [
    "! docker run --name=mysql --net=host --rm --env MYSQL_ROOT_PASSWORD=root123 --env MYSQL_DATABASE=test --env MYSQL_USER=test --env MYSQL_PASSWORD=test123 -d mysql/mysql-server:8.0"
   ]
  },
  {
   "cell_type": "code",
   "execution_count": 16,
   "metadata": {},
   "outputs": [
    {
     "name": "stdout",
     "output_type": "stream",
     "text": [
      "Done.\r\n"
     ]
    }
   ],
   "source": [
    "! while ! timeout 1 bash -c \"echo > /dev/tcp/localhost/6379\" 2> /dev/null; do sleep 1; done; echo \"Done.\";"
   ]
  },
  {
   "cell_type": "code",
   "execution_count": 17,
   "metadata": {},
   "outputs": [
    {
     "name": "stdout",
     "output_type": "stream",
     "text": [
      "Done.\r\n"
     ]
    }
   ],
   "source": [
    "! while ! timeout 1 bash -c \"echo > /dev/tcp/localhost/3306\" 2> /dev/null; do sleep 1; done; echo \"Done.\";"
   ]
  },
  {
   "cell_type": "markdown",
   "metadata": {},
   "source": [
    "Edit the code:"
   ]
  },
  {
   "cell_type": "code",
   "execution_count": null,
   "metadata": {},
   "outputs": [
    {
     "name": "stdout",
     "output_type": "stream",
     "text": [
      "Info  | RdCoroutineScope          | 14:JobScheduler FJ pool 2/3 | RdCoroutineHost overridden \n",
      "2022-11-07 23:26:16,976 [  10005]   WARN - #c.i.o.a.e.ActionUtil - Can not find action by id CompileDirty\n",
      "2022-11-07 23:26:19,500 [  12529]   WARN - #c.i.o.a.i.ActionUpdater - 1455 ms to grab EDT for ToolWindowsGroup#update@MainMenu (com.intellij.ide.actions.ToolWindowsGroup)\n",
      "2022-11-07 23:26:19,500 [  12529]   WARN - #c.i.o.a.i.ActionUpdater - 1452 ms to grab EDT for BackAction#update@MainMenu (com.intellij.ide.actions.BackAction)\n",
      "2022-11-07 23:26:19,745 [  12774]   WARN - #c.i.o.a.i.ActionUpdater - 238 ms to grab EDT for ToolWindowsGroup#getChildren@MainMenu (com.intellij.ide.actions.ToolWindowsGroup)\n",
      "2022-11-07 23:26:59,235 [  52264]   WARN - #c.i.u.x.Binding - no accessors for org.jetbrains.idea.perforce.perforce.ConnectionId\n"
     ]
    }
   ],
   "source": [
    "! phpstorm project"
   ]
  },
  {
   "cell_type": "markdown",
   "metadata": {},
   "source": [
    "You can test your solution using included tests:"
   ]
  },
  {
   "cell_type": "code",
   "execution_count": 18,
   "metadata": {},
   "outputs": [
    {
     "name": "stdout",
     "output_type": "stream",
     "text": [
      "\u001b[32mChanged current directory to /home/student/.composer\u001b[39m\n",
      "\u001b[32mInfo from https://repo.packagist.org: \u001b[37;44m#StandWith\u001b[30;43mUkraine\u001b[0m\u001b[39m\n",
      "Using version \u001b[32m^3.13\u001b[39m for \u001b[32mfriendsofphp/php-cs-fixer\u001b[39m\n",
      "Using version \u001b[32m^1.9\u001b[39m for \u001b[32mphpstan/phpstan\u001b[39m\n",
      "Using version \u001b[32m^6.0\u001b[39m for \u001b[32msebastian/phpcpd\u001b[39m\n",
      "\u001b[32m./composer.json has been updated\u001b[39m\n",
      "\u001b[32mRunning composer update friendsofphp/php-cs-fixer phpstan/phpstan sebastian/phpcpd\u001b[39m\n",
      "\u001b[32mLoading composer repositories with package information\u001b[39m\n",
      "\u001b[32mUpdating dependencies\u001b[39m\n",
      "Nothing to modify in lock file\n",
      "\u001b[32mInstalling dependencies from lock file (including require-dev)\u001b[39m\n",
      "Nothing to install, update or remove\n",
      "\u001b[32mGenerating autoload files\u001b[39m\n",
      "\u001b[32m29 packages you are using are looking for funding.\u001b[39m\n",
      "\u001b[32mUse the `composer fund` command to find out more!\u001b[39m\n",
      "\u001b[32mNo security vulnerability advisories found\u001b[39m\n"
     ]
    }
   ],
   "source": [
    "! composer global require friendsofphp/php-cs-fixer phpstan/phpstan sebastian/phpcpd"
   ]
  },
  {
   "cell_type": "code",
   "execution_count": 27,
   "metadata": {},
   "outputs": [
    {
     "name": "stdout",
     "output_type": "stream",
     "text": [
      "/home/student/php_2022_adam_lewinski/06_dependency_manager/02_exercise/project\n"
     ]
    }
   ],
   "source": [
    "%cd project"
   ]
  },
  {
   "cell_type": "code",
   "execution_count": 20,
   "metadata": {},
   "outputs": [
    {
     "name": "stdout",
     "output_type": "stream",
     "text": [
      "\u001b[32mInstalling dependencies from lock file (including require-dev)\u001b[39m\n",
      "\u001b[32mVerifying lock file contents can be installed on current platform.\u001b[39m\n",
      "Nothing to install, update or remove\n",
      "\u001b[32mGenerating autoload files\u001b[39m\n",
      "\u001b[32m1 package you are using is looking for funding.\u001b[39m\n",
      "\u001b[32mUse the `composer fund` command to find out more!\u001b[39m\n"
     ]
    }
   ],
   "source": [
    "! composer install"
   ]
  },
  {
   "cell_type": "code",
   "execution_count": 22,
   "metadata": {},
   "outputs": [
    {
     "name": "stdout",
     "output_type": "stream",
     "text": [
      "Loaded config \u001b[33mdefault\u001b[39m.\n",
      "Using cache file \".php-cs-fixer.cache\".\n",
      "   1) src/Storage/RedisStorage.php\n",
      "\n",
      "Fixed all files in 0.015 seconds, 12.000 MB memory used\n"
     ]
    }
   ],
   "source": [
    "! ~/.composer/vendor/bin/php-cs-fixer fix --diff --dry-run ."
   ]
  },
  {
   "cell_type": "code",
   "execution_count": 28,
   "metadata": {},
   "outputs": [
    {
     "name": "stdout",
     "output_type": "stream",
     "text": [
      "  0/15 [░░░░░░░░░░░░░░░░░░░░░░░░░░░░]   0%\u001b[1G\u001b[2K 15/15 [▓▓▓▓▓▓▓▓▓▓▓▓▓▓▓▓▓▓▓▓▓▓▓▓▓▓▓▓] 100%\n",
      "\n",
      " ------ --------------------------------------------------------------------- \n",
      "  \u001b[32mLine\u001b[39m   \u001b[32msrc/Storage/RedisStorage.php\u001b[39m                                         \n",
      " ------ --------------------------------------------------------------------- \n",
      "  11     Property Storage\\RedisStorage::$client has unknown class             \n",
      "         Storage\\Predis\\Client as its type.                                   \n",
      "         💡 Learn more at https://phpstan.org/user-guide/discovering-symbols  \n",
      "  14     Instantiated class Storage\\Predis\\Client not found.                  \n",
      "         💡 Learn more at https://phpstan.org/user-guide/discovering-symbols  \n",
      "  19     Call to method set() on an unknown class Storage\\Predis\\Client.      \n",
      "         💡 Learn more at https://phpstan.org/user-guide/discovering-symbols  \n",
      "  28     Call to method keys() on an unknown class Storage\\Predis\\Client.     \n",
      "         💡 Learn more at https://phpstan.org/user-guide/discovering-symbols  \n",
      "  30     Call to method get() on an unknown class Storage\\Predis\\Client.      \n",
      "         💡 Learn more at https://phpstan.org/user-guide/discovering-symbols  \n",
      " ------ --------------------------------------------------------------------- \n",
      "\n",
      "\n",
      "\u001b[37;41m                                                                                \u001b[39;49m\n",
      "\u001b[37;41m [ERROR] Found 5 errors                                                         \u001b[39;49m\n",
      "\u001b[37;41m                                                                                \u001b[39;49m\n",
      "\n"
     ]
    }
   ],
   "source": [
    "! ~/.composer/vendor/bin/phpstan analyze --xdebug --level max public/ src/"
   ]
  },
  {
   "cell_type": "code",
   "execution_count": 29,
   "metadata": {},
   "outputs": [
    {
     "name": "stdout",
     "output_type": "stream",
     "text": [
      "/home/student/php_2022_adam_lewinski/06_dependency_manager/02_exercise\n"
     ]
    }
   ],
   "source": [
    "%cd ../"
   ]
  },
  {
   "cell_type": "code",
   "execution_count": null,
   "metadata": {},
   "outputs": [],
   "source": [
    "import subprocess\n",
    "phpServer = subprocess.Popen(['php', '-S', 'localhost:8888', '-t', 'project/public'])"
   ]
  },
  {
   "cell_type": "code",
   "execution_count": null,
   "metadata": {},
   "outputs": [],
   "source": [
    "! cd tests && composer install && vendor/bin/codecept run"
   ]
  },
  {
   "cell_type": "code",
   "execution_count": null,
   "metadata": {},
   "outputs": [],
   "source": [
    "phpServer.kill()"
   ]
  },
  {
   "cell_type": "code",
   "execution_count": null,
   "metadata": {},
   "outputs": [],
   "source": [
    "! cd project && ~/.composer/vendor/bin/phpcpd --fuzzy --min-lines 1 --min-tokens 10 public/ src/"
   ]
  },
  {
   "cell_type": "markdown",
   "metadata": {},
   "source": [
    "Stop the databses:"
   ]
  },
  {
   "cell_type": "code",
   "execution_count": 12,
   "metadata": {},
   "outputs": [
    {
     "name": "stdout",
     "output_type": "stream",
     "text": [
      "redis\r\n"
     ]
    }
   ],
   "source": [
    "! docker container stop redis"
   ]
  },
  {
   "cell_type": "code",
   "execution_count": 13,
   "metadata": {},
   "outputs": [
    {
     "name": "stdout",
     "output_type": "stream",
     "text": [
      "mysql\r\n"
     ]
    }
   ],
   "source": [
    "! docker container stop mysql"
   ]
  },
  {
   "cell_type": "code",
   "execution_count": null,
   "metadata": {},
   "outputs": [],
   "source": []
  }
 ],
 "metadata": {
  "kernelspec": {
   "display_name": "Python 3 (ipykernel)",
   "language": "python",
   "name": "python3"
  },
  "language_info": {
   "codemirror_mode": {
    "name": "ipython",
    "version": 3
   },
   "file_extension": ".py",
   "mimetype": "text/x-python",
   "name": "python",
   "nbconvert_exporter": "python",
   "pygments_lexer": "ipython3",
   "version": "3.10.4"
  }
 },
 "nbformat": 4,
 "nbformat_minor": 4
}
