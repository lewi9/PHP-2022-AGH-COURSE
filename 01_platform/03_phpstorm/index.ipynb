{
 "cells": [
  {
   "cell_type": "markdown",
   "metadata": {},
   "source": [
    "# PHP 2022"
   ]
  },
  {
   "cell_type": "markdown",
   "metadata": {},
   "source": [
    "## 1. Platform"
   ]
  },
  {
   "cell_type": "markdown",
   "metadata": {},
   "source": [
    "### 1.3. PhpStorm"
   ]
  },
  {
   "cell_type": "markdown",
   "metadata": {},
   "source": [
    "To be able to use the PhpStorm IDE you have to create free academic account. That can be done throgh the [JetBrains Products for Learning](https://www.jetbrains.com/shop/eform/students) page. You should use an email address in the **agh.edu.pl** domain."
   ]
  },
  {
   "cell_type": "markdown",
   "metadata": {},
   "source": [
    "#### Initial Setup"
   ]
  },
  {
   "cell_type": "markdown",
   "metadata": {},
   "source": [
    "Let's create new directory with single PHP file and open the directory using PhpStorm. When IDE starts add following code:"
   ]
  },
  {
   "cell_type": "markdown",
   "metadata": {},
   "source": [
    "```php\n",
    "<?php\n",
    "\n",
    "$i = 10;\n",
    "$i = $i + 10;\n",
    "echo \"Result: <strong>$i</strong>\";\n",
    "```"
   ]
  },
  {
   "cell_type": "markdown",
   "metadata": {},
   "source": [
    "When done, close the editor."
   ]
  },
  {
   "cell_type": "code",
   "execution_count": 1,
   "metadata": {},
   "outputs": [
    {
     "name": "stdout",
     "output_type": "stream",
     "text": [
      "Info  | RdCoroutineScope          | 14:JobScheduler FJ pool 2/3 | RdCoroutineHost overridden \n",
      "2022-10-05 17:32:31,512 [  28740]   WARN - #c.i.o.a.i.ActionUpdater - 328 ms to grab EDT for #update@ToolwindowTitle (com.intellij.toolWindow.ToolWindowHeader$2)\n",
      "2022-10-05 17:32:31,513 [  28741]   WARN - #c.i.o.a.i.ActionUpdater - 330 ms to grab EDT for CWMTelephonyGroup#update@NavBarToolbar (com.jetbrains.rd.platform.codeWithMe.telephony.CWMTelephonyGroup)\n",
      "2022-10-05 17:32:33,834 [  31062]   WARN - #c.i.o.a.i.ActionUpdater - 411 ms to grab EDT for ExpandAllAction#update@ToolwindowTitle (com.intellij.ide.actions.ExpandAllAction)\n",
      "2022-10-05 17:32:42,468 [  39696]   WARN - #c.i.o.a.i.ActionUpdater - 309 ms to grab EDT for #update@ToolwindowTitle (com.intellij.toolWindow.ToolWindowHeader$2)\n",
      "2022-10-05 17:32:42,468 [  39696]   WARN - #c.i.o.a.i.ActionUpdater - 290 ms to grab EDT for CWMTelephonyGroup#update@NavBarToolbar (com.jetbrains.rd.platform.codeWithMe.telephony.CWMTelephonyGroup)\n",
      "2022-10-05 17:32:42,695 [  39923]   WARN - #c.i.o.a.i.ActionUpdater - 207 ms to grab EDT for GitCommitWithStagingAreaAction#update@NavBarToolbar (git4idea.index.actions.GitCommitWithStagingAreaAction)\n",
      "2022-10-05 17:32:44,857 [  42085]   WARN - #c.i.o.a.i.ActionUpdater - 158 ms to call on EDT EvaluateAction#update@EditorPopup (com.intellij.xdebugger.impl.actions.EvaluateAction). Use `ActionUpdateThread.BGT`.\n",
      "2022-10-05 17:32:44,973 [  42201]   WARN - #c.i.o.a.i.ActionUpdater - 317 ms to grab EDT for EvaluateAction#update@EditorPopup (com.intellij.xdebugger.impl.actions.EvaluateAction)\n",
      "2022-10-05 17:32:46,466 [  43694]   WARN - #c.i.o.a.i.ActionUpdater - 1392 ms to call on BGT RunContextAction#update@EditorPopup (com.intellij.execution.actions.RunContextAction)\n",
      "2022-10-05 17:32:46,505 [  43733]   WARN - #c.i.o.a.i.ActionUpdater - 1433 ms to call on BGT RunContextAction#update@EditorPopup (com.intellij.execution.actions.RunContextAction)\n",
      "2022-10-05 17:32:58,074 [  55302]   WARN - #c.i.o.a.i.ActionUpdater - 210 ms to grab EDT for #getChildren@ToolwindowTitle (com.intellij.toolWindow.ToolWindowHeader$2)\n"
     ]
    }
   ],
   "source": [
    "! mkdir project && touch project/index.php && phpstorm project"
   ]
  },
  {
   "cell_type": "markdown",
   "metadata": {},
   "source": [
    "<img src=\"01_initial/01_user_agreement.jpg\"/>\n",
    "<img src=\"01_initial/02_data_sharing.jpg\"/>\n",
    "<img src=\"01_initial/03_trust_project.jpg\"/>\n",
    "<img src=\"01_initial/04_login_to_jetbrains_account.jpg\"/>\n",
    "<img src=\"01_initial/05_sign_in.jpg\"/>\n",
    "<img src=\"01_initial/06_do_not_save_password.jpg\"/>\n",
    "<img src=\"01_initial/07_close_browser.jpg\"/>\n",
    "<img src=\"01_initial/08_activate.jpg\"/>\n",
    "<img src=\"01_initial/09_continue.jpg\"/>\n",
    "<img src=\"01_initial/10_add_code_and_exit.jpg\"/>\n",
    "<img src=\"01_initial/11_do_not_ask_again.jpg\"/>"
   ]
  },
  {
   "cell_type": "markdown",
   "metadata": {},
   "source": [
    "Now you should be able to run the code:"
   ]
  },
  {
   "cell_type": "code",
   "execution_count": 9,
   "metadata": {},
   "outputs": [
    {
     "name": "stdout",
     "output_type": "stream",
     "text": [
      "Result: <strong>20</strong>"
     ]
    }
   ],
   "source": [
    "! php project/index.php"
   ]
  },
  {
   "cell_type": "markdown",
   "metadata": {},
   "source": [
    "All the project files are stored inside the **.idea** directory:"
   ]
  },
  {
   "cell_type": "code",
   "execution_count": 10,
   "metadata": {},
   "outputs": [
    {
     "name": "stdout",
     "output_type": "stream",
     "text": [
      "total 16\r\n",
      "drwxr-xr-x  3 student student 4096 Oct  5 17:33 .\r\n",
      "drwxrwxr-x 11 student student 4096 Oct  5 17:36 ..\r\n",
      "drwxr-xr-x  2 student student 4096 Oct  5 19:07 .idea\r\n",
      "-rw-r--r--  1 student student   65 Oct  5 17:33 index.php\r\n"
     ]
    }
   ],
   "source": [
    "! ls -la project"
   ]
  },
  {
   "cell_type": "markdown",
   "metadata": {},
   "source": [
    "You can remove this direrectory if something wrong happens in the IDE.\n",
    "\n",
    "When opening project for the second time it should restore previous state."
   ]
  },
  {
   "cell_type": "markdown",
   "metadata": {},
   "source": [
    "#### Configuring the PHP Interpreter"
   ]
  },
  {
   "cell_type": "markdown",
   "metadata": {},
   "source": [
    "To run the code from inside the IDE we can configure the PHP interpreter:"
   ]
  },
  {
   "cell_type": "code",
   "execution_count": 11,
   "metadata": {},
   "outputs": [
    {
     "name": "stdout",
     "output_type": "stream",
     "text": [
      "Info  | RdCoroutineScope          | 13:JobScheduler FJ pool 1/3 | RdCoroutineHost overridden \n",
      "2022-10-05 19:08:21,352 [  26495]   WARN - #c.i.o.a.i.ActionUpdater - 970 ms to grab EDT for BackAction#update@MainToolbar (com.intellij.ide.actions.BackAction)\n",
      "2022-10-05 19:08:21,614 [  26757]   WARN - #c.i.o.a.i.ActionUpdater - 714 ms to grab EDT for CreateWebProjectAction#update@MainMenu (com.jetbrains.plugins.webDeployment.phpStorm.CreateWebProjectAction)\n",
      "2022-10-05 19:08:21,754 [  26897]   WARN - #c.i.o.a.i.ActionUpdater - 399 ms to grab EDT for CWMTelephonyGroup#update@MainToolbar (com.jetbrains.rd.platform.codeWithMe.telephony.CWMTelephonyGroup)\n",
      "2022-10-05 19:08:22,384 [  27527]   WARN - #c.i.o.a.i.ActionUpdater - 760 ms to grab EDT for SaveAsAction#update@MainMenu (com.intellij.ide.actions.SaveAsAction)\n",
      "2022-10-05 19:08:22,746 [  27889]   WARN - #c.i.o.a.i.ActionUpdater - 727 ms to grab EDT for GitCommitWithStagingAreaAction#update@MainToolbar (git4idea.index.actions.GitCommitWithStagingAreaAction)\n",
      "2022-10-05 19:08:22,907 [  28050]   WARN - #c.i.o.a.i.ActionUpdater - 496 ms to grab EDT for RenameProjectAction#update@MainMenu (com.intellij.platform.renameProject.RenameProjectAction)\n",
      "2022-10-05 19:08:23,619 [  28762]   WARN - #c.i.o.a.i.ActionUpdater - 388 ms to grab EDT for #update@MainMenu (com.intellij.ide.actions.cache.CacheRecoveryActionGroup$toAnAction$1)\n",
      "2022-10-05 19:08:30,252 [  35395]   WARN - #c.i.o.a.i.ActionUpdater - 218 ms to call on EDT SelectFileAction#update@ToolwindowTitle (com.intellij.ide.projectView.impl.SelectFileAction). Use `ActionUpdateThread.BGT`.\n",
      "2022-10-05 19:08:31,786 [  36929]   WARN - #c.i.o.a.i.ActionUpdater - 3308 ms to call on BGT ExecutorAction#update@NavBarToolbar (com.intellij.execution.ExecutorRegistryImpl$ExecutorAction)\n",
      "2022-10-05 19:08:37,496 [  42639]   WARN - #c.i.o.a.i.ActionUpdater - 341 ms to grab EDT for GithubCreateGistAction#update@ProjectViewPopup (org.jetbrains.plugins.github.GithubCreateGistAction)\n",
      "2022-10-05 19:09:43,375 [ 108518]   WARN - #c.i.o.a.i.ActionToolbarImpl - 'PhpInterpreterToolbar' toolbar by default uses any focused component to update its actions. Toolbar actions that need local UI context would be incorrectly disabled. Please call toolbar.setTargetComponent() explicitly.\n",
      "java.lang.Throwable: toolbar creation trace\n",
      "\tat com.intellij.openapi.actionSystem.impl.ActionToolbarImpl.<init>(ActionToolbarImpl.java:115)\n",
      "\tat com.intellij.openapi.actionSystem.impl.ActionToolbarImpl.<init>(ActionToolbarImpl.java:173)\n",
      "\tat com.intellij.openapi.actionSystem.impl.ActionManagerImpl.createActionToolbar(ActionManagerImpl.java:445)\n",
      "\tat com.intellij.openapi.actionSystem.impl.ActionManagerImpl.createActionToolbar(ActionManagerImpl.java:440)\n",
      "\tat com.jetbrains.php.ui.PhpUiUtil.createHorizontalActionsToolbar(PhpUiUtil.java:154)\n",
      "\tat com.jetbrains.php.config.interpreters.PhpInterpreterComponent.init(PhpInterpreterComponent.java:163)\n",
      "\tat com.jetbrains.php.config.interpreters.PhpLocalInterpreterComponent.init(PhpLocalInterpreterComponent.java:74)\n",
      "\tat com.jetbrains.php.config.interpreters.PhpLocalInterpreterComponent.<init>(PhpLocalInterpreterComponent.java:69)\n",
      "\tat com.jetbrains.php.config.interpreters.PhpInterpreterConfigurable.init(PhpInterpreterConfigurable.java:52)\n",
      "\tat com.jetbrains.php.config.interpreters.PhpInterpreterConfigurable.<init>(PhpInterpreterConfigurable.java:35)\n",
      "\tat com.jetbrains.php.config.interpreters.PhpInterpretersConfigurable.lambda$new$4(PhpInterpretersConfigurable.java:80)\n",
      "\tat com.jetbrains.php.ui.PhpNamedCloneableItemsListEditor$MyItemConfigurable.<init>(PhpNamedCloneableItemsListEditor.java:329)\n",
      "\tat com.jetbrains.php.ui.PhpNamedCloneableItemsListEditor.addNewNode(PhpNamedCloneableItemsListEditor.java:234)\n",
      "\tat com.jetbrains.php.ui.PhpNamedCloneableItemsListEditor.onItemCreated(PhpNamedCloneableItemsListEditor.java:525)\n",
      "\tat com.jetbrains.php.config.interpreters.PhpInterpretersConfigurable.access$000(PhpInterpretersConfigurable.java:42)\n",
      "\tat com.jetbrains.php.config.interpreters.PhpInterpretersConfigurable$2$1.createFromFilePath(PhpInterpretersConfigurable.java:127)\n",
      "\tat com.jetbrains.php.config.interpreters.PhpInterpretersConfigurable$PhpInterpreterChooser.lambda$onChosen$0(PhpInterpretersConfigurable.java:296)\n",
      "\tat com.intellij.openapi.application.TransactionGuardImpl.performActivity(TransactionGuardImpl.java:105)\n",
      "\tat com.intellij.openapi.application.TransactionGuardImpl.performUserActivity(TransactionGuardImpl.java:94)\n",
      "\tat com.intellij.ui.popup.AbstractPopup.lambda$dispose$18(AbstractPopup.java:1543)\n",
      "\tat com.intellij.util.ui.EdtInvocationManager.invokeLaterIfNeeded(EdtInvocationManager.java:113)\n",
      "\tat com.intellij.ide.IdeEventQueue.ifFocusEventsInTheQueue(IdeEventQueue.java:180)\n",
      "\tat com.intellij.ide.IdeEventQueue.executeWhenAllFocusEventsLeftTheQueue(IdeEventQueue.java:133)\n",
      "\tat com.intellij.openapi.wm.impl.FocusManagerImpl.doWhenFocusSettlesDown(FocusManagerImpl.java:164)\n",
      "\tat com.intellij.ui.popup.AbstractPopup.dispose(AbstractPopup.java:1540)\n",
      "\tat com.intellij.ui.popup.WizardPopup.dispose(WizardPopup.java:162)\n",
      "\tat com.intellij.ui.popup.list.ListPopupImpl.dispose(ListPopupImpl.java:326)\n",
      "\tat com.intellij.openapi.util.ObjectTree.runWithTrace(ObjectTree.java:126)\n",
      "\tat com.intellij.openapi.util.ObjectTree.executeAll(ObjectTree.java:158)\n",
      "\tat com.intellij.openapi.util.Disposer.dispose(Disposer.java:217)\n",
      "\tat com.intellij.openapi.util.Disposer.dispose(Disposer.java:205)\n",
      "\tat com.intellij.ui.popup.WizardPopup.disposeAllParents(WizardPopup.java:266)\n",
      "\tat com.intellij.ui.popup.list.ListPopupImpl.handleNextStep(ListPopupImpl.java:434)\n",
      "\tat com.intellij.ui.popup.list.ListPopupImpl._handleSelect(ListPopupImpl.java:406)\n",
      "\tat com.intellij.ui.popup.list.ListPopupImpl.handleSelect(ListPopupImpl.java:361)\n",
      "\tat com.intellij.ui.popup.list.ListPopupImpl$MyMouseListener.mouseReleased(ListPopupImpl.java:618)\n",
      "\tat java.desktop/java.awt.AWTEventMulticaster.mouseReleased(AWTEventMulticaster.java:298)\n",
      "\tat java.desktop/java.awt.Component.processMouseEvent(Component.java:6648)\n",
      "\tat java.desktop/javax.swing.JComponent.processMouseEvent(JComponent.java:3392)\n",
      "\tat com.intellij.ui.popup.list.ListPopupImpl$MyList.processMouseEvent(ListPopupImpl.java:694)\n",
      "\tat java.desktop/java.awt.Component.processEvent(Component.java:6413)\n",
      "\tat java.desktop/java.awt.Container.processEvent(Container.java:2266)\n",
      "\tat java.desktop/java.awt.Component.dispatchEventImpl(Component.java:5022)\n",
      "\tat java.desktop/java.awt.Container.dispatchEventImpl(Container.java:2324)\n",
      "\tat java.desktop/java.awt.Component.dispatchEvent(Component.java:4854)\n",
      "\tat java.desktop/java.awt.LightweightDispatcher.retargetMouseEvent(Container.java:4948)\n",
      "\tat java.desktop/java.awt.LightweightDispatcher.processMouseEvent(Container.java:4575)\n",
      "\tat java.desktop/java.awt.LightweightDispatcher.dispatchEvent(Container.java:4516)\n",
      "\tat java.desktop/java.awt.Container.dispatchEventImpl(Container.java:2310)\n",
      "\tat java.desktop/java.awt.Window.dispatchEventImpl(Window.java:2802)\n",
      "\tat java.desktop/java.awt.Component.dispatchEvent(Component.java:4854)\n",
      "\tat java.desktop/java.awt.EventQueue.dispatchEventImpl(EventQueue.java:781)\n",
      "\tat java.desktop/java.awt.EventQueue$4.run(EventQueue.java:730)\n",
      "\tat java.desktop/java.awt.EventQueue$4.run(EventQueue.java:724)\n",
      "\tat java.base/java.security.AccessController.doPrivileged(AccessController.java:399)\n",
      "\tat java.base/java.security.ProtectionDomain$JavaSecurityAccessImpl.doIntersectionPrivilege(ProtectionDomain.java:86)\n",
      "\tat java.base/java.security.ProtectionDomain$JavaSecurityAccessImpl.doIntersectionPrivilege(ProtectionDomain.java:97)\n",
      "\tat java.desktop/java.awt.EventQueue$5.run(EventQueue.java:754)\n",
      "\tat java.desktop/java.awt.EventQueue$5.run(EventQueue.java:752)\n",
      "\tat java.base/java.security.AccessController.doPrivileged(AccessController.java:399)\n",
      "\tat java.base/java.security.ProtectionDomain$JavaSecurityAccessImpl.doIntersectionPrivilege(ProtectionDomain.java:86)\n",
      "\tat java.desktop/java.awt.EventQueue.dispatchEvent(EventQueue.java:751)\n",
      "\tat com.intellij.ide.IdeEventQueue.defaultDispatchEvent(IdeEventQueue.java:918)\n",
      "\tat com.intellij.ide.IdeEventQueue.dispatchMouseEvent(IdeEventQueue.java:840)\n",
      "\tat com.intellij.ide.IdeEventQueue._dispatchEvent(IdeEventQueue.java:763)\n",
      "\tat com.intellij.ide.IdeEventQueue.lambda$dispatchEvent$6(IdeEventQueue.java:450)\n",
      "\tat com.intellij.openapi.progress.impl.CoreProgressManager.computePrioritized(CoreProgressManager.java:791)\n",
      "\tat com.intellij.ide.IdeEventQueue.lambda$dispatchEvent$7(IdeEventQueue.java:449)\n",
      "\tat com.intellij.openapi.application.TransactionGuardImpl.performActivity(TransactionGuardImpl.java:105)\n",
      "\tat com.intellij.ide.IdeEventQueue.performActivity(IdeEventQueue.java:624)\n",
      "\tat com.intellij.ide.IdeEventQueue.lambda$dispatchEvent$8(IdeEventQueue.java:447)\n",
      "\tat com.intellij.openapi.application.impl.ApplicationImpl.runIntendedWriteActionOnCurrentThread(ApplicationImpl.java:881)\n",
      "\tat com.intellij.ide.IdeEventQueue.dispatchEvent(IdeEventQueue.java:493)\n",
      "\tat java.desktop/java.awt.EventDispatchThread.pumpOneEventForFilters(EventDispatchThread.java:207)\n",
      "\tat java.desktop/java.awt.EventDispatchThread.pumpEventsForFilter(EventDispatchThread.java:128)\n",
      "\tat java.desktop/java.awt.EventDispatchThread.pumpEventsForFilter(EventDispatchThread.java:121)\n",
      "\tat java.desktop/java.awt.WaitDispatchSupport$2.run(WaitDispatchSupport.java:191)\n",
      "\tat java.desktop/java.awt.WaitDispatchSupport$4.run(WaitDispatchSupport.java:236)\n",
      "\tat java.desktop/java.awt.WaitDispatchSupport$4.run(WaitDispatchSupport.java:234)\n",
      "\tat java.base/java.security.AccessController.doPrivileged(AccessController.java:318)\n",
      "\tat java.desktop/java.awt.WaitDispatchSupport.enter(WaitDispatchSupport.java:234)\n",
      "\tat java.desktop/java.awt.Dialog.show(Dialog.java:1080)\n",
      "\tat com.intellij.openapi.ui.impl.DialogWrapperPeerImpl$MyDialog.show(DialogWrapperPeerImpl.java:712)\n",
      "\tat com.intellij.openapi.ui.impl.DialogWrapperPeerImpl.show(DialogWrapperPeerImpl.java:453)\n",
      "\tat com.intellij.openapi.ui.DialogWrapper.doShow(DialogWrapper.java:1672)\n",
      "\tat com.intellij.openapi.ui.DialogWrapper.show(DialogWrapper.java:1630)\n",
      "\tat com.intellij.openapi.ui.DialogWrapper.showAndGet(DialogWrapper.java:1644)\n",
      "\tat com.jetbrains.php.ui.PhpUiUtil.editConfigurable(PhpUiUtil.java:89)\n",
      "\tat com.jetbrains.php.config.PhpInterpreterConfigurationForm$2.actionPerformed(PhpInterpreterConfigurationForm.java:63)\n",
      "\tat java.desktop/javax.swing.AbstractButton.fireActionPerformed(AbstractButton.java:1972)\n",
      "\tat java.desktop/javax.swing.AbstractButton$Handler.actionPerformed(AbstractButton.java:2313)\n",
      "\tat java.desktop/javax.swing.DefaultButtonModel.fireActionPerformed(DefaultButtonModel.java:405)\n",
      "\tat java.desktop/javax.swing.DefaultButtonModel.setPressed(DefaultButtonModel.java:262)\n",
      "\tat java.desktop/javax.swing.plaf.basic.BasicButtonListener.mouseReleased(BasicButtonListener.java:279)\n",
      "\tat java.desktop/java.awt.AWTEventMulticaster.mouseReleased(AWTEventMulticaster.java:297)\n",
      "\tat java.desktop/java.awt.Component.processMouseEvent(Component.java:6648)\n",
      "\tat java.desktop/javax.swing.JComponent.processMouseEvent(JComponent.java:3392)\n",
      "\tat java.desktop/java.awt.Component.processEvent(Component.java:6413)\n",
      "\tat java.desktop/java.awt.Container.processEvent(Container.java:2266)\n",
      "\tat java.desktop/java.awt.Component.dispatchEventImpl(Component.java:5022)\n",
      "\tat java.desktop/java.awt.Container.dispatchEventImpl(Container.java:2324)\n",
      "\tat java.desktop/java.awt.Component.dispatchEvent(Component.java:4854)\n",
      "\tat java.desktop/java.awt.LightweightDispatcher.retargetMouseEvent(Container.java:4948)\n",
      "\tat java.desktop/java.awt.LightweightDispatcher.processMouseEvent(Container.java:4575)\n",
      "\tat java.desktop/java.awt.LightweightDispatcher.dispatchEvent(Container.java:4516)\n",
      "\tat java.desktop/java.awt.Container.dispatchEventImpl(Container.java:2310)\n",
      "\tat java.desktop/java.awt.Window.dispatchEventImpl(Window.java:2802)\n",
      "\tat java.desktop/java.awt.Component.dispatchEvent(Component.java:4854)\n",
      "\tat java.desktop/java.awt.EventQueue.dispatchEventImpl(EventQueue.java:781)\n",
      "\tat java.desktop/java.awt.EventQueue$4.run(EventQueue.java:730)\n",
      "\tat java.desktop/java.awt.EventQueue$4.run(EventQueue.java:724)\n",
      "\tat java.base/java.security.AccessController.doPrivileged(AccessController.java:399)\n",
      "\tat java.base/java.security.ProtectionDomain$JavaSecurityAccessImpl.doIntersectionPrivilege(ProtectionDomain.java:86)\n",
      "\tat java.base/java.security.ProtectionDomain$JavaSecurityAccessImpl.doIntersectionPrivilege(ProtectionDomain.java:97)\n",
      "\tat java.desktop/java.awt.EventQueue$5.run(EventQueue.java:754)\n",
      "\tat java.desktop/java.awt.EventQueue$5.run(EventQueue.java:752)\n",
      "\tat java.base/java.security.AccessController.doPrivileged(AccessController.java:399)\n",
      "\tat java.base/java.security.ProtectionDomain$JavaSecurityAccessImpl.doIntersectionPrivilege(ProtectionDomain.java:86)\n",
      "\tat java.desktop/java.awt.EventQueue.dispatchEvent(EventQueue.java:751)\n",
      "\tat com.intellij.ide.IdeEventQueue.defaultDispatchEvent(IdeEventQueue.java:918)\n",
      "\tat com.intellij.ide.IdeEventQueue.dispatchMouseEvent(IdeEventQueue.java:840)\n",
      "\tat com.intellij.ide.IdeEventQueue._dispatchEvent(IdeEventQueue.java:763)\n",
      "\tat com.intellij.ide.IdeEventQueue.lambda$dispatchEvent$6(IdeEventQueue.java:450)\n",
      "\tat com.intellij.openapi.progress.impl.CoreProgressManager.computePrioritized(CoreProgressManager.java:791)\n",
      "\tat com.intellij.ide.IdeEventQueue.lambda$dispatchEvent$7(IdeEventQueue.java:449)\n",
      "\tat com.intellij.openapi.application.TransactionGuardImpl.performActivity(TransactionGuardImpl.java:105)\n",
      "\tat com.intellij.ide.IdeEventQueue.performActivity(IdeEventQueue.java:624)\n",
      "\tat com.intellij.ide.IdeEventQueue.lambda$dispatchEvent$8(IdeEventQueue.java:447)\n",
      "\tat com.intellij.openapi.application.impl.ApplicationImpl.runIntendedWriteActionOnCurrentThread(ApplicationImpl.java:881)\n",
      "\tat com.intellij.ide.IdeEventQueue.dispatchEvent(IdeEventQueue.java:493)\n",
      "\tat java.desktop/java.awt.EventDispatchThread.pumpOneEventForFilters(EventDispatchThread.java:207)\n",
      "\tat java.desktop/java.awt.EventDispatchThread.pumpEventsForFilter(EventDispatchThread.java:128)\n",
      "\tat java.desktop/java.awt.EventDispatchThread.pumpEventsForFilter(EventDispatchThread.java:121)\n",
      "\tat java.desktop/java.awt.WaitDispatchSupport$2.run(WaitDispatchSupport.java:191)\n",
      "\tat java.desktop/java.awt.WaitDispatchSupport$4.run(WaitDispatchSupport.java:236)\n",
      "\tat java.desktop/java.awt.WaitDispatchSupport$4.run(WaitDispatchSupport.java:234)\n",
      "\tat java.base/java.security.AccessController.doPrivileged(AccessController.java:318)\n",
      "\tat java.desktop/java.awt.WaitDispatchSupport.enter(WaitDispatchSupport.java:234)\n",
      "\tat java.desktop/java.awt.Dialog.show(Dialog.java:1080)\n",
      "\tat com.intellij.openapi.ui.impl.DialogWrapperPeerImpl$MyDialog.show(DialogWrapperPeerImpl.java:712)\n",
      "\tat com.intellij.openapi.ui.impl.DialogWrapperPeerImpl.show(DialogWrapperPeerImpl.java:453)\n",
      "\tat com.intellij.openapi.ui.DialogWrapper.doShow(DialogWrapper.java:1672)\n",
      "\tat com.intellij.openapi.ui.DialogWrapper.show(DialogWrapper.java:1630)\n",
      "\tat com.intellij.ide.actions.ShowSettingsUtilImpl.showSettingsDialog(ShowSettingsUtilImpl.java:90)\n",
      "\tat com.intellij.ide.actions.ShowSettingsAction.perform(ShowSettingsAction.java:56)\n",
      "\tat com.intellij.ide.actions.ShowSettingsAction.actionPerformed(ShowSettingsAction.java:43)\n",
      "\tat com.intellij.openapi.actionSystem.ex.ActionUtil.doPerformActionOrShowPopup(ActionUtil.java:315)\n",
      "\tat com.intellij.openapi.actionSystem.ex.ActionUtil.lambda$performActionDumbAwareWithCallbacks$4(ActionUtil.java:294)\n",
      "\tat com.intellij.openapi.actionSystem.ex.ActionUtil.performDumbAwareWithCallbacks(ActionUtil.java:337)\n",
      "\tat com.intellij.openapi.actionSystem.ex.ActionUtil.performActionDumbAwareWithCallbacks(ActionUtil.java:294)\n",
      "\tat com.intellij.openapi.actionSystem.impl.ActionMenuItem.lambda$performAction$4(ActionMenuItem.java:293)\n",
      "\tat com.intellij.openapi.wm.impl.FocusManagerImpl.runOnOwnContext(FocusManagerImpl.java:227)\n",
      "\tat com.intellij.openapi.actionSystem.impl.ActionMenuItem.performAction(ActionMenuItem.java:286)\n",
      "\tat com.intellij.openapi.actionSystem.impl.ActionMenuItem.lambda$new$0(ActionMenuItem.java:67)\n",
      "\tat java.desktop/javax.swing.AbstractButton.fireActionPerformed(AbstractButton.java:1972)\n",
      "\tat com.intellij.openapi.actionSystem.impl.ActionMenuItem.lambda$fireActionPerformed$3(ActionMenuItem.java:109)\n",
      "\tat com.intellij.openapi.application.TransactionGuardImpl.performActivity(TransactionGuardImpl.java:105)\n",
      "\tat com.intellij.openapi.application.TransactionGuardImpl.performUserActivity(TransactionGuardImpl.java:94)\n",
      "\tat com.intellij.openapi.actionSystem.impl.ActionMenuItem.fireActionPerformed(ActionMenuItem.java:109)\n",
      "\tat com.intellij.ui.plaf.beg.BegMenuItemUI.doClick(BegMenuItemUI.java:546)\n",
      "\tat com.intellij.ui.plaf.beg.BegMenuItemUI$MyMouseInputHandler.mouseReleased(BegMenuItemUI.java:578)\n",
      "\tat java.desktop/java.awt.Component.processMouseEvent(Component.java:6648)\n",
      "\tat java.desktop/javax.swing.JComponent.processMouseEvent(JComponent.java:3392)\n",
      "\tat java.desktop/java.awt.Component.processEvent(Component.java:6413)\n",
      "\tat java.desktop/java.awt.Container.processEvent(Container.java:2266)\n",
      "\tat java.desktop/java.awt.Component.dispatchEventImpl(Component.java:5022)\n",
      "\tat java.desktop/java.awt.Container.dispatchEventImpl(Container.java:2324)\n",
      "\tat java.desktop/java.awt.Component.dispatchEvent(Component.java:4854)\n",
      "\tat java.desktop/java.awt.LightweightDispatcher.retargetMouseEvent(Container.java:4948)\n",
      "\tat java.desktop/java.awt.LightweightDispatcher.processMouseEvent(Container.java:4575)\n",
      "\tat java.desktop/java.awt.LightweightDispatcher.dispatchEvent(Container.java:4516)\n",
      "\tat java.desktop/java.awt.Container.dispatchEventImpl(Container.java:2310)\n",
      "\tat java.desktop/java.awt.Window.dispatchEventImpl(Window.java:2802)\n",
      "\tat java.desktop/java.awt.Component.dispatchEvent(Component.java:4854)\n",
      "\tat java.desktop/java.awt.EventQueue.dispatchEventImpl(EventQueue.java:781)\n",
      "\tat java.desktop/java.awt.EventQueue$4.run(EventQueue.java:730)\n",
      "\tat java.desktop/java.awt.EventQueue$4.run(EventQueue.java:724)\n",
      "\tat java.base/java.security.AccessController.doPrivileged(AccessController.java:399)\n",
      "\tat java.base/java.security.ProtectionDomain$JavaSecurityAccessImpl.doIntersectionPrivilege(ProtectionDomain.java:86)\n",
      "\tat java.base/java.security.ProtectionDomain$JavaSecurityAccessImpl.doIntersectionPrivilege(ProtectionDomain.java:97)\n",
      "\tat java.desktop/java.awt.EventQueue$5.run(EventQueue.java:754)\n",
      "\tat java.desktop/java.awt.EventQueue$5.run(EventQueue.java:752)\n",
      "\tat java.base/java.security.AccessController.doPrivileged(AccessController.java:399)\n",
      "\tat java.base/java.security.ProtectionDomain$JavaSecurityAccessImpl.doIntersectionPrivilege(ProtectionDomain.java:86)\n",
      "\tat java.desktop/java.awt.EventQueue.dispatchEvent(EventQueue.java:751)\n",
      "\tat com.intellij.ide.IdeEventQueue.defaultDispatchEvent(IdeEventQueue.java:918)\n",
      "\tat com.intellij.ide.IdeEventQueue.dispatchMouseEvent(IdeEventQueue.java:840)\n",
      "\tat com.intellij.ide.IdeEventQueue._dispatchEvent(IdeEventQueue.java:763)\n",
      "\tat com.intellij.ide.IdeEventQueue.lambda$dispatchEvent$6(IdeEventQueue.java:450)\n",
      "\tat com.intellij.openapi.progress.impl.CoreProgressManager.computePrioritized(CoreProgressManager.java:791)\n",
      "\tat com.intellij.ide.IdeEventQueue.lambda$dispatchEvent$7(IdeEventQueue.java:449)\n",
      "\tat com.intellij.openapi.application.TransactionGuardImpl.performActivity(TransactionGuardImpl.java:113)\n",
      "\tat com.intellij.ide.IdeEventQueue.performActivity(IdeEventQueue.java:624)\n",
      "\tat com.intellij.ide.IdeEventQueue.lambda$dispatchEvent$8(IdeEventQueue.java:447)\n",
      "\tat com.intellij.openapi.application.impl.ApplicationImpl.runIntendedWriteActionOnCurrentThread(ApplicationImpl.java:881)\n",
      "\tat com.intellij.ide.IdeEventQueue.dispatchEvent(IdeEventQueue.java:493)\n",
      "\tat java.desktop/java.awt.EventDispatchThread.pumpOneEventForFilters(EventDispatchThread.java:207)\n",
      "\tat java.desktop/java.awt.EventDispatchThread.pumpEventsForFilter(EventDispatchThread.java:128)\n",
      "\tat java.desktop/java.awt.EventDispatchThread.pumpEventsForHierarchy(EventDispatchThread.java:117)\n",
      "\tat java.desktop/java.awt.EventDispatchThread.pumpEvents(EventDispatchThread.java:113)\n",
      "\tat java.desktop/java.awt.EventDispatchThread.pumpEvents(EventDispatchThread.java:105)\n",
      "\tat java.desktop/java.awt.EventDispatchThread.run(EventDispatchThread.java:92)\n"
     ]
    },
    {
     "name": "stdout",
     "output_type": "stream",
     "text": [
      "2022-10-05 19:10:13,553 [ 138696]   WARN - #c.i.o.o.e.ConfigurableCardPanel - auto-dispose 'PHP' id=reference.webide.settings.project.settings.php\n",
      "2022-10-05 19:10:13,554 [ 138697]   WARN - #c.i.o.o.e.ConfigurableCardPanel - auto-dispose 'PHP' id=reference.webide.settings.project.settings.php\n",
      "2022-10-05 19:10:14,492 [ 139635]   WARN - #c.i.u.x.Binding - no accessors for org.jetbrains.idea.perforce.perforce.ConnectionId\n",
      "2022-10-05 19:10:36,692 [ 161835]   WARN - #c.i.o.o.e.ConfigurableCardPanel - auto-dispose 'PHP' id=reference.webide.settings.project.settings.php\n",
      "2022-10-05 19:10:36,692 [ 161835]   WARN - #c.i.o.o.e.ConfigurableCardPanel - auto-dispose 'PHP' id=reference.webide.settings.project.settings.php\n",
      "2022-10-05 19:11:13,557 [ 198700]   WARN - #c.i.o.o.e.ConfigurableCardPanel - auto-dispose 'PHP' id=reference.webide.settings.project.settings.php\n",
      "2022-10-05 19:11:13,558 [ 198701]   WARN - #c.i.o.o.e.ConfigurableCardPanel - auto-dispose 'PHP' id=reference.webide.settings.project.settings.php\n",
      "2022-10-05 19:14:07,779 [ 372922]   WARN - #c.i.o.a.i.ActionUpdater - 348 ms to grab EDT for #update@ToolwindowTitle (com.intellij.toolWindow.ToolWindowHeader$2)\n"
     ]
    }
   ],
   "source": [
    "! phpstorm project"
   ]
  },
  {
   "cell_type": "markdown",
   "metadata": {},
   "source": [
    "<img src=\"02_interpreter/00_hide_hints.jpg\"/>\n",
    "<img src=\"02_interpreter/01_settings.jpg\"/>\n",
    "<img src=\"02_interpreter/02_interpreter_dot_dot_dot.jpg\"/>\n",
    "<img src=\"02_interpreter/03_add_interpreter.jpg\"/>\n",
    "<img src=\"02_interpreter/04_adding_interpreter.jpg\"/>\n",
    "<img src=\"02_interpreter/05_added_and_click_ok.jpg\"/>\n",
    "<img src=\"02_interpreter/06_select_version_8_1.jpg\"/>\n",
    "<img src=\"02_interpreter/07_ok.jpg\"/>\n",
    "<img src=\"02_interpreter/08_run_as_php_script.jpg\"/>\n",
    "<img src=\"02_interpreter/09_done.jpg\"/>"
   ]
  },
  {
   "cell_type": "markdown",
   "metadata": {},
   "source": [
    "#### Debugging simple scripts"
   ]
  },
  {
   "cell_type": "markdown",
   "metadata": {},
   "source": [
    "Debugging for simple scripts should work right out of the box:"
   ]
  },
  {
   "cell_type": "code",
   "execution_count": null,
   "metadata": {},
   "outputs": [],
   "source": [
    "! phpstorm project"
   ]
  },
  {
   "cell_type": "markdown",
   "metadata": {},
   "source": [
    "<img src=\"03_cli_debug/01_add_breakpoint.jpg\"/>\n",
    "<img src=\"03_cli_debug/02_debug.jpg\"/>\n",
    "<img src=\"03_cli_debug/03_step_over.jpg\"/>\n",
    "<img src=\"03_cli_debug/04_set_value.jpg\"/>\n",
    "<img src=\"03_cli_debug/05_set_value.jpg\"/>\n",
    "<img src=\"03_cli_debug/06_continue.jpg\"/>\n",
    "<img src=\"03_cli_debug/07_outpt_and_exit.jpg\"/>"
   ]
  },
  {
   "cell_type": "markdown",
   "metadata": {},
   "source": [
    "#### Running webserver"
   ]
  },
  {
   "cell_type": "markdown",
   "metadata": {},
   "source": [
    "It is done in the same way as from the command line - using built-in PHP server:"
   ]
  },
  {
   "cell_type": "code",
   "execution_count": null,
   "metadata": {
    "scrolled": true
   },
   "outputs": [],
   "source": [
    "! phpstorm project"
   ]
  },
  {
   "cell_type": "markdown",
   "metadata": {},
   "source": [
    "<img src=\"04_server/01_click_terminal.jpg\"/>\n",
    "<img src=\"04_server/02_click_link.jpg\"/>\n",
    "<img src=\"04_server/03_see_result_in_chrom_and_close_it.jpg\"/>\n",
    "<img src=\"04_server/04_exit.jpg\"/>"
   ]
  },
  {
   "cell_type": "markdown",
   "metadata": {},
   "source": [
    "#### Debugging in webserver"
   ]
  },
  {
   "cell_type": "code",
   "execution_count": null,
   "metadata": {
    "scrolled": true
   },
   "outputs": [],
   "source": [
    "! phpstorm project"
   ]
  },
  {
   "cell_type": "markdown",
   "metadata": {},
   "source": [
    "**Important!** Do not forget to click the telephone icon in the upper-right corner of the PhpStorm IDE."
   ]
  },
  {
   "cell_type": "markdown",
   "metadata": {},
   "source": [
    "<img src=\"05_web_debug/01_start_listening_for_connections.jpg\"/>\n",
    "<img src=\"05_web_debug/02_click_to_open_chrome.jpg\"/>\n",
    "<img src=\"05_web_debug/03_cick_on_extensions.jpg\"/>\n",
    "<img src=\"05_web_debug/04_pin_xdebug_helper.jpg\"/>\n",
    "<img src=\"05_web_debug/05_enable_xdebug_helper.jpg\"/>\n",
    "<img src=\"05_web_debug/06_refresh_the_page.jpg\"/>\n",
    "<img src=\"05_web_debug/07_accept_connection_in_phpstorm.jpg\"/>\n",
    "<img src=\"05_web_debug/08_step_over.jpg\"/>\n",
    "<img src=\"05_web_debug/09_set_value.jpg\"/>\n",
    "<img src=\"05_web_debug/10_set_value.jpg\"/>\n",
    "<img src=\"05_web_debug/11_resume.jpg\"/>\n",
    "<img src=\"05_web_debug/12_see_result_and_disable_xdebug_helper.jpg\"/>\n",
    "<img src=\"05_web_debug/13_reload_no_debug_triggered.jpg\"/>\n",
    "<img src=\"05_web_debug/14_close_chrome.jpg\"/>\n",
    "<img src=\"05_web_debug/15_close_debug_console.jpg\"/>\n",
    "<img src=\"05_web_debug/16_click_terminal.jpg\"/>\n",
    "<img src=\"05_web_debug/17_kill_server_and_stop_listening.jpg\"/>\n",
    "<img src=\"05_web_debug/18_close_phpstorm.jpg\"/>"
   ]
  },
  {
   "cell_type": "markdown",
   "metadata": {},
   "source": [
    "#### Configuring webserver run-configuration"
   ]
  },
  {
   "cell_type": "code",
   "execution_count": 1,
   "metadata": {},
   "outputs": [
    {
     "name": "stdout",
     "output_type": "stream",
     "text": [
      "Info  | RdCoroutineScope          | 13:JobScheduler FJ pool 1/3 | RdCoroutineHost overridden \n",
      "2022-10-05 19:21:07,691 [  23055]   WARN - #c.i.o.a.i.ActionUpdater - 1323 ms to grab EDT for BackAction#update@MainToolbar (com.intellij.ide.actions.BackAction)\n",
      "2022-10-05 19:21:08,005 [  23369]   WARN - #c.i.o.a.i.ActionUpdater - 1218 ms to grab EDT for CreateWebProjectAction#update@MainMenu (com.jetbrains.plugins.webDeployment.phpStorm.CreateWebProjectAction)\n",
      "2022-10-05 19:21:08,413 [  23777]   WARN - #c.i.o.a.i.ActionUpdater - 670 ms to grab EDT for CWMTelephonyGroup#update@MainToolbar (com.jetbrains.rd.platform.codeWithMe.telephony.CWMTelephonyGroup)\n",
      "2022-10-05 19:21:08,733 [  24097]   WARN - #c.i.o.a.i.ActionUpdater - 725 ms to grab EDT for SaveAsAction#update@MainMenu (com.intellij.ide.actions.SaveAsAction)\n",
      "2022-10-05 19:21:09,390 [  24754]   WARN - #c.i.o.a.i.ActionUpdater - 548 ms to grab EDT for RenameProjectAction#update@MainMenu (com.intellij.platform.renameProject.RenameProjectAction)\n",
      "2022-10-05 19:21:09,580 [  24944]   WARN - #c.i.o.a.i.ActionUpdater - 548 ms to grab EDT for UndoAction#update@MainMenu (com.intellij.ide.actions.UndoAction)\n",
      "2022-10-05 19:21:09,792 [  25156]   WARN - #c.i.o.a.i.ActionUpdater - 210 ms to grab EDT for RedoAction#update@MainMenu (com.intellij.ide.actions.RedoAction)\n",
      "2022-10-05 19:21:12,250 [  27614]   WARN - #c.i.o.a.i.ActionUpdater - 463 ms to grab EDT for CollapseAllAction#update@ToolwindowTitle (com.intellij.ide.actions.CollapseAllAction)\n",
      "2022-10-05 19:21:12,747 [  28111]   WARN - #c.i.o.a.i.ActionUpdater - 470 ms to grab EDT for DockToolWindowAction#update@ToolwindowTitle (com.intellij.openapi.wm.impl.DockToolWindowAction)\n",
      "2022-10-05 19:21:23,981 [  39345]   WARN - #c.i.o.a.i.ActionUpdater - 1196 ms to call on BGT RunContextAction#update@EditorPopup (com.intellij.execution.actions.RunContextAction)\n",
      "2022-10-05 19:21:39,889 [  55253]   WARN - #c.i.o.a.i.ActionUpdater - 316 ms to grab EDT for #update@ToolwindowTitle (com.intellij.toolWindow.ToolWindowHeader$2)\n",
      "2022-10-05 19:21:39,890 [  55254]   WARN - #c.i.o.a.i.ActionUpdater - 316 ms to grab EDT for #getChildren@ToolwindowTitle (com.intellij.toolWindow.ToolWindowHeader$2)\n",
      "2022-10-05 19:21:40,384 [  55748]   WARN - #c.i.o.a.i.ActionUpdater - 373 ms to grab EDT for CWMTelephonyGroup#update@NavBarToolbar (com.jetbrains.rd.platform.codeWithMe.telephony.CWMTelephonyGroup)\n",
      "2022-10-05 19:21:40,385 [  55749]   WARN - #c.i.o.a.i.ActionUpdater - 373 ms to grab EDT for CollapseAllAction#update@ToolwindowTitle (com.intellij.ide.actions.CollapseAllAction)\n",
      "2022-10-05 19:21:49,995 [  65359]   WARN - #c.i.o.a.i.ActionUpdater - 215 ms to grab EDT for #getChildren@ToolwindowTitle (com.intellij.toolWindow.ToolWindowHeader$2)\n",
      "2022-10-05 19:21:49,995 [  65359]   WARN - #c.i.o.a.i.ActionUpdater - 216 ms to grab EDT for #update@ToolwindowTitle (com.intellij.toolWindow.ToolWindowHeader$2)\n",
      "2022-10-05 19:22:32,600 [ 107964]   WARN - #c.i.o.a.i.ActionUpdater - 217 ms to grab EDT for ToggleBoldFontAction#update@ContextToolbar (com.intellij.application.options.colors.FontEditorPreview$ToggleBoldFontAction)\n",
      "Initialize stderr logger, severity=LOGSEVERITY_DISABLE\n",
      "2022-10-05 19:22:58,148 [ 133512]   WARN - #c.i.o.a.i.ActionUpdater - 430 ms to grab EDT for DockToolWindowAction#update@ToolwindowTitle (com.intellij.openapi.wm.impl.DockToolWindowAction)\n",
      "2022-10-05 19:23:09,186 [ 144550]   WARN - #c.i.o.a.i.ActionUpdater - 259 ms to grab EDT for #getChildren@ToolwindowTitle (com.intellij.toolWindow.ToolWindowHeader$2)\n",
      "2022-10-05 19:24:38,130 [ 233494]   WARN - #c.i.o.o.e.ConfigurableCardPanel - auto-dispose 'PHP' id=reference.webide.settings.project.settings.php\n",
      "2022-10-05 19:24:38,131 [ 233495]   WARN - #c.i.o.o.e.ConfigurableCardPanel - auto-dispose 'PHP' id=reference.webide.settings.project.settings.php\n",
      "2022-10-05 19:24:38,771 [ 234135]   WARN - #c.i.u.x.Binding - no accessors for org.jetbrains.idea.perforce.perforce.ConnectionId\n",
      "shutdown on Thread[AWT-EventQueue-0,6,main]\n"
     ]
    }
   ],
   "source": [
    "! phpstorm project"
   ]
  },
  {
   "cell_type": "markdown",
   "metadata": {},
   "source": [
    "<img src=\"06_webserver_config/01_edit_config.jpg\"/>\n",
    "<img src=\"06_webserver_config/02_add_new_configuration.jpg\"/>\n",
    "<img src=\"06_webserver_config/03_php_web_page.jpg\"/>\n",
    "<img src=\"06_webserver_config/04_enter_name_and_select_server_config.jpg\"/>\n",
    "<img src=\"06_webserver_config/05_add.jpg\"/>\n",
    "<img src=\"06_webserver_config/06_fill_config_and_ok.jpg\"/>\n",
    "<img src=\"06_webserver_config/07_ok.jpg\"/>\n",
    "<img src=\"06_webserver_config/08_run.jpg\"/>\n",
    "<img src=\"06_webserver_config/09_close_chrome.jpg\"/>\n",
    "<img src=\"06_webserver_config/10_debug.jpg\"/>\n",
    "<img src=\"06_webserver_config/11_chrome_is_waiting.jpg\"/>\n",
    "<img src=\"06_webserver_config/12_step_over.jpg\"/>\n",
    "<img src=\"06_webserver_config/13_chrome_still_waiting.jpg\"/>\n",
    "<img src=\"06_webserver_config/14_resume.jpg\"/>\n",
    "<img src=\"06_webserver_config/15_chrome_ready_close_it.jpg\"/>\n",
    "<img src=\"06_webserver_config/16_stop_debugging.jpg\"/>\n",
    "<img src=\"06_webserver_config/17_go_to_terminal.jpg\"/>\n",
    "<img src=\"06_webserver_config/18_stop_server_and_close_the_window.jpg\"/>"
   ]
  },
  {
   "cell_type": "markdown",
   "metadata": {},
   "source": [
    "#### Miscellaneous"
   ]
  },
  {
   "cell_type": "code",
   "execution_count": null,
   "metadata": {},
   "outputs": [],
   "source": [
    "! phpstorm project"
   ]
  },
  {
   "cell_type": "markdown",
   "metadata": {},
   "source": [
    "<img src=\"07_misc/01_click_on_the_firefox_icon.jpg\"/>\n",
    "<img src=\"07_misc/02_click_fix.jpg\"/>\n",
    "<img src=\"07_misc/03_uncheck_firefox_and_save.jpg\"/>\n",
    "<img src=\"07_misc/04_click_ok.jpg\"/>\n",
    "<img src=\"07_misc/05_click_on_the_chrom_icon_to_run_throgh_the_fast_cgi.jpg\"/>\n",
    "<img src=\"07_misc/06_see_the_different_url_in_chrom_and_close_the_window.jpg\"/>\n",
    "<img src=\"07_misc/07_click_on_the_built_in_preview.jpg\"/>\n",
    "<img src=\"07_misc/08_close_the_hint.jpg\"/>\n",
    "<img src=\"07_misc/09_edit_code_preview_will_be_refreshed_on_save.jpg\"/>\n",
    "<img src=\"07_misc/10_go_to_settings.jpg\"/>\n",
    "<img src=\"07_misc/11_select_your_favorite_keymap.jpg\"/>\n",
    "<img src=\"07_misc/12_click_ok.jpg\"/>\n",
    "<img src=\"07_misc/13_add_some_library_function_call.jpg\"/>\n",
    "<img src=\"07_misc/14_after_clicking_f3_the_definition_is_shown.jpg\"/>\n",
    "<img src=\"07_misc/15_close.jpg\"/>"
   ]
  },
  {
   "cell_type": "code",
   "execution_count": 3,
   "metadata": {},
   "outputs": [],
   "source": [
    "! rm -rf project"
   ]
  },
  {
   "cell_type": "code",
   "execution_count": 4,
   "metadata": {},
   "outputs": [
    {
     "name": "stdout",
     "output_type": "stream",
     "text": [
      "01_initial\t03_cli_debug  05_web_debug\t   07_misc\r\n",
      "02_interpreter\t04_server     06_webserver_config  index.ipynb\r\n"
     ]
    }
   ],
   "source": [
    "! ls\n"
   ]
  },
  {
   "cell_type": "code",
   "execution_count": null,
   "metadata": {},
   "outputs": [],
   "source": []
  }
 ],
 "metadata": {
  "kernelspec": {
   "display_name": "Python 3 (ipykernel)",
   "language": "python",
   "name": "python3"
  },
  "language_info": {
   "codemirror_mode": {
    "name": "ipython",
    "version": 3
   },
   "file_extension": ".py",
   "mimetype": "text/x-python",
   "name": "python",
   "nbconvert_exporter": "python",
   "pygments_lexer": "ipython3",
   "version": "3.10.4"
  }
 },
 "nbformat": 4,
 "nbformat_minor": 4
}
