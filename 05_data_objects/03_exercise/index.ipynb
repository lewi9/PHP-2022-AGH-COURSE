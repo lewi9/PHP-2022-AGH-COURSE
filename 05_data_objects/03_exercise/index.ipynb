{
 "cells": [
  {
   "cell_type": "markdown",
   "metadata": {},
   "source": [
    "# PHP 2022"
   ]
  },
  {
   "cell_type": "markdown",
   "metadata": {},
   "source": [
    "## 5. PHP Data Objects"
   ]
  },
  {
   "cell_type": "markdown",
   "metadata": {},
   "source": [
    "### 5.3 Exercise"
   ]
  },
  {
   "cell_type": "markdown",
   "metadata": {},
   "source": [
    "Implement ```SQLiteStorage``` and ```MySQLStorage```. "
   ]
  },
  {
   "cell_type": "markdown",
   "metadata": {},
   "source": [
    "Start the databse:"
   ]
  },
  {
   "cell_type": "code",
   "execution_count": 1,
   "metadata": {},
   "outputs": [
    {
     "name": "stdout",
     "output_type": "stream",
     "text": [
      "7f298aeaeef05a031cb5923c12ea5025b2a9126b10ec7d0f3bb1809d63ae94e0\r\n"
     ]
    }
   ],
   "source": [
    "! docker run --name=mysql --net=host --rm --env MYSQL_ROOT_PASSWORD=root123 --env MYSQL_DATABASE=test --env MYSQL_USER=test --env MYSQL_PASSWORD=test123 -d mysql/mysql-server:8.0"
   ]
  },
  {
   "cell_type": "code",
   "execution_count": 2,
   "metadata": {},
   "outputs": [
    {
     "name": "stdout",
     "output_type": "stream",
     "text": [
      "Done.\r\n"
     ]
    }
   ],
   "source": [
    "! while ! timeout 1 bash -c \"echo > /dev/tcp/localhost/3306\" 2> /dev/null; do sleep 1; done; echo \"Done.\";"
   ]
  },
  {
   "cell_type": "markdown",
   "metadata": {},
   "source": [
    "Edit the code:"
   ]
  },
  {
   "cell_type": "code",
   "execution_count": 34,
   "metadata": {},
   "outputs": [
    {
     "name": "stdout",
     "output_type": "stream",
     "text": [
      "2022-11-02 18:23:03,812 [    975]   WARN - #c.i.u.s.SvgCacheManager - Icon cache will be recreated or previous version of data reused, (db=/home/student/.cache/JetBrains/PhpStorm2022.2/icons-v6.db)\n",
      "Info  | RdCoroutineScope          | 13:JobScheduler FJ pool 1/3 | RdCoroutineHost overridden \n",
      "2022-11-02 18:23:09,259 [   6422]   WARN - #c.i.o.a.i.ActionUpdater - 226 ms to grab EDT for CWMTelephonyGroup#update@NavBarToolbar (com.jetbrains.rd.platform.codeWithMe.telephony.CWMTelephonyGroup)\n",
      "2022-11-02 18:23:15,881 [  13044]   WARN - #c.i.o.a.i.ActionUpdater - 1558 ms to grab EDT for #update@ToolwindowTitle (com.intellij.toolWindow.ToolWindowHeader$2)\n",
      "2022-11-02 18:23:17,044 [  14207]   WARN - #c.i.o.a.i.ActionUpdater - 226 ms to grab EDT for CWMTelephonyGroup#update@NavBarToolbar (com.jetbrains.rd.platform.codeWithMe.telephony.CWMTelephonyGroup)\n",
      "2022-11-02 18:23:19,238 [  16401]   WARN - #c.i.u.i.d.ChangedFilesPushedDiagnostic - Failed to read /home/student/.cache/JetBrains/PhpStorm2022.2/log/indexing-diagnostic/project.fbdf78b2/changed-files-pushing-events.json\n",
      "com.fasterxml.jackson.core.JsonParseException: Illegal character ((CTRL-CHAR, code 0)): only regular white space (\\r, \\n, \\t) is allowed between tokens\n",
      " at [Source: (String)\"\\u0000\\u0000\\u0000\\u0000\\u0000\\u0000\\u0000\\u0000\\u0000\\u0000\\u0000\\u0000\\u0000\\u0000\\u0000\\u0000\\u0000\\u0000\\u0000\\u0000\\u0000\\u0000\\u0000\\u0000\\u0000\\u0000\\u0000\\u0000\\u0000\\u0000\\u0000\\u0000\\u0000\\u0000\\u0000\\u0000\\u0000\\u0000\\u0000\\u0000\\u0000\\u0000\\u0000\\u0000\\u0000\\u0000\\u0000\\u0000\\u0000\\u0000\\u0000\\u0000\\u0000\\u0000\\u0000\\u0000\\u0000\\u0000\\u0000\\u0000\\u0000\\u0000\\u0000\\u0000\\u0000\\u0000\\u0000\\u0000\\u0000\\u0000\\u0000\\u0000\\u0000\\u0000\\u0000\\u0000\\u0000\\u0000\\u0000\\u0000\\u0000\\u0000\\u0000\\u0000\\u0000\\u0000\\u0000\\u0000\\u0000\\u0000\\u0000\\u0000\\u0000\\u0000\\u0000\\u0000\\u0000\\u0000\\u0000\\u0000\\u0000\\u0000\\u0000\\u0000\\u0000\\u0000\\u0000\\u0000\\u0000\\u0000\\u0000\\u0000\\u0000\\u0000\\u0000\\u0000\\u0000\\u0000\\u0000\\u0000\\u0000\\u0000\\u0000\\u0000\\u0000\\u0000\\u0000\\u0000\\u0000\\u0000\\u0000\\u0000\\u0000\\u0000\\u0000\\u0000{\"reason\":\"Push on VFS changes\",\"startTime\":\"2022-11-02T17:55:53.027143672+01:00[Europe/Warsaw]\",\"duration\":31531579,\"isCancelled\":false}\"; line: 1, column: 2]\n",
      "\tat com.fasterxml.jackson.core.JsonParser._constructError(JsonParser.java:2391)\n",
      "\tat com.fasterxml.jackson.core.base.ParserMinimalBase._reportError(ParserMinimalBase.java:735)\n",
      "\tat com.fasterxml.jackson.core.base.ParserMinimalBase._throwInvalidSpace(ParserMinimalBase.java:713)\n",
      "\tat com.fasterxml.jackson.core.json.ReaderBasedJsonParser._skipWSOrEnd(ReaderBasedJsonParser.java:2461)\n",
      "\tat com.fasterxml.jackson.core.json.ReaderBasedJsonParser.nextToken(ReaderBasedJsonParser.java:698)\n",
      "\tat com.fasterxml.jackson.databind.ObjectMapper._initForReading(ObjectMapper.java:4761)\n",
      "\tat com.fasterxml.jackson.databind.ObjectMapper._readMapAndClose(ObjectMapper.java:4667)\n",
      "\tat com.fasterxml.jackson.databind.ObjectMapper.readValue(ObjectMapper.java:3629)\n",
      "\tat com.fasterxml.jackson.databind.ObjectMapper.readValue(ObjectMapper.java:3612)\n",
      "\tat com.intellij.util.indexing.diagnostic.ChangedFilesPushedDiagnostic.readEvents(ChangedFilesPushedDiagnostic.kt:68)\n",
      "\tat com.intellij.util.indexing.diagnostic.IndexDiagnosticDumper.dumpProjectIndexingHistoryToLogSubdirectory(IndexDiagnosticDumper.kt:195)\n",
      "\tat com.intellij.util.indexing.diagnostic.IndexDiagnosticDumper.access$dumpProjectIndexingHistoryToLogSubdirectory(IndexDiagnosticDumper.kt:36)\n",
      "\tat com.intellij.util.indexing.diagnostic.IndexDiagnosticDumper$onIndexingFinished$1.run(IndexDiagnosticDumper.kt:151)\n",
      "\tat com.intellij.util.concurrency.BoundedTaskExecutor.doRun(BoundedTaskExecutor.java:241)\n",
      "\tat com.intellij.util.concurrency.BoundedTaskExecutor.access$200(BoundedTaskExecutor.java:31)\n",
      "\tat com.intellij.util.concurrency.BoundedTaskExecutor$1.execute(BoundedTaskExecutor.java:214)\n",
      "\tat com.intellij.util.concurrency.BoundedTaskExecutor$1.run(BoundedTaskExecutor.java:206)\n",
      "\tat java.base/java.util.concurrent.ThreadPoolExecutor.runWorker(ThreadPoolExecutor.java:1136)\n",
      "\tat java.base/java.util.concurrent.ThreadPoolExecutor$Worker.run(ThreadPoolExecutor.java:635)\n",
      "\tat java.base/java.util.concurrent.Executors$PrivilegedThreadFactory$1$1.run(Executors.java:702)\n",
      "\tat java.base/java.util.concurrent.Executors$PrivilegedThreadFactory$1$1.run(Executors.java:699)\n",
      "\tat java.base/java.security.AccessController.doPrivileged(AccessController.java:399)\n",
      "\tat java.base/java.util.concurrent.Executors$PrivilegedThreadFactory$1.run(Executors.java:699)\n",
      "\tat java.base/java.lang.Thread.run(Thread.java:833)\n",
      "2022-11-02 18:24:26,960 [  84123]   WARN - #c.i.u.x.Binding - no accessors for org.jetbrains.idea.perforce.perforce.ConnectionId\n"
     ]
    }
   ],
   "source": [
    "! phpstorm project"
   ]
  },
  {
   "cell_type": "markdown",
   "metadata": {},
   "source": [
    "You can test your solution using included tests:"
   ]
  },
  {
   "cell_type": "code",
   "execution_count": 35,
   "metadata": {},
   "outputs": [
    {
     "name": "stdout",
     "output_type": "stream",
     "text": [
      "\u001b[32mChanged current directory to /home/student/.composer\u001b[39m\n",
      "\u001b[32mInfo from https://repo.packagist.org: \u001b[37;44m#StandWith\u001b[30;43mUkraine\u001b[0m\u001b[39m\n",
      "Using version \u001b[32m^3.13\u001b[39m for \u001b[32mfriendsofphp/php-cs-fixer\u001b[39m\n",
      "Using version \u001b[32m^1.8\u001b[39m for \u001b[32mphpstan/phpstan\u001b[39m\n",
      "Using version \u001b[32m^6.0\u001b[39m for \u001b[32msebastian/phpcpd\u001b[39m\n",
      "\u001b[32m./composer.json has been updated\u001b[39m\n",
      "\u001b[32mRunning composer update friendsofphp/php-cs-fixer phpstan/phpstan sebastian/phpcpd\u001b[39m\n",
      "\u001b[32mLoading composer repositories with package information\u001b[39m\n",
      "\u001b[32mUpdating dependencies\u001b[39m\n",
      "Nothing to modify in lock file\n",
      "\u001b[32mInstalling dependencies from lock file (including require-dev)\u001b[39m\n",
      "Nothing to install, update or remove\n",
      "\u001b[32mGenerating autoload files\u001b[39m\n",
      "\u001b[32m29 packages you are using are looking for funding.\u001b[39m\n",
      "\u001b[32mUse the `composer fund` command to find out more!\u001b[39m\n",
      "\u001b[32mNo security vulnerability advisories found\u001b[39m\n"
     ]
    }
   ],
   "source": [
    "! composer global require friendsofphp/php-cs-fixer phpstan/phpstan sebastian/phpcpd"
   ]
  },
  {
   "cell_type": "code",
   "execution_count": 39,
   "metadata": {},
   "outputs": [
    {
     "name": "stdout",
     "output_type": "stream",
     "text": [
      "Loaded config \u001b[33mdefault\u001b[39m.\r\n",
      "Using cache file \".php-cs-fixer.cache\".\r\n",
      "\r\n",
      "Checked all files in 0.001 seconds, 12.000 MB memory used\r\n"
     ]
    }
   ],
   "source": [
    "! ~/.composer/vendor/bin/php-cs-fixer fix --diff --dry-run  project/"
   ]
  },
  {
   "cell_type": "code",
   "execution_count": 40,
   "metadata": {},
   "outputs": [
    {
     "name": "stdout",
     "output_type": "stream",
     "text": [
      "  0/14 [░░░░░░░░░░░░░░░░░░░░░░░░░░░░]   0%\u001b[1G\u001b[2K 14/14 [▓▓▓▓▓▓▓▓▓▓▓▓▓▓▓▓▓▓▓▓▓▓▓▓▓▓▓▓] 100%\n",
      "\n",
      "\n",
      "\u001b[30;42m                                                                                \u001b[39;49m\n",
      "\u001b[30;42m [OK] No errors                                                                 \u001b[39;49m\n",
      "\u001b[30;42m                                                                                \u001b[39;49m\n",
      "\n"
     ]
    }
   ],
   "source": [
    "! ~/.composer/vendor/bin/phpstan analyze --level max project/"
   ]
  },
  {
   "cell_type": "code",
   "execution_count": 41,
   "metadata": {},
   "outputs": [],
   "source": [
    "import subprocess\n",
    "phpServer = subprocess.Popen(['php', '-S', 'localhost:8888', '-t', 'project/public'])"
   ]
  },
  {
   "cell_type": "code",
   "execution_count": 33,
   "metadata": {},
   "outputs": [
    {
     "name": "stdout",
     "output_type": "stream",
     "text": [
      "\u001b[32mInstalling dependencies from lock file (including require-dev)\u001b[39m\n",
      "\u001b[32mVerifying lock file contents can be installed on current platform.\u001b[39m\n",
      "Nothing to install, update or remove\n",
      "\u001b[30;43mPackage sebastian/resource-operations is abandoned, you should avoid using it. No replacement was suggested.\u001b[39;49m\n",
      "\u001b[32mGenerating autoload files\u001b[39m\n",
      "\u001b[32m44 packages you are using are looking for funding.\u001b[39m\n",
      "\u001b[32mUse the `composer fund` command to find out more!\u001b[39m\n",
      "Codeception PHP Testing Framework v4.1.22\n",
      "Powered by PHPUnit 9.5.9 by Sebastian Bergmann and contributors.\n",
      "\n",
      "\u001b[1mAcceptance Tests (4) \u001b[22m-----------------------------------------------------------\n",
      "\u001b[32;1m✔\u001b[39;22m \u001b[35;1mFileStorageCept:\u001b[39;22m  \u001b[32m(0.05s)\u001b[39m\n",
      "\u001b[31;1m✖\u001b[39;22m \u001b[35;1mMySQLStorageCept:\u001b[39;22m  \u001b[32m(0.06s)\u001b[39m\n",
      "\u001b[32;1m✔\u001b[39;22m \u001b[35;1mSQLiteStorageCept:\u001b[39;22m  \u001b[32m(0.03s)\u001b[39m\n",
      "\u001b[32;1m✔\u001b[39;22m \u001b[35;1mSessionStorageCept:\u001b[39;22m  \u001b[32m(0.00s)\u001b[39m\n",
      "--------------------------------------------------------------------------------\n",
      "\n",
      "\n",
      "Time: 00:00.298, Memory: 12.00 MB\n",
      "\n",
      "There was 1 failure:\n",
      "\n",
      "---------\n",
      "1) \u001b[35;1mMySQLStorageCept:\u001b[39;22m \n",
      "\u001b[37;41;1m Test \u001b[39;49;22m tests/acceptance/MySQLStorageCept.php\n",
      "\u001b[37;41;1m Step \u001b[39;49;22m See element \"input[value=widget_button_1]\"\n",
      "\u001b[37;41;1m Fail \u001b[39;49;22m Element located either by name, CSS or XPath element with 'input[value=widget_button_1]' was not found.\n",
      "\u001b[33m\n",
      "Scenario Steps:\n",
      "\u001b[39m\n",
      "\u001b[1m 4. $I->seeElement(\"input[value=widget_button_1]\")\u001b[22m at \u001b[32mtests/acceptance/MySQLStorageCept.php:10\u001b[39m\n",
      " 3. $I->seeCurrentUrlEquals(\"/MySQLStorage\") at \u001b[32mtests/acceptance/MySQLStorageCept.php:8\u001b[39m\n",
      " 2. $I->amOnPage(\"/MySQLStorage\") at \u001b[32mtests/acceptance/MySQLStorageCept.php:7\u001b[39m\n",
      " 1. $I->executeInDatabase(\"DROP TABLE IF EXISTS objects\") at \u001b[32mtests/acceptance/MySQLStorageCept.php:5\u001b[39m\n",
      "\n",
      "\u001b[33mArtifacts:\u001b[39m\n",
      "\n",
      "Html: \u001b[36m/home/student/php_2022_adam_lewinski/05_data_objects/03_exercise/tests/tests/_output/MySQLStorageCept.fail.html\u001b[39m\n",
      "Response: \u001b[36m/home/student/php_2022_adam_lewinski/05_data_objects/03_exercise/tests/tests/_output/MySQLStorageCept.fail.html\u001b[39m\n",
      "\n",
      "\u001b[37;41mFAILURES!\u001b[0m\n",
      "\u001b[37;41mTests: 4\u001b[0m\u001b[37;41m, Assertions: 68\u001b[0m\u001b[37;41m, Failures: 1\u001b[0m\u001b[37;41m.\u001b[0m\n"
     ]
    },
    {
     "name": "stderr",
     "output_type": "stream",
     "text": [
      "[Wed Nov  2 18:22:18 2022] [::1]:40450 Accepted\n",
      "[Wed Nov  2 18:22:18 2022] [::1]:40450 [200]: GET /FileStorage\n",
      "[Wed Nov  2 18:22:18 2022] [::1]:40450 Closing\n",
      "[Wed Nov  2 18:22:18 2022] [::1]:40452 Accepted\n",
      "docker: Error response from daemon: Conflict. The container name \"/mysql\" is already in use by container \"7f298aeaeef05a031cb5923c12ea5025b2a9126b10ec7d0f3bb1809d63ae94e0\". You have to remove (or rename) that container to be able to reuse that name.\n",
      "See 'docker run --help'.\n",
      "[Wed Nov  2 18:22:18 2022] PHP Fatal error:  Uncaught PDOException: SQLSTATE[42S02]: Base table or view not found: 1146 Table 'test.objects' doesn't exist in /home/student/php_2022_adam_lewinski/05_data_objects/03_exercise/project/src/Storage/MySQLStorage.php:21\n",
      "Stack trace:\n",
      "#0 /home/student/php_2022_adam_lewinski/05_data_objects/03_exercise/project/src/Storage/MySQLStorage.php(21): PDO->exec()\n",
      "#1 /home/student/php_2022_adam_lewinski/05_data_objects/03_exercise/project/src/App.php(16): Storage\\MySQLStorage->__construct()\n",
      "#2 /home/student/php_2022_adam_lewinski/05_data_objects/03_exercise/project/public/index.php(26): App->run()\n",
      "#3 {main}\n",
      "  thrown in /home/student/php_2022_adam_lewinski/05_data_objects/03_exercise/project/src/Storage/MySQLStorage.php on line 21\n",
      "[Wed Nov  2 18:22:18 2022] [::1]:40452 [200]: GET /MySQLStorage - Uncaught PDOException: SQLSTATE[42S02]: Base table or view not found: 1146 Table 'test.objects' doesn't exist in /home/student/php_2022_adam_lewinski/05_data_objects/03_exercise/project/src/Storage/MySQLStorage.php:21\n",
      "Stack trace:\n",
      "#0 /home/student/php_2022_adam_lewinski/05_data_objects/03_exercise/project/src/Storage/MySQLStorage.php(21): PDO->exec()\n",
      "#1 /home/student/php_2022_adam_lewinski/05_data_objects/03_exercise/project/src/App.php(16): Storage\\MySQLStorage->__construct()\n",
      "#2 /home/student/php_2022_adam_lewinski/05_data_objects/03_exercise/project/public/index.php(26): App->run()\n",
      "#3 {main}\n",
      "  thrown in /home/student/php_2022_adam_lewinski/05_data_objects/03_exercise/project/src/Storage/MySQLStorage.php on line 21\n",
      "[Wed Nov  2 18:22:18 2022] [::1]:40452 Closing\n",
      "[Wed Nov  2 18:22:18 2022] [::1]:40466 Accepted\n",
      "[Wed Nov  2 18:22:18 2022] [::1]:40466 [200]: GET /SQLiteStorage\n",
      "[Wed Nov  2 18:22:18 2022] [::1]:40466 Closing\n",
      "[Wed Nov  2 18:22:18 2022] [::1]:40476 Accepted\n",
      "[Wed Nov  2 18:22:18 2022] [::1]:40476 [200]: GET /SessionStorage\n",
      "[Wed Nov  2 18:22:18 2022] [::1]:40476 Closing\n"
     ]
    }
   ],
   "source": [
    "! cd tests && composer install && vendor/bin/codecept run"
   ]
  },
  {
   "cell_type": "code",
   "execution_count": 14,
   "metadata": {},
   "outputs": [],
   "source": [
    "phpServer.kill()"
   ]
  },
  {
   "cell_type": "code",
   "execution_count": null,
   "metadata": {},
   "outputs": [],
   "source": [
    "! ~/.composer/vendor/bin/phpcpd --fuzzy --min-lines 1 --min-tokens 10 project/"
   ]
  },
  {
   "cell_type": "markdown",
   "metadata": {},
   "source": [
    "Stop the databse:"
   ]
  },
  {
   "cell_type": "code",
   "execution_count": 2,
   "metadata": {},
   "outputs": [
    {
     "name": "stdout",
     "output_type": "stream",
     "text": [
      "mysql\r\n"
     ]
    }
   ],
   "source": [
    "! docker container stop mysql"
   ]
  },
  {
   "cell_type": "code",
   "execution_count": null,
   "metadata": {},
   "outputs": [],
   "source": []
  }
 ],
 "metadata": {
  "kernelspec": {
   "display_name": "Python 3 (ipykernel)",
   "language": "python",
   "name": "python3"
  },
  "language_info": {
   "codemirror_mode": {
    "name": "ipython",
    "version": 3
   },
   "file_extension": ".py",
   "mimetype": "text/x-python",
   "name": "python",
   "nbconvert_exporter": "python",
   "pygments_lexer": "ipython3",
   "version": "3.10.4"
  }
 },
 "nbformat": 4,
 "nbformat_minor": 4
}
