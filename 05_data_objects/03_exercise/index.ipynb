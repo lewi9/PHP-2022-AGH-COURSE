{
 "cells": [
  {
   "cell_type": "markdown",
   "metadata": {},
   "source": [
    "# PHP 2022"
   ]
  },
  {
   "cell_type": "markdown",
   "metadata": {},
   "source": [
    "## 5. PHP Data Objects"
   ]
  },
  {
   "cell_type": "markdown",
   "metadata": {},
   "source": [
    "### 5.3 Exercise"
   ]
  },
  {
   "cell_type": "markdown",
   "metadata": {},
   "source": [
    "Implement ```SQLiteStorage``` and ```MySQLStorage```. "
   ]
  },
  {
   "cell_type": "markdown",
   "metadata": {},
   "source": [
    "Start the databse:"
   ]
  },
  {
   "cell_type": "code",
   "execution_count": 3,
   "metadata": {},
   "outputs": [
    {
     "name": "stdout",
     "output_type": "stream",
     "text": [
      "25b8cc40ff0419fc4904e355846ff494ea6a4df2df4d19e9889a0e488952538c\r\n"
     ]
    }
   ],
   "source": [
    "! docker run --name=mysql --net=host --rm --env MYSQL_ROOT_PASSWORD=root123 --env MYSQL_DATABASE=test --env MYSQL_USER=test --env MYSQL_PASSWORD=test123 -d mysql/mysql-server:8.0"
   ]
  },
  {
   "cell_type": "code",
   "execution_count": 4,
   "metadata": {},
   "outputs": [
    {
     "name": "stdout",
     "output_type": "stream",
     "text": [
      "Done.\r\n"
     ]
    }
   ],
   "source": [
    "! while ! timeout 1 bash -c \"echo > /dev/tcp/localhost/3306\" 2> /dev/null; do sleep 1; done; echo \"Done.\";"
   ]
  },
  {
   "cell_type": "markdown",
   "metadata": {},
   "source": [
    "Edit the code:"
   ]
  },
  {
   "cell_type": "code",
   "execution_count": null,
   "metadata": {},
   "outputs": [
    {
     "name": "stdout",
     "output_type": "stream",
     "text": [
      "Info  | RdCoroutineScope          | 13:JobScheduler FJ pool 1/3 | RdCoroutineHost overridden \n",
      "2022-11-02 17:24:49,585 [  11907]   WARN - #c.i.o.a.i.ActionUpdater - 1511 ms to grab EDT for CWMTelephonyGroup#update@NavBarToolbar (com.jetbrains.rd.platform.codeWithMe.telephony.CWMTelephonyGroup)\n",
      "2022-11-02 17:24:49,833 [  12155]   WARN - #c.i.o.a.i.ActionUpdater - 1396 ms to grab EDT for BackAction#update@MainToolbar (com.intellij.ide.actions.BackAction)\n"
     ]
    },
    {
     "name": "stderr",
     "output_type": "stream",
     "text": [
      "[Wed Nov  2 17:25:11 2022] [::1]:42572 Accepted\n"
     ]
    },
    {
     "name": "stdout",
     "output_type": "stream",
     "text": [
      "2022-11-02 17:25:53,703 [  76025]   WARN - #c.i.u.x.Binding - no accessors for org.jetbrains.idea.perforce.perforce.ConnectionId\n",
      "2022-11-02 17:26:57,318 [ 139640] SEVERE - c.j.t.m.TerminalTextBuffer - Attempt to get line out of bounds: 12 >= 12\n",
      "2022-11-02 17:26:57,320 [ 139642] SEVERE - c.j.t.m.TerminalTextBuffer - Attempt to get line out of bounds: 12 >= 12\n"
     ]
    },
    {
     "name": "stderr",
     "output_type": "stream",
     "text": [
      "[Wed Nov  2 17:26:57 2022] [::1]:42572 Closed without sending a request; it was probably just an unused speculative preconnection\n",
      "[Wed Nov  2 17:26:57 2022] [::1]:42572 Closing\n"
     ]
    }
   ],
   "source": [
    "! phpstorm project"
   ]
  },
  {
   "cell_type": "markdown",
   "metadata": {},
   "source": [
    "You can test your solution using included tests:"
   ]
  },
  {
   "cell_type": "code",
   "execution_count": 7,
   "metadata": {},
   "outputs": [
    {
     "name": "stdout",
     "output_type": "stream",
     "text": [
      "\u001b[32mChanged current directory to /home/student/.composer\u001b[39m\n",
      "\u001b[32mInfo from https://repo.packagist.org: \u001b[37;44m#StandWith\u001b[30;43mUkraine\u001b[0m\u001b[39m\n",
      "Using version \u001b[32m^3.13\u001b[39m for \u001b[32mfriendsofphp/php-cs-fixer\u001b[39m\n",
      "Using version \u001b[32m^1.8\u001b[39m for \u001b[32mphpstan/phpstan\u001b[39m\n",
      "Using version \u001b[32m^6.0\u001b[39m for \u001b[32msebastian/phpcpd\u001b[39m\n",
      "\u001b[32m./composer.json has been created\u001b[39m\n",
      "\u001b[32mRunning composer update friendsofphp/php-cs-fixer phpstan/phpstan sebastian/phpcpd\u001b[39m\n",
      "\u001b[32mLoading composer repositories with package information\u001b[39m\n",
      "\u001b[32mUpdating dependencies\u001b[39m\n",
      "\u001b[32mLock file operations: 34 installs, 0 updates, 0 removals\u001b[39m\n",
      "  - Locking \u001b[32mcomposer/pcre\u001b[39m (\u001b[33m3.0.0\u001b[39m)\n",
      "  - Locking \u001b[32mcomposer/semver\u001b[39m (\u001b[33m3.3.2\u001b[39m)\n",
      "  - Locking \u001b[32mcomposer/xdebug-handler\u001b[39m (\u001b[33m3.0.3\u001b[39m)\n",
      "  - Locking \u001b[32mdoctrine/annotations\u001b[39m (\u001b[33m1.13.3\u001b[39m)\n",
      "  - Locking \u001b[32mdoctrine/lexer\u001b[39m (\u001b[33m1.2.3\u001b[39m)\n",
      "  - Locking \u001b[32mfriendsofphp/php-cs-fixer\u001b[39m (\u001b[33mv3.13.0\u001b[39m)\n",
      "  - Locking \u001b[32mphpstan/phpstan\u001b[39m (\u001b[33m1.8.11\u001b[39m)\n",
      "  - Locking \u001b[32mphpunit/php-file-iterator\u001b[39m (\u001b[33m3.0.6\u001b[39m)\n",
      "  - Locking \u001b[32mphpunit/php-timer\u001b[39m (\u001b[33m5.0.3\u001b[39m)\n",
      "  - Locking \u001b[32mpsr/cache\u001b[39m (\u001b[33m3.0.0\u001b[39m)\n",
      "  - Locking \u001b[32mpsr/container\u001b[39m (\u001b[33m2.0.2\u001b[39m)\n",
      "  - Locking \u001b[32mpsr/event-dispatcher\u001b[39m (\u001b[33m1.0.0\u001b[39m)\n",
      "  - Locking \u001b[32mpsr/log\u001b[39m (\u001b[33m3.0.0\u001b[39m)\n",
      "  - Locking \u001b[32msebastian/cli-parser\u001b[39m (\u001b[33m1.0.1\u001b[39m)\n",
      "  - Locking \u001b[32msebastian/diff\u001b[39m (\u001b[33m4.0.4\u001b[39m)\n",
      "  - Locking \u001b[32msebastian/phpcpd\u001b[39m (\u001b[33m6.0.3\u001b[39m)\n",
      "  - Locking \u001b[32msebastian/version\u001b[39m (\u001b[33m3.0.2\u001b[39m)\n",
      "  - Locking \u001b[32msymfony/console\u001b[39m (\u001b[33mv6.1.7\u001b[39m)\n",
      "  - Locking \u001b[32msymfony/deprecation-contracts\u001b[39m (\u001b[33mv3.1.1\u001b[39m)\n",
      "  - Locking \u001b[32msymfony/event-dispatcher\u001b[39m (\u001b[33mv6.1.0\u001b[39m)\n",
      "  - Locking \u001b[32msymfony/event-dispatcher-contracts\u001b[39m (\u001b[33mv3.1.1\u001b[39m)\n",
      "  - Locking \u001b[32msymfony/filesystem\u001b[39m (\u001b[33mv6.1.5\u001b[39m)\n",
      "  - Locking \u001b[32msymfony/finder\u001b[39m (\u001b[33mv6.1.3\u001b[39m)\n",
      "  - Locking \u001b[32msymfony/options-resolver\u001b[39m (\u001b[33mv6.1.0\u001b[39m)\n",
      "  - Locking \u001b[32msymfony/polyfill-ctype\u001b[39m (\u001b[33mv1.26.0\u001b[39m)\n",
      "  - Locking \u001b[32msymfony/polyfill-intl-grapheme\u001b[39m (\u001b[33mv1.26.0\u001b[39m)\n",
      "  - Locking \u001b[32msymfony/polyfill-intl-normalizer\u001b[39m (\u001b[33mv1.26.0\u001b[39m)\n",
      "  - Locking \u001b[32msymfony/polyfill-mbstring\u001b[39m (\u001b[33mv1.26.0\u001b[39m)\n",
      "  - Locking \u001b[32msymfony/polyfill-php80\u001b[39m (\u001b[33mv1.26.0\u001b[39m)\n",
      "  - Locking \u001b[32msymfony/polyfill-php81\u001b[39m (\u001b[33mv1.26.0\u001b[39m)\n",
      "  - Locking \u001b[32msymfony/process\u001b[39m (\u001b[33mv6.1.3\u001b[39m)\n",
      "  - Locking \u001b[32msymfony/service-contracts\u001b[39m (\u001b[33mv3.1.1\u001b[39m)\n",
      "  - Locking \u001b[32msymfony/stopwatch\u001b[39m (\u001b[33mv6.1.5\u001b[39m)\n",
      "  - Locking \u001b[32msymfony/string\u001b[39m (\u001b[33mv6.1.7\u001b[39m)\n",
      "\u001b[32mWriting lock file\u001b[39m\n",
      "\u001b[32mInstalling dependencies from lock file (including require-dev)\u001b[39m\n",
      "\u001b[32mPackage operations: 34 installs, 0 updates, 0 removals\u001b[39m\n",
      "  - Downloading \u001b[32mcomposer/pcre\u001b[39m (\u001b[33m3.0.0\u001b[39m)\n",
      "  - Downloading \u001b[32mdoctrine/lexer\u001b[39m (\u001b[33m1.2.3\u001b[39m)\n",
      "  - Downloading \u001b[32msymfony/stopwatch\u001b[39m (\u001b[33mv6.1.5\u001b[39m)\n",
      "  - Downloading \u001b[32msymfony/process\u001b[39m (\u001b[33mv6.1.3\u001b[39m)\n",
      "  - Downloading \u001b[32msymfony/options-resolver\u001b[39m (\u001b[33mv6.1.0\u001b[39m)\n",
      "  - Downloading \u001b[32msymfony/finder\u001b[39m (\u001b[33mv6.1.3\u001b[39m)\n",
      "  - Downloading \u001b[32msymfony/filesystem\u001b[39m (\u001b[33mv6.1.5\u001b[39m)\n",
      "  - Downloading \u001b[32mpsr/event-dispatcher\u001b[39m (\u001b[33m1.0.0\u001b[39m)\n",
      "  - Downloading \u001b[32msymfony/event-dispatcher-contracts\u001b[39m (\u001b[33mv3.1.1\u001b[39m)\n",
      "  - Downloading \u001b[32msymfony/event-dispatcher\u001b[39m (\u001b[33mv6.1.0\u001b[39m)\n",
      "  - Downloading \u001b[32msymfony/string\u001b[39m (\u001b[33mv6.1.7\u001b[39m)\n",
      "  - Downloading \u001b[32msymfony/console\u001b[39m (\u001b[33mv6.1.7\u001b[39m)\n",
      "  - Downloading \u001b[32msebastian/diff\u001b[39m (\u001b[33m4.0.4\u001b[39m)\n",
      "  - Downloading \u001b[32mpsr/cache\u001b[39m (\u001b[33m3.0.0\u001b[39m)\n",
      "  - Downloading \u001b[32mdoctrine/annotations\u001b[39m (\u001b[33m1.13.3\u001b[39m)\n",
      "  - Downloading \u001b[32mpsr/log\u001b[39m (\u001b[33m3.0.0\u001b[39m)\n",
      "  - Downloading \u001b[32mcomposer/xdebug-handler\u001b[39m (\u001b[33m3.0.3\u001b[39m)\n",
      "  - Downloading \u001b[32mcomposer/semver\u001b[39m (\u001b[33m3.3.2\u001b[39m)\n",
      "  - Downloading \u001b[32mfriendsofphp/php-cs-fixer\u001b[39m (\u001b[33mv3.13.0\u001b[39m)\n",
      "  - Downloading \u001b[32mphpstan/phpstan\u001b[39m (\u001b[33m1.8.11\u001b[39m)\n",
      "  - Downloading \u001b[32msebastian/version\u001b[39m (\u001b[33m3.0.2\u001b[39m)\n",
      "  - Downloading \u001b[32msebastian/cli-parser\u001b[39m (\u001b[33m1.0.1\u001b[39m)\n",
      "  - Downloading \u001b[32mphpunit/php-timer\u001b[39m (\u001b[33m5.0.3\u001b[39m)\n",
      "  - Downloading \u001b[32mphpunit/php-file-iterator\u001b[39m (\u001b[33m3.0.6\u001b[39m)\n",
      "  - Downloading \u001b[32msebastian/phpcpd\u001b[39m (\u001b[33m6.0.3\u001b[39m)\n",
      "  0/25 [>---------------------------]   0%\u001b[1G\u001b[2K 10/25 [===========>----------------]  40%\u001b[1G\u001b[2K 15/25 [================>-----------]  60%\u001b[1G\u001b[2K 20/25 [======================>-----]  80%\u001b[1G\u001b[2K 23/25 [=========================>--]  92%\u001b[1G\u001b[2K 24/25 [==========================>-]  96%\u001b[1G\u001b[2K 25/25 [============================] 100%\u001b[1G\u001b[2K  - Installing \u001b[32mcomposer/pcre\u001b[39m (\u001b[33m3.0.0\u001b[39m): Extracting archive\n",
      "  - Installing \u001b[32mdoctrine/lexer\u001b[39m (\u001b[33m1.2.3\u001b[39m): Extracting archive\n",
      "  - Installing \u001b[32mpsr/container\u001b[39m (\u001b[33m2.0.2\u001b[39m): Extracting archive\n",
      "  - Installing \u001b[32msymfony/service-contracts\u001b[39m (\u001b[33mv3.1.1\u001b[39m): Extracting archive\n",
      "  - Installing \u001b[32msymfony/stopwatch\u001b[39m (\u001b[33mv6.1.5\u001b[39m): Extracting archive\n",
      "  - Installing \u001b[32msymfony/process\u001b[39m (\u001b[33mv6.1.3\u001b[39m): Extracting archive\n",
      "  - Installing \u001b[32msymfony/polyfill-php81\u001b[39m (\u001b[33mv1.26.0\u001b[39m): Extracting archive\n",
      "  - Installing \u001b[32msymfony/polyfill-php80\u001b[39m (\u001b[33mv1.26.0\u001b[39m): Extracting archive\n",
      "  - Installing \u001b[32msymfony/polyfill-mbstring\u001b[39m (\u001b[33mv1.26.0\u001b[39m): Extracting archive\n",
      "  - Installing \u001b[32msymfony/deprecation-contracts\u001b[39m (\u001b[33mv3.1.1\u001b[39m): Extracting archive\n",
      "  - Installing \u001b[32msymfony/options-resolver\u001b[39m (\u001b[33mv6.1.0\u001b[39m): Extracting archive\n",
      "  - Installing \u001b[32msymfony/finder\u001b[39m (\u001b[33mv6.1.3\u001b[39m): Extracting archive\n",
      "  - Installing \u001b[32msymfony/polyfill-ctype\u001b[39m (\u001b[33mv1.26.0\u001b[39m): Extracting archive\n",
      "  - Installing \u001b[32msymfony/filesystem\u001b[39m (\u001b[33mv6.1.5\u001b[39m): Extracting archive\n",
      "  - Installing \u001b[32mpsr/event-dispatcher\u001b[39m (\u001b[33m1.0.0\u001b[39m): Extracting archive\n",
      "  - Installing \u001b[32msymfony/event-dispatcher-contracts\u001b[39m (\u001b[33mv3.1.1\u001b[39m): Extracting archive\n",
      "  - Installing \u001b[32msymfony/event-dispatcher\u001b[39m (\u001b[33mv6.1.0\u001b[39m): Extracting archive\n",
      "  - Installing \u001b[32msymfony/polyfill-intl-normalizer\u001b[39m (\u001b[33mv1.26.0\u001b[39m): Extracting archive\n",
      "  - Installing \u001b[32msymfony/polyfill-intl-grapheme\u001b[39m (\u001b[33mv1.26.0\u001b[39m): Extracting archive\n",
      "  - Installing \u001b[32msymfony/string\u001b[39m (\u001b[33mv6.1.7\u001b[39m): Extracting archive\n",
      "  - Installing \u001b[32msymfony/console\u001b[39m (\u001b[33mv6.1.7\u001b[39m): Extracting archive\n",
      "  - Installing \u001b[32msebastian/diff\u001b[39m (\u001b[33m4.0.4\u001b[39m): Extracting archive\n",
      "  - Installing \u001b[32mpsr/cache\u001b[39m (\u001b[33m3.0.0\u001b[39m): Extracting archive\n",
      "  - Installing \u001b[32mdoctrine/annotations\u001b[39m (\u001b[33m1.13.3\u001b[39m): Extracting archive\n",
      "  - Installing \u001b[32mpsr/log\u001b[39m (\u001b[33m3.0.0\u001b[39m): Extracting archive\n",
      "  - Installing \u001b[32mcomposer/xdebug-handler\u001b[39m (\u001b[33m3.0.3\u001b[39m): Extracting archive\n",
      "  - Installing \u001b[32mcomposer/semver\u001b[39m (\u001b[33m3.3.2\u001b[39m): Extracting archive\n",
      "  - Installing \u001b[32mfriendsofphp/php-cs-fixer\u001b[39m (\u001b[33mv3.13.0\u001b[39m): Extracting archive\n",
      "  - Installing \u001b[32mphpstan/phpstan\u001b[39m (\u001b[33m1.8.11\u001b[39m): Extracting archive\n",
      "  - Installing \u001b[32msebastian/version\u001b[39m (\u001b[33m3.0.2\u001b[39m): Extracting archive\n",
      "  - Installing \u001b[32msebastian/cli-parser\u001b[39m (\u001b[33m1.0.1\u001b[39m): Extracting archive\n",
      "  - Installing \u001b[32mphpunit/php-timer\u001b[39m (\u001b[33m5.0.3\u001b[39m): Extracting archive\n",
      "  - Installing \u001b[32mphpunit/php-file-iterator\u001b[39m (\u001b[33m3.0.6\u001b[39m): Extracting archive\n",
      "  - Installing \u001b[32msebastian/phpcpd\u001b[39m (\u001b[33m6.0.3\u001b[39m): Extracting archive\n",
      "  0/34 [>---------------------------]   0%\u001b[1G\u001b[2K 20/34 [================>-----------]  58%\u001b[1G\u001b[2K 33/34 [===========================>]  97%\u001b[1G\u001b[2K 34/34 [============================] 100%\u001b[1G\u001b[2K\u001b[32m6 package suggestions were added by new dependencies, use `composer suggest` to see details.\u001b[39m\n",
      "\u001b[32mGenerating autoload files\u001b[39m\n",
      "\u001b[32m29 packages you are using are looking for funding.\u001b[39m\n",
      "\u001b[32mUse the `composer fund` command to find out more!\u001b[39m\n",
      "\u001b[32mNo security vulnerability advisories found\u001b[39m\n"
     ]
    }
   ],
   "source": [
    "! composer global require friendsofphp/php-cs-fixer phpstan/phpstan sebastian/phpcpd"
   ]
  },
  {
   "cell_type": "code",
   "execution_count": 27,
   "metadata": {},
   "outputs": [
    {
     "name": "stdout",
     "output_type": "stream",
     "text": [
      "Loaded config \u001b[33mdefault\u001b[39m.\n",
      "Using cache file \".php-cs-fixer.cache\".\n",
      "   1) project/src/Storage/SQLiteStorage.php\n",
      "\n",
      "Fixed all files in 0.022 seconds, 12.000 MB memory used\n"
     ]
    }
   ],
   "source": [
    "! ~/.composer/vendor/bin/php-cs-fixer fix --diff --dry-run  project/"
   ]
  },
  {
   "cell_type": "code",
   "execution_count": 28,
   "metadata": {},
   "outputs": [
    {
     "name": "stdout",
     "output_type": "stream",
     "text": [
      "  0/14 [░░░░░░░░░░░░░░░░░░░░░░░░░░░░]   0%\u001b[1G\u001b[2K 14/14 [▓▓▓▓▓▓▓▓▓▓▓▓▓▓▓▓▓▓▓▓▓▓▓▓▓▓▓▓] 100%\n",
      "\n",
      "\n",
      "\u001b[30;42m                                                                                \u001b[39;49m\n",
      "\u001b[30;42m [OK] No errors                                                                 \u001b[39;49m\n",
      "\u001b[30;42m                                                                                \u001b[39;49m\n",
      "\n"
     ]
    }
   ],
   "source": [
    "! ~/.composer/vendor/bin/phpstan analyze --level max project/"
   ]
  },
  {
   "cell_type": "code",
   "execution_count": 34,
   "metadata": {},
   "outputs": [
    {
     "name": "stderr",
     "output_type": "stream",
     "text": [
      "[Wed Nov  2 17:22:30 2022] Failed to listen on localhost:8888 (reason: Address already in use)\n"
     ]
    }
   ],
   "source": [
    "import subprocess\n",
    "phpServer = subprocess.Popen(['php', '-S', 'localhost:8888', '-t', 'project/public'])"
   ]
  },
  {
   "cell_type": "code",
   "execution_count": 35,
   "metadata": {},
   "outputs": [
    {
     "name": "stdout",
     "output_type": "stream",
     "text": [
      "\u001b[32mInstalling dependencies from lock file (including require-dev)\u001b[39m\n",
      "\u001b[32mVerifying lock file contents can be installed on current platform.\u001b[39m\n",
      "Nothing to install, update or remove\n",
      "\u001b[30;43mPackage sebastian/resource-operations is abandoned, you should avoid using it. No replacement was suggested.\u001b[39;49m\n",
      "\u001b[32mGenerating autoload files\u001b[39m\n",
      "\u001b[32m44 packages you are using are looking for funding.\u001b[39m\n",
      "\u001b[32mUse the `composer fund` command to find out more!\u001b[39m\n",
      "Codeception PHP Testing Framework v4.1.22\n",
      "Powered by PHPUnit 9.5.9 by Sebastian Bergmann and contributors.\n",
      "\n",
      "\u001b[33mIn Db.php line 581:\u001b[39m\n",
      "\u001b[37;41m                                                                               \u001b[39;49m\n",
      "\u001b[37;41m  Db: SQLSTATE[HY000] [2002] Connection refused while creating PDO connection  \u001b[39;49m\n",
      "\u001b[37;41m                                                                               \u001b[39;49m\n",
      "\n",
      "\u001b[32mrun [-o|--override OVERRIDE] [-e|--ext EXT] [--report] [--html [HTML]] [--xml [XML]] [--phpunit-xml [PHPUNIT-XML]] [--tap [TAP]] [--json [JSON]] [--colors] [--no-colors] [--silent] [--steps] [-d|--debug] [--bootstrap [BOOTSTRAP]] [--no-redirect] [--coverage [COVERAGE]] [--coverage-html [COVERAGE-HTML]] [--coverage-xml [COVERAGE-XML]] [--coverage-text [COVERAGE-TEXT]] [--coverage-crap4j [COVERAGE-CRAP4J]] [--coverage-cobertura [COVERAGE-COBERTURA]] [--coverage-phpunit [COVERAGE-PHPUNIT]] [--no-exit] [-g|--group GROUP] [-s|--skip SKIP] [-x|--skip-group SKIP-GROUP] [--env ENV] [-f|--fail-fast] [--no-rebuild] [--seed SEED] [--no-artifacts] [--] [<suite> [<test>]]\u001b[39m\n",
      "\n"
     ]
    }
   ],
   "source": [
    "! cd tests && composer install && vendor/bin/codecept run"
   ]
  },
  {
   "cell_type": "code",
   "execution_count": 37,
   "metadata": {},
   "outputs": [],
   "source": [
    "phpServer.kill()"
   ]
  },
  {
   "cell_type": "code",
   "execution_count": null,
   "metadata": {},
   "outputs": [],
   "source": [
    "! ~/.composer/vendor/bin/phpcpd --fuzzy --min-lines 1 --min-tokens 10 project/"
   ]
  },
  {
   "cell_type": "markdown",
   "metadata": {},
   "source": [
    "Stop the databse:"
   ]
  },
  {
   "cell_type": "code",
   "execution_count": 2,
   "metadata": {},
   "outputs": [
    {
     "name": "stdout",
     "output_type": "stream",
     "text": [
      "mysql\r\n"
     ]
    }
   ],
   "source": [
    "! docker container stop mysql"
   ]
  },
  {
   "cell_type": "code",
   "execution_count": null,
   "metadata": {},
   "outputs": [],
   "source": []
  }
 ],
 "metadata": {
  "kernelspec": {
   "display_name": "Python 3 (ipykernel)",
   "language": "python",
   "name": "python3"
  },
  "language_info": {
   "codemirror_mode": {
    "name": "ipython",
    "version": 3
   },
   "file_extension": ".py",
   "mimetype": "text/x-python",
   "name": "python",
   "nbconvert_exporter": "python",
   "pygments_lexer": "ipython3",
   "version": "3.10.4"
  }
 },
 "nbformat": 4,
 "nbformat_minor": 4
}
