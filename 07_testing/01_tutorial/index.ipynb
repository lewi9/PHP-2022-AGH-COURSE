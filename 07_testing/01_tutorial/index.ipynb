{
 "cells": [
  {
   "cell_type": "markdown",
   "metadata": {},
   "source": [
    "# PHP 2022"
   ]
  },
  {
   "cell_type": "markdown",
   "metadata": {},
   "source": [
    "## 7. Testing"
   ]
  },
  {
   "cell_type": "markdown",
   "metadata": {},
   "source": [
    "### 7.1 Tutorial"
   ]
  },
  {
   "cell_type": "markdown",
   "metadata": {},
   "source": [
    "Initialise new project:"
   ]
  },
  {
   "cell_type": "code",
   "execution_count": null,
   "metadata": {},
   "outputs": [],
   "source": [
    "! composer init --no-interaction \\\n",
    "    --name=\"ddgg/testing\" \\\n",
    "    --description=\"Simple testing tutorial\" \\\n",
    "    --author=\"Damian Gwiżdż <damian.gwizdz@gmail.com>\" \\\n",
    "    --type=\"project\" \\\n",
    "    --stability=\"stable\" \\\n",
    "    --license=\"MIT\""
   ]
  },
  {
   "cell_type": "markdown",
   "metadata": {},
   "source": [
    "Add some code:"
   ]
  },
  {
   "cell_type": "code",
   "execution_count": null,
   "metadata": {},
   "outputs": [],
   "source": [
    "! touch index.php"
   ]
  },
  {
   "cell_type": "markdown",
   "metadata": {},
   "source": [
    "Open the [index.php](../../../edit/07_testing/01_tutorial/index.php) and add following code:\n",
    "\n",
    "```php\n",
    "<?php\n",
    "\n",
    "$status = \"\";\n",
    "\n",
    "if (isset($_POST['user']) and isset($_POST['password'])) {\n",
    "\n",
    "    $user = $_POST['user'];\n",
    "    $password = $_POST['password'];\n",
    "\n",
    "    if ($user and $password) {\n",
    "\n",
    "        if ($user === \"foo\" and $password == \"foo123\") {\n",
    "            $status = \"OK\";\n",
    "        } else {\n",
    "            $status = \"ERROR\";\n",
    "        }\n",
    "    } else {\n",
    "        $status = \"EMPTY\";\n",
    "    }\n",
    "\n",
    "    echo $status;\n",
    "    exit;\n",
    "}\n",
    "?>\n",
    "\n",
    "<html lang=\"en\">\n",
    "<body>\n",
    "\n",
    "<form method=\"post\">\n",
    "    User: <label>\n",
    "        <input type=\"text\" name=\"user\">\n",
    "    </label>\n",
    "    <br/>\n",
    "    Password: <label>\n",
    "        <input type=\"password\" name=\"password\">\n",
    "    </label><br>\n",
    "    <input type=\"submit\" value=\"Login\">\n",
    "</form>\n",
    "\n",
    "</body>\n",
    "</html>\n",
    "```"
   ]
  },
  {
   "cell_type": "markdown",
   "metadata": {},
   "source": [
    "See whether it works:"
   ]
  },
  {
   "cell_type": "code",
   "execution_count": null,
   "metadata": {},
   "outputs": [],
   "source": [
    "import subprocess\n",
    "phpServer = subprocess.Popen(['php', '-S', 'localhost:8888'])"
   ]
  },
  {
   "cell_type": "markdown",
   "metadata": {},
   "source": [
    "Open [http://localhost:8888](http://localhost:8888) and check the page."
   ]
  },
  {
   "cell_type": "markdown",
   "metadata": {},
   "source": [
    "Install Codeception:"
   ]
  },
  {
   "cell_type": "code",
   "execution_count": null,
   "metadata": {},
   "outputs": [],
   "source": [
    "! composer require codeception/codeception --dev"
   ]
  },
  {
   "cell_type": "code",
   "execution_count": null,
   "metadata": {},
   "outputs": [],
   "source": [
    "! composer require codeception/module-asserts --dev"
   ]
  },
  {
   "cell_type": "code",
   "execution_count": null,
   "metadata": {},
   "outputs": [],
   "source": [
    "! composer require codeception/module-phpbrowser --dev"
   ]
  },
  {
   "cell_type": "markdown",
   "metadata": {},
   "source": [
    "Try running tests:"
   ]
  },
  {
   "cell_type": "code",
   "execution_count": null,
   "metadata": {},
   "outputs": [],
   "source": [
    "! vendor/bin/codecept run"
   ]
  },
  {
   "cell_type": "markdown",
   "metadata": {},
   "source": [
    "Bootstrap Codeception:"
   ]
  },
  {
   "cell_type": "code",
   "execution_count": null,
   "metadata": {},
   "outputs": [],
   "source": [
    "! vendor/bin/codecept bootstrap --no-interaction"
   ]
  },
  {
   "cell_type": "markdown",
   "metadata": {},
   "source": [
    "See the file structure:"
   ]
  },
  {
   "cell_type": "code",
   "execution_count": null,
   "metadata": {},
   "outputs": [],
   "source": [
    "! ls -l | grep -v *ipynb"
   ]
  },
  {
   "cell_type": "code",
   "execution_count": null,
   "metadata": {},
   "outputs": [],
   "source": [
    "! cat codeception.yml"
   ]
  },
  {
   "cell_type": "code",
   "execution_count": null,
   "metadata": {},
   "outputs": [],
   "source": [
    "! ls -lR tests"
   ]
  },
  {
   "cell_type": "markdown",
   "metadata": {},
   "source": [
    "Run tests:"
   ]
  },
  {
   "cell_type": "code",
   "execution_count": null,
   "metadata": {},
   "outputs": [],
   "source": [
    "! vendor/bin/codecept run"
   ]
  },
  {
   "cell_type": "markdown",
   "metadata": {},
   "source": [
    "New Acceptance test:"
   ]
  },
  {
   "cell_type": "code",
   "execution_count": null,
   "metadata": {},
   "outputs": [],
   "source": [
    "! vendor/bin/codecept generate:test Acceptance DemoTest"
   ]
  },
  {
   "cell_type": "markdown",
   "metadata": {},
   "source": [
    "Open the [tests/Acceptance/DemoTest.php](../../../edit/07_testing/01_tutorial/tests/Acceptance/DemoTest.php) file."
   ]
  },
  {
   "cell_type": "code",
   "execution_count": null,
   "metadata": {},
   "outputs": [],
   "source": [
    "! vendor/bin/codecept generate:cest Acceptance DemoCest"
   ]
  },
  {
   "cell_type": "markdown",
   "metadata": {},
   "source": [
    "Open the [tests/acceptance/DemoCest.php](../../../edit/07_testing/01_tutorial/tests/Acceptance/DemoCest.php) file."
   ]
  },
  {
   "cell_type": "code",
   "execution_count": null,
   "metadata": {},
   "outputs": [],
   "source": [
    "! vendor/bin/codecept run"
   ]
  },
  {
   "cell_type": "markdown",
   "metadata": {},
   "source": [
    "Open the [tests/acceptance/DemoCest.php](../../../edit/07_testing/01_tutorial/tests/Acceptance/DemoCest.php) and add following code:\n",
    "\n",
    "```php\n",
    "<?php\n",
    "\n",
    "namespace Tests\\Acceptance;\n",
    "\n",
    "use Tests\\Support\\AcceptanceTester;\n",
    "\n",
    "class DemoCest\n",
    "{\n",
    "    public function login(AcceptanceTester $I)\n",
    "    {\n",
    "        $I->amOnPage(\"/\");\n",
    "        $I->click(\"Login\");\n",
    "        $I->see(\"EMPTY\");\n",
    "\n",
    "        $I->amOnPage(\"/\");\n",
    "        $I->fillField(\"user\", \"foo\");\n",
    "        $I->click(\"Login\");\n",
    "        $I->see(\"EMPTY\");\n",
    "\n",
    "        $I->amOnPage(\"/\");\n",
    "        $I->fillField(\"user\", \"foo\");\n",
    "        $I->fillField(\"password\", \"foo\");\n",
    "        $I->click(\"Login\");\n",
    "        $I->see(\"ERROR\");\n",
    "\n",
    "        $I->amOnPage(\"/\");\n",
    "        $I->fillField(\"user\", \"foo\");\n",
    "        $I->fillField(\"password\", \"foo123\");\n",
    "        $I->click(\"Login\");\n",
    "        $I->see(\"OK\");\n",
    "    }\n",
    "}\n",
    "\n",
    "```"
   ]
  },
  {
   "cell_type": "markdown",
   "metadata": {},
   "source": [
    "Run tests:"
   ]
  },
  {
   "cell_type": "code",
   "execution_count": null,
   "metadata": {},
   "outputs": [],
   "source": [
    "! vendor/bin/codecept run"
   ]
  },
  {
   "cell_type": "markdown",
   "metadata": {},
   "source": [
    "To fix the URL in configuration open the [tests/Acceptance.suite.yml](../../../edit/07_testing/01_tutorial/tests/Acceptance.suite.yml) and change:\n",
    "\n",
    "```yml\n",
    "modules:\n",
    "    enabled:\n",
    "        - PhpBrowser:\n",
    "            url: http://localhost/myapp\n",
    "```\n",
    "\n",
    "to\n",
    "\n",
    "```yml\n",
    "modules:\n",
    "    enabled:\n",
    "        - PhpBrowser:\n",
    "            url: http://localhost:8888\n",
    "```"
   ]
  },
  {
   "cell_type": "markdown",
   "metadata": {},
   "source": [
    "Run tests:"
   ]
  },
  {
   "cell_type": "code",
   "execution_count": null,
   "metadata": {},
   "outputs": [],
   "source": [
    "! vendor/bin/codecept run"
   ]
  },
  {
   "cell_type": "markdown",
   "metadata": {},
   "source": [
    "Tests should now be green!"
   ]
  },
  {
   "cell_type": "markdown",
   "metadata": {},
   "source": [
    "Install WebDriver:"
   ]
  },
  {
   "cell_type": "code",
   "execution_count": null,
   "metadata": {},
   "outputs": [],
   "source": [
    "! composer require --dev codeception/module-webdriver"
   ]
  },
  {
   "cell_type": "markdown",
   "metadata": {},
   "source": [
    "To fix the URL in configuration open the [tests/Acceptance.suite.yml](../../../edit/07_testing/01_tutorial/tests/Acceptance.suite.yml) and change:\n",
    "\n",
    "```yml\n",
    "modules:\n",
    "    enabled:\n",
    "        - PhpBrowser:\n",
    "            url: http://localhost:8888\n",
    "```\n",
    "\n",
    "to\n",
    "\n",
    "```yml\n",
    "modules:\n",
    "    enabled:\n",
    "        - WebDriver:\n",
    "            url: http://localhost:8888\n",
    "            browser: chrome\n",
    "```"
   ]
  },
  {
   "cell_type": "markdown",
   "metadata": {},
   "source": [
    "Run tests:"
   ]
  },
  {
   "cell_type": "code",
   "execution_count": null,
   "metadata": {},
   "outputs": [],
   "source": [
    "! vendor/bin/codecept run"
   ]
  },
  {
   "cell_type": "markdown",
   "metadata": {},
   "source": [
    "Start Selenium:"
   ]
  },
  {
   "cell_type": "code",
   "execution_count": null,
   "metadata": {},
   "outputs": [],
   "source": [
    "import subprocess\n",
    "seleniumServer = subprocess.Popen(['java', '-jar', 'selenium-server-4.4.0.jar', 'standalone'], cwd='/opt/selenium/')"
   ]
  },
  {
   "cell_type": "markdown",
   "metadata": {},
   "source": [
    "Run tests:"
   ]
  },
  {
   "cell_type": "code",
   "execution_count": null,
   "metadata": {},
   "outputs": [],
   "source": [
    "! vendor/bin/codecept run"
   ]
  },
  {
   "cell_type": "markdown",
   "metadata": {},
   "source": [
    "You should see the browser window during tests execution. Tests should be green."
   ]
  },
  {
   "cell_type": "markdown",
   "metadata": {},
   "source": [
    "Stop Selenium:"
   ]
  },
  {
   "cell_type": "code",
   "execution_count": null,
   "metadata": {},
   "outputs": [],
   "source": [
    "seleniumServer.kill()"
   ]
  },
  {
   "cell_type": "markdown",
   "metadata": {},
   "source": [
    "Stop the server:"
   ]
  },
  {
   "cell_type": "code",
   "execution_count": null,
   "metadata": {},
   "outputs": [],
   "source": [
    "phpServer.kill()"
   ]
  },
  {
   "cell_type": "markdown",
   "metadata": {},
   "source": [
    "Cleanup:"
   ]
  },
  {
   "cell_type": "code",
   "execution_count": null,
   "metadata": {},
   "outputs": [],
   "source": [
    "! git clean -fdx ."
   ]
  }
 ],
 "metadata": {
  "kernelspec": {
   "display_name": "Python 3 (ipykernel)",
   "language": "python",
   "name": "python3"
  },
  "language_info": {
   "codemirror_mode": {
    "name": "ipython",
    "version": 3
   },
   "file_extension": ".py",
   "mimetype": "text/x-python",
   "name": "python",
   "nbconvert_exporter": "python",
   "pygments_lexer": "ipython3",
   "version": "3.10.6"
  }
 },
 "nbformat": 4,
 "nbformat_minor": 4
}
