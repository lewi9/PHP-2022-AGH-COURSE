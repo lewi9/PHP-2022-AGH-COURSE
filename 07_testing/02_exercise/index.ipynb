{
 "cells": [
  {
   "cell_type": "markdown",
   "metadata": {},
   "source": [
    "# PHP 2022"
   ]
  },
  {
   "cell_type": "markdown",
   "metadata": {},
   "source": [
    "## 7. Testing"
   ]
  },
  {
   "cell_type": "markdown",
   "metadata": {},
   "source": [
    "### 7.2 Exercise"
   ]
  },
  {
   "cell_type": "markdown",
   "metadata": {},
   "source": [
    "Implment missing code."
   ]
  },
  {
   "cell_type": "markdown",
   "metadata": {},
   "source": [
    "Start the databses:"
   ]
  },
  {
   "cell_type": "code",
   "execution_count": 1,
   "metadata": {},
   "outputs": [
    {
     "name": "stdout",
     "output_type": "stream",
     "text": [
      "f8ea7e7792f8e877980fd0424c2b8ba0492b043871e1675db05303b57ef6ef16\r\n"
     ]
    }
   ],
   "source": [
    "! docker run --net=host --rm --name redis -d redis"
   ]
  },
  {
   "cell_type": "code",
   "execution_count": 2,
   "metadata": {},
   "outputs": [
    {
     "name": "stdout",
     "output_type": "stream",
     "text": [
      "0fdb40fbd9d42bc7a66b809ea538a6b26ff7fc3e97bf2a157b2688e963e80aa8\r\n"
     ]
    }
   ],
   "source": [
    "! docker run --name=mysql --net=host --rm --env MYSQL_ROOT_PASSWORD=root123 --env MYSQL_DATABASE=test --env MYSQL_USER=test --env MYSQL_PASSWORD=test123 -d mysql/mysql-server:8.0"
   ]
  },
  {
   "cell_type": "code",
   "execution_count": 3,
   "metadata": {},
   "outputs": [
    {
     "name": "stdout",
     "output_type": "stream",
     "text": [
      "Done.\r\n"
     ]
    }
   ],
   "source": [
    "! while ! timeout 1 bash -c \"echo > /dev/tcp/localhost/6379\" 2> /dev/null; do sleep 1; done; echo \"Done.\";"
   ]
  },
  {
   "cell_type": "code",
   "execution_count": 4,
   "metadata": {},
   "outputs": [
    {
     "name": "stdout",
     "output_type": "stream",
     "text": [
      "Done.\r\n"
     ]
    }
   ],
   "source": [
    "! while ! timeout 1 bash -c \"echo > /dev/tcp/localhost/3306\" 2> /dev/null; do sleep 1; done; echo \"Done.\";"
   ]
  },
  {
   "cell_type": "markdown",
   "metadata": {},
   "source": [
    "Edit the code:"
   ]
  },
  {
   "cell_type": "code",
   "execution_count": null,
   "metadata": {},
   "outputs": [
    {
     "name": "stdout",
     "output_type": "stream",
     "text": [
      "CompileCommand: exclude com/intellij/openapi/vfs/impl/FilePartNodeRoot.trieDescend bool exclude = true\n",
      "2022-11-20 18:15:59,462 [   1224] SEVERE - #c.i.d.LoadingState - Should be called at least in the state COMPONENTS_LOADED, the current state is: CONFIGURATION_STORE_INITIALIZED\n",
      "Current violators count: 1\n",
      "\n",
      "\n",
      "java.lang.Throwable\n",
      "\tat com.intellij.diagnostic.LoadingState.logStateError(LoadingState.java:52)\n",
      "\tat com.intellij.diagnostic.LoadingState.checkOccurred(LoadingState.java:48)\n",
      "\tat com.intellij.openapi.actionSystem.impl.ActionManagerImpl.<init>(ActionManagerImpl.java:133)\n",
      "\tat com.jetbrains.rdserver.ui.actionPopupMenu.BackendActionManager.<init>(BackendActionManager.kt:17)\n",
      "\tat java.base/jdk.internal.reflect.NativeConstructorAccessorImpl.newInstance0(Native Method)\n",
      "\tat java.base/jdk.internal.reflect.NativeConstructorAccessorImpl.newInstance(NativeConstructorAccessorImpl.java:77)\n",
      "\tat java.base/jdk.internal.reflect.DelegatingConstructorAccessorImpl.newInstance(DelegatingConstructorAccessorImpl.java:45)\n",
      "\tat java.base/java.lang.reflect.Constructor.newInstanceWithCaller(Constructor.java:499)\n",
      "\tat java.base/java.lang.reflect.Constructor.newInstance(Constructor.java:480)\n",
      "\tat com.intellij.serviceContainer.ConstructorInjectionKt.instantiateUsingPicoContainer(constructorInjection.kt:47)\n",
      "\tat com.intellij.serviceContainer.ComponentManagerImpl.instantiateClassWithConstructorInjection(ComponentManagerImpl.kt:890)\n",
      "\tat com.intellij.serviceContainer.ServiceComponentAdapter.createAndInitialize(ServiceComponentAdapter.kt:51)\n",
      "\tat com.intellij.serviceContainer.ServiceComponentAdapter.doCreateInstance(ServiceComponentAdapter.kt:41)\n",
      "\tat com.intellij.serviceContainer.BaseComponentAdapter.getInstanceUncached(BaseComponentAdapter.kt:119)\n",
      "\tat com.intellij.serviceContainer.BaseComponentAdapter.getInstance(BaseComponentAdapter.kt:73)\n",
      "\tat com.intellij.serviceContainer.BaseComponentAdapter.getInstance$default(BaseComponentAdapter.kt:66)\n",
      "\tat com.intellij.serviceContainer.ComponentManagerImpl.doGetService(ComponentManagerImpl.kt:609)\n",
      "\tat com.intellij.serviceContainer.ComponentManagerImpl.getService(ComponentManagerImpl.kt:583)\n",
      "\tat com.intellij.openapi.client.ClientAwareComponentManager.getFromSelfOrCurrentSession(ClientAwareComponentManager.kt:37)\n",
      "\tat com.intellij.openapi.client.ClientAwareComponentManager.getService(ClientAwareComponentManager.kt:22)\n",
      "\tat com.intellij.openapi.actionSystem.ActionManager.getInstance(ActionManager.java:29)\n",
      "\tat com.intellij.help.impl.KeymapGenerator.<clinit>(KeymapGenerator.java:33)\n",
      "\tat java.base/jdk.internal.misc.Unsafe.allocateInstance(Native Method)\n",
      "\tat java.base/java.lang.invoke.DirectMethodHandle.allocateInstance(DirectMethodHandle.java:520)\n",
      "\tat com.intellij.serviceContainer.ComponentManagerImpl.instantiateClass(ComponentManagerImpl.kt:844)\n",
      "\tat com.intellij.openapi.extensions.impl.XmlExtensionAdapter.instantiateClass(XmlExtensionAdapter.kt:79)\n",
      "\tat com.intellij.openapi.extensions.impl.XmlExtensionAdapter$SimpleConstructorInjectionAdapter.instantiateClass(XmlExtensionAdapter.kt:90)\n",
      "\tat com.intellij.openapi.extensions.impl.XmlExtensionAdapter.doCreateInstance(XmlExtensionAdapter.kt:50)\n",
      "\tat com.intellij.openapi.extensions.impl.XmlExtensionAdapter.createInstance(XmlExtensionAdapter.kt:31)\n",
      "\tat com.intellij.openapi.extensions.impl.ExtensionPointImpl.processAdapter(ExtensionPointImpl.java:447)\n",
      "\tat com.intellij.openapi.extensions.impl.ExtensionPointImpl.access$200(ExtensionPointImpl.java:33)\n",
      "\tat com.intellij.openapi.extensions.impl.ExtensionPointImpl$1.next(ExtensionPointImpl.java:355)\n",
      "\tat com.intellij.idea.ApplicationLoader.findAppStarter(ApplicationLoader.kt:595)\n",
      "\tat com.intellij.idea.ApplicationLoader.access$findAppStarter(ApplicationLoader.kt:1)\n",
      "\tat com.intellij.idea.ApplicationLoader$initApplication$block$3.apply(ApplicationLoader.kt:170)\n",
      "\tat com.intellij.idea.ApplicationLoader$initApplication$block$3.apply(ApplicationLoader.kt)\n",
      "\tat java.base/java.util.concurrent.CompletableFuture$UniCompose.tryFire(CompletableFuture.java:1150)\n",
      "\tat java.base/java.util.concurrent.CompletableFuture.postComplete(CompletableFuture.java:510)\n",
      "\tat java.base/java.util.concurrent.CompletableFuture.postFire(CompletableFuture.java:614)\n",
      "\tat java.base/java.util.concurrent.CompletableFuture$UniCompose.tryFire(CompletableFuture.java:1163)\n",
      "\tat java.base/java.util.concurrent.CompletableFuture$Completion.run(CompletableFuture.java:482)\n",
      "\tat com.intellij.idea.ApplicationLoader$initApplication$block$2.execute(ApplicationLoader.kt:142)\n",
      "\tat java.base/java.util.concurrent.CompletableFuture$UniCompletion.claim(CompletableFuture.java:572)\n",
      "\tat java.base/java.util.concurrent.CompletableFuture$UniCompose.tryFire(CompletableFuture.java:1147)\n",
      "\tat java.base/java.util.concurrent.CompletableFuture.postComplete(CompletableFuture.java:510)\n",
      "\tat java.base/java.util.concurrent.CompletableFuture.postFire(CompletableFuture.java:614)\n",
      "\tat java.base/java.util.concurrent.CompletableFuture$UniCompose.tryFire(CompletableFuture.java:1163)\n",
      "\tat java.base/java.util.concurrent.CompletableFuture$Completion.exec(CompletableFuture.java:483)\n",
      "\tat java.base/java.util.concurrent.ForkJoinTask.doExec(ForkJoinTask.java:373)\n",
      "\tat java.base/java.util.concurrent.ForkJoinPool$WorkQueue.topLevelExec(ForkJoinPool.java:1182)\n",
      "\tat java.base/java.util.concurrent.ForkJoinPool.scan(ForkJoinPool.java:1655)\n",
      "\tat java.base/java.util.concurrent.ForkJoinPool.runWorker(ForkJoinPool.java:1622)\n",
      "\tat java.base/java.util.concurrent.ForkJoinWorkerThread.run(ForkJoinWorkerThread.java:165)\n",
      "2022-11-20 18:15:59,473 [   1235] SEVERE - #c.i.d.LoadingState - PhpStorm 2022.2.3  Build #PS-222.4345.15\n",
      "2022-11-20 18:15:59,474 [   1236] SEVERE - #c.i.d.LoadingState - JDK: 17.0.4.1; VM: OpenJDK 64-Bit Server VM; Vendor: JetBrains s.r.o.\n",
      "2022-11-20 18:15:59,475 [   1237] SEVERE - #c.i.d.LoadingState - OS: Linux\n",
      "2022-11-20 18:16:00,025 [   1787] SEVERE - #c.i.d.LoadingState - Should be called at least in the state COMPONENTS_LOADED, the current state is: CONFIGURATION_STORE_INITIALIZED\n",
      "Current violators count: 2\n",
      "\n",
      "\n",
      "java.lang.Throwable\n",
      "\tat com.intellij.diagnostic.LoadingState.logStateError(LoadingState.java:52)\n",
      "\tat com.intellij.diagnostic.LoadingState.checkOccurred(LoadingState.java:48)\n",
      "\tat com.intellij.openapi.util.registry.Registry.getInstance(Registry.java:176)\n",
      "\tat com.intellij.openapi.util.registry.Registry.get(Registry.java:50)\n",
      "\tat com.intellij.openapi.util.registry.Registry.is(Registry.java:63)\n",
      "\tat com.intellij.execution.ExecutorRegistryImpl.isExecutorInMainGroup(ExecutorRegistryImpl.java:195)\n",
      "\tat com.intellij.execution.ExecutorRegistryImpl.initExecutorActions(ExecutorRegistryImpl.java:127)\n",
      "\tat com.intellij.execution.ExecutorRegistryImpl.init(ExecutorRegistryImpl.java:278)\n",
      "\tat com.intellij.execution.ExecutorRegistryImpl$ExecutorRegistryActionConfigurationTuner.customize(ExecutorRegistryImpl.java:92)\n",
      "\tat com.intellij.openapi.actionSystem.impl.ActionManagerImpl.lambda$new$0(ActionManagerImpl.java:141)\n",
      "\tat com.intellij.openapi.extensions.impl.ExtensionProcessingHelper.forEachExtensionSafe(ExtensionProcessingHelper.java:34)\n",
      "\tat com.intellij.openapi.extensions.ExtensionPointName.forEachExtensionSafe(ExtensionPointName.java:46)\n",
      "\tat com.intellij.openapi.actionSystem.impl.ActionManagerImpl.<init>(ActionManagerImpl.java:141)\n",
      "\tat com.jetbrains.rdserver.ui.actionPopupMenu.BackendActionManager.<init>(BackendActionManager.kt:17)\n",
      "\tat java.base/jdk.internal.reflect.NativeConstructorAccessorImpl.newInstance0(Native Method)\n",
      "\tat java.base/jdk.internal.reflect.NativeConstructorAccessorImpl.newInstance(NativeConstructorAccessorImpl.java:77)\n",
      "\tat java.base/jdk.internal.reflect.DelegatingConstructorAccessorImpl.newInstance(DelegatingConstructorAccessorImpl.java:45)\n",
      "\tat java.base/java.lang.reflect.Constructor.newInstanceWithCaller(Constructor.java:499)\n",
      "\tat java.base/java.lang.reflect.Constructor.newInstance(Constructor.java:480)\n",
      "\tat com.intellij.serviceContainer.ConstructorInjectionKt.instantiateUsingPicoContainer(constructorInjection.kt:47)\n",
      "\tat com.intellij.serviceContainer.ComponentManagerImpl.instantiateClassWithConstructorInjection(ComponentManagerImpl.kt:890)\n",
      "\tat com.intellij.serviceContainer.ServiceComponentAdapter.createAndInitialize(ServiceComponentAdapter.kt:51)\n",
      "\tat com.intellij.serviceContainer.ServiceComponentAdapter.doCreateInstance(ServiceComponentAdapter.kt:41)\n",
      "\tat com.intellij.serviceContainer.BaseComponentAdapter.getInstanceUncached(BaseComponentAdapter.kt:119)\n",
      "\tat com.intellij.serviceContainer.BaseComponentAdapter.getInstance(BaseComponentAdapter.kt:73)\n",
      "\tat com.intellij.serviceContainer.BaseComponentAdapter.getInstance$default(BaseComponentAdapter.kt:66)\n",
      "\tat com.intellij.serviceContainer.ComponentManagerImpl.doGetService(ComponentManagerImpl.kt:609)\n",
      "\tat com.intellij.serviceContainer.ComponentManagerImpl.getService(ComponentManagerImpl.kt:583)\n",
      "\tat com.intellij.openapi.client.ClientAwareComponentManager.getFromSelfOrCurrentSession(ClientAwareComponentManager.kt:37)\n",
      "\tat com.intellij.openapi.client.ClientAwareComponentManager.getService(ClientAwareComponentManager.kt:22)\n",
      "\tat com.intellij.openapi.actionSystem.ActionManager.getInstance(ActionManager.java:29)\n",
      "\tat com.intellij.help.impl.KeymapGenerator.<clinit>(KeymapGenerator.java:33)\n",
      "\tat java.base/jdk.internal.misc.Unsafe.allocateInstance(Native Method)\n",
      "\tat java.base/java.lang.invoke.DirectMethodHandle.allocateInstance(DirectMethodHandle.java:520)\n",
      "\tat com.intellij.serviceContainer.ComponentManagerImpl.instantiateClass(ComponentManagerImpl.kt:844)\n",
      "\tat com.intellij.openapi.extensions.impl.XmlExtensionAdapter.instantiateClass(XmlExtensionAdapter.kt:79)\n",
      "\tat com.intellij.openapi.extensions.impl.XmlExtensionAdapter$SimpleConstructorInjectionAdapter.instantiateClass(XmlExtensionAdapter.kt:90)\n",
      "\tat com.intellij.openapi.extensions.impl.XmlExtensionAdapter.doCreateInstance(XmlExtensionAdapter.kt:50)\n",
      "\tat com.intellij.openapi.extensions.impl.XmlExtensionAdapter.createInstance(XmlExtensionAdapter.kt:31)\n",
      "\tat com.intellij.openapi.extensions.impl.ExtensionPointImpl.processAdapter(ExtensionPointImpl.java:447)\n",
      "\tat com.intellij.openapi.extensions.impl.ExtensionPointImpl.access$200(ExtensionPointImpl.java:33)\n",
      "\tat com.intellij.openapi.extensions.impl.ExtensionPointImpl$1.next(ExtensionPointImpl.java:355)\n",
      "\tat com.intellij.idea.ApplicationLoader.findAppStarter(ApplicationLoader.kt:595)\n",
      "\tat com.intellij.idea.ApplicationLoader.access$findAppStarter(ApplicationLoader.kt:1)\n",
      "\tat com.intellij.idea.ApplicationLoader$initApplication$block$3.apply(ApplicationLoader.kt:170)\n",
      "\tat com.intellij.idea.ApplicationLoader$initApplication$block$3.apply(ApplicationLoader.kt)\n",
      "\tat java.base/java.util.concurrent.CompletableFuture$UniCompose.tryFire(CompletableFuture.java:1150)\n",
      "\tat java.base/java.util.concurrent.CompletableFuture.postComplete(CompletableFuture.java:510)\n",
      "\tat java.base/java.util.concurrent.CompletableFuture.postFire(CompletableFuture.java:614)\n",
      "\tat java.base/java.util.concurrent.CompletableFuture$UniCompose.tryFire(CompletableFuture.java:1163)\n",
      "\tat java.base/java.util.concurrent.CompletableFuture$Completion.run(CompletableFuture.java:482)\n",
      "\tat com.intellij.idea.ApplicationLoader$initApplication$block$2.execute(ApplicationLoader.kt:142)\n",
      "\tat java.base/java.util.concurrent.CompletableFuture$UniCompletion.claim(CompletableFuture.java:572)\n",
      "\tat java.base/java.util.concurrent.CompletableFuture$UniCompose.tryFire(CompletableFuture.java:1147)\n",
      "\tat java.base/java.util.concurrent.CompletableFuture.postComplete(CompletableFuture.java:510)\n",
      "\tat java.base/java.util.concurrent.CompletableFuture.postFire(CompletableFuture.java:614)\n",
      "\tat java.base/java.util.concurrent.CompletableFuture$UniCompose.tryFire(CompletableFuture.java:1163)\n",
      "\tat java.base/java.util.concurrent.CompletableFuture$Completion.exec(CompletableFuture.java:483)\n",
      "\tat java.base/java.util.concurrent.ForkJoinTask.doExec(ForkJoinTask.java:373)\n",
      "\tat java.base/java.util.concurrent.ForkJoinPool$WorkQueue.topLevelExec(ForkJoinPool.java:1182)\n",
      "\tat java.base/java.util.concurrent.ForkJoinPool.scan(ForkJoinPool.java:1655)\n",
      "\tat java.base/java.util.concurrent.ForkJoinPool.runWorker(ForkJoinPool.java:1622)\n",
      "\tat java.base/java.util.concurrent.ForkJoinWorkerThread.run(ForkJoinWorkerThread.java:165)\n",
      "2022-11-20 18:16:00,030 [   1792] SEVERE - #c.i.d.LoadingState - PhpStorm 2022.2.3  Build #PS-222.4345.15\n",
      "2022-11-20 18:16:00,031 [   1793] SEVERE - #c.i.d.LoadingState - JDK: 17.0.4.1; VM: OpenJDK 64-Bit Server VM; Vendor: JetBrains s.r.o.\n",
      "2022-11-20 18:16:00,031 [   1793] SEVERE - #c.i.d.LoadingState - OS: Linux\n",
      "2022-11-20 18:16:00,058 [   1820] SEVERE - #c.i.d.LoadingState - Should be called at least in the state COMPONENTS_LOADED, the current state is: CONFIGURATION_STORE_INITIALIZED\n",
      "Current violators count: 3\n",
      "\n",
      "\n",
      "java.lang.Throwable\n",
      "\tat com.intellij.diagnostic.LoadingState.logStateError(LoadingState.java:52)\n",
      "\tat com.intellij.diagnostic.LoadingState.checkOccurred(LoadingState.java:48)\n",
      "\tat com.intellij.openapi.util.registry.Registry.getInstance(Registry.java:176)\n",
      "\tat com.intellij.openapi.util.registry.Registry.get(Registry.java:50)\n",
      "\tat com.intellij.openapi.util.registry.Registry.is(Registry.java:63)\n",
      "\tat com.intellij.openapi.wm.impl.GlobalMenuLinux._loadLibrary(GlobalMenuLinux.java:797)\n",
      "\tat com.intellij.openapi.wm.impl.GlobalMenuLinux.<clinit>(GlobalMenuLinux.java:164)\n",
      "\tat com.intellij.openapi.wm.impl.GlobalMenuLinux$MyActionTuner.customize(GlobalMenuLinux.java:230)\n",
      "\tat com.intellij.openapi.actionSystem.impl.ActionManagerImpl.lambda$new$0(ActionManagerImpl.java:141)\n",
      "\tat com.intellij.openapi.extensions.impl.ExtensionProcessingHelper.forEachExtensionSafe(ExtensionProcessingHelper.java:34)\n",
      "\tat com.intellij.openapi.extensions.ExtensionPointName.forEachExtensionSafe(ExtensionPointName.java:46)\n",
      "\tat com.intellij.openapi.actionSystem.impl.ActionManagerImpl.<init>(ActionManagerImpl.java:141)\n",
      "\tat com.jetbrains.rdserver.ui.actionPopupMenu.BackendActionManager.<init>(BackendActionManager.kt:17)\n",
      "\tat java.base/jdk.internal.reflect.NativeConstructorAccessorImpl.newInstance0(Native Method)\n",
      "\tat java.base/jdk.internal.reflect.NativeConstructorAccessorImpl.newInstance(NativeConstructorAccessorImpl.java:77)\n",
      "\tat java.base/jdk.internal.reflect.DelegatingConstructorAccessorImpl.newInstance(DelegatingConstructorAccessorImpl.java:45)\n",
      "\tat java.base/java.lang.reflect.Constructor.newInstanceWithCaller(Constructor.java:499)\n",
      "\tat java.base/java.lang.reflect.Constructor.newInstance(Constructor.java:480)\n",
      "\tat com.intellij.serviceContainer.ConstructorInjectionKt.instantiateUsingPicoContainer(constructorInjection.kt:47)\n",
      "\tat com.intellij.serviceContainer.ComponentManagerImpl.instantiateClassWithConstructorInjection(ComponentManagerImpl.kt:890)\n",
      "\tat com.intellij.serviceContainer.ServiceComponentAdapter.createAndInitialize(ServiceComponentAdapter.kt:51)\n",
      "\tat com.intellij.serviceContainer.ServiceComponentAdapter.doCreateInstance(ServiceComponentAdapter.kt:41)\n",
      "\tat com.intellij.serviceContainer.BaseComponentAdapter.getInstanceUncached(BaseComponentAdapter.kt:119)\n",
      "\tat com.intellij.serviceContainer.BaseComponentAdapter.getInstance(BaseComponentAdapter.kt:73)\n",
      "\tat com.intellij.serviceContainer.BaseComponentAdapter.getInstance$default(BaseComponentAdapter.kt:66)\n",
      "\tat com.intellij.serviceContainer.ComponentManagerImpl.doGetService(ComponentManagerImpl.kt:609)\n",
      "\tat com.intellij.serviceContainer.ComponentManagerImpl.getService(ComponentManagerImpl.kt:583)\n",
      "\tat com.intellij.openapi.client.ClientAwareComponentManager.getFromSelfOrCurrentSession(ClientAwareComponentManager.kt:37)\n",
      "\tat com.intellij.openapi.client.ClientAwareComponentManager.getService(ClientAwareComponentManager.kt:22)\n",
      "\tat com.intellij.openapi.actionSystem.ActionManager.getInstance(ActionManager.java:29)\n",
      "\tat com.intellij.help.impl.KeymapGenerator.<clinit>(KeymapGenerator.java:33)\n",
      "\tat java.base/jdk.internal.misc.Unsafe.allocateInstance(Native Method)\n",
      "\tat java.base/java.lang.invoke.DirectMethodHandle.allocateInstance(DirectMethodHandle.java:520)\n",
      "\tat com.intellij.serviceContainer.ComponentManagerImpl.instantiateClass(ComponentManagerImpl.kt:844)\n",
      "\tat com.intellij.openapi.extensions.impl.XmlExtensionAdapter.instantiateClass(XmlExtensionAdapter.kt:79)\n",
      "\tat com.intellij.openapi.extensions.impl.XmlExtensionAdapter$SimpleConstructorInjectionAdapter.instantiateClass(XmlExtensionAdapter.kt:90)\n",
      "\tat com.intellij.openapi.extensions.impl.XmlExtensionAdapter.doCreateInstance(XmlExtensionAdapter.kt:50)\n",
      "\tat com.intellij.openapi.extensions.impl.XmlExtensionAdapter.createInstance(XmlExtensionAdapter.kt:31)\n",
      "\tat com.intellij.openapi.extensions.impl.ExtensionPointImpl.processAdapter(ExtensionPointImpl.java:447)\n",
      "\tat com.intellij.openapi.extensions.impl.ExtensionPointImpl.access$200(ExtensionPointImpl.java:33)\n",
      "\tat com.intellij.openapi.extensions.impl.ExtensionPointImpl$1.next(ExtensionPointImpl.java:355)\n",
      "\tat com.intellij.idea.ApplicationLoader.findAppStarter(ApplicationLoader.kt:595)\n",
      "\tat com.intellij.idea.ApplicationLoader.access$findAppStarter(ApplicationLoader.kt:1)\n",
      "\tat com.intellij.idea.ApplicationLoader$initApplication$block$3.apply(ApplicationLoader.kt:170)\n",
      "\tat com.intellij.idea.ApplicationLoader$initApplication$block$3.apply(ApplicationLoader.kt)\n",
      "\tat java.base/java.util.concurrent.CompletableFuture$UniCompose.tryFire(CompletableFuture.java:1150)\n",
      "\tat java.base/java.util.concurrent.CompletableFuture.postComplete(CompletableFuture.java:510)\n",
      "\tat java.base/java.util.concurrent.CompletableFuture.postFire(CompletableFuture.java:614)\n",
      "\tat java.base/java.util.concurrent.CompletableFuture$UniCompose.tryFire(CompletableFuture.java:1163)\n",
      "\tat java.base/java.util.concurrent.CompletableFuture$Completion.run(CompletableFuture.java:482)\n",
      "\tat com.intellij.idea.ApplicationLoader$initApplication$block$2.execute(ApplicationLoader.kt:142)\n",
      "\tat java.base/java.util.concurrent.CompletableFuture$UniCompletion.claim(CompletableFuture.java:572)\n",
      "\tat java.base/java.util.concurrent.CompletableFuture$UniCompose.tryFire(CompletableFuture.java:1147)\n",
      "\tat java.base/java.util.concurrent.CompletableFuture.postComplete(CompletableFuture.java:510)\n",
      "\tat java.base/java.util.concurrent.CompletableFuture.postFire(CompletableFuture.java:614)\n",
      "\tat java.base/java.util.concurrent.CompletableFuture$UniCompose.tryFire(CompletableFuture.java:1163)\n",
      "\tat java.base/java.util.concurrent.CompletableFuture$Completion.exec(CompletableFuture.java:483)\n",
      "\tat java.base/java.util.concurrent.ForkJoinTask.doExec(ForkJoinTask.java:373)\n",
      "\tat java.base/java.util.concurrent.ForkJoinPool$WorkQueue.topLevelExec(ForkJoinPool.java:1182)\n",
      "\tat java.base/java.util.concurrent.ForkJoinPool.scan(ForkJoinPool.java:1655)\n",
      "\tat java.base/java.util.concurrent.ForkJoinPool.runWorker(ForkJoinPool.java:1622)\n",
      "\tat java.base/java.util.concurrent.ForkJoinWorkerThread.run(ForkJoinWorkerThread.java:165)\n",
      "2022-11-20 18:16:00,062 [   1824] SEVERE - #c.i.d.LoadingState - PhpStorm 2022.2.3  Build #PS-222.4345.15\n",
      "2022-11-20 18:16:00,062 [   1824] SEVERE - #c.i.d.LoadingState - JDK: 17.0.4.1; VM: OpenJDK 64-Bit Server VM; Vendor: JetBrains s.r.o.\n",
      "2022-11-20 18:16:00,063 [   1825] SEVERE - #c.i.d.LoadingState - OS: Linux\n"
     ]
    },
    {
     "name": "stdout",
     "output_type": "stream",
     "text": [
      "Info  | RdCoroutineScope          | 14:JobScheduler FJ pool 2/3 | RdCoroutineHost overridden \n",
      "2022-11-20 18:16:04,705 [   6467]   WARN - #c.i.o.a.i.ActionUpdater - 502 ms to grab EDT for CWMTelephonyGroup#update@NavBarToolbar (com.jetbrains.rd.platform.codeWithMe.telephony.CWMTelephonyGroup)\n",
      "2022-11-20 18:16:08,655 [  10417]   WARN - #c.i.o.a.e.ActionUtil - Can not find action by id CompileDirty\n",
      "2022-11-20 18:16:09,048 [  10810]   WARN - #c.i.u.x.Binding - no accessors for com.jetbrains.php.testFramework.PhpTestFrameworkType\n",
      "2022-11-20 18:16:11,458 [  13220]   WARN - #c.i.o.a.i.ActionUpdater - 1418 ms to grab EDT for BackAction#update@MainToolbar (com.intellij.ide.actions.BackAction)\n",
      "2022-11-20 18:16:21,816 [  23578]   WARN - #c.j.p.p.PharLibraryManager - Frequent root change. Source class com.jetbrains.php.phar.PharLibraryManager, delta 3553.\n",
      "Old roots: [phar:///home/student/php_2022_adam_lewinski/07_testing/02_exercise/project/vendor/bin/phpstan.phar/]\n",
      "New Roots: [phar:///home/student/php_2022_adam_lewinski/07_testing/02_exercise/project/vendor/bin/phpstan.phar/, phar:///home/student/php_2022_adam_lewinski/07_testing/02_exercise/project/vendor/phpstan/phpstan/phpstan.phar/]\n"
     ]
    }
   ],
   "source": [
    "! phpstorm project"
   ]
  },
  {
   "cell_type": "markdown",
   "metadata": {},
   "source": [
    "You can test your solution using included tests:"
   ]
  },
  {
   "cell_type": "code",
   "execution_count": 90,
   "metadata": {},
   "outputs": [
    {
     "name": "stdout",
     "output_type": "stream",
     "text": [
      "/home/student/php_2022_adam_lewinski/07_testing/02_exercise/project\n"
     ]
    }
   ],
   "source": [
    "%cd project"
   ]
  },
  {
   "cell_type": "code",
   "execution_count": 91,
   "metadata": {},
   "outputs": [
    {
     "name": "stdout",
     "output_type": "stream",
     "text": [
      "\u001b[32mInstalling dependencies from lock file (including require-dev)\u001b[39m\n",
      "\u001b[32mVerifying lock file contents can be installed on current platform.\u001b[39m\n",
      "Nothing to install, update or remove\n",
      "\u001b[32mGenerating autoload files\u001b[39m\n",
      "\u001b[32m60 packages you are using are looking for funding.\u001b[39m\n",
      "\u001b[32mUse the `composer fund` command to find out more!\u001b[39m\n"
     ]
    }
   ],
   "source": [
    "! composer install"
   ]
  },
  {
   "cell_type": "code",
   "execution_count": 92,
   "metadata": {},
   "outputs": [
    {
     "name": "stdout",
     "output_type": "stream",
     "text": [
      "\u001b[32mBuilding Actor classes for suites: Acceptance, Unit\u001b[39m\r\n",
      " -> AcceptanceTesterActions.php generated successfully. 241 methods added\r\n",
      "\u001b[32mTests\\AcceptanceTester\u001b[39m includes modules: PhpBrowser, Filesystem, Asserts, Db, Redis\r\n",
      " -> UnitTesterActions.php generated successfully. 137 methods added\r\n",
      "\u001b[32mTests\\UnitTester\u001b[39m includes modules: Asserts\r\n"
     ]
    }
   ],
   "source": [
    "! vendor/bin/codecept build"
   ]
  },
  {
   "cell_type": "code",
   "execution_count": 93,
   "metadata": {},
   "outputs": [
    {
     "name": "stdout",
     "output_type": "stream",
     "text": [
      "Loaded config \u001b[33mdefault\u001b[39m from \"/home/student/php_2022_adam_lewinski/07_testing/02_exercise/project/./.php-cs-fixer.dist.php\".\r\n",
      "Using cache file \".php-cs-fixer.cache\".\r\n",
      "\r\n",
      "Checked all files in 0.023 seconds, 14.000 MB memory used\r\n"
     ]
    }
   ],
   "source": [
    "! vendor/bin/php-cs-fixer fix --diff --dry-run ."
   ]
  },
  {
   "cell_type": "code",
   "execution_count": 94,
   "metadata": {},
   "outputs": [
    {
     "name": "stdout",
     "output_type": "stream",
     "text": [
      "  0/58 [░░░░░░░░░░░░░░░░░░░░░░░░░░░░]   0%\u001b[1G\u001b[2K 58/58 [▓▓▓▓▓▓▓▓▓▓▓▓▓▓▓▓▓▓▓▓▓▓▓▓▓▓▓▓] 100%\n",
      "\n",
      " ------ --------------------------------------------------------------------- \n",
      "  \u001b[32mLine\u001b[39m   \u001b[32mtests/Acceptance/Test07_RegisterCest.php\u001b[39m                             \n",
      " ------ --------------------------------------------------------------------- \n",
      "  48     Call to method id() on an unknown class Model\\User.                  \n",
      "         💡 Learn more at https://phpstan.org/user-guide/discovering-symbols  \n",
      "  49     Access to property $name on an unknown class Model\\User.             \n",
      "         💡 Learn more at https://phpstan.org/user-guide/discovering-symbols  \n",
      "  50     Access to property $surname on an unknown class Model\\User.          \n",
      "         💡 Learn more at https://phpstan.org/user-guide/discovering-symbols  \n",
      "  51     Access to property $email on an unknown class Model\\User.            \n",
      "         💡 Learn more at https://phpstan.org/user-guide/discovering-symbols  \n",
      "  52     Access to property $confirmed on an unknown class Model\\User.        \n",
      "         💡 Learn more at https://phpstan.org/user-guide/discovering-symbols  \n",
      "  56     Access to property $password on an unknown class Model\\User.         \n",
      "         💡 Learn more at https://phpstan.org/user-guide/discovering-symbols  \n",
      "  61     Access to property $token on an unknown class Model\\User.            \n",
      "         💡 Learn more at https://phpstan.org/user-guide/discovering-symbols  \n",
      "  62     Access to property $token on an unknown class Model\\User.            \n",
      "         💡 Learn more at https://phpstan.org/user-guide/discovering-symbols  \n",
      "  63     Access to property $token on an unknown class Model\\User.            \n",
      "         💡 Learn more at https://phpstan.org/user-guide/discovering-symbols  \n",
      " ------ --------------------------------------------------------------------- \n",
      "\n",
      " ------ --------------------------------------------------------------------- \n",
      "  \u001b[32mLine\u001b[39m   \u001b[32mtests/Acceptance/Test10_RegisterConfirmCest.php\u001b[39m                      \n",
      " ------ --------------------------------------------------------------------- \n",
      "  17     Instantiated class Model\\User not found.                             \n",
      "         💡 Learn more at https://phpstan.org/user-guide/discovering-symbols  \n",
      "  19     Access to property $name on an unknown class Model\\User.             \n",
      "         💡 Learn more at https://phpstan.org/user-guide/discovering-symbols  \n",
      "  19     Access to property $name on an unknown class Model\\User.             \n",
      "         💡 Learn more at https://phpstan.org/user-guide/discovering-symbols  \n",
      "  20     Access to property $surname on an unknown class Model\\User.          \n",
      "         💡 Learn more at https://phpstan.org/user-guide/discovering-symbols  \n",
      "  20     Access to property $surname on an unknown class Model\\User.          \n",
      "         💡 Learn more at https://phpstan.org/user-guide/discovering-symbols  \n",
      "  21     Access to property $email on an unknown class Model\\User.            \n",
      "         💡 Learn more at https://phpstan.org/user-guide/discovering-symbols  \n",
      "  21     Access to property $email on an unknown class Model\\User.            \n",
      "         💡 Learn more at https://phpstan.org/user-guide/discovering-symbols  \n",
      "  22     Access to property $password on an unknown class Model\\User.         \n",
      "         💡 Learn more at https://phpstan.org/user-guide/discovering-symbols  \n",
      "  22     Access to property $password on an unknown class Model\\User.         \n",
      "         💡 Learn more at https://phpstan.org/user-guide/discovering-symbols  \n",
      "  23     Access to property $confirmed on an unknown class Model\\User.        \n",
      "         💡 Learn more at https://phpstan.org/user-guide/discovering-symbols  \n",
      "  23     Access to property $confirmed on an unknown class Model\\User.        \n",
      "         💡 Learn more at https://phpstan.org/user-guide/discovering-symbols  \n",
      "  25     Access to property $token on an unknown class Model\\User.            \n",
      "         💡 Learn more at https://phpstan.org/user-guide/discovering-symbols  \n",
      "  25     Access to property $token on an unknown class Model\\User.            \n",
      "         💡 Learn more at https://phpstan.org/user-guide/discovering-symbols  \n",
      "  28     Call to method key() on an unknown class Model\\User.                 \n",
      "         💡 Learn more at https://phpstan.org/user-guide/discovering-symbols  \n",
      "  44     Access to property $token on an unknown class Model\\User.            \n",
      "         💡 Learn more at https://phpstan.org/user-guide/discovering-symbols  \n",
      "  51     Call to method key() on an unknown class Model\\User.                 \n",
      "         💡 Learn more at https://phpstan.org/user-guide/discovering-symbols  \n",
      "  54     Access to property $name on an unknown class Model\\User.             \n",
      "         💡 Learn more at https://phpstan.org/user-guide/discovering-symbols  \n",
      "  54     Access to property $name on an unknown class Model\\User.             \n",
      "         💡 Learn more at https://phpstan.org/user-guide/discovering-symbols  \n",
      "  55     Access to property $surname on an unknown class Model\\User.          \n",
      "         💡 Learn more at https://phpstan.org/user-guide/discovering-symbols  \n",
      "  55     Access to property $surname on an unknown class Model\\User.          \n",
      "         💡 Learn more at https://phpstan.org/user-guide/discovering-symbols  \n",
      "  56     Access to property $email on an unknown class Model\\User.            \n",
      "         💡 Learn more at https://phpstan.org/user-guide/discovering-symbols  \n",
      "  56     Access to property $email on an unknown class Model\\User.            \n",
      "         💡 Learn more at https://phpstan.org/user-guide/discovering-symbols  \n",
      "  57     Access to property $password on an unknown class Model\\User.         \n",
      "         💡 Learn more at https://phpstan.org/user-guide/discovering-symbols  \n",
      "  57     Access to property $password on an unknown class Model\\User.         \n",
      "         💡 Learn more at https://phpstan.org/user-guide/discovering-symbols  \n",
      "  58     Access to property $confirmed on an unknown class Model\\User.        \n",
      "         💡 Learn more at https://phpstan.org/user-guide/discovering-symbols  \n",
      "  59     Access to property $token on an unknown class Model\\User.            \n",
      "         💡 Learn more at https://phpstan.org/user-guide/discovering-symbols  \n",
      " ------ --------------------------------------------------------------------- \n",
      "\n",
      " ------ --------------------------------------------------------------------- \n",
      "  \u001b[32mLine\u001b[39m   \u001b[32mtests/Acceptance/Test12_LoginWrongPasswordCest.php\u001b[39m                   \n",
      " ------ --------------------------------------------------------------------- \n",
      "  22     Instantiated class Model\\User not found.                             \n",
      "         💡 Learn more at https://phpstan.org/user-guide/discovering-symbols  \n",
      "  24     Access to property $name on an unknown class Model\\User.             \n",
      "         💡 Learn more at https://phpstan.org/user-guide/discovering-symbols  \n",
      "  24     Access to property $name on an unknown class Model\\User.             \n",
      "         💡 Learn more at https://phpstan.org/user-guide/discovering-symbols  \n",
      "  25     Access to property $surname on an unknown class Model\\User.          \n",
      "         💡 Learn more at https://phpstan.org/user-guide/discovering-symbols  \n",
      "  25     Access to property $surname on an unknown class Model\\User.          \n",
      "         💡 Learn more at https://phpstan.org/user-guide/discovering-symbols  \n",
      "  26     Access to property $email on an unknown class Model\\User.            \n",
      "         💡 Learn more at https://phpstan.org/user-guide/discovering-symbols  \n",
      "  26     Access to property $email on an unknown class Model\\User.            \n",
      "         💡 Learn more at https://phpstan.org/user-guide/discovering-symbols  \n",
      "  27     Access to property $password on an unknown class Model\\User.         \n",
      "         💡 Learn more at https://phpstan.org/user-guide/discovering-symbols  \n",
      "  27     Access to property $password on an unknown class Model\\User.         \n",
      "         💡 Learn more at https://phpstan.org/user-guide/discovering-symbols  \n",
      "  28     Access to property $confirmed on an unknown class Model\\User.        \n",
      "         💡 Learn more at https://phpstan.org/user-guide/discovering-symbols  \n",
      "  28     Access to property $confirmed on an unknown class Model\\User.        \n",
      "         💡 Learn more at https://phpstan.org/user-guide/discovering-symbols  \n",
      "  30     Access to property $token on an unknown class Model\\User.            \n",
      "         💡 Learn more at https://phpstan.org/user-guide/discovering-symbols  \n",
      "  30     Access to property $token on an unknown class Model\\User.            \n",
      "         💡 Learn more at https://phpstan.org/user-guide/discovering-symbols  \n",
      "  33     Call to method key() on an unknown class Model\\User.                 \n",
      "         💡 Learn more at https://phpstan.org/user-guide/discovering-symbols  \n",
      "  37     Access to property $email on an unknown class Model\\User.            \n",
      "         💡 Learn more at https://phpstan.org/user-guide/discovering-symbols  \n",
      "  44     Access to property $email on an unknown class Model\\User.            \n",
      "         💡 Learn more at https://phpstan.org/user-guide/discovering-symbols  \n",
      " ------ --------------------------------------------------------------------- \n",
      "\n",
      " ------ --------------------------------------------------------------------- \n",
      "  \u001b[32mLine\u001b[39m   \u001b[32mtests/Acceptance/Test13_LoginNotConfirmedCest.php\u001b[39m                    \n",
      " ------ --------------------------------------------------------------------- \n",
      "  21     Instantiated class Model\\User not found.                             \n",
      "         💡 Learn more at https://phpstan.org/user-guide/discovering-symbols  \n",
      "  23     Access to property $name on an unknown class Model\\User.             \n",
      "         💡 Learn more at https://phpstan.org/user-guide/discovering-symbols  \n",
      "  23     Access to property $name on an unknown class Model\\User.             \n",
      "         💡 Learn more at https://phpstan.org/user-guide/discovering-symbols  \n",
      "  24     Access to property $surname on an unknown class Model\\User.          \n",
      "         💡 Learn more at https://phpstan.org/user-guide/discovering-symbols  \n",
      "  24     Access to property $surname on an unknown class Model\\User.          \n",
      "         💡 Learn more at https://phpstan.org/user-guide/discovering-symbols  \n",
      "  25     Access to property $email on an unknown class Model\\User.            \n",
      "         💡 Learn more at https://phpstan.org/user-guide/discovering-symbols  \n",
      "  25     Access to property $email on an unknown class Model\\User.            \n",
      "         💡 Learn more at https://phpstan.org/user-guide/discovering-symbols  \n",
      "  26     Access to property $password on an unknown class Model\\User.         \n",
      "         💡 Learn more at https://phpstan.org/user-guide/discovering-symbols  \n",
      "  26     Access to property $password on an unknown class Model\\User.         \n",
      "         💡 Learn more at https://phpstan.org/user-guide/discovering-symbols  \n",
      "  27     Access to property $confirmed on an unknown class Model\\User.        \n",
      "         💡 Learn more at https://phpstan.org/user-guide/discovering-symbols  \n",
      "  27     Access to property $confirmed on an unknown class Model\\User.        \n",
      "         💡 Learn more at https://phpstan.org/user-guide/discovering-symbols  \n",
      "  29     Access to property $token on an unknown class Model\\User.            \n",
      "         💡 Learn more at https://phpstan.org/user-guide/discovering-symbols  \n",
      "  29     Access to property $token on an unknown class Model\\User.            \n",
      "         💡 Learn more at https://phpstan.org/user-guide/discovering-symbols  \n",
      "  32     Call to method key() on an unknown class Model\\User.                 \n",
      "         💡 Learn more at https://phpstan.org/user-guide/discovering-symbols  \n",
      "  37     Access to property $email on an unknown class Model\\User.            \n",
      "         💡 Learn more at https://phpstan.org/user-guide/discovering-symbols  \n",
      " ------ --------------------------------------------------------------------- \n",
      "\n"
     ]
    },
    {
     "name": "stdout",
     "output_type": "stream",
     "text": [
      " ------ --------------------------------------------------------------------- \r\n",
      "  \u001b[32mLine\u001b[39m   \u001b[32mtests/Acceptance/Test14_LoginLogoutSeeHiddenContentCest.php\u001b[39m          \r\n",
      " ------ --------------------------------------------------------------------- \r\n",
      "  17     Instantiated class Model\\User not found.                             \r\n",
      "         💡 Learn more at https://phpstan.org/user-guide/discovering-symbols  \r\n",
      "  19     Access to property $name on an unknown class Model\\User.             \r\n",
      "         💡 Learn more at https://phpstan.org/user-guide/discovering-symbols  \r\n",
      "  19     Access to property $name on an unknown class Model\\User.             \r\n",
      "         💡 Learn more at https://phpstan.org/user-guide/discovering-symbols  \r\n",
      "  20     Access to property $surname on an unknown class Model\\User.          \r\n",
      "         💡 Learn more at https://phpstan.org/user-guide/discovering-symbols  \r\n",
      "  20     Access to property $surname on an unknown class Model\\User.          \r\n",
      "         💡 Learn more at https://phpstan.org/user-guide/discovering-symbols  \r\n",
      "  21     Access to property $email on an unknown class Model\\User.            \r\n",
      "         💡 Learn more at https://phpstan.org/user-guide/discovering-symbols  \r\n",
      "  21     Access to property $email on an unknown class Model\\User.            \r\n",
      "         💡 Learn more at https://phpstan.org/user-guide/discovering-symbols  \r\n",
      "  22     Access to property $password on an unknown class Model\\User.         \r\n",
      "         💡 Learn more at https://phpstan.org/user-guide/discovering-symbols  \r\n",
      "  22     Access to property $password on an unknown class Model\\User.         \r\n",
      "         💡 Learn more at https://phpstan.org/user-guide/discovering-symbols  \r\n",
      "  23     Access to property $confirmed on an unknown class Model\\User.        \r\n",
      "         💡 Learn more at https://phpstan.org/user-guide/discovering-symbols  \r\n",
      "  23     Access to property $confirmed on an unknown class Model\\User.        \r\n",
      "         💡 Learn more at https://phpstan.org/user-guide/discovering-symbols  \r\n",
      "  24     Access to property $token on an unknown class Model\\User.            \r\n",
      "         💡 Learn more at https://phpstan.org/user-guide/discovering-symbols  \r\n",
      "  24     Access to property $token on an unknown class Model\\User.            \r\n",
      "         💡 Learn more at https://phpstan.org/user-guide/discovering-symbols  \r\n",
      "  27     Call to method key() on an unknown class Model\\User.                 \r\n",
      "         💡 Learn more at https://phpstan.org/user-guide/discovering-symbols  \r\n",
      "  47     Access to property $email on an unknown class Model\\User.            \r\n",
      "         💡 Learn more at https://phpstan.org/user-guide/discovering-symbols  \r\n",
      "  53     Access to property $name on an unknown class Model\\User.             \r\n",
      "         💡 Learn more at https://phpstan.org/user-guide/discovering-symbols  \r\n",
      " ------ --------------------------------------------------------------------- \r\n",
      "\r\n",
      " ------ ---------------------------------------------------------------------- \r\n",
      "  \u001b[32mLine\u001b[39m   \u001b[32mtests/Support/AcceptanceTester.php\u001b[39m                                    \r\n",
      " ------ ---------------------------------------------------------------------- \r\n",
      "  74     Method Tests\\Support\\AcceptanceTester::castToModelUser() has invalid  \r\n",
      "         return type Model\\User.                                               \r\n",
      "  76     Class Model\\User not found.                                           \r\n",
      "         💡 Learn more at https://phpstan.org/user-guide/discovering-symbols   \r\n",
      " ------ ---------------------------------------------------------------------- \r\n",
      "\r\n",
      "\u001b[37;41m                                                                                \u001b[39;49m\r\n",
      "\u001b[37;41m [ERROR] Found 84 errors                                                        \u001b[39;49m\r\n",
      "\u001b[37;41m                                                                                \u001b[39;49m\r\n",
      "\r\n"
     ]
    }
   ],
   "source": [
    "! vendor/bin/phpstan analyze --xdebug -c phpstan.neon"
   ]
  },
  {
   "cell_type": "code",
   "execution_count": 95,
   "metadata": {},
   "outputs": [
    {
     "name": "stdout",
     "output_type": "stream",
     "text": [
      "phpcpd 6.0.3 by Sebastian Bergmann.\n",
      "\n",
      "No clones found.\n",
      "\n",
      "Time: 00:00.008, Memory: 4.00 MB\n"
     ]
    }
   ],
   "source": [
    "! vendor/bin/phpcpd . --fuzzy --min-lines 1 --min-tokens 20 --exclude vendor --exclude tests"
   ]
  },
  {
   "cell_type": "code",
   "execution_count": 96,
   "metadata": {},
   "outputs": [
    {
     "name": "stdout",
     "output_type": "stream",
     "text": [
      "Codeception PHP Testing Framework v5.0.4 https://helpukrainewin.org\n",
      "\n",
      "\u001b[1mTests.Unit Tests (24) \u001b[22m----------------------------------------------------------\n",
      "\u001b[32;1m✔\u001b[39;22m \u001b[35;1mTest00_StringEditorCest:\u001b[39;22m Create \u001b[32m(0.00s)\u001b[39m\n",
      "\u001b[32;1m✔\u001b[39;22m \u001b[35;1mTest00_StringEditorCest:\u001b[39;22m Replace word \u001b[32m(0.00s)\u001b[39m\n",
      "\u001b[32;1m✔\u001b[39;22m \u001b[35;1mTest00_StringEditorCest:\u001b[39;22m Lowercase \u001b[32m(0.00s)\u001b[39m\n",
      "\u001b[32;1m✔\u001b[39;22m \u001b[35;1mTest00_StringEditorCest:\u001b[39;22m Uppercase \u001b[32m(0.00s)\u001b[39m\n",
      "\u001b[32;1m✔\u001b[39;22m \u001b[35;1mTest00_StringEditorCest:\u001b[39;22m Replace and upper case \u001b[32m(0.00s)\u001b[39m\n",
      "\u001b[32;1m✔\u001b[39;22m \u001b[35;1mTest00_StringEditorCest:\u001b[39;22m Censor word \u001b[32m(0.00s)\u001b[39m\n",
      "\u001b[32;1m✔\u001b[39;22m \u001b[35;1mTest00_StringEditorCest:\u001b[39;22m Censor short and long words \u001b[32m(0.00s)\u001b[39m\n",
      "\u001b[32;1m✔\u001b[39;22m \u001b[35;1mTest00_StringEditorCest:\u001b[39;22m Repeat word \u001b[32m(0.00s)\u001b[39m\n",
      "\u001b[32;1m✔\u001b[39;22m \u001b[35;1mTest00_StringEditorCest:\u001b[39;22m Remove word \u001b[32m(0.00s)\u001b[39m\n",
      "\u001b[32;1m✔\u001b[39;22m \u001b[35;1mTest00_StringEditorCest:\u001b[39;22m Edit sentence \u001b[32m(0.00s)\u001b[39m\n",
      "\u001b[32;1m✔\u001b[39;22m \u001b[35;1mTest01_RingBufferCest:\u001b[39;22m Create \u001b[32m(0.00s)\u001b[39m\n",
      "\u001b[32;1m✔\u001b[39;22m \u001b[35;1mTest01_RingBufferCest:\u001b[39;22m Should be empty \u001b[32m(0.00s)\u001b[39m\n",
      "\u001b[32;1m✔\u001b[39;22m \u001b[35;1mTest01_RingBufferCest:\u001b[39;22m Capacity \u001b[32m(0.00s)\u001b[39m\n",
      "\u001b[32;1m✔\u001b[39;22m \u001b[35;1mTest01_RingBufferCest:\u001b[39;22m Size should be zero when empty \u001b[32m(0.00s)\u001b[39m\n",
      "\u001b[32;1m✔\u001b[39;22m \u001b[35;1mTest01_RingBufferCest:\u001b[39;22m Push value size should increase \u001b[32m(0.00s)\u001b[39m\n",
      "\u001b[32;1m✔\u001b[39;22m \u001b[35;1mTest01_RingBufferCest:\u001b[39;22m Empty should be false when full \u001b[32m(0.00s)\u001b[39m\n",
      "\u001b[32;1m✔\u001b[39;22m \u001b[35;1mTest01_RingBufferCest:\u001b[39;22m Pop from empty \u001b[32m(0.00s)\u001b[39m\n",
      "\u001b[32;1m✔\u001b[39;22m \u001b[35;1mTest01_RingBufferCest:\u001b[39;22m Push and pop single value \u001b[32m(0.00s)\u001b[39m\n",
      "\u001b[32;1m✔\u001b[39;22m \u001b[35;1mTest01_RingBufferCest:\u001b[39;22m Pop should reduce size \u001b[32m(0.00s)\u001b[39m\n",
      "\u001b[32;1m✔\u001b[39;22m \u001b[35;1mTest01_RingBufferCest:\u001b[39;22m Back should not change buffer \u001b[32m(0.00s)\u001b[39m\n",
      "\u001b[32;1m✔\u001b[39;22m \u001b[35;1mTest01_RingBufferCest:\u001b[39;22m Push multiple times \u001b[32m(0.00s)\u001b[39m\n",
      "\u001b[31;1mE\u001b[39;22m \u001b[35;1mTest01_RingBufferCest:\u001b[39;22m Multi item buffer \u001b[32m(0.00s)\u001b[39m\n",
      "\u001b[31;1mE\u001b[39;22m \u001b[35;1mTest01_RingBufferCest:\u001b[39;22m Push and pop all values \u001b[32m(0.00s)\u001b[39m\n",
      "\u001b[32;1m✔\u001b[39;22m \u001b[35;1mTest01_RingBufferCest:\u001b[39;22m Access values by index \u001b[32m(0.00s)\u001b[39m\n",
      "--------------------------------------------------------------------------------\n",
      "Time: 00:00.048, Memory: 8.00 MB\n",
      "\n",
      "There were 2 errors:\n",
      "1) \u001b[35;1mTest01_RingBufferCest:\u001b[39;22m Multi item buffer\n",
      "\u001b[37;41;1m Test  \u001b[39;49;22mtests/Unit/Test01_RingBufferCest.php:multiItemBuffer\n",
      "\u001b[37;41;1m                                                                                                                    \u001b[39;49;22m\n",
      "\u001b[37;41;1m  [Error] Xdebug has detected a possible infinite loop, and aborted your script with a stack depth of '256' frames  \u001b[39;49;22m\n",
      "\u001b[37;41;1m                                                                                                                    \u001b[39;49;22m\n",
      "\u001b[33m\n",
      "Scenario Steps:\n",
      "\u001b[39m\n",
      " 3. $I->assertEquals(10,10) at \u001b[32mtests/Unit/Test01_RingBufferCest.php:138\u001b[39m\n",
      " 2. $I->assertTrue(true) at \u001b[32mtests/Unit/Test01_RingBufferCest.php:136\u001b[39m\n",
      " 1. $I->assertTrue(true) at \u001b[32mtests/Unit/Test01_RingBufferCest.php:130\u001b[39m\n",
      "\n",
      "#1  /home/student/php_2022_adam_lewinski/07_testing/02_exercise/project/src/Container/RingBuffer.php:25\n",
      "#2  /home/student/php_2022_adam_lewinski/07_testing/02_exercise/project/src/Container/RingBuffer.php:77\n",
      "#3  /home/student/php_2022_adam_lewinski/07_testing/02_exercise/project/src/Container/RingBuffer.php:79\n",
      "#4  /home/student/php_2022_adam_lewinski/07_testing/02_exercise/project/src/Container/RingBuffer.php:79\n",
      "#5  /home/student/php_2022_adam_lewinski/07_testing/02_exercise/project/src/Container/RingBuffer.php:79\n",
      "#6  /home/student/php_2022_adam_lewinski/07_testing/02_exercise/project/src/Container/RingBuffer.php:79\n",
      "#7  /home/student/php_2022_adam_lewinski/07_testing/02_exercise/project/src/Container/RingBuffer.php:79\n",
      "#8  /home/student/php_2022_adam_lewinski/07_testing/02_exercise/project/src/Container/RingBuffer.php:79\n",
      "#9  /home/student/php_2022_adam_lewinski/07_testing/02_exercise/project/src/Container/RingBuffer.php:79\n",
      "#10 /home/student/php_2022_adam_lewinski/07_testing/02_exercise/project/src/Container/RingBuffer.php:79\n",
      "2) \u001b[35;1mTest01_RingBufferCest:\u001b[39;22m Push and pop all values\n",
      "\u001b[37;41;1m Test  \u001b[39;49;22mtests/Unit/Test01_RingBufferCest.php:pushAndPopAllValues\n",
      "\u001b[37;41;1m                                                                                                                    \u001b[39;49;22m\n",
      "\u001b[37;41;1m  [Error] Xdebug has detected a possible infinite loop, and aborted your script with a stack depth of '256' frames  \u001b[39;49;22m\n",
      "\u001b[37;41;1m                                                                                                                    \u001b[39;49;22m\n",
      "#1  /home/student/php_2022_adam_lewinski/07_testing/02_exercise/project/src/Container/RingBuffer.php:25\n",
      "#2  /home/student/php_2022_adam_lewinski/07_testing/02_exercise/project/src/Container/RingBuffer.php:77\n",
      "#3  /home/student/php_2022_adam_lewinski/07_testing/02_exercise/project/src/Container/RingBuffer.php:79\n",
      "#4  /home/student/php_2022_adam_lewinski/07_testing/02_exercise/project/src/Container/RingBuffer.php:79\n",
      "#5  /home/student/php_2022_adam_lewinski/07_testing/02_exercise/project/src/Container/RingBuffer.php:79\n",
      "#6  /home/student/php_2022_adam_lewinski/07_testing/02_exercise/project/src/Container/RingBuffer.php:79\n",
      "#7  /home/student/php_2022_adam_lewinski/07_testing/02_exercise/project/src/Container/RingBuffer.php:79\n",
      "#8  /home/student/php_2022_adam_lewinski/07_testing/02_exercise/project/src/Container/RingBuffer.php:79\n",
      "#9  /home/student/php_2022_adam_lewinski/07_testing/02_exercise/project/src/Container/RingBuffer.php:79\n",
      "#10 /home/student/php_2022_adam_lewinski/07_testing/02_exercise/project/src/Container/RingBuffer.php:79\n",
      "\n",
      "\u001b[37;41;1mERRORS!\u001b[39;49;22m\n",
      "\u001b[37;41;1mTests: 24, Assertions: 47, Errors: 2.\u001b[39;49;22m\n"
     ]
    }
   ],
   "source": [
    "! vendor/bin/codecept run Unit"
   ]
  },
  {
   "cell_type": "code",
   "execution_count": 97,
   "metadata": {},
   "outputs": [],
   "source": [
    "import subprocess\n",
    "phpServer = subprocess.Popen(['php', '-S', 'localhost:8888', '-t', 'public'])"
   ]
  },
  {
   "cell_type": "code",
   "execution_count": 98,
   "metadata": {},
   "outputs": [
    {
     "name": "stderr",
     "output_type": "stream",
     "text": [
      "[Sun Nov 20 18:15:33 2022] PHP 8.1.12 Development Server (http://localhost:8888) started\n"
     ]
    },
    {
     "name": "stdout",
     "output_type": "stream",
     "text": [
      "Done.\r\n"
     ]
    },
    {
     "name": "stderr",
     "output_type": "stream",
     "text": [
      "[Sun Nov 20 18:15:34 2022] [::1]:35734 Accepted\n",
      "[Sun Nov 20 18:15:34 2022] [::1]:35734 Closed without sending a request; it was probably just an unused speculative preconnection\n",
      "[Sun Nov 20 18:15:34 2022] [::1]:35734 Closing\n"
     ]
    }
   ],
   "source": [
    "! while ! timeout 1 bash -c \"echo > /dev/tcp/localhost/8888\" 2> /dev/null; do sleep 1; done; echo \"Done.\";"
   ]
  },
  {
   "cell_type": "code",
   "execution_count": 99,
   "metadata": {},
   "outputs": [
    {
     "name": "stdout",
     "output_type": "stream",
     "text": [
      "Codeception PHP Testing Framework v5.0.4 https://helpukrainewin.org\n",
      "\n",
      "\u001b[1mTests.Acceptance Tests (15) \u001b[22m----------------------------------------------------\n",
      "\u001b[32;1m✔\u001b[39;22m \u001b[35;1mTest00_PrettyUrlCest:\u001b[39;22m Test \u001b[32m(0.08s)\u001b[39m\n",
      "\u001b[32;1m✔\u001b[39;22m \u001b[35;1mTest01_FileStorageCest:\u001b[39;22m Test \u001b[32m(0.01s)\u001b[39m\n",
      "\u001b[32;1m✔\u001b[39;22m \u001b[35;1mTest02_SessionStorageCest:\u001b[39;22m Test \u001b[32m(0.01s)\u001b[39m\n",
      "\u001b[32;1m✔\u001b[39;22m \u001b[35;1mTest03_SQLiteStorageCest:\u001b[39;22m Test \u001b[32m(0.04s)\u001b[39m\n",
      "- \u001b[35;1mTest04_MySQLStorageCest:\u001b[39;22m Test"
     ]
    },
    {
     "name": "stderr",
     "output_type": "stream",
     "text": [
      "[Sun Nov 20 18:15:35 2022] [::1]:35748 Accepted\n",
      "[Sun Nov 20 18:15:35 2022] [::1]:35748 [200]: GET /\n",
      "[Sun Nov 20 18:15:35 2022] [::1]:35748 Closing\n",
      "[Sun Nov 20 18:15:35 2022] [::1]:35754 Accepted\n",
      "[Sun Nov 20 18:15:35 2022] [::1]:35754 [200]: GET /home\n",
      "[Sun Nov 20 18:15:35 2022] [::1]:35754 Closing\n",
      "[Sun Nov 20 18:15:35 2022] [::1]:35766 Accepted\n",
      "[Sun Nov 20 18:15:35 2022] [::1]:35766 [200]: GET /about\n",
      "[Sun Nov 20 18:15:35 2022] [::1]:35766 Closing\n",
      "[Sun Nov 20 18:15:35 2022] [::1]:35770 Accepted\n",
      "[Sun Nov 20 18:15:35 2022] [::1]:35770 [200]: GET /users\n",
      "[Sun Nov 20 18:15:35 2022] [::1]:35770 Closing\n",
      "[Sun Nov 20 18:15:35 2022] [::1]:35772 Accepted\n",
      "[Sun Nov 20 18:15:35 2022] [::1]:35772 [200]: GET /users/1\n",
      "[Sun Nov 20 18:15:35 2022] [::1]:35772 Closing\n",
      "[Sun Nov 20 18:15:35 2022] [::1]:35776 Accepted\n",
      "[Sun Nov 20 18:15:35 2022] [::1]:35776 [200]: GET /users\n",
      "[Sun Nov 20 18:15:35 2022] [::1]:35776 Closing\n",
      "[Sun Nov 20 18:15:35 2022] [::1]:35790 Accepted\n",
      "[Sun Nov 20 18:15:35 2022] [::1]:35790 [200]: GET /users/2\n",
      "[Sun Nov 20 18:15:35 2022] [::1]:35790 Closing\n",
      "[Sun Nov 20 18:15:35 2022] [::1]:35802 Accepted\n",
      "[Sun Nov 20 18:15:35 2022] [::1]:35802 [200]: GET /users\n",
      "[Sun Nov 20 18:15:35 2022] [::1]:35802 Closing\n",
      "[Sun Nov 20 18:15:35 2022] [::1]:35814 Accepted\n",
      "[Sun Nov 20 18:15:35 2022] [::1]:35814 [200]: GET /users/3\n",
      "[Sun Nov 20 18:15:35 2022] [::1]:35814 Closing\n",
      "[Sun Nov 20 18:15:35 2022] [::1]:35820 Accepted\n",
      "[Sun Nov 20 18:15:35 2022] [::1]:35820 [200]: GET /demo/file\n",
      "[Sun Nov 20 18:15:35 2022] [::1]:35820 Closing\n",
      "[Sun Nov 20 18:15:35 2022] [::1]:35828 Accepted\n",
      "[Sun Nov 20 18:15:35 2022] [::1]:35828 [200]: GET /demo/session\n",
      "[Sun Nov 20 18:15:35 2022] [::1]:35828 Closing\n",
      "[Sun Nov 20 18:15:35 2022] [::1]:35834 Accepted\n",
      "[Sun Nov 20 18:15:35 2022] [::1]:35834 [200]: GET /demo/sqlite\n",
      "[Sun Nov 20 18:15:35 2022] [::1]:35834 Closing\n",
      "[Sun Nov 20 18:15:35 2022] [::1]:35842 Accepted\n"
     ]
    },
    {
     "name": "stdout",
     "output_type": "stream",
     "text": [
      "\u001b[32;1m✔\u001b[39;22m \u001b[35;1mTest04_MySQLStorageCest:\u001b[39;22m Test \u001b[32m(0.15s)\u001b[39m\n",
      "\u001b[32;1m✔\u001b[39;22m \u001b[35;1mTest05_RedisStorageCest:\u001b[39;22m Test \u001b[32m(0.02s)\u001b[39m\n",
      "\u001b[31;1m✖\u001b[39;22m \u001b[35;1mTest06_HomepageCest:\u001b[39;22m See login and register links \u001b[32m(0.05s)\u001b[39m\n",
      "\u001b[31;1m✖\u001b[39;22m \u001b[35;1mTest07_RegisterCest:\u001b[39;22m Register new user \u001b[32m(0.04s)\u001b[39m\n",
      "- \u001b[35;1mTest08_RegisterValidationCest:\u001b[39;22m Validate data entered during registration"
     ]
    },
    {
     "name": "stderr",
     "output_type": "stream",
     "text": [
      "[Sun Nov 20 18:15:35 2022] [::1]:35842 [200]: GET /demo/mysql\n",
      "[Sun Nov 20 18:15:35 2022] [::1]:35842 Closing\n",
      "[Sun Nov 20 18:15:35 2022] [::1]:35852 Accepted\n",
      "[Sun Nov 20 18:15:35 2022] [::1]:35852 [200]: GET /demo/mysql\n",
      "[Sun Nov 20 18:15:35 2022] [::1]:35852 Closing\n",
      "[Sun Nov 20 18:15:35 2022] [::1]:35864 Accepted\n",
      "[Sun Nov 20 18:15:35 2022] [::1]:35864 [200]: GET /demo/redis\n",
      "[Sun Nov 20 18:15:35 2022] [::1]:35864 Closing\n",
      "[Sun Nov 20 18:15:35 2022] [::1]:35878 Accepted\n",
      "[Sun Nov 20 18:15:35 2022] [::1]:35878 [200]: GET /\n",
      "[Sun Nov 20 18:15:35 2022] [::1]:35878 Closing\n",
      "[Sun Nov 20 18:15:35 2022] [::1]:35888 Accepted\n",
      "[Sun Nov 20 18:15:35 2022] [::1]:35888 [200]: GET /home\n",
      "[Sun Nov 20 18:15:35 2022] [::1]:35888 Closing\n",
      "[Sun Nov 20 18:15:35 2022] [::1]:35900 Accepted\n",
      "[Sun Nov 20 18:15:35 2022] [::1]:35900 [200]: GET /\n",
      "[Sun Nov 20 18:15:35 2022] [::1]:35900 Closing\n",
      "[Sun Nov 20 18:15:35 2022] [::1]:35912 Accepted\n"
     ]
    },
    {
     "name": "stdout",
     "output_type": "stream",
     "text": [
      "\u001b[31;1m✖\u001b[39;22m \u001b[35;1mTest08_RegisterValidationCest:\u001b[39;22m Validate data entered during registration \u001b[32m(0.04s)\u001b[39m\n",
      "\u001b[31;1m✖\u001b[39;22m \u001b[35;1mTest09_RegisterRememberFieldsCest:\u001b[39;22m Remember data entered during registration when validation error is present \u001b[32m(0.04s)\u001b[39m\n",
      "\u001b[31;1mE\u001b[39;22m \u001b[35;1mTest10_RegisterConfirmCest:\u001b[39;22m Confirm user using link \u001b[32m(0.03s)\u001b[39m\n",
      "\u001b[31;1m✖\u001b[39;22m \u001b[35;1mTest11_LoginNotExistingCest:\u001b[39;22m See error when user does not exists \u001b[32m(0.05s)\u001b[39m\n",
      "\u001b[31;1m✖\u001b[39;22m \u001b[35;1mTest12_LoginWrongPasswordCest:\u001b[39;22m See error when wrong password is entered \u001b[32m(0.05s)\u001b[39m\n",
      "- \u001b[35;1mTest13_LoginNotConfirmedCest:\u001b[39;22m Be remained about email confirmation when trying to login"
     ]
    },
    {
     "name": "stderr",
     "output_type": "stream",
     "text": [
      "[Sun Nov 20 18:15:35 2022] [::1]:35912 [200]: GET /auth/register\n",
      "[Sun Nov 20 18:15:35 2022] [::1]:35912 Closing\n",
      "[Sun Nov 20 18:15:35 2022] [::1]:35918 Accepted\n",
      "[Sun Nov 20 18:15:35 2022] [::1]:35918 [200]: GET /auth/register\n",
      "[Sun Nov 20 18:15:35 2022] [::1]:35918 Closing\n",
      "[Sun Nov 20 18:15:35 2022] [::1]:35920 Accepted\n",
      "[Sun Nov 20 18:15:35 2022] [::1]:35920 [200]: GET /auth/login\n",
      "[Sun Nov 20 18:15:35 2022] [::1]:35920 Closing\n",
      "[Sun Nov 20 18:15:35 2022] [::1]:35936 Accepted\n",
      "[Sun Nov 20 18:15:35 2022] [::1]:35936 [200]: GET /auth/login\n",
      "[Sun Nov 20 18:15:35 2022] [::1]:35936 Closing\n"
     ]
    },
    {
     "name": "stdout",
     "output_type": "stream",
     "text": [
      "\u001b[31;1m✖\u001b[39;22m \u001b[35;1mTest13_LoginNotConfirmedCest:\u001b[39;22m Be remained about email confirmation when trying to login \u001b[32m(0.04s)\u001b[39m\n",
      "\u001b[31;1mE\u001b[39;22m \u001b[35;1mTest14_LoginLogoutSeeHiddenContentCest:\u001b[39;22m See hidden content after login \u001b[32m(0.05s)\u001b[39m\n",
      "--------------------------------------------------------------------------------\n",
      "Time: 00:00.800, Memory: 12.00 MB\n",
      "\n",
      "There were 2 errors:\n",
      "1) \u001b[35;1mTest10_RegisterConfirmCest:\u001b[39;22m Confirm user using link\n",
      "\u001b[37;41;1m Test  \u001b[39;49;22mtests/Acceptance/Test10_RegisterConfirmCest.php:test\n",
      "\u001b[37;41;1m                                        \u001b[39;49;22m\n",
      "\u001b[37;41;1m  [Error] Class \"Model\\User\" not found  \u001b[39;49;22m\n",
      "\u001b[37;41;1m                                        \u001b[39;49;22m\n",
      "#1  /home/student/php_2022_adam_lewinski/07_testing/02_exercise/project/tests/Acceptance/Test10_RegisterConfirmCest.php:17\n",
      "#2  Tests\\Acceptance\\Test10_RegisterConfirmCest->test\n",
      "#3  /home/student/php_2022_adam_lewinski/07_testing/02_exercise/project/vendor/bin/codecept:120\n",
      "2) \u001b[35;1mTest14_LoginLogoutSeeHiddenContentCest:\u001b[39;22m See hidden content after login\n",
      "\u001b[37;41;1m Test  \u001b[39;49;22mtests/Acceptance/Test14_LoginLogoutSeeHiddenContentCest.php:test\n",
      "\u001b[37;41;1m                                        \u001b[39;49;22m\n",
      "\u001b[37;41;1m  [Error] Class \"Model\\User\" not found  \u001b[39;49;22m\n",
      "\u001b[37;41;1m                                        \u001b[39;49;22m\n",
      "#1  /home/student/php_2022_adam_lewinski/07_testing/02_exercise/project/tests/Acceptance/Test14_LoginLogoutSeeHiddenContentCest.php:17\n",
      "#2  Tests\\Acceptance\\Test14_LoginLogoutSeeHiddenContentCest->test\n",
      "#3  /home/student/php_2022_adam_lewinski/07_testing/02_exercise/project/vendor/bin/codecept:120\n",
      "\n",
      "---------\n",
      "\n",
      "There were 7 failures:\n",
      "1) \u001b[35;1mTest06_HomepageCest:\u001b[39;22m See login and register links\n",
      "\u001b[37;41;1m Test  \u001b[39;49;22mtests/Acceptance/Test06_HomepageCest.php:test\n",
      "\u001b[37;41;1m Step \u001b[39;49;22m Click \"Create\"\n",
      "\u001b[37;41;1m Fail \u001b[39;49;22m No links containing text 'Login' were found in page /home\n",
      "\u001b[33m\n",
      "Scenario Steps:\n",
      "\u001b[39m\n",
      "\u001b[1m 9. $I->seeLink(\"Login\",\"/auth/login\")\u001b[22m at \u001b[32mtests/Acceptance/Test06_HomepageCest.php:29\u001b[39m\n",
      " 8. $I->see(\"Welcome on homepage!\",\"h1.welcome\") at \u001b[32mtests/Acceptance/Test06_HomepageCest.php:26\u001b[39m\n",
      " 7. $I->seeInTitle(\"Homepage\") at \u001b[32mtests/Acceptance/Test06_HomepageCest.php:25\u001b[39m\n",
      " 6. $I->seeCurrentUrlEquals(\"/home\") at \u001b[32mtests/Acceptance/Test06_HomepageCest.php:24\u001b[39m\n",
      " 5. $I->click(\"Home\") at \u001b[32mtests/Acceptance/Test06_HomepageCest.php:23\u001b[39m\n",
      " 4. $I->seeNumRecords(0,\"objects\") at \u001b[32mtests/Acceptance/Test06_HomepageCest.php:20\u001b[39m\n",
      "\n",
      "\u001b[33mArtifacts:\u001b[39m\n",
      "\n",
      "Html: \u001b[36m/home/student/php_2022_adam_lewinski/07_testing/02_exercise/project/tests/_output/Tests.Acceptance.Test06_HomepageCest.test.fail.html\u001b[39m\n",
      "Response: \u001b[36m/home/student/php_2022_adam_lewinski/07_testing/02_exercise/project/tests/_output/Tests.Acceptance.Test06_HomepageCest.test.fail.html\u001b[39m\n",
      "2) \u001b[35;1mTest07_RegisterCest:\u001b[39;22m Register new user\n",
      "\u001b[37;41;1m Test  \u001b[39;49;22mtests/Acceptance/Test07_RegisterCest.php:test\n",
      "\u001b[37;41;1m Step \u001b[39;49;22m Fill field \"id\",\"1\"\n",
      "\u001b[37;41;1m Fail \u001b[39;49;22m Link or Button by name or CSS or XPath element with 'Register' was not found.\n",
      "\u001b[33m\n",
      "Scenario Steps:\n",
      "\u001b[39m\n",
      "\u001b[1m 2. $I->click(\"Register\")\u001b[22m at \u001b[32mtests/Acceptance/Test07_RegisterCest.php:18\u001b[39m\n",
      " 1. $I->amOnPage(\"/\") at \u001b[32mtests/Acceptance/Test07_RegisterCest.php:16\u001b[39m\n",
      "\n",
      "\u001b[33mArtifacts:\u001b[39m\n",
      "\n",
      "Html: \u001b[36m/home/student/php_2022_adam_lewinski/07_testing/02_exercise/project/tests/_output/Tests.Acceptance.Test07_RegisterCest.test.fail.html\u001b[39m\n",
      "Response: \u001b[36m/home/student/php_2022_adam_lewinski/07_testing/02_exercise/project/tests/_output/Tests.Acceptance.Test07_RegisterCest.test.fail.html\u001b[39m\n",
      "3) \u001b[35;1mTest08_RegisterValidationCest:\u001b[39;22m Validate data entered during registration\n",
      "\u001b[37;41;1m Test  \u001b[39;49;22mtests/Acceptance/Test08_RegisterValidationCest.php:test\n",
      "\u001b[37;41;1m Step \u001b[39;49;22m See in title \"Login\"\n",
      "\u001b[37;41;1m Fail \u001b[39;49;22m Link or Button by name or CSS or XPath element with 'Create' was not found.\n",
      "\u001b[33m\n",
      "Scenario Steps:\n",
      "\u001b[39m\n",
      "\u001b[1m 2. $I->click(\"Create\")\u001b[22m at \u001b[32mtests/Acceptance/Test08_RegisterValidationCest.php:18\u001b[39m\n",
      " 1. $I->amOnPage(\"/auth/register\") at \u001b[32mtests/Acceptance/Test08_RegisterValidationCest.php:16\u001b[39m\n",
      "\n",
      "\u001b[33mArtifacts:\u001b[39m\n",
      "\n",
      "Html: \u001b[36m/home/student/php_2022_adam_lewinski/07_testing/02_exercise/project/tests/_output/Tests.Acceptance.Test08_RegisterValidationCest.test.fail.html\u001b[39m\n",
      "Response: \u001b[36m/home/student/php_2022_adam_lewinski/07_testing/02_exercise/project/tests/_output/Tests.Acceptance.Test08_RegisterValidationCest.test.fail.html\u001b[39m\n",
      "4) \u001b[35;1mTest09_RegisterRememberFieldsCest:\u001b[39;22m Remember data entered during registration when validation error is present\n",
      "\u001b[37;41;1m Test  \u001b[39;49;22mtests/Acceptance/Test09_RegisterRememberFieldsCest.php:test\n",
      "\u001b[37;41;1m Step \u001b[39;49;22m See in title \"Login\"\n",
      "\u001b[37;41;1m Fail \u001b[39;49;22m Form field by Label or CSS element with 'id' was not found.\n",
      "\u001b[33m\n",
      "Scenario Steps:\n",
      "\u001b[39m\n",
      "\u001b[1m 2. $I->fillField(\"id\",\"1\")\u001b[22m at \u001b[32mtests/Acceptance/Test09_RegisterRememberFieldsCest.php:19\u001b[39m\n",
      " 1. $I->amOnPage(\"/auth/register\") at \u001b[32mtests/Acceptance/Test09_RegisterRememberFieldsCest.php:16\u001b[39m\n",
      "\n",
      "\u001b[33mArtifacts:\u001b[39m\n",
      "\n",
      "Html: \u001b[36m/home/student/php_2022_adam_lewinski/07_testing/02_exercise/project/tests/_output/Tests.Acceptance.Test09_RegisterRememberFieldsCest.test.fail.html\u001b[39m\n",
      "Response: \u001b[36m/home/student/php_2022_adam_lewinski/07_testing/02_exercise/project/tests/_output/Tests.Acceptance.Test09_RegisterRememberFieldsCest.test.fail.html\u001b[39m\n",
      "5) \u001b[35;1mTest11_LoginNotExistingCest:\u001b[39;22m See error when user does not exists\n",
      "\u001b[37;41;1m Test  \u001b[39;49;22mtests/Acceptance/Test11_LoginNotExistingCest.php:test\n",
      "\u001b[37;41;1m Step \u001b[39;49;22m See in title \"Login\"\n",
      "\u001b[37;41;1m Fail \u001b[39;49;22m page title contains Login\n",
      "Failed asserting that '404' contains \"Login\".\n",
      "\u001b[33m\n",
      "Scenario Steps:\n",
      "\u001b[39m\n",
      "\u001b[1m 2. $I->seeInTitle(\"Login\")\u001b[22m at \u001b[32mtests/Acceptance/Test11_LoginNotExistingCest.php:18\u001b[39m\n",
      " 1. $I->amOnPage(\"/auth/login\") at \u001b[32mtests/Acceptance/Test11_LoginNotExistingCest.php:16\u001b[39m\n",
      "\n",
      "\u001b[33mArtifacts:\u001b[39m\n",
      "\n",
      "Html: \u001b[36m/home/student/php_2022_adam_lewinski/07_testing/02_exercise/project/tests/_output/Tests.Acceptance.Test11_LoginNotExistingCest.test.fail.html\u001b[39m\n",
      "Response: \u001b[36m/home/student/php_2022_adam_lewinski/07_testing/02_exercise/project/tests/_output/Tests.Acceptance.Test11_LoginNotExistingCest.test.fail.html\u001b[39m\n",
      "6) \u001b[35;1mTest12_LoginWrongPasswordCest:\u001b[39;22m See error when wrong password is entered\n",
      "\u001b[37;41;1m Test  \u001b[39;49;22mtests/Acceptance/Test12_LoginWrongPasswordCest.php:test\n",
      "page title contains Login\n",
      "Failed asserting that '404' contains \"Login\".\n",
      "\u001b[33m\n",
      "Scenario Steps:\n",
      "\u001b[39m\n",
      "\u001b[1m 2. $I->seeInTitle(\"Login\")\u001b[22m at \u001b[32mtests/Acceptance/Test12_LoginWrongPasswordCest.php:19\u001b[39m\n",
      " 1. $I->amOnPage(\"/auth/login\") at \u001b[32mtests/Acceptance/Test12_LoginWrongPasswordCest.php:17\u001b[39m\n",
      "\n",
      "\u001b[33mArtifacts:\u001b[39m\n",
      "\n",
      "Html: \u001b[36m/home/student/php_2022_adam_lewinski/07_testing/02_exercise/project/tests/_output/Tests.Acceptance.Test12_LoginWrongPasswordCest.test.fail.html\u001b[39m\n",
      "Response: \u001b[36m/home/student/php_2022_adam_lewinski/07_testing/02_exercise/project/tests/_output/Tests.Acceptance.Test12_LoginWrongPasswordCest.test.fail.html\u001b[39m\n",
      "7) \u001b[35;1mTest13_LoginNotConfirmedCest:\u001b[39;22m Be remained about email confirmation when trying to login\n",
      "\u001b[37;41;1m Test  \u001b[39;49;22mtests/Acceptance/Test13_LoginNotConfirmedCest.php:test\n",
      "page title contains Login\n",
      "Failed asserting that '404' contains \"Login\".\n",
      "\u001b[33m\n",
      "Scenario Steps:\n",
      "\u001b[39m\n",
      "\u001b[1m 2. $I->seeInTitle(\"Login\")\u001b[22m at \u001b[32mtests/Acceptance/Test13_LoginNotConfirmedCest.php:18\u001b[39m\n",
      " 1. $I->amOnPage(\"/auth/login\") at \u001b[32mtests/Acceptance/Test13_LoginNotConfirmedCest.php:16\u001b[39m\n",
      "\n",
      "\u001b[33mArtifacts:\u001b[39m\n",
      "\n",
      "Html: \u001b[36m/home/student/php_2022_adam_lewinski/07_testing/02_exercise/project/tests/_output/Tests.Acceptance.Test13_LoginNotConfirmedCest.test.fail.html\u001b[39m\n",
      "Response: \u001b[36m/home/student/php_2022_adam_lewinski/07_testing/02_exercise/project/tests/_output/Tests.Acceptance.Test13_LoginNotConfirmedCest.test.fail.html\u001b[39m\n",
      "\n",
      "\u001b[37;41;1mERRORS!\u001b[39;49;22m\n",
      "\u001b[37;41;1mTests: 15, Assertions: 145, Errors: 2, Failures: 7.\u001b[39;49;22m\n"
     ]
    },
    {
     "name": "stderr",
     "output_type": "stream",
     "text": [
      "[Sun Nov 20 18:15:35 2022] [::1]:35940 Accepted\n",
      "[Sun Nov 20 18:15:35 2022] [::1]:35940 [200]: GET /auth/login\n",
      "[Sun Nov 20 18:15:35 2022] [::1]:35940 Closing\n"
     ]
    }
   ],
   "source": [
    "! vendor/bin/codecept run Acceptance"
   ]
  },
  {
   "cell_type": "code",
   "execution_count": 100,
   "metadata": {},
   "outputs": [
    {
     "name": "stdout",
     "output_type": "stream",
     "text": [
      "Codeception PHP Testing Framework v5.0.4 https://helpukrainewin.org\n",
      "\n",
      "\u001b[1mTests.Acceptance Tests (15) \u001b[22m----------------------------------------------------\n",
      "\u001b[32;1m✔\u001b[39;22m \u001b[35;1mTest00_PrettyUrlCest:\u001b[39;22m Test \u001b[32m(0.08s)\u001b[39m\n",
      "\u001b[32;1m✔\u001b[39;22m \u001b[35;1mTest01_FileStorageCest:\u001b[39;22m Test \u001b[32m(0.03s)\u001b[39m\n",
      "\u001b[32;1m✔\u001b[39;22m \u001b[35;1mTest02_SessionStorageCest:\u001b[39;22m Test \u001b[32m(0.01s)\u001b[39m\n",
      "- \u001b[35;1mTest03_SQLiteStorageCest:\u001b[39;22m Test"
     ]
    },
    {
     "name": "stderr",
     "output_type": "stream",
     "text": [
      "[Sun Nov 20 18:15:36 2022] [::1]:35944 Accepted\n",
      "[Sun Nov 20 18:15:36 2022] [::1]:35944 [200]: GET /\n",
      "[Sun Nov 20 18:15:36 2022] [::1]:35944 Closing\n",
      "[Sun Nov 20 18:15:36 2022] [::1]:35958 Accepted\n",
      "[Sun Nov 20 18:15:36 2022] [::1]:35958 [200]: GET /home\n",
      "[Sun Nov 20 18:15:36 2022] [::1]:35958 Closing\n",
      "[Sun Nov 20 18:15:36 2022] [::1]:35972 Accepted\n",
      "[Sun Nov 20 18:15:36 2022] [::1]:35972 [200]: GET /about\n",
      "[Sun Nov 20 18:15:36 2022] [::1]:35972 Closing\n",
      "[Sun Nov 20 18:15:36 2022] [::1]:35988 Accepted\n",
      "[Sun Nov 20 18:15:36 2022] [::1]:35988 [200]: GET /users\n",
      "[Sun Nov 20 18:15:36 2022] [::1]:35988 Closing\n",
      "[Sun Nov 20 18:15:36 2022] [::1]:35998 Accepted\n",
      "[Sun Nov 20 18:15:36 2022] [::1]:35998 [200]: GET /users/1\n",
      "[Sun Nov 20 18:15:36 2022] [::1]:35998 Closing\n",
      "[Sun Nov 20 18:15:36 2022] [::1]:36010 Accepted\n",
      "[Sun Nov 20 18:15:36 2022] [::1]:36010 [200]: GET /users\n",
      "[Sun Nov 20 18:15:36 2022] [::1]:36010 Closing\n",
      "[Sun Nov 20 18:15:36 2022] [::1]:36012 Accepted\n",
      "[Sun Nov 20 18:15:36 2022] [::1]:36012 [200]: GET /users/2\n",
      "[Sun Nov 20 18:15:36 2022] [::1]:36012 Closing\n",
      "[Sun Nov 20 18:15:36 2022] [::1]:36022 Accepted\n",
      "[Sun Nov 20 18:15:36 2022] [::1]:36022 [200]: GET /users\n",
      "[Sun Nov 20 18:15:36 2022] [::1]:36022 Closing\n",
      "[Sun Nov 20 18:15:36 2022] [::1]:36030 Accepted\n",
      "[Sun Nov 20 18:15:36 2022] [::1]:36030 [200]: GET /users/3\n",
      "[Sun Nov 20 18:15:36 2022] [::1]:36030 Closing\n",
      "[Sun Nov 20 18:15:36 2022] [::1]:36046 Accepted\n",
      "[Sun Nov 20 18:15:36 2022] [::1]:36046 [200]: GET /demo/file\n",
      "[Sun Nov 20 18:15:36 2022] [::1]:36046 Closing\n",
      "[Sun Nov 20 18:15:36 2022] [::1]:36050 Accepted\n",
      "[Sun Nov 20 18:15:36 2022] [::1]:36050 [200]: GET /demo/session\n",
      "[Sun Nov 20 18:15:36 2022] [::1]:36050 Closing\n",
      "[Sun Nov 20 18:15:36 2022] [::1]:36062 Accepted\n"
     ]
    },
    {
     "name": "stdout",
     "output_type": "stream",
     "text": [
      "\u001b[32;1m✔\u001b[39;22m \u001b[35;1mTest03_SQLiteStorageCest:\u001b[39;22m Test \u001b[32m(0.11s)\u001b[39m\n",
      "\u001b[32;1m✔\u001b[39;22m ySQLStorageCest:\u001b[39;22m Test"
     ]
    },
    {
     "name": "stderr",
     "output_type": "stream",
     "text": [
      "[Sun Nov 20 18:15:36 2022] [::1]:36062 [200]: GET /demo/sqlite\n",
      "[Sun Nov 20 18:15:36 2022] [::1]:36062 Closing\n",
      "[Sun Nov 20 18:15:36 2022] [::1]:36076 Accepted\n",
      "[Sun Nov 20 18:15:36 2022] [::1]:36076 [200]: GET /demo/mysql\n",
      "[Sun Nov 20 18:15:36 2022] [::1]:36076 Closing\n",
      "[Sun Nov 20 18:15:36 2022] [::1]:36084 Accepted\n",
      "[Sun Nov 20 18:15:36 2022] [::1]:36084 [200]: GET /demo/mysql\n",
      "[Sun Nov 20 18:15:36 2022] [::1]:36084 Closing\n",
      "[Sun Nov 20 18:15:36 2022] [::1]:36086 Accepted\n",
      "[Sun Nov 20 18:15:36 2022] [::1]:36086 [200]: GET /demo/redis\n",
      "[Sun Nov 20 18:15:36 2022] [::1]:36086 Closing\n"
     ]
    },
    {
     "name": "stdout",
     "output_type": "stream",
     "text": [
      "\u001b[35;1mTest04_MySQLStorageCest:\u001b[39;22m Test \u001b[32m(0.17s)\u001b[39m\n",
      "\u001b[32;1m✔\u001b[39;22m \u001b[35;1mTest05_RedisStorageCest:\u001b[39;22m Test \u001b[32m(0.02s)\u001b[39m\n",
      "\u001b[31;1m✖\u001b[39;22m \u001b[35;1mTest06_HomepageCest:\u001b[39;22m See login and register links \u001b[32m(0.06s)\u001b[39m\n",
      "\u001b[31;1m✖\u001b[39;22m \u001b[35;1mTest07_RegisterCest:\u001b[39;22m Register new user \u001b[32m(0.04s)\u001b[39m\n",
      "\u001b[31;1m✖\u001b[39;22m \u001b[35;1mTest08_RegisterValidationCest:\u001b[39;22m Validate data entered during registration \u001b[32m(0.04s)\u001b[39m\n",
      "- \u001b[35;1mTest09_RegisterRememberFieldsCest:\u001b[39;22m Remember data entered during registration when validation error is present"
     ]
    },
    {
     "name": "stderr",
     "output_type": "stream",
     "text": [
      "[Sun Nov 20 18:15:36 2022] [::1]:36100 Accepted\n",
      "[Sun Nov 20 18:15:36 2022] [::1]:36100 [200]: GET /\n",
      "[Sun Nov 20 18:15:36 2022] [::1]:36100 Closing\n",
      "[Sun Nov 20 18:15:36 2022] [::1]:36116 Accepted\n",
      "[Sun Nov 20 18:15:36 2022] [::1]:36116 [200]: GET /home\n",
      "[Sun Nov 20 18:15:36 2022] [::1]:36116 Closing\n",
      "[Sun Nov 20 18:15:36 2022] [::1]:36124 Accepted\n",
      "[Sun Nov 20 18:15:36 2022] [::1]:36124 [200]: GET /\n",
      "[Sun Nov 20 18:15:36 2022] [::1]:36124 Closing\n",
      "[Sun Nov 20 18:15:36 2022] [::1]:36138 Accepted\n",
      "[Sun Nov 20 18:15:36 2022] [::1]:36138 [200]: GET /auth/register\n",
      "[Sun Nov 20 18:15:36 2022] [::1]:36138 Closing\n",
      "[Sun Nov 20 18:15:36 2022] [::1]:36148 Accepted\n",
      "[Sun Nov 20 18:15:36 2022] [::1]:36148 [200]: GET /auth/register\n",
      "[Sun Nov 20 18:15:36 2022] [::1]:36148 Closing\n"
     ]
    },
    {
     "name": "stdout",
     "output_type": "stream",
     "text": [
      "\u001b[31;1m✖\u001b[39;22m \u001b[35;1mTest09_RegisterRememberFieldsCest:\u001b[39;22m Remember data entered during registration when validation error is present \u001b[32m(0.06s)\u001b[39m\n",
      "\u001b[31;1mE\u001b[39;22m \u001b[35;1mTest10_RegisterConfirmCest:\u001b[39;22m Confirm user using link \u001b[32m(0.05s)\u001b[39m\n",
      "\u001b[31;1m✖\u001b[39;22m \u001b[35;1mTest11_LoginNotExistingCest:\u001b[39;22m See error when user does not exists \u001b[32m(0.12s)\u001b[39m\n",
      "\u001b[31;1m✖\u001b[39;22m \u001b[35;1mTest12_LoginWrongPasswordCest:\u001b[39;22m See error when wrong password is entered \u001b[32m(0.05s)\u001b[39m\n",
      "\u001b[31;1m✖\u001b[39;22m \u001b[35;1mTest13_LoginNotConfirmedCest:\u001b[39;22m Be remained about email confirmation when trying to login \u001b[32m(0.05s)\u001b[39m\n",
      "\u001b[31;1mE\u001b[39;22m \u001b[35;1mTest14_LoginLogoutSeeHiddenContentCest:\u001b[39;22m See hidden content after login \u001b[32m(0.04s)\u001b[39m\n",
      "--------------------------------------------------------------------------------\n",
      "Time: 00:01.020, Memory: 12.00 MB\n",
      "\n",
      "There were 2 errors:\n",
      "1) \u001b[35;1mTest10_RegisterConfirmCest:\u001b[39;22m Confirm user using link\n",
      "\u001b[37;41;1m Test  \u001b[39;49;22mtests/Acceptance/Test10_RegisterConfirmCest.php:test\n",
      "\u001b[37;41;1m                                        \u001b[39;49;22m\n",
      "\u001b[37;41;1m  [Error] Class \"Model\\User\" not found  \u001b[39;49;22m\n",
      "\u001b[37;41;1m                                        \u001b[39;49;22m\n",
      "#1  /home/student/php_2022_adam_lewinski/07_testing/02_exercise/project/tests/Acceptance/Test10_RegisterConfirmCest.php:17\n",
      "#2  Tests\\Acceptance\\Test10_RegisterConfirmCest->test\n",
      "#3  /home/student/php_2022_adam_lewinski/07_testing/02_exercise/project/vendor/bin/codecept:120\n",
      "2) \u001b[35;1mTest14_LoginLogoutSeeHiddenContentCest:\u001b[39;22m See hidden content after login\n",
      "\u001b[37;41;1m Test  \u001b[39;49;22mtests/Acceptance/Test14_LoginLogoutSeeHiddenContentCest.php:test\n",
      "\u001b[37;41;1m                                        \u001b[39;49;22m\n",
      "\u001b[37;41;1m  [Error] Class \"Model\\User\" not found  \u001b[39;49;22m\n",
      "\u001b[37;41;1m                                        \u001b[39;49;22m\n",
      "#1  /home/student/php_2022_adam_lewinski/07_testing/02_exercise/project/tests/Acceptance/Test14_LoginLogoutSeeHiddenContentCest.php:17\n",
      "#2  Tests\\Acceptance\\Test14_LoginLogoutSeeHiddenContentCest->test\n",
      "#3  /home/student/php_2022_adam_lewinski/07_testing/02_exercise/project/vendor/bin/codecept:120\n",
      "\n",
      "---------\n",
      "\n",
      "There were 7 failures:\n",
      "1) \u001b[35;1mTest06_HomepageCest:\u001b[39;22m See login and register links\n",
      "\u001b[37;41;1m Test  \u001b[39;49;22mtests/Acceptance/Test06_HomepageCest.php:test\n",
      "\u001b[37;41;1m Step \u001b[39;49;22m Click \"Create\"\n",
      "\u001b[37;41;1m Fail \u001b[39;49;22m No links containing text 'Login' were found in page /home\n",
      "\u001b[33m\n",
      "Scenario Steps:\n",
      "\u001b[39m\n",
      "\u001b[1m 9. $I->seeLink(\"Login\",\"/auth/login\")\u001b[22m at \u001b[32mtests/Acceptance/Test06_HomepageCest.php:29\u001b[39m\n",
      " 8. $I->see(\"Welcome on homepage!\",\"h1.welcome\") at \u001b[32mtests/Acceptance/Test06_HomepageCest.php:26\u001b[39m\n",
      " 7. $I->seeInTitle(\"Homepage\") at \u001b[32mtests/Acceptance/Test06_HomepageCest.php:25\u001b[39m\n",
      " 6. $I->seeCurrentUrlEquals(\"/home\") at \u001b[32mtests/Acceptance/Test06_HomepageCest.php:24\u001b[39m\n",
      " 5. $I->click(\"Home\") at \u001b[32mtests/Acceptance/Test06_HomepageCest.php:23\u001b[39m\n",
      " 4. $I->seeNumRecords(0,\"objects\") at \u001b[32mtests/Acceptance/Test06_HomepageCest.php:20\u001b[39m\n",
      "\n",
      "\u001b[33mArtifacts:\u001b[39m\n",
      "\n",
      "Html: \u001b[36m/home/student/php_2022_adam_lewinski/07_testing/02_exercise/project/tests/_output/Tests.Acceptance.Test06_HomepageCest.test.fail.html\u001b[39m\n",
      "Response: \u001b[36m/home/student/php_2022_adam_lewinski/07_testing/02_exercise/project/tests/_output/Tests.Acceptance.Test06_HomepageCest.test.fail.html\u001b[39m\n",
      "2) \u001b[35;1mTest07_RegisterCest:\u001b[39;22m Register new user\n",
      "\u001b[37;41;1m Test  \u001b[39;49;22mtests/Acceptance/Test07_RegisterCest.php:test\n",
      "\u001b[37;41;1m Step \u001b[39;49;22m Fill field \"id\",\"1\"\n",
      "\u001b[37;41;1m Fail \u001b[39;49;22m Link or Button by name or CSS or XPath element with 'Register' was not found.\n",
      "\u001b[33m\n",
      "Scenario Steps:\n",
      "\u001b[39m\n",
      "\u001b[1m 2. $I->click(\"Register\")\u001b[22m at \u001b[32mtests/Acceptance/Test07_RegisterCest.php:18\u001b[39m\n",
      " 1. $I->amOnPage(\"/\") at \u001b[32mtests/Acceptance/Test07_RegisterCest.php:16\u001b[39m\n",
      "\n",
      "\u001b[33mArtifacts:\u001b[39m\n",
      "\n",
      "Html: \u001b[36m/home/student/php_2022_adam_lewinski/07_testing/02_exercise/project/tests/_output/Tests.Acceptance.Test07_RegisterCest.test.fail.html\u001b[39m\n",
      "Response: \u001b[36m/home/student/php_2022_adam_lewinski/07_testing/02_exercise/project/tests/_output/Tests.Acceptance.Test07_RegisterCest.test.fail.html\u001b[39m\n",
      "3) \u001b[35;1mTest08_RegisterValidationCest:\u001b[39;22m Validate data entered during registration\n",
      "\u001b[37;41;1m Test  \u001b[39;49;22mtests/Acceptance/Test08_RegisterValidationCest.php:test\n",
      "\u001b[37;41;1m Step \u001b[39;49;22m See in title \"Login\"\n",
      "\u001b[37;41;1m Fail \u001b[39;49;22m Link or Button by name or CSS or XPath element with 'Create' was not found.\n",
      "\u001b[33m\n",
      "Scenario Steps:\n",
      "\u001b[39m\n",
      "\u001b[1m 2. $I->click(\"Create\")\u001b[22m at \u001b[32mtests/Acceptance/Test08_RegisterValidationCest.php:18\u001b[39m\n",
      " 1. $I->amOnPage(\"/auth/register\") at \u001b[32mtests/Acceptance/Test08_RegisterValidationCest.php:16\u001b[39m\n",
      "\n",
      "\u001b[33mArtifacts:\u001b[39m\n",
      "\n",
      "Html: \u001b[36m/home/student/php_2022_adam_lewinski/07_testing/02_exercise/project/tests/_output/Tests.Acceptance.Test08_RegisterValidationCest.test.fail.html\u001b[39m\n",
      "Response: \u001b[36m/home/student/php_2022_adam_lewinski/07_testing/02_exercise/project/tests/_output/Tests.Acceptance.Test08_RegisterValidationCest.test.fail.html\u001b[39m\n",
      "4) \u001b[35;1mTest09_RegisterRememberFieldsCest:\u001b[39;22m Remember data entered during registration when validation error is present\n",
      "\u001b[37;41;1m Test  \u001b[39;49;22mtests/Acceptance/Test09_RegisterRememberFieldsCest.php:test\n",
      "\u001b[37;41;1m Step \u001b[39;49;22m See in title \"Login\"\n",
      "\u001b[37;41;1m Fail \u001b[39;49;22m Form field by Label or CSS element with 'id' was not found.\n",
      "\u001b[33m\n",
      "Scenario Steps:\n",
      "\u001b[39m\n",
      "\u001b[1m 2. $I->fillField(\"id\",\"1\")\u001b[22m at \u001b[32mtests/Acceptance/Test09_RegisterRememberFieldsCest.php:19\u001b[39m\n",
      " 1. $I->amOnPage(\"/auth/register\") at \u001b[32mtests/Acceptance/Test09_RegisterRememberFieldsCest.php:16\u001b[39m\n",
      "\n",
      "\u001b[33mArtifacts:\u001b[39m\n",
      "\n",
      "Html: \u001b[36m/home/student/php_2022_adam_lewinski/07_testing/02_exercise/project/tests/_output/Tests.Acceptance.Test09_RegisterRememberFieldsCest.test.fail.html\u001b[39m\n",
      "Response: \u001b[36m/home/student/php_2022_adam_lewinski/07_testing/02_exercise/project/tests/_output/Tests.Acceptance.Test09_RegisterRememberFieldsCest.test.fail.html\u001b[39m\n",
      "5) \u001b[35;1mTest11_LoginNotExistingCest:\u001b[39;22m See error when user does not exists\n",
      "\u001b[37;41;1m Test  \u001b[39;49;22mtests/Acceptance/Test11_LoginNotExistingCest.php:test\n",
      "\u001b[37;41;1m Step \u001b[39;49;22m See in title \"Login\"\n",
      "\u001b[37;41;1m Fail \u001b[39;49;22m page title contains Login\n",
      "Failed asserting that '404' contains \"Login\".\n",
      "\u001b[33m\n",
      "Scenario Steps:\n",
      "\u001b[39m\n",
      "\u001b[1m 2. $I->seeInTitle(\"Login\")\u001b[22m at \u001b[32mtests/Acceptance/Test11_LoginNotExistingCest.php:18\u001b[39m\n",
      " 1. $I->amOnPage(\"/auth/login\") at \u001b[32mtests/Acceptance/Test11_LoginNotExistingCest.php:16\u001b[39m\n",
      "\n",
      "\u001b[33mArtifacts:\u001b[39m\n",
      "\n",
      "Html: \u001b[36m/home/student/php_2022_adam_lewinski/07_testing/02_exercise/project/tests/_output/Tests.Acceptance.Test11_LoginNotExistingCest.test.fail.html\u001b[39m\n",
      "Response: \u001b[36m/home/student/php_2022_adam_lewinski/07_testing/02_exercise/project/tests/_output/Tests.Acceptance.Test11_LoginNotExistingCest.test.fail.html\u001b[39m\n",
      "6) \u001b[35;1mTest12_LoginWrongPasswordCest:\u001b[39;22m See error when wrong password is entered\n",
      "\u001b[37;41;1m Test  \u001b[39;49;22mtests/Acceptance/Test12_LoginWrongPasswordCest.php:test\n",
      "page title contains Login\n",
      "Failed asserting that '404' contains \"Login\".\n",
      "\u001b[33m\n",
      "Scenario Steps:\n",
      "\u001b[39m\n",
      "\u001b[1m 2. $I->seeInTitle(\"Login\")\u001b[22m at \u001b[32mtests/Acceptance/Test12_LoginWrongPasswordCest.php:19\u001b[39m\n",
      " 1. $I->amOnPage(\"/auth/login\") at \u001b[32mtests/Acceptance/Test12_LoginWrongPasswordCest.php:17\u001b[39m\n",
      "\n",
      "\u001b[33mArtifacts:\u001b[39m\n",
      "\n",
      "Html: \u001b[36m/home/student/php_2022_adam_lewinski/07_testing/02_exercise/project/tests/_output/Tests.Acceptance.Test12_LoginWrongPasswordCest.test.fail.html\u001b[39m\n",
      "Response: \u001b[36m/home/student/php_2022_adam_lewinski/07_testing/02_exercise/project/tests/_output/Tests.Acceptance.Test12_LoginWrongPasswordCest.test.fail.html\u001b[39m\n",
      "7) \u001b[35;1mTest13_LoginNotConfirmedCest:\u001b[39;22m Be remained about email confirmation when trying to login\n",
      "\u001b[37;41;1m Test  \u001b[39;49;22mtests/Acceptance/Test13_LoginNotConfirmedCest.php:test\n",
      "page title contains Login\n",
      "Failed asserting that '404' contains \"Login\".\n",
      "\u001b[33m\n",
      "Scenario Steps:\n",
      "\u001b[39m\n",
      "\u001b[1m 2. $I->seeInTitle(\"Login\")\u001b[22m at \u001b[32mtests/Acceptance/Test13_LoginNotConfirmedCest.php:18\u001b[39m\n",
      " 1. $I->amOnPage(\"/auth/login\") at \u001b[32mtests/Acceptance/Test13_LoginNotConfirmedCest.php:16\u001b[39m\n",
      "\n",
      "\u001b[33mArtifacts:\u001b[39m\n",
      "\n",
      "Html: \u001b[36m/home/student/php_2022_adam_lewinski/07_testing/02_exercise/project/tests/_output/Tests.Acceptance.Test13_LoginNotConfirmedCest.test.fail.html\u001b[39m\n",
      "Response: \u001b[36m/home/student/php_2022_adam_lewinski/07_testing/02_exercise/project/tests/_output/Tests.Acceptance.Test13_LoginNotConfirmedCest.test.fail.html\u001b[39m\n",
      "\n",
      "\u001b[37;41;1mERRORS!\u001b[39;49;22m\n",
      "\u001b[37;41;1mTests: 15, Assertions: 145, Errors: 2, Failures: 7.\u001b[39;49;22m\n",
      "- \u001b[1mJUNIT XML\u001b[22m report generated in \u001b[33mfile:///home/student/php_2022_adam_lewinski/07_testing/02_exercise/project/tests/_output/test_report.xml\u001b[39m\n"
     ]
    },
    {
     "name": "stderr",
     "output_type": "stream",
     "text": [
      "[Sun Nov 20 18:15:36 2022] [::1]:36162 Accepted\n",
      "[Sun Nov 20 18:15:36 2022] [::1]:36162 [200]: GET /auth/login\n",
      "[Sun Nov 20 18:15:36 2022] [::1]:36162 Closing\n",
      "[Sun Nov 20 18:15:37 2022] [::1]:36168 Accepted\n",
      "[Sun Nov 20 18:15:37 2022] [::1]:36168 [200]: GET /auth/login\n",
      "[Sun Nov 20 18:15:37 2022] [::1]:36168 Closing\n",
      "[Sun Nov 20 18:15:37 2022] [::1]:36184 Accepted\n",
      "[Sun Nov 20 18:15:37 2022] [::1]:36184 [200]: GET /auth/login\n",
      "[Sun Nov 20 18:15:37 2022] [::1]:36184 Closing\n"
     ]
    }
   ],
   "source": [
    "! vendor/bin/codecept run Acceptance --xml test_report.xml"
   ]
  },
  {
   "cell_type": "code",
   "execution_count": 101,
   "metadata": {},
   "outputs": [],
   "source": [
    "phpServer.kill()"
   ]
  },
  {
   "cell_type": "code",
   "execution_count": 102,
   "metadata": {},
   "outputs": [
    {
     "name": "stdout",
     "output_type": "stream",
     "text": [
      "/home/student/php_2022_adam_lewinski/07_testing/02_exercise\n"
     ]
    }
   ],
   "source": [
    "%cd ../"
   ]
  },
  {
   "cell_type": "markdown",
   "metadata": {},
   "source": [
    "Stop the databses:"
   ]
  },
  {
   "cell_type": "code",
   "execution_count": null,
   "metadata": {},
   "outputs": [],
   "source": [
    "! docker container stop redis"
   ]
  },
  {
   "cell_type": "code",
   "execution_count": null,
   "metadata": {},
   "outputs": [],
   "source": [
    "! docker container stop mysql"
   ]
  }
 ],
 "metadata": {
  "kernelspec": {
   "display_name": "Python 3 (ipykernel)",
   "language": "python",
   "name": "python3"
  },
  "language_info": {
   "codemirror_mode": {
    "name": "ipython",
    "version": 3
   },
   "file_extension": ".py",
   "mimetype": "text/x-python",
   "name": "python",
   "nbconvert_exporter": "python",
   "pygments_lexer": "ipython3",
   "version": "3.10.6"
  }
 },
 "nbformat": 4,
 "nbformat_minor": 4
}
