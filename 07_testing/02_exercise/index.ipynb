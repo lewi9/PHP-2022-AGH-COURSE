{
 "cells": [
  {
   "cell_type": "markdown",
   "metadata": {},
   "source": [
    "# PHP 2022"
   ]
  },
  {
   "cell_type": "markdown",
   "metadata": {},
   "source": [
    "## 7. Testing"
   ]
  },
  {
   "cell_type": "markdown",
   "metadata": {},
   "source": [
    "### 7.2 Exercise"
   ]
  },
  {
   "cell_type": "markdown",
   "metadata": {},
   "source": [
    "Implment missing code."
   ]
  },
  {
   "cell_type": "markdown",
   "metadata": {},
   "source": [
    "Start the databses:"
   ]
  },
  {
   "cell_type": "code",
   "execution_count": 1,
   "metadata": {},
   "outputs": [
    {
     "name": "stdout",
     "output_type": "stream",
     "text": [
      "docker: Error response from daemon: Conflict. The container name \"/redis\" is already in use by container \"3b2816acceaf98ecf64768ef9abf904c28ee4c45199bec2e62bc43c3512e869a\". You have to remove (or rename) that container to be able to reuse that name.\r\n",
      "See 'docker run --help'.\r\n"
     ]
    }
   ],
   "source": [
    "! docker run --net=host --rm --name redis -d redis"
   ]
  },
  {
   "cell_type": "code",
   "execution_count": 2,
   "metadata": {},
   "outputs": [
    {
     "name": "stdout",
     "output_type": "stream",
     "text": [
      "docker: Error response from daemon: Conflict. The container name \"/mysql\" is already in use by container \"c8a2e91eb2db4e9a44e24b50d98055fff015c053b031cef879ed307ed7f2b005\". You have to remove (or rename) that container to be able to reuse that name.\r\n",
      "See 'docker run --help'.\r\n"
     ]
    }
   ],
   "source": [
    "! docker run --name=mysql --net=host --rm --env MYSQL_ROOT_PASSWORD=root123 --env MYSQL_DATABASE=test --env MYSQL_USER=test --env MYSQL_PASSWORD=test123 -d mysql/mysql-server:8.0"
   ]
  },
  {
   "cell_type": "code",
   "execution_count": 3,
   "metadata": {},
   "outputs": [
    {
     "name": "stdout",
     "output_type": "stream",
     "text": [
      "Done.\r\n"
     ]
    }
   ],
   "source": [
    "! while ! timeout 1 bash -c \"echo > /dev/tcp/localhost/6379\" 2> /dev/null; do sleep 1; done; echo \"Done.\";"
   ]
  },
  {
   "cell_type": "code",
   "execution_count": 4,
   "metadata": {},
   "outputs": [
    {
     "name": "stdout",
     "output_type": "stream",
     "text": [
      "Done.\r\n"
     ]
    }
   ],
   "source": [
    "! while ! timeout 1 bash -c \"echo > /dev/tcp/localhost/3306\" 2> /dev/null; do sleep 1; done; echo \"Done.\";"
   ]
  },
  {
   "cell_type": "markdown",
   "metadata": {},
   "source": [
    "Edit the code:"
   ]
  },
  {
   "cell_type": "code",
   "execution_count": null,
   "metadata": {},
   "outputs": [
    {
     "name": "stdout",
     "output_type": "stream",
     "text": [
      "CompileCommand: exclude com/intellij/openapi/vfs/impl/FilePartNodeRoot.trieDescend bool exclude = true\n",
      "2022-11-21 05:46:26,504 [   1595] SEVERE - #c.i.d.LoadingState - Should be called at least in the state COMPONENTS_LOADED, the current state is: CONFIGURATION_STORE_INITIALIZED\n",
      "Current violators count: 1\n",
      "\n",
      "\n",
      "java.lang.Throwable\n",
      "\tat com.intellij.diagnostic.LoadingState.logStateError(LoadingState.java:52)\n",
      "\tat com.intellij.diagnostic.LoadingState.checkOccurred(LoadingState.java:48)\n",
      "\tat com.intellij.openapi.actionSystem.impl.ActionManagerImpl.<init>(ActionManagerImpl.java:133)\n",
      "\tat com.jetbrains.rdserver.ui.actionPopupMenu.BackendActionManager.<init>(BackendActionManager.kt:17)\n",
      "\tat java.base/jdk.internal.reflect.NativeConstructorAccessorImpl.newInstance0(Native Method)\n",
      "\tat java.base/jdk.internal.reflect.NativeConstructorAccessorImpl.newInstance(NativeConstructorAccessorImpl.java:77)\n",
      "\tat java.base/jdk.internal.reflect.DelegatingConstructorAccessorImpl.newInstance(DelegatingConstructorAccessorImpl.java:45)\n",
      "\tat java.base/java.lang.reflect.Constructor.newInstanceWithCaller(Constructor.java:499)\n",
      "\tat java.base/java.lang.reflect.Constructor.newInstance(Constructor.java:480)\n",
      "\tat com.intellij.serviceContainer.ConstructorInjectionKt.instantiateUsingPicoContainer(constructorInjection.kt:47)\n",
      "\tat com.intellij.serviceContainer.ComponentManagerImpl.instantiateClassWithConstructorInjection(ComponentManagerImpl.kt:890)\n",
      "\tat com.intellij.serviceContainer.ServiceComponentAdapter.createAndInitialize(ServiceComponentAdapter.kt:51)\n",
      "\tat com.intellij.serviceContainer.ServiceComponentAdapter.doCreateInstance(ServiceComponentAdapter.kt:41)\n",
      "\tat com.intellij.serviceContainer.BaseComponentAdapter.getInstanceUncached(BaseComponentAdapter.kt:119)\n",
      "\tat com.intellij.serviceContainer.BaseComponentAdapter.getInstance(BaseComponentAdapter.kt:73)\n",
      "\tat com.intellij.serviceContainer.BaseComponentAdapter.getInstance$default(BaseComponentAdapter.kt:66)\n",
      "\tat com.intellij.serviceContainer.ComponentManagerImpl.doGetService(ComponentManagerImpl.kt:609)\n",
      "\tat com.intellij.serviceContainer.ComponentManagerImpl.getService(ComponentManagerImpl.kt:583)\n",
      "\tat com.intellij.openapi.client.ClientAwareComponentManager.getFromSelfOrCurrentSession(ClientAwareComponentManager.kt:37)\n",
      "\tat com.intellij.openapi.client.ClientAwareComponentManager.getService(ClientAwareComponentManager.kt:22)\n",
      "\tat com.intellij.openapi.actionSystem.ActionManager.getInstance(ActionManager.java:29)\n",
      "\tat com.intellij.help.impl.KeymapGenerator.<clinit>(KeymapGenerator.java:33)\n",
      "\tat java.base/jdk.internal.misc.Unsafe.allocateInstance(Native Method)\n",
      "\tat java.base/java.lang.invoke.DirectMethodHandle.allocateInstance(DirectMethodHandle.java:520)\n",
      "\tat com.intellij.serviceContainer.ComponentManagerImpl.instantiateClass(ComponentManagerImpl.kt:844)\n",
      "\tat com.intellij.openapi.extensions.impl.XmlExtensionAdapter.instantiateClass(XmlExtensionAdapter.kt:79)\n",
      "\tat com.intellij.openapi.extensions.impl.XmlExtensionAdapter$SimpleConstructorInjectionAdapter.instantiateClass(XmlExtensionAdapter.kt:90)\n",
      "\tat com.intellij.openapi.extensions.impl.XmlExtensionAdapter.doCreateInstance(XmlExtensionAdapter.kt:50)\n",
      "\tat com.intellij.openapi.extensions.impl.XmlExtensionAdapter.createInstance(XmlExtensionAdapter.kt:31)\n",
      "\tat com.intellij.openapi.extensions.impl.ExtensionPointImpl.processAdapter(ExtensionPointImpl.java:447)\n",
      "\tat com.intellij.openapi.extensions.impl.ExtensionPointImpl.access$200(ExtensionPointImpl.java:33)\n",
      "\tat com.intellij.openapi.extensions.impl.ExtensionPointImpl$1.next(ExtensionPointImpl.java:355)\n",
      "\tat com.intellij.idea.ApplicationLoader.findAppStarter(ApplicationLoader.kt:595)\n",
      "\tat com.intellij.idea.ApplicationLoader.access$findAppStarter(ApplicationLoader.kt:1)\n",
      "\tat com.intellij.idea.ApplicationLoader$initApplication$block$3.apply(ApplicationLoader.kt:170)\n",
      "\tat com.intellij.idea.ApplicationLoader$initApplication$block$3.apply(ApplicationLoader.kt)\n",
      "\tat java.base/java.util.concurrent.CompletableFuture.uniComposeStage(CompletableFuture.java:1187)\n",
      "\tat java.base/java.util.concurrent.CompletableFuture.thenCompose(CompletableFuture.java:2309)\n",
      "\tat com.intellij.idea.ApplicationLoader.initApplication(ApplicationLoader.kt:145)\n",
      "\tat java.base/jdk.internal.reflect.NativeMethodAccessorImpl.invoke0(Native Method)\n",
      "\tat java.base/jdk.internal.reflect.NativeMethodAccessorImpl.invoke(NativeMethodAccessorImpl.java:77)\n",
      "\tat java.base/jdk.internal.reflect.DelegatingMethodAccessorImpl.invoke(DelegatingMethodAccessorImpl.java:43)\n",
      "\tat java.base/java.lang.reflect.Method.invoke(Method.java:568)\n",
      "\tat com.intellij.idea.m.m(m.java:100)\n",
      "\tat com.intellij.ide.m.v.G.m(G.java:137)\n",
      "\tat com.intellij.ide.m.v.v.m(v.java:189)\n",
      "\tat java.base/jdk.internal.reflect.NativeMethodAccessorImpl.invoke0(Native Method)\n",
      "\tat java.base/jdk.internal.reflect.NativeMethodAccessorImpl.invoke(NativeMethodAccessorImpl.java:77)\n",
      "\tat java.base/jdk.internal.reflect.DelegatingMethodAccessorImpl.invoke(DelegatingMethodAccessorImpl.java:43)\n",
      "\tat java.base/java.lang.reflect.Method.invoke(Method.java:568)\n",
      "\tat com.intellij.idea.MainImpl.start(MainImpl.java:85)\n",
      "\tat com.intellij.idea.StartupUtil.lambda$start$14(StartupUtil.java:262)\n",
      "\tat java.base/java.util.concurrent.CompletableFuture$UniCompose.tryFire(CompletableFuture.java:1150)\n",
      "\tat java.base/java.util.concurrent.CompletableFuture.postComplete(CompletableFuture.java:510)\n",
      "\tat java.base/java.util.concurrent.CompletableFuture$AsyncSupply.run(CompletableFuture.java:1773)\n",
      "\tat java.base/java.util.concurrent.CompletableFuture$AsyncSupply.exec(CompletableFuture.java:1760)\n",
      "\tat java.base/java.util.concurrent.ForkJoinTask.doExec(ForkJoinTask.java:373)\n",
      "\tat java.base/java.util.concurrent.ForkJoinPool$WorkQueue.topLevelExec(ForkJoinPool.java:1182)\n",
      "\tat java.base/java.util.concurrent.ForkJoinPool.scan(ForkJoinPool.java:1655)\n",
      "\tat java.base/java.util.concurrent.ForkJoinPool.runWorker(ForkJoinPool.java:1622)\n",
      "\tat java.base/java.util.concurrent.ForkJoinWorkerThread.run(ForkJoinWorkerThread.java:165)\n",
      "2022-11-21 05:46:26,521 [   1612] SEVERE - #c.i.d.LoadingState - PhpStorm 2022.2.3  Build #PS-222.4345.15\n",
      "2022-11-21 05:46:26,523 [   1614] SEVERE - #c.i.d.LoadingState - JDK: 17.0.4.1; VM: OpenJDK 64-Bit Server VM; Vendor: JetBrains s.r.o.\n",
      "2022-11-21 05:46:26,525 [   1616] SEVERE - #c.i.d.LoadingState - OS: Linux\n",
      "2022-11-21 05:46:27,132 [   2223] SEVERE - #c.i.d.LoadingState - Should be called at least in the state COMPONENTS_LOADED, the current state is: CONFIGURATION_STORE_INITIALIZED\n",
      "Current violators count: 2\n",
      "\n",
      "\n",
      "java.lang.Throwable\n",
      "\tat com.intellij.diagnostic.LoadingState.logStateError(LoadingState.java:52)\n",
      "\tat com.intellij.diagnostic.LoadingState.checkOccurred(LoadingState.java:48)\n",
      "\tat com.intellij.openapi.util.registry.Registry.getInstance(Registry.java:176)\n",
      "\tat com.intellij.openapi.util.registry.Registry.get(Registry.java:50)\n",
      "\tat com.intellij.openapi.util.registry.Registry.is(Registry.java:63)\n",
      "\tat com.intellij.execution.ExecutorRegistryImpl.isExecutorInMainGroup(ExecutorRegistryImpl.java:195)\n",
      "\tat com.intellij.execution.ExecutorRegistryImpl.initExecutorActions(ExecutorRegistryImpl.java:127)\n",
      "\tat com.intellij.execution.ExecutorRegistryImpl.init(ExecutorRegistryImpl.java:278)\n",
      "\tat com.intellij.execution.ExecutorRegistryImpl$ExecutorRegistryActionConfigurationTuner.customize(ExecutorRegistryImpl.java:92)\n",
      "\tat com.intellij.openapi.actionSystem.impl.ActionManagerImpl.lambda$new$0(ActionManagerImpl.java:141)\n",
      "\tat com.intellij.openapi.extensions.impl.ExtensionProcessingHelper.forEachExtensionSafe(ExtensionProcessingHelper.java:34)\n",
      "\tat com.intellij.openapi.extensions.ExtensionPointName.forEachExtensionSafe(ExtensionPointName.java:46)\n",
      "\tat com.intellij.openapi.actionSystem.impl.ActionManagerImpl.<init>(ActionManagerImpl.java:141)\n",
      "\tat com.jetbrains.rdserver.ui.actionPopupMenu.BackendActionManager.<init>(BackendActionManager.kt:17)\n",
      "\tat java.base/jdk.internal.reflect.NativeConstructorAccessorImpl.newInstance0(Native Method)\n",
      "\tat java.base/jdk.internal.reflect.NativeConstructorAccessorImpl.newInstance(NativeConstructorAccessorImpl.java:77)\n",
      "\tat java.base/jdk.internal.reflect.DelegatingConstructorAccessorImpl.newInstance(DelegatingConstructorAccessorImpl.java:45)\n",
      "\tat java.base/java.lang.reflect.Constructor.newInstanceWithCaller(Constructor.java:499)\n",
      "\tat java.base/java.lang.reflect.Constructor.newInstance(Constructor.java:480)\n",
      "\tat com.intellij.serviceContainer.ConstructorInjectionKt.instantiateUsingPicoContainer(constructorInjection.kt:47)\n",
      "\tat com.intellij.serviceContainer.ComponentManagerImpl.instantiateClassWithConstructorInjection(ComponentManagerImpl.kt:890)\n",
      "\tat com.intellij.serviceContainer.ServiceComponentAdapter.createAndInitialize(ServiceComponentAdapter.kt:51)\n",
      "\tat com.intellij.serviceContainer.ServiceComponentAdapter.doCreateInstance(ServiceComponentAdapter.kt:41)\n",
      "\tat com.intellij.serviceContainer.BaseComponentAdapter.getInstanceUncached(BaseComponentAdapter.kt:119)\n",
      "\tat com.intellij.serviceContainer.BaseComponentAdapter.getInstance(BaseComponentAdapter.kt:73)\n",
      "\tat com.intellij.serviceContainer.BaseComponentAdapter.getInstance$default(BaseComponentAdapter.kt:66)\n",
      "\tat com.intellij.serviceContainer.ComponentManagerImpl.doGetService(ComponentManagerImpl.kt:609)\n",
      "\tat com.intellij.serviceContainer.ComponentManagerImpl.getService(ComponentManagerImpl.kt:583)\n",
      "\tat com.intellij.openapi.client.ClientAwareComponentManager.getFromSelfOrCurrentSession(ClientAwareComponentManager.kt:37)\n",
      "\tat com.intellij.openapi.client.ClientAwareComponentManager.getService(ClientAwareComponentManager.kt:22)\n",
      "\tat com.intellij.openapi.actionSystem.ActionManager.getInstance(ActionManager.java:29)\n",
      "\tat com.intellij.help.impl.KeymapGenerator.<clinit>(KeymapGenerator.java:33)\n",
      "\tat java.base/jdk.internal.misc.Unsafe.allocateInstance(Native Method)\n",
      "\tat java.base/java.lang.invoke.DirectMethodHandle.allocateInstance(DirectMethodHandle.java:520)\n",
      "\tat com.intellij.serviceContainer.ComponentManagerImpl.instantiateClass(ComponentManagerImpl.kt:844)\n",
      "\tat com.intellij.openapi.extensions.impl.XmlExtensionAdapter.instantiateClass(XmlExtensionAdapter.kt:79)\n",
      "\tat com.intellij.openapi.extensions.impl.XmlExtensionAdapter$SimpleConstructorInjectionAdapter.instantiateClass(XmlExtensionAdapter.kt:90)\n",
      "\tat com.intellij.openapi.extensions.impl.XmlExtensionAdapter.doCreateInstance(XmlExtensionAdapter.kt:50)\n",
      "\tat com.intellij.openapi.extensions.impl.XmlExtensionAdapter.createInstance(XmlExtensionAdapter.kt:31)\n",
      "\tat com.intellij.openapi.extensions.impl.ExtensionPointImpl.processAdapter(ExtensionPointImpl.java:447)\n",
      "\tat com.intellij.openapi.extensions.impl.ExtensionPointImpl.access$200(ExtensionPointImpl.java:33)\n",
      "\tat com.intellij.openapi.extensions.impl.ExtensionPointImpl$1.next(ExtensionPointImpl.java:355)\n",
      "\tat com.intellij.idea.ApplicationLoader.findAppStarter(ApplicationLoader.kt:595)\n",
      "\tat com.intellij.idea.ApplicationLoader.access$findAppStarter(ApplicationLoader.kt:1)\n",
      "\tat com.intellij.idea.ApplicationLoader$initApplication$block$3.apply(ApplicationLoader.kt:170)\n",
      "\tat com.intellij.idea.ApplicationLoader$initApplication$block$3.apply(ApplicationLoader.kt)\n",
      "\tat java.base/java.util.concurrent.CompletableFuture.uniComposeStage(CompletableFuture.java:1187)\n",
      "\tat java.base/java.util.concurrent.CompletableFuture.thenCompose(CompletableFuture.java:2309)\n",
      "\tat com.intellij.idea.ApplicationLoader.initApplication(ApplicationLoader.kt:145)\n",
      "\tat java.base/jdk.internal.reflect.NativeMethodAccessorImpl.invoke0(Native Method)\n",
      "\tat java.base/jdk.internal.reflect.NativeMethodAccessorImpl.invoke(NativeMethodAccessorImpl.java:77)\n",
      "\tat java.base/jdk.internal.reflect.DelegatingMethodAccessorImpl.invoke(DelegatingMethodAccessorImpl.java:43)\n",
      "\tat java.base/java.lang.reflect.Method.invoke(Method.java:568)\n",
      "\tat com.intellij.idea.m.m(m.java:100)\n",
      "\tat com.intellij.ide.m.v.G.m(G.java:137)\n",
      "\tat com.intellij.ide.m.v.v.m(v.java:189)\n",
      "\tat java.base/jdk.internal.reflect.NativeMethodAccessorImpl.invoke0(Native Method)\n",
      "\tat java.base/jdk.internal.reflect.NativeMethodAccessorImpl.invoke(NativeMethodAccessorImpl.java:77)\n",
      "\tat java.base/jdk.internal.reflect.DelegatingMethodAccessorImpl.invoke(DelegatingMethodAccessorImpl.java:43)\n",
      "\tat java.base/java.lang.reflect.Method.invoke(Method.java:568)\n",
      "\tat com.intellij.idea.MainImpl.start(MainImpl.java:85)\n",
      "\tat com.intellij.idea.StartupUtil.lambda$start$14(StartupUtil.java:262)\n",
      "\tat java.base/java.util.concurrent.CompletableFuture$UniCompose.tryFire(CompletableFuture.java:1150)\n",
      "\tat java.base/java.util.concurrent.CompletableFuture.postComplete(CompletableFuture.java:510)\n",
      "\tat java.base/java.util.concurrent.CompletableFuture$AsyncSupply.run(CompletableFuture.java:1773)\n",
      "\tat java.base/java.util.concurrent.CompletableFuture$AsyncSupply.exec(CompletableFuture.java:1760)\n",
      "\tat java.base/java.util.concurrent.ForkJoinTask.doExec(ForkJoinTask.java:373)\n",
      "\tat java.base/java.util.concurrent.ForkJoinPool$WorkQueue.topLevelExec(ForkJoinPool.java:1182)\n",
      "\tat java.base/java.util.concurrent.ForkJoinPool.scan(ForkJoinPool.java:1655)\n",
      "\tat java.base/java.util.concurrent.ForkJoinPool.runWorker(ForkJoinPool.java:1622)\n",
      "\tat java.base/java.util.concurrent.ForkJoinWorkerThread.run(ForkJoinWorkerThread.java:165)\n",
      "2022-11-21 05:46:27,137 [   2228] SEVERE - #c.i.d.LoadingState - PhpStorm 2022.2.3  Build #PS-222.4345.15\n",
      "2022-11-21 05:46:27,138 [   2229] SEVERE - #c.i.d.LoadingState - JDK: 17.0.4.1; VM: OpenJDK 64-Bit Server VM; Vendor: JetBrains s.r.o.\n",
      "2022-11-21 05:46:27,139 [   2230] SEVERE - #c.i.d.LoadingState - OS: Linux\n"
     ]
    },
    {
     "name": "stdout",
     "output_type": "stream",
     "text": [
      "2022-11-21 05:46:27,156 [   2247] SEVERE - #c.i.d.LoadingState - Should be called at least in the state COMPONENTS_LOADED, the current state is: CONFIGURATION_STORE_INITIALIZED\n",
      "Current violators count: 3\n",
      "\n",
      "\n",
      "java.lang.Throwable\n",
      "\tat com.intellij.diagnostic.LoadingState.logStateError(LoadingState.java:52)\n",
      "\tat com.intellij.diagnostic.LoadingState.checkOccurred(LoadingState.java:48)\n",
      "\tat com.intellij.openapi.util.registry.Registry.getInstance(Registry.java:176)\n",
      "\tat com.intellij.openapi.util.registry.Registry.get(Registry.java:50)\n",
      "\tat com.intellij.openapi.util.registry.Registry.is(Registry.java:63)\n",
      "\tat com.intellij.openapi.wm.impl.GlobalMenuLinux._loadLibrary(GlobalMenuLinux.java:797)\n",
      "\tat com.intellij.openapi.wm.impl.GlobalMenuLinux.<clinit>(GlobalMenuLinux.java:164)\n",
      "\tat com.intellij.openapi.wm.impl.GlobalMenuLinux$MyActionTuner.customize(GlobalMenuLinux.java:230)\n",
      "\tat com.intellij.openapi.actionSystem.impl.ActionManagerImpl.lambda$new$0(ActionManagerImpl.java:141)\n",
      "\tat com.intellij.openapi.extensions.impl.ExtensionProcessingHelper.forEachExtensionSafe(ExtensionProcessingHelper.java:34)\n",
      "\tat com.intellij.openapi.extensions.ExtensionPointName.forEachExtensionSafe(ExtensionPointName.java:46)\n",
      "\tat com.intellij.openapi.actionSystem.impl.ActionManagerImpl.<init>(ActionManagerImpl.java:141)\n",
      "\tat com.jetbrains.rdserver.ui.actionPopupMenu.BackendActionManager.<init>(BackendActionManager.kt:17)\n",
      "\tat java.base/jdk.internal.reflect.NativeConstructorAccessorImpl.newInstance0(Native Method)\n",
      "\tat java.base/jdk.internal.reflect.NativeConstructorAccessorImpl.newInstance(NativeConstructorAccessorImpl.java:77)\n",
      "\tat java.base/jdk.internal.reflect.DelegatingConstructorAccessorImpl.newInstance(DelegatingConstructorAccessorImpl.java:45)\n",
      "\tat java.base/java.lang.reflect.Constructor.newInstanceWithCaller(Constructor.java:499)\n",
      "\tat java.base/java.lang.reflect.Constructor.newInstance(Constructor.java:480)\n",
      "\tat com.intellij.serviceContainer.ConstructorInjectionKt.instantiateUsingPicoContainer(constructorInjection.kt:47)\n",
      "\tat com.intellij.serviceContainer.ComponentManagerImpl.instantiateClassWithConstructorInjection(ComponentManagerImpl.kt:890)\n",
      "\tat com.intellij.serviceContainer.ServiceComponentAdapter.createAndInitialize(ServiceComponentAdapter.kt:51)\n",
      "\tat com.intellij.serviceContainer.ServiceComponentAdapter.doCreateInstance(ServiceComponentAdapter.kt:41)\n",
      "\tat com.intellij.serviceContainer.BaseComponentAdapter.getInstanceUncached(BaseComponentAdapter.kt:119)\n",
      "\tat com.intellij.serviceContainer.BaseComponentAdapter.getInstance(BaseComponentAdapter.kt:73)\n",
      "\tat com.intellij.serviceContainer.BaseComponentAdapter.getInstance$default(BaseComponentAdapter.kt:66)\n",
      "\tat com.intellij.serviceContainer.ComponentManagerImpl.doGetService(ComponentManagerImpl.kt:609)\n",
      "\tat com.intellij.serviceContainer.ComponentManagerImpl.getService(ComponentManagerImpl.kt:583)\n",
      "\tat com.intellij.openapi.client.ClientAwareComponentManager.getFromSelfOrCurrentSession(ClientAwareComponentManager.kt:37)\n",
      "\tat com.intellij.openapi.client.ClientAwareComponentManager.getService(ClientAwareComponentManager.kt:22)\n",
      "\tat com.intellij.openapi.actionSystem.ActionManager.getInstance(ActionManager.java:29)\n",
      "\tat com.intellij.help.impl.KeymapGenerator.<clinit>(KeymapGenerator.java:33)\n",
      "\tat java.base/jdk.internal.misc.Unsafe.allocateInstance(Native Method)\n",
      "\tat java.base/java.lang.invoke.DirectMethodHandle.allocateInstance(DirectMethodHandle.java:520)\n",
      "\tat com.intellij.serviceContainer.ComponentManagerImpl.instantiateClass(ComponentManagerImpl.kt:844)\n",
      "\tat com.intellij.openapi.extensions.impl.XmlExtensionAdapter.instantiateClass(XmlExtensionAdapter.kt:79)\n",
      "\tat com.intellij.openapi.extensions.impl.XmlExtensionAdapter$SimpleConstructorInjectionAdapter.instantiateClass(XmlExtensionAdapter.kt:90)\n",
      "\tat com.intellij.openapi.extensions.impl.XmlExtensionAdapter.doCreateInstance(XmlExtensionAdapter.kt:50)\n",
      "\tat com.intellij.openapi.extensions.impl.XmlExtensionAdapter.createInstance(XmlExtensionAdapter.kt:31)\n",
      "\tat com.intellij.openapi.extensions.impl.ExtensionPointImpl.processAdapter(ExtensionPointImpl.java:447)\n",
      "\tat com.intellij.openapi.extensions.impl.ExtensionPointImpl.access$200(ExtensionPointImpl.java:33)\n",
      "\tat com.intellij.openapi.extensions.impl.ExtensionPointImpl$1.next(ExtensionPointImpl.java:355)\n",
      "\tat com.intellij.idea.ApplicationLoader.findAppStarter(ApplicationLoader.kt:595)\n",
      "\tat com.intellij.idea.ApplicationLoader.access$findAppStarter(ApplicationLoader.kt:1)\n",
      "\tat com.intellij.idea.ApplicationLoader$initApplication$block$3.apply(ApplicationLoader.kt:170)\n",
      "\tat com.intellij.idea.ApplicationLoader$initApplication$block$3.apply(ApplicationLoader.kt)\n",
      "\tat java.base/java.util.concurrent.CompletableFuture.uniComposeStage(CompletableFuture.java:1187)\n",
      "\tat java.base/java.util.concurrent.CompletableFuture.thenCompose(CompletableFuture.java:2309)\n",
      "\tat com.intellij.idea.ApplicationLoader.initApplication(ApplicationLoader.kt:145)\n",
      "\tat java.base/jdk.internal.reflect.NativeMethodAccessorImpl.invoke0(Native Method)\n",
      "\tat java.base/jdk.internal.reflect.NativeMethodAccessorImpl.invoke(NativeMethodAccessorImpl.java:77)\n",
      "\tat java.base/jdk.internal.reflect.DelegatingMethodAccessorImpl.invoke(DelegatingMethodAccessorImpl.java:43)\n",
      "\tat java.base/java.lang.reflect.Method.invoke(Method.java:568)\n",
      "\tat com.intellij.idea.m.m(m.java:100)\n",
      "\tat com.intellij.ide.m.v.G.m(G.java:137)\n",
      "\tat com.intellij.ide.m.v.v.m(v.java:189)\n",
      "\tat java.base/jdk.internal.reflect.NativeMethodAccessorImpl.invoke0(Native Method)\n",
      "\tat java.base/jdk.internal.reflect.NativeMethodAccessorImpl.invoke(NativeMethodAccessorImpl.java:77)\n",
      "\tat java.base/jdk.internal.reflect.DelegatingMethodAccessorImpl.invoke(DelegatingMethodAccessorImpl.java:43)\n",
      "\tat java.base/java.lang.reflect.Method.invoke(Method.java:568)\n",
      "\tat com.intellij.idea.MainImpl.start(MainImpl.java:85)\n",
      "\tat com.intellij.idea.StartupUtil.lambda$start$14(StartupUtil.java:262)\n",
      "\tat java.base/java.util.concurrent.CompletableFuture$UniCompose.tryFire(CompletableFuture.java:1150)\n",
      "\tat java.base/java.util.concurrent.CompletableFuture.postComplete(CompletableFuture.java:510)\n",
      "\tat java.base/java.util.concurrent.CompletableFuture$AsyncSupply.run(CompletableFuture.java:1773)\n",
      "\tat java.base/java.util.concurrent.CompletableFuture$AsyncSupply.exec(CompletableFuture.java:1760)\n",
      "\tat java.base/java.util.concurrent.ForkJoinTask.doExec(ForkJoinTask.java:373)\n",
      "\tat java.base/java.util.concurrent.ForkJoinPool$WorkQueue.topLevelExec(ForkJoinPool.java:1182)\n",
      "\tat java.base/java.util.concurrent.ForkJoinPool.scan(ForkJoinPool.java:1655)\n",
      "\tat java.base/java.util.concurrent.ForkJoinPool.runWorker(ForkJoinPool.java:1622)\n",
      "\tat java.base/java.util.concurrent.ForkJoinWorkerThread.run(ForkJoinWorkerThread.java:165)\n",
      "2022-11-21 05:46:27,160 [   2251] SEVERE - #c.i.d.LoadingState - PhpStorm 2022.2.3  Build #PS-222.4345.15\n",
      "2022-11-21 05:46:27,161 [   2252] SEVERE - #c.i.d.LoadingState - JDK: 17.0.4.1; VM: OpenJDK 64-Bit Server VM; Vendor: JetBrains s.r.o.\n",
      "2022-11-21 05:46:27,161 [   2252] SEVERE - #c.i.d.LoadingState - OS: Linux\n",
      "Info  | RdCoroutineScope          | 13:JobScheduler FJ pool 1/3 | RdCoroutineHost overridden \n",
      "2022-11-21 05:46:33,694 [   8785]   WARN - #c.i.o.a.i.ActionUpdater - 530 ms to grab EDT for CWMTelephonyGroup#update@NavBarToolbar (com.jetbrains.rd.platform.codeWithMe.telephony.CWMTelephonyGroup)\n",
      "2022-11-21 05:46:34,033 [   9124]   WARN - #c.i.o.a.i.ActionUpdater - 103 ms to call on EDT SpaceMainToolBarAction#update@NavBarToolbar (com.intellij.space.vcs.actions.SpaceMainToolBarAction). Use `ActionUpdateThread.BGT`.\n",
      "2022-11-21 05:46:34,314 [   9405]   WARN - #c.i.o.a.i.ActionUpdater - 267 ms to grab EDT for #update@MainMenu (com.intellij.ide.actions.cache.CacheRecoveryActionGroup$toAnAction$1)\n",
      "2022-11-21 05:46:36,902 [  11993]   WARN - #c.i.o.a.i.ActionUpdater - 2586 ms to grab EDT for #update@MainMenu (com.intellij.ide.actions.cache.CacheRecoveryActionGroup$toAnAction$1)\n",
      "2022-11-21 05:46:36,907 [  11998]   WARN - #c.i.o.a.i.ActionUpdater - 2572 ms to grab EDT for UndoAction#update@MainMenu (com.intellij.ide.actions.UndoAction)\n",
      "2022-11-21 05:46:37,169 [  12260]   WARN - #c.i.o.a.i.ActionUpdater - 264 ms to grab EDT for #update@MainMenu (com.intellij.ide.actions.cache.CacheRecoveryActionGroup$toAnAction$1)\n",
      "2022-11-21 05:46:37,169 [  12260]   WARN - #c.i.o.a.i.ActionUpdater - 259 ms to grab EDT for RedoAction#update@MainMenu (com.intellij.ide.actions.RedoAction)\n"
     ]
    },
    {
     "name": "stdout",
     "output_type": "stream",
     "text": [
      "2022-11-21 05:46:38,823 [  13914]   WARN - #c.i.o.a.e.ActionUtil - Can not find action by id CompileDirty\n",
      "2022-11-21 05:46:39,383 [  14474]   WARN - #c.i.u.x.Binding - no accessors for com.jetbrains.php.testFramework.PhpTestFrameworkType\n",
      "2022-11-21 05:46:39,561 [  14652]   WARN - #c.i.o.a.i.ActionUpdater - 2281 ms to grab EDT for #update@MainMenu (com.intellij.ide.actions.cache.CacheRecoveryActionGroup$toAnAction$1)\n",
      "2022-11-21 05:46:40,947 [  16038]   WARN - #c.i.o.a.i.ActionUpdater - 5509 ms total to grab EDT 8 times to expand DefaultActionGroup@MainMenu (com.intellij.openapi.actionSystem.DefaultActionGroup). Use `ActionUpdateThread.BGT`.\n",
      "2022-11-21 05:46:40,951 [  16042]   WARN - #c.i.o.a.i.ActionUpdater - 3659 ms to call on BGT CopyReferencePopup#update@MainMenu (com.intellij.ide.actions.CopyReferencePopup)\n",
      "2022-11-21 05:46:42,362 [  17453]   WARN - #c.i.o.a.i.ActionUpdater - 1143 ms to grab EDT for RefactoringQuickListPopupAction#update@MainMenu (com.intellij.refactoring.actions.RefactoringQuickListPopupAction)\n",
      "2022-11-21 05:46:42,364 [  17455]   WARN - #c.i.o.a.i.ActionUpdater - 1210 ms to grab EDT for AnalyzeStacktraceAction#update@MainMenu (com.intellij.unscramble.AnalyzeStacktraceAction)\n",
      "2022-11-21 05:46:43,328 [  18419]   WARN - #c.i.o.a.i.ActionUpdater - 950 ms to grab EDT for SaveAsTemplateAction#update@MainMenu (com.intellij.codeInsight.template.actions.SaveAsTemplateAction)\n",
      "2022-11-21 05:46:45,546 [  20637]   WARN - #c.i.o.a.i.ActionUpdater - 257 ms to grab EDT for CollapseAllAction#update@ToolwindowTitle (com.intellij.ide.actions.CollapseAllAction)\n",
      "2022-11-21 05:46:45,661 [  20752]   WARN - #c.i.o.a.i.ActionUpdater - 210 ms to grab EDT for #update@ToolwindowTitle (com.intellij.toolWindow.ToolWindowHeader$2)\n",
      "2022-11-21 05:46:53,439 [  28530]   WARN - #c.j.p.p.PharLibraryManager - Frequent root change. Source class com.jetbrains.php.phar.PharLibraryManager, delta 5347.\n",
      "Old roots: [phar:///home/student/php_2022_adam_lewinski/07_testing/02_exercise/project/vendor/bin/phpstan.phar/]\n",
      "New Roots: [phar:///home/student/php_2022_adam_lewinski/07_testing/02_exercise/project/vendor/bin/phpstan.phar/, phar:///home/student/php_2022_adam_lewinski/07_testing/02_exercise/project/vendor/phpstan/phpstan/phpstan.phar/]\n",
      "2022-11-21 05:48:15,210 [ 110301]   WARN - #c.i.u.x.Binding - no accessors for org.jetbrains.idea.perforce.perforce.ConnectionId\n",
      "2022-11-21 05:49:36,744 [ 191835] SEVERE - c.j.t.m.TerminalTextBuffer - Attempt to get line out of bounds: 4 >= 4\n",
      "2022-11-21 05:49:36,746 [ 191837] SEVERE - c.j.t.m.TerminalTextBuffer - Attempt to get line out of bounds: 4 >= 4\n"
     ]
    }
   ],
   "source": [
    "! phpstorm project"
   ]
  },
  {
   "cell_type": "markdown",
   "metadata": {},
   "source": [
    "You can test your solution using included tests:"
   ]
  },
  {
   "cell_type": "code",
   "execution_count": 51,
   "metadata": {},
   "outputs": [
    {
     "name": "stdout",
     "output_type": "stream",
     "text": [
      "/home/student/php_2022_adam_lewinski/07_testing/02_exercise/project\n"
     ]
    }
   ],
   "source": [
    "%cd project"
   ]
  },
  {
   "cell_type": "code",
   "execution_count": 52,
   "metadata": {},
   "outputs": [
    {
     "name": "stdout",
     "output_type": "stream",
     "text": [
      "\u001b[32mInstalling dependencies from lock file (including require-dev)\u001b[39m\n",
      "\u001b[32mVerifying lock file contents can be installed on current platform.\u001b[39m\n",
      "Nothing to install, update or remove\n",
      "\u001b[32mGenerating autoload files\u001b[39m\n",
      "\u001b[32m60 packages you are using are looking for funding.\u001b[39m\n",
      "\u001b[32mUse the `composer fund` command to find out more!\u001b[39m\n"
     ]
    }
   ],
   "source": [
    "! composer install"
   ]
  },
  {
   "cell_type": "code",
   "execution_count": 53,
   "metadata": {},
   "outputs": [
    {
     "name": "stdout",
     "output_type": "stream",
     "text": [
      "\u001b[32mBuilding Actor classes for suites: Acceptance, Unit\u001b[39m\n",
      " -> AcceptanceTesterActions.php generated successfully. 241 methods added\n",
      "\u001b[32mTests\\AcceptanceTester\u001b[39m includes modules: PhpBrowser, Filesystem, Asserts, Db, Redis\n",
      " -> UnitTesterActions.php generated successfully. 137 methods added\n",
      "\u001b[32mTests\\UnitTester\u001b[39m includes modules: Asserts\n"
     ]
    }
   ],
   "source": [
    "! vendor/bin/codecept build"
   ]
  },
  {
   "cell_type": "code",
   "execution_count": 55,
   "metadata": {
    "scrolled": true
   },
   "outputs": [
    {
     "name": "stdout",
     "output_type": "stream",
     "text": [
      "Loaded config \u001b[33mdefault\u001b[39m from \"/home/student/php_2022_adam_lewinski/07_testing/02_exercise/project/./.php-cs-fixer.dist.php\".\n",
      "Using cache file \".php-cs-fixer.cache\".\n",
      "   1) view/auth/register.php\n",
      "\u001b[33m      ---------- begin diff ----------\u001b[39m\n",
      "\u001b[31m--- /home/student/php_2022_adam_lewinski/07_testing/02_exercise/project/view/auth/register.php\u001b[39m\n",
      "\u001b[32m+++ /home/student/php_2022_adam_lewinski/07_testing/02_exercise/project/view/auth/register.php\u001b[39m\n",
      "\u001b[36m@@ -1,7 +1,7 @@\u001b[39m\n",
      " <h2>Register</h2>\n",
      " \n",
      " <?php\n",
      "\u001b[31m-if(isset($_POST[\"id\"])){\u001b[39m\n",
      "\u001b[32m+if (isset($_POST[\"id\"])) {\u001b[39m\n",
      "     $names = array(\"id\", \"name\", \"surname\", \"email\", \"password\", \"password_confirmation\");\n",
      "     $flag = 0;\n",
      "     $flags = array(0,0,0,0,0,0,0);\n",
      "\u001b[36m@@ -20,19 +20,18 @@\u001b[39m\n",
      "     if ($flag) {\n",
      "         echo \"<ul>\";\n",
      "         for ($i = 0; $i<5; ++$i) {\n",
      "\u001b[31m-            if($flags[$i]) {\u001b[39m\n",
      "\u001b[32m+            if ($flags[$i]) {\u001b[39m\n",
      "                 echo sprintf(\"<li class='error'>The %s filed cannot be empty</li>\", $names[$i]);\n",
      "             }\n",
      "         }\n",
      "\u001b[31m-        if($flags[5]) {\u001b[39m\n",
      "\u001b[32m+        if ($flags[5]) {\u001b[39m\n",
      "             echo \"<li class='error'>The password confirmation filed cannot be empty</li>\";\n",
      "         }\n",
      "\u001b[31m-        if($flags[6]) {\u001b[39m\n",
      "\u001b[32m+        if ($flags[6]) {\u001b[39m\n",
      "             echo \"<li class='error'>The password confirmation filed does not match the password field</li>\";\n",
      "         }\n",
      "         echo \"</ul>\";\n",
      "     }\n",
      "\u001b[31m-\u001b[39m\n",
      " }\n",
      " \n",
      " ?>\n",
      "\n",
      "\u001b[33m      ----------- end diff -----------\u001b[39m\n",
      "\n",
      "\n",
      "Checked all files in 0.082 seconds, 14.000 MB memory used\n"
     ]
    }
   ],
   "source": [
    "! vendor/bin/php-cs-fixer fix --diff --dry-run ."
   ]
  },
  {
   "cell_type": "code",
   "execution_count": 56,
   "metadata": {},
   "outputs": [
    {
     "name": "stdout",
     "output_type": "stream",
     "text": [
      "  0/64 [░░░░░░░░░░░░░░░░░░░░░░░░░░░░]   0%\u001b[1G\u001b[2K 64/64 [▓▓▓▓▓▓▓▓▓▓▓▓▓▓▓▓▓▓▓▓▓▓▓▓▓▓▓▓] 100%\n",
      "\n",
      " ------ -------------------------------------------------------------------- \n",
      "  \u001b[32mLine\u001b[39m   \u001b[32mtests/Acceptance/Test10_RegisterConfirmCest.php\u001b[39m                     \n",
      " ------ -------------------------------------------------------------------- \n",
      "  17     Class Model\\User constructor invoked with 1 parameter, 5 required.  \n",
      " ------ -------------------------------------------------------------------- \n",
      "\n",
      " ------ -------------------------------------------------------------------- \n",
      "  \u001b[32mLine\u001b[39m   \u001b[32mtests/Acceptance/Test12_LoginWrongPasswordCest.php\u001b[39m                  \n",
      " ------ -------------------------------------------------------------------- \n",
      "  22     Class Model\\User constructor invoked with 1 parameter, 5 required.  \n",
      " ------ -------------------------------------------------------------------- \n",
      "\n",
      " ------ -------------------------------------------------------------------- \n",
      "  \u001b[32mLine\u001b[39m   \u001b[32mtests/Acceptance/Test13_LoginNotConfirmedCest.php\u001b[39m                   \n",
      " ------ -------------------------------------------------------------------- \n",
      "  21     Class Model\\User constructor invoked with 1 parameter, 5 required.  \n",
      " ------ -------------------------------------------------------------------- \n",
      "\n",
      " ------ -------------------------------------------------------------------- \n",
      "  \u001b[32mLine\u001b[39m   \u001b[32mtests/Acceptance/Test14_LoginLogoutSeeHiddenContentCest.php\u001b[39m         \n",
      " ------ -------------------------------------------------------------------- \n",
      "  17     Class Model\\User constructor invoked with 1 parameter, 5 required.  \n",
      "  24     Property Model\\User::$token (string) does not accept null.          \n",
      " ------ -------------------------------------------------------------------- \n",
      "\n",
      " ------ -------------------------------------------------------------------- \n",
      "  \u001b[32mLine\u001b[39m   \u001b[32mview/auth/index.php\u001b[39m                                                 \n",
      " ------ -------------------------------------------------------------------- \n",
      "  1      File ends with a trailing whitespace. This may cause problems when  \n",
      "         running the code in the web browser. Remove the closing ?> mark or  \n",
      "         remove the whitespace.                                              \n",
      " ------ -------------------------------------------------------------------- \n",
      "\n",
      "\u001b[37;41m                                                                                \u001b[39;49m\n",
      "\u001b[37;41m [ERROR] Found 6 errors                                                         \u001b[39;49m\n",
      "\u001b[37;41m                                                                                \u001b[39;49m\n",
      "\n"
     ]
    }
   ],
   "source": [
    "! vendor/bin/phpstan analyze --xdebug -c phpstan.neon"
   ]
  },
  {
   "cell_type": "code",
   "execution_count": 57,
   "metadata": {},
   "outputs": [
    {
     "name": "stdout",
     "output_type": "stream",
     "text": [
      "phpcpd 6.0.3 by Sebastian Bergmann.\n",
      "\n",
      "No clones found.\n",
      "\n",
      "Time: 00:00.026, Memory: 4.00 MB\n"
     ]
    }
   ],
   "source": [
    "! vendor/bin/phpcpd . --fuzzy --min-lines 1 --min-tokens 20 --exclude vendor --exclude tests"
   ]
  },
  {
   "cell_type": "code",
   "execution_count": 58,
   "metadata": {},
   "outputs": [
    {
     "name": "stdout",
     "output_type": "stream",
     "text": [
      "Codeception PHP Testing Framework v5.0.4 https://helpukrainewin.org\n",
      "\n",
      "\u001b[1mTests.Unit Tests (24) \u001b[22m----------------------------------------------------------\n",
      "\u001b[32;1m✔\u001b[39;22m \u001b[35;1mTest00_StringEditorCest:\u001b[39;22m Create \u001b[32m(0.01s)\u001b[39m\n",
      "\u001b[32;1m✔\u001b[39;22m \u001b[35;1mTest00_StringEditorCest:\u001b[39;22m Replace word \u001b[32m(0.00s)\u001b[39m\n",
      "\u001b[32;1m✔\u001b[39;22m \u001b[35;1mTest00_StringEditorCest:\u001b[39;22m Lowercase \u001b[32m(0.00s)\u001b[39m\n",
      "\u001b[32;1m✔\u001b[39;22m \u001b[35;1mTest00_StringEditorCest:\u001b[39;22m Uppercase \u001b[32m(0.00s)\u001b[39m\n",
      "\u001b[32;1m✔\u001b[39;22m \u001b[35;1mTest00_StringEditorCest:\u001b[39;22m Replace and upper case \u001b[32m(0.00s)\u001b[39m\n",
      "\u001b[32;1m✔\u001b[39;22m \u001b[35;1mTest00_StringEditorCest:\u001b[39;22m Censor word \u001b[32m(0.00s)\u001b[39m\n",
      "\u001b[32;1m✔\u001b[39;22m \u001b[35;1mTest00_StringEditorCest:\u001b[39;22m Censor short and long words \u001b[32m(0.00s)\u001b[39m\n",
      "\u001b[32;1m✔\u001b[39;22m \u001b[35;1mTest00_StringEditorCest:\u001b[39;22m Repeat word \u001b[32m(0.00s)\u001b[39m\n",
      "\u001b[32;1m✔\u001b[39;22m \u001b[35;1mTest00_StringEditorCest:\u001b[39;22m Remove word \u001b[32m(0.00s)\u001b[39m\n",
      "\u001b[32;1m✔\u001b[39;22m \u001b[35;1mTest00_StringEditorCest:\u001b[39;22m Edit sentence \u001b[32m(0.00s)\u001b[39m\n",
      "\u001b[32;1m✔\u001b[39;22m \u001b[35;1mTest01_RingBufferCest:\u001b[39;22m Create \u001b[32m(0.00s)\u001b[39m\n",
      "\u001b[32;1m✔\u001b[39;22m \u001b[35;1mTest01_RingBufferCest:\u001b[39;22m Should be empty \u001b[32m(0.00s)\u001b[39m\n",
      "\u001b[32;1m✔\u001b[39;22m \u001b[35;1mTest01_RingBufferCest:\u001b[39;22m Capacity \u001b[32m(0.00s)\u001b[39m\n",
      "\u001b[32;1m✔\u001b[39;22m \u001b[35;1mTest01_RingBufferCest:\u001b[39;22m Size should be zero when empty \u001b[32m(0.00s)\u001b[39m\n",
      "\u001b[32;1m✔\u001b[39;22m \u001b[35;1mTest01_RingBufferCest:\u001b[39;22m Push value size should increase \u001b[32m(0.00s)\u001b[39m\n",
      "\u001b[32;1m✔\u001b[39;22m \u001b[35;1mTest01_RingBufferCest:\u001b[39;22m Empty should be false when full \u001b[32m(0.00s)\u001b[39m\n",
      "\u001b[32;1m✔\u001b[39;22m \u001b[35;1mTest01_RingBufferCest:\u001b[39;22m Pop from empty \u001b[32m(0.00s)\u001b[39m\n",
      "\u001b[32;1m✔\u001b[39;22m \u001b[35;1mTest01_RingBufferCest:\u001b[39;22m Push and pop single value \u001b[32m(0.00s)\u001b[39m\n",
      "\u001b[32;1m✔\u001b[39;22m \u001b[35;1mTest01_RingBufferCest:\u001b[39;22m Pop should reduce size \u001b[32m(0.00s)\u001b[39m\n",
      "\u001b[32;1m✔\u001b[39;22m \u001b[35;1mTest01_RingBufferCest:\u001b[39;22m Back should not change buffer \u001b[32m(0.00s)\u001b[39m\n",
      "\u001b[32;1m✔\u001b[39;22m \u001b[35;1mTest01_RingBufferCest:\u001b[39;22m Push multiple times \u001b[32m(0.00s)\u001b[39m\n",
      "\u001b[32;1m✔\u001b[39;22m \u001b[35;1mTest01_RingBufferCest:\u001b[39;22m Multi item buffer \u001b[32m(0.00s)\u001b[39m\n",
      "\u001b[32;1m✔\u001b[39;22m \u001b[35;1mTest01_RingBufferCest:\u001b[39;22m Push and pop all values \u001b[32m(0.00s)\u001b[39m\n",
      "\u001b[32;1m✔\u001b[39;22m \u001b[35;1mTest01_RingBufferCest:\u001b[39;22m Access values by index \u001b[32m(0.00s)\u001b[39m\n",
      "--------------------------------------------------------------------------------\n",
      "Time: 00:00.125, Memory: 8.00 MB\n",
      "\n",
      "\u001b[30;42mOK (24 tests, 75 assertions)\u001b[39;49m\n"
     ]
    }
   ],
   "source": [
    "! vendor/bin/codecept run Unit"
   ]
  },
  {
   "cell_type": "code",
   "execution_count": 59,
   "metadata": {},
   "outputs": [],
   "source": [
    "import subprocess\n",
    "phpServer = subprocess.Popen(['php', '-S', 'localhost:8888', '-t', 'public'])"
   ]
  },
  {
   "cell_type": "code",
   "execution_count": 60,
   "metadata": {},
   "outputs": [
    {
     "name": "stderr",
     "output_type": "stream",
     "text": [
      "[Mon Nov 21 05:45:32 2022] PHP 8.1.12 Development Server (http://localhost:8888) started\n"
     ]
    },
    {
     "name": "stdout",
     "output_type": "stream",
     "text": [
      "Done.\r\n"
     ]
    },
    {
     "name": "stderr",
     "output_type": "stream",
     "text": [
      "[Mon Nov 21 05:45:33 2022] [::1]:50074 Accepted\n",
      "[Mon Nov 21 05:45:33 2022] [::1]:50074 Closed without sending a request; it was probably just an unused speculative preconnection\n",
      "[Mon Nov 21 05:45:33 2022] [::1]:50074 Closing\n"
     ]
    }
   ],
   "source": [
    "! while ! timeout 1 bash -c \"echo > /dev/tcp/localhost/8888\" 2> /dev/null; do sleep 1; done; echo \"Done.\";"
   ]
  },
  {
   "cell_type": "code",
   "execution_count": 61,
   "metadata": {},
   "outputs": [
    {
     "name": "stdout",
     "output_type": "stream",
     "text": [
      "Codeception PHP Testing Framework v5.0.4 https://helpukrainewin.org\n",
      "\n",
      "\u001b[1mTests.Acceptance Tests (15) \u001b[22m----------------------------------------------------\n",
      "- \u001b[35;1mTest00_PrettyUrlCest:\u001b[39;22m Test"
     ]
    },
    {
     "name": "stderr",
     "output_type": "stream",
     "text": [
      "[Mon Nov 21 05:45:33 2022] [::1]:50090 Accepted\n",
      "[Mon Nov 21 05:45:33 2022] [::1]:50090 [200]: GET /\n",
      "[Mon Nov 21 05:45:33 2022] [::1]:50090 Closing\n",
      "[Mon Nov 21 05:45:33 2022] [::1]:50096 Accepted\n",
      "[Mon Nov 21 05:45:33 2022] [::1]:50096 [200]: GET /home\n",
      "[Mon Nov 21 05:45:33 2022] [::1]:50096 Closing\n",
      "[Mon Nov 21 05:45:33 2022] [::1]:50100 Accepted\n",
      "[Mon Nov 21 05:45:33 2022] [::1]:50100 [200]: GET /about\n",
      "[Mon Nov 21 05:45:33 2022] [::1]:50100 Closing\n",
      "[Mon Nov 21 05:45:33 2022] [::1]:50116 Accepted\n",
      "[Mon Nov 21 05:45:33 2022] [::1]:50116 [200]: GET /users\n",
      "[Mon Nov 21 05:45:33 2022] [::1]:50116 Closing\n",
      "[Mon Nov 21 05:45:33 2022] [::1]:50122 Accepted\n",
      "[Mon Nov 21 05:45:33 2022] [::1]:50122 [200]: GET /users/1\n",
      "[Mon Nov 21 05:45:33 2022] [::1]:50122 Closing\n",
      "[Mon Nov 21 05:45:33 2022] [::1]:50136 Accepted\n",
      "[Mon Nov 21 05:45:33 2022] [::1]:50136 [200]: GET /users\n",
      "[Mon Nov 21 05:45:33 2022] [::1]:50136 Closing\n",
      "[Mon Nov 21 05:45:33 2022] [::1]:50142 Accepted\n",
      "[Mon Nov 21 05:45:33 2022] [::1]:50142 [200]: GET /users/2\n",
      "[Mon Nov 21 05:45:33 2022] [::1]:50142 Closing\n",
      "[Mon Nov 21 05:45:33 2022] [::1]:50156 Accepted\n",
      "[Mon Nov 21 05:45:33 2022] [::1]:50156 [200]: GET /users\n",
      "[Mon Nov 21 05:45:33 2022] [::1]:50156 Closing\n",
      "[Mon Nov 21 05:45:33 2022] [::1]:50162 Accepted\n",
      "[Mon Nov 21 05:45:33 2022] [::1]:50162 [200]: GET /users/3\n",
      "[Mon Nov 21 05:45:33 2022] [::1]:50162 Closing\n"
     ]
    },
    {
     "name": "stdout",
     "output_type": "stream",
     "text": [
      "\u001b[32;1m✔\u001b[39;22m \u001b[35;1mTest00_PrettyUrlCest:\u001b[39;22m Test \u001b[32m(0.21s)\u001b[39m\n",
      "\u001b[32;1m✔\u001b[39;22m \u001b[35;1mTest01_FileStorageCest:\u001b[39;22m Test \u001b[32m(0.04s)\u001b[39m\n",
      "\u001b[32;1m✔\u001b[39;22m \u001b[35;1mTest02_SessionStorageCest:\u001b[39;22m Test \u001b[32m(0.01s)\u001b[39m\n",
      "\u001b[32;1m✔\u001b[39;22m \u001b[35;1mTest03_SQLiteStorageCest:\u001b[39;22m Test \u001b[32m(0.09s)\u001b[39m\n",
      "- \u001b[35;1mTest04_MySQLStorageCest:\u001b[39;22m Test"
     ]
    },
    {
     "name": "stderr",
     "output_type": "stream",
     "text": [
      "[Mon Nov 21 05:45:33 2022] [::1]:50170 Accepted\n",
      "[Mon Nov 21 05:45:33 2022] [::1]:50170 [200]: GET /demo/file\n",
      "[Mon Nov 21 05:45:33 2022] [::1]:50170 Closing\n",
      "[Mon Nov 21 05:45:33 2022] [::1]:50186 Accepted\n",
      "[Mon Nov 21 05:45:33 2022] [::1]:50186 [200]: GET /demo/session\n",
      "[Mon Nov 21 05:45:33 2022] [::1]:50186 Closing\n",
      "[Mon Nov 21 05:45:33 2022] [::1]:50200 Accepted\n",
      "[Mon Nov 21 05:45:33 2022] [::1]:50200 [200]: GET /demo/sqlite\n",
      "[Mon Nov 21 05:45:33 2022] [::1]:50200 Closing\n",
      "[Mon Nov 21 05:45:33 2022] [::1]:49108 Accepted\n"
     ]
    },
    {
     "name": "stdout",
     "output_type": "stream",
     "text": [
      "\u001b[32;1m✔\u001b[39;22m \u001b[35;1mTest04_MySQLStorageCest:\u001b[39;22m Test \u001b[32m(0.25s)\u001b[39m\n",
      "\u001b[32;1m✔\u001b[39;22m \u001b[35;1mTest05_RedisStorageCest:\u001b[39;22m Test \u001b[32m(0.05s)\u001b[39m\n",
      "- \u001b[35;1mTest06_HomepageCest:\u001b[39;22m See welcome message on homepage"
     ]
    },
    {
     "name": "stderr",
     "output_type": "stream",
     "text": [
      "[Mon Nov 21 05:45:33 2022] [::1]:49108 [200]: GET /demo/mysql\n",
      "[Mon Nov 21 05:45:33 2022] [::1]:49108 Closing\n",
      "[Mon Nov 21 05:45:34 2022] [::1]:49120 Accepted\n",
      "[Mon Nov 21 05:45:34 2022] [::1]:49120 [200]: GET /demo/mysql\n",
      "[Mon Nov 21 05:45:34 2022] [::1]:49120 Closing\n",
      "[Mon Nov 21 05:45:34 2022] [::1]:49136 Accepted\n",
      "[Mon Nov 21 05:45:34 2022] [::1]:49136 [200]: GET /demo/redis\n",
      "[Mon Nov 21 05:45:34 2022] [::1]:49136 Closing\n"
     ]
    },
    {
     "name": "stdout",
     "output_type": "stream",
     "text": [
      "\r",
      "\u001b[32;1m✔\u001b[39;22m \u001b[35;1mTest06_HomepageCest:\u001b[39;22m See login and register links \u001b[32m(0.09s)\u001b[39m\r\n",
      "- \u001b[35;1mTest07_RegisterCest:\u001b[39;22m Register new user"
     ]
    },
    {
     "name": "stderr",
     "output_type": "stream",
     "text": [
      "[Mon Nov 21 05:45:34 2022] [::1]:49148 Accepted\n",
      "[Mon Nov 21 05:45:34 2022] [::1]:49148 [200]: GET /\n",
      "[Mon Nov 21 05:45:34 2022] [::1]:49148 Closing\n",
      "[Mon Nov 21 05:45:34 2022] [::1]:49150 Accepted\n",
      "[Mon Nov 21 05:45:34 2022] [::1]:49150 [200]: GET /home\n",
      "[Mon Nov 21 05:45:34 2022] [::1]:49150 Closing\n",
      "[Mon Nov 21 05:45:34 2022] [::1]:49154 Accepted\n",
      "[Mon Nov 21 05:45:34 2022] [::1]:49154 [200]: GET /\n",
      "[Mon Nov 21 05:45:34 2022] [::1]:49154 Closing\n",
      "[Mon Nov 21 05:45:34 2022] [::1]:49156 Accepted\n",
      "[Mon Nov 21 05:45:34 2022] [::1]:49156 [200]: GET /auth/register\n",
      "[Mon Nov 21 05:45:34 2022] [::1]:49156 Closing\n",
      "[Mon Nov 21 05:45:34 2022] [::1]:49160 Accepted\n"
     ]
    },
    {
     "name": "stdout",
     "output_type": "stream",
     "text": [
      "\r",
      "\u001b[32;1m✔\u001b[39;22m \u001b[35;1mTest07_RegisterCest:\u001b[39;22m Register new user \u001b[32m(0.46s)\u001b[39m\r\n",
      "- \u001b[35;1mTest08_RegisterValidationCest:\u001b[39;22m Validate data entered during registration"
     ]
    },
    {
     "name": "stderr",
     "output_type": "stream",
     "text": [
      "[Mon Nov 21 05:45:34 2022] [::1]:49160 [302]: POST /auth/register\n",
      "[Mon Nov 21 05:45:34 2022] [::1]:49160 Closing\n",
      "[Mon Nov 21 05:45:34 2022] [::1]:49168 Accepted\n",
      "[Mon Nov 21 05:45:34 2022] [::1]:49168 [200]: GET /auth/confirmation_notice\n",
      "[Mon Nov 21 05:45:34 2022] [::1]:49168 Closing\n"
     ]
    },
    {
     "name": "stdout",
     "output_type": "stream",
     "text": [
      "\r",
      "\u001b[31;1m✖\u001b[39;22m \u001b[35;1mTest08_RegisterValidationCest:\u001b[39;22m Validate data entered during registration \u001b[32m(0.18s)\u001b[39m\r\n",
      "- \u001b[35;1mTest09_RegisterRememberFieldsCest:\u001b[39;22m Remember data entered during registration when validation error is present"
     ]
    },
    {
     "name": "stderr",
     "output_type": "stream",
     "text": [
      "[Mon Nov 21 05:45:34 2022] [::1]:49176 Accepted\n",
      "[Mon Nov 21 05:45:34 2022] [::1]:49176 [200]: GET /auth/register\n",
      "[Mon Nov 21 05:45:34 2022] [::1]:49176 Closing\n",
      "[Mon Nov 21 05:45:34 2022] [::1]:49192 Accepted\n",
      "[Mon Nov 21 05:45:34 2022] [::1]:49192 [200]: POST /auth/register\n",
      "[Mon Nov 21 05:45:34 2022] [::1]:49192 Closing\n",
      "[Mon Nov 21 05:45:34 2022] [::1]:49202 Accepted\n",
      "[Mon Nov 21 05:45:34 2022] [::1]:49202 [200]: POST /auth/register\n",
      "[Mon Nov 21 05:45:34 2022] [::1]:49202 Closing\n",
      "[Mon Nov 21 05:45:34 2022] [::1]:49212 Accepted\n",
      "[Mon Nov 21 05:45:34 2022] [::1]:49212 [200]: GET /auth/register\n",
      "[Mon Nov 21 05:45:34 2022] [::1]:49212 Closing\n",
      "[Mon Nov 21 05:45:34 2022] [::1]:49226 Accepted\n",
      "[Mon Nov 21 05:45:34 2022] [::1]:49226 [200]: POST /auth/register\n",
      "[Mon Nov 21 05:45:34 2022] [::1]:49226 Closing\n",
      "[Mon Nov 21 05:45:34 2022] [::1]:49242 Accepted\n",
      "[Mon Nov 21 05:45:34 2022] [::1]:49242 [200]: POST /auth/register\n",
      "[Mon Nov 21 05:45:34 2022] [::1]:49242 Closing\n",
      "[Mon Nov 21 05:45:35 2022] [::1]:49244 Accepted\n",
      "[Mon Nov 21 05:45:35 2022] [::1]:49244 [200]: POST /auth/register\n",
      "[Mon Nov 21 05:45:35 2022] [::1]:49244 Closing\n"
     ]
    },
    {
     "name": "stdout",
     "output_type": "stream",
     "text": [
      "\u001b[31;1m✖\u001b[39;22m \u001b[35;1mTest09_RegisterRememberFieldsCest:\u001b[39;22m Remember data entered during registration when validation error is present \u001b[32m(0.18s)\u001b[39m\n",
      "\u001b[31;1mE\u001b[39;22m \u001b[35;1mTest10_RegisterConfirmCest:\u001b[39;22m Confirm user using link \u001b[32m(0.06s)\u001b[39m\n",
      "- \u001b[35;1mTest11_LoginNotExistingCest:\u001b[39;22m See error when user does not exists"
     ]
    },
    {
     "name": "stderr",
     "output_type": "stream",
     "text": [
      "[Mon Nov 21 05:45:35 2022] [::1]:49254 Accepted\n",
      "[Mon Nov 21 05:45:35 2022] [::1]:49254 [200]: POST /auth/register\n",
      "[Mon Nov 21 05:45:35 2022] [::1]:49254 Closing\n",
      "[Mon Nov 21 05:45:35 2022] [::1]:49260 Accepted\n",
      "[Mon Nov 21 05:45:35 2022] [::1]:49260 [200]: POST /auth/register\n",
      "[Mon Nov 21 05:45:35 2022] [::1]:49260 Closing\n",
      "[Mon Nov 21 05:45:35 2022] [::1]:49268 Accepted\n",
      "[Mon Nov 21 05:45:35 2022] [::1]:49268 [200]: GET /auth/login\n",
      "[Mon Nov 21 05:45:35 2022] [::1]:49268 Closing\n"
     ]
    },
    {
     "name": "stdout",
     "output_type": "stream",
     "text": [
      "\u001b[31;1m✖\u001b[39;22m \u001b[35;1mTest11_LoginNotExistingCest:\u001b[39;22m See error when user does not exists \u001b[32m(0.07s)\u001b[39m\n",
      "\u001b[31;1m✖\u001b[39;22m \u001b[35;1mTest12_LoginWrongPasswordCest:\u001b[39;22m See error when wrong password is entered \u001b[32m(0.08s)\u001b[39m\n",
      "\u001b[31;1m✖\u001b[39;22m \u001b[35;1mTest13_LoginNotConfirmedCest:\u001b[39;22m Be remained about email confirmation when trying to login \u001b[32m(0.08s)\u001b[39m\n",
      "\u001b[31;1mE\u001b[39;22m \u001b[35;1mTest14_LoginLogoutSeeHiddenContentCest:\u001b[39;22m See hidden content after login \u001b[32m(0.06s)\u001b[39m\n",
      "--------------------------------------------------------------------------------\n",
      "Time: 00:02.087, Memory: 12.00 MB\n",
      "\n",
      "There were 2 errors:\n",
      "1) \u001b[35;1mTest10_RegisterConfirmCest:\u001b[39;22m Confirm user using link\n",
      "\u001b[37;41;1m Test  \u001b[39;49;22mtests/Acceptance/Test10_RegisterConfirmCest.php:test\n",
      "\u001b[37;41;1m                                                                                                                                                                                                                                                   \u001b[39;49;22m\n",
      "\u001b[37;41;1m  [ArgumentCountError] Too few arguments to function Model\\User::__construct(), 1 passed in /home/student/php_2022_adam_lewinski/07_testing/02_exercise/project/tests/Acceptance/Test10_RegisterConfirmCest.php on line 17 and exactly 5 expected  \u001b[39;49;22m\n",
      "\u001b[37;41;1m                                                                                                                                                                                                                                                   \u001b[39;49;22m\n",
      "#1  /home/student/php_2022_adam_lewinski/07_testing/02_exercise/project/src/Model/User.php:15\n",
      "#2  /home/student/php_2022_adam_lewinski/07_testing/02_exercise/project/tests/Acceptance/Test10_RegisterConfirmCest.php:17\n",
      "#3  Tests\\Acceptance\\Test10_RegisterConfirmCest->test\n",
      "#4  /home/student/php_2022_adam_lewinski/07_testing/02_exercise/project/vendor/bin/codecept:120\n",
      "2) \u001b[35;1mTest14_LoginLogoutSeeHiddenContentCest:\u001b[39;22m See hidden content after login\n",
      "\u001b[37;41;1m Test  \u001b[39;49;22mtests/Acceptance/Test14_LoginLogoutSeeHiddenContentCest.php:test\n"
     ]
    },
    {
     "name": "stderr",
     "output_type": "stream",
     "text": [
      "[Mon Nov 21 05:45:35 2022] [::1]:49278 Accepted\n",
      "[Mon Nov 21 05:45:35 2022] [::1]:49278 [200]: GET /auth/login\n",
      "[Mon Nov 21 05:45:35 2022] [::1]:49278 Closing\n",
      "[Mon Nov 21 05:45:35 2022] [::1]:49286 Accepted\n",
      "[Mon Nov 21 05:45:35 2022] [::1]:49286 [200]: GET /auth/login\n",
      "[Mon Nov 21 05:45:35 2022] [::1]:49286 Closing\n"
     ]
    },
    {
     "name": "stdout",
     "output_type": "stream",
     "text": [
      "\u001b[37;41;1m                                                                                                                                                                                                                                                               \u001b[39;49;22m\r\n",
      "\u001b[37;41;1m  [ArgumentCountError] Too few arguments to function Model\\User::__construct(), 1 passed in /home/student/php_2022_adam_lewinski/07_testing/02_exercise/project/tests/Acceptance/Test14_LoginLogoutSeeHiddenContentCest.php on line 17 and exactly 5 expected  \u001b[39;49;22m\r\n",
      "\u001b[37;41;1m                                                                                                                                                                                                                                                               \u001b[39;49;22m\r\n",
      "#1  /home/student/php_2022_adam_lewinski/07_testing/02_exercise/project/src/Model/User.php:15\r\n",
      "#2  /home/student/php_2022_adam_lewinski/07_testing/02_exercise/project/tests/Acceptance/Test14_LoginLogoutSeeHiddenContentCest.php:17\r\n",
      "#3  Tests\\Acceptance\\Test14_LoginLogoutSeeHiddenContentCest->test\r\n",
      "#4  /home/student/php_2022_adam_lewinski/07_testing/02_exercise/project/vendor/bin/codecept:120\r\n",
      "\r\n",
      "---------\r\n",
      "\r\n",
      "There were 5 failures:\r\n",
      "1) \u001b[35;1mTest08_RegisterValidationCest:\u001b[39;22m Validate data entered during registration\r\n",
      "\u001b[37;41;1m Test  \u001b[39;49;22mtests/Acceptance/Test08_RegisterValidationCest.php:test\r\n",
      "\u001b[37;41;1m Step \u001b[39;49;22m See in title \"Login\"\r\n",
      "\u001b[37;41;1m Fail \u001b[39;49;22m Element located either by name, CSS or XPath element with 'li.error' was not found.\r\n",
      "\u001b[33m\r\n",
      "Scenario Steps:\r\n",
      "\u001b[39m\r\n",
      "\u001b[1m 19. $I->see(\"The password confirmation filed does not match the...\",\"li.error\")\u001b[22m at \u001b[32mtests/Acceptance/Test08_RegisterValidationCest.php:41\u001b[39m\r\n",
      " 18. $I->seeCurrentUrlEquals(\"/auth/register\") at \u001b[32mtests/Acceptance/Test08_RegisterValidationCest.php:39\u001b[39m\r\n",
      " 17. $I->click(\"Create\") at \u001b[32mtests/Acceptance/Test08_RegisterValidationCest.php:38\u001b[39m\r\n",
      " 16. $I->fillField(\"password_confirmation\",\"vey_long_and_complex_password_c...\") at \u001b[32mtests/Acceptance/Test08_RegisterValidationCest.php:36\u001b[39m\r\n",
      " 15. $I->fillField(\"password\",\"vey_long_and_complex_password\") at \u001b[32mtests/Acceptance/Test08_RegisterValidationCest.php:35\u001b[39m\r\n",
      " 14. $I->fillField(\"email\",\"foo@bar.com\") at \u001b[32mtests/Acceptance/Test08_RegisterValidationCest.php:34\u001b[39m\r\n",
      "\r\n",
      "\u001b[33mArtifacts:\u001b[39m\r\n",
      "\r\n",
      "Html: \u001b[36m/home/student/php_2022_adam_lewinski/07_testing/02_exercise/project/tests/_output/Tests.Acceptance.Test08_RegisterValidationCest.test.fail.html\u001b[39m\r\n",
      "Response: \u001b[36m/home/student/php_2022_adam_lewinski/07_testing/02_exercise/project/tests/_output/Tests.Acceptance.Test08_RegisterValidationCest.test.fail.html\u001b[39m\r\n",
      "2) \u001b[35;1mTest09_RegisterRememberFieldsCest:\u001b[39;22m Remember data entered during registration when validation error is present\r\n",
      "\u001b[37;41;1m Test  \u001b[39;49;22mtests/Acceptance/Test09_RegisterRememberFieldsCest.php:test\r\n",
      "\u001b[37;41;1m Step \u001b[39;49;22m See in title \"Login\"\r\n",
      "\u001b[37;41;1m Fail \u001b[39;49;22m Failed asserting that `` is in input's value: array (\r\n",
      "  0 => 'password',\r\n",
      ")\r\n",
      "Failed asserting that an array contains ''.\r\n",
      "\u001b[33m\r\n",
      "Scenario Steps:\r\n",
      "\u001b[39m\r\n",
      "\u001b[1m 62. $I->seeInField(\"password\",\"\")\u001b[22m at \u001b[32mtests/Acceptance/Test09_RegisterRememberFieldsCest.php:93\u001b[39m\r\n",
      " 61. $I->dontSee(\"The password filed cannot be empty\",\"li.error\") at \u001b[32mtests/Acceptance/Test09_RegisterRememberFieldsCest.php:92\u001b[39m\r\n",
      " 60. $I->seeInField(\"email\",\"foo@bar.com\") at \u001b[32mtests/Acceptance/Test09_RegisterRememberFieldsCest.php:91\u001b[39m\r\n",
      " 59. $I->dontSee(\"The email filed cannot be empty\",\"li.error\") at \u001b[32mtests/Acceptance/Test09_RegisterRememberFieldsCest.php:90\u001b[39m\r\n",
      " 58. $I->seeInField(\"surname\",\"Surname\") at \u001b[32mtests/Acceptance/Test09_RegisterRememberFieldsCest.php:89\u001b[39m\r\n",
      " 57. $I->dontSee(\"The surname filed cannot be empty\",\"li.error\") at \u001b[32mtests/Acceptance/Test09_RegisterRememberFieldsCest.php:88\u001b[39m\r\n",
      "\r\n",
      "\u001b[33mArtifacts:\u001b[39m\r\n",
      "\r\n",
      "Html: \u001b[36m/home/student/php_2022_adam_lewinski/07_testing/02_exercise/project/tests/_output/Tests.Acceptance.Test09_RegisterRememberFieldsCest.test.fail.html\u001b[39m\r\n",
      "Response: \u001b[36m/home/student/php_2022_adam_lewinski/07_testing/02_exercise/project/tests/_output/Tests.Acceptance.Test09_RegisterRememberFieldsCest.test.fail.html\u001b[39m\r\n",
      "3) \u001b[35;1mTest11_LoginNotExistingCest:\u001b[39;22m See error when user does not exists\r\n",
      "\u001b[37;41;1m Test  \u001b[39;49;22mtests/Acceptance/Test11_LoginNotExistingCest.php:test\r\n",
      "\u001b[37;41;1m Step \u001b[39;49;22m See in title \"Login\"\r\n",
      "\u001b[37;41;1m Fail \u001b[39;49;22m page title contains Login\r\n",
      "Failed asserting that '404' contains \"Login\".\r\n",
      "\u001b[33m\r\n",
      "Scenario Steps:\r\n",
      "\u001b[39m\r\n",
      "\u001b[1m 2. $I->seeInTitle(\"Login\")\u001b[22m at \u001b[32mtests/Acceptance/Test11_LoginNotExistingCest.php:18\u001b[39m\r\n",
      " 1. $I->amOnPage(\"/auth/login\") at \u001b[32mtests/Acceptance/Test11_LoginNotExistingCest.php:16\u001b[39m\r\n",
      "\r\n",
      "\u001b[33mArtifacts:\u001b[39m\r\n",
      "\r\n",
      "Html: \u001b[36m/home/student/php_2022_adam_lewinski/07_testing/02_exercise/project/tests/_output/Tests.Acceptance.Test11_LoginNotExistingCest.test.fail.html\u001b[39m\r\n",
      "Response: \u001b[36m/home/student/php_2022_adam_lewinski/07_testing/02_exercise/project/tests/_output/Tests.Acceptance.Test11_LoginNotExistingCest.test.fail.html\u001b[39m\r\n",
      "4) \u001b[35;1mTest12_LoginWrongPasswordCest:\u001b[39;22m See error when wrong password is entered\r\n",
      "\u001b[37;41;1m Test  \u001b[39;49;22mtests/Acceptance/Test12_LoginWrongPasswordCest.php:test\r\n",
      "page title contains Login\r\n",
      "Failed asserting that '404' contains \"Login\".\r\n",
      "\u001b[33m\r\n",
      "Scenario Steps:\r\n",
      "\u001b[39m\r\n",
      "\u001b[1m 2. $I->seeInTitle(\"Login\")\u001b[22m at \u001b[32mtests/Acceptance/Test12_LoginWrongPasswordCest.php:19\u001b[39m\r\n",
      " 1. $I->amOnPage(\"/auth/login\") at \u001b[32mtests/Acceptance/Test12_LoginWrongPasswordCest.php:17\u001b[39m\r\n",
      "\r\n",
      "\u001b[33mArtifacts:\u001b[39m\r\n",
      "\r\n",
      "Html: \u001b[36m/home/student/php_2022_adam_lewinski/07_testing/02_exercise/project/tests/_output/Tests.Acceptance.Test12_LoginWrongPasswordCest.test.fail.html\u001b[39m\r\n",
      "Response: \u001b[36m/home/student/php_2022_adam_lewinski/07_testing/02_exercise/project/tests/_output/Tests.Acceptance.Test12_LoginWrongPasswordCest.test.fail.html\u001b[39m\r\n",
      "5) \u001b[35;1mTest13_LoginNotConfirmedCest:\u001b[39;22m Be remained about email confirmation when trying to login\r\n",
      "\u001b[37;41;1m Test  \u001b[39;49;22mtests/Acceptance/Test13_LoginNotConfirmedCest.php:test\r\n",
      "page title contains Login\r\n",
      "Failed asserting that '404' contains \"Login\".\r\n",
      "\u001b[33m\r\n",
      "Scenario Steps:\r\n",
      "\u001b[39m\r\n",
      "\u001b[1m 2. $I->seeInTitle(\"Login\")\u001b[22m at \u001b[32mtests/Acceptance/Test13_LoginNotConfirmedCest.php:18\u001b[39m\r\n",
      " 1. $I->amOnPage(\"/auth/login\") at \u001b[32mtests/Acceptance/Test13_LoginNotConfirmedCest.php:16\u001b[39m\r\n",
      "\r\n",
      "\u001b[33mArtifacts:\u001b[39m\r\n",
      "\r\n",
      "Html: \u001b[36m/home/student/php_2022_adam_lewinski/07_testing/02_exercise/project/tests/_output/Tests.Acceptance.Test13_LoginNotConfirmedCest.test.fail.html\u001b[39m\r\n",
      "Response: \u001b[36m/home/student/php_2022_adam_lewinski/07_testing/02_exercise/project/tests/_output/Tests.Acceptance.Test13_LoginNotConfirmedCest.test.fail.html\u001b[39m\r\n",
      "\r\n",
      "\u001b[37;41;1mERRORS!\u001b[39;49;22m\r\n",
      "\u001b[37;41;1mTests: 15, Assertions: 221, Errors: 2, Failures: 5.\u001b[39;49;22m\r\n"
     ]
    }
   ],
   "source": [
    "! vendor/bin/codecept run Acceptance"
   ]
  },
  {
   "cell_type": "code",
   "execution_count": 62,
   "metadata": {},
   "outputs": [
    {
     "name": "stdout",
     "output_type": "stream",
     "text": [
      "Codeception PHP Testing Framework v5.0.4 https://helpukrainewin.org\n",
      "\n",
      "\u001b[1mTests.Acceptance Tests (15) \u001b[22m----------------------------------------------------\n",
      "\u001b[32;1m✔\u001b[39;22m \u001b[35;1mTest00_PrettyUrlCest:\u001b[39;22m Test \u001b[32m(0.14s)\u001b[39m\n",
      "\u001b[32;1m✔\u001b[39;22m \u001b[35;1mTest01_FileStorageCest:\u001b[39;22m Test \u001b[32m(0.03s)\u001b[39m\n",
      "\u001b[32;1m✔\u001b[39;22m \u001b[35;1mTest02_SessionStorageCest:\u001b[39;22m Test \u001b[32m(0.01s)\u001b[39m\n",
      "- \u001b[35;1mTest03_SQLiteStorageCest:\u001b[39;22m Test"
     ]
    },
    {
     "name": "stderr",
     "output_type": "stream",
     "text": [
      "[Mon Nov 21 05:45:35 2022] [::1]:49294 Accepted\n",
      "[Mon Nov 21 05:45:35 2022] [::1]:49294 [200]: GET /\n",
      "[Mon Nov 21 05:45:35 2022] [::1]:49294 Closing\n",
      "[Mon Nov 21 05:45:35 2022] [::1]:49306 Accepted\n",
      "[Mon Nov 21 05:45:35 2022] [::1]:49306 [200]: GET /home\n",
      "[Mon Nov 21 05:45:35 2022] [::1]:49306 Closing\n",
      "[Mon Nov 21 05:45:35 2022] [::1]:49318 Accepted\n",
      "[Mon Nov 21 05:45:35 2022] [::1]:49318 [200]: GET /about\n",
      "[Mon Nov 21 05:45:35 2022] [::1]:49318 Closing\n",
      "[Mon Nov 21 05:45:35 2022] [::1]:49334 Accepted\n",
      "[Mon Nov 21 05:45:36 2022] [::1]:49334 [200]: GET /users\n",
      "[Mon Nov 21 05:45:36 2022] [::1]:49334 Closing\n",
      "[Mon Nov 21 05:45:36 2022] [::1]:49336 Accepted\n",
      "[Mon Nov 21 05:45:36 2022] [::1]:49336 [200]: GET /users/1\n",
      "[Mon Nov 21 05:45:36 2022] [::1]:49336 Closing\n",
      "[Mon Nov 21 05:45:36 2022] [::1]:49344 Accepted\n",
      "[Mon Nov 21 05:45:36 2022] [::1]:49344 [200]: GET /users\n",
      "[Mon Nov 21 05:45:36 2022] [::1]:49344 Closing\n",
      "[Mon Nov 21 05:45:36 2022] [::1]:49356 Accepted\n",
      "[Mon Nov 21 05:45:36 2022] [::1]:49356 [200]: GET /users/2\n",
      "[Mon Nov 21 05:45:36 2022] [::1]:49356 Closing\n",
      "[Mon Nov 21 05:45:36 2022] [::1]:49372 Accepted\n",
      "[Mon Nov 21 05:45:36 2022] [::1]:49372 [200]: GET /users\n",
      "[Mon Nov 21 05:45:36 2022] [::1]:49372 Closing\n",
      "[Mon Nov 21 05:45:36 2022] [::1]:49374 Accepted\n",
      "[Mon Nov 21 05:45:36 2022] [::1]:49374 [200]: GET /users/3\n",
      "[Mon Nov 21 05:45:36 2022] [::1]:49374 Closing\n",
      "[Mon Nov 21 05:45:36 2022] [::1]:49382 Accepted\n",
      "[Mon Nov 21 05:45:36 2022] [::1]:49382 [200]: GET /demo/file\n",
      "[Mon Nov 21 05:45:36 2022] [::1]:49382 Closing\n",
      "[Mon Nov 21 05:45:36 2022] [::1]:49384 Accepted\n",
      "[Mon Nov 21 05:45:36 2022] [::1]:49384 [200]: GET /demo/session\n",
      "[Mon Nov 21 05:45:36 2022] [::1]:49384 Closing\n",
      "[Mon Nov 21 05:45:36 2022] [::1]:49394 Accepted\n"
     ]
    },
    {
     "name": "stdout",
     "output_type": "stream",
     "text": [
      "\r",
      "\u001b[32;1m✔\u001b[39;22m \u001b[35;1mTest03_SQLiteStorageCest:\u001b[39;22m Test \u001b[32m(0.08s)\u001b[39m\r\n",
      "- \u001b[35;1mTest04_MySQLStorageCest:\u001b[39;22m Test"
     ]
    },
    {
     "name": "stderr",
     "output_type": "stream",
     "text": [
      "[Mon Nov 21 05:45:36 2022] [::1]:49394 [200]: GET /demo/sqlite\n",
      "[Mon Nov 21 05:45:36 2022] [::1]:49394 Closing\n",
      "[Mon Nov 21 05:45:36 2022] [::1]:49396 Accepted\n",
      "[Mon Nov 21 05:45:36 2022] [::1]:49396 [200]: GET /demo/mysql\n",
      "[Mon Nov 21 05:45:36 2022] [::1]:49396 Closing\n",
      "[Mon Nov 21 05:45:36 2022] [::1]:49408 Accepted\n"
     ]
    },
    {
     "name": "stdout",
     "output_type": "stream",
     "text": [
      "\u001b[32;1m✔\u001b[39;22m \u001b[35;1mTest04_MySQLStorageCest:\u001b[39;22m Test \u001b[32m(0.28s)\u001b[39m\n",
      "\u001b[32;1m✔\u001b[39;22m \u001b[35;1mTest05_RedisStorageCest:\u001b[39;22m Test \u001b[32m(0.04s)\u001b[39m\n",
      "- \u001b[35;1mTest06_HomepageCest:\u001b[39;22m See welcome message on homepage"
     ]
    },
    {
     "name": "stderr",
     "output_type": "stream",
     "text": [
      "[Mon Nov 21 05:45:36 2022] [::1]:49408 [200]: GET /demo/mysql\n",
      "[Mon Nov 21 05:45:36 2022] [::1]:49408 Closing\n",
      "[Mon Nov 21 05:45:36 2022] [::1]:49420 Accepted\n",
      "[Mon Nov 21 05:45:36 2022] [::1]:49420 [200]: GET /demo/redis\n",
      "[Mon Nov 21 05:45:36 2022] [::1]:49420 Closing\n",
      "[Mon Nov 21 05:45:36 2022] [::1]:49422 Accepted\n",
      "[Mon Nov 21 05:45:36 2022] [::1]:49422 [200]: GET /\n",
      "[Mon Nov 21 05:45:36 2022] [::1]:49422 Closing\n",
      "[Mon Nov 21 05:45:36 2022] [::1]:49426 Accepted\n",
      "[Mon Nov 21 05:45:36 2022] [::1]:49426 [200]: GET /home\n",
      "[Mon Nov 21 05:45:36 2022] [::1]:49426 Closing\n"
     ]
    },
    {
     "name": "stdout",
     "output_type": "stream",
     "text": [
      "\r",
      "\u001b[32;1m✔\u001b[39;22m \u001b[35;1mTest06_HomepageCest:\u001b[39;22m See login and register links \u001b[32m(0.08s)\u001b[39m\r\n",
      "- \u001b[35;1mTest07_RegisterCest:\u001b[39;22m Register new user"
     ]
    },
    {
     "name": "stderr",
     "output_type": "stream",
     "text": [
      "[Mon Nov 21 05:45:36 2022] [::1]:49438 Accepted\n",
      "[Mon Nov 21 05:45:36 2022] [::1]:49438 [200]: GET /\n",
      "[Mon Nov 21 05:45:36 2022] [::1]:49438 Closing\n",
      "[Mon Nov 21 05:45:36 2022] [::1]:49446 Accepted\n",
      "[Mon Nov 21 05:45:36 2022] [::1]:49446 [200]: GET /auth/register\n",
      "[Mon Nov 21 05:45:36 2022] [::1]:49446 Closing\n",
      "[Mon Nov 21 05:45:36 2022] [::1]:49454 Accepted\n"
     ]
    },
    {
     "name": "stdout",
     "output_type": "stream",
     "text": [
      "\r",
      "\u001b[32;1m✔\u001b[39;22m \u001b[35;1mTest07_RegisterCest:\u001b[39;22m Register new user \u001b[32m(0.44s)\u001b[39m\r\n",
      "- \u001b[35;1mTest08_RegisterValidationCest:\u001b[39;22m Validate data entered during registration"
     ]
    },
    {
     "name": "stderr",
     "output_type": "stream",
     "text": [
      "[Mon Nov 21 05:45:36 2022] [::1]:49454 [302]: POST /auth/register\n",
      "[Mon Nov 21 05:45:36 2022] [::1]:49454 Closing\n",
      "[Mon Nov 21 05:45:36 2022] [::1]:49464 Accepted\n",
      "[Mon Nov 21 05:45:36 2022] [::1]:49464 [200]: GET /auth/confirmation_notice\n",
      "[Mon Nov 21 05:45:36 2022] [::1]:49464 Closing\n"
     ]
    },
    {
     "name": "stdout",
     "output_type": "stream",
     "text": [
      "\r",
      "\u001b[31;1m✖\u001b[39;22m \u001b[35;1mTest08_RegisterValidationCest:\u001b[39;22m Validate data entered during registration \u001b[32m(0.13s)\u001b[39m\r\n",
      "- \u001b[35;1mTest09_RegisterRememberFieldsCest:\u001b[39;22m Remember data entered during registration when validation error is present"
     ]
    },
    {
     "name": "stderr",
     "output_type": "stream",
     "text": [
      "[Mon Nov 21 05:45:37 2022] [::1]:49466 Accepted\n",
      "[Mon Nov 21 05:45:37 2022] [::1]:49466 [200]: GET /auth/register\n",
      "[Mon Nov 21 05:45:37 2022] [::1]:49466 Closing\n",
      "[Mon Nov 21 05:45:37 2022] [::1]:49468 Accepted\n",
      "[Mon Nov 21 05:45:37 2022] [::1]:49468 [200]: POST /auth/register\n",
      "[Mon Nov 21 05:45:37 2022] [::1]:49468 Closing\n",
      "[Mon Nov 21 05:45:37 2022] [::1]:49484 Accepted\n",
      "[Mon Nov 21 05:45:37 2022] [::1]:49484 [200]: POST /auth/register\n",
      "[Mon Nov 21 05:45:37 2022] [::1]:49484 Closing\n",
      "[Mon Nov 21 05:45:37 2022] [::1]:49500 Accepted\n",
      "[Mon Nov 21 05:45:37 2022] [::1]:49500 [200]: GET /auth/register\n",
      "[Mon Nov 21 05:45:37 2022] [::1]:49500 Closing\n",
      "[Mon Nov 21 05:45:37 2022] [::1]:49516 Accepted\n",
      "[Mon Nov 21 05:45:37 2022] [::1]:49516 [200]: POST /auth/register\n",
      "[Mon Nov 21 05:45:37 2022] [::1]:49516 Closing\n",
      "[Mon Nov 21 05:45:37 2022] [::1]:49528 Accepted\n",
      "[Mon Nov 21 05:45:37 2022] [::1]:49528 [200]: POST /auth/register\n",
      "[Mon Nov 21 05:45:37 2022] [::1]:49528 Closing\n",
      "[Mon Nov 21 05:45:37 2022] [::1]:49542 Accepted\n",
      "[Mon Nov 21 05:45:37 2022] [::1]:49542 [200]: POST /auth/register\n",
      "[Mon Nov 21 05:45:37 2022] [::1]:49542 Closing\n"
     ]
    },
    {
     "name": "stdout",
     "output_type": "stream",
     "text": [
      "\u001b[31;1m✖\u001b[39;22m \u001b[35;1mTest09_RegisterRememberFieldsCest:\u001b[39;22m Remember data entered during registration when validation error is present \u001b[32m(0.19s)\u001b[39m\n",
      "\u001b[31;1mE\u001b[39;22m \u001b[35;1mTest10_RegisterConfirmCest:\u001b[39;22m Confirm user using link \u001b[32m(0.06s)\u001b[39m\n",
      "- \u001b[35;1mTest11_LoginNotExistingCest:\u001b[39;22m See error when user does not exists"
     ]
    },
    {
     "name": "stderr",
     "output_type": "stream",
     "text": [
      "[Mon Nov 21 05:45:37 2022] [::1]:49546 Accepted\n",
      "[Mon Nov 21 05:45:37 2022] [::1]:49546 [200]: POST /auth/register\n",
      "[Mon Nov 21 05:45:37 2022] [::1]:49546 Closing\n",
      "[Mon Nov 21 05:45:37 2022] [::1]:49548 Accepted\n",
      "[Mon Nov 21 05:45:37 2022] [::1]:49548 [200]: POST /auth/register\n",
      "[Mon Nov 21 05:45:37 2022] [::1]:49548 Closing\n",
      "[Mon Nov 21 05:45:37 2022] [::1]:49550 Accepted\n",
      "[Mon Nov 21 05:45:37 2022] [::1]:49550 [200]: GET /auth/login\n",
      "[Mon Nov 21 05:45:37 2022] [::1]:49550 Closing\n"
     ]
    },
    {
     "name": "stdout",
     "output_type": "stream",
     "text": [
      "\u001b[31;1m✖\u001b[39;22m \u001b[35;1mTest11_LoginNotExistingCest:\u001b[39;22m See error when user does not exists \u001b[32m(0.07s)\u001b[39m\n",
      "\u001b[31;1m✖\u001b[39;22m \u001b[35;1mTest12_LoginWrongPasswordCest:\u001b[39;22m See error when wrong password is entered \u001b[32m(0.07s)\u001b[39m\n",
      "\u001b[31;1m✖\u001b[39;22m \u001b[35;1mTest13_LoginNotConfirmedCest:\u001b[39;22m Be remained about email confirmation when trying to login \u001b[32m(0.08s)\u001b[39m\n",
      "\u001b[31;1mE\u001b[39;22m \u001b[35;1mTest14_LoginLogoutSeeHiddenContentCest:\u001b[39;22m See hidden content after login \u001b[32m(0.06s)\u001b[39m\n",
      "--------------------------------------------------------------------------------\n",
      "Time: 00:01.966, Memory: 12.00 MB\n",
      "\n",
      "There were 2 errors:\n",
      "1) \u001b[35;1mTest10_RegisterConfirmCest:\u001b[39;22m Confirm user using link\n",
      "\u001b[37;41;1m Test  \u001b[39;49;22mtests/Acceptance/Test10_RegisterConfirmCest.php:test\n"
     ]
    },
    {
     "name": "stderr",
     "output_type": "stream",
     "text": [
      "[Mon Nov 21 05:45:37 2022] [::1]:49552 Accepted\n",
      "[Mon Nov 21 05:45:37 2022] [::1]:49552 [200]: GET /auth/login\n",
      "[Mon Nov 21 05:45:37 2022] [::1]:49552 Closing\n",
      "[Mon Nov 21 05:45:37 2022] [::1]:49566 Accepted\n",
      "[Mon Nov 21 05:45:37 2022] [::1]:49566 [200]: GET /auth/login\n",
      "[Mon Nov 21 05:45:37 2022] [::1]:49566 Closing\n"
     ]
    },
    {
     "name": "stdout",
     "output_type": "stream",
     "text": [
      "\u001b[37;41;1m                                                                                                                                                                                                                                                   \u001b[39;49;22m\r\n",
      "\u001b[37;41;1m  [ArgumentCountError] Too few arguments to function Model\\User::__construct(), 1 passed in /home/student/php_2022_adam_lewinski/07_testing/02_exercise/project/tests/Acceptance/Test10_RegisterConfirmCest.php on line 17 and exactly 5 expected  \u001b[39;49;22m\r\n",
      "\u001b[37;41;1m                                                                                                                                                                                                                                                   \u001b[39;49;22m\r\n",
      "#1  /home/student/php_2022_adam_lewinski/07_testing/02_exercise/project/src/Model/User.php:15\r\n",
      "#2  /home/student/php_2022_adam_lewinski/07_testing/02_exercise/project/tests/Acceptance/Test10_RegisterConfirmCest.php:17\r\n",
      "#3  Tests\\Acceptance\\Test10_RegisterConfirmCest->test\r\n",
      "#4  /home/student/php_2022_adam_lewinski/07_testing/02_exercise/project/vendor/bin/codecept:120\r\n",
      "2) \u001b[35;1mTest14_LoginLogoutSeeHiddenContentCest:\u001b[39;22m See hidden content after login\r\n",
      "\u001b[37;41;1m Test  \u001b[39;49;22mtests/Acceptance/Test14_LoginLogoutSeeHiddenContentCest.php:test\r\n",
      "\u001b[37;41;1m                                                                                                                                                                                                                                                               \u001b[39;49;22m\r\n",
      "\u001b[37;41;1m  [ArgumentCountError] Too few arguments to function Model\\User::__construct(), 1 passed in /home/student/php_2022_adam_lewinski/07_testing/02_exercise/project/tests/Acceptance/Test14_LoginLogoutSeeHiddenContentCest.php on line 17 and exactly 5 expected  \u001b[39;49;22m\r\n",
      "\u001b[37;41;1m                                                                                                                                                                                                                                                               \u001b[39;49;22m\r\n",
      "#1  /home/student/php_2022_adam_lewinski/07_testing/02_exercise/project/src/Model/User.php:15\r\n",
      "#2  /home/student/php_2022_adam_lewinski/07_testing/02_exercise/project/tests/Acceptance/Test14_LoginLogoutSeeHiddenContentCest.php:17\r\n",
      "#3  Tests\\Acceptance\\Test14_LoginLogoutSeeHiddenContentCest->test\r\n",
      "#4  /home/student/php_2022_adam_lewinski/07_testing/02_exercise/project/vendor/bin/codecept:120\r\n",
      "\r\n",
      "---------\r\n",
      "\r\n",
      "There were 5 failures:\r\n",
      "1) \u001b[35;1mTest08_RegisterValidationCest:\u001b[39;22m Validate data entered during registration\r\n",
      "\u001b[37;41;1m Test  \u001b[39;49;22mtests/Acceptance/Test08_RegisterValidationCest.php:test\r\n",
      "\u001b[37;41;1m Step \u001b[39;49;22m See in title \"Login\"\r\n",
      "\u001b[37;41;1m Fail \u001b[39;49;22m Element located either by name, CSS or XPath element with 'li.error' was not found.\r\n",
      "\u001b[33m\r\n",
      "Scenario Steps:\r\n",
      "\u001b[39m\r\n",
      "\u001b[1m 19. $I->see(\"The password confirmation filed does not match the...\",\"li.error\")\u001b[22m at \u001b[32mtests/Acceptance/Test08_RegisterValidationCest.php:41\u001b[39m\r\n",
      " 18. $I->seeCurrentUrlEquals(\"/auth/register\") at \u001b[32mtests/Acceptance/Test08_RegisterValidationCest.php:39\u001b[39m\r\n",
      " 17. $I->click(\"Create\") at \u001b[32mtests/Acceptance/Test08_RegisterValidationCest.php:38\u001b[39m\r\n",
      " 16. $I->fillField(\"password_confirmation\",\"vey_long_and_complex_password_c...\") at \u001b[32mtests/Acceptance/Test08_RegisterValidationCest.php:36\u001b[39m\r\n",
      " 15. $I->fillField(\"password\",\"vey_long_and_complex_password\") at \u001b[32mtests/Acceptance/Test08_RegisterValidationCest.php:35\u001b[39m\r\n",
      " 14. $I->fillField(\"email\",\"foo@bar.com\") at \u001b[32mtests/Acceptance/Test08_RegisterValidationCest.php:34\u001b[39m\r\n",
      "\r\n",
      "\u001b[33mArtifacts:\u001b[39m\r\n",
      "\r\n",
      "Html: \u001b[36m/home/student/php_2022_adam_lewinski/07_testing/02_exercise/project/tests/_output/Tests.Acceptance.Test08_RegisterValidationCest.test.fail.html\u001b[39m\r\n",
      "Response: \u001b[36m/home/student/php_2022_adam_lewinski/07_testing/02_exercise/project/tests/_output/Tests.Acceptance.Test08_RegisterValidationCest.test.fail.html\u001b[39m\r\n",
      "2) \u001b[35;1mTest09_RegisterRememberFieldsCest:\u001b[39;22m Remember data entered during registration when validation error is present\r\n",
      "\u001b[37;41;1m Test  \u001b[39;49;22mtests/Acceptance/Test09_RegisterRememberFieldsCest.php:test\r\n",
      "\u001b[37;41;1m Step \u001b[39;49;22m See in title \"Login\"\r\n",
      "\u001b[37;41;1m Fail \u001b[39;49;22m Failed asserting that `` is in input's value: array (\r\n",
      "  0 => 'password',\r\n",
      ")\r\n",
      "Failed asserting that an array contains ''.\r\n",
      "\u001b[33m\r\n",
      "Scenario Steps:\r\n",
      "\u001b[39m\r\n",
      "\u001b[1m 62. $I->seeInField(\"password\",\"\")\u001b[22m at \u001b[32mtests/Acceptance/Test09_RegisterRememberFieldsCest.php:93\u001b[39m\r\n",
      " 61. $I->dontSee(\"The password filed cannot be empty\",\"li.error\") at \u001b[32mtests/Acceptance/Test09_RegisterRememberFieldsCest.php:92\u001b[39m\r\n",
      " 60. $I->seeInField(\"email\",\"foo@bar.com\") at \u001b[32mtests/Acceptance/Test09_RegisterRememberFieldsCest.php:91\u001b[39m\r\n",
      " 59. $I->dontSee(\"The email filed cannot be empty\",\"li.error\") at \u001b[32mtests/Acceptance/Test09_RegisterRememberFieldsCest.php:90\u001b[39m\r\n",
      " 58. $I->seeInField(\"surname\",\"Surname\") at \u001b[32mtests/Acceptance/Test09_RegisterRememberFieldsCest.php:89\u001b[39m\r\n",
      " 57. $I->dontSee(\"The surname filed cannot be empty\",\"li.error\") at \u001b[32mtests/Acceptance/Test09_RegisterRememberFieldsCest.php:88\u001b[39m\r\n",
      "\r\n",
      "\u001b[33mArtifacts:\u001b[39m\r\n",
      "\r\n",
      "Html: \u001b[36m/home/student/php_2022_adam_lewinski/07_testing/02_exercise/project/tests/_output/Tests.Acceptance.Test09_RegisterRememberFieldsCest.test.fail.html\u001b[39m\r\n",
      "Response: \u001b[36m/home/student/php_2022_adam_lewinski/07_testing/02_exercise/project/tests/_output/Tests.Acceptance.Test09_RegisterRememberFieldsCest.test.fail.html\u001b[39m\r\n",
      "3) \u001b[35;1mTest11_LoginNotExistingCest:\u001b[39;22m See error when user does not exists\r\n",
      "\u001b[37;41;1m Test  \u001b[39;49;22mtests/Acceptance/Test11_LoginNotExistingCest.php:test\r\n",
      "\u001b[37;41;1m Step \u001b[39;49;22m See in title \"Login\"\r\n",
      "\u001b[37;41;1m Fail \u001b[39;49;22m page title contains Login\r\n",
      "Failed asserting that '404' contains \"Login\".\r\n",
      "\u001b[33m\r\n",
      "Scenario Steps:\r\n",
      "\u001b[39m\r\n",
      "\u001b[1m 2. $I->seeInTitle(\"Login\")\u001b[22m at \u001b[32mtests/Acceptance/Test11_LoginNotExistingCest.php:18\u001b[39m\r\n",
      " 1. $I->amOnPage(\"/auth/login\") at \u001b[32mtests/Acceptance/Test11_LoginNotExistingCest.php:16\u001b[39m\r\n",
      "\r\n",
      "\u001b[33mArtifacts:\u001b[39m\r\n",
      "\r\n",
      "Html: \u001b[36m/home/student/php_2022_adam_lewinski/07_testing/02_exercise/project/tests/_output/Tests.Acceptance.Test11_LoginNotExistingCest.test.fail.html\u001b[39m\r\n",
      "Response: \u001b[36m/home/student/php_2022_adam_lewinski/07_testing/02_exercise/project/tests/_output/Tests.Acceptance.Test11_LoginNotExistingCest.test.fail.html\u001b[39m\r\n",
      "4) \u001b[35;1mTest12_LoginWrongPasswordCest:\u001b[39;22m See error when wrong password is entered\r\n",
      "\u001b[37;41;1m Test  \u001b[39;49;22mtests/Acceptance/Test12_LoginWrongPasswordCest.php:test\r\n",
      "page title contains Login\r\n",
      "Failed asserting that '404' contains \"Login\".\r\n",
      "\u001b[33m\r\n",
      "Scenario Steps:\r\n",
      "\u001b[39m\r\n",
      "\u001b[1m 2. $I->seeInTitle(\"Login\")\u001b[22m at \u001b[32mtests/Acceptance/Test12_LoginWrongPasswordCest.php:19\u001b[39m\r\n",
      " 1. $I->amOnPage(\"/auth/login\") at \u001b[32mtests/Acceptance/Test12_LoginWrongPasswordCest.php:17\u001b[39m\r\n",
      "\r\n",
      "\u001b[33mArtifacts:\u001b[39m\r\n",
      "\r\n",
      "Html: \u001b[36m/home/student/php_2022_adam_lewinski/07_testing/02_exercise/project/tests/_output/Tests.Acceptance.Test12_LoginWrongPasswordCest.test.fail.html\u001b[39m\r\n",
      "Response: \u001b[36m/home/student/php_2022_adam_lewinski/07_testing/02_exercise/project/tests/_output/Tests.Acceptance.Test12_LoginWrongPasswordCest.test.fail.html\u001b[39m\r\n",
      "5) \u001b[35;1mTest13_LoginNotConfirmedCest:\u001b[39;22m Be remained about email confirmation when trying to login\r\n",
      "\u001b[37;41;1m Test  \u001b[39;49;22mtests/Acceptance/Test13_LoginNotConfirmedCest.php:test\r\n",
      "page title contains Login\r\n",
      "Failed asserting that '404' contains \"Login\".\r\n",
      "\u001b[33m\r\n",
      "Scenario Steps:\r\n",
      "\u001b[39m\r\n",
      "\u001b[1m 2. $I->seeInTitle(\"Login\")\u001b[22m at \u001b[32mtests/Acceptance/Test13_LoginNotConfirmedCest.php:18\u001b[39m\r\n",
      " 1. $I->amOnPage(\"/auth/login\") at \u001b[32mtests/Acceptance/Test13_LoginNotConfirmedCest.php:16\u001b[39m\r\n",
      "\r\n",
      "\u001b[33mArtifacts:\u001b[39m\r\n",
      "\r\n",
      "Html: \u001b[36m/home/student/php_2022_adam_lewinski/07_testing/02_exercise/project/tests/_output/Tests.Acceptance.Test13_LoginNotConfirmedCest.test.fail.html\u001b[39m\r\n",
      "Response: \u001b[36m/home/student/php_2022_adam_lewinski/07_testing/02_exercise/project/tests/_output/Tests.Acceptance.Test13_LoginNotConfirmedCest.test.fail.html\u001b[39m\r\n",
      "\r\n",
      "\u001b[37;41;1mERRORS!\u001b[39;49;22m\r\n",
      "\u001b[37;41;1mTests: 15, Assertions: 221, Errors: 2, Failures: 5.\u001b[39;49;22m\r\n",
      "- \u001b[1mJUNIT XML\u001b[22m report generated in \u001b[33mfile:///home/student/php_2022_adam_lewinski/07_testing/02_exercise/project/tests/_output/test_report.xml\u001b[39m\r\n"
     ]
    }
   ],
   "source": [
    "! vendor/bin/codecept run Acceptance --xml test_report.xml"
   ]
  },
  {
   "cell_type": "code",
   "execution_count": 63,
   "metadata": {},
   "outputs": [],
   "source": [
    "phpServer.kill()"
   ]
  },
  {
   "cell_type": "code",
   "execution_count": 64,
   "metadata": {},
   "outputs": [
    {
     "name": "stdout",
     "output_type": "stream",
     "text": [
      "/home/student/php_2022_adam_lewinski/07_testing/02_exercise\n"
     ]
    }
   ],
   "source": [
    "%cd ../"
   ]
  },
  {
   "cell_type": "markdown",
   "metadata": {},
   "source": [
    "Stop the databses:"
   ]
  },
  {
   "cell_type": "code",
   "execution_count": null,
   "metadata": {},
   "outputs": [],
   "source": [
    "! docker container stop redis"
   ]
  },
  {
   "cell_type": "code",
   "execution_count": null,
   "metadata": {},
   "outputs": [],
   "source": [
    "! docker container stop mysql"
   ]
  }
 ],
 "metadata": {
  "kernelspec": {
   "display_name": "Python 3 (ipykernel)",
   "language": "python",
   "name": "python3"
  },
  "language_info": {
   "codemirror_mode": {
    "name": "ipython",
    "version": 3
   },
   "file_extension": ".py",
   "mimetype": "text/x-python",
   "name": "python",
   "nbconvert_exporter": "python",
   "pygments_lexer": "ipython3",
   "version": "3.10.6"
  }
 },
 "nbformat": 4,
 "nbformat_minor": 4
}
