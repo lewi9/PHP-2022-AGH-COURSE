{
 "cells": [
  {
   "cell_type": "markdown",
   "metadata": {},
   "source": [
    "# PHP 2022"
   ]
  },
  {
   "cell_type": "markdown",
   "metadata": {},
   "source": [
    "## 7. Testing"
   ]
  },
  {
   "cell_type": "markdown",
   "metadata": {},
   "source": [
    "### 7.2 Exercise"
   ]
  },
  {
   "cell_type": "markdown",
   "metadata": {},
   "source": [
    "Implment missing code."
   ]
  },
  {
   "cell_type": "markdown",
   "metadata": {},
   "source": [
    "Start the databses:"
   ]
  },
  {
   "cell_type": "code",
   "execution_count": 1,
   "metadata": {},
   "outputs": [
    {
     "name": "stdout",
     "output_type": "stream",
     "text": [
      "2f368ff7f00acd95fea7ec283bd9110e954e646692f85f4bd0daee08356b0bd3\r\n"
     ]
    }
   ],
   "source": [
    "! docker run --net=host --rm --name redis -d redis"
   ]
  },
  {
   "cell_type": "code",
   "execution_count": 2,
   "metadata": {},
   "outputs": [
    {
     "name": "stdout",
     "output_type": "stream",
     "text": [
      "dc24693c41d3c91cbf2e691a574b753b65c43c2d69cb7c51d1021a6553ca21f5\r\n"
     ]
    }
   ],
   "source": [
    "! docker run --name=mysql --net=host --rm --env MYSQL_ROOT_PASSWORD=root123 --env MYSQL_DATABASE=test --env MYSQL_USER=test --env MYSQL_PASSWORD=test123 -d mysql/mysql-server:8.0"
   ]
  },
  {
   "cell_type": "code",
   "execution_count": 3,
   "metadata": {},
   "outputs": [
    {
     "name": "stdout",
     "output_type": "stream",
     "text": [
      "Done.\r\n"
     ]
    }
   ],
   "source": [
    "! while ! timeout 1 bash -c \"echo > /dev/tcp/localhost/6379\" 2> /dev/null; do sleep 1; done; echo \"Done.\";"
   ]
  },
  {
   "cell_type": "code",
   "execution_count": 4,
   "metadata": {},
   "outputs": [
    {
     "name": "stdout",
     "output_type": "stream",
     "text": [
      "Done.\r\n"
     ]
    }
   ],
   "source": [
    "! while ! timeout 1 bash -c \"echo > /dev/tcp/localhost/3306\" 2> /dev/null; do sleep 1; done; echo \"Done.\";"
   ]
  },
  {
   "cell_type": "markdown",
   "metadata": {},
   "source": [
    "Edit the code:"
   ]
  },
  {
   "cell_type": "code",
   "execution_count": null,
   "metadata": {},
   "outputs": [
    {
     "name": "stdout",
     "output_type": "stream",
     "text": [
      "CompileCommand: exclude com/intellij/openapi/vfs/impl/FilePartNodeRoot.trieDescend bool exclude = true\n",
      "2022-11-21 21:29:59,315 [   1700] SEVERE - #c.i.d.LoadingState - Should be called at least in the state COMPONENTS_LOADED, the current state is: CONFIGURATION_STORE_INITIALIZED\n",
      "Current violators count: 1\n",
      "\n",
      "\n",
      "java.lang.Throwable\n",
      "\tat com.intellij.diagnostic.LoadingState.logStateError(LoadingState.java:52)\n",
      "\tat com.intellij.diagnostic.LoadingState.checkOccurred(LoadingState.java:48)\n",
      "\tat com.intellij.openapi.actionSystem.impl.ActionManagerImpl.<init>(ActionManagerImpl.java:133)\n",
      "\tat com.jetbrains.rdserver.ui.actionPopupMenu.BackendActionManager.<init>(BackendActionManager.kt:17)\n",
      "\tat java.base/jdk.internal.reflect.NativeConstructorAccessorImpl.newInstance0(Native Method)\n",
      "\tat java.base/jdk.internal.reflect.NativeConstructorAccessorImpl.newInstance(NativeConstructorAccessorImpl.java:77)\n",
      "\tat java.base/jdk.internal.reflect.DelegatingConstructorAccessorImpl.newInstance(DelegatingConstructorAccessorImpl.java:45)\n",
      "\tat java.base/java.lang.reflect.Constructor.newInstanceWithCaller(Constructor.java:499)\n",
      "\tat java.base/java.lang.reflect.Constructor.newInstance(Constructor.java:480)\n",
      "\tat com.intellij.serviceContainer.ConstructorInjectionKt.instantiateUsingPicoContainer(constructorInjection.kt:47)\n",
      "\tat com.intellij.serviceContainer.ComponentManagerImpl.instantiateClassWithConstructorInjection(ComponentManagerImpl.kt:890)\n",
      "\tat com.intellij.serviceContainer.ServiceComponentAdapter.createAndInitialize(ServiceComponentAdapter.kt:51)\n",
      "\tat com.intellij.serviceContainer.ServiceComponentAdapter.doCreateInstance(ServiceComponentAdapter.kt:41)\n",
      "\tat com.intellij.serviceContainer.BaseComponentAdapter.getInstanceUncached(BaseComponentAdapter.kt:119)\n",
      "\tat com.intellij.serviceContainer.BaseComponentAdapter.getInstance(BaseComponentAdapter.kt:73)\n",
      "\tat com.intellij.serviceContainer.BaseComponentAdapter.getInstance$default(BaseComponentAdapter.kt:66)\n",
      "\tat com.intellij.serviceContainer.ComponentManagerImpl.doGetService(ComponentManagerImpl.kt:609)\n",
      "\tat com.intellij.serviceContainer.ComponentManagerImpl.getService(ComponentManagerImpl.kt:583)\n",
      "\tat com.intellij.openapi.client.ClientAwareComponentManager.getFromSelfOrCurrentSession(ClientAwareComponentManager.kt:37)\n",
      "\tat com.intellij.openapi.client.ClientAwareComponentManager.getService(ClientAwareComponentManager.kt:22)\n",
      "\tat com.intellij.openapi.actionSystem.ActionManager.getInstance(ActionManager.java:29)\n",
      "\tat com.intellij.help.impl.KeymapGenerator.<clinit>(KeymapGenerator.java:33)\n",
      "\tat java.base/jdk.internal.misc.Unsafe.allocateInstance(Native Method)\n",
      "\tat java.base/java.lang.invoke.DirectMethodHandle.allocateInstance(DirectMethodHandle.java:520)\n",
      "\tat com.intellij.serviceContainer.ComponentManagerImpl.instantiateClass(ComponentManagerImpl.kt:844)\n",
      "\tat com.intellij.openapi.extensions.impl.XmlExtensionAdapter.instantiateClass(XmlExtensionAdapter.kt:79)\n",
      "\tat com.intellij.openapi.extensions.impl.XmlExtensionAdapter$SimpleConstructorInjectionAdapter.instantiateClass(XmlExtensionAdapter.kt:90)\n",
      "\tat com.intellij.openapi.extensions.impl.XmlExtensionAdapter.doCreateInstance(XmlExtensionAdapter.kt:50)\n",
      "\tat com.intellij.openapi.extensions.impl.XmlExtensionAdapter.createInstance(XmlExtensionAdapter.kt:31)\n",
      "\tat com.intellij.openapi.extensions.impl.ExtensionPointImpl.processAdapter(ExtensionPointImpl.java:447)\n",
      "\tat com.intellij.openapi.extensions.impl.ExtensionPointImpl.access$200(ExtensionPointImpl.java:33)\n",
      "\tat com.intellij.openapi.extensions.impl.ExtensionPointImpl$1.next(ExtensionPointImpl.java:355)\n",
      "\tat com.intellij.idea.ApplicationLoader.findAppStarter(ApplicationLoader.kt:595)\n",
      "\tat com.intellij.idea.ApplicationLoader.access$findAppStarter(ApplicationLoader.kt:1)\n",
      "\tat com.intellij.idea.ApplicationLoader$initApplication$block$3.apply(ApplicationLoader.kt:170)\n",
      "\tat com.intellij.idea.ApplicationLoader$initApplication$block$3.apply(ApplicationLoader.kt)\n",
      "\tat java.base/java.util.concurrent.CompletableFuture$UniCompose.tryFire(CompletableFuture.java:1150)\n",
      "\tat java.base/java.util.concurrent.CompletableFuture.postComplete(CompletableFuture.java:510)\n",
      "\tat java.base/java.util.concurrent.CompletableFuture.postFire(CompletableFuture.java:614)\n",
      "\tat java.base/java.util.concurrent.CompletableFuture$UniCompose.tryFire(CompletableFuture.java:1163)\n",
      "\tat java.base/java.util.concurrent.CompletableFuture$Completion.run(CompletableFuture.java:482)\n",
      "\tat com.intellij.idea.ApplicationLoader$initApplication$block$2.execute(ApplicationLoader.kt:142)\n",
      "\tat java.base/java.util.concurrent.CompletableFuture$UniCompletion.claim(CompletableFuture.java:572)\n",
      "\tat java.base/java.util.concurrent.CompletableFuture$UniCompose.tryFire(CompletableFuture.java:1147)\n",
      "\tat java.base/java.util.concurrent.CompletableFuture.postComplete(CompletableFuture.java:510)\n",
      "\tat java.base/java.util.concurrent.CompletableFuture.postFire(CompletableFuture.java:614)\n",
      "\tat java.base/java.util.concurrent.CompletableFuture$UniCompose.tryFire(CompletableFuture.java:1163)\n",
      "\tat java.base/java.util.concurrent.CompletableFuture$Completion.exec(CompletableFuture.java:483)\n",
      "\tat java.base/java.util.concurrent.ForkJoinTask.doExec(ForkJoinTask.java:373)\n",
      "\tat java.base/java.util.concurrent.ForkJoinPool$WorkQueue.topLevelExec(ForkJoinPool.java:1182)\n",
      "\tat java.base/java.util.concurrent.ForkJoinPool.scan(ForkJoinPool.java:1655)\n",
      "\tat java.base/java.util.concurrent.ForkJoinPool.runWorker(ForkJoinPool.java:1622)\n",
      "\tat java.base/java.util.concurrent.ForkJoinWorkerThread.run(ForkJoinWorkerThread.java:165)\n",
      "2022-11-21 21:29:59,326 [   1711] SEVERE - #c.i.d.LoadingState - PhpStorm 2022.2.3  Build #PS-222.4345.15\n",
      "2022-11-21 21:29:59,327 [   1712] SEVERE - #c.i.d.LoadingState - JDK: 17.0.4.1; VM: OpenJDK 64-Bit Server VM; Vendor: JetBrains s.r.o.\n",
      "2022-11-21 21:29:59,328 [   1713] SEVERE - #c.i.d.LoadingState - OS: Linux\n",
      "2022-11-21 21:29:59,893 [   2278] SEVERE - #c.i.d.LoadingState - Should be called at least in the state COMPONENTS_LOADED, the current state is: CONFIGURATION_STORE_INITIALIZED\n",
      "Current violators count: 2\n",
      "\n",
      "\n",
      "java.lang.Throwable\n",
      "\tat com.intellij.diagnostic.LoadingState.logStateError(LoadingState.java:52)\n",
      "\tat com.intellij.diagnostic.LoadingState.checkOccurred(LoadingState.java:48)\n",
      "\tat com.intellij.openapi.util.registry.Registry.getInstance(Registry.java:176)\n",
      "\tat com.intellij.openapi.util.registry.Registry.get(Registry.java:50)\n",
      "\tat com.intellij.openapi.util.registry.Registry.is(Registry.java:63)\n",
      "\tat com.intellij.execution.ExecutorRegistryImpl.isExecutorInMainGroup(ExecutorRegistryImpl.java:195)\n",
      "\tat com.intellij.execution.ExecutorRegistryImpl.initExecutorActions(ExecutorRegistryImpl.java:127)\n",
      "\tat com.intellij.execution.ExecutorRegistryImpl.init(ExecutorRegistryImpl.java:278)\n",
      "\tat com.intellij.execution.ExecutorRegistryImpl$ExecutorRegistryActionConfigurationTuner.customize(ExecutorRegistryImpl.java:92)\n",
      "\tat com.intellij.openapi.actionSystem.impl.ActionManagerImpl.lambda$new$0(ActionManagerImpl.java:141)\n",
      "\tat com.intellij.openapi.extensions.impl.ExtensionProcessingHelper.forEachExtensionSafe(ExtensionProcessingHelper.java:34)\n",
      "\tat com.intellij.openapi.extensions.ExtensionPointName.forEachExtensionSafe(ExtensionPointName.java:46)\n",
      "\tat com.intellij.openapi.actionSystem.impl.ActionManagerImpl.<init>(ActionManagerImpl.java:141)\n",
      "\tat com.jetbrains.rdserver.ui.actionPopupMenu.BackendActionManager.<init>(BackendActionManager.kt:17)\n",
      "\tat java.base/jdk.internal.reflect.NativeConstructorAccessorImpl.newInstance0(Native Method)\n",
      "\tat java.base/jdk.internal.reflect.NativeConstructorAccessorImpl.newInstance(NativeConstructorAccessorImpl.java:77)\n",
      "\tat java.base/jdk.internal.reflect.DelegatingConstructorAccessorImpl.newInstance(DelegatingConstructorAccessorImpl.java:45)\n",
      "\tat java.base/java.lang.reflect.Constructor.newInstanceWithCaller(Constructor.java:499)\n",
      "\tat java.base/java.lang.reflect.Constructor.newInstance(Constructor.java:480)\n",
      "\tat com.intellij.serviceContainer.ConstructorInjectionKt.instantiateUsingPicoContainer(constructorInjection.kt:47)\n",
      "\tat com.intellij.serviceContainer.ComponentManagerImpl.instantiateClassWithConstructorInjection(ComponentManagerImpl.kt:890)\n",
      "\tat com.intellij.serviceContainer.ServiceComponentAdapter.createAndInitialize(ServiceComponentAdapter.kt:51)\n",
      "\tat com.intellij.serviceContainer.ServiceComponentAdapter.doCreateInstance(ServiceComponentAdapter.kt:41)\n",
      "\tat com.intellij.serviceContainer.BaseComponentAdapter.getInstanceUncached(BaseComponentAdapter.kt:119)\n",
      "\tat com.intellij.serviceContainer.BaseComponentAdapter.getInstance(BaseComponentAdapter.kt:73)\n",
      "\tat com.intellij.serviceContainer.BaseComponentAdapter.getInstance$default(BaseComponentAdapter.kt:66)\n",
      "\tat com.intellij.serviceContainer.ComponentManagerImpl.doGetService(ComponentManagerImpl.kt:609)\n",
      "\tat com.intellij.serviceContainer.ComponentManagerImpl.getService(ComponentManagerImpl.kt:583)\n",
      "\tat com.intellij.openapi.client.ClientAwareComponentManager.getFromSelfOrCurrentSession(ClientAwareComponentManager.kt:37)\n",
      "\tat com.intellij.openapi.client.ClientAwareComponentManager.getService(ClientAwareComponentManager.kt:22)\n",
      "\tat com.intellij.openapi.actionSystem.ActionManager.getInstance(ActionManager.java:29)\n",
      "\tat com.intellij.help.impl.KeymapGenerator.<clinit>(KeymapGenerator.java:33)\n",
      "\tat java.base/jdk.internal.misc.Unsafe.allocateInstance(Native Method)\n",
      "\tat java.base/java.lang.invoke.DirectMethodHandle.allocateInstance(DirectMethodHandle.java:520)\n",
      "\tat com.intellij.serviceContainer.ComponentManagerImpl.instantiateClass(ComponentManagerImpl.kt:844)\n",
      "\tat com.intellij.openapi.extensions.impl.XmlExtensionAdapter.instantiateClass(XmlExtensionAdapter.kt:79)\n",
      "\tat com.intellij.openapi.extensions.impl.XmlExtensionAdapter$SimpleConstructorInjectionAdapter.instantiateClass(XmlExtensionAdapter.kt:90)\n",
      "\tat com.intellij.openapi.extensions.impl.XmlExtensionAdapter.doCreateInstance(XmlExtensionAdapter.kt:50)\n",
      "\tat com.intellij.openapi.extensions.impl.XmlExtensionAdapter.createInstance(XmlExtensionAdapter.kt:31)\n",
      "\tat com.intellij.openapi.extensions.impl.ExtensionPointImpl.processAdapter(ExtensionPointImpl.java:447)\n",
      "\tat com.intellij.openapi.extensions.impl.ExtensionPointImpl.access$200(ExtensionPointImpl.java:33)\n",
      "\tat com.intellij.openapi.extensions.impl.ExtensionPointImpl$1.next(ExtensionPointImpl.java:355)\n",
      "\tat com.intellij.idea.ApplicationLoader.findAppStarter(ApplicationLoader.kt:595)\n",
      "\tat com.intellij.idea.ApplicationLoader.access$findAppStarter(ApplicationLoader.kt:1)\n",
      "\tat com.intellij.idea.ApplicationLoader$initApplication$block$3.apply(ApplicationLoader.kt:170)\n",
      "\tat com.intellij.idea.ApplicationLoader$initApplication$block$3.apply(ApplicationLoader.kt)\n",
      "\tat java.base/java.util.concurrent.CompletableFuture$UniCompose.tryFire(CompletableFuture.java:1150)\n",
      "\tat java.base/java.util.concurrent.CompletableFuture.postComplete(CompletableFuture.java:510)\n",
      "\tat java.base/java.util.concurrent.CompletableFuture.postFire(CompletableFuture.java:614)\n",
      "\tat java.base/java.util.concurrent.CompletableFuture$UniCompose.tryFire(CompletableFuture.java:1163)\n",
      "\tat java.base/java.util.concurrent.CompletableFuture$Completion.run(CompletableFuture.java:482)\n",
      "\tat com.intellij.idea.ApplicationLoader$initApplication$block$2.execute(ApplicationLoader.kt:142)\n",
      "\tat java.base/java.util.concurrent.CompletableFuture$UniCompletion.claim(CompletableFuture.java:572)\n",
      "\tat java.base/java.util.concurrent.CompletableFuture$UniCompose.tryFire(CompletableFuture.java:1147)\n",
      "\tat java.base/java.util.concurrent.CompletableFuture.postComplete(CompletableFuture.java:510)\n",
      "\tat java.base/java.util.concurrent.CompletableFuture.postFire(CompletableFuture.java:614)\n",
      "\tat java.base/java.util.concurrent.CompletableFuture$UniCompose.tryFire(CompletableFuture.java:1163)\n",
      "\tat java.base/java.util.concurrent.CompletableFuture$Completion.exec(CompletableFuture.java:483)\n",
      "\tat java.base/java.util.concurrent.ForkJoinTask.doExec(ForkJoinTask.java:373)\n",
      "\tat java.base/java.util.concurrent.ForkJoinPool$WorkQueue.topLevelExec(ForkJoinPool.java:1182)\n",
      "\tat java.base/java.util.concurrent.ForkJoinPool.scan(ForkJoinPool.java:1655)\n",
      "\tat java.base/java.util.concurrent.ForkJoinPool.runWorker(ForkJoinPool.java:1622)\n",
      "\tat java.base/java.util.concurrent.ForkJoinWorkerThread.run(ForkJoinWorkerThread.java:165)\n",
      "2022-11-21 21:29:59,896 [   2281] SEVERE - #c.i.d.LoadingState - PhpStorm 2022.2.3  Build #PS-222.4345.15\n",
      "2022-11-21 21:29:59,897 [   2282] SEVERE - #c.i.d.LoadingState - JDK: 17.0.4.1; VM: OpenJDK 64-Bit Server VM; Vendor: JetBrains s.r.o.\n",
      "2022-11-21 21:29:59,898 [   2283] SEVERE - #c.i.d.LoadingState - OS: Linux\n",
      "2022-11-21 21:29:59,915 [   2300] SEVERE - #c.i.d.LoadingState - Should be called at least in the state COMPONENTS_LOADED, the current state is: CONFIGURATION_STORE_INITIALIZED\n",
      "Current violators count: 3\n",
      "\n",
      "\n",
      "java.lang.Throwable\n",
      "\tat com.intellij.diagnostic.LoadingState.logStateError(LoadingState.java:52)\n",
      "\tat com.intellij.diagnostic.LoadingState.checkOccurred(LoadingState.java:48)\n",
      "\tat com.intellij.openapi.util.registry.Registry.getInstance(Registry.java:176)\n",
      "\tat com.intellij.openapi.util.registry.Registry.get(Registry.java:50)\n",
      "\tat com.intellij.openapi.util.registry.Registry.is(Registry.java:63)\n",
      "\tat com.intellij.openapi.wm.impl.GlobalMenuLinux._loadLibrary(GlobalMenuLinux.java:797)\n",
      "\tat com.intellij.openapi.wm.impl.GlobalMenuLinux.<clinit>(GlobalMenuLinux.java:164)\n",
      "\tat com.intellij.openapi.wm.impl.GlobalMenuLinux$MyActionTuner.customize(GlobalMenuLinux.java:230)\n",
      "\tat com.intellij.openapi.actionSystem.impl.ActionManagerImpl.lambda$new$0(ActionManagerImpl.java:141)\n",
      "\tat com.intellij.openapi.extensions.impl.ExtensionProcessingHelper.forEachExtensionSafe(ExtensionProcessingHelper.java:34)\n",
      "\tat com.intellij.openapi.extensions.ExtensionPointName.forEachExtensionSafe(ExtensionPointName.java:46)\n",
      "\tat com.intellij.openapi.actionSystem.impl.ActionManagerImpl.<init>(ActionManagerImpl.java:141)\n",
      "\tat com.jetbrains.rdserver.ui.actionPopupMenu.BackendActionManager.<init>(BackendActionManager.kt:17)\n",
      "\tat java.base/jdk.internal.reflect.NativeConstructorAccessorImpl.newInstance0(Native Method)\n",
      "\tat java.base/jdk.internal.reflect.NativeConstructorAccessorImpl.newInstance(NativeConstructorAccessorImpl.java:77)\n",
      "\tat java.base/jdk.internal.reflect.DelegatingConstructorAccessorImpl.newInstance(DelegatingConstructorAccessorImpl.java:45)\n",
      "\tat java.base/java.lang.reflect.Constructor.newInstanceWithCaller(Constructor.java:499)\n",
      "\tat java.base/java.lang.reflect.Constructor.newInstance(Constructor.java:480)\n",
      "\tat com.intellij.serviceContainer.ConstructorInjectionKt.instantiateUsingPicoContainer(constructorInjection.kt:47)\n",
      "\tat com.intellij.serviceContainer.ComponentManagerImpl.instantiateClassWithConstructorInjection(ComponentManagerImpl.kt:890)\n",
      "\tat com.intellij.serviceContainer.ServiceComponentAdapter.createAndInitialize(ServiceComponentAdapter.kt:51)\n",
      "\tat com.intellij.serviceContainer.ServiceComponentAdapter.doCreateInstance(ServiceComponentAdapter.kt:41)\n",
      "\tat com.intellij.serviceContainer.BaseComponentAdapter.getInstanceUncached(BaseComponentAdapter.kt:119)\n",
      "\tat com.intellij.serviceContainer.BaseComponentAdapter.getInstance(BaseComponentAdapter.kt:73)\n",
      "\tat com.intellij.serviceContainer.BaseComponentAdapter.getInstance$default(BaseComponentAdapter.kt:66)\n",
      "\tat com.intellij.serviceContainer.ComponentManagerImpl.doGetService(ComponentManagerImpl.kt:609)\n",
      "\tat com.intellij.serviceContainer.ComponentManagerImpl.getService(ComponentManagerImpl.kt:583)\n",
      "\tat com.intellij.openapi.client.ClientAwareComponentManager.getFromSelfOrCurrentSession(ClientAwareComponentManager.kt:37)\n",
      "\tat com.intellij.openapi.client.ClientAwareComponentManager.getService(ClientAwareComponentManager.kt:22)\n",
      "\tat com.intellij.openapi.actionSystem.ActionManager.getInstance(ActionManager.java:29)\n",
      "\tat com.intellij.help.impl.KeymapGenerator.<clinit>(KeymapGenerator.java:33)\n",
      "\tat java.base/jdk.internal.misc.Unsafe.allocateInstance(Native Method)\n",
      "\tat java.base/java.lang.invoke.DirectMethodHandle.allocateInstance(DirectMethodHandle.java:520)\n",
      "\tat com.intellij.serviceContainer.ComponentManagerImpl.instantiateClass(ComponentManagerImpl.kt:844)\n",
      "\tat com.intellij.openapi.extensions.impl.XmlExtensionAdapter.instantiateClass(XmlExtensionAdapter.kt:79)\n",
      "\tat com.intellij.openapi.extensions.impl.XmlExtensionAdapter$SimpleConstructorInjectionAdapter.instantiateClass(XmlExtensionAdapter.kt:90)\n",
      "\tat com.intellij.openapi.extensions.impl.XmlExtensionAdapter.doCreateInstance(XmlExtensionAdapter.kt:50)\n",
      "\tat com.intellij.openapi.extensions.impl.XmlExtensionAdapter.createInstance(XmlExtensionAdapter.kt:31)\n",
      "\tat com.intellij.openapi.extensions.impl.ExtensionPointImpl.processAdapter(ExtensionPointImpl.java:447)\n",
      "\tat com.intellij.openapi.extensions.impl.ExtensionPointImpl.access$200(ExtensionPointImpl.java:33)\n",
      "\tat com.intellij.openapi.extensions.impl.ExtensionPointImpl$1.next(ExtensionPointImpl.java:355)\n",
      "\tat com.intellij.idea.ApplicationLoader.findAppStarter(ApplicationLoader.kt:595)\n",
      "\tat com.intellij.idea.ApplicationLoader.access$findAppStarter(ApplicationLoader.kt:1)\n",
      "\tat com.intellij.idea.ApplicationLoader$initApplication$block$3.apply(ApplicationLoader.kt:170)\n",
      "\tat com.intellij.idea.ApplicationLoader$initApplication$block$3.apply(ApplicationLoader.kt)\n",
      "\tat java.base/java.util.concurrent.CompletableFuture$UniCompose.tryFire(CompletableFuture.java:1150)\n",
      "\tat java.base/java.util.concurrent.CompletableFuture.postComplete(CompletableFuture.java:510)\n",
      "\tat java.base/java.util.concurrent.CompletableFuture.postFire(CompletableFuture.java:614)\n",
      "\tat java.base/java.util.concurrent.CompletableFuture$UniCompose.tryFire(CompletableFuture.java:1163)\n",
      "\tat java.base/java.util.concurrent.CompletableFuture$Completion.run(CompletableFuture.java:482)\n",
      "\tat com.intellij.idea.ApplicationLoader$initApplication$block$2.execute(ApplicationLoader.kt:142)\n",
      "\tat java.base/java.util.concurrent.CompletableFuture$UniCompletion.claim(CompletableFuture.java:572)\n",
      "\tat java.base/java.util.concurrent.CompletableFuture$UniCompose.tryFire(CompletableFuture.java:1147)\n",
      "\tat java.base/java.util.concurrent.CompletableFuture.postComplete(CompletableFuture.java:510)\n",
      "\tat java.base/java.util.concurrent.CompletableFuture.postFire(CompletableFuture.java:614)\n",
      "\tat java.base/java.util.concurrent.CompletableFuture$UniCompose.tryFire(CompletableFuture.java:1163)\n",
      "\tat java.base/java.util.concurrent.CompletableFuture$Completion.exec(CompletableFuture.java:483)\n",
      "\tat java.base/java.util.concurrent.ForkJoinTask.doExec(ForkJoinTask.java:373)\n",
      "\tat java.base/java.util.concurrent.ForkJoinPool$WorkQueue.topLevelExec(ForkJoinPool.java:1182)\n",
      "\tat java.base/java.util.concurrent.ForkJoinPool.scan(ForkJoinPool.java:1655)\n",
      "\tat java.base/java.util.concurrent.ForkJoinPool.runWorker(ForkJoinPool.java:1622)\n",
      "\tat java.base/java.util.concurrent.ForkJoinWorkerThread.run(ForkJoinWorkerThread.java:165)\n",
      "2022-11-21 21:29:59,918 [   2303] SEVERE - #c.i.d.LoadingState - PhpStorm 2022.2.3  Build #PS-222.4345.15\n",
      "2022-11-21 21:29:59,919 [   2304] SEVERE - #c.i.d.LoadingState - JDK: 17.0.4.1; VM: OpenJDK 64-Bit Server VM; Vendor: JetBrains s.r.o.\n",
      "2022-11-21 21:29:59,920 [   2305] SEVERE - #c.i.d.LoadingState - OS: Linux\n"
     ]
    },
    {
     "name": "stdout",
     "output_type": "stream",
     "text": [
      "Info  | RdCoroutineScope          | 13:JobScheduler FJ pool 1/3 | RdCoroutineHost overridden \n",
      "2022-11-21 21:30:05,606 [   7991]   WARN - #c.i.o.a.i.ActionUpdater - 574 ms to grab EDT for CWMTelephonyGroup#update@NavBarToolbar (com.jetbrains.rd.platform.codeWithMe.telephony.CWMTelephonyGroup)\n",
      "2022-11-21 21:30:06,003 [   8388]   WARN - #c.i.o.a.i.ActionUpdater - 217 ms to grab EDT for #update@MainMenu (com.intellij.ide.actions.cache.CacheRecoveryActionGroup$toAnAction$1)\n",
      "2022-11-21 21:30:08,008 [  10393]   WARN - #c.i.o.a.i.ActionUpdater - 2002 ms to grab EDT for UndoAction#update@MainMenu (com.intellij.ide.actions.UndoAction)\n",
      "2022-11-21 21:30:08,009 [  10394]   WARN - #c.i.o.a.i.ActionUpdater - 2004 ms to grab EDT for #update@MainMenu (com.intellij.ide.actions.cache.CacheRecoveryActionGroup$toAnAction$1)\n",
      "2022-11-21 21:30:08,244 [  10629]   WARN - #c.i.o.a.i.ActionUpdater - 231 ms to grab EDT for RedoAction#update@MainMenu (com.intellij.ide.actions.RedoAction)\n",
      "2022-11-21 21:30:08,244 [  10629]   WARN - #c.i.o.a.i.ActionUpdater - 231 ms to grab EDT for #update@MainMenu (com.intellij.ide.actions.cache.CacheRecoveryActionGroup$toAnAction$1)\n",
      "2022-11-21 21:30:10,716 [  13101]   WARN - #c.i.u.x.Binding - no accessors for com.jetbrains.php.testFramework.PhpTestFrameworkType\n",
      "2022-11-21 21:30:14,239 [  16624]   WARN - #c.i.o.a.i.ActionUpdater - 2511 ms to grab EDT for ToolWindowsGroup#update@MainMenu (com.intellij.ide.actions.ToolWindowsGroup)\n",
      "2022-11-21 21:30:14,243 [  16628]   WARN - #c.i.o.a.i.ActionUpdater - 2459 ms to grab EDT for BackAction#update@MainMenu (com.intellij.ide.actions.BackAction)\n",
      "2022-11-21 21:30:24,250 [  26635]   WARN - #c.j.p.p.PharLibraryManager - Frequent root change. Source class com.jetbrains.php.phar.PharLibraryManager, delta 4711.\n",
      "Old roots: [phar:///home/student/php_2022_adam_lewinski/07_testing/02_exercise/project/vendor/bin/phpstan.phar/]\n",
      "New Roots: [phar:///home/student/php_2022_adam_lewinski/07_testing/02_exercise/project/vendor/bin/phpstan.phar/, phar:///home/student/php_2022_adam_lewinski/07_testing/02_exercise/project/vendor/phpstan/phpstan/phpstan.phar/]\n",
      "2022-11-21 21:30:25,915 [  28300]   WARN - #c.i.o.a.i.ActionUpdater - 251 ms to grab EDT for CWMTelephonyGroup#update@NavBarToolbar (com.jetbrains.rd.platform.codeWithMe.telephony.CWMTelephonyGroup)\n",
      "2022-11-21 21:30:26,162 [  28547]   WARN - #c.i.u.x.Binding - no accessors for org.jetbrains.idea.perforce.perforce.ConnectionId\n"
     ]
    }
   ],
   "source": [
    "! phpstorm project"
   ]
  },
  {
   "cell_type": "markdown",
   "metadata": {},
   "source": [
    "You can test your solution using included tests:"
   ]
  },
  {
   "cell_type": "code",
   "execution_count": 7,
   "metadata": {},
   "outputs": [
    {
     "name": "stdout",
     "output_type": "stream",
     "text": [
      "/home/student/php_2022_adam_lewinski/07_testing/02_exercise/project\n"
     ]
    }
   ],
   "source": [
    "%cd project"
   ]
  },
  {
   "cell_type": "code",
   "execution_count": 8,
   "metadata": {},
   "outputs": [
    {
     "name": "stdout",
     "output_type": "stream",
     "text": [
      "\u001b[32mInstalling dependencies from lock file (including require-dev)\u001b[39m\n",
      "\u001b[32mVerifying lock file contents can be installed on current platform.\u001b[39m\n",
      "Nothing to install, update or remove\n",
      "\u001b[32mGenerating autoload files\u001b[39m\n",
      "\u001b[32m60 packages you are using are looking for funding.\u001b[39m\n",
      "\u001b[32mUse the `composer fund` command to find out more!\u001b[39m\n"
     ]
    }
   ],
   "source": [
    "! composer install"
   ]
  },
  {
   "cell_type": "code",
   "execution_count": 9,
   "metadata": {},
   "outputs": [
    {
     "name": "stdout",
     "output_type": "stream",
     "text": [
      "\u001b[32mBuilding Actor classes for suites: Acceptance, Unit\u001b[39m\n",
      " -> AcceptanceTesterActions.php generated successfully. 241 methods added\n",
      "\u001b[32mTests\\AcceptanceTester\u001b[39m includes modules: PhpBrowser, Filesystem, Asserts, Db, Redis\n",
      " -> UnitTesterActions.php generated successfully. 137 methods added\n",
      "\u001b[32mTests\\UnitTester\u001b[39m includes modules: Asserts\n"
     ]
    }
   ],
   "source": [
    "! vendor/bin/codecept build"
   ]
  },
  {
   "cell_type": "code",
   "execution_count": 10,
   "metadata": {
    "scrolled": true
   },
   "outputs": [
    {
     "name": "stdout",
     "output_type": "stream",
     "text": [
      "Loaded config \u001b[33mdefault\u001b[39m from \"/home/student/php_2022_adam_lewinski/07_testing/02_exercise/project/./.php-cs-fixer.dist.php\".\n",
      "Using cache file \".php-cs-fixer.cache\".\n",
      "   1) src/Model/Flagi.php\n",
      "\u001b[33m      ---------- begin diff ----------\u001b[39m\n",
      "\u001b[31m--- /home/student/php_2022_adam_lewinski/07_testing/02_exercise/project/src/Model/Flagi.php\u001b[39m\n",
      "\u001b[32m+++ /home/student/php_2022_adam_lewinski/07_testing/02_exercise/project/src/Model/Flagi.php\u001b[39m\n",
      "\u001b[36m@@ -9,4 +9,4 @@\u001b[39m\n",
      "     {\n",
      "         parent::__construct($id);\n",
      "     }\n",
      "\u001b[31m-}\u001b[39m\n",
      "\\ No newline at end of file\n",
      "\u001b[32m+}\u001b[39m\n",
      "\n",
      "\u001b[33m      ----------- end diff -----------\u001b[39m\n",
      "\n",
      "   2) src/Controller/AuthController.php\n",
      "\u001b[33m      ---------- begin diff ----------\u001b[39m\n",
      "\u001b[31m--- /home/student/php_2022_adam_lewinski/07_testing/02_exercise/project/src/Controller/AuthController.php\u001b[39m\n",
      "\u001b[32m+++ /home/student/php_2022_adam_lewinski/07_testing/02_exercise/project/src/Controller/AuthController.php\u001b[39m\n",
      "\u001b[36m@@ -85,7 +85,7 @@\u001b[39m\n",
      "                 } else {\n",
      "                     $flag = new Flagi(2);\n",
      "                     $flag->email = $_POST[\"email\"];\n",
      "\u001b[31m-                    $this->save_model('session', $flag );\u001b[39m\n",
      "\u001b[32m+                    $this->save_model('session', $flag);\u001b[39m\n",
      "                     return redirect('/');\n",
      "                 }\n",
      "             }\n",
      "\n",
      "\u001b[33m      ----------- end diff -----------\u001b[39m\n",
      "\n",
      "\n",
      "Checked all files in 0.118 seconds, 14.000 MB memory used\n"
     ]
    }
   ],
   "source": [
    "! vendor/bin/php-cs-fixer fix --diff --dry-run ."
   ]
  },
  {
   "cell_type": "code",
   "execution_count": 11,
   "metadata": {},
   "outputs": [
    {
     "name": "stdout",
     "output_type": "stream",
     "text": [
      "  0/66 [░░░░░░░░░░░░░░░░░░░░░░░░░░░░]   0%\u001b[1G\u001b[2K 20/66 [▓▓▓▓▓▓▓▓░░░░░░░░░░░░░░░░░░░░]  30%\u001b[1G\u001b[2K 40/66 [▓▓▓▓▓▓▓▓▓▓▓▓▓▓▓▓░░░░░░░░░░░░]  60%\u001b[1G\u001b[2K 66/66 [▓▓▓▓▓▓▓▓▓▓▓▓▓▓▓▓▓▓▓▓▓▓▓▓▓▓▓▓] 100%\n",
      "\n",
      " ------ ------------------------------------------------------------- \n",
      "  \u001b[32mLine\u001b[39m   \u001b[32mtests/Acceptance/Test14_LoginLogoutSeeHiddenContentCest.php\u001b[39m  \n",
      " ------ ------------------------------------------------------------- \n",
      "  24     Property Model\\User::$token (string) does not accept null.   \n",
      " ------ ------------------------------------------------------------- \n",
      "\n",
      " ------ -------------------------------------------------------------------- \n",
      "  \u001b[32mLine\u001b[39m   \u001b[32mview/auth/index.php\u001b[39m                                                 \n",
      " ------ -------------------------------------------------------------------- \n",
      "  1      File ends with a trailing whitespace. This may cause problems when  \n",
      "         running the code in the web browser. Remove the closing ?> mark or  \n",
      "         remove the whitespace.                                              \n",
      " ------ -------------------------------------------------------------------- \n",
      "\n",
      "\u001b[37;41m                                                                                \u001b[39;49m\n",
      "\u001b[37;41m [ERROR] Found 2 errors                                                         \u001b[39;49m\n",
      "\u001b[37;41m                                                                                \u001b[39;49m\n",
      "\n"
     ]
    }
   ],
   "source": [
    "! vendor/bin/phpstan analyze --xdebug -c phpstan.neon"
   ]
  },
  {
   "cell_type": "code",
   "execution_count": 12,
   "metadata": {},
   "outputs": [
    {
     "name": "stdout",
     "output_type": "stream",
     "text": [
      "phpcpd 6.0.3 by Sebastian Bergmann.\n",
      "\n",
      "No clones found.\n",
      "\n",
      "Time: 00:00.032, Memory: 4.00 MB\n"
     ]
    }
   ],
   "source": [
    "! vendor/bin/phpcpd . --fuzzy --min-lines 1 --min-tokens 20 --exclude vendor --exclude tests"
   ]
  },
  {
   "cell_type": "code",
   "execution_count": 13,
   "metadata": {},
   "outputs": [
    {
     "name": "stdout",
     "output_type": "stream",
     "text": [
      "Codeception PHP Testing Framework v5.0.4 https://helpukrainewin.org\n",
      "\n",
      "\u001b[1mTests.Unit Tests (24) \u001b[22m----------------------------------------------------------\n",
      "\u001b[32;1m✔\u001b[39;22m \u001b[35;1mTest00_StringEditorCest:\u001b[39;22m Create \u001b[32m(0.01s)\u001b[39m\n",
      "\u001b[32;1m✔\u001b[39;22m \u001b[35;1mTest00_StringEditorCest:\u001b[39;22m Replace word \u001b[32m(0.00s)\u001b[39m\n",
      "\u001b[32;1m✔\u001b[39;22m \u001b[35;1mTest00_StringEditorCest:\u001b[39;22m Lowercase \u001b[32m(0.00s)\u001b[39m\n",
      "\u001b[32;1m✔\u001b[39;22m \u001b[35;1mTest00_StringEditorCest:\u001b[39;22m Uppercase \u001b[32m(0.00s)\u001b[39m\n",
      "\u001b[32;1m✔\u001b[39;22m \u001b[35;1mTest00_StringEditorCest:\u001b[39;22m Replace and upper case \u001b[32m(0.00s)\u001b[39m\n",
      "\u001b[32;1m✔\u001b[39;22m \u001b[35;1mTest00_StringEditorCest:\u001b[39;22m Censor word \u001b[32m(0.00s)\u001b[39m\n",
      "\u001b[32;1m✔\u001b[39;22m \u001b[35;1mTest00_StringEditorCest:\u001b[39;22m Censor short and long words \u001b[32m(0.00s)\u001b[39m\n",
      "\u001b[32;1m✔\u001b[39;22m \u001b[35;1mTest00_StringEditorCest:\u001b[39;22m Repeat word \u001b[32m(0.00s)\u001b[39m\n",
      "\u001b[32;1m✔\u001b[39;22m \u001b[35;1mTest00_StringEditorCest:\u001b[39;22m Remove word \u001b[32m(0.00s)\u001b[39m\n",
      "\u001b[32;1m✔\u001b[39;22m \u001b[35;1mTest00_StringEditorCest:\u001b[39;22m Edit sentence \u001b[32m(0.00s)\u001b[39m\n",
      "\u001b[32;1m✔\u001b[39;22m \u001b[35;1mTest01_RingBufferCest:\u001b[39;22m Create \u001b[32m(0.00s)\u001b[39m\n",
      "\u001b[32;1m✔\u001b[39;22m \u001b[35;1mTest01_RingBufferCest:\u001b[39;22m Should be empty \u001b[32m(0.00s)\u001b[39m\n",
      "\u001b[32;1m✔\u001b[39;22m \u001b[35;1mTest01_RingBufferCest:\u001b[39;22m Capacity \u001b[32m(0.00s)\u001b[39m\n",
      "\u001b[32;1m✔\u001b[39;22m \u001b[35;1mTest01_RingBufferCest:\u001b[39;22m Size should be zero when empty \u001b[32m(0.00s)\u001b[39m\n",
      "\u001b[32;1m✔\u001b[39;22m \u001b[35;1mTest01_RingBufferCest:\u001b[39;22m Push value size should increase \u001b[32m(0.00s)\u001b[39m\n",
      "\u001b[32;1m✔\u001b[39;22m \u001b[35;1mTest01_RingBufferCest:\u001b[39;22m Empty should be false when full \u001b[32m(0.00s)\u001b[39m\n",
      "\u001b[32;1m✔\u001b[39;22m \u001b[35;1mTest01_RingBufferCest:\u001b[39;22m Pop from empty \u001b[32m(0.00s)\u001b[39m\n",
      "\u001b[32;1m✔\u001b[39;22m \u001b[35;1mTest01_RingBufferCest:\u001b[39;22m Push and pop single value \u001b[32m(0.00s)\u001b[39m\n",
      "\u001b[32;1m✔\u001b[39;22m \u001b[35;1mTest01_RingBufferCest:\u001b[39;22m Pop should reduce size \u001b[32m(0.00s)\u001b[39m\n",
      "\u001b[32;1m✔\u001b[39;22m \u001b[35;1mTest01_RingBufferCest:\u001b[39;22m Back should not change buffer \u001b[32m(0.00s)\u001b[39m\n",
      "\u001b[32;1m✔\u001b[39;22m \u001b[35;1mTest01_RingBufferCest:\u001b[39;22m Push multiple times \u001b[32m(0.00s)\u001b[39m\n",
      "\u001b[32;1m✔\u001b[39;22m \u001b[35;1mTest01_RingBufferCest:\u001b[39;22m Multi item buffer \u001b[32m(0.00s)\u001b[39m\n",
      "\u001b[32;1m✔\u001b[39;22m \u001b[35;1mTest01_RingBufferCest:\u001b[39;22m Push and pop all values \u001b[32m(0.00s)\u001b[39m\n",
      "\u001b[32;1m✔\u001b[39;22m \u001b[35;1mTest01_RingBufferCest:\u001b[39;22m Access values by index \u001b[32m(0.00s)\u001b[39m\n",
      "--------------------------------------------------------------------------------\n",
      "Time: 00:00.154, Memory: 8.00 MB\n",
      "\n",
      "\u001b[30;42mOK (24 tests, 75 assertions)\u001b[39;49m\n"
     ]
    }
   ],
   "source": [
    "! vendor/bin/codecept run Unit"
   ]
  },
  {
   "cell_type": "code",
   "execution_count": 14,
   "metadata": {},
   "outputs": [],
   "source": [
    "import subprocess\n",
    "phpServer = subprocess.Popen(['php', '-S', 'localhost:8888', '-t', 'public'])"
   ]
  },
  {
   "cell_type": "code",
   "execution_count": 15,
   "metadata": {},
   "outputs": [
    {
     "name": "stdout",
     "output_type": "stream",
     "text": [
      "Done.\r\n"
     ]
    },
    {
     "name": "stderr",
     "output_type": "stream",
     "text": [
      "[Mon Nov 21 21:29:16 2022] PHP 8.1.12 Development Server (http://localhost:8888) started\n",
      "[Mon Nov 21 21:29:16 2022] [::1]:40614 Accepted\n",
      "[Mon Nov 21 21:29:16 2022] [::1]:40614 Closed without sending a request; it was probably just an unused speculative preconnection\n",
      "[Mon Nov 21 21:29:16 2022] [::1]:40614 Closing\n"
     ]
    }
   ],
   "source": [
    "! while ! timeout 1 bash -c \"echo > /dev/tcp/localhost/8888\" 2> /dev/null; do sleep 1; done; echo \"Done.\";"
   ]
  },
  {
   "cell_type": "code",
   "execution_count": 16,
   "metadata": {},
   "outputs": [
    {
     "name": "stdout",
     "output_type": "stream",
     "text": [
      "Codeception PHP Testing Framework v5.0.4 https://helpukrainewin.org\n",
      "\n",
      "\u001b[1mTests.Acceptance Tests (15) \u001b[22m----------------------------------------------------\n",
      "- \u001b[35;1mTest00_PrettyUrlCest:\u001b[39;22m Test"
     ]
    },
    {
     "name": "stderr",
     "output_type": "stream",
     "text": [
      "[Mon Nov 21 21:29:17 2022] [::1]:40616 Accepted\n",
      "[Mon Nov 21 21:29:17 2022] [::1]:40616 [200]: GET /\n",
      "[Mon Nov 21 21:29:17 2022] [::1]:40616 Closing\n",
      "[Mon Nov 21 21:29:17 2022] [::1]:40632 Accepted\n",
      "[Mon Nov 21 21:29:17 2022] [::1]:40632 [200]: GET /home\n",
      "[Mon Nov 21 21:29:17 2022] [::1]:40632 Closing\n",
      "[Mon Nov 21 21:29:17 2022] [::1]:40648 Accepted\n",
      "[Mon Nov 21 21:29:17 2022] [::1]:40648 [200]: GET /about\n",
      "[Mon Nov 21 21:29:17 2022] [::1]:40648 Closing\n",
      "[Mon Nov 21 21:29:17 2022] [::1]:40654 Accepted\n",
      "[Mon Nov 21 21:29:17 2022] [::1]:40654 [200]: GET /users\n",
      "[Mon Nov 21 21:29:17 2022] [::1]:40654 Closing\n",
      "[Mon Nov 21 21:29:17 2022] [::1]:40658 Accepted\n",
      "[Mon Nov 21 21:29:17 2022] [::1]:40658 [200]: GET /users/1\n",
      "[Mon Nov 21 21:29:17 2022] [::1]:40658 Closing\n"
     ]
    },
    {
     "name": "stdout",
     "output_type": "stream",
     "text": [
      "\u001b[32;1m✔\u001b[39;22m \u001b[35;1mTest00_PrettyUrlCest:\u001b[39;22m Test \u001b[32m(0.29s)\u001b[39m\n",
      "\u001b[32;1m✔\u001b[39;22m \u001b[35;1mTest01_FileStorageCest:\u001b[39;22m Test \u001b[32m(0.05s)\u001b[39m\n",
      "\u001b[32;1m✔\u001b[39;22m \u001b[35;1mTest02_SessionStorageCest:\u001b[39;22m Test \u001b[32m(0.02s)\u001b[39m\n",
      "- \u001b[35;1mTest03_SQLiteStorageCest:\u001b[39;22m Test"
     ]
    },
    {
     "name": "stderr",
     "output_type": "stream",
     "text": [
      "[Mon Nov 21 21:29:17 2022] [::1]:40660 Accepted\n",
      "[Mon Nov 21 21:29:17 2022] [::1]:40660 [200]: GET /users\n",
      "[Mon Nov 21 21:29:17 2022] [::1]:40660 Closing\n",
      "[Mon Nov 21 21:29:17 2022] [::1]:40668 Accepted\n",
      "[Mon Nov 21 21:29:17 2022] [::1]:40668 [200]: GET /users/2\n",
      "[Mon Nov 21 21:29:17 2022] [::1]:40668 Closing\n",
      "[Mon Nov 21 21:29:17 2022] [::1]:40670 Accepted\n",
      "[Mon Nov 21 21:29:17 2022] [::1]:40670 [200]: GET /users\n",
      "[Mon Nov 21 21:29:17 2022] [::1]:40670 Closing\n",
      "[Mon Nov 21 21:29:17 2022] [::1]:40684 Accepted\n",
      "[Mon Nov 21 21:29:17 2022] [::1]:40684 [200]: GET /users/3\n",
      "[Mon Nov 21 21:29:17 2022] [::1]:40684 Closing\n",
      "[Mon Nov 21 21:29:17 2022] [::1]:40686 Accepted\n",
      "[Mon Nov 21 21:29:17 2022] [::1]:40686 [200]: GET /demo/file\n",
      "[Mon Nov 21 21:29:17 2022] [::1]:40686 Closing\n",
      "[Mon Nov 21 21:29:17 2022] [::1]:40688 Accepted\n",
      "[Mon Nov 21 21:29:17 2022] [::1]:40688 [200]: GET /demo/session\n",
      "[Mon Nov 21 21:29:17 2022] [::1]:40688 Closing\n",
      "[Mon Nov 21 21:29:17 2022] [::1]:40692 Accepted\n"
     ]
    },
    {
     "name": "stdout",
     "output_type": "stream",
     "text": [
      "\r",
      "\u001b[32;1m✔\u001b[39;22m \u001b[35;1mTest03_SQLiteStorageCest:\u001b[39;22m Test \u001b[32m(0.11s)\u001b[39m\r\n",
      "- \u001b[35;1mTest04_MySQLStorageCest:\u001b[39;22m Test"
     ]
    },
    {
     "name": "stderr",
     "output_type": "stream",
     "text": [
      "[Mon Nov 21 21:29:17 2022] [::1]:40692 [200]: GET /demo/sqlite\n",
      "[Mon Nov 21 21:29:17 2022] [::1]:40692 Closing\n",
      "[Mon Nov 21 21:29:17 2022] [::1]:40694 Accepted\n",
      "[Mon Nov 21 21:29:17 2022] [::1]:40694 [200]: GET /demo/mysql\n"
     ]
    },
    {
     "name": "stdout",
     "output_type": "stream",
     "text": [
      "\r",
      "\u001b[32;1m✔\u001b[39;22m \u001b[35;1mTest04_MySQLStorageCest:\u001b[39;22m Test \u001b[32m(0.33s)\u001b[39m\r\n",
      "- \u001b[35;1mTest05_RedisStorageCest:\u001b[39;22m Test"
     ]
    },
    {
     "name": "stderr",
     "output_type": "stream",
     "text": [
      "[Mon Nov 21 21:29:17 2022] [::1]:40694 Closing\n",
      "[Mon Nov 21 21:29:17 2022] [::1]:40698 Accepted\n",
      "[Mon Nov 21 21:29:17 2022] [::1]:40698 [200]: GET /demo/mysql\n",
      "[Mon Nov 21 21:29:17 2022] [::1]:40698 Closing\n",
      "[Mon Nov 21 21:29:17 2022] [::1]:40704 Accepted\n",
      "[Mon Nov 21 21:29:17 2022] [::1]:40704 [200]: GET /demo/redis\n",
      "[Mon Nov 21 21:29:17 2022] [::1]:40704 Closing\n"
     ]
    },
    {
     "name": "stdout",
     "output_type": "stream",
     "text": [
      "\u001b[32;1m✔\u001b[39;22m \u001b[35;1mTest05_RedisStorageCest:\u001b[39;22m Test \u001b[32m(0.06s)\u001b[39m\n",
      "\u001b[32;1m✔\u001b[39;22m \u001b[35;1mTest06_HomepageCest:\u001b[39;22m See login and register links \u001b[32m(0.09s)\u001b[39m\n",
      "- \u001b[35;1mTest07_RegisterCest:\u001b[39;22m Register new user"
     ]
    },
    {
     "name": "stderr",
     "output_type": "stream",
     "text": [
      "[Mon Nov 21 21:29:18 2022] [::1]:40720 Accepted\n",
      "[Mon Nov 21 21:29:18 2022] [::1]:40720 [200]: GET /\n",
      "[Mon Nov 21 21:29:18 2022] [::1]:40720 Closing\n",
      "[Mon Nov 21 21:29:18 2022] [::1]:40722 Accepted\n",
      "[Mon Nov 21 21:29:18 2022] [::1]:40722 [200]: GET /home\n",
      "[Mon Nov 21 21:29:18 2022] [::1]:40722 Closing\n",
      "[Mon Nov 21 21:29:18 2022] [::1]:40732 Accepted\n",
      "[Mon Nov 21 21:29:18 2022] [::1]:40732 [200]: GET /\n",
      "[Mon Nov 21 21:29:18 2022] [::1]:40732 Closing\n",
      "[Mon Nov 21 21:29:18 2022] [::1]:40736 Accepted\n",
      "[Mon Nov 21 21:29:18 2022] [::1]:40736 [200]: GET /auth/register\n",
      "[Mon Nov 21 21:29:18 2022] [::1]:40736 Closing\n",
      "[Mon Nov 21 21:29:18 2022] [::1]:40744 Accepted\n"
     ]
    },
    {
     "name": "stdout",
     "output_type": "stream",
     "text": [
      "\r",
      "\u001b[32;1m✔\u001b[39;22m \u001b[35;1mTest07_RegisterCest:\u001b[39;22m Register new user \u001b[32m(0.49s)\u001b[39m\r\n",
      "- \u001b[35;1mTest08_RegisterValidationCest:\u001b[39;22m Validate data entered during registration"
     ]
    },
    {
     "name": "stderr",
     "output_type": "stream",
     "text": [
      "[Mon Nov 21 21:29:18 2022] [::1]:40744 [302]: POST /auth/register\n",
      "[Mon Nov 21 21:29:18 2022] [::1]:40744 Closing\n",
      "[Mon Nov 21 21:29:18 2022] [::1]:40754 Accepted\n",
      "[Mon Nov 21 21:29:18 2022] [::1]:40754 [200]: GET /auth/confirmation_notice\n",
      "[Mon Nov 21 21:29:18 2022] [::1]:40754 Closing\n"
     ]
    },
    {
     "name": "stdout",
     "output_type": "stream",
     "text": [
      "\r",
      "\u001b[32;1m✔\u001b[39;22m \u001b[35;1mTest08_RegisterValidationCest:\u001b[39;22m Validate data entered during registration \u001b[32m(0.12s)\u001b[39m\r\n",
      "- \u001b[35;1mTest09_RegisterRememberFieldsCest:\u001b[39;22m Remember data entered during registration when validation error is present"
     ]
    },
    {
     "name": "stderr",
     "output_type": "stream",
     "text": [
      "[Mon Nov 21 21:29:18 2022] [::1]:40770 Accepted\n",
      "[Mon Nov 21 21:29:18 2022] [::1]:40770 [200]: GET /auth/register\n",
      "[Mon Nov 21 21:29:18 2022] [::1]:40770 Closing\n",
      "[Mon Nov 21 21:29:18 2022] [::1]:40778 Accepted\n",
      "[Mon Nov 21 21:29:18 2022] [::1]:40778 [200]: POST /auth/register\n",
      "[Mon Nov 21 21:29:18 2022] [::1]:40778 Closing\n",
      "[Mon Nov 21 21:29:18 2022] [::1]:40786 Accepted\n",
      "[Mon Nov 21 21:29:18 2022] [::1]:40786 [200]: POST /auth/register\n",
      "[Mon Nov 21 21:29:18 2022] [::1]:40786 Closing\n",
      "[Mon Nov 21 21:29:18 2022] [::1]:40798 Accepted\n",
      "[Mon Nov 21 21:29:18 2022] [::1]:40798 [200]: GET /auth/register\n",
      "[Mon Nov 21 21:29:18 2022] [::1]:40798 Closing\n",
      "[Mon Nov 21 21:29:18 2022] [::1]:40800 Accepted\n",
      "[Mon Nov 21 21:29:18 2022] [::1]:40800 [200]: POST /auth/register\n",
      "[Mon Nov 21 21:29:18 2022] [::1]:40800 Closing\n",
      "[Mon Nov 21 21:29:18 2022] [::1]:40802 Accepted\n",
      "[Mon Nov 21 21:29:18 2022] [::1]:40802 [200]: POST /auth/register\n",
      "[Mon Nov 21 21:29:18 2022] [::1]:40802 Closing\n",
      "[Mon Nov 21 21:29:18 2022] [::1]:40814 Accepted\n",
      "[Mon Nov 21 21:29:18 2022] [::1]:40814 [200]: POST /auth/register\n",
      "[Mon Nov 21 21:29:18 2022] [::1]:40814 Closing\n"
     ]
    },
    {
     "name": "stdout",
     "output_type": "stream",
     "text": [
      "\r",
      "\u001b[32;1m✔\u001b[39;22m \u001b[35;1mTest09_RegisterRememberFieldsCest:\u001b[39;22m Remember data entered during registration when validation error is present \u001b[32m(0.26s)\u001b[39m\r\n",
      "- \u001b[35;1mTest10_RegisterConfirmCest:\u001b[39;22m Confirm user using link"
     ]
    },
    {
     "name": "stderr",
     "output_type": "stream",
     "text": [
      "[Mon Nov 21 21:29:18 2022] [::1]:40824 Accepted\n",
      "[Mon Nov 21 21:29:18 2022] [::1]:40824 [200]: POST /auth/register\n",
      "[Mon Nov 21 21:29:18 2022] [::1]:40824 Closing\n",
      "[Mon Nov 21 21:29:18 2022] [::1]:40840 Accepted\n",
      "[Mon Nov 21 21:29:18 2022] [::1]:40840 [200]: POST /auth/register\n",
      "[Mon Nov 21 21:29:18 2022] [::1]:40840 Closing\n",
      "[Mon Nov 21 21:29:18 2022] [::1]:40846 Accepted\n",
      "[Mon Nov 21 21:29:18 2022] [::1]:40846 [200]: GET /auth/register\n",
      "[Mon Nov 21 21:29:18 2022] [::1]:40846 Closing\n"
     ]
    },
    {
     "name": "stdout",
     "output_type": "stream",
     "text": [
      "\u001b[31;1m✖\u001b[39;22m \u001b[35;1mTest10_RegisterConfirmCest:\u001b[39;22m See an error when token is invalid \u001b[32m(0.28s)\u001b[39m\n",
      "\u001b[31;1m✖\u001b[39;22m \u001b[35;1mTest11_LoginNotExistingCest:\u001b[39;22m See error when user does not exists \u001b[32m(0.12s)\u001b[39m\n",
      "- \u001b[35;1mTest12_LoginWrongPasswordCest:\u001b[39;22m See error when wrong password is entered"
     ]
    },
    {
     "name": "stderr",
     "output_type": "stream",
     "text": [
      "[Mon Nov 21 21:29:19 2022] [::1]:40858 Accepted\n",
      "[Mon Nov 21 21:29:19 2022] [::1]:40858 [302]: GET /auth/confirm/ThisIsAnInvalidEmailConfirmationToken\n",
      "[Mon Nov 21 21:29:19 2022] [::1]:40858 Closing\n",
      "[Mon Nov 21 21:29:19 2022] [::1]:40860 Accepted\n",
      "[Mon Nov 21 21:29:19 2022] [::1]:40860 [200]: GET /InvalidToken\n",
      "[Mon Nov 21 21:29:19 2022] [::1]:40860 Closing\n",
      "[Mon Nov 21 21:29:19 2022] [::1]:40872 Accepted\n",
      "[Mon Nov 21 21:29:19 2022] [::1]:40872 [200]: GET /auth/login\n",
      "[Mon Nov 21 21:29:19 2022] [::1]:40872 Closing\n",
      "[Mon Nov 21 21:29:19 2022] [::1]:40882 Accepted\n",
      "[Mon Nov 21 21:29:19 2022] [::1]:40882 [302]: POST /auth/login\n",
      "[Mon Nov 21 21:29:19 2022] [::1]:40882 Closing\n",
      "[Mon Nov 21 21:29:19 2022] [::1]:40892 Accepted\n",
      "[Mon Nov 21 21:29:19 2022] [::1]:40892 [200]: GET /\n",
      "[Mon Nov 21 21:29:19 2022] [::1]:40892 Closing\n"
     ]
    },
    {
     "name": "stdout",
     "output_type": "stream",
     "text": [
      "\r",
      "\u001b[31;1m✖\u001b[39;22m \u001b[35;1mTest12_LoginWrongPasswordCest:\u001b[39;22m See error when wrong password is entered \u001b[32m(0.25s)\u001b[39m\r\n",
      "- \u001b[35;1mTest13_LoginNotConfirmedCest:\u001b[39;22m Be remained about email confirmation when trying to login"
     ]
    },
    {
     "name": "stderr",
     "output_type": "stream",
     "text": [
      "[Mon Nov 21 21:29:19 2022] [::1]:40906 Accepted\n",
      "[Mon Nov 21 21:29:19 2022] [::1]:40906 [200]: GET /auth/login\n",
      "[Mon Nov 21 21:29:19 2022] [::1]:40906 Closing\n",
      "[Mon Nov 21 21:29:19 2022] [::1]:40912 Accepted\n",
      "[Mon Nov 21 21:29:19 2022] [::1]:40912 [200]: POST /auth/login\n",
      "[Mon Nov 21 21:29:19 2022] [::1]:40912 Closing\n",
      "[Mon Nov 21 21:29:19 2022] [::1]:40922 Accepted\n",
      "[Mon Nov 21 21:29:19 2022] [::1]:40922 [200]: GET /auth/login\n",
      "[Mon Nov 21 21:29:19 2022] [::1]:40922 Closing\n",
      "[Mon Nov 21 21:29:19 2022] [::1]:40934 Accepted\n",
      "[Mon Nov 21 21:29:19 2022] [::1]:40934 [200]: POST /auth/login\n",
      "[Mon Nov 21 21:29:19 2022] [::1]:40934 Closing\n"
     ]
    },
    {
     "name": "stdout",
     "output_type": "stream",
     "text": [
      "\u001b[31;1m✖\u001b[39;22m \u001b[35;1mTest13_LoginNotConfirmedCest:\u001b[39;22m Be remained about email confirmation when trying to login \u001b[32m(0.25s)\u001b[39m\n",
      "\u001b[31;1mE\u001b[39;22m \u001b[35;1mTest14_LoginLogoutSeeHiddenContentCest:\u001b[39;22m See hidden content after login \u001b[32m(0.22s)\u001b[39m\n",
      "--------------------------------------------------------------------------------\n",
      "Time: 00:03.218, Memory: 12.00 MB\n",
      "\n",
      "There was 1 error:\n",
      "1) \u001b[35;1mTest14_LoginLogoutSeeHiddenContentCest:\u001b[39;22m See hidden content after login\n",
      "\u001b[37;41;1m Test  \u001b[39;49;22mtests/Acceptance/Test14_LoginLogoutSeeHiddenContentCest.php:test\n",
      "\u001b[37;41;1m                                                                                \u001b[39;49;22m\n",
      "\u001b[37;41;1m  [TypeError] Cannot assign null to property Model\\User::$token of type string  \u001b[39;49;22m\n",
      "\u001b[37;41;1m                                                                                \u001b[39;49;22m\n",
      "#1  /home/student/php_2022_adam_lewinski/07_testing/02_exercise/project/tests/Acceptance/Test14_LoginLogoutSeeHiddenContentCest.php:24\n",
      "#2  Tests\\Acceptance\\Test14_LoginLogoutSeeHiddenContentCest->test\n",
      "#3  /home/student/php_2022_adam_lewinski/07_testing/02_exercise/project/vendor/bin/codecept:120\n",
      "\n",
      "---------\n",
      "\n",
      "There were 4 failures:\n",
      "1) \u001b[35;1mTest10_RegisterConfirmCest:\u001b[39;22m See an error when token is invalid\n",
      "\u001b[37;41;1m Test  \u001b[39;49;22mtests/Acceptance/Test10_RegisterConfirmCest.php:test\n",
      "\u001b[37;41;1m Step \u001b[39;49;22m See \"Email 'foo@bar.com' does not exist!\",\"li.error\"\n",
      "\u001b[37;41;1m Fail \u001b[39;49;22m Failed asserting that two strings are identical.\n",
      "\u001b[33m- Expected\u001b[39m | \u001b[32m+ Actual\u001b[39m\n",
      "@@ @@\n",
      "\u001b[33m-''\u001b[39m\n",
      "\u001b[32m+'/InvalidToken'\u001b[39m\n",
      "\u001b[33m\n",
      "Scenario Steps:\n",
      "\u001b[39m\n",
      "\u001b[1m 3. $I->seeCurrentUrlEquals(\"/\")\u001b[22m at \u001b[32mtests/Acceptance/Test10_RegisterConfirmCest.php:36\u001b[39m\n",
      " 2. $I->amOnPage(\"/auth/confirm/ThisIsAnInvalidEmailConfirmationToken\") at \u001b[32mtests/Acceptance/Test10_RegisterConfirmCest.php:34\u001b[39m\n",
      " 1. $I->haveInDatabase(\"objects\",{\"key\":\"model_user_1\",\"data\":\"O:10:\"Model\\...}) at \u001b[32mtests/Acceptance/Test10_RegisterConfirmCest.php:29\u001b[39m\n",
      "\n",
      "\u001b[33mArtifacts:\u001b[39m\n",
      "\n",
      "Html: \u001b[36m/home/student/php_2022_adam_lewinski/07_testing/02_exercise/project/tests/_output/Tests.Acceptance.Test10_RegisterConfirmCest.test.fail.html\u001b[39m\n",
      "Response: \u001b[36m/home/student/php_2022_adam_lewinski/07_testing/02_exercise/project/tests/_output/Tests.Acceptance.Test10_RegisterConfirmCest.test.fail.html\u001b[39m\n",
      "2) \u001b[35;1mTest11_LoginNotExistingCest:\u001b[39;22m See error when user does not exists\n",
      "\u001b[37;41;1m Test  \u001b[39;49;22mtests/Acceptance/Test11_LoginNotExistingCest.php:test\n",
      "\u001b[37;41;1m Step \u001b[39;49;22m See \"Password is invalid!\",\"li.error\"\n",
      "\u001b[37;41;1m Fail \u001b[39;49;22m Failed asserting that any element by 'li.error' on page /\n",
      "+ <li class=\"error\">Email foo@bar.com does not exist!</li>\n",
      "contains text 'Email 'foo@bar.com' does not exist!'\n",
      "\u001b[33m\n",
      "Scenario Steps:\n",
      "\u001b[39m\n",
      "\u001b[1m 8. $I->see(\"Email 'foo@bar.com' does not exist!\",\"li.error\")\u001b[22m at \u001b[32mtests/Acceptance/Test11_LoginNotExistingCest.php:27\u001b[39m\n",
      " 7. $I->seeCurrentUrlEquals(\"/\") at \u001b[32mtests/Acceptance/Test11_LoginNotExistingCest.php:26\u001b[39m\n",
      " 6. $I->click(\"Enter\") at \u001b[32mtests/Acceptance/Test11_LoginNotExistingCest.php:24\u001b[39m\n",
      " 5. $I->fillField(\"password\",\"foo\") at \u001b[32mtests/Acceptance/Test11_LoginNotExistingCest.php:22\u001b[39m\n",
      " 4. $I->fillField(\"email\",\"foo@bar.com\") at \u001b[32mtests/Acceptance/Test11_LoginNotExistingCest.php:21\u001b[39m\n",
      " 3. $I->see(\"Login\",\"h2\") at \u001b[32mtests/Acceptance/Test11_LoginNotExistingCest.php:19\u001b[39m\n",
      "\n",
      "\u001b[33mArtifacts:\u001b[39m\n",
      "\n",
      "Html: \u001b[36m/home/student/php_2022_adam_lewinski/07_testing/02_exercise/project/tests/_output/Tests.Acceptance.Test11_LoginNotExistingCest.test.fail.html\u001b[39m\n",
      "Response: \u001b[36m/home/student/php_2022_adam_lewinski/07_testing/02_exercise/project/tests/_output/Tests.Acceptance.Test11_LoginNotExistingCest.test.fail.html\u001b[39m\n",
      "3) \u001b[35;1mTest12_LoginWrongPasswordCest:\u001b[39;22m See error when wrong password is entered\n",
      "\u001b[37;41;1m Test  \u001b[39;49;22mtests/Acceptance/Test12_LoginWrongPasswordCest.php:test\n",
      "\u001b[37;41;1m Step \u001b[39;49;22m See current url equals \"/auth/confirmation_notice\"\n",
      "\u001b[37;41;1m Fail \u001b[39;49;22m Element located either by name, CSS or XPath element with 'li.error' was not found.\n",
      "\u001b[33m\n",
      "Scenario Steps:\n",
      "\u001b[39m\n",
      "\u001b[1m 9. $I->see(\"Password is invalid!\",\"li.error\")\u001b[22m at \u001b[32mtests/Acceptance/Test12_LoginWrongPasswordCest.php:43\u001b[39m\n",
      " 8. $I->seeCurrentUrlEquals(\"/auth/login\") at \u001b[32mtests/Acceptance/Test12_LoginWrongPasswordCest.php:42\u001b[39m\n",
      " 7. $I->click(\"Enter\") at \u001b[32mtests/Acceptance/Test12_LoginWrongPasswordCest.php:40\u001b[39m\n",
      " 6. $I->fillField(\"password\",\"wrong\") at \u001b[32mtests/Acceptance/Test12_LoginWrongPasswordCest.php:38\u001b[39m\n",
      " 5. $I->fillField(\"email\",\"dummy@example.com\") at \u001b[32mtests/Acceptance/Test12_LoginWrongPasswordCest.php:37\u001b[39m\n",
      " 4. $I->haveInDatabase(\"objects\",{\"key\":\"model_user_1\",\"data\":\"O:10:\"Model\\...}) at \u001b[32mtests/Acceptance/Test12_LoginWrongPasswordCest.php:34\u001b[39m\n",
      "\n",
      "\u001b[33mArtifacts:\u001b[39m\n",
      "\n",
      "Html: \u001b[36m/home/student/php_2022_adam_lewinski/07_testing/02_exercise/project/tests/_output/Tests.Acceptance.Test12_LoginWrongPasswordCest.test.fail.html\u001b[39m\n",
      "Response: \u001b[36m/home/student/php_2022_adam_lewinski/07_testing/02_exercise/project/tests/_output/Tests.Acceptance.Test12_LoginWrongPasswordCest.test.fail.html\u001b[39m\n",
      "4) \u001b[35;1mTest13_LoginNotConfirmedCest:\u001b[39;22m Be remained about email confirmation when trying to login\n",
      "\u001b[37;41;1m Test  \u001b[39;49;22mtests/Acceptance/Test13_LoginNotConfirmedCest.php:test\n",
      "Failed asserting that two strings are identical.\n",
      "\u001b[33m- Expected\u001b[39m | \u001b[32m+ Actual\u001b[39m\n",
      "@@ @@\n",
      "\u001b[33m-'/auth/confirmation_notice'\u001b[39m\n",
      "\u001b[32m+'/auth/login'\u001b[39m\n",
      "\u001b[33m\n",
      "Scenario Steps:\n",
      "\u001b[39m\n",
      "\u001b[1m 8. $I->seeCurrentUrlEquals(\"/auth/confirmation_notice\")\u001b[22m at \u001b[32mtests/Acceptance/Test13_LoginNotConfirmedCest.php:42\u001b[39m\n",
      " 7. $I->click(\"Enter\") at \u001b[32mtests/Acceptance/Test13_LoginNotConfirmedCest.php:40\u001b[39m\n",
      " 6. $I->fillField(\"password\",\"foo\") at \u001b[32mtests/Acceptance/Test13_LoginNotConfirmedCest.php:38\u001b[39m\n",
      " 5. $I->fillField(\"email\",\"dummy@example.com\") at \u001b[32mtests/Acceptance/Test13_LoginNotConfirmedCest.php:37\u001b[39m\n",
      " 4. $I->haveInDatabase(\"objects\",{\"key\":\"model_user_1\",\"data\":\"O:10:\"Model\\...}) at \u001b[32mtests/Acceptance/Test13_LoginNotConfirmedCest.php:33\u001b[39m\n",
      " 3. $I->see(\"Login\",\"h2\") at \u001b[32mtests/Acceptance/Test13_LoginNotConfirmedCest.php:19\u001b[39m\n",
      "\n",
      "\u001b[33mArtifacts:\u001b[39m\n",
      "\n",
      "Html: \u001b[36m/home/student/php_2022_adam_lewinski/07_testing/02_exercise/project/tests/_output/Tests.Acceptance.Test13_LoginNotConfirmedCest.test.fail.html\u001b[39m\n",
      "Response: \u001b[36m/home/student/php_2022_adam_lewinski/07_testing/02_exercise/project/tests/_output/Tests.Acceptance.Test13_LoginNotConfirmedCest.test.fail.html\u001b[39m\n",
      "\n",
      "\u001b[37;41;1mERRORS!\u001b[39;49;22m\n",
      "\u001b[37;41;1mTests: 15, Assertions: 246, Errors: 1, Failures: 4.\u001b[39;49;22m\n"
     ]
    }
   ],
   "source": [
    "! vendor/bin/codecept run Acceptance"
   ]
  },
  {
   "cell_type": "code",
   "execution_count": 17,
   "metadata": {},
   "outputs": [
    {
     "name": "stdout",
     "output_type": "stream",
     "text": [
      "Codeception PHP Testing Framework v5.0.4 https://helpukrainewin.org\n",
      "\n",
      "\u001b[1mTests.Acceptance Tests (15) \u001b[22m----------------------------------------------------\n",
      "\u001b[32;1m✔\u001b[39;22m \u001b[35;1mTest00_PrettyUrlCest:\u001b[39;22m Test \u001b[32m(0.12s)\u001b[39m\n",
      "\u001b[32;1m✔\u001b[39;22m \u001b[35;1mTest01_FileStorageCest:\u001b[39;22m Test \u001b[32m(0.03s)\u001b[39m\n",
      "\u001b[32;1m✔\u001b[39;22m \u001b[35;1mTest02_SessionStorageCest:\u001b[39;22m Test \u001b[32m(0.02s)\u001b[39m\n",
      "- \u001b[35;1mTest03_SQLiteStorageCest:\u001b[39;22m Test"
     ]
    },
    {
     "name": "stderr",
     "output_type": "stream",
     "text": [
      "[Mon Nov 21 21:29:20 2022] [::1]:40944 Accepted\n",
      "[Mon Nov 21 21:29:20 2022] [::1]:40944 [200]: GET /\n",
      "[Mon Nov 21 21:29:20 2022] [::1]:40944 Closing\n",
      "[Mon Nov 21 21:29:20 2022] [::1]:40952 Accepted\n",
      "[Mon Nov 21 21:29:20 2022] [::1]:40952 [200]: GET /home\n",
      "[Mon Nov 21 21:29:20 2022] [::1]:40952 Closing\n",
      "[Mon Nov 21 21:29:20 2022] [::1]:40958 Accepted\n",
      "[Mon Nov 21 21:29:20 2022] [::1]:40958 [200]: GET /about\n",
      "[Mon Nov 21 21:29:20 2022] [::1]:40958 Closing\n",
      "[Mon Nov 21 21:29:20 2022] [::1]:40966 Accepted\n",
      "[Mon Nov 21 21:29:20 2022] [::1]:40966 [200]: GET /users\n",
      "[Mon Nov 21 21:29:20 2022] [::1]:40966 Closing\n",
      "[Mon Nov 21 21:29:20 2022] [::1]:40972 Accepted\n",
      "[Mon Nov 21 21:29:20 2022] [::1]:40972 [200]: GET /users/1\n",
      "[Mon Nov 21 21:29:20 2022] [::1]:40972 Closing\n",
      "[Mon Nov 21 21:29:20 2022] [::1]:40982 Accepted\n",
      "[Mon Nov 21 21:29:20 2022] [::1]:40982 [200]: GET /users\n",
      "[Mon Nov 21 21:29:20 2022] [::1]:40982 Closing\n",
      "[Mon Nov 21 21:29:20 2022] [::1]:40984 Accepted\n",
      "[Mon Nov 21 21:29:20 2022] [::1]:40984 [200]: GET /users/2\n",
      "[Mon Nov 21 21:29:20 2022] [::1]:40984 Closing\n",
      "[Mon Nov 21 21:29:20 2022] [::1]:40996 Accepted\n",
      "[Mon Nov 21 21:29:20 2022] [::1]:40996 [200]: GET /users\n",
      "[Mon Nov 21 21:29:20 2022] [::1]:40996 Closing\n",
      "[Mon Nov 21 21:29:20 2022] [::1]:41006 Accepted\n",
      "[Mon Nov 21 21:29:20 2022] [::1]:41006 [200]: GET /users/3\n",
      "[Mon Nov 21 21:29:20 2022] [::1]:41006 Closing\n",
      "[Mon Nov 21 21:29:20 2022] [::1]:41022 Accepted\n",
      "[Mon Nov 21 21:29:20 2022] [::1]:41022 [200]: GET /demo/file\n",
      "[Mon Nov 21 21:29:20 2022] [::1]:41022 Closing\n",
      "[Mon Nov 21 21:29:20 2022] [::1]:41028 Accepted\n",
      "[Mon Nov 21 21:29:20 2022] [::1]:41028 [200]: GET /demo/session\n",
      "[Mon Nov 21 21:29:20 2022] [::1]:41028 Closing\n",
      "[Mon Nov 21 21:29:20 2022] [::1]:41042 Accepted\n"
     ]
    },
    {
     "name": "stdout",
     "output_type": "stream",
     "text": [
      "\r",
      "\u001b[32;1m✔\u001b[39;22m \u001b[35;1mTest03_SQLiteStorageCest:\u001b[39;22m Test \u001b[32m(0.11s)\u001b[39m\r\n",
      "- \u001b[35;1mTest04_MySQLStorageCest:\u001b[39;22m Test"
     ]
    },
    {
     "name": "stderr",
     "output_type": "stream",
     "text": [
      "[Mon Nov 21 21:29:20 2022] [::1]:41042 [200]: GET /demo/sqlite\n",
      "[Mon Nov 21 21:29:20 2022] [::1]:41042 Closing\n",
      "[Mon Nov 21 21:29:21 2022] [::1]:41048 Accepted\n",
      "[Mon Nov 21 21:29:21 2022] [::1]:41048 [200]: GET /demo/mysql\n",
      "[Mon Nov 21 21:29:21 2022] [::1]:41048 Closing\n"
     ]
    },
    {
     "name": "stdout",
     "output_type": "stream",
     "text": [
      "\u001b[32;1m✔\u001b[39;22m \u001b[35;1mTest04_MySQLStorageCest:\u001b[39;22m Test \u001b[32m(0.32s)\u001b[39m\n",
      "\u001b[32;1m✔\u001b[39;22m \u001b[35;1mTest05_RedisStorageCest:\u001b[39;22m Test \u001b[32m(0.04s)\u001b[39m\n",
      "- \u001b[35;1mTest06_HomepageCest:\u001b[39;22m See welcome message on homepage"
     ]
    },
    {
     "name": "stderr",
     "output_type": "stream",
     "text": [
      "[Mon Nov 21 21:29:21 2022] [::1]:41050 Accepted\n",
      "[Mon Nov 21 21:29:21 2022] [::1]:41050 [200]: GET /demo/mysql\n",
      "[Mon Nov 21 21:29:21 2022] [::1]:41050 Closing\n",
      "[Mon Nov 21 21:29:21 2022] [::1]:41056 Accepted\n",
      "[Mon Nov 21 21:29:21 2022] [::1]:41056 [200]: GET /demo/redis\n",
      "[Mon Nov 21 21:29:21 2022] [::1]:41056 Closing\n"
     ]
    },
    {
     "name": "stdout",
     "output_type": "stream",
     "text": [
      "\r",
      "\u001b[32;1m✔\u001b[39;22m \u001b[35;1mTest06_HomepageCest:\u001b[39;22m See login and register links \u001b[32m(0.10s)\u001b[39m\r\n",
      "- \u001b[35;1mTest07_RegisterCest:\u001b[39;22m Register new user"
     ]
    },
    {
     "name": "stderr",
     "output_type": "stream",
     "text": [
      "[Mon Nov 21 21:29:21 2022] [::1]:41068 Accepted\n",
      "[Mon Nov 21 21:29:21 2022] [::1]:41068 [200]: GET /\n",
      "[Mon Nov 21 21:29:21 2022] [::1]:41068 Closing\n",
      "[Mon Nov 21 21:29:21 2022] [::1]:41070 Accepted\n",
      "[Mon Nov 21 21:29:21 2022] [::1]:41070 [200]: GET /home\n",
      "[Mon Nov 21 21:29:21 2022] [::1]:41070 Closing\n",
      "[Mon Nov 21 21:29:21 2022] [::1]:41074 Accepted\n",
      "[Mon Nov 21 21:29:21 2022] [::1]:41074 [200]: GET /\n",
      "[Mon Nov 21 21:29:21 2022] [::1]:41074 Closing\n",
      "[Mon Nov 21 21:29:21 2022] [::1]:41086 Accepted\n",
      "[Mon Nov 21 21:29:21 2022] [::1]:41086 [200]: GET /auth/register\n",
      "[Mon Nov 21 21:29:21 2022] [::1]:41086 Closing\n",
      "[Mon Nov 21 21:29:21 2022] [::1]:41090 Accepted\n",
      "[Mon Nov 21 21:29:21 2022] [::1]:41090 [302]: POST /auth/register\n",
      "[Mon Nov 21 21:29:21 2022] [::1]:41090 Closing\n",
      "[Mon Nov 21 21:29:21 2022] [::1]:41098 Accepted\n",
      "[Mon Nov 21 21:29:21 2022] [::1]:41098 [200]: GET /auth/confirmation_notice\n",
      "[Mon Nov 21 21:29:21 2022] [::1]:41098 Closing\n"
     ]
    },
    {
     "name": "stdout",
     "output_type": "stream",
     "text": [
      "\u001b[32;1m✔\u001b[39;22m \u001b[35;1mTest07_RegisterCest:\u001b[39;22m Register new user \u001b[32m(0.47s)\u001b[39m\n",
      "\u001b[32;1m✔\u001b[39;22m \u001b[35;1mTest08_RegisterValidationCest:\u001b[39;22m Validate data entered during registration \u001b[32m(0.13s)\u001b[39m\n",
      "- \u001b[35;1mTest09_RegisterRememberFieldsCest:\u001b[39;22m Remember data entered during registration when validation error is present"
     ]
    },
    {
     "name": "stderr",
     "output_type": "stream",
     "text": [
      "[Mon Nov 21 21:29:22 2022] [::1]:41114 Accepted\n",
      "[Mon Nov 21 21:29:22 2022] [::1]:41114 [200]: GET /auth/register\n",
      "[Mon Nov 21 21:29:22 2022] [::1]:41114 Closing\n",
      "[Mon Nov 21 21:29:22 2022] [::1]:41122 Accepted\n",
      "[Mon Nov 21 21:29:22 2022] [::1]:41122 [200]: POST /auth/register\n",
      "[Mon Nov 21 21:29:22 2022] [::1]:41122 Closing\n",
      "[Mon Nov 21 21:29:22 2022] [::1]:41124 Accepted\n",
      "[Mon Nov 21 21:29:22 2022] [::1]:41124 [200]: POST /auth/register\n",
      "[Mon Nov 21 21:29:22 2022] [::1]:41124 Closing\n",
      "[Mon Nov 21 21:29:22 2022] [::1]:41126 Accepted\n",
      "[Mon Nov 21 21:29:22 2022] [::1]:41126 [200]: GET /auth/register\n",
      "[Mon Nov 21 21:29:22 2022] [::1]:41126 Closing\n",
      "[Mon Nov 21 21:29:22 2022] [::1]:41130 Accepted\n",
      "[Mon Nov 21 21:29:22 2022] [::1]:41130 [200]: POST /auth/register\n",
      "[Mon Nov 21 21:29:22 2022] [::1]:41130 Closing\n",
      "[Mon Nov 21 21:29:22 2022] [::1]:41140 Accepted\n"
     ]
    },
    {
     "name": "stdout",
     "output_type": "stream",
     "text": [
      "\r",
      "\u001b[32;1m✔\u001b[39;22m \u001b[35;1mTest09_RegisterRememberFieldsCest:\u001b[39;22m Remember data entered during registration when validation error is present \u001b[32m(0.28s)\u001b[39m\r\n",
      "- \u001b[35;1mTest10_RegisterConfirmCest:\u001b[39;22m Confirm user using link"
     ]
    },
    {
     "name": "stderr",
     "output_type": "stream",
     "text": [
      "[Mon Nov 21 21:29:22 2022] [::1]:41140 [200]: POST /auth/register\n",
      "[Mon Nov 21 21:29:22 2022] [::1]:41140 Closing\n",
      "[Mon Nov 21 21:29:22 2022] [::1]:41144 Accepted\n",
      "[Mon Nov 21 21:29:22 2022] [::1]:41144 [200]: POST /auth/register\n",
      "[Mon Nov 21 21:29:22 2022] [::1]:41144 Closing\n",
      "[Mon Nov 21 21:29:22 2022] [::1]:41156 Accepted\n",
      "[Mon Nov 21 21:29:22 2022] [::1]:41156 [200]: POST /auth/register\n",
      "[Mon Nov 21 21:29:22 2022] [::1]:41156 Closing\n",
      "[Mon Nov 21 21:29:22 2022] [::1]:41160 Accepted\n",
      "[Mon Nov 21 21:29:22 2022] [::1]:41160 [200]: POST /auth/register\n",
      "[Mon Nov 21 21:29:22 2022] [::1]:41160 Closing\n",
      "[Mon Nov 21 21:29:22 2022] [::1]:41174 Accepted\n",
      "[Mon Nov 21 21:29:22 2022] [::1]:41174 [200]: GET /auth/register\n",
      "[Mon Nov 21 21:29:22 2022] [::1]:41174 Closing\n"
     ]
    },
    {
     "name": "stdout",
     "output_type": "stream",
     "text": [
      "\u001b[31;1m✖\u001b[39;22m \u001b[35;1mTest10_RegisterConfirmCest:\u001b[39;22m See an error when token is invalid \u001b[32m(0.27s)\u001b[39m\n",
      "\u001b[31;1m✖\u001b[39;22m \u001b[35;1mTest11_LoginNotExistingCest:\u001b[39;22m See error when user does not exists \u001b[32m(0.10s)\u001b[39m\n",
      "- \u001b[35;1mTest12_LoginWrongPasswordCest:\u001b[39;22m See error when wrong password is entered"
     ]
    },
    {
     "name": "stderr",
     "output_type": "stream",
     "text": [
      "[Mon Nov 21 21:29:22 2022] [::1]:41180 Accepted\n",
      "[Mon Nov 21 21:29:22 2022] [::1]:41180 [302]: GET /auth/confirm/ThisIsAnInvalidEmailConfirmationToken\n",
      "[Mon Nov 21 21:29:22 2022] [::1]:41180 Closing\n",
      "[Mon Nov 21 21:29:22 2022] [::1]:41196 Accepted\n",
      "[Mon Nov 21 21:29:22 2022] [::1]:41196 [200]: GET /InvalidToken\n",
      "[Mon Nov 21 21:29:22 2022] [::1]:41196 Closing\n",
      "[Mon Nov 21 21:29:22 2022] [::1]:41210 Accepted\n",
      "[Mon Nov 21 21:29:22 2022] [::1]:41210 [200]: GET /auth/login\n",
      "[Mon Nov 21 21:29:22 2022] [::1]:41210 Closing\n",
      "[Mon Nov 21 21:29:22 2022] [::1]:41216 Accepted\n",
      "[Mon Nov 21 21:29:22 2022] [::1]:41216 [302]: POST /auth/login\n",
      "[Mon Nov 21 21:29:22 2022] [::1]:41216 Closing\n",
      "[Mon Nov 21 21:29:22 2022] [::1]:41226 Accepted\n",
      "[Mon Nov 21 21:29:22 2022] [::1]:41226 [200]: GET /\n",
      "[Mon Nov 21 21:29:22 2022] [::1]:41226 Closing\n",
      "[Mon Nov 21 21:29:22 2022] [::1]:41242 Accepted\n",
      "[Mon Nov 21 21:29:22 2022] [::1]:41242 [200]: GET /auth/login\n",
      "[Mon Nov 21 21:29:22 2022] [::1]:41242 Closing\n",
      "[Mon Nov 21 21:29:22 2022] [::1]:41258 Accepted\n",
      "[Mon Nov 21 21:29:23 2022] [::1]:41258 [200]: POST /auth/login\n",
      "[Mon Nov 21 21:29:23 2022] [::1]:41258 Closing\n"
     ]
    },
    {
     "name": "stdout",
     "output_type": "stream",
     "text": [
      "\r",
      "\u001b[31;1m✖\u001b[39;22m \u001b[35;1mTest12_LoginWrongPasswordCest:\u001b[39;22m See error when wrong password is entered \u001b[32m(0.25s)\u001b[39m\r\n",
      "- \u001b[35;1mTest13_LoginNotConfirmedCest:\u001b[39;22m Be remained about email confirmation when trying to login"
     ]
    },
    {
     "name": "stderr",
     "output_type": "stream",
     "text": [
      "[Mon Nov 21 21:29:23 2022] [::1]:41272 Accepted\n",
      "[Mon Nov 21 21:29:23 2022] [::1]:41272 [200]: GET /auth/login\n",
      "[Mon Nov 21 21:29:23 2022] [::1]:41272 Closing\n",
      "[Mon Nov 21 21:29:23 2022] [::1]:41278 Accepted\n",
      "[Mon Nov 21 21:29:23 2022] [::1]:41278 [200]: POST /auth/login\n",
      "[Mon Nov 21 21:29:23 2022] [::1]:41278 Closing\n"
     ]
    },
    {
     "name": "stdout",
     "output_type": "stream",
     "text": [
      "\u001b[31;1m✖\u001b[39;22m \u001b[35;1mTest13_LoginNotConfirmedCest:\u001b[39;22m Be remained about email confirmation when trying to login \u001b[32m(0.27s)\u001b[39m\n",
      "\u001b[31;1mE\u001b[39;22m \u001b[35;1mTest14_LoginLogoutSeeHiddenContentCest:\u001b[39;22m See hidden content after login \u001b[32m(0.22s)\u001b[39m\n",
      "--------------------------------------------------------------------------------\n",
      "Time: 00:02.997, Memory: 12.00 MB\n",
      "\n",
      "There was 1 error:\n",
      "1) \u001b[35;1mTest14_LoginLogoutSeeHiddenContentCest:\u001b[39;22m See hidden content after login\n",
      "\u001b[37;41;1m Test  \u001b[39;49;22mtests/Acceptance/Test14_LoginLogoutSeeHiddenContentCest.php:test\n",
      "\u001b[37;41;1m                                                                                \u001b[39;49;22m\n",
      "\u001b[37;41;1m  [TypeError] Cannot assign null to property Model\\User::$token of type string  \u001b[39;49;22m\n",
      "\u001b[37;41;1m                                                                                \u001b[39;49;22m\n",
      "#1  /home/student/php_2022_adam_lewinski/07_testing/02_exercise/project/tests/Acceptance/Test14_LoginLogoutSeeHiddenContentCest.php:24\n",
      "#2  Tests\\Acceptance\\Test14_LoginLogoutSeeHiddenContentCest->test\n",
      "#3  /home/student/php_2022_adam_lewinski/07_testing/02_exercise/project/vendor/bin/codecept:120\n",
      "\n",
      "---------\n",
      "\n",
      "There were 4 failures:\n",
      "1) \u001b[35;1mTest10_RegisterConfirmCest:\u001b[39;22m See an error when token is invalid\n",
      "\u001b[37;41;1m Test  \u001b[39;49;22mtests/Acceptance/Test10_RegisterConfirmCest.php:test\n",
      "\u001b[37;41;1m Step \u001b[39;49;22m See \"Email 'foo@bar.com' does not exist!\",\"li.error\"\n",
      "\u001b[37;41;1m Fail \u001b[39;49;22m Failed asserting that two strings are identical.\n",
      "\u001b[33m- Expected\u001b[39m | \u001b[32m+ Actual\u001b[39m\n",
      "@@ @@\n",
      "\u001b[33m-''\u001b[39m\n",
      "\u001b[32m+'/InvalidToken'\u001b[39m\n",
      "\u001b[33m\n",
      "Scenario Steps:\n",
      "\u001b[39m\n",
      "\u001b[1m 3. $I->seeCurrentUrlEquals(\"/\")\u001b[22m at \u001b[32mtests/Acceptance/Test10_RegisterConfirmCest.php:36\u001b[39m\n",
      " 2. $I->amOnPage(\"/auth/confirm/ThisIsAnInvalidEmailConfirmationToken\") at \u001b[32mtests/Acceptance/Test10_RegisterConfirmCest.php:34\u001b[39m\n",
      " 1. $I->haveInDatabase(\"objects\",{\"key\":\"model_user_1\",\"data\":\"O:10:\"Model\\...}) at \u001b[32mtests/Acceptance/Test10_RegisterConfirmCest.php:29\u001b[39m\n",
      "\n",
      "\u001b[33mArtifacts:\u001b[39m\n",
      "\n",
      "Html: \u001b[36m/home/student/php_2022_adam_lewinski/07_testing/02_exercise/project/tests/_output/Tests.Acceptance.Test10_RegisterConfirmCest.test.fail.html\u001b[39m\n",
      "Response: \u001b[36m/home/student/php_2022_adam_lewinski/07_testing/02_exercise/project/tests/_output/Tests.Acceptance.Test10_RegisterConfirmCest.test.fail.html\u001b[39m\n",
      "2) \u001b[35;1mTest11_LoginNotExistingCest:\u001b[39;22m See error when user does not exists\n",
      "\u001b[37;41;1m Test  \u001b[39;49;22mtests/Acceptance/Test11_LoginNotExistingCest.php:test\n",
      "\u001b[37;41;1m Step \u001b[39;49;22m See \"Password is invalid!\",\"li.error\"\n",
      "\u001b[37;41;1m Fail \u001b[39;49;22m Failed asserting that any element by 'li.error' on page /\n",
      "+ <li class=\"error\">Email foo@bar.com does not exist!</li>\n",
      "contains text 'Email 'foo@bar.com' does not exist!'\n",
      "\u001b[33m\n",
      "Scenario Steps:\n",
      "\u001b[39m\n",
      "\u001b[1m 8. $I->see(\"Email 'foo@bar.com' does not exist!\",\"li.error\")\u001b[22m at \u001b[32mtests/Acceptance/Test11_LoginNotExistingCest.php:27\u001b[39m\n",
      " 7. $I->seeCurrentUrlEquals(\"/\") at \u001b[32mtests/Acceptance/Test11_LoginNotExistingCest.php:26\u001b[39m\n",
      " 6. $I->click(\"Enter\") at \u001b[32mtests/Acceptance/Test11_LoginNotExistingCest.php:24\u001b[39m\n",
      " 5. $I->fillField(\"password\",\"foo\") at \u001b[32mtests/Acceptance/Test11_LoginNotExistingCest.php:22\u001b[39m\n",
      " 4. $I->fillField(\"email\",\"foo@bar.com\") at \u001b[32mtests/Acceptance/Test11_LoginNotExistingCest.php:21\u001b[39m\n",
      " 3. $I->see(\"Login\",\"h2\") at \u001b[32mtests/Acceptance/Test11_LoginNotExistingCest.php:19\u001b[39m\n",
      "\n",
      "\u001b[33mArtifacts:\u001b[39m\n",
      "\n",
      "Html: \u001b[36m/home/student/php_2022_adam_lewinski/07_testing/02_exercise/project/tests/_output/Tests.Acceptance.Test11_LoginNotExistingCest.test.fail.html\u001b[39m\n",
      "Response: \u001b[36m/home/student/php_2022_adam_lewinski/07_testing/02_exercise/project/tests/_output/Tests.Acceptance.Test11_LoginNotExistingCest.test.fail.html\u001b[39m\n",
      "3) \u001b[35;1mTest12_LoginWrongPasswordCest:\u001b[39;22m See error when wrong password is entered\n",
      "\u001b[37;41;1m Test  \u001b[39;49;22mtests/Acceptance/Test12_LoginWrongPasswordCest.php:test\n",
      "\u001b[37;41;1m Step \u001b[39;49;22m See current url equals \"/auth/confirmation_notice\"\n",
      "\u001b[37;41;1m Fail \u001b[39;49;22m Element located either by name, CSS or XPath element with 'li.error' was not found.\n",
      "\u001b[33m\n",
      "Scenario Steps:\n",
      "\u001b[39m\n",
      "\u001b[1m 9. $I->see(\"Password is invalid!\",\"li.error\")\u001b[22m at \u001b[32mtests/Acceptance/Test12_LoginWrongPasswordCest.php:43\u001b[39m\n",
      " 8. $I->seeCurrentUrlEquals(\"/auth/login\") at \u001b[32mtests/Acceptance/Test12_LoginWrongPasswordCest.php:42\u001b[39m\n",
      " 7. $I->click(\"Enter\") at \u001b[32mtests/Acceptance/Test12_LoginWrongPasswordCest.php:40\u001b[39m\n",
      " 6. $I->fillField(\"password\",\"wrong\") at \u001b[32mtests/Acceptance/Test12_LoginWrongPasswordCest.php:38\u001b[39m\n",
      " 5. $I->fillField(\"email\",\"dummy@example.com\") at \u001b[32mtests/Acceptance/Test12_LoginWrongPasswordCest.php:37\u001b[39m\n",
      " 4. $I->haveInDatabase(\"objects\",{\"key\":\"model_user_1\",\"data\":\"O:10:\"Model\\...}) at \u001b[32mtests/Acceptance/Test12_LoginWrongPasswordCest.php:34\u001b[39m\n",
      "\n",
      "\u001b[33mArtifacts:\u001b[39m\n",
      "\n",
      "Html: \u001b[36m/home/student/php_2022_adam_lewinski/07_testing/02_exercise/project/tests/_output/Tests.Acceptance.Test12_LoginWrongPasswordCest.test.fail.html\u001b[39m\n",
      "Response: \u001b[36m/home/student/php_2022_adam_lewinski/07_testing/02_exercise/project/tests/_output/Tests.Acceptance.Test12_LoginWrongPasswordCest.test.fail.html\u001b[39m\n",
      "4) \u001b[35;1mTest13_LoginNotConfirmedCest:\u001b[39;22m Be remained about email confirmation when trying to login\n",
      "\u001b[37;41;1m Test  \u001b[39;49;22mtests/Acceptance/Test13_LoginNotConfirmedCest.php:test\n",
      "Failed asserting that two strings are identical.\n",
      "\u001b[33m- Expected\u001b[39m | \u001b[32m+ Actual\u001b[39m\n",
      "@@ @@\n",
      "\u001b[33m-'/auth/confirmation_notice'\u001b[39m\n",
      "\u001b[32m+'/auth/login'\u001b[39m\n",
      "\u001b[33m\n",
      "Scenario Steps:\n",
      "\u001b[39m\n",
      "\u001b[1m 8. $I->seeCurrentUrlEquals(\"/auth/confirmation_notice\")\u001b[22m at \u001b[32mtests/Acceptance/Test13_LoginNotConfirmedCest.php:42\u001b[39m\n",
      " 7. $I->click(\"Enter\") at \u001b[32mtests/Acceptance/Test13_LoginNotConfirmedCest.php:40\u001b[39m\n",
      " 6. $I->fillField(\"password\",\"foo\") at \u001b[32mtests/Acceptance/Test13_LoginNotConfirmedCest.php:38\u001b[39m\n",
      " 5. $I->fillField(\"email\",\"dummy@example.com\") at \u001b[32mtests/Acceptance/Test13_LoginNotConfirmedCest.php:37\u001b[39m\n",
      " 4. $I->haveInDatabase(\"objects\",{\"key\":\"model_user_1\",\"data\":\"O:10:\"Model\\...}) at \u001b[32mtests/Acceptance/Test13_LoginNotConfirmedCest.php:33\u001b[39m\n",
      " 3. $I->see(\"Login\",\"h2\") at \u001b[32mtests/Acceptance/Test13_LoginNotConfirmedCest.php:19\u001b[39m\n",
      "\n",
      "\u001b[33mArtifacts:\u001b[39m\n",
      "\n",
      "Html: \u001b[36m/home/student/php_2022_adam_lewinski/07_testing/02_exercise/project/tests/_output/Tests.Acceptance.Test13_LoginNotConfirmedCest.test.fail.html\u001b[39m\n",
      "Response: \u001b[36m/home/student/php_2022_adam_lewinski/07_testing/02_exercise/project/tests/_output/Tests.Acceptance.Test13_LoginNotConfirmedCest.test.fail.html\u001b[39m\n",
      "\n",
      "\u001b[37;41;1mERRORS!\u001b[39;49;22m\n",
      "\u001b[37;41;1mTests: 15, Assertions: 246, Errors: 1, Failures: 4.\u001b[39;49;22m\n",
      "- \u001b[1mJUNIT XML\u001b[22m report generated in \u001b[33mfile:///home/student/php_2022_adam_lewinski/07_testing/02_exercise/project/tests/_output/test_report.xml\u001b[39m\n"
     ]
    }
   ],
   "source": [
    "! vendor/bin/codecept run Acceptance --xml test_report.xml"
   ]
  },
  {
   "cell_type": "code",
   "execution_count": 18,
   "metadata": {},
   "outputs": [],
   "source": [
    "phpServer.kill()"
   ]
  },
  {
   "cell_type": "code",
   "execution_count": 19,
   "metadata": {},
   "outputs": [
    {
     "name": "stdout",
     "output_type": "stream",
     "text": [
      "/home/student/php_2022_adam_lewinski/07_testing/02_exercise\n"
     ]
    }
   ],
   "source": [
    "%cd ../"
   ]
  },
  {
   "cell_type": "markdown",
   "metadata": {},
   "source": [
    "Stop the databses:"
   ]
  },
  {
   "cell_type": "code",
   "execution_count": null,
   "metadata": {},
   "outputs": [],
   "source": [
    "! docker container stop redis"
   ]
  },
  {
   "cell_type": "code",
   "execution_count": null,
   "metadata": {},
   "outputs": [],
   "source": [
    "! docker container stop mysql"
   ]
  }
 ],
 "metadata": {
  "kernelspec": {
   "display_name": "Python 3 (ipykernel)",
   "language": "python",
   "name": "python3"
  },
  "language_info": {
   "codemirror_mode": {
    "name": "ipython",
    "version": 3
   },
   "file_extension": ".py",
   "mimetype": "text/x-python",
   "name": "python",
   "nbconvert_exporter": "python",
   "pygments_lexer": "ipython3",
   "version": "3.10.6"
  }
 },
 "nbformat": 4,
 "nbformat_minor": 4
}
