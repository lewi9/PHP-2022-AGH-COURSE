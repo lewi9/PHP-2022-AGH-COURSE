{
 "cells": [
  {
   "cell_type": "markdown",
   "metadata": {},
   "source": [
    "# PHP 2022"
   ]
  },
  {
   "cell_type": "markdown",
   "metadata": {},
   "source": [
    "## 7. Testing"
   ]
  },
  {
   "cell_type": "markdown",
   "metadata": {},
   "source": [
    "### 7.2 Exercise"
   ]
  },
  {
   "cell_type": "markdown",
   "metadata": {},
   "source": [
    "Implment missing code."
   ]
  },
  {
   "cell_type": "markdown",
   "metadata": {},
   "source": [
    "Start the databses:"
   ]
  },
  {
   "cell_type": "code",
   "execution_count": 1,
   "metadata": {},
   "outputs": [
    {
     "name": "stdout",
     "output_type": "stream",
     "text": [
      "2f368ff7f00acd95fea7ec283bd9110e954e646692f85f4bd0daee08356b0bd3\r\n"
     ]
    }
   ],
   "source": [
    "! docker run --net=host --rm --name redis -d redis"
   ]
  },
  {
   "cell_type": "code",
   "execution_count": 2,
   "metadata": {},
   "outputs": [
    {
     "name": "stdout",
     "output_type": "stream",
     "text": [
      "dc24693c41d3c91cbf2e691a574b753b65c43c2d69cb7c51d1021a6553ca21f5\r\n"
     ]
    }
   ],
   "source": [
    "! docker run --name=mysql --net=host --rm --env MYSQL_ROOT_PASSWORD=root123 --env MYSQL_DATABASE=test --env MYSQL_USER=test --env MYSQL_PASSWORD=test123 -d mysql/mysql-server:8.0"
   ]
  },
  {
   "cell_type": "code",
   "execution_count": 3,
   "metadata": {},
   "outputs": [
    {
     "name": "stdout",
     "output_type": "stream",
     "text": [
      "Done.\r\n"
     ]
    }
   ],
   "source": [
    "! while ! timeout 1 bash -c \"echo > /dev/tcp/localhost/6379\" 2> /dev/null; do sleep 1; done; echo \"Done.\";"
   ]
  },
  {
   "cell_type": "code",
   "execution_count": 4,
   "metadata": {},
   "outputs": [
    {
     "name": "stdout",
     "output_type": "stream",
     "text": [
      "Done.\r\n"
     ]
    }
   ],
   "source": [
    "! while ! timeout 1 bash -c \"echo > /dev/tcp/localhost/3306\" 2> /dev/null; do sleep 1; done; echo \"Done.\";"
   ]
  },
  {
   "cell_type": "markdown",
   "metadata": {},
   "source": [
    "Edit the code:"
   ]
  },
  {
   "cell_type": "code",
   "execution_count": 66,
   "metadata": {},
   "outputs": [
    {
     "name": "stdout",
     "output_type": "stream",
     "text": [
      "CompileCommand: exclude com/intellij/openapi/vfs/impl/FilePartNodeRoot.trieDescend bool exclude = true\n",
      "2022-11-21 21:36:17,187 [   1617] SEVERE - #c.i.d.LoadingState - Should be called at least in the state COMPONENTS_LOADED, the current state is: CONFIGURATION_STORE_INITIALIZED\n",
      "Current violators count: 1\n",
      "\n",
      "\n",
      "java.lang.Throwable\n",
      "\tat com.intellij.diagnostic.LoadingState.logStateError(LoadingState.java:52)\n",
      "\tat com.intellij.diagnostic.LoadingState.checkOccurred(LoadingState.java:48)\n",
      "\tat com.intellij.openapi.actionSystem.impl.ActionManagerImpl.<init>(ActionManagerImpl.java:133)\n",
      "\tat com.jetbrains.rdserver.ui.actionPopupMenu.BackendActionManager.<init>(BackendActionManager.kt:17)\n",
      "\tat java.base/jdk.internal.reflect.NativeConstructorAccessorImpl.newInstance0(Native Method)\n",
      "\tat java.base/jdk.internal.reflect.NativeConstructorAccessorImpl.newInstance(NativeConstructorAccessorImpl.java:77)\n",
      "\tat java.base/jdk.internal.reflect.DelegatingConstructorAccessorImpl.newInstance(DelegatingConstructorAccessorImpl.java:45)\n",
      "\tat java.base/java.lang.reflect.Constructor.newInstanceWithCaller(Constructor.java:499)\n",
      "\tat java.base/java.lang.reflect.Constructor.newInstance(Constructor.java:480)\n",
      "\tat com.intellij.serviceContainer.ConstructorInjectionKt.instantiateUsingPicoContainer(constructorInjection.kt:47)\n",
      "\tat com.intellij.serviceContainer.ComponentManagerImpl.instantiateClassWithConstructorInjection(ComponentManagerImpl.kt:890)\n",
      "\tat com.intellij.serviceContainer.ServiceComponentAdapter.createAndInitialize(ServiceComponentAdapter.kt:51)\n",
      "\tat com.intellij.serviceContainer.ServiceComponentAdapter.doCreateInstance(ServiceComponentAdapter.kt:41)\n",
      "\tat com.intellij.serviceContainer.BaseComponentAdapter.getInstanceUncached(BaseComponentAdapter.kt:119)\n",
      "\tat com.intellij.serviceContainer.BaseComponentAdapter.getInstance(BaseComponentAdapter.kt:73)\n",
      "\tat com.intellij.serviceContainer.BaseComponentAdapter.getInstance$default(BaseComponentAdapter.kt:66)\n",
      "\tat com.intellij.serviceContainer.ComponentManagerImpl.doGetService(ComponentManagerImpl.kt:609)\n",
      "\tat com.intellij.serviceContainer.ComponentManagerImpl.getService(ComponentManagerImpl.kt:583)\n",
      "\tat com.intellij.openapi.client.ClientAwareComponentManager.getFromSelfOrCurrentSession(ClientAwareComponentManager.kt:37)\n",
      "\tat com.intellij.openapi.client.ClientAwareComponentManager.getService(ClientAwareComponentManager.kt:22)\n",
      "\tat com.intellij.openapi.actionSystem.ActionManager.getInstance(ActionManager.java:29)\n",
      "\tat com.intellij.help.impl.KeymapGenerator.<clinit>(KeymapGenerator.java:33)\n",
      "\tat java.base/jdk.internal.misc.Unsafe.allocateInstance(Native Method)\n",
      "\tat java.base/java.lang.invoke.DirectMethodHandle.allocateInstance(DirectMethodHandle.java:520)\n",
      "\tat com.intellij.serviceContainer.ComponentManagerImpl.instantiateClass(ComponentManagerImpl.kt:844)\n",
      "\tat com.intellij.openapi.extensions.impl.XmlExtensionAdapter.instantiateClass(XmlExtensionAdapter.kt:79)\n",
      "\tat com.intellij.openapi.extensions.impl.XmlExtensionAdapter$SimpleConstructorInjectionAdapter.instantiateClass(XmlExtensionAdapter.kt:90)\n",
      "\tat com.intellij.openapi.extensions.impl.XmlExtensionAdapter.doCreateInstance(XmlExtensionAdapter.kt:50)\n",
      "\tat com.intellij.openapi.extensions.impl.XmlExtensionAdapter.createInstance(XmlExtensionAdapter.kt:31)\n",
      "\tat com.intellij.openapi.extensions.impl.ExtensionPointImpl.processAdapter(ExtensionPointImpl.java:447)\n",
      "\tat com.intellij.openapi.extensions.impl.ExtensionPointImpl.access$200(ExtensionPointImpl.java:33)\n",
      "\tat com.intellij.openapi.extensions.impl.ExtensionPointImpl$1.next(ExtensionPointImpl.java:355)\n",
      "\tat com.intellij.idea.ApplicationLoader.findAppStarter(ApplicationLoader.kt:595)\n",
      "\tat com.intellij.idea.ApplicationLoader.access$findAppStarter(ApplicationLoader.kt:1)\n",
      "\tat com.intellij.idea.ApplicationLoader$initApplication$block$3.apply(ApplicationLoader.kt:170)\n",
      "\tat com.intellij.idea.ApplicationLoader$initApplication$block$3.apply(ApplicationLoader.kt)\n",
      "\tat java.base/java.util.concurrent.CompletableFuture$UniCompose.tryFire(CompletableFuture.java:1150)\n",
      "\tat java.base/java.util.concurrent.CompletableFuture.postComplete(CompletableFuture.java:510)\n",
      "\tat java.base/java.util.concurrent.CompletableFuture.postFire(CompletableFuture.java:614)\n",
      "\tat java.base/java.util.concurrent.CompletableFuture$UniCompose.tryFire(CompletableFuture.java:1163)\n",
      "\tat java.base/java.util.concurrent.CompletableFuture$Completion.run(CompletableFuture.java:482)\n",
      "\tat com.intellij.idea.ApplicationLoader$initApplication$block$2.execute(ApplicationLoader.kt:142)\n",
      "\tat java.base/java.util.concurrent.CompletableFuture$UniCompletion.claim(CompletableFuture.java:572)\n",
      "\tat java.base/java.util.concurrent.CompletableFuture$UniCompose.tryFire(CompletableFuture.java:1147)\n",
      "\tat java.base/java.util.concurrent.CompletableFuture.postComplete(CompletableFuture.java:510)\n",
      "\tat java.base/java.util.concurrent.CompletableFuture.postFire(CompletableFuture.java:614)\n",
      "\tat java.base/java.util.concurrent.CompletableFuture$UniCompose.tryFire(CompletableFuture.java:1163)\n",
      "\tat java.base/java.util.concurrent.CompletableFuture$Completion.exec(CompletableFuture.java:483)\n",
      "\tat java.base/java.util.concurrent.ForkJoinTask.doExec(ForkJoinTask.java:373)\n",
      "\tat java.base/java.util.concurrent.ForkJoinPool$WorkQueue.topLevelExec(ForkJoinPool.java:1182)\n",
      "\tat java.base/java.util.concurrent.ForkJoinPool.scan(ForkJoinPool.java:1655)\n",
      "\tat java.base/java.util.concurrent.ForkJoinPool.runWorker(ForkJoinPool.java:1622)\n",
      "\tat java.base/java.util.concurrent.ForkJoinWorkerThread.run(ForkJoinWorkerThread.java:165)\n",
      "2022-11-21 21:36:17,198 [   1628] SEVERE - #c.i.d.LoadingState - PhpStorm 2022.2.3  Build #PS-222.4345.15\n",
      "2022-11-21 21:36:17,200 [   1630] SEVERE - #c.i.d.LoadingState - JDK: 17.0.4.1; VM: OpenJDK 64-Bit Server VM; Vendor: JetBrains s.r.o.\n",
      "2022-11-21 21:36:17,201 [   1631] SEVERE - #c.i.d.LoadingState - OS: Linux\n",
      "2022-11-21 21:36:17,759 [   2189] SEVERE - #c.i.d.LoadingState - Should be called at least in the state COMPONENTS_LOADED, the current state is: CONFIGURATION_STORE_INITIALIZED\n",
      "Current violators count: 2\n",
      "\n",
      "\n",
      "java.lang.Throwable\n",
      "\tat com.intellij.diagnostic.LoadingState.logStateError(LoadingState.java:52)\n",
      "\tat com.intellij.diagnostic.LoadingState.checkOccurred(LoadingState.java:48)\n",
      "\tat com.intellij.openapi.util.registry.Registry.getInstance(Registry.java:176)\n",
      "\tat com.intellij.openapi.util.registry.Registry.get(Registry.java:50)\n",
      "\tat com.intellij.openapi.util.registry.Registry.is(Registry.java:63)\n",
      "\tat com.intellij.execution.ExecutorRegistryImpl.isExecutorInMainGroup(ExecutorRegistryImpl.java:195)\n",
      "\tat com.intellij.execution.ExecutorRegistryImpl.initExecutorActions(ExecutorRegistryImpl.java:127)\n",
      "\tat com.intellij.execution.ExecutorRegistryImpl.init(ExecutorRegistryImpl.java:278)\n",
      "\tat com.intellij.execution.ExecutorRegistryImpl$ExecutorRegistryActionConfigurationTuner.customize(ExecutorRegistryImpl.java:92)\n",
      "\tat com.intellij.openapi.actionSystem.impl.ActionManagerImpl.lambda$new$0(ActionManagerImpl.java:141)\n",
      "\tat com.intellij.openapi.extensions.impl.ExtensionProcessingHelper.forEachExtensionSafe(ExtensionProcessingHelper.java:34)\n",
      "\tat com.intellij.openapi.extensions.ExtensionPointName.forEachExtensionSafe(ExtensionPointName.java:46)\n",
      "\tat com.intellij.openapi.actionSystem.impl.ActionManagerImpl.<init>(ActionManagerImpl.java:141)\n",
      "\tat com.jetbrains.rdserver.ui.actionPopupMenu.BackendActionManager.<init>(BackendActionManager.kt:17)\n",
      "\tat java.base/jdk.internal.reflect.NativeConstructorAccessorImpl.newInstance0(Native Method)\n",
      "\tat java.base/jdk.internal.reflect.NativeConstructorAccessorImpl.newInstance(NativeConstructorAccessorImpl.java:77)\n",
      "\tat java.base/jdk.internal.reflect.DelegatingConstructorAccessorImpl.newInstance(DelegatingConstructorAccessorImpl.java:45)\n",
      "\tat java.base/java.lang.reflect.Constructor.newInstanceWithCaller(Constructor.java:499)\n",
      "\tat java.base/java.lang.reflect.Constructor.newInstance(Constructor.java:480)\n",
      "\tat com.intellij.serviceContainer.ConstructorInjectionKt.instantiateUsingPicoContainer(constructorInjection.kt:47)\n",
      "\tat com.intellij.serviceContainer.ComponentManagerImpl.instantiateClassWithConstructorInjection(ComponentManagerImpl.kt:890)\n",
      "\tat com.intellij.serviceContainer.ServiceComponentAdapter.createAndInitialize(ServiceComponentAdapter.kt:51)\n",
      "\tat com.intellij.serviceContainer.ServiceComponentAdapter.doCreateInstance(ServiceComponentAdapter.kt:41)\n",
      "\tat com.intellij.serviceContainer.BaseComponentAdapter.getInstanceUncached(BaseComponentAdapter.kt:119)\n",
      "\tat com.intellij.serviceContainer.BaseComponentAdapter.getInstance(BaseComponentAdapter.kt:73)\n",
      "\tat com.intellij.serviceContainer.BaseComponentAdapter.getInstance$default(BaseComponentAdapter.kt:66)\n",
      "\tat com.intellij.serviceContainer.ComponentManagerImpl.doGetService(ComponentManagerImpl.kt:609)\n",
      "\tat com.intellij.serviceContainer.ComponentManagerImpl.getService(ComponentManagerImpl.kt:583)\n",
      "\tat com.intellij.openapi.client.ClientAwareComponentManager.getFromSelfOrCurrentSession(ClientAwareComponentManager.kt:37)\n",
      "\tat com.intellij.openapi.client.ClientAwareComponentManager.getService(ClientAwareComponentManager.kt:22)\n",
      "\tat com.intellij.openapi.actionSystem.ActionManager.getInstance(ActionManager.java:29)\n",
      "\tat com.intellij.help.impl.KeymapGenerator.<clinit>(KeymapGenerator.java:33)\n",
      "\tat java.base/jdk.internal.misc.Unsafe.allocateInstance(Native Method)\n",
      "\tat java.base/java.lang.invoke.DirectMethodHandle.allocateInstance(DirectMethodHandle.java:520)\n",
      "\tat com.intellij.serviceContainer.ComponentManagerImpl.instantiateClass(ComponentManagerImpl.kt:844)\n",
      "\tat com.intellij.openapi.extensions.impl.XmlExtensionAdapter.instantiateClass(XmlExtensionAdapter.kt:79)\n",
      "\tat com.intellij.openapi.extensions.impl.XmlExtensionAdapter$SimpleConstructorInjectionAdapter.instantiateClass(XmlExtensionAdapter.kt:90)\n",
      "\tat com.intellij.openapi.extensions.impl.XmlExtensionAdapter.doCreateInstance(XmlExtensionAdapter.kt:50)\n",
      "\tat com.intellij.openapi.extensions.impl.XmlExtensionAdapter.createInstance(XmlExtensionAdapter.kt:31)\n",
      "\tat com.intellij.openapi.extensions.impl.ExtensionPointImpl.processAdapter(ExtensionPointImpl.java:447)\n",
      "\tat com.intellij.openapi.extensions.impl.ExtensionPointImpl.access$200(ExtensionPointImpl.java:33)\n",
      "\tat com.intellij.openapi.extensions.impl.ExtensionPointImpl$1.next(ExtensionPointImpl.java:355)\n",
      "\tat com.intellij.idea.ApplicationLoader.findAppStarter(ApplicationLoader.kt:595)\n",
      "\tat com.intellij.idea.ApplicationLoader.access$findAppStarter(ApplicationLoader.kt:1)\n",
      "\tat com.intellij.idea.ApplicationLoader$initApplication$block$3.apply(ApplicationLoader.kt:170)\n",
      "\tat com.intellij.idea.ApplicationLoader$initApplication$block$3.apply(ApplicationLoader.kt)\n",
      "\tat java.base/java.util.concurrent.CompletableFuture$UniCompose.tryFire(CompletableFuture.java:1150)\n",
      "\tat java.base/java.util.concurrent.CompletableFuture.postComplete(CompletableFuture.java:510)\n",
      "\tat java.base/java.util.concurrent.CompletableFuture.postFire(CompletableFuture.java:614)\n",
      "\tat java.base/java.util.concurrent.CompletableFuture$UniCompose.tryFire(CompletableFuture.java:1163)\n",
      "\tat java.base/java.util.concurrent.CompletableFuture$Completion.run(CompletableFuture.java:482)\n",
      "\tat com.intellij.idea.ApplicationLoader$initApplication$block$2.execute(ApplicationLoader.kt:142)\n",
      "\tat java.base/java.util.concurrent.CompletableFuture$UniCompletion.claim(CompletableFuture.java:572)\n",
      "\tat java.base/java.util.concurrent.CompletableFuture$UniCompose.tryFire(CompletableFuture.java:1147)\n",
      "\tat java.base/java.util.concurrent.CompletableFuture.postComplete(CompletableFuture.java:510)\n",
      "\tat java.base/java.util.concurrent.CompletableFuture.postFire(CompletableFuture.java:614)\n",
      "\tat java.base/java.util.concurrent.CompletableFuture$UniCompose.tryFire(CompletableFuture.java:1163)\n",
      "\tat java.base/java.util.concurrent.CompletableFuture$Completion.exec(CompletableFuture.java:483)\n",
      "\tat java.base/java.util.concurrent.ForkJoinTask.doExec(ForkJoinTask.java:373)\n",
      "\tat java.base/java.util.concurrent.ForkJoinPool$WorkQueue.topLevelExec(ForkJoinPool.java:1182)\n",
      "\tat java.base/java.util.concurrent.ForkJoinPool.scan(ForkJoinPool.java:1655)\n",
      "\tat java.base/java.util.concurrent.ForkJoinPool.runWorker(ForkJoinPool.java:1622)\n",
      "\tat java.base/java.util.concurrent.ForkJoinWorkerThread.run(ForkJoinWorkerThread.java:165)\n",
      "2022-11-21 21:36:17,764 [   2194] SEVERE - #c.i.d.LoadingState - PhpStorm 2022.2.3  Build #PS-222.4345.15\n",
      "2022-11-21 21:36:17,765 [   2195] SEVERE - #c.i.d.LoadingState - JDK: 17.0.4.1; VM: OpenJDK 64-Bit Server VM; Vendor: JetBrains s.r.o.\n",
      "2022-11-21 21:36:17,766 [   2196] SEVERE - #c.i.d.LoadingState - OS: Linux\n"
     ]
    },
    {
     "name": "stdout",
     "output_type": "stream",
     "text": [
      "2022-11-21 21:36:17,786 [   2216] SEVERE - #c.i.d.LoadingState - Should be called at least in the state COMPONENTS_LOADED, the current state is: CONFIGURATION_STORE_INITIALIZED\n",
      "Current violators count: 3\n",
      "\n",
      "\n",
      "java.lang.Throwable\n",
      "\tat com.intellij.diagnostic.LoadingState.logStateError(LoadingState.java:52)\n",
      "\tat com.intellij.diagnostic.LoadingState.checkOccurred(LoadingState.java:48)\n",
      "\tat com.intellij.openapi.util.registry.Registry.getInstance(Registry.java:176)\n",
      "\tat com.intellij.openapi.util.registry.Registry.get(Registry.java:50)\n",
      "\tat com.intellij.openapi.util.registry.Registry.is(Registry.java:63)\n",
      "\tat com.intellij.openapi.wm.impl.GlobalMenuLinux._loadLibrary(GlobalMenuLinux.java:797)\n",
      "\tat com.intellij.openapi.wm.impl.GlobalMenuLinux.<clinit>(GlobalMenuLinux.java:164)\n",
      "\tat com.intellij.openapi.wm.impl.GlobalMenuLinux$MyActionTuner.customize(GlobalMenuLinux.java:230)\n",
      "\tat com.intellij.openapi.actionSystem.impl.ActionManagerImpl.lambda$new$0(ActionManagerImpl.java:141)\n",
      "\tat com.intellij.openapi.extensions.impl.ExtensionProcessingHelper.forEachExtensionSafe(ExtensionProcessingHelper.java:34)\n",
      "\tat com.intellij.openapi.extensions.ExtensionPointName.forEachExtensionSafe(ExtensionPointName.java:46)\n",
      "\tat com.intellij.openapi.actionSystem.impl.ActionManagerImpl.<init>(ActionManagerImpl.java:141)\n",
      "\tat com.jetbrains.rdserver.ui.actionPopupMenu.BackendActionManager.<init>(BackendActionManager.kt:17)\n",
      "\tat java.base/jdk.internal.reflect.NativeConstructorAccessorImpl.newInstance0(Native Method)\n",
      "\tat java.base/jdk.internal.reflect.NativeConstructorAccessorImpl.newInstance(NativeConstructorAccessorImpl.java:77)\n",
      "\tat java.base/jdk.internal.reflect.DelegatingConstructorAccessorImpl.newInstance(DelegatingConstructorAccessorImpl.java:45)\n",
      "\tat java.base/java.lang.reflect.Constructor.newInstanceWithCaller(Constructor.java:499)\n",
      "\tat java.base/java.lang.reflect.Constructor.newInstance(Constructor.java:480)\n",
      "\tat com.intellij.serviceContainer.ConstructorInjectionKt.instantiateUsingPicoContainer(constructorInjection.kt:47)\n",
      "\tat com.intellij.serviceContainer.ComponentManagerImpl.instantiateClassWithConstructorInjection(ComponentManagerImpl.kt:890)\n",
      "\tat com.intellij.serviceContainer.ServiceComponentAdapter.createAndInitialize(ServiceComponentAdapter.kt:51)\n",
      "\tat com.intellij.serviceContainer.ServiceComponentAdapter.doCreateInstance(ServiceComponentAdapter.kt:41)\n",
      "\tat com.intellij.serviceContainer.BaseComponentAdapter.getInstanceUncached(BaseComponentAdapter.kt:119)\n",
      "\tat com.intellij.serviceContainer.BaseComponentAdapter.getInstance(BaseComponentAdapter.kt:73)\n",
      "\tat com.intellij.serviceContainer.BaseComponentAdapter.getInstance$default(BaseComponentAdapter.kt:66)\n",
      "\tat com.intellij.serviceContainer.ComponentManagerImpl.doGetService(ComponentManagerImpl.kt:609)\n",
      "\tat com.intellij.serviceContainer.ComponentManagerImpl.getService(ComponentManagerImpl.kt:583)\n",
      "\tat com.intellij.openapi.client.ClientAwareComponentManager.getFromSelfOrCurrentSession(ClientAwareComponentManager.kt:37)\n",
      "\tat com.intellij.openapi.client.ClientAwareComponentManager.getService(ClientAwareComponentManager.kt:22)\n",
      "\tat com.intellij.openapi.actionSystem.ActionManager.getInstance(ActionManager.java:29)\n",
      "\tat com.intellij.help.impl.KeymapGenerator.<clinit>(KeymapGenerator.java:33)\n",
      "\tat java.base/jdk.internal.misc.Unsafe.allocateInstance(Native Method)\n",
      "\tat java.base/java.lang.invoke.DirectMethodHandle.allocateInstance(DirectMethodHandle.java:520)\n",
      "\tat com.intellij.serviceContainer.ComponentManagerImpl.instantiateClass(ComponentManagerImpl.kt:844)\n",
      "\tat com.intellij.openapi.extensions.impl.XmlExtensionAdapter.instantiateClass(XmlExtensionAdapter.kt:79)\n",
      "\tat com.intellij.openapi.extensions.impl.XmlExtensionAdapter$SimpleConstructorInjectionAdapter.instantiateClass(XmlExtensionAdapter.kt:90)\n",
      "\tat com.intellij.openapi.extensions.impl.XmlExtensionAdapter.doCreateInstance(XmlExtensionAdapter.kt:50)\n",
      "\tat com.intellij.openapi.extensions.impl.XmlExtensionAdapter.createInstance(XmlExtensionAdapter.kt:31)\n",
      "\tat com.intellij.openapi.extensions.impl.ExtensionPointImpl.processAdapter(ExtensionPointImpl.java:447)\n",
      "\tat com.intellij.openapi.extensions.impl.ExtensionPointImpl.access$200(ExtensionPointImpl.java:33)\n",
      "\tat com.intellij.openapi.extensions.impl.ExtensionPointImpl$1.next(ExtensionPointImpl.java:355)\n",
      "\tat com.intellij.idea.ApplicationLoader.findAppStarter(ApplicationLoader.kt:595)\n",
      "\tat com.intellij.idea.ApplicationLoader.access$findAppStarter(ApplicationLoader.kt:1)\n",
      "\tat com.intellij.idea.ApplicationLoader$initApplication$block$3.apply(ApplicationLoader.kt:170)\n",
      "\tat com.intellij.idea.ApplicationLoader$initApplication$block$3.apply(ApplicationLoader.kt)\n",
      "\tat java.base/java.util.concurrent.CompletableFuture$UniCompose.tryFire(CompletableFuture.java:1150)\n",
      "\tat java.base/java.util.concurrent.CompletableFuture.postComplete(CompletableFuture.java:510)\n",
      "\tat java.base/java.util.concurrent.CompletableFuture.postFire(CompletableFuture.java:614)\n",
      "\tat java.base/java.util.concurrent.CompletableFuture$UniCompose.tryFire(CompletableFuture.java:1163)\n",
      "\tat java.base/java.util.concurrent.CompletableFuture$Completion.run(CompletableFuture.java:482)\n",
      "\tat com.intellij.idea.ApplicationLoader$initApplication$block$2.execute(ApplicationLoader.kt:142)\n",
      "\tat java.base/java.util.concurrent.CompletableFuture$UniCompletion.claim(CompletableFuture.java:572)\n",
      "\tat java.base/java.util.concurrent.CompletableFuture$UniCompose.tryFire(CompletableFuture.java:1147)\n",
      "\tat java.base/java.util.concurrent.CompletableFuture.postComplete(CompletableFuture.java:510)\n",
      "\tat java.base/java.util.concurrent.CompletableFuture.postFire(CompletableFuture.java:614)\n",
      "\tat java.base/java.util.concurrent.CompletableFuture$UniCompose.tryFire(CompletableFuture.java:1163)\n",
      "\tat java.base/java.util.concurrent.CompletableFuture$Completion.exec(CompletableFuture.java:483)\n",
      "\tat java.base/java.util.concurrent.ForkJoinTask.doExec(ForkJoinTask.java:373)\n",
      "\tat java.base/java.util.concurrent.ForkJoinPool$WorkQueue.topLevelExec(ForkJoinPool.java:1182)\n",
      "\tat java.base/java.util.concurrent.ForkJoinPool.scan(ForkJoinPool.java:1655)\n",
      "\tat java.base/java.util.concurrent.ForkJoinPool.runWorker(ForkJoinPool.java:1622)\n",
      "\tat java.base/java.util.concurrent.ForkJoinWorkerThread.run(ForkJoinWorkerThread.java:165)\n",
      "2022-11-21 21:36:17,791 [   2221] SEVERE - #c.i.d.LoadingState - PhpStorm 2022.2.3  Build #PS-222.4345.15\n",
      "2022-11-21 21:36:17,792 [   2222] SEVERE - #c.i.d.LoadingState - JDK: 17.0.4.1; VM: OpenJDK 64-Bit Server VM; Vendor: JetBrains s.r.o.\n",
      "2022-11-21 21:36:17,793 [   2223] SEVERE - #c.i.d.LoadingState - OS: Linux\n",
      "Info  | RdCoroutineScope          | 13:JobScheduler FJ pool 1/3 | RdCoroutineHost overridden \n",
      "2022-11-21 21:36:22,593 [   7023]   WARN - #c.i.o.a.i.ActionUpdater - 357 ms to grab EDT for CWMTelephonyGroup#update@NavBarToolbar (com.jetbrains.rd.platform.codeWithMe.telephony.CWMTelephonyGroup)\n",
      "2022-11-21 21:36:23,033 [   7463]   WARN - #c.i.o.a.i.ActionUpdater - 214 ms to grab EDT for SelectAllAction#update@MainMenu (com.intellij.ide.actions.SelectAllAction)\n",
      "2022-11-21 21:36:24,483 [   8913]   WARN - #c.i.o.a.i.ActionUpdater - 1446 ms to grab EDT for SelectWordAtCaretAction#update@MainMenu (com.intellij.openapi.editor.actions.SelectWordAtCaretAction)\n",
      "2022-11-21 21:36:24,485 [   8915]   WARN - #c.i.o.a.i.ActionUpdater - 1434 ms to grab EDT for ToolWindowsGroup#update@MainMenu (com.intellij.ide.actions.ToolWindowsGroup)\n",
      "2022-11-21 21:36:27,308 [  11738]   WARN - #c.i.o.a.e.ActionUtil - Can not find action by id CompileDirty\n",
      "2022-11-21 21:36:27,813 [  12243]   WARN - #c.i.u.x.Binding - no accessors for com.jetbrains.php.testFramework.PhpTestFrameworkType\n",
      "2022-11-21 21:36:28,143 [  12573]   WARN - #c.i.o.a.i.ActionUpdater - 2806 ms to grab EDT for CompareClipboardWithSelectionAction#update@MainMenu (com.intellij.diff.actions.CompareClipboardWithSelectionAction)\n",
      "2022-11-21 21:36:28,456 [  12886]   WARN - #c.i.o.a.i.ActionUpdater - 4511 ms total to grab EDT 4 times to expand DefaultCompactActionGroup@MainMenu (com.intellij.openapi.actionSystem.DefaultCompactActionGroup). Use `ActionUpdateThread.BGT`.\n",
      "2022-11-21 21:36:30,890 [  15320]   WARN - #c.i.o.a.i.ActionUpdater - 2426 ms to grab EDT for ToolWindowsGroup#update@MainMenu (com.intellij.ide.actions.ToolWindowsGroup)\n"
     ]
    },
    {
     "name": "stdout",
     "output_type": "stream",
     "text": [
      "2022-11-21 21:36:34,222 [  18652]   WARN - #c.i.o.a.i.ActionUpdater - 240 ms to grab EDT for SpaceCopyLinkActionGroup#update@ProjectViewPopup (com.intellij.space.vcs.SpaceCopyLinkActionGroup)\n",
      "2022-11-21 21:36:35,460 [  19890]   WARN - #c.i.o.a.i.ActionUpdater - 302 ms to grab EDT for CWMTelephonyGroup#update@NavBarToolbar (com.jetbrains.rd.platform.codeWithMe.telephony.CWMTelephonyGroup)\n",
      "2022-11-21 21:36:37,138 [  21568]   WARN - #c.i.o.a.i.ActionUpdater - 383 ms to grab EDT for CWMTelephonyGroup#update@NavBarToolbar (com.jetbrains.rd.platform.codeWithMe.telephony.CWMTelephonyGroup)\n",
      "2022-11-21 21:36:40,787 [  25217]   WARN - #c.j.p.p.PharLibraryManager - Frequent root change. Source class com.jetbrains.php.phar.PharLibraryManager, delta 4509.\n",
      "Old roots: [phar:///home/student/php_2022_adam_lewinski/07_testing/02_exercise/project/vendor/bin/phpstan.phar/]\n",
      "New Roots: [phar:///home/student/php_2022_adam_lewinski/07_testing/02_exercise/project/vendor/bin/phpstan.phar/, phar:///home/student/php_2022_adam_lewinski/07_testing/02_exercise/project/vendor/phpstan/phpstan/phpstan.phar/]\n",
      "2022-11-21 21:36:53,214 [  37644]   WARN - #c.i.o.a.i.ActionUpdater - 374 ms to grab EDT for #update@EditorInspectionsToolbar (com.intellij.openapi.editor.impl.EditorMarkupModelImpl$1)\n",
      "2022-11-21 21:36:53,215 [  37645]   WARN - #c.i.o.a.i.ActionUpdater - 373 ms to grab EDT for #update@ToolwindowTitle (com.intellij.toolWindow.ToolWindowHeader$2)\n",
      "2022-11-21 21:36:53,396 [  37826]   WARN - #c.i.u.x.Binding - no accessors for org.jetbrains.idea.perforce.perforce.ConnectionId\n",
      "2022-11-21 21:36:53,631 [  38061]   WARN - #c.i.o.a.i.ActionUpdater - 366 ms to grab EDT for CWMTelephonyGroup#update@NavBarToolbar (com.jetbrains.rd.platform.codeWithMe.telephony.CWMTelephonyGroup)\n",
      "2022-11-21 21:41:24,021 [ 308451]   WARN - #c.j.p.PhpIndex - Invalid Signature '\\PHPUnit\\Framework\\class-string'\n",
      "2022-11-21 21:41:25,005 [ 309435]   WARN - #c.j.p.PhpIndex - Invalid Signature '\\PHPUnit\\Framework\\class-string'\n",
      "2022-11-21 21:42:28,989 [ 373419]   WARN - #c.i.o.a.i.ActionUpdater - 235 ms to grab EDT for SpaceMainToolBarAction#update@NavBarToolbar (com.intellij.space.vcs.actions.SpaceMainToolBarAction)\n",
      "2022-11-21 21:47:24,025 [ 668455] SEVERE - #c.i.i.a.UndoRedoAction - Recursive undo invocation attempt, component: EditorComponent file=file:///home/student/php_2022_adam_lewinski/07_testing/02_exercise/project/src/Controller/AuthController.php, fileEditor: Editor: file:///home/student/php_2022_adam_lewinski/07_testing/02_exercise/project/src/Controller/AuthController.php, rootPane: null, popup: null\n",
      "java.lang.Throwable: Recursive undo invocation attempt, component: EditorComponent file=file:///home/student/php_2022_adam_lewinski/07_testing/02_exercise/project/src/Controller/AuthController.php, fileEditor: Editor: file:///home/student/php_2022_adam_lewinski/07_testing/02_exercise/project/src/Controller/AuthController.php, rootPane: null, popup: null\n",
      "\tat com.intellij.openapi.diagnostic.Logger.error(Logger.java:184)\n",
      "\tat com.intellij.ide.actions.UndoRedoAction.getUndoManager(UndoRedoAction.java:92)\n",
      "\tat com.intellij.ide.actions.UndoRedoAction.update(UndoRedoAction.java:62)\n",
      "\tat com.intellij.openapi.actionSystem.ex.ActionUtil.lambda$performDumbAwareUpdate$0(ActionUtil.java:150)\n",
      "\tat com.intellij.openapi.actionSystem.ex.ActionUtil.performDumbAwareUpdate(ActionUtil.java:173)\n",
      "\tat com.intellij.openapi.actionSystem.impl.ActionUpdater.doUpdate(ActionUpdater.java:660)\n",
      "\tat com.intellij.openapi.actionSystem.impl.ActionUpdater.lambda$updateActionReal$4(ActionUpdater.java:128)\n",
      "\tat com.intellij.openapi.actionSystem.impl.ActionUpdater.lambda$computeOnEdt$6(ActionUpdater.java:211)\n",
      "\tat com.intellij.openapi.progress.ProgressManager.lambda$runProcess$0(ProgressManager.java:66)\n",
      "\tat com.intellij.openapi.progress.impl.CoreProgressManager.lambda$runProcess$2(CoreProgressManager.java:188)\n",
      "\tat com.intellij.openapi.progress.impl.CoreProgressManager.lambda$executeProcessUnderProgress$12(CoreProgressManager.java:608)\n",
      "\tat com.intellij.openapi.progress.impl.CoreProgressManager.registerIndicatorAndRun(CoreProgressManager.java:683)\n",
      "\tat com.intellij.openapi.progress.impl.CoreProgressManager.computeUnderProgress(CoreProgressManager.java:639)\n",
      "\tat com.intellij.openapi.progress.impl.CoreProgressManager.executeProcessUnderProgress(CoreProgressManager.java:607)\n",
      "\tat com.intellij.openapi.progress.impl.ProgressManagerImpl.executeProcessUnderProgress(ProgressManagerImpl.java:60)\n",
      "\tat com.intellij.openapi.progress.impl.CoreProgressManager.runProcess(CoreProgressManager.java:175)\n",
      "\tat com.intellij.openapi.progress.ProgressManager.runProcess(ProgressManager.java:66)\n",
      "\tat com.intellij.openapi.actionSystem.impl.ActionUpdater.lambda$computeOnEdt$7(ActionUpdater.java:207)\n",
      "\tat com.intellij.openapi.actionSystem.impl.ActionUpdateEdtExecutor.lambda$computeOnEdt$0(ActionUpdateEdtExecutor.java:45)\n",
      "\tat com.intellij.openapi.actionSystem.impl.Utils.lambda$runUpdateSessionForInputEvent$25(Utils.java:725)\n",
      "\tat com.intellij.openapi.actionSystem.impl.Utils.runLoopAndWaitForFuture(Utils.java:778)\n",
      "\tat com.intellij.openapi.actionSystem.impl.Utils.runUpdateSessionForInputEvent(Utils.java:723)\n",
      "\tat com.intellij.openapi.keymap.impl.IdeKeyEventDispatcher.lambda$processAction$4(IdeKeyEventDispatcher.java:629)\n",
      "\tat com.intellij.openapi.progress.ProgressManager.lambda$runProcess$0(ProgressManager.java:66)\n",
      "\tat com.intellij.openapi.progress.impl.CoreProgressManager.lambda$runProcess$2(CoreProgressManager.java:188)\n",
      "\tat com.intellij.openapi.progress.impl.CoreProgressManager.lambda$executeProcessUnderProgress$12(CoreProgressManager.java:608)\n",
      "\tat com.intellij.openapi.progress.impl.CoreProgressManager.registerIndicatorAndRun(CoreProgressManager.java:683)\n",
      "\tat com.intellij.openapi.progress.impl.CoreProgressManager.computeUnderProgress(CoreProgressManager.java:639)\n",
      "\tat com.intellij.openapi.progress.impl.CoreProgressManager.executeProcessUnderProgress(CoreProgressManager.java:607)\n",
      "\tat com.intellij.openapi.progress.impl.ProgressManagerImpl.executeProcessUnderProgress(ProgressManagerImpl.java:60)\n",
      "\tat com.intellij.openapi.progress.impl.CoreProgressManager.runProcess(CoreProgressManager.java:175)\n",
      "\tat com.intellij.openapi.progress.ProgressManager.runProcess(ProgressManager.java:66)\n",
      "\tat com.intellij.openapi.keymap.impl.IdeKeyEventDispatcher.processAction(IdeKeyEventDispatcher.java:627)\n",
      "\tat com.intellij.openapi.keymap.impl.IdeKeyEventDispatcher.processAction(IdeKeyEventDispatcher.java:606)\n",
      "\tat com.intellij.openapi.keymap.impl.IdeKeyEventDispatcher.processActionOrWaitSecondStroke(IdeKeyEventDispatcher.java:489)\n",
      "\tat com.intellij.openapi.keymap.impl.IdeKeyEventDispatcher.inInitState(IdeKeyEventDispatcher.java:478)\n",
      "\tat com.intellij.openapi.keymap.impl.IdeKeyEventDispatcher.inProcessedState(IdeKeyEventDispatcher.java:419)\n",
      "\tat com.intellij.openapi.keymap.impl.IdeKeyEventDispatcher.dispatchKeyEvent(IdeKeyEventDispatcher.java:231)\n",
      "\tat com.intellij.ide.IdeEventQueue.dispatchKeyEvent(IdeEventQueue.java:824)\n",
      "\tat com.intellij.ide.IdeEventQueue._dispatchEvent(IdeEventQueue.java:760)\n",
      "\tat com.intellij.ide.IdeEventQueue.lambda$dispatchEvent$6(IdeEventQueue.java:450)\n",
      "\tat com.intellij.openapi.progress.impl.CoreProgressManager.computePrioritized(CoreProgressManager.java:791)\n",
      "\tat com.intellij.ide.IdeEventQueue.lambda$dispatchEvent$7(IdeEventQueue.java:449)\n",
      "\tat com.intellij.openapi.application.TransactionGuardImpl.performActivity(TransactionGuardImpl.java:105)\n",
      "\tat com.intellij.ide.IdeEventQueue.performActivity(IdeEventQueue.java:624)\n",
      "\tat com.intellij.ide.IdeEventQueue.lambda$dispatchEvent$8(IdeEventQueue.java:447)\n",
      "\tat com.intellij.openapi.application.impl.ApplicationImpl.runIntendedWriteActionOnCurrentThread(ApplicationImpl.java:881)\n",
      "\tat com.intellij.ide.IdeEventQueue.dispatchEvent(IdeEventQueue.java:493)\n",
      "\tat java.desktop/java.awt.EventDispatchThread.pumpOneEventForFilters(EventDispatchThread.java:207)\n",
      "\tat java.desktop/java.awt.EventDispatchThread.pumpEventsForFilter(EventDispatchThread.java:128)\n",
      "\tat java.desktop/java.awt.EventDispatchThread.pumpEventsForFilter(EventDispatchThread.java:121)\n",
      "\tat java.desktop/java.awt.WaitDispatchSupport$2.run(WaitDispatchSupport.java:191)\n",
      "\tat java.desktop/java.awt.WaitDispatchSupport$4.run(WaitDispatchSupport.java:236)\n",
      "\tat java.desktop/java.awt.WaitDispatchSupport$4.run(WaitDispatchSupport.java:234)\n",
      "\tat java.base/java.security.AccessController.doPrivileged(AccessController.java:318)\n",
      "\tat java.desktop/java.awt.WaitDispatchSupport.enter(WaitDispatchSupport.java:234)\n",
      "\tat java.desktop/java.awt.Dialog.show(Dialog.java:1080)\n",
      "\tat com.intellij.openapi.ui.impl.DialogWrapperPeerImpl$MyDialog.show(DialogWrapperPeerImpl.java:712)\n",
      "\tat com.intellij.openapi.ui.impl.DialogWrapperPeerImpl.show(DialogWrapperPeerImpl.java:453)\n",
      "\tat com.intellij.openapi.ui.DialogWrapper.doShow(DialogWrapper.java:1672)\n",
      "\tat com.intellij.openapi.ui.DialogWrapper.show(DialogWrapper.java:1630)\n",
      "\tat com.intellij.ui.messages.AlertMessagesManager.showMessageDialog(AlertMessagesManager.kt:66)\n",
      "\tat com.intellij.ui.messages.MessagesServiceImpl.showMessageDialog(MessagesServiceImpl.java:49)\n",
      "\tat com.jetbrains.rdserver.ui.BackendMessagesService.showMessageDialog(BackendMessagesService.kt:29)\n",
      "\tat com.intellij.openapi.ui.messages.MessagesService$DefaultImpls.showMessageDialog$default(MessagesService.kt:46)\n",
      "\tat com.intellij.openapi.ui.OkCancelDialogBuilder.show(MessageDialogBuilder.kt:201)\n",
      "\tat com.intellij.openapi.ui.OkCancelDialogBuilder.ask(MessageDialogBuilder.kt:191)\n",
      "\tat com.intellij.openapi.ui.Messages.showOkCancelDialog(Messages.java:489)\n",
      "\tat com.intellij.openapi.command.impl.UndoRedo.askUser(UndoRedo.java:256)\n",
      "\tat com.intellij.openapi.command.impl.UndoRedo.execute(UndoRedo.java:106)\n",
      "\tat com.intellij.openapi.command.impl.CommandMerger.undoOrRedo(CommandMerger.java:298)\n",
      "\tat com.intellij.openapi.command.impl.UndoManagerImpl.lambda$undoOrRedo$1(UndoManagerImpl.java:416)\n",
      "\tat com.intellij.openapi.command.impl.CoreCommandProcessor.executeCommand(CoreCommandProcessor.java:219)\n",
      "\tat com.intellij.openapi.command.impl.CoreCommandProcessor.executeCommand(CoreCommandProcessor.java:174)\n",
      "\tat com.intellij.openapi.command.impl.CoreCommandProcessor.executeCommand(CoreCommandProcessor.java:164)\n",
      "\tat com.intellij.openapi.command.impl.UndoManagerImpl.undoOrRedo(UndoManagerImpl.java:424)\n",
      "\tat com.intellij.openapi.command.impl.UndoManagerImpl.undo(UndoManagerImpl.java:395)\n",
      "\tat com.intellij.ide.actions.UndoAction.perform(UndoAction.java:31)\n",
      "\tat com.intellij.ide.actions.UndoRedoAction.actionPerformed(UndoRedoAction.java:50)\n",
      "\tat com.intellij.openapi.actionSystem.ex.ActionUtil.doPerformActionOrShowPopup(ActionUtil.java:315)\n",
      "\tat com.intellij.openapi.keymap.impl.ActionProcessor.performAction(ActionProcessor.java:47)\n",
      "\tat com.intellij.openapi.keymap.impl.IdeKeyEventDispatcher$1.performAction(IdeKeyEventDispatcher.java:595)\n",
      "\tat com.intellij.openapi.keymap.impl.IdeKeyEventDispatcher.lambda$doPerformActionInner$9(IdeKeyEventDispatcher.java:717)\n",
      "\tat com.intellij.openapi.application.TransactionGuardImpl.performActivity(TransactionGuardImpl.java:105)\n",
      "\tat com.intellij.openapi.application.TransactionGuardImpl.performUserActivity(TransactionGuardImpl.java:94)\n",
      "\tat com.intellij.openapi.keymap.impl.IdeKeyEventDispatcher.lambda$doPerformActionInner$10(IdeKeyEventDispatcher.java:717)\n",
      "\tat com.intellij.openapi.actionSystem.ex.ActionUtil.performDumbAwareWithCallbacks(ActionUtil.java:337)\n",
      "\tat com.intellij.openapi.keymap.impl.IdeKeyEventDispatcher.doPerformActionInner(IdeKeyEventDispatcher.java:714)\n",
      "\tat com.intellij.openapi.keymap.impl.IdeKeyEventDispatcher.processAction(IdeKeyEventDispatcher.java:658)\n",
      "\tat com.intellij.openapi.keymap.impl.IdeKeyEventDispatcher.processAction(IdeKeyEventDispatcher.java:606)\n",
      "\tat com.intellij.openapi.keymap.impl.IdeKeyEventDispatcher.processActionOrWaitSecondStroke(IdeKeyEventDispatcher.java:489)\n",
      "\tat com.intellij.openapi.keymap.impl.IdeKeyEventDispatcher.inInitState(IdeKeyEventDispatcher.java:478)\n",
      "\tat com.intellij.openapi.keymap.impl.IdeKeyEventDispatcher.inProcessedState(IdeKeyEventDispatcher.java:419)\n",
      "\tat com.intellij.openapi.keymap.impl.IdeKeyEventDispatcher.dispatchKeyEvent(IdeKeyEventDispatcher.java:231)\n",
      "\tat com.intellij.ide.IdeEventQueue.dispatchKeyEvent(IdeEventQueue.java:824)\n",
      "\tat com.intellij.ide.IdeEventQueue._dispatchEvent(IdeEventQueue.java:760)\n",
      "\tat com.intellij.ide.IdeEventQueue.lambda$dispatchEvent$6(IdeEventQueue.java:450)\n",
      "\tat com.intellij.openapi.progress.impl.CoreProgressManager.computePrioritized(CoreProgressManager.java:791)\n",
      "\tat com.intellij.ide.IdeEventQueue.lambda$dispatchEvent$7(IdeEventQueue.java:449)\n",
      "\tat com.intellij.openapi.application.TransactionGuardImpl.performActivity(TransactionGuardImpl.java:113)\n",
      "\tat com.intellij.ide.IdeEventQueue.performActivity(IdeEventQueue.java:624)\n",
      "\tat com.intellij.ide.IdeEventQueue.lambda$dispatchEvent$8(IdeEventQueue.java:447)\n",
      "\tat com.intellij.openapi.application.impl.ApplicationImpl.runIntendedWriteActionOnCurrentThread(ApplicationImpl.java:881)\n",
      "\tat com.intellij.ide.IdeEventQueue.dispatchEvent(IdeEventQueue.java:493)\n",
      "\tat java.desktop/java.awt.EventDispatchThread.pumpOneEventForFilters(EventDispatchThread.java:207)\n",
      "\tat java.desktop/java.awt.EventDispatchThread.pumpEventsForFilter(EventDispatchThread.java:128)\n",
      "\tat java.desktop/java.awt.EventDispatchThread.pumpEventsForHierarchy(EventDispatchThread.java:117)\n",
      "\tat java.desktop/java.awt.EventDispatchThread.pumpEvents(EventDispatchThread.java:113)\n",
      "\tat java.desktop/java.awt.EventDispatchThread.pumpEvents(EventDispatchThread.java:105)\n",
      "\tat java.desktop/java.awt.EventDispatchThread.run(EventDispatchThread.java:92)\n",
      "2022-11-21 21:47:24,043 [ 668473] SEVERE - #c.i.i.a.UndoRedoAction - PhpStorm 2022.2.3  Build #PS-222.4345.15\n",
      "2022-11-21 21:47:24,044 [ 668474] SEVERE - #c.i.i.a.UndoRedoAction - JDK: 17.0.4.1; VM: OpenJDK 64-Bit Server VM; Vendor: JetBrains s.r.o.\n",
      "2022-11-21 21:47:24,045 [ 668475] SEVERE - #c.i.i.a.UndoRedoAction - OS: Linux\n"
     ]
    },
    {
     "name": "stdout",
     "output_type": "stream",
     "text": [
      "2022-11-21 21:51:17,012 [ 901442]   WARN - #c.i.o.a.i.ActionUpdater - 572 ms to grab EDT for #getChildren@ToolwindowTitle (com.intellij.toolWindow.ToolWindowHeader$2)\n",
      "2022-11-21 21:51:17,015 [ 901445]   WARN - #c.i.o.a.i.ActionUpdater - 493 ms to grab EDT for SeverityFilterAction#update@com.intellij.analysis.problemsView.toolWindow.HighlightingPanel (com.intellij.analysis.problemsView.toolWindow.SeverityFilterAction)\n",
      "2022-11-21 21:53:41,534 [1045964] SEVERE - c.j.t.m.TerminalTextBuffer - Attempt to get line out of bounds: 11 >= 11\n",
      "2022-11-21 21:53:41,551 [1045981] SEVERE - c.j.t.m.TerminalTextBuffer - Attempt to get line out of bounds: 11 >= 11\n",
      "2022-11-21 21:53:48,463 [1052893] SEVERE - c.j.t.m.TerminalTextBuffer - Attempt to get line out of bounds: 11 >= 11\n",
      "2022-11-21 21:53:48,465 [1052895] SEVERE - c.j.t.m.TerminalTextBuffer - Attempt to get line out of bounds: 11 >= 11\n",
      "2022-11-21 21:53:58,662 [1063092] SEVERE - c.j.t.m.TerminalTextBuffer - Attempt to get line out of bounds: 11 >= 11\n",
      "2022-11-21 21:53:58,666 [1063096] SEVERE - c.j.t.m.TerminalTextBuffer - Attempt to get line out of bounds: 11 >= 11\n",
      "2022-11-21 21:54:40,740 [1105170] SEVERE - c.j.t.m.TerminalTextBuffer - Attempt to get line out of bounds: 11 >= 11\n",
      "2022-11-21 21:54:40,741 [1105171] SEVERE - c.j.t.m.TerminalTextBuffer - Attempt to get line out of bounds: 11 >= 11\n"
     ]
    }
   ],
   "source": [
    "! phpstorm project"
   ]
  },
  {
   "cell_type": "markdown",
   "metadata": {},
   "source": [
    "You can test your solution using included tests:"
   ]
  },
  {
   "cell_type": "code",
   "execution_count": 67,
   "metadata": {},
   "outputs": [
    {
     "name": "stdout",
     "output_type": "stream",
     "text": [
      "/home/student/php_2022_adam_lewinski/07_testing/02_exercise/project\n"
     ]
    }
   ],
   "source": [
    "%cd project"
   ]
  },
  {
   "cell_type": "code",
   "execution_count": 68,
   "metadata": {},
   "outputs": [
    {
     "name": "stdout",
     "output_type": "stream",
     "text": [
      "\u001b[32mInstalling dependencies from lock file (including require-dev)\u001b[39m\n",
      "\u001b[32mVerifying lock file contents can be installed on current platform.\u001b[39m\n",
      "Nothing to install, update or remove\n",
      "\u001b[32mGenerating autoload files\u001b[39m\n",
      "\u001b[32m60 packages you are using are looking for funding.\u001b[39m\n",
      "\u001b[32mUse the `composer fund` command to find out more!\u001b[39m\n"
     ]
    }
   ],
   "source": [
    "! composer install"
   ]
  },
  {
   "cell_type": "code",
   "execution_count": 69,
   "metadata": {},
   "outputs": [
    {
     "name": "stdout",
     "output_type": "stream",
     "text": [
      "\u001b[32mBuilding Actor classes for suites: Acceptance, Unit\u001b[39m\n",
      " -> AcceptanceTesterActions.php generated successfully. 241 methods added\n",
      "\u001b[32mTests\\AcceptanceTester\u001b[39m includes modules: PhpBrowser, Filesystem, Asserts, Db, Redis\n",
      " -> UnitTesterActions.php generated successfully. 137 methods added\n",
      "\u001b[32mTests\\UnitTester\u001b[39m includes modules: Asserts\n"
     ]
    }
   ],
   "source": [
    "! vendor/bin/codecept build"
   ]
  },
  {
   "cell_type": "code",
   "execution_count": 70,
   "metadata": {
    "scrolled": true
   },
   "outputs": [
    {
     "name": "stdout",
     "output_type": "stream",
     "text": [
      "Loaded config \u001b[33mdefault\u001b[39m from \"/home/student/php_2022_adam_lewinski/07_testing/02_exercise/project/./.php-cs-fixer.dist.php\".\n",
      "Using cache file \".php-cs-fixer.cache\".\n",
      "\n",
      "Checked all files in 0.096 seconds, 14.000 MB memory used\n"
     ]
    }
   ],
   "source": [
    "! vendor/bin/php-cs-fixer fix --diff --dry-run ."
   ]
  },
  {
   "cell_type": "code",
   "execution_count": 71,
   "metadata": {},
   "outputs": [
    {
     "name": "stdout",
     "output_type": "stream",
     "text": [
      "  0/65 [░░░░░░░░░░░░░░░░░░░░░░░░░░░░]   0%\u001b[1G\u001b[2K 65/65 [▓▓▓▓▓▓▓▓▓▓▓▓▓▓▓▓▓▓▓▓▓▓▓▓▓▓▓▓] 100%\n",
      "\n",
      " ------ ------------------------------------------------------------- \n",
      "  \u001b[32mLine\u001b[39m   \u001b[32mtests/Acceptance/Test14_LoginLogoutSeeHiddenContentCest.php\u001b[39m  \n",
      " ------ ------------------------------------------------------------- \n",
      "  24     Property Model\\User::$token (string) does not accept null.   \n",
      " ------ ------------------------------------------------------------- \n",
      "\n",
      "\n",
      "\u001b[37;41m                                                                                \u001b[39;49m\n",
      "\u001b[37;41m [ERROR] Found 1 error                                                          \u001b[39;49m\n",
      "\u001b[37;41m                                                                                \u001b[39;49m\n",
      "\n"
     ]
    }
   ],
   "source": [
    "! vendor/bin/phpstan analyze --xdebug -c phpstan.neon"
   ]
  },
  {
   "cell_type": "code",
   "execution_count": 72,
   "metadata": {},
   "outputs": [
    {
     "name": "stdout",
     "output_type": "stream",
     "text": [
      "phpcpd 6.0.3 by Sebastian Bergmann.\n",
      "\n",
      "No clones found.\n",
      "\n",
      "Time: 00:00.030, Memory: 4.00 MB\n"
     ]
    }
   ],
   "source": [
    "! vendor/bin/phpcpd . --fuzzy --min-lines 1 --min-tokens 20 --exclude vendor --exclude tests"
   ]
  },
  {
   "cell_type": "code",
   "execution_count": 73,
   "metadata": {},
   "outputs": [
    {
     "name": "stdout",
     "output_type": "stream",
     "text": [
      "Codeception PHP Testing Framework v5.0.4 https://helpukrainewin.org\n",
      "\n",
      "\u001b[1mTests.Unit Tests (24) \u001b[22m----------------------------------------------------------\n",
      "\u001b[32;1m✔\u001b[39;22m \u001b[35;1mTest00_StringEditorCest:\u001b[39;22m Create \u001b[32m(0.01s)\u001b[39m\n",
      "\u001b[32;1m✔\u001b[39;22m \u001b[35;1mTest00_StringEditorCest:\u001b[39;22m Replace word \u001b[32m(0.00s)\u001b[39m\n",
      "\u001b[32;1m✔\u001b[39;22m \u001b[35;1mTest00_StringEditorCest:\u001b[39;22m Lowercase \u001b[32m(0.00s)\u001b[39m\n",
      "\u001b[32;1m✔\u001b[39;22m \u001b[35;1mTest00_StringEditorCest:\u001b[39;22m Uppercase \u001b[32m(0.00s)\u001b[39m\n",
      "\u001b[32;1m✔\u001b[39;22m \u001b[35;1mTest00_StringEditorCest:\u001b[39;22m Replace and upper case \u001b[32m(0.00s)\u001b[39m\n",
      "\u001b[32;1m✔\u001b[39;22m \u001b[35;1mTest00_StringEditorCest:\u001b[39;22m Censor word \u001b[32m(0.00s)\u001b[39m\n",
      "\u001b[32;1m✔\u001b[39;22m \u001b[35;1mTest00_StringEditorCest:\u001b[39;22m Censor short and long words \u001b[32m(0.00s)\u001b[39m\n",
      "\u001b[32;1m✔\u001b[39;22m \u001b[35;1mTest00_StringEditorCest:\u001b[39;22m Repeat word \u001b[32m(0.00s)\u001b[39m\n",
      "\u001b[32;1m✔\u001b[39;22m \u001b[35;1mTest00_StringEditorCest:\u001b[39;22m Remove word \u001b[32m(0.00s)\u001b[39m\n",
      "\u001b[32;1m✔\u001b[39;22m \u001b[35;1mTest00_StringEditorCest:\u001b[39;22m Edit sentence \u001b[32m(0.00s)\u001b[39m\n",
      "\u001b[32;1m✔\u001b[39;22m \u001b[35;1mTest01_RingBufferCest:\u001b[39;22m Create \u001b[32m(0.00s)\u001b[39m\n",
      "\u001b[32;1m✔\u001b[39;22m \u001b[35;1mTest01_RingBufferCest:\u001b[39;22m Should be empty \u001b[32m(0.00s)\u001b[39m\n",
      "\u001b[32;1m✔\u001b[39;22m \u001b[35;1mTest01_RingBufferCest:\u001b[39;22m Capacity \u001b[32m(0.00s)\u001b[39m\n",
      "\u001b[32;1m✔\u001b[39;22m \u001b[35;1mTest01_RingBufferCest:\u001b[39;22m Size should be zero when empty \u001b[32m(0.00s)\u001b[39m\n",
      "\u001b[32;1m✔\u001b[39;22m \u001b[35;1mTest01_RingBufferCest:\u001b[39;22m Push value size should increase \u001b[32m(0.00s)\u001b[39m\n",
      "\u001b[32;1m✔\u001b[39;22m \u001b[35;1mTest01_RingBufferCest:\u001b[39;22m Empty should be false when full \u001b[32m(0.00s)\u001b[39m\n",
      "\u001b[32;1m✔\u001b[39;22m \u001b[35;1mTest01_RingBufferCest:\u001b[39;22m Pop from empty \u001b[32m(0.00s)\u001b[39m\n",
      "\u001b[32;1m✔\u001b[39;22m \u001b[35;1mTest01_RingBufferCest:\u001b[39;22m Push and pop single value \u001b[32m(0.00s)\u001b[39m\n",
      "\u001b[32;1m✔\u001b[39;22m \u001b[35;1mTest01_RingBufferCest:\u001b[39;22m Pop should reduce size \u001b[32m(0.00s)\u001b[39m\n",
      "\u001b[32;1m✔\u001b[39;22m \u001b[35;1mTest01_RingBufferCest:\u001b[39;22m Back should not change buffer \u001b[32m(0.00s)\u001b[39m\n",
      "\u001b[32;1m✔\u001b[39;22m \u001b[35;1mTest01_RingBufferCest:\u001b[39;22m Push multiple times \u001b[32m(0.00s)\u001b[39m\n",
      "\u001b[32;1m✔\u001b[39;22m \u001b[35;1mTest01_RingBufferCest:\u001b[39;22m Multi item buffer \u001b[32m(0.00s)\u001b[39m\n",
      "\u001b[32;1m✔\u001b[39;22m \u001b[35;1mTest01_RingBufferCest:\u001b[39;22m Push and pop all values \u001b[32m(0.00s)\u001b[39m\n",
      "\u001b[32;1m✔\u001b[39;22m \u001b[35;1mTest01_RingBufferCest:\u001b[39;22m Access values by index \u001b[32m(0.00s)\u001b[39m\n",
      "--------------------------------------------------------------------------------\n",
      "Time: 00:00.160, Memory: 8.00 MB\n",
      "\n",
      "\u001b[30;42mOK (24 tests, 75 assertions)\u001b[39;49m\n"
     ]
    }
   ],
   "source": [
    "! vendor/bin/codecept run Unit"
   ]
  },
  {
   "cell_type": "code",
   "execution_count": 74,
   "metadata": {},
   "outputs": [],
   "source": [
    "import subprocess\n",
    "phpServer = subprocess.Popen(['php', '-S', 'localhost:8888', '-t', 'public'])"
   ]
  },
  {
   "cell_type": "code",
   "execution_count": 75,
   "metadata": {},
   "outputs": [
    {
     "name": "stderr",
     "output_type": "stream",
     "text": [
      "[Mon Nov 21 21:56:14 2022] PHP 8.1.12 Development Server (http://localhost:8888) started\n"
     ]
    },
    {
     "name": "stdout",
     "output_type": "stream",
     "text": [
      "Done.\r\n"
     ]
    },
    {
     "name": "stderr",
     "output_type": "stream",
     "text": [
      "[Mon Nov 21 21:56:15 2022] [::1]:48650 Accepted\n",
      "[Mon Nov 21 21:56:15 2022] [::1]:48650 Closed without sending a request; it was probably just an unused speculative preconnection\n",
      "[Mon Nov 21 21:56:15 2022] [::1]:48650 Closing\n"
     ]
    }
   ],
   "source": [
    "! while ! timeout 1 bash -c \"echo > /dev/tcp/localhost/8888\" 2> /dev/null; do sleep 1; done; echo \"Done.\";"
   ]
  },
  {
   "cell_type": "code",
   "execution_count": 76,
   "metadata": {},
   "outputs": [
    {
     "name": "stdout",
     "output_type": "stream",
     "text": [
      "Codeception PHP Testing Framework v5.0.4 https://helpukrainewin.org\n",
      "\n",
      "\u001b[1mTests.Acceptance Tests (15) \u001b[22m----------------------------------------------------\n",
      "\u001b[32;1m✔\u001b[39;22m \u001b[35;1mTest00_PrettyUrlCest:\u001b[39;22m Test \u001b[32m(0.18s)\u001b[39m\n",
      "- \u001b[35;1mTest01_FileStorageCest:\u001b[39;22m Test"
     ]
    },
    {
     "name": "stderr",
     "output_type": "stream",
     "text": [
      "[Mon Nov 21 21:56:15 2022] [::1]:35604 Accepted\n",
      "[Mon Nov 21 21:56:15 2022] [::1]:35604 [200]: GET /\n",
      "[Mon Nov 21 21:56:15 2022] [::1]:35604 Closing\n",
      "[Mon Nov 21 21:56:15 2022] [::1]:35618 Accepted\n",
      "[Mon Nov 21 21:56:15 2022] [::1]:35618 [200]: GET /home\n",
      "[Mon Nov 21 21:56:15 2022] [::1]:35618 Closing\n",
      "[Mon Nov 21 21:56:16 2022] [::1]:35626 Accepted\n",
      "[Mon Nov 21 21:56:16 2022] [::1]:35626 [200]: GET /about\n",
      "[Mon Nov 21 21:56:16 2022] [::1]:35626 Closing\n",
      "[Mon Nov 21 21:56:16 2022] [::1]:35632 Accepted\n",
      "[Mon Nov 21 21:56:16 2022] [::1]:35632 [200]: GET /users\n",
      "[Mon Nov 21 21:56:16 2022] [::1]:35632 Closing\n",
      "[Mon Nov 21 21:56:16 2022] [::1]:35648 Accepted\n",
      "[Mon Nov 21 21:56:16 2022] [::1]:35648 [200]: GET /users/1\n",
      "[Mon Nov 21 21:56:16 2022] [::1]:35648 Closing\n",
      "[Mon Nov 21 21:56:16 2022] [::1]:35664 Accepted\n",
      "[Mon Nov 21 21:56:16 2022] [::1]:35664 [200]: GET /users\n",
      "[Mon Nov 21 21:56:16 2022] [::1]:35664 Closing\n",
      "[Mon Nov 21 21:56:16 2022] [::1]:35668 Accepted\n",
      "[Mon Nov 21 21:56:16 2022] [::1]:35668 [200]: GET /users/2\n",
      "[Mon Nov 21 21:56:16 2022] [::1]:35668 Closing\n",
      "[Mon Nov 21 21:56:16 2022] [::1]:35670 Accepted\n",
      "[Mon Nov 21 21:56:16 2022] [::1]:35670 [200]: GET /users\n",
      "[Mon Nov 21 21:56:16 2022] [::1]:35670 Closing\n",
      "[Mon Nov 21 21:56:16 2022] [::1]:35676 Accepted\n",
      "[Mon Nov 21 21:56:16 2022] [::1]:35676 [200]: GET /users/3\n",
      "[Mon Nov 21 21:56:16 2022] [::1]:35676 Closing\n",
      "[Mon Nov 21 21:56:16 2022] [::1]:35690 Accepted\n",
      "[Mon Nov 21 21:56:16 2022] [::1]:35690 [200]: GET /demo/file\n",
      "[Mon Nov 21 21:56:16 2022] [::1]:35690 Closing\n"
     ]
    },
    {
     "name": "stdout",
     "output_type": "stream",
     "text": [
      "\u001b[32;1m✔\u001b[39;22m \u001b[35;1mTest01_FileStorageCest:\u001b[39;22m Test \u001b[32m(0.05s)\u001b[39m\n",
      "\u001b[32;1m✔\u001b[39;22m \u001b[35;1mTest02_SessionStorageCest:\u001b[39;22m Test \u001b[32m(0.02s)\u001b[39m\n",
      "\u001b[32;1m✔\u001b[39;22m \u001b[35;1mTest03_SQLiteStorageCest:\u001b[39;22m Test \u001b[32m(0.12s)\u001b[39m\n",
      "- \u001b[35;1mTest04_MySQLStorageCest:\u001b[39;22m Test"
     ]
    },
    {
     "name": "stderr",
     "output_type": "stream",
     "text": [
      "[Mon Nov 21 21:56:16 2022] [::1]:35700 Accepted\n",
      "[Mon Nov 21 21:56:16 2022] [::1]:35700 [200]: GET /demo/session\n",
      "[Mon Nov 21 21:56:16 2022] [::1]:35700 Closing\n",
      "[Mon Nov 21 21:56:16 2022] [::1]:35712 Accepted\n",
      "[Mon Nov 21 21:56:16 2022] [::1]:35712 [200]: GET /demo/sqlite\n",
      "[Mon Nov 21 21:56:16 2022] [::1]:35712 Closing\n",
      "[Mon Nov 21 21:56:16 2022] [::1]:35718 Accepted\n"
     ]
    },
    {
     "name": "stdout",
     "output_type": "stream",
     "text": [
      "\r",
      "\u001b[32;1m✔\u001b[39;22m \u001b[35;1mTest04_MySQLStorageCest:\u001b[39;22m Test \u001b[32m(0.33s)\u001b[39m\r\n",
      "- \u001b[35;1mTest05_RedisStorageCest:\u001b[39;22m Test"
     ]
    },
    {
     "name": "stderr",
     "output_type": "stream",
     "text": [
      "[Mon Nov 21 21:56:16 2022] [::1]:35718 [200]: GET /demo/mysql\n",
      "[Mon Nov 21 21:56:16 2022] [::1]:35718 Closing\n",
      "[Mon Nov 21 21:56:16 2022] [::1]:35724 Accepted\n",
      "[Mon Nov 21 21:56:16 2022] [::1]:35724 [200]: GET /demo/mysql\n",
      "[Mon Nov 21 21:56:16 2022] [::1]:35724 Closing\n",
      "[Mon Nov 21 21:56:16 2022] [::1]:35736 Accepted\n",
      "[Mon Nov 21 21:56:16 2022] [::1]:35736 [200]: GET /demo/redis\n",
      "[Mon Nov 21 21:56:16 2022] [::1]:35736 Closing\n"
     ]
    },
    {
     "name": "stdout",
     "output_type": "stream",
     "text": [
      "\u001b[32;1m✔\u001b[39;22m \u001b[35;1mTest05_RedisStorageCest:\u001b[39;22m Test \u001b[32m(0.07s)\u001b[39m\n",
      "\u001b[32;1m✔\u001b[39;22m \u001b[35;1mTest06_HomepageCest:\u001b[39;22m See login and register links \u001b[32m(0.12s)\u001b[39m\n",
      "- \u001b[35;1mTest07_RegisterCest:\u001b[39;22m Register new user"
     ]
    },
    {
     "name": "stderr",
     "output_type": "stream",
     "text": [
      "[Mon Nov 21 21:56:16 2022] [::1]:35752 Accepted\n",
      "[Mon Nov 21 21:56:16 2022] [::1]:35752 [200]: GET /\n",
      "[Mon Nov 21 21:56:16 2022] [::1]:35752 Closing\n",
      "[Mon Nov 21 21:56:16 2022] [::1]:35768 Accepted\n",
      "[Mon Nov 21 21:56:16 2022] [::1]:35768 [200]: GET /home\n",
      "[Mon Nov 21 21:56:16 2022] [::1]:35768 Closing\n",
      "[Mon Nov 21 21:56:16 2022] [::1]:35780 Accepted\n",
      "[Mon Nov 21 21:56:16 2022] [::1]:35780 [200]: GET /\n",
      "[Mon Nov 21 21:56:16 2022] [::1]:35780 Closing\n",
      "[Mon Nov 21 21:56:16 2022] [::1]:35790 Accepted\n",
      "[Mon Nov 21 21:56:16 2022] [::1]:35790 [200]: GET /auth/register\n",
      "[Mon Nov 21 21:56:16 2022] [::1]:35790 Closing\n",
      "[Mon Nov 21 21:56:16 2022] [::1]:35798 Accepted\n",
      "[Mon Nov 21 21:56:17 2022] [::1]:35798 [302]: POST /auth/register\n",
      "[Mon Nov 21 21:56:17 2022] [::1]:35798 Closing\n",
      "[Mon Nov 21 21:56:17 2022] [::1]:35808 Accepted\n",
      "[Mon Nov 21 21:56:17 2022] [::1]:35808 [200]: GET /auth/confirmation_notice\n",
      "[Mon Nov 21 21:56:17 2022] [::1]:35808 Closing\n"
     ]
    },
    {
     "name": "stdout",
     "output_type": "stream",
     "text": [
      "\u001b[32;1m✔\u001b[39;22m \u001b[35;1mTest07_RegisterCest:\u001b[39;22m Register new user \u001b[32m(0.48s)\u001b[39m\n",
      "\u001b[32;1m✔\u001b[39;22m \u001b[35;1mTest08_RegisterValidationCest:\u001b[39;22m Validate data entered during registration \u001b[32m(0.15s)\u001b[39m\n",
      "- \u001b[35;1mTest09_RegisterRememberFieldsCest:\u001b[39;22m Remember data entered during registration when validation error is present"
     ]
    },
    {
     "name": "stderr",
     "output_type": "stream",
     "text": [
      "[Mon Nov 21 21:56:17 2022] [::1]:35810 Accepted\n",
      "[Mon Nov 21 21:56:17 2022] [::1]:35810 [200]: GET /auth/register\n",
      "[Mon Nov 21 21:56:17 2022] [::1]:35810 Closing\n",
      "[Mon Nov 21 21:56:17 2022] [::1]:35822 Accepted\n",
      "[Mon Nov 21 21:56:17 2022] [::1]:35822 [200]: POST /auth/register\n",
      "[Mon Nov 21 21:56:17 2022] [::1]:35822 Closing\n",
      "[Mon Nov 21 21:56:17 2022] [::1]:35824 Accepted\n",
      "[Mon Nov 21 21:56:17 2022] [::1]:35824 [200]: POST /auth/register\n",
      "[Mon Nov 21 21:56:17 2022] [::1]:35824 Closing\n",
      "[Mon Nov 21 21:56:17 2022] [::1]:35836 Accepted\n",
      "[Mon Nov 21 21:56:17 2022] [::1]:35836 [200]: GET /auth/register\n",
      "[Mon Nov 21 21:56:17 2022] [::1]:35836 Closing\n",
      "[Mon Nov 21 21:56:17 2022] [::1]:35844 Accepted\n",
      "[Mon Nov 21 21:56:17 2022] [::1]:35844 [200]: POST /auth/register\n",
      "[Mon Nov 21 21:56:17 2022] [::1]:35844 Closing\n"
     ]
    },
    {
     "name": "stdout",
     "output_type": "stream",
     "text": [
      "\r",
      "\u001b[32;1m✔\u001b[39;22m \u001b[35;1mTest09_RegisterRememberFieldsCest:\u001b[39;22m Remember data entered during registration when validation error is present \u001b[32m(0.32s)\u001b[39m\r\n",
      "- \u001b[35;1mTest10_RegisterConfirmCest:\u001b[39;22m Confirm user using link"
     ]
    },
    {
     "name": "stderr",
     "output_type": "stream",
     "text": [
      "[Mon Nov 21 21:56:17 2022] [::1]:35846 Accepted\n",
      "[Mon Nov 21 21:56:17 2022] [::1]:35846 [200]: POST /auth/register\n",
      "[Mon Nov 21 21:56:17 2022] [::1]:35846 Closing\n",
      "[Mon Nov 21 21:56:17 2022] [::1]:35852 Accepted\n",
      "[Mon Nov 21 21:56:17 2022] [::1]:35852 [200]: POST /auth/register\n",
      "[Mon Nov 21 21:56:17 2022] [::1]:35852 Closing\n",
      "[Mon Nov 21 21:56:17 2022] [::1]:35854 Accepted\n",
      "[Mon Nov 21 21:56:17 2022] [::1]:35854 [200]: POST /auth/register\n",
      "[Mon Nov 21 21:56:17 2022] [::1]:35854 Closing\n",
      "[Mon Nov 21 21:56:17 2022] [::1]:35866 Accepted\n",
      "[Mon Nov 21 21:56:17 2022] [::1]:35866 [200]: POST /auth/register\n",
      "[Mon Nov 21 21:56:17 2022] [::1]:35866 Closing\n",
      "[Mon Nov 21 21:56:17 2022] [::1]:35880 Accepted\n",
      "[Mon Nov 21 21:56:17 2022] [::1]:35880 [200]: GET /auth/register\n",
      "[Mon Nov 21 21:56:17 2022] [::1]:35880 Closing\n"
     ]
    },
    {
     "name": "stdout",
     "output_type": "stream",
     "text": [
      "\u001b[31;1m✖\u001b[39;22m \u001b[35;1mTest10_RegisterConfirmCest:\u001b[39;22m See an error when token is invalid \u001b[32m(0.26s)\u001b[39m\n",
      "\u001b[32;1m✔\u001b[39;22m \u001b[35;1mTest11_LoginNotExistingCest:\u001b[39;22m See error when user does not exists \u001b[32m(0.11s)\u001b[39m\n",
      "- \u001b[35;1mTest12_LoginWrongPasswordCest:\u001b[39;22m See error when wrong password is entered"
     ]
    },
    {
     "name": "stderr",
     "output_type": "stream",
     "text": [
      "[Mon Nov 21 21:56:18 2022] [::1]:35896 Accepted\n",
      "[Mon Nov 21 21:56:18 2022] [::1]:35896 [302]: GET /auth/confirm/ThisIsAnInvalidEmailConfirmationToken\n",
      "[Mon Nov 21 21:56:18 2022] [::1]:35896 Closing\n",
      "[Mon Nov 21 21:56:18 2022] [::1]:35900 Accepted\n",
      "[Mon Nov 21 21:56:18 2022] [::1]:35900 [200]: GET /InvalidToken\n",
      "[Mon Nov 21 21:56:18 2022] [::1]:35900 Closing\n",
      "[Mon Nov 21 21:56:18 2022] [::1]:35904 Accepted\n",
      "[Mon Nov 21 21:56:18 2022] [::1]:35904 [200]: GET /auth/login\n",
      "[Mon Nov 21 21:56:18 2022] [::1]:35904 Closing\n",
      "[Mon Nov 21 21:56:18 2022] [::1]:35918 Accepted\n",
      "[Mon Nov 21 21:56:18 2022] [::1]:35918 [302]: POST /auth/login\n",
      "[Mon Nov 21 21:56:18 2022] [::1]:35918 Closing\n",
      "[Mon Nov 21 21:56:18 2022] [::1]:35930 Accepted\n",
      "[Mon Nov 21 21:56:18 2022] [::1]:35930 [200]: GET /\n",
      "[Mon Nov 21 21:56:18 2022] [::1]:35930 Closing\n",
      "[Mon Nov 21 21:56:18 2022] [::1]:35934 Accepted\n",
      "[Mon Nov 21 21:56:18 2022] [::1]:35934 [200]: GET /auth/login\n",
      "[Mon Nov 21 21:56:18 2022] [::1]:35934 Closing\n",
      "[Mon Nov 21 21:56:18 2022] [::1]:35946 Accepted\n"
     ]
    },
    {
     "name": "stdout",
     "output_type": "stream",
     "text": [
      "\r",
      "\u001b[32;1m✔\u001b[39;22m \u001b[35;1mTest12_LoginWrongPasswordCest:\u001b[39;22m See error when wrong password is entered \u001b[32m(0.40s)\u001b[39m\r\n",
      "- \u001b[35;1mTest13_LoginNotConfirmedCest:\u001b[39;22m Be remained about email confirmation when trying to login"
     ]
    },
    {
     "name": "stderr",
     "output_type": "stream",
     "text": [
      "[Mon Nov 21 21:56:18 2022] [::1]:35946 [200]: POST /auth/login\n",
      "[Mon Nov 21 21:56:18 2022] [::1]:35946 Closing\n",
      "[Mon Nov 21 21:56:18 2022] [::1]:35962 Accepted\n",
      "[Mon Nov 21 21:56:18 2022] [::1]:35962 [200]: GET /auth/login\n",
      "[Mon Nov 21 21:56:18 2022] [::1]:35962 Closing\n",
      "[Mon Nov 21 21:56:18 2022] [::1]:35972 Accepted\n",
      "[Mon Nov 21 21:56:18 2022] [::1]:35972 [302]: POST /auth/login\n",
      "[Mon Nov 21 21:56:18 2022] [::1]:35972 Closing\n",
      "[Mon Nov 21 21:56:18 2022] [::1]:35976 Accepted\n",
      "[Mon Nov 21 21:56:18 2022] [::1]:35976 [200]: GET /\n",
      "[Mon Nov 21 21:56:18 2022] [::1]:35976 Closing\n"
     ]
    },
    {
     "name": "stdout",
     "output_type": "stream",
     "text": [
      "\u001b[31;1m✖\u001b[39;22m \u001b[35;1mTest13_LoginNotConfirmedCest:\u001b[39;22m Be remained about email confirmation when trying to login \u001b[32m(0.41s)\u001b[39m\n",
      "\u001b[31;1mE\u001b[39;22m \u001b[35;1mTest14_LoginLogoutSeeHiddenContentCest:\u001b[39;22m See hidden content after login \u001b[32m(0.23s)\u001b[39m\n",
      "--------------------------------------------------------------------------------\n",
      "Time: 00:03.481, Memory: 12.00 MB\n",
      "\n",
      "There was 1 error:\n",
      "1) \u001b[35;1mTest14_LoginLogoutSeeHiddenContentCest:\u001b[39;22m See hidden content after login\n",
      "\u001b[37;41;1m Test  \u001b[39;49;22mtests/Acceptance/Test14_LoginLogoutSeeHiddenContentCest.php:test\n",
      "\u001b[37;41;1m                                                                                \u001b[39;49;22m\n",
      "\u001b[37;41;1m  [TypeError] Cannot assign null to property Model\\User::$token of type string  \u001b[39;49;22m\n",
      "\u001b[37;41;1m                                                                                \u001b[39;49;22m\n",
      "#1  /home/student/php_2022_adam_lewinski/07_testing/02_exercise/project/tests/Acceptance/Test14_LoginLogoutSeeHiddenContentCest.php:24\n",
      "#2  Tests\\Acceptance\\Test14_LoginLogoutSeeHiddenContentCest->test\n",
      "#3  /home/student/php_2022_adam_lewinski/07_testing/02_exercise/project/vendor/bin/codecept:120\n",
      "\n",
      "---------\n",
      "\n",
      "There were 2 failures:\n",
      "1) \u001b[35;1mTest10_RegisterConfirmCest:\u001b[39;22m See an error when token is invalid\n",
      "\u001b[37;41;1m Test  \u001b[39;49;22mtests/Acceptance/Test10_RegisterConfirmCest.php:test\n",
      "\u001b[37;41;1m Step \u001b[39;49;22m See current url equals \"/auth/confirmation_notice\"\n",
      "\u001b[37;41;1m Fail \u001b[39;49;22m Failed asserting that two strings are identical.\n",
      "\u001b[33m- Expected\u001b[39m | \u001b[32m+ Actual\u001b[39m\n",
      "@@ @@\n",
      "\u001b[33m-''\u001b[39m\n",
      "\u001b[32m+'/InvalidToken'\u001b[39m\n",
      "\u001b[33m\n",
      "Scenario Steps:\n",
      "\u001b[39m\n",
      "\u001b[1m 3. $I->seeCurrentUrlEquals(\"/\")\u001b[22m at \u001b[32mtests/Acceptance/Test10_RegisterConfirmCest.php:36\u001b[39m\n",
      " 2. $I->amOnPage(\"/auth/confirm/ThisIsAnInvalidEmailConfirmationToken\") at \u001b[32mtests/Acceptance/Test10_RegisterConfirmCest.php:34\u001b[39m\n",
      " 1. $I->haveInDatabase(\"objects\",{\"key\":\"model_user_1\",\"data\":\"O:10:\"Model\\...}) at \u001b[32mtests/Acceptance/Test10_RegisterConfirmCest.php:29\u001b[39m\n",
      "\n",
      "\u001b[33mArtifacts:\u001b[39m\n",
      "\n",
      "Html: \u001b[36m/home/student/php_2022_adam_lewinski/07_testing/02_exercise/project/tests/_output/Tests.Acceptance.Test10_RegisterConfirmCest.test.fail.html\u001b[39m\n",
      "Response: \u001b[36m/home/student/php_2022_adam_lewinski/07_testing/02_exercise/project/tests/_output/Tests.Acceptance.Test10_RegisterConfirmCest.test.fail.html\u001b[39m\n",
      "2) \u001b[35;1mTest13_LoginNotConfirmedCest:\u001b[39;22m Be remained about email confirmation when trying to login\n",
      "\u001b[37;41;1m Test  \u001b[39;49;22mtests/Acceptance/Test13_LoginNotConfirmedCest.php:test\n",
      "Failed asserting that two strings are identical.\n",
      "\u001b[33m- Expected\u001b[39m | \u001b[32m+ Actual\u001b[39m\n",
      "@@ @@\n",
      "\u001b[33m-'/auth/confirmation_notice'\u001b[39m\n",
      "\u001b[32m+''\u001b[39m\n",
      "\u001b[33m\n",
      "Scenario Steps:\n",
      "\u001b[39m\n",
      "\u001b[1m 8. $I->seeCurrentUrlEquals(\"/auth/confirmation_notice\")\u001b[22m at \u001b[32mtests/Acceptance/Test13_LoginNotConfirmedCest.php:42\u001b[39m\n",
      " 7. $I->click(\"Enter\") at \u001b[32mtests/Acceptance/Test13_LoginNotConfirmedCest.php:40\u001b[39m\n",
      " 6. $I->fillField(\"password\",\"foo\") at \u001b[32mtests/Acceptance/Test13_LoginNotConfirmedCest.php:38\u001b[39m\n",
      " 5. $I->fillField(\"email\",\"dummy@example.com\") at \u001b[32mtests/Acceptance/Test13_LoginNotConfirmedCest.php:37\u001b[39m\n",
      " 4. $I->haveInDatabase(\"objects\",{\"key\":\"model_user_1\",\"data\":\"O:10:\"Model\\...}) at \u001b[32mtests/Acceptance/Test13_LoginNotConfirmedCest.php:33\u001b[39m\n",
      " 3. $I->see(\"Login\",\"h2\") at \u001b[32mtests/Acceptance/Test13_LoginNotConfirmedCest.php:19\u001b[39m\n",
      "\n",
      "\u001b[33mArtifacts:\u001b[39m\n",
      "\n",
      "Html: \u001b[36m/home/student/php_2022_adam_lewinski/07_testing/02_exercise/project/tests/_output/Tests.Acceptance.Test13_LoginNotConfirmedCest.test.fail.html\u001b[39m\n",
      "Response: \u001b[36m/home/student/php_2022_adam_lewinski/07_testing/02_exercise/project/tests/_output/Tests.Acceptance.Test13_LoginNotConfirmedCest.test.fail.html\u001b[39m\n",
      "\n",
      "\u001b[37;41;1mERRORS!\u001b[39;49;22m\n",
      "\u001b[37;41;1mTests: 15, Assertions: 247, Errors: 1, Failures: 2.\u001b[39;49;22m\n"
     ]
    }
   ],
   "source": [
    "! vendor/bin/codecept run Acceptance"
   ]
  },
  {
   "cell_type": "code",
   "execution_count": 77,
   "metadata": {},
   "outputs": [
    {
     "name": "stdout",
     "output_type": "stream",
     "text": [
      "Codeception PHP Testing Framework v5.0.4 https://helpukrainewin.org\n",
      "\n",
      "\u001b[1mTests.Acceptance Tests (15) \u001b[22m----------------------------------------------------\n",
      "\u001b[32;1m✔\u001b[39;22m \u001b[35;1mTest00_PrettyUrlCest:\u001b[39;22m Test \u001b[32m(0.17s)\u001b[39m\n",
      "- \u001b[35;1mTest01_FileStorageCest:\u001b[39;22m Test"
     ]
    },
    {
     "name": "stderr",
     "output_type": "stream",
     "text": [
      "[Mon Nov 21 21:56:19 2022] [::1]:35982 Accepted\n",
      "[Mon Nov 21 21:56:19 2022] [::1]:35982 [200]: GET /\n",
      "[Mon Nov 21 21:56:19 2022] [::1]:35982 Closing\n",
      "[Mon Nov 21 21:56:19 2022] [::1]:35994 Accepted\n",
      "[Mon Nov 21 21:56:19 2022] [::1]:35994 [200]: GET /home\n",
      "[Mon Nov 21 21:56:19 2022] [::1]:35994 Closing\n",
      "[Mon Nov 21 21:56:19 2022] [::1]:36008 Accepted\n",
      "[Mon Nov 21 21:56:19 2022] [::1]:36008 [200]: GET /about\n",
      "[Mon Nov 21 21:56:19 2022] [::1]:36008 Closing\n",
      "[Mon Nov 21 21:56:19 2022] [::1]:36012 Accepted\n",
      "[Mon Nov 21 21:56:19 2022] [::1]:36012 [200]: GET /users\n",
      "[Mon Nov 21 21:56:19 2022] [::1]:36012 Closing\n",
      "[Mon Nov 21 21:56:19 2022] [::1]:36020 Accepted\n",
      "[Mon Nov 21 21:56:19 2022] [::1]:36020 [200]: GET /users/1\n",
      "[Mon Nov 21 21:56:19 2022] [::1]:36020 Closing\n",
      "[Mon Nov 21 21:56:19 2022] [::1]:36030 Accepted\n",
      "[Mon Nov 21 21:56:19 2022] [::1]:36030 [200]: GET /users\n",
      "[Mon Nov 21 21:56:19 2022] [::1]:36030 Closing\n",
      "[Mon Nov 21 21:56:19 2022] [::1]:36036 Accepted\n",
      "[Mon Nov 21 21:56:19 2022] [::1]:36036 [200]: GET /users/2\n",
      "[Mon Nov 21 21:56:19 2022] [::1]:36036 Closing\n",
      "[Mon Nov 21 21:56:19 2022] [::1]:36040 Accepted\n",
      "[Mon Nov 21 21:56:19 2022] [::1]:36040 [200]: GET /users\n",
      "[Mon Nov 21 21:56:19 2022] [::1]:36040 Closing\n",
      "[Mon Nov 21 21:56:19 2022] [::1]:36050 Accepted\n",
      "[Mon Nov 21 21:56:19 2022] [::1]:36050 [200]: GET /users/3\n",
      "[Mon Nov 21 21:56:19 2022] [::1]:36050 Closing\n",
      "[Mon Nov 21 21:56:19 2022] [::1]:36064 Accepted\n",
      "[Mon Nov 21 21:56:19 2022] [::1]:36064 [200]: GET /demo/file\n",
      "[Mon Nov 21 21:56:19 2022] [::1]:36064 Closing\n"
     ]
    },
    {
     "name": "stdout",
     "output_type": "stream",
     "text": [
      "\u001b[32;1m✔\u001b[39;22m \u001b[35;1mTest01_FileStorageCest:\u001b[39;22m Test \u001b[32m(0.04s)\u001b[39m\n",
      "\u001b[32;1m✔\u001b[39;22m \u001b[35;1mTest02_SessionStorageCest:\u001b[39;22m Test \u001b[32m(0.02s)\u001b[39m\n",
      "\u001b[32;1m✔\u001b[39;22m \u001b[35;1mTest03_SQLiteStorageCest:\u001b[39;22m Test \u001b[32m(0.13s)\u001b[39m\n",
      "- \u001b[35;1mTest04_MySQLStorageCest:\u001b[39;22m Test"
     ]
    },
    {
     "name": "stderr",
     "output_type": "stream",
     "text": [
      "[Mon Nov 21 21:56:19 2022] [::1]:36078 Accepted\n",
      "[Mon Nov 21 21:56:19 2022] [::1]:36078 [200]: GET /demo/session\n",
      "[Mon Nov 21 21:56:19 2022] [::1]:36078 Closing\n",
      "[Mon Nov 21 21:56:19 2022] [::1]:36086 Accepted\n",
      "[Mon Nov 21 21:56:20 2022] [::1]:36086 [200]: GET /demo/sqlite\n",
      "[Mon Nov 21 21:56:20 2022] [::1]:36086 Closing\n",
      "[Mon Nov 21 21:56:20 2022] [::1]:36096 Accepted\n"
     ]
    },
    {
     "name": "stdout",
     "output_type": "stream",
     "text": [
      "\r",
      "\u001b[32;1m✔\u001b[39;22m \u001b[35;1mTest04_MySQLStorageCest:\u001b[39;22m Test \u001b[32m(0.27s)\u001b[39m\r\n",
      "- \u001b[35;1mTest05_RedisStorageCest:\u001b[39;22m Test\r",
      "\u001b[32;1m✔\u001b[39;22m \u001b[35;1mTest05_RedisStorageCest:\u001b[39;22m Test \u001b[32m(0.03s)\u001b[39m\r\n",
      "- \u001b[35;1mTest06_HomepageCest:\u001b[39;22m See welcome message on homepage"
     ]
    },
    {
     "name": "stderr",
     "output_type": "stream",
     "text": [
      "[Mon Nov 21 21:56:20 2022] [::1]:36096 [200]: GET /demo/mysql\n",
      "[Mon Nov 21 21:56:20 2022] [::1]:36096 Closing\n",
      "[Mon Nov 21 21:56:20 2022] [::1]:36108 Accepted\n",
      "[Mon Nov 21 21:56:20 2022] [::1]:36108 [200]: GET /demo/mysql\n",
      "[Mon Nov 21 21:56:20 2022] [::1]:36108 Closing\n",
      "[Mon Nov 21 21:56:20 2022] [::1]:36124 Accepted\n",
      "[Mon Nov 21 21:56:20 2022] [::1]:36124 [200]: GET /demo/redis\n",
      "[Mon Nov 21 21:56:20 2022] [::1]:36124 Closing\n"
     ]
    },
    {
     "name": "stdout",
     "output_type": "stream",
     "text": [
      "\u001b[32;1m✔\u001b[39;22m \u001b[35;1mTest06_HomepageCest:\u001b[39;22m See login and register links \u001b[32m(0.11s)\u001b[39m\n",
      "- \u001b[35;1mTest07_RegisterCest:\u001b[39;22m Register new user"
     ]
    },
    {
     "name": "stderr",
     "output_type": "stream",
     "text": [
      "[Mon Nov 21 21:56:20 2022] [::1]:36130 Accepted\n",
      "[Mon Nov 21 21:56:20 2022] [::1]:36130 [200]: GET /\n",
      "[Mon Nov 21 21:56:20 2022] [::1]:36130 Closing\n",
      "[Mon Nov 21 21:56:20 2022] [::1]:36142 Accepted\n",
      "[Mon Nov 21 21:56:20 2022] [::1]:36142 [200]: GET /home\n",
      "[Mon Nov 21 21:56:20 2022] [::1]:36142 Closing\n",
      "[Mon Nov 21 21:56:20 2022] [::1]:36158 Accepted\n",
      "[Mon Nov 21 21:56:20 2022] [::1]:36158 [200]: GET /\n",
      "[Mon Nov 21 21:56:20 2022] [::1]:36158 Closing\n",
      "[Mon Nov 21 21:56:20 2022] [::1]:36164 Accepted\n",
      "[Mon Nov 21 21:56:20 2022] [::1]:36164 [200]: GET /auth/register\n",
      "[Mon Nov 21 21:56:20 2022] [::1]:36164 Closing\n",
      "[Mon Nov 21 21:56:20 2022] [::1]:36174 Accepted\n"
     ]
    },
    {
     "name": "stdout",
     "output_type": "stream",
     "text": [
      "\r",
      "\u001b[32;1m✔\u001b[39;22m \u001b[35;1mTest07_RegisterCest:\u001b[39;22m Register new user \u001b[32m(0.47s)\u001b[39m\r\n",
      "- \u001b[35;1mTest08_RegisterValidationCest:\u001b[39;22m Validate data entered during registration"
     ]
    },
    {
     "name": "stderr",
     "output_type": "stream",
     "text": [
      "[Mon Nov 21 21:56:20 2022] [::1]:36174 [302]: POST /auth/register\n",
      "[Mon Nov 21 21:56:20 2022] [::1]:36174 Closing\n",
      "[Mon Nov 21 21:56:20 2022] [::1]:36182 Accepted\n",
      "[Mon Nov 21 21:56:20 2022] [::1]:36182 [200]: GET /auth/confirmation_notice\n",
      "[Mon Nov 21 21:56:20 2022] [::1]:36182 Closing\n"
     ]
    },
    {
     "name": "stdout",
     "output_type": "stream",
     "text": [
      "\r",
      "\u001b[32;1m✔\u001b[39;22m \u001b[35;1mTest08_RegisterValidationCest:\u001b[39;22m Validate data entered during registration \u001b[32m(0.13s)\u001b[39m\r\n",
      "- \u001b[35;1mTest09_RegisterRememberFieldsCest:\u001b[39;22m Remember data entered during registration when validation error is present"
     ]
    },
    {
     "name": "stderr",
     "output_type": "stream",
     "text": [
      "[Mon Nov 21 21:56:21 2022] [::1]:36196 Accepted\n",
      "[Mon Nov 21 21:56:21 2022] [::1]:36196 [200]: GET /auth/register\n",
      "[Mon Nov 21 21:56:21 2022] [::1]:36196 Closing\n",
      "[Mon Nov 21 21:56:21 2022] [::1]:36212 Accepted\n",
      "[Mon Nov 21 21:56:21 2022] [::1]:36212 [200]: POST /auth/register\n",
      "[Mon Nov 21 21:56:21 2022] [::1]:36212 Closing\n",
      "[Mon Nov 21 21:56:21 2022] [::1]:36226 Accepted\n",
      "[Mon Nov 21 21:56:21 2022] [::1]:36226 [200]: POST /auth/register\n",
      "[Mon Nov 21 21:56:21 2022] [::1]:36226 Closing\n",
      "[Mon Nov 21 21:56:21 2022] [::1]:36232 Accepted\n",
      "[Mon Nov 21 21:56:21 2022] [::1]:36232 [200]: GET /auth/register\n",
      "[Mon Nov 21 21:56:21 2022] [::1]:36232 Closing\n",
      "[Mon Nov 21 21:56:21 2022] [::1]:36248 Accepted\n",
      "[Mon Nov 21 21:56:21 2022] [::1]:36248 [200]: POST /auth/register\n",
      "[Mon Nov 21 21:56:21 2022] [::1]:36248 Closing\n",
      "[Mon Nov 21 21:56:21 2022] [::1]:36252 Accepted\n",
      "[Mon Nov 21 21:56:21 2022] [::1]:36252 [200]: POST /auth/register\n",
      "[Mon Nov 21 21:56:21 2022] [::1]:36252 Closing\n"
     ]
    },
    {
     "name": "stdout",
     "output_type": "stream",
     "text": [
      "\u001b[32;1m✔\u001b[39;22m \u001b[35;1mTest09_RegisterRememberFieldsCest:\u001b[39;22m Remember data entered during registration when validation error is present \u001b[32m(0.30s)\u001b[39m\n",
      "- \u001b[35;1mTest10_RegisterConfirmCest:\u001b[39;22m Confirm user using link"
     ]
    },
    {
     "name": "stderr",
     "output_type": "stream",
     "text": [
      "[Mon Nov 21 21:56:21 2022] [::1]:36268 Accepted\n",
      "[Mon Nov 21 21:56:21 2022] [::1]:36268 [200]: POST /auth/register\n",
      "[Mon Nov 21 21:56:21 2022] [::1]:36268 Closing\n",
      "[Mon Nov 21 21:56:21 2022] [::1]:36272 Accepted\n",
      "[Mon Nov 21 21:56:21 2022] [::1]:36272 [200]: POST /auth/register\n",
      "[Mon Nov 21 21:56:21 2022] [::1]:36272 Closing\n",
      "[Mon Nov 21 21:56:21 2022] [::1]:36274 Accepted\n",
      "[Mon Nov 21 21:56:21 2022] [::1]:36274 [200]: POST /auth/register\n",
      "[Mon Nov 21 21:56:21 2022] [::1]:36274 Closing\n",
      "[Mon Nov 21 21:56:21 2022] [::1]:36282 Accepted\n",
      "[Mon Nov 21 21:56:21 2022] [::1]:36282 [200]: GET /auth/register\n",
      "[Mon Nov 21 21:56:21 2022] [::1]:36282 Closing\n"
     ]
    },
    {
     "name": "stdout",
     "output_type": "stream",
     "text": [
      "\u001b[31;1m✖\u001b[39;22m \u001b[35;1mTest10_RegisterConfirmCest:\u001b[39;22m See an error when token is invalid \u001b[32m(0.31s)\u001b[39m\n",
      "\u001b[32;1m✔\u001b[39;22m \u001b[35;1mTest11_LoginNotExistingCest:\u001b[39;22m See error when user does not exists \u001b[32m(0.12s)\u001b[39m\n",
      "- \u001b[35;1mTest12_LoginWrongPasswordCest:\u001b[39;22m See error when wrong password is entered"
     ]
    },
    {
     "name": "stderr",
     "output_type": "stream",
     "text": [
      "[Mon Nov 21 21:56:21 2022] [::1]:36284 Accepted\n",
      "[Mon Nov 21 21:56:21 2022] [::1]:36284 [302]: GET /auth/confirm/ThisIsAnInvalidEmailConfirmationToken\n",
      "[Mon Nov 21 21:56:21 2022] [::1]:36284 Closing\n",
      "[Mon Nov 21 21:56:21 2022] [::1]:36290 Accepted\n",
      "[Mon Nov 21 21:56:21 2022] [::1]:36290 [200]: GET /InvalidToken\n",
      "[Mon Nov 21 21:56:21 2022] [::1]:36290 Closing\n",
      "[Mon Nov 21 21:56:21 2022] [::1]:36294 Accepted\n",
      "[Mon Nov 21 21:56:21 2022] [::1]:36294 [200]: GET /auth/login\n",
      "[Mon Nov 21 21:56:21 2022] [::1]:36294 Closing\n",
      "[Mon Nov 21 21:56:21 2022] [::1]:36298 Accepted\n",
      "[Mon Nov 21 21:56:21 2022] [::1]:36298 [302]: POST /auth/login\n",
      "[Mon Nov 21 21:56:21 2022] [::1]:36298 Closing\n",
      "[Mon Nov 21 21:56:21 2022] [::1]:36314 Accepted\n",
      "[Mon Nov 21 21:56:21 2022] [::1]:36314 [200]: GET /\n",
      "[Mon Nov 21 21:56:21 2022] [::1]:36314 Closing\n",
      "[Mon Nov 21 21:56:21 2022] [::1]:36318 Accepted\n",
      "[Mon Nov 21 21:56:21 2022] [::1]:36318 [200]: GET /auth/login\n",
      "[Mon Nov 21 21:56:21 2022] [::1]:36318 Closing\n",
      "[Mon Nov 21 21:56:22 2022] [::1]:36326 Accepted\n"
     ]
    },
    {
     "name": "stdout",
     "output_type": "stream",
     "text": [
      "\r",
      "\u001b[32;1m✔\u001b[39;22m \u001b[35;1mTest12_LoginWrongPasswordCest:\u001b[39;22m See error when wrong password is entered \u001b[32m(0.43s)\u001b[39m\r\n",
      "- \u001b[35;1mTest13_LoginNotConfirmedCest:\u001b[39;22m Be remained about email confirmation when trying to login"
     ]
    },
    {
     "name": "stderr",
     "output_type": "stream",
     "text": [
      "[Mon Nov 21 21:56:22 2022] [::1]:36326 [200]: POST /auth/login\n",
      "[Mon Nov 21 21:56:22 2022] [::1]:36326 Closing\n",
      "[Mon Nov 21 21:56:22 2022] [::1]:36340 Accepted\n",
      "[Mon Nov 21 21:56:22 2022] [::1]:36340 [200]: GET /auth/login\n",
      "[Mon Nov 21 21:56:22 2022] [::1]:36340 Closing\n",
      "[Mon Nov 21 21:56:22 2022] [::1]:36354 Accepted\n"
     ]
    },
    {
     "name": "stdout",
     "output_type": "stream",
     "text": [
      "\r",
      "\u001b[31;1m✖\u001b[39;22m \u001b[35;1mTest13_LoginNotConfirmedCest:\u001b[39;22m Be remained about email confirmation when trying to login \u001b[32m(0.56s)\u001b[39m\r\n",
      "- \u001b[35;1mTest14_LoginLogoutSeeHiddenContentCest:\u001b[39;22m See hidden content after login"
     ]
    },
    {
     "name": "stderr",
     "output_type": "stream",
     "text": [
      "[Mon Nov 21 21:56:22 2022] [::1]:36354 [302]: POST /auth/login\n",
      "[Mon Nov 21 21:56:22 2022] [::1]:36354 Closing\n",
      "[Mon Nov 21 21:56:22 2022] [::1]:36366 Accepted\n",
      "[Mon Nov 21 21:56:22 2022] [::1]:36366 [200]: GET /\n",
      "[Mon Nov 21 21:56:22 2022] [::1]:36366 Closing\n"
     ]
    },
    {
     "name": "stdout",
     "output_type": "stream",
     "text": [
      "\u001b[31;1mE\u001b[39;22m \u001b[35;1mTest14_LoginLogoutSeeHiddenContentCest:\u001b[39;22m See hidden content after login \u001b[32m(0.22s)\u001b[39m\n",
      "--------------------------------------------------------------------------------\n",
      "Time: 00:03.548, Memory: 12.00 MB\n",
      "\n",
      "There was 1 error:\n",
      "1) \u001b[35;1mTest14_LoginLogoutSeeHiddenContentCest:\u001b[39;22m See hidden content after login\n",
      "\u001b[37;41;1m Test  \u001b[39;49;22mtests/Acceptance/Test14_LoginLogoutSeeHiddenContentCest.php:test\n",
      "\u001b[37;41;1m                                                                                \u001b[39;49;22m\n",
      "\u001b[37;41;1m  [TypeError] Cannot assign null to property Model\\User::$token of type string  \u001b[39;49;22m\n",
      "\u001b[37;41;1m                                                                                \u001b[39;49;22m\n",
      "#1  /home/student/php_2022_adam_lewinski/07_testing/02_exercise/project/tests/Acceptance/Test14_LoginLogoutSeeHiddenContentCest.php:24\n",
      "#2  Tests\\Acceptance\\Test14_LoginLogoutSeeHiddenContentCest->test\n",
      "#3  /home/student/php_2022_adam_lewinski/07_testing/02_exercise/project/vendor/bin/codecept:120\n",
      "\n",
      "---------\n",
      "\n",
      "There were 2 failures:\n",
      "1) \u001b[35;1mTest10_RegisterConfirmCest:\u001b[39;22m See an error when token is invalid\n",
      "\u001b[37;41;1m Test  \u001b[39;49;22mtests/Acceptance/Test10_RegisterConfirmCest.php:test\n",
      "\u001b[37;41;1m Step \u001b[39;49;22m See current url equals \"/auth/confirmation_notice\"\n",
      "\u001b[37;41;1m Fail \u001b[39;49;22m Failed asserting that two strings are identical.\n",
      "\u001b[33m- Expected\u001b[39m | \u001b[32m+ Actual\u001b[39m\n",
      "@@ @@\n",
      "\u001b[33m-''\u001b[39m\n",
      "\u001b[32m+'/InvalidToken'\u001b[39m\n",
      "\u001b[33m\n",
      "Scenario Steps:\n",
      "\u001b[39m\n",
      "\u001b[1m 3. $I->seeCurrentUrlEquals(\"/\")\u001b[22m at \u001b[32mtests/Acceptance/Test10_RegisterConfirmCest.php:36\u001b[39m\n",
      " 2. $I->amOnPage(\"/auth/confirm/ThisIsAnInvalidEmailConfirmationToken\") at \u001b[32mtests/Acceptance/Test10_RegisterConfirmCest.php:34\u001b[39m\n",
      " 1. $I->haveInDatabase(\"objects\",{\"key\":\"model_user_1\",\"data\":\"O:10:\"Model\\...}) at \u001b[32mtests/Acceptance/Test10_RegisterConfirmCest.php:29\u001b[39m\n",
      "\n",
      "\u001b[33mArtifacts:\u001b[39m\n",
      "\n",
      "Html: \u001b[36m/home/student/php_2022_adam_lewinski/07_testing/02_exercise/project/tests/_output/Tests.Acceptance.Test10_RegisterConfirmCest.test.fail.html\u001b[39m\n",
      "Response: \u001b[36m/home/student/php_2022_adam_lewinski/07_testing/02_exercise/project/tests/_output/Tests.Acceptance.Test10_RegisterConfirmCest.test.fail.html\u001b[39m\n",
      "2) \u001b[35;1mTest13_LoginNotConfirmedCest:\u001b[39;22m Be remained about email confirmation when trying to login\n",
      "\u001b[37;41;1m Test  \u001b[39;49;22mtests/Acceptance/Test13_LoginNotConfirmedCest.php:test\n",
      "Failed asserting that two strings are identical.\n",
      "\u001b[33m- Expected\u001b[39m | \u001b[32m+ Actual\u001b[39m\n",
      "@@ @@\n",
      "\u001b[33m-'/auth/confirmation_notice'\u001b[39m\n",
      "\u001b[32m+''\u001b[39m\n",
      "\u001b[33m\n",
      "Scenario Steps:\n",
      "\u001b[39m\n",
      "\u001b[1m 8. $I->seeCurrentUrlEquals(\"/auth/confirmation_notice\")\u001b[22m at \u001b[32mtests/Acceptance/Test13_LoginNotConfirmedCest.php:42\u001b[39m\n",
      " 7. $I->click(\"Enter\") at \u001b[32mtests/Acceptance/Test13_LoginNotConfirmedCest.php:40\u001b[39m\n",
      " 6. $I->fillField(\"password\",\"foo\") at \u001b[32mtests/Acceptance/Test13_LoginNotConfirmedCest.php:38\u001b[39m\n",
      " 5. $I->fillField(\"email\",\"dummy@example.com\") at \u001b[32mtests/Acceptance/Test13_LoginNotConfirmedCest.php:37\u001b[39m\n",
      " 4. $I->haveInDatabase(\"objects\",{\"key\":\"model_user_1\",\"data\":\"O:10:\"Model\\...}) at \u001b[32mtests/Acceptance/Test13_LoginNotConfirmedCest.php:33\u001b[39m\n",
      " 3. $I->see(\"Login\",\"h2\") at \u001b[32mtests/Acceptance/Test13_LoginNotConfirmedCest.php:19\u001b[39m\n",
      "\n",
      "\u001b[33mArtifacts:\u001b[39m\n",
      "\n",
      "Html: \u001b[36m/home/student/php_2022_adam_lewinski/07_testing/02_exercise/project/tests/_output/Tests.Acceptance.Test13_LoginNotConfirmedCest.test.fail.html\u001b[39m\n",
      "Response: \u001b[36m/home/student/php_2022_adam_lewinski/07_testing/02_exercise/project/tests/_output/Tests.Acceptance.Test13_LoginNotConfirmedCest.test.fail.html\u001b[39m\n",
      "\n",
      "\u001b[37;41;1mERRORS!\u001b[39;49;22m\n",
      "\u001b[37;41;1mTests: 15, Assertions: 247, Errors: 1, Failures: 2.\u001b[39;49;22m\n",
      "- \u001b[1mJUNIT XML\u001b[22m report generated in \u001b[33mfile:///home/student/php_2022_adam_lewinski/07_testing/02_exercise/project/tests/_output/test_report.xml\u001b[39m\n"
     ]
    }
   ],
   "source": [
    "! vendor/bin/codecept run Acceptance --xml test_report.xml"
   ]
  },
  {
   "cell_type": "code",
   "execution_count": 78,
   "metadata": {},
   "outputs": [],
   "source": [
    "phpServer.kill()"
   ]
  },
  {
   "cell_type": "code",
   "execution_count": 79,
   "metadata": {},
   "outputs": [
    {
     "name": "stdout",
     "output_type": "stream",
     "text": [
      "/home/student/php_2022_adam_lewinski/07_testing/02_exercise\n"
     ]
    }
   ],
   "source": [
    "%cd ../"
   ]
  },
  {
   "cell_type": "markdown",
   "metadata": {},
   "source": [
    "Stop the databses:"
   ]
  },
  {
   "cell_type": "code",
   "execution_count": null,
   "metadata": {},
   "outputs": [],
   "source": [
    "! docker container stop redis"
   ]
  },
  {
   "cell_type": "code",
   "execution_count": null,
   "metadata": {},
   "outputs": [],
   "source": [
    "! docker container stop mysql"
   ]
  }
 ],
 "metadata": {
  "kernelspec": {
   "display_name": "Python 3 (ipykernel)",
   "language": "python",
   "name": "python3"
  },
  "language_info": {
   "codemirror_mode": {
    "name": "ipython",
    "version": 3
   },
   "file_extension": ".py",
   "mimetype": "text/x-python",
   "name": "python",
   "nbconvert_exporter": "python",
   "pygments_lexer": "ipython3",
   "version": "3.10.6"
  }
 },
 "nbformat": 4,
 "nbformat_minor": 4
}
