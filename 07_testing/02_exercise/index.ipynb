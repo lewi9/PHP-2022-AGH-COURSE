{
 "cells": [
  {
   "cell_type": "markdown",
   "metadata": {},
   "source": [
    "# PHP 2022"
   ]
  },
  {
   "cell_type": "markdown",
   "metadata": {},
   "source": [
    "## 7. Testing"
   ]
  },
  {
   "cell_type": "markdown",
   "metadata": {},
   "source": [
    "### 7.2 Exercise"
   ]
  },
  {
   "cell_type": "markdown",
   "metadata": {},
   "source": [
    "Implment missing code."
   ]
  },
  {
   "cell_type": "markdown",
   "metadata": {},
   "source": [
    "Start the databses:"
   ]
  },
  {
   "cell_type": "code",
   "execution_count": 1,
   "metadata": {},
   "outputs": [
    {
     "name": "stdout",
     "output_type": "stream",
     "text": [
      "c2f3c8aa29f034f89df06782ef25991383c7d027a612d556d564cdf0efd5cd5a\r\n"
     ]
    }
   ],
   "source": [
    "! docker run --net=host --rm --name redis -d redis"
   ]
  },
  {
   "cell_type": "code",
   "execution_count": 2,
   "metadata": {},
   "outputs": [
    {
     "name": "stdout",
     "output_type": "stream",
     "text": [
      "d5eed6ca0dccadd00baf63e55fba53c98e5983518e957b9c021932d11c24eaa3\r\n"
     ]
    }
   ],
   "source": [
    "! docker run --name=mysql --net=host --rm --env MYSQL_ROOT_PASSWORD=root123 --env MYSQL_DATABASE=test --env MYSQL_USER=test --env MYSQL_PASSWORD=test123 -d mysql/mysql-server:8.0"
   ]
  },
  {
   "cell_type": "code",
   "execution_count": 3,
   "metadata": {},
   "outputs": [
    {
     "name": "stdout",
     "output_type": "stream",
     "text": [
      "Done.\r\n"
     ]
    }
   ],
   "source": [
    "! while ! timeout 1 bash -c \"echo > /dev/tcp/localhost/6379\" 2> /dev/null; do sleep 1; done; echo \"Done.\";"
   ]
  },
  {
   "cell_type": "code",
   "execution_count": 4,
   "metadata": {},
   "outputs": [
    {
     "name": "stdout",
     "output_type": "stream",
     "text": [
      "Done.\r\n"
     ]
    }
   ],
   "source": [
    "! while ! timeout 1 bash -c \"echo > /dev/tcp/localhost/3306\" 2> /dev/null; do sleep 1; done; echo \"Done.\";"
   ]
  },
  {
   "cell_type": "markdown",
   "metadata": {},
   "source": [
    "Edit the code:"
   ]
  },
  {
   "cell_type": "code",
   "execution_count": null,
   "metadata": {},
   "outputs": [
    {
     "name": "stdout",
     "output_type": "stream",
     "text": [
      "CompileCommand: exclude com/intellij/openapi/vfs/impl/FilePartNodeRoot.trieDescend bool exclude = true\n",
      "2022-11-21 06:20:47,364 [   1680] SEVERE - #c.i.d.LoadingState - Should be called at least in the state COMPONENTS_LOADED, the current state is: CONFIGURATION_STORE_INITIALIZED\n",
      "Current violators count: 1\n",
      "\n",
      "\n",
      "java.lang.Throwable\n",
      "\tat com.intellij.diagnostic.LoadingState.logStateError(LoadingState.java:52)\n",
      "\tat com.intellij.diagnostic.LoadingState.checkOccurred(LoadingState.java:48)\n",
      "\tat com.intellij.openapi.actionSystem.impl.ActionManagerImpl.<init>(ActionManagerImpl.java:133)\n",
      "\tat com.jetbrains.rdserver.ui.actionPopupMenu.BackendActionManager.<init>(BackendActionManager.kt:17)\n",
      "\tat java.base/jdk.internal.reflect.NativeConstructorAccessorImpl.newInstance0(Native Method)\n",
      "\tat java.base/jdk.internal.reflect.NativeConstructorAccessorImpl.newInstance(NativeConstructorAccessorImpl.java:77)\n",
      "\tat java.base/jdk.internal.reflect.DelegatingConstructorAccessorImpl.newInstance(DelegatingConstructorAccessorImpl.java:45)\n",
      "\tat java.base/java.lang.reflect.Constructor.newInstanceWithCaller(Constructor.java:499)\n",
      "\tat java.base/java.lang.reflect.Constructor.newInstance(Constructor.java:480)\n",
      "\tat com.intellij.serviceContainer.ConstructorInjectionKt.instantiateUsingPicoContainer(constructorInjection.kt:47)\n",
      "\tat com.intellij.serviceContainer.ComponentManagerImpl.instantiateClassWithConstructorInjection(ComponentManagerImpl.kt:890)\n",
      "\tat com.intellij.serviceContainer.ServiceComponentAdapter.createAndInitialize(ServiceComponentAdapter.kt:51)\n",
      "\tat com.intellij.serviceContainer.ServiceComponentAdapter.doCreateInstance(ServiceComponentAdapter.kt:41)\n",
      "\tat com.intellij.serviceContainer.BaseComponentAdapter.getInstanceUncached(BaseComponentAdapter.kt:119)\n",
      "\tat com.intellij.serviceContainer.BaseComponentAdapter.getInstance(BaseComponentAdapter.kt:73)\n",
      "\tat com.intellij.serviceContainer.BaseComponentAdapter.getInstance$default(BaseComponentAdapter.kt:66)\n",
      "\tat com.intellij.serviceContainer.ComponentManagerImpl.doGetService(ComponentManagerImpl.kt:609)\n",
      "\tat com.intellij.serviceContainer.ComponentManagerImpl.getService(ComponentManagerImpl.kt:583)\n",
      "\tat com.intellij.openapi.client.ClientAwareComponentManager.getFromSelfOrCurrentSession(ClientAwareComponentManager.kt:37)\n",
      "\tat com.intellij.openapi.client.ClientAwareComponentManager.getService(ClientAwareComponentManager.kt:22)\n",
      "\tat com.intellij.openapi.actionSystem.ActionManager.getInstance(ActionManager.java:29)\n",
      "\tat com.intellij.help.impl.KeymapGenerator.<clinit>(KeymapGenerator.java:33)\n",
      "\tat java.base/jdk.internal.misc.Unsafe.allocateInstance(Native Method)\n",
      "\tat java.base/java.lang.invoke.DirectMethodHandle.allocateInstance(DirectMethodHandle.java:520)\n",
      "\tat com.intellij.serviceContainer.ComponentManagerImpl.instantiateClass(ComponentManagerImpl.kt:844)\n",
      "\tat com.intellij.openapi.extensions.impl.XmlExtensionAdapter.instantiateClass(XmlExtensionAdapter.kt:79)\n",
      "\tat com.intellij.openapi.extensions.impl.XmlExtensionAdapter$SimpleConstructorInjectionAdapter.instantiateClass(XmlExtensionAdapter.kt:90)\n",
      "\tat com.intellij.openapi.extensions.impl.XmlExtensionAdapter.doCreateInstance(XmlExtensionAdapter.kt:50)\n",
      "\tat com.intellij.openapi.extensions.impl.XmlExtensionAdapter.createInstance(XmlExtensionAdapter.kt:31)\n",
      "\tat com.intellij.openapi.extensions.impl.ExtensionPointImpl.processAdapter(ExtensionPointImpl.java:447)\n",
      "\tat com.intellij.openapi.extensions.impl.ExtensionPointImpl.access$200(ExtensionPointImpl.java:33)\n",
      "\tat com.intellij.openapi.extensions.impl.ExtensionPointImpl$1.next(ExtensionPointImpl.java:355)\n",
      "\tat com.intellij.idea.ApplicationLoader.findAppStarter(ApplicationLoader.kt:595)\n",
      "\tat com.intellij.idea.ApplicationLoader.access$findAppStarter(ApplicationLoader.kt:1)\n",
      "\tat com.intellij.idea.ApplicationLoader$initApplication$block$3.apply(ApplicationLoader.kt:170)\n",
      "\tat com.intellij.idea.ApplicationLoader$initApplication$block$3.apply(ApplicationLoader.kt)\n",
      "\tat java.base/java.util.concurrent.CompletableFuture$UniCompose.tryFire(CompletableFuture.java:1150)\n",
      "\tat java.base/java.util.concurrent.CompletableFuture.postComplete(CompletableFuture.java:510)\n",
      "\tat java.base/java.util.concurrent.CompletableFuture$AsyncSupply.run(CompletableFuture.java:1773)\n",
      "\tat java.base/java.util.concurrent.CompletableFuture$AsyncSupply.exec(CompletableFuture.java:1760)\n",
      "\tat java.base/java.util.concurrent.ForkJoinTask.doExec(ForkJoinTask.java:373)\n",
      "\tat java.base/java.util.concurrent.ForkJoinPool$WorkQueue.topLevelExec(ForkJoinPool.java:1182)\n",
      "\tat java.base/java.util.concurrent.ForkJoinPool.scan(ForkJoinPool.java:1655)\n",
      "\tat java.base/java.util.concurrent.ForkJoinPool.runWorker(ForkJoinPool.java:1622)\n",
      "\tat java.base/java.util.concurrent.ForkJoinWorkerThread.run(ForkJoinWorkerThread.java:165)\n",
      "2022-11-21 06:20:47,388 [   1704] SEVERE - #c.i.d.LoadingState - PhpStorm 2022.2.3  Build #PS-222.4345.15\n",
      "2022-11-21 06:20:47,390 [   1706] SEVERE - #c.i.d.LoadingState - JDK: 17.0.4.1; VM: OpenJDK 64-Bit Server VM; Vendor: JetBrains s.r.o.\n",
      "2022-11-21 06:20:47,391 [   1707] SEVERE - #c.i.d.LoadingState - OS: Linux\n",
      "2022-11-21 06:20:48,205 [   2521] SEVERE - #c.i.d.LoadingState - Should be called at least in the state COMPONENTS_LOADED, the current state is: CONFIGURATION_STORE_INITIALIZED\n",
      "Current violators count: 2\n",
      "\n",
      "\n",
      "java.lang.Throwable\n",
      "\tat com.intellij.diagnostic.LoadingState.logStateError(LoadingState.java:52)\n",
      "\tat com.intellij.diagnostic.LoadingState.checkOccurred(LoadingState.java:48)\n",
      "\tat com.intellij.openapi.util.registry.Registry.getInstance(Registry.java:176)\n",
      "\tat com.intellij.openapi.util.registry.Registry.get(Registry.java:50)\n",
      "\tat com.intellij.openapi.util.registry.Registry.is(Registry.java:63)\n",
      "\tat com.intellij.execution.ExecutorRegistryImpl.isExecutorInMainGroup(ExecutorRegistryImpl.java:195)\n",
      "\tat com.intellij.execution.ExecutorRegistryImpl.initExecutorActions(ExecutorRegistryImpl.java:127)\n",
      "\tat com.intellij.execution.ExecutorRegistryImpl.init(ExecutorRegistryImpl.java:278)\n",
      "\tat com.intellij.execution.ExecutorRegistryImpl$ExecutorRegistryActionConfigurationTuner.customize(ExecutorRegistryImpl.java:92)\n",
      "\tat com.intellij.openapi.actionSystem.impl.ActionManagerImpl.lambda$new$0(ActionManagerImpl.java:141)\n",
      "\tat com.intellij.openapi.extensions.impl.ExtensionProcessingHelper.forEachExtensionSafe(ExtensionProcessingHelper.java:34)\n",
      "\tat com.intellij.openapi.extensions.ExtensionPointName.forEachExtensionSafe(ExtensionPointName.java:46)\n",
      "\tat com.intellij.openapi.actionSystem.impl.ActionManagerImpl.<init>(ActionManagerImpl.java:141)\n",
      "\tat com.jetbrains.rdserver.ui.actionPopupMenu.BackendActionManager.<init>(BackendActionManager.kt:17)\n",
      "\tat java.base/jdk.internal.reflect.NativeConstructorAccessorImpl.newInstance0(Native Method)\n",
      "\tat java.base/jdk.internal.reflect.NativeConstructorAccessorImpl.newInstance(NativeConstructorAccessorImpl.java:77)\n",
      "\tat java.base/jdk.internal.reflect.DelegatingConstructorAccessorImpl.newInstance(DelegatingConstructorAccessorImpl.java:45)\n",
      "\tat java.base/java.lang.reflect.Constructor.newInstanceWithCaller(Constructor.java:499)\n",
      "\tat java.base/java.lang.reflect.Constructor.newInstance(Constructor.java:480)\n",
      "\tat com.intellij.serviceContainer.ConstructorInjectionKt.instantiateUsingPicoContainer(constructorInjection.kt:47)\n",
      "\tat com.intellij.serviceContainer.ComponentManagerImpl.instantiateClassWithConstructorInjection(ComponentManagerImpl.kt:890)\n",
      "\tat com.intellij.serviceContainer.ServiceComponentAdapter.createAndInitialize(ServiceComponentAdapter.kt:51)\n",
      "\tat com.intellij.serviceContainer.ServiceComponentAdapter.doCreateInstance(ServiceComponentAdapter.kt:41)\n",
      "\tat com.intellij.serviceContainer.BaseComponentAdapter.getInstanceUncached(BaseComponentAdapter.kt:119)\n",
      "\tat com.intellij.serviceContainer.BaseComponentAdapter.getInstance(BaseComponentAdapter.kt:73)\n",
      "\tat com.intellij.serviceContainer.BaseComponentAdapter.getInstance$default(BaseComponentAdapter.kt:66)\n",
      "\tat com.intellij.serviceContainer.ComponentManagerImpl.doGetService(ComponentManagerImpl.kt:609)\n",
      "\tat com.intellij.serviceContainer.ComponentManagerImpl.getService(ComponentManagerImpl.kt:583)\n",
      "\tat com.intellij.openapi.client.ClientAwareComponentManager.getFromSelfOrCurrentSession(ClientAwareComponentManager.kt:37)\n",
      "\tat com.intellij.openapi.client.ClientAwareComponentManager.getService(ClientAwareComponentManager.kt:22)\n",
      "\tat com.intellij.openapi.actionSystem.ActionManager.getInstance(ActionManager.java:29)\n",
      "\tat com.intellij.help.impl.KeymapGenerator.<clinit>(KeymapGenerator.java:33)\n",
      "\tat java.base/jdk.internal.misc.Unsafe.allocateInstance(Native Method)\n",
      "\tat java.base/java.lang.invoke.DirectMethodHandle.allocateInstance(DirectMethodHandle.java:520)\n",
      "\tat com.intellij.serviceContainer.ComponentManagerImpl.instantiateClass(ComponentManagerImpl.kt:844)\n",
      "\tat com.intellij.openapi.extensions.impl.XmlExtensionAdapter.instantiateClass(XmlExtensionAdapter.kt:79)\n",
      "\tat com.intellij.openapi.extensions.impl.XmlExtensionAdapter$SimpleConstructorInjectionAdapter.instantiateClass(XmlExtensionAdapter.kt:90)\n",
      "\tat com.intellij.openapi.extensions.impl.XmlExtensionAdapter.doCreateInstance(XmlExtensionAdapter.kt:50)\n",
      "\tat com.intellij.openapi.extensions.impl.XmlExtensionAdapter.createInstance(XmlExtensionAdapter.kt:31)\n",
      "\tat com.intellij.openapi.extensions.impl.ExtensionPointImpl.processAdapter(ExtensionPointImpl.java:447)\n",
      "\tat com.intellij.openapi.extensions.impl.ExtensionPointImpl.access$200(ExtensionPointImpl.java:33)\n",
      "\tat com.intellij.openapi.extensions.impl.ExtensionPointImpl$1.next(ExtensionPointImpl.java:355)\n",
      "\tat com.intellij.idea.ApplicationLoader.findAppStarter(ApplicationLoader.kt:595)\n",
      "\tat com.intellij.idea.ApplicationLoader.access$findAppStarter(ApplicationLoader.kt:1)\n",
      "\tat com.intellij.idea.ApplicationLoader$initApplication$block$3.apply(ApplicationLoader.kt:170)\n",
      "\tat com.intellij.idea.ApplicationLoader$initApplication$block$3.apply(ApplicationLoader.kt)\n",
      "\tat java.base/java.util.concurrent.CompletableFuture$UniCompose.tryFire(CompletableFuture.java:1150)\n",
      "\tat java.base/java.util.concurrent.CompletableFuture.postComplete(CompletableFuture.java:510)\n",
      "\tat java.base/java.util.concurrent.CompletableFuture$AsyncSupply.run(CompletableFuture.java:1773)\n",
      "\tat java.base/java.util.concurrent.CompletableFuture$AsyncSupply.exec(CompletableFuture.java:1760)\n",
      "\tat java.base/java.util.concurrent.ForkJoinTask.doExec(ForkJoinTask.java:373)\n",
      "\tat java.base/java.util.concurrent.ForkJoinPool$WorkQueue.topLevelExec(ForkJoinPool.java:1182)\n",
      "\tat java.base/java.util.concurrent.ForkJoinPool.scan(ForkJoinPool.java:1655)\n",
      "\tat java.base/java.util.concurrent.ForkJoinPool.runWorker(ForkJoinPool.java:1622)\n",
      "\tat java.base/java.util.concurrent.ForkJoinWorkerThread.run(ForkJoinWorkerThread.java:165)\n",
      "2022-11-21 06:20:48,210 [   2526] SEVERE - #c.i.d.LoadingState - PhpStorm 2022.2.3  Build #PS-222.4345.15\n",
      "2022-11-21 06:20:48,211 [   2527] SEVERE - #c.i.d.LoadingState - JDK: 17.0.4.1; VM: OpenJDK 64-Bit Server VM; Vendor: JetBrains s.r.o.\n",
      "2022-11-21 06:20:48,212 [   2528] SEVERE - #c.i.d.LoadingState - OS: Linux\n",
      "2022-11-21 06:20:48,244 [   2560] SEVERE - #c.i.d.LoadingState - Should be called at least in the state COMPONENTS_LOADED, the current state is: CONFIGURATION_STORE_INITIALIZED\n",
      "Current violators count: 3\n",
      "\n",
      "\n",
      "java.lang.Throwable\n",
      "\tat com.intellij.diagnostic.LoadingState.logStateError(LoadingState.java:52)\n",
      "\tat com.intellij.diagnostic.LoadingState.checkOccurred(LoadingState.java:48)\n",
      "\tat com.intellij.openapi.util.registry.Registry.getInstance(Registry.java:176)\n",
      "\tat com.intellij.openapi.util.registry.Registry.get(Registry.java:50)\n",
      "\tat com.intellij.openapi.util.registry.Registry.is(Registry.java:63)\n",
      "\tat com.intellij.openapi.wm.impl.GlobalMenuLinux._loadLibrary(GlobalMenuLinux.java:797)\n",
      "\tat com.intellij.openapi.wm.impl.GlobalMenuLinux.<clinit>(GlobalMenuLinux.java:164)\n",
      "\tat com.intellij.openapi.wm.impl.GlobalMenuLinux$MyActionTuner.customize(GlobalMenuLinux.java:230)\n",
      "\tat com.intellij.openapi.actionSystem.impl.ActionManagerImpl.lambda$new$0(ActionManagerImpl.java:141)\n",
      "\tat com.intellij.openapi.extensions.impl.ExtensionProcessingHelper.forEachExtensionSafe(ExtensionProcessingHelper.java:34)\n",
      "\tat com.intellij.openapi.extensions.ExtensionPointName.forEachExtensionSafe(ExtensionPointName.java:46)\n",
      "\tat com.intellij.openapi.actionSystem.impl.ActionManagerImpl.<init>(ActionManagerImpl.java:141)\n",
      "\tat com.jetbrains.rdserver.ui.actionPopupMenu.BackendActionManager.<init>(BackendActionManager.kt:17)\n",
      "\tat java.base/jdk.internal.reflect.NativeConstructorAccessorImpl.newInstance0(Native Method)\n",
      "\tat java.base/jdk.internal.reflect.NativeConstructorAccessorImpl.newInstance(NativeConstructorAccessorImpl.java:77)\n",
      "\tat java.base/jdk.internal.reflect.DelegatingConstructorAccessorImpl.newInstance(DelegatingConstructorAccessorImpl.java:45)\n",
      "\tat java.base/java.lang.reflect.Constructor.newInstanceWithCaller(Constructor.java:499)\n",
      "\tat java.base/java.lang.reflect.Constructor.newInstance(Constructor.java:480)\n",
      "\tat com.intellij.serviceContainer.ConstructorInjectionKt.instantiateUsingPicoContainer(constructorInjection.kt:47)\n",
      "\tat com.intellij.serviceContainer.ComponentManagerImpl.instantiateClassWithConstructorInjection(ComponentManagerImpl.kt:890)\n",
      "\tat com.intellij.serviceContainer.ServiceComponentAdapter.createAndInitialize(ServiceComponentAdapter.kt:51)\n",
      "\tat com.intellij.serviceContainer.ServiceComponentAdapter.doCreateInstance(ServiceComponentAdapter.kt:41)\n",
      "\tat com.intellij.serviceContainer.BaseComponentAdapter.getInstanceUncached(BaseComponentAdapter.kt:119)\n",
      "\tat com.intellij.serviceContainer.BaseComponentAdapter.getInstance(BaseComponentAdapter.kt:73)\n",
      "\tat com.intellij.serviceContainer.BaseComponentAdapter.getInstance$default(BaseComponentAdapter.kt:66)\n",
      "\tat com.intellij.serviceContainer.ComponentManagerImpl.doGetService(ComponentManagerImpl.kt:609)\n",
      "\tat com.intellij.serviceContainer.ComponentManagerImpl.getService(ComponentManagerImpl.kt:583)\n",
      "\tat com.intellij.openapi.client.ClientAwareComponentManager.getFromSelfOrCurrentSession(ClientAwareComponentManager.kt:37)\n",
      "\tat com.intellij.openapi.client.ClientAwareComponentManager.getService(ClientAwareComponentManager.kt:22)\n",
      "\tat com.intellij.openapi.actionSystem.ActionManager.getInstance(ActionManager.java:29)\n",
      "\tat com.intellij.help.impl.KeymapGenerator.<clinit>(KeymapGenerator.java:33)\n",
      "\tat java.base/jdk.internal.misc.Unsafe.allocateInstance(Native Method)\n",
      "\tat java.base/java.lang.invoke.DirectMethodHandle.allocateInstance(DirectMethodHandle.java:520)\n",
      "\tat com.intellij.serviceContainer.ComponentManagerImpl.instantiateClass(ComponentManagerImpl.kt:844)\n",
      "\tat com.intellij.openapi.extensions.impl.XmlExtensionAdapter.instantiateClass(XmlExtensionAdapter.kt:79)\n",
      "\tat com.intellij.openapi.extensions.impl.XmlExtensionAdapter$SimpleConstructorInjectionAdapter.instantiateClass(XmlExtensionAdapter.kt:90)\n",
      "\tat com.intellij.openapi.extensions.impl.XmlExtensionAdapter.doCreateInstance(XmlExtensionAdapter.kt:50)\n",
      "\tat com.intellij.openapi.extensions.impl.XmlExtensionAdapter.createInstance(XmlExtensionAdapter.kt:31)\n",
      "\tat com.intellij.openapi.extensions.impl.ExtensionPointImpl.processAdapter(ExtensionPointImpl.java:447)\n",
      "\tat com.intellij.openapi.extensions.impl.ExtensionPointImpl.access$200(ExtensionPointImpl.java:33)\n",
      "\tat com.intellij.openapi.extensions.impl.ExtensionPointImpl$1.next(ExtensionPointImpl.java:355)\n",
      "\tat com.intellij.idea.ApplicationLoader.findAppStarter(ApplicationLoader.kt:595)\n",
      "\tat com.intellij.idea.ApplicationLoader.access$findAppStarter(ApplicationLoader.kt:1)\n",
      "\tat com.intellij.idea.ApplicationLoader$initApplication$block$3.apply(ApplicationLoader.kt:170)\n",
      "\tat com.intellij.idea.ApplicationLoader$initApplication$block$3.apply(ApplicationLoader.kt)\n",
      "\tat java.base/java.util.concurrent.CompletableFuture$UniCompose.tryFire(CompletableFuture.java:1150)\n",
      "\tat java.base/java.util.concurrent.CompletableFuture.postComplete(CompletableFuture.java:510)\n",
      "\tat java.base/java.util.concurrent.CompletableFuture$AsyncSupply.run(CompletableFuture.java:1773)\n",
      "\tat java.base/java.util.concurrent.CompletableFuture$AsyncSupply.exec(CompletableFuture.java:1760)\n",
      "\tat java.base/java.util.concurrent.ForkJoinTask.doExec(ForkJoinTask.java:373)\n",
      "\tat java.base/java.util.concurrent.ForkJoinPool$WorkQueue.topLevelExec(ForkJoinPool.java:1182)\n",
      "\tat java.base/java.util.concurrent.ForkJoinPool.scan(ForkJoinPool.java:1655)\n",
      "\tat java.base/java.util.concurrent.ForkJoinPool.runWorker(ForkJoinPool.java:1622)\n",
      "\tat java.base/java.util.concurrent.ForkJoinWorkerThread.run(ForkJoinWorkerThread.java:165)\n",
      "2022-11-21 06:20:48,249 [   2565] SEVERE - #c.i.d.LoadingState - PhpStorm 2022.2.3  Build #PS-222.4345.15\n",
      "2022-11-21 06:20:48,250 [   2566] SEVERE - #c.i.d.LoadingState - JDK: 17.0.4.1; VM: OpenJDK 64-Bit Server VM; Vendor: JetBrains s.r.o.\n",
      "2022-11-21 06:20:48,251 [   2567] SEVERE - #c.i.d.LoadingState - OS: Linux\n"
     ]
    },
    {
     "name": "stdout",
     "output_type": "stream",
     "text": [
      "Info  | RdCoroutineScope          | 28:JobScheduler FJ pool 3/3 | RdCoroutineHost overridden \n",
      "2022-11-21 06:20:53,527 [   7843]   WARN - #c.i.o.a.i.ActionUpdater - 551 ms to grab EDT for CWMTelephonyGroup#update@NavBarToolbar (com.jetbrains.rd.platform.codeWithMe.telephony.CWMTelephonyGroup)\n",
      "2022-11-21 06:20:53,972 [   8288]   WARN - #c.i.o.a.i.ActionUpdater - 226 ms to call on EDT SpaceMainToolBarAction#update@NavBarToolbar (com.intellij.space.vcs.actions.SpaceMainToolBarAction). Use `ActionUpdateThread.BGT`.\n",
      "2022-11-21 06:20:54,603 [   8919]   WARN - #c.i.o.a.i.ActionUpdater - 615 ms to grab EDT for SaveAsAction#update@MainMenu (com.intellij.ide.actions.SaveAsAction)\n",
      "2022-11-21 06:20:57,679 [  11995]   WARN - #c.i.o.a.i.ActionUpdater - 3050 ms to grab EDT for UndoAction#update@MainMenu (com.intellij.ide.actions.UndoAction)\n",
      "2022-11-21 06:20:57,681 [  11997]   WARN - #c.i.o.a.i.ActionUpdater - 2961 ms to grab EDT for RenameProjectAction#update@MainMenu (com.intellij.platform.renameProject.RenameProjectAction)\n",
      "2022-11-21 06:20:57,968 [  12284]   WARN - #c.i.o.a.i.ActionUpdater - 284 ms to grab EDT for RedoAction#update@MainMenu (com.intellij.ide.actions.RedoAction)\n",
      "2022-11-21 06:20:57,983 [  12299]   WARN - #c.i.o.a.i.ActionUpdater - 220 ms to grab EDT for #update@MainMenu (com.intellij.ide.actions.cache.CacheRecoveryActionGroup$toAnAction$1)\n",
      "2022-11-21 06:21:01,367 [  15683]   WARN - #c.i.u.x.Binding - no accessors for com.jetbrains.php.testFramework.PhpTestFrameworkType\n",
      "2022-11-21 06:21:02,418 [  16734]   WARN - #c.i.o.a.i.ActionUpdater - 3730 ms to grab EDT for AddToFavoritesActionGroup#update@MainMenu (com.intellij.ide.favoritesTreeView.actions.AddToFavoritesActionGroup)\n",
      "2022-11-21 06:21:03,362 [  17678]   WARN - #c.i.o.a.i.ActionUpdater - 3502 ms total to grab EDT 3 times to expand DefaultActionGroup@MainMenu (com.intellij.openapi.actionSystem.DefaultActionGroup). Use `ActionUpdateThread.BGT`.\n",
      "2022-11-21 06:21:07,355 [  21671]   WARN - #c.i.o.a.i.ActionUpdater - 8069 ms total to grab EDT 10 times to expand DefaultActionGroup@MainMenu (com.intellij.openapi.actionSystem.DefaultActionGroup). Use `ActionUpdateThread.BGT`.\n",
      "2022-11-21 06:21:07,624 [  21940]   WARN - #c.i.o.a.i.ActionUpdater - 4242 ms to grab EDT for ToolWindowsGroup#update@MainMenu (com.intellij.ide.actions.ToolWindowsGroup)\n",
      "2022-11-21 06:21:08,652 [  22968]   WARN - #c.i.o.a.i.ActionUpdater - 4242 ms total to grab EDT 1 times to expand DefaultCompactActionGroup@MainMenu (com.intellij.openapi.actionSystem.DefaultCompactActionGroup). Use `ActionUpdateThread.BGT`.\n",
      "2022-11-21 06:21:10,218 [  24534]   WARN - #c.i.o.a.i.ActionUpdater - 328 ms to grab EDT for CWMTelephonyGroup#update@NavBarToolbar (com.jetbrains.rd.platform.codeWithMe.telephony.CWMTelephonyGroup)\n",
      "2022-11-21 06:21:10,690 [  25006]   WARN - #c.i.o.a.i.ActionUpdater - 285 ms to grab EDT for CWMTelephonyGroup#update@NavBarToolbar (com.jetbrains.rd.platform.codeWithMe.telephony.CWMTelephonyGroup)\n",
      "2022-11-21 06:21:15,287 [  29603]   WARN - #c.i.o.a.i.ActionUpdater - 119 ms to call on EDT StepOverAction#update@MainMenu (com.intellij.xdebugger.impl.actions.StepOverAction). Use `ActionUpdateThread.BGT`.\n",
      "2022-11-21 06:21:18,830 [  33146]   WARN - #c.j.p.p.PharLibraryManager - Frequent root change. Source class com.jetbrains.php.phar.PharLibraryManager, delta 6235.\n",
      "Old roots: [phar:///home/student/php_2022_adam_lewinski/07_testing/02_exercise/project/vendor/bin/phpstan.phar/]\n",
      "New Roots: [phar:///home/student/php_2022_adam_lewinski/07_testing/02_exercise/project/vendor/bin/phpstan.phar/, phar:///home/student/php_2022_adam_lewinski/07_testing/02_exercise/project/vendor/phpstan/phpstan/phpstan.phar/]\n",
      "2022-11-21 06:28:11,109 [ 445425]   WARN - #c.i.o.a.e.ActionUtil - Can not find action by id CompileDirty\n",
      "2022-11-21 06:28:11,321 [ 445637]   WARN - #c.i.o.a.i.ActionUpdater - 278 ms to grab EDT for CollapseAllAction#update@ToolwindowTitle (com.intellij.ide.actions.CollapseAllAction)\n",
      "2022-11-21 06:28:11,322 [ 445638]   WARN - #c.i.o.a.i.ActionUpdater - 277 ms to grab EDT for SpaceMainToolBarAction#update@NavBarToolbar (com.intellij.space.vcs.actions.SpaceMainToolBarAction)\n",
      "2022-11-21 06:28:58,309 [ 492625]   WARN - #c.i.u.x.Binding - no accessors for org.jetbrains.idea.perforce.perforce.ConnectionId\n"
     ]
    }
   ],
   "source": [
    "! phpstorm project"
   ]
  },
  {
   "cell_type": "markdown",
   "metadata": {},
   "source": [
    "You can test your solution using included tests:"
   ]
  },
  {
   "cell_type": "code",
   "execution_count": 66,
   "metadata": {},
   "outputs": [
    {
     "name": "stdout",
     "output_type": "stream",
     "text": [
      "/home/student/php_2022_adam_lewinski/07_testing/02_exercise/project\n"
     ]
    }
   ],
   "source": [
    "%cd project"
   ]
  },
  {
   "cell_type": "code",
   "execution_count": 67,
   "metadata": {},
   "outputs": [
    {
     "name": "stdout",
     "output_type": "stream",
     "text": [
      "\u001b[32mInstalling dependencies from lock file (including require-dev)\u001b[39m\n",
      "\u001b[32mVerifying lock file contents can be installed on current platform.\u001b[39m\n",
      "Nothing to install, update or remove\n",
      "\u001b[32mGenerating autoload files\u001b[39m\n",
      "\u001b[32m60 packages you are using are looking for funding.\u001b[39m\n",
      "\u001b[32mUse the `composer fund` command to find out more!\u001b[39m\n"
     ]
    }
   ],
   "source": [
    "! composer install"
   ]
  },
  {
   "cell_type": "code",
   "execution_count": 68,
   "metadata": {},
   "outputs": [
    {
     "name": "stdout",
     "output_type": "stream",
     "text": [
      "\u001b[32mBuilding Actor classes for suites: Acceptance, Unit\u001b[39m\n",
      " -> AcceptanceTesterActions.php generated successfully. 241 methods added\n",
      "\u001b[32mTests\\AcceptanceTester\u001b[39m includes modules: PhpBrowser, Filesystem, Asserts, Db, Redis\n",
      " -> UnitTesterActions.php generated successfully. 137 methods added\n",
      "\u001b[32mTests\\UnitTester\u001b[39m includes modules: Asserts\n"
     ]
    }
   ],
   "source": [
    "! vendor/bin/codecept build"
   ]
  },
  {
   "cell_type": "code",
   "execution_count": 69,
   "metadata": {
    "scrolled": true
   },
   "outputs": [
    {
     "name": "stdout",
     "output_type": "stream",
     "text": [
      "Loaded config \u001b[33mdefault\u001b[39m from \"/home/student/php_2022_adam_lewinski/07_testing/02_exercise/project/./.php-cs-fixer.dist.php\".\n",
      "Using cache file \".php-cs-fixer.cache\".\n",
      "   1) view/auth/register.php\n",
      "\u001b[33m      ---------- begin diff ----------\u001b[39m\n",
      "\u001b[31m--- /home/student/php_2022_adam_lewinski/07_testing/02_exercise/project/view/auth/register.php\u001b[39m\n",
      "\u001b[32m+++ /home/student/php_2022_adam_lewinski/07_testing/02_exercise/project/view/auth/register.php\u001b[39m\n",
      "\u001b[36m@@ -1,7 +1,7 @@\u001b[39m\n",
      " <h2>Register</h2>\n",
      " \n",
      " <?php\n",
      "\u001b[31m-if(isset($_POST[\"id\"])){\u001b[39m\n",
      "\u001b[32m+if (isset($_POST[\"id\"])) {\u001b[39m\n",
      "     $names = array(\"id\", \"name\", \"surname\", \"email\", \"password\", \"password_confirmation\");\n",
      "     $flag = 0;\n",
      "     $flags = array(0,0,0,0,0,0,0);\n",
      "\u001b[36m@@ -23,19 +23,18 @@\u001b[39m\n",
      "     if ($flag) {\n",
      "         echo \"<ul>\";\n",
      "         for ($i = 0; $i<5; ++$i) {\n",
      "\u001b[31m-            if($flags[$i]) {\u001b[39m\n",
      "\u001b[32m+            if ($flags[$i]) {\u001b[39m\n",
      "                 echo sprintf(\"<li class='error'>The %s filed cannot be empty</li>\", $names[$i]);\n",
      "             }\n",
      "         }\n",
      "\u001b[31m-        if($flags[5]) {\u001b[39m\n",
      "\u001b[32m+        if ($flags[5]) {\u001b[39m\n",
      "             echo \"<li class='error'>The password confirmation filed cannot be empty</li>\";\n",
      "         }\n",
      "\u001b[31m-        if($flags[6]) {\u001b[39m\n",
      "\u001b[32m+        if ($flags[6]) {\u001b[39m\n",
      "             echo \"<li class='error'>The password confirmation filed does not match the password field</li>\";\n",
      "         }\n",
      "         echo \"</ul>\";\n",
      "     }\n",
      "\u001b[31m-\u001b[39m\n",
      " }\n",
      " \n",
      " ?>\n",
      "\n",
      "\u001b[33m      ----------- end diff -----------\u001b[39m\n",
      "\n",
      "\n",
      "Checked all files in 0.071 seconds, 14.000 MB memory used\n"
     ]
    }
   ],
   "source": [
    "! vendor/bin/php-cs-fixer fix --diff --dry-run ."
   ]
  },
  {
   "cell_type": "code",
   "execution_count": 70,
   "metadata": {},
   "outputs": [
    {
     "name": "stdout",
     "output_type": "stream",
     "text": [
      "  0/64 [░░░░░░░░░░░░░░░░░░░░░░░░░░░░]   0%\u001b[1G\u001b[2K 64/64 [▓▓▓▓▓▓▓▓▓▓▓▓▓▓▓▓▓▓▓▓▓▓▓▓▓▓▓▓] 100%\n",
      "\n",
      " ------ -------------------------------------------------------------------- \n",
      "  \u001b[32mLine\u001b[39m   \u001b[32mtests/Acceptance/Test10_RegisterConfirmCest.php\u001b[39m                     \n",
      " ------ -------------------------------------------------------------------- \n",
      "  17     Class Model\\User constructor invoked with 1 parameter, 5 required.  \n",
      " ------ -------------------------------------------------------------------- \n",
      "\n",
      " ------ -------------------------------------------------------------------- \n",
      "  \u001b[32mLine\u001b[39m   \u001b[32mtests/Acceptance/Test12_LoginWrongPasswordCest.php\u001b[39m                  \n",
      " ------ -------------------------------------------------------------------- \n",
      "  22     Class Model\\User constructor invoked with 1 parameter, 5 required.  \n",
      " ------ -------------------------------------------------------------------- \n",
      "\n",
      " ------ -------------------------------------------------------------------- \n",
      "  \u001b[32mLine\u001b[39m   \u001b[32mtests/Acceptance/Test13_LoginNotConfirmedCest.php\u001b[39m                   \n",
      " ------ -------------------------------------------------------------------- \n",
      "  21     Class Model\\User constructor invoked with 1 parameter, 5 required.  \n",
      " ------ -------------------------------------------------------------------- \n",
      "\n",
      " ------ -------------------------------------------------------------------- \n",
      "  \u001b[32mLine\u001b[39m   \u001b[32mtests/Acceptance/Test14_LoginLogoutSeeHiddenContentCest.php\u001b[39m         \n",
      " ------ -------------------------------------------------------------------- \n",
      "  17     Class Model\\User constructor invoked with 1 parameter, 5 required.  \n",
      "  24     Property Model\\User::$token (string) does not accept null.          \n",
      " ------ -------------------------------------------------------------------- \n",
      "\n",
      " ------ -------------------------------------------------------------------- \n",
      "  \u001b[32mLine\u001b[39m   \u001b[32mview/auth/index.php\u001b[39m                                                 \n",
      " ------ -------------------------------------------------------------------- \n",
      "  1      File ends with a trailing whitespace. This may cause problems when  \n",
      "         running the code in the web browser. Remove the closing ?> mark or  \n",
      "         remove the whitespace.                                              \n",
      " ------ -------------------------------------------------------------------- \n",
      "\n",
      "\u001b[37;41m                                                                                \u001b[39;49m\n",
      "\u001b[37;41m [ERROR] Found 6 errors                                                         \u001b[39;49m\n",
      "\u001b[37;41m                                                                                \u001b[39;49m\n",
      "\n"
     ]
    }
   ],
   "source": [
    "! vendor/bin/phpstan analyze --xdebug -c phpstan.neon"
   ]
  },
  {
   "cell_type": "code",
   "execution_count": 71,
   "metadata": {},
   "outputs": [
    {
     "name": "stdout",
     "output_type": "stream",
     "text": [
      "phpcpd 6.0.3 by Sebastian Bergmann.\n",
      "\n",
      "No clones found.\n",
      "\n",
      "Time: 00:00.036, Memory: 4.00 MB\n"
     ]
    }
   ],
   "source": [
    "! vendor/bin/phpcpd . --fuzzy --min-lines 1 --min-tokens 20 --exclude vendor --exclude tests"
   ]
  },
  {
   "cell_type": "code",
   "execution_count": 72,
   "metadata": {},
   "outputs": [
    {
     "name": "stdout",
     "output_type": "stream",
     "text": [
      "Codeception PHP Testing Framework v5.0.4 https://helpukrainewin.org\n",
      "\n",
      "\u001b[1mTests.Unit Tests (24) \u001b[22m----------------------------------------------------------\n",
      "\u001b[32;1m✔\u001b[39;22m \u001b[35;1mTest00_StringEditorCest:\u001b[39;22m Create \u001b[32m(0.00s)\u001b[39m\n",
      "\u001b[32;1m✔\u001b[39;22m \u001b[35;1mTest00_StringEditorCest:\u001b[39;22m Replace word \u001b[32m(0.00s)\u001b[39m\n",
      "\u001b[32;1m✔\u001b[39;22m \u001b[35;1mTest00_StringEditorCest:\u001b[39;22m Lowercase \u001b[32m(0.00s)\u001b[39m\n",
      "\u001b[32;1m✔\u001b[39;22m \u001b[35;1mTest00_StringEditorCest:\u001b[39;22m Uppercase \u001b[32m(0.00s)\u001b[39m\n",
      "\u001b[32;1m✔\u001b[39;22m \u001b[35;1mTest00_StringEditorCest:\u001b[39;22m Replace and upper case \u001b[32m(0.00s)\u001b[39m\n",
      "\u001b[32;1m✔\u001b[39;22m \u001b[35;1mTest00_StringEditorCest:\u001b[39;22m Censor word \u001b[32m(0.00s)\u001b[39m\n",
      "\u001b[32;1m✔\u001b[39;22m \u001b[35;1mTest00_StringEditorCest:\u001b[39;22m Censor short and long words \u001b[32m(0.00s)\u001b[39m\n",
      "\u001b[32;1m✔\u001b[39;22m \u001b[35;1mTest00_StringEditorCest:\u001b[39;22m Repeat word \u001b[32m(0.00s)\u001b[39m\n",
      "\u001b[32;1m✔\u001b[39;22m \u001b[35;1mTest00_StringEditorCest:\u001b[39;22m Remove word \u001b[32m(0.00s)\u001b[39m\n",
      "\u001b[32;1m✔\u001b[39;22m \u001b[35;1mTest00_StringEditorCest:\u001b[39;22m Edit sentence \u001b[32m(0.00s)\u001b[39m\n",
      "\u001b[32;1m✔\u001b[39;22m \u001b[35;1mTest01_RingBufferCest:\u001b[39;22m Create \u001b[32m(0.00s)\u001b[39m\n",
      "\u001b[32;1m✔\u001b[39;22m \u001b[35;1mTest01_RingBufferCest:\u001b[39;22m Should be empty \u001b[32m(0.00s)\u001b[39m\n",
      "\u001b[32;1m✔\u001b[39;22m \u001b[35;1mTest01_RingBufferCest:\u001b[39;22m Capacity \u001b[32m(0.00s)\u001b[39m\n",
      "\u001b[32;1m✔\u001b[39;22m \u001b[35;1mTest01_RingBufferCest:\u001b[39;22m Size should be zero when empty \u001b[32m(0.00s)\u001b[39m\n",
      "\u001b[32;1m✔\u001b[39;22m \u001b[35;1mTest01_RingBufferCest:\u001b[39;22m Push value size should increase \u001b[32m(0.00s)\u001b[39m\n",
      "\u001b[32;1m✔\u001b[39;22m \u001b[35;1mTest01_RingBufferCest:\u001b[39;22m Empty should be false when full \u001b[32m(0.00s)\u001b[39m\n",
      "\u001b[32;1m✔\u001b[39;22m \u001b[35;1mTest01_RingBufferCest:\u001b[39;22m Pop from empty \u001b[32m(0.00s)\u001b[39m\n",
      "\u001b[32;1m✔\u001b[39;22m \u001b[35;1mTest01_RingBufferCest:\u001b[39;22m Push and pop single value \u001b[32m(0.00s)\u001b[39m\n",
      "\u001b[32;1m✔\u001b[39;22m \u001b[35;1mTest01_RingBufferCest:\u001b[39;22m Pop should reduce size \u001b[32m(0.00s)\u001b[39m\n",
      "\u001b[32;1m✔\u001b[39;22m \u001b[35;1mTest01_RingBufferCest:\u001b[39;22m Back should not change buffer \u001b[32m(0.00s)\u001b[39m\n",
      "\u001b[32;1m✔\u001b[39;22m \u001b[35;1mTest01_RingBufferCest:\u001b[39;22m Push multiple times \u001b[32m(0.00s)\u001b[39m\n",
      "\u001b[32;1m✔\u001b[39;22m \u001b[35;1mTest01_RingBufferCest:\u001b[39;22m Multi item buffer \u001b[32m(0.00s)\u001b[39m\n",
      "\u001b[32;1m✔\u001b[39;22m \u001b[35;1mTest01_RingBufferCest:\u001b[39;22m Push and pop all values \u001b[32m(0.00s)\u001b[39m\n",
      "\u001b[32;1m✔\u001b[39;22m \u001b[35;1mTest01_RingBufferCest:\u001b[39;22m Access values by index \u001b[32m(0.00s)\u001b[39m\n",
      "--------------------------------------------------------------------------------\n",
      "Time: 00:00.120, Memory: 8.00 MB\n",
      "\n",
      "\u001b[30;42mOK (24 tests, 75 assertions)\u001b[39;49m\n"
     ]
    }
   ],
   "source": [
    "! vendor/bin/codecept run Unit"
   ]
  },
  {
   "cell_type": "code",
   "execution_count": 73,
   "metadata": {},
   "outputs": [],
   "source": [
    "import subprocess\n",
    "phpServer = subprocess.Popen(['php', '-S', 'localhost:8888', '-t', 'public'])"
   ]
  },
  {
   "cell_type": "code",
   "execution_count": 74,
   "metadata": {},
   "outputs": [
    {
     "name": "stderr",
     "output_type": "stream",
     "text": [
      "[Mon Nov 21 05:52:30 2022] PHP 8.1.12 Development Server (http://localhost:8888) started\n"
     ]
    },
    {
     "name": "stdout",
     "output_type": "stream",
     "text": [
      "Done.\r\n"
     ]
    },
    {
     "name": "stderr",
     "output_type": "stream",
     "text": [
      "[Mon Nov 21 05:52:31 2022] [::1]:58160 Accepted\n",
      "[Mon Nov 21 05:52:31 2022] [::1]:58160 Closed without sending a request; it was probably just an unused speculative preconnection\n",
      "[Mon Nov 21 05:52:31 2022] [::1]:58160 Closing\n"
     ]
    }
   ],
   "source": [
    "! while ! timeout 1 bash -c \"echo > /dev/tcp/localhost/8888\" 2> /dev/null; do sleep 1; done; echo \"Done.\";"
   ]
  },
  {
   "cell_type": "code",
   "execution_count": 75,
   "metadata": {},
   "outputs": [
    {
     "name": "stdout",
     "output_type": "stream",
     "text": [
      "Codeception PHP Testing Framework v5.0.4 https://helpukrainewin.org\n",
      "\n",
      "\u001b[1mTests.Acceptance Tests (15) \u001b[22m----------------------------------------------------\n",
      "- \u001b[35;1mTest00_PrettyUrlCest:\u001b[39;22m Test"
     ]
    },
    {
     "name": "stderr",
     "output_type": "stream",
     "text": [
      "[Mon Nov 21 05:52:31 2022] [::1]:58168 Accepted\n",
      "[Mon Nov 21 05:52:31 2022] [::1]:58168 [200]: GET /\n",
      "[Mon Nov 21 05:52:31 2022] [::1]:58168 Closing\n",
      "[Mon Nov 21 05:52:31 2022] [::1]:58172 Accepted\n",
      "[Mon Nov 21 05:52:31 2022] [::1]:58172 [200]: GET /home\n",
      "[Mon Nov 21 05:52:31 2022] [::1]:58172 Closing\n",
      "[Mon Nov 21 05:52:31 2022] [::1]:58180 Accepted\n",
      "[Mon Nov 21 05:52:31 2022] [::1]:58180 [200]: GET /about\n",
      "[Mon Nov 21 05:52:31 2022] [::1]:58180 Closing\n",
      "[Mon Nov 21 05:52:31 2022] [::1]:58190 Accepted\n",
      "[Mon Nov 21 05:52:31 2022] [::1]:58190 [200]: GET /users\n",
      "[Mon Nov 21 05:52:31 2022] [::1]:58190 Closing\n",
      "[Mon Nov 21 05:52:31 2022] [::1]:58204 Accepted\n",
      "[Mon Nov 21 05:52:31 2022] [::1]:58204 [200]: GET /users/1\n",
      "[Mon Nov 21 05:52:31 2022] [::1]:58204 Closing\n",
      "[Mon Nov 21 05:52:31 2022] [::1]:58214 Accepted\n",
      "[Mon Nov 21 05:52:31 2022] [::1]:58214 [200]: GET /users\n",
      "[Mon Nov 21 05:52:31 2022] [::1]:58214 Closing\n",
      "[Mon Nov 21 05:52:31 2022] [::1]:58222 Accepted\n",
      "[Mon Nov 21 05:52:31 2022] [::1]:58222 [200]: GET /users/2\n",
      "[Mon Nov 21 05:52:31 2022] [::1]:58222 Closing\n",
      "[Mon Nov 21 05:52:31 2022] [::1]:58224 Accepted\n",
      "[Mon Nov 21 05:52:31 2022] [::1]:58224 [200]: GET /users\n",
      "[Mon Nov 21 05:52:31 2022] [::1]:58224 Closing\n",
      "[Mon Nov 21 05:52:31 2022] [::1]:58236 Accepted\n",
      "[Mon Nov 21 05:52:31 2022] [::1]:58236 [200]: GET /users/3\n",
      "[Mon Nov 21 05:52:31 2022] [::1]:58236 Closing\n"
     ]
    },
    {
     "name": "stdout",
     "output_type": "stream",
     "text": [
      "\u001b[32;1m✔\u001b[39;22m \u001b[35;1mTest00_PrettyUrlCest:\u001b[39;22m Test \u001b[32m(0.20s)\u001b[39m\n",
      "\u001b[32;1m✔\u001b[39;22m \u001b[35;1mTest01_FileStorageCest:\u001b[39;22m Test \u001b[32m(0.03s)\u001b[39m\n",
      "\u001b[32;1m✔\u001b[39;22m \u001b[35;1mTest02_SessionStorageCest:\u001b[39;22m Test \u001b[32m(0.02s)\u001b[39m\n",
      "\u001b[32;1m✔\u001b[39;22m \u001b[35;1mTest03_SQLiteStorageCest:\u001b[39;22m Test \u001b[32m(0.09s)\u001b[39m\n",
      "- \u001b[35;1mTest04_MySQLStorageCest:\u001b[39;22m Test"
     ]
    },
    {
     "name": "stderr",
     "output_type": "stream",
     "text": [
      "[Mon Nov 21 05:52:32 2022] [::1]:58250 Accepted\n",
      "[Mon Nov 21 05:52:32 2022] [::1]:58250 [200]: GET /demo/file\n",
      "[Mon Nov 21 05:52:32 2022] [::1]:58250 Closing\n",
      "[Mon Nov 21 05:52:32 2022] [::1]:58264 Accepted\n",
      "[Mon Nov 21 05:52:32 2022] [::1]:58264 [200]: GET /demo/session\n",
      "[Mon Nov 21 05:52:32 2022] [::1]:58264 Closing\n",
      "[Mon Nov 21 05:52:32 2022] [::1]:58270 Accepted\n",
      "[Mon Nov 21 05:52:32 2022] [::1]:58270 [200]: GET /demo/sqlite\n",
      "[Mon Nov 21 05:52:32 2022] [::1]:58270 Closing\n",
      "[Mon Nov 21 05:52:32 2022] [::1]:58272 Accepted\n"
     ]
    },
    {
     "name": "stdout",
     "output_type": "stream",
     "text": [
      "\u001b[32;1m✔\u001b[39;22m \u001b[35;1mTest04_MySQLStorageCest:\u001b[39;22m Test \u001b[32m(0.25s)\u001b[39m\n",
      "\u001b[32;1m✔\u001b[39;22m \u001b[35;1mTest05_RedisStorageCest:\u001b[39;22m Test \u001b[32m(0.05s)\u001b[39m\n",
      "- \u001b[35;1mTest06_HomepageCest:\u001b[39;22m See welcome message on homepage"
     ]
    },
    {
     "name": "stderr",
     "output_type": "stream",
     "text": [
      "[Mon Nov 21 05:52:32 2022] [::1]:58272 [200]: GET /demo/mysql\n",
      "[Mon Nov 21 05:52:32 2022] [::1]:58272 Closing\n",
      "[Mon Nov 21 05:52:32 2022] [::1]:58278 Accepted\n",
      "[Mon Nov 21 05:52:32 2022] [::1]:58278 [200]: GET /demo/mysql\n",
      "[Mon Nov 21 05:52:32 2022] [::1]:58278 Closing\n",
      "[Mon Nov 21 05:52:32 2022] [::1]:58280 Accepted\n",
      "[Mon Nov 21 05:52:32 2022] [::1]:58280 [200]: GET /demo/redis\n",
      "[Mon Nov 21 05:52:32 2022] [::1]:58280 Closing\n"
     ]
    },
    {
     "name": "stdout",
     "output_type": "stream",
     "text": [
      "\r",
      "\u001b[32;1m✔\u001b[39;22m \u001b[35;1mTest06_HomepageCest:\u001b[39;22m See login and register links \u001b[32m(0.10s)\u001b[39m\r\n",
      "- \u001b[35;1mTest07_RegisterCest:\u001b[39;22m Register new user"
     ]
    },
    {
     "name": "stderr",
     "output_type": "stream",
     "text": [
      "[Mon Nov 21 05:52:32 2022] [::1]:58296 Accepted\n",
      "[Mon Nov 21 05:52:32 2022] [::1]:58296 [200]: GET /\n",
      "[Mon Nov 21 05:52:32 2022] [::1]:58296 Closing\n",
      "[Mon Nov 21 05:52:32 2022] [::1]:58304 Accepted\n",
      "[Mon Nov 21 05:52:32 2022] [::1]:58304 [200]: GET /home\n",
      "[Mon Nov 21 05:52:32 2022] [::1]:58304 Closing\n",
      "[Mon Nov 21 05:52:32 2022] [::1]:58312 Accepted\n",
      "[Mon Nov 21 05:52:32 2022] [::1]:58312 [200]: GET /\n",
      "[Mon Nov 21 05:52:32 2022] [::1]:58312 Closing\n",
      "[Mon Nov 21 05:52:32 2022] [::1]:58320 Accepted\n",
      "[Mon Nov 21 05:52:32 2022] [::1]:58320 [200]: GET /auth/register\n",
      "[Mon Nov 21 05:52:32 2022] [::1]:58320 Closing\n",
      "[Mon Nov 21 05:52:32 2022] [::1]:58330 Accepted\n",
      "[Mon Nov 21 05:52:32 2022] [::1]:58330 [302]: POST /auth/register\n",
      "[Mon Nov 21 05:52:32 2022] [::1]:58330 Closing\n",
      "[Mon Nov 21 05:52:32 2022] [::1]:58336 Accepted\n",
      "[Mon Nov 21 05:52:32 2022] [::1]:58336 [200]: GET /auth/confirmation_notice\n",
      "[Mon Nov 21 05:52:32 2022] [::1]:58336 Closing\n"
     ]
    },
    {
     "name": "stdout",
     "output_type": "stream",
     "text": [
      "\u001b[32;1m✔\u001b[39;22m \u001b[35;1mTest07_RegisterCest:\u001b[39;22m Register new user \u001b[32m(0.45s)\u001b[39m\n",
      "\u001b[32;1m✔\u001b[39;22m \u001b[35;1mTest08_RegisterValidationCest:\u001b[39;22m Validate data entered during registration \u001b[32m(0.21s)\u001b[39m\n",
      "- \u001b[35;1mTest09_RegisterRememberFieldsCest:\u001b[39;22m Remember data entered during registration when validation error is present"
     ]
    },
    {
     "name": "stderr",
     "output_type": "stream",
     "text": [
      "[Mon Nov 21 05:52:33 2022] [::1]:58346 Accepted\n",
      "[Mon Nov 21 05:52:33 2022] [::1]:58346 [200]: GET /auth/register\n",
      "[Mon Nov 21 05:52:33 2022] [::1]:58346 Closing\n",
      "[Mon Nov 21 05:52:33 2022] [::1]:58354 Accepted\n",
      "[Mon Nov 21 05:52:33 2022] [::1]:58354 [200]: POST /auth/register\n",
      "[Mon Nov 21 05:52:33 2022] [::1]:58354 Closing\n",
      "[Mon Nov 21 05:52:33 2022] [::1]:58368 Accepted\n",
      "[Mon Nov 21 05:52:33 2022] [::1]:58368 [200]: POST /auth/register\n",
      "[Mon Nov 21 05:52:33 2022] [::1]:58368 Closing\n",
      "[Mon Nov 21 05:52:33 2022] [::1]:58378 Accepted\n",
      "[Mon Nov 21 05:52:33 2022] [::1]:58378 [200]: GET /auth/register\n",
      "[Mon Nov 21 05:52:33 2022] [::1]:58378 Closing\n",
      "[Mon Nov 21 05:52:33 2022] [::1]:58388 Accepted\n",
      "[Mon Nov 21 05:52:33 2022] [::1]:58388 [200]: POST /auth/register\n",
      "[Mon Nov 21 05:52:33 2022] [::1]:58388 Closing\n",
      "[Mon Nov 21 05:52:33 2022] [::1]:58394 Accepted\n",
      "[Mon Nov 21 05:52:33 2022] [::1]:58394 [200]: POST /auth/register\n",
      "[Mon Nov 21 05:52:33 2022] [::1]:58394 Closing\n"
     ]
    },
    {
     "name": "stdout",
     "output_type": "stream",
     "text": [
      "\r",
      "\u001b[32;1m✔\u001b[39;22m \u001b[35;1mTest09_RegisterRememberFieldsCest:\u001b[39;22m Remember data entered during registration when validation error is present \u001b[32m(0.27s)\u001b[39m\r\n",
      "- \u001b[35;1mTest10_RegisterConfirmCest:\u001b[39;22m Confirm user using link"
     ]
    },
    {
     "name": "stderr",
     "output_type": "stream",
     "text": [
      "[Mon Nov 21 05:52:33 2022] [::1]:58410 Accepted\n",
      "[Mon Nov 21 05:52:33 2022] [::1]:58410 [200]: POST /auth/register\n",
      "[Mon Nov 21 05:52:33 2022] [::1]:58410 Closing\n",
      "[Mon Nov 21 05:52:33 2022] [::1]:58426 Accepted\n",
      "[Mon Nov 21 05:52:33 2022] [::1]:58426 [200]: POST /auth/register\n",
      "[Mon Nov 21 05:52:33 2022] [::1]:58426 Closing\n",
      "[Mon Nov 21 05:52:33 2022] [::1]:58436 Accepted\n",
      "[Mon Nov 21 05:52:33 2022] [::1]:58436 [200]: POST /auth/register\n",
      "[Mon Nov 21 05:52:33 2022] [::1]:58436 Closing\n",
      "[Mon Nov 21 05:52:33 2022] [::1]:58442 Accepted\n",
      "[Mon Nov 21 05:52:33 2022] [::1]:58442 [200]: GET /auth/register\n",
      "[Mon Nov 21 05:52:33 2022] [::1]:58442 Closing\n"
     ]
    },
    {
     "name": "stdout",
     "output_type": "stream",
     "text": [
      "\u001b[31;1mE\u001b[39;22m \u001b[35;1mTest10_RegisterConfirmCest:\u001b[39;22m Confirm user using link \u001b[32m(0.08s)\u001b[39m\n",
      "\u001b[31;1m✖\u001b[39;22m \u001b[35;1mTest11_LoginNotExistingCest:\u001b[39;22m See error when user does not exists \u001b[32m(0.10s)\u001b[39m\n",
      "\u001b[31;1m✖\u001b[39;22m \u001b[35;1mTest12_LoginWrongPasswordCest:\u001b[39;22m See error when wrong password is entered \u001b[32m(0.09s)\u001b[39m\n",
      "- \u001b[35;1mTest13_LoginNotConfirmedCest:\u001b[39;22m Be remained about email confirmation when trying to login"
     ]
    },
    {
     "name": "stderr",
     "output_type": "stream",
     "text": [
      "[Mon Nov 21 05:52:33 2022] [::1]:58448 Accepted\n",
      "[Mon Nov 21 05:52:33 2022] [::1]:58448 [200]: GET /auth/login\n",
      "[Mon Nov 21 05:52:33 2022] [::1]:58448 Closing\n",
      "[Mon Nov 21 05:52:33 2022] [::1]:58458 Accepted\n",
      "[Mon Nov 21 05:52:33 2022] [::1]:58458 [200]: GET /auth/login\n",
      "[Mon Nov 21 05:52:33 2022] [::1]:58458 Closing\n",
      "[Mon Nov 21 05:52:33 2022] [::1]:51730 Accepted\n",
      "[Mon Nov 21 05:52:33 2022] [::1]:51730 [200]: GET /auth/login\n",
      "[Mon Nov 21 05:52:33 2022] [::1]:51730 Closing\n"
     ]
    },
    {
     "name": "stdout",
     "output_type": "stream",
     "text": [
      "\u001b[31;1m✖\u001b[39;22m \u001b[35;1mTest13_LoginNotConfirmedCest:\u001b[39;22m Be remained about email confirmation when trying to login \u001b[32m(0.07s)\u001b[39m\n",
      "\u001b[31;1mE\u001b[39;22m \u001b[35;1mTest14_LoginLogoutSeeHiddenContentCest:\u001b[39;22m See hidden content after login \u001b[32m(0.06s)\u001b[39m\n",
      "--------------------------------------------------------------------------------\n",
      "Time: 00:02.238, Memory: 12.00 MB\n",
      "\n",
      "There were 2 errors:\n",
      "1) \u001b[35;1mTest10_RegisterConfirmCest:\u001b[39;22m Confirm user using link\n",
      "\u001b[37;41;1m Test  \u001b[39;49;22mtests/Acceptance/Test10_RegisterConfirmCest.php:test\n",
      "\u001b[37;41;1m                                                                                                                                                                                                                                                   \u001b[39;49;22m\n",
      "\u001b[37;41;1m  [ArgumentCountError] Too few arguments to function Model\\User::__construct(), 1 passed in /home/student/php_2022_adam_lewinski/07_testing/02_exercise/project/tests/Acceptance/Test10_RegisterConfirmCest.php on line 17 and exactly 5 expected  \u001b[39;49;22m\n",
      "\u001b[37;41;1m                                                                                                                                                                                                                                                   \u001b[39;49;22m\n",
      "#1  /home/student/php_2022_adam_lewinski/07_testing/02_exercise/project/src/Model/User.php:15\n",
      "#2  /home/student/php_2022_adam_lewinski/07_testing/02_exercise/project/tests/Acceptance/Test10_RegisterConfirmCest.php:17\n",
      "#3  Tests\\Acceptance\\Test10_RegisterConfirmCest->test\n",
      "#4  /home/student/php_2022_adam_lewinski/07_testing/02_exercise/project/vendor/bin/codecept:120\n",
      "2) \u001b[35;1mTest14_LoginLogoutSeeHiddenContentCest:\u001b[39;22m See hidden content after login\n",
      "\u001b[37;41;1m Test  \u001b[39;49;22mtests/Acceptance/Test14_LoginLogoutSeeHiddenContentCest.php:test\n",
      "\u001b[37;41;1m                                                                                                                                                                                                                                                               \u001b[39;49;22m\n",
      "\u001b[37;41;1m  [ArgumentCountError] Too few arguments to function Model\\User::__construct(), 1 passed in /home/student/php_2022_adam_lewinski/07_testing/02_exercise/project/tests/Acceptance/Test14_LoginLogoutSeeHiddenContentCest.php on line 17 and exactly 5 expected  \u001b[39;49;22m\n",
      "\u001b[37;41;1m                                                                                                                                                                                                                                                               \u001b[39;49;22m\n",
      "#1  /home/student/php_2022_adam_lewinski/07_testing/02_exercise/project/src/Model/User.php:15\n",
      "#2  /home/student/php_2022_adam_lewinski/07_testing/02_exercise/project/tests/Acceptance/Test14_LoginLogoutSeeHiddenContentCest.php:17\n",
      "#3  Tests\\Acceptance\\Test14_LoginLogoutSeeHiddenContentCest->test\n",
      "#4  /home/student/php_2022_adam_lewinski/07_testing/02_exercise/project/vendor/bin/codecept:120\n",
      "\n",
      "---------\n",
      "\n",
      "There were 3 failures:\n",
      "1) \u001b[35;1mTest11_LoginNotExistingCest:\u001b[39;22m See error when user does not exists\n",
      "\u001b[37;41;1m Test  \u001b[39;49;22mtests/Acceptance/Test11_LoginNotExistingCest.php:test\n",
      "\u001b[37;41;1m Step \u001b[39;49;22m See in title \"Login\"\n",
      "\u001b[37;41;1m Fail \u001b[39;49;22m page title contains Login\n",
      "Failed asserting that '404' contains \"Login\".\n",
      "\u001b[33m\n",
      "Scenario Steps:\n",
      "\u001b[39m\n",
      "\u001b[1m 2. $I->seeInTitle(\"Login\")\u001b[22m at \u001b[32mtests/Acceptance/Test11_LoginNotExistingCest.php:18\u001b[39m\n",
      " 1. $I->amOnPage(\"/auth/login\") at \u001b[32mtests/Acceptance/Test11_LoginNotExistingCest.php:16\u001b[39m\n",
      "\n",
      "\u001b[33mArtifacts:\u001b[39m\n",
      "\n",
      "Html: \u001b[36m/home/student/php_2022_adam_lewinski/07_testing/02_exercise/project/tests/_output/Tests.Acceptance.Test11_LoginNotExistingCest.test.fail.html\u001b[39m\n",
      "Response: \u001b[36m/home/student/php_2022_adam_lewinski/07_testing/02_exercise/project/tests/_output/Tests.Acceptance.Test11_LoginNotExistingCest.test.fail.html\u001b[39m\n",
      "2) \u001b[35;1mTest12_LoginWrongPasswordCest:\u001b[39;22m See error when wrong password is entered\n",
      "\u001b[37;41;1m Test  \u001b[39;49;22mtests/Acceptance/Test12_LoginWrongPasswordCest.php:test\n",
      "page title contains Login\n",
      "Failed asserting that '404' contains \"Login\".\n",
      "\u001b[33m\n",
      "Scenario Steps:\n",
      "\u001b[39m\n",
      "\u001b[1m 2. $I->seeInTitle(\"Login\")\u001b[22m at \u001b[32mtests/Acceptance/Test12_LoginWrongPasswordCest.php:19\u001b[39m\n",
      " 1. $I->amOnPage(\"/auth/login\") at \u001b[32mtests/Acceptance/Test12_LoginWrongPasswordCest.php:17\u001b[39m\n",
      "\n",
      "\u001b[33mArtifacts:\u001b[39m\n",
      "\n",
      "Html: \u001b[36m/home/student/php_2022_adam_lewinski/07_testing/02_exercise/project/tests/_output/Tests.Acceptance.Test12_LoginWrongPasswordCest.test.fail.html\u001b[39m\n",
      "Response: \u001b[36m/home/student/php_2022_adam_lewinski/07_testing/02_exercise/project/tests/_output/Tests.Acceptance.Test12_LoginWrongPasswordCest.test.fail.html\u001b[39m\n",
      "3) \u001b[35;1mTest13_LoginNotConfirmedCest:\u001b[39;22m Be remained about email confirmation when trying to login\n",
      "\u001b[37;41;1m Test  \u001b[39;49;22mtests/Acceptance/Test13_LoginNotConfirmedCest.php:test\n",
      "page title contains Login\n",
      "Failed asserting that '404' contains \"Login\".\n",
      "\u001b[33m\n",
      "Scenario Steps:\n",
      "\u001b[39m\n",
      "\u001b[1m 2. $I->seeInTitle(\"Login\")\u001b[22m at \u001b[32mtests/Acceptance/Test13_LoginNotConfirmedCest.php:18\u001b[39m\n",
      " 1. $I->amOnPage(\"/auth/login\") at \u001b[32mtests/Acceptance/Test13_LoginNotConfirmedCest.php:16\u001b[39m\n",
      "\n",
      "\u001b[33mArtifacts:\u001b[39m\n",
      "\n",
      "Html: \u001b[36m/home/student/php_2022_adam_lewinski/07_testing/02_exercise/project/tests/_output/Tests.Acceptance.Test13_LoginNotConfirmedCest.test.fail.html\u001b[39m\n",
      "Response: \u001b[36m/home/student/php_2022_adam_lewinski/07_testing/02_exercise/project/tests/_output/Tests.Acceptance.Test13_LoginNotConfirmedCest.test.fail.html\u001b[39m\n",
      "\n",
      "\u001b[37;41;1mERRORS!\u001b[39;49;22m\n",
      "\u001b[37;41;1mTests: 15, Assertions: 237, Errors: 2, Failures: 3.\u001b[39;49;22m\n"
     ]
    }
   ],
   "source": [
    "! vendor/bin/codecept run Acceptance"
   ]
  },
  {
   "cell_type": "code",
   "execution_count": 76,
   "metadata": {},
   "outputs": [
    {
     "name": "stdout",
     "output_type": "stream",
     "text": [
      "Codeception PHP Testing Framework v5.0.4 https://helpukrainewin.org\n",
      "\n",
      "\u001b[1mTests.Acceptance Tests (15) \u001b[22m----------------------------------------------------\n",
      "\u001b[32;1m✔\u001b[39;22m \u001b[35;1mTest00_PrettyUrlCest:\u001b[39;22m Test \u001b[32m(0.16s)\u001b[39m\n",
      "\u001b[32;1m✔\u001b[39;22m \u001b[35;1mTest01_FileStorageCest:\u001b[39;22m Test \u001b[32m(0.03s)\u001b[39m\n",
      "- \u001b[35;1mTest02_SessionStorageCest:\u001b[39;22m Test"
     ]
    },
    {
     "name": "stderr",
     "output_type": "stream",
     "text": [
      "[Mon Nov 21 05:52:34 2022] [::1]:51746 Accepted\n",
      "[Mon Nov 21 05:52:34 2022] [::1]:51746 [200]: GET /\n",
      "[Mon Nov 21 05:52:34 2022] [::1]:51746 Closing\n",
      "[Mon Nov 21 05:52:34 2022] [::1]:51760 Accepted\n",
      "[Mon Nov 21 05:52:34 2022] [::1]:51760 [200]: GET /home\n",
      "[Mon Nov 21 05:52:34 2022] [::1]:51760 Closing\n",
      "[Mon Nov 21 05:52:34 2022] [::1]:51772 Accepted\n",
      "[Mon Nov 21 05:52:34 2022] [::1]:51772 [200]: GET /about\n",
      "[Mon Nov 21 05:52:34 2022] [::1]:51772 Closing\n",
      "[Mon Nov 21 05:52:34 2022] [::1]:51774 Accepted\n",
      "[Mon Nov 21 05:52:34 2022] [::1]:51774 [200]: GET /users\n",
      "[Mon Nov 21 05:52:34 2022] [::1]:51774 Closing\n",
      "[Mon Nov 21 05:52:34 2022] [::1]:51778 Accepted\n",
      "[Mon Nov 21 05:52:34 2022] [::1]:51778 [200]: GET /users/1\n",
      "[Mon Nov 21 05:52:34 2022] [::1]:51778 Closing\n",
      "[Mon Nov 21 05:52:34 2022] [::1]:51788 Accepted\n",
      "[Mon Nov 21 05:52:34 2022] [::1]:51788 [200]: GET /users\n",
      "[Mon Nov 21 05:52:34 2022] [::1]:51788 Closing\n",
      "[Mon Nov 21 05:52:34 2022] [::1]:51800 Accepted\n",
      "[Mon Nov 21 05:52:34 2022] [::1]:51800 [200]: GET /users/2\n",
      "[Mon Nov 21 05:52:34 2022] [::1]:51800 Closing\n",
      "[Mon Nov 21 05:52:34 2022] [::1]:51808 Accepted\n",
      "[Mon Nov 21 05:52:34 2022] [::1]:51808 [200]: GET /users\n",
      "[Mon Nov 21 05:52:34 2022] [::1]:51808 Closing\n",
      "[Mon Nov 21 05:52:34 2022] [::1]:51820 Accepted\n",
      "[Mon Nov 21 05:52:34 2022] [::1]:51820 [200]: GET /users/3\n",
      "[Mon Nov 21 05:52:34 2022] [::1]:51820 Closing\n",
      "[Mon Nov 21 05:52:34 2022] [::1]:51832 Accepted\n",
      "[Mon Nov 21 05:52:34 2022] [::1]:51832 [200]: GET /demo/file\n",
      "[Mon Nov 21 05:52:34 2022] [::1]:51832 Closing\n",
      "[Mon Nov 21 05:52:34 2022] [::1]:51844 Accepted\n",
      "[Mon Nov 21 05:52:34 2022] [::1]:51844 [200]: GET /demo/session\n",
      "[Mon Nov 21 05:52:34 2022] [::1]:51844 Closing\n",
      "[Mon Nov 21 05:52:34 2022] [::1]:51860 Accepted\n"
     ]
    },
    {
     "name": "stdout",
     "output_type": "stream",
     "text": [
      "\u001b[32;1m✔\u001b[39;22m \u001b[35;1mTest02_SessionStorageCest:\u001b[39;22m Test \u001b[32m(0.01s)\u001b[39m\n",
      "\u001b[32;1m✔\u001b[39;22m \u001b[35;1mTest03_SQLiteStorageCest:\u001b[39;22m Test \u001b[32m(0.11s)\u001b[39m\n",
      "- \u001b[35;1mTest04_MySQLStorageCest:\u001b[39;22m Test"
     ]
    },
    {
     "name": "stderr",
     "output_type": "stream",
     "text": [
      "[Mon Nov 21 05:52:34 2022] [::1]:51860 [200]: GET /demo/sqlite\n",
      "[Mon Nov 21 05:52:34 2022] [::1]:51860 Closing\n",
      "[Mon Nov 21 05:52:34 2022] [::1]:51872 Accepted\n",
      "[Mon Nov 21 05:52:34 2022] [::1]:51872 [200]: GET /demo/mysql\n",
      "[Mon Nov 21 05:52:34 2022] [::1]:51872 Closing\n"
     ]
    },
    {
     "name": "stdout",
     "output_type": "stream",
     "text": [
      "\r",
      "\u001b[32;1m✔\u001b[39;22m \u001b[35;1mTest04_MySQLStorageCest:\u001b[39;22m Test \u001b[32m(0.31s)\u001b[39m\r\n",
      "- \u001b[35;1mTest05_RedisStorageCest:\u001b[39;22m Test\r",
      "\u001b[32;1m✔\u001b[39;22m \u001b[35;1mTest05_RedisStorageCest:\u001b[39;22m Test \u001b[32m(0.03s)\u001b[39m\r\n",
      "- \u001b[35;1mTest06_HomepageCest:\u001b[39;22m See welcome message on homepage"
     ]
    },
    {
     "name": "stderr",
     "output_type": "stream",
     "text": [
      "[Mon Nov 21 05:52:34 2022] [::1]:51878 Accepted\n",
      "[Mon Nov 21 05:52:35 2022] [::1]:51878 [200]: GET /demo/mysql\n",
      "[Mon Nov 21 05:52:35 2022] [::1]:51878 Closing\n",
      "[Mon Nov 21 05:52:35 2022] [::1]:51892 Accepted\n",
      "[Mon Nov 21 05:52:35 2022] [::1]:51892 [200]: GET /demo/redis\n",
      "[Mon Nov 21 05:52:35 2022] [::1]:51892 Closing\n"
     ]
    },
    {
     "name": "stdout",
     "output_type": "stream",
     "text": [
      "\r",
      "\u001b[32;1m✔\u001b[39;22m \u001b[35;1mTest06_HomepageCest:\u001b[39;22m See login and register links \u001b[32m(0.09s)\u001b[39m\r\n",
      "- \u001b[35;1mTest07_RegisterCest:\u001b[39;22m Register new user"
     ]
    },
    {
     "name": "stderr",
     "output_type": "stream",
     "text": [
      "[Mon Nov 21 05:52:35 2022] [::1]:51906 Accepted\n",
      "[Mon Nov 21 05:52:35 2022] [::1]:51906 [200]: GET /\n",
      "[Mon Nov 21 05:52:35 2022] [::1]:51906 Closing\n",
      "[Mon Nov 21 05:52:35 2022] [::1]:51918 Accepted\n",
      "[Mon Nov 21 05:52:35 2022] [::1]:51918 [200]: GET /home\n",
      "[Mon Nov 21 05:52:35 2022] [::1]:51918 Closing\n",
      "[Mon Nov 21 05:52:35 2022] [::1]:51928 Accepted\n",
      "[Mon Nov 21 05:52:35 2022] [::1]:51928 [200]: GET /\n",
      "[Mon Nov 21 05:52:35 2022] [::1]:51928 Closing\n",
      "[Mon Nov 21 05:52:35 2022] [::1]:51940 Accepted\n",
      "[Mon Nov 21 05:52:35 2022] [::1]:51940 [200]: GET /auth/register\n",
      "[Mon Nov 21 05:52:35 2022] [::1]:51940 Closing\n",
      "[Mon Nov 21 05:52:35 2022] [::1]:51954 Accepted\n",
      "[Mon Nov 21 05:52:35 2022] [::1]:51954 [302]: POST /auth/register\n",
      "[Mon Nov 21 05:52:35 2022] [::1]:51954 Closing\n",
      "[Mon Nov 21 05:52:35 2022] [::1]:51968 Accepted\n",
      "[Mon Nov 21 05:52:35 2022] [::1]:51968 [200]: GET /auth/confirmation_notice\n",
      "[Mon Nov 21 05:52:35 2022] [::1]:51968 Closing\n"
     ]
    },
    {
     "name": "stdout",
     "output_type": "stream",
     "text": [
      "\u001b[32;1m✔\u001b[39;22m \u001b[35;1mTest07_RegisterCest:\u001b[39;22m Register new user \u001b[32m(0.46s)\u001b[39m\n",
      "\u001b[32;1m✔\u001b[39;22m \u001b[35;1mTest08_RegisterValidationCest:\u001b[39;22m Validate data entered during registration \u001b[32m(0.13s)\u001b[39m\n",
      "- \u001b[35;1mTest09_RegisterRememberFieldsCest:\u001b[39;22m Remember data entered during registration when validation error is present"
     ]
    },
    {
     "name": "stderr",
     "output_type": "stream",
     "text": [
      "[Mon Nov 21 05:52:35 2022] [::1]:51982 Accepted\n",
      "[Mon Nov 21 05:52:35 2022] [::1]:51982 [200]: GET /auth/register\n",
      "[Mon Nov 21 05:52:35 2022] [::1]:51982 Closing\n",
      "[Mon Nov 21 05:52:35 2022] [::1]:51998 Accepted\n",
      "[Mon Nov 21 05:52:35 2022] [::1]:51998 [200]: POST /auth/register\n",
      "[Mon Nov 21 05:52:35 2022] [::1]:51998 Closing\n",
      "[Mon Nov 21 05:52:35 2022] [::1]:52006 Accepted\n",
      "[Mon Nov 21 05:52:35 2022] [::1]:52006 [200]: POST /auth/register\n",
      "[Mon Nov 21 05:52:35 2022] [::1]:52006 Closing\n",
      "[Mon Nov 21 05:52:35 2022] [::1]:52016 Accepted\n",
      "[Mon Nov 21 05:52:35 2022] [::1]:52016 [200]: GET /auth/register\n",
      "[Mon Nov 21 05:52:35 2022] [::1]:52016 Closing\n",
      "[Mon Nov 21 05:52:35 2022] [::1]:52032 Accepted\n",
      "[Mon Nov 21 05:52:35 2022] [::1]:52032 [200]: POST /auth/register\n",
      "[Mon Nov 21 05:52:35 2022] [::1]:52032 Closing\n",
      "[Mon Nov 21 05:52:35 2022] [::1]:52034 Accepted\n",
      "[Mon Nov 21 05:52:35 2022] [::1]:52034 [200]: POST /auth/register\n",
      "[Mon Nov 21 05:52:35 2022] [::1]:52034 Closing\n",
      "[Mon Nov 21 05:52:35 2022] [::1]:52046 Accepted\n",
      "[Mon Nov 21 05:52:35 2022] [::1]:52046 [200]: POST /auth/register\n",
      "[Mon Nov 21 05:52:35 2022] [::1]:52046 Closing\n"
     ]
    },
    {
     "name": "stdout",
     "output_type": "stream",
     "text": [
      "\u001b[32;1m✔\u001b[39;22m \u001b[35;1mTest09_RegisterRememberFieldsCest:\u001b[39;22m Remember data entered during registration when validation error is present \u001b[32m(0.24s)\u001b[39m\n",
      "\u001b[31;1mE\u001b[39;22m \u001b[35;1mTest10_RegisterConfirmCest:\u001b[39;22m Confirm user using link \u001b[32m(0.06s)\u001b[39m\n",
      "- \u001b[35;1mTest11_LoginNotExistingCest:\u001b[39;22m See error when user does not exists"
     ]
    },
    {
     "name": "stderr",
     "output_type": "stream",
     "text": [
      "[Mon Nov 21 05:52:35 2022] [::1]:52050 Accepted\n",
      "[Mon Nov 21 05:52:35 2022] [::1]:52050 [200]: POST /auth/register\n",
      "[Mon Nov 21 05:52:35 2022] [::1]:52050 Closing\n",
      "[Mon Nov 21 05:52:35 2022] [::1]:52052 Accepted\n",
      "[Mon Nov 21 05:52:35 2022] [::1]:52052 [200]: POST /auth/register\n",
      "[Mon Nov 21 05:52:35 2022] [::1]:52052 Closing\n",
      "[Mon Nov 21 05:52:36 2022] [::1]:52068 Accepted\n",
      "[Mon Nov 21 05:52:36 2022] [::1]:52068 [200]: GET /auth/register\n",
      "[Mon Nov 21 05:52:36 2022] [::1]:52068 Closing\n"
     ]
    },
    {
     "name": "stdout",
     "output_type": "stream",
     "text": [
      "\u001b[31;1m✖\u001b[39;22m \u001b[35;1mTest11_LoginNotExistingCest:\u001b[39;22m See error when user does not exists \u001b[32m(0.08s)\u001b[39m\n",
      "\u001b[31;1m✖\u001b[39;22m \u001b[35;1mTest12_LoginWrongPasswordCest:\u001b[39;22m See error when wrong password is entered \u001b[32m(0.07s)\u001b[39m\n",
      "- \u001b[35;1mTest13_LoginNotConfirmedCest:\u001b[39;22m Be remained about email confirmation when trying to login"
     ]
    },
    {
     "name": "stderr",
     "output_type": "stream",
     "text": [
      "[Mon Nov 21 05:52:36 2022] [::1]:52074 Accepted\n",
      "[Mon Nov 21 05:52:36 2022] [::1]:52074 [200]: GET /auth/login\n",
      "[Mon Nov 21 05:52:36 2022] [::1]:52074 Closing\n",
      "[Mon Nov 21 05:52:36 2022] [::1]:52080 Accepted\n",
      "[Mon Nov 21 05:52:36 2022] [::1]:52080 [200]: GET /auth/login\n",
      "[Mon Nov 21 05:52:36 2022] [::1]:52080 Closing\n",
      "[Mon Nov 21 05:52:36 2022] [::1]:52096 Accepted\n",
      "[Mon Nov 21 05:52:36 2022] [::1]:52096 [200]: GET /auth/login\n",
      "[Mon Nov 21 05:52:36 2022] [::1]:52096 Closing\n"
     ]
    },
    {
     "name": "stdout",
     "output_type": "stream",
     "text": [
      "\u001b[31;1m✖\u001b[39;22m \u001b[35;1mTest13_LoginNotConfirmedCest:\u001b[39;22m Be remained about email confirmation when trying to login \u001b[32m(0.09s)\u001b[39m\n",
      "\u001b[31;1mE\u001b[39;22m \u001b[35;1mTest14_LoginLogoutSeeHiddenContentCest:\u001b[39;22m See hidden content after login \u001b[32m(0.08s)\u001b[39m\n",
      "--------------------------------------------------------------------------------\n",
      "Time: 00:02.185, Memory: 12.00 MB\n",
      "\n",
      "There were 2 errors:\n",
      "1) \u001b[35;1mTest10_RegisterConfirmCest:\u001b[39;22m Confirm user using link\n",
      "\u001b[37;41;1m Test  \u001b[39;49;22mtests/Acceptance/Test10_RegisterConfirmCest.php:test\n",
      "\u001b[37;41;1m                                                                                                                                                                                                                                                   \u001b[39;49;22m\n",
      "\u001b[37;41;1m  [ArgumentCountError] Too few arguments to function Model\\User::__construct(), 1 passed in /home/student/php_2022_adam_lewinski/07_testing/02_exercise/project/tests/Acceptance/Test10_RegisterConfirmCest.php on line 17 and exactly 5 expected  \u001b[39;49;22m\n",
      "\u001b[37;41;1m                                                                                                                                                                                                                                                   \u001b[39;49;22m\n",
      "#1  /home/student/php_2022_adam_lewinski/07_testing/02_exercise/project/src/Model/User.php:15\n",
      "#2  /home/student/php_2022_adam_lewinski/07_testing/02_exercise/project/tests/Acceptance/Test10_RegisterConfirmCest.php:17\n",
      "#3  Tests\\Acceptance\\Test10_RegisterConfirmCest->test\n",
      "#4  /home/student/php_2022_adam_lewinski/07_testing/02_exercise/project/vendor/bin/codecept:120\n",
      "2) \u001b[35;1mTest14_LoginLogoutSeeHiddenContentCest:\u001b[39;22m See hidden content after login\n",
      "\u001b[37;41;1m Test  \u001b[39;49;22mtests/Acceptance/Test14_LoginLogoutSeeHiddenContentCest.php:test\n",
      "\u001b[37;41;1m                                                                                                                                                                                                                                                               \u001b[39;49;22m\n",
      "\u001b[37;41;1m  [ArgumentCountError] Too few arguments to function Model\\User::__construct(), 1 passed in /home/student/php_2022_adam_lewinski/07_testing/02_exercise/project/tests/Acceptance/Test14_LoginLogoutSeeHiddenContentCest.php on line 17 and exactly 5 expected  \u001b[39;49;22m\n",
      "\u001b[37;41;1m                                                                                                                                                                                                                                                               \u001b[39;49;22m\n",
      "#1  /home/student/php_2022_adam_lewinski/07_testing/02_exercise/project/src/Model/User.php:15\n",
      "#2  /home/student/php_2022_adam_lewinski/07_testing/02_exercise/project/tests/Acceptance/Test14_LoginLogoutSeeHiddenContentCest.php:17\n",
      "#3  Tests\\Acceptance\\Test14_LoginLogoutSeeHiddenContentCest->test\n",
      "#4  /home/student/php_2022_adam_lewinski/07_testing/02_exercise/project/vendor/bin/codecept:120\n",
      "\n",
      "---------\n",
      "\n",
      "There were 3 failures:\n",
      "1) \u001b[35;1mTest11_LoginNotExistingCest:\u001b[39;22m See error when user does not exists\n",
      "\u001b[37;41;1m Test  \u001b[39;49;22mtests/Acceptance/Test11_LoginNotExistingCest.php:test\n",
      "\u001b[37;41;1m Step \u001b[39;49;22m See in title \"Login\"\n",
      "\u001b[37;41;1m Fail \u001b[39;49;22m page title contains Login\n",
      "Failed asserting that '404' contains \"Login\".\n",
      "\u001b[33m\n",
      "Scenario Steps:\n",
      "\u001b[39m\n",
      "\u001b[1m 2. $I->seeInTitle(\"Login\")\u001b[22m at \u001b[32mtests/Acceptance/Test11_LoginNotExistingCest.php:18\u001b[39m\n",
      " 1. $I->amOnPage(\"/auth/login\") at \u001b[32mtests/Acceptance/Test11_LoginNotExistingCest.php:16\u001b[39m\n",
      "\n",
      "\u001b[33mArtifacts:\u001b[39m\n",
      "\n",
      "Html: \u001b[36m/home/student/php_2022_adam_lewinski/07_testing/02_exercise/project/tests/_output/Tests.Acceptance.Test11_LoginNotExistingCest.test.fail.html\u001b[39m\n",
      "Response: \u001b[36m/home/student/php_2022_adam_lewinski/07_testing/02_exercise/project/tests/_output/Tests.Acceptance.Test11_LoginNotExistingCest.test.fail.html\u001b[39m\n",
      "2) \u001b[35;1mTest12_LoginWrongPasswordCest:\u001b[39;22m See error when wrong password is entered\n",
      "\u001b[37;41;1m Test  \u001b[39;49;22mtests/Acceptance/Test12_LoginWrongPasswordCest.php:test\n",
      "page title contains Login\n",
      "Failed asserting that '404' contains \"Login\".\n",
      "\u001b[33m\n",
      "Scenario Steps:\n",
      "\u001b[39m\n",
      "\u001b[1m 2. $I->seeInTitle(\"Login\")\u001b[22m at \u001b[32mtests/Acceptance/Test12_LoginWrongPasswordCest.php:19\u001b[39m\n",
      " 1. $I->amOnPage(\"/auth/login\") at \u001b[32mtests/Acceptance/Test12_LoginWrongPasswordCest.php:17\u001b[39m\n",
      "\n",
      "\u001b[33mArtifacts:\u001b[39m\n",
      "\n",
      "Html: \u001b[36m/home/student/php_2022_adam_lewinski/07_testing/02_exercise/project/tests/_output/Tests.Acceptance.Test12_LoginWrongPasswordCest.test.fail.html\u001b[39m\n",
      "Response: \u001b[36m/home/student/php_2022_adam_lewinski/07_testing/02_exercise/project/tests/_output/Tests.Acceptance.Test12_LoginWrongPasswordCest.test.fail.html\u001b[39m\n",
      "3) \u001b[35;1mTest13_LoginNotConfirmedCest:\u001b[39;22m Be remained about email confirmation when trying to login\n",
      "\u001b[37;41;1m Test  \u001b[39;49;22mtests/Acceptance/Test13_LoginNotConfirmedCest.php:test\n",
      "page title contains Login\n",
      "Failed asserting that '404' contains \"Login\".\n",
      "\u001b[33m\n",
      "Scenario Steps:\n",
      "\u001b[39m\n",
      "\u001b[1m 2. $I->seeInTitle(\"Login\")\u001b[22m at \u001b[32mtests/Acceptance/Test13_LoginNotConfirmedCest.php:18\u001b[39m\n",
      " 1. $I->amOnPage(\"/auth/login\") at \u001b[32mtests/Acceptance/Test13_LoginNotConfirmedCest.php:16\u001b[39m\n",
      "\n",
      "\u001b[33mArtifacts:\u001b[39m\n",
      "\n",
      "Html: \u001b[36m/home/student/php_2022_adam_lewinski/07_testing/02_exercise/project/tests/_output/Tests.Acceptance.Test13_LoginNotConfirmedCest.test.fail.html\u001b[39m\n",
      "Response: \u001b[36m/home/student/php_2022_adam_lewinski/07_testing/02_exercise/project/tests/_output/Tests.Acceptance.Test13_LoginNotConfirmedCest.test.fail.html\u001b[39m\n",
      "\n",
      "\u001b[37;41;1mERRORS!\u001b[39;49;22m\n",
      "\u001b[37;41;1mTests: 15, Assertions: 237, Errors: 2, Failures: 3.\u001b[39;49;22m\n",
      "- \u001b[1mJUNIT XML\u001b[22m report generated in \u001b[33mfile:///home/student/php_2022_adam_lewinski/07_testing/02_exercise/project/tests/_output/test_report.xml\u001b[39m\n"
     ]
    }
   ],
   "source": [
    "! vendor/bin/codecept run Acceptance --xml test_report.xml"
   ]
  },
  {
   "cell_type": "code",
   "execution_count": 77,
   "metadata": {},
   "outputs": [],
   "source": [
    "phpServer.kill()"
   ]
  },
  {
   "cell_type": "code",
   "execution_count": 78,
   "metadata": {},
   "outputs": [
    {
     "name": "stdout",
     "output_type": "stream",
     "text": [
      "/home/student/php_2022_adam_lewinski/07_testing/02_exercise\n"
     ]
    }
   ],
   "source": [
    "%cd ../"
   ]
  },
  {
   "cell_type": "markdown",
   "metadata": {},
   "source": [
    "Stop the databses:"
   ]
  },
  {
   "cell_type": "code",
   "execution_count": null,
   "metadata": {},
   "outputs": [],
   "source": [
    "! docker container stop redis"
   ]
  },
  {
   "cell_type": "code",
   "execution_count": null,
   "metadata": {},
   "outputs": [],
   "source": [
    "! docker container stop mysql"
   ]
  }
 ],
 "metadata": {
  "kernelspec": {
   "display_name": "Python 3 (ipykernel)",
   "language": "python",
   "name": "python3"
  },
  "language_info": {
   "codemirror_mode": {
    "name": "ipython",
    "version": 3
   },
   "file_extension": ".py",
   "mimetype": "text/x-python",
   "name": "python",
   "nbconvert_exporter": "python",
   "pygments_lexer": "ipython3",
   "version": "3.10.6"
  }
 },
 "nbformat": 4,
 "nbformat_minor": 4
}
