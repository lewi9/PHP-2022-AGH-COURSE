{
 "cells": [
  {
   "cell_type": "markdown",
   "metadata": {},
   "source": [
    "# PHP 2022"
   ]
  },
  {
   "cell_type": "markdown",
   "metadata": {},
   "source": [
    "## 7. Testing"
   ]
  },
  {
   "cell_type": "markdown",
   "metadata": {},
   "source": [
    "### 7.2 Exercise"
   ]
  },
  {
   "cell_type": "markdown",
   "metadata": {},
   "source": [
    "Implment missing code."
   ]
  },
  {
   "cell_type": "markdown",
   "metadata": {},
   "source": [
    "Start the databses:"
   ]
  },
  {
   "cell_type": "code",
   "execution_count": 1,
   "metadata": {},
   "outputs": [
    {
     "name": "stdout",
     "output_type": "stream",
     "text": [
      "2f368ff7f00acd95fea7ec283bd9110e954e646692f85f4bd0daee08356b0bd3\r\n"
     ]
    }
   ],
   "source": [
    "! docker run --net=host --rm --name redis -d redis"
   ]
  },
  {
   "cell_type": "code",
   "execution_count": 2,
   "metadata": {},
   "outputs": [
    {
     "name": "stdout",
     "output_type": "stream",
     "text": [
      "dc24693c41d3c91cbf2e691a574b753b65c43c2d69cb7c51d1021a6553ca21f5\r\n"
     ]
    }
   ],
   "source": [
    "! docker run --name=mysql --net=host --rm --env MYSQL_ROOT_PASSWORD=root123 --env MYSQL_DATABASE=test --env MYSQL_USER=test --env MYSQL_PASSWORD=test123 -d mysql/mysql-server:8.0"
   ]
  },
  {
   "cell_type": "code",
   "execution_count": 3,
   "metadata": {},
   "outputs": [
    {
     "name": "stdout",
     "output_type": "stream",
     "text": [
      "Done.\r\n"
     ]
    }
   ],
   "source": [
    "! while ! timeout 1 bash -c \"echo > /dev/tcp/localhost/6379\" 2> /dev/null; do sleep 1; done; echo \"Done.\";"
   ]
  },
  {
   "cell_type": "code",
   "execution_count": 4,
   "metadata": {},
   "outputs": [
    {
     "name": "stdout",
     "output_type": "stream",
     "text": [
      "Done.\r\n"
     ]
    }
   ],
   "source": [
    "! while ! timeout 1 bash -c \"echo > /dev/tcp/localhost/3306\" 2> /dev/null; do sleep 1; done; echo \"Done.\";"
   ]
  },
  {
   "cell_type": "markdown",
   "metadata": {},
   "source": [
    "Edit the code:"
   ]
  },
  {
   "cell_type": "code",
   "execution_count": null,
   "metadata": {},
   "outputs": [
    {
     "name": "stdout",
     "output_type": "stream",
     "text": [
      "CompileCommand: exclude com/intellij/openapi/vfs/impl/FilePartNodeRoot.trieDescend bool exclude = true\n",
      "2022-11-21 23:20:36,374 [   2772] SEVERE - #c.i.d.LoadingState - Should be called at least in the state COMPONENTS_LOADED, the current state is: CONFIGURATION_STORE_INITIALIZED\n",
      "Current violators count: 1\n",
      "\n",
      "\n",
      "java.lang.Throwable\n",
      "\tat com.intellij.diagnostic.LoadingState.logStateError(LoadingState.java:52)\n",
      "\tat com.intellij.diagnostic.LoadingState.checkOccurred(LoadingState.java:48)\n",
      "\tat com.intellij.openapi.actionSystem.impl.ActionManagerImpl.<init>(ActionManagerImpl.java:133)\n",
      "\tat com.jetbrains.rdserver.ui.actionPopupMenu.BackendActionManager.<init>(BackendActionManager.kt:17)\n",
      "\tat java.base/jdk.internal.reflect.NativeConstructorAccessorImpl.newInstance0(Native Method)\n",
      "\tat java.base/jdk.internal.reflect.NativeConstructorAccessorImpl.newInstance(NativeConstructorAccessorImpl.java:77)\n",
      "\tat java.base/jdk.internal.reflect.DelegatingConstructorAccessorImpl.newInstance(DelegatingConstructorAccessorImpl.java:45)\n",
      "\tat java.base/java.lang.reflect.Constructor.newInstanceWithCaller(Constructor.java:499)\n",
      "\tat java.base/java.lang.reflect.Constructor.newInstance(Constructor.java:480)\n",
      "\tat com.intellij.serviceContainer.ConstructorInjectionKt.instantiateUsingPicoContainer(constructorInjection.kt:47)\n",
      "\tat com.intellij.serviceContainer.ComponentManagerImpl.instantiateClassWithConstructorInjection(ComponentManagerImpl.kt:890)\n",
      "\tat com.intellij.serviceContainer.ServiceComponentAdapter.createAndInitialize(ServiceComponentAdapter.kt:51)\n",
      "\tat com.intellij.serviceContainer.ServiceComponentAdapter.doCreateInstance(ServiceComponentAdapter.kt:41)\n",
      "\tat com.intellij.serviceContainer.BaseComponentAdapter.getInstanceUncached(BaseComponentAdapter.kt:119)\n",
      "\tat com.intellij.serviceContainer.BaseComponentAdapter.getInstance(BaseComponentAdapter.kt:73)\n",
      "\tat com.intellij.serviceContainer.BaseComponentAdapter.getInstance$default(BaseComponentAdapter.kt:66)\n",
      "\tat com.intellij.serviceContainer.ComponentManagerImpl.doGetService(ComponentManagerImpl.kt:609)\n",
      "\tat com.intellij.serviceContainer.ComponentManagerImpl.getService(ComponentManagerImpl.kt:583)\n",
      "\tat com.intellij.openapi.client.ClientAwareComponentManager.getFromSelfOrCurrentSession(ClientAwareComponentManager.kt:37)\n",
      "\tat com.intellij.openapi.client.ClientAwareComponentManager.getService(ClientAwareComponentManager.kt:22)\n",
      "\tat com.intellij.openapi.actionSystem.ActionManager.getInstance(ActionManager.java:29)\n",
      "\tat com.intellij.help.impl.KeymapGenerator.<clinit>(KeymapGenerator.java:33)\n",
      "\tat java.base/jdk.internal.misc.Unsafe.allocateInstance(Native Method)\n",
      "\tat java.base/java.lang.invoke.DirectMethodHandle.allocateInstance(DirectMethodHandle.java:520)\n",
      "\tat com.intellij.serviceContainer.ComponentManagerImpl.instantiateClass(ComponentManagerImpl.kt:844)\n",
      "\tat com.intellij.openapi.extensions.impl.XmlExtensionAdapter.instantiateClass(XmlExtensionAdapter.kt:79)\n",
      "\tat com.intellij.openapi.extensions.impl.XmlExtensionAdapter$SimpleConstructorInjectionAdapter.instantiateClass(XmlExtensionAdapter.kt:90)\n",
      "\tat com.intellij.openapi.extensions.impl.XmlExtensionAdapter.doCreateInstance(XmlExtensionAdapter.kt:50)\n",
      "\tat com.intellij.openapi.extensions.impl.XmlExtensionAdapter.createInstance(XmlExtensionAdapter.kt:31)\n",
      "\tat com.intellij.openapi.extensions.impl.ExtensionPointImpl.processAdapter(ExtensionPointImpl.java:447)\n",
      "\tat com.intellij.openapi.extensions.impl.ExtensionPointImpl.access$200(ExtensionPointImpl.java:33)\n",
      "\tat com.intellij.openapi.extensions.impl.ExtensionPointImpl$1.next(ExtensionPointImpl.java:355)\n",
      "\tat com.intellij.idea.ApplicationLoader.findAppStarter(ApplicationLoader.kt:595)\n",
      "\tat com.intellij.idea.ApplicationLoader.access$findAppStarter(ApplicationLoader.kt:1)\n",
      "\tat com.intellij.idea.ApplicationLoader$initApplication$block$3.apply(ApplicationLoader.kt:170)\n",
      "\tat com.intellij.idea.ApplicationLoader$initApplication$block$3.apply(ApplicationLoader.kt)\n",
      "\tat java.base/java.util.concurrent.CompletableFuture$UniCompose.tryFire(CompletableFuture.java:1150)\n",
      "\tat java.base/java.util.concurrent.CompletableFuture.postComplete(CompletableFuture.java:510)\n",
      "\tat java.base/java.util.concurrent.CompletableFuture.postFire(CompletableFuture.java:614)\n",
      "\tat java.base/java.util.concurrent.CompletableFuture$UniCompose.tryFire(CompletableFuture.java:1163)\n",
      "\tat java.base/java.util.concurrent.CompletableFuture$Completion.run(CompletableFuture.java:482)\n",
      "\tat com.intellij.idea.ApplicationLoader$initApplication$block$2.execute(ApplicationLoader.kt:142)\n",
      "\tat java.base/java.util.concurrent.CompletableFuture$UniCompletion.claim(CompletableFuture.java:572)\n",
      "\tat java.base/java.util.concurrent.CompletableFuture$UniCompose.tryFire(CompletableFuture.java:1147)\n",
      "\tat java.base/java.util.concurrent.CompletableFuture.postComplete(CompletableFuture.java:510)\n",
      "\tat java.base/java.util.concurrent.CompletableFuture.postFire(CompletableFuture.java:614)\n",
      "\tat java.base/java.util.concurrent.CompletableFuture$UniCompose.tryFire(CompletableFuture.java:1163)\n",
      "\tat java.base/java.util.concurrent.CompletableFuture$Completion.exec(CompletableFuture.java:483)\n",
      "\tat java.base/java.util.concurrent.ForkJoinTask.doExec(ForkJoinTask.java:373)\n",
      "\tat java.base/java.util.concurrent.ForkJoinPool$WorkQueue.topLevelExec(ForkJoinPool.java:1182)\n",
      "\tat java.base/java.util.concurrent.ForkJoinPool.scan(ForkJoinPool.java:1655)\n",
      "\tat java.base/java.util.concurrent.ForkJoinPool.runWorker(ForkJoinPool.java:1622)\n",
      "\tat java.base/java.util.concurrent.ForkJoinWorkerThread.run(ForkJoinWorkerThread.java:165)\n",
      "2022-11-21 23:20:36,401 [   2799] SEVERE - #c.i.d.LoadingState - PhpStorm 2022.2.3  Build #PS-222.4345.15\n",
      "2022-11-21 23:20:36,404 [   2802] SEVERE - #c.i.d.LoadingState - JDK: 17.0.4.1; VM: OpenJDK 64-Bit Server VM; Vendor: JetBrains s.r.o.\n",
      "2022-11-21 23:20:36,405 [   2803] SEVERE - #c.i.d.LoadingState - OS: Linux\n",
      "2022-11-21 23:20:37,757 [   4155] SEVERE - #c.i.d.LoadingState - Should be called at least in the state COMPONENTS_LOADED, the current state is: CONFIGURATION_STORE_INITIALIZED\n",
      "Current violators count: 2\n",
      "\n",
      "\n",
      "java.lang.Throwable\n",
      "\tat com.intellij.diagnostic.LoadingState.logStateError(LoadingState.java:52)\n",
      "\tat com.intellij.diagnostic.LoadingState.checkOccurred(LoadingState.java:48)\n",
      "\tat com.intellij.openapi.util.registry.Registry.getInstance(Registry.java:176)\n",
      "\tat com.intellij.openapi.util.registry.Registry.get(Registry.java:50)\n",
      "\tat com.intellij.openapi.util.registry.Registry.is(Registry.java:63)\n",
      "\tat com.intellij.execution.ExecutorRegistryImpl.isExecutorInMainGroup(ExecutorRegistryImpl.java:195)\n",
      "\tat com.intellij.execution.ExecutorRegistryImpl.initExecutorActions(ExecutorRegistryImpl.java:127)\n",
      "\tat com.intellij.execution.ExecutorRegistryImpl.init(ExecutorRegistryImpl.java:278)\n",
      "\tat com.intellij.execution.ExecutorRegistryImpl$ExecutorRegistryActionConfigurationTuner.customize(ExecutorRegistryImpl.java:92)\n",
      "\tat com.intellij.openapi.actionSystem.impl.ActionManagerImpl.lambda$new$0(ActionManagerImpl.java:141)\n",
      "\tat com.intellij.openapi.extensions.impl.ExtensionProcessingHelper.forEachExtensionSafe(ExtensionProcessingHelper.java:34)\n",
      "\tat com.intellij.openapi.extensions.ExtensionPointName.forEachExtensionSafe(ExtensionPointName.java:46)\n",
      "\tat com.intellij.openapi.actionSystem.impl.ActionManagerImpl.<init>(ActionManagerImpl.java:141)\n",
      "\tat com.jetbrains.rdserver.ui.actionPopupMenu.BackendActionManager.<init>(BackendActionManager.kt:17)\n",
      "\tat java.base/jdk.internal.reflect.NativeConstructorAccessorImpl.newInstance0(Native Method)\n",
      "\tat java.base/jdk.internal.reflect.NativeConstructorAccessorImpl.newInstance(NativeConstructorAccessorImpl.java:77)\n",
      "\tat java.base/jdk.internal.reflect.DelegatingConstructorAccessorImpl.newInstance(DelegatingConstructorAccessorImpl.java:45)\n",
      "\tat java.base/java.lang.reflect.Constructor.newInstanceWithCaller(Constructor.java:499)\n",
      "\tat java.base/java.lang.reflect.Constructor.newInstance(Constructor.java:480)\n",
      "\tat com.intellij.serviceContainer.ConstructorInjectionKt.instantiateUsingPicoContainer(constructorInjection.kt:47)\n",
      "\tat com.intellij.serviceContainer.ComponentManagerImpl.instantiateClassWithConstructorInjection(ComponentManagerImpl.kt:890)\n",
      "\tat com.intellij.serviceContainer.ServiceComponentAdapter.createAndInitialize(ServiceComponentAdapter.kt:51)\n",
      "\tat com.intellij.serviceContainer.ServiceComponentAdapter.doCreateInstance(ServiceComponentAdapter.kt:41)\n",
      "\tat com.intellij.serviceContainer.BaseComponentAdapter.getInstanceUncached(BaseComponentAdapter.kt:119)\n",
      "\tat com.intellij.serviceContainer.BaseComponentAdapter.getInstance(BaseComponentAdapter.kt:73)\n",
      "\tat com.intellij.serviceContainer.BaseComponentAdapter.getInstance$default(BaseComponentAdapter.kt:66)\n",
      "\tat com.intellij.serviceContainer.ComponentManagerImpl.doGetService(ComponentManagerImpl.kt:609)\n",
      "\tat com.intellij.serviceContainer.ComponentManagerImpl.getService(ComponentManagerImpl.kt:583)\n",
      "\tat com.intellij.openapi.client.ClientAwareComponentManager.getFromSelfOrCurrentSession(ClientAwareComponentManager.kt:37)\n",
      "\tat com.intellij.openapi.client.ClientAwareComponentManager.getService(ClientAwareComponentManager.kt:22)\n",
      "\tat com.intellij.openapi.actionSystem.ActionManager.getInstance(ActionManager.java:29)\n",
      "\tat com.intellij.help.impl.KeymapGenerator.<clinit>(KeymapGenerator.java:33)\n",
      "\tat java.base/jdk.internal.misc.Unsafe.allocateInstance(Native Method)\n",
      "\tat java.base/java.lang.invoke.DirectMethodHandle.allocateInstance(DirectMethodHandle.java:520)\n",
      "\tat com.intellij.serviceContainer.ComponentManagerImpl.instantiateClass(ComponentManagerImpl.kt:844)\n",
      "\tat com.intellij.openapi.extensions.impl.XmlExtensionAdapter.instantiateClass(XmlExtensionAdapter.kt:79)\n",
      "\tat com.intellij.openapi.extensions.impl.XmlExtensionAdapter$SimpleConstructorInjectionAdapter.instantiateClass(XmlExtensionAdapter.kt:90)\n",
      "\tat com.intellij.openapi.extensions.impl.XmlExtensionAdapter.doCreateInstance(XmlExtensionAdapter.kt:50)\n",
      "\tat com.intellij.openapi.extensions.impl.XmlExtensionAdapter.createInstance(XmlExtensionAdapter.kt:31)\n",
      "\tat com.intellij.openapi.extensions.impl.ExtensionPointImpl.processAdapter(ExtensionPointImpl.java:447)\n",
      "\tat com.intellij.openapi.extensions.impl.ExtensionPointImpl.access$200(ExtensionPointImpl.java:33)\n",
      "\tat com.intellij.openapi.extensions.impl.ExtensionPointImpl$1.next(ExtensionPointImpl.java:355)\n",
      "\tat com.intellij.idea.ApplicationLoader.findAppStarter(ApplicationLoader.kt:595)\n",
      "\tat com.intellij.idea.ApplicationLoader.access$findAppStarter(ApplicationLoader.kt:1)\n",
      "\tat com.intellij.idea.ApplicationLoader$initApplication$block$3.apply(ApplicationLoader.kt:170)\n",
      "\tat com.intellij.idea.ApplicationLoader$initApplication$block$3.apply(ApplicationLoader.kt)\n",
      "\tat java.base/java.util.concurrent.CompletableFuture$UniCompose.tryFire(CompletableFuture.java:1150)\n",
      "\tat java.base/java.util.concurrent.CompletableFuture.postComplete(CompletableFuture.java:510)\n",
      "\tat java.base/java.util.concurrent.CompletableFuture.postFire(CompletableFuture.java:614)\n",
      "\tat java.base/java.util.concurrent.CompletableFuture$UniCompose.tryFire(CompletableFuture.java:1163)\n",
      "\tat java.base/java.util.concurrent.CompletableFuture$Completion.run(CompletableFuture.java:482)\n",
      "\tat com.intellij.idea.ApplicationLoader$initApplication$block$2.execute(ApplicationLoader.kt:142)\n",
      "\tat java.base/java.util.concurrent.CompletableFuture$UniCompletion.claim(CompletableFuture.java:572)\n",
      "\tat java.base/java.util.concurrent.CompletableFuture$UniCompose.tryFire(CompletableFuture.java:1147)\n",
      "\tat java.base/java.util.concurrent.CompletableFuture.postComplete(CompletableFuture.java:510)\n",
      "\tat java.base/java.util.concurrent.CompletableFuture.postFire(CompletableFuture.java:614)\n",
      "\tat java.base/java.util.concurrent.CompletableFuture$UniCompose.tryFire(CompletableFuture.java:1163)\n",
      "\tat java.base/java.util.concurrent.CompletableFuture$Completion.exec(CompletableFuture.java:483)\n",
      "\tat java.base/java.util.concurrent.ForkJoinTask.doExec(ForkJoinTask.java:373)\n",
      "\tat java.base/java.util.concurrent.ForkJoinPool$WorkQueue.topLevelExec(ForkJoinPool.java:1182)\n",
      "\tat java.base/java.util.concurrent.ForkJoinPool.scan(ForkJoinPool.java:1655)\n",
      "\tat java.base/java.util.concurrent.ForkJoinPool.runWorker(ForkJoinPool.java:1622)\n",
      "\tat java.base/java.util.concurrent.ForkJoinWorkerThread.run(ForkJoinWorkerThread.java:165)\n",
      "2022-11-21 23:20:37,765 [   4163] SEVERE - #c.i.d.LoadingState - PhpStorm 2022.2.3  Build #PS-222.4345.15\n",
      "2022-11-21 23:20:37,767 [   4165] SEVERE - #c.i.d.LoadingState - JDK: 17.0.4.1; VM: OpenJDK 64-Bit Server VM; Vendor: JetBrains s.r.o.\n",
      "2022-11-21 23:20:37,768 [   4166] SEVERE - #c.i.d.LoadingState - OS: Linux\n"
     ]
    },
    {
     "name": "stdout",
     "output_type": "stream",
     "text": [
      "2022-11-21 23:20:37,809 [   4207] SEVERE - #c.i.d.LoadingState - Should be called at least in the state COMPONENTS_LOADED, the current state is: CONFIGURATION_STORE_INITIALIZED\n",
      "Current violators count: 3\n",
      "\n",
      "\n",
      "java.lang.Throwable\n",
      "\tat com.intellij.diagnostic.LoadingState.logStateError(LoadingState.java:52)\n",
      "\tat com.intellij.diagnostic.LoadingState.checkOccurred(LoadingState.java:48)\n",
      "\tat com.intellij.openapi.util.registry.Registry.getInstance(Registry.java:176)\n",
      "\tat com.intellij.openapi.util.registry.Registry.get(Registry.java:50)\n",
      "\tat com.intellij.openapi.util.registry.Registry.is(Registry.java:63)\n",
      "\tat com.intellij.openapi.wm.impl.GlobalMenuLinux._loadLibrary(GlobalMenuLinux.java:797)\n",
      "\tat com.intellij.openapi.wm.impl.GlobalMenuLinux.<clinit>(GlobalMenuLinux.java:164)\n",
      "\tat com.intellij.openapi.wm.impl.GlobalMenuLinux$MyActionTuner.customize(GlobalMenuLinux.java:230)\n",
      "\tat com.intellij.openapi.actionSystem.impl.ActionManagerImpl.lambda$new$0(ActionManagerImpl.java:141)\n",
      "\tat com.intellij.openapi.extensions.impl.ExtensionProcessingHelper.forEachExtensionSafe(ExtensionProcessingHelper.java:34)\n",
      "\tat com.intellij.openapi.extensions.ExtensionPointName.forEachExtensionSafe(ExtensionPointName.java:46)\n",
      "\tat com.intellij.openapi.actionSystem.impl.ActionManagerImpl.<init>(ActionManagerImpl.java:141)\n",
      "\tat com.jetbrains.rdserver.ui.actionPopupMenu.BackendActionManager.<init>(BackendActionManager.kt:17)\n",
      "\tat java.base/jdk.internal.reflect.NativeConstructorAccessorImpl.newInstance0(Native Method)\n",
      "\tat java.base/jdk.internal.reflect.NativeConstructorAccessorImpl.newInstance(NativeConstructorAccessorImpl.java:77)\n",
      "\tat java.base/jdk.internal.reflect.DelegatingConstructorAccessorImpl.newInstance(DelegatingConstructorAccessorImpl.java:45)\n",
      "\tat java.base/java.lang.reflect.Constructor.newInstanceWithCaller(Constructor.java:499)\n",
      "\tat java.base/java.lang.reflect.Constructor.newInstance(Constructor.java:480)\n",
      "\tat com.intellij.serviceContainer.ConstructorInjectionKt.instantiateUsingPicoContainer(constructorInjection.kt:47)\n",
      "\tat com.intellij.serviceContainer.ComponentManagerImpl.instantiateClassWithConstructorInjection(ComponentManagerImpl.kt:890)\n",
      "\tat com.intellij.serviceContainer.ServiceComponentAdapter.createAndInitialize(ServiceComponentAdapter.kt:51)\n",
      "\tat com.intellij.serviceContainer.ServiceComponentAdapter.doCreateInstance(ServiceComponentAdapter.kt:41)\n",
      "\tat com.intellij.serviceContainer.BaseComponentAdapter.getInstanceUncached(BaseComponentAdapter.kt:119)\n",
      "\tat com.intellij.serviceContainer.BaseComponentAdapter.getInstance(BaseComponentAdapter.kt:73)\n",
      "\tat com.intellij.serviceContainer.BaseComponentAdapter.getInstance$default(BaseComponentAdapter.kt:66)\n",
      "\tat com.intellij.serviceContainer.ComponentManagerImpl.doGetService(ComponentManagerImpl.kt:609)\n",
      "\tat com.intellij.serviceContainer.ComponentManagerImpl.getService(ComponentManagerImpl.kt:583)\n",
      "\tat com.intellij.openapi.client.ClientAwareComponentManager.getFromSelfOrCurrentSession(ClientAwareComponentManager.kt:37)\n",
      "\tat com.intellij.openapi.client.ClientAwareComponentManager.getService(ClientAwareComponentManager.kt:22)\n",
      "\tat com.intellij.openapi.actionSystem.ActionManager.getInstance(ActionManager.java:29)\n",
      "\tat com.intellij.help.impl.KeymapGenerator.<clinit>(KeymapGenerator.java:33)\n",
      "\tat java.base/jdk.internal.misc.Unsafe.allocateInstance(Native Method)\n",
      "\tat java.base/java.lang.invoke.DirectMethodHandle.allocateInstance(DirectMethodHandle.java:520)\n",
      "\tat com.intellij.serviceContainer.ComponentManagerImpl.instantiateClass(ComponentManagerImpl.kt:844)\n",
      "\tat com.intellij.openapi.extensions.impl.XmlExtensionAdapter.instantiateClass(XmlExtensionAdapter.kt:79)\n",
      "\tat com.intellij.openapi.extensions.impl.XmlExtensionAdapter$SimpleConstructorInjectionAdapter.instantiateClass(XmlExtensionAdapter.kt:90)\n",
      "\tat com.intellij.openapi.extensions.impl.XmlExtensionAdapter.doCreateInstance(XmlExtensionAdapter.kt:50)\n",
      "\tat com.intellij.openapi.extensions.impl.XmlExtensionAdapter.createInstance(XmlExtensionAdapter.kt:31)\n",
      "\tat com.intellij.openapi.extensions.impl.ExtensionPointImpl.processAdapter(ExtensionPointImpl.java:447)\n",
      "\tat com.intellij.openapi.extensions.impl.ExtensionPointImpl.access$200(ExtensionPointImpl.java:33)\n",
      "\tat com.intellij.openapi.extensions.impl.ExtensionPointImpl$1.next(ExtensionPointImpl.java:355)\n",
      "\tat com.intellij.idea.ApplicationLoader.findAppStarter(ApplicationLoader.kt:595)\n",
      "\tat com.intellij.idea.ApplicationLoader.access$findAppStarter(ApplicationLoader.kt:1)\n",
      "\tat com.intellij.idea.ApplicationLoader$initApplication$block$3.apply(ApplicationLoader.kt:170)\n",
      "\tat com.intellij.idea.ApplicationLoader$initApplication$block$3.apply(ApplicationLoader.kt)\n",
      "\tat java.base/java.util.concurrent.CompletableFuture$UniCompose.tryFire(CompletableFuture.java:1150)\n",
      "\tat java.base/java.util.concurrent.CompletableFuture.postComplete(CompletableFuture.java:510)\n",
      "\tat java.base/java.util.concurrent.CompletableFuture.postFire(CompletableFuture.java:614)\n",
      "\tat java.base/java.util.concurrent.CompletableFuture$UniCompose.tryFire(CompletableFuture.java:1163)\n",
      "\tat java.base/java.util.concurrent.CompletableFuture$Completion.run(CompletableFuture.java:482)\n",
      "\tat com.intellij.idea.ApplicationLoader$initApplication$block$2.execute(ApplicationLoader.kt:142)\n",
      "\tat java.base/java.util.concurrent.CompletableFuture$UniCompletion.claim(CompletableFuture.java:572)\n",
      "\tat java.base/java.util.concurrent.CompletableFuture$UniCompose.tryFire(CompletableFuture.java:1147)\n",
      "\tat java.base/java.util.concurrent.CompletableFuture.postComplete(CompletableFuture.java:510)\n",
      "\tat java.base/java.util.concurrent.CompletableFuture.postFire(CompletableFuture.java:614)\n",
      "\tat java.base/java.util.concurrent.CompletableFuture$UniCompose.tryFire(CompletableFuture.java:1163)\n",
      "\tat java.base/java.util.concurrent.CompletableFuture$Completion.exec(CompletableFuture.java:483)\n",
      "\tat java.base/java.util.concurrent.ForkJoinTask.doExec(ForkJoinTask.java:373)\n",
      "\tat java.base/java.util.concurrent.ForkJoinPool$WorkQueue.topLevelExec(ForkJoinPool.java:1182)\n",
      "\tat java.base/java.util.concurrent.ForkJoinPool.scan(ForkJoinPool.java:1655)\n",
      "\tat java.base/java.util.concurrent.ForkJoinPool.runWorker(ForkJoinPool.java:1622)\n",
      "\tat java.base/java.util.concurrent.ForkJoinWorkerThread.run(ForkJoinWorkerThread.java:165)\n",
      "2022-11-21 23:20:37,819 [   4217] SEVERE - #c.i.d.LoadingState - PhpStorm 2022.2.3  Build #PS-222.4345.15\n",
      "2022-11-21 23:20:37,822 [   4220] SEVERE - #c.i.d.LoadingState - JDK: 17.0.4.1; VM: OpenJDK 64-Bit Server VM; Vendor: JetBrains s.r.o.\n",
      "2022-11-21 23:20:37,823 [   4221] SEVERE - #c.i.d.LoadingState - OS: Linux\n",
      "Info  | RdCoroutineScope          | 13:JobScheduler FJ pool 1/3 | RdCoroutineHost overridden \n",
      "2022-11-21 23:20:46,085 [  12483]   WARN - #c.i.o.a.i.ActionUpdater - 428 ms to grab EDT for CWMTelephonyGroup#update@NavBarToolbar (com.jetbrains.rd.platform.codeWithMe.telephony.CWMTelephonyGroup)\n",
      "2022-11-21 23:20:46,554 [  12952]   WARN - #c.i.o.a.i.ActionUpdater - 240 ms to grab EDT for #update@MainMenu (com.intellij.ide.actions.cache.CacheRecoveryActionGroup$toAnAction$1)\n",
      "2022-11-21 23:20:48,771 [  15169]   WARN - #c.i.o.a.i.ActionUpdater - 2214 ms to grab EDT for #update@MainMenu (com.intellij.ide.actions.cache.CacheRecoveryActionGroup$toAnAction$1)\n",
      "2022-11-21 23:20:48,773 [  15171]   WARN - #c.i.o.a.i.ActionUpdater - 2201 ms to grab EDT for UndoAction#update@MainMenu (com.intellij.ide.actions.UndoAction)\n",
      "2022-11-21 23:20:51,156 [  17554]   WARN - #c.i.o.a.e.ActionUtil - Can not find action by id CompileDirty\n",
      "2022-11-21 23:20:51,706 [  18104]   WARN - #c.i.u.x.Binding - no accessors for com.jetbrains.php.testFramework.PhpTestFrameworkType\n",
      "2022-11-21 23:20:52,131 [  18529]   WARN - #c.i.o.a.i.ActionUpdater - 2709 ms to grab EDT for ToolWindowsGroup#update@MainMenu (com.intellij.ide.actions.ToolWindowsGroup)\n",
      "2022-11-21 23:20:55,933 [  22331]   WARN - #c.i.o.a.i.ActionUpdater - 3265 ms to grab EDT for BackAction#update@MainMenu (com.intellij.ide.actions.BackAction)\n",
      "2022-11-21 23:20:55,948 [  22346]   WARN - #c.i.o.a.i.ActionUpdater - 3172 ms to grab EDT for AnalyzeStacktraceAction#update@MainMenu (com.intellij.unscramble.AnalyzeStacktraceAction)\n",
      "2022-11-21 23:20:56,979 [  23377]   WARN - #c.i.o.a.i.ActionUpdater - 3172 ms total to grab EDT 1 times to expand DefaultActionGroup@MainMenu (com.intellij.openapi.actionSystem.DefaultActionGroup). Use `ActionUpdateThread.BGT`.\n"
     ]
    },
    {
     "name": "stdout",
     "output_type": "stream",
     "text": [
      "2022-11-21 23:20:57,322 [  23720]   WARN - #c.i.o.a.i.ActionUpdater - 3265 ms total to grab EDT 1 times to expand DefaultActionGroup@MainMenu (com.intellij.openapi.actionSystem.DefaultActionGroup). Use `ActionUpdateThread.BGT`.\n",
      "2022-11-21 23:20:57,857 [  24255]   WARN - #c.i.o.a.i.ActionUpdater - 268 ms to grab EDT for CWMTelephonyGroup#update@NavBarToolbar (com.jetbrains.rd.platform.codeWithMe.telephony.CWMTelephonyGroup)\n",
      "2022-11-21 23:20:58,355 [  24753]   WARN - #c.i.o.a.i.ActionUpdater - 252 ms to grab EDT for CWMTelephonyGroup#update@NavBarToolbar (com.jetbrains.rd.platform.codeWithMe.telephony.CWMTelephonyGroup)\n",
      "2022-11-21 23:21:02,989 [  29387]   WARN - #c.j.p.p.PharLibraryManager - Frequent root change. Source class com.jetbrains.php.phar.PharLibraryManager, delta 2578.\n",
      "Old roots: [phar:///home/student/php_2022_adam_lewinski/07_testing/02_exercise/project/vendor/bin/phpstan.phar/]\n",
      "New Roots: [phar:///home/student/php_2022_adam_lewinski/07_testing/02_exercise/project/vendor/bin/phpstan.phar/, phar:///home/student/php_2022_adam_lewinski/07_testing/02_exercise/project/vendor/phpstan/phpstan/phpstan.phar/]\n",
      "2022-11-21 23:21:10,535 [  36933]   WARN - #c.j.p.PhpIndex - Completing type '#Vflags' took 1070ms, visited:[#Vflags]\n",
      "2022-11-21 23:21:10,535 [  36933]   WARN - #c.j.p.PhpIndex - Completing type '#Vflags' took 1066ms, visited:[#Vflags]\n",
      "2022-11-21 23:21:10,548 [  36946]   WARN - #c.j.p.PhpIndex - Completing type '#顶#-#Vflags∆n' took 1080ms, visited:[#顶#-#Vflags∆n]\n",
      "2022-11-21 23:21:10,549 [  36947]   WARN - #c.j.p.PhpIndex - Completing type '#顶#-#Vflags∆n' took 1085ms, visited:[#顶#-#Vflags∆n]\n"
     ]
    }
   ],
   "source": [
    "! phpstorm project"
   ]
  },
  {
   "cell_type": "markdown",
   "metadata": {},
   "source": [
    "You can test your solution using included tests:"
   ]
  },
  {
   "cell_type": "code",
   "execution_count": 199,
   "metadata": {},
   "outputs": [
    {
     "name": "stdout",
     "output_type": "stream",
     "text": [
      "/home/student/php_2022_adam_lewinski/07_testing/02_exercise/project\n"
     ]
    }
   ],
   "source": [
    "%cd project"
   ]
  },
  {
   "cell_type": "code",
   "execution_count": 200,
   "metadata": {},
   "outputs": [
    {
     "name": "stdout",
     "output_type": "stream",
     "text": [
      "\u001b[32mInstalling dependencies from lock file (including require-dev)\u001b[39m\n",
      "\u001b[32mVerifying lock file contents can be installed on current platform.\u001b[39m\n",
      "Nothing to install, update or remove\n",
      "\u001b[32mGenerating autoload files\u001b[39m\n",
      "\u001b[32m60 packages you are using are looking for funding.\u001b[39m\n",
      "\u001b[32mUse the `composer fund` command to find out more!\u001b[39m\n"
     ]
    }
   ],
   "source": [
    "! composer install"
   ]
  },
  {
   "cell_type": "code",
   "execution_count": 201,
   "metadata": {},
   "outputs": [
    {
     "name": "stdout",
     "output_type": "stream",
     "text": [
      "\u001b[32mBuilding Actor classes for suites: Acceptance, Unit\u001b[39m\n",
      " -> AcceptanceTesterActions.php generated successfully. 241 methods added\n",
      "\u001b[32mTests\\AcceptanceTester\u001b[39m includes modules: PhpBrowser, Filesystem, Asserts, Db, Redis\n",
      " -> UnitTesterActions.php generated successfully. 137 methods added\n",
      "\u001b[32mTests\\UnitTester\u001b[39m includes modules: Asserts\n"
     ]
    }
   ],
   "source": [
    "! vendor/bin/codecept build"
   ]
  },
  {
   "cell_type": "code",
   "execution_count": 202,
   "metadata": {
    "scrolled": true
   },
   "outputs": [
    {
     "name": "stdout",
     "output_type": "stream",
     "text": [
      "Loaded config \u001b[33mdefault\u001b[39m from \"/home/student/php_2022_adam_lewinski/07_testing/02_exercise/project/./.php-cs-fixer.dist.php\".\n",
      "Using cache file \".php-cs-fixer.cache\".\n",
      "\n",
      "Checked all files in 0.041 seconds, 14.000 MB memory used\n"
     ]
    }
   ],
   "source": [
    "! vendor/bin/php-cs-fixer fix  --diff --dry-run ."
   ]
  },
  {
   "cell_type": "code",
   "execution_count": 203,
   "metadata": {},
   "outputs": [
    {
     "name": "stdout",
     "output_type": "stream",
     "text": [
      "  0/65 [░░░░░░░░░░░░░░░░░░░░░░░░░░░░]   0%\u001b[1G\u001b[2K 65/65 [▓▓▓▓▓▓▓▓▓▓▓▓▓▓▓▓▓▓▓▓▓▓▓▓▓▓▓▓] 100%\n",
      "\n",
      "\n",
      "\u001b[30;42m                                                                                \u001b[39;49m\n",
      "\u001b[30;42m [OK] No errors                                                                 \u001b[39;49m\n",
      "\u001b[30;42m                                                                                \u001b[39;49m\n",
      "\n"
     ]
    }
   ],
   "source": [
    "! vendor/bin/phpstan analyze --xdebug -c phpstan.neon"
   ]
  },
  {
   "cell_type": "code",
   "execution_count": 204,
   "metadata": {},
   "outputs": [
    {
     "name": "stdout",
     "output_type": "stream",
     "text": [
      "phpcpd 6.0.3 by Sebastian Bergmann.\n",
      "\n",
      "No clones found.\n",
      "\n",
      "Time: 00:00.029, Memory: 4.00 MB\n"
     ]
    }
   ],
   "source": [
    "! vendor/bin/phpcpd . --fuzzy --min-lines 1 --min-tokens 20 --exclude vendor --exclude tests"
   ]
  },
  {
   "cell_type": "code",
   "execution_count": 205,
   "metadata": {},
   "outputs": [
    {
     "name": "stdout",
     "output_type": "stream",
     "text": [
      "Codeception PHP Testing Framework v5.0.4 https://helpukrainewin.org\n",
      "\n",
      "\u001b[1mTests.Unit Tests (24) \u001b[22m----------------------------------------------------------\n",
      "\u001b[32;1m✔\u001b[39;22m \u001b[35;1mTest00_StringEditorCest:\u001b[39;22m Create \u001b[32m(0.00s)\u001b[39m\n",
      "\u001b[32;1m✔\u001b[39;22m \u001b[35;1mTest00_StringEditorCest:\u001b[39;22m Replace word \u001b[32m(0.00s)\u001b[39m\n",
      "\u001b[32;1m✔\u001b[39;22m \u001b[35;1mTest00_StringEditorCest:\u001b[39;22m Lowercase \u001b[32m(0.00s)\u001b[39m\n",
      "\u001b[32;1m✔\u001b[39;22m \u001b[35;1mTest00_StringEditorCest:\u001b[39;22m Uppercase \u001b[32m(0.00s)\u001b[39m\n",
      "\u001b[32;1m✔\u001b[39;22m \u001b[35;1mTest00_StringEditorCest:\u001b[39;22m Replace and upper case \u001b[32m(0.00s)\u001b[39m\n",
      "\u001b[32;1m✔\u001b[39;22m \u001b[35;1mTest00_StringEditorCest:\u001b[39;22m Censor word \u001b[32m(0.00s)\u001b[39m\n",
      "\u001b[32;1m✔\u001b[39;22m \u001b[35;1mTest00_StringEditorCest:\u001b[39;22m Censor short and long words \u001b[32m(0.00s)\u001b[39m\n",
      "\u001b[32;1m✔\u001b[39;22m \u001b[35;1mTest00_StringEditorCest:\u001b[39;22m Repeat word \u001b[32m(0.00s)\u001b[39m\n",
      "\u001b[32;1m✔\u001b[39;22m \u001b[35;1mTest00_StringEditorCest:\u001b[39;22m Remove word \u001b[32m(0.00s)\u001b[39m\n",
      "\u001b[32;1m✔\u001b[39;22m \u001b[35;1mTest00_StringEditorCest:\u001b[39;22m Edit sentence \u001b[32m(0.00s)\u001b[39m\n",
      "\u001b[32;1m✔\u001b[39;22m \u001b[35;1mTest01_RingBufferCest:\u001b[39;22m Create \u001b[32m(0.00s)\u001b[39m\n",
      "\u001b[32;1m✔\u001b[39;22m \u001b[35;1mTest01_RingBufferCest:\u001b[39;22m Should be empty \u001b[32m(0.00s)\u001b[39m\n",
      "\u001b[32;1m✔\u001b[39;22m \u001b[35;1mTest01_RingBufferCest:\u001b[39;22m Capacity \u001b[32m(0.00s)\u001b[39m\n",
      "\u001b[32;1m✔\u001b[39;22m \u001b[35;1mTest01_RingBufferCest:\u001b[39;22m Size should be zero when empty \u001b[32m(0.00s)\u001b[39m\n",
      "\u001b[32;1m✔\u001b[39;22m \u001b[35;1mTest01_RingBufferCest:\u001b[39;22m Push value size should increase \u001b[32m(0.00s)\u001b[39m\n",
      "\u001b[32;1m✔\u001b[39;22m \u001b[35;1mTest01_RingBufferCest:\u001b[39;22m Empty should be false when full \u001b[32m(0.00s)\u001b[39m\n",
      "\u001b[32;1m✔\u001b[39;22m \u001b[35;1mTest01_RingBufferCest:\u001b[39;22m Pop from empty \u001b[32m(0.00s)\u001b[39m\n",
      "\u001b[32;1m✔\u001b[39;22m \u001b[35;1mTest01_RingBufferCest:\u001b[39;22m Push and pop single value \u001b[32m(0.00s)\u001b[39m\n",
      "\u001b[32;1m✔\u001b[39;22m \u001b[35;1mTest01_RingBufferCest:\u001b[39;22m Pop should reduce size \u001b[32m(0.00s)\u001b[39m\n",
      "\u001b[32;1m✔\u001b[39;22m \u001b[35;1mTest01_RingBufferCest:\u001b[39;22m Back should not change buffer \u001b[32m(0.00s)\u001b[39m\n",
      "\u001b[32;1m✔\u001b[39;22m \u001b[35;1mTest01_RingBufferCest:\u001b[39;22m Push multiple times \u001b[32m(0.00s)\u001b[39m\n",
      "\u001b[32;1m✔\u001b[39;22m \u001b[35;1mTest01_RingBufferCest:\u001b[39;22m Multi item buffer \u001b[32m(0.00s)\u001b[39m\n",
      "\u001b[32;1m✔\u001b[39;22m \u001b[35;1mTest01_RingBufferCest:\u001b[39;22m Push and pop all values \u001b[32m(0.00s)\u001b[39m\n",
      "\u001b[32;1m✔\u001b[39;22m \u001b[35;1mTest01_RingBufferCest:\u001b[39;22m Access values by index \u001b[32m(0.00s)\u001b[39m\n",
      "--------------------------------------------------------------------------------\n",
      "Time: 00:00.131, Memory: 8.00 MB\n",
      "\n",
      "\u001b[30;42mOK (24 tests, 75 assertions)\u001b[39;49m\n"
     ]
    }
   ],
   "source": [
    "! vendor/bin/codecept run Unit"
   ]
  },
  {
   "cell_type": "code",
   "execution_count": 206,
   "metadata": {},
   "outputs": [],
   "source": [
    "import subprocess\n",
    "phpServer = subprocess.Popen(['php', '-S', 'localhost:8888', '-t', 'public'])"
   ]
  },
  {
   "cell_type": "code",
   "execution_count": 207,
   "metadata": {},
   "outputs": [
    {
     "name": "stderr",
     "output_type": "stream",
     "text": [
      "[Mon Nov 21 23:20:11 2022] PHP 8.1.12 Development Server (http://localhost:8888) started\n"
     ]
    },
    {
     "name": "stdout",
     "output_type": "stream",
     "text": [
      "Done.\r\n"
     ]
    },
    {
     "name": "stderr",
     "output_type": "stream",
     "text": [
      "[Mon Nov 21 23:20:12 2022] [::1]:54104 Accepted\n",
      "[Mon Nov 21 23:20:12 2022] [::1]:54104 Closed without sending a request; it was probably just an unused speculative preconnection\n",
      "[Mon Nov 21 23:20:12 2022] [::1]:54104 Closing\n"
     ]
    }
   ],
   "source": [
    "! while ! timeout 1 bash -c \"echo > /dev/tcp/localhost/8888\" 2> /dev/null; do sleep 1; done; echo \"Done.\";"
   ]
  },
  {
   "cell_type": "code",
   "execution_count": 208,
   "metadata": {},
   "outputs": [
    {
     "name": "stdout",
     "output_type": "stream",
     "text": [
      "Codeception PHP Testing Framework v5.0.4 https://helpukrainewin.org\n",
      "\n",
      "\u001b[1mTests.Acceptance Tests (15) \u001b[22m----------------------------------------------------\n",
      "- \u001b[35;1mTest00_PrettyUrlCest:\u001b[39;22m Test"
     ]
    },
    {
     "name": "stderr",
     "output_type": "stream",
     "text": [
      "[Mon Nov 21 23:20:13 2022] [::1]:54118 Accepted\n",
      "[Mon Nov 21 23:20:13 2022] [::1]:54118 [200]: GET /\n",
      "[Mon Nov 21 23:20:13 2022] [::1]:54118 Closing\n",
      "[Mon Nov 21 23:20:13 2022] [::1]:54130 Accepted\n",
      "[Mon Nov 21 23:20:13 2022] [::1]:54130 [200]: GET /home\n",
      "[Mon Nov 21 23:20:13 2022] [::1]:54130 Closing\n",
      "[Mon Nov 21 23:20:13 2022] [::1]:54142 Accepted\n",
      "[Mon Nov 21 23:20:13 2022] [::1]:54142 [200]: GET /about\n",
      "[Mon Nov 21 23:20:13 2022] [::1]:54142 Closing\n",
      "[Mon Nov 21 23:20:13 2022] [::1]:54148 Accepted\n",
      "[Mon Nov 21 23:20:13 2022] [::1]:54148 [200]: GET /users\n",
      "[Mon Nov 21 23:20:13 2022] [::1]:54148 Closing\n",
      "[Mon Nov 21 23:20:13 2022] [::1]:54150 Accepted\n",
      "[Mon Nov 21 23:20:13 2022] [::1]:54150 [200]: GET /users/1\n",
      "[Mon Nov 21 23:20:13 2022] [::1]:54150 Closing\n",
      "[Mon Nov 21 23:20:13 2022] [::1]:54166 Accepted\n",
      "[Mon Nov 21 23:20:13 2022] [::1]:54166 [200]: GET /users\n",
      "[Mon Nov 21 23:20:13 2022] [::1]:54166 Closing\n",
      "[Mon Nov 21 23:20:13 2022] [::1]:54180 Accepted\n",
      "[Mon Nov 21 23:20:13 2022] [::1]:54180 [200]: GET /users/2\n",
      "[Mon Nov 21 23:20:13 2022] [::1]:54180 Closing\n",
      "[Mon Nov 21 23:20:13 2022] [::1]:54194 Accepted\n",
      "[Mon Nov 21 23:20:13 2022] [::1]:54194 [200]: GET /users\n",
      "[Mon Nov 21 23:20:13 2022] [::1]:54194 Closing\n",
      "[Mon Nov 21 23:20:13 2022] [::1]:54206 Accepted\n",
      "[Mon Nov 21 23:20:13 2022] [::1]:54206 [200]: GET /users/3\n",
      "[Mon Nov 21 23:20:13 2022] [::1]:54206 Closing\n",
      "[Mon Nov 21 23:20:13 2022] [::1]:54222 Accepted\n"
     ]
    },
    {
     "name": "stdout",
     "output_type": "stream",
     "text": [
      "\u001b[32;1m✔\u001b[39;22m \u001b[35;1mTest00_PrettyUrlCest:\u001b[39;22m Test \u001b[32m(0.21s)\u001b[39m\n",
      "\u001b[32;1m✔\u001b[39;22m \u001b[35;1mTest01_FileStorageCest:\u001b[39;22m Test \u001b[32m(0.04s)\u001b[39m\n",
      "\u001b[32;1m✔\u001b[39;22m \u001b[35;1mTest02_SessionStorageCest:\u001b[39;22m Test \u001b[32m(0.01s)\u001b[39m\n",
      "\u001b[32;1m✔\u001b[39;22m \u001b[35;1mTest03_SQLiteStorageCest:\u001b[39;22m Test \u001b[32m(0.10s)\u001b[39m\n",
      "- \u001b[35;1mTest04_MySQLStorageCest:\u001b[39;22m Test"
     ]
    },
    {
     "name": "stderr",
     "output_type": "stream",
     "text": [
      "[Mon Nov 21 23:20:13 2022] [::1]:54222 [200]: GET /demo/file\n",
      "[Mon Nov 21 23:20:13 2022] [::1]:54222 Closing\n",
      "[Mon Nov 21 23:20:13 2022] [::1]:54224 Accepted\n",
      "[Mon Nov 21 23:20:13 2022] [::1]:54224 [200]: GET /demo/session\n",
      "[Mon Nov 21 23:20:13 2022] [::1]:54224 Closing\n",
      "[Mon Nov 21 23:20:13 2022] [::1]:54238 Accepted\n",
      "[Mon Nov 21 23:20:13 2022] [::1]:54238 [200]: GET /demo/sqlite\n",
      "[Mon Nov 21 23:20:13 2022] [::1]:54238 Closing\n",
      "[Mon Nov 21 23:20:13 2022] [::1]:54248 Accepted\n"
     ]
    },
    {
     "name": "stdout",
     "output_type": "stream",
     "text": [
      "\r",
      "\u001b[32;1m✔\u001b[39;22m \u001b[35;1mTest04_MySQLStorageCest:\u001b[39;22m Test \u001b[32m(0.31s)\u001b[39m\r\n",
      "- \u001b[35;1mTest05_RedisStorageCest:\u001b[39;22m Test"
     ]
    },
    {
     "name": "stderr",
     "output_type": "stream",
     "text": [
      "[Mon Nov 21 23:20:13 2022] [::1]:54248 [200]: GET /demo/mysql\n",
      "[Mon Nov 21 23:20:13 2022] [::1]:54248 Closing\n",
      "[Mon Nov 21 23:20:13 2022] [::1]:54250 Accepted\n",
      "[Mon Nov 21 23:20:13 2022] [::1]:54250 [200]: GET /demo/mysql\n",
      "[Mon Nov 21 23:20:13 2022] [::1]:54250 Closing\n",
      "[Mon Nov 21 23:20:13 2022] [::1]:54258 Accepted\n",
      "[Mon Nov 21 23:20:13 2022] [::1]:54258 [200]: GET /demo/redis\n",
      "[Mon Nov 21 23:20:13 2022] [::1]:54258 Closing\n"
     ]
    },
    {
     "name": "stdout",
     "output_type": "stream",
     "text": [
      "\u001b[32;1m✔\u001b[39;22m \u001b[35;1mTest05_RedisStorageCest:\u001b[39;22m Test \u001b[32m(0.05s)\u001b[39m\n",
      "\u001b[32;1m✔\u001b[39;22m \u001b[35;1mTest06_HomepageCest:\u001b[39;22m See login and register links \u001b[32m(0.11s)\u001b[39m\n",
      "- \u001b[35;1mTest07_RegisterCest:\u001b[39;22m Register new user"
     ]
    },
    {
     "name": "stderr",
     "output_type": "stream",
     "text": [
      "[Mon Nov 21 23:20:13 2022] [::1]:54274 Accepted\n",
      "[Mon Nov 21 23:20:13 2022] [::1]:54274 [200]: GET /\n",
      "[Mon Nov 21 23:20:13 2022] [::1]:54274 Closing\n",
      "[Mon Nov 21 23:20:13 2022] [::1]:54284 Accepted\n",
      "[Mon Nov 21 23:20:13 2022] [::1]:54284 [200]: GET /home\n",
      "[Mon Nov 21 23:20:13 2022] [::1]:54284 Closing\n",
      "[Mon Nov 21 23:20:14 2022] [::1]:54298 Accepted\n",
      "[Mon Nov 21 23:20:14 2022] [::1]:54298 [200]: GET /\n",
      "[Mon Nov 21 23:20:14 2022] [::1]:54298 Closing\n",
      "[Mon Nov 21 23:20:14 2022] [::1]:54306 Accepted\n",
      "[Mon Nov 21 23:20:14 2022] [::1]:54306 [200]: GET /auth/register\n",
      "[Mon Nov 21 23:20:14 2022] [::1]:54306 Closing\n",
      "[Mon Nov 21 23:20:14 2022] [::1]:54316 Accepted\n",
      "[Mon Nov 21 23:20:14 2022] [::1]:54316 [302]: POST /auth/register\n",
      "[Mon Nov 21 23:20:14 2022] [::1]:54316 Closing\n",
      "[Mon Nov 21 23:20:14 2022] [::1]:54318 Accepted\n",
      "[Mon Nov 21 23:20:14 2022] [::1]:54318 [200]: GET /auth/confirmation_notice\n",
      "[Mon Nov 21 23:20:14 2022] [::1]:54318 Closing\n"
     ]
    },
    {
     "name": "stdout",
     "output_type": "stream",
     "text": [
      "\u001b[32;1m✔\u001b[39;22m \u001b[35;1mTest07_RegisterCest:\u001b[39;22m Register new user \u001b[32m(0.55s)\u001b[39m\n",
      "\u001b[32;1m✔\u001b[39;22m \u001b[35;1mTest08_RegisterValidationCest:\u001b[39;22m Validate data entered during registration \u001b[32m(0.15s)\u001b[39m\n",
      "- \u001b[35;1mTest09_RegisterRememberFieldsCest:\u001b[39;22m Remember data entered during registration when validation error is present"
     ]
    },
    {
     "name": "stderr",
     "output_type": "stream",
     "text": [
      "[Mon Nov 21 23:20:14 2022] [::1]:54334 Accepted\n",
      "[Mon Nov 21 23:20:14 2022] [::1]:54334 [200]: GET /auth/register\n",
      "[Mon Nov 21 23:20:14 2022] [::1]:54334 Closing\n",
      "[Mon Nov 21 23:20:14 2022] [::1]:54348 Accepted\n",
      "[Mon Nov 21 23:20:14 2022] [::1]:54348 [200]: POST /auth/register\n",
      "[Mon Nov 21 23:20:14 2022] [::1]:54348 Closing\n",
      "[Mon Nov 21 23:20:14 2022] [::1]:54352 Accepted\n",
      "[Mon Nov 21 23:20:14 2022] [::1]:54352 [200]: POST /auth/register\n",
      "[Mon Nov 21 23:20:14 2022] [::1]:54352 Closing\n",
      "[Mon Nov 21 23:20:14 2022] [::1]:54368 Accepted\n",
      "[Mon Nov 21 23:20:14 2022] [::1]:54368 [200]: GET /auth/register\n",
      "[Mon Nov 21 23:20:14 2022] [::1]:54368 Closing\n",
      "[Mon Nov 21 23:20:14 2022] [::1]:54372 Accepted\n",
      "[Mon Nov 21 23:20:14 2022] [::1]:54372 [200]: POST /auth/register\n",
      "[Mon Nov 21 23:20:14 2022] [::1]:54372 Closing\n",
      "[Mon Nov 21 23:20:14 2022] [::1]:54388 Accepted\n",
      "[Mon Nov 21 23:20:14 2022] [::1]:54388 [200]: POST /auth/register\n",
      "[Mon Nov 21 23:20:14 2022] [::1]:54388 Closing\n",
      "[Mon Nov 21 23:20:14 2022] [::1]:54404 Accepted\n",
      "[Mon Nov 21 23:20:14 2022] [::1]:54404 [200]: POST /auth/register\n",
      "[Mon Nov 21 23:20:14 2022] [::1]:54404 Closing\n"
     ]
    },
    {
     "name": "stdout",
     "output_type": "stream",
     "text": [
      "\u001b[32;1m✔\u001b[39;22m \u001b[35;1mTest09_RegisterRememberFieldsCest:\u001b[39;22m Remember data entered during registration when validation error is present \u001b[32m(0.23s)\u001b[39m\n",
      "- \u001b[35;1mTest10_RegisterConfirmCest:\u001b[39;22m Confirm user using link"
     ]
    },
    {
     "name": "stderr",
     "output_type": "stream",
     "text": [
      "[Mon Nov 21 23:20:14 2022] [::1]:54420 Accepted\n",
      "[Mon Nov 21 23:20:14 2022] [::1]:54420 [200]: POST /auth/register\n",
      "[Mon Nov 21 23:20:14 2022] [::1]:54420 Closing\n",
      "[Mon Nov 21 23:20:14 2022] [::1]:54434 Accepted\n",
      "[Mon Nov 21 23:20:14 2022] [::1]:54434 [200]: POST /auth/register\n",
      "[Mon Nov 21 23:20:14 2022] [::1]:54434 Closing\n",
      "[Mon Nov 21 23:20:14 2022] [::1]:54438 Accepted\n",
      "[Mon Nov 21 23:20:14 2022] [::1]:54438 [200]: GET /auth/register\n",
      "[Mon Nov 21 23:20:14 2022] [::1]:54438 Closing\n"
     ]
    },
    {
     "name": "stdout",
     "output_type": "stream",
     "text": [
      "\r",
      "\u001b[32;1m✔\u001b[39;22m \u001b[35;1mTest10_RegisterConfirmCest:\u001b[39;22m Check that info disappears after page refresh \u001b[32m(0.38s)\u001b[39m\r\n",
      "- \u001b[35;1mTest11_LoginNotExistingCest:\u001b[39;22m See error when user does not exists"
     ]
    },
    {
     "name": "stderr",
     "output_type": "stream",
     "text": [
      "[Mon Nov 21 23:20:15 2022] [::1]:54448 Accepted\n",
      "[Mon Nov 21 23:20:15 2022] [::1]:54448 [302]: GET /auth/confirm/ThisIsAnInvalidEmailConfirmationToken\n",
      "[Mon Nov 21 23:20:15 2022] [::1]:54448 Closing\n",
      "[Mon Nov 21 23:20:15 2022] [::1]:54464 Accepted\n",
      "[Mon Nov 21 23:20:15 2022] [::1]:54464 [200]: GET /\n",
      "[Mon Nov 21 23:20:15 2022] [::1]:54464 Closing\n",
      "[Mon Nov 21 23:20:15 2022] [::1]:54480 Accepted\n",
      "[Mon Nov 21 23:20:15 2022] [::1]:54480 [200]: GET /\n",
      "[Mon Nov 21 23:20:15 2022] [::1]:54480 Closing\n",
      "[Mon Nov 21 23:20:15 2022] [::1]:54496 Accepted\n",
      "[Mon Nov 21 23:20:15 2022] [::1]:54496 [302]: GET /auth/confirm/76d36e54bb693c36bd0742ffc29bbee6\n",
      "[Mon Nov 21 23:20:15 2022] [::1]:54496 Closing\n",
      "[Mon Nov 21 23:20:15 2022] [::1]:54508 Accepted\n",
      "[Mon Nov 21 23:20:15 2022] [::1]:54508 [200]: GET /\n",
      "[Mon Nov 21 23:20:15 2022] [::1]:54508 Closing\n",
      "[Mon Nov 21 23:20:15 2022] [::1]:54522 Accepted\n",
      "[Mon Nov 21 23:20:15 2022] [::1]:54522 [200]: GET /\n",
      "[Mon Nov 21 23:20:15 2022] [::1]:54522 Closing\n"
     ]
    },
    {
     "name": "stdout",
     "output_type": "stream",
     "text": [
      "\u001b[32;1m✔\u001b[39;22m \u001b[35;1mTest11_LoginNotExistingCest:\u001b[39;22m See error when user does not exists \u001b[32m(0.13s)\u001b[39m\n",
      "- \u001b[35;1mTest12_LoginWrongPasswordCest:\u001b[39;22m See error when wrong password is entered"
     ]
    },
    {
     "name": "stderr",
     "output_type": "stream",
     "text": [
      "[Mon Nov 21 23:20:15 2022] [::1]:54536 Accepted\n",
      "[Mon Nov 21 23:20:15 2022] [::1]:54536 [200]: GET /auth/login\n",
      "[Mon Nov 21 23:20:15 2022] [::1]:54536 Closing\n",
      "[Mon Nov 21 23:20:15 2022] [::1]:54550 Accepted\n",
      "[Mon Nov 21 23:20:15 2022] [::1]:54550 [302]: POST /auth/login\n",
      "[Mon Nov 21 23:20:15 2022] [::1]:54550 Closing\n",
      "[Mon Nov 21 23:20:15 2022] [::1]:54562 Accepted\n",
      "[Mon Nov 21 23:20:15 2022] [::1]:54562 [200]: GET /\n",
      "[Mon Nov 21 23:20:15 2022] [::1]:54562 Closing\n",
      "[Mon Nov 21 23:20:15 2022] [::1]:54576 Accepted\n",
      "[Mon Nov 21 23:20:15 2022] [::1]:54576 [200]: GET /auth/login\n",
      "[Mon Nov 21 23:20:15 2022] [::1]:54576 Closing\n"
     ]
    },
    {
     "name": "stdout",
     "output_type": "stream",
     "text": [
      "\r",
      "\u001b[32;1m✔\u001b[39;22m \u001b[35;1mTest12_LoginWrongPasswordCest:\u001b[39;22m See error when wrong password is entered \u001b[32m(0.40s)\u001b[39m\r\n",
      "- \u001b[35;1mTest13_LoginNotConfirmedCest:\u001b[39;22m Be remained about email confirmation when trying to login"
     ]
    },
    {
     "name": "stderr",
     "output_type": "stream",
     "text": [
      "[Mon Nov 21 23:20:15 2022] [::1]:36722 Accepted\n",
      "[Mon Nov 21 23:20:15 2022] [::1]:36722 [200]: POST /auth/login\n",
      "[Mon Nov 21 23:20:15 2022] [::1]:36722 Closing\n",
      "[Mon Nov 21 23:20:16 2022] [::1]:36736 Accepted\n",
      "[Mon Nov 21 23:20:16 2022] [::1]:36736 [200]: GET /auth/login\n",
      "[Mon Nov 21 23:20:16 2022] [::1]:36736 Closing\n",
      "[Mon Nov 21 23:20:16 2022] [::1]:36740 Accepted\n"
     ]
    },
    {
     "name": "stdout",
     "output_type": "stream",
     "text": [
      "\r",
      "\u001b[32;1m✔\u001b[39;22m \u001b[35;1mTest13_LoginNotConfirmedCest:\u001b[39;22m Be remained about email confirmation when trying to login \u001b[32m(0.45s)\u001b[39m\r\n",
      "- \u001b[35;1mTest14_LoginLogoutSeeHiddenContentCest:\u001b[39;22m See hidden content after login"
     ]
    },
    {
     "name": "stderr",
     "output_type": "stream",
     "text": [
      "[Mon Nov 21 23:20:16 2022] [::1]:36740 [302]: POST /auth/login\n",
      "[Mon Nov 21 23:20:16 2022] [::1]:36740 Closing\n",
      "[Mon Nov 21 23:20:16 2022] [::1]:36748 Accepted\n",
      "[Mon Nov 21 23:20:16 2022] [::1]:36748 [200]: GET /auth/confirmation_notice\n",
      "[Mon Nov 21 23:20:16 2022] [::1]:36748 Closing\n",
      "[Mon Nov 21 23:20:16 2022] [::1]:36750 Accepted\n",
      "[Mon Nov 21 23:20:16 2022] [::1]:36750 [200]: GET /\n",
      "[Mon Nov 21 23:20:16 2022] [::1]:36750 Closing\n",
      "[Mon Nov 21 23:20:16 2022] [::1]:36758 Accepted\n",
      "[Mon Nov 21 23:20:16 2022] [::1]:36758 [200]: GET /auth/login\n",
      "[Mon Nov 21 23:20:16 2022] [::1]:36758 Closing\n",
      "[Mon Nov 21 23:20:16 2022] [::1]:36768 Accepted\n"
     ]
    },
    {
     "name": "stdout",
     "output_type": "stream",
     "text": [
      "\u001b[31;1m✖\u001b[39;22m \u001b[35;1mTest14_LoginLogoutSeeHiddenContentCest:\u001b[39;22m See hidden content after login \u001b[32m(0.53s)\u001b[39m\n",
      "--------------------------------------------------------------------------------\n",
      "Time: 00:03.950, Memory: 12.00 MB\n",
      "\n",
      "There was 1 failure:\n",
      "1) \u001b[35;1mTest14_LoginLogoutSeeHiddenContentCest:\u001b[39;22m See hidden content after login\n",
      "\u001b[37;41;1m Test  \u001b[39;49;22mtests/Acceptance/Test14_LoginLogoutSeeHiddenContentCest.php:test\n",
      "\u001b[37;41;1m Step \u001b[39;49;22m See \"Logged out successfully!\"\n",
      "\u001b[37;41;1m Fail \u001b[39;49;22m Failed asserting that on page /\n",
      "-->  Homepage Home Demo About Users Welcome on homepage! LoginRegister \n",
      "--> contains \"Logged out successfully!\".\n",
      "\u001b[33m\n",
      "Scenario Steps:\n",
      "\u001b[39m\n",
      "\u001b[1m 21. $I->see(\"Logged out successfully!\")\u001b[22m at \u001b[32mtests/Acceptance/Test14_LoginLogoutSeeHiddenContentCest.php:65\u001b[39m\n",
      " 20. $I->seeCurrentUrlEquals(\"/\") at \u001b[32mtests/Acceptance/Test14_LoginLogoutSeeHiddenContentCest.php:64\u001b[39m\n",
      " 19. $I->click(\"Logout\") at \u001b[32mtests/Acceptance/Test14_LoginLogoutSeeHiddenContentCest.php:62\u001b[39m\n",
      " 18. $I->see(\"Dummy User\",\"h3.user\") at \u001b[32mtests/Acceptance/Test14_LoginLogoutSeeHiddenContentCest.php:60\u001b[39m\n",
      " 17. $I->seeLink(\"Logout\",\"/auth/logout\") at \u001b[32mtests/Acceptance/Test14_LoginLogoutSeeHiddenContentCest.php:58\u001b[39m\n",
      " 16. $I->dontSeeLink(\"Register\",\"/auth/register\") at \u001b[32mtests/Acceptance/Test14_LoginLogoutSeeHiddenContentCest.php:57\u001b[39m\n",
      "\n",
      "\u001b[33mArtifacts:\u001b[39m\n",
      "\n",
      "Html: \u001b[36m/home/student/php_2022_adam_lewinski/07_testing/02_exercise/project/tests/_output/Tests.Acceptance.Test14_LoginLogoutSeeHiddenContentCest.test.fail.html\u001b[39m\n",
      "Response: \u001b[36m/home/student/php_2022_adam_lewinski/07_testing/02_exercise/project/tests/_output/Tests.Acceptance.Test14_LoginLogoutSeeHiddenContentCest.test.fail.html\u001b[39m\n",
      "\n",
      "\u001b[37;41;1mFAILURES!\u001b[39;49;22m\n",
      "\u001b[37;41;1mTests: 15, Assertions: 272, Failures: 1.\u001b[39;49;22m\n"
     ]
    },
    {
     "name": "stderr",
     "output_type": "stream",
     "text": [
      "[Mon Nov 21 23:20:16 2022] [::1]:36768 [302]: POST /auth/login\n",
      "[Mon Nov 21 23:20:16 2022] [::1]:36768 Closing\n",
      "[Mon Nov 21 23:20:16 2022] [::1]:36784 Accepted\n",
      "[Mon Nov 21 23:20:16 2022] [::1]:36784 [200]: GET /\n",
      "[Mon Nov 21 23:20:16 2022] [::1]:36784 Closing\n",
      "[Mon Nov 21 23:20:16 2022] [::1]:36790 Accepted\n",
      "[Mon Nov 21 23:20:16 2022] [::1]:36790 [302]: GET /auth/logout\n",
      "[Mon Nov 21 23:20:16 2022] [::1]:36790 Closing\n",
      "[Mon Nov 21 23:20:16 2022] [::1]:36806 Accepted\n",
      "[Mon Nov 21 23:20:16 2022] [::1]:36806 [200]: GET /\n",
      "[Mon Nov 21 23:20:16 2022] [::1]:36806 Closing\n"
     ]
    }
   ],
   "source": [
    "! vendor/bin/codecept run Acceptance"
   ]
  },
  {
   "cell_type": "code",
   "execution_count": 209,
   "metadata": {},
   "outputs": [
    {
     "name": "stdout",
     "output_type": "stream",
     "text": [
      "Codeception PHP Testing Framework v5.0.4 https://helpukrainewin.org\n",
      "\n",
      "\u001b[1mTests.Acceptance Tests (15) \u001b[22m----------------------------------------------------\n",
      "\u001b[32;1m✔\u001b[39;22m \u001b[35;1mTest00_PrettyUrlCest:\u001b[39;22m Test \u001b[32m(0.14s)\u001b[39m\n",
      "\u001b[32;1m✔\u001b[39;22m \u001b[35;1mTest01_FileStorageCest:\u001b[39;22m Test \u001b[32m(0.03s)\u001b[39m\n"
     ]
    },
    {
     "name": "stderr",
     "output_type": "stream",
     "text": [
      "[Mon Nov 21 23:20:17 2022] [::1]:36810 Accepted\n",
      "[Mon Nov 21 23:20:17 2022] [::1]:36810 [200]: GET /\n",
      "[Mon Nov 21 23:20:17 2022] [::1]:36810 Closing\n",
      "[Mon Nov 21 23:20:17 2022] [::1]:36820 Accepted\n",
      "[Mon Nov 21 23:20:17 2022] [::1]:36820 [200]: GET /home\n",
      "[Mon Nov 21 23:20:17 2022] [::1]:36820 Closing\n",
      "[Mon Nov 21 23:20:17 2022] [::1]:36828 Accepted\n",
      "[Mon Nov 21 23:20:17 2022] [::1]:36828 [200]: GET /about\n",
      "[Mon Nov 21 23:20:17 2022] [::1]:36828 Closing\n",
      "[Mon Nov 21 23:20:17 2022] [::1]:36838 Accepted\n",
      "[Mon Nov 21 23:20:17 2022] [::1]:36838 [200]: GET /users\n",
      "[Mon Nov 21 23:20:17 2022] [::1]:36838 Closing\n",
      "[Mon Nov 21 23:20:17 2022] [::1]:36846 Accepted\n",
      "[Mon Nov 21 23:20:17 2022] [::1]:36846 [200]: GET /users/1\n",
      "[Mon Nov 21 23:20:17 2022] [::1]:36846 Closing\n",
      "[Mon Nov 21 23:20:17 2022] [::1]:36854 Accepted\n",
      "[Mon Nov 21 23:20:17 2022] [::1]:36854 [200]: GET /users\n",
      "[Mon Nov 21 23:20:17 2022] [::1]:36854 Closing\n",
      "[Mon Nov 21 23:20:17 2022] [::1]:36866 Accepted\n",
      "[Mon Nov 21 23:20:17 2022] [::1]:36866 [200]: GET /users/2\n",
      "[Mon Nov 21 23:20:17 2022] [::1]:36866 Closing\n",
      "[Mon Nov 21 23:20:17 2022] [::1]:36878 Accepted\n",
      "[Mon Nov 21 23:20:17 2022] [::1]:36878 [200]: GET /users\n",
      "[Mon Nov 21 23:20:17 2022] [::1]:36878 Closing\n",
      "[Mon Nov 21 23:20:17 2022] [::1]:36882 Accepted\n",
      "[Mon Nov 21 23:20:17 2022] [::1]:36882 [200]: GET /users/3\n",
      "[Mon Nov 21 23:20:17 2022] [::1]:36882 Closing\n",
      "[Mon Nov 21 23:20:17 2022] [::1]:36888 Accepted\n",
      "[Mon Nov 21 23:20:17 2022] [::1]:36888 [200]: GET /demo/file\n",
      "[Mon Nov 21 23:20:17 2022] [::1]:36888 Closing\n",
      "[Mon Nov 21 23:20:17 2022] [::1]:36904 Accepted\n",
      "[Mon Nov 21 23:20:17 2022] [::1]:36904 [200]: GET /demo/session\n",
      "[Mon Nov 21 23:20:17 2022] [::1]:36904 Closing\n",
      "[Mon Nov 21 23:20:17 2022] [::1]:36916 Accepted\n"
     ]
    },
    {
     "name": "stdout",
     "output_type": "stream",
     "text": [
      "\u001b[32;1m✔\u001b[39;22m \u001b[35;1mTest02_SessionStorageCest:\u001b[39;22m Test \u001b[32m(0.01s)\u001b[39m\n",
      "\u001b[32;1m✔\u001b[39;22m \u001b[35;1mTest03_SQLiteStorageCest:\u001b[39;22m Test \u001b[32m(0.12s)\u001b[39m\n",
      "- \u001b[35;1mTest04_MySQLStorageCest:\u001b[39;22m Test"
     ]
    },
    {
     "name": "stderr",
     "output_type": "stream",
     "text": [
      "[Mon Nov 21 23:20:17 2022] [::1]:36916 [200]: GET /demo/sqlite\n",
      "[Mon Nov 21 23:20:17 2022] [::1]:36916 Closing\n",
      "[Mon Nov 21 23:20:17 2022] [::1]:36922 Accepted\n",
      "[Mon Nov 21 23:20:17 2022] [::1]:36922 [200]: GET /demo/mysql\n",
      "[Mon Nov 21 23:20:17 2022] [::1]:36922 Closing\n",
      "[Mon Nov 21 23:20:17 2022] [::1]:36928 Accepted\n"
     ]
    },
    {
     "name": "stdout",
     "output_type": "stream",
     "text": [
      "\u001b[32;1m✔\u001b[39;22m \u001b[35;1mTest04_MySQLStorageCest:\u001b[39;22m Test \u001b[32m(0.29s)\u001b[39m\n",
      "\u001b[32;1m✔\u001b[39;22m \u001b[35;1mTest05_RedisStorageCest:\u001b[39;22m Test \u001b[32m(0.03s)\u001b[39m\n",
      "\u001b[32;1m✔\u001b[39;22m \u001b[35;1mTest06_HomepageCest:\u001b[39;22m See login and register links \u001b[32m(0.09s)\u001b[39m\n",
      "- \u001b[35;1mTest07_RegisterCest:\u001b[39;22m Register new user"
     ]
    },
    {
     "name": "stderr",
     "output_type": "stream",
     "text": [
      "[Mon Nov 21 23:20:17 2022] [::1]:36928 [200]: GET /demo/mysql\n",
      "[Mon Nov 21 23:20:17 2022] [::1]:36928 Closing\n",
      "[Mon Nov 21 23:20:18 2022] [::1]:36936 Accepted\n",
      "[Mon Nov 21 23:20:18 2022] [::1]:36936 [200]: GET /demo/redis\n",
      "[Mon Nov 21 23:20:18 2022] [::1]:36936 Closing\n",
      "[Mon Nov 21 23:20:18 2022] [::1]:36944 Accepted\n",
      "[Mon Nov 21 23:20:18 2022] [::1]:36944 [200]: GET /\n",
      "[Mon Nov 21 23:20:18 2022] [::1]:36944 Closing\n",
      "[Mon Nov 21 23:20:18 2022] [::1]:36956 Accepted\n",
      "[Mon Nov 21 23:20:18 2022] [::1]:36956 [200]: GET /home\n",
      "[Mon Nov 21 23:20:18 2022] [::1]:36956 Closing\n",
      "[Mon Nov 21 23:20:18 2022] [::1]:36962 Accepted\n",
      "[Mon Nov 21 23:20:18 2022] [::1]:36962 [200]: GET /\n",
      "[Mon Nov 21 23:20:18 2022] [::1]:36962 Closing\n",
      "[Mon Nov 21 23:20:18 2022] [::1]:36970 Accepted\n",
      "[Mon Nov 21 23:20:18 2022] [::1]:36970 [200]: GET /auth/register\n",
      "[Mon Nov 21 23:20:18 2022] [::1]:36970 Closing\n",
      "[Mon Nov 21 23:20:18 2022] [::1]:36978 Accepted\n",
      "[Mon Nov 21 23:20:18 2022] [::1]:36978 [302]: POST /auth/register\n",
      "[Mon Nov 21 23:20:18 2022] [::1]:36978 Closing\n",
      "[Mon Nov 21 23:20:18 2022] [::1]:36986 Accepted\n",
      "[Mon Nov 21 23:20:18 2022] [::1]:36986 [200]: GET /auth/confirmation_notice\n",
      "[Mon Nov 21 23:20:18 2022] [::1]:36986 Closing\n"
     ]
    },
    {
     "name": "stdout",
     "output_type": "stream",
     "text": [
      "\u001b[32;1m✔\u001b[39;22m \u001b[35;1mTest07_RegisterCest:\u001b[39;22m Register new user \u001b[32m(0.46s)\u001b[39m\n",
      "\u001b[32;1m✔\u001b[39;22m \u001b[35;1mTest08_RegisterValidationCest:\u001b[39;22m Validate data entered during registration \u001b[32m(0.14s)\u001b[39m\n",
      "- \u001b[35;1mTest09_RegisterRememberFieldsCest:\u001b[39;22m Remember data entered during registration when validation error is present"
     ]
    },
    {
     "name": "stderr",
     "output_type": "stream",
     "text": [
      "[Mon Nov 21 23:20:18 2022] [::1]:36988 Accepted\n",
      "[Mon Nov 21 23:20:18 2022] [::1]:36988 [200]: GET /auth/register\n",
      "[Mon Nov 21 23:20:18 2022] [::1]:36988 Closing\n",
      "[Mon Nov 21 23:20:18 2022] [::1]:37002 Accepted\n",
      "[Mon Nov 21 23:20:18 2022] [::1]:37002 [200]: POST /auth/register\n",
      "[Mon Nov 21 23:20:18 2022] [::1]:37002 Closing\n",
      "[Mon Nov 21 23:20:18 2022] [::1]:37018 Accepted\n",
      "[Mon Nov 21 23:20:18 2022] [::1]:37018 [200]: POST /auth/register\n",
      "[Mon Nov 21 23:20:18 2022] [::1]:37018 Closing\n",
      "[Mon Nov 21 23:20:18 2022] [::1]:37034 Accepted\n",
      "[Mon Nov 21 23:20:18 2022] [::1]:37034 [200]: GET /auth/register\n",
      "[Mon Nov 21 23:20:18 2022] [::1]:37034 Closing\n",
      "[Mon Nov 21 23:20:18 2022] [::1]:37040 Accepted\n",
      "[Mon Nov 21 23:20:18 2022] [::1]:37040 [200]: POST /auth/register\n",
      "[Mon Nov 21 23:20:18 2022] [::1]:37040 Closing\n",
      "[Mon Nov 21 23:20:18 2022] [::1]:37044 Accepted\n",
      "[Mon Nov 21 23:20:18 2022] [::1]:37044 [200]: POST /auth/register\n"
     ]
    },
    {
     "name": "stdout",
     "output_type": "stream",
     "text": [
      "\r",
      "\u001b[32;1m✔\u001b[39;22m \u001b[35;1mTest09_RegisterRememberFieldsCest:\u001b[39;22m Remember data entered during registration when validation error is present \u001b[32m(0.29s)\u001b[39m\r\n",
      "- \u001b[35;1mTest10_RegisterConfirmCest:\u001b[39;22m Confirm user using link"
     ]
    },
    {
     "name": "stderr",
     "output_type": "stream",
     "text": [
      "[Mon Nov 21 23:20:18 2022] [::1]:37044 Closing\n",
      "[Mon Nov 21 23:20:18 2022] [::1]:37046 Accepted\n",
      "[Mon Nov 21 23:20:18 2022] [::1]:37046 [200]: POST /auth/register\n",
      "[Mon Nov 21 23:20:18 2022] [::1]:37046 Closing\n",
      "[Mon Nov 21 23:20:18 2022] [::1]:37048 Accepted\n",
      "[Mon Nov 21 23:20:18 2022] [::1]:37048 [200]: POST /auth/register\n",
      "[Mon Nov 21 23:20:18 2022] [::1]:37048 Closing\n",
      "[Mon Nov 21 23:20:18 2022] [::1]:37062 Accepted\n",
      "[Mon Nov 21 23:20:18 2022] [::1]:37062 [200]: POST /auth/register\n",
      "[Mon Nov 21 23:20:18 2022] [::1]:37062 Closing\n",
      "[Mon Nov 21 23:20:19 2022] [::1]:37072 Accepted\n",
      "[Mon Nov 21 23:20:19 2022] [::1]:37072 [200]: GET /auth/register\n",
      "[Mon Nov 21 23:20:19 2022] [::1]:37072 Closing\n"
     ]
    },
    {
     "name": "stdout",
     "output_type": "stream",
     "text": [
      "\r",
      "\u001b[32;1m✔\u001b[39;22m \u001b[35;1mTest10_RegisterConfirmCest:\u001b[39;22m Check that info disappears after page refresh \u001b[32m(0.39s)\u001b[39m\r\n",
      "- \u001b[35;1mTest11_LoginNotExistingCest:\u001b[39;22m See error when user does not exists"
     ]
    },
    {
     "name": "stderr",
     "output_type": "stream",
     "text": [
      "[Mon Nov 21 23:20:19 2022] [::1]:37078 Accepted\n",
      "[Mon Nov 21 23:20:19 2022] [::1]:37078 [302]: GET /auth/confirm/ThisIsAnInvalidEmailConfirmationToken\n",
      "[Mon Nov 21 23:20:19 2022] [::1]:37078 Closing\n",
      "[Mon Nov 21 23:20:19 2022] [::1]:37094 Accepted\n",
      "[Mon Nov 21 23:20:19 2022] [::1]:37094 [200]: GET /\n",
      "[Mon Nov 21 23:20:19 2022] [::1]:37094 Closing\n",
      "[Mon Nov 21 23:20:19 2022] [::1]:37110 Accepted\n",
      "[Mon Nov 21 23:20:19 2022] [::1]:37110 [200]: GET /\n",
      "[Mon Nov 21 23:20:19 2022] [::1]:37110 Closing\n",
      "[Mon Nov 21 23:20:19 2022] [::1]:37112 Accepted\n",
      "[Mon Nov 21 23:20:19 2022] [::1]:37112 [302]: GET /auth/confirm/01fcc7bce5e6193a12ef6c5dda9733fc\n",
      "[Mon Nov 21 23:20:19 2022] [::1]:37112 Closing\n",
      "[Mon Nov 21 23:20:19 2022] [::1]:37122 Accepted\n",
      "[Mon Nov 21 23:20:19 2022] [::1]:37122 [200]: GET /\n",
      "[Mon Nov 21 23:20:19 2022] [::1]:37122 Closing\n",
      "[Mon Nov 21 23:20:19 2022] [::1]:37132 Accepted\n",
      "[Mon Nov 21 23:20:19 2022] [::1]:37132 [200]: GET /\n",
      "[Mon Nov 21 23:20:19 2022] [::1]:37132 Closing\n"
     ]
    },
    {
     "name": "stdout",
     "output_type": "stream",
     "text": [
      "\r",
      "\u001b[32;1m✔\u001b[39;22m \u001b[35;1mTest11_LoginNotExistingCest:\u001b[39;22m See error when user does not exists \u001b[32m(0.13s)\u001b[39m\r\n",
      "- \u001b[35;1mTest12_LoginWrongPasswordCest:\u001b[39;22m See error when wrong password is entered"
     ]
    },
    {
     "name": "stderr",
     "output_type": "stream",
     "text": [
      "[Mon Nov 21 23:20:19 2022] [::1]:37136 Accepted\n",
      "[Mon Nov 21 23:20:19 2022] [::1]:37136 [200]: GET /auth/login\n",
      "[Mon Nov 21 23:20:19 2022] [::1]:37136 Closing\n",
      "[Mon Nov 21 23:20:19 2022] [::1]:37144 Accepted\n",
      "[Mon Nov 21 23:20:19 2022] [::1]:37144 [302]: POST /auth/login\n",
      "[Mon Nov 21 23:20:19 2022] [::1]:37144 Closing\n",
      "[Mon Nov 21 23:20:19 2022] [::1]:37148 Accepted\n",
      "[Mon Nov 21 23:20:19 2022] [::1]:37148 [200]: GET /\n",
      "[Mon Nov 21 23:20:19 2022] [::1]:37148 Closing\n",
      "[Mon Nov 21 23:20:19 2022] [::1]:37150 Accepted\n",
      "[Mon Nov 21 23:20:19 2022] [::1]:37150 [200]: GET /auth/login\n",
      "[Mon Nov 21 23:20:19 2022] [::1]:37150 Closing\n"
     ]
    },
    {
     "name": "stdout",
     "output_type": "stream",
     "text": [
      "\r",
      "\u001b[32;1m✔\u001b[39;22m \u001b[35;1mTest12_LoginWrongPasswordCest:\u001b[39;22m See error when wrong password is entered \u001b[32m(0.40s)\u001b[39m\r\n"
     ]
    },
    {
     "name": "stderr",
     "output_type": "stream",
     "text": [
      "[Mon Nov 21 23:20:19 2022] [::1]:37166 Accepted\n",
      "[Mon Nov 21 23:20:19 2022] [::1]:37166 [200]: POST /auth/login\n",
      "[Mon Nov 21 23:20:19 2022] [::1]:37166 Closing\n"
     ]
    },
    {
     "name": "stdout",
     "output_type": "stream",
     "text": [
      "- \u001b[35;1mTest13_LoginNotConfirmedCest:\u001b[39;22m Be remained about email confirmation when trying to login"
     ]
    },
    {
     "name": "stderr",
     "output_type": "stream",
     "text": [
      "[Mon Nov 21 23:20:20 2022] [::1]:37172 Accepted\n",
      "[Mon Nov 21 23:20:20 2022] [::1]:37172 [200]: GET /auth/login\n",
      "[Mon Nov 21 23:20:20 2022] [::1]:37172 Closing\n",
      "[Mon Nov 21 23:20:20 2022] [::1]:37178 Accepted\n"
     ]
    },
    {
     "name": "stdout",
     "output_type": "stream",
     "text": [
      "\r",
      "\u001b[32;1m✔\u001b[39;22m \u001b[35;1mTest13_LoginNotConfirmedCest:\u001b[39;22m Be remained about email confirmation when trying to login \u001b[32m(0.43s)\u001b[39m\r\n",
      "- \u001b[35;1mTest14_LoginLogoutSeeHiddenContentCest:\u001b[39;22m See hidden content after login"
     ]
    },
    {
     "name": "stderr",
     "output_type": "stream",
     "text": [
      "[Mon Nov 21 23:20:20 2022] [::1]:37178 [302]: POST /auth/login\n",
      "[Mon Nov 21 23:20:20 2022] [::1]:37178 Closing\n",
      "[Mon Nov 21 23:20:20 2022] [::1]:37180 Accepted\n",
      "[Mon Nov 21 23:20:20 2022] [::1]:37180 [200]: GET /auth/confirmation_notice\n",
      "[Mon Nov 21 23:20:20 2022] [::1]:37180 Closing\n",
      "[Mon Nov 21 23:20:20 2022] [::1]:37188 Accepted\n",
      "[Mon Nov 21 23:20:20 2022] [::1]:37188 [200]: GET /\n",
      "[Mon Nov 21 23:20:20 2022] [::1]:37188 Closing\n",
      "[Mon Nov 21 23:20:20 2022] [::1]:37196 Accepted\n",
      "[Mon Nov 21 23:20:20 2022] [::1]:37196 [200]: GET /auth/login\n",
      "[Mon Nov 21 23:20:20 2022] [::1]:37196 Closing\n",
      "[Mon Nov 21 23:20:20 2022] [::1]:37204 Accepted\n",
      "[Mon Nov 21 23:20:20 2022] [::1]:37204 [302]: POST /auth/login\n",
      "[Mon Nov 21 23:20:20 2022] [::1]:37204 Closing\n",
      "[Mon Nov 21 23:20:20 2022] [::1]:37218 Accepted\n",
      "[Mon Nov 21 23:20:20 2022] [::1]:37218 [200]: GET /\n",
      "[Mon Nov 21 23:20:20 2022] [::1]:37218 Closing\n",
      "[Mon Nov 21 23:20:20 2022] [::1]:37230 Accepted\n"
     ]
    },
    {
     "name": "stdout",
     "output_type": "stream",
     "text": [
      "\r",
      "\u001b[31;1m✖\u001b[39;22m \u001b[35;1mTest14_LoginLogoutSeeHiddenContentCest:\u001b[39;22m See hidden content after login \u001b[32m(0.46s)\u001b[39m\r\n",
      "--------------------------------------------------------------------------------\r\n",
      "Time: 00:03.673, Memory: 12.00 MB\r\n",
      "\r\n",
      "There was 1 failure:\r\n",
      "1) \u001b[35;1mTest14_LoginLogoutSeeHiddenContentCest:\u001b[39;22m See hidden content after login\r\n",
      "\u001b[37;41;1m Test  \u001b[39;49;22mtests/Acceptance/Test14_LoginLogoutSeeHiddenContentCest.php:test\r\n",
      "\u001b[37;41;1m Step \u001b[39;49;22m See \"Logged out successfully!\"\r\n",
      "\u001b[37;41;1m Fail \u001b[39;49;22m Failed asserting that on page /\r\n",
      "-->  Homepage Home Demo About Users Welcome on homepage! LoginRegister \r\n",
      "--> contains \"Logged out successfully!\".\r\n",
      "\u001b[33m\r\n",
      "Scenario Steps:\r\n",
      "\u001b[39m\r\n",
      "\u001b[1m 21. $I->see(\"Logged out successfully!\")\u001b[22m at \u001b[32mtests/Acceptance/Test14_LoginLogoutSeeHiddenContentCest.php:65\u001b[39m\r\n",
      " 20. $I->seeCurrentUrlEquals(\"/\") at \u001b[32mtests/Acceptance/Test14_LoginLogoutSeeHiddenContentCest.php:64\u001b[39m\r\n",
      " 19. $I->click(\"Logout\") at \u001b[32mtests/Acceptance/Test14_LoginLogoutSeeHiddenContentCest.php:62\u001b[39m\r\n",
      " 18. $I->see(\"Dummy User\",\"h3.user\") at \u001b[32mtests/Acceptance/Test14_LoginLogoutSeeHiddenContentCest.php:60\u001b[39m\r\n",
      " 17. $I->seeLink(\"Logout\",\"/auth/logout\") at \u001b[32mtests/Acceptance/Test14_LoginLogoutSeeHiddenContentCest.php:58\u001b[39m\r\n",
      " 16. $I->dontSeeLink(\"Register\",\"/auth/register\") at \u001b[32mtests/Acceptance/Test14_LoginLogoutSeeHiddenContentCest.php:57\u001b[39m\r\n",
      "\r\n",
      "\u001b[33mArtifacts:\u001b[39m\r\n",
      "\r\n",
      "Html: \u001b[36m/home/student/php_2022_adam_lewinski/07_testing/02_exercise/project/tests/_output/Tests.Acceptance.Test14_LoginLogoutSeeHiddenContentCest.test.fail.html\u001b[39m\r\n",
      "Response: \u001b[36m/home/student/php_2022_adam_lewinski/07_testing/02_exercise/project/tests/_output/Tests.Acceptance.Test14_LoginLogoutSeeHiddenContentCest.test.fail.html\u001b[39m\r\n",
      "\r\n",
      "\u001b[37;41;1mFAILURES!\u001b[39;49;22m\r\n",
      "\u001b[37;41;1mTests: 15, Assertions: 272, Failures: 1.\u001b[39;49;22m\r\n",
      "- \u001b[1mJUNIT XML\u001b[22m report generated in \u001b[33mfile:///home/student/php_2022_adam_lewinski/07_testing/02_exercise/project/tests/_output/test_report.xml\u001b[39m\r\n"
     ]
    },
    {
     "name": "stderr",
     "output_type": "stream",
     "text": [
      "[Mon Nov 21 23:20:20 2022] [::1]:37230 [302]: GET /auth/logout\n",
      "[Mon Nov 21 23:20:20 2022] [::1]:37230 Closing\n",
      "[Mon Nov 21 23:20:20 2022] [::1]:37246 Accepted\n",
      "[Mon Nov 21 23:20:20 2022] [::1]:37246 [200]: GET /\n",
      "[Mon Nov 21 23:20:20 2022] [::1]:37246 Closing\n"
     ]
    }
   ],
   "source": [
    "! vendor/bin/codecept run Acceptance --xml test_report.xml"
   ]
  },
  {
   "cell_type": "code",
   "execution_count": 210,
   "metadata": {},
   "outputs": [],
   "source": [
    "phpServer.kill()"
   ]
  },
  {
   "cell_type": "code",
   "execution_count": 211,
   "metadata": {},
   "outputs": [
    {
     "name": "stdout",
     "output_type": "stream",
     "text": [
      "/home/student/php_2022_adam_lewinski/07_testing/02_exercise\n"
     ]
    }
   ],
   "source": [
    "%cd ../"
   ]
  },
  {
   "cell_type": "markdown",
   "metadata": {},
   "source": [
    "Stop the databses:"
   ]
  },
  {
   "cell_type": "code",
   "execution_count": null,
   "metadata": {},
   "outputs": [],
   "source": [
    "! docker container stop redis"
   ]
  },
  {
   "cell_type": "code",
   "execution_count": null,
   "metadata": {},
   "outputs": [],
   "source": [
    "! docker container stop mysql"
   ]
  }
 ],
 "metadata": {
  "kernelspec": {
   "display_name": "Python 3 (ipykernel)",
   "language": "python",
   "name": "python3"
  },
  "language_info": {
   "codemirror_mode": {
    "name": "ipython",
    "version": 3
   },
   "file_extension": ".py",
   "mimetype": "text/x-python",
   "name": "python",
   "nbconvert_exporter": "python",
   "pygments_lexer": "ipython3",
   "version": "3.10.6"
  }
 },
 "nbformat": 4,
 "nbformat_minor": 4
}
