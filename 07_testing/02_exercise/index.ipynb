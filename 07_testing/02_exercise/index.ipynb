{
 "cells": [
  {
   "cell_type": "markdown",
   "metadata": {},
   "source": [
    "# PHP 2022"
   ]
  },
  {
   "cell_type": "markdown",
   "metadata": {},
   "source": [
    "## 7. Testing"
   ]
  },
  {
   "cell_type": "markdown",
   "metadata": {},
   "source": [
    "### 7.2 Exercise"
   ]
  },
  {
   "cell_type": "markdown",
   "metadata": {},
   "source": [
    "Implment missing code."
   ]
  },
  {
   "cell_type": "markdown",
   "metadata": {},
   "source": [
    "Start the databses:"
   ]
  },
  {
   "cell_type": "code",
   "execution_count": 1,
   "metadata": {},
   "outputs": [
    {
     "name": "stdout",
     "output_type": "stream",
     "text": [
      "docker: Error response from daemon: Conflict. The container name \"/redis\" is already in use by container \"3b2816acceaf98ecf64768ef9abf904c28ee4c45199bec2e62bc43c3512e869a\". You have to remove (or rename) that container to be able to reuse that name.\r\n",
      "See 'docker run --help'.\r\n"
     ]
    }
   ],
   "source": [
    "! docker run --net=host --rm --name redis -d redis"
   ]
  },
  {
   "cell_type": "code",
   "execution_count": 2,
   "metadata": {},
   "outputs": [
    {
     "name": "stdout",
     "output_type": "stream",
     "text": [
      "docker: Error response from daemon: Conflict. The container name \"/mysql\" is already in use by container \"c8a2e91eb2db4e9a44e24b50d98055fff015c053b031cef879ed307ed7f2b005\". You have to remove (or rename) that container to be able to reuse that name.\r\n",
      "See 'docker run --help'.\r\n"
     ]
    }
   ],
   "source": [
    "! docker run --name=mysql --net=host --rm --env MYSQL_ROOT_PASSWORD=root123 --env MYSQL_DATABASE=test --env MYSQL_USER=test --env MYSQL_PASSWORD=test123 -d mysql/mysql-server:8.0"
   ]
  },
  {
   "cell_type": "code",
   "execution_count": 3,
   "metadata": {},
   "outputs": [
    {
     "name": "stdout",
     "output_type": "stream",
     "text": [
      "Done.\r\n"
     ]
    }
   ],
   "source": [
    "! while ! timeout 1 bash -c \"echo > /dev/tcp/localhost/6379\" 2> /dev/null; do sleep 1; done; echo \"Done.\";"
   ]
  },
  {
   "cell_type": "code",
   "execution_count": 4,
   "metadata": {},
   "outputs": [
    {
     "name": "stdout",
     "output_type": "stream",
     "text": [
      "Done.\r\n"
     ]
    }
   ],
   "source": [
    "! while ! timeout 1 bash -c \"echo > /dev/tcp/localhost/3306\" 2> /dev/null; do sleep 1; done; echo \"Done.\";"
   ]
  },
  {
   "cell_type": "markdown",
   "metadata": {},
   "source": [
    "Edit the code:"
   ]
  },
  {
   "cell_type": "code",
   "execution_count": null,
   "metadata": {},
   "outputs": [
    {
     "name": "stdout",
     "output_type": "stream",
     "text": [
      "CompileCommand: exclude com/intellij/openapi/vfs/impl/FilePartNodeRoot.trieDescend bool exclude = true\n",
      "2022-11-21 02:39:20,659 [   2065] SEVERE - #c.i.d.LoadingState - Should be called at least in the state COMPONENTS_LOADED, the current state is: CONFIGURATION_STORE_INITIALIZED\n",
      "Current violators count: 1\n",
      "\n",
      "\n",
      "java.lang.Throwable\n",
      "\tat com.intellij.diagnostic.LoadingState.logStateError(LoadingState.java:52)\n",
      "\tat com.intellij.diagnostic.LoadingState.checkOccurred(LoadingState.java:48)\n",
      "\tat com.intellij.openapi.actionSystem.impl.ActionManagerImpl.<init>(ActionManagerImpl.java:133)\n",
      "\tat com.jetbrains.rdserver.ui.actionPopupMenu.BackendActionManager.<init>(BackendActionManager.kt:17)\n",
      "\tat java.base/jdk.internal.reflect.NativeConstructorAccessorImpl.newInstance0(Native Method)\n",
      "\tat java.base/jdk.internal.reflect.NativeConstructorAccessorImpl.newInstance(NativeConstructorAccessorImpl.java:77)\n",
      "\tat java.base/jdk.internal.reflect.DelegatingConstructorAccessorImpl.newInstance(DelegatingConstructorAccessorImpl.java:45)\n",
      "\tat java.base/java.lang.reflect.Constructor.newInstanceWithCaller(Constructor.java:499)\n",
      "\tat java.base/java.lang.reflect.Constructor.newInstance(Constructor.java:480)\n",
      "\tat com.intellij.serviceContainer.ConstructorInjectionKt.instantiateUsingPicoContainer(constructorInjection.kt:47)\n",
      "\tat com.intellij.serviceContainer.ComponentManagerImpl.instantiateClassWithConstructorInjection(ComponentManagerImpl.kt:890)\n",
      "\tat com.intellij.serviceContainer.ServiceComponentAdapter.createAndInitialize(ServiceComponentAdapter.kt:51)\n",
      "\tat com.intellij.serviceContainer.ServiceComponentAdapter.doCreateInstance(ServiceComponentAdapter.kt:41)\n",
      "\tat com.intellij.serviceContainer.BaseComponentAdapter.getInstanceUncached(BaseComponentAdapter.kt:119)\n",
      "\tat com.intellij.serviceContainer.BaseComponentAdapter.getInstance(BaseComponentAdapter.kt:73)\n",
      "\tat com.intellij.serviceContainer.BaseComponentAdapter.getInstance$default(BaseComponentAdapter.kt:66)\n",
      "\tat com.intellij.serviceContainer.ComponentManagerImpl.doGetService(ComponentManagerImpl.kt:609)\n",
      "\tat com.intellij.serviceContainer.ComponentManagerImpl.getService(ComponentManagerImpl.kt:583)\n",
      "\tat com.intellij.openapi.client.ClientAwareComponentManager.getFromSelfOrCurrentSession(ClientAwareComponentManager.kt:37)\n",
      "\tat com.intellij.openapi.client.ClientAwareComponentManager.getService(ClientAwareComponentManager.kt:22)\n",
      "\tat com.intellij.openapi.actionSystem.ActionManager.getInstance(ActionManager.java:29)\n",
      "\tat com.intellij.help.impl.KeymapGenerator.<clinit>(KeymapGenerator.java:33)\n",
      "\tat java.base/jdk.internal.misc.Unsafe.allocateInstance(Native Method)\n",
      "\tat java.base/java.lang.invoke.DirectMethodHandle.allocateInstance(DirectMethodHandle.java:520)\n",
      "\tat com.intellij.serviceContainer.ComponentManagerImpl.instantiateClass(ComponentManagerImpl.kt:844)\n",
      "\tat com.intellij.openapi.extensions.impl.XmlExtensionAdapter.instantiateClass(XmlExtensionAdapter.kt:79)\n",
      "\tat com.intellij.openapi.extensions.impl.XmlExtensionAdapter$SimpleConstructorInjectionAdapter.instantiateClass(XmlExtensionAdapter.kt:90)\n",
      "\tat com.intellij.openapi.extensions.impl.XmlExtensionAdapter.doCreateInstance(XmlExtensionAdapter.kt:50)\n",
      "\tat com.intellij.openapi.extensions.impl.XmlExtensionAdapter.createInstance(XmlExtensionAdapter.kt:31)\n",
      "\tat com.intellij.openapi.extensions.impl.ExtensionPointImpl.processAdapter(ExtensionPointImpl.java:447)\n",
      "\tat com.intellij.openapi.extensions.impl.ExtensionPointImpl.access$200(ExtensionPointImpl.java:33)\n",
      "\tat com.intellij.openapi.extensions.impl.ExtensionPointImpl$1.next(ExtensionPointImpl.java:355)\n",
      "\tat com.intellij.idea.ApplicationLoader.findAppStarter(ApplicationLoader.kt:595)\n",
      "\tat com.intellij.idea.ApplicationLoader.access$findAppStarter(ApplicationLoader.kt:1)\n",
      "\tat com.intellij.idea.ApplicationLoader$initApplication$block$3.apply(ApplicationLoader.kt:170)\n",
      "\tat com.intellij.idea.ApplicationLoader$initApplication$block$3.apply(ApplicationLoader.kt)\n",
      "\tat java.base/java.util.concurrent.CompletableFuture$UniCompose.tryFire(CompletableFuture.java:1150)\n",
      "\tat java.base/java.util.concurrent.CompletableFuture.postComplete(CompletableFuture.java:510)\n",
      "\tat java.base/java.util.concurrent.CompletableFuture.postFire(CompletableFuture.java:614)\n",
      "\tat java.base/java.util.concurrent.CompletableFuture$UniCompose.tryFire(CompletableFuture.java:1163)\n",
      "\tat java.base/java.util.concurrent.CompletableFuture$Completion.run(CompletableFuture.java:482)\n",
      "\tat com.intellij.idea.ApplicationLoader$initApplication$block$2.execute(ApplicationLoader.kt:142)\n",
      "\tat java.base/java.util.concurrent.CompletableFuture$UniCompletion.claim(CompletableFuture.java:572)\n",
      "\tat java.base/java.util.concurrent.CompletableFuture$UniCompose.tryFire(CompletableFuture.java:1147)\n",
      "\tat java.base/java.util.concurrent.CompletableFuture.postComplete(CompletableFuture.java:510)\n",
      "\tat java.base/java.util.concurrent.CompletableFuture.postFire(CompletableFuture.java:614)\n",
      "\tat java.base/java.util.concurrent.CompletableFuture$UniCompose.tryFire(CompletableFuture.java:1163)\n",
      "\tat java.base/java.util.concurrent.CompletableFuture$Completion.exec(CompletableFuture.java:483)\n",
      "\tat java.base/java.util.concurrent.ForkJoinTask.doExec(ForkJoinTask.java:373)\n",
      "\tat java.base/java.util.concurrent.ForkJoinPool$WorkQueue.topLevelExec(ForkJoinPool.java:1182)\n",
      "\tat java.base/java.util.concurrent.ForkJoinPool.scan(ForkJoinPool.java:1655)\n",
      "\tat java.base/java.util.concurrent.ForkJoinPool.runWorker(ForkJoinPool.java:1622)\n",
      "\tat java.base/java.util.concurrent.ForkJoinWorkerThread.run(ForkJoinWorkerThread.java:165)\n",
      "2022-11-21 02:39:20,672 [   2078] SEVERE - #c.i.d.LoadingState - PhpStorm 2022.2.3  Build #PS-222.4345.15\n",
      "2022-11-21 02:39:20,673 [   2079] SEVERE - #c.i.d.LoadingState - JDK: 17.0.4.1; VM: OpenJDK 64-Bit Server VM; Vendor: JetBrains s.r.o.\n",
      "2022-11-21 02:39:20,674 [   2080] SEVERE - #c.i.d.LoadingState - OS: Linux\n"
     ]
    }
   ],
   "source": [
    "! phpstorm project"
   ]
  },
  {
   "cell_type": "markdown",
   "metadata": {},
   "source": [
    "You can test your solution using included tests:"
   ]
  },
  {
   "cell_type": "code",
   "execution_count": 6,
   "metadata": {},
   "outputs": [
    {
     "name": "stdout",
     "output_type": "stream",
     "text": [
      "/home/student/php_2022_adam_lewinski/07_testing/02_exercise/project\n"
     ]
    }
   ],
   "source": [
    "%cd project"
   ]
  },
  {
   "cell_type": "code",
   "execution_count": 7,
   "metadata": {},
   "outputs": [
    {
     "name": "stdout",
     "output_type": "stream",
     "text": [
      "\u001b[32mInstalling dependencies from lock file (including require-dev)\u001b[39m\n",
      "\u001b[32mVerifying lock file contents can be installed on current platform.\u001b[39m\n",
      "Nothing to install, update or remove\n",
      "\u001b[32mGenerating autoload files\u001b[39m\n",
      "\u001b[32m60 packages you are using are looking for funding.\u001b[39m\n",
      "\u001b[32mUse the `composer fund` command to find out more!\u001b[39m\n"
     ]
    }
   ],
   "source": [
    "! composer install"
   ]
  },
  {
   "cell_type": "code",
   "execution_count": 8,
   "metadata": {},
   "outputs": [
    {
     "name": "stdout",
     "output_type": "stream",
     "text": [
      "\u001b[32mBuilding Actor classes for suites: Acceptance, Unit\u001b[39m\n",
      " -> AcceptanceTesterActions.php generated successfully. 241 methods added\n",
      "\u001b[32mTests\\AcceptanceTester\u001b[39m includes modules: PhpBrowser, Filesystem, Asserts, Db, Redis\n",
      " -> UnitTesterActions.php generated successfully. 137 methods added\n",
      "\u001b[32mTests\\UnitTester\u001b[39m includes modules: Asserts\n"
     ]
    }
   ],
   "source": [
    "! vendor/bin/codecept build"
   ]
  },
  {
   "cell_type": "code",
   "execution_count": 9,
   "metadata": {},
   "outputs": [
    {
     "name": "stdout",
     "output_type": "stream",
     "text": [
      "Loaded config \u001b[33mdefault\u001b[39m from \"/home/student/php_2022_adam_lewinski/07_testing/02_exercise/project/./.php-cs-fixer.dist.php\".\n",
      "Using cache file \".php-cs-fixer.cache\".\n",
      "   1) src/Model/Model.php\n",
      "\u001b[33m      ---------- begin diff ----------\u001b[39m\n",
      "\u001b[31m--- /home/student/php_2022_adam_lewinski/07_testing/02_exercise/project/src/Model/Model.php\u001b[39m\n",
      "\u001b[32m+++ /home/student/php_2022_adam_lewinski/07_testing/02_exercise/project/src/Model/Model.php\u001b[39m\n",
      "\u001b[36m@@ -6,5 +6,4 @@\u001b[39m\n",
      " \n",
      " abstract class Model extends Distinguishable\n",
      " {\n",
      "\u001b[31m-\u001b[39m\n",
      "\u001b[31m-}\u001b[39m\n",
      "\\ No newline at end of file\n",
      "\u001b[32m+}\u001b[39m\n",
      "\n",
      "\u001b[33m      ----------- end diff -----------\u001b[39m\n",
      "\n",
      "\n",
      "Checked all files in 0.068 seconds, 14.000 MB memory used\n"
     ]
    }
   ],
   "source": [
    "! vendor/bin/php-cs-fixer fix --diff --dry-run ."
   ]
  },
  {
   "cell_type": "code",
   "execution_count": 10,
   "metadata": {},
   "outputs": [
    {
     "name": "stdout",
     "output_type": "stream",
     "text": [
      "  0/64 [░░░░░░░░░░░░░░░░░░░░░░░░░░░░]   0%\u001b[1G\u001b[2K 20/64 [▓▓▓▓▓▓▓▓░░░░░░░░░░░░░░░░░░░░]  31%\u001b[1G\u001b[2K 40/64 [▓▓▓▓▓▓▓▓▓▓▓▓▓▓▓▓▓░░░░░░░░░░░]  62%\u001b[1G\u001b[2K 64/64 [▓▓▓▓▓▓▓▓▓▓▓▓▓▓▓▓▓▓▓▓▓▓▓▓▓▓▓▓] 100%\n",
      "\n",
      " ------ -------------------------------------------------------------------- \n",
      "  \u001b[32mLine\u001b[39m   \u001b[32mtests/Acceptance/Test10_RegisterConfirmCest.php\u001b[39m                     \n",
      " ------ -------------------------------------------------------------------- \n",
      "  17     Class Model\\User constructor invoked with 1 parameter, 5 required.  \n",
      " ------ -------------------------------------------------------------------- \n",
      "\n",
      " ------ -------------------------------------------------------------------- \n",
      "  \u001b[32mLine\u001b[39m   \u001b[32mtests/Acceptance/Test12_LoginWrongPasswordCest.php\u001b[39m                  \n",
      " ------ -------------------------------------------------------------------- \n",
      "  22     Class Model\\User constructor invoked with 1 parameter, 5 required.  \n",
      " ------ -------------------------------------------------------------------- \n",
      "\n",
      " ------ -------------------------------------------------------------------- \n",
      "  \u001b[32mLine\u001b[39m   \u001b[32mtests/Acceptance/Test13_LoginNotConfirmedCest.php\u001b[39m                   \n",
      " ------ -------------------------------------------------------------------- \n",
      "  21     Class Model\\User constructor invoked with 1 parameter, 5 required.  \n",
      " ------ -------------------------------------------------------------------- \n",
      "\n",
      " ------ -------------------------------------------------------------------- \n",
      "  \u001b[32mLine\u001b[39m   \u001b[32mtests/Acceptance/Test14_LoginLogoutSeeHiddenContentCest.php\u001b[39m         \n",
      " ------ -------------------------------------------------------------------- \n",
      "  17     Class Model\\User constructor invoked with 1 parameter, 5 required.  \n",
      "  24     Property Model\\User::$token (string) does not accept null.          \n",
      " ------ -------------------------------------------------------------------- \n",
      "\n",
      " ------ -------------------------------------------------------------------- \n",
      "  \u001b[32mLine\u001b[39m   \u001b[32mview/auth/index.php\u001b[39m                                                 \n",
      " ------ -------------------------------------------------------------------- \n",
      "  1      File ends with a trailing whitespace. This may cause problems when  \n",
      "         running the code in the web browser. Remove the closing ?> mark or  \n",
      "         remove the whitespace.                                              \n",
      " ------ -------------------------------------------------------------------- \n",
      "\n",
      "\u001b[37;41m                                                                                \u001b[39;49m\n",
      "\u001b[37;41m [ERROR] Found 6 errors                                                         \u001b[39;49m\n",
      "\u001b[37;41m                                                                                \u001b[39;49m\n",
      "\n"
     ]
    }
   ],
   "source": [
    "! vendor/bin/phpstan analyze --xdebug -c phpstan.neon"
   ]
  },
  {
   "cell_type": "code",
   "execution_count": 11,
   "metadata": {},
   "outputs": [
    {
     "name": "stdout",
     "output_type": "stream",
     "text": [
      "phpcpd 6.0.3 by Sebastian Bergmann.\n",
      "\n",
      "No clones found.\n",
      "\n",
      "Time: 00:00.027, Memory: 4.00 MB\n"
     ]
    }
   ],
   "source": [
    "! vendor/bin/phpcpd . --fuzzy --min-lines 1 --min-tokens 20 --exclude vendor --exclude tests"
   ]
  },
  {
   "cell_type": "code",
   "execution_count": 12,
   "metadata": {},
   "outputs": [
    {
     "name": "stdout",
     "output_type": "stream",
     "text": [
      "Codeception PHP Testing Framework v5.0.4 https://helpukrainewin.org\n",
      "\n",
      "\u001b[1mTests.Unit Tests (24) \u001b[22m----------------------------------------------------------\n",
      "\u001b[32;1m✔\u001b[39;22m \u001b[35;1mTest00_StringEditorCest:\u001b[39;22m Create \u001b[32m(0.01s)\u001b[39m\n",
      "\u001b[32;1m✔\u001b[39;22m \u001b[35;1mTest00_StringEditorCest:\u001b[39;22m Replace word \u001b[32m(0.00s)\u001b[39m\n",
      "\u001b[32;1m✔\u001b[39;22m \u001b[35;1mTest00_StringEditorCest:\u001b[39;22m Lowercase \u001b[32m(0.00s)\u001b[39m\n",
      "\u001b[32;1m✔\u001b[39;22m \u001b[35;1mTest00_StringEditorCest:\u001b[39;22m Uppercase \u001b[32m(0.00s)\u001b[39m\n",
      "\u001b[32;1m✔\u001b[39;22m \u001b[35;1mTest00_StringEditorCest:\u001b[39;22m Replace and upper case \u001b[32m(0.00s)\u001b[39m\n",
      "\u001b[32;1m✔\u001b[39;22m \u001b[35;1mTest00_StringEditorCest:\u001b[39;22m Censor word \u001b[32m(0.00s)\u001b[39m\n",
      "\u001b[32;1m✔\u001b[39;22m \u001b[35;1mTest00_StringEditorCest:\u001b[39;22m Censor short and long words \u001b[32m(0.00s)\u001b[39m\n",
      "\u001b[32;1m✔\u001b[39;22m \u001b[35;1mTest00_StringEditorCest:\u001b[39;22m Repeat word \u001b[32m(0.00s)\u001b[39m\n",
      "\u001b[32;1m✔\u001b[39;22m \u001b[35;1mTest00_StringEditorCest:\u001b[39;22m Remove word \u001b[32m(0.00s)\u001b[39m\n",
      "\u001b[32;1m✔\u001b[39;22m \u001b[35;1mTest00_StringEditorCest:\u001b[39;22m Edit sentence \u001b[32m(0.00s)\u001b[39m\n",
      "\u001b[32;1m✔\u001b[39;22m \u001b[35;1mTest01_RingBufferCest:\u001b[39;22m Create \u001b[32m(0.01s)\u001b[39m\n",
      "\u001b[32;1m✔\u001b[39;22m \u001b[35;1mTest01_RingBufferCest:\u001b[39;22m Should be empty \u001b[32m(0.00s)\u001b[39m\n",
      "\u001b[32;1m✔\u001b[39;22m \u001b[35;1mTest01_RingBufferCest:\u001b[39;22m Capacity \u001b[32m(0.00s)\u001b[39m\n",
      "\u001b[32;1m✔\u001b[39;22m \u001b[35;1mTest01_RingBufferCest:\u001b[39;22m Size should be zero when empty \u001b[32m(0.00s)\u001b[39m\n",
      "\u001b[32;1m✔\u001b[39;22m \u001b[35;1mTest01_RingBufferCest:\u001b[39;22m Push value size should increase \u001b[32m(0.00s)\u001b[39m\n",
      "\u001b[32;1m✔\u001b[39;22m ingBufferCest:\u001b[39;22m Empty should be false when full\u001b[35;1mTest01_RingBufferCest:\u001b[39;22m Empty should be false when full \u001b[32m(0.00s)\u001b[39m\n",
      "\u001b[32;1m✔\u001b[39;22m \u001b[35;1mTest01_RingBufferCest:\u001b[39;22m Pop from empty \u001b[32m(0.00s)\u001b[39m\n",
      "\u001b[32;1m✔\u001b[39;22m \u001b[35;1mTest01_RingBufferCest:\u001b[39;22m Push and pop single value \u001b[32m(0.00s)\u001b[39m\n",
      "\u001b[32;1m✔\u001b[39;22m \u001b[35;1mTest01_RingBufferCest:\u001b[39;22m Pop should reduce size \u001b[32m(0.00s)\u001b[39m\n",
      "\u001b[32;1m✔\u001b[39;22m \u001b[35;1mTest01_RingBufferCest:\u001b[39;22m Back should not change buffer \u001b[32m(0.00s)\u001b[39m\n",
      "\u001b[32;1m✔\u001b[39;22m \u001b[35;1mTest01_RingBufferCest:\u001b[39;22m Push multiple times \u001b[32m(0.00s)\u001b[39m\n",
      "\u001b[32;1m✔\u001b[39;22m \u001b[35;1mTest01_RingBufferCest:\u001b[39;22m Multi item buffer \u001b[32m(0.00s)\u001b[39m\n",
      "\u001b[32;1m✔\u001b[39;22m \u001b[35;1mTest01_RingBufferCest:\u001b[39;22m Push and pop all values \u001b[32m(0.00s)\u001b[39m\n",
      "\u001b[32;1m✔\u001b[39;22m \u001b[35;1mTest01_RingBufferCest:\u001b[39;22m Access values by index \u001b[32m(0.00s)\u001b[39m\n",
      "--------------------------------------------------------------------------------\n",
      "Time: 00:00.192, Memory: 8.00 MB\n",
      "\n",
      "\u001b[30;42mOK (24 tests, 75 assertions)\u001b[39;49m\n"
     ]
    }
   ],
   "source": [
    "! vendor/bin/codecept run Unit"
   ]
  },
  {
   "cell_type": "code",
   "execution_count": 13,
   "metadata": {},
   "outputs": [],
   "source": [
    "import subprocess\n",
    "phpServer = subprocess.Popen(['php', '-S', 'localhost:8888', '-t', 'public'])"
   ]
  },
  {
   "cell_type": "code",
   "execution_count": 14,
   "metadata": {},
   "outputs": [
    {
     "name": "stdout",
     "output_type": "stream",
     "text": [
      "Done.\r\n"
     ]
    },
    {
     "name": "stderr",
     "output_type": "stream",
     "text": [
      "[Mon Nov 21 02:38:31 2022] PHP 8.1.12 Development Server (http://localhost:8888) started\n",
      "[Mon Nov 21 02:38:31 2022] [::1]:60552 Accepted\n",
      "[Mon Nov 21 02:38:31 2022] [::1]:60552 Closed without sending a request; it was probably just an unused speculative preconnection\n",
      "[Mon Nov 21 02:38:31 2022] [::1]:60552 Closing\n"
     ]
    }
   ],
   "source": [
    "! while ! timeout 1 bash -c \"echo > /dev/tcp/localhost/8888\" 2> /dev/null; do sleep 1; done; echo \"Done.\";"
   ]
  },
  {
   "cell_type": "code",
   "execution_count": 15,
   "metadata": {},
   "outputs": [
    {
     "name": "stdout",
     "output_type": "stream",
     "text": [
      "Codeception PHP Testing Framework v5.0.4 https://helpukrainewin.org\n",
      "\n",
      "\u001b[1mTests.Acceptance Tests (15) \u001b[22m----------------------------------------------------\n",
      "- \u001b[35;1mTest00_PrettyUrlCest:\u001b[39;22m Test"
     ]
    },
    {
     "name": "stderr",
     "output_type": "stream",
     "text": [
      "[Mon Nov 21 02:38:32 2022] [::1]:60562 Accepted\n",
      "[Mon Nov 21 02:38:32 2022] [::1]:60562 [200]: GET /\n",
      "[Mon Nov 21 02:38:32 2022] [::1]:60562 Closing\n",
      "[Mon Nov 21 02:38:32 2022] [::1]:60576 Accepted\n",
      "[Mon Nov 21 02:38:32 2022] [::1]:60576 [200]: GET /home\n",
      "[Mon Nov 21 02:38:32 2022] [::1]:60576 Closing\n",
      "[Mon Nov 21 02:38:32 2022] [::1]:60582 Accepted\n",
      "[Mon Nov 21 02:38:32 2022] [::1]:60582 [200]: GET /about\n",
      "[Mon Nov 21 02:38:32 2022] [::1]:60582 Closing\n",
      "[Mon Nov 21 02:38:32 2022] [::1]:60592 Accepted\n",
      "[Mon Nov 21 02:38:32 2022] [::1]:60592 [200]: GET /users\n",
      "[Mon Nov 21 02:38:32 2022] [::1]:60592 Closing\n",
      "[Mon Nov 21 02:38:32 2022] [::1]:60594 Accepted\n",
      "[Mon Nov 21 02:38:32 2022] [::1]:60594 [200]: GET /users/1\n",
      "[Mon Nov 21 02:38:32 2022] [::1]:60594 Closing\n",
      "[Mon Nov 21 02:38:32 2022] [::1]:60610 Accepted\n",
      "[Mon Nov 21 02:38:32 2022] [::1]:60610 [200]: GET /users\n",
      "[Mon Nov 21 02:38:32 2022] [::1]:60610 Closing\n",
      "[Mon Nov 21 02:38:32 2022] [::1]:60624 Accepted\n",
      "[Mon Nov 21 02:38:32 2022] [::1]:60624 [200]: GET /users/2\n",
      "[Mon Nov 21 02:38:32 2022] [::1]:60624 Closing\n",
      "[Mon Nov 21 02:38:32 2022] [::1]:60634 Accepted\n",
      "[Mon Nov 21 02:38:32 2022] [::1]:60634 [200]: GET /users\n",
      "[Mon Nov 21 02:38:32 2022] [::1]:60634 Closing\n",
      "[Mon Nov 21 02:38:32 2022] [::1]:60646 Accepted\n",
      "[Mon Nov 21 02:38:32 2022] [::1]:60646 [200]: GET /users/3\n",
      "[Mon Nov 21 02:38:32 2022] [::1]:60646 Closing\n"
     ]
    },
    {
     "name": "stdout",
     "output_type": "stream",
     "text": [
      "\u001b[32;1m✔\u001b[39;22m \u001b[35;1mTest00_PrettyUrlCest:\u001b[39;22m Test \u001b[32m(0.22s)\u001b[39m\n",
      "\u001b[32;1m✔\u001b[39;22m \u001b[35;1mTest01_FileStorageCest:\u001b[39;22m Test \u001b[32m(0.04s)\u001b[39m\n",
      "\u001b[32;1m✔\u001b[39;22m \u001b[35;1mTest02_SessionStorageCest:\u001b[39;22m Test \u001b[32m(0.02s)\u001b[39m\n",
      "\u001b[32;1m✔\u001b[39;22m \u001b[35;1mTest03_SQLiteStorageCest:\u001b[39;22m Test \u001b[32m(0.09s)\u001b[39m\n",
      "- \u001b[35;1mTest04_MySQLStorageCest:\u001b[39;22m Test"
     ]
    },
    {
     "name": "stderr",
     "output_type": "stream",
     "text": [
      "[Mon Nov 21 02:38:32 2022] [::1]:60660 Accepted\n",
      "[Mon Nov 21 02:38:32 2022] [::1]:60660 [200]: GET /demo/file\n",
      "[Mon Nov 21 02:38:32 2022] [::1]:60660 Closing\n",
      "[Mon Nov 21 02:38:32 2022] [::1]:60664 Accepted\n",
      "[Mon Nov 21 02:38:32 2022] [::1]:60664 [200]: GET /demo/session\n",
      "[Mon Nov 21 02:38:32 2022] [::1]:60664 Closing\n",
      "[Mon Nov 21 02:38:32 2022] [::1]:60680 Accepted\n",
      "[Mon Nov 21 02:38:32 2022] [::1]:60680 [200]: GET /demo/sqlite\n",
      "[Mon Nov 21 02:38:32 2022] [::1]:60680 Closing\n",
      "[Mon Nov 21 02:38:32 2022] [::1]:60688 Accepted\n"
     ]
    },
    {
     "name": "stdout",
     "output_type": "stream",
     "text": [
      "\r",
      "\u001b[32;1m✔\u001b[39;22m \u001b[35;1mTest04_MySQLStorageCest:\u001b[39;22m Test \u001b[32m(0.27s)\u001b[39m\r\n",
      "- \u001b[35;1mTest05_RedisStorageCest:\u001b[39;22m Test"
     ]
    },
    {
     "name": "stderr",
     "output_type": "stream",
     "text": [
      "[Mon Nov 21 02:38:32 2022] [::1]:60688 [200]: GET /demo/mysql\n",
      "[Mon Nov 21 02:38:32 2022] [::1]:60688 Closing\n",
      "[Mon Nov 21 02:38:32 2022] [::1]:60702 Accepted\n",
      "[Mon Nov 21 02:38:32 2022] [::1]:60702 [200]: GET /demo/mysql\n",
      "[Mon Nov 21 02:38:32 2022] [::1]:60702 Closing\n",
      "[Mon Nov 21 02:38:33 2022] [::1]:60716 Accepted\n",
      "[Mon Nov 21 02:38:33 2022] [::1]:60716 [200]: GET /demo/redis\n",
      "[Mon Nov 21 02:38:33 2022] [::1]:60716 Closing\n"
     ]
    },
    {
     "name": "stdout",
     "output_type": "stream",
     "text": [
      "\u001b[32;1m✔\u001b[39;22m \u001b[35;1mTest05_RedisStorageCest:\u001b[39;22m Test \u001b[32m(0.05s)\u001b[39m\n",
      "\u001b[32;1m✔\u001b[39;22m \u001b[35;1mTest06_HomepageCest:\u001b[39;22m See login and register links \u001b[32m(0.11s)\u001b[39m\n",
      "- \u001b[35;1mTest07_RegisterCest:\u001b[39;22m Register new user"
     ]
    },
    {
     "name": "stderr",
     "output_type": "stream",
     "text": [
      "[Mon Nov 21 02:38:33 2022] [::1]:60728 Accepted\n",
      "[Mon Nov 21 02:38:33 2022] [::1]:60728 [200]: GET /\n",
      "[Mon Nov 21 02:38:33 2022] [::1]:60728 Closing\n",
      "[Mon Nov 21 02:38:33 2022] [::1]:60740 Accepted\n",
      "[Mon Nov 21 02:38:33 2022] [::1]:60740 [200]: GET /home\n",
      "[Mon Nov 21 02:38:33 2022] [::1]:60740 Closing\n",
      "[Mon Nov 21 02:38:33 2022] [::1]:60756 Accepted\n",
      "[Mon Nov 21 02:38:33 2022] [::1]:60756 [200]: GET /\n",
      "[Mon Nov 21 02:38:33 2022] [::1]:60756 Closing\n",
      "[Mon Nov 21 02:38:33 2022] [::1]:60764 Accepted\n",
      "[Mon Nov 21 02:38:33 2022] [::1]:60764 [200]: GET /auth/register\n",
      "[Mon Nov 21 02:38:33 2022] [::1]:60764 Closing\n",
      "[Mon Nov 21 02:38:33 2022] [::1]:60778 Accepted\n",
      "[Mon Nov 21 02:38:33 2022] [::1]:60778 [200]: POST /auth/confirmation_notice\n",
      "[Mon Nov 21 02:38:33 2022] [::1]:60778 Closing\n"
     ]
    },
    {
     "name": "stdout",
     "output_type": "stream",
     "text": [
      "\r",
      "\u001b[31;1m✖\u001b[39;22m \u001b[35;1mTest07_RegisterCest:\u001b[39;22m Register new user \u001b[32m(0.68s)\u001b[39m\r\n",
      "- \u001b[35;1mTest08_RegisterValidationCest:\u001b[39;22m Validate data entered during registration"
     ]
    },
    {
     "name": "stderr",
     "output_type": "stream",
     "text": [
      "[Mon Nov 21 02:38:33 2022] [::1]:49566 Accepted\n",
      "[Mon Nov 21 02:38:33 2022] [::1]:49566 [200]: GET /auth/register\n",
      "[Mon Nov 21 02:38:33 2022] [::1]:49566 Closing\n",
      "[Mon Nov 21 02:38:33 2022] [::1]:49576 Accepted\n"
     ]
    },
    {
     "name": "stdout",
     "output_type": "stream",
     "text": [
      "\r",
      "\u001b[31;1m✖\u001b[39;22m \u001b[35;1mTest08_RegisterValidationCest:\u001b[39;22m Validate data entered during registration \u001b[32m(0.45s)\u001b[39m\r\n",
      "- \u001b[35;1mTest09_RegisterRememberFieldsCest:\u001b[39;22m Remember data entered during registration when validation error is present"
     ]
    },
    {
     "name": "stderr",
     "output_type": "stream",
     "text": [
      "[Mon Nov 21 02:38:34 2022] [::1]:49576 [200]: POST /auth/confirmation_notice\n",
      "[Mon Nov 21 02:38:34 2022] [::1]:49576 Closing\n",
      "[Mon Nov 21 02:38:34 2022] [::1]:49580 Accepted\n",
      "[Mon Nov 21 02:38:34 2022] [::1]:49580 [200]: GET /auth/register\n",
      "[Mon Nov 21 02:38:34 2022] [::1]:49580 Closing\n",
      "[Mon Nov 21 02:38:34 2022] [::1]:49596 Accepted\n"
     ]
    },
    {
     "name": "stdout",
     "output_type": "stream",
     "text": [
      "\u001b[31;1m✖\u001b[39;22m \u001b[35;1mTest09_RegisterRememberFieldsCest:\u001b[39;22m Remember data entered during registration when validation error is present \u001b[32m(0.44s)\u001b[39m\n",
      "\u001b[31;1mE\u001b[39;22m \u001b[35;1mTest10_RegisterConfirmCest:\u001b[39;22m Confirm user using link \u001b[32m(0.06s)\u001b[39m\n",
      "\u001b[31;1m✖\u001b[39;22m \u001b[35;1mTest11_LoginNotExistingCest:\u001b[39;22m See error when user does not exists \u001b[32m(0.08s)\u001b[39m\n",
      "- \u001b[35;1mTest12_LoginWrongPasswordCest:\u001b[39;22m See error when wrong password is entered"
     ]
    },
    {
     "name": "stderr",
     "output_type": "stream",
     "text": [
      "[Mon Nov 21 02:38:34 2022] [::1]:49596 [200]: POST /auth/confirmation_notice\n",
      "[Mon Nov 21 02:38:34 2022] [::1]:49596 Closing\n",
      "[Mon Nov 21 02:38:34 2022] [::1]:49610 Accepted\n",
      "[Mon Nov 21 02:38:34 2022] [::1]:49610 [200]: GET /auth/login\n",
      "[Mon Nov 21 02:38:34 2022] [::1]:49610 Closing\n"
     ]
    },
    {
     "name": "stdout",
     "output_type": "stream",
     "text": [
      "\u001b[31;1m✖\u001b[39;22m \u001b[35;1mTest12_LoginWrongPasswordCest:\u001b[39;22m See error when wrong password is entered \u001b[32m(0.09s)\u001b[39m\n",
      "\u001b[31;1m✖\u001b[39;22m \u001b[35;1mTest13_LoginNotConfirmedCest:\u001b[39;22m Be remained about email confirmation when trying to login \u001b[32m(0.08s)\u001b[39m\n",
      "\u001b[31;1mE\u001b[39;22m \u001b[35;1mTest14_LoginLogoutSeeHiddenContentCest:\u001b[39;22m See hidden content after login \u001b[32m(0.06s)\u001b[39m\n",
      "--------------------------------------------------------------------------------\n",
      "Time: 00:02.970, Memory: 12.00 MB\n",
      "\n",
      "There were 2 errors:\n",
      "1) \u001b[35;1mTest10_RegisterConfirmCest:\u001b[39;22m Confirm user using link\n",
      "\u001b[37;41;1m Test  \u001b[39;49;22mtests/Acceptance/Test10_RegisterConfirmCest.php:test\n",
      "\u001b[37;41;1m                                                                                                                                                                                                                                                   \u001b[39;49;22m\n",
      "\u001b[37;41;1m  [ArgumentCountError] Too few arguments to function Model\\User::__construct(), 1 passed in /home/student/php_2022_adam_lewinski/07_testing/02_exercise/project/tests/Acceptance/Test10_RegisterConfirmCest.php on line 17 and exactly 5 expected  \u001b[39;49;22m\n",
      "\u001b[37;41;1m                                                                                                                                                                                                                                                   \u001b[39;49;22m\n",
      "#1  /home/student/php_2022_adam_lewinski/07_testing/02_exercise/project/src/Model/User.php:19\n",
      "#2  /home/student/php_2022_adam_lewinski/07_testing/02_exercise/project/tests/Acceptance/Test10_RegisterConfirmCest.php:17\n",
      "#3  Tests\\Acceptance\\Test10_RegisterConfirmCest->test\n",
      "#4  /home/student/php_2022_adam_lewinski/07_testing/02_exercise/project/vendor/bin/codecept:120\n",
      "2) \u001b[35;1mTest14_LoginLogoutSeeHiddenContentCest:\u001b[39;22m See hidden content after login\n",
      "\u001b[37;41;1m Test  \u001b[39;49;22mtests/Acceptance/Test14_LoginLogoutSeeHiddenContentCest.php:test\n",
      "\u001b[37;41;1m                                                                                                                                                                                                                                                               \u001b[39;49;22m\n",
      "\u001b[37;41;1m  [ArgumentCountError] Too few arguments to function Model\\User::__construct(), 1 passed in /home/student/php_2022_adam_lewinski/07_testing/02_exercise/project/tests/Acceptance/Test14_LoginLogoutSeeHiddenContentCest.php on line 17 and exactly 5 expected  \u001b[39;49;22m\n",
      "\u001b[37;41;1m                                                                                                                                                                                                                                                               \u001b[39;49;22m\n",
      "#1  /home/student/php_2022_adam_lewinski/07_testing/02_exercise/project/src/Model/User.php:19\n",
      "#2  /home/student/php_2022_adam_lewinski/07_testing/02_exercise/project/tests/Acceptance/Test14_LoginLogoutSeeHiddenContentCest.php:17\n",
      "#3  Tests\\Acceptance\\Test14_LoginLogoutSeeHiddenContentCest->test\n",
      "#4  /home/student/php_2022_adam_lewinski/07_testing/02_exercise/project/vendor/bin/codecept:120\n",
      "\n",
      "---------\n",
      "\n",
      "There were 6 failures:\n",
      "1) \u001b[35;1mTest07_RegisterCest:\u001b[39;22m Register new user\n",
      "\u001b[37;41;1m Test  \u001b[39;49;22mtests/Acceptance/Test07_RegisterCest.php:test\n",
      "\u001b[37;41;1m Step \u001b[39;49;22m See current url equals \"/auth/register\"\n",
      "\u001b[37;41;1m Fail \u001b[39;49;22m Failed asserting that 64 matches expected 32.\n",
      "\u001b[33m\n",
      "Scenario Steps:\n",
      "\u001b[39m\n",
      "\u001b[1m 26. $I->assertEquals(32,64)\u001b[22m at \u001b[32mtests/Acceptance/Test07_RegisterCest.php:62\u001b[39m\n",
      " 25. $I->assertNotEmpty(\"7f40cddbc78ae4e1ee6acac673c89bbb2b4a97ad08b5fbfd2c...\") at \u001b[32mtests/Acceptance/Test07_RegisterCest.php:61\u001b[39m\n",
      " 24. // token should be randomly generated hexadecimal value\n",
      " 23. // I am going to check that email confirmation token was generated\n",
      " 22. $I->assertTrue(true) at \u001b[32mtests/Acceptance/Test07_RegisterCest.php:56\u001b[39m\n",
      " 21. // I am going to make sure that password was securely hashed\n",
      "\n",
      "\u001b[33mArtifacts:\u001b[39m\n",
      "\n",
      "Html: \u001b[36m/home/student/php_2022_adam_lewinski/07_testing/02_exercise/project/tests/_output/Tests.Acceptance.Test07_RegisterCest.test.fail.html\u001b[39m\n",
      "Response: \u001b[36m/home/student/php_2022_adam_lewinski/07_testing/02_exercise/project/tests/_output/Tests.Acceptance.Test07_RegisterCest.test.fail.html\u001b[39m\n",
      "2) \u001b[35;1mTest08_RegisterValidationCest:\u001b[39;22m Validate data entered during registration\n",
      "\u001b[37;41;1m Test  \u001b[39;49;22mtests/Acceptance/Test08_RegisterValidationCest.php:test\n",
      "\u001b[37;41;1m Step \u001b[39;49;22m See in title \"Login\"\n",
      "\u001b[37;41;1m Fail \u001b[39;49;22m Failed asserting that two strings are identical.\n",
      "\u001b[33m- Expected\u001b[39m | \u001b[32m+ Actual\u001b[39m\n",
      "@@ @@\n",
      "\u001b[33m-'/auth/register'\u001b[39m\n",
      "\u001b[32m+'/auth/confirmation_notice'\u001b[39m\n"
     ]
    },
    {
     "name": "stderr",
     "output_type": "stream",
     "text": [
      "[Mon Nov 21 02:38:34 2022] [::1]:49620 Accepted\n",
      "[Mon Nov 21 02:38:34 2022] [::1]:49620 [200]: GET /auth/login\n",
      "[Mon Nov 21 02:38:34 2022] [::1]:49620 Closing\n",
      "[Mon Nov 21 02:38:35 2022] [::1]:49626 Accepted\n",
      "[Mon Nov 21 02:38:35 2022] [::1]:49626 [200]: GET /auth/login\n",
      "[Mon Nov 21 02:38:35 2022] [::1]:49626 Closing\n"
     ]
    },
    {
     "name": "stdout",
     "output_type": "stream",
     "text": [
      "\u001b[33m\r\n",
      "Scenario Steps:\r\n",
      "\u001b[39m\r\n",
      "\u001b[1m 3. $I->seeCurrentUrlEquals(\"/auth/register\")\u001b[22m at \u001b[32mtests/Acceptance/Test08_RegisterValidationCest.php:20\u001b[39m\r\n",
      " 2. $I->click(\"Create\") at \u001b[32mtests/Acceptance/Test08_RegisterValidationCest.php:18\u001b[39m\r\n",
      " 1. $I->amOnPage(\"/auth/register\") at \u001b[32mtests/Acceptance/Test08_RegisterValidationCest.php:16\u001b[39m\r\n",
      "\r\n",
      "\u001b[33mArtifacts:\u001b[39m\r\n",
      "\r\n",
      "Html: \u001b[36m/home/student/php_2022_adam_lewinski/07_testing/02_exercise/project/tests/_output/Tests.Acceptance.Test08_RegisterValidationCest.test.fail.html\u001b[39m\r\n",
      "Response: \u001b[36m/home/student/php_2022_adam_lewinski/07_testing/02_exercise/project/tests/_output/Tests.Acceptance.Test08_RegisterValidationCest.test.fail.html\u001b[39m\r\n",
      "3) \u001b[35;1mTest09_RegisterRememberFieldsCest:\u001b[39;22m Remember data entered during registration when validation error is present\r\n",
      "\u001b[37;41;1m Test  \u001b[39;49;22mtests/Acceptance/Test09_RegisterRememberFieldsCest.php:test\r\n",
      "\u001b[37;41;1m Step \u001b[39;49;22m See in title \"Login\"\r\n",
      "\u001b[37;41;1m Fail \u001b[39;49;22m Failed asserting that two strings are identical.\r\n",
      "\u001b[33m- Expected\u001b[39m | \u001b[32m+ Actual\u001b[39m\r\n",
      "@@ @@\r\n",
      "\u001b[33m-'/auth/register'\u001b[39m\r\n",
      "\u001b[32m+'/auth/confirmation_notice'\u001b[39m\r\n",
      "\u001b[33m\r\n",
      "Scenario Steps:\r\n",
      "\u001b[39m\r\n",
      "\u001b[1m 4. $I->seeCurrentUrlEquals(\"/auth/register\")\u001b[22m at \u001b[32mtests/Acceptance/Test09_RegisterRememberFieldsCest.php:21\u001b[39m\r\n",
      " 3. $I->click(\"Create\") at \u001b[32mtests/Acceptance/Test09_RegisterRememberFieldsCest.php:20\u001b[39m\r\n",
      " 2. $I->fillField(\"id\",\"1\") at \u001b[32mtests/Acceptance/Test09_RegisterRememberFieldsCest.php:19\u001b[39m\r\n",
      " 1. $I->amOnPage(\"/auth/register\") at \u001b[32mtests/Acceptance/Test09_RegisterRememberFieldsCest.php:16\u001b[39m\r\n",
      "\r\n",
      "\u001b[33mArtifacts:\u001b[39m\r\n",
      "\r\n",
      "Html: \u001b[36m/home/student/php_2022_adam_lewinski/07_testing/02_exercise/project/tests/_output/Tests.Acceptance.Test09_RegisterRememberFieldsCest.test.fail.html\u001b[39m\r\n",
      "Response: \u001b[36m/home/student/php_2022_adam_lewinski/07_testing/02_exercise/project/tests/_output/Tests.Acceptance.Test09_RegisterRememberFieldsCest.test.fail.html\u001b[39m\r\n",
      "4) \u001b[35;1mTest11_LoginNotExistingCest:\u001b[39;22m See error when user does not exists\r\n",
      "\u001b[37;41;1m Test  \u001b[39;49;22mtests/Acceptance/Test11_LoginNotExistingCest.php:test\r\n",
      "\u001b[37;41;1m Step \u001b[39;49;22m See in title \"Login\"\r\n",
      "\u001b[37;41;1m Fail \u001b[39;49;22m page title contains Login\r\n",
      "Failed asserting that '404' contains \"Login\".\r\n",
      "\u001b[33m\r\n",
      "Scenario Steps:\r\n",
      "\u001b[39m\r\n",
      "\u001b[1m 2. $I->seeInTitle(\"Login\")\u001b[22m at \u001b[32mtests/Acceptance/Test11_LoginNotExistingCest.php:18\u001b[39m\r\n",
      " 1. $I->amOnPage(\"/auth/login\") at \u001b[32mtests/Acceptance/Test11_LoginNotExistingCest.php:16\u001b[39m\r\n",
      "\r\n",
      "\u001b[33mArtifacts:\u001b[39m\r\n",
      "\r\n",
      "Html: \u001b[36m/home/student/php_2022_adam_lewinski/07_testing/02_exercise/project/tests/_output/Tests.Acceptance.Test11_LoginNotExistingCest.test.fail.html\u001b[39m\r\n",
      "Response: \u001b[36m/home/student/php_2022_adam_lewinski/07_testing/02_exercise/project/tests/_output/Tests.Acceptance.Test11_LoginNotExistingCest.test.fail.html\u001b[39m\r\n",
      "5) \u001b[35;1mTest12_LoginWrongPasswordCest:\u001b[39;22m See error when wrong password is entered\r\n",
      "\u001b[37;41;1m Test  \u001b[39;49;22mtests/Acceptance/Test12_LoginWrongPasswordCest.php:test\r\n",
      "page title contains Login\r\n",
      "Failed asserting that '404' contains \"Login\".\r\n",
      "\u001b[33m\r\n",
      "Scenario Steps:\r\n",
      "\u001b[39m\r\n",
      "\u001b[1m 2. $I->seeInTitle(\"Login\")\u001b[22m at \u001b[32mtests/Acceptance/Test12_LoginWrongPasswordCest.php:19\u001b[39m\r\n",
      " 1. $I->amOnPage(\"/auth/login\") at \u001b[32mtests/Acceptance/Test12_LoginWrongPasswordCest.php:17\u001b[39m\r\n",
      "\r\n",
      "\u001b[33mArtifacts:\u001b[39m\r\n",
      "\r\n",
      "Html: \u001b[36m/home/student/php_2022_adam_lewinski/07_testing/02_exercise/project/tests/_output/Tests.Acceptance.Test12_LoginWrongPasswordCest.test.fail.html\u001b[39m\r\n",
      "Response: \u001b[36m/home/student/php_2022_adam_lewinski/07_testing/02_exercise/project/tests/_output/Tests.Acceptance.Test12_LoginWrongPasswordCest.test.fail.html\u001b[39m\r\n",
      "6) \u001b[35;1mTest13_LoginNotConfirmedCest:\u001b[39;22m Be remained about email confirmation when trying to login\r\n",
      "\u001b[37;41;1m Test  \u001b[39;49;22mtests/Acceptance/Test13_LoginNotConfirmedCest.php:test\r\n",
      "page title contains Login\r\n",
      "Failed asserting that '404' contains \"Login\".\r\n",
      "\u001b[33m\r\n",
      "Scenario Steps:\r\n",
      "\u001b[39m\r\n",
      "\u001b[1m 2. $I->seeInTitle(\"Login\")\u001b[22m at \u001b[32mtests/Acceptance/Test13_LoginNotConfirmedCest.php:18\u001b[39m\r\n",
      " 1. $I->amOnPage(\"/auth/login\") at \u001b[32mtests/Acceptance/Test13_LoginNotConfirmedCest.php:16\u001b[39m\r\n",
      "\r\n",
      "\u001b[33mArtifacts:\u001b[39m\r\n",
      "\r\n",
      "Html: \u001b[36m/home/student/php_2022_adam_lewinski/07_testing/02_exercise/project/tests/_output/Tests.Acceptance.Test13_LoginNotConfirmedCest.test.fail.html\u001b[39m\r\n",
      "Response: \u001b[36m/home/student/php_2022_adam_lewinski/07_testing/02_exercise/project/tests/_output/Tests.Acceptance.Test13_LoginNotConfirmedCest.test.fail.html\u001b[39m\r\n",
      "\r\n",
      "\u001b[37;41;1mERRORS!\u001b[39;49;22m\r\n",
      "\u001b[37;41;1mTests: 15, Assertions: 161, Errors: 2, Failures: 6.\u001b[39;49;22m\r\n"
     ]
    }
   ],
   "source": [
    "! vendor/bin/codecept run Acceptance"
   ]
  },
  {
   "cell_type": "code",
   "execution_count": 16,
   "metadata": {},
   "outputs": [
    {
     "name": "stdout",
     "output_type": "stream",
     "text": [
      "Codeception PHP Testing Framework v5.0.4 https://helpukrainewin.org\n",
      "\n",
      "\u001b[1mTests.Acceptance Tests (15) \u001b[22m----------------------------------------------------\n",
      "- \u001b[35;1mTest00_PrettyUrlCest:\u001b[39;22m Test"
     ]
    },
    {
     "name": "stderr",
     "output_type": "stream",
     "text": [
      "[Mon Nov 21 02:38:35 2022] [::1]:49632 Accepted\n",
      "[Mon Nov 21 02:38:35 2022] [::1]:49632 [200]: GET /\n",
      "[Mon Nov 21 02:38:35 2022] [::1]:49632 Closing\n",
      "[Mon Nov 21 02:38:35 2022] [::1]:49642 Accepted\n",
      "[Mon Nov 21 02:38:35 2022] [::1]:49642 [200]: GET /home\n",
      "[Mon Nov 21 02:38:35 2022] [::1]:49642 Closing\n",
      "[Mon Nov 21 02:38:35 2022] [::1]:49646 Accepted\n",
      "[Mon Nov 21 02:38:35 2022] [::1]:49646 [200]: GET /about\n",
      "[Mon Nov 21 02:38:35 2022] [::1]:49646 Closing\n",
      "[Mon Nov 21 02:38:35 2022] [::1]:49658 Accepted\n",
      "[Mon Nov 21 02:38:35 2022] [::1]:49658 [200]: GET /users\n",
      "[Mon Nov 21 02:38:35 2022] [::1]:49658 Closing\n",
      "[Mon Nov 21 02:38:35 2022] [::1]:49668 Accepted\n",
      "[Mon Nov 21 02:38:35 2022] [::1]:49668 [200]: GET /users/1\n",
      "[Mon Nov 21 02:38:35 2022] [::1]:49668 Closing\n",
      "[Mon Nov 21 02:38:35 2022] [::1]:49680 Accepted\n",
      "[Mon Nov 21 02:38:35 2022] [::1]:49680 [200]: GET /users\n",
      "[Mon Nov 21 02:38:35 2022] [::1]:49680 Closing\n",
      "[Mon Nov 21 02:38:35 2022] [::1]:49692 Accepted\n",
      "[Mon Nov 21 02:38:35 2022] [::1]:49692 [200]: GET /users/2\n",
      "[Mon Nov 21 02:38:35 2022] [::1]:49692 Closing\n",
      "[Mon Nov 21 02:38:35 2022] [::1]:49696 Accepted\n",
      "[Mon Nov 21 02:38:35 2022] [::1]:49696 [200]: GET /users\n",
      "[Mon Nov 21 02:38:35 2022] [::1]:49696 Closing\n",
      "[Mon Nov 21 02:38:35 2022] [::1]:49700 Accepted\n",
      "[Mon Nov 21 02:38:35 2022] [::1]:49700 [200]: GET /users/3\n",
      "[Mon Nov 21 02:38:35 2022] [::1]:49700 Closing\n",
      "[Mon Nov 21 02:38:35 2022] [::1]:49714 Accepted\n",
      "[Mon Nov 21 02:38:35 2022] [::1]:49714 [200]: GET /demo/file\n",
      "[Mon Nov 21 02:38:35 2022] [::1]:49714 Closing\n",
      "[Mon Nov 21 02:38:35 2022] [::1]:49730 Accepted\n",
      "[Mon Nov 21 02:38:35 2022] [::1]:49730 [200]: GET /demo/session\n",
      "[Mon Nov 21 02:38:35 2022] [::1]:49730 Closing\n"
     ]
    },
    {
     "name": "stdout",
     "output_type": "stream",
     "text": [
      "\u001b[32;1m✔\u001b[39;22m \u001b[35;1mTest00_PrettyUrlCest:\u001b[39;22m Test \u001b[32m(0.17s)\u001b[39m\n",
      "\u001b[32;1m✔\u001b[39;22m \u001b[35;1mTest01_FileStorageCest:\u001b[39;22m Test \u001b[32m(0.03s)\u001b[39m\n",
      "\u001b[32;1m✔\u001b[39;22m \u001b[35;1mTest02_SessionStorageCest:\u001b[39;22m Test \u001b[32m(0.01s)\u001b[39m\n",
      "\u001b[32;1m✔\u001b[39;22m \u001b[35;1mTest03_SQLiteStorageCest:\u001b[39;22m Test \u001b[32m(0.09s)\u001b[39m\n",
      "- \u001b[35;1mTest04_MySQLStorageCest:\u001b[39;22m Test"
     ]
    },
    {
     "name": "stderr",
     "output_type": "stream",
     "text": [
      "[Mon Nov 21 02:38:35 2022] [::1]:49744 Accepted\n",
      "[Mon Nov 21 02:38:36 2022] [::1]:49744 [200]: GET /demo/sqlite\n",
      "[Mon Nov 21 02:38:36 2022] [::1]:49744 Closing\n",
      "[Mon Nov 21 02:38:36 2022] [::1]:49746 Accepted\n",
      "[Mon Nov 21 02:38:36 2022] [::1]:49746 [200]: GET /demo/mysql\n",
      "[Mon Nov 21 02:38:36 2022] [::1]:49746 Closing\n",
      "[Mon Nov 21 02:38:36 2022] [::1]:49748 Accepted\n",
      "[Mon Nov 21 02:38:36 2022] [::1]:49748 [200]: GET /demo/mysql\n",
      "[Mon Nov 21 02:38:36 2022] [::1]:49748 Closing\n"
     ]
    },
    {
     "name": "stdout",
     "output_type": "stream",
     "text": [
      "\u001b[32;1m✔\u001b[39;22m \u001b[35;1mTest04_MySQLStorageCest:\u001b[39;22m Test \u001b[32m(0.39s)\u001b[39m\n",
      "\u001b[32;1m✔\u001b[39;22m \u001b[35;1mTest05_RedisStorageCest:\u001b[39;22m Test \u001b[32m(0.06s)\u001b[39m\n",
      "\u001b[32;1m✔\u001b[39;22m \u001b[35;1mTest06_HomepageCest:\u001b[39;22m See login and register links \u001b[32m(0.12s)\u001b[39m\n",
      "- \u001b[35;1mTest07_RegisterCest:\u001b[39;22m Register new user"
     ]
    },
    {
     "name": "stderr",
     "output_type": "stream",
     "text": [
      "[Mon Nov 21 02:38:36 2022] [::1]:49752 Accepted\n",
      "[Mon Nov 21 02:38:36 2022] [::1]:49752 [200]: GET /demo/redis\n",
      "[Mon Nov 21 02:38:36 2022] [::1]:49752 Closing\n",
      "[Mon Nov 21 02:38:36 2022] [::1]:49756 Accepted\n",
      "[Mon Nov 21 02:38:36 2022] [::1]:49756 [200]: GET /\n",
      "[Mon Nov 21 02:38:36 2022] [::1]:49756 Closing\n",
      "[Mon Nov 21 02:38:36 2022] [::1]:49758 Accepted\n",
      "[Mon Nov 21 02:38:36 2022] [::1]:49758 [200]: GET /home\n",
      "[Mon Nov 21 02:38:36 2022] [::1]:49758 Closing\n",
      "[Mon Nov 21 02:38:36 2022] [::1]:49764 Accepted\n",
      "[Mon Nov 21 02:38:36 2022] [::1]:49764 [200]: GET /\n",
      "[Mon Nov 21 02:38:36 2022] [::1]:49764 Closing\n",
      "[Mon Nov 21 02:38:36 2022] [::1]:49774 Accepted\n",
      "[Mon Nov 21 02:38:36 2022] [::1]:49774 [200]: GET /auth/register\n",
      "[Mon Nov 21 02:38:36 2022] [::1]:49774 Closing\n",
      "[Mon Nov 21 02:38:36 2022] [::1]:49790 Accepted\n",
      "[Mon Nov 21 02:38:37 2022] [::1]:49790 [200]: POST /auth/confirmation_notice\n",
      "[Mon Nov 21 02:38:37 2022] [::1]:49790 Closing\n"
     ]
    },
    {
     "name": "stdout",
     "output_type": "stream",
     "text": [
      "\r",
      "\u001b[31;1m✖\u001b[39;22m \u001b[35;1mTest07_RegisterCest:\u001b[39;22m Register new user \u001b[32m(0.65s)\u001b[39m\r\n",
      "- \u001b[35;1mTest08_RegisterValidationCest:\u001b[39;22m Validate data entered during registration"
     ]
    },
    {
     "name": "stderr",
     "output_type": "stream",
     "text": [
      "[Mon Nov 21 02:38:37 2022] [::1]:49796 Accepted\n",
      "[Mon Nov 21 02:38:37 2022] [::1]:49796 [200]: GET /auth/register\n",
      "[Mon Nov 21 02:38:37 2022] [::1]:49796 Closing\n",
      "[Mon Nov 21 02:38:37 2022] [::1]:49810 Accepted\n"
     ]
    },
    {
     "name": "stdout",
     "output_type": "stream",
     "text": [
      "\r",
      "\u001b[31;1m✖\u001b[39;22m \u001b[35;1mTest08_RegisterValidationCest:\u001b[39;22m Validate data entered during registration \u001b[32m(0.45s)\u001b[39m\r\n",
      "- \u001b[35;1mTest09_RegisterRememberFieldsCest:\u001b[39;22m Remember data entered during registration when validation error is present"
     ]
    },
    {
     "name": "stderr",
     "output_type": "stream",
     "text": [
      "[Mon Nov 21 02:38:37 2022] [::1]:49810 [200]: POST /auth/confirmation_notice\n",
      "[Mon Nov 21 02:38:37 2022] [::1]:49810 Closing\n",
      "[Mon Nov 21 02:38:37 2022] [::1]:49822 Accepted\n",
      "[Mon Nov 21 02:38:37 2022] [::1]:49822 [200]: GET /auth/register\n",
      "[Mon Nov 21 02:38:37 2022] [::1]:49822 Closing\n",
      "[Mon Nov 21 02:38:37 2022] [::1]:49828 Accepted\n"
     ]
    },
    {
     "name": "stdout",
     "output_type": "stream",
     "text": [
      "\u001b[31;1m✖\u001b[39;22m \u001b[35;1mTest09_RegisterRememberFieldsCest:\u001b[39;22m Remember data entered during registration when validation error is present \u001b[32m(0.50s)\u001b[39m\n",
      "\u001b[31;1mE\u001b[39;22m \u001b[35;1mTest10_RegisterConfirmCest:\u001b[39;22m Confirm user using link \u001b[32m(0.07s)\u001b[39m\n",
      "- \u001b[35;1mTest11_LoginNotExistingCest:\u001b[39;22m See error when user does not exists"
     ]
    },
    {
     "name": "stderr",
     "output_type": "stream",
     "text": [
      "[Mon Nov 21 02:38:38 2022] [::1]:49828 [200]: POST /auth/confirmation_notice\n",
      "[Mon Nov 21 02:38:38 2022] [::1]:49828 Closing\n",
      "[Mon Nov 21 02:38:38 2022] [::1]:49836 Accepted\n",
      "[Mon Nov 21 02:38:38 2022] [::1]:49836 [200]: GET /auth/login\n",
      "[Mon Nov 21 02:38:38 2022] [::1]:49836 Closing\n"
     ]
    },
    {
     "name": "stdout",
     "output_type": "stream",
     "text": [
      "\u001b[31;1m✖\u001b[39;22m \u001b[35;1mTest11_LoginNotExistingCest:\u001b[39;22m See error when user does not exists \u001b[32m(0.09s)\u001b[39m\n",
      "\u001b[31;1m✖\u001b[39;22m \u001b[35;1mTest12_LoginWrongPasswordCest:\u001b[39;22m See error when wrong password is entered \u001b[32m(0.09s)\u001b[39m\n",
      "\u001b[31;1m✖\u001b[39;22m \u001b[35;1mTest13_LoginNotConfirmedCest:\u001b[39;22m Be remained about email confirmation when trying to login \u001b[32m(0.09s)\u001b[39m\n",
      "- \u001b[35;1mTest14_LoginLogoutSeeHiddenContentCest:\u001b[39;22m See hidden content after login"
     ]
    },
    {
     "name": "stderr",
     "output_type": "stream",
     "text": [
      "[Mon Nov 21 02:38:38 2022] [::1]:49848 Accepted\n",
      "[Mon Nov 21 02:38:38 2022] [::1]:49848 [200]: GET /auth/login\n",
      "[Mon Nov 21 02:38:38 2022] [::1]:49848 Closing\n",
      "[Mon Nov 21 02:38:38 2022] [::1]:49864 Accepted\n",
      "[Mon Nov 21 02:38:38 2022] [::1]:49864 [200]: GET /auth/login\n",
      "[Mon Nov 21 02:38:38 2022] [::1]:49864 Closing\n"
     ]
    },
    {
     "name": "stdout",
     "output_type": "stream",
     "text": [
      "\u001b[31;1mE\u001b[39;22m \u001b[35;1mTest14_LoginLogoutSeeHiddenContentCest:\u001b[39;22m See hidden content after login \u001b[32m(0.09s)\u001b[39m\n",
      "--------------------------------------------------------------------------------\n",
      "Time: 00:03.149, Memory: 14.00 MB\n",
      "\n",
      "There were 2 errors:\n",
      "1) \u001b[35;1mTest10_RegisterConfirmCest:\u001b[39;22m Confirm user using link\n",
      "\u001b[37;41;1m Test  \u001b[39;49;22mtests/Acceptance/Test10_RegisterConfirmCest.php:test\n",
      "\u001b[37;41;1m                                                                                                                                                                                                                                                   \u001b[39;49;22m\n",
      "\u001b[37;41;1m  [ArgumentCountError] Too few arguments to function Model\\User::__construct(), 1 passed in /home/student/php_2022_adam_lewinski/07_testing/02_exercise/project/tests/Acceptance/Test10_RegisterConfirmCest.php on line 17 and exactly 5 expected  \u001b[39;49;22m\n",
      "\u001b[37;41;1m                                                                                                                                                                                                                                                   \u001b[39;49;22m\n",
      "#1  /home/student/php_2022_adam_lewinski/07_testing/02_exercise/project/src/Model/User.php:19\n",
      "#2  /home/student/php_2022_adam_lewinski/07_testing/02_exercise/project/tests/Acceptance/Test10_RegisterConfirmCest.php:17\n",
      "#3  Tests\\Acceptance\\Test10_RegisterConfirmCest->test\n",
      "#4  /home/student/php_2022_adam_lewinski/07_testing/02_exercise/project/vendor/bin/codecept:120\n",
      "2) \u001b[35;1mTest14_LoginLogoutSeeHiddenContentCest:\u001b[39;22m See hidden content after login\n",
      "\u001b[37;41;1m Test  \u001b[39;49;22mtests/Acceptance/Test14_LoginLogoutSeeHiddenContentCest.php:test\n",
      "\u001b[37;41;1m                                                                                                                                                                                                                                                               \u001b[39;49;22m\n",
      "\u001b[37;41;1m  [ArgumentCountError] Too few arguments to function Model\\User::__construct(), 1 passed in /home/student/php_2022_adam_lewinski/07_testing/02_exercise/project/tests/Acceptance/Test14_LoginLogoutSeeHiddenContentCest.php on line 17 and exactly 5 expected  \u001b[39;49;22m\n",
      "\u001b[37;41;1m                                                                                                                                                                                                                                                               \u001b[39;49;22m\n",
      "#1  /home/student/php_2022_adam_lewinski/07_testing/02_exercise/project/src/Model/User.php:19\n",
      "#2  /home/student/php_2022_adam_lewinski/07_testing/02_exercise/project/tests/Acceptance/Test14_LoginLogoutSeeHiddenContentCest.php:17\n",
      "#3  Tests\\Acceptance\\Test14_LoginLogoutSeeHiddenContentCest->test\n",
      "#4  /home/student/php_2022_adam_lewinski/07_testing/02_exercise/project/vendor/bin/codecept:120\n",
      "\n",
      "---------\n",
      "\n",
      "There were 6 failures:\n",
      "1) \u001b[35;1mTest07_RegisterCest:\u001b[39;22m Register new user\n",
      "\u001b[37;41;1m Test  \u001b[39;49;22mtests/Acceptance/Test07_RegisterCest.php:test\n",
      "\u001b[37;41;1m Step \u001b[39;49;22m See current url equals \"/auth/register\"\n",
      "\u001b[37;41;1m Fail \u001b[39;49;22m Failed asserting that 64 matches expected 32.\n",
      "\u001b[33m\n",
      "Scenario Steps:\n",
      "\u001b[39m\n",
      "\u001b[1m 26. $I->assertEquals(32,64)\u001b[22m at \u001b[32mtests/Acceptance/Test07_RegisterCest.php:62\u001b[39m\n",
      " 25. $I->assertNotEmpty(\"d6b789cb42a7e0104b89b8696bfe168ccb8404a69eb226c394...\") at \u001b[32mtests/Acceptance/Test07_RegisterCest.php:61\u001b[39m\n",
      " 24. // token should be randomly generated hexadecimal value\n",
      " 23. // I am going to check that email confirmation token was generated\n",
      " 22. $I->assertTrue(true) at \u001b[32mtests/Acceptance/Test07_RegisterCest.php:56\u001b[39m\n",
      " 21. // I am going to make sure that password was securely hashed\n",
      "\n",
      "\u001b[33mArtifacts:\u001b[39m\n",
      "\n",
      "Html: \u001b[36m/home/student/php_2022_adam_lewinski/07_testing/02_exercise/project/tests/_output/Tests.Acceptance.Test07_RegisterCest.test.fail.html\u001b[39m\n",
      "Response: \u001b[36m/home/student/php_2022_adam_lewinski/07_testing/02_exercise/project/tests/_output/Tests.Acceptance.Test07_RegisterCest.test.fail.html\u001b[39m\n",
      "2) \u001b[35;1mTest08_RegisterValidationCest:\u001b[39;22m Validate data entered during registration\n",
      "\u001b[37;41;1m Test  \u001b[39;49;22mtests/Acceptance/Test08_RegisterValidationCest.php:test\n",
      "\u001b[37;41;1m Step \u001b[39;49;22m See in title \"Login\"\n",
      "\u001b[37;41;1m Fail \u001b[39;49;22m Failed asserting that two strings are identical.\n",
      "\u001b[33m- Expected\u001b[39m | \u001b[32m+ Actual\u001b[39m\n",
      "@@ @@\n",
      "\u001b[33m-'/auth/register'\u001b[39m\n",
      "\u001b[32m+'/auth/confirmation_notice'\u001b[39m\n",
      "\u001b[33m\n",
      "Scenario Steps:\n",
      "\u001b[39m\n",
      "\u001b[1m 3. $I->seeCurrentUrlEquals(\"/auth/register\")\u001b[22m at \u001b[32mtests/Acceptance/Test08_RegisterValidationCest.php:20\u001b[39m\n",
      " 2. $I->click(\"Create\") at \u001b[32mtests/Acceptance/Test08_RegisterValidationCest.php:18\u001b[39m\n",
      " 1. $I->amOnPage(\"/auth/register\") at \u001b[32mtests/Acceptance/Test08_RegisterValidationCest.php:16\u001b[39m\n",
      "\n",
      "\u001b[33mArtifacts:\u001b[39m\n",
      "\n",
      "Html: \u001b[36m/home/student/php_2022_adam_lewinski/07_testing/02_exercise/project/tests/_output/Tests.Acceptance.Test08_RegisterValidationCest.test.fail.html\u001b[39m\n",
      "Response: \u001b[36m/home/student/php_2022_adam_lewinski/07_testing/02_exercise/project/tests/_output/Tests.Acceptance.Test08_RegisterValidationCest.test.fail.html\u001b[39m\n",
      "3) \u001b[35;1mTest09_RegisterRememberFieldsCest:\u001b[39;22m Remember data entered during registration when validation error is present\n",
      "\u001b[37;41;1m Test  \u001b[39;49;22mtests/Acceptance/Test09_RegisterRememberFieldsCest.php:test\n",
      "\u001b[37;41;1m Step \u001b[39;49;22m See in title \"Login\"\n",
      "\u001b[37;41;1m Fail \u001b[39;49;22m Failed asserting that two strings are identical.\n",
      "\u001b[33m- Expected\u001b[39m | \u001b[32m+ Actual\u001b[39m\n",
      "@@ @@\n",
      "\u001b[33m-'/auth/register'\u001b[39m\n",
      "\u001b[32m+'/auth/confirmation_notice'\u001b[39m\n",
      "\u001b[33m\n",
      "Scenario Steps:\n",
      "\u001b[39m\n",
      "\u001b[1m 4. $I->seeCurrentUrlEquals(\"/auth/register\")\u001b[22m at \u001b[32mtests/Acceptance/Test09_RegisterRememberFieldsCest.php:21\u001b[39m\n",
      " 3. $I->click(\"Create\") at \u001b[32mtests/Acceptance/Test09_RegisterRememberFieldsCest.php:20\u001b[39m\n",
      " 2. $I->fillField(\"id\",\"1\") at \u001b[32mtests/Acceptance/Test09_RegisterRememberFieldsCest.php:19\u001b[39m\n",
      " 1. $I->amOnPage(\"/auth/register\") at \u001b[32mtests/Acceptance/Test09_RegisterRememberFieldsCest.php:16\u001b[39m\n",
      "\n",
      "\u001b[33mArtifacts:\u001b[39m\n",
      "\n",
      "Html: \u001b[36m/home/student/php_2022_adam_lewinski/07_testing/02_exercise/project/tests/_output/Tests.Acceptance.Test09_RegisterRememberFieldsCest.test.fail.html\u001b[39m\n",
      "Response: \u001b[36m/home/student/php_2022_adam_lewinski/07_testing/02_exercise/project/tests/_output/Tests.Acceptance.Test09_RegisterRememberFieldsCest.test.fail.html\u001b[39m\n",
      "4) \u001b[35;1mTest11_LoginNotExistingCest:\u001b[39;22m See error when user does not exists\n",
      "\u001b[37;41;1m Test  \u001b[39;49;22mtests/Acceptance/Test11_LoginNotExistingCest.php:test\n",
      "\u001b[37;41;1m Step \u001b[39;49;22m See in title \"Login\"\n",
      "\u001b[37;41;1m Fail \u001b[39;49;22m page title contains Login\n",
      "Failed asserting that '404' contains \"Login\".\n",
      "\u001b[33m\n",
      "Scenario Steps:\n",
      "\u001b[39m\n",
      "\u001b[1m 2. $I->seeInTitle(\"Login\")\u001b[22m at \u001b[32mtests/Acceptance/Test11_LoginNotExistingCest.php:18\u001b[39m\n",
      " 1. $I->amOnPage(\"/auth/login\") at \u001b[32mtests/Acceptance/Test11_LoginNotExistingCest.php:16\u001b[39m\n",
      "\n",
      "\u001b[33mArtifacts:\u001b[39m\n",
      "\n",
      "Html: \u001b[36m/home/student/php_2022_adam_lewinski/07_testing/02_exercise/project/tests/_output/Tests.Acceptance.Test11_LoginNotExistingCest.test.fail.html\u001b[39m\n",
      "Response: \u001b[36m/home/student/php_2022_adam_lewinski/07_testing/02_exercise/project/tests/_output/Tests.Acceptance.Test11_LoginNotExistingCest.test.fail.html\u001b[39m\n",
      "5) \u001b[35;1mTest12_LoginWrongPasswordCest:\u001b[39;22m See error when wrong password is entered\n",
      "\u001b[37;41;1m Test  \u001b[39;49;22mtests/Acceptance/Test12_LoginWrongPasswordCest.php:test\n",
      "page title contains Login\n",
      "Failed asserting that '404' contains \"Login\".\n",
      "\u001b[33m\n",
      "Scenario Steps:\n",
      "\u001b[39m\n",
      "\u001b[1m 2. $I->seeInTitle(\"Login\")\u001b[22m at \u001b[32mtests/Acceptance/Test12_LoginWrongPasswordCest.php:19\u001b[39m\n",
      " 1. $I->amOnPage(\"/auth/login\") at \u001b[32mtests/Acceptance/Test12_LoginWrongPasswordCest.php:17\u001b[39m\n",
      "\n",
      "\u001b[33mArtifacts:\u001b[39m\n",
      "\n",
      "Html: \u001b[36m/home/student/php_2022_adam_lewinski/07_testing/02_exercise/project/tests/_output/Tests.Acceptance.Test12_LoginWrongPasswordCest.test.fail.html\u001b[39m\n",
      "Response: \u001b[36m/home/student/php_2022_adam_lewinski/07_testing/02_exercise/project/tests/_output/Tests.Acceptance.Test12_LoginWrongPasswordCest.test.fail.html\u001b[39m\n",
      "6) \u001b[35;1mTest13_LoginNotConfirmedCest:\u001b[39;22m Be remained about email confirmation when trying to login\n",
      "\u001b[37;41;1m Test  \u001b[39;49;22mtests/Acceptance/Test13_LoginNotConfirmedCest.php:test\n",
      "page title contains Login\n",
      "Failed asserting that '404' contains \"Login\".\n",
      "\u001b[33m\n",
      "Scenario Steps:\n",
      "\u001b[39m\n",
      "\u001b[1m 2. $I->seeInTitle(\"Login\")\u001b[22m at \u001b[32mtests/Acceptance/Test13_LoginNotConfirmedCest.php:18\u001b[39m\n",
      " 1. $I->amOnPage(\"/auth/login\") at \u001b[32mtests/Acceptance/Test13_LoginNotConfirmedCest.php:16\u001b[39m\n",
      "\n",
      "\u001b[33mArtifacts:\u001b[39m\n",
      "\n",
      "Html: \u001b[36m/home/student/php_2022_adam_lewinski/07_testing/02_exercise/project/tests/_output/Tests.Acceptance.Test13_LoginNotConfirmedCest.test.fail.html\u001b[39m\n",
      "Response: \u001b[36m/home/student/php_2022_adam_lewinski/07_testing/02_exercise/project/tests/_output/Tests.Acceptance.Test13_LoginNotConfirmedCest.test.fail.html\u001b[39m\n",
      "\n",
      "\u001b[37;41;1mERRORS!\u001b[39;49;22m\n",
      "\u001b[37;41;1mTests: 15, Assertions: 161, Errors: 2, Failures: 6.\u001b[39;49;22m\n",
      "- \u001b[1mJUNIT XML\u001b[22m report generated in \u001b[33mfile:///home/student/php_2022_adam_lewinski/07_testing/02_exercise/project/tests/_output/test_report.xml\u001b[39m\n"
     ]
    }
   ],
   "source": [
    "! vendor/bin/codecept run Acceptance --xml test_report.xml"
   ]
  },
  {
   "cell_type": "code",
   "execution_count": 17,
   "metadata": {},
   "outputs": [],
   "source": [
    "phpServer.kill()"
   ]
  },
  {
   "cell_type": "code",
   "execution_count": 18,
   "metadata": {},
   "outputs": [
    {
     "name": "stdout",
     "output_type": "stream",
     "text": [
      "/home/student/php_2022_adam_lewinski/07_testing/02_exercise\n"
     ]
    }
   ],
   "source": [
    "%cd ../"
   ]
  },
  {
   "cell_type": "markdown",
   "metadata": {},
   "source": [
    "Stop the databses:"
   ]
  },
  {
   "cell_type": "code",
   "execution_count": null,
   "metadata": {},
   "outputs": [],
   "source": [
    "! docker container stop redis"
   ]
  },
  {
   "cell_type": "code",
   "execution_count": null,
   "metadata": {},
   "outputs": [],
   "source": [
    "! docker container stop mysql"
   ]
  }
 ],
 "metadata": {
  "kernelspec": {
   "display_name": "Python 3 (ipykernel)",
   "language": "python",
   "name": "python3"
  },
  "language_info": {
   "codemirror_mode": {
    "name": "ipython",
    "version": 3
   },
   "file_extension": ".py",
   "mimetype": "text/x-python",
   "name": "python",
   "nbconvert_exporter": "python",
   "pygments_lexer": "ipython3",
   "version": "3.10.6"
  }
 },
 "nbformat": 4,
 "nbformat_minor": 4
}
