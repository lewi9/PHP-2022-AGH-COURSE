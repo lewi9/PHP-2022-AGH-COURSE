{
 "cells": [
  {
   "cell_type": "markdown",
   "metadata": {},
   "source": [
    "# PHP 2022"
   ]
  },
  {
   "cell_type": "markdown",
   "metadata": {},
   "source": [
    "## 7. Testing"
   ]
  },
  {
   "cell_type": "markdown",
   "metadata": {},
   "source": [
    "### 7.2 Exercise"
   ]
  },
  {
   "cell_type": "markdown",
   "metadata": {},
   "source": [
    "Implment missing code."
   ]
  },
  {
   "cell_type": "markdown",
   "metadata": {},
   "source": [
    "Start the databses:"
   ]
  },
  {
   "cell_type": "code",
   "execution_count": 1,
   "metadata": {},
   "outputs": [
    {
     "name": "stdout",
     "output_type": "stream",
     "text": [
      "f8ea7e7792f8e877980fd0424c2b8ba0492b043871e1675db05303b57ef6ef16\r\n"
     ]
    }
   ],
   "source": [
    "! docker run --net=host --rm --name redis -d redis"
   ]
  },
  {
   "cell_type": "code",
   "execution_count": 2,
   "metadata": {},
   "outputs": [
    {
     "name": "stdout",
     "output_type": "stream",
     "text": [
      "0fdb40fbd9d42bc7a66b809ea538a6b26ff7fc3e97bf2a157b2688e963e80aa8\r\n"
     ]
    }
   ],
   "source": [
    "! docker run --name=mysql --net=host --rm --env MYSQL_ROOT_PASSWORD=root123 --env MYSQL_DATABASE=test --env MYSQL_USER=test --env MYSQL_PASSWORD=test123 -d mysql/mysql-server:8.0"
   ]
  },
  {
   "cell_type": "code",
   "execution_count": 3,
   "metadata": {},
   "outputs": [
    {
     "name": "stdout",
     "output_type": "stream",
     "text": [
      "Done.\r\n"
     ]
    }
   ],
   "source": [
    "! while ! timeout 1 bash -c \"echo > /dev/tcp/localhost/6379\" 2> /dev/null; do sleep 1; done; echo \"Done.\";"
   ]
  },
  {
   "cell_type": "code",
   "execution_count": 4,
   "metadata": {},
   "outputs": [
    {
     "name": "stdout",
     "output_type": "stream",
     "text": [
      "Done.\r\n"
     ]
    }
   ],
   "source": [
    "! while ! timeout 1 bash -c \"echo > /dev/tcp/localhost/3306\" 2> /dev/null; do sleep 1; done; echo \"Done.\";"
   ]
  },
  {
   "cell_type": "markdown",
   "metadata": {},
   "source": [
    "Edit the code:"
   ]
  },
  {
   "cell_type": "code",
   "execution_count": null,
   "metadata": {},
   "outputs": [
    {
     "name": "stdout",
     "output_type": "stream",
     "text": [
      "CompileCommand: exclude com/intellij/openapi/vfs/impl/FilePartNodeRoot.trieDescend bool exclude = true\n",
      "2022-11-20 18:18:06,738 [   1408] SEVERE - #c.i.d.LoadingState - Should be called at least in the state COMPONENTS_LOADED, the current state is: CONFIGURATION_STORE_INITIALIZED\n",
      "Current violators count: 1\n",
      "\n",
      "\n",
      "java.lang.Throwable\n",
      "\tat com.intellij.diagnostic.LoadingState.logStateError(LoadingState.java:52)\n",
      "\tat com.intellij.diagnostic.LoadingState.checkOccurred(LoadingState.java:48)\n",
      "\tat com.intellij.openapi.actionSystem.impl.ActionManagerImpl.<init>(ActionManagerImpl.java:133)\n",
      "\tat com.jetbrains.rdserver.ui.actionPopupMenu.BackendActionManager.<init>(BackendActionManager.kt:17)\n",
      "\tat java.base/jdk.internal.reflect.NativeConstructorAccessorImpl.newInstance0(Native Method)\n",
      "\tat java.base/jdk.internal.reflect.NativeConstructorAccessorImpl.newInstance(NativeConstructorAccessorImpl.java:77)\n",
      "\tat java.base/jdk.internal.reflect.DelegatingConstructorAccessorImpl.newInstance(DelegatingConstructorAccessorImpl.java:45)\n",
      "\tat java.base/java.lang.reflect.Constructor.newInstanceWithCaller(Constructor.java:499)\n",
      "\tat java.base/java.lang.reflect.Constructor.newInstance(Constructor.java:480)\n",
      "\tat com.intellij.serviceContainer.ConstructorInjectionKt.instantiateUsingPicoContainer(constructorInjection.kt:47)\n",
      "\tat com.intellij.serviceContainer.ComponentManagerImpl.instantiateClassWithConstructorInjection(ComponentManagerImpl.kt:890)\n",
      "\tat com.intellij.serviceContainer.ServiceComponentAdapter.createAndInitialize(ServiceComponentAdapter.kt:51)\n",
      "\tat com.intellij.serviceContainer.ServiceComponentAdapter.doCreateInstance(ServiceComponentAdapter.kt:41)\n",
      "\tat com.intellij.serviceContainer.BaseComponentAdapter.getInstanceUncached(BaseComponentAdapter.kt:119)\n",
      "\tat com.intellij.serviceContainer.BaseComponentAdapter.getInstance(BaseComponentAdapter.kt:73)\n",
      "\tat com.intellij.serviceContainer.BaseComponentAdapter.getInstance$default(BaseComponentAdapter.kt:66)\n",
      "\tat com.intellij.serviceContainer.ComponentManagerImpl.doGetService(ComponentManagerImpl.kt:609)\n",
      "\tat com.intellij.serviceContainer.ComponentManagerImpl.getService(ComponentManagerImpl.kt:583)\n",
      "\tat com.intellij.openapi.client.ClientAwareComponentManager.getFromSelfOrCurrentSession(ClientAwareComponentManager.kt:37)\n",
      "\tat com.intellij.openapi.client.ClientAwareComponentManager.getService(ClientAwareComponentManager.kt:22)\n",
      "\tat com.intellij.openapi.actionSystem.ActionManager.getInstance(ActionManager.java:29)\n",
      "\tat com.intellij.help.impl.KeymapGenerator.<clinit>(KeymapGenerator.java:33)\n",
      "\tat java.base/jdk.internal.misc.Unsafe.allocateInstance(Native Method)\n",
      "\tat java.base/java.lang.invoke.DirectMethodHandle.allocateInstance(DirectMethodHandle.java:520)\n",
      "\tat com.intellij.serviceContainer.ComponentManagerImpl.instantiateClass(ComponentManagerImpl.kt:844)\n",
      "\tat com.intellij.openapi.extensions.impl.XmlExtensionAdapter.instantiateClass(XmlExtensionAdapter.kt:79)\n",
      "\tat com.intellij.openapi.extensions.impl.XmlExtensionAdapter$SimpleConstructorInjectionAdapter.instantiateClass(XmlExtensionAdapter.kt:90)\n",
      "\tat com.intellij.openapi.extensions.impl.XmlExtensionAdapter.doCreateInstance(XmlExtensionAdapter.kt:50)\n",
      "\tat com.intellij.openapi.extensions.impl.XmlExtensionAdapter.createInstance(XmlExtensionAdapter.kt:31)\n",
      "\tat com.intellij.openapi.extensions.impl.ExtensionPointImpl.processAdapter(ExtensionPointImpl.java:447)\n",
      "\tat com.intellij.openapi.extensions.impl.ExtensionPointImpl.access$200(ExtensionPointImpl.java:33)\n",
      "\tat com.intellij.openapi.extensions.impl.ExtensionPointImpl$1.next(ExtensionPointImpl.java:355)\n",
      "\tat com.intellij.idea.ApplicationLoader.findAppStarter(ApplicationLoader.kt:595)\n",
      "\tat com.intellij.idea.ApplicationLoader.access$findAppStarter(ApplicationLoader.kt:1)\n",
      "\tat com.intellij.idea.ApplicationLoader$initApplication$block$3.apply(ApplicationLoader.kt:170)\n",
      "\tat com.intellij.idea.ApplicationLoader$initApplication$block$3.apply(ApplicationLoader.kt)\n",
      "\tat java.base/java.util.concurrent.CompletableFuture$UniCompose.tryFire(CompletableFuture.java:1150)\n",
      "\tat java.base/java.util.concurrent.CompletableFuture.postComplete(CompletableFuture.java:510)\n",
      "\tat java.base/java.util.concurrent.CompletableFuture.postFire(CompletableFuture.java:614)\n",
      "\tat java.base/java.util.concurrent.CompletableFuture$UniCompose.tryFire(CompletableFuture.java:1163)\n",
      "\tat java.base/java.util.concurrent.CompletableFuture$Completion.run(CompletableFuture.java:482)\n",
      "\tat com.intellij.idea.ApplicationLoader$initApplication$block$2.execute(ApplicationLoader.kt:142)\n",
      "\tat java.base/java.util.concurrent.CompletableFuture$UniCompletion.claim(CompletableFuture.java:572)\n",
      "\tat java.base/java.util.concurrent.CompletableFuture$UniCompose.tryFire(CompletableFuture.java:1147)\n",
      "\tat java.base/java.util.concurrent.CompletableFuture.postComplete(CompletableFuture.java:510)\n",
      "\tat java.base/java.util.concurrent.CompletableFuture.postFire(CompletableFuture.java:614)\n",
      "\tat java.base/java.util.concurrent.CompletableFuture$UniCompose.tryFire(CompletableFuture.java:1163)\n",
      "\tat java.base/java.util.concurrent.CompletableFuture$Completion.exec(CompletableFuture.java:483)\n",
      "\tat java.base/java.util.concurrent.ForkJoinTask.doExec(ForkJoinTask.java:373)\n",
      "\tat java.base/java.util.concurrent.ForkJoinPool$WorkQueue.topLevelExec(ForkJoinPool.java:1182)\n",
      "\tat java.base/java.util.concurrent.ForkJoinPool.scan(ForkJoinPool.java:1655)\n",
      "\tat java.base/java.util.concurrent.ForkJoinPool.runWorker(ForkJoinPool.java:1622)\n",
      "\tat java.base/java.util.concurrent.ForkJoinWorkerThread.run(ForkJoinWorkerThread.java:165)\n",
      "2022-11-20 18:18:06,751 [   1421] SEVERE - #c.i.d.LoadingState - PhpStorm 2022.2.3  Build #PS-222.4345.15\n",
      "2022-11-20 18:18:06,752 [   1422] SEVERE - #c.i.d.LoadingState - JDK: 17.0.4.1; VM: OpenJDK 64-Bit Server VM; Vendor: JetBrains s.r.o.\n",
      "2022-11-20 18:18:06,754 [   1424] SEVERE - #c.i.d.LoadingState - OS: Linux\n",
      "2022-11-20 18:18:07,257 [   1927] SEVERE - #c.i.d.LoadingState - Should be called at least in the state COMPONENTS_LOADED, the current state is: CONFIGURATION_STORE_INITIALIZED\n",
      "Current violators count: 2\n",
      "\n",
      "\n",
      "java.lang.Throwable\n",
      "\tat com.intellij.diagnostic.LoadingState.logStateError(LoadingState.java:52)\n",
      "\tat com.intellij.diagnostic.LoadingState.checkOccurred(LoadingState.java:48)\n",
      "\tat com.intellij.openapi.util.registry.Registry.getInstance(Registry.java:176)\n",
      "\tat com.intellij.openapi.util.registry.Registry.get(Registry.java:50)\n",
      "\tat com.intellij.openapi.util.registry.Registry.is(Registry.java:63)\n",
      "\tat com.intellij.execution.ExecutorRegistryImpl.isExecutorInMainGroup(ExecutorRegistryImpl.java:195)\n",
      "\tat com.intellij.execution.ExecutorRegistryImpl.initExecutorActions(ExecutorRegistryImpl.java:127)\n",
      "\tat com.intellij.execution.ExecutorRegistryImpl.init(ExecutorRegistryImpl.java:278)\n",
      "\tat com.intellij.execution.ExecutorRegistryImpl$ExecutorRegistryActionConfigurationTuner.customize(ExecutorRegistryImpl.java:92)\n",
      "\tat com.intellij.openapi.actionSystem.impl.ActionManagerImpl.lambda$new$0(ActionManagerImpl.java:141)\n",
      "\tat com.intellij.openapi.extensions.impl.ExtensionProcessingHelper.forEachExtensionSafe(ExtensionProcessingHelper.java:34)\n",
      "\tat com.intellij.openapi.extensions.ExtensionPointName.forEachExtensionSafe(ExtensionPointName.java:46)\n",
      "\tat com.intellij.openapi.actionSystem.impl.ActionManagerImpl.<init>(ActionManagerImpl.java:141)\n",
      "\tat com.jetbrains.rdserver.ui.actionPopupMenu.BackendActionManager.<init>(BackendActionManager.kt:17)\n",
      "\tat java.base/jdk.internal.reflect.NativeConstructorAccessorImpl.newInstance0(Native Method)\n",
      "\tat java.base/jdk.internal.reflect.NativeConstructorAccessorImpl.newInstance(NativeConstructorAccessorImpl.java:77)\n",
      "\tat java.base/jdk.internal.reflect.DelegatingConstructorAccessorImpl.newInstance(DelegatingConstructorAccessorImpl.java:45)\n",
      "\tat java.base/java.lang.reflect.Constructor.newInstanceWithCaller(Constructor.java:499)\n",
      "\tat java.base/java.lang.reflect.Constructor.newInstance(Constructor.java:480)\n",
      "\tat com.intellij.serviceContainer.ConstructorInjectionKt.instantiateUsingPicoContainer(constructorInjection.kt:47)\n",
      "\tat com.intellij.serviceContainer.ComponentManagerImpl.instantiateClassWithConstructorInjection(ComponentManagerImpl.kt:890)\n",
      "\tat com.intellij.serviceContainer.ServiceComponentAdapter.createAndInitialize(ServiceComponentAdapter.kt:51)\n",
      "\tat com.intellij.serviceContainer.ServiceComponentAdapter.doCreateInstance(ServiceComponentAdapter.kt:41)\n",
      "\tat com.intellij.serviceContainer.BaseComponentAdapter.getInstanceUncached(BaseComponentAdapter.kt:119)\n",
      "\tat com.intellij.serviceContainer.BaseComponentAdapter.getInstance(BaseComponentAdapter.kt:73)\n",
      "\tat com.intellij.serviceContainer.BaseComponentAdapter.getInstance$default(BaseComponentAdapter.kt:66)\n",
      "\tat com.intellij.serviceContainer.ComponentManagerImpl.doGetService(ComponentManagerImpl.kt:609)\n",
      "\tat com.intellij.serviceContainer.ComponentManagerImpl.getService(ComponentManagerImpl.kt:583)\n",
      "\tat com.intellij.openapi.client.ClientAwareComponentManager.getFromSelfOrCurrentSession(ClientAwareComponentManager.kt:37)\n",
      "\tat com.intellij.openapi.client.ClientAwareComponentManager.getService(ClientAwareComponentManager.kt:22)\n",
      "\tat com.intellij.openapi.actionSystem.ActionManager.getInstance(ActionManager.java:29)\n",
      "\tat com.intellij.help.impl.KeymapGenerator.<clinit>(KeymapGenerator.java:33)\n",
      "\tat java.base/jdk.internal.misc.Unsafe.allocateInstance(Native Method)\n",
      "\tat java.base/java.lang.invoke.DirectMethodHandle.allocateInstance(DirectMethodHandle.java:520)\n",
      "\tat com.intellij.serviceContainer.ComponentManagerImpl.instantiateClass(ComponentManagerImpl.kt:844)\n",
      "\tat com.intellij.openapi.extensions.impl.XmlExtensionAdapter.instantiateClass(XmlExtensionAdapter.kt:79)\n",
      "\tat com.intellij.openapi.extensions.impl.XmlExtensionAdapter$SimpleConstructorInjectionAdapter.instantiateClass(XmlExtensionAdapter.kt:90)\n",
      "\tat com.intellij.openapi.extensions.impl.XmlExtensionAdapter.doCreateInstance(XmlExtensionAdapter.kt:50)\n",
      "\tat com.intellij.openapi.extensions.impl.XmlExtensionAdapter.createInstance(XmlExtensionAdapter.kt:31)\n",
      "\tat com.intellij.openapi.extensions.impl.ExtensionPointImpl.processAdapter(ExtensionPointImpl.java:447)\n",
      "\tat com.intellij.openapi.extensions.impl.ExtensionPointImpl.access$200(ExtensionPointImpl.java:33)\n",
      "\tat com.intellij.openapi.extensions.impl.ExtensionPointImpl$1.next(ExtensionPointImpl.java:355)\n",
      "\tat com.intellij.idea.ApplicationLoader.findAppStarter(ApplicationLoader.kt:595)\n",
      "\tat com.intellij.idea.ApplicationLoader.access$findAppStarter(ApplicationLoader.kt:1)\n",
      "\tat com.intellij.idea.ApplicationLoader$initApplication$block$3.apply(ApplicationLoader.kt:170)\n",
      "\tat com.intellij.idea.ApplicationLoader$initApplication$block$3.apply(ApplicationLoader.kt)\n",
      "\tat java.base/java.util.concurrent.CompletableFuture$UniCompose.tryFire(CompletableFuture.java:1150)\n",
      "\tat java.base/java.util.concurrent.CompletableFuture.postComplete(CompletableFuture.java:510)\n",
      "\tat java.base/java.util.concurrent.CompletableFuture.postFire(CompletableFuture.java:614)\n",
      "\tat java.base/java.util.concurrent.CompletableFuture$UniCompose.tryFire(CompletableFuture.java:1163)\n",
      "\tat java.base/java.util.concurrent.CompletableFuture$Completion.run(CompletableFuture.java:482)\n",
      "\tat com.intellij.idea.ApplicationLoader$initApplication$block$2.execute(ApplicationLoader.kt:142)\n",
      "\tat java.base/java.util.concurrent.CompletableFuture$UniCompletion.claim(CompletableFuture.java:572)\n",
      "\tat java.base/java.util.concurrent.CompletableFuture$UniCompose.tryFire(CompletableFuture.java:1147)\n",
      "\tat java.base/java.util.concurrent.CompletableFuture.postComplete(CompletableFuture.java:510)\n",
      "\tat java.base/java.util.concurrent.CompletableFuture.postFire(CompletableFuture.java:614)\n",
      "\tat java.base/java.util.concurrent.CompletableFuture$UniCompose.tryFire(CompletableFuture.java:1163)\n",
      "\tat java.base/java.util.concurrent.CompletableFuture$Completion.exec(CompletableFuture.java:483)\n",
      "\tat java.base/java.util.concurrent.ForkJoinTask.doExec(ForkJoinTask.java:373)\n",
      "\tat java.base/java.util.concurrent.ForkJoinPool$WorkQueue.topLevelExec(ForkJoinPool.java:1182)\n",
      "\tat java.base/java.util.concurrent.ForkJoinPool.scan(ForkJoinPool.java:1655)\n",
      "\tat java.base/java.util.concurrent.ForkJoinPool.runWorker(ForkJoinPool.java:1622)\n",
      "\tat java.base/java.util.concurrent.ForkJoinWorkerThread.run(ForkJoinWorkerThread.java:165)\n",
      "2022-11-20 18:18:07,260 [   1930] SEVERE - #c.i.d.LoadingState - PhpStorm 2022.2.3  Build #PS-222.4345.15\n",
      "2022-11-20 18:18:07,261 [   1931] SEVERE - #c.i.d.LoadingState - JDK: 17.0.4.1; VM: OpenJDK 64-Bit Server VM; Vendor: JetBrains s.r.o.\n",
      "2022-11-20 18:18:07,262 [   1932] SEVERE - #c.i.d.LoadingState - OS: Linux\n",
      "2022-11-20 18:18:07,279 [   1949] SEVERE - #c.i.d.LoadingState - Should be called at least in the state COMPONENTS_LOADED, the current state is: CONFIGURATION_STORE_INITIALIZED\n",
      "Current violators count: 3\n",
      "\n",
      "\n",
      "java.lang.Throwable\n",
      "\tat com.intellij.diagnostic.LoadingState.logStateError(LoadingState.java:52)\n",
      "\tat com.intellij.diagnostic.LoadingState.checkOccurred(LoadingState.java:48)\n",
      "\tat com.intellij.openapi.util.registry.Registry.getInstance(Registry.java:176)\n",
      "\tat com.intellij.openapi.util.registry.Registry.get(Registry.java:50)\n",
      "\tat com.intellij.openapi.util.registry.Registry.is(Registry.java:63)\n",
      "\tat com.intellij.openapi.wm.impl.GlobalMenuLinux._loadLibrary(GlobalMenuLinux.java:797)\n",
      "\tat com.intellij.openapi.wm.impl.GlobalMenuLinux.<clinit>(GlobalMenuLinux.java:164)\n",
      "\tat com.intellij.openapi.wm.impl.GlobalMenuLinux$MyActionTuner.customize(GlobalMenuLinux.java:230)\n",
      "\tat com.intellij.openapi.actionSystem.impl.ActionManagerImpl.lambda$new$0(ActionManagerImpl.java:141)\n",
      "\tat com.intellij.openapi.extensions.impl.ExtensionProcessingHelper.forEachExtensionSafe(ExtensionProcessingHelper.java:34)\n",
      "\tat com.intellij.openapi.extensions.ExtensionPointName.forEachExtensionSafe(ExtensionPointName.java:46)\n",
      "\tat com.intellij.openapi.actionSystem.impl.ActionManagerImpl.<init>(ActionManagerImpl.java:141)\n",
      "\tat com.jetbrains.rdserver.ui.actionPopupMenu.BackendActionManager.<init>(BackendActionManager.kt:17)\n",
      "\tat java.base/jdk.internal.reflect.NativeConstructorAccessorImpl.newInstance0(Native Method)\n",
      "\tat java.base/jdk.internal.reflect.NativeConstructorAccessorImpl.newInstance(NativeConstructorAccessorImpl.java:77)\n",
      "\tat java.base/jdk.internal.reflect.DelegatingConstructorAccessorImpl.newInstance(DelegatingConstructorAccessorImpl.java:45)\n",
      "\tat java.base/java.lang.reflect.Constructor.newInstanceWithCaller(Constructor.java:499)\n",
      "\tat java.base/java.lang.reflect.Constructor.newInstance(Constructor.java:480)\n",
      "\tat com.intellij.serviceContainer.ConstructorInjectionKt.instantiateUsingPicoContainer(constructorInjection.kt:47)\n",
      "\tat com.intellij.serviceContainer.ComponentManagerImpl.instantiateClassWithConstructorInjection(ComponentManagerImpl.kt:890)\n",
      "\tat com.intellij.serviceContainer.ServiceComponentAdapter.createAndInitialize(ServiceComponentAdapter.kt:51)\n",
      "\tat com.intellij.serviceContainer.ServiceComponentAdapter.doCreateInstance(ServiceComponentAdapter.kt:41)\n",
      "\tat com.intellij.serviceContainer.BaseComponentAdapter.getInstanceUncached(BaseComponentAdapter.kt:119)\n",
      "\tat com.intellij.serviceContainer.BaseComponentAdapter.getInstance(BaseComponentAdapter.kt:73)\n",
      "\tat com.intellij.serviceContainer.BaseComponentAdapter.getInstance$default(BaseComponentAdapter.kt:66)\n",
      "\tat com.intellij.serviceContainer.ComponentManagerImpl.doGetService(ComponentManagerImpl.kt:609)\n",
      "\tat com.intellij.serviceContainer.ComponentManagerImpl.getService(ComponentManagerImpl.kt:583)\n",
      "\tat com.intellij.openapi.client.ClientAwareComponentManager.getFromSelfOrCurrentSession(ClientAwareComponentManager.kt:37)\n",
      "\tat com.intellij.openapi.client.ClientAwareComponentManager.getService(ClientAwareComponentManager.kt:22)\n",
      "\tat com.intellij.openapi.actionSystem.ActionManager.getInstance(ActionManager.java:29)\n",
      "\tat com.intellij.help.impl.KeymapGenerator.<clinit>(KeymapGenerator.java:33)\n",
      "\tat java.base/jdk.internal.misc.Unsafe.allocateInstance(Native Method)\n",
      "\tat java.base/java.lang.invoke.DirectMethodHandle.allocateInstance(DirectMethodHandle.java:520)\n",
      "\tat com.intellij.serviceContainer.ComponentManagerImpl.instantiateClass(ComponentManagerImpl.kt:844)\n",
      "\tat com.intellij.openapi.extensions.impl.XmlExtensionAdapter.instantiateClass(XmlExtensionAdapter.kt:79)\n",
      "\tat com.intellij.openapi.extensions.impl.XmlExtensionAdapter$SimpleConstructorInjectionAdapter.instantiateClass(XmlExtensionAdapter.kt:90)\n",
      "\tat com.intellij.openapi.extensions.impl.XmlExtensionAdapter.doCreateInstance(XmlExtensionAdapter.kt:50)\n",
      "\tat com.intellij.openapi.extensions.impl.XmlExtensionAdapter.createInstance(XmlExtensionAdapter.kt:31)\n",
      "\tat com.intellij.openapi.extensions.impl.ExtensionPointImpl.processAdapter(ExtensionPointImpl.java:447)\n",
      "\tat com.intellij.openapi.extensions.impl.ExtensionPointImpl.access$200(ExtensionPointImpl.java:33)\n",
      "\tat com.intellij.openapi.extensions.impl.ExtensionPointImpl$1.next(ExtensionPointImpl.java:355)\n",
      "\tat com.intellij.idea.ApplicationLoader.findAppStarter(ApplicationLoader.kt:595)\n",
      "\tat com.intellij.idea.ApplicationLoader.access$findAppStarter(ApplicationLoader.kt:1)\n",
      "\tat com.intellij.idea.ApplicationLoader$initApplication$block$3.apply(ApplicationLoader.kt:170)\n",
      "\tat com.intellij.idea.ApplicationLoader$initApplication$block$3.apply(ApplicationLoader.kt)\n",
      "\tat java.base/java.util.concurrent.CompletableFuture$UniCompose.tryFire(CompletableFuture.java:1150)\n",
      "\tat java.base/java.util.concurrent.CompletableFuture.postComplete(CompletableFuture.java:510)\n",
      "\tat java.base/java.util.concurrent.CompletableFuture.postFire(CompletableFuture.java:614)\n",
      "\tat java.base/java.util.concurrent.CompletableFuture$UniCompose.tryFire(CompletableFuture.java:1163)\n",
      "\tat java.base/java.util.concurrent.CompletableFuture$Completion.run(CompletableFuture.java:482)\n",
      "\tat com.intellij.idea.ApplicationLoader$initApplication$block$2.execute(ApplicationLoader.kt:142)\n",
      "\tat java.base/java.util.concurrent.CompletableFuture$UniCompletion.claim(CompletableFuture.java:572)\n",
      "\tat java.base/java.util.concurrent.CompletableFuture$UniCompose.tryFire(CompletableFuture.java:1147)\n",
      "\tat java.base/java.util.concurrent.CompletableFuture.postComplete(CompletableFuture.java:510)\n",
      "\tat java.base/java.util.concurrent.CompletableFuture.postFire(CompletableFuture.java:614)\n",
      "\tat java.base/java.util.concurrent.CompletableFuture$UniCompose.tryFire(CompletableFuture.java:1163)\n",
      "\tat java.base/java.util.concurrent.CompletableFuture$Completion.exec(CompletableFuture.java:483)\n",
      "\tat java.base/java.util.concurrent.ForkJoinTask.doExec(ForkJoinTask.java:373)\n",
      "\tat java.base/java.util.concurrent.ForkJoinPool$WorkQueue.topLevelExec(ForkJoinPool.java:1182)\n",
      "\tat java.base/java.util.concurrent.ForkJoinPool.scan(ForkJoinPool.java:1655)\n",
      "\tat java.base/java.util.concurrent.ForkJoinPool.runWorker(ForkJoinPool.java:1622)\n",
      "\tat java.base/java.util.concurrent.ForkJoinWorkerThread.run(ForkJoinWorkerThread.java:165)\n",
      "2022-11-20 18:18:07,282 [   1952] SEVERE - #c.i.d.LoadingState - PhpStorm 2022.2.3  Build #PS-222.4345.15\n",
      "2022-11-20 18:18:07,283 [   1953] SEVERE - #c.i.d.LoadingState - JDK: 17.0.4.1; VM: OpenJDK 64-Bit Server VM; Vendor: JetBrains s.r.o.\n",
      "2022-11-20 18:18:07,284 [   1954] SEVERE - #c.i.d.LoadingState - OS: Linux\n"
     ]
    },
    {
     "name": "stdout",
     "output_type": "stream",
     "text": [
      "Info  | RdCoroutineScope          | 13:JobScheduler FJ pool 1/3 | RdCoroutineHost overridden \n",
      "2022-11-20 18:18:12,546 [   7216]   WARN - #c.i.o.a.i.ActionUpdater - 242 ms to grab EDT for CWMTelephonyGroup#update@NavBarToolbar (com.jetbrains.rd.platform.codeWithMe.telephony.CWMTelephonyGroup)\n",
      "2022-11-20 18:18:15,987 [  10657]   WARN - #c.i.o.a.e.ActionUtil - Can not find action by id CompileDirty\n",
      "2022-11-20 18:18:16,492 [  11162]   WARN - #c.i.u.x.Binding - no accessors for com.jetbrains.php.testFramework.PhpTestFrameworkType\n",
      "2022-11-20 18:18:30,372 [  25042]   WARN - #c.j.p.p.PharLibraryManager - Frequent root change. Source class com.jetbrains.php.phar.PharLibraryManager, delta 4029.\n",
      "Old roots: [phar:///home/student/php_2022_adam_lewinski/07_testing/02_exercise/project/vendor/bin/phpstan.phar/]\n",
      "New Roots: [phar:///home/student/php_2022_adam_lewinski/07_testing/02_exercise/project/vendor/bin/phpstan.phar/, phar:///home/student/php_2022_adam_lewinski/07_testing/02_exercise/project/vendor/phpstan/phpstan/phpstan.phar/]\n"
     ]
    }
   ],
   "source": [
    "! phpstorm project"
   ]
  },
  {
   "cell_type": "markdown",
   "metadata": {},
   "source": [
    "You can test your solution using included tests:"
   ]
  },
  {
   "cell_type": "code",
   "execution_count": 104,
   "metadata": {},
   "outputs": [
    {
     "name": "stdout",
     "output_type": "stream",
     "text": [
      "/home/student/php_2022_adam_lewinski/07_testing/02_exercise/project\n"
     ]
    }
   ],
   "source": [
    "%cd project"
   ]
  },
  {
   "cell_type": "code",
   "execution_count": 105,
   "metadata": {},
   "outputs": [
    {
     "name": "stdout",
     "output_type": "stream",
     "text": [
      "\u001b[32mInstalling dependencies from lock file (including require-dev)\u001b[39m\n",
      "\u001b[32mVerifying lock file contents can be installed on current platform.\u001b[39m\n",
      "Nothing to install, update or remove\n",
      "\u001b[32mGenerating autoload files\u001b[39m\n",
      "\u001b[32m60 packages you are using are looking for funding.\u001b[39m\n",
      "\u001b[32mUse the `composer fund` command to find out more!\u001b[39m\n"
     ]
    }
   ],
   "source": [
    "! composer install"
   ]
  },
  {
   "cell_type": "code",
   "execution_count": 106,
   "metadata": {},
   "outputs": [
    {
     "name": "stdout",
     "output_type": "stream",
     "text": [
      "\u001b[32mBuilding Actor classes for suites: Acceptance, Unit\u001b[39m\r\n",
      " -> AcceptanceTesterActions.php generated successfully. 241 methods added\r\n",
      "\u001b[32mTests\\AcceptanceTester\u001b[39m includes modules: PhpBrowser, Filesystem, Asserts, Db, Redis\r\n",
      " -> UnitTesterActions.php generated successfully. 137 methods added\r\n",
      "\u001b[32mTests\\UnitTester\u001b[39m includes modules: Asserts\r\n"
     ]
    }
   ],
   "source": [
    "! vendor/bin/codecept build"
   ]
  },
  {
   "cell_type": "code",
   "execution_count": 107,
   "metadata": {},
   "outputs": [
    {
     "name": "stdout",
     "output_type": "stream",
     "text": [
      "Loaded config \u001b[33mdefault\u001b[39m from \"/home/student/php_2022_adam_lewinski/07_testing/02_exercise/project/./.php-cs-fixer.dist.php\".\n",
      "Using cache file \".php-cs-fixer.cache\".\n",
      "\n",
      "Checked all files in 0.028 seconds, 14.000 MB memory used\n"
     ]
    }
   ],
   "source": [
    "! vendor/bin/php-cs-fixer fix --diff --dry-run ."
   ]
  },
  {
   "cell_type": "code",
   "execution_count": 108,
   "metadata": {},
   "outputs": [
    {
     "name": "stdout",
     "output_type": "stream",
     "text": [
      "  0/58 [░░░░░░░░░░░░░░░░░░░░░░░░░░░░]   0%\u001b[1G\u001b[2K 58/58 [▓▓▓▓▓▓▓▓▓▓▓▓▓▓▓▓▓▓▓▓▓▓▓▓▓▓▓▓] 100%\n",
      "\n",
      " ------ --------------------------------------------------------------------- \n",
      "  \u001b[32mLine\u001b[39m   \u001b[32mtests/Acceptance/Test07_RegisterCest.php\u001b[39m                             \n",
      " ------ --------------------------------------------------------------------- \n",
      "  48     Call to method id() on an unknown class Model\\User.                  \n",
      "         💡 Learn more at https://phpstan.org/user-guide/discovering-symbols  \n",
      "  49     Access to property $name on an unknown class Model\\User.             \n",
      "         💡 Learn more at https://phpstan.org/user-guide/discovering-symbols  \n",
      "  50     Access to property $surname on an unknown class Model\\User.          \n",
      "         💡 Learn more at https://phpstan.org/user-guide/discovering-symbols  \n",
      "  51     Access to property $email on an unknown class Model\\User.            \n",
      "         💡 Learn more at https://phpstan.org/user-guide/discovering-symbols  \n",
      "  52     Access to property $confirmed on an unknown class Model\\User.        \n",
      "         💡 Learn more at https://phpstan.org/user-guide/discovering-symbols  \n",
      "  56     Access to property $password on an unknown class Model\\User.         \n",
      "         💡 Learn more at https://phpstan.org/user-guide/discovering-symbols  \n",
      "  61     Access to property $token on an unknown class Model\\User.            \n",
      "         💡 Learn more at https://phpstan.org/user-guide/discovering-symbols  \n",
      "  62     Access to property $token on an unknown class Model\\User.            \n",
      "         💡 Learn more at https://phpstan.org/user-guide/discovering-symbols  \n",
      "  63     Access to property $token on an unknown class Model\\User.            \n",
      "         💡 Learn more at https://phpstan.org/user-guide/discovering-symbols  \n",
      " ------ --------------------------------------------------------------------- \n",
      "\n",
      " ------ --------------------------------------------------------------------- \n",
      "  \u001b[32mLine\u001b[39m   \u001b[32mtests/Acceptance/Test10_RegisterConfirmCest.php\u001b[39m                      \n",
      " ------ --------------------------------------------------------------------- \n",
      "  17     Instantiated class Model\\User not found.                             \n",
      "         💡 Learn more at https://phpstan.org/user-guide/discovering-symbols  \n",
      "  19     Access to property $name on an unknown class Model\\User.             \n",
      "         💡 Learn more at https://phpstan.org/user-guide/discovering-symbols  \n",
      "  19     Access to property $name on an unknown class Model\\User.             \n",
      "         💡 Learn more at https://phpstan.org/user-guide/discovering-symbols  \n",
      "  20     Access to property $surname on an unknown class Model\\User.          \n",
      "         💡 Learn more at https://phpstan.org/user-guide/discovering-symbols  \n",
      "  20     Access to property $surname on an unknown class Model\\User.          \n",
      "         💡 Learn more at https://phpstan.org/user-guide/discovering-symbols  \n",
      "  21     Access to property $email on an unknown class Model\\User.            \n",
      "         💡 Learn more at https://phpstan.org/user-guide/discovering-symbols  \n",
      "  21     Access to property $email on an unknown class Model\\User.            \n",
      "         💡 Learn more at https://phpstan.org/user-guide/discovering-symbols  \n",
      "  22     Access to property $password on an unknown class Model\\User.         \n",
      "         💡 Learn more at https://phpstan.org/user-guide/discovering-symbols  \n",
      "  22     Access to property $password on an unknown class Model\\User.         \n",
      "         💡 Learn more at https://phpstan.org/user-guide/discovering-symbols  \n",
      "  23     Access to property $confirmed on an unknown class Model\\User.        \n",
      "         💡 Learn more at https://phpstan.org/user-guide/discovering-symbols  \n",
      "  23     Access to property $confirmed on an unknown class Model\\User.        \n",
      "         💡 Learn more at https://phpstan.org/user-guide/discovering-symbols  \n",
      "  25     Access to property $token on an unknown class Model\\User.            \n",
      "         💡 Learn more at https://phpstan.org/user-guide/discovering-symbols  \n",
      "  25     Access to property $token on an unknown class Model\\User.            \n",
      "         💡 Learn more at https://phpstan.org/user-guide/discovering-symbols  \n",
      "  28     Call to method key() on an unknown class Model\\User.                 \n",
      "         💡 Learn more at https://phpstan.org/user-guide/discovering-symbols  \n",
      "  44     Access to property $token on an unknown class Model\\User.            \n",
      "         💡 Learn more at https://phpstan.org/user-guide/discovering-symbols  \n",
      "  51     Call to method key() on an unknown class Model\\User.                 \n",
      "         💡 Learn more at https://phpstan.org/user-guide/discovering-symbols  \n",
      "  54     Access to property $name on an unknown class Model\\User.             \n",
      "         💡 Learn more at https://phpstan.org/user-guide/discovering-symbols  \n",
      "  54     Access to property $name on an unknown class Model\\User.             \n",
      "         💡 Learn more at https://phpstan.org/user-guide/discovering-symbols  \n",
      "  55     Access to property $surname on an unknown class Model\\User.          \n",
      "         💡 Learn more at https://phpstan.org/user-guide/discovering-symbols  \n",
      "  55     Access to property $surname on an unknown class Model\\User.          \n",
      "         💡 Learn more at https://phpstan.org/user-guide/discovering-symbols  \n",
      "  56     Access to property $email on an unknown class Model\\User.            \n",
      "         💡 Learn more at https://phpstan.org/user-guide/discovering-symbols  \n",
      "  56     Access to property $email on an unknown class Model\\User.            \n",
      "         💡 Learn more at https://phpstan.org/user-guide/discovering-symbols  \n",
      "  57     Access to property $password on an unknown class Model\\User.         \n",
      "         💡 Learn more at https://phpstan.org/user-guide/discovering-symbols  \n",
      "  57     Access to property $password on an unknown class Model\\User.         \n",
      "         💡 Learn more at https://phpstan.org/user-guide/discovering-symbols  \n",
      "  58     Access to property $confirmed on an unknown class Model\\User.        \n",
      "         💡 Learn more at https://phpstan.org/user-guide/discovering-symbols  \n",
      "  59     Access to property $token on an unknown class Model\\User.            \n",
      "         💡 Learn more at https://phpstan.org/user-guide/discovering-symbols  \n",
      " ------ --------------------------------------------------------------------- \n",
      "\n",
      " ------ --------------------------------------------------------------------- \n",
      "  \u001b[32mLine\u001b[39m   \u001b[32mtests/Acceptance/Test12_LoginWrongPasswordCest.php\u001b[39m                   \n",
      " ------ --------------------------------------------------------------------- \n",
      "  22     Instantiated class Model\\User not found.                             \n",
      "         💡 Learn more at https://phpstan.org/user-guide/discovering-symbols  \n",
      "  24     Access to property $name on an unknown class Model\\User.             \n",
      "         💡 Learn more at https://phpstan.org/user-guide/discovering-symbols  \n",
      "  24     Access to property $name on an unknown class Model\\User.             \n",
      "         💡 Learn more at https://phpstan.org/user-guide/discovering-symbols  \n",
      "  25     Access to property $surname on an unknown class Model\\User.          \n",
      "         💡 Learn more at https://phpstan.org/user-guide/discovering-symbols  \n",
      "  25     Access to property $surname on an unknown class Model\\User.          \n",
      "         💡 Learn more at https://phpstan.org/user-guide/discovering-symbols  \n",
      "  26     Access to property $email on an unknown class Model\\User.            \n",
      "         💡 Learn more at https://phpstan.org/user-guide/discovering-symbols  \n",
      "  26     Access to property $email on an unknown class Model\\User.            \n",
      "         💡 Learn more at https://phpstan.org/user-guide/discovering-symbols  \n",
      "  27     Access to property $password on an unknown class Model\\User.         \n",
      "         💡 Learn more at https://phpstan.org/user-guide/discovering-symbols  \n",
      "  27     Access to property $password on an unknown class Model\\User.         \n",
      "         💡 Learn more at https://phpstan.org/user-guide/discovering-symbols  \n",
      "  28     Access to property $confirmed on an unknown class Model\\User.        \n",
      "         💡 Learn more at https://phpstan.org/user-guide/discovering-symbols  \n",
      "  28     Access to property $confirmed on an unknown class Model\\User.        \n",
      "         💡 Learn more at https://phpstan.org/user-guide/discovering-symbols  \n",
      "  30     Access to property $token on an unknown class Model\\User.            \n",
      "         💡 Learn more at https://phpstan.org/user-guide/discovering-symbols  \n",
      "  30     Access to property $token on an unknown class Model\\User.            \n",
      "         💡 Learn more at https://phpstan.org/user-guide/discovering-symbols  \n",
      "  33     Call to method key() on an unknown class Model\\User.                 \n",
      "         💡 Learn more at https://phpstan.org/user-guide/discovering-symbols  \n",
      "  37     Access to property $email on an unknown class Model\\User.            \n",
      "         💡 Learn more at https://phpstan.org/user-guide/discovering-symbols  \n",
      "  44     Access to property $email on an unknown class Model\\User.            \n",
      "         💡 Learn more at https://phpstan.org/user-guide/discovering-symbols  \n",
      " ------ --------------------------------------------------------------------- \n",
      "\n",
      " ------ --------------------------------------------------------------------- \n",
      "  \u001b[32mLine\u001b[39m   \u001b[32mtests/Acceptance/Test13_LoginNotConfirmedCest.php\u001b[39m                    \n",
      " ------ --------------------------------------------------------------------- \n",
      "  21     Instantiated class Model\\User not found.                             \n",
      "         💡 Learn more at https://phpstan.org/user-guide/discovering-symbols  \n",
      "  23     Access to property $name on an unknown class Model\\User.             \n",
      "         💡 Learn more at https://phpstan.org/user-guide/discovering-symbols  \n",
      "  23     Access to property $name on an unknown class Model\\User.             \n",
      "         💡 Learn more at https://phpstan.org/user-guide/discovering-symbols  \n",
      "  24     Access to property $surname on an unknown class Model\\User.          \n",
      "         💡 Learn more at https://phpstan.org/user-guide/discovering-symbols  \n",
      "  24     Access to property $surname on an unknown class Model\\User.          \n",
      "         💡 Learn more at https://phpstan.org/user-guide/discovering-symbols  \n",
      "  25     Access to property $email on an unknown class Model\\User.            \n",
      "         💡 Learn more at https://phpstan.org/user-guide/discovering-symbols  \n",
      "  25     Access to property $email on an unknown class Model\\User.            \n",
      "         💡 Learn more at https://phpstan.org/user-guide/discovering-symbols  \n",
      "  26     Access to property $password on an unknown class Model\\User.         \n",
      "         💡 Learn more at https://phpstan.org/user-guide/discovering-symbols  \n",
      "  26     Access to property $password on an unknown class Model\\User.         \n",
      "         💡 Learn more at https://phpstan.org/user-guide/discovering-symbols  \n",
      "  27     Access to property $confirmed on an unknown class Model\\User.        \n",
      "         💡 Learn more at https://phpstan.org/user-guide/discovering-symbols  \n",
      "  27     Access to property $confirmed on an unknown class Model\\User.        \n",
      "         💡 Learn more at https://phpstan.org/user-guide/discovering-symbols  \n",
      "  29     Access to property $token on an unknown class Model\\User.            \n",
      "         💡 Learn more at https://phpstan.org/user-guide/discovering-symbols  \n",
      "  29     Access to property $token on an unknown class Model\\User.            \n",
      "         💡 Learn more at https://phpstan.org/user-guide/discovering-symbols  \n",
      "  32     Call to method key() on an unknown class Model\\User.                 \n",
      "         💡 Learn more at https://phpstan.org/user-guide/discovering-symbols  \n",
      "  37     Access to property $email on an unknown class Model\\User.            \n",
      "         💡 Learn more at https://phpstan.org/user-guide/discovering-symbols  \n",
      " ------ --------------------------------------------------------------------- \n",
      "\n",
      " ------ --------------------------------------------------------------------- \n",
      "  \u001b[32mLine\u001b[39m   \u001b[32mtests/Acceptance/Test14_LoginLogoutSeeHiddenContentCest.php\u001b[39m          \n",
      " ------ --------------------------------------------------------------------- \n",
      "  17     Instantiated class Model\\User not found.                             \n",
      "         💡 Learn more at https://phpstan.org/user-guide/discovering-symbols  \n",
      "  19     Access to property $name on an unknown class Model\\User.             \n",
      "         💡 Learn more at https://phpstan.org/user-guide/discovering-symbols  \n",
      "  19     Access to property $name on an unknown class Model\\User.             \n",
      "         💡 Learn more at https://phpstan.org/user-guide/discovering-symbols  \n",
      "  20     Access to property $surname on an unknown class Model\\User.          \n",
      "         💡 Learn more at https://phpstan.org/user-guide/discovering-symbols  \n",
      "  20     Access to property $surname on an unknown class Model\\User.          \n",
      "         💡 Learn more at https://phpstan.org/user-guide/discovering-symbols  \n",
      "  21     Access to property $email on an unknown class Model\\User.            \n",
      "         💡 Learn more at https://phpstan.org/user-guide/discovering-symbols  \n",
      "  21     Access to property $email on an unknown class Model\\User.            \n",
      "         💡 Learn more at https://phpstan.org/user-guide/discovering-symbols  \n"
     ]
    },
    {
     "name": "stdout",
     "output_type": "stream",
     "text": [
      "  22     Access to property $password on an unknown class Model\\User.         \r\n",
      "         💡 Learn more at https://phpstan.org/user-guide/discovering-symbols  \r\n",
      "  22     Access to property $password on an unknown class Model\\User.         \r\n",
      "         💡 Learn more at https://phpstan.org/user-guide/discovering-symbols  \r\n",
      "  23     Access to property $confirmed on an unknown class Model\\User.        \r\n",
      "         💡 Learn more at https://phpstan.org/user-guide/discovering-symbols  \r\n",
      "  23     Access to property $confirmed on an unknown class Model\\User.        \r\n",
      "         💡 Learn more at https://phpstan.org/user-guide/discovering-symbols  \r\n",
      "  24     Access to property $token on an unknown class Model\\User.            \r\n",
      "         💡 Learn more at https://phpstan.org/user-guide/discovering-symbols  \r\n",
      "  24     Access to property $token on an unknown class Model\\User.            \r\n",
      "         💡 Learn more at https://phpstan.org/user-guide/discovering-symbols  \r\n",
      "  27     Call to method key() on an unknown class Model\\User.                 \r\n",
      "         💡 Learn more at https://phpstan.org/user-guide/discovering-symbols  \r\n",
      "  47     Access to property $email on an unknown class Model\\User.            \r\n",
      "         💡 Learn more at https://phpstan.org/user-guide/discovering-symbols  \r\n",
      "  53     Access to property $name on an unknown class Model\\User.             \r\n",
      "         💡 Learn more at https://phpstan.org/user-guide/discovering-symbols  \r\n",
      " ------ --------------------------------------------------------------------- \r\n",
      "\r\n",
      " ------ ---------------------------------------------------------------------- \r\n",
      "  \u001b[32mLine\u001b[39m   \u001b[32mtests/Support/AcceptanceTester.php\u001b[39m                                    \r\n",
      " ------ ---------------------------------------------------------------------- \r\n",
      "  74     Method Tests\\Support\\AcceptanceTester::castToModelUser() has invalid  \r\n",
      "         return type Model\\User.                                               \r\n",
      "  76     Class Model\\User not found.                                           \r\n",
      "         💡 Learn more at https://phpstan.org/user-guide/discovering-symbols   \r\n",
      " ------ ---------------------------------------------------------------------- \r\n",
      "\r\n",
      "\u001b[37;41m                                                                                \u001b[39;49m\r\n",
      "\u001b[37;41m [ERROR] Found 84 errors                                                        \u001b[39;49m\r\n",
      "\u001b[37;41m                                                                                \u001b[39;49m\r\n",
      "\r\n"
     ]
    }
   ],
   "source": [
    "! vendor/bin/phpstan analyze --xdebug -c phpstan.neon"
   ]
  },
  {
   "cell_type": "code",
   "execution_count": 109,
   "metadata": {},
   "outputs": [
    {
     "name": "stdout",
     "output_type": "stream",
     "text": [
      "phpcpd 6.0.3 by Sebastian Bergmann.\n",
      "\n",
      "No clones found.\n",
      "\n",
      "Time: 00:00.007, Memory: 4.00 MB\n"
     ]
    }
   ],
   "source": [
    "! vendor/bin/phpcpd . --fuzzy --min-lines 1 --min-tokens 20 --exclude vendor --exclude tests"
   ]
  },
  {
   "cell_type": "code",
   "execution_count": 110,
   "metadata": {},
   "outputs": [
    {
     "name": "stdout",
     "output_type": "stream",
     "text": [
      "Codeception PHP Testing Framework v5.0.4 https://helpukrainewin.org\n",
      "\n",
      "\u001b[1mTests.Unit Tests (24) \u001b[22m----------------------------------------------------------\n",
      "\u001b[32;1m✔\u001b[39;22m \u001b[35;1mTest00_StringEditorCest:\u001b[39;22m Create \u001b[32m(0.00s)\u001b[39m\n",
      "\u001b[32;1m✔\u001b[39;22m \u001b[35;1mTest00_StringEditorCest:\u001b[39;22m Replace word \u001b[32m(0.00s)\u001b[39m\n",
      "\u001b[32;1m✔\u001b[39;22m \u001b[35;1mTest00_StringEditorCest:\u001b[39;22m Lowercase \u001b[32m(0.00s)\u001b[39m\n",
      "\u001b[32;1m✔\u001b[39;22m \u001b[35;1mTest00_StringEditorCest:\u001b[39;22m Uppercase \u001b[32m(0.00s)\u001b[39m\n",
      "\u001b[32;1m✔\u001b[39;22m \u001b[35;1mTest00_StringEditorCest:\u001b[39;22m Replace and upper case \u001b[32m(0.00s)\u001b[39m\n",
      "\u001b[32;1m✔\u001b[39;22m \u001b[35;1mTest00_StringEditorCest:\u001b[39;22m Censor word \u001b[32m(0.00s)\u001b[39m\n",
      "\u001b[32;1m✔\u001b[39;22m \u001b[35;1mTest00_StringEditorCest:\u001b[39;22m Censor short and long words \u001b[32m(0.00s)\u001b[39m\n",
      "\u001b[32;1m✔\u001b[39;22m \u001b[35;1mTest00_StringEditorCest:\u001b[39;22m Repeat word \u001b[32m(0.00s)\u001b[39m\n",
      "\u001b[32;1m✔\u001b[39;22m \u001b[35;1mTest00_StringEditorCest:\u001b[39;22m Remove word \u001b[32m(0.00s)\u001b[39m\n",
      "\u001b[32;1m✔\u001b[39;22m \u001b[35;1mTest00_StringEditorCest:\u001b[39;22m Edit sentence \u001b[32m(0.00s)\u001b[39m\n",
      "\u001b[32;1m✔\u001b[39;22m \u001b[35;1mTest01_RingBufferCest:\u001b[39;22m Create \u001b[32m(0.00s)\u001b[39m\n",
      "\u001b[32;1m✔\u001b[39;22m \u001b[35;1mTest01_RingBufferCest:\u001b[39;22m Should be empty \u001b[32m(0.00s)\u001b[39m\n",
      "\u001b[32;1m✔\u001b[39;22m \u001b[35;1mTest01_RingBufferCest:\u001b[39;22m Capacity \u001b[32m(0.00s)\u001b[39m\n",
      "\u001b[32;1m✔\u001b[39;22m \u001b[35;1mTest01_RingBufferCest:\u001b[39;22m Size should be zero when empty \u001b[32m(0.00s)\u001b[39m\n",
      "\u001b[32;1m✔\u001b[39;22m \u001b[35;1mTest01_RingBufferCest:\u001b[39;22m Push value size should increase \u001b[32m(0.00s)\u001b[39m\n",
      "\u001b[32;1m✔\u001b[39;22m \u001b[35;1mTest01_RingBufferCest:\u001b[39;22m Empty should be false when full \u001b[32m(0.00s)\u001b[39m\n",
      "\u001b[32;1m✔\u001b[39;22m \u001b[35;1mTest01_RingBufferCest:\u001b[39;22m Pop from empty \u001b[32m(0.00s)\u001b[39m\n",
      "\u001b[32;1m✔\u001b[39;22m \u001b[35;1mTest01_RingBufferCest:\u001b[39;22m Push and pop single value \u001b[32m(0.00s)\u001b[39m\n",
      "\u001b[32;1m✔\u001b[39;22m \u001b[35;1mTest01_RingBufferCest:\u001b[39;22m Pop should reduce size \u001b[32m(0.00s)\u001b[39m\n",
      "\u001b[32;1m✔\u001b[39;22m \u001b[35;1mTest01_RingBufferCest:\u001b[39;22m Back should not change buffer \u001b[32m(0.00s)\u001b[39m\n",
      "\u001b[32;1m✔\u001b[39;22m \u001b[35;1mTest01_RingBufferCest:\u001b[39;22m Push multiple times \u001b[32m(0.00s)\u001b[39m\n",
      "\u001b[32;1m✔\u001b[39;22m \u001b[35;1mTest01_RingBufferCest:\u001b[39;22m Multi item buffer \u001b[32m(0.00s)\u001b[39m\n",
      "\u001b[31;1m✖\u001b[39;22m \u001b[35;1mTest01_RingBufferCest:\u001b[39;22m Push and pop all values \u001b[32m(0.00s)\u001b[39m\n",
      "\u001b[32;1m✔\u001b[39;22m \u001b[35;1mTest01_RingBufferCest:\u001b[39;22m Access values by index \u001b[32m(0.00s)\u001b[39m\n",
      "--------------------------------------------------------------------------------\n",
      "Time: 00:00.052, Memory: 8.00 MB\n",
      "\n",
      "There was 1 failure:\n",
      "1) \u001b[35;1mTest01_RingBufferCest:\u001b[39;22m Push and pop all values\n",
      "\u001b[37;41;1m Test  \u001b[39;49;22mtests/Unit/Test01_RingBufferCest.php:pushAndPopAllValues\n",
      "\u001b[37;41;1m Step \u001b[39;49;22m Assert equals \"Hello\",\"?\"\n",
      "\u001b[37;41;1m Fail \u001b[39;49;22m Failed asserting that two strings are equal.\n",
      "\u001b[33m- Expected\u001b[39m | \u001b[32m+ Actual\u001b[39m\n",
      "@@ @@\n",
      "\u001b[33m-'Hello'\u001b[39m\n",
      "\u001b[32m+'?'\u001b[39m\n",
      "\u001b[33m\n",
      "Scenario Steps:\n",
      "\u001b[39m\n",
      "\u001b[1m 3. $I->assertEquals(\"Hello\",\"?\")\u001b[22m at \u001b[32mtests/Unit/Test01_RingBufferCest.php:173\u001b[39m\n",
      " 2. $I->assertEquals(\"Hello\",\"Hello\") at \u001b[32mtests/Unit/Test01_RingBufferCest.php:171\u001b[39m\n",
      " 1. $I->assertEquals(\"?\",\"?\") at \u001b[32mtests/Unit/Test01_RingBufferCest.php:170\u001b[39m\n",
      "\n",
      "\n",
      "\u001b[37;41;1mFAILURES!\u001b[39;49;22m\n",
      "\u001b[37;41;1mTests: 24, Assertions: 57, Failures: 1.\u001b[39;49;22m\n"
     ]
    }
   ],
   "source": [
    "! vendor/bin/codecept run Unit"
   ]
  },
  {
   "cell_type": "code",
   "execution_count": 111,
   "metadata": {},
   "outputs": [],
   "source": [
    "import subprocess\n",
    "phpServer = subprocess.Popen(['php', '-S', 'localhost:8888', '-t', 'public'])"
   ]
  },
  {
   "cell_type": "code",
   "execution_count": 112,
   "metadata": {},
   "outputs": [
    {
     "name": "stderr",
     "output_type": "stream",
     "text": [
      "[Sun Nov 20 18:17:50 2022] PHP 8.1.12 Development Server (http://localhost:8888) started\n"
     ]
    },
    {
     "name": "stdout",
     "output_type": "stream",
     "text": [
      "Done.\r\n"
     ]
    },
    {
     "name": "stderr",
     "output_type": "stream",
     "text": [
      "[Sun Nov 20 18:17:51 2022] [::1]:57746 Accepted\n",
      "[Sun Nov 20 18:17:51 2022] [::1]:57746 Closed without sending a request; it was probably just an unused speculative preconnection\n",
      "[Sun Nov 20 18:17:51 2022] [::1]:57746 Closing\n"
     ]
    }
   ],
   "source": [
    "! while ! timeout 1 bash -c \"echo > /dev/tcp/localhost/8888\" 2> /dev/null; do sleep 1; done; echo \"Done.\";"
   ]
  },
  {
   "cell_type": "code",
   "execution_count": 113,
   "metadata": {},
   "outputs": [
    {
     "name": "stdout",
     "output_type": "stream",
     "text": [
      "Codeception PHP Testing Framework v5.0.4 https://helpukrainewin.org\n",
      "\n",
      "\u001b[1mTests.Acceptance Tests (15) \u001b[22m----------------------------------------------------\n",
      "\u001b[32;1m✔\u001b[39;22m rettyUrlCest:\u001b[39;22m Test\u001b[35;1mTest00_PrettyUrlCest:\u001b[39;22m Test \u001b[32m(0.10s)\u001b[39m\n",
      "\u001b[32;1m✔\u001b[39;22m \u001b[35;1mTest01_FileStorageCest:\u001b[39;22m Test \u001b[32m(0.02s)\u001b[39m\n",
      "\u001b[32;1m✔\u001b[39;22m \u001b[35;1mTest02_SessionStorageCest:\u001b[39;22m Test \u001b[32m(0.01s)\u001b[39m\n",
      "- \u001b[35;1mTest03_SQLiteStorageCest:\u001b[39;22m Test"
     ]
    },
    {
     "name": "stderr",
     "output_type": "stream",
     "text": [
      "[Sun Nov 20 18:17:51 2022] [::1]:57748 Accepted\n",
      "[Sun Nov 20 18:17:51 2022] [::1]:57748 [200]: GET /\n",
      "[Sun Nov 20 18:17:51 2022] [::1]:57748 Closing\n",
      "[Sun Nov 20 18:17:51 2022] [::1]:57750 Accepted\n",
      "[Sun Nov 20 18:17:51 2022] [::1]:57750 [200]: GET /home\n",
      "[Sun Nov 20 18:17:51 2022] [::1]:57750 Closing\n",
      "[Sun Nov 20 18:17:51 2022] [::1]:57756 Accepted\n",
      "[Sun Nov 20 18:17:51 2022] [::1]:57756 [200]: GET /about\n",
      "[Sun Nov 20 18:17:51 2022] [::1]:57756 Closing\n",
      "[Sun Nov 20 18:17:51 2022] [::1]:57762 Accepted\n",
      "[Sun Nov 20 18:17:51 2022] [::1]:57762 [200]: GET /users\n",
      "[Sun Nov 20 18:17:51 2022] [::1]:57762 Closing\n",
      "[Sun Nov 20 18:17:51 2022] [::1]:57770 Accepted\n",
      "[Sun Nov 20 18:17:51 2022] [::1]:57770 [200]: GET /users/1\n",
      "[Sun Nov 20 18:17:51 2022] [::1]:57770 Closing\n",
      "[Sun Nov 20 18:17:51 2022] [::1]:57774 Accepted\n",
      "[Sun Nov 20 18:17:51 2022] [::1]:57774 [200]: GET /users\n",
      "[Sun Nov 20 18:17:51 2022] [::1]:57774 Closing\n",
      "[Sun Nov 20 18:17:51 2022] [::1]:57784 Accepted\n",
      "[Sun Nov 20 18:17:51 2022] [::1]:57784 [200]: GET /users/2\n",
      "[Sun Nov 20 18:17:51 2022] [::1]:57784 Closing\n",
      "[Sun Nov 20 18:17:51 2022] [::1]:57798 Accepted\n",
      "[Sun Nov 20 18:17:51 2022] [::1]:57798 [200]: GET /users\n",
      "[Sun Nov 20 18:17:51 2022] [::1]:57798 Closing\n",
      "[Sun Nov 20 18:17:51 2022] [::1]:57810 Accepted\n",
      "[Sun Nov 20 18:17:51 2022] [::1]:57810 [200]: GET /users/3\n",
      "[Sun Nov 20 18:17:51 2022] [::1]:57810 Closing\n",
      "[Sun Nov 20 18:17:51 2022] [::1]:52316 Accepted\n",
      "[Sun Nov 20 18:17:51 2022] [::1]:52316 [200]: GET /demo/file\n",
      "[Sun Nov 20 18:17:51 2022] [::1]:52316 Closing\n",
      "[Sun Nov 20 18:17:51 2022] [::1]:52324 Accepted\n",
      "[Sun Nov 20 18:17:51 2022] [::1]:52324 [200]: GET /demo/session\n",
      "[Sun Nov 20 18:17:51 2022] [::1]:52324 Closing\n",
      "[Sun Nov 20 18:17:52 2022] [::1]:52336 Accepted\n",
      "[Sun Nov 20 18:17:52 2022] [::1]:52336 [200]: GET /demo/sqlite\n",
      "[Sun Nov 20 18:17:52 2022] [::1]:52336 Closing\n"
     ]
    },
    {
     "name": "stdout",
     "output_type": "stream",
     "text": [
      "\r",
      "\u001b[32;1m✔\u001b[39;22m \u001b[35;1mTest03_SQLiteStorageCest:\u001b[39;22m Test \u001b[32m(0.08s)\u001b[39m\r\n",
      "- \u001b[35;1mTest04_MySQLStorageCest:\u001b[39;22m Test"
     ]
    },
    {
     "name": "stderr",
     "output_type": "stream",
     "text": [
      "[Sun Nov 20 18:17:52 2022] [::1]:52344 Accepted\n",
      "[Sun Nov 20 18:17:52 2022] [::1]:52344 [200]: GET /demo/mysql\n",
      "[Sun Nov 20 18:17:52 2022] [::1]:52344 Closing\n",
      "[Sun Nov 20 18:17:52 2022] [::1]:52358 Accepted\n",
      "[Sun Nov 20 18:17:52 2022] [::1]:52358 [200]: GET /demo/mysql\n",
      "[Sun Nov 20 18:17:52 2022] [::1]:52358 Closing\n",
      "[Sun Nov 20 18:17:52 2022] [::1]:52372 Accepted\n",
      "[Sun Nov 20 18:17:52 2022] [::1]:52372 [200]: GET /demo/redis\n",
      "[Sun Nov 20 18:17:52 2022] [::1]:52372 Closing\n"
     ]
    },
    {
     "name": "stdout",
     "output_type": "stream",
     "text": [
      "\u001b[32;1m✔\u001b[39;22m \u001b[35;1mTest04_MySQLStorageCest:\u001b[39;22m Test \u001b[32m(0.20s)\u001b[39m\n",
      "\u001b[32;1m✔\u001b[39;22m \u001b[35;1mTest05_RedisStorageCest:\u001b[39;22m Test \u001b[32m(0.02s)\u001b[39m\n",
      "\u001b[31;1m✖\u001b[39;22m \u001b[35;1mTest06_HomepageCest:\u001b[39;22m See login and register links \u001b[32m(0.06s)\u001b[39m\n",
      "\u001b[31;1m✖\u001b[39;22m \u001b[35;1mTest07_RegisterCest:\u001b[39;22m Register new user \u001b[32m(0.05s)\u001b[39m\n",
      "\u001b[31;1m✖\u001b[39;22m \u001b[35;1mTest08_RegisterValidationCest:\u001b[39;22m Validate data entered during registration \u001b[32m(0.04s)\u001b[39m\n",
      "\u001b[31;1m✖\u001b[39;22m \u001b[35;1mTest09_RegisterRememberFieldsCest:\u001b[39;22m Remember data entered during registration when validation error is present \u001b[32m(0.06s)\u001b[39m\n",
      "- \u001b[35;1mTest10_RegisterConfirmCest:\u001b[39;22m Confirm user using link"
     ]
    },
    {
     "name": "stderr",
     "output_type": "stream",
     "text": [
      "[Sun Nov 20 18:17:52 2022] [::1]:52374 Accepted\n",
      "[Sun Nov 20 18:17:52 2022] [::1]:52374 [200]: GET /\n",
      "[Sun Nov 20 18:17:52 2022] [::1]:52374 Closing\n",
      "[Sun Nov 20 18:17:52 2022] [::1]:52388 Accepted\n",
      "[Sun Nov 20 18:17:52 2022] [::1]:52388 [200]: GET /home\n",
      "[Sun Nov 20 18:17:52 2022] [::1]:52388 Closing\n",
      "[Sun Nov 20 18:17:52 2022] [::1]:52390 Accepted\n",
      "[Sun Nov 20 18:17:52 2022] [::1]:52390 [200]: GET /\n",
      "[Sun Nov 20 18:17:52 2022] [::1]:52390 Closing\n",
      "[Sun Nov 20 18:17:52 2022] [::1]:52402 Accepted\n",
      "[Sun Nov 20 18:17:52 2022] [::1]:52402 [200]: GET /auth/register\n",
      "[Sun Nov 20 18:17:52 2022] [::1]:52402 Closing\n",
      "[Sun Nov 20 18:17:52 2022] [::1]:52418 Accepted\n",
      "[Sun Nov 20 18:17:52 2022] [::1]:52418 [200]: GET /auth/register\n",
      "[Sun Nov 20 18:17:52 2022] [::1]:52418 Closing\n"
     ]
    },
    {
     "name": "stdout",
     "output_type": "stream",
     "text": [
      "\u001b[31;1mE\u001b[39;22m \u001b[35;1mTest10_RegisterConfirmCest:\u001b[39;22m Confirm user using link \u001b[32m(0.06s)\u001b[39m\n",
      "\u001b[31;1m✖\u001b[39;22m \u001b[35;1mTest11_LoginNotExistingCest:\u001b[39;22m See error when user does not exists \u001b[32m(0.05s)\u001b[39m\n",
      "\u001b[31;1m✖\u001b[39;22m \u001b[35;1mTest12_LoginWrongPasswordCest:\u001b[39;22m See error when wrong password is entered \u001b[32m(0.04s)\u001b[39m\n",
      "\u001b[31;1m✖\u001b[39;22m \u001b[35;1mTest13_LoginNotConfirmedCest:\u001b[39;22m Be remained about email confirmation when trying to login \u001b[32m(0.04s)\u001b[39m\n",
      "\u001b[31;1mE\u001b[39;22m \u001b[35;1mTest14_LoginLogoutSeeHiddenContentCest:\u001b[39;22m See hidden content after login \u001b[32m(0.03s)\u001b[39m\n",
      "--------------------------------------------------------------------------------\n",
      "Time: 00:00.933, Memory: 12.00 MB\n",
      "\n",
      "There were 2 errors:\n",
      "1) \u001b[35;1mTest10_RegisterConfirmCest:\u001b[39;22m Confirm user using link\n",
      "\u001b[37;41;1m Test  \u001b[39;49;22mtests/Acceptance/Test10_RegisterConfirmCest.php:test\n",
      "\u001b[37;41;1m                                        \u001b[39;49;22m\n",
      "\u001b[37;41;1m  [Error] Class \"Model\\User\" not found  \u001b[39;49;22m\n",
      "\u001b[37;41;1m                                        \u001b[39;49;22m\n",
      "#1  /home/student/php_2022_adam_lewinski/07_testing/02_exercise/project/tests/Acceptance/Test10_RegisterConfirmCest.php:17\n",
      "#2  Tests\\Acceptance\\Test10_RegisterConfirmCest->test\n",
      "#3  /home/student/php_2022_adam_lewinski/07_testing/02_exercise/project/vendor/bin/codecept:120\n",
      "2) \u001b[35;1mTest14_LoginLogoutSeeHiddenContentCest:\u001b[39;22m See hidden content after login\n",
      "\u001b[37;41;1m Test  \u001b[39;49;22mtests/Acceptance/Test14_LoginLogoutSeeHiddenContentCest.php:test\n",
      "\u001b[37;41;1m                                        \u001b[39;49;22m\n",
      "\u001b[37;41;1m  [Error] Class \"Model\\User\" not found  \u001b[39;49;22m\n",
      "\u001b[37;41;1m                                        \u001b[39;49;22m\n",
      "#1  /home/student/php_2022_adam_lewinski/07_testing/02_exercise/project/tests/Acceptance/Test14_LoginLogoutSeeHiddenContentCest.php:17\n",
      "#2  Tests\\Acceptance\\Test14_LoginLogoutSeeHiddenContentCest->test\n",
      "#3  /home/student/php_2022_adam_lewinski/07_testing/02_exercise/project/vendor/bin/codecept:120\n",
      "\n",
      "---------\n",
      "\n",
      "There were 7 failures:\n",
      "1) \u001b[35;1mTest06_HomepageCest:\u001b[39;22m See login and register links\n",
      "\u001b[37;41;1m Test  \u001b[39;49;22mtests/Acceptance/Test06_HomepageCest.php:test\n",
      "\u001b[37;41;1m Step \u001b[39;49;22m Click \"Create\"\n",
      "\u001b[37;41;1m Fail \u001b[39;49;22m No links containing text 'Login' were found in page /home\n",
      "\u001b[33m\n",
      "Scenario Steps:\n",
      "\u001b[39m\n",
      "\u001b[1m 9. $I->seeLink(\"Login\",\"/auth/login\")\u001b[22m at \u001b[32mtests/Acceptance/Test06_HomepageCest.php:29\u001b[39m\n",
      " 8. $I->see(\"Welcome on homepage!\",\"h1.welcome\") at \u001b[32mtests/Acceptance/Test06_HomepageCest.php:26\u001b[39m\n",
      " 7. $I->seeInTitle(\"Homepage\") at \u001b[32mtests/Acceptance/Test06_HomepageCest.php:25\u001b[39m\n",
      " 6. $I->seeCurrentUrlEquals(\"/home\") at \u001b[32mtests/Acceptance/Test06_HomepageCest.php:24\u001b[39m\n",
      " 5. $I->click(\"Home\") at \u001b[32mtests/Acceptance/Test06_HomepageCest.php:23\u001b[39m\n",
      " 4. $I->seeNumRecords(0,\"objects\") at \u001b[32mtests/Acceptance/Test06_HomepageCest.php:20\u001b[39m\n",
      "\n",
      "\u001b[33mArtifacts:\u001b[39m\n",
      "\n",
      "Html: \u001b[36m/home/student/php_2022_adam_lewinski/07_testing/02_exercise/project/tests/_output/Tests.Acceptance.Test06_HomepageCest.test.fail.html\u001b[39m\n",
      "Response: \u001b[36m/home/student/php_2022_adam_lewinski/07_testing/02_exercise/project/tests/_output/Tests.Acceptance.Test06_HomepageCest.test.fail.html\u001b[39m\n",
      "2) \u001b[35;1mTest07_RegisterCest:\u001b[39;22m Register new user\n",
      "\u001b[37;41;1m Test  \u001b[39;49;22mtests/Acceptance/Test07_RegisterCest.php:test\n",
      "\u001b[37;41;1m Step \u001b[39;49;22m Fill field \"id\",\"1\"\n",
      "\u001b[37;41;1m Fail \u001b[39;49;22m Link or Button by name or CSS or XPath element with 'Register' was not found.\n",
      "\u001b[33m\n",
      "Scenario Steps:\n",
      "\u001b[39m\n",
      "\u001b[1m 2. $I->click(\"Register\")\u001b[22m at \u001b[32mtests/Acceptance/Test07_RegisterCest.php:18\u001b[39m\n",
      " 1. $I->amOnPage(\"/\") at \u001b[32mtests/Acceptance/Test07_RegisterCest.php:16\u001b[39m\n",
      "\n",
      "\u001b[33mArtifacts:\u001b[39m\n",
      "\n",
      "Html: \u001b[36m/home/student/php_2022_adam_lewinski/07_testing/02_exercise/project/tests/_output/Tests.Acceptance.Test07_RegisterCest.test.fail.html\u001b[39m\n",
      "Response: \u001b[36m/home/student/php_2022_adam_lewinski/07_testing/02_exercise/project/tests/_output/Tests.Acceptance.Test07_RegisterCest.test.fail.html\u001b[39m\n",
      "3) \u001b[35;1mTest08_RegisterValidationCest:\u001b[39;22m Validate data entered during registration\n",
      "\u001b[37;41;1m Test  \u001b[39;49;22mtests/Acceptance/Test08_RegisterValidationCest.php:test\n",
      "\u001b[37;41;1m Step \u001b[39;49;22m See in title \"Login\"\n",
      "\u001b[37;41;1m Fail \u001b[39;49;22m Link or Button by name or CSS or XPath element with 'Create' was not found.\n",
      "\u001b[33m\n",
      "Scenario Steps:\n",
      "\u001b[39m\n",
      "\u001b[1m 2. $I->click(\"Create\")\u001b[22m at \u001b[32mtests/Acceptance/Test08_RegisterValidationCest.php:18\u001b[39m\n",
      " 1. $I->amOnPage(\"/auth/register\") at \u001b[32mtests/Acceptance/Test08_RegisterValidationCest.php:16\u001b[39m\n",
      "\n",
      "\u001b[33mArtifacts:\u001b[39m\n",
      "\n",
      "Html: \u001b[36m/home/student/php_2022_adam_lewinski/07_testing/02_exercise/project/tests/_output/Tests.Acceptance.Test08_RegisterValidationCest.test.fail.html\u001b[39m\n",
      "Response: \u001b[36m/home/student/php_2022_adam_lewinski/07_testing/02_exercise/project/tests/_output/Tests.Acceptance.Test08_RegisterValidationCest.test.fail.html\u001b[39m\n",
      "4) \u001b[35;1mTest09_RegisterRememberFieldsCest:\u001b[39;22m Remember data entered during registration when validation error is present\n",
      "\u001b[37;41;1m Test  \u001b[39;49;22mtests/Acceptance/Test09_RegisterRememberFieldsCest.php:test\n",
      "\u001b[37;41;1m Step \u001b[39;49;22m See in title \"Login\"\n",
      "\u001b[37;41;1m Fail \u001b[39;49;22m Form field by Label or CSS element with 'id' was not found.\n",
      "\u001b[33m\n",
      "Scenario Steps:\n",
      "\u001b[39m\n",
      "\u001b[1m 2. $I->fillField(\"id\",\"1\")\u001b[22m at \u001b[32mtests/Acceptance/Test09_RegisterRememberFieldsCest.php:19\u001b[39m\n",
      " 1. $I->amOnPage(\"/auth/register\") at \u001b[32mtests/Acceptance/Test09_RegisterRememberFieldsCest.php:16\u001b[39m\n",
      "\n",
      "\u001b[33mArtifacts:\u001b[39m\n",
      "\n",
      "Html: \u001b[36m/home/student/php_2022_adam_lewinski/07_testing/02_exercise/project/tests/_output/Tests.Acceptance.Test09_RegisterRememberFieldsCest.test.fail.html\u001b[39m\n",
      "Response: \u001b[36m/home/student/php_2022_adam_lewinski/07_testing/02_exercise/project/tests/_output/Tests.Acceptance.Test09_RegisterRememberFieldsCest.test.fail.html\u001b[39m\n",
      "5) \u001b[35;1mTest11_LoginNotExistingCest:\u001b[39;22m See error when user does not exists\n",
      "\u001b[37;41;1m Test  \u001b[39;49;22mtests/Acceptance/Test11_LoginNotExistingCest.php:test\n",
      "\u001b[37;41;1m Step \u001b[39;49;22m See in title \"Login\"\n",
      "\u001b[37;41;1m Fail \u001b[39;49;22m page title contains Login\n",
      "Failed asserting that '404' contains \"Login\".\n",
      "\u001b[33m\n",
      "Scenario Steps:\n",
      "\u001b[39m\n",
      "\u001b[1m 2. $I->seeInTitle(\"Login\")\u001b[22m at \u001b[32mtests/Acceptance/Test11_LoginNotExistingCest.php:18\u001b[39m\n",
      " 1. $I->amOnPage(\"/auth/login\") at \u001b[32mtests/Acceptance/Test11_LoginNotExistingCest.php:16\u001b[39m\n",
      "\n",
      "\u001b[33mArtifacts:\u001b[39m\n",
      "\n",
      "Html: \u001b[36m/home/student/php_2022_adam_lewinski/07_testing/02_exercise/project/tests/_output/Tests.Acceptance.Test11_LoginNotExistingCest.test.fail.html\u001b[39m\n",
      "Response: \u001b[36m/home/student/php_2022_adam_lewinski/07_testing/02_exercise/project/tests/_output/Tests.Acceptance.Test11_LoginNotExistingCest.test.fail.html\u001b[39m\n",
      "6) \u001b[35;1mTest12_LoginWrongPasswordCest:\u001b[39;22m See error when wrong password is entered\n",
      "\u001b[37;41;1m Test  \u001b[39;49;22mtests/Acceptance/Test12_LoginWrongPasswordCest.php:test\n",
      "page title contains Login\n",
      "Failed asserting that '404' contains \"Login\".\n",
      "\u001b[33m\n",
      "Scenario Steps:\n",
      "\u001b[39m\n",
      "\u001b[1m 2. $I->seeInTitle(\"Login\")\u001b[22m at \u001b[32mtests/Acceptance/Test12_LoginWrongPasswordCest.php:19\u001b[39m\n",
      " 1. $I->amOnPage(\"/auth/login\") at \u001b[32mtests/Acceptance/Test12_LoginWrongPasswordCest.php:17\u001b[39m\n",
      "\n",
      "\u001b[33mArtifacts:\u001b[39m\n",
      "\n",
      "Html: \u001b[36m/home/student/php_2022_adam_lewinski/07_testing/02_exercise/project/tests/_output/Tests.Acceptance.Test12_LoginWrongPasswordCest.test.fail.html\u001b[39m\n",
      "Response: \u001b[36m/home/student/php_2022_adam_lewinski/07_testing/02_exercise/project/tests/_output/Tests.Acceptance.Test12_LoginWrongPasswordCest.test.fail.html\u001b[39m\n",
      "7) \u001b[35;1mTest13_LoginNotConfirmedCest:\u001b[39;22m Be remained about email confirmation when trying to login\n",
      "\u001b[37;41;1m Test  \u001b[39;49;22mtests/Acceptance/Test13_LoginNotConfirmedCest.php:test\n",
      "page title contains Login\n",
      "Failed asserting that '404' contains \"Login\".\n",
      "\u001b[33m\n",
      "Scenario Steps:\n",
      "\u001b[39m\n",
      "\u001b[1m 2. $I->seeInTitle(\"Login\")\u001b[22m at \u001b[32mtests/Acceptance/Test13_LoginNotConfirmedCest.php:18\u001b[39m\n",
      " 1. $I->amOnPage(\"/auth/login\") at \u001b[32mtests/Acceptance/Test13_LoginNotConfirmedCest.php:16\u001b[39m\n",
      "\n",
      "\u001b[33mArtifacts:\u001b[39m\n",
      "\n",
      "Html: \u001b[36m/home/student/php_2022_adam_lewinski/07_testing/02_exercise/project/tests/_output/Tests.Acceptance.Test13_LoginNotConfirmedCest.test.fail.html\u001b[39m\n",
      "Response: \u001b[36m/home/student/php_2022_adam_lewinski/07_testing/02_exercise/project/tests/_output/Tests.Acceptance.Test13_LoginNotConfirmedCest.test.fail.html\u001b[39m\n",
      "\n",
      "\u001b[37;41;1mERRORS!\u001b[39;49;22m\n",
      "\u001b[37;41;1mTests: 15, Assertions: 145, Errors: 2, Failures: 7.\u001b[39;49;22m\n"
     ]
    },
    {
     "name": "stderr",
     "output_type": "stream",
     "text": [
      "[Sun Nov 20 18:17:52 2022] [::1]:52434 Accepted\n",
      "[Sun Nov 20 18:17:52 2022] [::1]:52434 [200]: GET /auth/login\n",
      "[Sun Nov 20 18:17:52 2022] [::1]:52434 Closing\n",
      "[Sun Nov 20 18:17:52 2022] [::1]:52438 Accepted\n",
      "[Sun Nov 20 18:17:52 2022] [::1]:52438 [200]: GET /auth/login\n",
      "[Sun Nov 20 18:17:52 2022] [::1]:52438 Closing\n",
      "[Sun Nov 20 18:17:52 2022] [::1]:52448 Accepted\n",
      "[Sun Nov 20 18:17:52 2022] [::1]:52448 [200]: GET /auth/login\n",
      "[Sun Nov 20 18:17:52 2022] [::1]:52448 Closing\n"
     ]
    }
   ],
   "source": [
    "! vendor/bin/codecept run Acceptance"
   ]
  },
  {
   "cell_type": "code",
   "execution_count": 114,
   "metadata": {},
   "outputs": [
    {
     "name": "stdout",
     "output_type": "stream",
     "text": [
      "Codeception PHP Testing Framework v5.0.4 https://helpukrainewin.org\n",
      "\n",
      "\u001b[1mTests.Acceptance Tests (15) \u001b[22m----------------------------------------------------\n",
      "\u001b[32;1m✔\u001b[39;22m \u001b[35;1mTest00_PrettyUrlCest:\u001b[39;22m Test \u001b[32m(0.07s)\u001b[39m\n",
      "\u001b[32;1m✔\u001b[39;22m \u001b[35;1mTest01_FileStorageCest:\u001b[39;22m Test \u001b[32m(0.01s)\u001b[39m\n",
      "\u001b[32;1m✔\u001b[39;22m \u001b[35;1mTest02_SessionStorageCest:\u001b[39;22m Test \u001b[32m(0.01s)\u001b[39m\n",
      "\u001b[32;1m✔\u001b[39;22m \u001b[35;1mTest03_SQLiteStorageCest:\u001b[39;22m Test \u001b[32m(0.05s)\u001b[39m\n",
      "- \u001b[35;1mTest04_MySQLStorageCest:\u001b[39;22m Test"
     ]
    },
    {
     "name": "stderr",
     "output_type": "stream",
     "text": [
      "[Sun Nov 20 18:17:53 2022] [::1]:52464 Accepted\n",
      "[Sun Nov 20 18:17:53 2022] [::1]:52464 [200]: GET /\n",
      "[Sun Nov 20 18:17:53 2022] [::1]:52464 Closing\n",
      "[Sun Nov 20 18:17:53 2022] [::1]:52480 Accepted\n",
      "[Sun Nov 20 18:17:53 2022] [::1]:52480 [200]: GET /home\n",
      "[Sun Nov 20 18:17:53 2022] [::1]:52480 Closing\n",
      "[Sun Nov 20 18:17:53 2022] [::1]:52490 Accepted\n",
      "[Sun Nov 20 18:17:53 2022] [::1]:52490 [200]: GET /about\n",
      "[Sun Nov 20 18:17:53 2022] [::1]:52490 Closing\n",
      "[Sun Nov 20 18:17:53 2022] [::1]:52502 Accepted\n",
      "[Sun Nov 20 18:17:53 2022] [::1]:52502 [200]: GET /users\n",
      "[Sun Nov 20 18:17:53 2022] [::1]:52502 Closing\n",
      "[Sun Nov 20 18:17:53 2022] [::1]:52512 Accepted\n",
      "[Sun Nov 20 18:17:53 2022] [::1]:52512 [200]: GET /users/1\n",
      "[Sun Nov 20 18:17:53 2022] [::1]:52512 Closing\n",
      "[Sun Nov 20 18:17:53 2022] [::1]:52518 Accepted\n",
      "[Sun Nov 20 18:17:53 2022] [::1]:52518 [200]: GET /users\n",
      "[Sun Nov 20 18:17:53 2022] [::1]:52518 Closing\n",
      "[Sun Nov 20 18:17:53 2022] [::1]:52520 Accepted\n",
      "[Sun Nov 20 18:17:53 2022] [::1]:52520 [200]: GET /users/2\n",
      "[Sun Nov 20 18:17:53 2022] [::1]:52520 Closing\n",
      "[Sun Nov 20 18:17:53 2022] [::1]:52526 Accepted\n",
      "[Sun Nov 20 18:17:53 2022] [::1]:52526 [200]: GET /users\n",
      "[Sun Nov 20 18:17:53 2022] [::1]:52526 Closing\n",
      "[Sun Nov 20 18:17:53 2022] [::1]:52538 Accepted\n",
      "[Sun Nov 20 18:17:53 2022] [::1]:52538 [200]: GET /users/3\n",
      "[Sun Nov 20 18:17:53 2022] [::1]:52538 Closing\n",
      "[Sun Nov 20 18:17:53 2022] [::1]:52542 Accepted\n",
      "[Sun Nov 20 18:17:53 2022] [::1]:52542 [200]: GET /demo/file\n",
      "[Sun Nov 20 18:17:53 2022] [::1]:52542 Closing\n",
      "[Sun Nov 20 18:17:53 2022] [::1]:52552 Accepted\n",
      "[Sun Nov 20 18:17:53 2022] [::1]:52552 [200]: GET /demo/session\n",
      "[Sun Nov 20 18:17:53 2022] [::1]:52552 Closing\n",
      "[Sun Nov 20 18:17:53 2022] [::1]:52568 Accepted\n",
      "[Sun Nov 20 18:17:53 2022] [::1]:52568 [200]: GET /demo/sqlite\n",
      "[Sun Nov 20 18:17:53 2022] [::1]:52568 Closing\n",
      "[Sun Nov 20 18:17:53 2022] [::1]:52576 Accepted\n"
     ]
    },
    {
     "name": "stdout",
     "output_type": "stream",
     "text": [
      "\u001b[32;1m✔\u001b[39;22m \u001b[35;1mTest04_MySQLStorageCest:\u001b[39;22m Test \u001b[32m(0.14s)\u001b[39m\n",
      "\u001b[32;1m✔\u001b[39;22m \u001b[35;1mTest05_RedisStorageCest:\u001b[39;22m Test \u001b[32m(0.01s)\u001b[39m\n",
      "\u001b[31;1m✖\u001b[39;22m \u001b[35;1mTest06_HomepageCest:\u001b[39;22m See login and register links \u001b[32m(0.05s)\u001b[39m\n",
      "\u001b[31;1m✖\u001b[39;22m \u001b[35;1mTest07_RegisterCest:\u001b[39;22m Register new user \u001b[32m(0.04s)\u001b[39m\n",
      "- \u001b[35;1mTest08_RegisterValidationCest:\u001b[39;22m Validate data entered during registration"
     ]
    },
    {
     "name": "stderr",
     "output_type": "stream",
     "text": [
      "[Sun Nov 20 18:17:53 2022] [::1]:52576 [200]: GET /demo/mysql\n",
      "[Sun Nov 20 18:17:53 2022] [::1]:52576 Closing\n",
      "[Sun Nov 20 18:17:53 2022] [::1]:52580 Accepted\n",
      "[Sun Nov 20 18:17:53 2022] [::1]:52580 [200]: GET /demo/mysql\n",
      "[Sun Nov 20 18:17:53 2022] [::1]:52580 Closing\n",
      "[Sun Nov 20 18:17:53 2022] [::1]:52592 Accepted\n",
      "[Sun Nov 20 18:17:53 2022] [::1]:52592 [200]: GET /demo/redis\n",
      "[Sun Nov 20 18:17:53 2022] [::1]:52592 Closing\n",
      "[Sun Nov 20 18:17:53 2022] [::1]:52602 Accepted\n",
      "[Sun Nov 20 18:17:53 2022] [::1]:52602 [200]: GET /\n",
      "[Sun Nov 20 18:17:53 2022] [::1]:52602 Closing\n",
      "[Sun Nov 20 18:17:53 2022] [::1]:52608 Accepted\n",
      "[Sun Nov 20 18:17:53 2022] [::1]:52608 [200]: GET /home\n",
      "[Sun Nov 20 18:17:53 2022] [::1]:52608 Closing\n",
      "[Sun Nov 20 18:17:53 2022] [::1]:52610 Accepted\n",
      "[Sun Nov 20 18:17:53 2022] [::1]:52610 [200]: GET /\n",
      "[Sun Nov 20 18:17:53 2022] [::1]:52610 Closing\n"
     ]
    },
    {
     "name": "stdout",
     "output_type": "stream",
     "text": [
      "\u001b[31;1m✖\u001b[39;22m \u001b[35;1mTest08_RegisterValidationCest:\u001b[39;22m Validate data entered during registration \u001b[32m(0.05s)\u001b[39m\n",
      "\u001b[31;1m✖\u001b[39;22m \u001b[35;1mTest09_RegisterRememberFieldsCest:\u001b[39;22m Remember data entered during registration when validation error is present \u001b[32m(0.04s)\u001b[39m\n",
      "\u001b[31;1mE\u001b[39;22m \u001b[35;1mTest10_RegisterConfirmCest:\u001b[39;22m Confirm user using link \u001b[32m(0.03s)\u001b[39m\n",
      "\u001b[31;1m✖\u001b[39;22m \u001b[35;1mTest11_LoginNotExistingCest:\u001b[39;22m See error when user does not exists \u001b[32m(0.04s)\u001b[39m\n",
      "\u001b[31;1m✖\u001b[39;22m \u001b[35;1mTest12_LoginWrongPasswordCest:\u001b[39;22m See error when wrong password is entered \u001b[32m(0.04s)\u001b[39m\n",
      "- \u001b[35;1mTest13_LoginNotConfirmedCest:\u001b[39;22m Be remained about email confirmation when trying to login"
     ]
    },
    {
     "name": "stderr",
     "output_type": "stream",
     "text": [
      "[Sun Nov 20 18:17:53 2022] [::1]:52624 Accepted\n",
      "[Sun Nov 20 18:17:53 2022] [::1]:52624 [200]: GET /auth/register\n",
      "[Sun Nov 20 18:17:53 2022] [::1]:52624 Closing\n",
      "[Sun Nov 20 18:17:53 2022] [::1]:52636 Accepted\n",
      "[Sun Nov 20 18:17:53 2022] [::1]:52636 [200]: GET /auth/register\n",
      "[Sun Nov 20 18:17:53 2022] [::1]:52636 Closing\n",
      "[Sun Nov 20 18:17:53 2022] [::1]:52648 Accepted\n",
      "[Sun Nov 20 18:17:53 2022] [::1]:52648 [200]: GET /auth/login\n",
      "[Sun Nov 20 18:17:53 2022] [::1]:52648 Closing\n",
      "[Sun Nov 20 18:17:53 2022] [::1]:52656 Accepted\n",
      "[Sun Nov 20 18:17:53 2022] [::1]:52656 [200]: GET /auth/login\n",
      "[Sun Nov 20 18:17:53 2022] [::1]:52656 Closing\n",
      "[Sun Nov 20 18:17:53 2022] [::1]:52666 Accepted\n"
     ]
    },
    {
     "name": "stdout",
     "output_type": "stream",
     "text": [
      "\u001b[31;1m✖\u001b[39;22m \u001b[35;1mTest13_LoginNotConfirmedCest:\u001b[39;22m Be remained about email confirmation when trying to login \u001b[32m(0.04s)\u001b[39m\n",
      "\u001b[31;1mE\u001b[39;22m \u001b[35;1mTest14_LoginLogoutSeeHiddenContentCest:\u001b[39;22m See hidden content after login \u001b[32m(0.04s)\u001b[39m\n",
      "--------------------------------------------------------------------------------\n",
      "Time: 00:00.729, Memory: 12.00 MB\n",
      "\n",
      "There were 2 errors:\n",
      "1) \u001b[35;1mTest10_RegisterConfirmCest:\u001b[39;22m Confirm user using link\n",
      "\u001b[37;41;1m Test  \u001b[39;49;22mtests/Acceptance/Test10_RegisterConfirmCest.php:test\n",
      "\u001b[37;41;1m                                        \u001b[39;49;22m\n",
      "\u001b[37;41;1m  [Error] Class \"Model\\User\" not found  \u001b[39;49;22m\n",
      "\u001b[37;41;1m                                        \u001b[39;49;22m\n",
      "#1  /home/student/php_2022_adam_lewinski/07_testing/02_exercise/project/tests/Acceptance/Test10_RegisterConfirmCest.php:17\n",
      "#2  Tests\\Acceptance\\Test10_RegisterConfirmCest->test\n",
      "#3  /home/student/php_2022_adam_lewinski/07_testing/02_exercise/project/vendor/bin/codecept:120\n",
      "2) \u001b[35;1mTest14_LoginLogoutSeeHiddenContentCest:\u001b[39;22m See hidden content after login\n",
      "\u001b[37;41;1m Test  \u001b[39;49;22mtests/Acceptance/Test14_LoginLogoutSeeHiddenContentCest.php:test\n",
      "\u001b[37;41;1m                                        \u001b[39;49;22m\n",
      "\u001b[37;41;1m  [Error] Class \"Model\\User\" not found  \u001b[39;49;22m\n",
      "\u001b[37;41;1m                                        \u001b[39;49;22m\n",
      "#1  /home/student/php_2022_adam_lewinski/07_testing/02_exercise/project/tests/Acceptance/Test14_LoginLogoutSeeHiddenContentCest.php:17\n",
      "#2  Tests\\Acceptance\\Test14_LoginLogoutSeeHiddenContentCest->test\n",
      "#3  /home/student/php_2022_adam_lewinski/07_testing/02_exercise/project/vendor/bin/codecept:120\n",
      "\n",
      "---------\n",
      "\n",
      "There were 7 failures:\n",
      "1) \u001b[35;1mTest06_HomepageCest:\u001b[39;22m See login and register links\n",
      "\u001b[37;41;1m Test  \u001b[39;49;22mtests/Acceptance/Test06_HomepageCest.php:test\n",
      "\u001b[37;41;1m Step \u001b[39;49;22m Click \"Create\"\n",
      "\u001b[37;41;1m Fail \u001b[39;49;22m No links containing text 'Login' were found in page /home\n",
      "\u001b[33m\n",
      "Scenario Steps:\n",
      "\u001b[39m\n",
      "\u001b[1m 9. $I->seeLink(\"Login\",\"/auth/login\")\u001b[22m at \u001b[32mtests/Acceptance/Test06_HomepageCest.php:29\u001b[39m\n",
      " 8. $I->see(\"Welcome on homepage!\",\"h1.welcome\") at \u001b[32mtests/Acceptance/Test06_HomepageCest.php:26\u001b[39m\n",
      " 7. $I->seeInTitle(\"Homepage\") at \u001b[32mtests/Acceptance/Test06_HomepageCest.php:25\u001b[39m\n",
      " 6. $I->seeCurrentUrlEquals(\"/home\") at \u001b[32mtests/Acceptance/Test06_HomepageCest.php:24\u001b[39m\n",
      " 5. $I->click(\"Home\") at \u001b[32mtests/Acceptance/Test06_HomepageCest.php:23\u001b[39m\n",
      " 4. $I->seeNumRecords(0,\"objects\") at \u001b[32mtests/Acceptance/Test06_HomepageCest.php:20\u001b[39m\n",
      "\n",
      "\u001b[33mArtifacts:\u001b[39m\n",
      "\n",
      "Html: \u001b[36m/home/student/php_2022_adam_lewinski/07_testing/02_exercise/project/tests/_output/Tests.Acceptance.Test06_HomepageCest.test.fail.html\u001b[39m\n",
      "Response: \u001b[36m/home/student/php_2022_adam_lewinski/07_testing/02_exercise/project/tests/_output/Tests.Acceptance.Test06_HomepageCest.test.fail.html\u001b[39m\n",
      "2) \u001b[35;1mTest07_RegisterCest:\u001b[39;22m Register new user\n",
      "\u001b[37;41;1m Test  \u001b[39;49;22mtests/Acceptance/Test07_RegisterCest.php:test\n",
      "\u001b[37;41;1m Step \u001b[39;49;22m Fill field \"id\",\"1\"\n",
      "\u001b[37;41;1m Fail \u001b[39;49;22m Link or Button by name or CSS or XPath element with 'Register' was not found.\n",
      "\u001b[33m\n",
      "Scenario Steps:\n",
      "\u001b[39m\n",
      "\u001b[1m 2. $I->click(\"Register\")\u001b[22m at \u001b[32mtests/Acceptance/Test07_RegisterCest.php:18\u001b[39m\n",
      " 1. $I->amOnPage(\"/\") at \u001b[32mtests/Acceptance/Test07_RegisterCest.php:16\u001b[39m\n",
      "\n",
      "\u001b[33mArtifacts:\u001b[39m\n",
      "\n",
      "Html: \u001b[36m/home/student/php_2022_adam_lewinski/07_testing/02_exercise/project/tests/_output/Tests.Acceptance.Test07_RegisterCest.test.fail.html\u001b[39m\n",
      "Response: \u001b[36m/home/student/php_2022_adam_lewinski/07_testing/02_exercise/project/tests/_output/Tests.Acceptance.Test07_RegisterCest.test.fail.html\u001b[39m\n",
      "3) \u001b[35;1mTest08_RegisterValidationCest:\u001b[39;22m Validate data entered during registration\n",
      "\u001b[37;41;1m Test  \u001b[39;49;22mtests/Acceptance/Test08_RegisterValidationCest.php:test\n",
      "\u001b[37;41;1m Step \u001b[39;49;22m See in title \"Login\"\n",
      "\u001b[37;41;1m Fail \u001b[39;49;22m Link or Button by name or CSS or XPath element with 'Create' was not found.\n",
      "\u001b[33m\n",
      "Scenario Steps:\n",
      "\u001b[39m\n",
      "\u001b[1m 2. $I->click(\"Create\")\u001b[22m at \u001b[32mtests/Acceptance/Test08_RegisterValidationCest.php:18\u001b[39m\n",
      " 1. $I->amOnPage(\"/auth/register\") at \u001b[32mtests/Acceptance/Test08_RegisterValidationCest.php:16\u001b[39m\n",
      "\n",
      "\u001b[33mArtifacts:\u001b[39m\n",
      "\n",
      "Html: \u001b[36m/home/student/php_2022_adam_lewinski/07_testing/02_exercise/project/tests/_output/Tests.Acceptance.Test08_RegisterValidationCest.test.fail.html\u001b[39m\n",
      "Response: \u001b[36m/home/student/php_2022_adam_lewinski/07_testing/02_exercise/project/tests/_output/Tests.Acceptance.Test08_RegisterValidationCest.test.fail.html\u001b[39m\n",
      "4) \u001b[35;1mTest09_RegisterRememberFieldsCest:\u001b[39;22m Remember data entered during registration when validation error is present\n",
      "\u001b[37;41;1m Test  \u001b[39;49;22mtests/Acceptance/Test09_RegisterRememberFieldsCest.php:test\n",
      "\u001b[37;41;1m Step \u001b[39;49;22m See in title \"Login\"\n",
      "\u001b[37;41;1m Fail \u001b[39;49;22m Form field by Label or CSS element with 'id' was not found.\n",
      "\u001b[33m\n",
      "Scenario Steps:\n",
      "\u001b[39m\n",
      "\u001b[1m 2. $I->fillField(\"id\",\"1\")\u001b[22m at \u001b[32mtests/Acceptance/Test09_RegisterRememberFieldsCest.php:19\u001b[39m\n",
      " 1. $I->amOnPage(\"/auth/register\") at \u001b[32mtests/Acceptance/Test09_RegisterRememberFieldsCest.php:16\u001b[39m\n",
      "\n",
      "\u001b[33mArtifacts:\u001b[39m\n",
      "\n",
      "Html: \u001b[36m/home/student/php_2022_adam_lewinski/07_testing/02_exercise/project/tests/_output/Tests.Acceptance.Test09_RegisterRememberFieldsCest.test.fail.html\u001b[39m\n",
      "Response: \u001b[36m/home/student/php_2022_adam_lewinski/07_testing/02_exercise/project/tests/_output/Tests.Acceptance.Test09_RegisterRememberFieldsCest.test.fail.html\u001b[39m\n",
      "5) \u001b[35;1mTest11_LoginNotExistingCest:\u001b[39;22m See error when user does not exists\n",
      "\u001b[37;41;1m Test  \u001b[39;49;22mtests/Acceptance/Test11_LoginNotExistingCest.php:test\n",
      "\u001b[37;41;1m Step \u001b[39;49;22m See in title \"Login\"\n",
      "\u001b[37;41;1m Fail \u001b[39;49;22m page title contains Login\n",
      "Failed asserting that '404' contains \"Login\".\n",
      "\u001b[33m\n",
      "Scenario Steps:\n",
      "\u001b[39m\n",
      "\u001b[1m 2. $I->seeInTitle(\"Login\")\u001b[22m at \u001b[32mtests/Acceptance/Test11_LoginNotExistingCest.php:18\u001b[39m\n",
      " 1. $I->amOnPage(\"/auth/login\") at \u001b[32mtests/Acceptance/Test11_LoginNotExistingCest.php:16\u001b[39m\n",
      "\n",
      "\u001b[33mArtifacts:\u001b[39m\n",
      "\n",
      "Html: \u001b[36m/home/student/php_2022_adam_lewinski/07_testing/02_exercise/project/tests/_output/Tests.Acceptance.Test11_LoginNotExistingCest.test.fail.html\u001b[39m\n",
      "Response: \u001b[36m/home/student/php_2022_adam_lewinski/07_testing/02_exercise/project/tests/_output/Tests.Acceptance.Test11_LoginNotExistingCest.test.fail.html\u001b[39m\n",
      "6) \u001b[35;1mTest12_LoginWrongPasswordCest:\u001b[39;22m See error when wrong password is entered\n",
      "\u001b[37;41;1m Test  \u001b[39;49;22mtests/Acceptance/Test12_LoginWrongPasswordCest.php:test\n",
      "page title contains Login\n",
      "Failed asserting that '404' contains \"Login\".\n",
      "\u001b[33m\n",
      "Scenario Steps:\n",
      "\u001b[39m\n",
      "\u001b[1m 2. $I->seeInTitle(\"Login\")\u001b[22m at \u001b[32mtests/Acceptance/Test12_LoginWrongPasswordCest.php:19\u001b[39m\n",
      " 1. $I->amOnPage(\"/auth/login\") at \u001b[32mtests/Acceptance/Test12_LoginWrongPasswordCest.php:17\u001b[39m\n",
      "\n",
      "\u001b[33mArtifacts:\u001b[39m\n",
      "\n",
      "Html: \u001b[36m/home/student/php_2022_adam_lewinski/07_testing/02_exercise/project/tests/_output/Tests.Acceptance.Test12_LoginWrongPasswordCest.test.fail.html\u001b[39m\n",
      "Response: \u001b[36m/home/student/php_2022_adam_lewinski/07_testing/02_exercise/project/tests/_output/Tests.Acceptance.Test12_LoginWrongPasswordCest.test.fail.html\u001b[39m\n",
      "7) \u001b[35;1mTest13_LoginNotConfirmedCest:\u001b[39;22m Be remained about email confirmation when trying to login\n",
      "\u001b[37;41;1m Test  \u001b[39;49;22mtests/Acceptance/Test13_LoginNotConfirmedCest.php:test\n",
      "page title contains Login\n",
      "Failed asserting that '404' contains \"Login\".\n",
      "\u001b[33m\n",
      "Scenario Steps:\n",
      "\u001b[39m\n",
      "\u001b[1m 2. $I->seeInTitle(\"Login\")\u001b[22m at \u001b[32mtests/Acceptance/Test13_LoginNotConfirmedCest.php:18\u001b[39m\n",
      " 1. $I->amOnPage(\"/auth/login\") at \u001b[32mtests/Acceptance/Test13_LoginNotConfirmedCest.php:16\u001b[39m\n",
      "\n",
      "\u001b[33mArtifacts:\u001b[39m\n",
      "\n",
      "Html: \u001b[36m/home/student/php_2022_adam_lewinski/07_testing/02_exercise/project/tests/_output/Tests.Acceptance.Test13_LoginNotConfirmedCest.test.fail.html\u001b[39m\n",
      "Response: \u001b[36m/home/student/php_2022_adam_lewinski/07_testing/02_exercise/project/tests/_output/Tests.Acceptance.Test13_LoginNotConfirmedCest.test.fail.html\u001b[39m\n",
      "\n",
      "\u001b[37;41;1mERRORS!\u001b[39;49;22m\n",
      "\u001b[37;41;1mTests: 15, Assertions: 145, Errors: 2, Failures: 7.\u001b[39;49;22m\n",
      "- \u001b[1mJUNIT XML\u001b[22m report generated in \u001b[33mfile:///home/student/php_2022_adam_lewinski/07_testing/02_exercise/project/tests/_output/test_report.xml\u001b[39m\n"
     ]
    },
    {
     "name": "stderr",
     "output_type": "stream",
     "text": [
      "[Sun Nov 20 18:17:53 2022] [::1]:52666 [200]: GET /auth/login\n",
      "[Sun Nov 20 18:17:53 2022] [::1]:52666 Closing\n"
     ]
    }
   ],
   "source": [
    "! vendor/bin/codecept run Acceptance --xml test_report.xml"
   ]
  },
  {
   "cell_type": "code",
   "execution_count": 115,
   "metadata": {},
   "outputs": [],
   "source": [
    "phpServer.kill()"
   ]
  },
  {
   "cell_type": "code",
   "execution_count": 116,
   "metadata": {},
   "outputs": [
    {
     "name": "stdout",
     "output_type": "stream",
     "text": [
      "/home/student/php_2022_adam_lewinski/07_testing/02_exercise\n"
     ]
    }
   ],
   "source": [
    "%cd ../"
   ]
  },
  {
   "cell_type": "markdown",
   "metadata": {},
   "source": [
    "Stop the databses:"
   ]
  },
  {
   "cell_type": "code",
   "execution_count": null,
   "metadata": {},
   "outputs": [],
   "source": [
    "! docker container stop redis"
   ]
  },
  {
   "cell_type": "code",
   "execution_count": null,
   "metadata": {},
   "outputs": [],
   "source": [
    "! docker container stop mysql"
   ]
  }
 ],
 "metadata": {
  "kernelspec": {
   "display_name": "Python 3 (ipykernel)",
   "language": "python",
   "name": "python3"
  },
  "language_info": {
   "codemirror_mode": {
    "name": "ipython",
    "version": 3
   },
   "file_extension": ".py",
   "mimetype": "text/x-python",
   "name": "python",
   "nbconvert_exporter": "python",
   "pygments_lexer": "ipython3",
   "version": "3.10.6"
  }
 },
 "nbformat": 4,
 "nbformat_minor": 4
}
