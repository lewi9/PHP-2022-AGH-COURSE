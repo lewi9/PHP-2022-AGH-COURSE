{
 "cells": [
  {
   "cell_type": "markdown",
   "metadata": {},
   "source": [
    "# PHP 2022"
   ]
  },
  {
   "cell_type": "markdown",
   "metadata": {},
   "source": [
    "## 7. Testing"
   ]
  },
  {
   "cell_type": "markdown",
   "metadata": {},
   "source": [
    "### 7.2 Exercise"
   ]
  },
  {
   "cell_type": "markdown",
   "metadata": {},
   "source": [
    "Implment missing code."
   ]
  },
  {
   "cell_type": "markdown",
   "metadata": {},
   "source": [
    "Start the databses:"
   ]
  },
  {
   "cell_type": "code",
   "execution_count": 1,
   "metadata": {},
   "outputs": [
    {
     "name": "stdout",
     "output_type": "stream",
     "text": [
      "2f368ff7f00acd95fea7ec283bd9110e954e646692f85f4bd0daee08356b0bd3\r\n"
     ]
    }
   ],
   "source": [
    "! docker run --net=host --rm --name redis -d redis"
   ]
  },
  {
   "cell_type": "code",
   "execution_count": 2,
   "metadata": {},
   "outputs": [
    {
     "name": "stdout",
     "output_type": "stream",
     "text": [
      "dc24693c41d3c91cbf2e691a574b753b65c43c2d69cb7c51d1021a6553ca21f5\r\n"
     ]
    }
   ],
   "source": [
    "! docker run --name=mysql --net=host --rm --env MYSQL_ROOT_PASSWORD=root123 --env MYSQL_DATABASE=test --env MYSQL_USER=test --env MYSQL_PASSWORD=test123 -d mysql/mysql-server:8.0"
   ]
  },
  {
   "cell_type": "code",
   "execution_count": 3,
   "metadata": {},
   "outputs": [
    {
     "name": "stdout",
     "output_type": "stream",
     "text": [
      "Done.\r\n"
     ]
    }
   ],
   "source": [
    "! while ! timeout 1 bash -c \"echo > /dev/tcp/localhost/6379\" 2> /dev/null; do sleep 1; done; echo \"Done.\";"
   ]
  },
  {
   "cell_type": "code",
   "execution_count": 4,
   "metadata": {},
   "outputs": [
    {
     "name": "stdout",
     "output_type": "stream",
     "text": [
      "Done.\r\n"
     ]
    }
   ],
   "source": [
    "! while ! timeout 1 bash -c \"echo > /dev/tcp/localhost/3306\" 2> /dev/null; do sleep 1; done; echo \"Done.\";"
   ]
  },
  {
   "cell_type": "markdown",
   "metadata": {},
   "source": [
    "Edit the code:"
   ]
  },
  {
   "cell_type": "code",
   "execution_count": 94,
   "metadata": {},
   "outputs": [
    {
     "name": "stdout",
     "output_type": "stream",
     "text": [
      "CompileCommand: exclude com/intellij/openapi/vfs/impl/FilePartNodeRoot.trieDescend bool exclude = true\n",
      "2022-11-21 22:33:24,747 [   3070] SEVERE - #c.i.d.LoadingState - Should be called at least in the state COMPONENTS_LOADED, the current state is: CONFIGURATION_STORE_INITIALIZED\n",
      "Current violators count: 1\n",
      "\n",
      "\n",
      "java.lang.Throwable\n",
      "\tat com.intellij.diagnostic.LoadingState.logStateError(LoadingState.java:52)\n",
      "\tat com.intellij.diagnostic.LoadingState.checkOccurred(LoadingState.java:48)\n",
      "\tat com.intellij.openapi.actionSystem.impl.ActionManagerImpl.<init>(ActionManagerImpl.java:133)\n",
      "\tat com.jetbrains.rdserver.ui.actionPopupMenu.BackendActionManager.<init>(BackendActionManager.kt:17)\n",
      "\tat java.base/jdk.internal.reflect.NativeConstructorAccessorImpl.newInstance0(Native Method)\n",
      "\tat java.base/jdk.internal.reflect.NativeConstructorAccessorImpl.newInstance(NativeConstructorAccessorImpl.java:77)\n",
      "\tat java.base/jdk.internal.reflect.DelegatingConstructorAccessorImpl.newInstance(DelegatingConstructorAccessorImpl.java:45)\n",
      "\tat java.base/java.lang.reflect.Constructor.newInstanceWithCaller(Constructor.java:499)\n",
      "\tat java.base/java.lang.reflect.Constructor.newInstance(Constructor.java:480)\n",
      "\tat com.intellij.serviceContainer.ConstructorInjectionKt.instantiateUsingPicoContainer(constructorInjection.kt:47)\n",
      "\tat com.intellij.serviceContainer.ComponentManagerImpl.instantiateClassWithConstructorInjection(ComponentManagerImpl.kt:890)\n",
      "\tat com.intellij.serviceContainer.ServiceComponentAdapter.createAndInitialize(ServiceComponentAdapter.kt:51)\n",
      "\tat com.intellij.serviceContainer.ServiceComponentAdapter.doCreateInstance(ServiceComponentAdapter.kt:41)\n",
      "\tat com.intellij.serviceContainer.BaseComponentAdapter.getInstanceUncached(BaseComponentAdapter.kt:119)\n",
      "\tat com.intellij.serviceContainer.BaseComponentAdapter.getInstance(BaseComponentAdapter.kt:73)\n",
      "\tat com.intellij.serviceContainer.BaseComponentAdapter.getInstance$default(BaseComponentAdapter.kt:66)\n",
      "\tat com.intellij.serviceContainer.ComponentManagerImpl.doGetService(ComponentManagerImpl.kt:609)\n",
      "\tat com.intellij.serviceContainer.ComponentManagerImpl.getService(ComponentManagerImpl.kt:583)\n",
      "\tat com.intellij.openapi.client.ClientAwareComponentManager.getFromSelfOrCurrentSession(ClientAwareComponentManager.kt:37)\n",
      "\tat com.intellij.openapi.client.ClientAwareComponentManager.getService(ClientAwareComponentManager.kt:22)\n",
      "\tat com.intellij.openapi.actionSystem.ActionManager.getInstance(ActionManager.java:29)\n",
      "\tat com.intellij.help.impl.KeymapGenerator.<clinit>(KeymapGenerator.java:33)\n",
      "\tat java.base/jdk.internal.misc.Unsafe.allocateInstance(Native Method)\n",
      "\tat java.base/java.lang.invoke.DirectMethodHandle.allocateInstance(DirectMethodHandle.java:520)\n",
      "\tat com.intellij.serviceContainer.ComponentManagerImpl.instantiateClass(ComponentManagerImpl.kt:844)\n",
      "\tat com.intellij.openapi.extensions.impl.XmlExtensionAdapter.instantiateClass(XmlExtensionAdapter.kt:79)\n",
      "\tat com.intellij.openapi.extensions.impl.XmlExtensionAdapter$SimpleConstructorInjectionAdapter.instantiateClass(XmlExtensionAdapter.kt:90)\n",
      "\tat com.intellij.openapi.extensions.impl.XmlExtensionAdapter.doCreateInstance(XmlExtensionAdapter.kt:50)\n",
      "\tat com.intellij.openapi.extensions.impl.XmlExtensionAdapter.createInstance(XmlExtensionAdapter.kt:31)\n",
      "\tat com.intellij.openapi.extensions.impl.ExtensionPointImpl.processAdapter(ExtensionPointImpl.java:447)\n",
      "\tat com.intellij.openapi.extensions.impl.ExtensionPointImpl.access$200(ExtensionPointImpl.java:33)\n",
      "\tat com.intellij.openapi.extensions.impl.ExtensionPointImpl$1.next(ExtensionPointImpl.java:355)\n",
      "\tat com.intellij.idea.ApplicationLoader.findAppStarter(ApplicationLoader.kt:595)\n",
      "\tat com.intellij.idea.ApplicationLoader.access$findAppStarter(ApplicationLoader.kt:1)\n",
      "\tat com.intellij.idea.ApplicationLoader$initApplication$block$3.apply(ApplicationLoader.kt:170)\n",
      "\tat com.intellij.idea.ApplicationLoader$initApplication$block$3.apply(ApplicationLoader.kt)\n",
      "\tat java.base/java.util.concurrent.CompletableFuture$UniCompose.tryFire(CompletableFuture.java:1150)\n",
      "\tat java.base/java.util.concurrent.CompletableFuture.postComplete(CompletableFuture.java:510)\n",
      "\tat java.base/java.util.concurrent.CompletableFuture.postFire(CompletableFuture.java:614)\n",
      "\tat java.base/java.util.concurrent.CompletableFuture$UniCompose.tryFire(CompletableFuture.java:1163)\n",
      "\tat java.base/java.util.concurrent.CompletableFuture$Completion.run(CompletableFuture.java:482)\n",
      "\tat com.intellij.idea.ApplicationLoader$initApplication$block$2.execute(ApplicationLoader.kt:142)\n",
      "\tat java.base/java.util.concurrent.CompletableFuture$UniCompletion.claim(CompletableFuture.java:572)\n",
      "\tat java.base/java.util.concurrent.CompletableFuture$UniCompose.tryFire(CompletableFuture.java:1147)\n",
      "\tat java.base/java.util.concurrent.CompletableFuture.postComplete(CompletableFuture.java:510)\n",
      "\tat java.base/java.util.concurrent.CompletableFuture.postFire(CompletableFuture.java:614)\n",
      "\tat java.base/java.util.concurrent.CompletableFuture$UniCompose.tryFire(CompletableFuture.java:1163)\n",
      "\tat java.base/java.util.concurrent.CompletableFuture$Completion.exec(CompletableFuture.java:483)\n",
      "\tat java.base/java.util.concurrent.ForkJoinTask.doExec(ForkJoinTask.java:373)\n",
      "\tat java.base/java.util.concurrent.ForkJoinPool$WorkQueue.topLevelExec(ForkJoinPool.java:1182)\n",
      "\tat java.base/java.util.concurrent.ForkJoinPool.scan(ForkJoinPool.java:1655)\n",
      "\tat java.base/java.util.concurrent.ForkJoinPool.runWorker(ForkJoinPool.java:1622)\n",
      "\tat java.base/java.util.concurrent.ForkJoinWorkerThread.run(ForkJoinWorkerThread.java:165)\n",
      "2022-11-21 22:33:24,769 [   3092] SEVERE - #c.i.d.LoadingState - PhpStorm 2022.2.3  Build #PS-222.4345.15\n",
      "2022-11-21 22:33:24,774 [   3097] SEVERE - #c.i.d.LoadingState - JDK: 17.0.4.1; VM: OpenJDK 64-Bit Server VM; Vendor: JetBrains s.r.o.\n",
      "2022-11-21 22:33:24,777 [   3100] SEVERE - #c.i.d.LoadingState - OS: Linux\n",
      "2022-11-21 22:33:26,132 [   4455] SEVERE - #c.i.d.LoadingState - Should be called at least in the state COMPONENTS_LOADED, the current state is: CONFIGURATION_STORE_INITIALIZED\n",
      "Current violators count: 2\n",
      "\n",
      "\n",
      "java.lang.Throwable\n",
      "\tat com.intellij.diagnostic.LoadingState.logStateError(LoadingState.java:52)\n",
      "\tat com.intellij.diagnostic.LoadingState.checkOccurred(LoadingState.java:48)\n",
      "\tat com.intellij.openapi.util.registry.Registry.getInstance(Registry.java:176)\n",
      "\tat com.intellij.openapi.util.registry.Registry.get(Registry.java:50)\n",
      "\tat com.intellij.openapi.util.registry.Registry.is(Registry.java:63)\n",
      "\tat com.intellij.execution.ExecutorRegistryImpl.isExecutorInMainGroup(ExecutorRegistryImpl.java:195)\n",
      "\tat com.intellij.execution.ExecutorRegistryImpl.initExecutorActions(ExecutorRegistryImpl.java:127)\n",
      "\tat com.intellij.execution.ExecutorRegistryImpl.init(ExecutorRegistryImpl.java:278)\n",
      "\tat com.intellij.execution.ExecutorRegistryImpl$ExecutorRegistryActionConfigurationTuner.customize(ExecutorRegistryImpl.java:92)\n",
      "\tat com.intellij.openapi.actionSystem.impl.ActionManagerImpl.lambda$new$0(ActionManagerImpl.java:141)\n",
      "\tat com.intellij.openapi.extensions.impl.ExtensionProcessingHelper.forEachExtensionSafe(ExtensionProcessingHelper.java:34)\n",
      "\tat com.intellij.openapi.extensions.ExtensionPointName.forEachExtensionSafe(ExtensionPointName.java:46)\n",
      "\tat com.intellij.openapi.actionSystem.impl.ActionManagerImpl.<init>(ActionManagerImpl.java:141)\n",
      "\tat com.jetbrains.rdserver.ui.actionPopupMenu.BackendActionManager.<init>(BackendActionManager.kt:17)\n",
      "\tat java.base/jdk.internal.reflect.NativeConstructorAccessorImpl.newInstance0(Native Method)\n",
      "\tat java.base/jdk.internal.reflect.NativeConstructorAccessorImpl.newInstance(NativeConstructorAccessorImpl.java:77)\n",
      "\tat java.base/jdk.internal.reflect.DelegatingConstructorAccessorImpl.newInstance(DelegatingConstructorAccessorImpl.java:45)\n",
      "\tat java.base/java.lang.reflect.Constructor.newInstanceWithCaller(Constructor.java:499)\n",
      "\tat java.base/java.lang.reflect.Constructor.newInstance(Constructor.java:480)\n",
      "\tat com.intellij.serviceContainer.ConstructorInjectionKt.instantiateUsingPicoContainer(constructorInjection.kt:47)\n",
      "\tat com.intellij.serviceContainer.ComponentManagerImpl.instantiateClassWithConstructorInjection(ComponentManagerImpl.kt:890)\n",
      "\tat com.intellij.serviceContainer.ServiceComponentAdapter.createAndInitialize(ServiceComponentAdapter.kt:51)\n",
      "\tat com.intellij.serviceContainer.ServiceComponentAdapter.doCreateInstance(ServiceComponentAdapter.kt:41)\n",
      "\tat com.intellij.serviceContainer.BaseComponentAdapter.getInstanceUncached(BaseComponentAdapter.kt:119)\n",
      "\tat com.intellij.serviceContainer.BaseComponentAdapter.getInstance(BaseComponentAdapter.kt:73)\n",
      "\tat com.intellij.serviceContainer.BaseComponentAdapter.getInstance$default(BaseComponentAdapter.kt:66)\n",
      "\tat com.intellij.serviceContainer.ComponentManagerImpl.doGetService(ComponentManagerImpl.kt:609)\n",
      "\tat com.intellij.serviceContainer.ComponentManagerImpl.getService(ComponentManagerImpl.kt:583)\n",
      "\tat com.intellij.openapi.client.ClientAwareComponentManager.getFromSelfOrCurrentSession(ClientAwareComponentManager.kt:37)\n",
      "\tat com.intellij.openapi.client.ClientAwareComponentManager.getService(ClientAwareComponentManager.kt:22)\n",
      "\tat com.intellij.openapi.actionSystem.ActionManager.getInstance(ActionManager.java:29)\n",
      "\tat com.intellij.help.impl.KeymapGenerator.<clinit>(KeymapGenerator.java:33)\n",
      "\tat java.base/jdk.internal.misc.Unsafe.allocateInstance(Native Method)\n",
      "\tat java.base/java.lang.invoke.DirectMethodHandle.allocateInstance(DirectMethodHandle.java:520)\n",
      "\tat com.intellij.serviceContainer.ComponentManagerImpl.instantiateClass(ComponentManagerImpl.kt:844)\n",
      "\tat com.intellij.openapi.extensions.impl.XmlExtensionAdapter.instantiateClass(XmlExtensionAdapter.kt:79)\n",
      "\tat com.intellij.openapi.extensions.impl.XmlExtensionAdapter$SimpleConstructorInjectionAdapter.instantiateClass(XmlExtensionAdapter.kt:90)\n",
      "\tat com.intellij.openapi.extensions.impl.XmlExtensionAdapter.doCreateInstance(XmlExtensionAdapter.kt:50)\n",
      "\tat com.intellij.openapi.extensions.impl.XmlExtensionAdapter.createInstance(XmlExtensionAdapter.kt:31)\n",
      "\tat com.intellij.openapi.extensions.impl.ExtensionPointImpl.processAdapter(ExtensionPointImpl.java:447)\n",
      "\tat com.intellij.openapi.extensions.impl.ExtensionPointImpl.access$200(ExtensionPointImpl.java:33)\n",
      "\tat com.intellij.openapi.extensions.impl.ExtensionPointImpl$1.next(ExtensionPointImpl.java:355)\n",
      "\tat com.intellij.idea.ApplicationLoader.findAppStarter(ApplicationLoader.kt:595)\n",
      "\tat com.intellij.idea.ApplicationLoader.access$findAppStarter(ApplicationLoader.kt:1)\n",
      "\tat com.intellij.idea.ApplicationLoader$initApplication$block$3.apply(ApplicationLoader.kt:170)\n",
      "\tat com.intellij.idea.ApplicationLoader$initApplication$block$3.apply(ApplicationLoader.kt)\n",
      "\tat java.base/java.util.concurrent.CompletableFuture$UniCompose.tryFire(CompletableFuture.java:1150)\n",
      "\tat java.base/java.util.concurrent.CompletableFuture.postComplete(CompletableFuture.java:510)\n",
      "\tat java.base/java.util.concurrent.CompletableFuture.postFire(CompletableFuture.java:614)\n",
      "\tat java.base/java.util.concurrent.CompletableFuture$UniCompose.tryFire(CompletableFuture.java:1163)\n",
      "\tat java.base/java.util.concurrent.CompletableFuture$Completion.run(CompletableFuture.java:482)\n",
      "\tat com.intellij.idea.ApplicationLoader$initApplication$block$2.execute(ApplicationLoader.kt:142)\n",
      "\tat java.base/java.util.concurrent.CompletableFuture$UniCompletion.claim(CompletableFuture.java:572)\n",
      "\tat java.base/java.util.concurrent.CompletableFuture$UniCompose.tryFire(CompletableFuture.java:1147)\n",
      "\tat java.base/java.util.concurrent.CompletableFuture.postComplete(CompletableFuture.java:510)\n",
      "\tat java.base/java.util.concurrent.CompletableFuture.postFire(CompletableFuture.java:614)\n",
      "\tat java.base/java.util.concurrent.CompletableFuture$UniCompose.tryFire(CompletableFuture.java:1163)\n",
      "\tat java.base/java.util.concurrent.CompletableFuture$Completion.exec(CompletableFuture.java:483)\n",
      "\tat java.base/java.util.concurrent.ForkJoinTask.doExec(ForkJoinTask.java:373)\n",
      "\tat java.base/java.util.concurrent.ForkJoinPool$WorkQueue.topLevelExec(ForkJoinPool.java:1182)\n",
      "\tat java.base/java.util.concurrent.ForkJoinPool.scan(ForkJoinPool.java:1655)\n",
      "\tat java.base/java.util.concurrent.ForkJoinPool.runWorker(ForkJoinPool.java:1622)\n",
      "\tat java.base/java.util.concurrent.ForkJoinWorkerThread.run(ForkJoinWorkerThread.java:165)\n"
     ]
    },
    {
     "name": "stdout",
     "output_type": "stream",
     "text": [
      "2022-11-21 22:33:26,147 [   4470] SEVERE - #c.i.d.LoadingState - PhpStorm 2022.2.3  Build #PS-222.4345.15\n",
      "2022-11-21 22:33:26,151 [   4474] SEVERE - #c.i.d.LoadingState - JDK: 17.0.4.1; VM: OpenJDK 64-Bit Server VM; Vendor: JetBrains s.r.o.\n",
      "2022-11-21 22:33:26,154 [   4477] SEVERE - #c.i.d.LoadingState - OS: Linux\n",
      "2022-11-21 22:33:26,220 [   4543] SEVERE - #c.i.d.LoadingState - Should be called at least in the state COMPONENTS_LOADED, the current state is: CONFIGURATION_STORE_INITIALIZED\n",
      "Current violators count: 3\n",
      "\n",
      "\n",
      "java.lang.Throwable\n",
      "\tat com.intellij.diagnostic.LoadingState.logStateError(LoadingState.java:52)\n",
      "\tat com.intellij.diagnostic.LoadingState.checkOccurred(LoadingState.java:48)\n",
      "\tat com.intellij.openapi.util.registry.Registry.getInstance(Registry.java:176)\n",
      "\tat com.intellij.openapi.util.registry.Registry.get(Registry.java:50)\n",
      "\tat com.intellij.openapi.util.registry.Registry.is(Registry.java:63)\n",
      "\tat com.intellij.openapi.wm.impl.GlobalMenuLinux._loadLibrary(GlobalMenuLinux.java:797)\n",
      "\tat com.intellij.openapi.wm.impl.GlobalMenuLinux.<clinit>(GlobalMenuLinux.java:164)\n",
      "\tat com.intellij.openapi.wm.impl.GlobalMenuLinux$MyActionTuner.customize(GlobalMenuLinux.java:230)\n",
      "\tat com.intellij.openapi.actionSystem.impl.ActionManagerImpl.lambda$new$0(ActionManagerImpl.java:141)\n",
      "\tat com.intellij.openapi.extensions.impl.ExtensionProcessingHelper.forEachExtensionSafe(ExtensionProcessingHelper.java:34)\n",
      "\tat com.intellij.openapi.extensions.ExtensionPointName.forEachExtensionSafe(ExtensionPointName.java:46)\n",
      "\tat com.intellij.openapi.actionSystem.impl.ActionManagerImpl.<init>(ActionManagerImpl.java:141)\n",
      "\tat com.jetbrains.rdserver.ui.actionPopupMenu.BackendActionManager.<init>(BackendActionManager.kt:17)\n",
      "\tat java.base/jdk.internal.reflect.NativeConstructorAccessorImpl.newInstance0(Native Method)\n",
      "\tat java.base/jdk.internal.reflect.NativeConstructorAccessorImpl.newInstance(NativeConstructorAccessorImpl.java:77)\n",
      "\tat java.base/jdk.internal.reflect.DelegatingConstructorAccessorImpl.newInstance(DelegatingConstructorAccessorImpl.java:45)\n",
      "\tat java.base/java.lang.reflect.Constructor.newInstanceWithCaller(Constructor.java:499)\n",
      "\tat java.base/java.lang.reflect.Constructor.newInstance(Constructor.java:480)\n",
      "\tat com.intellij.serviceContainer.ConstructorInjectionKt.instantiateUsingPicoContainer(constructorInjection.kt:47)\n",
      "\tat com.intellij.serviceContainer.ComponentManagerImpl.instantiateClassWithConstructorInjection(ComponentManagerImpl.kt:890)\n",
      "\tat com.intellij.serviceContainer.ServiceComponentAdapter.createAndInitialize(ServiceComponentAdapter.kt:51)\n",
      "\tat com.intellij.serviceContainer.ServiceComponentAdapter.doCreateInstance(ServiceComponentAdapter.kt:41)\n",
      "\tat com.intellij.serviceContainer.BaseComponentAdapter.getInstanceUncached(BaseComponentAdapter.kt:119)\n",
      "\tat com.intellij.serviceContainer.BaseComponentAdapter.getInstance(BaseComponentAdapter.kt:73)\n",
      "\tat com.intellij.serviceContainer.BaseComponentAdapter.getInstance$default(BaseComponentAdapter.kt:66)\n",
      "\tat com.intellij.serviceContainer.ComponentManagerImpl.doGetService(ComponentManagerImpl.kt:609)\n",
      "\tat com.intellij.serviceContainer.ComponentManagerImpl.getService(ComponentManagerImpl.kt:583)\n",
      "\tat com.intellij.openapi.client.ClientAwareComponentManager.getFromSelfOrCurrentSession(ClientAwareComponentManager.kt:37)\n",
      "\tat com.intellij.openapi.client.ClientAwareComponentManager.getService(ClientAwareComponentManager.kt:22)\n",
      "\tat com.intellij.openapi.actionSystem.ActionManager.getInstance(ActionManager.java:29)\n",
      "\tat com.intellij.help.impl.KeymapGenerator.<clinit>(KeymapGenerator.java:33)\n",
      "\tat java.base/jdk.internal.misc.Unsafe.allocateInstance(Native Method)\n",
      "\tat java.base/java.lang.invoke.DirectMethodHandle.allocateInstance(DirectMethodHandle.java:520)\n",
      "\tat com.intellij.serviceContainer.ComponentManagerImpl.instantiateClass(ComponentManagerImpl.kt:844)\n",
      "\tat com.intellij.openapi.extensions.impl.XmlExtensionAdapter.instantiateClass(XmlExtensionAdapter.kt:79)\n",
      "\tat com.intellij.openapi.extensions.impl.XmlExtensionAdapter$SimpleConstructorInjectionAdapter.instantiateClass(XmlExtensionAdapter.kt:90)\n",
      "\tat com.intellij.openapi.extensions.impl.XmlExtensionAdapter.doCreateInstance(XmlExtensionAdapter.kt:50)\n",
      "\tat com.intellij.openapi.extensions.impl.XmlExtensionAdapter.createInstance(XmlExtensionAdapter.kt:31)\n",
      "\tat com.intellij.openapi.extensions.impl.ExtensionPointImpl.processAdapter(ExtensionPointImpl.java:447)\n",
      "\tat com.intellij.openapi.extensions.impl.ExtensionPointImpl.access$200(ExtensionPointImpl.java:33)\n",
      "\tat com.intellij.openapi.extensions.impl.ExtensionPointImpl$1.next(ExtensionPointImpl.java:355)\n",
      "\tat com.intellij.idea.ApplicationLoader.findAppStarter(ApplicationLoader.kt:595)\n",
      "\tat com.intellij.idea.ApplicationLoader.access$findAppStarter(ApplicationLoader.kt:1)\n",
      "\tat com.intellij.idea.ApplicationLoader$initApplication$block$3.apply(ApplicationLoader.kt:170)\n",
      "\tat com.intellij.idea.ApplicationLoader$initApplication$block$3.apply(ApplicationLoader.kt)\n",
      "\tat java.base/java.util.concurrent.CompletableFuture$UniCompose.tryFire(CompletableFuture.java:1150)\n",
      "\tat java.base/java.util.concurrent.CompletableFuture.postComplete(CompletableFuture.java:510)\n",
      "\tat java.base/java.util.concurrent.CompletableFuture.postFire(CompletableFuture.java:614)\n",
      "\tat java.base/java.util.concurrent.CompletableFuture$UniCompose.tryFire(CompletableFuture.java:1163)\n",
      "\tat java.base/java.util.concurrent.CompletableFuture$Completion.run(CompletableFuture.java:482)\n",
      "\tat com.intellij.idea.ApplicationLoader$initApplication$block$2.execute(ApplicationLoader.kt:142)\n",
      "\tat java.base/java.util.concurrent.CompletableFuture$UniCompletion.claim(CompletableFuture.java:572)\n",
      "\tat java.base/java.util.concurrent.CompletableFuture$UniCompose.tryFire(CompletableFuture.java:1147)\n",
      "\tat java.base/java.util.concurrent.CompletableFuture.postComplete(CompletableFuture.java:510)\n",
      "\tat java.base/java.util.concurrent.CompletableFuture.postFire(CompletableFuture.java:614)\n",
      "\tat java.base/java.util.concurrent.CompletableFuture$UniCompose.tryFire(CompletableFuture.java:1163)\n",
      "\tat java.base/java.util.concurrent.CompletableFuture$Completion.exec(CompletableFuture.java:483)\n",
      "\tat java.base/java.util.concurrent.ForkJoinTask.doExec(ForkJoinTask.java:373)\n",
      "\tat java.base/java.util.concurrent.ForkJoinPool$WorkQueue.topLevelExec(ForkJoinPool.java:1182)\n",
      "\tat java.base/java.util.concurrent.ForkJoinPool.scan(ForkJoinPool.java:1655)\n",
      "\tat java.base/java.util.concurrent.ForkJoinPool.runWorker(ForkJoinPool.java:1622)\n",
      "\tat java.base/java.util.concurrent.ForkJoinWorkerThread.run(ForkJoinWorkerThread.java:165)\n",
      "2022-11-21 22:33:26,236 [   4559] SEVERE - #c.i.d.LoadingState - PhpStorm 2022.2.3  Build #PS-222.4345.15\n",
      "2022-11-21 22:33:26,238 [   4561] SEVERE - #c.i.d.LoadingState - JDK: 17.0.4.1; VM: OpenJDK 64-Bit Server VM; Vendor: JetBrains s.r.o.\n",
      "2022-11-21 22:33:26,240 [   4563] SEVERE - #c.i.d.LoadingState - OS: Linux\n",
      "Info  | RdCoroutineScope          | 13:JobScheduler FJ pool 1/3 | RdCoroutineHost overridden \n",
      "2022-11-21 22:33:32,498 [  10821]   WARN - #c.i.o.a.i.ActionUpdater - 574 ms to grab EDT for CWMTelephonyGroup#update@NavBarToolbar (com.jetbrains.rd.platform.codeWithMe.telephony.CWMTelephonyGroup)\n",
      "2022-11-21 22:33:36,848 [  15171]   WARN - #c.i.o.a.e.ActionUtil - Can not find action by id CompileDirty\n",
      "2022-11-21 22:33:37,293 [  15616]   WARN - #c.i.u.x.Binding - no accessors for com.jetbrains.php.testFramework.PhpTestFrameworkType\n",
      "2022-11-21 22:33:40,944 [  19267]   WARN - #c.i.o.a.i.ActionUpdater - 2321 ms to grab EDT for BackAction#update@MainToolbar (com.intellij.ide.actions.BackAction)\n",
      "2022-11-21 22:33:41,600 [  19923]   WARN - #c.i.o.a.i.ActionUpdater - 1956 ms to grab EDT for CreateWebProjectAction#update@MainMenu (com.jetbrains.plugins.webDeployment.phpStorm.CreateWebProjectAction)\n",
      "2022-11-21 22:33:51,809 [  30132]   WARN - #c.j.p.p.PharLibraryManager - Frequent root change. Source class com.jetbrains.php.phar.PharLibraryManager, delta 2988.\n",
      "Old roots: [phar:///home/student/php_2022_adam_lewinski/07_testing/02_exercise/project/vendor/bin/phpstan.phar/]\n",
      "New Roots: [phar:///home/student/php_2022_adam_lewinski/07_testing/02_exercise/project/vendor/bin/phpstan.phar/, phar:///home/student/php_2022_adam_lewinski/07_testing/02_exercise/project/vendor/phpstan/phpstan/phpstan.phar/]\n"
     ]
    },
    {
     "name": "stdout",
     "output_type": "stream",
     "text": [
      "2022-11-21 22:33:54,960 [  33283]   WARN - #c.i.o.a.i.ActionUpdater - 230 ms to grab EDT for CollapseAllAction#update@ToolwindowTitle (com.intellij.ide.actions.CollapseAllAction)\n",
      "2022-11-21 22:34:00,258 [  38581]   WARN - #c.j.p.PhpIndex - Completing type '#π(#g#F\\Controller\\view)(\"auth.index\")' took 1578ms, visited:[#π(#g#F\\Controller\\view)(\"auth.index\")]\n",
      "2022-11-21 22:34:35,413 [  73736]   WARN - #c.i.u.x.Binding - no accessors for org.jetbrains.idea.perforce.perforce.ConnectionId\n",
      "2022-11-21 22:34:35,645 [  73968]   WARN - #c.i.o.a.i.ActionUpdater - 290 ms to grab EDT for GitCommitWithStagingAreaAction#update@NavBarToolbar (git4idea.index.actions.GitCommitWithStagingAreaAction)\n"
     ]
    }
   ],
   "source": [
    "! phpstorm project"
   ]
  },
  {
   "cell_type": "markdown",
   "metadata": {},
   "source": [
    "You can test your solution using included tests:"
   ]
  },
  {
   "cell_type": "code",
   "execution_count": 95,
   "metadata": {},
   "outputs": [
    {
     "name": "stdout",
     "output_type": "stream",
     "text": [
      "/home/student/php_2022_adam_lewinski/07_testing/02_exercise/project\n"
     ]
    }
   ],
   "source": [
    "%cd project"
   ]
  },
  {
   "cell_type": "code",
   "execution_count": 96,
   "metadata": {},
   "outputs": [
    {
     "name": "stdout",
     "output_type": "stream",
     "text": [
      "\u001b[32mInstalling dependencies from lock file (including require-dev)\u001b[39m\n",
      "\u001b[32mVerifying lock file contents can be installed on current platform.\u001b[39m\n",
      "Nothing to install, update or remove\n",
      "\u001b[32mGenerating autoload files\u001b[39m\n",
      "\u001b[32m60 packages you are using are looking for funding.\u001b[39m\n",
      "\u001b[32mUse the `composer fund` command to find out more!\u001b[39m\n"
     ]
    }
   ],
   "source": [
    "! composer install"
   ]
  },
  {
   "cell_type": "code",
   "execution_count": 97,
   "metadata": {},
   "outputs": [
    {
     "name": "stdout",
     "output_type": "stream",
     "text": [
      "\u001b[32mBuilding Actor classes for suites: Acceptance, Unit\u001b[39m\n",
      " -> AcceptanceTesterActions.php generated successfully. 241 methods added\n",
      "\u001b[32mTests\\AcceptanceTester\u001b[39m includes modules: PhpBrowser, Filesystem, Asserts, Db, Redis\n",
      " -> UnitTesterActions.php generated successfully. 137 methods added\n",
      "\u001b[32mTests\\UnitTester\u001b[39m includes modules: Asserts\n"
     ]
    }
   ],
   "source": [
    "! vendor/bin/codecept build"
   ]
  },
  {
   "cell_type": "code",
   "execution_count": 98,
   "metadata": {
    "scrolled": true
   },
   "outputs": [
    {
     "name": "stdout",
     "output_type": "stream",
     "text": [
      "Loaded config \u001b[33mdefault\u001b[39m from \"/home/student/php_2022_adam_lewinski/07_testing/02_exercise/project/./.php-cs-fixer.dist.php\".\n",
      "Using cache file \".php-cs-fixer.cache\".\n",
      "   1) view/home/index.php\n",
      "\u001b[33m      ---------- begin diff ----------\u001b[39m\n",
      "\u001b[31m--- /home/student/php_2022_adam_lewinski/07_testing/02_exercise/project/view/home/index.php\u001b[39m\n",
      "\u001b[32m+++ /home/student/php_2022_adam_lewinski/07_testing/02_exercise/project/view/home/index.php\u001b[39m\n",
      "\u001b[36m@@ -7,10 +7,10 @@\u001b[39m\n",
      "     echo '<ul>';\n",
      "     foreach ($flags as $flag) {\n",
      "         if ($flag instanceof \\Model\\Flagi) {\n",
      "\u001b[31m-            if($flag->id() == 1){\u001b[39m\n",
      "\u001b[32m+            if ($flag->id() == 1) {\u001b[39m\n",
      "                 echo \"<li class='error'>Provided token is invalid!</li>\";\n",
      "             }\n",
      "\u001b[31m-            if($flag->id() == 3){\u001b[39m\n",
      "\u001b[32m+            if ($flag->id() == 3) {\u001b[39m\n",
      "                 echo \"<li class='info'>Email successfully confirmed!</li>\";\n",
      "             }\n",
      "             if ($flag->id() == 2) {\n",
      "\n",
      "\u001b[33m      ----------- end diff -----------\u001b[39m\n",
      "\n",
      "\n",
      "Checked all files in 0.120 seconds, 14.000 MB memory used\n"
     ]
    }
   ],
   "source": [
    "! vendor/bin/php-cs-fixer fix --diff --dry-run ."
   ]
  },
  {
   "cell_type": "code",
   "execution_count": 99,
   "metadata": {},
   "outputs": [
    {
     "name": "stdout",
     "output_type": "stream",
     "text": [
      "  0/65 [░░░░░░░░░░░░░░░░░░░░░░░░░░░░]   0%\u001b[1G\u001b[2K 65/65 [▓▓▓▓▓▓▓▓▓▓▓▓▓▓▓▓▓▓▓▓▓▓▓▓▓▓▓▓] 100%\n",
      "\n",
      "\n",
      "\u001b[30;42m                                                                                \u001b[39;49m\n",
      "\u001b[30;42m [OK] No errors                                                                 \u001b[39;49m\n",
      "\u001b[30;42m                                                                                \u001b[39;49m\n",
      "\n"
     ]
    }
   ],
   "source": [
    "! vendor/bin/phpstan analyze --xdebug -c phpstan.neon"
   ]
  },
  {
   "cell_type": "code",
   "execution_count": 100,
   "metadata": {},
   "outputs": [
    {
     "name": "stdout",
     "output_type": "stream",
     "text": [
      "phpcpd 6.0.3 by Sebastian Bergmann.\n",
      "\n",
      "No clones found.\n",
      "\n",
      "Time: 00:00.029, Memory: 4.00 MB\n"
     ]
    }
   ],
   "source": [
    "! vendor/bin/phpcpd . --fuzzy --min-lines 1 --min-tokens 20 --exclude vendor --exclude tests"
   ]
  },
  {
   "cell_type": "code",
   "execution_count": 101,
   "metadata": {},
   "outputs": [
    {
     "name": "stdout",
     "output_type": "stream",
     "text": [
      "Codeception PHP Testing Framework v5.0.4 https://helpukrainewin.org\n",
      "\n",
      "\u001b[1mTests.Unit Tests (24) \u001b[22m----------------------------------------------------------\n",
      "\u001b[32;1m✔\u001b[39;22m \u001b[35;1mTest00_StringEditorCest:\u001b[39;22m Create \u001b[32m(0.00s)\u001b[39m\n",
      "\u001b[32;1m✔\u001b[39;22m \u001b[35;1mTest00_StringEditorCest:\u001b[39;22m Replace word \u001b[32m(0.00s)\u001b[39m\n",
      "\u001b[32;1m✔\u001b[39;22m \u001b[35;1mTest00_StringEditorCest:\u001b[39;22m Lowercase \u001b[32m(0.00s)\u001b[39m\n",
      "\u001b[32;1m✔\u001b[39;22m \u001b[35;1mTest00_StringEditorCest:\u001b[39;22m Uppercase \u001b[32m(0.00s)\u001b[39m\n",
      "\u001b[32;1m✔\u001b[39;22m \u001b[35;1mTest00_StringEditorCest:\u001b[39;22m Replace and upper case \u001b[32m(0.00s)\u001b[39m\n",
      "\u001b[32;1m✔\u001b[39;22m \u001b[35;1mTest00_StringEditorCest:\u001b[39;22m Censor word \u001b[32m(0.00s)\u001b[39m\n",
      "\u001b[32;1m✔\u001b[39;22m \u001b[35;1mTest00_StringEditorCest:\u001b[39;22m Censor short and long words \u001b[32m(0.00s)\u001b[39m\n",
      "\u001b[32;1m✔\u001b[39;22m \u001b[35;1mTest00_StringEditorCest:\u001b[39;22m Repeat word \u001b[32m(0.00s)\u001b[39m\n",
      "\u001b[32;1m✔\u001b[39;22m \u001b[35;1mTest00_StringEditorCest:\u001b[39;22m Remove word \u001b[32m(0.00s)\u001b[39m\n",
      "\u001b[32;1m✔\u001b[39;22m \u001b[35;1mTest00_StringEditorCest:\u001b[39;22m Edit sentence \u001b[32m(0.00s)\u001b[39m\n",
      "\u001b[32;1m✔\u001b[39;22m \u001b[35;1mTest01_RingBufferCest:\u001b[39;22m Create \u001b[32m(0.00s)\u001b[39m\n",
      "\u001b[32;1m✔\u001b[39;22m \u001b[35;1mTest01_RingBufferCest:\u001b[39;22m Should be empty \u001b[32m(0.00s)\u001b[39m\n",
      "\u001b[32;1m✔\u001b[39;22m \u001b[35;1mTest01_RingBufferCest:\u001b[39;22m Capacity \u001b[32m(0.00s)\u001b[39m\n",
      "\u001b[32;1m✔\u001b[39;22m \u001b[35;1mTest01_RingBufferCest:\u001b[39;22m Size should be zero when empty \u001b[32m(0.00s)\u001b[39m\n",
      "\u001b[32;1m✔\u001b[39;22m \u001b[35;1mTest01_RingBufferCest:\u001b[39;22m Push value size should increase \u001b[32m(0.00s)\u001b[39m\n",
      "\u001b[32;1m✔\u001b[39;22m \u001b[35;1mTest01_RingBufferCest:\u001b[39;22m Empty should be false when full \u001b[32m(0.00s)\u001b[39m\n",
      "\u001b[32;1m✔\u001b[39;22m \u001b[35;1mTest01_RingBufferCest:\u001b[39;22m Pop from empty \u001b[32m(0.00s)\u001b[39m\n",
      "\u001b[32;1m✔\u001b[39;22m \u001b[35;1mTest01_RingBufferCest:\u001b[39;22m Push and pop single value \u001b[32m(0.00s)\u001b[39m\n",
      "\u001b[32;1m✔\u001b[39;22m \u001b[35;1mTest01_RingBufferCest:\u001b[39;22m Pop should reduce size \u001b[32m(0.00s)\u001b[39m\n",
      "\u001b[32;1m✔\u001b[39;22m \u001b[35;1mTest01_RingBufferCest:\u001b[39;22m Back should not change buffer \u001b[32m(0.00s)\u001b[39m\n",
      "\u001b[32;1m✔\u001b[39;22m \u001b[35;1mTest01_RingBufferCest:\u001b[39;22m Push multiple times \u001b[32m(0.00s)\u001b[39m\n",
      "\u001b[32;1m✔\u001b[39;22m \u001b[35;1mTest01_RingBufferCest:\u001b[39;22m Multi item buffer \u001b[32m(0.00s)\u001b[39m\n",
      "\u001b[32;1m✔\u001b[39;22m ingBufferCest:\u001b[39;22m Push and pop all values\u001b[35;1mTest01_RingBufferCest:\u001b[39;22m Push and pop all values \u001b[32m(0.00s)\u001b[39m\n",
      "\u001b[32;1m✔\u001b[39;22m \u001b[35;1mTest01_RingBufferCest:\u001b[39;22m Access values by index \u001b[32m(0.00s)\u001b[39m\n",
      "--------------------------------------------------------------------------------\n",
      "Time: 00:00.120, Memory: 8.00 MB\n",
      "\n",
      "\u001b[30;42mOK (24 tests, 75 assertions)\u001b[39;49m\n"
     ]
    }
   ],
   "source": [
    "! vendor/bin/codecept run Unit"
   ]
  },
  {
   "cell_type": "code",
   "execution_count": 102,
   "metadata": {},
   "outputs": [],
   "source": [
    "import subprocess\n",
    "phpServer = subprocess.Popen(['php', '-S', 'localhost:8888', '-t', 'public'])"
   ]
  },
  {
   "cell_type": "code",
   "execution_count": 103,
   "metadata": {},
   "outputs": [
    {
     "name": "stderr",
     "output_type": "stream",
     "text": [
      "[Mon Nov 21 22:34:52 2022] PHP 8.1.12 Development Server (http://localhost:8888) started\n"
     ]
    },
    {
     "name": "stdout",
     "output_type": "stream",
     "text": [
      "Done.\r\n"
     ]
    },
    {
     "name": "stderr",
     "output_type": "stream",
     "text": [
      "[Mon Nov 21 22:34:53 2022] [::1]:50500 Accepted\n",
      "[Mon Nov 21 22:34:53 2022] [::1]:50500 Closed without sending a request; it was probably just an unused speculative preconnection\n",
      "[Mon Nov 21 22:34:53 2022] [::1]:50500 Closing\n"
     ]
    }
   ],
   "source": [
    "! while ! timeout 1 bash -c \"echo > /dev/tcp/localhost/8888\" 2> /dev/null; do sleep 1; done; echo \"Done.\";"
   ]
  },
  {
   "cell_type": "code",
   "execution_count": 104,
   "metadata": {},
   "outputs": [
    {
     "name": "stdout",
     "output_type": "stream",
     "text": [
      "Codeception PHP Testing Framework v5.0.4 https://helpukrainewin.org\n",
      "\n",
      "\u001b[1mTests.Acceptance Tests (15) \u001b[22m----------------------------------------------------\n",
      "\u001b[32;1m✔\u001b[39;22m \u001b[35;1mTest00_PrettyUrlCest:\u001b[39;22m Test \u001b[32m(0.17s)\u001b[39m\n",
      "- \u001b[35;1mTest01_FileStorageCest:\u001b[39;22m Test"
     ]
    },
    {
     "name": "stderr",
     "output_type": "stream",
     "text": [
      "[Mon Nov 21 22:34:53 2022] [::1]:50516 Accepted\n",
      "[Mon Nov 21 22:34:54 2022] [::1]:50516 [200]: GET /\n",
      "[Mon Nov 21 22:34:54 2022] [::1]:50516 Closing\n",
      "[Mon Nov 21 22:34:54 2022] [::1]:50522 Accepted\n",
      "[Mon Nov 21 22:34:54 2022] [::1]:50522 [200]: GET /home\n",
      "[Mon Nov 21 22:34:54 2022] [::1]:50522 Closing\n",
      "[Mon Nov 21 22:34:54 2022] [::1]:50538 Accepted\n",
      "[Mon Nov 21 22:34:54 2022] [::1]:50538 [200]: GET /about\n",
      "[Mon Nov 21 22:34:54 2022] [::1]:50538 Closing\n",
      "[Mon Nov 21 22:34:54 2022] [::1]:50552 Accepted\n",
      "[Mon Nov 21 22:34:54 2022] [::1]:50552 [200]: GET /users\n",
      "[Mon Nov 21 22:34:54 2022] [::1]:50552 Closing\n",
      "[Mon Nov 21 22:34:54 2022] [::1]:50560 Accepted\n",
      "[Mon Nov 21 22:34:54 2022] [::1]:50560 [200]: GET /users/1\n",
      "[Mon Nov 21 22:34:54 2022] [::1]:50560 Closing\n",
      "[Mon Nov 21 22:34:54 2022] [::1]:50574 Accepted\n",
      "[Mon Nov 21 22:34:54 2022] [::1]:50574 [200]: GET /users\n",
      "[Mon Nov 21 22:34:54 2022] [::1]:50574 Closing\n",
      "[Mon Nov 21 22:34:54 2022] [::1]:50582 Accepted\n",
      "[Mon Nov 21 22:34:54 2022] [::1]:50582 [200]: GET /users/2\n",
      "[Mon Nov 21 22:34:54 2022] [::1]:50582 Closing\n",
      "[Mon Nov 21 22:34:54 2022] [::1]:50586 Accepted\n",
      "[Mon Nov 21 22:34:54 2022] [::1]:50586 [200]: GET /users\n",
      "[Mon Nov 21 22:34:54 2022] [::1]:50586 Closing\n",
      "[Mon Nov 21 22:34:54 2022] [::1]:50600 Accepted\n",
      "[Mon Nov 21 22:34:54 2022] [::1]:50600 [200]: GET /users/3\n",
      "[Mon Nov 21 22:34:54 2022] [::1]:50600 Closing\n",
      "[Mon Nov 21 22:34:54 2022] [::1]:50610 Accepted\n",
      "[Mon Nov 21 22:34:54 2022] [::1]:50610 [200]: GET /demo/file\n",
      "[Mon Nov 21 22:34:54 2022] [::1]:50610 Closing\n"
     ]
    },
    {
     "name": "stdout",
     "output_type": "stream",
     "text": [
      "\u001b[32;1m✔\u001b[39;22m \u001b[35;1mTest01_FileStorageCest:\u001b[39;22m Test \u001b[32m(0.03s)\u001b[39m\n",
      "\u001b[32;1m✔\u001b[39;22m \u001b[35;1mTest02_SessionStorageCest:\u001b[39;22m Test \u001b[32m(0.02s)\u001b[39m\n",
      "\u001b[32;1m✔\u001b[39;22m \u001b[35;1mTest03_SQLiteStorageCest:\u001b[39;22m Test \u001b[32m(0.11s)\u001b[39m\n",
      "- \u001b[35;1mTest04_MySQLStorageCest:\u001b[39;22m Test"
     ]
    },
    {
     "name": "stderr",
     "output_type": "stream",
     "text": [
      "[Mon Nov 21 22:34:54 2022] [::1]:50622 Accepted\n",
      "[Mon Nov 21 22:34:54 2022] [::1]:50622 [200]: GET /demo/session\n",
      "[Mon Nov 21 22:34:54 2022] [::1]:50622 Closing\n",
      "[Mon Nov 21 22:34:54 2022] [::1]:50624 Accepted\n",
      "[Mon Nov 21 22:34:54 2022] [::1]:50624 [200]: GET /demo/sqlite\n",
      "[Mon Nov 21 22:34:54 2022] [::1]:50624 Closing\n",
      "[Mon Nov 21 22:34:54 2022] [::1]:50634 Accepted\n",
      "[Mon Nov 21 22:34:54 2022] [::1]:50634 [200]: GET /demo/mysql\n",
      "[Mon Nov 21 22:34:54 2022] [::1]:50634 Closing\n",
      "[Mon Nov 21 22:34:54 2022] [::1]:50642 Accepted\n",
      "[Mon Nov 21 22:34:54 2022] [::1]:50642 [200]: GET /demo/mysql\n",
      "[Mon Nov 21 22:34:54 2022] [::1]:50642 Closing\n",
      "[Mon Nov 21 22:34:54 2022] [::1]:50644 Accepted\n"
     ]
    },
    {
     "name": "stdout",
     "output_type": "stream",
     "text": [
      "\u001b[32;1m✔\u001b[39;22m \u001b[35;1mTest04_MySQLStorageCest:\u001b[39;22m Test \u001b[32m(0.41s)\u001b[39m\n",
      "\u001b[32;1m✔\u001b[39;22m \u001b[35;1mTest05_RedisStorageCest:\u001b[39;22m Test \u001b[32m(0.05s)\u001b[39m\n",
      "\u001b[32;1m✔\u001b[39;22m \u001b[35;1mTest06_HomepageCest:\u001b[39;22m See login and register links \u001b[32m(0.11s)\u001b[39m\n",
      "- \u001b[35;1mTest07_RegisterCest:\u001b[39;22m Register new user"
     ]
    },
    {
     "name": "stderr",
     "output_type": "stream",
     "text": [
      "[Mon Nov 21 22:34:54 2022] [::1]:50644 [200]: GET /demo/redis\n",
      "[Mon Nov 21 22:34:54 2022] [::1]:50644 Closing\n",
      "[Mon Nov 21 22:34:54 2022] [::1]:50648 Accepted\n",
      "[Mon Nov 21 22:34:54 2022] [::1]:50648 [200]: GET /\n",
      "[Mon Nov 21 22:34:54 2022] [::1]:50648 Closing\n",
      "[Mon Nov 21 22:34:54 2022] [::1]:50654 Accepted\n",
      "[Mon Nov 21 22:34:54 2022] [::1]:50654 [200]: GET /home\n",
      "[Mon Nov 21 22:34:54 2022] [::1]:50654 Closing\n",
      "[Mon Nov 21 22:34:54 2022] [::1]:50666 Accepted\n",
      "[Mon Nov 21 22:34:54 2022] [::1]:50666 [200]: GET /\n",
      "[Mon Nov 21 22:34:54 2022] [::1]:50666 Closing\n",
      "[Mon Nov 21 22:34:54 2022] [::1]:50676 Accepted\n",
      "[Mon Nov 21 22:34:55 2022] [::1]:50676 [200]: GET /auth/register\n",
      "[Mon Nov 21 22:34:55 2022] [::1]:50676 Closing\n",
      "[Mon Nov 21 22:34:55 2022] [::1]:50680 Accepted\n",
      "[Mon Nov 21 22:34:55 2022] [::1]:50680 [302]: POST /auth/register\n",
      "[Mon Nov 21 22:34:55 2022] [::1]:50680 Closing\n",
      "[Mon Nov 21 22:34:55 2022] [::1]:50684 Accepted\n",
      "[Mon Nov 21 22:34:55 2022] [::1]:50684 [200]: GET /auth/confirmation_notice\n",
      "[Mon Nov 21 22:34:55 2022] [::1]:50684 Closing\n"
     ]
    },
    {
     "name": "stdout",
     "output_type": "stream",
     "text": [
      "\u001b[32;1m✔\u001b[39;22m \u001b[35;1mTest07_RegisterCest:\u001b[39;22m Register new user \u001b[32m(0.54s)\u001b[39m\n",
      "\u001b[32;1m✔\u001b[39;22m \u001b[35;1mTest08_RegisterValidationCest:\u001b[39;22m Validate data entered during registration \u001b[32m(0.14s)\u001b[39m\n",
      "- \u001b[35;1mTest09_RegisterRememberFieldsCest:\u001b[39;22m Remember data entered during registration when validation error is present"
     ]
    },
    {
     "name": "stderr",
     "output_type": "stream",
     "text": [
      "[Mon Nov 21 22:34:55 2022] [::1]:50690 Accepted\n",
      "[Mon Nov 21 22:34:55 2022] [::1]:50690 [200]: GET /auth/register\n",
      "[Mon Nov 21 22:34:55 2022] [::1]:50690 Closing\n",
      "[Mon Nov 21 22:34:55 2022] [::1]:50698 Accepted\n",
      "[Mon Nov 21 22:34:55 2022] [::1]:50698 [200]: POST /auth/register\n",
      "[Mon Nov 21 22:34:55 2022] [::1]:50698 Closing\n",
      "[Mon Nov 21 22:34:55 2022] [::1]:50700 Accepted\n",
      "[Mon Nov 21 22:34:55 2022] [::1]:50700 [200]: POST /auth/register\n",
      "[Mon Nov 21 22:34:55 2022] [::1]:50700 Closing\n",
      "[Mon Nov 21 22:34:55 2022] [::1]:50708 Accepted\n",
      "[Mon Nov 21 22:34:55 2022] [::1]:50708 [200]: GET /auth/register\n",
      "[Mon Nov 21 22:34:55 2022] [::1]:50708 Closing\n",
      "[Mon Nov 21 22:34:55 2022] [::1]:50710 Accepted\n",
      "[Mon Nov 21 22:34:55 2022] [::1]:50710 [200]: POST /auth/register\n",
      "[Mon Nov 21 22:34:55 2022] [::1]:50710 Closing\n"
     ]
    },
    {
     "name": "stdout",
     "output_type": "stream",
     "text": [
      "\r",
      "\u001b[32;1m✔\u001b[39;22m \u001b[35;1mTest09_RegisterRememberFieldsCest:\u001b[39;22m Remember data entered during registration when validation error is present \u001b[32m(0.32s)\u001b[39m\r\n",
      "- \u001b[35;1mTest10_RegisterConfirmCest:\u001b[39;22m Confirm user using link"
     ]
    },
    {
     "name": "stderr",
     "output_type": "stream",
     "text": [
      "[Mon Nov 21 22:34:55 2022] [::1]:50712 Accepted\n",
      "[Mon Nov 21 22:34:55 2022] [::1]:50712 [200]: POST /auth/register\n",
      "[Mon Nov 21 22:34:55 2022] [::1]:50712 Closing\n",
      "[Mon Nov 21 22:34:55 2022] [::1]:56812 Accepted\n",
      "[Mon Nov 21 22:34:55 2022] [::1]:56812 [200]: POST /auth/register\n",
      "[Mon Nov 21 22:34:55 2022] [::1]:56812 Closing\n",
      "[Mon Nov 21 22:34:55 2022] [::1]:56824 Accepted\n",
      "[Mon Nov 21 22:34:55 2022] [::1]:56824 [200]: POST /auth/register\n",
      "[Mon Nov 21 22:34:55 2022] [::1]:56824 Closing\n",
      "[Mon Nov 21 22:34:55 2022] [::1]:56828 Accepted\n",
      "[Mon Nov 21 22:34:55 2022] [::1]:56828 [200]: POST /auth/register\n",
      "[Mon Nov 21 22:34:55 2022] [::1]:56828 Closing\n",
      "[Mon Nov 21 22:34:55 2022] [::1]:56838 Accepted\n",
      "[Mon Nov 21 22:34:55 2022] [::1]:56838 [200]: GET /auth/register\n",
      "[Mon Nov 21 22:34:55 2022] [::1]:56838 Closing\n"
     ]
    },
    {
     "name": "stdout",
     "output_type": "stream",
     "text": [
      "\r",
      "\u001b[32;1m✔\u001b[39;22m \u001b[35;1mTest10_RegisterConfirmCest:\u001b[39;22m Check that info disappears after page refresh \u001b[32m(0.39s)\u001b[39m\r\n",
      "- \u001b[35;1mTest11_LoginNotExistingCest:\u001b[39;22m See error when user does not exists"
     ]
    },
    {
     "name": "stderr",
     "output_type": "stream",
     "text": [
      "[Mon Nov 21 22:34:56 2022] [::1]:56852 Accepted\n",
      "[Mon Nov 21 22:34:56 2022] [::1]:56852 [302]: GET /auth/confirm/ThisIsAnInvalidEmailConfirmationToken\n",
      "[Mon Nov 21 22:34:56 2022] [::1]:56852 Closing\n",
      "[Mon Nov 21 22:34:56 2022] [::1]:56864 Accepted\n",
      "[Mon Nov 21 22:34:56 2022] [::1]:56864 [200]: GET /\n",
      "[Mon Nov 21 22:34:56 2022] [::1]:56864 Closing\n",
      "[Mon Nov 21 22:34:56 2022] [::1]:56870 Accepted\n",
      "[Mon Nov 21 22:34:56 2022] [::1]:56870 [200]: GET /\n",
      "[Mon Nov 21 22:34:56 2022] [::1]:56870 Closing\n",
      "[Mon Nov 21 22:34:56 2022] [::1]:56872 Accepted\n",
      "[Mon Nov 21 22:34:56 2022] [::1]:56872 [302]: GET /auth/confirm/80219e141e8e4019eebecfdf25e063c9\n",
      "[Mon Nov 21 22:34:56 2022] [::1]:56872 Closing\n",
      "[Mon Nov 21 22:34:56 2022] [::1]:56876 Accepted\n",
      "[Mon Nov 21 22:34:56 2022] [::1]:56876 [200]: GET /\n",
      "[Mon Nov 21 22:34:56 2022] [::1]:56876 Closing\n",
      "[Mon Nov 21 22:34:56 2022] [::1]:56884 Accepted\n",
      "[Mon Nov 21 22:34:56 2022] [::1]:56884 [200]: GET /\n",
      "[Mon Nov 21 22:34:56 2022] [::1]:56884 Closing\n",
      "[Mon Nov 21 22:34:56 2022] [::1]:56900 Accepted\n",
      "[Mon Nov 21 22:34:56 2022] [::1]:56900 [200]: GET /auth/login\n",
      "[Mon Nov 21 22:34:56 2022] [::1]:56900 Closing\n"
     ]
    },
    {
     "name": "stdout",
     "output_type": "stream",
     "text": [
      "\r",
      "\u001b[32;1m✔\u001b[39;22m \u001b[35;1mTest11_LoginNotExistingCest:\u001b[39;22m See error when user does not exists \u001b[32m(0.12s)\u001b[39m\r\n",
      "- \u001b[35;1mTest12_LoginWrongPasswordCest:\u001b[39;22m See error when wrong password is entered"
     ]
    },
    {
     "name": "stderr",
     "output_type": "stream",
     "text": [
      "[Mon Nov 21 22:34:56 2022] [::1]:56910 Accepted\n",
      "[Mon Nov 21 22:34:56 2022] [::1]:56910 [302]: POST /auth/login\n",
      "[Mon Nov 21 22:34:56 2022] [::1]:56910 Closing\n",
      "[Mon Nov 21 22:34:56 2022] [::1]:56916 Accepted\n",
      "[Mon Nov 21 22:34:56 2022] [::1]:56916 [200]: GET /\n",
      "[Mon Nov 21 22:34:56 2022] [::1]:56916 Closing\n",
      "[Mon Nov 21 22:34:56 2022] [::1]:56924 Accepted\n",
      "[Mon Nov 21 22:34:56 2022] [::1]:56924 [200]: GET /auth/login\n",
      "[Mon Nov 21 22:34:56 2022] [::1]:56924 Closing\n",
      "[Mon Nov 21 22:34:56 2022] [::1]:56930 Accepted\n",
      "[Mon Nov 21 22:34:56 2022] [::1]:56930 [200]: POST /auth/login\n",
      "[Mon Nov 21 22:34:56 2022] [::1]:56930 Closing\n"
     ]
    },
    {
     "name": "stdout",
     "output_type": "stream",
     "text": [
      "\r",
      "\u001b[32;1m✔\u001b[39;22m \u001b[35;1mTest12_LoginWrongPasswordCest:\u001b[39;22m See error when wrong password is entered \u001b[32m(0.47s)\u001b[39m\r\n",
      "- \u001b[35;1mTest13_LoginNotConfirmedCest:\u001b[39;22m Be remained about email confirmation when trying to login"
     ]
    },
    {
     "name": "stderr",
     "output_type": "stream",
     "text": [
      "[Mon Nov 21 22:34:56 2022] [::1]:56938 Accepted\n",
      "[Mon Nov 21 22:34:56 2022] [::1]:56938 [200]: GET /auth/login\n",
      "[Mon Nov 21 22:34:56 2022] [::1]:56938 Closing\n",
      "[Mon Nov 21 22:34:57 2022] [::1]:56942 Accepted\n"
     ]
    },
    {
     "name": "stdout",
     "output_type": "stream",
     "text": [
      "\r",
      "\u001b[31;1m✖\u001b[39;22m \u001b[35;1mTest13_LoginNotConfirmedCest:\u001b[39;22m Be remained about email confirmation when trying to login \u001b[32m(0.41s)\u001b[39m\r\n",
      "- \u001b[35;1mTest14_LoginLogoutSeeHiddenContentCest:\u001b[39;22m See hidden content after login"
     ]
    },
    {
     "name": "stderr",
     "output_type": "stream",
     "text": [
      "[Mon Nov 21 22:34:57 2022] [::1]:56942 [302]: POST /auth/login\n",
      "[Mon Nov 21 22:34:57 2022] [::1]:56942 Closing\n",
      "[Mon Nov 21 22:34:57 2022] [::1]:56944 Accepted\n",
      "[Mon Nov 21 22:34:57 2022] [::1]:56944 [200]: GET /\n",
      "[Mon Nov 21 22:34:57 2022] [::1]:56944 Closing\n",
      "[Mon Nov 21 22:34:57 2022] [::1]:56952 Accepted\n",
      "[Mon Nov 21 22:34:57 2022] [::1]:56952 [200]: GET /\n",
      "[Mon Nov 21 22:34:57 2022] [::1]:56952 Closing\n",
      "[Mon Nov 21 22:34:57 2022] [::1]:56956 Accepted\n",
      "[Mon Nov 21 22:34:57 2022] [::1]:56956 [200]: GET /auth/login\n",
      "[Mon Nov 21 22:34:57 2022] [::1]:56956 Closing\n",
      "[Mon Nov 21 22:34:57 2022] [::1]:56970 Accepted\n"
     ]
    },
    {
     "name": "stdout",
     "output_type": "stream",
     "text": [
      "\r",
      "\u001b[31;1m✖\u001b[39;22m \u001b[35;1mTest14_LoginLogoutSeeHiddenContentCest:\u001b[39;22m See hidden content after login \u001b[32m(0.50s)\u001b[39m\r\n",
      "--------------------------------------------------------------------------------\r\n",
      "Time: 00:04.009, Memory: 12.00 MB\r\n",
      "\r\n",
      "There were 2 failures:\r\n",
      "1) \u001b[35;1mTest13_LoginNotConfirmedCest:\u001b[39;22m Be remained about email confirmation when trying to login\r\n",
      "\u001b[37;41;1m Test  \u001b[39;49;22mtests/Acceptance/Test13_LoginNotConfirmedCest.php:test\r\n",
      "\u001b[37;41;1m Step \u001b[39;49;22m See current url equals \"/auth/confirmation_notice\"\r\n",
      "\u001b[37;41;1m Fail \u001b[39;49;22m Failed asserting that two strings are identical.\r\n",
      "\u001b[33m- Expected\u001b[39m | \u001b[32m+ Actual\u001b[39m\r\n",
      "@@ @@\r\n",
      "\u001b[33m-'/auth/confirmation_notice'\u001b[39m\r\n",
      "\u001b[32m+''\u001b[39m\r\n",
      "\u001b[33m\r\n",
      "Scenario Steps:\r\n",
      "\u001b[39m\r\n",
      "\u001b[1m 8. $I->seeCurrentUrlEquals(\"/auth/confirmation_notice\")\u001b[22m at \u001b[32mtests/Acceptance/Test13_LoginNotConfirmedCest.php:42\u001b[39m\r\n",
      " 7. $I->click(\"Enter\") at \u001b[32mtests/Acceptance/Test13_LoginNotConfirmedCest.php:40\u001b[39m\r\n",
      " 6. $I->fillField(\"password\",\"foo\") at \u001b[32mtests/Acceptance/Test13_LoginNotConfirmedCest.php:38\u001b[39m\r\n",
      " 5. $I->fillField(\"email\",\"dummy@example.com\") at \u001b[32mtests/Acceptance/Test13_LoginNotConfirmedCest.php:37\u001b[39m\r\n",
      " 4. $I->haveInDatabase(\"objects\",{\"key\":\"model_user_1\",\"data\":\"O:10:\"Model\\...}) at \u001b[32mtests/Acceptance/Test13_LoginNotConfirmedCest.php:33\u001b[39m\r\n",
      " 3. $I->see(\"Login\",\"h2\") at \u001b[32mtests/Acceptance/Test13_LoginNotConfirmedCest.php:19\u001b[39m\r\n",
      "\r\n",
      "\u001b[33mArtifacts:\u001b[39m\r\n",
      "\r\n",
      "Html: \u001b[36m/home/student/php_2022_adam_lewinski/07_testing/02_exercise/project/tests/_output/Tests.Acceptance.Test13_LoginNotConfirmedCest.test.fail.html\u001b[39m\r\n",
      "Response: \u001b[36m/home/student/php_2022_adam_lewinski/07_testing/02_exercise/project/tests/_output/Tests.Acceptance.Test13_LoginNotConfirmedCest.test.fail.html\u001b[39m\r\n",
      "2) \u001b[35;1mTest14_LoginLogoutSeeHiddenContentCest:\u001b[39;22m See hidden content after login\r\n",
      "\u001b[37;41;1m Test  \u001b[39;49;22mtests/Acceptance/Test14_LoginLogoutSeeHiddenContentCest.php:test\r\n",
      "\u001b[37;41;1m Step \u001b[39;49;22m See \"Welcome back Dummy!\"\r\n",
      "\u001b[37;41;1m Fail \u001b[39;49;22m Failed asserting that on page /\r\n",
      "-->  Homepage Home Demo About Users Welcome on homepage! Login Register \r\n",
      "--> contains \"Welcome back Dummy!\".\r\n",
      "\u001b[33m\r\n",
      "Scenario Steps:\r\n",
      "\u001b[39m\r\n",
      "\u001b[1m 14. $I->see(\"Welcome back Dummy!\")\u001b[22m at \u001b[32mtests/Acceptance/Test14_LoginLogoutSeeHiddenContentCest.php:53\u001b[39m\r\n",
      " 13. $I->seeCurrentUrlEquals(\"/\") at \u001b[32mtests/Acceptance/Test14_LoginLogoutSeeHiddenContentCest.php:52\u001b[39m\r\n",
      " 12. $I->click(\"Enter\") at \u001b[32mtests/Acceptance/Test14_LoginLogoutSeeHiddenContentCest.php:50\u001b[39m\r\n",
      " 11. $I->fillField(\"password\",\"foo\") at \u001b[32mtests/Acceptance/Test14_LoginLogoutSeeHiddenContentCest.php:48\u001b[39m\r\n",
      " 10. $I->fillField(\"email\",\"dummy@example.com\") at \u001b[32mtests/Acceptance/Test14_LoginLogoutSeeHiddenContentCest.php:47\u001b[39m\r\n",
      " 9. $I->see(\"Login\",\"h2\") at \u001b[32mtests/Acceptance/Test14_LoginLogoutSeeHiddenContentCest.php:44\u001b[39m\r\n",
      "\r\n",
      "\u001b[33mArtifacts:\u001b[39m\r\n",
      "\r\n",
      "Html: \u001b[36m/home/student/php_2022_adam_lewinski/07_testing/02_exercise/project/tests/_output/Tests.Acceptance.Test14_LoginLogoutSeeHiddenContentCest.test.fail.html\u001b[39m\r\n",
      "Response: \u001b[36m/home/student/php_2022_adam_lewinski/07_testing/02_exercise/project/tests/_output/Tests.Acceptance.Test14_LoginLogoutSeeHiddenContentCest.test.fail.html\u001b[39m\r\n",
      "\r\n",
      "\u001b[37;41;1mFAILURES!\u001b[39;49;22m\r\n",
      "\u001b[37;41;1mTests: 15, Assertions: 266, Failures: 2.\u001b[39;49;22m\r\n"
     ]
    },
    {
     "name": "stderr",
     "output_type": "stream",
     "text": [
      "[Mon Nov 21 22:34:57 2022] [::1]:56970 [302]: POST /auth/login\n",
      "[Mon Nov 21 22:34:57 2022] [::1]:56970 Closing\n",
      "[Mon Nov 21 22:34:57 2022] [::1]:56976 Accepted\n",
      "[Mon Nov 21 22:34:57 2022] [::1]:56976 [200]: GET /\n",
      "[Mon Nov 21 22:34:57 2022] [::1]:56976 Closing\n"
     ]
    }
   ],
   "source": [
    "! vendor/bin/codecept run Acceptance"
   ]
  },
  {
   "cell_type": "code",
   "execution_count": 105,
   "metadata": {},
   "outputs": [
    {
     "name": "stdout",
     "output_type": "stream",
     "text": [
      "Codeception PHP Testing Framework v5.0.4 https://helpukrainewin.org\n",
      "\n",
      "\u001b[1mTests.Acceptance Tests (15) \u001b[22m----------------------------------------------------\n",
      "\u001b[32;1m✔\u001b[39;22m \u001b[35;1mTest00_PrettyUrlCest:\u001b[39;22m Test \u001b[32m(0.12s)\u001b[39m\n",
      "\u001b[32;1m✔\u001b[39;22m \u001b[35;1mTest01_FileStorageCest:\u001b[39;22m Test \u001b[32m(0.03s)\u001b[39m\n",
      "- \u001b[35;1mTest02_SessionStorageCest:\u001b[39;22m Test\r"
     ]
    },
    {
     "name": "stderr",
     "output_type": "stream",
     "text": [
      "[Mon Nov 21 22:34:58 2022] [::1]:56984 Accepted\n",
      "[Mon Nov 21 22:34:58 2022] [::1]:56984 [200]: GET /\n",
      "[Mon Nov 21 22:34:58 2022] [::1]:56984 Closing\n",
      "[Mon Nov 21 22:34:58 2022] [::1]:56990 Accepted\n",
      "[Mon Nov 21 22:34:58 2022] [::1]:56990 [200]: GET /home\n",
      "[Mon Nov 21 22:34:58 2022] [::1]:56990 Closing\n",
      "[Mon Nov 21 22:34:58 2022] [::1]:56992 Accepted\n",
      "[Mon Nov 21 22:34:58 2022] [::1]:56992 [200]: GET /about\n",
      "[Mon Nov 21 22:34:58 2022] [::1]:56992 Closing\n",
      "[Mon Nov 21 22:34:58 2022] [::1]:57008 Accepted\n",
      "[Mon Nov 21 22:34:58 2022] [::1]:57008 [200]: GET /users\n",
      "[Mon Nov 21 22:34:58 2022] [::1]:57008 Closing\n",
      "[Mon Nov 21 22:34:58 2022] [::1]:57018 Accepted\n",
      "[Mon Nov 21 22:34:58 2022] [::1]:57018 [200]: GET /users/1\n",
      "[Mon Nov 21 22:34:58 2022] [::1]:57018 Closing\n",
      "[Mon Nov 21 22:34:58 2022] [::1]:57028 Accepted\n",
      "[Mon Nov 21 22:34:58 2022] [::1]:57028 [200]: GET /users\n",
      "[Mon Nov 21 22:34:58 2022] [::1]:57028 Closing\n",
      "[Mon Nov 21 22:34:58 2022] [::1]:57030 Accepted\n",
      "[Mon Nov 21 22:34:58 2022] [::1]:57030 [200]: GET /users/2\n",
      "[Mon Nov 21 22:34:58 2022] [::1]:57030 Closing\n",
      "[Mon Nov 21 22:34:58 2022] [::1]:57044 Accepted\n",
      "[Mon Nov 21 22:34:58 2022] [::1]:57044 [200]: GET /users\n",
      "[Mon Nov 21 22:34:58 2022] [::1]:57044 Closing\n",
      "[Mon Nov 21 22:34:58 2022] [::1]:57048 Accepted\n",
      "[Mon Nov 21 22:34:58 2022] [::1]:57048 [200]: GET /users/3\n",
      "[Mon Nov 21 22:34:58 2022] [::1]:57048 Closing\n",
      "[Mon Nov 21 22:34:58 2022] [::1]:57060 Accepted\n",
      "[Mon Nov 21 22:34:58 2022] [::1]:57060 [200]: GET /demo/file\n",
      "[Mon Nov 21 22:34:58 2022] [::1]:57060 Closing\n",
      "[Mon Nov 21 22:34:58 2022] [::1]:57076 Accepted\n",
      "[Mon Nov 21 22:34:58 2022] [::1]:57076 [200]: GET /demo/session\n",
      "[Mon Nov 21 22:34:58 2022] [::1]:57076 Closing\n",
      "[Mon Nov 21 22:34:58 2022] [::1]:57090 Accepted\n"
     ]
    },
    {
     "name": "stdout",
     "output_type": "stream",
     "text": [
      "\u001b[32;1m✔\u001b[39;22m \u001b[35;1mTest02_SessionStorageCest:\u001b[39;22m Test \u001b[32m(0.02s)\u001b[39m\n",
      "\u001b[32;1m✔\u001b[39;22m \u001b[35;1mTest03_SQLiteStorageCest:\u001b[39;22m Test \u001b[32m(0.12s)\u001b[39m\n",
      "- \u001b[35;1mTest04_MySQLStorageCest:\u001b[39;22m Test"
     ]
    },
    {
     "name": "stderr",
     "output_type": "stream",
     "text": [
      "[Mon Nov 21 22:34:58 2022] [::1]:57090 [200]: GET /demo/sqlite\n",
      "[Mon Nov 21 22:34:58 2022] [::1]:57090 Closing\n",
      "[Mon Nov 21 22:34:58 2022] [::1]:57094 Accepted\n"
     ]
    },
    {
     "name": "stdout",
     "output_type": "stream",
     "text": [
      "\r",
      "\u001b[32;1m✔\u001b[39;22m \u001b[35;1mTest04_MySQLStorageCest:\u001b[39;22m Test \u001b[32m(0.33s)\u001b[39m\r\n",
      "- \u001b[35;1mTest05_RedisStorageCest:\u001b[39;22m Test"
     ]
    },
    {
     "name": "stderr",
     "output_type": "stream",
     "text": [
      "[Mon Nov 21 22:34:58 2022] [::1]:57094 [200]: GET /demo/mysql\n",
      "[Mon Nov 21 22:34:58 2022] [::1]:57094 Closing\n",
      "[Mon Nov 21 22:34:58 2022] [::1]:57108 Accepted\n",
      "[Mon Nov 21 22:34:58 2022] [::1]:57108 [200]: GET /demo/mysql\n",
      "[Mon Nov 21 22:34:58 2022] [::1]:57108 Closing\n",
      "[Mon Nov 21 22:34:58 2022] [::1]:57116 Accepted\n",
      "[Mon Nov 21 22:34:58 2022] [::1]:57116 [200]: GET /demo/redis\n",
      "[Mon Nov 21 22:34:58 2022] [::1]:57116 Closing\n"
     ]
    },
    {
     "name": "stdout",
     "output_type": "stream",
     "text": [
      "\u001b[32;1m✔\u001b[39;22m \u001b[35;1mTest05_RedisStorageCest:\u001b[39;22m Test \u001b[32m(0.03s)\u001b[39m\n",
      "\u001b[32;1m✔\u001b[39;22m \u001b[35;1mTest06_HomepageCest:\u001b[39;22m See login and register links \u001b[32m(0.11s)\u001b[39m\n",
      "- \u001b[35;1mTest07_RegisterCest:\u001b[39;22m Register new user"
     ]
    },
    {
     "name": "stderr",
     "output_type": "stream",
     "text": [
      "[Mon Nov 21 22:34:59 2022] [::1]:57120 Accepted\n",
      "[Mon Nov 21 22:34:59 2022] [::1]:57120 [200]: GET /\n",
      "[Mon Nov 21 22:34:59 2022] [::1]:57120 Closing\n",
      "[Mon Nov 21 22:34:59 2022] [::1]:57126 Accepted\n",
      "[Mon Nov 21 22:34:59 2022] [::1]:57126 [200]: GET /home\n",
      "[Mon Nov 21 22:34:59 2022] [::1]:57126 Closing\n",
      "[Mon Nov 21 22:34:59 2022] [::1]:57130 Accepted\n",
      "[Mon Nov 21 22:34:59 2022] [::1]:57130 [200]: GET /\n",
      "[Mon Nov 21 22:34:59 2022] [::1]:57130 Closing\n",
      "[Mon Nov 21 22:34:59 2022] [::1]:57134 Accepted\n",
      "[Mon Nov 21 22:34:59 2022] [::1]:57134 [200]: GET /auth/register\n",
      "[Mon Nov 21 22:34:59 2022] [::1]:57134 Closing\n",
      "[Mon Nov 21 22:34:59 2022] [::1]:57150 Accepted\n"
     ]
    },
    {
     "name": "stdout",
     "output_type": "stream",
     "text": [
      "\r",
      "\u001b[32;1m✔\u001b[39;22m \u001b[35;1mTest07_RegisterCest:\u001b[39;22m Register new user \u001b[32m(0.45s)\u001b[39m\r\n",
      "- \u001b[35;1mTest08_RegisterValidationCest:\u001b[39;22m Validate data entered during registration"
     ]
    },
    {
     "name": "stderr",
     "output_type": "stream",
     "text": [
      "[Mon Nov 21 22:34:59 2022] [::1]:57150 [302]: POST /auth/register\n",
      "[Mon Nov 21 22:34:59 2022] [::1]:57150 Closing\n",
      "[Mon Nov 21 22:34:59 2022] [::1]:57154 Accepted\n",
      "[Mon Nov 21 22:34:59 2022] [::1]:57154 [200]: GET /auth/confirmation_notice\n",
      "[Mon Nov 21 22:34:59 2022] [::1]:57154 Closing\n"
     ]
    },
    {
     "name": "stdout",
     "output_type": "stream",
     "text": [
      "\r",
      "\u001b[32;1m✔\u001b[39;22m \u001b[35;1mTest08_RegisterValidationCest:\u001b[39;22m Validate data entered during registration \u001b[32m(0.13s)\u001b[39m\r\n",
      "- \u001b[35;1mTest09_RegisterRememberFieldsCest:\u001b[39;22m Remember data entered during registration when validation error is present"
     ]
    },
    {
     "name": "stderr",
     "output_type": "stream",
     "text": [
      "[Mon Nov 21 22:34:59 2022] [::1]:57168 Accepted\n",
      "[Mon Nov 21 22:34:59 2022] [::1]:57168 [200]: GET /auth/register\n",
      "[Mon Nov 21 22:34:59 2022] [::1]:57168 Closing\n",
      "[Mon Nov 21 22:34:59 2022] [::1]:57170 Accepted\n",
      "[Mon Nov 21 22:34:59 2022] [::1]:57170 [200]: POST /auth/register\n",
      "[Mon Nov 21 22:34:59 2022] [::1]:57170 Closing\n",
      "[Mon Nov 21 22:34:59 2022] [::1]:57180 Accepted\n",
      "[Mon Nov 21 22:34:59 2022] [::1]:57180 [200]: POST /auth/register\n",
      "[Mon Nov 21 22:34:59 2022] [::1]:57180 Closing\n",
      "[Mon Nov 21 22:34:59 2022] [::1]:57194 Accepted\n",
      "[Mon Nov 21 22:34:59 2022] [::1]:57194 [200]: GET /auth/register\n",
      "[Mon Nov 21 22:34:59 2022] [::1]:57194 Closing\n",
      "[Mon Nov 21 22:34:59 2022] [::1]:57200 Accepted\n",
      "[Mon Nov 21 22:34:59 2022] [::1]:57200 [200]: POST /auth/register\n",
      "[Mon Nov 21 22:34:59 2022] [::1]:57200 Closing\n",
      "[Mon Nov 21 22:34:59 2022] [::1]:57214 Accepted\n",
      "[Mon Nov 21 22:34:59 2022] [::1]:57214 [200]: POST /auth/register\n",
      "[Mon Nov 21 22:34:59 2022] [::1]:57214 Closing\n",
      "[Mon Nov 21 22:34:59 2022] [::1]:57226 Accepted\n",
      "[Mon Nov 21 22:34:59 2022] [::1]:57226 [200]: POST /auth/register\n",
      "[Mon Nov 21 22:34:59 2022] [::1]:57226 Closing\n"
     ]
    },
    {
     "name": "stdout",
     "output_type": "stream",
     "text": [
      "\r",
      "\u001b[32;1m✔\u001b[39;22m \u001b[35;1mTest09_RegisterRememberFieldsCest:\u001b[39;22m Remember data entered during registration when validation error is present \u001b[32m(0.24s)\u001b[39m\r\n",
      "- \u001b[35;1mTest10_RegisterConfirmCest:\u001b[39;22m Confirm user using link"
     ]
    },
    {
     "name": "stderr",
     "output_type": "stream",
     "text": [
      "[Mon Nov 21 22:34:59 2022] [::1]:57234 Accepted\n",
      "[Mon Nov 21 22:34:59 2022] [::1]:57234 [200]: POST /auth/register\n",
      "[Mon Nov 21 22:34:59 2022] [::1]:57234 Closing\n",
      "[Mon Nov 21 22:34:59 2022] [::1]:57236 Accepted\n",
      "[Mon Nov 21 22:34:59 2022] [::1]:57236 [200]: POST /auth/register\n",
      "[Mon Nov 21 22:34:59 2022] [::1]:57236 Closing\n",
      "[Mon Nov 21 22:34:59 2022] [::1]:57240 Accepted\n",
      "[Mon Nov 21 22:34:59 2022] [::1]:57240 [200]: GET /auth/register\n",
      "[Mon Nov 21 22:34:59 2022] [::1]:57240 Closing\n"
     ]
    },
    {
     "name": "stdout",
     "output_type": "stream",
     "text": [
      "\r",
      "\u001b[32;1m✔\u001b[39;22m \u001b[35;1mTest10_RegisterConfirmCest:\u001b[39;22m Check that info disappears after page refresh \u001b[32m(0.33s)\u001b[39m\r\n",
      "- \u001b[35;1mTest11_LoginNotExistingCest:\u001b[39;22m See error when user does not exists"
     ]
    },
    {
     "name": "stderr",
     "output_type": "stream",
     "text": [
      "[Mon Nov 21 22:35:00 2022] [::1]:57242 Accepted\n",
      "[Mon Nov 21 22:35:00 2022] [::1]:57242 [302]: GET /auth/confirm/ThisIsAnInvalidEmailConfirmationToken\n",
      "[Mon Nov 21 22:35:00 2022] [::1]:57242 Closing\n",
      "[Mon Nov 21 22:35:00 2022] [::1]:57252 Accepted\n",
      "[Mon Nov 21 22:35:00 2022] [::1]:57252 [200]: GET /\n",
      "[Mon Nov 21 22:35:00 2022] [::1]:57252 Closing\n",
      "[Mon Nov 21 22:35:00 2022] [::1]:57264 Accepted\n",
      "[Mon Nov 21 22:35:00 2022] [::1]:57264 [200]: GET /\n",
      "[Mon Nov 21 22:35:00 2022] [::1]:57264 Closing\n",
      "[Mon Nov 21 22:35:00 2022] [::1]:57268 Accepted\n",
      "[Mon Nov 21 22:35:00 2022] [::1]:57268 [302]: GET /auth/confirm/8caf6ec1cab297baea900bede0c5aba7\n",
      "[Mon Nov 21 22:35:00 2022] [::1]:57268 Closing\n",
      "[Mon Nov 21 22:35:00 2022] [::1]:57276 Accepted\n",
      "[Mon Nov 21 22:35:00 2022] [::1]:57276 [200]: GET /\n",
      "[Mon Nov 21 22:35:00 2022] [::1]:57276 Closing\n",
      "[Mon Nov 21 22:35:00 2022] [::1]:57280 Accepted\n",
      "[Mon Nov 21 22:35:00 2022] [::1]:57280 [200]: GET /\n",
      "[Mon Nov 21 22:35:00 2022] [::1]:57280 Closing\n",
      "[Mon Nov 21 22:35:00 2022] [::1]:57290 Accepted\n",
      "[Mon Nov 21 22:35:00 2022] [::1]:57290 [200]: GET /auth/login\n",
      "[Mon Nov 21 22:35:00 2022] [::1]:57290 Closing\n",
      "[Mon Nov 21 22:35:00 2022] [::1]:57298 Accepted\n",
      "[Mon Nov 21 22:35:00 2022] [::1]:57298 [302]: POST /auth/login\n",
      "[Mon Nov 21 22:35:00 2022] [::1]:57298 Closing\n",
      "[Mon Nov 21 22:35:00 2022] [::1]:57312 Accepted\n",
      "[Mon Nov 21 22:35:00 2022] [::1]:57312 [200]: GET /\n",
      "[Mon Nov 21 22:35:00 2022] [::1]:57312 Closing\n"
     ]
    },
    {
     "name": "stdout",
     "output_type": "stream",
     "text": [
      "\r",
      "\u001b[32;1m✔\u001b[39;22m \u001b[35;1mTest11_LoginNotExistingCest:\u001b[39;22m See error when user does not exists \u001b[32m(0.10s)\u001b[39m\r\n",
      "- \u001b[35;1mTest12_LoginWrongPasswordCest:\u001b[39;22m See error when wrong password is entered"
     ]
    },
    {
     "name": "stderr",
     "output_type": "stream",
     "text": [
      "[Mon Nov 21 22:35:00 2022] [::1]:57328 Accepted\n",
      "[Mon Nov 21 22:35:00 2022] [::1]:57328 [200]: GET /auth/login\n",
      "[Mon Nov 21 22:35:00 2022] [::1]:57328 Closing\n",
      "[Mon Nov 21 22:35:00 2022] [::1]:57334 Accepted\n"
     ]
    },
    {
     "name": "stdout",
     "output_type": "stream",
     "text": [
      "\r",
      "\u001b[32;1m✔\u001b[39;22m \u001b[35;1mTest12_LoginWrongPasswordCest:\u001b[39;22m See error when wrong password is entered \u001b[32m(0.46s)\u001b[39m\r\n",
      "- \u001b[35;1mTest13_LoginNotConfirmedCest:\u001b[39;22m Be remained about email confirmation when trying to login"
     ]
    },
    {
     "name": "stderr",
     "output_type": "stream",
     "text": [
      "[Mon Nov 21 22:35:00 2022] [::1]:57334 [200]: POST /auth/login\n",
      "[Mon Nov 21 22:35:00 2022] [::1]:57334 Closing\n",
      "[Mon Nov 21 22:35:00 2022] [::1]:57348 Accepted\n",
      "[Mon Nov 21 22:35:00 2022] [::1]:57348 [200]: GET /auth/login\n",
      "[Mon Nov 21 22:35:00 2022] [::1]:57348 Closing\n",
      "[Mon Nov 21 22:35:01 2022] [::1]:57358 Accepted\n",
      "[Mon Nov 21 22:35:01 2022] [::1]:57358 [302]: POST /auth/login\n",
      "[Mon Nov 21 22:35:01 2022] [::1]:57358 Closing\n",
      "[Mon Nov 21 22:35:01 2022] [::1]:57374 Accepted\n",
      "[Mon Nov 21 22:35:01 2022] [::1]:57374 [200]: GET /\n",
      "[Mon Nov 21 22:35:01 2022] [::1]:57374 Closing\n"
     ]
    },
    {
     "name": "stdout",
     "output_type": "stream",
     "text": [
      "\r",
      "\u001b[31;1m✖\u001b[39;22m \u001b[35;1mTest13_LoginNotConfirmedCest:\u001b[39;22m Be remained about email confirmation when trying to login \u001b[32m(0.42s)\u001b[39m\r\n",
      "- \u001b[35;1mTest14_LoginLogoutSeeHiddenContentCest:\u001b[39;22m See hidden content after login"
     ]
    },
    {
     "name": "stderr",
     "output_type": "stream",
     "text": [
      "[Mon Nov 21 22:35:01 2022] [::1]:57382 Accepted\n",
      "[Mon Nov 21 22:35:01 2022] [::1]:57382 [200]: GET /\n",
      "[Mon Nov 21 22:35:01 2022] [::1]:57382 Closing\n",
      "[Mon Nov 21 22:35:01 2022] [::1]:57396 Accepted\n",
      "[Mon Nov 21 22:35:01 2022] [::1]:57396 [200]: GET /auth/login\n",
      "[Mon Nov 21 22:35:01 2022] [::1]:57396 Closing\n",
      "[Mon Nov 21 22:35:01 2022] [::1]:57400 Accepted\n",
      "[Mon Nov 21 22:35:01 2022] [::1]:57400 [302]: POST /auth/login\n",
      "[Mon Nov 21 22:35:01 2022] [::1]:57400 Closing\n"
     ]
    },
    {
     "name": "stdout",
     "output_type": "stream",
     "text": [
      "\r",
      "\u001b[31;1m✖\u001b[39;22m \u001b[35;1mTest14_LoginLogoutSeeHiddenContentCest:\u001b[39;22m See hidden content after login \u001b[32m(0.47s)\u001b[39m\r\n",
      "--------------------------------------------------------------------------------\r\n",
      "Time: 00:03.595, Memory: 12.00 MB\r\n",
      "\r\n",
      "There were 2 failures:\r\n",
      "1) \u001b[35;1mTest13_LoginNotConfirmedCest:\u001b[39;22m Be remained about email confirmation when trying to login\r\n",
      "\u001b[37;41;1m Test  \u001b[39;49;22mtests/Acceptance/Test13_LoginNotConfirmedCest.php:test\r\n",
      "\u001b[37;41;1m Step \u001b[39;49;22m See current url equals \"/auth/confirmation_notice\"\r\n",
      "\u001b[37;41;1m Fail \u001b[39;49;22m Failed asserting that two strings are identical.\r\n",
      "\u001b[33m- Expected\u001b[39m | \u001b[32m+ Actual\u001b[39m\r\n",
      "@@ @@\r\n",
      "\u001b[33m-'/auth/confirmation_notice'\u001b[39m\r\n",
      "\u001b[32m+''\u001b[39m\r\n",
      "\u001b[33m\r\n",
      "Scenario Steps:\r\n",
      "\u001b[39m\r\n",
      "\u001b[1m 8. $I->seeCurrentUrlEquals(\"/auth/confirmation_notice\")\u001b[22m at \u001b[32mtests/Acceptance/Test13_LoginNotConfirmedCest.php:42\u001b[39m\r\n",
      " 7. $I->click(\"Enter\") at \u001b[32mtests/Acceptance/Test13_LoginNotConfirmedCest.php:40\u001b[39m\r\n",
      " 6. $I->fillField(\"password\",\"foo\") at \u001b[32mtests/Acceptance/Test13_LoginNotConfirmedCest.php:38\u001b[39m\r\n",
      " 5. $I->fillField(\"email\",\"dummy@example.com\") at \u001b[32mtests/Acceptance/Test13_LoginNotConfirmedCest.php:37\u001b[39m\r\n",
      " 4. $I->haveInDatabase(\"objects\",{\"key\":\"model_user_1\",\"data\":\"O:10:\"Model\\...}) at \u001b[32mtests/Acceptance/Test13_LoginNotConfirmedCest.php:33\u001b[39m\r\n",
      " 3. $I->see(\"Login\",\"h2\") at \u001b[32mtests/Acceptance/Test13_LoginNotConfirmedCest.php:19\u001b[39m\r\n",
      "\r\n",
      "\u001b[33mArtifacts:\u001b[39m\r\n",
      "\r\n",
      "Html: \u001b[36m/home/student/php_2022_adam_lewinski/07_testing/02_exercise/project/tests/_output/Tests.Acceptance.Test13_LoginNotConfirmedCest.test.fail.html\u001b[39m\r\n",
      "Response: \u001b[36m/home/student/php_2022_adam_lewinski/07_testing/02_exercise/project/tests/_output/Tests.Acceptance.Test13_LoginNotConfirmedCest.test.fail.html\u001b[39m\r\n",
      "2) \u001b[35;1mTest14_LoginLogoutSeeHiddenContentCest:\u001b[39;22m See hidden content after login\r\n",
      "\u001b[37;41;1m Test  \u001b[39;49;22mtests/Acceptance/Test14_LoginLogoutSeeHiddenContentCest.php:test\r\n",
      "\u001b[37;41;1m Step \u001b[39;49;22m See \"Welcome back Dummy!\"\r\n",
      "\u001b[37;41;1m Fail \u001b[39;49;22m Failed asserting that on page /\r\n",
      "-->  Homepage Home Demo About Users Welcome on homepage! Login Register \r\n",
      "--> contains \"Welcome back Dummy!\".\r\n",
      "\u001b[33m\r\n",
      "Scenario Steps:\r\n",
      "\u001b[39m\r\n",
      "\u001b[1m 14. $I->see(\"Welcome back Dummy!\")\u001b[22m at \u001b[32mtests/Acceptance/Test14_LoginLogoutSeeHiddenContentCest.php:53\u001b[39m\r\n",
      " 13. $I->seeCurrentUrlEquals(\"/\") at \u001b[32mtests/Acceptance/Test14_LoginLogoutSeeHiddenContentCest.php:52\u001b[39m\r\n",
      " 12. $I->click(\"Enter\") at \u001b[32mtests/Acceptance/Test14_LoginLogoutSeeHiddenContentCest.php:50\u001b[39m\r\n",
      " 11. $I->fillField(\"password\",\"foo\") at \u001b[32mtests/Acceptance/Test14_LoginLogoutSeeHiddenContentCest.php:48\u001b[39m\r\n",
      " 10. $I->fillField(\"email\",\"dummy@example.com\") at \u001b[32mtests/Acceptance/Test14_LoginLogoutSeeHiddenContentCest.php:47\u001b[39m\r\n",
      " 9. $I->see(\"Login\",\"h2\") at \u001b[32mtests/Acceptance/Test14_LoginLogoutSeeHiddenContentCest.php:44\u001b[39m\r\n",
      "\r\n",
      "\u001b[33mArtifacts:\u001b[39m\r\n",
      "\r\n",
      "Html: \u001b[36m/home/student/php_2022_adam_lewinski/07_testing/02_exercise/project/tests/_output/Tests.Acceptance.Test14_LoginLogoutSeeHiddenContentCest.test.fail.html\u001b[39m\r\n",
      "Response: \u001b[36m/home/student/php_2022_adam_lewinski/07_testing/02_exercise/project/tests/_output/Tests.Acceptance.Test14_LoginLogoutSeeHiddenContentCest.test.fail.html\u001b[39m\r\n",
      "\r\n",
      "\u001b[37;41;1mFAILURES!\u001b[39;49;22m\r\n",
      "\u001b[37;41;1mTests: 15, Assertions: 266, Failures: 2.\u001b[39;49;22m\r\n",
      "- \u001b[1mJUNIT XML\u001b[22m report generated in \u001b[33mfile:///home/student/php_2022_adam_lewinski/07_testing/02_exercise/project/tests/_output/test_report.xml\u001b[39m\r\n"
     ]
    },
    {
     "name": "stderr",
     "output_type": "stream",
     "text": [
      "[Mon Nov 21 22:35:01 2022] [::1]:57408 Accepted\n",
      "[Mon Nov 21 22:35:01 2022] [::1]:57408 [200]: GET /\n",
      "[Mon Nov 21 22:35:01 2022] [::1]:57408 Closing\n"
     ]
    }
   ],
   "source": [
    "! vendor/bin/codecept run Acceptance --xml test_report.xml"
   ]
  },
  {
   "cell_type": "code",
   "execution_count": 106,
   "metadata": {},
   "outputs": [],
   "source": [
    "phpServer.kill()"
   ]
  },
  {
   "cell_type": "code",
   "execution_count": 107,
   "metadata": {},
   "outputs": [
    {
     "name": "stdout",
     "output_type": "stream",
     "text": [
      "/home/student/php_2022_adam_lewinski/07_testing/02_exercise\n"
     ]
    }
   ],
   "source": [
    "%cd ../"
   ]
  },
  {
   "cell_type": "markdown",
   "metadata": {},
   "source": [
    "Stop the databses:"
   ]
  },
  {
   "cell_type": "code",
   "execution_count": null,
   "metadata": {},
   "outputs": [],
   "source": [
    "! docker container stop redis"
   ]
  },
  {
   "cell_type": "code",
   "execution_count": null,
   "metadata": {},
   "outputs": [],
   "source": [
    "! docker container stop mysql"
   ]
  }
 ],
 "metadata": {
  "kernelspec": {
   "display_name": "Python 3 (ipykernel)",
   "language": "python",
   "name": "python3"
  },
  "language_info": {
   "codemirror_mode": {
    "name": "ipython",
    "version": 3
   },
   "file_extension": ".py",
   "mimetype": "text/x-python",
   "name": "python",
   "nbconvert_exporter": "python",
   "pygments_lexer": "ipython3",
   "version": "3.10.6"
  }
 },
 "nbformat": 4,
 "nbformat_minor": 4
}
