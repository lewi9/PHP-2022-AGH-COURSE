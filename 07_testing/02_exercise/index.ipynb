{
 "cells": [
  {
   "cell_type": "markdown",
   "metadata": {},
   "source": [
    "# PHP 2022"
   ]
  },
  {
   "cell_type": "markdown",
   "metadata": {},
   "source": [
    "## 7. Testing"
   ]
  },
  {
   "cell_type": "markdown",
   "metadata": {},
   "source": [
    "### 7.2 Exercise"
   ]
  },
  {
   "cell_type": "markdown",
   "metadata": {},
   "source": [
    "Implment missing code."
   ]
  },
  {
   "cell_type": "markdown",
   "metadata": {},
   "source": [
    "Start the databses:"
   ]
  },
  {
   "cell_type": "code",
   "execution_count": 1,
   "metadata": {},
   "outputs": [
    {
     "name": "stdout",
     "output_type": "stream",
     "text": [
      "2f368ff7f00acd95fea7ec283bd9110e954e646692f85f4bd0daee08356b0bd3\r\n"
     ]
    }
   ],
   "source": [
    "! docker run --net=host --rm --name redis -d redis"
   ]
  },
  {
   "cell_type": "code",
   "execution_count": 2,
   "metadata": {},
   "outputs": [
    {
     "name": "stdout",
     "output_type": "stream",
     "text": [
      "dc24693c41d3c91cbf2e691a574b753b65c43c2d69cb7c51d1021a6553ca21f5\r\n"
     ]
    }
   ],
   "source": [
    "! docker run --name=mysql --net=host --rm --env MYSQL_ROOT_PASSWORD=root123 --env MYSQL_DATABASE=test --env MYSQL_USER=test --env MYSQL_PASSWORD=test123 -d mysql/mysql-server:8.0"
   ]
  },
  {
   "cell_type": "code",
   "execution_count": 3,
   "metadata": {},
   "outputs": [
    {
     "name": "stdout",
     "output_type": "stream",
     "text": [
      "Done.\r\n"
     ]
    }
   ],
   "source": [
    "! while ! timeout 1 bash -c \"echo > /dev/tcp/localhost/6379\" 2> /dev/null; do sleep 1; done; echo \"Done.\";"
   ]
  },
  {
   "cell_type": "code",
   "execution_count": 4,
   "metadata": {},
   "outputs": [
    {
     "name": "stdout",
     "output_type": "stream",
     "text": [
      "Done.\r\n"
     ]
    }
   ],
   "source": [
    "! while ! timeout 1 bash -c \"echo > /dev/tcp/localhost/3306\" 2> /dev/null; do sleep 1; done; echo \"Done.\";"
   ]
  },
  {
   "cell_type": "markdown",
   "metadata": {},
   "source": [
    "Edit the code:"
   ]
  },
  {
   "cell_type": "code",
   "execution_count": null,
   "metadata": {},
   "outputs": [
    {
     "name": "stdout",
     "output_type": "stream",
     "text": [
      "CompileCommand: exclude com/intellij/openapi/vfs/impl/FilePartNodeRoot.trieDescend bool exclude = true\n",
      "2022-11-21 22:47:37,315 [   2178] SEVERE - #c.i.d.LoadingState - Should be called at least in the state COMPONENTS_LOADED, the current state is: CONFIGURATION_STORE_INITIALIZED\n",
      "Current violators count: 1\n",
      "\n",
      "\n",
      "java.lang.Throwable\n",
      "\tat com.intellij.diagnostic.LoadingState.logStateError(LoadingState.java:52)\n",
      "\tat com.intellij.diagnostic.LoadingState.checkOccurred(LoadingState.java:48)\n",
      "\tat com.intellij.openapi.actionSystem.impl.ActionManagerImpl.<init>(ActionManagerImpl.java:133)\n",
      "\tat com.jetbrains.rdserver.ui.actionPopupMenu.BackendActionManager.<init>(BackendActionManager.kt:17)\n",
      "\tat java.base/jdk.internal.reflect.NativeConstructorAccessorImpl.newInstance0(Native Method)\n",
      "\tat java.base/jdk.internal.reflect.NativeConstructorAccessorImpl.newInstance(NativeConstructorAccessorImpl.java:77)\n",
      "\tat java.base/jdk.internal.reflect.DelegatingConstructorAccessorImpl.newInstance(DelegatingConstructorAccessorImpl.java:45)\n",
      "\tat java.base/java.lang.reflect.Constructor.newInstanceWithCaller(Constructor.java:499)\n",
      "\tat java.base/java.lang.reflect.Constructor.newInstance(Constructor.java:480)\n",
      "\tat com.intellij.serviceContainer.ConstructorInjectionKt.instantiateUsingPicoContainer(constructorInjection.kt:47)\n",
      "\tat com.intellij.serviceContainer.ComponentManagerImpl.instantiateClassWithConstructorInjection(ComponentManagerImpl.kt:890)\n",
      "\tat com.intellij.serviceContainer.ServiceComponentAdapter.createAndInitialize(ServiceComponentAdapter.kt:51)\n",
      "\tat com.intellij.serviceContainer.ServiceComponentAdapter.doCreateInstance(ServiceComponentAdapter.kt:41)\n",
      "\tat com.intellij.serviceContainer.BaseComponentAdapter.getInstanceUncached(BaseComponentAdapter.kt:119)\n",
      "\tat com.intellij.serviceContainer.BaseComponentAdapter.getInstance(BaseComponentAdapter.kt:73)\n",
      "\tat com.intellij.serviceContainer.BaseComponentAdapter.getInstance$default(BaseComponentAdapter.kt:66)\n",
      "\tat com.intellij.serviceContainer.ComponentManagerImpl.doGetService(ComponentManagerImpl.kt:609)\n",
      "\tat com.intellij.serviceContainer.ComponentManagerImpl.getService(ComponentManagerImpl.kt:583)\n",
      "\tat com.intellij.openapi.client.ClientAwareComponentManager.getFromSelfOrCurrentSession(ClientAwareComponentManager.kt:37)\n",
      "\tat com.intellij.openapi.client.ClientAwareComponentManager.getService(ClientAwareComponentManager.kt:22)\n",
      "\tat com.intellij.openapi.actionSystem.ActionManager.getInstance(ActionManager.java:29)\n",
      "\tat com.intellij.help.impl.KeymapGenerator.<clinit>(KeymapGenerator.java:33)\n",
      "\tat java.base/jdk.internal.misc.Unsafe.allocateInstance(Native Method)\n",
      "\tat java.base/java.lang.invoke.DirectMethodHandle.allocateInstance(DirectMethodHandle.java:520)\n",
      "\tat com.intellij.serviceContainer.ComponentManagerImpl.instantiateClass(ComponentManagerImpl.kt:844)\n",
      "\tat com.intellij.openapi.extensions.impl.XmlExtensionAdapter.instantiateClass(XmlExtensionAdapter.kt:79)\n",
      "\tat com.intellij.openapi.extensions.impl.XmlExtensionAdapter$SimpleConstructorInjectionAdapter.instantiateClass(XmlExtensionAdapter.kt:90)\n",
      "\tat com.intellij.openapi.extensions.impl.XmlExtensionAdapter.doCreateInstance(XmlExtensionAdapter.kt:50)\n",
      "\tat com.intellij.openapi.extensions.impl.XmlExtensionAdapter.createInstance(XmlExtensionAdapter.kt:31)\n",
      "\tat com.intellij.openapi.extensions.impl.ExtensionPointImpl.processAdapter(ExtensionPointImpl.java:447)\n",
      "\tat com.intellij.openapi.extensions.impl.ExtensionPointImpl.access$200(ExtensionPointImpl.java:33)\n",
      "\tat com.intellij.openapi.extensions.impl.ExtensionPointImpl$1.next(ExtensionPointImpl.java:355)\n",
      "\tat com.intellij.idea.ApplicationLoader.findAppStarter(ApplicationLoader.kt:595)\n",
      "\tat com.intellij.idea.ApplicationLoader.access$findAppStarter(ApplicationLoader.kt:1)\n",
      "\tat com.intellij.idea.ApplicationLoader$initApplication$block$3.apply(ApplicationLoader.kt:170)\n",
      "\tat com.intellij.idea.ApplicationLoader$initApplication$block$3.apply(ApplicationLoader.kt)\n",
      "\tat java.base/java.util.concurrent.CompletableFuture$UniCompose.tryFire(CompletableFuture.java:1150)\n",
      "\tat java.base/java.util.concurrent.CompletableFuture.postComplete(CompletableFuture.java:510)\n",
      "\tat java.base/java.util.concurrent.CompletableFuture.postFire(CompletableFuture.java:614)\n",
      "\tat java.base/java.util.concurrent.CompletableFuture$UniCompose.tryFire(CompletableFuture.java:1163)\n",
      "\tat java.base/java.util.concurrent.CompletableFuture$Completion.run(CompletableFuture.java:482)\n",
      "\tat com.intellij.idea.ApplicationLoader$initApplication$block$2.execute(ApplicationLoader.kt:142)\n",
      "\tat java.base/java.util.concurrent.CompletableFuture$UniCompletion.claim(CompletableFuture.java:572)\n",
      "\tat java.base/java.util.concurrent.CompletableFuture$UniCompose.tryFire(CompletableFuture.java:1147)\n",
      "\tat java.base/java.util.concurrent.CompletableFuture.postComplete(CompletableFuture.java:510)\n",
      "\tat java.base/java.util.concurrent.CompletableFuture.postFire(CompletableFuture.java:614)\n",
      "\tat java.base/java.util.concurrent.CompletableFuture$UniCompose.tryFire(CompletableFuture.java:1163)\n",
      "\tat java.base/java.util.concurrent.CompletableFuture$Completion.exec(CompletableFuture.java:483)\n",
      "\tat java.base/java.util.concurrent.ForkJoinTask.doExec(ForkJoinTask.java:373)\n",
      "\tat java.base/java.util.concurrent.ForkJoinPool$WorkQueue.topLevelExec(ForkJoinPool.java:1182)\n",
      "\tat java.base/java.util.concurrent.ForkJoinPool.scan(ForkJoinPool.java:1655)\n",
      "\tat java.base/java.util.concurrent.ForkJoinPool.runWorker(ForkJoinPool.java:1622)\n",
      "\tat java.base/java.util.concurrent.ForkJoinWorkerThread.run(ForkJoinWorkerThread.java:165)\n",
      "2022-11-21 22:47:37,329 [   2192] SEVERE - #c.i.d.LoadingState - PhpStorm 2022.2.3  Build #PS-222.4345.15\n",
      "2022-11-21 22:47:37,330 [   2193] SEVERE - #c.i.d.LoadingState - JDK: 17.0.4.1; VM: OpenJDK 64-Bit Server VM; Vendor: JetBrains s.r.o.\n",
      "2022-11-21 22:47:37,332 [   2195] SEVERE - #c.i.d.LoadingState - OS: Linux\n",
      "2022-11-21 22:47:37,949 [   2812] SEVERE - #c.i.d.LoadingState - Should be called at least in the state COMPONENTS_LOADED, the current state is: CONFIGURATION_STORE_INITIALIZED\n",
      "Current violators count: 2\n",
      "\n",
      "\n",
      "java.lang.Throwable\n",
      "\tat com.intellij.diagnostic.LoadingState.logStateError(LoadingState.java:52)\n",
      "\tat com.intellij.diagnostic.LoadingState.checkOccurred(LoadingState.java:48)\n",
      "\tat com.intellij.openapi.util.registry.Registry.getInstance(Registry.java:176)\n",
      "\tat com.intellij.openapi.util.registry.Registry.get(Registry.java:50)\n",
      "\tat com.intellij.openapi.util.registry.Registry.is(Registry.java:63)\n",
      "\tat com.intellij.execution.ExecutorRegistryImpl.isExecutorInMainGroup(ExecutorRegistryImpl.java:195)\n",
      "\tat com.intellij.execution.ExecutorRegistryImpl.initExecutorActions(ExecutorRegistryImpl.java:127)\n",
      "\tat com.intellij.execution.ExecutorRegistryImpl.init(ExecutorRegistryImpl.java:278)\n",
      "\tat com.intellij.execution.ExecutorRegistryImpl$ExecutorRegistryActionConfigurationTuner.customize(ExecutorRegistryImpl.java:92)\n",
      "\tat com.intellij.openapi.actionSystem.impl.ActionManagerImpl.lambda$new$0(ActionManagerImpl.java:141)\n",
      "\tat com.intellij.openapi.extensions.impl.ExtensionProcessingHelper.forEachExtensionSafe(ExtensionProcessingHelper.java:34)\n",
      "\tat com.intellij.openapi.extensions.ExtensionPointName.forEachExtensionSafe(ExtensionPointName.java:46)\n",
      "\tat com.intellij.openapi.actionSystem.impl.ActionManagerImpl.<init>(ActionManagerImpl.java:141)\n",
      "\tat com.jetbrains.rdserver.ui.actionPopupMenu.BackendActionManager.<init>(BackendActionManager.kt:17)\n",
      "\tat java.base/jdk.internal.reflect.NativeConstructorAccessorImpl.newInstance0(Native Method)\n",
      "\tat java.base/jdk.internal.reflect.NativeConstructorAccessorImpl.newInstance(NativeConstructorAccessorImpl.java:77)\n",
      "\tat java.base/jdk.internal.reflect.DelegatingConstructorAccessorImpl.newInstance(DelegatingConstructorAccessorImpl.java:45)\n",
      "\tat java.base/java.lang.reflect.Constructor.newInstanceWithCaller(Constructor.java:499)\n",
      "\tat java.base/java.lang.reflect.Constructor.newInstance(Constructor.java:480)\n",
      "\tat com.intellij.serviceContainer.ConstructorInjectionKt.instantiateUsingPicoContainer(constructorInjection.kt:47)\n",
      "\tat com.intellij.serviceContainer.ComponentManagerImpl.instantiateClassWithConstructorInjection(ComponentManagerImpl.kt:890)\n",
      "\tat com.intellij.serviceContainer.ServiceComponentAdapter.createAndInitialize(ServiceComponentAdapter.kt:51)\n",
      "\tat com.intellij.serviceContainer.ServiceComponentAdapter.doCreateInstance(ServiceComponentAdapter.kt:41)\n",
      "\tat com.intellij.serviceContainer.BaseComponentAdapter.getInstanceUncached(BaseComponentAdapter.kt:119)\n",
      "\tat com.intellij.serviceContainer.BaseComponentAdapter.getInstance(BaseComponentAdapter.kt:73)\n",
      "\tat com.intellij.serviceContainer.BaseComponentAdapter.getInstance$default(BaseComponentAdapter.kt:66)\n",
      "\tat com.intellij.serviceContainer.ComponentManagerImpl.doGetService(ComponentManagerImpl.kt:609)\n",
      "\tat com.intellij.serviceContainer.ComponentManagerImpl.getService(ComponentManagerImpl.kt:583)\n",
      "\tat com.intellij.openapi.client.ClientAwareComponentManager.getFromSelfOrCurrentSession(ClientAwareComponentManager.kt:37)\n",
      "\tat com.intellij.openapi.client.ClientAwareComponentManager.getService(ClientAwareComponentManager.kt:22)\n",
      "\tat com.intellij.openapi.actionSystem.ActionManager.getInstance(ActionManager.java:29)\n",
      "\tat com.intellij.help.impl.KeymapGenerator.<clinit>(KeymapGenerator.java:33)\n",
      "\tat java.base/jdk.internal.misc.Unsafe.allocateInstance(Native Method)\n",
      "\tat java.base/java.lang.invoke.DirectMethodHandle.allocateInstance(DirectMethodHandle.java:520)\n",
      "\tat com.intellij.serviceContainer.ComponentManagerImpl.instantiateClass(ComponentManagerImpl.kt:844)\n",
      "\tat com.intellij.openapi.extensions.impl.XmlExtensionAdapter.instantiateClass(XmlExtensionAdapter.kt:79)\n",
      "\tat com.intellij.openapi.extensions.impl.XmlExtensionAdapter$SimpleConstructorInjectionAdapter.instantiateClass(XmlExtensionAdapter.kt:90)\n",
      "\tat com.intellij.openapi.extensions.impl.XmlExtensionAdapter.doCreateInstance(XmlExtensionAdapter.kt:50)\n",
      "\tat com.intellij.openapi.extensions.impl.XmlExtensionAdapter.createInstance(XmlExtensionAdapter.kt:31)\n",
      "\tat com.intellij.openapi.extensions.impl.ExtensionPointImpl.processAdapter(ExtensionPointImpl.java:447)\n",
      "\tat com.intellij.openapi.extensions.impl.ExtensionPointImpl.access$200(ExtensionPointImpl.java:33)\n",
      "\tat com.intellij.openapi.extensions.impl.ExtensionPointImpl$1.next(ExtensionPointImpl.java:355)\n",
      "\tat com.intellij.idea.ApplicationLoader.findAppStarter(ApplicationLoader.kt:595)\n",
      "\tat com.intellij.idea.ApplicationLoader.access$findAppStarter(ApplicationLoader.kt:1)\n",
      "\tat com.intellij.idea.ApplicationLoader$initApplication$block$3.apply(ApplicationLoader.kt:170)\n",
      "\tat com.intellij.idea.ApplicationLoader$initApplication$block$3.apply(ApplicationLoader.kt)\n",
      "\tat java.base/java.util.concurrent.CompletableFuture$UniCompose.tryFire(CompletableFuture.java:1150)\n",
      "\tat java.base/java.util.concurrent.CompletableFuture.postComplete(CompletableFuture.java:510)\n",
      "\tat java.base/java.util.concurrent.CompletableFuture.postFire(CompletableFuture.java:614)\n",
      "\tat java.base/java.util.concurrent.CompletableFuture$UniCompose.tryFire(CompletableFuture.java:1163)\n",
      "\tat java.base/java.util.concurrent.CompletableFuture$Completion.run(CompletableFuture.java:482)\n",
      "\tat com.intellij.idea.ApplicationLoader$initApplication$block$2.execute(ApplicationLoader.kt:142)\n",
      "\tat java.base/java.util.concurrent.CompletableFuture$UniCompletion.claim(CompletableFuture.java:572)\n",
      "\tat java.base/java.util.concurrent.CompletableFuture$UniCompose.tryFire(CompletableFuture.java:1147)\n",
      "\tat java.base/java.util.concurrent.CompletableFuture.postComplete(CompletableFuture.java:510)\n",
      "\tat java.base/java.util.concurrent.CompletableFuture.postFire(CompletableFuture.java:614)\n",
      "\tat java.base/java.util.concurrent.CompletableFuture$UniCompose.tryFire(CompletableFuture.java:1163)\n",
      "\tat java.base/java.util.concurrent.CompletableFuture$Completion.exec(CompletableFuture.java:483)\n",
      "\tat java.base/java.util.concurrent.ForkJoinTask.doExec(ForkJoinTask.java:373)\n",
      "\tat java.base/java.util.concurrent.ForkJoinPool$WorkQueue.topLevelExec(ForkJoinPool.java:1182)\n",
      "\tat java.base/java.util.concurrent.ForkJoinPool.scan(ForkJoinPool.java:1655)\n",
      "\tat java.base/java.util.concurrent.ForkJoinPool.runWorker(ForkJoinPool.java:1622)\n",
      "\tat java.base/java.util.concurrent.ForkJoinWorkerThread.run(ForkJoinWorkerThread.java:165)\n",
      "2022-11-21 22:47:37,953 [   2816] SEVERE - #c.i.d.LoadingState - PhpStorm 2022.2.3  Build #PS-222.4345.15\n",
      "2022-11-21 22:47:37,954 [   2817] SEVERE - #c.i.d.LoadingState - JDK: 17.0.4.1; VM: OpenJDK 64-Bit Server VM; Vendor: JetBrains s.r.o.\n",
      "2022-11-21 22:47:37,954 [   2817] SEVERE - #c.i.d.LoadingState - OS: Linux\n"
     ]
    },
    {
     "name": "stdout",
     "output_type": "stream",
     "text": [
      "2022-11-21 22:47:37,986 [   2849] SEVERE - #c.i.d.LoadingState - Should be called at least in the state COMPONENTS_LOADED, the current state is: CONFIGURATION_STORE_INITIALIZED\n",
      "Current violators count: 3\n",
      "\n",
      "\n",
      "java.lang.Throwable\n",
      "\tat com.intellij.diagnostic.LoadingState.logStateError(LoadingState.java:52)\n",
      "\tat com.intellij.diagnostic.LoadingState.checkOccurred(LoadingState.java:48)\n",
      "\tat com.intellij.openapi.util.registry.Registry.getInstance(Registry.java:176)\n",
      "\tat com.intellij.openapi.util.registry.Registry.get(Registry.java:50)\n",
      "\tat com.intellij.openapi.util.registry.Registry.is(Registry.java:63)\n",
      "\tat com.intellij.openapi.wm.impl.GlobalMenuLinux._loadLibrary(GlobalMenuLinux.java:797)\n",
      "\tat com.intellij.openapi.wm.impl.GlobalMenuLinux.<clinit>(GlobalMenuLinux.java:164)\n",
      "\tat com.intellij.openapi.wm.impl.GlobalMenuLinux$MyActionTuner.customize(GlobalMenuLinux.java:230)\n",
      "\tat com.intellij.openapi.actionSystem.impl.ActionManagerImpl.lambda$new$0(ActionManagerImpl.java:141)\n",
      "\tat com.intellij.openapi.extensions.impl.ExtensionProcessingHelper.forEachExtensionSafe(ExtensionProcessingHelper.java:34)\n",
      "\tat com.intellij.openapi.extensions.ExtensionPointName.forEachExtensionSafe(ExtensionPointName.java:46)\n",
      "\tat com.intellij.openapi.actionSystem.impl.ActionManagerImpl.<init>(ActionManagerImpl.java:141)\n",
      "\tat com.jetbrains.rdserver.ui.actionPopupMenu.BackendActionManager.<init>(BackendActionManager.kt:17)\n",
      "\tat java.base/jdk.internal.reflect.NativeConstructorAccessorImpl.newInstance0(Native Method)\n",
      "\tat java.base/jdk.internal.reflect.NativeConstructorAccessorImpl.newInstance(NativeConstructorAccessorImpl.java:77)\n",
      "\tat java.base/jdk.internal.reflect.DelegatingConstructorAccessorImpl.newInstance(DelegatingConstructorAccessorImpl.java:45)\n",
      "\tat java.base/java.lang.reflect.Constructor.newInstanceWithCaller(Constructor.java:499)\n",
      "\tat java.base/java.lang.reflect.Constructor.newInstance(Constructor.java:480)\n",
      "\tat com.intellij.serviceContainer.ConstructorInjectionKt.instantiateUsingPicoContainer(constructorInjection.kt:47)\n",
      "\tat com.intellij.serviceContainer.ComponentManagerImpl.instantiateClassWithConstructorInjection(ComponentManagerImpl.kt:890)\n",
      "\tat com.intellij.serviceContainer.ServiceComponentAdapter.createAndInitialize(ServiceComponentAdapter.kt:51)\n",
      "\tat com.intellij.serviceContainer.ServiceComponentAdapter.doCreateInstance(ServiceComponentAdapter.kt:41)\n",
      "\tat com.intellij.serviceContainer.BaseComponentAdapter.getInstanceUncached(BaseComponentAdapter.kt:119)\n",
      "\tat com.intellij.serviceContainer.BaseComponentAdapter.getInstance(BaseComponentAdapter.kt:73)\n",
      "\tat com.intellij.serviceContainer.BaseComponentAdapter.getInstance$default(BaseComponentAdapter.kt:66)\n",
      "\tat com.intellij.serviceContainer.ComponentManagerImpl.doGetService(ComponentManagerImpl.kt:609)\n",
      "\tat com.intellij.serviceContainer.ComponentManagerImpl.getService(ComponentManagerImpl.kt:583)\n",
      "\tat com.intellij.openapi.client.ClientAwareComponentManager.getFromSelfOrCurrentSession(ClientAwareComponentManager.kt:37)\n",
      "\tat com.intellij.openapi.client.ClientAwareComponentManager.getService(ClientAwareComponentManager.kt:22)\n",
      "\tat com.intellij.openapi.actionSystem.ActionManager.getInstance(ActionManager.java:29)\n",
      "\tat com.intellij.help.impl.KeymapGenerator.<clinit>(KeymapGenerator.java:33)\n",
      "\tat java.base/jdk.internal.misc.Unsafe.allocateInstance(Native Method)\n",
      "\tat java.base/java.lang.invoke.DirectMethodHandle.allocateInstance(DirectMethodHandle.java:520)\n",
      "\tat com.intellij.serviceContainer.ComponentManagerImpl.instantiateClass(ComponentManagerImpl.kt:844)\n",
      "\tat com.intellij.openapi.extensions.impl.XmlExtensionAdapter.instantiateClass(XmlExtensionAdapter.kt:79)\n",
      "\tat com.intellij.openapi.extensions.impl.XmlExtensionAdapter$SimpleConstructorInjectionAdapter.instantiateClass(XmlExtensionAdapter.kt:90)\n",
      "\tat com.intellij.openapi.extensions.impl.XmlExtensionAdapter.doCreateInstance(XmlExtensionAdapter.kt:50)\n",
      "\tat com.intellij.openapi.extensions.impl.XmlExtensionAdapter.createInstance(XmlExtensionAdapter.kt:31)\n",
      "\tat com.intellij.openapi.extensions.impl.ExtensionPointImpl.processAdapter(ExtensionPointImpl.java:447)\n",
      "\tat com.intellij.openapi.extensions.impl.ExtensionPointImpl.access$200(ExtensionPointImpl.java:33)\n",
      "\tat com.intellij.openapi.extensions.impl.ExtensionPointImpl$1.next(ExtensionPointImpl.java:355)\n",
      "\tat com.intellij.idea.ApplicationLoader.findAppStarter(ApplicationLoader.kt:595)\n",
      "\tat com.intellij.idea.ApplicationLoader.access$findAppStarter(ApplicationLoader.kt:1)\n",
      "\tat com.intellij.idea.ApplicationLoader$initApplication$block$3.apply(ApplicationLoader.kt:170)\n",
      "\tat com.intellij.idea.ApplicationLoader$initApplication$block$3.apply(ApplicationLoader.kt)\n",
      "\tat java.base/java.util.concurrent.CompletableFuture$UniCompose.tryFire(CompletableFuture.java:1150)\n",
      "\tat java.base/java.util.concurrent.CompletableFuture.postComplete(CompletableFuture.java:510)\n",
      "\tat java.base/java.util.concurrent.CompletableFuture.postFire(CompletableFuture.java:614)\n",
      "\tat java.base/java.util.concurrent.CompletableFuture$UniCompose.tryFire(CompletableFuture.java:1163)\n",
      "\tat java.base/java.util.concurrent.CompletableFuture$Completion.run(CompletableFuture.java:482)\n",
      "\tat com.intellij.idea.ApplicationLoader$initApplication$block$2.execute(ApplicationLoader.kt:142)\n",
      "\tat java.base/java.util.concurrent.CompletableFuture$UniCompletion.claim(CompletableFuture.java:572)\n",
      "\tat java.base/java.util.concurrent.CompletableFuture$UniCompose.tryFire(CompletableFuture.java:1147)\n",
      "\tat java.base/java.util.concurrent.CompletableFuture.postComplete(CompletableFuture.java:510)\n",
      "\tat java.base/java.util.concurrent.CompletableFuture.postFire(CompletableFuture.java:614)\n",
      "\tat java.base/java.util.concurrent.CompletableFuture$UniCompose.tryFire(CompletableFuture.java:1163)\n",
      "\tat java.base/java.util.concurrent.CompletableFuture$Completion.exec(CompletableFuture.java:483)\n",
      "\tat java.base/java.util.concurrent.ForkJoinTask.doExec(ForkJoinTask.java:373)\n",
      "\tat java.base/java.util.concurrent.ForkJoinPool$WorkQueue.topLevelExec(ForkJoinPool.java:1182)\n",
      "\tat java.base/java.util.concurrent.ForkJoinPool.scan(ForkJoinPool.java:1655)\n",
      "\tat java.base/java.util.concurrent.ForkJoinPool.runWorker(ForkJoinPool.java:1622)\n",
      "\tat java.base/java.util.concurrent.ForkJoinWorkerThread.run(ForkJoinWorkerThread.java:165)\n",
      "2022-11-21 22:47:37,991 [   2854] SEVERE - #c.i.d.LoadingState - PhpStorm 2022.2.3  Build #PS-222.4345.15\n",
      "2022-11-21 22:47:37,992 [   2855] SEVERE - #c.i.d.LoadingState - JDK: 17.0.4.1; VM: OpenJDK 64-Bit Server VM; Vendor: JetBrains s.r.o.\n",
      "2022-11-21 22:47:37,993 [   2856] SEVERE - #c.i.d.LoadingState - OS: Linux\n",
      "Info  | RdCoroutineScope          | 13:JobScheduler FJ pool 1/3 | RdCoroutineHost overridden \n",
      "2022-11-21 22:47:43,755 [   8618]   WARN - #c.i.o.a.i.ActionUpdater - 403 ms to grab EDT for CWMTelephonyGroup#update@NavBarToolbar (com.jetbrains.rd.platform.codeWithMe.telephony.CWMTelephonyGroup)\n",
      "2022-11-21 22:47:49,820 [  14683]   WARN - #c.i.o.a.e.ActionUtil - Can not find action by id CompileDirty\n",
      "2022-11-21 22:47:50,261 [  15124]   WARN - #c.i.u.x.Binding - no accessors for com.jetbrains.php.testFramework.PhpTestFrameworkType\n",
      "2022-11-21 22:47:54,096 [  18959]   WARN - #c.i.o.a.i.ActionUpdater - 2425 ms to grab EDT for #update@ToolwindowTitle (com.intellij.toolWindow.ToolWindowHeader$2)\n",
      "2022-11-21 22:47:54,096 [  18959]   WARN - #c.i.o.a.i.ActionUpdater - 2421 ms to grab EDT for SeverityFiltersActionGroup#update@com.intellij.analysis.problemsView.toolWindow.HighlightingPanel (com.intellij.analysis.problemsView.toolWindow.SeverityFiltersActionGroup)\n",
      "2022-11-21 22:47:56,072 [  20935]   WARN - #c.i.o.a.i.ActionUpdater - 292 ms to grab EDT for UndoAction#update@MainMenu (com.intellij.ide.actions.UndoAction)\n",
      "2022-11-21 22:48:05,359 [  30222]   WARN - #c.j.p.p.PharLibraryManager - Frequent root change. Source class com.jetbrains.php.phar.PharLibraryManager, delta 5170.\n",
      "Old roots: [phar:///home/student/php_2022_adam_lewinski/07_testing/02_exercise/project/vendor/bin/phpstan.phar/]\n",
      "New Roots: [phar:///home/student/php_2022_adam_lewinski/07_testing/02_exercise/project/vendor/bin/phpstan.phar/, phar:///home/student/php_2022_adam_lewinski/07_testing/02_exercise/project/vendor/phpstan/phpstan/phpstan.phar/]\n",
      "2022-11-21 22:48:12,429 [  37292]   WARN - #c.i.o.a.i.ActionUpdater - 3291 ms to call on BGT ensureSlowDataKeysPreCached for #update@EditorInspectionsToolbar (com.intellij.codeInsight.actions.ReaderModeActionProvider$createAction$1)\n"
     ]
    }
   ],
   "source": [
    "! phpstorm project"
   ]
  },
  {
   "cell_type": "markdown",
   "metadata": {},
   "source": [
    "You can test your solution using included tests:"
   ]
  },
  {
   "cell_type": "code",
   "execution_count": 125,
   "metadata": {},
   "outputs": [
    {
     "name": "stdout",
     "output_type": "stream",
     "text": [
      "/home/student/php_2022_adam_lewinski/07_testing/02_exercise/project\n"
     ]
    }
   ],
   "source": [
    "%cd project"
   ]
  },
  {
   "cell_type": "code",
   "execution_count": 126,
   "metadata": {},
   "outputs": [
    {
     "name": "stdout",
     "output_type": "stream",
     "text": [
      "\u001b[32mInstalling dependencies from lock file (including require-dev)\u001b[39m\n",
      "\u001b[32mVerifying lock file contents can be installed on current platform.\u001b[39m\n",
      "Nothing to install, update or remove\n",
      "\u001b[32mGenerating autoload files\u001b[39m\n",
      "\u001b[32m60 packages you are using are looking for funding.\u001b[39m\n",
      "\u001b[32mUse the `composer fund` command to find out more!\u001b[39m\n"
     ]
    }
   ],
   "source": [
    "! composer install"
   ]
  },
  {
   "cell_type": "code",
   "execution_count": 127,
   "metadata": {},
   "outputs": [
    {
     "name": "stdout",
     "output_type": "stream",
     "text": [
      "\u001b[32mBuilding Actor classes for suites: Acceptance, Unit\u001b[39m\n",
      " -> AcceptanceTesterActions.php generated successfully. 241 methods added\n",
      "\u001b[32mTests\\AcceptanceTester\u001b[39m includes modules: PhpBrowser, Filesystem, Asserts, Db, Redis\n",
      " -> UnitTesterActions.php generated successfully. 137 methods added\n",
      "\u001b[32mTests\\UnitTester\u001b[39m includes modules: Asserts\n"
     ]
    }
   ],
   "source": [
    "! vendor/bin/codecept build"
   ]
  },
  {
   "cell_type": "code",
   "execution_count": 129,
   "metadata": {
    "scrolled": true
   },
   "outputs": [
    {
     "name": "stdout",
     "output_type": "stream",
     "text": [
      "Loaded config \u001b[33mdefault\u001b[39m from \"/home/student/php_2022_adam_lewinski/07_testing/02_exercise/project/./.php-cs-fixer.dist.php\".\n",
      "Using cache file \".php-cs-fixer.cache\".\n",
      "   1) src/Controller/AuthController.php\n",
      "\n",
      "Fixed all files in 0.152 seconds, 14.000 MB memory used\n"
     ]
    }
   ],
   "source": [
    "! vendor/bin/php-cs-fixer fix  --diff --dry-run ."
   ]
  },
  {
   "cell_type": "code",
   "execution_count": 130,
   "metadata": {},
   "outputs": [
    {
     "name": "stdout",
     "output_type": "stream",
     "text": [
      "  0/65 [░░░░░░░░░░░░░░░░░░░░░░░░░░░░]   0%\u001b[1G\u001b[2K 65/65 [▓▓▓▓▓▓▓▓▓▓▓▓▓▓▓▓▓▓▓▓▓▓▓▓▓▓▓▓] 100%\n",
      "\n",
      "\n",
      "\u001b[30;42m                                                                                \u001b[39;49m\n",
      "\u001b[30;42m [OK] No errors                                                                 \u001b[39;49m\n",
      "\u001b[30;42m                                                                                \u001b[39;49m\n",
      "\n"
     ]
    }
   ],
   "source": [
    "! vendor/bin/phpstan analyze --xdebug -c phpstan.neon"
   ]
  },
  {
   "cell_type": "code",
   "execution_count": 131,
   "metadata": {},
   "outputs": [
    {
     "name": "stdout",
     "output_type": "stream",
     "text": [
      "phpcpd 6.0.3 by Sebastian Bergmann.\n",
      "\n",
      "No clones found.\n",
      "\n",
      "Time: 00:00.028, Memory: 4.00 MB\n"
     ]
    }
   ],
   "source": [
    "! vendor/bin/phpcpd . --fuzzy --min-lines 1 --min-tokens 20 --exclude vendor --exclude tests"
   ]
  },
  {
   "cell_type": "code",
   "execution_count": 132,
   "metadata": {},
   "outputs": [
    {
     "name": "stdout",
     "output_type": "stream",
     "text": [
      "Codeception PHP Testing Framework v5.0.4 https://helpukrainewin.org\n",
      "\n",
      "\u001b[1mTests.Unit Tests (24) \u001b[22m----------------------------------------------------------\n",
      "\u001b[32;1m✔\u001b[39;22m \u001b[35;1mTest00_StringEditorCest:\u001b[39;22m Create \u001b[32m(0.00s)\u001b[39m\n",
      "\u001b[32;1m✔\u001b[39;22m \u001b[35;1mTest00_StringEditorCest:\u001b[39;22m Replace word \u001b[32m(0.00s)\u001b[39m\n",
      "\u001b[32;1m✔\u001b[39;22m \u001b[35;1mTest00_StringEditorCest:\u001b[39;22m Lowercase \u001b[32m(0.00s)\u001b[39m\n",
      "\u001b[32;1m✔\u001b[39;22m \u001b[35;1mTest00_StringEditorCest:\u001b[39;22m Uppercase \u001b[32m(0.00s)\u001b[39m\n",
      "\u001b[32;1m✔\u001b[39;22m \u001b[35;1mTest00_StringEditorCest:\u001b[39;22m Replace and upper case \u001b[32m(0.00s)\u001b[39m\n",
      "\u001b[32;1m✔\u001b[39;22m \u001b[35;1mTest00_StringEditorCest:\u001b[39;22m Censor word \u001b[32m(0.00s)\u001b[39m\n",
      "\u001b[32;1m✔\u001b[39;22m \u001b[35;1mTest00_StringEditorCest:\u001b[39;22m Censor short and long words \u001b[32m(0.00s)\u001b[39m\n",
      "\u001b[32;1m✔\u001b[39;22m \u001b[35;1mTest00_StringEditorCest:\u001b[39;22m Repeat word \u001b[32m(0.00s)\u001b[39m\n",
      "\u001b[32;1m✔\u001b[39;22m \u001b[35;1mTest00_StringEditorCest:\u001b[39;22m Remove word \u001b[32m(0.00s)\u001b[39m\n",
      "\u001b[32;1m✔\u001b[39;22m \u001b[35;1mTest00_StringEditorCest:\u001b[39;22m Edit sentence \u001b[32m(0.00s)\u001b[39m\n",
      "\u001b[32;1m✔\u001b[39;22m \u001b[35;1mTest01_RingBufferCest:\u001b[39;22m Create \u001b[32m(0.00s)\u001b[39m\n",
      "\u001b[32;1m✔\u001b[39;22m \u001b[35;1mTest01_RingBufferCest:\u001b[39;22m Should be empty \u001b[32m(0.00s)\u001b[39m\n",
      "\u001b[32;1m✔\u001b[39;22m \u001b[35;1mTest01_RingBufferCest:\u001b[39;22m Capacity \u001b[32m(0.00s)\u001b[39m\n",
      "\u001b[32;1m✔\u001b[39;22m \u001b[35;1mTest01_RingBufferCest:\u001b[39;22m Size should be zero when empty \u001b[32m(0.00s)\u001b[39m\n",
      "\u001b[32;1m✔\u001b[39;22m \u001b[35;1mTest01_RingBufferCest:\u001b[39;22m Push value size should increase \u001b[32m(0.00s)\u001b[39m\n",
      "\u001b[32;1m✔\u001b[39;22m \u001b[35;1mTest01_RingBufferCest:\u001b[39;22m Empty should be false when full \u001b[32m(0.00s)\u001b[39m\n",
      "\u001b[32;1m✔\u001b[39;22m \u001b[35;1mTest01_RingBufferCest:\u001b[39;22m Pop from empty \u001b[32m(0.00s)\u001b[39m\n",
      "\u001b[32;1m✔\u001b[39;22m \u001b[35;1mTest01_RingBufferCest:\u001b[39;22m Push and pop single value \u001b[32m(0.00s)\u001b[39m\n",
      "\u001b[32;1m✔\u001b[39;22m \u001b[35;1mTest01_RingBufferCest:\u001b[39;22m Pop should reduce size \u001b[32m(0.00s)\u001b[39m\n",
      "\u001b[32;1m✔\u001b[39;22m \u001b[35;1mTest01_RingBufferCest:\u001b[39;22m Back should not change buffer \u001b[32m(0.00s)\u001b[39m\n",
      "\u001b[32;1m✔\u001b[39;22m \u001b[35;1mTest01_RingBufferCest:\u001b[39;22m Push multiple times \u001b[32m(0.00s)\u001b[39m\n",
      "\u001b[32;1m✔\u001b[39;22m \u001b[35;1mTest01_RingBufferCest:\u001b[39;22m Multi item buffer \u001b[32m(0.00s)\u001b[39m\n",
      "\u001b[32;1m✔\u001b[39;22m \u001b[35;1mTest01_RingBufferCest:\u001b[39;22m Push and pop all values \u001b[32m(0.00s)\u001b[39m\n",
      "\u001b[32;1m✔\u001b[39;22m \u001b[35;1mTest01_RingBufferCest:\u001b[39;22m Access values by index \u001b[32m(0.00s)\u001b[39m\n",
      "--------------------------------------------------------------------------------\n",
      "Time: 00:00.130, Memory: 8.00 MB\n",
      "\n",
      "\u001b[30;42mOK (24 tests, 75 assertions)\u001b[39;49m\n"
     ]
    }
   ],
   "source": [
    "! vendor/bin/codecept run Unit"
   ]
  },
  {
   "cell_type": "code",
   "execution_count": 133,
   "metadata": {},
   "outputs": [],
   "source": [
    "import subprocess\n",
    "phpServer = subprocess.Popen(['php', '-S', 'localhost:8888', '-t', 'public'])"
   ]
  },
  {
   "cell_type": "code",
   "execution_count": 134,
   "metadata": {},
   "outputs": [
    {
     "name": "stderr",
     "output_type": "stream",
     "text": [
      "[Mon Nov 21 22:46:05 2022] PHP 8.1.12 Development Server (http://localhost:8888) started\n"
     ]
    },
    {
     "name": "stdout",
     "output_type": "stream",
     "text": [
      "Done.\r\n"
     ]
    },
    {
     "name": "stderr",
     "output_type": "stream",
     "text": [
      "[Mon Nov 21 22:46:06 2022] [::1]:42792 Accepted\n",
      "[Mon Nov 21 22:46:06 2022] [::1]:42792 Closed without sending a request; it was probably just an unused speculative preconnection\n",
      "[Mon Nov 21 22:46:06 2022] [::1]:42792 Closing\n"
     ]
    }
   ],
   "source": [
    "! while ! timeout 1 bash -c \"echo > /dev/tcp/localhost/8888\" 2> /dev/null; do sleep 1; done; echo \"Done.\";"
   ]
  },
  {
   "cell_type": "code",
   "execution_count": 135,
   "metadata": {},
   "outputs": [
    {
     "name": "stdout",
     "output_type": "stream",
     "text": [
      "Codeception PHP Testing Framework v5.0.4 https://helpukrainewin.org\n",
      "\n",
      "\u001b[1mTests.Acceptance Tests (15) \u001b[22m----------------------------------------------------\n",
      "- \u001b[35;1mTest00_PrettyUrlCest:\u001b[39;22m Test"
     ]
    },
    {
     "name": "stderr",
     "output_type": "stream",
     "text": [
      "[Mon Nov 21 22:46:06 2022] [::1]:42804 Accepted\n",
      "[Mon Nov 21 22:46:06 2022] [::1]:42804 [200]: GET /\n",
      "[Mon Nov 21 22:46:06 2022] [::1]:42804 Closing\n",
      "[Mon Nov 21 22:46:06 2022] [::1]:42814 Accepted\n",
      "[Mon Nov 21 22:46:06 2022] [::1]:42814 [200]: GET /home\n",
      "[Mon Nov 21 22:46:06 2022] [::1]:42814 Closing\n",
      "[Mon Nov 21 22:46:06 2022] [::1]:42824 Accepted\n",
      "[Mon Nov 21 22:46:06 2022] [::1]:42824 [200]: GET /about\n",
      "[Mon Nov 21 22:46:06 2022] [::1]:42824 Closing\n",
      "[Mon Nov 21 22:46:06 2022] [::1]:42830 Accepted\n",
      "[Mon Nov 21 22:46:06 2022] [::1]:42830 [200]: GET /users\n",
      "[Mon Nov 21 22:46:06 2022] [::1]:42830 Closing\n",
      "[Mon Nov 21 22:46:06 2022] [::1]:42834 Accepted\n",
      "[Mon Nov 21 22:46:06 2022] [::1]:42834 [200]: GET /users/1\n",
      "[Mon Nov 21 22:46:06 2022] [::1]:42834 Closing\n",
      "[Mon Nov 21 22:46:06 2022] [::1]:42848 Accepted\n",
      "[Mon Nov 21 22:46:06 2022] [::1]:42848 [200]: GET /users\n",
      "[Mon Nov 21 22:46:06 2022] [::1]:42848 Closing\n",
      "[Mon Nov 21 22:46:06 2022] [::1]:42860 Accepted\n",
      "[Mon Nov 21 22:46:06 2022] [::1]:42860 [200]: GET /users/2\n",
      "[Mon Nov 21 22:46:06 2022] [::1]:42860 Closing\n",
      "[Mon Nov 21 22:46:06 2022] [::1]:42866 Accepted\n"
     ]
    },
    {
     "name": "stdout",
     "output_type": "stream",
     "text": [
      "\u001b[32;1m✔\u001b[39;22m \u001b[35;1mTest00_PrettyUrlCest:\u001b[39;22m Test \u001b[32m(0.24s)\u001b[39m\n",
      "\u001b[32;1m✔\u001b[39;22m \u001b[35;1mTest01_FileStorageCest:\u001b[39;22m Test \u001b[32m(0.06s)\u001b[39m\n",
      "\u001b[32;1m✔\u001b[39;22m \u001b[35;1mTest02_SessionStorageCest:\u001b[39;22m Test \u001b[32m(0.01s)\u001b[39m\n",
      "- \u001b[35;1mTest03_SQLiteStorageCest:\u001b[39;22m Test"
     ]
    },
    {
     "name": "stderr",
     "output_type": "stream",
     "text": [
      "[Mon Nov 21 22:46:06 2022] [::1]:42866 [200]: GET /users\n",
      "[Mon Nov 21 22:46:06 2022] [::1]:42866 Closing\n",
      "[Mon Nov 21 22:46:06 2022] [::1]:42876 Accepted\n",
      "[Mon Nov 21 22:46:06 2022] [::1]:42876 [200]: GET /users/3\n",
      "[Mon Nov 21 22:46:06 2022] [::1]:42876 Closing\n",
      "[Mon Nov 21 22:46:06 2022] [::1]:42886 Accepted\n",
      "[Mon Nov 21 22:46:06 2022] [::1]:42886 [200]: GET /demo/file\n",
      "[Mon Nov 21 22:46:06 2022] [::1]:42886 Closing\n",
      "[Mon Nov 21 22:46:06 2022] [::1]:42890 Accepted\n",
      "[Mon Nov 21 22:46:06 2022] [::1]:42890 [200]: GET /demo/session\n",
      "[Mon Nov 21 22:46:06 2022] [::1]:42890 Closing\n",
      "[Mon Nov 21 22:46:06 2022] [::1]:42906 Accepted\n",
      "[Mon Nov 21 22:46:06 2022] [::1]:42906 [200]: GET /demo/sqlite\n",
      "[Mon Nov 21 22:46:06 2022] [::1]:42906 Closing\n"
     ]
    },
    {
     "name": "stdout",
     "output_type": "stream",
     "text": [
      "\u001b[32;1m✔\u001b[39;22m \u001b[35;1mTest03_SQLiteStorageCest:\u001b[39;22m Test \u001b[32m(0.11s)\u001b[39m\n",
      "- \u001b[35;1mTest04_MySQLStorageCest:\u001b[39;22m Test"
     ]
    },
    {
     "name": "stderr",
     "output_type": "stream",
     "text": [
      "[Mon Nov 21 22:46:07 2022] [::1]:42910 Accepted\n",
      "[Mon Nov 21 22:46:07 2022] [::1]:42910 [200]: GET /demo/mysql\n",
      "[Mon Nov 21 22:46:07 2022] [::1]:42910 Closing\n",
      "[Mon Nov 21 22:46:07 2022] [::1]:42914 Accepted\n"
     ]
    },
    {
     "name": "stdout",
     "output_type": "stream",
     "text": [
      "\u001b[32;1m✔\u001b[39;22m \u001b[35;1mTest04_MySQLStorageCest:\u001b[39;22m Test \u001b[32m(0.34s)\u001b[39m\n",
      "\u001b[32;1m✔\u001b[39;22m \u001b[35;1mTest05_RedisStorageCest:\u001b[39;22m Test \u001b[32m(0.09s)\u001b[39m\n",
      "- \u001b[35;1mTest06_HomepageCest:\u001b[39;22m See welcome message on homepage"
     ]
    },
    {
     "name": "stderr",
     "output_type": "stream",
     "text": [
      "[Mon Nov 21 22:46:07 2022] [::1]:42914 [200]: GET /demo/mysql\n",
      "[Mon Nov 21 22:46:07 2022] [::1]:42914 Closing\n",
      "[Mon Nov 21 22:46:07 2022] [::1]:42924 Accepted\n",
      "[Mon Nov 21 22:46:07 2022] [::1]:42924 [200]: GET /demo/redis\n",
      "[Mon Nov 21 22:46:07 2022] [::1]:42924 Closing\n"
     ]
    },
    {
     "name": "stdout",
     "output_type": "stream",
     "text": [
      "\r",
      "\u001b[32;1m✔\u001b[39;22m \u001b[35;1mTest06_HomepageCest:\u001b[39;22m See login and register links \u001b[32m(0.12s)\u001b[39m\r\n",
      "- \u001b[35;1mTest07_RegisterCest:\u001b[39;22m Register new user"
     ]
    },
    {
     "name": "stderr",
     "output_type": "stream",
     "text": [
      "[Mon Nov 21 22:46:07 2022] [::1]:42926 Accepted\n",
      "[Mon Nov 21 22:46:07 2022] [::1]:42926 [200]: GET /\n",
      "[Mon Nov 21 22:46:07 2022] [::1]:42926 Closing\n",
      "[Mon Nov 21 22:46:07 2022] [::1]:42930 Accepted\n",
      "[Mon Nov 21 22:46:07 2022] [::1]:42930 [200]: GET /home\n",
      "[Mon Nov 21 22:46:07 2022] [::1]:42930 Closing\n",
      "[Mon Nov 21 22:46:07 2022] [::1]:42940 Accepted\n",
      "[Mon Nov 21 22:46:07 2022] [::1]:42940 [200]: GET /\n",
      "[Mon Nov 21 22:46:07 2022] [::1]:42940 Closing\n",
      "[Mon Nov 21 22:46:07 2022] [::1]:42944 Accepted\n",
      "[Mon Nov 21 22:46:07 2022] [::1]:42944 [200]: GET /auth/register\n",
      "[Mon Nov 21 22:46:07 2022] [::1]:42944 Closing\n",
      "[Mon Nov 21 22:46:07 2022] [::1]:42956 Accepted\n",
      "[Mon Nov 21 22:46:07 2022] [::1]:42956 [302]: POST /auth/register\n",
      "[Mon Nov 21 22:46:07 2022] [::1]:42956 Closing\n",
      "[Mon Nov 21 22:46:07 2022] [::1]:42960 Accepted\n",
      "[Mon Nov 21 22:46:07 2022] [::1]:42960 [200]: GET /auth/confirmation_notice\n",
      "[Mon Nov 21 22:46:07 2022] [::1]:42960 Closing\n"
     ]
    },
    {
     "name": "stdout",
     "output_type": "stream",
     "text": [
      "\u001b[32;1m✔\u001b[39;22m \u001b[35;1mTest07_RegisterCest:\u001b[39;22m Register new user \u001b[32m(0.60s)\u001b[39m\n",
      "\u001b[32;1m✔\u001b[39;22m \u001b[35;1mTest08_RegisterValidationCest:\u001b[39;22m Validate data entered during registration \u001b[32m(0.18s)\u001b[39m\n",
      "- \u001b[35;1mTest09_RegisterRememberFieldsCest:\u001b[39;22m Remember data entered during registration when validation error is present"
     ]
    },
    {
     "name": "stderr",
     "output_type": "stream",
     "text": [
      "[Mon Nov 21 22:46:08 2022] [::1]:42968 Accepted\n",
      "[Mon Nov 21 22:46:08 2022] [::1]:42968 [200]: GET /auth/register\n",
      "[Mon Nov 21 22:46:08 2022] [::1]:42968 Closing\n",
      "[Mon Nov 21 22:46:08 2022] [::1]:42982 Accepted\n",
      "[Mon Nov 21 22:46:08 2022] [::1]:42982 [200]: POST /auth/register\n",
      "[Mon Nov 21 22:46:08 2022] [::1]:42982 Closing\n",
      "[Mon Nov 21 22:46:08 2022] [::1]:42986 Accepted\n",
      "[Mon Nov 21 22:46:08 2022] [::1]:42986 [200]: POST /auth/register\n",
      "[Mon Nov 21 22:46:08 2022] [::1]:42986 Closing\n",
      "[Mon Nov 21 22:46:08 2022] [::1]:42998 Accepted\n",
      "[Mon Nov 21 22:46:08 2022] [::1]:42998 [200]: GET /auth/register\n",
      "[Mon Nov 21 22:46:08 2022] [::1]:42998 Closing\n",
      "[Mon Nov 21 22:46:08 2022] [::1]:43000 Accepted\n",
      "[Mon Nov 21 22:46:08 2022] [::1]:43000 [200]: POST /auth/register\n",
      "[Mon Nov 21 22:46:08 2022] [::1]:43000 Closing\n",
      "[Mon Nov 21 22:46:08 2022] [::1]:43014 Accepted\n",
      "[Mon Nov 21 22:46:08 2022] [::1]:43014 [200]: POST /auth/register\n",
      "[Mon Nov 21 22:46:08 2022] [::1]:43014 Closing\n",
      "[Mon Nov 21 22:46:08 2022] [::1]:43016 Accepted\n",
      "[Mon Nov 21 22:46:08 2022] [::1]:43016 [200]: POST /auth/register\n",
      "[Mon Nov 21 22:46:08 2022] [::1]:43016 Closing\n",
      "[Mon Nov 21 22:46:08 2022] [::1]:43032 Accepted\n",
      "[Mon Nov 21 22:46:08 2022] [::1]:43032 [200]: POST /auth/register\n",
      "[Mon Nov 21 22:46:08 2022] [::1]:43032 Closing\n",
      "[Mon Nov 21 22:46:08 2022] [::1]:43036 Accepted\n",
      "[Mon Nov 21 22:46:08 2022] [::1]:43036 [200]: POST /auth/register\n",
      "[Mon Nov 21 22:46:08 2022] [::1]:43036 Closing\n",
      "[Mon Nov 21 22:46:08 2022] [::1]:43050 Accepted\n",
      "[Mon Nov 21 22:46:08 2022] [::1]:43050 [200]: GET /auth/register\n",
      "[Mon Nov 21 22:46:08 2022] [::1]:43050 Closing\n"
     ]
    },
    {
     "name": "stdout",
     "output_type": "stream",
     "text": [
      "\u001b[32;1m✔\u001b[39;22m \u001b[35;1mTest09_RegisterRememberFieldsCest:\u001b[39;22m Remember data entered during registration when validation error is present \u001b[32m(0.29s)\u001b[39m\n",
      "\u001b[32;1m✔\u001b[39;22m \u001b[35;1mTest10_RegisterConfirmCest:\u001b[39;22m Check that info disappears after page refresh \u001b[32m(0.32s)\u001b[39m\n",
      "- \u001b[35;1mTest11_LoginNotExistingCest:\u001b[39;22m See error when user does not exists"
     ]
    },
    {
     "name": "stderr",
     "output_type": "stream",
     "text": [
      "[Mon Nov 21 22:46:08 2022] [::1]:43054 Accepted\n",
      "[Mon Nov 21 22:46:08 2022] [::1]:43054 [302]: GET /auth/confirm/ThisIsAnInvalidEmailConfirmationToken\n",
      "[Mon Nov 21 22:46:08 2022] [::1]:43054 Closing\n",
      "[Mon Nov 21 22:46:08 2022] [::1]:43058 Accepted\n",
      "[Mon Nov 21 22:46:08 2022] [::1]:43058 [200]: GET /\n",
      "[Mon Nov 21 22:46:08 2022] [::1]:43058 Closing\n",
      "[Mon Nov 21 22:46:08 2022] [::1]:43074 Accepted\n",
      "[Mon Nov 21 22:46:08 2022] [::1]:43074 [200]: GET /\n",
      "[Mon Nov 21 22:46:08 2022] [::1]:43074 Closing\n",
      "[Mon Nov 21 22:46:08 2022] [::1]:43076 Accepted\n",
      "[Mon Nov 21 22:46:08 2022] [::1]:43076 [302]: GET /auth/confirm/ae53c7f7815c9726295f5109b96f25a4\n",
      "[Mon Nov 21 22:46:08 2022] [::1]:43076 Closing\n",
      "[Mon Nov 21 22:46:08 2022] [::1]:43090 Accepted\n",
      "[Mon Nov 21 22:46:08 2022] [::1]:43090 [200]: GET /\n",
      "[Mon Nov 21 22:46:08 2022] [::1]:43090 Closing\n",
      "[Mon Nov 21 22:46:08 2022] [::1]:43100 Accepted\n",
      "[Mon Nov 21 22:46:08 2022] [::1]:43100 [200]: GET /\n",
      "[Mon Nov 21 22:46:08 2022] [::1]:43100 Closing\n"
     ]
    },
    {
     "name": "stdout",
     "output_type": "stream",
     "text": [
      "\r",
      "\u001b[32;1m✔\u001b[39;22m \u001b[35;1mTest11_LoginNotExistingCest:\u001b[39;22m See error when user does not exists \u001b[32m(0.17s)\u001b[39m\r\n",
      "- \u001b[35;1mTest12_LoginWrongPasswordCest:\u001b[39;22m See error when wrong password is entered"
     ]
    },
    {
     "name": "stderr",
     "output_type": "stream",
     "text": [
      "[Mon Nov 21 22:46:09 2022] [::1]:43104 Accepted\n",
      "[Mon Nov 21 22:46:09 2022] [::1]:43104 [200]: GET /auth/login\n",
      "[Mon Nov 21 22:46:09 2022] [::1]:43104 Closing\n",
      "[Mon Nov 21 22:46:09 2022] [::1]:43118 Accepted\n",
      "[Mon Nov 21 22:46:09 2022] [::1]:43118 [302]: POST /auth/login\n",
      "[Mon Nov 21 22:46:09 2022] [::1]:43118 Closing\n",
      "[Mon Nov 21 22:46:09 2022] [::1]:43128 Accepted\n",
      "[Mon Nov 21 22:46:09 2022] [::1]:43128 [200]: GET /\n",
      "[Mon Nov 21 22:46:09 2022] [::1]:43128 Closing\n",
      "[Mon Nov 21 22:46:09 2022] [::1]:43134 Accepted\n",
      "[Mon Nov 21 22:46:09 2022] [::1]:43134 [200]: GET /auth/login\n",
      "[Mon Nov 21 22:46:09 2022] [::1]:43134 Closing\n",
      "[Mon Nov 21 22:46:09 2022] [::1]:43136 Accepted\n",
      "[Mon Nov 21 22:46:09 2022] [::1]:43136 [200]: POST /auth/login\n",
      "[Mon Nov 21 22:46:09 2022] [::1]:43136 Closing\n"
     ]
    },
    {
     "name": "stdout",
     "output_type": "stream",
     "text": [
      "\r",
      "\u001b[32;1m✔\u001b[39;22m \u001b[35;1mTest12_LoginWrongPasswordCest:\u001b[39;22m See error when wrong password is entered \u001b[32m(0.45s)\u001b[39m\r\n",
      "- \u001b[35;1mTest13_LoginNotConfirmedCest:\u001b[39;22m Be remained about email confirmation when trying to login"
     ]
    },
    {
     "name": "stderr",
     "output_type": "stream",
     "text": [
      "[Mon Nov 21 22:46:09 2022] [::1]:43138 Accepted\n",
      "[Mon Nov 21 22:46:09 2022] [::1]:43138 [200]: GET /auth/login\n",
      "[Mon Nov 21 22:46:09 2022] [::1]:43138 Closing\n",
      "[Mon Nov 21 22:46:09 2022] [::1]:43150 Accepted\n"
     ]
    },
    {
     "name": "stdout",
     "output_type": "stream",
     "text": [
      "\r",
      "\u001b[31;1m✖\u001b[39;22m \u001b[35;1mTest13_LoginNotConfirmedCest:\u001b[39;22m Be remained about email confirmation when trying to login \u001b[32m(0.47s)\u001b[39m\r\n",
      "- \u001b[35;1mTest14_LoginLogoutSeeHiddenContentCest:\u001b[39;22m See hidden content after login"
     ]
    },
    {
     "name": "stderr",
     "output_type": "stream",
     "text": [
      "[Mon Nov 21 22:46:10 2022] [::1]:43150 [200]: POST /auth/login\n",
      "[Mon Nov 21 22:46:10 2022] [::1]:43150 Closing\n",
      "[Mon Nov 21 22:46:10 2022] [::1]:43154 Accepted\n",
      "[Mon Nov 21 22:46:10 2022] [::1]:43154 [200]: GET /\n",
      "[Mon Nov 21 22:46:10 2022] [::1]:43154 Closing\n",
      "[Mon Nov 21 22:46:10 2022] [::1]:43166 Accepted\n",
      "[Mon Nov 21 22:46:10 2022] [::1]:43166 [200]: GET /auth/login\n",
      "[Mon Nov 21 22:46:10 2022] [::1]:43166 Closing\n",
      "[Mon Nov 21 22:46:10 2022] [::1]:43174 Accepted\n"
     ]
    },
    {
     "name": "stdout",
     "output_type": "stream",
     "text": [
      "\r",
      "\u001b[31;1m✖\u001b[39;22m \u001b[35;1mTest14_LoginLogoutSeeHiddenContentCest:\u001b[39;22m See hidden content after login \u001b[32m(0.48s)\u001b[39m\r\n",
      "--------------------------------------------------------------------------------\r\n",
      "Time: 00:04.171, Memory: 12.00 MB\r\n",
      "\r\n",
      "There were 2 failures:\r\n",
      "1) \u001b[35;1mTest13_LoginNotConfirmedCest:\u001b[39;22m Be remained about email confirmation when trying to login\r\n",
      "\u001b[37;41;1m Test  \u001b[39;49;22mtests/Acceptance/Test13_LoginNotConfirmedCest.php:test\r\n",
      "\u001b[37;41;1m Step \u001b[39;49;22m See current url equals \"/auth/confirmation_notice\"\r\n",
      "\u001b[37;41;1m Fail \u001b[39;49;22m Failed asserting that two strings are identical.\r\n",
      "\u001b[33m- Expected\u001b[39m | \u001b[32m+ Actual\u001b[39m\r\n",
      "@@ @@\r\n",
      "\u001b[33m-'/auth/confirmation_notice'\u001b[39m\r\n",
      "\u001b[32m+'/auth/login'\u001b[39m\r\n",
      "\u001b[33m\r\n",
      "Scenario Steps:\r\n",
      "\u001b[39m\r\n",
      "\u001b[1m 8. $I->seeCurrentUrlEquals(\"/auth/confirmation_notice\")\u001b[22m at \u001b[32mtests/Acceptance/Test13_LoginNotConfirmedCest.php:42\u001b[39m\r\n",
      " 7. $I->click(\"Enter\") at \u001b[32mtests/Acceptance/Test13_LoginNotConfirmedCest.php:40\u001b[39m\r\n",
      " 6. $I->fillField(\"password\",\"foo\") at \u001b[32mtests/Acceptance/Test13_LoginNotConfirmedCest.php:38\u001b[39m\r\n",
      " 5. $I->fillField(\"email\",\"dummy@example.com\") at \u001b[32mtests/Acceptance/Test13_LoginNotConfirmedCest.php:37\u001b[39m\r\n",
      " 4. $I->haveInDatabase(\"objects\",{\"key\":\"model_user_1\",\"data\":\"O:10:\"Model\\...}) at \u001b[32mtests/Acceptance/Test13_LoginNotConfirmedCest.php:33\u001b[39m\r\n",
      " 3. $I->see(\"Login\",\"h2\") at \u001b[32mtests/Acceptance/Test13_LoginNotConfirmedCest.php:19\u001b[39m\r\n",
      "\r\n",
      "\u001b[33mArtifacts:\u001b[39m\r\n",
      "\r\n",
      "Html: \u001b[36m/home/student/php_2022_adam_lewinski/07_testing/02_exercise/project/tests/_output/Tests.Acceptance.Test13_LoginNotConfirmedCest.test.fail.html\u001b[39m\r\n",
      "Response: \u001b[36m/home/student/php_2022_adam_lewinski/07_testing/02_exercise/project/tests/_output/Tests.Acceptance.Test13_LoginNotConfirmedCest.test.fail.html\u001b[39m\r\n",
      "2) \u001b[35;1mTest14_LoginLogoutSeeHiddenContentCest:\u001b[39;22m See hidden content after login\r\n",
      "\u001b[37;41;1m Test  \u001b[39;49;22mtests/Acceptance/Test14_LoginLogoutSeeHiddenContentCest.php:test\r\n",
      "\u001b[37;41;1m Step \u001b[39;49;22m See \"Welcome back Dummy!\"\r\n",
      "\u001b[37;41;1m Fail \u001b[39;49;22m Failed asserting that on page /\r\n",
      "-->  Homepage Home Demo About Users Welcome on homepage! Login Register \r\n",
      "--> contains \"Welcome back Dummy!\".\r\n",
      "\u001b[33m\r\n",
      "Scenario Steps:\r\n",
      "\u001b[39m\r\n",
      "\u001b[1m 14. $I->see(\"Welcome back Dummy!\")\u001b[22m at \u001b[32mtests/Acceptance/Test14_LoginLogoutSeeHiddenContentCest.php:53\u001b[39m\r\n",
      " 13. $I->seeCurrentUrlEquals(\"/\") at \u001b[32mtests/Acceptance/Test14_LoginLogoutSeeHiddenContentCest.php:52\u001b[39m\r\n",
      " 12. $I->click(\"Enter\") at \u001b[32mtests/Acceptance/Test14_LoginLogoutSeeHiddenContentCest.php:50\u001b[39m\r\n",
      " 11. $I->fillField(\"password\",\"foo\") at \u001b[32mtests/Acceptance/Test14_LoginLogoutSeeHiddenContentCest.php:48\u001b[39m\r\n",
      " 10. $I->fillField(\"email\",\"dummy@example.com\") at \u001b[32mtests/Acceptance/Test14_LoginLogoutSeeHiddenContentCest.php:47\u001b[39m\r\n",
      " 9. $I->see(\"Login\",\"h2\") at \u001b[32mtests/Acceptance/Test14_LoginLogoutSeeHiddenContentCest.php:44\u001b[39m\r\n",
      "\r\n",
      "\u001b[33mArtifacts:\u001b[39m\r\n",
      "\r\n",
      "Html: \u001b[36m/home/student/php_2022_adam_lewinski/07_testing/02_exercise/project/tests/_output/Tests.Acceptance.Test14_LoginLogoutSeeHiddenContentCest.test.fail.html\u001b[39m\r\n",
      "Response: \u001b[36m/home/student/php_2022_adam_lewinski/07_testing/02_exercise/project/tests/_output/Tests.Acceptance.Test14_LoginLogoutSeeHiddenContentCest.test.fail.html\u001b[39m\r\n",
      "\r\n",
      "\u001b[37;41;1mFAILURES!\u001b[39;49;22m\r\n",
      "\u001b[37;41;1mTests: 15, Assertions: 266, Failures: 2.\u001b[39;49;22m\r\n"
     ]
    },
    {
     "name": "stderr",
     "output_type": "stream",
     "text": [
      "[Mon Nov 21 22:46:10 2022] [::1]:43174 [302]: POST /auth/login\n",
      "[Mon Nov 21 22:46:10 2022] [::1]:43174 Closing\n",
      "[Mon Nov 21 22:46:10 2022] [::1]:43190 Accepted\n",
      "[Mon Nov 21 22:46:10 2022] [::1]:43190 [200]: GET /\n",
      "[Mon Nov 21 22:46:10 2022] [::1]:43190 Closing\n"
     ]
    }
   ],
   "source": [
    "! vendor/bin/codecept run Acceptance"
   ]
  },
  {
   "cell_type": "code",
   "execution_count": 136,
   "metadata": {},
   "outputs": [
    {
     "name": "stdout",
     "output_type": "stream",
     "text": [
      "Codeception PHP Testing Framework v5.0.4 https://helpukrainewin.org\n",
      "\n",
      "\u001b[1mTests.Acceptance Tests (15) \u001b[22m----------------------------------------------------\n",
      "\u001b[32;1m✔\u001b[39;22m \u001b[35;1mTest00_PrettyUrlCest:\u001b[39;22m Test \u001b[32m(0.14s)\u001b[39m\n",
      "\u001b[32;1m✔\u001b[39;22m \u001b[35;1mTest01_FileStorageCest:\u001b[39;22m Test \u001b[32m(0.03s)\u001b[39m\n",
      "\u001b[32;1m✔\u001b[39;22m \u001b[35;1mTest02_SessionStorageCest:\u001b[39;22m Test \u001b[32m(0.01s)\u001b[39m\n",
      "- \u001b[35;1mTest03_SQLiteStorageCest:\u001b[39;22m Test"
     ]
    },
    {
     "name": "stderr",
     "output_type": "stream",
     "text": [
      "[Mon Nov 21 22:46:11 2022] [::1]:43196 Accepted\n",
      "[Mon Nov 21 22:46:11 2022] [::1]:43196 [200]: GET /\n",
      "[Mon Nov 21 22:46:11 2022] [::1]:43196 Closing\n",
      "[Mon Nov 21 22:46:11 2022] [::1]:43210 Accepted\n",
      "[Mon Nov 21 22:46:11 2022] [::1]:43210 [200]: GET /home\n",
      "[Mon Nov 21 22:46:11 2022] [::1]:43210 Closing\n",
      "[Mon Nov 21 22:46:11 2022] [::1]:43226 Accepted\n",
      "[Mon Nov 21 22:46:11 2022] [::1]:43226 [200]: GET /about\n",
      "[Mon Nov 21 22:46:11 2022] [::1]:43226 Closing\n",
      "[Mon Nov 21 22:46:11 2022] [::1]:43238 Accepted\n",
      "[Mon Nov 21 22:46:11 2022] [::1]:43238 [200]: GET /users\n",
      "[Mon Nov 21 22:46:11 2022] [::1]:43238 Closing\n",
      "[Mon Nov 21 22:46:11 2022] [::1]:43242 Accepted\n",
      "[Mon Nov 21 22:46:11 2022] [::1]:43242 [200]: GET /users/1\n",
      "[Mon Nov 21 22:46:11 2022] [::1]:43242 Closing\n",
      "[Mon Nov 21 22:46:11 2022] [::1]:43258 Accepted\n",
      "[Mon Nov 21 22:46:11 2022] [::1]:43258 [200]: GET /users\n",
      "[Mon Nov 21 22:46:11 2022] [::1]:43258 Closing\n",
      "[Mon Nov 21 22:46:11 2022] [::1]:43264 Accepted\n",
      "[Mon Nov 21 22:46:11 2022] [::1]:43264 [200]: GET /users/2\n",
      "[Mon Nov 21 22:46:11 2022] [::1]:43264 Closing\n",
      "[Mon Nov 21 22:46:11 2022] [::1]:43278 Accepted\n",
      "[Mon Nov 21 22:46:11 2022] [::1]:43278 [200]: GET /users\n",
      "[Mon Nov 21 22:46:11 2022] [::1]:43278 Closing\n",
      "[Mon Nov 21 22:46:11 2022] [::1]:43288 Accepted\n",
      "[Mon Nov 21 22:46:11 2022] [::1]:43288 [200]: GET /users/3\n",
      "[Mon Nov 21 22:46:11 2022] [::1]:43288 Closing\n",
      "[Mon Nov 21 22:46:11 2022] [::1]:43290 Accepted\n",
      "[Mon Nov 21 22:46:11 2022] [::1]:43290 [200]: GET /demo/file\n",
      "[Mon Nov 21 22:46:11 2022] [::1]:43290 Closing\n",
      "[Mon Nov 21 22:46:11 2022] [::1]:43298 Accepted\n",
      "[Mon Nov 21 22:46:11 2022] [::1]:43298 [200]: GET /demo/session\n",
      "[Mon Nov 21 22:46:11 2022] [::1]:43298 Closing\n",
      "[Mon Nov 21 22:46:11 2022] [::1]:43312 Accepted\n"
     ]
    },
    {
     "name": "stdout",
     "output_type": "stream",
     "text": [
      "\r",
      "\u001b[32;1m✔\u001b[39;22m \u001b[35;1mTest03_SQLiteStorageCest:\u001b[39;22m Test \u001b[32m(0.09s)\u001b[39m\r\n",
      "- \u001b[35;1mTest04_MySQLStorageCest:\u001b[39;22m Test"
     ]
    },
    {
     "name": "stderr",
     "output_type": "stream",
     "text": [
      "[Mon Nov 21 22:46:11 2022] [::1]:43312 [200]: GET /demo/sqlite\n",
      "[Mon Nov 21 22:46:11 2022] [::1]:43312 Closing\n",
      "[Mon Nov 21 22:46:11 2022] [::1]:43328 Accepted\n",
      "[Mon Nov 21 22:46:11 2022] [::1]:43328 [200]: GET /demo/mysql\n",
      "[Mon Nov 21 22:46:11 2022] [::1]:43328 Closing\n",
      "[Mon Nov 21 22:46:11 2022] [::1]:43338 Accepted\n"
     ]
    },
    {
     "name": "stdout",
     "output_type": "stream",
     "text": [
      "\u001b[32;1m✔\u001b[39;22m \u001b[35;1mTest04_MySQLStorageCest:\u001b[39;22m Test \u001b[32m(0.27s)\u001b[39m\n",
      "\u001b[32;1m✔\u001b[39;22m \u001b[35;1mTest05_RedisStorageCest:\u001b[39;22m Test \u001b[32m(0.03s)\u001b[39m\n",
      "- \u001b[35;1mTest06_HomepageCest:\u001b[39;22m See welcome message on homepage"
     ]
    },
    {
     "name": "stderr",
     "output_type": "stream",
     "text": [
      "[Mon Nov 21 22:46:11 2022] [::1]:43338 [200]: GET /demo/mysql\n",
      "[Mon Nov 21 22:46:11 2022] [::1]:43338 Closing\n",
      "[Mon Nov 21 22:46:11 2022] [::1]:43342 Accepted\n",
      "[Mon Nov 21 22:46:11 2022] [::1]:43342 [200]: GET /demo/redis\n",
      "[Mon Nov 21 22:46:11 2022] [::1]:43342 Closing\n",
      "[Mon Nov 21 22:46:11 2022] [::1]:43352 Accepted\n",
      "[Mon Nov 21 22:46:11 2022] [::1]:43352 [200]: GET /\n",
      "[Mon Nov 21 22:46:11 2022] [::1]:43352 Closing\n",
      "[Mon Nov 21 22:46:11 2022] [::1]:43364 Accepted\n",
      "[Mon Nov 21 22:46:11 2022] [::1]:43364 [200]: GET /home\n",
      "[Mon Nov 21 22:46:11 2022] [::1]:43364 Closing\n"
     ]
    },
    {
     "name": "stdout",
     "output_type": "stream",
     "text": [
      "\r",
      "\u001b[32;1m✔\u001b[39;22m \u001b[35;1mTest06_HomepageCest:\u001b[39;22m See login and register links \u001b[32m(0.10s)\u001b[39m\r\n",
      "- \u001b[35;1mTest07_RegisterCest:\u001b[39;22m Register new user"
     ]
    },
    {
     "name": "stderr",
     "output_type": "stream",
     "text": [
      "[Mon Nov 21 22:46:11 2022] [::1]:43370 Accepted\n",
      "[Mon Nov 21 22:46:11 2022] [::1]:43370 [200]: GET /\n",
      "[Mon Nov 21 22:46:11 2022] [::1]:43370 Closing\n",
      "[Mon Nov 21 22:46:11 2022] [::1]:43386 Accepted\n",
      "[Mon Nov 21 22:46:11 2022] [::1]:43386 [200]: GET /auth/register\n",
      "[Mon Nov 21 22:46:11 2022] [::1]:43386 Closing\n",
      "[Mon Nov 21 22:46:11 2022] [::1]:43390 Accepted\n"
     ]
    },
    {
     "name": "stdout",
     "output_type": "stream",
     "text": [
      "\r",
      "\u001b[32;1m✔\u001b[39;22m \u001b[35;1mTest07_RegisterCest:\u001b[39;22m Register new user \u001b[32m(0.49s)\u001b[39m\r\n",
      "- \u001b[35;1mTest08_RegisterValidationCest:\u001b[39;22m Validate data entered during registration"
     ]
    },
    {
     "name": "stderr",
     "output_type": "stream",
     "text": [
      "[Mon Nov 21 22:46:12 2022] [::1]:43390 [302]: POST /auth/register\n",
      "[Mon Nov 21 22:46:12 2022] [::1]:43390 Closing\n",
      "[Mon Nov 21 22:46:12 2022] [::1]:43396 Accepted\n",
      "[Mon Nov 21 22:46:12 2022] [::1]:43396 [200]: GET /auth/confirmation_notice\n",
      "[Mon Nov 21 22:46:12 2022] [::1]:43396 Closing\n"
     ]
    },
    {
     "name": "stdout",
     "output_type": "stream",
     "text": [
      "\r",
      "\u001b[32;1m✔\u001b[39;22m \u001b[35;1mTest08_RegisterValidationCest:\u001b[39;22m Validate data entered during registration \u001b[32m(0.13s)\u001b[39m\r\n",
      "- \u001b[35;1mTest09_RegisterRememberFieldsCest:\u001b[39;22m Remember data entered during registration when validation error is present"
     ]
    },
    {
     "name": "stderr",
     "output_type": "stream",
     "text": [
      "[Mon Nov 21 22:46:12 2022] [::1]:43400 Accepted\n",
      "[Mon Nov 21 22:46:12 2022] [::1]:43400 [200]: GET /auth/register\n",
      "[Mon Nov 21 22:46:12 2022] [::1]:43400 Closing\n",
      "[Mon Nov 21 22:46:12 2022] [::1]:43414 Accepted\n",
      "[Mon Nov 21 22:46:12 2022] [::1]:43414 [200]: POST /auth/register\n",
      "[Mon Nov 21 22:46:12 2022] [::1]:43414 Closing\n",
      "[Mon Nov 21 22:46:12 2022] [::1]:43428 Accepted\n",
      "[Mon Nov 21 22:46:12 2022] [::1]:43428 [200]: POST /auth/register\n",
      "[Mon Nov 21 22:46:12 2022] [::1]:43428 Closing\n",
      "[Mon Nov 21 22:46:12 2022] [::1]:43436 Accepted\n",
      "[Mon Nov 21 22:46:12 2022] [::1]:43436 [200]: GET /auth/register\n",
      "[Mon Nov 21 22:46:12 2022] [::1]:43436 Closing\n",
      "[Mon Nov 21 22:46:12 2022] [::1]:43450 Accepted\n",
      "[Mon Nov 21 22:46:12 2022] [::1]:43450 [200]: POST /auth/register\n",
      "[Mon Nov 21 22:46:12 2022] [::1]:43450 Closing\n",
      "[Mon Nov 21 22:46:12 2022] [::1]:43452 Accepted\n",
      "[Mon Nov 21 22:46:12 2022] [::1]:43452 [200]: POST /auth/register\n",
      "[Mon Nov 21 22:46:12 2022] [::1]:43452 Closing\n",
      "[Mon Nov 21 22:46:12 2022] [::1]:43460 Accepted\n",
      "[Mon Nov 21 22:46:12 2022] [::1]:43460 [200]: POST /auth/register\n",
      "[Mon Nov 21 22:46:12 2022] [::1]:43460 Closing\n"
     ]
    },
    {
     "name": "stdout",
     "output_type": "stream",
     "text": [
      "\r",
      "\u001b[32;1m✔\u001b[39;22m \u001b[35;1mTest09_RegisterRememberFieldsCest:\u001b[39;22m Remember data entered during registration when validation error is present \u001b[32m(0.25s)\u001b[39m\r\n",
      "- \u001b[35;1mTest10_RegisterConfirmCest:\u001b[39;22m Confirm user using link"
     ]
    },
    {
     "name": "stderr",
     "output_type": "stream",
     "text": [
      "[Mon Nov 21 22:46:12 2022] [::1]:43466 Accepted\n",
      "[Mon Nov 21 22:46:12 2022] [::1]:43466 [200]: POST /auth/register\n",
      "[Mon Nov 21 22:46:12 2022] [::1]:43466 Closing\n",
      "[Mon Nov 21 22:46:12 2022] [::1]:43476 Accepted\n",
      "[Mon Nov 21 22:46:12 2022] [::1]:43476 [200]: POST /auth/register\n",
      "[Mon Nov 21 22:46:12 2022] [::1]:43476 Closing\n",
      "[Mon Nov 21 22:46:12 2022] [::1]:43484 Accepted\n",
      "[Mon Nov 21 22:46:12 2022] [::1]:43484 [200]: GET /auth/register\n",
      "[Mon Nov 21 22:46:12 2022] [::1]:43484 Closing\n"
     ]
    },
    {
     "name": "stdout",
     "output_type": "stream",
     "text": [
      "\r",
      "\u001b[32;1m✔\u001b[39;22m \u001b[35;1mTest10_RegisterConfirmCest:\u001b[39;22m Check that info disappears after page refresh \u001b[32m(0.30s)\u001b[39m\r\n",
      "- \u001b[35;1mTest11_LoginNotExistingCest:\u001b[39;22m See error when user does not exists"
     ]
    },
    {
     "name": "stderr",
     "output_type": "stream",
     "text": [
      "[Mon Nov 21 22:46:12 2022] [::1]:43488 Accepted\n",
      "[Mon Nov 21 22:46:12 2022] [::1]:43488 [302]: GET /auth/confirm/ThisIsAnInvalidEmailConfirmationToken\n",
      "[Mon Nov 21 22:46:12 2022] [::1]:43488 Closing\n",
      "[Mon Nov 21 22:46:12 2022] [::1]:43492 Accepted\n",
      "[Mon Nov 21 22:46:12 2022] [::1]:43492 [200]: GET /\n",
      "[Mon Nov 21 22:46:12 2022] [::1]:43492 Closing\n",
      "[Mon Nov 21 22:46:12 2022] [::1]:43494 Accepted\n",
      "[Mon Nov 21 22:46:12 2022] [::1]:43494 [200]: GET /\n",
      "[Mon Nov 21 22:46:12 2022] [::1]:43494 Closing\n",
      "[Mon Nov 21 22:46:12 2022] [::1]:43496 Accepted\n",
      "[Mon Nov 21 22:46:12 2022] [::1]:43496 [302]: GET /auth/confirm/84739bcd84f32a67af7246ae35428bf6\n",
      "[Mon Nov 21 22:46:12 2022] [::1]:43496 Closing\n",
      "[Mon Nov 21 22:46:12 2022] [::1]:43504 Accepted\n",
      "[Mon Nov 21 22:46:12 2022] [::1]:43504 [200]: GET /\n",
      "[Mon Nov 21 22:46:12 2022] [::1]:43504 Closing\n",
      "[Mon Nov 21 22:46:12 2022] [::1]:43514 Accepted\n",
      "[Mon Nov 21 22:46:12 2022] [::1]:43514 [200]: GET /\n",
      "[Mon Nov 21 22:46:12 2022] [::1]:43514 Closing\n",
      "[Mon Nov 21 22:46:13 2022] [::1]:43528 Accepted\n",
      "[Mon Nov 21 22:46:13 2022] [::1]:43528 [200]: GET /auth/login\n",
      "[Mon Nov 21 22:46:13 2022] [::1]:43528 Closing\n",
      "[Mon Nov 21 22:46:13 2022] [::1]:43538 Accepted\n",
      "[Mon Nov 21 22:46:13 2022] [::1]:43538 [302]: POST /auth/login\n",
      "[Mon Nov 21 22:46:13 2022] [::1]:43538 Closing\n",
      "[Mon Nov 21 22:46:13 2022] [::1]:43548 Accepted\n",
      "[Mon Nov 21 22:46:13 2022] [::1]:43548 [200]: GET /\n",
      "[Mon Nov 21 22:46:13 2022] [::1]:43548 Closing\n"
     ]
    },
    {
     "name": "stdout",
     "output_type": "stream",
     "text": [
      "\r",
      "\u001b[32;1m✔\u001b[39;22m \u001b[35;1mTest11_LoginNotExistingCest:\u001b[39;22m See error when user does not exists \u001b[32m(0.10s)\u001b[39m\r\n",
      "- \u001b[35;1mTest12_LoginWrongPasswordCest:\u001b[39;22m See error when wrong password is entered"
     ]
    },
    {
     "name": "stderr",
     "output_type": "stream",
     "text": [
      "[Mon Nov 21 22:46:13 2022] [::1]:43564 Accepted\n",
      "[Mon Nov 21 22:46:13 2022] [::1]:43564 [200]: GET /auth/login\n",
      "[Mon Nov 21 22:46:13 2022] [::1]:43564 Closing\n",
      "[Mon Nov 21 22:46:13 2022] [::1]:43570 Accepted\n"
     ]
    },
    {
     "name": "stdout",
     "output_type": "stream",
     "text": [
      "\r",
      "\u001b[32;1m✔\u001b[39;22m \u001b[35;1mTest12_LoginWrongPasswordCest:\u001b[39;22m See error when wrong password is entered \u001b[32m(0.42s)\u001b[39m\r\n",
      "- \u001b[35;1mTest13_LoginNotConfirmedCest:\u001b[39;22m Be remained about email confirmation when trying to login"
     ]
    },
    {
     "name": "stderr",
     "output_type": "stream",
     "text": [
      "[Mon Nov 21 22:46:13 2022] [::1]:43570 [200]: POST /auth/login\n",
      "[Mon Nov 21 22:46:13 2022] [::1]:43570 Closing\n",
      "[Mon Nov 21 22:46:13 2022] [::1]:43580 Accepted\n",
      "[Mon Nov 21 22:46:13 2022] [::1]:43580 [200]: GET /auth/login\n",
      "[Mon Nov 21 22:46:13 2022] [::1]:43580 Closing\n"
     ]
    },
    {
     "name": "stdout",
     "output_type": "stream",
     "text": [
      "\r",
      "\u001b[31;1m✖\u001b[39;22m \u001b[35;1mTest13_LoginNotConfirmedCest:\u001b[39;22m Be remained about email confirmation when trying to login \u001b[32m(0.41s)\u001b[39m\r\n",
      "- \u001b[35;1mTest14_LoginLogoutSeeHiddenContentCest:\u001b[39;22m See hidden content after login"
     ]
    },
    {
     "name": "stderr",
     "output_type": "stream",
     "text": [
      "[Mon Nov 21 22:46:13 2022] [::1]:43584 Accepted\n",
      "[Mon Nov 21 22:46:13 2022] [::1]:43584 [200]: POST /auth/login\n",
      "[Mon Nov 21 22:46:13 2022] [::1]:43584 Closing\n",
      "[Mon Nov 21 22:46:14 2022] [::1]:43590 Accepted\n",
      "[Mon Nov 21 22:46:14 2022] [::1]:43590 [200]: GET /\n",
      "[Mon Nov 21 22:46:14 2022] [::1]:43590 Closing\n",
      "[Mon Nov 21 22:46:14 2022] [::1]:43598 Accepted\n",
      "[Mon Nov 21 22:46:14 2022] [::1]:43598 [200]: GET /auth/login\n",
      "[Mon Nov 21 22:46:14 2022] [::1]:43598 Closing\n",
      "[Mon Nov 21 22:46:14 2022] [::1]:43604 Accepted\n",
      "[Mon Nov 21 22:46:14 2022] [::1]:43604 [302]: POST /auth/login\n",
      "[Mon Nov 21 22:46:14 2022] [::1]:43604 Closing\n",
      "[Mon Nov 21 22:46:14 2022] [::1]:43616 Accepted\n",
      "[Mon Nov 21 22:46:14 2022] [::1]:43616 [200]: GET /\n",
      "[Mon Nov 21 22:46:14 2022] [::1]:43616 Closing\n"
     ]
    },
    {
     "name": "stdout",
     "output_type": "stream",
     "text": [
      "\u001b[31;1m✖\u001b[39;22m \u001b[35;1mTest14_LoginLogoutSeeHiddenContentCest:\u001b[39;22m See hidden content after login \u001b[32m(0.41s)\u001b[39m\n",
      "--------------------------------------------------------------------------------\n",
      "Time: 00:03.419, Memory: 12.00 MB\n",
      "\n",
      "There were 2 failures:\n",
      "1) \u001b[35;1mTest13_LoginNotConfirmedCest:\u001b[39;22m Be remained about email confirmation when trying to login\n",
      "\u001b[37;41;1m Test  \u001b[39;49;22mtests/Acceptance/Test13_LoginNotConfirmedCest.php:test\n",
      "\u001b[37;41;1m Step \u001b[39;49;22m See current url equals \"/auth/confirmation_notice\"\n",
      "\u001b[37;41;1m Fail \u001b[39;49;22m Failed asserting that two strings are identical.\n",
      "\u001b[33m- Expected\u001b[39m | \u001b[32m+ Actual\u001b[39m\n",
      "@@ @@\n",
      "\u001b[33m-'/auth/confirmation_notice'\u001b[39m\n",
      "\u001b[32m+'/auth/login'\u001b[39m\n",
      "\u001b[33m\n",
      "Scenario Steps:\n",
      "\u001b[39m\n",
      "\u001b[1m 8. $I->seeCurrentUrlEquals(\"/auth/confirmation_notice\")\u001b[22m at \u001b[32mtests/Acceptance/Test13_LoginNotConfirmedCest.php:42\u001b[39m\n",
      " 7. $I->click(\"Enter\") at \u001b[32mtests/Acceptance/Test13_LoginNotConfirmedCest.php:40\u001b[39m\n",
      " 6. $I->fillField(\"password\",\"foo\") at \u001b[32mtests/Acceptance/Test13_LoginNotConfirmedCest.php:38\u001b[39m\n",
      " 5. $I->fillField(\"email\",\"dummy@example.com\") at \u001b[32mtests/Acceptance/Test13_LoginNotConfirmedCest.php:37\u001b[39m\n",
      " 4. $I->haveInDatabase(\"objects\",{\"key\":\"model_user_1\",\"data\":\"O:10:\"Model\\...}) at \u001b[32mtests/Acceptance/Test13_LoginNotConfirmedCest.php:33\u001b[39m\n",
      " 3. $I->see(\"Login\",\"h2\") at \u001b[32mtests/Acceptance/Test13_LoginNotConfirmedCest.php:19\u001b[39m\n",
      "\n",
      "\u001b[33mArtifacts:\u001b[39m\n",
      "\n",
      "Html: \u001b[36m/home/student/php_2022_adam_lewinski/07_testing/02_exercise/project/tests/_output/Tests.Acceptance.Test13_LoginNotConfirmedCest.test.fail.html\u001b[39m\n",
      "Response: \u001b[36m/home/student/php_2022_adam_lewinski/07_testing/02_exercise/project/tests/_output/Tests.Acceptance.Test13_LoginNotConfirmedCest.test.fail.html\u001b[39m\n",
      "2) \u001b[35;1mTest14_LoginLogoutSeeHiddenContentCest:\u001b[39;22m See hidden content after login\n",
      "\u001b[37;41;1m Test  \u001b[39;49;22mtests/Acceptance/Test14_LoginLogoutSeeHiddenContentCest.php:test\n",
      "\u001b[37;41;1m Step \u001b[39;49;22m See \"Welcome back Dummy!\"\n",
      "\u001b[37;41;1m Fail \u001b[39;49;22m Failed asserting that on page /\n",
      "-->  Homepage Home Demo About Users Welcome on homepage! Login Register \n",
      "--> contains \"Welcome back Dummy!\".\n",
      "\u001b[33m\n",
      "Scenario Steps:\n",
      "\u001b[39m\n",
      "\u001b[1m 14. $I->see(\"Welcome back Dummy!\")\u001b[22m at \u001b[32mtests/Acceptance/Test14_LoginLogoutSeeHiddenContentCest.php:53\u001b[39m\n",
      " 13. $I->seeCurrentUrlEquals(\"/\") at \u001b[32mtests/Acceptance/Test14_LoginLogoutSeeHiddenContentCest.php:52\u001b[39m\n",
      " 12. $I->click(\"Enter\") at \u001b[32mtests/Acceptance/Test14_LoginLogoutSeeHiddenContentCest.php:50\u001b[39m\n",
      " 11. $I->fillField(\"password\",\"foo\") at \u001b[32mtests/Acceptance/Test14_LoginLogoutSeeHiddenContentCest.php:48\u001b[39m\n",
      " 10. $I->fillField(\"email\",\"dummy@example.com\") at \u001b[32mtests/Acceptance/Test14_LoginLogoutSeeHiddenContentCest.php:47\u001b[39m\n",
      " 9. $I->see(\"Login\",\"h2\") at \u001b[32mtests/Acceptance/Test14_LoginLogoutSeeHiddenContentCest.php:44\u001b[39m\n",
      "\n",
      "\u001b[33mArtifacts:\u001b[39m\n",
      "\n",
      "Html: \u001b[36m/home/student/php_2022_adam_lewinski/07_testing/02_exercise/project/tests/_output/Tests.Acceptance.Test14_LoginLogoutSeeHiddenContentCest.test.fail.html\u001b[39m\n",
      "Response: \u001b[36m/home/student/php_2022_adam_lewinski/07_testing/02_exercise/project/tests/_output/Tests.Acceptance.Test14_LoginLogoutSeeHiddenContentCest.test.fail.html\u001b[39m\n",
      "\n",
      "\u001b[37;41;1mFAILURES!\u001b[39;49;22m\n",
      "\u001b[37;41;1mTests: 15, Assertions: 266, Failures: 2.\u001b[39;49;22m\n",
      "- \u001b[1mJUNIT XML\u001b[22m report generated in \u001b[33mfile:///home/student/php_2022_adam_lewinski/07_testing/02_exercise/project/tests/_output/test_report.xml\u001b[39m\n"
     ]
    }
   ],
   "source": [
    "! vendor/bin/codecept run Acceptance --xml test_report.xml"
   ]
  },
  {
   "cell_type": "code",
   "execution_count": 137,
   "metadata": {},
   "outputs": [],
   "source": [
    "phpServer.kill()"
   ]
  },
  {
   "cell_type": "code",
   "execution_count": 138,
   "metadata": {},
   "outputs": [
    {
     "name": "stdout",
     "output_type": "stream",
     "text": [
      "/home/student/php_2022_adam_lewinski/07_testing/02_exercise\n"
     ]
    }
   ],
   "source": [
    "%cd ../"
   ]
  },
  {
   "cell_type": "markdown",
   "metadata": {},
   "source": [
    "Stop the databses:"
   ]
  },
  {
   "cell_type": "code",
   "execution_count": null,
   "metadata": {},
   "outputs": [],
   "source": [
    "! docker container stop redis"
   ]
  },
  {
   "cell_type": "code",
   "execution_count": null,
   "metadata": {},
   "outputs": [],
   "source": [
    "! docker container stop mysql"
   ]
  }
 ],
 "metadata": {
  "kernelspec": {
   "display_name": "Python 3 (ipykernel)",
   "language": "python",
   "name": "python3"
  },
  "language_info": {
   "codemirror_mode": {
    "name": "ipython",
    "version": 3
   },
   "file_extension": ".py",
   "mimetype": "text/x-python",
   "name": "python",
   "nbconvert_exporter": "python",
   "pygments_lexer": "ipython3",
   "version": "3.10.6"
  }
 },
 "nbformat": 4,
 "nbformat_minor": 4
}
