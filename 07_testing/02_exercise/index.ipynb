{
 "cells": [
  {
   "cell_type": "markdown",
   "metadata": {},
   "source": [
    "# PHP 2022"
   ]
  },
  {
   "cell_type": "markdown",
   "metadata": {},
   "source": [
    "## 7. Testing"
   ]
  },
  {
   "cell_type": "markdown",
   "metadata": {},
   "source": [
    "### 7.2 Exercise"
   ]
  },
  {
   "cell_type": "markdown",
   "metadata": {},
   "source": [
    "Implment missing code."
   ]
  },
  {
   "cell_type": "markdown",
   "metadata": {},
   "source": [
    "Start the databses:"
   ]
  },
  {
   "cell_type": "code",
   "execution_count": 1,
   "metadata": {},
   "outputs": [
    {
     "name": "stdout",
     "output_type": "stream",
     "text": [
      "docker: Error response from daemon: Conflict. The container name \"/redis\" is already in use by container \"3b2816acceaf98ecf64768ef9abf904c28ee4c45199bec2e62bc43c3512e869a\". You have to remove (or rename) that container to be able to reuse that name.\r\n",
      "See 'docker run --help'.\r\n"
     ]
    }
   ],
   "source": [
    "! docker run --net=host --rm --name redis -d redis"
   ]
  },
  {
   "cell_type": "code",
   "execution_count": 2,
   "metadata": {},
   "outputs": [
    {
     "name": "stdout",
     "output_type": "stream",
     "text": [
      "docker: Error response from daemon: Conflict. The container name \"/mysql\" is already in use by container \"c8a2e91eb2db4e9a44e24b50d98055fff015c053b031cef879ed307ed7f2b005\". You have to remove (or rename) that container to be able to reuse that name.\r\n",
      "See 'docker run --help'.\r\n"
     ]
    }
   ],
   "source": [
    "! docker run --name=mysql --net=host --rm --env MYSQL_ROOT_PASSWORD=root123 --env MYSQL_DATABASE=test --env MYSQL_USER=test --env MYSQL_PASSWORD=test123 -d mysql/mysql-server:8.0"
   ]
  },
  {
   "cell_type": "code",
   "execution_count": 3,
   "metadata": {},
   "outputs": [
    {
     "name": "stdout",
     "output_type": "stream",
     "text": [
      "Done.\r\n"
     ]
    }
   ],
   "source": [
    "! while ! timeout 1 bash -c \"echo > /dev/tcp/localhost/6379\" 2> /dev/null; do sleep 1; done; echo \"Done.\";"
   ]
  },
  {
   "cell_type": "code",
   "execution_count": 4,
   "metadata": {},
   "outputs": [
    {
     "name": "stdout",
     "output_type": "stream",
     "text": [
      "Done.\r\n"
     ]
    }
   ],
   "source": [
    "! while ! timeout 1 bash -c \"echo > /dev/tcp/localhost/3306\" 2> /dev/null; do sleep 1; done; echo \"Done.\";"
   ]
  },
  {
   "cell_type": "markdown",
   "metadata": {},
   "source": [
    "Edit the code:"
   ]
  },
  {
   "cell_type": "code",
   "execution_count": null,
   "metadata": {},
   "outputs": [
    {
     "name": "stdout",
     "output_type": "stream",
     "text": [
      "CompileCommand: exclude com/intellij/openapi/vfs/impl/FilePartNodeRoot.trieDescend bool exclude = true\n",
      "2022-11-21 02:43:04,036 [   1743] SEVERE - #c.i.d.LoadingState - Should be called at least in the state COMPONENTS_LOADED, the current state is: CONFIGURATION_STORE_INITIALIZED\n",
      "Current violators count: 1\n",
      "\n",
      "\n",
      "java.lang.Throwable\n",
      "\tat com.intellij.diagnostic.LoadingState.logStateError(LoadingState.java:52)\n",
      "\tat com.intellij.diagnostic.LoadingState.checkOccurred(LoadingState.java:48)\n",
      "\tat com.intellij.openapi.actionSystem.impl.ActionManagerImpl.<init>(ActionManagerImpl.java:133)\n",
      "\tat com.jetbrains.rdserver.ui.actionPopupMenu.BackendActionManager.<init>(BackendActionManager.kt:17)\n",
      "\tat java.base/jdk.internal.reflect.NativeConstructorAccessorImpl.newInstance0(Native Method)\n",
      "\tat java.base/jdk.internal.reflect.NativeConstructorAccessorImpl.newInstance(NativeConstructorAccessorImpl.java:77)\n",
      "\tat java.base/jdk.internal.reflect.DelegatingConstructorAccessorImpl.newInstance(DelegatingConstructorAccessorImpl.java:45)\n",
      "\tat java.base/java.lang.reflect.Constructor.newInstanceWithCaller(Constructor.java:499)\n",
      "\tat java.base/java.lang.reflect.Constructor.newInstance(Constructor.java:480)\n",
      "\tat com.intellij.serviceContainer.ConstructorInjectionKt.instantiateUsingPicoContainer(constructorInjection.kt:47)\n",
      "\tat com.intellij.serviceContainer.ComponentManagerImpl.instantiateClassWithConstructorInjection(ComponentManagerImpl.kt:890)\n",
      "\tat com.intellij.serviceContainer.ServiceComponentAdapter.createAndInitialize(ServiceComponentAdapter.kt:51)\n",
      "\tat com.intellij.serviceContainer.ServiceComponentAdapter.doCreateInstance(ServiceComponentAdapter.kt:41)\n",
      "\tat com.intellij.serviceContainer.BaseComponentAdapter.getInstanceUncached(BaseComponentAdapter.kt:119)\n",
      "\tat com.intellij.serviceContainer.BaseComponentAdapter.getInstance(BaseComponentAdapter.kt:73)\n",
      "\tat com.intellij.serviceContainer.BaseComponentAdapter.getInstance$default(BaseComponentAdapter.kt:66)\n",
      "\tat com.intellij.serviceContainer.ComponentManagerImpl.doGetService(ComponentManagerImpl.kt:609)\n",
      "\tat com.intellij.serviceContainer.ComponentManagerImpl.getService(ComponentManagerImpl.kt:583)\n",
      "\tat com.intellij.openapi.client.ClientAwareComponentManager.getFromSelfOrCurrentSession(ClientAwareComponentManager.kt:37)\n",
      "\tat com.intellij.openapi.client.ClientAwareComponentManager.getService(ClientAwareComponentManager.kt:22)\n",
      "\tat com.intellij.openapi.actionSystem.ActionManager.getInstance(ActionManager.java:29)\n",
      "\tat com.intellij.help.impl.KeymapGenerator.<clinit>(KeymapGenerator.java:33)\n",
      "\tat java.base/jdk.internal.misc.Unsafe.allocateInstance(Native Method)\n",
      "\tat java.base/java.lang.invoke.DirectMethodHandle.allocateInstance(DirectMethodHandle.java:520)\n",
      "\tat com.intellij.serviceContainer.ComponentManagerImpl.instantiateClass(ComponentManagerImpl.kt:844)\n",
      "\tat com.intellij.openapi.extensions.impl.XmlExtensionAdapter.instantiateClass(XmlExtensionAdapter.kt:79)\n",
      "\tat com.intellij.openapi.extensions.impl.XmlExtensionAdapter$SimpleConstructorInjectionAdapter.instantiateClass(XmlExtensionAdapter.kt:90)\n",
      "\tat com.intellij.openapi.extensions.impl.XmlExtensionAdapter.doCreateInstance(XmlExtensionAdapter.kt:50)\n",
      "\tat com.intellij.openapi.extensions.impl.XmlExtensionAdapter.createInstance(XmlExtensionAdapter.kt:31)\n",
      "\tat com.intellij.openapi.extensions.impl.ExtensionPointImpl.processAdapter(ExtensionPointImpl.java:447)\n",
      "\tat com.intellij.openapi.extensions.impl.ExtensionPointImpl.access$200(ExtensionPointImpl.java:33)\n",
      "\tat com.intellij.openapi.extensions.impl.ExtensionPointImpl$1.next(ExtensionPointImpl.java:355)\n",
      "\tat com.intellij.idea.ApplicationLoader.findAppStarter(ApplicationLoader.kt:595)\n",
      "\tat com.intellij.idea.ApplicationLoader.access$findAppStarter(ApplicationLoader.kt:1)\n",
      "\tat com.intellij.idea.ApplicationLoader$initApplication$block$3.apply(ApplicationLoader.kt:170)\n",
      "\tat com.intellij.idea.ApplicationLoader$initApplication$block$3.apply(ApplicationLoader.kt)\n",
      "\tat java.base/java.util.concurrent.CompletableFuture.uniComposeStage(CompletableFuture.java:1187)\n",
      "\tat java.base/java.util.concurrent.CompletableFuture.thenCompose(CompletableFuture.java:2309)\n",
      "\tat com.intellij.idea.ApplicationLoader.initApplication(ApplicationLoader.kt:145)\n",
      "\tat java.base/jdk.internal.reflect.NativeMethodAccessorImpl.invoke0(Native Method)\n",
      "\tat java.base/jdk.internal.reflect.NativeMethodAccessorImpl.invoke(NativeMethodAccessorImpl.java:77)\n",
      "\tat java.base/jdk.internal.reflect.DelegatingMethodAccessorImpl.invoke(DelegatingMethodAccessorImpl.java:43)\n",
      "\tat java.base/java.lang.reflect.Method.invoke(Method.java:568)\n",
      "\tat com.intellij.idea.m.m(m.java:100)\n",
      "\tat com.intellij.ide.m.v.G.m(G.java:137)\n",
      "\tat com.intellij.ide.m.v.v.m(v.java:189)\n",
      "\tat java.base/jdk.internal.reflect.NativeMethodAccessorImpl.invoke0(Native Method)\n",
      "\tat java.base/jdk.internal.reflect.NativeMethodAccessorImpl.invoke(NativeMethodAccessorImpl.java:77)\n",
      "\tat java.base/jdk.internal.reflect.DelegatingMethodAccessorImpl.invoke(DelegatingMethodAccessorImpl.java:43)\n",
      "\tat java.base/java.lang.reflect.Method.invoke(Method.java:568)\n",
      "\tat com.intellij.idea.MainImpl.start(MainImpl.java:85)\n",
      "\tat com.intellij.idea.StartupUtil.lambda$start$14(StartupUtil.java:262)\n",
      "\tat java.base/java.util.concurrent.CompletableFuture$UniCompose.tryFire(CompletableFuture.java:1150)\n",
      "\tat java.base/java.util.concurrent.CompletableFuture.postComplete(CompletableFuture.java:510)\n",
      "\tat java.base/java.util.concurrent.CompletableFuture$AsyncSupply.run(CompletableFuture.java:1773)\n",
      "\tat java.base/java.util.concurrent.CompletableFuture$AsyncSupply.exec(CompletableFuture.java:1760)\n",
      "\tat java.base/java.util.concurrent.ForkJoinTask.doExec(ForkJoinTask.java:373)\n",
      "\tat java.base/java.util.concurrent.ForkJoinPool$WorkQueue.topLevelExec(ForkJoinPool.java:1182)\n",
      "\tat java.base/java.util.concurrent.ForkJoinPool.scan(ForkJoinPool.java:1655)\n",
      "\tat java.base/java.util.concurrent.ForkJoinPool.runWorker(ForkJoinPool.java:1622)\n",
      "\tat java.base/java.util.concurrent.ForkJoinWorkerThread.run(ForkJoinWorkerThread.java:165)\n",
      "2022-11-21 02:43:04,048 [   1755] SEVERE - #c.i.d.LoadingState - PhpStorm 2022.2.3  Build #PS-222.4345.15\n",
      "2022-11-21 02:43:04,050 [   1757] SEVERE - #c.i.d.LoadingState - JDK: 17.0.4.1; VM: OpenJDK 64-Bit Server VM; Vendor: JetBrains s.r.o.\n",
      "2022-11-21 02:43:04,051 [   1758] SEVERE - #c.i.d.LoadingState - OS: Linux\n",
      "2022-11-21 02:43:04,731 [   2438] SEVERE - #c.i.d.LoadingState - Should be called at least in the state COMPONENTS_LOADED, the current state is: CONFIGURATION_STORE_INITIALIZED\n",
      "Current violators count: 2\n",
      "\n",
      "\n",
      "java.lang.Throwable\n",
      "\tat com.intellij.diagnostic.LoadingState.logStateError(LoadingState.java:52)\n",
      "\tat com.intellij.diagnostic.LoadingState.checkOccurred(LoadingState.java:48)\n",
      "\tat com.intellij.openapi.util.registry.Registry.getInstance(Registry.java:176)\n",
      "\tat com.intellij.openapi.util.registry.Registry.get(Registry.java:50)\n",
      "\tat com.intellij.openapi.util.registry.Registry.is(Registry.java:63)\n",
      "\tat com.intellij.execution.ExecutorRegistryImpl.isExecutorInMainGroup(ExecutorRegistryImpl.java:195)\n",
      "\tat com.intellij.execution.ExecutorRegistryImpl.initExecutorActions(ExecutorRegistryImpl.java:127)\n",
      "\tat com.intellij.execution.ExecutorRegistryImpl.init(ExecutorRegistryImpl.java:278)\n",
      "\tat com.intellij.execution.ExecutorRegistryImpl$ExecutorRegistryActionConfigurationTuner.customize(ExecutorRegistryImpl.java:92)\n",
      "\tat com.intellij.openapi.actionSystem.impl.ActionManagerImpl.lambda$new$0(ActionManagerImpl.java:141)\n",
      "\tat com.intellij.openapi.extensions.impl.ExtensionProcessingHelper.forEachExtensionSafe(ExtensionProcessingHelper.java:34)\n",
      "\tat com.intellij.openapi.extensions.ExtensionPointName.forEachExtensionSafe(ExtensionPointName.java:46)\n",
      "\tat com.intellij.openapi.actionSystem.impl.ActionManagerImpl.<init>(ActionManagerImpl.java:141)\n",
      "\tat com.jetbrains.rdserver.ui.actionPopupMenu.BackendActionManager.<init>(BackendActionManager.kt:17)\n",
      "\tat java.base/jdk.internal.reflect.NativeConstructorAccessorImpl.newInstance0(Native Method)\n",
      "\tat java.base/jdk.internal.reflect.NativeConstructorAccessorImpl.newInstance(NativeConstructorAccessorImpl.java:77)\n",
      "\tat java.base/jdk.internal.reflect.DelegatingConstructorAccessorImpl.newInstance(DelegatingConstructorAccessorImpl.java:45)\n",
      "\tat java.base/java.lang.reflect.Constructor.newInstanceWithCaller(Constructor.java:499)\n",
      "\tat java.base/java.lang.reflect.Constructor.newInstance(Constructor.java:480)\n",
      "\tat com.intellij.serviceContainer.ConstructorInjectionKt.instantiateUsingPicoContainer(constructorInjection.kt:47)\n",
      "\tat com.intellij.serviceContainer.ComponentManagerImpl.instantiateClassWithConstructorInjection(ComponentManagerImpl.kt:890)\n",
      "\tat com.intellij.serviceContainer.ServiceComponentAdapter.createAndInitialize(ServiceComponentAdapter.kt:51)\n",
      "\tat com.intellij.serviceContainer.ServiceComponentAdapter.doCreateInstance(ServiceComponentAdapter.kt:41)\n",
      "\tat com.intellij.serviceContainer.BaseComponentAdapter.getInstanceUncached(BaseComponentAdapter.kt:119)\n",
      "\tat com.intellij.serviceContainer.BaseComponentAdapter.getInstance(BaseComponentAdapter.kt:73)\n",
      "\tat com.intellij.serviceContainer.BaseComponentAdapter.getInstance$default(BaseComponentAdapter.kt:66)\n",
      "\tat com.intellij.serviceContainer.ComponentManagerImpl.doGetService(ComponentManagerImpl.kt:609)\n",
      "\tat com.intellij.serviceContainer.ComponentManagerImpl.getService(ComponentManagerImpl.kt:583)\n",
      "\tat com.intellij.openapi.client.ClientAwareComponentManager.getFromSelfOrCurrentSession(ClientAwareComponentManager.kt:37)\n",
      "\tat com.intellij.openapi.client.ClientAwareComponentManager.getService(ClientAwareComponentManager.kt:22)\n",
      "\tat com.intellij.openapi.actionSystem.ActionManager.getInstance(ActionManager.java:29)\n",
      "\tat com.intellij.help.impl.KeymapGenerator.<clinit>(KeymapGenerator.java:33)\n",
      "\tat java.base/jdk.internal.misc.Unsafe.allocateInstance(Native Method)\n",
      "\tat java.base/java.lang.invoke.DirectMethodHandle.allocateInstance(DirectMethodHandle.java:520)\n",
      "\tat com.intellij.serviceContainer.ComponentManagerImpl.instantiateClass(ComponentManagerImpl.kt:844)\n",
      "\tat com.intellij.openapi.extensions.impl.XmlExtensionAdapter.instantiateClass(XmlExtensionAdapter.kt:79)\n",
      "\tat com.intellij.openapi.extensions.impl.XmlExtensionAdapter$SimpleConstructorInjectionAdapter.instantiateClass(XmlExtensionAdapter.kt:90)\n",
      "\tat com.intellij.openapi.extensions.impl.XmlExtensionAdapter.doCreateInstance(XmlExtensionAdapter.kt:50)\n",
      "\tat com.intellij.openapi.extensions.impl.XmlExtensionAdapter.createInstance(XmlExtensionAdapter.kt:31)\n",
      "\tat com.intellij.openapi.extensions.impl.ExtensionPointImpl.processAdapter(ExtensionPointImpl.java:447)\n",
      "\tat com.intellij.openapi.extensions.impl.ExtensionPointImpl.access$200(ExtensionPointImpl.java:33)\n",
      "\tat com.intellij.openapi.extensions.impl.ExtensionPointImpl$1.next(ExtensionPointImpl.java:355)\n",
      "\tat com.intellij.idea.ApplicationLoader.findAppStarter(ApplicationLoader.kt:595)\n",
      "\tat com.intellij.idea.ApplicationLoader.access$findAppStarter(ApplicationLoader.kt:1)\n",
      "\tat com.intellij.idea.ApplicationLoader$initApplication$block$3.apply(ApplicationLoader.kt:170)\n",
      "\tat com.intellij.idea.ApplicationLoader$initApplication$block$3.apply(ApplicationLoader.kt)\n",
      "\tat java.base/java.util.concurrent.CompletableFuture.uniComposeStage(CompletableFuture.java:1187)\n",
      "\tat java.base/java.util.concurrent.CompletableFuture.thenCompose(CompletableFuture.java:2309)\n",
      "\tat com.intellij.idea.ApplicationLoader.initApplication(ApplicationLoader.kt:145)\n",
      "\tat java.base/jdk.internal.reflect.NativeMethodAccessorImpl.invoke0(Native Method)\n",
      "\tat java.base/jdk.internal.reflect.NativeMethodAccessorImpl.invoke(NativeMethodAccessorImpl.java:77)\n",
      "\tat java.base/jdk.internal.reflect.DelegatingMethodAccessorImpl.invoke(DelegatingMethodAccessorImpl.java:43)\n",
      "\tat java.base/java.lang.reflect.Method.invoke(Method.java:568)\n",
      "\tat com.intellij.idea.m.m(m.java:100)\n",
      "\tat com.intellij.ide.m.v.G.m(G.java:137)\n",
      "\tat com.intellij.ide.m.v.v.m(v.java:189)\n",
      "\tat java.base/jdk.internal.reflect.NativeMethodAccessorImpl.invoke0(Native Method)\n",
      "\tat java.base/jdk.internal.reflect.NativeMethodAccessorImpl.invoke(NativeMethodAccessorImpl.java:77)\n",
      "\tat java.base/jdk.internal.reflect.DelegatingMethodAccessorImpl.invoke(DelegatingMethodAccessorImpl.java:43)\n",
      "\tat java.base/java.lang.reflect.Method.invoke(Method.java:568)\n",
      "\tat com.intellij.idea.MainImpl.start(MainImpl.java:85)\n",
      "\tat com.intellij.idea.StartupUtil.lambda$start$14(StartupUtil.java:262)\n",
      "\tat java.base/java.util.concurrent.CompletableFuture$UniCompose.tryFire(CompletableFuture.java:1150)\n",
      "\tat java.base/java.util.concurrent.CompletableFuture.postComplete(CompletableFuture.java:510)\n",
      "\tat java.base/java.util.concurrent.CompletableFuture$AsyncSupply.run(CompletableFuture.java:1773)\n",
      "\tat java.base/java.util.concurrent.CompletableFuture$AsyncSupply.exec(CompletableFuture.java:1760)\n",
      "\tat java.base/java.util.concurrent.ForkJoinTask.doExec(ForkJoinTask.java:373)\n",
      "\tat java.base/java.util.concurrent.ForkJoinPool$WorkQueue.topLevelExec(ForkJoinPool.java:1182)\n",
      "\tat java.base/java.util.concurrent.ForkJoinPool.scan(ForkJoinPool.java:1655)\n",
      "\tat java.base/java.util.concurrent.ForkJoinPool.runWorker(ForkJoinPool.java:1622)\n",
      "\tat java.base/java.util.concurrent.ForkJoinWorkerThread.run(ForkJoinWorkerThread.java:165)\n",
      "2022-11-21 02:43:04,743 [   2450] SEVERE - #c.i.d.LoadingState - PhpStorm 2022.2.3  Build #PS-222.4345.15\n",
      "2022-11-21 02:43:04,745 [   2452] SEVERE - #c.i.d.LoadingState - JDK: 17.0.4.1; VM: OpenJDK 64-Bit Server VM; Vendor: JetBrains s.r.o.\n",
      "2022-11-21 02:43:04,747 [   2454] SEVERE - #c.i.d.LoadingState - OS: Linux\n"
     ]
    },
    {
     "name": "stdout",
     "output_type": "stream",
     "text": [
      "2022-11-21 02:43:04,778 [   2485] SEVERE - #c.i.d.LoadingState - Should be called at least in the state COMPONENTS_LOADED, the current state is: CONFIGURATION_STORE_INITIALIZED\n",
      "Current violators count: 3\n",
      "\n",
      "\n",
      "java.lang.Throwable\n",
      "\tat com.intellij.diagnostic.LoadingState.logStateError(LoadingState.java:52)\n",
      "\tat com.intellij.diagnostic.LoadingState.checkOccurred(LoadingState.java:48)\n",
      "\tat com.intellij.openapi.util.registry.Registry.getInstance(Registry.java:176)\n",
      "\tat com.intellij.openapi.util.registry.Registry.get(Registry.java:50)\n",
      "\tat com.intellij.openapi.util.registry.Registry.is(Registry.java:63)\n",
      "\tat com.intellij.openapi.wm.impl.GlobalMenuLinux._loadLibrary(GlobalMenuLinux.java:797)\n",
      "\tat com.intellij.openapi.wm.impl.GlobalMenuLinux.<clinit>(GlobalMenuLinux.java:164)\n",
      "\tat com.intellij.openapi.wm.impl.GlobalMenuLinux$MyActionTuner.customize(GlobalMenuLinux.java:230)\n",
      "\tat com.intellij.openapi.actionSystem.impl.ActionManagerImpl.lambda$new$0(ActionManagerImpl.java:141)\n",
      "\tat com.intellij.openapi.extensions.impl.ExtensionProcessingHelper.forEachExtensionSafe(ExtensionProcessingHelper.java:34)\n",
      "\tat com.intellij.openapi.extensions.ExtensionPointName.forEachExtensionSafe(ExtensionPointName.java:46)\n",
      "\tat com.intellij.openapi.actionSystem.impl.ActionManagerImpl.<init>(ActionManagerImpl.java:141)\n",
      "\tat com.jetbrains.rdserver.ui.actionPopupMenu.BackendActionManager.<init>(BackendActionManager.kt:17)\n",
      "\tat java.base/jdk.internal.reflect.NativeConstructorAccessorImpl.newInstance0(Native Method)\n",
      "\tat java.base/jdk.internal.reflect.NativeConstructorAccessorImpl.newInstance(NativeConstructorAccessorImpl.java:77)\n",
      "\tat java.base/jdk.internal.reflect.DelegatingConstructorAccessorImpl.newInstance(DelegatingConstructorAccessorImpl.java:45)\n",
      "\tat java.base/java.lang.reflect.Constructor.newInstanceWithCaller(Constructor.java:499)\n",
      "\tat java.base/java.lang.reflect.Constructor.newInstance(Constructor.java:480)\n",
      "\tat com.intellij.serviceContainer.ConstructorInjectionKt.instantiateUsingPicoContainer(constructorInjection.kt:47)\n",
      "\tat com.intellij.serviceContainer.ComponentManagerImpl.instantiateClassWithConstructorInjection(ComponentManagerImpl.kt:890)\n",
      "\tat com.intellij.serviceContainer.ServiceComponentAdapter.createAndInitialize(ServiceComponentAdapter.kt:51)\n",
      "\tat com.intellij.serviceContainer.ServiceComponentAdapter.doCreateInstance(ServiceComponentAdapter.kt:41)\n",
      "\tat com.intellij.serviceContainer.BaseComponentAdapter.getInstanceUncached(BaseComponentAdapter.kt:119)\n",
      "\tat com.intellij.serviceContainer.BaseComponentAdapter.getInstance(BaseComponentAdapter.kt:73)\n",
      "\tat com.intellij.serviceContainer.BaseComponentAdapter.getInstance$default(BaseComponentAdapter.kt:66)\n",
      "\tat com.intellij.serviceContainer.ComponentManagerImpl.doGetService(ComponentManagerImpl.kt:609)\n",
      "\tat com.intellij.serviceContainer.ComponentManagerImpl.getService(ComponentManagerImpl.kt:583)\n",
      "\tat com.intellij.openapi.client.ClientAwareComponentManager.getFromSelfOrCurrentSession(ClientAwareComponentManager.kt:37)\n",
      "\tat com.intellij.openapi.client.ClientAwareComponentManager.getService(ClientAwareComponentManager.kt:22)\n",
      "\tat com.intellij.openapi.actionSystem.ActionManager.getInstance(ActionManager.java:29)\n",
      "\tat com.intellij.help.impl.KeymapGenerator.<clinit>(KeymapGenerator.java:33)\n",
      "\tat java.base/jdk.internal.misc.Unsafe.allocateInstance(Native Method)\n",
      "\tat java.base/java.lang.invoke.DirectMethodHandle.allocateInstance(DirectMethodHandle.java:520)\n",
      "\tat com.intellij.serviceContainer.ComponentManagerImpl.instantiateClass(ComponentManagerImpl.kt:844)\n",
      "\tat com.intellij.openapi.extensions.impl.XmlExtensionAdapter.instantiateClass(XmlExtensionAdapter.kt:79)\n",
      "\tat com.intellij.openapi.extensions.impl.XmlExtensionAdapter$SimpleConstructorInjectionAdapter.instantiateClass(XmlExtensionAdapter.kt:90)\n",
      "\tat com.intellij.openapi.extensions.impl.XmlExtensionAdapter.doCreateInstance(XmlExtensionAdapter.kt:50)\n",
      "\tat com.intellij.openapi.extensions.impl.XmlExtensionAdapter.createInstance(XmlExtensionAdapter.kt:31)\n",
      "\tat com.intellij.openapi.extensions.impl.ExtensionPointImpl.processAdapter(ExtensionPointImpl.java:447)\n",
      "\tat com.intellij.openapi.extensions.impl.ExtensionPointImpl.access$200(ExtensionPointImpl.java:33)\n",
      "\tat com.intellij.openapi.extensions.impl.ExtensionPointImpl$1.next(ExtensionPointImpl.java:355)\n",
      "\tat com.intellij.idea.ApplicationLoader.findAppStarter(ApplicationLoader.kt:595)\n",
      "\tat com.intellij.idea.ApplicationLoader.access$findAppStarter(ApplicationLoader.kt:1)\n",
      "\tat com.intellij.idea.ApplicationLoader$initApplication$block$3.apply(ApplicationLoader.kt:170)\n",
      "\tat com.intellij.idea.ApplicationLoader$initApplication$block$3.apply(ApplicationLoader.kt)\n",
      "\tat java.base/java.util.concurrent.CompletableFuture.uniComposeStage(CompletableFuture.java:1187)\n",
      "\tat java.base/java.util.concurrent.CompletableFuture.thenCompose(CompletableFuture.java:2309)\n",
      "\tat com.intellij.idea.ApplicationLoader.initApplication(ApplicationLoader.kt:145)\n",
      "\tat java.base/jdk.internal.reflect.NativeMethodAccessorImpl.invoke0(Native Method)\n",
      "\tat java.base/jdk.internal.reflect.NativeMethodAccessorImpl.invoke(NativeMethodAccessorImpl.java:77)\n",
      "\tat java.base/jdk.internal.reflect.DelegatingMethodAccessorImpl.invoke(DelegatingMethodAccessorImpl.java:43)\n",
      "\tat java.base/java.lang.reflect.Method.invoke(Method.java:568)\n",
      "\tat com.intellij.idea.m.m(m.java:100)\n",
      "\tat com.intellij.ide.m.v.G.m(G.java:137)\n",
      "\tat com.intellij.ide.m.v.v.m(v.java:189)\n",
      "\tat java.base/jdk.internal.reflect.NativeMethodAccessorImpl.invoke0(Native Method)\n",
      "\tat java.base/jdk.internal.reflect.NativeMethodAccessorImpl.invoke(NativeMethodAccessorImpl.java:77)\n",
      "\tat java.base/jdk.internal.reflect.DelegatingMethodAccessorImpl.invoke(DelegatingMethodAccessorImpl.java:43)\n",
      "\tat java.base/java.lang.reflect.Method.invoke(Method.java:568)\n",
      "\tat com.intellij.idea.MainImpl.start(MainImpl.java:85)\n",
      "\tat com.intellij.idea.StartupUtil.lambda$start$14(StartupUtil.java:262)\n",
      "\tat java.base/java.util.concurrent.CompletableFuture$UniCompose.tryFire(CompletableFuture.java:1150)\n",
      "\tat java.base/java.util.concurrent.CompletableFuture.postComplete(CompletableFuture.java:510)\n",
      "\tat java.base/java.util.concurrent.CompletableFuture$AsyncSupply.run(CompletableFuture.java:1773)\n",
      "\tat java.base/java.util.concurrent.CompletableFuture$AsyncSupply.exec(CompletableFuture.java:1760)\n",
      "\tat java.base/java.util.concurrent.ForkJoinTask.doExec(ForkJoinTask.java:373)\n",
      "\tat java.base/java.util.concurrent.ForkJoinPool$WorkQueue.topLevelExec(ForkJoinPool.java:1182)\n",
      "\tat java.base/java.util.concurrent.ForkJoinPool.scan(ForkJoinPool.java:1655)\n",
      "\tat java.base/java.util.concurrent.ForkJoinPool.runWorker(ForkJoinPool.java:1622)\n",
      "\tat java.base/java.util.concurrent.ForkJoinWorkerThread.run(ForkJoinWorkerThread.java:165)\n",
      "2022-11-21 02:43:04,786 [   2493] SEVERE - #c.i.d.LoadingState - PhpStorm 2022.2.3  Build #PS-222.4345.15\n",
      "2022-11-21 02:43:04,789 [   2496] SEVERE - #c.i.d.LoadingState - JDK: 17.0.4.1; VM: OpenJDK 64-Bit Server VM; Vendor: JetBrains s.r.o.\n",
      "2022-11-21 02:43:04,790 [   2497] SEVERE - #c.i.d.LoadingState - OS: Linux\n",
      "Info  | RdCoroutineScope          | 13:JobScheduler FJ pool 1/3 | RdCoroutineHost overridden \n",
      "2022-11-21 02:43:14,302 [  12009]   WARN - #c.i.o.a.i.ActionUpdater - 2325 ms to grab EDT for SelectAllAction#update@MainMenu (com.intellij.ide.actions.SelectAllAction)\n",
      "2022-11-21 02:43:14,303 [  12010]   WARN - #c.i.o.a.i.ActionUpdater - 2275 ms to grab EDT for SwitcherToggleOnlyEditedFilesAction#update@MainMenu (com.intellij.ide.actions.SwitcherToggleOnlyEditedFilesAction)\n",
      "2022-11-21 02:43:17,194 [  14901]   WARN - #c.i.u.x.Binding - no accessors for com.jetbrains.php.testFramework.PhpTestFrameworkType\n",
      "2022-11-21 02:43:17,964 [  15671]   WARN - #c.i.o.a.i.ActionUpdater - 2835 ms to grab EDT for AnalyzeStacktraceAction#update@MainMenu (com.intellij.unscramble.AnalyzeStacktraceAction)\n",
      "2022-11-21 02:43:22,224 [  19931]   WARN - #c.i.o.a.i.ActionUpdater - 3666 ms to grab EDT for AttachToProcessAction#update@MainMenu (com.intellij.xdebugger.impl.actions.AttachToProcessAction)\n",
      "2022-11-21 02:43:22,235 [  19942]   WARN - #c.i.o.a.i.ActionUpdater - 3614 ms to grab EDT for RefactoringQuickListPopupAction#update@MainMenu (com.intellij.refactoring.actions.RefactoringQuickListPopupAction)\n",
      "2022-11-21 02:43:23,481 [  21188]   WARN - #c.i.o.a.i.ActionUpdater - 3666 ms total to grab EDT 1 times to expand DefaultActionGroup@MainMenu (com.intellij.openapi.actionSystem.DefaultActionGroup). Use `ActionUpdateThread.BGT`.\n"
     ]
    },
    {
     "name": "stdout",
     "output_type": "stream",
     "text": [
      "2022-11-21 02:43:24,047 [  21754]   WARN - #c.i.o.a.i.ActionUpdater - 3614 ms total to grab EDT 1 times to expand DefaultActionGroup@MainMenu (com.intellij.openapi.actionSystem.DefaultActionGroup). Use `ActionUpdateThread.BGT`.\n",
      "2022-11-21 02:43:32,312 [  30019]   WARN - #c.j.p.p.PharLibraryManager - Frequent root change. Source class com.jetbrains.php.phar.PharLibraryManager, delta 6055.\n",
      "Old roots: [phar:///home/student/php_2022_adam_lewinski/07_testing/02_exercise/project/vendor/bin/phpstan.phar/]\n",
      "New Roots: [phar:///home/student/php_2022_adam_lewinski/07_testing/02_exercise/project/vendor/bin/phpstan.phar/, phar:///home/student/php_2022_adam_lewinski/07_testing/02_exercise/project/vendor/phpstan/phpstan/phpstan.phar/]\n",
      "2022-11-21 02:49:41,571 [ 399278]   WARN - #c.i.u.x.Binding - no accessors for org.jetbrains.idea.perforce.perforce.ConnectionId\n",
      "2022-11-21 02:51:08,849 [ 486556]   WARN - #c.i.o.a.e.ActionUtil - Can not find action by id CompileDirty\n",
      "2022-11-21 02:53:36,763 [ 634470]   WARN - #c.j.p.PhpIndex - Invalid Signature '\\class-string'\n",
      "2022-11-21 03:03:59,469 [1257176]   WARN - #c.j.p.PhpIndex - Invalid Signature '\\class-string'\n",
      "2022-11-21 03:12:59,222 [1796929]   WARN - #c.j.p.PhpIndex - Invalid Signature '\\class-string'\n",
      "2022-11-21 03:15:42,009 [1959716]   WARN - #c.j.p.PhpIndex - Invalid Signature '\n",
      "        }\n",
      "        $this->save_user(\"sqlite\", new User((int) $_POST[\"id\"], $_POST[\"name\"], $_POST[\"surname\"], $_POST[\"email\"], $_POST[\"password\"]));\n",
      "        $this->save_user(\"mysql\", new User((int) $_POST[\"id\"], $_POST[\"name\"], $_POST[\"surname\"], $_POST[\"email\"], $_POST[\"password\"]));\n",
      "        return view(\")'\n",
      "2022-11-21 03:19:09,262 [2166969] SEVERE - c.j.t.m.TerminalTextBuffer - Attempt to get line out of bounds: 12 >= 12\n",
      "2022-11-21 03:19:09,263 [2166970] SEVERE - c.j.t.m.TerminalTextBuffer - Attempt to get line out of bounds: 12 >= 12\n",
      "2022-11-21 03:22:26,073 [2363780]   WARN - #c.j.p.PhpIndex - Invalid Signature '\\PHPUnit\\Framework\\class-string'\n",
      "2022-11-21 03:22:54,423 [2392130]   WARN - #c.j.p.PhpIndex - Invalid Signature '\\PHPUnit\\Framework\\class-string'\n",
      "2022-11-21 03:26:23,757 [2601464]   WARN - #c.i.o.a.i.ActionUpdater - 212 ms to grab EDT for TrafficLightAction#update@EditorInspectionsToolbar (com.intellij.openapi.editor.impl.EditorMarkupModelImpl$TrafficLightAction)\n",
      "2022-11-21 03:31:16,522 [2894229]   WARN - #c.i.o.a.i.ActionUpdater - 346 ms to grab EDT for #update@ToolwindowTitle (com.intellij.toolWindow.ToolWindowHeader$2)\n",
      "2022-11-21 03:34:18,184 [3075891]   WARN - #c.i.o.a.i.ActionUpdater - 253 ms to grab EDT for ExpandAllAction#update@com.intellij.analysis.problemsView.toolWindow.HighlightingPanel (com.intellij.ide.actions.ExpandAllAction)\n",
      "2022-11-21 03:34:18,198 [3075905]   WARN - #c.i.o.a.i.ActionUpdater - 250 ms to grab EDT for SpaceMainToolBarAction#update@NavBarToolbar (com.intellij.space.vcs.actions.SpaceMainToolBarAction)\n",
      "2022-11-21 04:10:28,185 [5245892]   WARN - #c.i.o.a.i.ActionUpdater - 1057 ms to call on BGT AddDataSourcesGroup#getChildren@ProjectViewPopup (com.intellij.database.actions.DatabaseViewActions$AddDataSourcesGroup)\n",
      "2022-11-21 04:27:25,198 [6262905]   WARN - #c.j.p.PhpIndex - Invalid Signature ';\n",
      "        \n",
      "        $s\n",
      "    }\n",
      "\n",
      "    /**\n",
      "     * @throws StorageException\n",
      "     * @throws ExceptionAlias\n",
      "     */\n",
      "    public function confirmation_notice(): Result\n",
      "    {\n",
      "        $register_data = new Register_data($_POST[\"id\"], $_POST[\"name\"], $_POST[\"surname\"], $_POST[\"email\"], $_POST[\"password\"], $_POST[\"password_confirmation\"]);\n",
      "        $this->save_model(\"session\", $register_data);\n",
      "        $user = new User((int) $_POST[\"id\"], $_POST[\"name\"], $_POST[\"surname\"], $_POST[\"email\"], $_POST[\"password\"]);\n",
      "        $this->save_model(\"sqlite\", $user);\n",
      "        $this->save_model(\"mysql\", $user);\n",
      "\n",
      "        return view(\")'\n",
      "2022-11-21 04:30:21,569 [6439276]   WARN - #c.i.o.a.i.ActionUpdater - 206 ms to grab EDT for ShowPreview#update@com.intellij.analysis.problemsView.toolWindow.HighlightingPanel (com.intellij.analysis.problemsView.toolWindow.ShowPreview)\n",
      "2022-11-21 04:45:58,304 [7376011]   WARN - #c.j.p.PhpIndex - Invalid Signature '\\class-string'\n",
      "2022-11-21 04:48:33,822 [7531529] SEVERE - c.j.t.m.TerminalTextBuffer - Attempt to get line out of bounds: 12 >= 12\n",
      "2022-11-21 04:48:33,823 [7531530] SEVERE - c.j.t.m.TerminalTextBuffer - Attempt to get line out of bounds: 12 >= 12\n",
      "2022-11-21 04:48:34,937 [7532644] SEVERE - c.j.t.m.TerminalTextBuffer - Attempt to get line out of bounds: 12 >= 12\n",
      "2022-11-21 04:48:34,938 [7532645] SEVERE - c.j.t.m.TerminalTextBuffer - Attempt to get line out of bounds: 12 >= 12\n"
     ]
    }
   ],
   "source": [
    "! phpstorm project"
   ]
  },
  {
   "cell_type": "markdown",
   "metadata": {},
   "source": [
    "You can test your solution using included tests:"
   ]
  },
  {
   "cell_type": "code",
   "execution_count": 33,
   "metadata": {},
   "outputs": [
    {
     "name": "stdout",
     "output_type": "stream",
     "text": [
      "/home/student/php_2022_adam_lewinski/07_testing/02_exercise/project\n"
     ]
    }
   ],
   "source": [
    "%cd project"
   ]
  },
  {
   "cell_type": "code",
   "execution_count": 34,
   "metadata": {},
   "outputs": [
    {
     "name": "stdout",
     "output_type": "stream",
     "text": [
      "\u001b[32mInstalling dependencies from lock file (including require-dev)\u001b[39m\n",
      "\u001b[32mVerifying lock file contents can be installed on current platform.\u001b[39m\n",
      "Nothing to install, update or remove\n",
      "\u001b[32mGenerating autoload files\u001b[39m\n",
      "\u001b[32m60 packages you are using are looking for funding.\u001b[39m\n",
      "\u001b[32mUse the `composer fund` command to find out more!\u001b[39m\n"
     ]
    }
   ],
   "source": [
    "! composer install"
   ]
  },
  {
   "cell_type": "code",
   "execution_count": 22,
   "metadata": {},
   "outputs": [
    {
     "name": "stdout",
     "output_type": "stream",
     "text": [
      "\u001b[32mBuilding Actor classes for suites: Acceptance, Unit\u001b[39m\n",
      " -> AcceptanceTesterActions.php generated successfully. 241 methods added\n",
      "\u001b[32mTests\\AcceptanceTester\u001b[39m includes modules: PhpBrowser, Filesystem, Asserts, Db, Redis\n",
      " -> UnitTesterActions.php generated successfully. 137 methods added\n",
      "\u001b[32mTests\\UnitTester\u001b[39m includes modules: Asserts\n"
     ]
    }
   ],
   "source": [
    "! vendor/bin/codecept build"
   ]
  },
  {
   "cell_type": "code",
   "execution_count": 23,
   "metadata": {},
   "outputs": [
    {
     "name": "stdout",
     "output_type": "stream",
     "text": [
      "Loaded config \u001b[33mdefault\u001b[39m from \"/home/student/php_2022_adam_lewinski/07_testing/02_exercise/project/./.php-cs-fixer.dist.php\".\n",
      "Using cache file \".php-cs-fixer.cache\".\n",
      "   1) src/Model/Model.php\n",
      "\u001b[33m      ---------- begin diff ----------\u001b[39m\n",
      "\u001b[31m--- /home/student/php_2022_adam_lewinski/07_testing/02_exercise/project/src/Model/Model.php\u001b[39m\n",
      "\u001b[32m+++ /home/student/php_2022_adam_lewinski/07_testing/02_exercise/project/src/Model/Model.php\u001b[39m\n",
      "\u001b[36m@@ -6,5 +6,4 @@\u001b[39m\n",
      " \n",
      " abstract class Model extends Distinguishable\n",
      " {\n",
      "\u001b[31m-\u001b[39m\n",
      "\u001b[31m-}\u001b[39m\n",
      "\\ No newline at end of file\n",
      "\u001b[32m+}\u001b[39m\n",
      "\n",
      "\u001b[33m      ----------- end diff -----------\u001b[39m\n",
      "\n",
      "\n",
      "Checked all files in 0.069 seconds, 14.000 MB memory used\n"
     ]
    }
   ],
   "source": [
    "! vendor/bin/php-cs-fixer fix --diff --dry-run ."
   ]
  },
  {
   "cell_type": "code",
   "execution_count": 24,
   "metadata": {},
   "outputs": [
    {
     "name": "stdout",
     "output_type": "stream",
     "text": [
      "  0/64 [░░░░░░░░░░░░░░░░░░░░░░░░░░░░]   0%\u001b[1G\u001b[2K 64/64 [▓▓▓▓▓▓▓▓▓▓▓▓▓▓▓▓▓▓▓▓▓▓▓▓▓▓▓▓] 100%\n",
      "\n",
      " ------ -------------------------------------------------------------------- \n",
      "  \u001b[32mLine\u001b[39m   \u001b[32mtests/Acceptance/Test10_RegisterConfirmCest.php\u001b[39m                     \n",
      " ------ -------------------------------------------------------------------- \n",
      "  17     Class Model\\User constructor invoked with 1 parameter, 5 required.  \n",
      " ------ -------------------------------------------------------------------- \n",
      "\n",
      " ------ -------------------------------------------------------------------- \n",
      "  \u001b[32mLine\u001b[39m   \u001b[32mtests/Acceptance/Test12_LoginWrongPasswordCest.php\u001b[39m                  \n",
      " ------ -------------------------------------------------------------------- \n",
      "  22     Class Model\\User constructor invoked with 1 parameter, 5 required.  \n",
      " ------ -------------------------------------------------------------------- \n",
      "\n",
      " ------ -------------------------------------------------------------------- \n",
      "  \u001b[32mLine\u001b[39m   \u001b[32mtests/Acceptance/Test13_LoginNotConfirmedCest.php\u001b[39m                   \n",
      " ------ -------------------------------------------------------------------- \n",
      "  21     Class Model\\User constructor invoked with 1 parameter, 5 required.  \n",
      " ------ -------------------------------------------------------------------- \n",
      "\n",
      " ------ -------------------------------------------------------------------- \n",
      "  \u001b[32mLine\u001b[39m   \u001b[32mtests/Acceptance/Test14_LoginLogoutSeeHiddenContentCest.php\u001b[39m         \n",
      " ------ -------------------------------------------------------------------- \n",
      "  17     Class Model\\User constructor invoked with 1 parameter, 5 required.  \n",
      "  24     Property Model\\User::$token (string) does not accept null.          \n",
      " ------ -------------------------------------------------------------------- \n",
      "\n",
      " ------ -------------------------------------------------------------------- \n",
      "  \u001b[32mLine\u001b[39m   \u001b[32mview/auth/index.php\u001b[39m                                                 \n",
      " ------ -------------------------------------------------------------------- \n",
      "  1      File ends with a trailing whitespace. This may cause problems when  \n",
      "         running the code in the web browser. Remove the closing ?> mark or  \n",
      "         remove the whitespace.                                              \n",
      " ------ -------------------------------------------------------------------- \n",
      "\n",
      "\u001b[37;41m                                                                                \u001b[39;49m\n",
      "\u001b[37;41m [ERROR] Found 6 errors                                                         \u001b[39;49m\n",
      "\u001b[37;41m                                                                                \u001b[39;49m\n",
      "\n"
     ]
    }
   ],
   "source": [
    "! vendor/bin/phpstan analyze --xdebug -c phpstan.neon"
   ]
  },
  {
   "cell_type": "code",
   "execution_count": 25,
   "metadata": {},
   "outputs": [
    {
     "name": "stdout",
     "output_type": "stream",
     "text": [
      "phpcpd 6.0.3 by Sebastian Bergmann.\n",
      "\n",
      "No clones found.\n",
      "\n",
      "Time: 00:00.024, Memory: 4.00 MB\n"
     ]
    }
   ],
   "source": [
    "! vendor/bin/phpcpd . --fuzzy --min-lines 1 --min-tokens 20 --exclude vendor --exclude tests"
   ]
  },
  {
   "cell_type": "code",
   "execution_count": 26,
   "metadata": {},
   "outputs": [
    {
     "name": "stdout",
     "output_type": "stream",
     "text": [
      "Codeception PHP Testing Framework v5.0.4 https://helpukrainewin.org\n",
      "\n",
      "\u001b[1mTests.Unit Tests (24) \u001b[22m----------------------------------------------------------\n",
      "\u001b[32;1m✔\u001b[39;22m \u001b[35;1mTest00_StringEditorCest:\u001b[39;22m Create \u001b[32m(0.01s)\u001b[39m\n",
      "\u001b[32;1m✔\u001b[39;22m \u001b[35;1mTest00_StringEditorCest:\u001b[39;22m Replace word \u001b[32m(0.00s)\u001b[39m\n",
      "\u001b[32;1m✔\u001b[39;22m \u001b[35;1mTest00_StringEditorCest:\u001b[39;22m Lowercase \u001b[32m(0.00s)\u001b[39m\n",
      "\u001b[32;1m✔\u001b[39;22m \u001b[35;1mTest00_StringEditorCest:\u001b[39;22m Uppercase \u001b[32m(0.00s)\u001b[39m\n",
      "\u001b[32;1m✔\u001b[39;22m \u001b[35;1mTest00_StringEditorCest:\u001b[39;22m Replace and upper case \u001b[32m(0.00s)\u001b[39m\n",
      "\u001b[32;1m✔\u001b[39;22m \u001b[35;1mTest00_StringEditorCest:\u001b[39;22m Censor word \u001b[32m(0.00s)\u001b[39m\n",
      "\u001b[32;1m✔\u001b[39;22m \u001b[35;1mTest00_StringEditorCest:\u001b[39;22m Censor short and long words \u001b[32m(0.00s)\u001b[39m\n",
      "\u001b[32;1m✔\u001b[39;22m \u001b[35;1mTest00_StringEditorCest:\u001b[39;22m Repeat word \u001b[32m(0.00s)\u001b[39m\n",
      "\u001b[32;1m✔\u001b[39;22m \u001b[35;1mTest00_StringEditorCest:\u001b[39;22m Remove word \u001b[32m(0.00s)\u001b[39m\n",
      "\u001b[32;1m✔\u001b[39;22m \u001b[35;1mTest00_StringEditorCest:\u001b[39;22m Edit sentence \u001b[32m(0.00s)\u001b[39m\n",
      "\u001b[32;1m✔\u001b[39;22m \u001b[35;1mTest01_RingBufferCest:\u001b[39;22m Create \u001b[32m(0.00s)\u001b[39m\n",
      "\u001b[32;1m✔\u001b[39;22m \u001b[35;1mTest01_RingBufferCest:\u001b[39;22m Should be empty \u001b[32m(0.00s)\u001b[39m\n",
      "\u001b[32;1m✔\u001b[39;22m \u001b[35;1mTest01_RingBufferCest:\u001b[39;22m Capacity \u001b[32m(0.00s)\u001b[39m\n",
      "\u001b[32;1m✔\u001b[39;22m \u001b[35;1mTest01_RingBufferCest:\u001b[39;22m Size should be zero when empty \u001b[32m(0.00s)\u001b[39m\n",
      "\u001b[32;1m✔\u001b[39;22m \u001b[35;1mTest01_RingBufferCest:\u001b[39;22m Push value size should increase \u001b[32m(0.00s)\u001b[39m\n",
      "\u001b[32;1m✔\u001b[39;22m \u001b[35;1mTest01_RingBufferCest:\u001b[39;22m Empty should be false when full \u001b[32m(0.00s)\u001b[39m\n",
      "\u001b[32;1m✔\u001b[39;22m \u001b[35;1mTest01_RingBufferCest:\u001b[39;22m Pop from empty \u001b[32m(0.00s)\u001b[39m\n",
      "\u001b[32;1m✔\u001b[39;22m \u001b[35;1mTest01_RingBufferCest:\u001b[39;22m Push and pop single value \u001b[32m(0.00s)\u001b[39m\n",
      "\u001b[32;1m✔\u001b[39;22m \u001b[35;1mTest01_RingBufferCest:\u001b[39;22m Pop should reduce size \u001b[32m(0.00s)\u001b[39m\n",
      "\u001b[32;1m✔\u001b[39;22m \u001b[35;1mTest01_RingBufferCest:\u001b[39;22m Back should not change buffer \u001b[32m(0.00s)\u001b[39m\n",
      "\u001b[32;1m✔\u001b[39;22m \u001b[35;1mTest01_RingBufferCest:\u001b[39;22m Push multiple times \u001b[32m(0.00s)\u001b[39m\n",
      "\u001b[32;1m✔\u001b[39;22m \u001b[35;1mTest01_RingBufferCest:\u001b[39;22m Multi item buffer \u001b[32m(0.00s)\u001b[39m\n",
      "\u001b[32;1m✔\u001b[39;22m \u001b[35;1mTest01_RingBufferCest:\u001b[39;22m Push and pop all values \u001b[32m(0.00s)\u001b[39m\n",
      "\u001b[32;1m✔\u001b[39;22m \u001b[35;1mTest01_RingBufferCest:\u001b[39;22m Access values by index \u001b[32m(0.00s)\u001b[39m\n",
      "--------------------------------------------------------------------------------\n",
      "Time: 00:00.137, Memory: 8.00 MB\n",
      "\n",
      "\u001b[30;42mOK (24 tests, 75 assertions)\u001b[39;49m\n"
     ]
    }
   ],
   "source": [
    "! vendor/bin/codecept run Unit"
   ]
  },
  {
   "cell_type": "code",
   "execution_count": 27,
   "metadata": {},
   "outputs": [],
   "source": [
    "import subprocess\n",
    "phpServer = subprocess.Popen(['php', '-S', 'localhost:8888', '-t', 'public'])"
   ]
  },
  {
   "cell_type": "code",
   "execution_count": 28,
   "metadata": {},
   "outputs": [
    {
     "name": "stdout",
     "output_type": "stream",
     "text": [
      "Done.\r\n"
     ]
    },
    {
     "name": "stderr",
     "output_type": "stream",
     "text": [
      "[Mon Nov 21 02:41:09 2022] PHP 8.1.12 Development Server (http://localhost:8888) started\n",
      "[Mon Nov 21 02:41:09 2022] [::1]:54926 Accepted\n",
      "[Mon Nov 21 02:41:09 2022] [::1]:54926 Closed without sending a request; it was probably just an unused speculative preconnection\n",
      "[Mon Nov 21 02:41:09 2022] [::1]:54926 Closing\n"
     ]
    }
   ],
   "source": [
    "! while ! timeout 1 bash -c \"echo > /dev/tcp/localhost/8888\" 2> /dev/null; do sleep 1; done; echo \"Done.\";"
   ]
  },
  {
   "cell_type": "code",
   "execution_count": 29,
   "metadata": {},
   "outputs": [
    {
     "name": "stdout",
     "output_type": "stream",
     "text": [
      "Codeception PHP Testing Framework v5.0.4 https://helpukrainewin.org\n",
      "\n",
      "\u001b[1mTests.Acceptance Tests (15) \u001b[22m----------------------------------------------------\n",
      "- \u001b[35;1mTest00_PrettyUrlCest:\u001b[39;22m Test"
     ]
    },
    {
     "name": "stderr",
     "output_type": "stream",
     "text": [
      "[Mon Nov 21 02:41:09 2022] [::1]:54938 Accepted\n",
      "[Mon Nov 21 02:41:10 2022] [::1]:54938 [200]: GET /\n",
      "[Mon Nov 21 02:41:10 2022] [::1]:54938 Closing\n",
      "[Mon Nov 21 02:41:10 2022] [::1]:54944 Accepted\n",
      "[Mon Nov 21 02:41:10 2022] [::1]:54944 [200]: GET /home\n",
      "[Mon Nov 21 02:41:10 2022] [::1]:54944 Closing\n",
      "[Mon Nov 21 02:41:10 2022] [::1]:54950 Accepted\n",
      "[Mon Nov 21 02:41:10 2022] [::1]:54950 [200]: GET /about\n",
      "[Mon Nov 21 02:41:10 2022] [::1]:54950 Closing\n",
      "[Mon Nov 21 02:41:10 2022] [::1]:54960 Accepted\n",
      "[Mon Nov 21 02:41:10 2022] [::1]:54960 [200]: GET /users\n",
      "[Mon Nov 21 02:41:10 2022] [::1]:54960 Closing\n",
      "[Mon Nov 21 02:41:10 2022] [::1]:54972 Accepted\n",
      "[Mon Nov 21 02:41:10 2022] [::1]:54972 [200]: GET /users/1\n",
      "[Mon Nov 21 02:41:10 2022] [::1]:54972 Closing\n",
      "[Mon Nov 21 02:41:10 2022] [::1]:54978 Accepted\n",
      "[Mon Nov 21 02:41:10 2022] [::1]:54978 [200]: GET /users\n",
      "[Mon Nov 21 02:41:10 2022] [::1]:54978 Closing\n",
      "[Mon Nov 21 02:41:10 2022] [::1]:54988 Accepted\n",
      "[Mon Nov 21 02:41:10 2022] [::1]:54988 [200]: GET /users/2\n",
      "[Mon Nov 21 02:41:10 2022] [::1]:54988 Closing\n",
      "[Mon Nov 21 02:41:10 2022] [::1]:55000 Accepted\n",
      "[Mon Nov 21 02:41:10 2022] [::1]:55000 [200]: GET /users\n",
      "[Mon Nov 21 02:41:10 2022] [::1]:55000 Closing\n",
      "[Mon Nov 21 02:41:10 2022] [::1]:55004 Accepted\n",
      "[Mon Nov 21 02:41:10 2022] [::1]:55004 [200]: GET /users/3\n",
      "[Mon Nov 21 02:41:10 2022] [::1]:55004 Closing\n"
     ]
    },
    {
     "name": "stdout",
     "output_type": "stream",
     "text": [
      "\u001b[32;1m✔\u001b[39;22m \u001b[35;1mTest00_PrettyUrlCest:\u001b[39;22m Test \u001b[32m(0.21s)\u001b[39m\n",
      "\u001b[32;1m✔\u001b[39;22m \u001b[35;1mTest01_FileStorageCest:\u001b[39;22m Test \u001b[32m(0.04s)\u001b[39m\n",
      "\u001b[32;1m✔\u001b[39;22m \u001b[35;1mTest02_SessionStorageCest:\u001b[39;22m Test \u001b[32m(0.02s)\u001b[39m\n",
      "\u001b[32;1m✔\u001b[39;22m \u001b[35;1mTest03_SQLiteStorageCest:\u001b[39;22m Test \u001b[32m(0.11s)\u001b[39m\n",
      "- \u001b[35;1mTest04_MySQLStorageCest:\u001b[39;22m Test"
     ]
    },
    {
     "name": "stderr",
     "output_type": "stream",
     "text": [
      "[Mon Nov 21 02:41:10 2022] [::1]:55014 Accepted\n",
      "[Mon Nov 21 02:41:10 2022] [::1]:55014 [200]: GET /demo/file\n",
      "[Mon Nov 21 02:41:10 2022] [::1]:55014 Closing\n",
      "[Mon Nov 21 02:41:10 2022] [::1]:55022 Accepted\n",
      "[Mon Nov 21 02:41:10 2022] [::1]:55022 [200]: GET /demo/session\n",
      "[Mon Nov 21 02:41:10 2022] [::1]:55022 Closing\n",
      "[Mon Nov 21 02:41:10 2022] [::1]:55032 Accepted\n",
      "[Mon Nov 21 02:41:10 2022] [::1]:55032 [200]: GET /demo/sqlite\n",
      "[Mon Nov 21 02:41:10 2022] [::1]:55032 Closing\n",
      "[Mon Nov 21 02:41:10 2022] [::1]:55036 Accepted\n",
      "[Mon Nov 21 02:41:10 2022] [::1]:55036 [200]: GET /demo/mysql\n",
      "[Mon Nov 21 02:41:10 2022] [::1]:55036 Closing\n",
      "[Mon Nov 21 02:41:10 2022] [::1]:55050 Accepted\n"
     ]
    },
    {
     "name": "stdout",
     "output_type": "stream",
     "text": [
      "\u001b[32;1m✔\u001b[39;22m \u001b[35;1mTest04_MySQLStorageCest:\u001b[39;22m Test \u001b[32m(0.29s)\u001b[39m\n",
      "\u001b[32;1m✔\u001b[39;22m \u001b[35;1mTest05_RedisStorageCest:\u001b[39;22m Test \u001b[32m(0.06s)\u001b[39m\n",
      "- \u001b[35;1mTest06_HomepageCest:\u001b[39;22m See welcome message on homepage"
     ]
    },
    {
     "name": "stderr",
     "output_type": "stream",
     "text": [
      "[Mon Nov 21 02:41:10 2022] [::1]:55050 [200]: GET /demo/mysql\n",
      "[Mon Nov 21 02:41:10 2022] [::1]:55050 Closing\n",
      "[Mon Nov 21 02:41:10 2022] [::1]:55066 Accepted\n",
      "[Mon Nov 21 02:41:10 2022] [::1]:55066 [200]: GET /demo/redis\n",
      "[Mon Nov 21 02:41:10 2022] [::1]:55066 Closing\n"
     ]
    },
    {
     "name": "stdout",
     "output_type": "stream",
     "text": [
      "\r",
      "\u001b[32;1m✔\u001b[39;22m \u001b[35;1mTest06_HomepageCest:\u001b[39;22m See login and register links \u001b[32m(0.13s)\u001b[39m\r\n",
      "- \u001b[35;1mTest07_RegisterCest:\u001b[39;22m Register new user"
     ]
    },
    {
     "name": "stderr",
     "output_type": "stream",
     "text": [
      "[Mon Nov 21 02:41:10 2022] [::1]:55072 Accepted\n",
      "[Mon Nov 21 02:41:10 2022] [::1]:55072 [200]: GET /\n",
      "[Mon Nov 21 02:41:10 2022] [::1]:55072 Closing\n",
      "[Mon Nov 21 02:41:10 2022] [::1]:55076 Accepted\n",
      "[Mon Nov 21 02:41:10 2022] [::1]:55076 [200]: GET /home\n",
      "[Mon Nov 21 02:41:10 2022] [::1]:55076 Closing\n",
      "[Mon Nov 21 02:41:10 2022] [::1]:55078 Accepted\n",
      "[Mon Nov 21 02:41:10 2022] [::1]:55078 [200]: GET /\n",
      "[Mon Nov 21 02:41:10 2022] [::1]:55078 Closing\n",
      "[Mon Nov 21 02:41:10 2022] [::1]:55088 Accepted\n",
      "[Mon Nov 21 02:41:10 2022] [::1]:55088 [200]: GET /auth/register\n",
      "[Mon Nov 21 02:41:10 2022] [::1]:55088 Closing\n",
      "[Mon Nov 21 02:41:11 2022] [::1]:55092 Accepted\n"
     ]
    },
    {
     "name": "stdout",
     "output_type": "stream",
     "text": [
      "\r",
      "\u001b[32;1m✔\u001b[39;22m \u001b[35;1mTest07_RegisterCest:\u001b[39;22m Register new user \u001b[32m(0.64s)\u001b[39m\r\n",
      "- \u001b[35;1mTest08_RegisterValidationCest:\u001b[39;22m Validate data entered during registration"
     ]
    },
    {
     "name": "stderr",
     "output_type": "stream",
     "text": [
      "[Mon Nov 21 02:41:11 2022] [::1]:55092 [200]: POST /auth/confirmation_notice\n",
      "[Mon Nov 21 02:41:11 2022] [::1]:55092 Closing\n",
      "[Mon Nov 21 02:41:11 2022] [::1]:55102 Accepted\n",
      "[Mon Nov 21 02:41:11 2022] [::1]:55102 [200]: GET /auth/register\n",
      "[Mon Nov 21 02:41:11 2022] [::1]:55102 Closing\n",
      "[Mon Nov 21 02:41:11 2022] [::1]:55118 Accepted\n"
     ]
    },
    {
     "name": "stdout",
     "output_type": "stream",
     "text": [
      "\r",
      "\u001b[31;1m✖\u001b[39;22m \u001b[35;1mTest08_RegisterValidationCest:\u001b[39;22m Validate data entered during registration \u001b[32m(0.47s)\u001b[39m\r\n",
      "- \u001b[35;1mTest09_RegisterRememberFieldsCest:\u001b[39;22m Remember data entered during registration when validation error is present"
     ]
    },
    {
     "name": "stderr",
     "output_type": "stream",
     "text": [
      "[Mon Nov 21 02:41:11 2022] [::1]:55118 [200]: POST /auth/confirmation_notice\n",
      "[Mon Nov 21 02:41:11 2022] [::1]:55118 Closing\n",
      "[Mon Nov 21 02:41:12 2022] [::1]:55130 Accepted\n",
      "[Mon Nov 21 02:41:12 2022] [::1]:55130 [200]: GET /auth/register\n",
      "[Mon Nov 21 02:41:12 2022] [::1]:55130 Closing\n",
      "[Mon Nov 21 02:41:12 2022] [::1]:55136 Accepted\n"
     ]
    },
    {
     "name": "stdout",
     "output_type": "stream",
     "text": [
      "\u001b[31;1m✖\u001b[39;22m \u001b[35;1mTest09_RegisterRememberFieldsCest:\u001b[39;22m Remember data entered during registration when validation error is present \u001b[32m(0.43s)\u001b[39m\n",
      "\u001b[31;1mE\u001b[39;22m \u001b[35;1mTest10_RegisterConfirmCest:\u001b[39;22m Confirm user using link \u001b[32m(0.08s)\u001b[39m\n",
      "\u001b[31;1m✖\u001b[39;22m \u001b[35;1mTest11_LoginNotExistingCest:\u001b[39;22m See error when user does not exists \u001b[32m(0.08s)\u001b[39m\n",
      "- \u001b[35;1mTest12_LoginWrongPasswordCest:\u001b[39;22m See error when wrong password is entered"
     ]
    },
    {
     "name": "stderr",
     "output_type": "stream",
     "text": [
      "[Mon Nov 21 02:41:12 2022] [::1]:55136 [200]: POST /auth/confirmation_notice\n",
      "[Mon Nov 21 02:41:12 2022] [::1]:55136 Closing\n",
      "[Mon Nov 21 02:41:12 2022] [::1]:55150 Accepted\n",
      "[Mon Nov 21 02:41:12 2022] [::1]:55150 [200]: GET /auth/login\n",
      "[Mon Nov 21 02:41:12 2022] [::1]:55150 Closing\n"
     ]
    },
    {
     "name": "stdout",
     "output_type": "stream",
     "text": [
      "\u001b[31;1m✖\u001b[39;22m \u001b[35;1mTest12_LoginWrongPasswordCest:\u001b[39;22m See error when wrong password is entered \u001b[32m(0.10s)\u001b[39m\n",
      "\u001b[31;1m✖\u001b[39;22m \u001b[35;1mTest13_LoginNotConfirmedCest:\u001b[39;22m Be remained about email confirmation when trying to login \u001b[32m(0.08s)\u001b[39m\n",
      "\u001b[31;1mE\u001b[39;22m \u001b[35;1mTest14_LoginLogoutSeeHiddenContentCest:\u001b[39;22m See hidden content after login \u001b[32m(0.07s)\u001b[39m\n",
      "--------------------------------------------------------------------------------\n",
      "Time: 00:03.022, Memory: 12.00 MB\n",
      "\n",
      "There were 2 errors:\n",
      "1) \u001b[35;1mTest10_RegisterConfirmCest:\u001b[39;22m Confirm user using link\n",
      "\u001b[37;41;1m Test  \u001b[39;49;22mtests/Acceptance/Test10_RegisterConfirmCest.php:test\n"
     ]
    },
    {
     "name": "stderr",
     "output_type": "stream",
     "text": [
      "[Mon Nov 21 02:41:12 2022] [::1]:55166 Accepted\n",
      "[Mon Nov 21 02:41:12 2022] [::1]:55166 [200]: GET /auth/login\n",
      "[Mon Nov 21 02:41:12 2022] [::1]:55166 Closing\n",
      "[Mon Nov 21 02:41:12 2022] [::1]:55178 Accepted\n",
      "[Mon Nov 21 02:41:12 2022] [::1]:55178 [200]: GET /auth/login\n",
      "[Mon Nov 21 02:41:12 2022] [::1]:55178 Closing\n"
     ]
    },
    {
     "name": "stdout",
     "output_type": "stream",
     "text": [
      "\u001b[37;41;1m                                                                                                                                                                                                                                                   \u001b[39;49;22m\r\n",
      "\u001b[37;41;1m  [ArgumentCountError] Too few arguments to function Model\\User::__construct(), 1 passed in /home/student/php_2022_adam_lewinski/07_testing/02_exercise/project/tests/Acceptance/Test10_RegisterConfirmCest.php on line 17 and exactly 5 expected  \u001b[39;49;22m\r\n",
      "\u001b[37;41;1m                                                                                                                                                                                                                                                   \u001b[39;49;22m\r\n",
      "#1  /home/student/php_2022_adam_lewinski/07_testing/02_exercise/project/src/Model/User.php:19\r\n",
      "#2  /home/student/php_2022_adam_lewinski/07_testing/02_exercise/project/tests/Acceptance/Test10_RegisterConfirmCest.php:17\r\n",
      "#3  Tests\\Acceptance\\Test10_RegisterConfirmCest->test\r\n",
      "#4  /home/student/php_2022_adam_lewinski/07_testing/02_exercise/project/vendor/bin/codecept:120\r\n",
      "2) \u001b[35;1mTest14_LoginLogoutSeeHiddenContentCest:\u001b[39;22m See hidden content after login\r\n",
      "\u001b[37;41;1m Test  \u001b[39;49;22mtests/Acceptance/Test14_LoginLogoutSeeHiddenContentCest.php:test\r\n",
      "\u001b[37;41;1m                                                                                                                                                                                                                                                               \u001b[39;49;22m\r\n",
      "\u001b[37;41;1m  [ArgumentCountError] Too few arguments to function Model\\User::__construct(), 1 passed in /home/student/php_2022_adam_lewinski/07_testing/02_exercise/project/tests/Acceptance/Test14_LoginLogoutSeeHiddenContentCest.php on line 17 and exactly 5 expected  \u001b[39;49;22m\r\n",
      "\u001b[37;41;1m                                                                                                                                                                                                                                                               \u001b[39;49;22m\r\n",
      "#1  /home/student/php_2022_adam_lewinski/07_testing/02_exercise/project/src/Model/User.php:19\r\n",
      "#2  /home/student/php_2022_adam_lewinski/07_testing/02_exercise/project/tests/Acceptance/Test14_LoginLogoutSeeHiddenContentCest.php:17\r\n",
      "#3  Tests\\Acceptance\\Test14_LoginLogoutSeeHiddenContentCest->test\r\n",
      "#4  /home/student/php_2022_adam_lewinski/07_testing/02_exercise/project/vendor/bin/codecept:120\r\n",
      "\r\n",
      "---------\r\n",
      "\r\n",
      "There were 5 failures:\r\n",
      "1) \u001b[35;1mTest08_RegisterValidationCest:\u001b[39;22m Validate data entered during registration\r\n",
      "\u001b[37;41;1m Test  \u001b[39;49;22mtests/Acceptance/Test08_RegisterValidationCest.php:test\r\n",
      "\u001b[37;41;1m Step \u001b[39;49;22m See in title \"Login\"\r\n",
      "\u001b[37;41;1m Fail \u001b[39;49;22m Failed asserting that two strings are identical.\r\n",
      "\u001b[33m- Expected\u001b[39m | \u001b[32m+ Actual\u001b[39m\r\n",
      "@@ @@\r\n",
      "\u001b[33m-'/auth/register'\u001b[39m\r\n",
      "\u001b[32m+'/auth/confirmation_notice'\u001b[39m\r\n",
      "\u001b[33m\r\n",
      "Scenario Steps:\r\n",
      "\u001b[39m\r\n",
      "\u001b[1m 3. $I->seeCurrentUrlEquals(\"/auth/register\")\u001b[22m at \u001b[32mtests/Acceptance/Test08_RegisterValidationCest.php:20\u001b[39m\r\n",
      " 2. $I->click(\"Create\") at \u001b[32mtests/Acceptance/Test08_RegisterValidationCest.php:18\u001b[39m\r\n",
      " 1. $I->amOnPage(\"/auth/register\") at \u001b[32mtests/Acceptance/Test08_RegisterValidationCest.php:16\u001b[39m\r\n",
      "\r\n",
      "\u001b[33mArtifacts:\u001b[39m\r\n",
      "\r\n",
      "Html: \u001b[36m/home/student/php_2022_adam_lewinski/07_testing/02_exercise/project/tests/_output/Tests.Acceptance.Test08_RegisterValidationCest.test.fail.html\u001b[39m\r\n",
      "Response: \u001b[36m/home/student/php_2022_adam_lewinski/07_testing/02_exercise/project/tests/_output/Tests.Acceptance.Test08_RegisterValidationCest.test.fail.html\u001b[39m\r\n",
      "2) \u001b[35;1mTest09_RegisterRememberFieldsCest:\u001b[39;22m Remember data entered during registration when validation error is present\r\n",
      "\u001b[37;41;1m Test  \u001b[39;49;22mtests/Acceptance/Test09_RegisterRememberFieldsCest.php:test\r\n",
      "\u001b[37;41;1m Step \u001b[39;49;22m See in title \"Login\"\r\n",
      "\u001b[37;41;1m Fail \u001b[39;49;22m Failed asserting that two strings are identical.\r\n",
      "\u001b[33m- Expected\u001b[39m | \u001b[32m+ Actual\u001b[39m\r\n",
      "@@ @@\r\n",
      "\u001b[33m-'/auth/register'\u001b[39m\r\n",
      "\u001b[32m+'/auth/confirmation_notice'\u001b[39m\r\n",
      "\u001b[33m\r\n",
      "Scenario Steps:\r\n",
      "\u001b[39m\r\n",
      "\u001b[1m 4. $I->seeCurrentUrlEquals(\"/auth/register\")\u001b[22m at \u001b[32mtests/Acceptance/Test09_RegisterRememberFieldsCest.php:21\u001b[39m\r\n",
      " 3. $I->click(\"Create\") at \u001b[32mtests/Acceptance/Test09_RegisterRememberFieldsCest.php:20\u001b[39m\r\n",
      " 2. $I->fillField(\"id\",\"1\") at \u001b[32mtests/Acceptance/Test09_RegisterRememberFieldsCest.php:19\u001b[39m\r\n",
      " 1. $I->amOnPage(\"/auth/register\") at \u001b[32mtests/Acceptance/Test09_RegisterRememberFieldsCest.php:16\u001b[39m\r\n",
      "\r\n",
      "\u001b[33mArtifacts:\u001b[39m\r\n",
      "\r\n",
      "Html: \u001b[36m/home/student/php_2022_adam_lewinski/07_testing/02_exercise/project/tests/_output/Tests.Acceptance.Test09_RegisterRememberFieldsCest.test.fail.html\u001b[39m\r\n",
      "Response: \u001b[36m/home/student/php_2022_adam_lewinski/07_testing/02_exercise/project/tests/_output/Tests.Acceptance.Test09_RegisterRememberFieldsCest.test.fail.html\u001b[39m\r\n",
      "3) \u001b[35;1mTest11_LoginNotExistingCest:\u001b[39;22m See error when user does not exists\r\n",
      "\u001b[37;41;1m Test  \u001b[39;49;22mtests/Acceptance/Test11_LoginNotExistingCest.php:test\r\n",
      "\u001b[37;41;1m Step \u001b[39;49;22m See in title \"Login\"\r\n",
      "\u001b[37;41;1m Fail \u001b[39;49;22m page title contains Login\r\n",
      "Failed asserting that '404' contains \"Login\".\r\n",
      "\u001b[33m\r\n",
      "Scenario Steps:\r\n",
      "\u001b[39m\r\n",
      "\u001b[1m 2. $I->seeInTitle(\"Login\")\u001b[22m at \u001b[32mtests/Acceptance/Test11_LoginNotExistingCest.php:18\u001b[39m\r\n",
      " 1. $I->amOnPage(\"/auth/login\") at \u001b[32mtests/Acceptance/Test11_LoginNotExistingCest.php:16\u001b[39m\r\n",
      "\r\n",
      "\u001b[33mArtifacts:\u001b[39m\r\n",
      "\r\n",
      "Html: \u001b[36m/home/student/php_2022_adam_lewinski/07_testing/02_exercise/project/tests/_output/Tests.Acceptance.Test11_LoginNotExistingCest.test.fail.html\u001b[39m\r\n",
      "Response: \u001b[36m/home/student/php_2022_adam_lewinski/07_testing/02_exercise/project/tests/_output/Tests.Acceptance.Test11_LoginNotExistingCest.test.fail.html\u001b[39m\r\n",
      "4) \u001b[35;1mTest12_LoginWrongPasswordCest:\u001b[39;22m See error when wrong password is entered\r\n",
      "\u001b[37;41;1m Test  \u001b[39;49;22mtests/Acceptance/Test12_LoginWrongPasswordCest.php:test\r\n",
      "page title contains Login\r\n",
      "Failed asserting that '404' contains \"Login\".\r\n",
      "\u001b[33m\r\n",
      "Scenario Steps:\r\n",
      "\u001b[39m\r\n",
      "\u001b[1m 2. $I->seeInTitle(\"Login\")\u001b[22m at \u001b[32mtests/Acceptance/Test12_LoginWrongPasswordCest.php:19\u001b[39m\r\n",
      " 1. $I->amOnPage(\"/auth/login\") at \u001b[32mtests/Acceptance/Test12_LoginWrongPasswordCest.php:17\u001b[39m\r\n",
      "\r\n",
      "\u001b[33mArtifacts:\u001b[39m\r\n",
      "\r\n",
      "Html: \u001b[36m/home/student/php_2022_adam_lewinski/07_testing/02_exercise/project/tests/_output/Tests.Acceptance.Test12_LoginWrongPasswordCest.test.fail.html\u001b[39m\r\n",
      "Response: \u001b[36m/home/student/php_2022_adam_lewinski/07_testing/02_exercise/project/tests/_output/Tests.Acceptance.Test12_LoginWrongPasswordCest.test.fail.html\u001b[39m\r\n",
      "5) \u001b[35;1mTest13_LoginNotConfirmedCest:\u001b[39;22m Be remained about email confirmation when trying to login\r\n",
      "\u001b[37;41;1m Test  \u001b[39;49;22mtests/Acceptance/Test13_LoginNotConfirmedCest.php:test\r\n",
      "page title contains Login\r\n",
      "Failed asserting that '404' contains \"Login\".\r\n",
      "\u001b[33m\r\n",
      "Scenario Steps:\r\n",
      "\u001b[39m\r\n",
      "\u001b[1m 2. $I->seeInTitle(\"Login\")\u001b[22m at \u001b[32mtests/Acceptance/Test13_LoginNotConfirmedCest.php:18\u001b[39m\r\n",
      " 1. $I->amOnPage(\"/auth/login\") at \u001b[32mtests/Acceptance/Test13_LoginNotConfirmedCest.php:16\u001b[39m\r\n",
      "\r\n",
      "\u001b[33mArtifacts:\u001b[39m\r\n",
      "\r\n",
      "Html: \u001b[36m/home/student/php_2022_adam_lewinski/07_testing/02_exercise/project/tests/_output/Tests.Acceptance.Test13_LoginNotConfirmedCest.test.fail.html\u001b[39m\r\n",
      "Response: \u001b[36m/home/student/php_2022_adam_lewinski/07_testing/02_exercise/project/tests/_output/Tests.Acceptance.Test13_LoginNotConfirmedCest.test.fail.html\u001b[39m\r\n",
      "\r\n",
      "\u001b[37;41;1mERRORS!\u001b[39;49;22m\r\n",
      "\u001b[37;41;1mTests: 15, Assertions: 165, Errors: 2, Failures: 5.\u001b[39;49;22m\r\n"
     ]
    }
   ],
   "source": [
    "! vendor/bin/codecept run Acceptance"
   ]
  },
  {
   "cell_type": "code",
   "execution_count": 30,
   "metadata": {},
   "outputs": [
    {
     "name": "stdout",
     "output_type": "stream",
     "text": [
      "Codeception PHP Testing Framework v5.0.4 https://helpukrainewin.org\n",
      "\n",
      "\u001b[1mTests.Acceptance Tests (15) \u001b[22m----------------------------------------------------\n",
      "\u001b[32;1m✔\u001b[39;22m \u001b[35;1mTest00_PrettyUrlCest:\u001b[39;22m Test \u001b[32m(0.13s)\u001b[39m\n",
      "\u001b[32;1m✔\u001b[39;22m \u001b[35;1mTest01_FileStorageCest:\u001b[39;22m Test \u001b[32m(0.04s)\u001b[39m\n",
      "- \u001b[35;1mTest02_SessionStorageCest:\u001b[39;22m Test"
     ]
    },
    {
     "name": "stderr",
     "output_type": "stream",
     "text": [
      "[Mon Nov 21 02:41:13 2022] [::1]:55190 Accepted\n",
      "[Mon Nov 21 02:41:13 2022] [::1]:55190 [200]: GET /\n",
      "[Mon Nov 21 02:41:13 2022] [::1]:55190 Closing\n",
      "[Mon Nov 21 02:41:13 2022] [::1]:55196 Accepted\n",
      "[Mon Nov 21 02:41:13 2022] [::1]:55196 [200]: GET /home\n",
      "[Mon Nov 21 02:41:13 2022] [::1]:55196 Closing\n",
      "[Mon Nov 21 02:41:13 2022] [::1]:55200 Accepted\n",
      "[Mon Nov 21 02:41:13 2022] [::1]:55200 [200]: GET /about\n",
      "[Mon Nov 21 02:41:13 2022] [::1]:55200 Closing\n",
      "[Mon Nov 21 02:41:13 2022] [::1]:55206 Accepted\n",
      "[Mon Nov 21 02:41:13 2022] [::1]:55206 [200]: GET /users\n",
      "[Mon Nov 21 02:41:13 2022] [::1]:55206 Closing\n",
      "[Mon Nov 21 02:41:13 2022] [::1]:55214 Accepted\n",
      "[Mon Nov 21 02:41:13 2022] [::1]:55214 [200]: GET /users/1\n",
      "[Mon Nov 21 02:41:13 2022] [::1]:55214 Closing\n",
      "[Mon Nov 21 02:41:13 2022] [::1]:55230 Accepted\n",
      "[Mon Nov 21 02:41:13 2022] [::1]:55230 [200]: GET /users\n",
      "[Mon Nov 21 02:41:13 2022] [::1]:55230 Closing\n",
      "[Mon Nov 21 02:41:13 2022] [::1]:55242 Accepted\n",
      "[Mon Nov 21 02:41:13 2022] [::1]:55242 [200]: GET /users/2\n",
      "[Mon Nov 21 02:41:13 2022] [::1]:55242 Closing\n",
      "[Mon Nov 21 02:41:13 2022] [::1]:55246 Accepted\n",
      "[Mon Nov 21 02:41:13 2022] [::1]:55246 [200]: GET /users\n",
      "[Mon Nov 21 02:41:13 2022] [::1]:55246 Closing\n",
      "[Mon Nov 21 02:41:13 2022] [::1]:55254 Accepted\n",
      "[Mon Nov 21 02:41:13 2022] [::1]:55254 [200]: GET /users/3\n",
      "[Mon Nov 21 02:41:13 2022] [::1]:55254 Closing\n",
      "[Mon Nov 21 02:41:13 2022] [::1]:55256 Accepted\n",
      "[Mon Nov 21 02:41:13 2022] [::1]:55256 [200]: GET /demo/file\n",
      "[Mon Nov 21 02:41:13 2022] [::1]:55256 Closing\n",
      "[Mon Nov 21 02:41:13 2022] [::1]:55268 Accepted\n",
      "[Mon Nov 21 02:41:13 2022] [::1]:55268 [200]: GET /demo/session\n",
      "[Mon Nov 21 02:41:13 2022] [::1]:55268 Closing\n",
      "[Mon Nov 21 02:41:13 2022] [::1]:55278 Accepted\n"
     ]
    },
    {
     "name": "stdout",
     "output_type": "stream",
     "text": [
      "\u001b[32;1m✔\u001b[39;22m \u001b[35;1mTest02_SessionStorageCest:\u001b[39;22m Test \u001b[32m(0.02s)\u001b[39m\n",
      "\u001b[32;1m✔\u001b[39;22m \u001b[35;1mTest03_SQLiteStorageCest:\u001b[39;22m Test \u001b[32m(0.12s)\u001b[39m\n",
      "- \u001b[35;1mTest04_MySQLStorageCest:\u001b[39;22m Test"
     ]
    },
    {
     "name": "stderr",
     "output_type": "stream",
     "text": [
      "[Mon Nov 21 02:41:13 2022] [::1]:55278 [200]: GET /demo/sqlite\n",
      "[Mon Nov 21 02:41:13 2022] [::1]:55278 Closing\n",
      "[Mon Nov 21 02:41:13 2022] [::1]:55294 Accepted\n",
      "[Mon Nov 21 02:41:13 2022] [::1]:55294 [200]: GET /demo/mysql\n",
      "[Mon Nov 21 02:41:13 2022] [::1]:55294 Closing\n",
      "[Mon Nov 21 02:41:13 2022] [::1]:35678 Accepted\n"
     ]
    },
    {
     "name": "stdout",
     "output_type": "stream",
     "text": [
      "\u001b[32;1m✔\u001b[39;22m \u001b[35;1mTest04_MySQLStorageCest:\u001b[39;22m Test \u001b[32m(0.29s)\u001b[39m\n",
      "\u001b[32;1m✔\u001b[39;22m \u001b[35;1mTest05_RedisStorageCest:\u001b[39;22m Test \u001b[32m(0.03s)\u001b[39m\n",
      "\u001b[32;1m✔\u001b[39;22m \u001b[35;1mTest06_HomepageCest:\u001b[39;22m See login and register links \u001b[32m(0.10s)\u001b[39m\n",
      "- \u001b[35;1mTest07_RegisterCest:\u001b[39;22m Register new user"
     ]
    },
    {
     "name": "stderr",
     "output_type": "stream",
     "text": [
      "[Mon Nov 21 02:41:13 2022] [::1]:35678 [200]: GET /demo/mysql\n",
      "[Mon Nov 21 02:41:13 2022] [::1]:35678 Closing\n",
      "[Mon Nov 21 02:41:13 2022] [::1]:35690 Accepted\n",
      "[Mon Nov 21 02:41:14 2022] [::1]:35690 [200]: GET /demo/redis\n",
      "[Mon Nov 21 02:41:14 2022] [::1]:35690 Closing\n",
      "[Mon Nov 21 02:41:14 2022] [::1]:35706 Accepted\n",
      "[Mon Nov 21 02:41:14 2022] [::1]:35706 [200]: GET /\n",
      "[Mon Nov 21 02:41:14 2022] [::1]:35706 Closing\n",
      "[Mon Nov 21 02:41:14 2022] [::1]:35710 Accepted\n",
      "[Mon Nov 21 02:41:14 2022] [::1]:35710 [200]: GET /home\n",
      "[Mon Nov 21 02:41:14 2022] [::1]:35710 Closing\n",
      "[Mon Nov 21 02:41:14 2022] [::1]:35720 Accepted\n",
      "[Mon Nov 21 02:41:14 2022] [::1]:35720 [200]: GET /\n",
      "[Mon Nov 21 02:41:14 2022] [::1]:35720 Closing\n",
      "[Mon Nov 21 02:41:14 2022] [::1]:35730 Accepted\n",
      "[Mon Nov 21 02:41:14 2022] [::1]:35730 [200]: GET /auth/register\n",
      "[Mon Nov 21 02:41:14 2022] [::1]:35730 Closing\n",
      "[Mon Nov 21 02:41:14 2022] [::1]:35742 Accepted\n"
     ]
    },
    {
     "name": "stdout",
     "output_type": "stream",
     "text": [
      "\r",
      "\u001b[32;1m✔\u001b[39;22m \u001b[35;1mTest07_RegisterCest:\u001b[39;22m Register new user \u001b[32m(0.63s)\u001b[39m\r\n",
      "- \u001b[35;1mTest08_RegisterValidationCest:\u001b[39;22m Validate data entered during registration"
     ]
    },
    {
     "name": "stderr",
     "output_type": "stream",
     "text": [
      "[Mon Nov 21 02:41:14 2022] [::1]:35742 [200]: POST /auth/confirmation_notice\n",
      "[Mon Nov 21 02:41:14 2022] [::1]:35742 Closing\n",
      "[Mon Nov 21 02:41:14 2022] [::1]:35754 Accepted\n",
      "[Mon Nov 21 02:41:14 2022] [::1]:35754 [200]: GET /auth/register\n",
      "[Mon Nov 21 02:41:14 2022] [::1]:35754 Closing\n",
      "[Mon Nov 21 02:41:14 2022] [::1]:35756 Accepted\n"
     ]
    },
    {
     "name": "stdout",
     "output_type": "stream",
     "text": [
      "\r",
      "\u001b[31;1m✖\u001b[39;22m \u001b[35;1mTest08_RegisterValidationCest:\u001b[39;22m Validate data entered during registration \u001b[32m(0.49s)\u001b[39m\r\n",
      "- \u001b[35;1mTest09_RegisterRememberFieldsCest:\u001b[39;22m Remember data entered during registration when validation error is present"
     ]
    },
    {
     "name": "stderr",
     "output_type": "stream",
     "text": [
      "[Mon Nov 21 02:41:15 2022] [::1]:35756 [200]: POST /auth/confirmation_notice\n",
      "[Mon Nov 21 02:41:15 2022] [::1]:35756 Closing\n",
      "[Mon Nov 21 02:41:15 2022] [::1]:35758 Accepted\n",
      "[Mon Nov 21 02:41:15 2022] [::1]:35758 [200]: GET /auth/register\n",
      "[Mon Nov 21 02:41:15 2022] [::1]:35758 Closing\n",
      "[Mon Nov 21 02:41:15 2022] [::1]:35764 Accepted\n"
     ]
    },
    {
     "name": "stdout",
     "output_type": "stream",
     "text": [
      "\u001b[31;1m✖\u001b[39;22m \u001b[35;1mTest09_RegisterRememberFieldsCest:\u001b[39;22m Remember data entered during registration when validation error is present \u001b[32m(0.40s)\u001b[39m\n",
      "\u001b[31;1mE\u001b[39;22m \u001b[35;1mTest10_RegisterConfirmCest:\u001b[39;22m Confirm user using link \u001b[32m(0.07s)\u001b[39m\n",
      "\u001b[31;1m✖\u001b[39;22m \u001b[35;1mTest11_LoginNotExistingCest:\u001b[39;22m See error when user does not exists \u001b[32m(0.08s)\u001b[39m\n",
      "- \u001b[35;1mTest12_LoginWrongPasswordCest:\u001b[39;22m See error when wrong password is entered"
     ]
    },
    {
     "name": "stderr",
     "output_type": "stream",
     "text": [
      "[Mon Nov 21 02:41:15 2022] [::1]:35764 [200]: POST /auth/confirmation_notice\n",
      "[Mon Nov 21 02:41:15 2022] [::1]:35764 Closing\n",
      "[Mon Nov 21 02:41:15 2022] [::1]:35776 Accepted\n",
      "[Mon Nov 21 02:41:15 2022] [::1]:35776 [200]: GET /auth/login\n",
      "[Mon Nov 21 02:41:15 2022] [::1]:35776 Closing\n"
     ]
    },
    {
     "name": "stdout",
     "output_type": "stream",
     "text": [
      "\u001b[31;1m✖\u001b[39;22m \u001b[35;1mTest12_LoginWrongPasswordCest:\u001b[39;22m See error when wrong password is entered \u001b[32m(0.10s)\u001b[39m\n",
      "\u001b[31;1m✖\u001b[39;22m \u001b[35;1mTest13_LoginNotConfirmedCest:\u001b[39;22m Be remained about email confirmation when trying to login \u001b[32m(0.08s)\u001b[39m\n",
      "\u001b[31;1mE\u001b[39;22m \u001b[35;1mTest14_LoginLogoutSeeHiddenContentCest:\u001b[39;22m See hidden content after login \u001b[32m(0.06s)\u001b[39m\n",
      "--------------------------------------------------------------------------------\n",
      "Time: 00:02.860, Memory: 14.00 MB\n",
      "\n",
      "There were 2 errors:\n",
      "1) \u001b[35;1mTest10_RegisterConfirmCest:\u001b[39;22m Confirm user using link\n",
      "\u001b[37;41;1m Test  \u001b[39;49;22mtests/Acceptance/Test10_RegisterConfirmCest.php:test\n",
      "\u001b[37;41;1m                                                                                                                                                                                                                                                   \u001b[39;49;22m\n",
      "\u001b[37;41;1m  [ArgumentCountError] Too few arguments to function Model\\User::__construct(), 1 passed in /home/student/php_2022_adam_lewinski/07_testing/02_exercise/project/tests/Acceptance/Test10_RegisterConfirmCest.php on line 17 and exactly 5 expected  \u001b[39;49;22m\n",
      "\u001b[37;41;1m                                                                                                                                                                                                                                                   \u001b[39;49;22m\n"
     ]
    },
    {
     "name": "stderr",
     "output_type": "stream",
     "text": [
      "[Mon Nov 21 02:41:15 2022] [::1]:35778 Accepted\n",
      "[Mon Nov 21 02:41:15 2022] [::1]:35778 [200]: GET /auth/login\n",
      "[Mon Nov 21 02:41:15 2022] [::1]:35778 Closing\n",
      "[Mon Nov 21 02:41:16 2022] [::1]:35792 Accepted\n",
      "[Mon Nov 21 02:41:16 2022] [::1]:35792 [200]: GET /auth/login\n",
      "[Mon Nov 21 02:41:16 2022] [::1]:35792 Closing\n"
     ]
    },
    {
     "name": "stdout",
     "output_type": "stream",
     "text": [
      "#1  /home/student/php_2022_adam_lewinski/07_testing/02_exercise/project/src/Model/User.php:19\r\n",
      "#2  /home/student/php_2022_adam_lewinski/07_testing/02_exercise/project/tests/Acceptance/Test10_RegisterConfirmCest.php:17\r\n",
      "#3  Tests\\Acceptance\\Test10_RegisterConfirmCest->test\r\n",
      "#4  /home/student/php_2022_adam_lewinski/07_testing/02_exercise/project/vendor/bin/codecept:120\r\n",
      "2) \u001b[35;1mTest14_LoginLogoutSeeHiddenContentCest:\u001b[39;22m See hidden content after login\r\n",
      "\u001b[37;41;1m Test  \u001b[39;49;22mtests/Acceptance/Test14_LoginLogoutSeeHiddenContentCest.php:test\r\n",
      "\u001b[37;41;1m                                                                                                                                                                                                                                                               \u001b[39;49;22m\r\n",
      "\u001b[37;41;1m  [ArgumentCountError] Too few arguments to function Model\\User::__construct(), 1 passed in /home/student/php_2022_adam_lewinski/07_testing/02_exercise/project/tests/Acceptance/Test14_LoginLogoutSeeHiddenContentCest.php on line 17 and exactly 5 expected  \u001b[39;49;22m\r\n",
      "\u001b[37;41;1m                                                                                                                                                                                                                                                               \u001b[39;49;22m\r\n",
      "#1  /home/student/php_2022_adam_lewinski/07_testing/02_exercise/project/src/Model/User.php:19\r\n",
      "#2  /home/student/php_2022_adam_lewinski/07_testing/02_exercise/project/tests/Acceptance/Test14_LoginLogoutSeeHiddenContentCest.php:17\r\n",
      "#3  Tests\\Acceptance\\Test14_LoginLogoutSeeHiddenContentCest->test\r\n",
      "#4  /home/student/php_2022_adam_lewinski/07_testing/02_exercise/project/vendor/bin/codecept:120\r\n",
      "\r\n",
      "---------\r\n",
      "\r\n",
      "There were 5 failures:\r\n",
      "1) \u001b[35;1mTest08_RegisterValidationCest:\u001b[39;22m Validate data entered during registration\r\n",
      "\u001b[37;41;1m Test  \u001b[39;49;22mtests/Acceptance/Test08_RegisterValidationCest.php:test\r\n",
      "\u001b[37;41;1m Step \u001b[39;49;22m See in title \"Login\"\r\n",
      "\u001b[37;41;1m Fail \u001b[39;49;22m Failed asserting that two strings are identical.\r\n",
      "\u001b[33m- Expected\u001b[39m | \u001b[32m+ Actual\u001b[39m\r\n",
      "@@ @@\r\n",
      "\u001b[33m-'/auth/register'\u001b[39m\r\n",
      "\u001b[32m+'/auth/confirmation_notice'\u001b[39m\r\n",
      "\u001b[33m\r\n",
      "Scenario Steps:\r\n",
      "\u001b[39m\r\n",
      "\u001b[1m 3. $I->seeCurrentUrlEquals(\"/auth/register\")\u001b[22m at \u001b[32mtests/Acceptance/Test08_RegisterValidationCest.php:20\u001b[39m\r\n",
      " 2. $I->click(\"Create\") at \u001b[32mtests/Acceptance/Test08_RegisterValidationCest.php:18\u001b[39m\r\n",
      " 1. $I->amOnPage(\"/auth/register\") at \u001b[32mtests/Acceptance/Test08_RegisterValidationCest.php:16\u001b[39m\r\n",
      "\r\n",
      "\u001b[33mArtifacts:\u001b[39m\r\n",
      "\r\n",
      "Html: \u001b[36m/home/student/php_2022_adam_lewinski/07_testing/02_exercise/project/tests/_output/Tests.Acceptance.Test08_RegisterValidationCest.test.fail.html\u001b[39m\r\n",
      "Response: \u001b[36m/home/student/php_2022_adam_lewinski/07_testing/02_exercise/project/tests/_output/Tests.Acceptance.Test08_RegisterValidationCest.test.fail.html\u001b[39m\r\n",
      "2) \u001b[35;1mTest09_RegisterRememberFieldsCest:\u001b[39;22m Remember data entered during registration when validation error is present\r\n",
      "\u001b[37;41;1m Test  \u001b[39;49;22mtests/Acceptance/Test09_RegisterRememberFieldsCest.php:test\r\n",
      "\u001b[37;41;1m Step \u001b[39;49;22m See in title \"Login\"\r\n",
      "\u001b[37;41;1m Fail \u001b[39;49;22m Failed asserting that two strings are identical.\r\n",
      "\u001b[33m- Expected\u001b[39m | \u001b[32m+ Actual\u001b[39m\r\n",
      "@@ @@\r\n",
      "\u001b[33m-'/auth/register'\u001b[39m\r\n",
      "\u001b[32m+'/auth/confirmation_notice'\u001b[39m\r\n",
      "\u001b[33m\r\n",
      "Scenario Steps:\r\n",
      "\u001b[39m\r\n",
      "\u001b[1m 4. $I->seeCurrentUrlEquals(\"/auth/register\")\u001b[22m at \u001b[32mtests/Acceptance/Test09_RegisterRememberFieldsCest.php:21\u001b[39m\r\n",
      " 3. $I->click(\"Create\") at \u001b[32mtests/Acceptance/Test09_RegisterRememberFieldsCest.php:20\u001b[39m\r\n",
      " 2. $I->fillField(\"id\",\"1\") at \u001b[32mtests/Acceptance/Test09_RegisterRememberFieldsCest.php:19\u001b[39m\r\n",
      " 1. $I->amOnPage(\"/auth/register\") at \u001b[32mtests/Acceptance/Test09_RegisterRememberFieldsCest.php:16\u001b[39m\r\n",
      "\r\n",
      "\u001b[33mArtifacts:\u001b[39m\r\n",
      "\r\n",
      "Html: \u001b[36m/home/student/php_2022_adam_lewinski/07_testing/02_exercise/project/tests/_output/Tests.Acceptance.Test09_RegisterRememberFieldsCest.test.fail.html\u001b[39m\r\n",
      "Response: \u001b[36m/home/student/php_2022_adam_lewinski/07_testing/02_exercise/project/tests/_output/Tests.Acceptance.Test09_RegisterRememberFieldsCest.test.fail.html\u001b[39m\r\n",
      "3) \u001b[35;1mTest11_LoginNotExistingCest:\u001b[39;22m See error when user does not exists\r\n",
      "\u001b[37;41;1m Test  \u001b[39;49;22mtests/Acceptance/Test11_LoginNotExistingCest.php:test\r\n",
      "\u001b[37;41;1m Step \u001b[39;49;22m See in title \"Login\"\r\n",
      "\u001b[37;41;1m Fail \u001b[39;49;22m page title contains Login\r\n",
      "Failed asserting that '404' contains \"Login\".\r\n",
      "\u001b[33m\r\n",
      "Scenario Steps:\r\n",
      "\u001b[39m\r\n",
      "\u001b[1m 2. $I->seeInTitle(\"Login\")\u001b[22m at \u001b[32mtests/Acceptance/Test11_LoginNotExistingCest.php:18\u001b[39m\r\n",
      " 1. $I->amOnPage(\"/auth/login\") at \u001b[32mtests/Acceptance/Test11_LoginNotExistingCest.php:16\u001b[39m\r\n",
      "\r\n",
      "\u001b[33mArtifacts:\u001b[39m\r\n",
      "\r\n",
      "Html: \u001b[36m/home/student/php_2022_adam_lewinski/07_testing/02_exercise/project/tests/_output/Tests.Acceptance.Test11_LoginNotExistingCest.test.fail.html\u001b[39m\r\n",
      "Response: \u001b[36m/home/student/php_2022_adam_lewinski/07_testing/02_exercise/project/tests/_output/Tests.Acceptance.Test11_LoginNotExistingCest.test.fail.html\u001b[39m\r\n",
      "4) \u001b[35;1mTest12_LoginWrongPasswordCest:\u001b[39;22m See error when wrong password is entered\r\n",
      "\u001b[37;41;1m Test  \u001b[39;49;22mtests/Acceptance/Test12_LoginWrongPasswordCest.php:test\r\n",
      "page title contains Login\r\n",
      "Failed asserting that '404' contains \"Login\".\r\n",
      "\u001b[33m\r\n",
      "Scenario Steps:\r\n",
      "\u001b[39m\r\n",
      "\u001b[1m 2. $I->seeInTitle(\"Login\")\u001b[22m at \u001b[32mtests/Acceptance/Test12_LoginWrongPasswordCest.php:19\u001b[39m\r\n",
      " 1. $I->amOnPage(\"/auth/login\") at \u001b[32mtests/Acceptance/Test12_LoginWrongPasswordCest.php:17\u001b[39m\r\n",
      "\r\n",
      "\u001b[33mArtifacts:\u001b[39m\r\n",
      "\r\n",
      "Html: \u001b[36m/home/student/php_2022_adam_lewinski/07_testing/02_exercise/project/tests/_output/Tests.Acceptance.Test12_LoginWrongPasswordCest.test.fail.html\u001b[39m\r\n",
      "Response: \u001b[36m/home/student/php_2022_adam_lewinski/07_testing/02_exercise/project/tests/_output/Tests.Acceptance.Test12_LoginWrongPasswordCest.test.fail.html\u001b[39m\r\n",
      "5) \u001b[35;1mTest13_LoginNotConfirmedCest:\u001b[39;22m Be remained about email confirmation when trying to login\r\n",
      "\u001b[37;41;1m Test  \u001b[39;49;22mtests/Acceptance/Test13_LoginNotConfirmedCest.php:test\r\n",
      "page title contains Login\r\n",
      "Failed asserting that '404' contains \"Login\".\r\n",
      "\u001b[33m\r\n",
      "Scenario Steps:\r\n",
      "\u001b[39m\r\n",
      "\u001b[1m 2. $I->seeInTitle(\"Login\")\u001b[22m at \u001b[32mtests/Acceptance/Test13_LoginNotConfirmedCest.php:18\u001b[39m\r\n",
      " 1. $I->amOnPage(\"/auth/login\") at \u001b[32mtests/Acceptance/Test13_LoginNotConfirmedCest.php:16\u001b[39m\r\n",
      "\r\n",
      "\u001b[33mArtifacts:\u001b[39m\r\n",
      "\r\n",
      "Html: \u001b[36m/home/student/php_2022_adam_lewinski/07_testing/02_exercise/project/tests/_output/Tests.Acceptance.Test13_LoginNotConfirmedCest.test.fail.html\u001b[39m\r\n",
      "Response: \u001b[36m/home/student/php_2022_adam_lewinski/07_testing/02_exercise/project/tests/_output/Tests.Acceptance.Test13_LoginNotConfirmedCest.test.fail.html\u001b[39m\r\n",
      "\r\n",
      "\u001b[37;41;1mERRORS!\u001b[39;49;22m\r\n",
      "\u001b[37;41;1mTests: 15, Assertions: 165, Errors: 2, Failures: 5.\u001b[39;49;22m\r\n",
      "- \u001b[1mJUNIT XML\u001b[22m report generated in \u001b[33mfile:///home/student/php_2022_adam_lewinski/07_testing/02_exercise/project/tests/_output/test_report.xml\u001b[39m\r\n"
     ]
    }
   ],
   "source": [
    "! vendor/bin/codecept run Acceptance --xml test_report.xml"
   ]
  },
  {
   "cell_type": "code",
   "execution_count": 31,
   "metadata": {},
   "outputs": [],
   "source": [
    "phpServer.kill()"
   ]
  },
  {
   "cell_type": "code",
   "execution_count": 35,
   "metadata": {},
   "outputs": [
    {
     "name": "stdout",
     "output_type": "stream",
     "text": [
      "/home/student/php_2022_adam_lewinski/07_testing/02_exercise\n"
     ]
    }
   ],
   "source": [
    "%cd ../"
   ]
  },
  {
   "cell_type": "markdown",
   "metadata": {},
   "source": [
    "Stop the databses:"
   ]
  },
  {
   "cell_type": "code",
   "execution_count": null,
   "metadata": {},
   "outputs": [],
   "source": [
    "! docker container stop redis"
   ]
  },
  {
   "cell_type": "code",
   "execution_count": null,
   "metadata": {},
   "outputs": [],
   "source": [
    "! docker container stop mysql"
   ]
  }
 ],
 "metadata": {
  "kernelspec": {
   "display_name": "Python 3 (ipykernel)",
   "language": "python",
   "name": "python3"
  },
  "language_info": {
   "codemirror_mode": {
    "name": "ipython",
    "version": 3
   },
   "file_extension": ".py",
   "mimetype": "text/x-python",
   "name": "python",
   "nbconvert_exporter": "python",
   "pygments_lexer": "ipython3",
   "version": "3.10.6"
  }
 },
 "nbformat": 4,
 "nbformat_minor": 4
}
