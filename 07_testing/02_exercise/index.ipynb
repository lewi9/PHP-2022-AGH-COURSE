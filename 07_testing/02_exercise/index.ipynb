{
 "cells": [
  {
   "cell_type": "markdown",
   "metadata": {},
   "source": [
    "# PHP 2022"
   ]
  },
  {
   "cell_type": "markdown",
   "metadata": {},
   "source": [
    "## 7. Testing"
   ]
  },
  {
   "cell_type": "markdown",
   "metadata": {},
   "source": [
    "### 7.2 Exercise"
   ]
  },
  {
   "cell_type": "markdown",
   "metadata": {},
   "source": [
    "Implment missing code."
   ]
  },
  {
   "cell_type": "markdown",
   "metadata": {},
   "source": [
    "Start the databses:"
   ]
  },
  {
   "cell_type": "code",
   "execution_count": 1,
   "metadata": {},
   "outputs": [
    {
     "name": "stdout",
     "output_type": "stream",
     "text": [
      "2f368ff7f00acd95fea7ec283bd9110e954e646692f85f4bd0daee08356b0bd3\r\n"
     ]
    }
   ],
   "source": [
    "! docker run --net=host --rm --name redis -d redis"
   ]
  },
  {
   "cell_type": "code",
   "execution_count": 2,
   "metadata": {},
   "outputs": [
    {
     "name": "stdout",
     "output_type": "stream",
     "text": [
      "dc24693c41d3c91cbf2e691a574b753b65c43c2d69cb7c51d1021a6553ca21f5\r\n"
     ]
    }
   ],
   "source": [
    "! docker run --name=mysql --net=host --rm --env MYSQL_ROOT_PASSWORD=root123 --env MYSQL_DATABASE=test --env MYSQL_USER=test --env MYSQL_PASSWORD=test123 -d mysql/mysql-server:8.0"
   ]
  },
  {
   "cell_type": "code",
   "execution_count": 3,
   "metadata": {},
   "outputs": [
    {
     "name": "stdout",
     "output_type": "stream",
     "text": [
      "Done.\r\n"
     ]
    }
   ],
   "source": [
    "! while ! timeout 1 bash -c \"echo > /dev/tcp/localhost/6379\" 2> /dev/null; do sleep 1; done; echo \"Done.\";"
   ]
  },
  {
   "cell_type": "code",
   "execution_count": 4,
   "metadata": {},
   "outputs": [
    {
     "name": "stdout",
     "output_type": "stream",
     "text": [
      "Done.\r\n"
     ]
    }
   ],
   "source": [
    "! while ! timeout 1 bash -c \"echo > /dev/tcp/localhost/3306\" 2> /dev/null; do sleep 1; done; echo \"Done.\";"
   ]
  },
  {
   "cell_type": "markdown",
   "metadata": {},
   "source": [
    "Edit the code:"
   ]
  },
  {
   "cell_type": "code",
   "execution_count": null,
   "metadata": {},
   "outputs": [
    {
     "name": "stdout",
     "output_type": "stream",
     "text": [
      "CompileCommand: exclude com/intellij/openapi/vfs/impl/FilePartNodeRoot.trieDescend bool exclude = true\n",
      "2022-11-21 23:43:51,930 [   2438] SEVERE - #c.i.d.LoadingState - Should be called at least in the state COMPONENTS_LOADED, the current state is: CONFIGURATION_STORE_INITIALIZED\n",
      "Current violators count: 1\n",
      "\n",
      "\n",
      "java.lang.Throwable\n",
      "\tat com.intellij.diagnostic.LoadingState.logStateError(LoadingState.java:52)\n",
      "\tat com.intellij.diagnostic.LoadingState.checkOccurred(LoadingState.java:48)\n",
      "\tat com.intellij.openapi.actionSystem.impl.ActionManagerImpl.<init>(ActionManagerImpl.java:133)\n",
      "\tat com.jetbrains.rdserver.ui.actionPopupMenu.BackendActionManager.<init>(BackendActionManager.kt:17)\n",
      "\tat java.base/jdk.internal.reflect.NativeConstructorAccessorImpl.newInstance0(Native Method)\n",
      "\tat java.base/jdk.internal.reflect.NativeConstructorAccessorImpl.newInstance(NativeConstructorAccessorImpl.java:77)\n",
      "\tat java.base/jdk.internal.reflect.DelegatingConstructorAccessorImpl.newInstance(DelegatingConstructorAccessorImpl.java:45)\n",
      "\tat java.base/java.lang.reflect.Constructor.newInstanceWithCaller(Constructor.java:499)\n",
      "\tat java.base/java.lang.reflect.Constructor.newInstance(Constructor.java:480)\n",
      "\tat com.intellij.serviceContainer.ConstructorInjectionKt.instantiateUsingPicoContainer(constructorInjection.kt:47)\n",
      "\tat com.intellij.serviceContainer.ComponentManagerImpl.instantiateClassWithConstructorInjection(ComponentManagerImpl.kt:890)\n",
      "\tat com.intellij.serviceContainer.ServiceComponentAdapter.createAndInitialize(ServiceComponentAdapter.kt:51)\n",
      "\tat com.intellij.serviceContainer.ServiceComponentAdapter.doCreateInstance(ServiceComponentAdapter.kt:41)\n",
      "\tat com.intellij.serviceContainer.BaseComponentAdapter.getInstanceUncached(BaseComponentAdapter.kt:119)\n",
      "\tat com.intellij.serviceContainer.BaseComponentAdapter.getInstance(BaseComponentAdapter.kt:73)\n",
      "\tat com.intellij.serviceContainer.BaseComponentAdapter.getInstance$default(BaseComponentAdapter.kt:66)\n",
      "\tat com.intellij.serviceContainer.ComponentManagerImpl.doGetService(ComponentManagerImpl.kt:609)\n",
      "\tat com.intellij.serviceContainer.ComponentManagerImpl.getService(ComponentManagerImpl.kt:583)\n",
      "\tat com.intellij.openapi.client.ClientAwareComponentManager.getFromSelfOrCurrentSession(ClientAwareComponentManager.kt:37)\n",
      "\tat com.intellij.openapi.client.ClientAwareComponentManager.getService(ClientAwareComponentManager.kt:22)\n",
      "\tat com.intellij.openapi.actionSystem.ActionManager.getInstance(ActionManager.java:29)\n",
      "\tat com.intellij.help.impl.KeymapGenerator.<clinit>(KeymapGenerator.java:33)\n",
      "\tat java.base/jdk.internal.misc.Unsafe.allocateInstance(Native Method)\n",
      "\tat java.base/java.lang.invoke.DirectMethodHandle.allocateInstance(DirectMethodHandle.java:520)\n",
      "\tat com.intellij.serviceContainer.ComponentManagerImpl.instantiateClass(ComponentManagerImpl.kt:844)\n",
      "\tat com.intellij.openapi.extensions.impl.XmlExtensionAdapter.instantiateClass(XmlExtensionAdapter.kt:79)\n",
      "\tat com.intellij.openapi.extensions.impl.XmlExtensionAdapter$SimpleConstructorInjectionAdapter.instantiateClass(XmlExtensionAdapter.kt:90)\n",
      "\tat com.intellij.openapi.extensions.impl.XmlExtensionAdapter.doCreateInstance(XmlExtensionAdapter.kt:50)\n",
      "\tat com.intellij.openapi.extensions.impl.XmlExtensionAdapter.createInstance(XmlExtensionAdapter.kt:31)\n",
      "\tat com.intellij.openapi.extensions.impl.ExtensionPointImpl.processAdapter(ExtensionPointImpl.java:447)\n",
      "\tat com.intellij.openapi.extensions.impl.ExtensionPointImpl.access$200(ExtensionPointImpl.java:33)\n",
      "\tat com.intellij.openapi.extensions.impl.ExtensionPointImpl$1.next(ExtensionPointImpl.java:355)\n",
      "\tat com.intellij.idea.ApplicationLoader.findAppStarter(ApplicationLoader.kt:595)\n",
      "\tat com.intellij.idea.ApplicationLoader.access$findAppStarter(ApplicationLoader.kt:1)\n",
      "\tat com.intellij.idea.ApplicationLoader$initApplication$block$3.apply(ApplicationLoader.kt:170)\n",
      "\tat com.intellij.idea.ApplicationLoader$initApplication$block$3.apply(ApplicationLoader.kt)\n",
      "\tat java.base/java.util.concurrent.CompletableFuture.uniComposeStage(CompletableFuture.java:1187)\n",
      "\tat java.base/java.util.concurrent.CompletableFuture.thenCompose(CompletableFuture.java:2309)\n",
      "\tat com.intellij.idea.ApplicationLoader.initApplication(ApplicationLoader.kt:145)\n",
      "\tat java.base/jdk.internal.reflect.NativeMethodAccessorImpl.invoke0(Native Method)\n",
      "\tat java.base/jdk.internal.reflect.NativeMethodAccessorImpl.invoke(NativeMethodAccessorImpl.java:77)\n",
      "\tat java.base/jdk.internal.reflect.DelegatingMethodAccessorImpl.invoke(DelegatingMethodAccessorImpl.java:43)\n",
      "\tat java.base/java.lang.reflect.Method.invoke(Method.java:568)\n",
      "\tat com.intellij.idea.m.m(m.java:100)\n",
      "\tat com.intellij.ide.m.v.G.m(G.java:137)\n",
      "\tat com.intellij.ide.m.v.v.m(v.java:189)\n",
      "\tat java.base/jdk.internal.reflect.NativeMethodAccessorImpl.invoke0(Native Method)\n",
      "\tat java.base/jdk.internal.reflect.NativeMethodAccessorImpl.invoke(NativeMethodAccessorImpl.java:77)\n",
      "\tat java.base/jdk.internal.reflect.DelegatingMethodAccessorImpl.invoke(DelegatingMethodAccessorImpl.java:43)\n",
      "\tat java.base/java.lang.reflect.Method.invoke(Method.java:568)\n",
      "\tat com.intellij.idea.MainImpl.start(MainImpl.java:85)\n",
      "\tat com.intellij.idea.StartupUtil.lambda$start$14(StartupUtil.java:262)\n",
      "\tat java.base/java.util.concurrent.CompletableFuture$UniCompose.tryFire(CompletableFuture.java:1150)\n",
      "\tat java.base/java.util.concurrent.CompletableFuture.postComplete(CompletableFuture.java:510)\n",
      "\tat java.base/java.util.concurrent.CompletableFuture$AsyncSupply.run(CompletableFuture.java:1773)\n",
      "\tat java.base/java.util.concurrent.CompletableFuture$AsyncSupply.exec(CompletableFuture.java:1760)\n",
      "\tat java.base/java.util.concurrent.ForkJoinTask.doExec(ForkJoinTask.java:373)\n",
      "\tat java.base/java.util.concurrent.ForkJoinPool$WorkQueue.topLevelExec(ForkJoinPool.java:1182)\n",
      "\tat java.base/java.util.concurrent.ForkJoinPool.scan(ForkJoinPool.java:1655)\n",
      "\tat java.base/java.util.concurrent.ForkJoinPool.runWorker(ForkJoinPool.java:1622)\n",
      "\tat java.base/java.util.concurrent.ForkJoinWorkerThread.run(ForkJoinWorkerThread.java:165)\n",
      "2022-11-21 23:43:51,943 [   2451] SEVERE - #c.i.d.LoadingState - PhpStorm 2022.2.3  Build #PS-222.4345.15\n",
      "2022-11-21 23:43:51,944 [   2452] SEVERE - #c.i.d.LoadingState - JDK: 17.0.4.1; VM: OpenJDK 64-Bit Server VM; Vendor: JetBrains s.r.o.\n",
      "2022-11-21 23:43:51,945 [   2453] SEVERE - #c.i.d.LoadingState - OS: Linux\n",
      "2022-11-21 23:43:52,764 [   3272] SEVERE - #c.i.d.LoadingState - Should be called at least in the state COMPONENTS_LOADED, the current state is: CONFIGURATION_STORE_INITIALIZED\n",
      "Current violators count: 2\n",
      "\n",
      "\n",
      "java.lang.Throwable\n",
      "\tat com.intellij.diagnostic.LoadingState.logStateError(LoadingState.java:52)\n",
      "\tat com.intellij.diagnostic.LoadingState.checkOccurred(LoadingState.java:48)\n",
      "\tat com.intellij.openapi.util.registry.Registry.getInstance(Registry.java:176)\n",
      "\tat com.intellij.openapi.util.registry.Registry.get(Registry.java:50)\n",
      "\tat com.intellij.openapi.util.registry.Registry.is(Registry.java:63)\n",
      "\tat com.intellij.execution.ExecutorRegistryImpl.isExecutorInMainGroup(ExecutorRegistryImpl.java:195)\n",
      "\tat com.intellij.execution.ExecutorRegistryImpl.initExecutorActions(ExecutorRegistryImpl.java:127)\n",
      "\tat com.intellij.execution.ExecutorRegistryImpl.init(ExecutorRegistryImpl.java:278)\n",
      "\tat com.intellij.execution.ExecutorRegistryImpl$ExecutorRegistryActionConfigurationTuner.customize(ExecutorRegistryImpl.java:92)\n",
      "\tat com.intellij.openapi.actionSystem.impl.ActionManagerImpl.lambda$new$0(ActionManagerImpl.java:141)\n",
      "\tat com.intellij.openapi.extensions.impl.ExtensionProcessingHelper.forEachExtensionSafe(ExtensionProcessingHelper.java:34)\n",
      "\tat com.intellij.openapi.extensions.ExtensionPointName.forEachExtensionSafe(ExtensionPointName.java:46)\n",
      "\tat com.intellij.openapi.actionSystem.impl.ActionManagerImpl.<init>(ActionManagerImpl.java:141)\n",
      "\tat com.jetbrains.rdserver.ui.actionPopupMenu.BackendActionManager.<init>(BackendActionManager.kt:17)\n",
      "\tat java.base/jdk.internal.reflect.NativeConstructorAccessorImpl.newInstance0(Native Method)\n",
      "\tat java.base/jdk.internal.reflect.NativeConstructorAccessorImpl.newInstance(NativeConstructorAccessorImpl.java:77)\n",
      "\tat java.base/jdk.internal.reflect.DelegatingConstructorAccessorImpl.newInstance(DelegatingConstructorAccessorImpl.java:45)\n",
      "\tat java.base/java.lang.reflect.Constructor.newInstanceWithCaller(Constructor.java:499)\n",
      "\tat java.base/java.lang.reflect.Constructor.newInstance(Constructor.java:480)\n",
      "\tat com.intellij.serviceContainer.ConstructorInjectionKt.instantiateUsingPicoContainer(constructorInjection.kt:47)\n",
      "\tat com.intellij.serviceContainer.ComponentManagerImpl.instantiateClassWithConstructorInjection(ComponentManagerImpl.kt:890)\n",
      "\tat com.intellij.serviceContainer.ServiceComponentAdapter.createAndInitialize(ServiceComponentAdapter.kt:51)\n",
      "\tat com.intellij.serviceContainer.ServiceComponentAdapter.doCreateInstance(ServiceComponentAdapter.kt:41)\n",
      "\tat com.intellij.serviceContainer.BaseComponentAdapter.getInstanceUncached(BaseComponentAdapter.kt:119)\n",
      "\tat com.intellij.serviceContainer.BaseComponentAdapter.getInstance(BaseComponentAdapter.kt:73)\n",
      "\tat com.intellij.serviceContainer.BaseComponentAdapter.getInstance$default(BaseComponentAdapter.kt:66)\n",
      "\tat com.intellij.serviceContainer.ComponentManagerImpl.doGetService(ComponentManagerImpl.kt:609)\n",
      "\tat com.intellij.serviceContainer.ComponentManagerImpl.getService(ComponentManagerImpl.kt:583)\n",
      "\tat com.intellij.openapi.client.ClientAwareComponentManager.getFromSelfOrCurrentSession(ClientAwareComponentManager.kt:37)\n",
      "\tat com.intellij.openapi.client.ClientAwareComponentManager.getService(ClientAwareComponentManager.kt:22)\n",
      "\tat com.intellij.openapi.actionSystem.ActionManager.getInstance(ActionManager.java:29)\n",
      "\tat com.intellij.help.impl.KeymapGenerator.<clinit>(KeymapGenerator.java:33)\n",
      "\tat java.base/jdk.internal.misc.Unsafe.allocateInstance(Native Method)\n",
      "\tat java.base/java.lang.invoke.DirectMethodHandle.allocateInstance(DirectMethodHandle.java:520)\n",
      "\tat com.intellij.serviceContainer.ComponentManagerImpl.instantiateClass(ComponentManagerImpl.kt:844)\n",
      "\tat com.intellij.openapi.extensions.impl.XmlExtensionAdapter.instantiateClass(XmlExtensionAdapter.kt:79)\n",
      "\tat com.intellij.openapi.extensions.impl.XmlExtensionAdapter$SimpleConstructorInjectionAdapter.instantiateClass(XmlExtensionAdapter.kt:90)\n",
      "\tat com.intellij.openapi.extensions.impl.XmlExtensionAdapter.doCreateInstance(XmlExtensionAdapter.kt:50)\n",
      "\tat com.intellij.openapi.extensions.impl.XmlExtensionAdapter.createInstance(XmlExtensionAdapter.kt:31)\n",
      "\tat com.intellij.openapi.extensions.impl.ExtensionPointImpl.processAdapter(ExtensionPointImpl.java:447)\n",
      "\tat com.intellij.openapi.extensions.impl.ExtensionPointImpl.access$200(ExtensionPointImpl.java:33)\n",
      "\tat com.intellij.openapi.extensions.impl.ExtensionPointImpl$1.next(ExtensionPointImpl.java:355)\n",
      "\tat com.intellij.idea.ApplicationLoader.findAppStarter(ApplicationLoader.kt:595)\n",
      "\tat com.intellij.idea.ApplicationLoader.access$findAppStarter(ApplicationLoader.kt:1)\n",
      "\tat com.intellij.idea.ApplicationLoader$initApplication$block$3.apply(ApplicationLoader.kt:170)\n",
      "\tat com.intellij.idea.ApplicationLoader$initApplication$block$3.apply(ApplicationLoader.kt)\n",
      "\tat java.base/java.util.concurrent.CompletableFuture.uniComposeStage(CompletableFuture.java:1187)\n",
      "\tat java.base/java.util.concurrent.CompletableFuture.thenCompose(CompletableFuture.java:2309)\n",
      "\tat com.intellij.idea.ApplicationLoader.initApplication(ApplicationLoader.kt:145)\n",
      "\tat java.base/jdk.internal.reflect.NativeMethodAccessorImpl.invoke0(Native Method)\n",
      "\tat java.base/jdk.internal.reflect.NativeMethodAccessorImpl.invoke(NativeMethodAccessorImpl.java:77)\n",
      "\tat java.base/jdk.internal.reflect.DelegatingMethodAccessorImpl.invoke(DelegatingMethodAccessorImpl.java:43)\n",
      "\tat java.base/java.lang.reflect.Method.invoke(Method.java:568)\n",
      "\tat com.intellij.idea.m.m(m.java:100)\n",
      "\tat com.intellij.ide.m.v.G.m(G.java:137)\n",
      "\tat com.intellij.ide.m.v.v.m(v.java:189)\n",
      "\tat java.base/jdk.internal.reflect.NativeMethodAccessorImpl.invoke0(Native Method)\n",
      "\tat java.base/jdk.internal.reflect.NativeMethodAccessorImpl.invoke(NativeMethodAccessorImpl.java:77)\n",
      "\tat java.base/jdk.internal.reflect.DelegatingMethodAccessorImpl.invoke(DelegatingMethodAccessorImpl.java:43)\n",
      "\tat java.base/java.lang.reflect.Method.invoke(Method.java:568)\n",
      "\tat com.intellij.idea.MainImpl.start(MainImpl.java:85)\n",
      "\tat com.intellij.idea.StartupUtil.lambda$start$14(StartupUtil.java:262)\n",
      "\tat java.base/java.util.concurrent.CompletableFuture$UniCompose.tryFire(CompletableFuture.java:1150)\n",
      "\tat java.base/java.util.concurrent.CompletableFuture.postComplete(CompletableFuture.java:510)\n",
      "\tat java.base/java.util.concurrent.CompletableFuture$AsyncSupply.run(CompletableFuture.java:1773)\n",
      "\tat java.base/java.util.concurrent.CompletableFuture$AsyncSupply.exec(CompletableFuture.java:1760)\n",
      "\tat java.base/java.util.concurrent.ForkJoinTask.doExec(ForkJoinTask.java:373)\n",
      "\tat java.base/java.util.concurrent.ForkJoinPool$WorkQueue.topLevelExec(ForkJoinPool.java:1182)\n",
      "\tat java.base/java.util.concurrent.ForkJoinPool.scan(ForkJoinPool.java:1655)\n",
      "\tat java.base/java.util.concurrent.ForkJoinPool.runWorker(ForkJoinPool.java:1622)\n",
      "\tat java.base/java.util.concurrent.ForkJoinWorkerThread.run(ForkJoinWorkerThread.java:165)\n",
      "2022-11-21 23:43:52,775 [   3283] SEVERE - #c.i.d.LoadingState - PhpStorm 2022.2.3  Build #PS-222.4345.15\n",
      "2022-11-21 23:43:52,777 [   3285] SEVERE - #c.i.d.LoadingState - JDK: 17.0.4.1; VM: OpenJDK 64-Bit Server VM; Vendor: JetBrains s.r.o.\n",
      "2022-11-21 23:43:52,779 [   3287] SEVERE - #c.i.d.LoadingState - OS: Linux\n"
     ]
    },
    {
     "name": "stdout",
     "output_type": "stream",
     "text": [
      "2022-11-21 23:43:52,814 [   3322] SEVERE - #c.i.d.LoadingState - Should be called at least in the state COMPONENTS_LOADED, the current state is: CONFIGURATION_STORE_INITIALIZED\n",
      "Current violators count: 3\n",
      "\n",
      "\n",
      "java.lang.Throwable\n",
      "\tat com.intellij.diagnostic.LoadingState.logStateError(LoadingState.java:52)\n",
      "\tat com.intellij.diagnostic.LoadingState.checkOccurred(LoadingState.java:48)\n",
      "\tat com.intellij.openapi.util.registry.Registry.getInstance(Registry.java:176)\n",
      "\tat com.intellij.openapi.util.registry.Registry.get(Registry.java:50)\n",
      "\tat com.intellij.openapi.util.registry.Registry.is(Registry.java:63)\n",
      "\tat com.intellij.openapi.wm.impl.GlobalMenuLinux._loadLibrary(GlobalMenuLinux.java:797)\n",
      "\tat com.intellij.openapi.wm.impl.GlobalMenuLinux.<clinit>(GlobalMenuLinux.java:164)\n",
      "\tat com.intellij.openapi.wm.impl.GlobalMenuLinux$MyActionTuner.customize(GlobalMenuLinux.java:230)\n",
      "\tat com.intellij.openapi.actionSystem.impl.ActionManagerImpl.lambda$new$0(ActionManagerImpl.java:141)\n",
      "\tat com.intellij.openapi.extensions.impl.ExtensionProcessingHelper.forEachExtensionSafe(ExtensionProcessingHelper.java:34)\n",
      "\tat com.intellij.openapi.extensions.ExtensionPointName.forEachExtensionSafe(ExtensionPointName.java:46)\n",
      "\tat com.intellij.openapi.actionSystem.impl.ActionManagerImpl.<init>(ActionManagerImpl.java:141)\n",
      "\tat com.jetbrains.rdserver.ui.actionPopupMenu.BackendActionManager.<init>(BackendActionManager.kt:17)\n",
      "\tat java.base/jdk.internal.reflect.NativeConstructorAccessorImpl.newInstance0(Native Method)\n",
      "\tat java.base/jdk.internal.reflect.NativeConstructorAccessorImpl.newInstance(NativeConstructorAccessorImpl.java:77)\n",
      "\tat java.base/jdk.internal.reflect.DelegatingConstructorAccessorImpl.newInstance(DelegatingConstructorAccessorImpl.java:45)\n",
      "\tat java.base/java.lang.reflect.Constructor.newInstanceWithCaller(Constructor.java:499)\n",
      "\tat java.base/java.lang.reflect.Constructor.newInstance(Constructor.java:480)\n",
      "\tat com.intellij.serviceContainer.ConstructorInjectionKt.instantiateUsingPicoContainer(constructorInjection.kt:47)\n",
      "\tat com.intellij.serviceContainer.ComponentManagerImpl.instantiateClassWithConstructorInjection(ComponentManagerImpl.kt:890)\n",
      "\tat com.intellij.serviceContainer.ServiceComponentAdapter.createAndInitialize(ServiceComponentAdapter.kt:51)\n",
      "\tat com.intellij.serviceContainer.ServiceComponentAdapter.doCreateInstance(ServiceComponentAdapter.kt:41)\n",
      "\tat com.intellij.serviceContainer.BaseComponentAdapter.getInstanceUncached(BaseComponentAdapter.kt:119)\n",
      "\tat com.intellij.serviceContainer.BaseComponentAdapter.getInstance(BaseComponentAdapter.kt:73)\n",
      "\tat com.intellij.serviceContainer.BaseComponentAdapter.getInstance$default(BaseComponentAdapter.kt:66)\n",
      "\tat com.intellij.serviceContainer.ComponentManagerImpl.doGetService(ComponentManagerImpl.kt:609)\n",
      "\tat com.intellij.serviceContainer.ComponentManagerImpl.getService(ComponentManagerImpl.kt:583)\n",
      "\tat com.intellij.openapi.client.ClientAwareComponentManager.getFromSelfOrCurrentSession(ClientAwareComponentManager.kt:37)\n",
      "\tat com.intellij.openapi.client.ClientAwareComponentManager.getService(ClientAwareComponentManager.kt:22)\n",
      "\tat com.intellij.openapi.actionSystem.ActionManager.getInstance(ActionManager.java:29)\n",
      "\tat com.intellij.help.impl.KeymapGenerator.<clinit>(KeymapGenerator.java:33)\n",
      "\tat java.base/jdk.internal.misc.Unsafe.allocateInstance(Native Method)\n",
      "\tat java.base/java.lang.invoke.DirectMethodHandle.allocateInstance(DirectMethodHandle.java:520)\n",
      "\tat com.intellij.serviceContainer.ComponentManagerImpl.instantiateClass(ComponentManagerImpl.kt:844)\n",
      "\tat com.intellij.openapi.extensions.impl.XmlExtensionAdapter.instantiateClass(XmlExtensionAdapter.kt:79)\n",
      "\tat com.intellij.openapi.extensions.impl.XmlExtensionAdapter$SimpleConstructorInjectionAdapter.instantiateClass(XmlExtensionAdapter.kt:90)\n",
      "\tat com.intellij.openapi.extensions.impl.XmlExtensionAdapter.doCreateInstance(XmlExtensionAdapter.kt:50)\n",
      "\tat com.intellij.openapi.extensions.impl.XmlExtensionAdapter.createInstance(XmlExtensionAdapter.kt:31)\n",
      "\tat com.intellij.openapi.extensions.impl.ExtensionPointImpl.processAdapter(ExtensionPointImpl.java:447)\n",
      "\tat com.intellij.openapi.extensions.impl.ExtensionPointImpl.access$200(ExtensionPointImpl.java:33)\n",
      "\tat com.intellij.openapi.extensions.impl.ExtensionPointImpl$1.next(ExtensionPointImpl.java:355)\n",
      "\tat com.intellij.idea.ApplicationLoader.findAppStarter(ApplicationLoader.kt:595)\n",
      "\tat com.intellij.idea.ApplicationLoader.access$findAppStarter(ApplicationLoader.kt:1)\n",
      "\tat com.intellij.idea.ApplicationLoader$initApplication$block$3.apply(ApplicationLoader.kt:170)\n",
      "\tat com.intellij.idea.ApplicationLoader$initApplication$block$3.apply(ApplicationLoader.kt)\n",
      "\tat java.base/java.util.concurrent.CompletableFuture.uniComposeStage(CompletableFuture.java:1187)\n",
      "\tat java.base/java.util.concurrent.CompletableFuture.thenCompose(CompletableFuture.java:2309)\n",
      "\tat com.intellij.idea.ApplicationLoader.initApplication(ApplicationLoader.kt:145)\n",
      "\tat java.base/jdk.internal.reflect.NativeMethodAccessorImpl.invoke0(Native Method)\n",
      "\tat java.base/jdk.internal.reflect.NativeMethodAccessorImpl.invoke(NativeMethodAccessorImpl.java:77)\n",
      "\tat java.base/jdk.internal.reflect.DelegatingMethodAccessorImpl.invoke(DelegatingMethodAccessorImpl.java:43)\n",
      "\tat java.base/java.lang.reflect.Method.invoke(Method.java:568)\n",
      "\tat com.intellij.idea.m.m(m.java:100)\n",
      "\tat com.intellij.ide.m.v.G.m(G.java:137)\n",
      "\tat com.intellij.ide.m.v.v.m(v.java:189)\n",
      "\tat java.base/jdk.internal.reflect.NativeMethodAccessorImpl.invoke0(Native Method)\n",
      "\tat java.base/jdk.internal.reflect.NativeMethodAccessorImpl.invoke(NativeMethodAccessorImpl.java:77)\n",
      "\tat java.base/jdk.internal.reflect.DelegatingMethodAccessorImpl.invoke(DelegatingMethodAccessorImpl.java:43)\n",
      "\tat java.base/java.lang.reflect.Method.invoke(Method.java:568)\n",
      "\tat com.intellij.idea.MainImpl.start(MainImpl.java:85)\n",
      "\tat com.intellij.idea.StartupUtil.lambda$start$14(StartupUtil.java:262)\n",
      "\tat java.base/java.util.concurrent.CompletableFuture$UniCompose.tryFire(CompletableFuture.java:1150)\n",
      "\tat java.base/java.util.concurrent.CompletableFuture.postComplete(CompletableFuture.java:510)\n",
      "\tat java.base/java.util.concurrent.CompletableFuture$AsyncSupply.run(CompletableFuture.java:1773)\n",
      "\tat java.base/java.util.concurrent.CompletableFuture$AsyncSupply.exec(CompletableFuture.java:1760)\n",
      "\tat java.base/java.util.concurrent.ForkJoinTask.doExec(ForkJoinTask.java:373)\n",
      "\tat java.base/java.util.concurrent.ForkJoinPool$WorkQueue.topLevelExec(ForkJoinPool.java:1182)\n",
      "\tat java.base/java.util.concurrent.ForkJoinPool.scan(ForkJoinPool.java:1655)\n",
      "\tat java.base/java.util.concurrent.ForkJoinPool.runWorker(ForkJoinPool.java:1622)\n",
      "\tat java.base/java.util.concurrent.ForkJoinWorkerThread.run(ForkJoinWorkerThread.java:165)\n",
      "2022-11-21 23:43:52,822 [   3330] SEVERE - #c.i.d.LoadingState - PhpStorm 2022.2.3  Build #PS-222.4345.15\n",
      "2022-11-21 23:43:52,824 [   3332] SEVERE - #c.i.d.LoadingState - JDK: 17.0.4.1; VM: OpenJDK 64-Bit Server VM; Vendor: JetBrains s.r.o.\n",
      "2022-11-21 23:43:52,825 [   3333] SEVERE - #c.i.d.LoadingState - OS: Linux\n",
      "Info  | RdCoroutineScope          | 13:JobScheduler FJ pool 1/3 | RdCoroutineHost overridden \n",
      "2022-11-21 23:43:59,461 [   9969]   WARN - #c.i.o.a.i.ActionUpdater - 417 ms to grab EDT for CWMTelephonyGroup#update@NavBarToolbar (com.jetbrains.rd.platform.codeWithMe.telephony.CWMTelephonyGroup)\n",
      "2022-11-21 23:44:02,011 [  12519]   WARN - #c.i.o.a.i.ActionUpdater - 2208 ms to grab EDT for ToggleCaseAction#update@MainMenu (com.intellij.openapi.editor.actions.ToggleCaseAction)\n",
      "2022-11-21 23:44:03,328 [  13836]   WARN - #c.i.o.a.e.ActionUtil - Can not find action by id CompileDirty\n",
      "2022-11-21 23:44:03,490 [  13998]   WARN - #c.i.u.x.Binding - no accessors for com.jetbrains.php.testFramework.PhpTestFrameworkType\n",
      "2022-11-21 23:44:06,661 [  17169]   WARN - #c.i.o.a.i.ActionUpdater - 2392 ms to grab EDT for BackAction#update@MainToolbar (com.intellij.ide.actions.BackAction)\n",
      "2022-11-21 23:44:08,965 [  19473]   WARN - #c.i.o.a.i.ActionUpdater - 300 ms to grab EDT for UndoAction#update@MainMenu (com.intellij.ide.actions.UndoAction)\n",
      "2022-11-21 23:44:11,842 [  22350]   WARN - #c.i.o.a.i.ActionUpdater - 498 ms to grab EDT for #update@ToolwindowTitle (com.intellij.toolWindow.ToolWindowHeader$2)\n",
      "2022-11-21 23:44:19,928 [  30436]   WARN - #c.j.p.p.PharLibraryManager - Frequent root change. Source class com.jetbrains.php.phar.PharLibraryManager, delta 5598.\n",
      "Old roots: [phar:///home/student/php_2022_adam_lewinski/07_testing/02_exercise/project/vendor/bin/phpstan.phar/]\n",
      "New Roots: [phar:///home/student/php_2022_adam_lewinski/07_testing/02_exercise/project/vendor/bin/phpstan.phar/, phar:///home/student/php_2022_adam_lewinski/07_testing/02_exercise/project/vendor/phpstan/phpstan/phpstan.phar/]\n"
     ]
    },
    {
     "name": "stdout",
     "output_type": "stream",
     "text": [
      "2022-11-21 23:44:26,959 [  37467]   WARN - #c.j.p.PhpIndex - Completing type '#C\\Controller\\AuthController' took 1251ms, visited:[#C\\Controller\\AuthController]\n",
      "2022-11-21 23:44:27,013 [  37521]   WARN - #c.j.p.PhpIndex - Completing type '#M#C\\Controller\\AuthController.storage' took 1311ms, visited:[#M#C\\Controller\\AuthController.storage]\n",
      "2022-11-21 23:44:27,020 [  37528]   WARN - #c.j.p.PhpIndex - Completing type '#M#M#C\\Controller\\AuthController.storage.load' took 1317ms, visited:[#M#M#C\\Controller\\AuthController.storage.load]\n",
      "2022-11-21 23:44:27,187 [  37695]   WARN - #c.i.o.a.i.ActionUpdater - 2655 ms to call on BGT RunContextAction#update@EditorPopup (com.intellij.execution.actions.RunContextAction)\n",
      "2022-11-21 23:44:27,193 [  37701]   WARN - #c.i.o.a.i.ActionUpdater - 3862 ms to call on BGT RunContextAction#update@EditorPopup (com.intellij.execution.actions.RunContextAction)\n",
      "2022-11-21 23:44:35,091 [  45599] SEVERE - c.j.t.m.TerminalTextBuffer - Attempt to get line out of bounds: 11 >= 11\n",
      "2022-11-21 23:44:35,092 [  45600] SEVERE - c.j.t.m.TerminalTextBuffer - Attempt to get line out of bounds: 11 >= 11\n",
      "2022-11-21 23:44:58,247 [  68755] SEVERE - c.j.t.m.TerminalTextBuffer - Attempt to get line out of bounds: 11 >= 11\n",
      "2022-11-21 23:44:58,249 [  68757] SEVERE - c.j.t.m.TerminalTextBuffer - Attempt to get line out of bounds: 11 >= 11\n",
      "2022-11-21 23:46:53,043 [ 183551]   WARN - #c.i.o.a.i.ActionUpdater - 205 ms to grab EDT for #update@EditorInspectionsToolbar (com.intellij.codeInsight.actions.ReaderModeActionProvider$createAction$1)\n",
      "2022-11-21 23:47:57,727 [ 248235]   WARN - #c.i.u.x.Binding - no accessors for org.jetbrains.idea.perforce.perforce.ConnectionId\n"
     ]
    }
   ],
   "source": [
    "! phpstorm project"
   ]
  },
  {
   "cell_type": "markdown",
   "metadata": {},
   "source": [
    "You can test your solution using included tests:"
   ]
  },
  {
   "cell_type": "code",
   "execution_count": 227,
   "metadata": {},
   "outputs": [
    {
     "name": "stdout",
     "output_type": "stream",
     "text": [
      "/home/student/php_2022_adam_lewinski/07_testing/02_exercise/project\n"
     ]
    }
   ],
   "source": [
    "%cd project"
   ]
  },
  {
   "cell_type": "code",
   "execution_count": 228,
   "metadata": {},
   "outputs": [
    {
     "name": "stdout",
     "output_type": "stream",
     "text": [
      "\u001b[32mInstalling dependencies from lock file (including require-dev)\u001b[39m\n",
      "\u001b[32mVerifying lock file contents can be installed on current platform.\u001b[39m\n",
      "Nothing to install, update or remove\n",
      "\u001b[32mGenerating autoload files\u001b[39m\n",
      "\u001b[32m60 packages you are using are looking for funding.\u001b[39m\n",
      "\u001b[32mUse the `composer fund` command to find out more!\u001b[39m\n"
     ]
    }
   ],
   "source": [
    "! composer install"
   ]
  },
  {
   "cell_type": "code",
   "execution_count": 229,
   "metadata": {},
   "outputs": [
    {
     "name": "stdout",
     "output_type": "stream",
     "text": [
      "\u001b[32mBuilding Actor classes for suites: Acceptance, Unit\u001b[39m\n",
      " -> AcceptanceTesterActions.php generated successfully. 241 methods added\n",
      "\u001b[32mTests\\AcceptanceTester\u001b[39m includes modules: PhpBrowser, Filesystem, Asserts, Db, Redis\n",
      " -> UnitTesterActions.php generated successfully. 137 methods added\n",
      "\u001b[32mTests\\UnitTester\u001b[39m includes modules: Asserts\n"
     ]
    }
   ],
   "source": [
    "! vendor/bin/codecept build"
   ]
  },
  {
   "cell_type": "code",
   "execution_count": 232,
   "metadata": {
    "scrolled": true
   },
   "outputs": [
    {
     "name": "stdout",
     "output_type": "stream",
     "text": [
      "Loaded config \u001b[33mdefault\u001b[39m from \"/home/student/php_2022_adam_lewinski/07_testing/02_exercise/project/./.php-cs-fixer.dist.php\".\n",
      "Using cache file \".php-cs-fixer.cache\".\n",
      "\n",
      "Checked all files in 0.011 seconds, 14.000 MB memory used\n"
     ]
    }
   ],
   "source": [
    "! vendor/bin/php-cs-fixer fix   --diff --dry-run ."
   ]
  },
  {
   "cell_type": "code",
   "execution_count": 233,
   "metadata": {},
   "outputs": [
    {
     "name": "stdout",
     "output_type": "stream",
     "text": [
      "  0/65 [░░░░░░░░░░░░░░░░░░░░░░░░░░░░]   0%\u001b[1G\u001b[2K 65/65 [▓▓▓▓▓▓▓▓▓▓▓▓▓▓▓▓▓▓▓▓▓▓▓▓▓▓▓▓] 100%\n",
      "\n",
      "\n",
      "\u001b[30;42m                                                                                \u001b[39;49m\n",
      "\u001b[30;42m [OK] No errors                                                                 \u001b[39;49m\n",
      "\u001b[30;42m                                                                                \u001b[39;49m\n",
      "\n"
     ]
    }
   ],
   "source": [
    "! vendor/bin/phpstan analyze --xdebug -c phpstan.neon"
   ]
  },
  {
   "cell_type": "code",
   "execution_count": 218,
   "metadata": {},
   "outputs": [
    {
     "name": "stdout",
     "output_type": "stream",
     "text": [
      "phpcpd 6.0.3 by Sebastian Bergmann.\n",
      "\n",
      "No clones found.\n",
      "\n",
      "Time: 00:00.030, Memory: 4.00 MB\n"
     ]
    }
   ],
   "source": [
    "! vendor/bin/phpcpd . --fuzzy --min-lines 1 --min-tokens 20 --exclude vendor --exclude tests"
   ]
  },
  {
   "cell_type": "code",
   "execution_count": 219,
   "metadata": {},
   "outputs": [
    {
     "name": "stdout",
     "output_type": "stream",
     "text": [
      "Codeception PHP Testing Framework v5.0.4 https://helpukrainewin.org\n",
      "\n",
      "\u001b[1mTests.Unit Tests (24) \u001b[22m----------------------------------------------------------\n",
      "\u001b[32;1m✔\u001b[39;22m \u001b[35;1mTest00_StringEditorCest:\u001b[39;22m Create \u001b[32m(0.00s)\u001b[39m\n",
      "\u001b[32;1m✔\u001b[39;22m \u001b[35;1mTest00_StringEditorCest:\u001b[39;22m Replace word \u001b[32m(0.00s)\u001b[39m\n",
      "\u001b[32;1m✔\u001b[39;22m \u001b[35;1mTest00_StringEditorCest:\u001b[39;22m Lowercase \u001b[32m(0.00s)\u001b[39m\n",
      "\u001b[32;1m✔\u001b[39;22m \u001b[35;1mTest00_StringEditorCest:\u001b[39;22m Uppercase \u001b[32m(0.00s)\u001b[39m\n",
      "\u001b[32;1m✔\u001b[39;22m \u001b[35;1mTest00_StringEditorCest:\u001b[39;22m Replace and upper case \u001b[32m(0.00s)\u001b[39m\n",
      "\u001b[32;1m✔\u001b[39;22m \u001b[35;1mTest00_StringEditorCest:\u001b[39;22m Censor word \u001b[32m(0.00s)\u001b[39m\n",
      "\u001b[32;1m✔\u001b[39;22m \u001b[35;1mTest00_StringEditorCest:\u001b[39;22m Censor short and long words \u001b[32m(0.00s)\u001b[39m\n",
      "\u001b[32;1m✔\u001b[39;22m \u001b[35;1mTest00_StringEditorCest:\u001b[39;22m Repeat word \u001b[32m(0.00s)\u001b[39m\n",
      "\u001b[32;1m✔\u001b[39;22m \u001b[35;1mTest00_StringEditorCest:\u001b[39;22m Remove word \u001b[32m(0.00s)\u001b[39m\n",
      "\u001b[32;1m✔\u001b[39;22m \u001b[35;1mTest00_StringEditorCest:\u001b[39;22m Edit sentence \u001b[32m(0.00s)\u001b[39m\n",
      "\u001b[32;1m✔\u001b[39;22m \u001b[35;1mTest01_RingBufferCest:\u001b[39;22m Create \u001b[32m(0.00s)\u001b[39m\n",
      "\u001b[32;1m✔\u001b[39;22m \u001b[35;1mTest01_RingBufferCest:\u001b[39;22m Should be empty \u001b[32m(0.00s)\u001b[39m\n",
      "\u001b[32;1m✔\u001b[39;22m \u001b[35;1mTest01_RingBufferCest:\u001b[39;22m Capacity \u001b[32m(0.00s)\u001b[39m\n",
      "\u001b[32;1m✔\u001b[39;22m \u001b[35;1mTest01_RingBufferCest:\u001b[39;22m Size should be zero when empty \u001b[32m(0.00s)\u001b[39m\n",
      "\u001b[32;1m✔\u001b[39;22m \u001b[35;1mTest01_RingBufferCest:\u001b[39;22m Push value size should increase \u001b[32m(0.00s)\u001b[39m\n",
      "\u001b[32;1m✔\u001b[39;22m \u001b[35;1mTest01_RingBufferCest:\u001b[39;22m Empty should be false when full \u001b[32m(0.00s)\u001b[39m\n",
      "\u001b[32;1m✔\u001b[39;22m \u001b[35;1mTest01_RingBufferCest:\u001b[39;22m Pop from empty \u001b[32m(0.00s)\u001b[39m\n",
      "\u001b[32;1m✔\u001b[39;22m \u001b[35;1mTest01_RingBufferCest:\u001b[39;22m Push and pop single value \u001b[32m(0.00s)\u001b[39m\n",
      "\u001b[32;1m✔\u001b[39;22m \u001b[35;1mTest01_RingBufferCest:\u001b[39;22m Pop should reduce size \u001b[32m(0.00s)\u001b[39m\n",
      "\u001b[32;1m✔\u001b[39;22m \u001b[35;1mTest01_RingBufferCest:\u001b[39;22m Back should not change buffer \u001b[32m(0.00s)\u001b[39m\n",
      "\u001b[32;1m✔\u001b[39;22m \u001b[35;1mTest01_RingBufferCest:\u001b[39;22m Push multiple times \u001b[32m(0.00s)\u001b[39m\n",
      "\u001b[32;1m✔\u001b[39;22m \u001b[35;1mTest01_RingBufferCest:\u001b[39;22m Multi item buffer \u001b[32m(0.00s)\u001b[39m\n",
      "\u001b[32;1m✔\u001b[39;22m \u001b[35;1mTest01_RingBufferCest:\u001b[39;22m Push and pop all values \u001b[32m(0.00s)\u001b[39m\n",
      "\u001b[32;1m✔\u001b[39;22m \u001b[35;1mTest01_RingBufferCest:\u001b[39;22m Access values by index \u001b[32m(0.00s)\u001b[39m\n",
      "--------------------------------------------------------------------------------\n",
      "Time: 00:00.126, Memory: 8.00 MB\n",
      "\n",
      "\u001b[30;42mOK (24 tests, 75 assertions)\u001b[39;49m\n"
     ]
    }
   ],
   "source": [
    "! vendor/bin/codecept run Unit"
   ]
  },
  {
   "cell_type": "code",
   "execution_count": 220,
   "metadata": {},
   "outputs": [],
   "source": [
    "import subprocess\n",
    "phpServer = subprocess.Popen(['php', '-S', 'localhost:8888', '-t', 'public'])"
   ]
  },
  {
   "cell_type": "code",
   "execution_count": 221,
   "metadata": {},
   "outputs": [
    {
     "name": "stderr",
     "output_type": "stream",
     "text": [
      "[Mon Nov 21 23:24:11 2022] PHP 8.1.12 Development Server (http://localhost:8888) started\n"
     ]
    },
    {
     "name": "stdout",
     "output_type": "stream",
     "text": [
      "Done.\r\n"
     ]
    },
    {
     "name": "stderr",
     "output_type": "stream",
     "text": [
      "[Mon Nov 21 23:24:12 2022] [::1]:47546 Accepted\n",
      "[Mon Nov 21 23:24:12 2022] [::1]:47546 Closed without sending a request; it was probably just an unused speculative preconnection\n",
      "[Mon Nov 21 23:24:12 2022] [::1]:47546 Closing\n"
     ]
    }
   ],
   "source": [
    "! while ! timeout 1 bash -c \"echo > /dev/tcp/localhost/8888\" 2> /dev/null; do sleep 1; done; echo \"Done.\";"
   ]
  },
  {
   "cell_type": "code",
   "execution_count": 222,
   "metadata": {},
   "outputs": [
    {
     "name": "stdout",
     "output_type": "stream",
     "text": [
      "Codeception PHP Testing Framework v5.0.4 https://helpukrainewin.org\n",
      "\n",
      "\u001b[1mTests.Acceptance Tests (15) \u001b[22m----------------------------------------------------\n",
      "- \u001b[35;1mTest00_PrettyUrlCest:\u001b[39;22m Test"
     ]
    },
    {
     "name": "stderr",
     "output_type": "stream",
     "text": [
      "[Mon Nov 21 23:24:12 2022] [::1]:47548 Accepted\n",
      "[Mon Nov 21 23:24:12 2022] [::1]:47548 [200]: GET /\n",
      "[Mon Nov 21 23:24:12 2022] [::1]:47548 Closing\n",
      "[Mon Nov 21 23:24:12 2022] [::1]:47554 Accepted\n",
      "[Mon Nov 21 23:24:12 2022] [::1]:47554 [200]: GET /home\n",
      "[Mon Nov 21 23:24:12 2022] [::1]:47554 Closing\n",
      "[Mon Nov 21 23:24:12 2022] [::1]:47562 Accepted\n",
      "[Mon Nov 21 23:24:12 2022] [::1]:47562 [200]: GET /about\n",
      "[Mon Nov 21 23:24:12 2022] [::1]:47562 Closing\n",
      "[Mon Nov 21 23:24:12 2022] [::1]:47568 Accepted\n",
      "[Mon Nov 21 23:24:12 2022] [::1]:47568 [200]: GET /users\n",
      "[Mon Nov 21 23:24:12 2022] [::1]:47568 Closing\n",
      "[Mon Nov 21 23:24:13 2022] [::1]:47582 Accepted\n",
      "[Mon Nov 21 23:24:13 2022] [::1]:47582 [200]: GET /users/1\n",
      "[Mon Nov 21 23:24:13 2022] [::1]:47582 Closing\n",
      "[Mon Nov 21 23:24:13 2022] [::1]:47590 Accepted\n",
      "[Mon Nov 21 23:24:13 2022] [::1]:47590 [200]: GET /users\n",
      "[Mon Nov 21 23:24:13 2022] [::1]:47590 Closing\n",
      "[Mon Nov 21 23:24:13 2022] [::1]:47598 Accepted\n",
      "[Mon Nov 21 23:24:13 2022] [::1]:47598 [200]: GET /users/2\n",
      "[Mon Nov 21 23:24:13 2022] [::1]:47598 Closing\n",
      "[Mon Nov 21 23:24:13 2022] [::1]:47604 Accepted\n",
      "[Mon Nov 21 23:24:13 2022] [::1]:47604 [200]: GET /users\n",
      "[Mon Nov 21 23:24:13 2022] [::1]:47604 Closing\n",
      "[Mon Nov 21 23:24:13 2022] [::1]:47616 Accepted\n",
      "[Mon Nov 21 23:24:13 2022] [::1]:47616 [200]: GET /users/3\n"
     ]
    },
    {
     "name": "stdout",
     "output_type": "stream",
     "text": [
      "\u001b[32;1m✔\u001b[39;22m \u001b[35;1mTest00_PrettyUrlCest:\u001b[39;22m Test \u001b[32m(0.24s)\u001b[39m\n",
      "\u001b[32;1m✔\u001b[39;22m \u001b[35;1mTest01_FileStorageCest:\u001b[39;22m Test \u001b[32m(0.05s)\u001b[39m\n",
      "\u001b[32;1m✔\u001b[39;22m \u001b[35;1mTest02_SessionStorageCest:\u001b[39;22m Test \u001b[32m(0.02s)\u001b[39m\n",
      "\u001b[32;1m✔\u001b[39;22m \u001b[35;1mTest03_SQLiteStorageCest:\u001b[39;22m Test \u001b[32m(0.09s)\u001b[39m\n",
      "- \u001b[35;1mTest04_MySQLStorageCest:\u001b[39;22m Test"
     ]
    },
    {
     "name": "stderr",
     "output_type": "stream",
     "text": [
      "[Mon Nov 21 23:24:13 2022] [::1]:47616 Closing\n",
      "[Mon Nov 21 23:24:13 2022] [::1]:47618 Accepted\n",
      "[Mon Nov 21 23:24:13 2022] [::1]:47618 [200]: GET /demo/file\n",
      "[Mon Nov 21 23:24:13 2022] [::1]:47618 Closing\n",
      "[Mon Nov 21 23:24:13 2022] [::1]:47634 Accepted\n",
      "[Mon Nov 21 23:24:13 2022] [::1]:47634 [200]: GET /demo/session\n",
      "[Mon Nov 21 23:24:13 2022] [::1]:47634 Closing\n",
      "[Mon Nov 21 23:24:13 2022] [::1]:47642 Accepted\n",
      "[Mon Nov 21 23:24:13 2022] [::1]:47642 [200]: GET /demo/sqlite\n",
      "[Mon Nov 21 23:24:13 2022] [::1]:47642 Closing\n",
      "[Mon Nov 21 23:24:13 2022] [::1]:47648 Accepted\n",
      "[Mon Nov 21 23:24:13 2022] [::1]:47648 [200]: GET /demo/mysql\n",
      "[Mon Nov 21 23:24:13 2022] [::1]:47648 Closing\n",
      "[Mon Nov 21 23:24:13 2022] [::1]:47656 Accepted\n"
     ]
    },
    {
     "name": "stdout",
     "output_type": "stream",
     "text": [
      "\u001b[32;1m✔\u001b[39;22m \u001b[35;1mTest04_MySQLStorageCest:\u001b[39;22m Test \u001b[32m(0.28s)\u001b[39m\n",
      "\u001b[32;1m✔\u001b[39;22m \u001b[35;1mTest05_RedisStorageCest:\u001b[39;22m Test \u001b[32m(0.05s)\u001b[39m\n",
      "\u001b[32;1m✔\u001b[39;22m \u001b[35;1mTest06_HomepageCest:\u001b[39;22m See login and register links \u001b[32m(0.09s)\u001b[39m\n",
      "- \u001b[35;1mTest07_RegisterCest:\u001b[39;22m Register new user"
     ]
    },
    {
     "name": "stderr",
     "output_type": "stream",
     "text": [
      "[Mon Nov 21 23:24:13 2022] [::1]:47656 [200]: GET /demo/mysql\n",
      "[Mon Nov 21 23:24:13 2022] [::1]:47656 Closing\n",
      "[Mon Nov 21 23:24:13 2022] [::1]:47658 Accepted\n",
      "[Mon Nov 21 23:24:13 2022] [::1]:47658 [200]: GET /demo/redis\n",
      "[Mon Nov 21 23:24:13 2022] [::1]:47658 Closing\n",
      "[Mon Nov 21 23:24:13 2022] [::1]:47664 Accepted\n",
      "[Mon Nov 21 23:24:13 2022] [::1]:47664 [200]: GET /\n",
      "[Mon Nov 21 23:24:13 2022] [::1]:47664 Closing\n",
      "[Mon Nov 21 23:24:13 2022] [::1]:47666 Accepted\n",
      "[Mon Nov 21 23:24:13 2022] [::1]:47666 [200]: GET /home\n",
      "[Mon Nov 21 23:24:13 2022] [::1]:47666 Closing\n",
      "[Mon Nov 21 23:24:13 2022] [::1]:47680 Accepted\n",
      "[Mon Nov 21 23:24:13 2022] [::1]:47680 [200]: GET /\n",
      "[Mon Nov 21 23:24:13 2022] [::1]:47680 Closing\n",
      "[Mon Nov 21 23:24:13 2022] [::1]:47686 Accepted\n",
      "[Mon Nov 21 23:24:13 2022] [::1]:47686 [200]: GET /auth/register\n",
      "[Mon Nov 21 23:24:13 2022] [::1]:47686 Closing\n",
      "[Mon Nov 21 23:24:13 2022] [::1]:47696 Accepted\n",
      "[Mon Nov 21 23:24:14 2022] [::1]:47696 [302]: POST /auth/register\n",
      "[Mon Nov 21 23:24:14 2022] [::1]:47696 Closing\n",
      "[Mon Nov 21 23:24:14 2022] [::1]:47712 Accepted\n",
      "[Mon Nov 21 23:24:14 2022] [::1]:47712 [200]: GET /auth/confirmation_notice\n",
      "[Mon Nov 21 23:24:14 2022] [::1]:47712 Closing\n"
     ]
    },
    {
     "name": "stdout",
     "output_type": "stream",
     "text": [
      "\u001b[32;1m✔\u001b[39;22m \u001b[35;1mTest07_RegisterCest:\u001b[39;22m Register new user \u001b[32m(0.62s)\u001b[39m\n",
      "\u001b[32;1m✔\u001b[39;22m \u001b[35;1mTest08_RegisterValidationCest:\u001b[39;22m Validate data entered during registration \u001b[32m(0.16s)\u001b[39m\n",
      "- \u001b[35;1mTest09_RegisterRememberFieldsCest:\u001b[39;22m Remember data entered during registration when validation error is present"
     ]
    },
    {
     "name": "stderr",
     "output_type": "stream",
     "text": [
      "[Mon Nov 21 23:24:14 2022] [::1]:47724 Accepted\n",
      "[Mon Nov 21 23:24:14 2022] [::1]:47724 [200]: GET /auth/register\n",
      "[Mon Nov 21 23:24:14 2022] [::1]:47724 Closing\n",
      "[Mon Nov 21 23:24:14 2022] [::1]:47738 Accepted\n",
      "[Mon Nov 21 23:24:14 2022] [::1]:47738 [200]: POST /auth/register\n",
      "[Mon Nov 21 23:24:14 2022] [::1]:47738 Closing\n",
      "[Mon Nov 21 23:24:14 2022] [::1]:47740 Accepted\n",
      "[Mon Nov 21 23:24:14 2022] [::1]:47740 [200]: POST /auth/register\n",
      "[Mon Nov 21 23:24:14 2022] [::1]:47740 Closing\n",
      "[Mon Nov 21 23:24:14 2022] [::1]:47752 Accepted\n",
      "[Mon Nov 21 23:24:14 2022] [::1]:47752 [200]: GET /auth/register\n",
      "[Mon Nov 21 23:24:14 2022] [::1]:47752 Closing\n",
      "[Mon Nov 21 23:24:14 2022] [::1]:47756 Accepted\n",
      "[Mon Nov 21 23:24:14 2022] [::1]:47756 [200]: POST /auth/register\n",
      "[Mon Nov 21 23:24:14 2022] [::1]:47756 Closing\n",
      "[Mon Nov 21 23:24:14 2022] [::1]:47764 Accepted\n",
      "[Mon Nov 21 23:24:14 2022] [::1]:47764 [200]: POST /auth/register\n",
      "[Mon Nov 21 23:24:14 2022] [::1]:47764 Closing\n"
     ]
    },
    {
     "name": "stdout",
     "output_type": "stream",
     "text": [
      "\r",
      "\u001b[32;1m✔\u001b[39;22m \u001b[35;1mTest09_RegisterRememberFieldsCest:\u001b[39;22m Remember data entered during registration when validation error is present \u001b[32m(0.30s)\u001b[39m\r\n",
      "- \u001b[35;1mTest10_RegisterConfirmCest:\u001b[39;22m Confirm user using link"
     ]
    },
    {
     "name": "stderr",
     "output_type": "stream",
     "text": [
      "[Mon Nov 21 23:24:14 2022] [::1]:47772 Accepted\n",
      "[Mon Nov 21 23:24:14 2022] [::1]:47772 [200]: POST /auth/register\n",
      "[Mon Nov 21 23:24:14 2022] [::1]:47772 Closing\n",
      "[Mon Nov 21 23:24:14 2022] [::1]:47776 Accepted\n",
      "[Mon Nov 21 23:24:14 2022] [::1]:47776 [200]: POST /auth/register\n",
      "[Mon Nov 21 23:24:14 2022] [::1]:47776 Closing\n",
      "[Mon Nov 21 23:24:14 2022] [::1]:47782 Accepted\n",
      "[Mon Nov 21 23:24:14 2022] [::1]:47782 [200]: POST /auth/register\n",
      "[Mon Nov 21 23:24:14 2022] [::1]:47782 Closing\n",
      "[Mon Nov 21 23:24:14 2022] [::1]:47784 Accepted\n",
      "[Mon Nov 21 23:24:14 2022] [::1]:47784 [200]: GET /auth/register\n",
      "[Mon Nov 21 23:24:14 2022] [::1]:47784 Closing\n"
     ]
    },
    {
     "name": "stdout",
     "output_type": "stream",
     "text": [
      "\r",
      "\u001b[32;1m✔\u001b[39;22m \u001b[35;1mTest10_RegisterConfirmCest:\u001b[39;22m Check that info disappears after page refresh \u001b[32m(0.31s)\u001b[39m\r\n",
      "- \u001b[35;1mTest11_LoginNotExistingCest:\u001b[39;22m See error when user does not exists"
     ]
    },
    {
     "name": "stderr",
     "output_type": "stream",
     "text": [
      "[Mon Nov 21 23:24:15 2022] [::1]:47786 Accepted\n",
      "[Mon Nov 21 23:24:15 2022] [::1]:47786 [302]: GET /auth/confirm/ThisIsAnInvalidEmailConfirmationToken\n",
      "[Mon Nov 21 23:24:15 2022] [::1]:47786 Closing\n",
      "[Mon Nov 21 23:24:15 2022] [::1]:47798 Accepted\n",
      "[Mon Nov 21 23:24:15 2022] [::1]:47798 [200]: GET /\n",
      "[Mon Nov 21 23:24:15 2022] [::1]:47798 Closing\n",
      "[Mon Nov 21 23:24:15 2022] [::1]:47808 Accepted\n",
      "[Mon Nov 21 23:24:15 2022] [::1]:47808 [200]: GET /\n",
      "[Mon Nov 21 23:24:15 2022] [::1]:47808 Closing\n",
      "[Mon Nov 21 23:24:15 2022] [::1]:47810 Accepted\n",
      "[Mon Nov 21 23:24:15 2022] [::1]:47810 [302]: GET /auth/confirm/f8ea9d83b6b137275631bba35ed93d9d\n",
      "[Mon Nov 21 23:24:15 2022] [::1]:47810 Closing\n",
      "[Mon Nov 21 23:24:15 2022] [::1]:47820 Accepted\n",
      "[Mon Nov 21 23:24:15 2022] [::1]:47820 [200]: GET /\n",
      "[Mon Nov 21 23:24:15 2022] [::1]:47820 Closing\n",
      "[Mon Nov 21 23:24:15 2022] [::1]:47830 Accepted\n",
      "[Mon Nov 21 23:24:15 2022] [::1]:47830 [200]: GET /\n",
      "[Mon Nov 21 23:24:15 2022] [::1]:47830 Closing\n",
      "[Mon Nov 21 23:24:15 2022] [::1]:47836 Accepted\n",
      "[Mon Nov 21 23:24:15 2022] [::1]:47836 [200]: GET /auth/login\n",
      "[Mon Nov 21 23:24:15 2022] [::1]:47836 Closing\n",
      "[Mon Nov 21 23:24:15 2022] [::1]:47838 Accepted\n",
      "[Mon Nov 21 23:24:15 2022] [::1]:47838 [302]: POST /auth/login\n",
      "[Mon Nov 21 23:24:15 2022] [::1]:47838 Closing\n",
      "[Mon Nov 21 23:24:15 2022] [::1]:47848 Accepted\n",
      "[Mon Nov 21 23:24:15 2022] [::1]:47848 [200]: GET /\n",
      "[Mon Nov 21 23:24:15 2022] [::1]:47848 Closing\n"
     ]
    },
    {
     "name": "stdout",
     "output_type": "stream",
     "text": [
      "\r",
      "\u001b[32;1m✔\u001b[39;22m \u001b[35;1mTest11_LoginNotExistingCest:\u001b[39;22m See error when user does not exists \u001b[32m(0.10s)\u001b[39m\r\n",
      "- \u001b[35;1mTest12_LoginWrongPasswordCest:\u001b[39;22m See error when wrong password is entered"
     ]
    },
    {
     "name": "stderr",
     "output_type": "stream",
     "text": [
      "[Mon Nov 21 23:24:15 2022] [::1]:47852 Accepted\n",
      "[Mon Nov 21 23:24:15 2022] [::1]:47852 [200]: GET /auth/login\n",
      "[Mon Nov 21 23:24:15 2022] [::1]:47852 Closing\n",
      "[Mon Nov 21 23:24:15 2022] [::1]:47858 Accepted\n"
     ]
    },
    {
     "name": "stdout",
     "output_type": "stream",
     "text": [
      "\r",
      "\u001b[32;1m✔\u001b[39;22m \u001b[35;1mTest12_LoginWrongPasswordCest:\u001b[39;22m See error when wrong password is entered \u001b[32m(0.47s)\u001b[39m\r\n",
      "- \u001b[35;1mTest13_LoginNotConfirmedCest:\u001b[39;22m Be remained about email confirmation when trying to login"
     ]
    },
    {
     "name": "stderr",
     "output_type": "stream",
     "text": [
      "[Mon Nov 21 23:24:15 2022] [::1]:47858 [200]: POST /auth/login\n",
      "[Mon Nov 21 23:24:15 2022] [::1]:47858 Closing\n",
      "[Mon Nov 21 23:24:15 2022] [::1]:44614 Accepted\n",
      "[Mon Nov 21 23:24:15 2022] [::1]:44614 [200]: GET /auth/login\n",
      "[Mon Nov 21 23:24:15 2022] [::1]:44614 Closing\n",
      "[Mon Nov 21 23:24:15 2022] [::1]:44622 Accepted\n",
      "[Mon Nov 21 23:24:16 2022] [::1]:44622 [302]: POST /auth/login\n",
      "[Mon Nov 21 23:24:16 2022] [::1]:44622 Closing\n",
      "[Mon Nov 21 23:24:16 2022] [::1]:44632 Accepted\n",
      "[Mon Nov 21 23:24:16 2022] [::1]:44632 [200]: GET /auth/confirmation_notice\n",
      "[Mon Nov 21 23:24:16 2022] [::1]:44632 Closing\n"
     ]
    },
    {
     "name": "stdout",
     "output_type": "stream",
     "text": [
      "\r",
      "\u001b[32;1m✔\u001b[39;22m \u001b[35;1mTest13_LoginNotConfirmedCest:\u001b[39;22m Be remained about email confirmation when trying to login \u001b[32m(0.45s)\u001b[39m\r\n",
      "- \u001b[35;1mTest14_LoginLogoutSeeHiddenContentCest:\u001b[39;22m See hidden content after login"
     ]
    },
    {
     "name": "stderr",
     "output_type": "stream",
     "text": [
      "[Mon Nov 21 23:24:16 2022] [::1]:44644 Accepted\n",
      "[Mon Nov 21 23:24:16 2022] [::1]:44644 [200]: GET /\n",
      "[Mon Nov 21 23:24:16 2022] [::1]:44644 Closing\n",
      "[Mon Nov 21 23:24:16 2022] [::1]:44656 Accepted\n",
      "[Mon Nov 21 23:24:16 2022] [::1]:44656 [200]: GET /auth/login\n",
      "[Mon Nov 21 23:24:16 2022] [::1]:44656 Closing\n",
      "[Mon Nov 21 23:24:16 2022] [::1]:44662 Accepted\n"
     ]
    },
    {
     "name": "stdout",
     "output_type": "stream",
     "text": [
      "\r",
      "\u001b[32;1m✔\u001b[39;22m \u001b[35;1mTest14_LoginLogoutSeeHiddenContentCest:\u001b[39;22m See hidden content after login \u001b[32m(0.50s)\u001b[39m\r\n",
      "--------------------------------------------------------------------------------\r\n",
      "Time: 00:04.007, Memory: 12.00 MB\r\n",
      "\r\n",
      "\u001b[30;42mOK (15 tests, 275 assertions)\u001b[39;49m\r\n"
     ]
    },
    {
     "name": "stderr",
     "output_type": "stream",
     "text": [
      "[Mon Nov 21 23:24:16 2022] [::1]:44662 [302]: POST /auth/login\n",
      "[Mon Nov 21 23:24:16 2022] [::1]:44662 Closing\n",
      "[Mon Nov 21 23:24:16 2022] [::1]:44676 Accepted\n",
      "[Mon Nov 21 23:24:16 2022] [::1]:44676 [200]: GET /\n",
      "[Mon Nov 21 23:24:16 2022] [::1]:44676 Closing\n",
      "[Mon Nov 21 23:24:16 2022] [::1]:44688 Accepted\n",
      "[Mon Nov 21 23:24:16 2022] [::1]:44688 [302]: GET /auth/logout\n",
      "[Mon Nov 21 23:24:16 2022] [::1]:44688 Closing\n",
      "[Mon Nov 21 23:24:16 2022] [::1]:44690 Accepted\n",
      "[Mon Nov 21 23:24:16 2022] [::1]:44690 [200]: GET /\n",
      "[Mon Nov 21 23:24:16 2022] [::1]:44690 Closing\n"
     ]
    }
   ],
   "source": [
    "! vendor/bin/codecept run Acceptance"
   ]
  },
  {
   "cell_type": "code",
   "execution_count": 223,
   "metadata": {},
   "outputs": [
    {
     "name": "stdout",
     "output_type": "stream",
     "text": [
      "Codeception PHP Testing Framework v5.0.4 https://helpukrainewin.org\n",
      "\n",
      "\u001b[1mTests.Acceptance Tests (15) \u001b[22m----------------------------------------------------\n",
      "\u001b[32;1m✔\u001b[39;22m \u001b[35;1mTest00_PrettyUrlCest:\u001b[39;22m Test \u001b[32m(0.17s)\u001b[39m\n",
      "- \u001b[35;1mTest01_FileStorageCest:\u001b[39;22m Test"
     ]
    },
    {
     "name": "stderr",
     "output_type": "stream",
     "text": [
      "[Mon Nov 21 23:24:17 2022] [::1]:44692 Accepted\n",
      "[Mon Nov 21 23:24:17 2022] [::1]:44692 [200]: GET /\n",
      "[Mon Nov 21 23:24:17 2022] [::1]:44692 Closing\n",
      "[Mon Nov 21 23:24:17 2022] [::1]:44696 Accepted\n",
      "[Mon Nov 21 23:24:17 2022] [::1]:44696 [200]: GET /home\n",
      "[Mon Nov 21 23:24:17 2022] [::1]:44696 Closing\n",
      "[Mon Nov 21 23:24:17 2022] [::1]:44710 Accepted\n",
      "[Mon Nov 21 23:24:17 2022] [::1]:44710 [200]: GET /about\n",
      "[Mon Nov 21 23:24:17 2022] [::1]:44710 Closing\n",
      "[Mon Nov 21 23:24:17 2022] [::1]:44720 Accepted\n",
      "[Mon Nov 21 23:24:17 2022] [::1]:44720 [200]: GET /users\n",
      "[Mon Nov 21 23:24:17 2022] [::1]:44720 Closing\n",
      "[Mon Nov 21 23:24:17 2022] [::1]:44726 Accepted\n",
      "[Mon Nov 21 23:24:17 2022] [::1]:44726 [200]: GET /users/1\n",
      "[Mon Nov 21 23:24:17 2022] [::1]:44726 Closing\n",
      "[Mon Nov 21 23:24:17 2022] [::1]:44728 Accepted\n",
      "[Mon Nov 21 23:24:17 2022] [::1]:44728 [200]: GET /users\n",
      "[Mon Nov 21 23:24:17 2022] [::1]:44728 Closing\n",
      "[Mon Nov 21 23:24:17 2022] [::1]:44732 Accepted\n",
      "[Mon Nov 21 23:24:17 2022] [::1]:44732 [200]: GET /users/2\n",
      "[Mon Nov 21 23:24:17 2022] [::1]:44732 Closing\n",
      "[Mon Nov 21 23:24:17 2022] [::1]:44742 Accepted\n",
      "[Mon Nov 21 23:24:17 2022] [::1]:44742 [200]: GET /users\n",
      "[Mon Nov 21 23:24:17 2022] [::1]:44742 Closing\n",
      "[Mon Nov 21 23:24:17 2022] [::1]:44754 Accepted\n",
      "[Mon Nov 21 23:24:17 2022] [::1]:44754 [200]: GET /users/3\n",
      "[Mon Nov 21 23:24:17 2022] [::1]:44754 Closing\n",
      "[Mon Nov 21 23:24:17 2022] [::1]:44760 Accepted\n",
      "[Mon Nov 21 23:24:17 2022] [::1]:44760 [200]: GET /demo/file\n",
      "[Mon Nov 21 23:24:17 2022] [::1]:44760 Closing\n",
      "[Mon Nov 21 23:24:17 2022] [::1]:44768 Accepted\n",
      "[Mon Nov 21 23:24:17 2022] [::1]:44768 [200]: GET /demo/session\n"
     ]
    },
    {
     "name": "stdout",
     "output_type": "stream",
     "text": [
      "\u001b[32;1m✔\u001b[39;22m \u001b[35;1mTest01_FileStorageCest:\u001b[39;22m Test \u001b[32m(0.03s)\u001b[39m\n",
      "\u001b[32;1m✔\u001b[39;22m \u001b[35;1mTest02_SessionStorageCest:\u001b[39;22m Test \u001b[32m(0.01s)\u001b[39m\n",
      "\u001b[32;1m✔\u001b[39;22m \u001b[35;1mTest03_SQLiteStorageCest:\u001b[39;22m Test \u001b[32m(0.11s)\u001b[39m\n",
      "- \u001b[35;1mTest04_MySQLStorageCest:\u001b[39;22m Test"
     ]
    },
    {
     "name": "stderr",
     "output_type": "stream",
     "text": [
      "[Mon Nov 21 23:24:17 2022] [::1]:44768 Closing\n",
      "[Mon Nov 21 23:24:17 2022] [::1]:44770 Accepted\n",
      "[Mon Nov 21 23:24:17 2022] [::1]:44770 [200]: GET /demo/sqlite\n",
      "[Mon Nov 21 23:24:17 2022] [::1]:44770 Closing\n",
      "[Mon Nov 21 23:24:17 2022] [::1]:44784 Accepted\n"
     ]
    },
    {
     "name": "stdout",
     "output_type": "stream",
     "text": [
      "\r",
      "\u001b[32;1m✔\u001b[39;22m \u001b[35;1mTest04_MySQLStorageCest:\u001b[39;22m Test \u001b[32m(0.29s)\u001b[39m\r\n",
      "- \u001b[35;1mTest05_RedisStorageCest:\u001b[39;22m Test"
     ]
    },
    {
     "name": "stderr",
     "output_type": "stream",
     "text": [
      "[Mon Nov 21 23:24:17 2022] [::1]:44784 [200]: GET /demo/mysql\n",
      "[Mon Nov 21 23:24:17 2022] [::1]:44784 Closing\n",
      "[Mon Nov 21 23:24:17 2022] [::1]:44796 Accepted\n",
      "[Mon Nov 21 23:24:17 2022] [::1]:44796 [200]: GET /demo/mysql\n",
      "[Mon Nov 21 23:24:17 2022] [::1]:44796 Closing\n",
      "[Mon Nov 21 23:24:17 2022] [::1]:44812 Accepted\n",
      "[Mon Nov 21 23:24:17 2022] [::1]:44812 [200]: GET /demo/redis\n",
      "[Mon Nov 21 23:24:17 2022] [::1]:44812 Closing\n"
     ]
    },
    {
     "name": "stdout",
     "output_type": "stream",
     "text": [
      "\u001b[32;1m✔\u001b[39;22m \u001b[35;1mTest05_RedisStorageCest:\u001b[39;22m Test \u001b[32m(0.04s)\u001b[39m\n",
      "\u001b[32;1m✔\u001b[39;22m \u001b[35;1mTest06_HomepageCest:\u001b[39;22m See login and register links \u001b[32m(0.11s)\u001b[39m\n",
      "- \u001b[35;1mTest07_RegisterCest:\u001b[39;22m Register new user"
     ]
    },
    {
     "name": "stderr",
     "output_type": "stream",
     "text": [
      "[Mon Nov 21 23:24:17 2022] [::1]:44824 Accepted\n",
      "[Mon Nov 21 23:24:17 2022] [::1]:44824 [200]: GET /\n",
      "[Mon Nov 21 23:24:17 2022] [::1]:44824 Closing\n",
      "[Mon Nov 21 23:24:17 2022] [::1]:44834 Accepted\n",
      "[Mon Nov 21 23:24:17 2022] [::1]:44834 [200]: GET /home\n",
      "[Mon Nov 21 23:24:17 2022] [::1]:44834 Closing\n",
      "[Mon Nov 21 23:24:18 2022] [::1]:44836 Accepted\n",
      "[Mon Nov 21 23:24:18 2022] [::1]:44836 [200]: GET /\n",
      "[Mon Nov 21 23:24:18 2022] [::1]:44836 Closing\n",
      "[Mon Nov 21 23:24:18 2022] [::1]:44842 Accepted\n",
      "[Mon Nov 21 23:24:18 2022] [::1]:44842 [200]: GET /auth/register\n",
      "[Mon Nov 21 23:24:18 2022] [::1]:44842 Closing\n",
      "[Mon Nov 21 23:24:18 2022] [::1]:44858 Accepted\n"
     ]
    },
    {
     "name": "stdout",
     "output_type": "stream",
     "text": [
      "\r",
      "\u001b[32;1m✔\u001b[39;22m \u001b[35;1mTest07_RegisterCest:\u001b[39;22m Register new user \u001b[32m(0.45s)\u001b[39m\r\n",
      "- \u001b[35;1mTest08_RegisterValidationCest:\u001b[39;22m Validate data entered during registration"
     ]
    },
    {
     "name": "stderr",
     "output_type": "stream",
     "text": [
      "[Mon Nov 21 23:24:18 2022] [::1]:44858 [302]: POST /auth/register\n",
      "[Mon Nov 21 23:24:18 2022] [::1]:44858 Closing\n",
      "[Mon Nov 21 23:24:18 2022] [::1]:44870 Accepted\n",
      "[Mon Nov 21 23:24:18 2022] [::1]:44870 [200]: GET /auth/confirmation_notice\n",
      "[Mon Nov 21 23:24:18 2022] [::1]:44870 Closing\n"
     ]
    },
    {
     "name": "stdout",
     "output_type": "stream",
     "text": [
      "\r",
      "\u001b[32;1m✔\u001b[39;22m \u001b[35;1mTest08_RegisterValidationCest:\u001b[39;22m Validate data entered during registration \u001b[32m(0.15s)\u001b[39m\r\n",
      "- \u001b[35;1mTest09_RegisterRememberFieldsCest:\u001b[39;22m Remember data entered during registration when validation error is present"
     ]
    },
    {
     "name": "stderr",
     "output_type": "stream",
     "text": [
      "[Mon Nov 21 23:24:18 2022] [::1]:44886 Accepted\n",
      "[Mon Nov 21 23:24:18 2022] [::1]:44886 [200]: GET /auth/register\n",
      "[Mon Nov 21 23:24:18 2022] [::1]:44886 Closing\n",
      "[Mon Nov 21 23:24:18 2022] [::1]:44894 Accepted\n",
      "[Mon Nov 21 23:24:18 2022] [::1]:44894 [200]: POST /auth/register\n",
      "[Mon Nov 21 23:24:18 2022] [::1]:44894 Closing\n",
      "[Mon Nov 21 23:24:18 2022] [::1]:44910 Accepted\n",
      "[Mon Nov 21 23:24:18 2022] [::1]:44910 [200]: POST /auth/register\n",
      "[Mon Nov 21 23:24:18 2022] [::1]:44910 Closing\n",
      "[Mon Nov 21 23:24:18 2022] [::1]:44926 Accepted\n",
      "[Mon Nov 21 23:24:18 2022] [::1]:44926 [200]: GET /auth/register\n",
      "[Mon Nov 21 23:24:18 2022] [::1]:44926 Closing\n",
      "[Mon Nov 21 23:24:18 2022] [::1]:44940 Accepted\n",
      "[Mon Nov 21 23:24:18 2022] [::1]:44940 [200]: POST /auth/register\n",
      "[Mon Nov 21 23:24:18 2022] [::1]:44940 Closing\n"
     ]
    },
    {
     "name": "stdout",
     "output_type": "stream",
     "text": [
      "\r",
      "\u001b[32;1m✔\u001b[39;22m \u001b[35;1mTest09_RegisterRememberFieldsCest:\u001b[39;22m Remember data entered during registration when validation error is present \u001b[32m(0.26s)\u001b[39m\r\n",
      "- \u001b[35;1mTest10_RegisterConfirmCest:\u001b[39;22m Confirm user using link"
     ]
    },
    {
     "name": "stderr",
     "output_type": "stream",
     "text": [
      "[Mon Nov 21 23:24:18 2022] [::1]:44946 Accepted\n",
      "[Mon Nov 21 23:24:18 2022] [::1]:44946 [200]: POST /auth/register\n",
      "[Mon Nov 21 23:24:18 2022] [::1]:44946 Closing\n",
      "[Mon Nov 21 23:24:18 2022] [::1]:44958 Accepted\n",
      "[Mon Nov 21 23:24:18 2022] [::1]:44958 [200]: POST /auth/register\n",
      "[Mon Nov 21 23:24:18 2022] [::1]:44958 Closing\n",
      "[Mon Nov 21 23:24:18 2022] [::1]:44970 Accepted\n",
      "[Mon Nov 21 23:24:18 2022] [::1]:44970 [200]: POST /auth/register\n",
      "[Mon Nov 21 23:24:18 2022] [::1]:44970 Closing\n",
      "[Mon Nov 21 23:24:18 2022] [::1]:44980 Accepted\n",
      "[Mon Nov 21 23:24:18 2022] [::1]:44980 [200]: POST /auth/register\n",
      "[Mon Nov 21 23:24:18 2022] [::1]:44980 Closing\n",
      "[Mon Nov 21 23:24:18 2022] [::1]:44994 Accepted\n",
      "[Mon Nov 21 23:24:18 2022] [::1]:44994 [200]: GET /auth/register\n",
      "[Mon Nov 21 23:24:18 2022] [::1]:44994 Closing\n"
     ]
    },
    {
     "name": "stdout",
     "output_type": "stream",
     "text": [
      "\r",
      "\u001b[32;1m✔\u001b[39;22m \u001b[35;1mTest10_RegisterConfirmCest:\u001b[39;22m Check that info disappears after page refresh \u001b[32m(0.38s)\u001b[39m\r\n",
      "- \u001b[35;1mTest11_LoginNotExistingCest:\u001b[39;22m See error when user does not exists"
     ]
    },
    {
     "name": "stderr",
     "output_type": "stream",
     "text": [
      "[Mon Nov 21 23:24:19 2022] [::1]:45002 Accepted\n",
      "[Mon Nov 21 23:24:19 2022] [::1]:45002 [302]: GET /auth/confirm/ThisIsAnInvalidEmailConfirmationToken\n",
      "[Mon Nov 21 23:24:19 2022] [::1]:45002 Closing\n",
      "[Mon Nov 21 23:24:19 2022] [::1]:45016 Accepted\n",
      "[Mon Nov 21 23:24:19 2022] [::1]:45016 [200]: GET /\n",
      "[Mon Nov 21 23:24:19 2022] [::1]:45016 Closing\n",
      "[Mon Nov 21 23:24:19 2022] [::1]:45024 Accepted\n",
      "[Mon Nov 21 23:24:19 2022] [::1]:45024 [200]: GET /\n",
      "[Mon Nov 21 23:24:19 2022] [::1]:45024 Closing\n",
      "[Mon Nov 21 23:24:19 2022] [::1]:45028 Accepted\n",
      "[Mon Nov 21 23:24:19 2022] [::1]:45028 [302]: GET /auth/confirm/6513021a7a1d2982db44aa05c7049798\n",
      "[Mon Nov 21 23:24:19 2022] [::1]:45028 Closing\n",
      "[Mon Nov 21 23:24:19 2022] [::1]:45036 Accepted\n",
      "[Mon Nov 21 23:24:19 2022] [::1]:45036 [200]: GET /\n",
      "[Mon Nov 21 23:24:19 2022] [::1]:45036 Closing\n",
      "[Mon Nov 21 23:24:19 2022] [::1]:45038 Accepted\n",
      "[Mon Nov 21 23:24:19 2022] [::1]:45038 [200]: GET /\n",
      "[Mon Nov 21 23:24:19 2022] [::1]:45038 Closing\n",
      "[Mon Nov 21 23:24:19 2022] [::1]:45048 Accepted\n",
      "[Mon Nov 21 23:24:19 2022] [::1]:45048 [200]: GET /auth/login\n",
      "[Mon Nov 21 23:24:19 2022] [::1]:45048 Closing\n"
     ]
    },
    {
     "name": "stdout",
     "output_type": "stream",
     "text": [
      "\r",
      "\u001b[32;1m✔\u001b[39;22m \u001b[35;1mTest11_LoginNotExistingCest:\u001b[39;22m See error when user does not exists \u001b[32m(0.12s)\u001b[39m\r\n",
      "- \u001b[35;1mTest12_LoginWrongPasswordCest:\u001b[39;22m See error when wrong password is entered"
     ]
    },
    {
     "name": "stderr",
     "output_type": "stream",
     "text": [
      "[Mon Nov 21 23:24:19 2022] [::1]:45054 Accepted\n",
      "[Mon Nov 21 23:24:19 2022] [::1]:45054 [302]: POST /auth/login\n",
      "[Mon Nov 21 23:24:19 2022] [::1]:45054 Closing\n",
      "[Mon Nov 21 23:24:19 2022] [::1]:45070 Accepted\n",
      "[Mon Nov 21 23:24:19 2022] [::1]:45070 [200]: GET /\n",
      "[Mon Nov 21 23:24:19 2022] [::1]:45070 Closing\n",
      "[Mon Nov 21 23:24:19 2022] [::1]:45072 Accepted\n",
      "[Mon Nov 21 23:24:19 2022] [::1]:45072 [200]: GET /auth/login\n",
      "[Mon Nov 21 23:24:19 2022] [::1]:45072 Closing\n",
      "[Mon Nov 21 23:24:19 2022] [::1]:45078 Accepted\n",
      "[Mon Nov 21 23:24:19 2022] [::1]:45078 [200]: POST /auth/login\n",
      "[Mon Nov 21 23:24:19 2022] [::1]:45078 Closing\n"
     ]
    },
    {
     "name": "stdout",
     "output_type": "stream",
     "text": [
      "\r",
      "\u001b[32;1m✔\u001b[39;22m \u001b[35;1mTest12_LoginWrongPasswordCest:\u001b[39;22m See error when wrong password is entered \u001b[32m(0.43s)\u001b[39m\r\n",
      "- \u001b[35;1mTest13_LoginNotConfirmedCest:\u001b[39;22m Be remained about email confirmation when trying to login"
     ]
    },
    {
     "name": "stderr",
     "output_type": "stream",
     "text": [
      "[Mon Nov 21 23:24:19 2022] [::1]:45090 Accepted\n",
      "[Mon Nov 21 23:24:19 2022] [::1]:45090 [200]: GET /auth/login\n",
      "[Mon Nov 21 23:24:19 2022] [::1]:45090 Closing\n",
      "[Mon Nov 21 23:24:20 2022] [::1]:45098 Accepted\n"
     ]
    },
    {
     "name": "stdout",
     "output_type": "stream",
     "text": [
      "\r",
      "\u001b[32;1m✔\u001b[39;22m \u001b[35;1mTest13_LoginNotConfirmedCest:\u001b[39;22m Be remained about email confirmation when trying to login \u001b[32m(0.42s)\u001b[39m\r\n",
      "- \u001b[35;1mTest14_LoginLogoutSeeHiddenContentCest:\u001b[39;22m See hidden content after login"
     ]
    },
    {
     "name": "stderr",
     "output_type": "stream",
     "text": [
      "[Mon Nov 21 23:24:20 2022] [::1]:45098 [302]: POST /auth/login\n",
      "[Mon Nov 21 23:24:20 2022] [::1]:45098 Closing\n",
      "[Mon Nov 21 23:24:20 2022] [::1]:45106 Accepted\n",
      "[Mon Nov 21 23:24:20 2022] [::1]:45106 [200]: GET /auth/confirmation_notice\n",
      "[Mon Nov 21 23:24:20 2022] [::1]:45106 Closing\n",
      "[Mon Nov 21 23:24:20 2022] [::1]:45112 Accepted\n",
      "[Mon Nov 21 23:24:20 2022] [::1]:45112 [200]: GET /\n",
      "[Mon Nov 21 23:24:20 2022] [::1]:45112 Closing\n",
      "[Mon Nov 21 23:24:20 2022] [::1]:45128 Accepted\n",
      "[Mon Nov 21 23:24:20 2022] [::1]:45128 [200]: GET /auth/login\n",
      "[Mon Nov 21 23:24:20 2022] [::1]:45128 Closing\n",
      "[Mon Nov 21 23:24:20 2022] [::1]:45144 Accepted\n",
      "[Mon Nov 21 23:24:20 2022] [::1]:45144 [302]: POST /auth/login\n",
      "[Mon Nov 21 23:24:20 2022] [::1]:45144 Closing\n",
      "[Mon Nov 21 23:24:20 2022] [::1]:45148 Accepted\n",
      "[Mon Nov 21 23:24:20 2022] [::1]:45148 [200]: GET /\n",
      "[Mon Nov 21 23:24:20 2022] [::1]:45148 Closing\n",
      "[Mon Nov 21 23:24:20 2022] [::1]:45150 Accepted\n",
      "[Mon Nov 21 23:24:20 2022] [::1]:45150 [302]: GET /auth/logout\n",
      "[Mon Nov 21 23:24:20 2022] [::1]:45150 Closing\n"
     ]
    },
    {
     "name": "stdout",
     "output_type": "stream",
     "text": [
      "\u001b[32;1m✔\u001b[39;22m \u001b[35;1mTest14_LoginLogoutSeeHiddenContentCest:\u001b[39;22m See hidden content after login \u001b[32m(0.45s)\u001b[39m\n",
      "--------------------------------------------------------------------------------\n",
      "Time: 00:03.656, Memory: 12.00 MB\n",
      "\n",
      "\u001b[30;42mOK (15 tests, 275 assertions)\u001b[39;49m\n",
      "- \u001b[1mJUNIT XML\u001b[22m report generated in \u001b[33mfile:///home/student/php_2022_adam_lewinski/07_testing/02_exercise/project/tests/_output/test_report.xml\u001b[39m\n"
     ]
    },
    {
     "name": "stderr",
     "output_type": "stream",
     "text": [
      "[Mon Nov 21 23:24:20 2022] [::1]:45162 Accepted\n",
      "[Mon Nov 21 23:24:20 2022] [::1]:45162 [200]: GET /\n",
      "[Mon Nov 21 23:24:20 2022] [::1]:45162 Closing\n"
     ]
    }
   ],
   "source": [
    "! vendor/bin/codecept run Acceptance --xml test_report.xml"
   ]
  },
  {
   "cell_type": "code",
   "execution_count": 224,
   "metadata": {},
   "outputs": [],
   "source": [
    "phpServer.kill()"
   ]
  },
  {
   "cell_type": "code",
   "execution_count": 235,
   "metadata": {},
   "outputs": [
    {
     "name": "stdout",
     "output_type": "stream",
     "text": [
      "/home/student/php_2022_adam_lewinski/07_testing/02_exercise\n"
     ]
    }
   ],
   "source": [
    "%cd ../"
   ]
  },
  {
   "cell_type": "markdown",
   "metadata": {},
   "source": [
    "Stop the databses:"
   ]
  },
  {
   "cell_type": "code",
   "execution_count": null,
   "metadata": {},
   "outputs": [],
   "source": [
    "! docker container stop redis"
   ]
  },
  {
   "cell_type": "code",
   "execution_count": null,
   "metadata": {},
   "outputs": [],
   "source": [
    "! docker container stop mysql"
   ]
  }
 ],
 "metadata": {
  "kernelspec": {
   "display_name": "Python 3 (ipykernel)",
   "language": "python",
   "name": "python3"
  },
  "language_info": {
   "codemirror_mode": {
    "name": "ipython",
    "version": 3
   },
   "file_extension": ".py",
   "mimetype": "text/x-python",
   "name": "python",
   "nbconvert_exporter": "python",
   "pygments_lexer": "ipython3",
   "version": "3.10.6"
  }
 },
 "nbformat": 4,
 "nbformat_minor": 4
}
