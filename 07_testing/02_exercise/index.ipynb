{
 "cells": [
  {
   "cell_type": "markdown",
   "metadata": {},
   "source": [
    "# PHP 2022"
   ]
  },
  {
   "cell_type": "markdown",
   "metadata": {},
   "source": [
    "## 7. Testing"
   ]
  },
  {
   "cell_type": "markdown",
   "metadata": {},
   "source": [
    "### 7.2 Exercise"
   ]
  },
  {
   "cell_type": "markdown",
   "metadata": {},
   "source": [
    "Implment missing code."
   ]
  },
  {
   "cell_type": "markdown",
   "metadata": {},
   "source": [
    "Start the databses:"
   ]
  },
  {
   "cell_type": "code",
   "execution_count": 1,
   "metadata": {},
   "outputs": [
    {
     "name": "stdout",
     "output_type": "stream",
     "text": [
      "2f368ff7f00acd95fea7ec283bd9110e954e646692f85f4bd0daee08356b0bd3\r\n"
     ]
    }
   ],
   "source": [
    "! docker run --net=host --rm --name redis -d redis"
   ]
  },
  {
   "cell_type": "code",
   "execution_count": 2,
   "metadata": {},
   "outputs": [
    {
     "name": "stdout",
     "output_type": "stream",
     "text": [
      "dc24693c41d3c91cbf2e691a574b753b65c43c2d69cb7c51d1021a6553ca21f5\r\n"
     ]
    }
   ],
   "source": [
    "! docker run --name=mysql --net=host --rm --env MYSQL_ROOT_PASSWORD=root123 --env MYSQL_DATABASE=test --env MYSQL_USER=test --env MYSQL_PASSWORD=test123 -d mysql/mysql-server:8.0"
   ]
  },
  {
   "cell_type": "code",
   "execution_count": 3,
   "metadata": {},
   "outputs": [
    {
     "name": "stdout",
     "output_type": "stream",
     "text": [
      "Done.\r\n"
     ]
    }
   ],
   "source": [
    "! while ! timeout 1 bash -c \"echo > /dev/tcp/localhost/6379\" 2> /dev/null; do sleep 1; done; echo \"Done.\";"
   ]
  },
  {
   "cell_type": "code",
   "execution_count": 4,
   "metadata": {},
   "outputs": [
    {
     "name": "stdout",
     "output_type": "stream",
     "text": [
      "Done.\r\n"
     ]
    }
   ],
   "source": [
    "! while ! timeout 1 bash -c \"echo > /dev/tcp/localhost/3306\" 2> /dev/null; do sleep 1; done; echo \"Done.\";"
   ]
  },
  {
   "cell_type": "markdown",
   "metadata": {},
   "source": [
    "Edit the code:"
   ]
  },
  {
   "cell_type": "code",
   "execution_count": null,
   "metadata": {},
   "outputs": [
    {
     "name": "stdout",
     "output_type": "stream",
     "text": [
      "CompileCommand: exclude com/intellij/openapi/vfs/impl/FilePartNodeRoot.trieDescend bool exclude = true\n",
      "2022-11-21 20:53:49,817 [   2685] SEVERE - #c.i.d.LoadingState - Should be called at least in the state COMPONENTS_LOADED, the current state is: CONFIGURATION_STORE_INITIALIZED\n",
      "Current violators count: 1\n",
      "\n",
      "\n",
      "java.lang.Throwable\n",
      "\tat com.intellij.diagnostic.LoadingState.logStateError(LoadingState.java:52)\n",
      "\tat com.intellij.diagnostic.LoadingState.checkOccurred(LoadingState.java:48)\n",
      "\tat com.intellij.openapi.actionSystem.impl.ActionManagerImpl.<init>(ActionManagerImpl.java:133)\n",
      "\tat com.jetbrains.rdserver.ui.actionPopupMenu.BackendActionManager.<init>(BackendActionManager.kt:17)\n",
      "\tat java.base/jdk.internal.reflect.NativeConstructorAccessorImpl.newInstance0(Native Method)\n",
      "\tat java.base/jdk.internal.reflect.NativeConstructorAccessorImpl.newInstance(NativeConstructorAccessorImpl.java:77)\n",
      "\tat java.base/jdk.internal.reflect.DelegatingConstructorAccessorImpl.newInstance(DelegatingConstructorAccessorImpl.java:45)\n",
      "\tat java.base/java.lang.reflect.Constructor.newInstanceWithCaller(Constructor.java:499)\n",
      "\tat java.base/java.lang.reflect.Constructor.newInstance(Constructor.java:480)\n",
      "\tat com.intellij.serviceContainer.ConstructorInjectionKt.instantiateUsingPicoContainer(constructorInjection.kt:47)\n",
      "\tat com.intellij.serviceContainer.ComponentManagerImpl.instantiateClassWithConstructorInjection(ComponentManagerImpl.kt:890)\n",
      "\tat com.intellij.serviceContainer.ServiceComponentAdapter.createAndInitialize(ServiceComponentAdapter.kt:51)\n",
      "\tat com.intellij.serviceContainer.ServiceComponentAdapter.doCreateInstance(ServiceComponentAdapter.kt:41)\n",
      "\tat com.intellij.serviceContainer.BaseComponentAdapter.getInstanceUncached(BaseComponentAdapter.kt:119)\n",
      "\tat com.intellij.serviceContainer.BaseComponentAdapter.getInstance(BaseComponentAdapter.kt:73)\n",
      "\tat com.intellij.serviceContainer.BaseComponentAdapter.getInstance$default(BaseComponentAdapter.kt:66)\n",
      "\tat com.intellij.serviceContainer.ComponentManagerImpl.doGetService(ComponentManagerImpl.kt:609)\n",
      "\tat com.intellij.serviceContainer.ComponentManagerImpl.getService(ComponentManagerImpl.kt:583)\n",
      "\tat com.intellij.openapi.client.ClientAwareComponentManager.getFromSelfOrCurrentSession(ClientAwareComponentManager.kt:37)\n",
      "\tat com.intellij.openapi.client.ClientAwareComponentManager.getService(ClientAwareComponentManager.kt:22)\n",
      "\tat com.intellij.openapi.actionSystem.ActionManager.getInstance(ActionManager.java:29)\n",
      "\tat com.intellij.help.impl.KeymapGenerator.<clinit>(KeymapGenerator.java:33)\n",
      "\tat java.base/jdk.internal.misc.Unsafe.allocateInstance(Native Method)\n",
      "\tat java.base/java.lang.invoke.DirectMethodHandle.allocateInstance(DirectMethodHandle.java:520)\n",
      "\tat com.intellij.serviceContainer.ComponentManagerImpl.instantiateClass(ComponentManagerImpl.kt:844)\n",
      "\tat com.intellij.openapi.extensions.impl.XmlExtensionAdapter.instantiateClass(XmlExtensionAdapter.kt:79)\n",
      "\tat com.intellij.openapi.extensions.impl.XmlExtensionAdapter$SimpleConstructorInjectionAdapter.instantiateClass(XmlExtensionAdapter.kt:90)\n",
      "\tat com.intellij.openapi.extensions.impl.XmlExtensionAdapter.doCreateInstance(XmlExtensionAdapter.kt:50)\n",
      "\tat com.intellij.openapi.extensions.impl.XmlExtensionAdapter.createInstance(XmlExtensionAdapter.kt:31)\n",
      "\tat com.intellij.openapi.extensions.impl.ExtensionPointImpl.processAdapter(ExtensionPointImpl.java:447)\n",
      "\tat com.intellij.openapi.extensions.impl.ExtensionPointImpl.access$200(ExtensionPointImpl.java:33)\n",
      "\tat com.intellij.openapi.extensions.impl.ExtensionPointImpl$1.next(ExtensionPointImpl.java:355)\n",
      "\tat com.intellij.idea.ApplicationLoader.findAppStarter(ApplicationLoader.kt:595)\n",
      "\tat com.intellij.idea.ApplicationLoader.access$findAppStarter(ApplicationLoader.kt:1)\n",
      "\tat com.intellij.idea.ApplicationLoader$initApplication$block$3.apply(ApplicationLoader.kt:170)\n",
      "\tat com.intellij.idea.ApplicationLoader$initApplication$block$3.apply(ApplicationLoader.kt)\n",
      "\tat java.base/java.util.concurrent.CompletableFuture$UniCompose.tryFire(CompletableFuture.java:1150)\n",
      "\tat java.base/java.util.concurrent.CompletableFuture.postComplete(CompletableFuture.java:510)\n",
      "\tat java.base/java.util.concurrent.CompletableFuture.postFire(CompletableFuture.java:614)\n",
      "\tat java.base/java.util.concurrent.CompletableFuture$UniCompose.tryFire(CompletableFuture.java:1163)\n",
      "\tat java.base/java.util.concurrent.CompletableFuture$Completion.run(CompletableFuture.java:482)\n",
      "\tat com.intellij.idea.ApplicationLoader$initApplication$block$2.execute(ApplicationLoader.kt:142)\n",
      "\tat java.base/java.util.concurrent.CompletableFuture$UniCompletion.claim(CompletableFuture.java:572)\n",
      "\tat java.base/java.util.concurrent.CompletableFuture$UniCompose.tryFire(CompletableFuture.java:1147)\n",
      "\tat java.base/java.util.concurrent.CompletableFuture.postComplete(CompletableFuture.java:510)\n",
      "\tat java.base/java.util.concurrent.CompletableFuture.postFire(CompletableFuture.java:614)\n",
      "\tat java.base/java.util.concurrent.CompletableFuture$UniCompose.tryFire(CompletableFuture.java:1163)\n",
      "\tat java.base/java.util.concurrent.CompletableFuture$Completion.exec(CompletableFuture.java:483)\n",
      "\tat java.base/java.util.concurrent.ForkJoinTask.doExec(ForkJoinTask.java:373)\n",
      "\tat java.base/java.util.concurrent.ForkJoinPool.externalHelpQuiescePool(ForkJoinPool.java:2104)\n",
      "\tat java.base/java.util.concurrent.ForkJoinPool.awaitQuiescence(ForkJoinPool.java:3321)\n",
      "\tat com.intellij.idea.StartupUtil.start(StartupUtil.java:272)\n",
      "\tat com.intellij.idea.Main.bootstrap(Main.java:119)\n",
      "\tat com.intellij.idea.Main.main(Main.java:81)\n",
      "2022-11-21 20:53:49,833 [   2701] SEVERE - #c.i.d.LoadingState - PhpStorm 2022.2.3  Build #PS-222.4345.15\n",
      "2022-11-21 20:53:49,834 [   2702] SEVERE - #c.i.d.LoadingState - JDK: 17.0.4.1; VM: OpenJDK 64-Bit Server VM; Vendor: JetBrains s.r.o.\n",
      "2022-11-21 20:53:49,835 [   2703] SEVERE - #c.i.d.LoadingState - OS: Linux\n",
      "2022-11-21 20:53:50,720 [   3588] SEVERE - #c.i.d.LoadingState - Should be called at least in the state COMPONENTS_LOADED, the current state is: CONFIGURATION_STORE_INITIALIZED\n",
      "Current violators count: 2\n",
      "\n",
      "\n",
      "java.lang.Throwable\n",
      "\tat com.intellij.diagnostic.LoadingState.logStateError(LoadingState.java:52)\n",
      "\tat com.intellij.diagnostic.LoadingState.checkOccurred(LoadingState.java:48)\n",
      "\tat com.intellij.openapi.util.registry.Registry.getInstance(Registry.java:176)\n",
      "\tat com.intellij.openapi.util.registry.Registry.get(Registry.java:50)\n",
      "\tat com.intellij.openapi.util.registry.Registry.is(Registry.java:63)\n",
      "\tat com.intellij.execution.ExecutorRegistryImpl.isExecutorInMainGroup(ExecutorRegistryImpl.java:195)\n",
      "\tat com.intellij.execution.ExecutorRegistryImpl.initExecutorActions(ExecutorRegistryImpl.java:127)\n",
      "\tat com.intellij.execution.ExecutorRegistryImpl.init(ExecutorRegistryImpl.java:278)\n",
      "\tat com.intellij.execution.ExecutorRegistryImpl$ExecutorRegistryActionConfigurationTuner.customize(ExecutorRegistryImpl.java:92)\n",
      "\tat com.intellij.openapi.actionSystem.impl.ActionManagerImpl.lambda$new$0(ActionManagerImpl.java:141)\n",
      "\tat com.intellij.openapi.extensions.impl.ExtensionProcessingHelper.forEachExtensionSafe(ExtensionProcessingHelper.java:34)\n",
      "\tat com.intellij.openapi.extensions.ExtensionPointName.forEachExtensionSafe(ExtensionPointName.java:46)\n",
      "\tat com.intellij.openapi.actionSystem.impl.ActionManagerImpl.<init>(ActionManagerImpl.java:141)\n",
      "\tat com.jetbrains.rdserver.ui.actionPopupMenu.BackendActionManager.<init>(BackendActionManager.kt:17)\n",
      "\tat java.base/jdk.internal.reflect.NativeConstructorAccessorImpl.newInstance0(Native Method)\n",
      "\tat java.base/jdk.internal.reflect.NativeConstructorAccessorImpl.newInstance(NativeConstructorAccessorImpl.java:77)\n",
      "\tat java.base/jdk.internal.reflect.DelegatingConstructorAccessorImpl.newInstance(DelegatingConstructorAccessorImpl.java:45)\n",
      "\tat java.base/java.lang.reflect.Constructor.newInstanceWithCaller(Constructor.java:499)\n",
      "\tat java.base/java.lang.reflect.Constructor.newInstance(Constructor.java:480)\n",
      "\tat com.intellij.serviceContainer.ConstructorInjectionKt.instantiateUsingPicoContainer(constructorInjection.kt:47)\n",
      "\tat com.intellij.serviceContainer.ComponentManagerImpl.instantiateClassWithConstructorInjection(ComponentManagerImpl.kt:890)\n",
      "\tat com.intellij.serviceContainer.ServiceComponentAdapter.createAndInitialize(ServiceComponentAdapter.kt:51)\n",
      "\tat com.intellij.serviceContainer.ServiceComponentAdapter.doCreateInstance(ServiceComponentAdapter.kt:41)\n",
      "\tat com.intellij.serviceContainer.BaseComponentAdapter.getInstanceUncached(BaseComponentAdapter.kt:119)\n",
      "\tat com.intellij.serviceContainer.BaseComponentAdapter.getInstance(BaseComponentAdapter.kt:73)\n",
      "\tat com.intellij.serviceContainer.BaseComponentAdapter.getInstance$default(BaseComponentAdapter.kt:66)\n",
      "\tat com.intellij.serviceContainer.ComponentManagerImpl.doGetService(ComponentManagerImpl.kt:609)\n",
      "\tat com.intellij.serviceContainer.ComponentManagerImpl.getService(ComponentManagerImpl.kt:583)\n",
      "\tat com.intellij.openapi.client.ClientAwareComponentManager.getFromSelfOrCurrentSession(ClientAwareComponentManager.kt:37)\n",
      "\tat com.intellij.openapi.client.ClientAwareComponentManager.getService(ClientAwareComponentManager.kt:22)\n",
      "\tat com.intellij.openapi.actionSystem.ActionManager.getInstance(ActionManager.java:29)\n",
      "\tat com.intellij.help.impl.KeymapGenerator.<clinit>(KeymapGenerator.java:33)\n",
      "\tat java.base/jdk.internal.misc.Unsafe.allocateInstance(Native Method)\n",
      "\tat java.base/java.lang.invoke.DirectMethodHandle.allocateInstance(DirectMethodHandle.java:520)\n",
      "\tat com.intellij.serviceContainer.ComponentManagerImpl.instantiateClass(ComponentManagerImpl.kt:844)\n",
      "\tat com.intellij.openapi.extensions.impl.XmlExtensionAdapter.instantiateClass(XmlExtensionAdapter.kt:79)\n",
      "\tat com.intellij.openapi.extensions.impl.XmlExtensionAdapter$SimpleConstructorInjectionAdapter.instantiateClass(XmlExtensionAdapter.kt:90)\n",
      "\tat com.intellij.openapi.extensions.impl.XmlExtensionAdapter.doCreateInstance(XmlExtensionAdapter.kt:50)\n",
      "\tat com.intellij.openapi.extensions.impl.XmlExtensionAdapter.createInstance(XmlExtensionAdapter.kt:31)\n",
      "\tat com.intellij.openapi.extensions.impl.ExtensionPointImpl.processAdapter(ExtensionPointImpl.java:447)\n",
      "\tat com.intellij.openapi.extensions.impl.ExtensionPointImpl.access$200(ExtensionPointImpl.java:33)\n",
      "\tat com.intellij.openapi.extensions.impl.ExtensionPointImpl$1.next(ExtensionPointImpl.java:355)\n",
      "\tat com.intellij.idea.ApplicationLoader.findAppStarter(ApplicationLoader.kt:595)\n",
      "\tat com.intellij.idea.ApplicationLoader.access$findAppStarter(ApplicationLoader.kt:1)\n",
      "\tat com.intellij.idea.ApplicationLoader$initApplication$block$3.apply(ApplicationLoader.kt:170)\n",
      "\tat com.intellij.idea.ApplicationLoader$initApplication$block$3.apply(ApplicationLoader.kt)\n",
      "\tat java.base/java.util.concurrent.CompletableFuture$UniCompose.tryFire(CompletableFuture.java:1150)\n",
      "\tat java.base/java.util.concurrent.CompletableFuture.postComplete(CompletableFuture.java:510)\n",
      "\tat java.base/java.util.concurrent.CompletableFuture.postFire(CompletableFuture.java:614)\n",
      "\tat java.base/java.util.concurrent.CompletableFuture$UniCompose.tryFire(CompletableFuture.java:1163)\n",
      "\tat java.base/java.util.concurrent.CompletableFuture$Completion.run(CompletableFuture.java:482)\n",
      "\tat com.intellij.idea.ApplicationLoader$initApplication$block$2.execute(ApplicationLoader.kt:142)\n",
      "\tat java.base/java.util.concurrent.CompletableFuture$UniCompletion.claim(CompletableFuture.java:572)\n",
      "\tat java.base/java.util.concurrent.CompletableFuture$UniCompose.tryFire(CompletableFuture.java:1147)\n",
      "\tat java.base/java.util.concurrent.CompletableFuture.postComplete(CompletableFuture.java:510)\n",
      "\tat java.base/java.util.concurrent.CompletableFuture.postFire(CompletableFuture.java:614)\n",
      "\tat java.base/java.util.concurrent.CompletableFuture$UniCompose.tryFire(CompletableFuture.java:1163)\n",
      "\tat java.base/java.util.concurrent.CompletableFuture$Completion.exec(CompletableFuture.java:483)\n",
      "\tat java.base/java.util.concurrent.ForkJoinTask.doExec(ForkJoinTask.java:373)\n",
      "\tat java.base/java.util.concurrent.ForkJoinPool.externalHelpQuiescePool(ForkJoinPool.java:2104)\n",
      "\tat java.base/java.util.concurrent.ForkJoinPool.awaitQuiescence(ForkJoinPool.java:3321)\n",
      "\tat com.intellij.idea.StartupUtil.start(StartupUtil.java:272)\n",
      "\tat com.intellij.idea.Main.bootstrap(Main.java:119)\n",
      "\tat com.intellij.idea.Main.main(Main.java:81)\n",
      "2022-11-21 20:53:50,724 [   3592] SEVERE - #c.i.d.LoadingState - PhpStorm 2022.2.3  Build #PS-222.4345.15\n",
      "2022-11-21 20:53:50,724 [   3592] SEVERE - #c.i.d.LoadingState - JDK: 17.0.4.1; VM: OpenJDK 64-Bit Server VM; Vendor: JetBrains s.r.o.\n",
      "2022-11-21 20:53:50,725 [   3593] SEVERE - #c.i.d.LoadingState - OS: Linux\n"
     ]
    },
    {
     "name": "stdout",
     "output_type": "stream",
     "text": [
      "2022-11-21 20:53:50,782 [   3650] SEVERE - #c.i.d.LoadingState - Should be called at least in the state COMPONENTS_LOADED, the current state is: CONFIGURATION_STORE_INITIALIZED\n",
      "Current violators count: 3\n",
      "\n",
      "\n",
      "java.lang.Throwable\n",
      "\tat com.intellij.diagnostic.LoadingState.logStateError(LoadingState.java:52)\n",
      "\tat com.intellij.diagnostic.LoadingState.checkOccurred(LoadingState.java:48)\n",
      "\tat com.intellij.openapi.util.registry.Registry.getInstance(Registry.java:176)\n",
      "\tat com.intellij.openapi.util.registry.Registry.get(Registry.java:50)\n",
      "\tat com.intellij.openapi.util.registry.Registry.is(Registry.java:63)\n",
      "\tat com.intellij.openapi.wm.impl.GlobalMenuLinux._loadLibrary(GlobalMenuLinux.java:797)\n",
      "\tat com.intellij.openapi.wm.impl.GlobalMenuLinux.<clinit>(GlobalMenuLinux.java:164)\n",
      "\tat com.intellij.openapi.wm.impl.GlobalMenuLinux$MyActionTuner.customize(GlobalMenuLinux.java:230)\n",
      "\tat com.intellij.openapi.actionSystem.impl.ActionManagerImpl.lambda$new$0(ActionManagerImpl.java:141)\n",
      "\tat com.intellij.openapi.extensions.impl.ExtensionProcessingHelper.forEachExtensionSafe(ExtensionProcessingHelper.java:34)\n",
      "\tat com.intellij.openapi.extensions.ExtensionPointName.forEachExtensionSafe(ExtensionPointName.java:46)\n",
      "\tat com.intellij.openapi.actionSystem.impl.ActionManagerImpl.<init>(ActionManagerImpl.java:141)\n",
      "\tat com.jetbrains.rdserver.ui.actionPopupMenu.BackendActionManager.<init>(BackendActionManager.kt:17)\n",
      "\tat java.base/jdk.internal.reflect.NativeConstructorAccessorImpl.newInstance0(Native Method)\n",
      "\tat java.base/jdk.internal.reflect.NativeConstructorAccessorImpl.newInstance(NativeConstructorAccessorImpl.java:77)\n",
      "\tat java.base/jdk.internal.reflect.DelegatingConstructorAccessorImpl.newInstance(DelegatingConstructorAccessorImpl.java:45)\n",
      "\tat java.base/java.lang.reflect.Constructor.newInstanceWithCaller(Constructor.java:499)\n",
      "\tat java.base/java.lang.reflect.Constructor.newInstance(Constructor.java:480)\n",
      "\tat com.intellij.serviceContainer.ConstructorInjectionKt.instantiateUsingPicoContainer(constructorInjection.kt:47)\n",
      "\tat com.intellij.serviceContainer.ComponentManagerImpl.instantiateClassWithConstructorInjection(ComponentManagerImpl.kt:890)\n",
      "\tat com.intellij.serviceContainer.ServiceComponentAdapter.createAndInitialize(ServiceComponentAdapter.kt:51)\n",
      "\tat com.intellij.serviceContainer.ServiceComponentAdapter.doCreateInstance(ServiceComponentAdapter.kt:41)\n",
      "\tat com.intellij.serviceContainer.BaseComponentAdapter.getInstanceUncached(BaseComponentAdapter.kt:119)\n",
      "\tat com.intellij.serviceContainer.BaseComponentAdapter.getInstance(BaseComponentAdapter.kt:73)\n",
      "\tat com.intellij.serviceContainer.BaseComponentAdapter.getInstance$default(BaseComponentAdapter.kt:66)\n",
      "\tat com.intellij.serviceContainer.ComponentManagerImpl.doGetService(ComponentManagerImpl.kt:609)\n",
      "\tat com.intellij.serviceContainer.ComponentManagerImpl.getService(ComponentManagerImpl.kt:583)\n",
      "\tat com.intellij.openapi.client.ClientAwareComponentManager.getFromSelfOrCurrentSession(ClientAwareComponentManager.kt:37)\n",
      "\tat com.intellij.openapi.client.ClientAwareComponentManager.getService(ClientAwareComponentManager.kt:22)\n",
      "\tat com.intellij.openapi.actionSystem.ActionManager.getInstance(ActionManager.java:29)\n",
      "\tat com.intellij.help.impl.KeymapGenerator.<clinit>(KeymapGenerator.java:33)\n",
      "\tat java.base/jdk.internal.misc.Unsafe.allocateInstance(Native Method)\n",
      "\tat java.base/java.lang.invoke.DirectMethodHandle.allocateInstance(DirectMethodHandle.java:520)\n",
      "\tat com.intellij.serviceContainer.ComponentManagerImpl.instantiateClass(ComponentManagerImpl.kt:844)\n",
      "\tat com.intellij.openapi.extensions.impl.XmlExtensionAdapter.instantiateClass(XmlExtensionAdapter.kt:79)\n",
      "\tat com.intellij.openapi.extensions.impl.XmlExtensionAdapter$SimpleConstructorInjectionAdapter.instantiateClass(XmlExtensionAdapter.kt:90)\n",
      "\tat com.intellij.openapi.extensions.impl.XmlExtensionAdapter.doCreateInstance(XmlExtensionAdapter.kt:50)\n",
      "\tat com.intellij.openapi.extensions.impl.XmlExtensionAdapter.createInstance(XmlExtensionAdapter.kt:31)\n",
      "\tat com.intellij.openapi.extensions.impl.ExtensionPointImpl.processAdapter(ExtensionPointImpl.java:447)\n",
      "\tat com.intellij.openapi.extensions.impl.ExtensionPointImpl.access$200(ExtensionPointImpl.java:33)\n",
      "\tat com.intellij.openapi.extensions.impl.ExtensionPointImpl$1.next(ExtensionPointImpl.java:355)\n",
      "\tat com.intellij.idea.ApplicationLoader.findAppStarter(ApplicationLoader.kt:595)\n",
      "\tat com.intellij.idea.ApplicationLoader.access$findAppStarter(ApplicationLoader.kt:1)\n",
      "\tat com.intellij.idea.ApplicationLoader$initApplication$block$3.apply(ApplicationLoader.kt:170)\n",
      "\tat com.intellij.idea.ApplicationLoader$initApplication$block$3.apply(ApplicationLoader.kt)\n",
      "\tat java.base/java.util.concurrent.CompletableFuture$UniCompose.tryFire(CompletableFuture.java:1150)\n",
      "\tat java.base/java.util.concurrent.CompletableFuture.postComplete(CompletableFuture.java:510)\n",
      "\tat java.base/java.util.concurrent.CompletableFuture.postFire(CompletableFuture.java:614)\n",
      "\tat java.base/java.util.concurrent.CompletableFuture$UniCompose.tryFire(CompletableFuture.java:1163)\n",
      "\tat java.base/java.util.concurrent.CompletableFuture$Completion.run(CompletableFuture.java:482)\n",
      "\tat com.intellij.idea.ApplicationLoader$initApplication$block$2.execute(ApplicationLoader.kt:142)\n",
      "\tat java.base/java.util.concurrent.CompletableFuture$UniCompletion.claim(CompletableFuture.java:572)\n",
      "\tat java.base/java.util.concurrent.CompletableFuture$UniCompose.tryFire(CompletableFuture.java:1147)\n",
      "\tat java.base/java.util.concurrent.CompletableFuture.postComplete(CompletableFuture.java:510)\n",
      "\tat java.base/java.util.concurrent.CompletableFuture.postFire(CompletableFuture.java:614)\n",
      "\tat java.base/java.util.concurrent.CompletableFuture$UniCompose.tryFire(CompletableFuture.java:1163)\n",
      "\tat java.base/java.util.concurrent.CompletableFuture$Completion.exec(CompletableFuture.java:483)\n",
      "\tat java.base/java.util.concurrent.ForkJoinTask.doExec(ForkJoinTask.java:373)\n",
      "\tat java.base/java.util.concurrent.ForkJoinPool.externalHelpQuiescePool(ForkJoinPool.java:2104)\n",
      "\tat java.base/java.util.concurrent.ForkJoinPool.awaitQuiescence(ForkJoinPool.java:3321)\n",
      "\tat com.intellij.idea.StartupUtil.start(StartupUtil.java:272)\n",
      "\tat com.intellij.idea.Main.bootstrap(Main.java:119)\n",
      "\tat com.intellij.idea.Main.main(Main.java:81)\n",
      "2022-11-21 20:53:50,790 [   3658] SEVERE - #c.i.d.LoadingState - PhpStorm 2022.2.3  Build #PS-222.4345.15\n",
      "2022-11-21 20:53:50,792 [   3660] SEVERE - #c.i.d.LoadingState - JDK: 17.0.4.1; VM: OpenJDK 64-Bit Server VM; Vendor: JetBrains s.r.o.\n",
      "2022-11-21 20:53:50,795 [   3663] SEVERE - #c.i.d.LoadingState - OS: Linux\n",
      "Info  | RdCoroutineScope          | 13:JobScheduler FJ pool 1/3 | RdCoroutineHost overridden \n",
      "2022-11-21 20:53:59,445 [  12313]   WARN - #c.i.o.a.i.ActionUpdater - 595 ms to grab EDT for CWMTelephonyGroup#update@NavBarToolbar (com.jetbrains.rd.platform.codeWithMe.telephony.CWMTelephonyGroup)\n",
      "2022-11-21 20:54:00,246 [  13114]   WARN - #c.i.o.a.i.ActionUpdater - 449 ms to grab EDT for UndoAction#update@MainMenu (com.intellij.ide.actions.UndoAction)\n",
      "2022-11-21 20:54:02,304 [  15172]   WARN - #c.i.o.a.i.ActionUpdater - 2061 ms to grab EDT for ToolWindowsGroup#update@MainMenu (com.intellij.ide.actions.ToolWindowsGroup)\n",
      "2022-11-21 20:54:02,305 [  15173]   WARN - #c.i.o.a.i.ActionUpdater - 2057 ms to grab EDT for RedoAction#update@MainMenu (com.intellij.ide.actions.RedoAction)\n",
      "2022-11-21 20:54:04,811 [  17679]   WARN - #c.i.u.x.Binding - no accessors for com.jetbrains.php.testFramework.PhpTestFrameworkType\n",
      "2022-11-21 20:54:05,612 [  18480]   WARN - #c.i.o.a.i.ActionUpdater - 2827 ms to grab EDT for CompareFileWithEditorAction#update@MainMenu (com.intellij.diff.actions.CompareFileWithEditorAction)\n",
      "2022-11-21 20:54:05,838 [  18706]   WARN - #c.i.o.a.i.ActionUpdater - 4922 ms total to grab EDT 3 times to expand DefaultCompactActionGroup@MainMenu (com.intellij.openapi.actionSystem.DefaultCompactActionGroup). Use `ActionUpdateThread.BGT`.\n",
      "2022-11-21 20:54:08,992 [  21860]   WARN - #c.i.o.a.i.ActionUpdater - 3062 ms to grab EDT for CWMTelephonyGroup#update@NavBarToolbar (com.jetbrains.rd.platform.codeWithMe.telephony.CWMTelephonyGroup)\n",
      "2022-11-21 20:54:08,997 [  21865]   WARN - #c.i.o.a.i.ActionUpdater - 2937 ms to grab EDT for BackAction#update@MainToolbar (com.intellij.ide.actions.BackAction)\n"
     ]
    },
    {
     "name": "stdout",
     "output_type": "stream",
     "text": [
      "2022-11-21 20:54:09,883 [  22751]   WARN - #c.i.o.a.i.ActionUpdater - 3062 ms total to grab EDT 1 times to expand DefaultActionGroup@NavBarToolbar (CustomisedActionGroup/com.intellij.openapi.actionSystem.DefaultActionGroup). Use `ActionUpdateThread.BGT`.\n",
      "2022-11-21 20:55:06,071 [  78939]   WARN - #o.e.l.s.p.EditorConfigJsonSchemaParser - Found illegal descriptor: {}\n",
      "2022-11-21 20:55:06,073 [  78941]   WARN - #o.e.l.s.p.EditorConfigJsonSchemaParser - Found illegal descriptor: {}\n",
      "2022-11-21 20:55:06,093 [  78961]   WARN - #o.e.l.s.p.EditorConfigJsonSchemaParser - Found illegal descriptor: {}\n",
      "2022-11-21 20:55:06,098 [  78966]   WARN - #o.e.l.s.p.EditorConfigJsonSchemaParser - Found illegal descriptor: {}\n",
      "2022-11-21 20:55:06,101 [  78969]   WARN - #o.e.l.s.p.EditorConfigJsonSchemaParser - Found illegal descriptor: {}\n",
      "2022-11-21 20:55:06,103 [  78971]   WARN - #o.e.l.s.p.EditorConfigJsonSchemaParser - Found illegal descriptor: {}\n",
      "2022-11-21 20:55:06,106 [  78974]   WARN - #o.e.l.s.p.EditorConfigJsonSchemaParser - Found illegal descriptor: {}\n",
      "2022-11-21 20:55:06,107 [  78975]   WARN - #o.e.l.s.p.EditorConfigJsonSchemaParser - Found illegal descriptor: {}\n",
      "2022-11-21 20:55:17,092 [  89960]   WARN - #c.i.o.a.i.ActionUpdater - 554 ms to grab EDT for #update@EditorInspectionsToolbar (com.intellij.codeInsight.actions.ReaderModeActionProvider$createAction$1)\n",
      "2022-11-21 20:55:17,515 [  90383]   WARN - #c.i.o.a.i.ActionUpdater - 501 ms to grab EDT for CWMTelephonyGroup#update@NavBarToolbar (com.jetbrains.rd.platform.codeWithMe.telephony.CWMTelephonyGroup)\n",
      "2022-11-21 20:55:17,582 [  90450]   WARN - #c.i.o.a.i.ActionUpdater - 474 ms to grab EDT for TrafficLightAction#update@EditorInspectionsToolbar (com.intellij.openapi.editor.impl.EditorMarkupModelImpl$TrafficLightAction)\n",
      "2022-11-21 20:55:27,947 [ 100815]   WARN - #c.j.p.p.PharHandler - Stub end marker missing: /home/student/php_2022_adam_lewinski/07_testing/02_exercise/project/vendor/bin/phpstan.phar\n",
      "java.io.IOException: Stub end marker missing\n",
      "\tat com.jetbrains.php.phar.PharHandler.readStub(PharHandler.java:125)\n",
      "\tat com.jetbrains.php.phar.PharHandler.createEntriesMap(PharHandler.java:60)\n",
      "\tat com.intellij.openapi.vfs.impl.ArchiveHandler.getEntriesMap(ArchiveHandler.java:188)\n",
      "\tat com.intellij.openapi.vfs.impl.ArchiveHandler.getEntryInfo(ArchiveHandler.java:173)\n",
      "\tat com.intellij.openapi.vfs.impl.ArchiveHandler.list(ArchiveHandler.java:90)\n",
      "\tat com.intellij.openapi.vfs.newvfs.ArchiveFileSystem.lambda$new$1(ArchiveFileSystem.java:143)\n",
      "\tat com.intellij.openapi.vfs.DiskQueryRelay.lambda$accessDiskWithCheckCanceled$0(DiskQueryRelay.java:42)\n",
      "\tat java.base/java.util.concurrent.FutureTask.run(FutureTask.java:264)\n",
      "\tat java.base/java.util.concurrent.ThreadPoolExecutor.runWorker(ThreadPoolExecutor.java:1136)\n",
      "\tat java.base/java.util.concurrent.ThreadPoolExecutor$Worker.run(ThreadPoolExecutor.java:635)\n",
      "\tat java.base/java.util.concurrent.Executors$PrivilegedThreadFactory$1$1.run(Executors.java:702)\n",
      "\tat java.base/java.util.concurrent.Executors$PrivilegedThreadFactory$1$1.run(Executors.java:699)\n",
      "\tat java.base/java.security.AccessController.doPrivileged(AccessController.java:399)\n",
      "\tat java.base/java.util.concurrent.Executors$PrivilegedThreadFactory$1.run(Executors.java:699)\n",
      "\tat java.base/java.lang.Thread.run(Thread.java:833)\n",
      "2022-11-21 20:56:17,243 [ 150111]   WARN - #c.i.o.a.i.ActionUpdater - 438 ms to grab EDT for CWMTelephonyGroup#update@NavBarToolbar (com.jetbrains.rd.platform.codeWithMe.telephony.CWMTelephonyGroup)\n",
      "2022-11-21 20:58:06,929 [ 259797]   WARN - #c.i.u.x.Binding - no accessors for org.jetbrains.idea.perforce.perforce.ConnectionId\n",
      "2022-11-21 20:58:07,280 [ 260148]   WARN - #c.i.o.a.i.ActionUpdater - 413 ms to grab EDT for GitCommitWithStagingAreaAction#update@NavBarToolbar (git4idea.index.actions.GitCommitWithStagingAreaAction)\n",
      "2022-11-21 20:58:28,193 [ 281061]   WARN - #c.i.o.a.e.ActionUtil - Can not find action by id CompileDirty\n",
      "2022-11-21 20:58:28,474 [ 281342]   WARN - #c.i.o.a.i.ActionUpdater - 224 ms to grab EDT for #update@ToolwindowTitle (com.intellij.toolWindow.ToolWindowHeader$2)\n",
      "2022-11-21 21:12:48,713 [1141581]   WARN - #c.j.p.PhpIndex - Invalid Signature '\\class-string'\n",
      "2022-11-21 21:19:51,616 [1564484] SEVERE - c.j.t.m.TerminalTextBuffer - Attempt to get line out of bounds: 11 >= 11\n",
      "2022-11-21 21:19:51,618 [1564486] SEVERE - c.j.t.m.TerminalTextBuffer - Attempt to get line out of bounds: 11 >= 11\n",
      "2022-11-21 21:19:51,624 [1564492] SEVERE - c.j.t.m.TerminalTextBuffer - Attempt to get line out of bounds: 11 >= 11\n",
      "2022-11-21 21:19:51,625 [1564493] SEVERE - c.j.t.m.TerminalTextBuffer - Attempt to get line out of bounds: 11 >= 11\n",
      "2022-11-21 21:22:36,934 [1729802]   WARN - #c.j.p.PhpIndex - Invalid Signature ';\n",
      "        return $flags;\n",
      "    }\n",
      "\n",
      "}\")'\n",
      "2022-11-21 21:23:24,085 [1776953] SEVERE - c.j.t.m.TerminalTextBuffer - Attempt to get line out of bounds: 11 >= 11\n",
      "2022-11-21 21:23:24,087 [1776955] SEVERE - c.j.t.m.TerminalTextBuffer - Attempt to get line out of bounds: 11 >= 11\n"
     ]
    }
   ],
   "source": [
    "! phpstorm project"
   ]
  },
  {
   "cell_type": "markdown",
   "metadata": {},
   "source": [
    "You can test your solution using included tests:"
   ]
  },
  {
   "cell_type": "code",
   "execution_count": 35,
   "metadata": {},
   "outputs": [
    {
     "name": "stdout",
     "output_type": "stream",
     "text": [
      "/home/student/php_2022_adam_lewinski/07_testing/02_exercise/project\n"
     ]
    }
   ],
   "source": [
    "%cd project"
   ]
  },
  {
   "cell_type": "code",
   "execution_count": 36,
   "metadata": {},
   "outputs": [
    {
     "name": "stdout",
     "output_type": "stream",
     "text": [
      "\u001b[32mInstalling dependencies from lock file (including require-dev)\u001b[39m\n",
      "\u001b[32mVerifying lock file contents can be installed on current platform.\u001b[39m\n",
      "Nothing to install, update or remove\n",
      "\u001b[32mGenerating autoload files\u001b[39m\n",
      "\u001b[32m60 packages you are using are looking for funding.\u001b[39m\n",
      "\u001b[32mUse the `composer fund` command to find out more!\u001b[39m\n"
     ]
    }
   ],
   "source": [
    "! composer install"
   ]
  },
  {
   "cell_type": "code",
   "execution_count": 37,
   "metadata": {},
   "outputs": [
    {
     "name": "stdout",
     "output_type": "stream",
     "text": [
      "\u001b[32mBuilding Actor classes for suites: Acceptance, Unit\u001b[39m\n",
      " -> AcceptanceTesterActions.php generated successfully. 241 methods added\n",
      "\u001b[32mTests\\AcceptanceTester\u001b[39m includes modules: PhpBrowser, Filesystem, Asserts, Db, Redis\n",
      " -> UnitTesterActions.php generated successfully. 137 methods added\n",
      "\u001b[32mTests\\UnitTester\u001b[39m includes modules: Asserts\n"
     ]
    }
   ],
   "source": [
    "! vendor/bin/codecept build"
   ]
  },
  {
   "cell_type": "code",
   "execution_count": 38,
   "metadata": {
    "scrolled": true
   },
   "outputs": [
    {
     "name": "stdout",
     "output_type": "stream",
     "text": [
      "Loaded config \u001b[33mdefault\u001b[39m from \"/home/student/php_2022_adam_lewinski/07_testing/02_exercise/project/./.php-cs-fixer.dist.php\".\n",
      "Using cache file \".php-cs-fixer.cache\".\n",
      "\n",
      "Checked all files in 0.059 seconds, 14.000 MB memory used\n"
     ]
    }
   ],
   "source": [
    "! vendor/bin/php-cs-fixer fix --diff --dry-run ."
   ]
  },
  {
   "cell_type": "code",
   "execution_count": 39,
   "metadata": {},
   "outputs": [
    {
     "name": "stdout",
     "output_type": "stream",
     "text": [
      "  0/64 [░░░░░░░░░░░░░░░░░░░░░░░░░░░░]   0%\u001b[1G\u001b[2K 64/64 [▓▓▓▓▓▓▓▓▓▓▓▓▓▓▓▓▓▓▓▓▓▓▓▓▓▓▓▓] 100%\n",
      "\n",
      " ------ ------------------------------------------------------------- \n",
      "  \u001b[32mLine\u001b[39m   \u001b[32mtests/Acceptance/Test14_LoginLogoutSeeHiddenContentCest.php\u001b[39m  \n",
      " ------ ------------------------------------------------------------- \n",
      "  24     Property Model\\User::$token (string) does not accept null.   \n",
      " ------ ------------------------------------------------------------- \n",
      "\n",
      " ------ -------------------------------------------------------------------- \n",
      "  \u001b[32mLine\u001b[39m   \u001b[32mview/auth/index.php\u001b[39m                                                 \n",
      " ------ -------------------------------------------------------------------- \n",
      "  1      File ends with a trailing whitespace. This may cause problems when  \n",
      "         running the code in the web browser. Remove the closing ?> mark or  \n",
      "         remove the whitespace.                                              \n",
      " ------ -------------------------------------------------------------------- \n",
      "\n",
      "\u001b[37;41m                                                                                \u001b[39;49m\n",
      "\u001b[37;41m [ERROR] Found 2 errors                                                         \u001b[39;49m\n",
      "\u001b[37;41m                                                                                \u001b[39;49m\n",
      "\n"
     ]
    }
   ],
   "source": [
    "! vendor/bin/phpstan analyze --xdebug -c phpstan.neon"
   ]
  },
  {
   "cell_type": "code",
   "execution_count": 40,
   "metadata": {},
   "outputs": [
    {
     "name": "stdout",
     "output_type": "stream",
     "text": [
      "phpcpd 6.0.3 by Sebastian Bergmann.\n",
      "\n",
      "No clones found.\n",
      "\n",
      "Time: 00:00.027, Memory: 4.00 MB\n"
     ]
    }
   ],
   "source": [
    "! vendor/bin/phpcpd . --fuzzy --min-lines 1 --min-tokens 20 --exclude vendor --exclude tests"
   ]
  },
  {
   "cell_type": "code",
   "execution_count": 41,
   "metadata": {},
   "outputs": [
    {
     "name": "stdout",
     "output_type": "stream",
     "text": [
      "Codeception PHP Testing Framework v5.0.4 https://helpukrainewin.org\n",
      "\n",
      "\u001b[1mTests.Unit Tests (24) \u001b[22m----------------------------------------------------------\n",
      "\u001b[32;1m✔\u001b[39;22m \u001b[35;1mTest00_StringEditorCest:\u001b[39;22m Create \u001b[32m(0.00s)\u001b[39m\n",
      "\u001b[32;1m✔\u001b[39;22m \u001b[35;1mTest00_StringEditorCest:\u001b[39;22m Replace word \u001b[32m(0.00s)\u001b[39m\n",
      "\u001b[32;1m✔\u001b[39;22m \u001b[35;1mTest00_StringEditorCest:\u001b[39;22m Lowercase \u001b[32m(0.00s)\u001b[39m\n",
      "\u001b[32;1m✔\u001b[39;22m \u001b[35;1mTest00_StringEditorCest:\u001b[39;22m Uppercase \u001b[32m(0.00s)\u001b[39m\n",
      "\u001b[32;1m✔\u001b[39;22m \u001b[35;1mTest00_StringEditorCest:\u001b[39;22m Replace and upper case \u001b[32m(0.00s)\u001b[39m\n",
      "\u001b[32;1m✔\u001b[39;22m \u001b[35;1mTest00_StringEditorCest:\u001b[39;22m Censor word \u001b[32m(0.00s)\u001b[39m\n",
      "\u001b[32;1m✔\u001b[39;22m \u001b[35;1mTest00_StringEditorCest:\u001b[39;22m Censor short and long words \u001b[32m(0.00s)\u001b[39m\n",
      "\u001b[32;1m✔\u001b[39;22m \u001b[35;1mTest00_StringEditorCest:\u001b[39;22m Repeat word \u001b[32m(0.00s)\u001b[39m\n",
      "\u001b[32;1m✔\u001b[39;22m \u001b[35;1mTest00_StringEditorCest:\u001b[39;22m Remove word \u001b[32m(0.00s)\u001b[39m\n",
      "\u001b[32;1m✔\u001b[39;22m \u001b[35;1mTest00_StringEditorCest:\u001b[39;22m Edit sentence \u001b[32m(0.00s)\u001b[39m\n",
      "\u001b[32;1m✔\u001b[39;22m \u001b[35;1mTest01_RingBufferCest:\u001b[39;22m Create \u001b[32m(0.00s)\u001b[39m\n",
      "\u001b[32;1m✔\u001b[39;22m \u001b[35;1mTest01_RingBufferCest:\u001b[39;22m Should be empty \u001b[32m(0.00s)\u001b[39m\n",
      "\u001b[32;1m✔\u001b[39;22m \u001b[35;1mTest01_RingBufferCest:\u001b[39;22m Capacity \u001b[32m(0.00s)\u001b[39m\n",
      "\u001b[32;1m✔\u001b[39;22m \u001b[35;1mTest01_RingBufferCest:\u001b[39;22m Size should be zero when empty \u001b[32m(0.00s)\u001b[39m\n",
      "\u001b[32;1m✔\u001b[39;22m \u001b[35;1mTest01_RingBufferCest:\u001b[39;22m Push value size should increase \u001b[32m(0.00s)\u001b[39m\n",
      "\u001b[32;1m✔\u001b[39;22m \u001b[35;1mTest01_RingBufferCest:\u001b[39;22m Empty should be false when full \u001b[32m(0.00s)\u001b[39m\n",
      "\u001b[32;1m✔\u001b[39;22m \u001b[35;1mTest01_RingBufferCest:\u001b[39;22m Pop from empty \u001b[32m(0.00s)\u001b[39m\n",
      "\u001b[32;1m✔\u001b[39;22m \u001b[35;1mTest01_RingBufferCest:\u001b[39;22m Push and pop single value \u001b[32m(0.00s)\u001b[39m\n",
      "\u001b[32;1m✔\u001b[39;22m \u001b[35;1mTest01_RingBufferCest:\u001b[39;22m Pop should reduce size \u001b[32m(0.00s)\u001b[39m\n",
      "\u001b[32;1m✔\u001b[39;22m \u001b[35;1mTest01_RingBufferCest:\u001b[39;22m Back should not change buffer \u001b[32m(0.00s)\u001b[39m\n",
      "\u001b[32;1m✔\u001b[39;22m \u001b[35;1mTest01_RingBufferCest:\u001b[39;22m Push multiple times \u001b[32m(0.00s)\u001b[39m\n",
      "\u001b[32;1m✔\u001b[39;22m \u001b[35;1mTest01_RingBufferCest:\u001b[39;22m Multi item buffer \u001b[32m(0.00s)\u001b[39m\n",
      "\u001b[32;1m✔\u001b[39;22m \u001b[35;1mTest01_RingBufferCest:\u001b[39;22m Push and pop all values \u001b[32m(0.00s)\u001b[39m\n",
      "\u001b[32;1m✔\u001b[39;22m \u001b[35;1mTest01_RingBufferCest:\u001b[39;22m Access values by index \u001b[32m(0.00s)\u001b[39m\n",
      "--------------------------------------------------------------------------------\n",
      "Time: 00:00.112, Memory: 8.00 MB\n",
      "\n",
      "\u001b[30;42mOK (24 tests, 75 assertions)\u001b[39;49m\n"
     ]
    }
   ],
   "source": [
    "! vendor/bin/codecept run Unit"
   ]
  },
  {
   "cell_type": "code",
   "execution_count": 42,
   "metadata": {},
   "outputs": [],
   "source": [
    "import subprocess\n",
    "phpServer = subprocess.Popen(['php', '-S', 'localhost:8888', '-t', 'public'])"
   ]
  },
  {
   "cell_type": "code",
   "execution_count": 43,
   "metadata": {},
   "outputs": [
    {
     "name": "stderr",
     "output_type": "stream",
     "text": [
      "[Mon Nov 21 07:06:01 2022] PHP 8.1.12 Development Server (http://localhost:8888) started\n"
     ]
    },
    {
     "name": "stdout",
     "output_type": "stream",
     "text": [
      "Done.\r\n"
     ]
    },
    {
     "name": "stderr",
     "output_type": "stream",
     "text": [
      "[Mon Nov 21 07:06:02 2022] [::1]:33042 Accepted\n",
      "[Mon Nov 21 07:06:02 2022] [::1]:33042 Closed without sending a request; it was probably just an unused speculative preconnection\n",
      "[Mon Nov 21 07:06:02 2022] [::1]:33042 Closing\n"
     ]
    }
   ],
   "source": [
    "! while ! timeout 1 bash -c \"echo > /dev/tcp/localhost/8888\" 2> /dev/null; do sleep 1; done; echo \"Done.\";"
   ]
  },
  {
   "cell_type": "code",
   "execution_count": 44,
   "metadata": {},
   "outputs": [
    {
     "name": "stdout",
     "output_type": "stream",
     "text": [
      "Codeception PHP Testing Framework v5.0.4 https://helpukrainewin.org\n",
      "\n",
      "\u001b[1mTests.Acceptance Tests (15) \u001b[22m----------------------------------------------------\n",
      "\u001b[32;1m✔\u001b[39;22m \u001b[35;1mTest00_PrettyUrlCest:\u001b[39;22m Test \u001b[32m(0.17s)\u001b[39m\n",
      "- \u001b[35;1mTest01_FileStorageCest:\u001b[39;22m Test"
     ]
    },
    {
     "name": "stderr",
     "output_type": "stream",
     "text": [
      "[Mon Nov 21 07:06:03 2022] [::1]:33050 Accepted\n",
      "[Mon Nov 21 07:06:03 2022] [::1]:33050 [200]: GET /\n",
      "[Mon Nov 21 07:06:03 2022] [::1]:33050 Closing\n",
      "[Mon Nov 21 07:06:03 2022] [::1]:33062 Accepted\n",
      "[Mon Nov 21 07:06:03 2022] [::1]:33062 [200]: GET /home\n",
      "[Mon Nov 21 07:06:03 2022] [::1]:33062 Closing\n",
      "[Mon Nov 21 07:06:03 2022] [::1]:33070 Accepted\n",
      "[Mon Nov 21 07:06:03 2022] [::1]:33070 [200]: GET /about\n",
      "[Mon Nov 21 07:06:03 2022] [::1]:33070 Closing\n",
      "[Mon Nov 21 07:06:03 2022] [::1]:33076 Accepted\n",
      "[Mon Nov 21 07:06:03 2022] [::1]:33076 [200]: GET /users\n",
      "[Mon Nov 21 07:06:03 2022] [::1]:33076 Closing\n",
      "[Mon Nov 21 07:06:03 2022] [::1]:33084 Accepted\n",
      "[Mon Nov 21 07:06:03 2022] [::1]:33084 [200]: GET /users/1\n",
      "[Mon Nov 21 07:06:03 2022] [::1]:33084 Closing\n",
      "[Mon Nov 21 07:06:03 2022] [::1]:33088 Accepted\n",
      "[Mon Nov 21 07:06:03 2022] [::1]:33088 [200]: GET /users\n",
      "[Mon Nov 21 07:06:03 2022] [::1]:33088 Closing\n",
      "[Mon Nov 21 07:06:03 2022] [::1]:33092 Accepted\n",
      "[Mon Nov 21 07:06:03 2022] [::1]:33092 [200]: GET /users/2\n",
      "[Mon Nov 21 07:06:03 2022] [::1]:33092 Closing\n",
      "[Mon Nov 21 07:06:03 2022] [::1]:33108 Accepted\n",
      "[Mon Nov 21 07:06:03 2022] [::1]:33108 [200]: GET /users\n",
      "[Mon Nov 21 07:06:03 2022] [::1]:33108 Closing\n",
      "[Mon Nov 21 07:06:03 2022] [::1]:33116 Accepted\n",
      "[Mon Nov 21 07:06:03 2022] [::1]:33116 [200]: GET /users/3\n",
      "[Mon Nov 21 07:06:03 2022] [::1]:33116 Closing\n",
      "[Mon Nov 21 07:06:03 2022] [::1]:33124 Accepted\n",
      "[Mon Nov 21 07:06:03 2022] [::1]:33124 [200]: GET /demo/file\n",
      "[Mon Nov 21 07:06:03 2022] [::1]:33124 Closing\n",
      "[Mon Nov 21 07:06:03 2022] [::1]:33138 Accepted\n",
      "[Mon Nov 21 07:06:03 2022] [::1]:33138 [200]: GET /demo/session\n",
      "[Mon Nov 21 07:06:03 2022] [::1]:33138 Closing\n"
     ]
    },
    {
     "name": "stdout",
     "output_type": "stream",
     "text": [
      "\u001b[32;1m✔\u001b[39;22m \u001b[35;1mTest01_FileStorageCest:\u001b[39;22m Test \u001b[32m(0.03s)\u001b[39m\n",
      "\u001b[32;1m✔\u001b[39;22m \u001b[35;1mTest02_SessionStorageCest:\u001b[39;22m Test \u001b[32m(0.01s)\u001b[39m\n",
      "\u001b[32;1m✔\u001b[39;22m \u001b[35;1mTest03_SQLiteStorageCest:\u001b[39;22m Test \u001b[32m(0.09s)\u001b[39m\n",
      "- \u001b[35;1mTest04_MySQLStorageCest:\u001b[39;22m Test"
     ]
    },
    {
     "name": "stderr",
     "output_type": "stream",
     "text": [
      "[Mon Nov 21 07:06:03 2022] [::1]:33148 Accepted\n",
      "[Mon Nov 21 07:06:03 2022] [::1]:33148 [200]: GET /demo/sqlite\n",
      "[Mon Nov 21 07:06:03 2022] [::1]:33148 Closing\n",
      "[Mon Nov 21 07:06:03 2022] [::1]:33154 Accepted\n"
     ]
    },
    {
     "name": "stdout",
     "output_type": "stream",
     "text": [
      "\u001b[32;1m✔\u001b[39;22m \u001b[35;1mTest04_MySQLStorageCest:\u001b[39;22m Test \u001b[32m(0.27s)\u001b[39m\n",
      "\u001b[32;1m✔\u001b[39;22m \u001b[35;1mTest05_RedisStorageCest:\u001b[39;22m Test \u001b[32m(0.04s)\u001b[39m\n",
      "- \u001b[35;1mTest06_HomepageCest:\u001b[39;22m See welcome message on homepage"
     ]
    },
    {
     "name": "stderr",
     "output_type": "stream",
     "text": [
      "[Mon Nov 21 07:06:03 2022] [::1]:33154 [200]: GET /demo/mysql\n",
      "[Mon Nov 21 07:06:03 2022] [::1]:33154 Closing\n",
      "[Mon Nov 21 07:06:03 2022] [::1]:33162 Accepted\n",
      "[Mon Nov 21 07:06:03 2022] [::1]:33162 [200]: GET /demo/mysql\n",
      "[Mon Nov 21 07:06:03 2022] [::1]:33162 Closing\n",
      "[Mon Nov 21 07:06:03 2022] [::1]:33168 Accepted\n",
      "[Mon Nov 21 07:06:04 2022] [::1]:33168 [200]: GET /demo/redis\n",
      "[Mon Nov 21 07:06:04 2022] [::1]:33168 Closing\n"
     ]
    },
    {
     "name": "stdout",
     "output_type": "stream",
     "text": [
      "\r",
      "\u001b[32;1m✔\u001b[39;22m \u001b[35;1mTest06_HomepageCest:\u001b[39;22m See login and register links \u001b[32m(0.11s)\u001b[39m\r\n",
      "- \u001b[35;1mTest07_RegisterCest:\u001b[39;22m Register new user"
     ]
    },
    {
     "name": "stderr",
     "output_type": "stream",
     "text": [
      "[Mon Nov 21 07:06:04 2022] [::1]:33184 Accepted\n",
      "[Mon Nov 21 07:06:04 2022] [::1]:33184 [200]: GET /\n",
      "[Mon Nov 21 07:06:04 2022] [::1]:33184 Closing\n",
      "[Mon Nov 21 07:06:04 2022] [::1]:33198 Accepted\n",
      "[Mon Nov 21 07:06:04 2022] [::1]:33198 [200]: GET /home\n",
      "[Mon Nov 21 07:06:04 2022] [::1]:33198 Closing\n",
      "[Mon Nov 21 07:06:04 2022] [::1]:33200 Accepted\n",
      "[Mon Nov 21 07:06:04 2022] [::1]:33200 [200]: GET /\n",
      "[Mon Nov 21 07:06:04 2022] [::1]:33200 Closing\n",
      "[Mon Nov 21 07:06:04 2022] [::1]:33212 Accepted\n",
      "[Mon Nov 21 07:06:04 2022] [::1]:33212 [200]: GET /auth/register\n",
      "[Mon Nov 21 07:06:04 2022] [::1]:33212 Closing\n",
      "[Mon Nov 21 07:06:04 2022] [::1]:33216 Accepted\n",
      "[Mon Nov 21 07:06:04 2022] [::1]:33216 [302]: POST /auth/register\n",
      "[Mon Nov 21 07:06:04 2022] [::1]:33216 Closing\n",
      "[Mon Nov 21 07:06:04 2022] [::1]:33224 Accepted\n",
      "[Mon Nov 21 07:06:04 2022] [::1]:33224 [200]: GET /auth/confirmation_notice\n",
      "[Mon Nov 21 07:06:04 2022] [::1]:33224 Closing\n"
     ]
    },
    {
     "name": "stdout",
     "output_type": "stream",
     "text": [
      "\u001b[32;1m✔\u001b[39;22m \u001b[35;1mTest07_RegisterCest:\u001b[39;22m Register new user \u001b[32m(0.52s)\u001b[39m\n",
      "\u001b[32;1m✔\u001b[39;22m \u001b[35;1mTest08_RegisterValidationCest:\u001b[39;22m Validate data entered during registration \u001b[32m(0.22s)\u001b[39m\n",
      "- \u001b[35;1mTest09_RegisterRememberFieldsCest:\u001b[39;22m Remember data entered during registration when validation error is present"
     ]
    },
    {
     "name": "stderr",
     "output_type": "stream",
     "text": [
      "[Mon Nov 21 07:06:04 2022] [::1]:33234 Accepted\n",
      "[Mon Nov 21 07:06:04 2022] [::1]:33234 [200]: GET /auth/register\n",
      "[Mon Nov 21 07:06:04 2022] [::1]:33234 Closing\n",
      "[Mon Nov 21 07:06:04 2022] [::1]:33240 Accepted\n",
      "[Mon Nov 21 07:06:04 2022] [::1]:33240 [200]: POST /auth/register\n",
      "[Mon Nov 21 07:06:04 2022] [::1]:33240 Closing\n",
      "[Mon Nov 21 07:06:04 2022] [::1]:33252 Accepted\n",
      "[Mon Nov 21 07:06:04 2022] [::1]:33252 [200]: POST /auth/register\n",
      "[Mon Nov 21 07:06:04 2022] [::1]:33252 Closing\n",
      "[Mon Nov 21 07:06:04 2022] [::1]:33256 Accepted\n",
      "[Mon Nov 21 07:06:04 2022] [::1]:33256 [200]: GET /auth/register\n",
      "[Mon Nov 21 07:06:04 2022] [::1]:33256 Closing\n",
      "[Mon Nov 21 07:06:04 2022] [::1]:33272 Accepted\n",
      "[Mon Nov 21 07:06:04 2022] [::1]:33272 [200]: POST /auth/register\n",
      "[Mon Nov 21 07:06:04 2022] [::1]:33272 Closing\n",
      "[Mon Nov 21 07:06:04 2022] [::1]:33278 Accepted\n",
      "[Mon Nov 21 07:06:04 2022] [::1]:33278 [200]: POST /auth/register\n",
      "[Mon Nov 21 07:06:04 2022] [::1]:33278 Closing\n",
      "[Mon Nov 21 07:06:05 2022] [::1]:33286 Accepted\n",
      "[Mon Nov 21 07:06:05 2022] [::1]:33286 [200]: POST /auth/register\n",
      "[Mon Nov 21 07:06:05 2022] [::1]:33286 Closing\n"
     ]
    },
    {
     "name": "stdout",
     "output_type": "stream",
     "text": [
      "\r",
      "\u001b[32;1m✔\u001b[39;22m \u001b[35;1mTest09_RegisterRememberFieldsCest:\u001b[39;22m Remember data entered during registration when validation error is present \u001b[32m(0.25s)\u001b[39m\r\n",
      "- \u001b[35;1mTest10_RegisterConfirmCest:\u001b[39;22m Confirm user using link"
     ]
    },
    {
     "name": "stderr",
     "output_type": "stream",
     "text": [
      "[Mon Nov 21 07:06:05 2022] [::1]:33300 Accepted\n",
      "[Mon Nov 21 07:06:05 2022] [::1]:33300 [200]: POST /auth/register\n",
      "[Mon Nov 21 07:06:05 2022] [::1]:33300 Closing\n",
      "[Mon Nov 21 07:06:05 2022] [::1]:33312 Accepted\n",
      "[Mon Nov 21 07:06:05 2022] [::1]:33312 [200]: POST /auth/register\n",
      "[Mon Nov 21 07:06:05 2022] [::1]:33312 Closing\n",
      "[Mon Nov 21 07:06:05 2022] [::1]:33322 Accepted\n",
      "[Mon Nov 21 07:06:05 2022] [::1]:33322 [200]: GET /auth/register\n",
      "[Mon Nov 21 07:06:05 2022] [::1]:33322 Closing\n"
     ]
    },
    {
     "name": "stdout",
     "output_type": "stream",
     "text": [
      "\u001b[31;1m✖\u001b[39;22m \u001b[35;1mTest10_RegisterConfirmCest:\u001b[39;22m See an error when token is invalid \u001b[32m(0.23s)\u001b[39m\n",
      "\u001b[31;1m✖\u001b[39;22m \u001b[35;1mTest11_LoginNotExistingCest:\u001b[39;22m See error when user does not exists \u001b[32m(0.08s)\u001b[39m\n",
      "\u001b[31;1m✖\u001b[39;22m \u001b[35;1mTest12_LoginWrongPasswordCest:\u001b[39;22m See error when wrong password is entered \u001b[32m(0.07s)\u001b[39m\n",
      "- \u001b[35;1mTest13_LoginNotConfirmedCest:\u001b[39;22m Be remained about email confirmation when trying to login"
     ]
    },
    {
     "name": "stderr",
     "output_type": "stream",
     "text": [
      "[Mon Nov 21 07:06:05 2022] [::1]:33326 Accepted\n",
      "[Mon Nov 21 07:06:05 2022] [::1]:33326 [302]: GET /auth/confirm/ThisIsAnInvalidEmailConfirmationToken\n",
      "[Mon Nov 21 07:06:05 2022] [::1]:33326 Closing\n",
      "[Mon Nov 21 07:06:05 2022] [::1]:33342 Accepted\n",
      "[Mon Nov 21 07:06:05 2022] [::1]:33342 [200]: GET /\n",
      "[Mon Nov 21 07:06:05 2022] [::1]:33342 Closing\n",
      "[Mon Nov 21 07:06:05 2022] [::1]:33356 Accepted\n",
      "[Mon Nov 21 07:06:05 2022] [::1]:33356 [200]: GET /auth/login\n",
      "[Mon Nov 21 07:06:05 2022] [::1]:33356 Closing\n",
      "[Mon Nov 21 07:06:05 2022] [::1]:33360 Accepted\n",
      "[Mon Nov 21 07:06:05 2022] [::1]:33360 [200]: GET /auth/login\n",
      "[Mon Nov 21 07:06:05 2022] [::1]:33360 Closing\n"
     ]
    },
    {
     "name": "stdout",
     "output_type": "stream",
     "text": [
      "\r",
      "\u001b[31;1m✖\u001b[39;22m \u001b[35;1mTest13_LoginNotConfirmedCest:\u001b[39;22m Be remained about email confirmation when trying to login \u001b[32m(0.08s)\u001b[39m\r\n",
      "- \u001b[35;1mTest14_LoginLogoutSeeHiddenContentCest:\u001b[39;22m See hidden content after login"
     ]
    },
    {
     "name": "stderr",
     "output_type": "stream",
     "text": [
      "[Mon Nov 21 07:06:05 2022] [::1]:33374 Accepted\n",
      "[Mon Nov 21 07:06:05 2022] [::1]:33374 [200]: GET /auth/login\n",
      "[Mon Nov 21 07:06:05 2022] [::1]:33374 Closing\n"
     ]
    },
    {
     "name": "stdout",
     "output_type": "stream",
     "text": [
      "\r",
      "\u001b[31;1mE\u001b[39;22m \u001b[35;1mTest14_LoginLogoutSeeHiddenContentCest:\u001b[39;22m See hidden content after login \u001b[32m(0.20s)\u001b[39m\r\n",
      "--------------------------------------------------------------------------------\r\n",
      "Time: 00:02.560, Memory: 12.00 MB\r\n",
      "\r\n",
      "There was 1 error:\r\n",
      "1) \u001b[35;1mTest14_LoginLogoutSeeHiddenContentCest:\u001b[39;22m See hidden content after login\r\n",
      "\u001b[37;41;1m Test  \u001b[39;49;22mtests/Acceptance/Test14_LoginLogoutSeeHiddenContentCest.php:test\r\n",
      "\u001b[37;41;1m                                                                                \u001b[39;49;22m\r\n",
      "\u001b[37;41;1m  [TypeError] Cannot assign null to property Model\\User::$token of type string  \u001b[39;49;22m\r\n",
      "\u001b[37;41;1m                                                                                \u001b[39;49;22m\r\n",
      "#1  /home/student/php_2022_adam_lewinski/07_testing/02_exercise/project/tests/Acceptance/Test14_LoginLogoutSeeHiddenContentCest.php:24\r\n",
      "#2  Tests\\Acceptance\\Test14_LoginLogoutSeeHiddenContentCest->test\r\n",
      "#3  /home/student/php_2022_adam_lewinski/07_testing/02_exercise/project/vendor/bin/codecept:120\r\n",
      "\r\n",
      "---------\r\n",
      "\r\n",
      "There were 4 failures:\r\n",
      "1) \u001b[35;1mTest10_RegisterConfirmCest:\u001b[39;22m See an error when token is invalid\r\n",
      "\u001b[37;41;1m Test  \u001b[39;49;22mtests/Acceptance/Test10_RegisterConfirmCest.php:test\r\n",
      "\u001b[37;41;1m Step \u001b[39;49;22m See in title \"Login\"\r\n",
      "\u001b[37;41;1m Fail \u001b[39;49;22m Element located either by name, CSS or XPath element with 'li.error' was not found.\r\n",
      "\u001b[33m\r\n",
      "Scenario Steps:\r\n",
      "\u001b[39m\r\n",
      "\u001b[1m 4. $I->see(\"Provided token is invalid!\",\"li.error\")\u001b[22m at \u001b[32mtests/Acceptance/Test10_RegisterConfirmCest.php:37\u001b[39m\r\n",
      " 3. $I->seeCurrentUrlEquals(\"/\") at \u001b[32mtests/Acceptance/Test10_RegisterConfirmCest.php:36\u001b[39m\r\n",
      " 2. $I->amOnPage(\"/auth/confirm/ThisIsAnInvalidEmailConfirmationToken\") at \u001b[32mtests/Acceptance/Test10_RegisterConfirmCest.php:34\u001b[39m\r\n",
      " 1. $I->haveInDatabase(\"objects\",{\"key\":\"model_user_1\",\"data\":\"O:10:\"Model\\...}) at \u001b[32mtests/Acceptance/Test10_RegisterConfirmCest.php:29\u001b[39m\r\n",
      "\r\n",
      "\u001b[33mArtifacts:\u001b[39m\r\n",
      "\r\n",
      "Html: \u001b[36m/home/student/php_2022_adam_lewinski/07_testing/02_exercise/project/tests/_output/Tests.Acceptance.Test10_RegisterConfirmCest.test.fail.html\u001b[39m\r\n",
      "Response: \u001b[36m/home/student/php_2022_adam_lewinski/07_testing/02_exercise/project/tests/_output/Tests.Acceptance.Test10_RegisterConfirmCest.test.fail.html\u001b[39m\r\n",
      "2) \u001b[35;1mTest11_LoginNotExistingCest:\u001b[39;22m See error when user does not exists\r\n",
      "\u001b[37;41;1m Test  \u001b[39;49;22mtests/Acceptance/Test11_LoginNotExistingCest.php:test\r\n",
      "\u001b[37;41;1m Step \u001b[39;49;22m See in title \"Login\"\r\n",
      "\u001b[37;41;1m Fail \u001b[39;49;22m page title contains Login\r\n",
      "Failed asserting that '404' contains \"Login\".\r\n",
      "\u001b[33m\r\n",
      "Scenario Steps:\r\n",
      "\u001b[39m\r\n",
      "\u001b[1m 2. $I->seeInTitle(\"Login\")\u001b[22m at \u001b[32mtests/Acceptance/Test11_LoginNotExistingCest.php:18\u001b[39m\r\n",
      " 1. $I->amOnPage(\"/auth/login\") at \u001b[32mtests/Acceptance/Test11_LoginNotExistingCest.php:16\u001b[39m\r\n",
      "\r\n",
      "\u001b[33mArtifacts:\u001b[39m\r\n",
      "\r\n",
      "Html: \u001b[36m/home/student/php_2022_adam_lewinski/07_testing/02_exercise/project/tests/_output/Tests.Acceptance.Test11_LoginNotExistingCest.test.fail.html\u001b[39m\r\n",
      "Response: \u001b[36m/home/student/php_2022_adam_lewinski/07_testing/02_exercise/project/tests/_output/Tests.Acceptance.Test11_LoginNotExistingCest.test.fail.html\u001b[39m\r\n",
      "3) \u001b[35;1mTest12_LoginWrongPasswordCest:\u001b[39;22m See error when wrong password is entered\r\n",
      "\u001b[37;41;1m Test  \u001b[39;49;22mtests/Acceptance/Test12_LoginWrongPasswordCest.php:test\r\n",
      "\u001b[37;41;1m Step \u001b[39;49;22m See in title \"Login\"\r\n",
      "\u001b[37;41;1m Fail \u001b[39;49;22m page title contains Login\r\n",
      "Failed asserting that '404' contains \"Login\".\r\n",
      "\u001b[33m\r\n",
      "Scenario Steps:\r\n",
      "\u001b[39m\r\n",
      "\u001b[1m 2. $I->seeInTitle(\"Login\")\u001b[22m at \u001b[32mtests/Acceptance/Test12_LoginWrongPasswordCest.php:19\u001b[39m\r\n",
      " 1. $I->amOnPage(\"/auth/login\") at \u001b[32mtests/Acceptance/Test12_LoginWrongPasswordCest.php:17\u001b[39m\r\n",
      "\r\n",
      "\u001b[33mArtifacts:\u001b[39m\r\n",
      "\r\n",
      "Html: \u001b[36m/home/student/php_2022_adam_lewinski/07_testing/02_exercise/project/tests/_output/Tests.Acceptance.Test12_LoginWrongPasswordCest.test.fail.html\u001b[39m\r\n",
      "Response: \u001b[36m/home/student/php_2022_adam_lewinski/07_testing/02_exercise/project/tests/_output/Tests.Acceptance.Test12_LoginWrongPasswordCest.test.fail.html\u001b[39m\r\n",
      "4) \u001b[35;1mTest13_LoginNotConfirmedCest:\u001b[39;22m Be remained about email confirmation when trying to login\r\n",
      "\u001b[37;41;1m Test  \u001b[39;49;22mtests/Acceptance/Test13_LoginNotConfirmedCest.php:test\r\n",
      "page title contains Login\r\n",
      "Failed asserting that '404' contains \"Login\".\r\n",
      "\u001b[33m\r\n",
      "Scenario Steps:\r\n",
      "\u001b[39m\r\n",
      "\u001b[1m 2. $I->seeInTitle(\"Login\")\u001b[22m at \u001b[32mtests/Acceptance/Test13_LoginNotConfirmedCest.php:18\u001b[39m\r\n",
      " 1. $I->amOnPage(\"/auth/login\") at \u001b[32mtests/Acceptance/Test13_LoginNotConfirmedCest.php:16\u001b[39m\r\n",
      "\r\n",
      "\u001b[33mArtifacts:\u001b[39m\r\n",
      "\r\n",
      "Html: \u001b[36m/home/student/php_2022_adam_lewinski/07_testing/02_exercise/project/tests/_output/Tests.Acceptance.Test13_LoginNotConfirmedCest.test.fail.html\u001b[39m\r\n",
      "Response: \u001b[36m/home/student/php_2022_adam_lewinski/07_testing/02_exercise/project/tests/_output/Tests.Acceptance.Test13_LoginNotConfirmedCest.test.fail.html\u001b[39m\r\n",
      "\r\n",
      "\u001b[37;41;1mERRORS!\u001b[39;49;22m\r\n",
      "\u001b[37;41;1mTests: 15, Assertions: 239, Errors: 1, Failures: 4.\u001b[39;49;22m\r\n"
     ]
    }
   ],
   "source": [
    "! vendor/bin/codecept run Acceptance"
   ]
  },
  {
   "cell_type": "code",
   "execution_count": 45,
   "metadata": {},
   "outputs": [
    {
     "name": "stdout",
     "output_type": "stream",
     "text": [
      "Codeception PHP Testing Framework v5.0.4 https://helpukrainewin.org\n",
      "\n",
      "\u001b[1mTests.Acceptance Tests (15) \u001b[22m----------------------------------------------------\n",
      "\u001b[32;1m✔\u001b[39;22m \u001b[35;1mTest00_PrettyUrlCest:\u001b[39;22m Test \u001b[32m(0.13s)\u001b[39m\n",
      "\u001b[32;1m✔\u001b[39;22m \u001b[35;1mTest01_FileStorageCest:\u001b[39;22m Test \u001b[32m(0.04s)\u001b[39m\n",
      "\u001b[32;1m✔\u001b[39;22m essionStorageCest:\u001b[39;22m Test"
     ]
    },
    {
     "name": "stderr",
     "output_type": "stream",
     "text": [
      "[Mon Nov 21 07:06:06 2022] [::1]:33378 Accepted\n",
      "[Mon Nov 21 07:06:06 2022] [::1]:33378 [200]: GET /\n",
      "[Mon Nov 21 07:06:06 2022] [::1]:33378 Closing\n",
      "[Mon Nov 21 07:06:06 2022] [::1]:33392 Accepted\n",
      "[Mon Nov 21 07:06:06 2022] [::1]:33392 [200]: GET /home\n",
      "[Mon Nov 21 07:06:06 2022] [::1]:33392 Closing\n",
      "[Mon Nov 21 07:06:06 2022] [::1]:33394 Accepted\n",
      "[Mon Nov 21 07:06:06 2022] [::1]:33394 [200]: GET /about\n",
      "[Mon Nov 21 07:06:06 2022] [::1]:33394 Closing\n",
      "[Mon Nov 21 07:06:06 2022] [::1]:33408 Accepted\n",
      "[Mon Nov 21 07:06:06 2022] [::1]:33408 [200]: GET /users\n",
      "[Mon Nov 21 07:06:06 2022] [::1]:33408 Closing\n",
      "[Mon Nov 21 07:06:06 2022] [::1]:33418 Accepted\n",
      "[Mon Nov 21 07:06:06 2022] [::1]:33418 [200]: GET /users/1\n",
      "[Mon Nov 21 07:06:06 2022] [::1]:33418 Closing\n",
      "[Mon Nov 21 07:06:06 2022] [::1]:33430 Accepted\n",
      "[Mon Nov 21 07:06:06 2022] [::1]:33430 [200]: GET /users\n",
      "[Mon Nov 21 07:06:06 2022] [::1]:33430 Closing\n",
      "[Mon Nov 21 07:06:06 2022] [::1]:33446 Accepted\n",
      "[Mon Nov 21 07:06:06 2022] [::1]:33446 [200]: GET /users/2\n",
      "[Mon Nov 21 07:06:06 2022] [::1]:33446 Closing\n",
      "[Mon Nov 21 07:06:06 2022] [::1]:33460 Accepted\n",
      "[Mon Nov 21 07:06:06 2022] [::1]:33460 [200]: GET /users\n",
      "[Mon Nov 21 07:06:06 2022] [::1]:33460 Closing\n",
      "[Mon Nov 21 07:06:06 2022] [::1]:33466 Accepted\n",
      "[Mon Nov 21 07:06:06 2022] [::1]:33466 [200]: GET /users/3\n",
      "[Mon Nov 21 07:06:06 2022] [::1]:33466 Closing\n",
      "[Mon Nov 21 07:06:06 2022] [::1]:33476 Accepted\n",
      "[Mon Nov 21 07:06:06 2022] [::1]:33476 [200]: GET /demo/file\n",
      "[Mon Nov 21 07:06:06 2022] [::1]:33476 Closing\n",
      "[Mon Nov 21 07:06:06 2022] [::1]:33486 Accepted\n",
      "[Mon Nov 21 07:06:06 2022] [::1]:33486 [200]: GET /demo/session\n",
      "[Mon Nov 21 07:06:06 2022] [::1]:33486 Closing\n",
      "[Mon Nov 21 07:06:06 2022] [::1]:33490 Accepted\n"
     ]
    },
    {
     "name": "stdout",
     "output_type": "stream",
     "text": [
      "\u001b[35;1mTest02_SessionStorageCest:\u001b[39;22m Test \u001b[32m(0.02s)\u001b[39m\n",
      "\u001b[32;1m✔\u001b[39;22m \u001b[35;1mTest03_SQLiteStorageCest:\u001b[39;22m Test \u001b[32m(0.10s)\u001b[39m\n",
      "- \u001b[35;1mTest04_MySQLStorageCest:\u001b[39;22m Test"
     ]
    },
    {
     "name": "stderr",
     "output_type": "stream",
     "text": [
      "[Mon Nov 21 07:06:06 2022] [::1]:33490 [200]: GET /demo/sqlite\n",
      "[Mon Nov 21 07:06:06 2022] [::1]:33490 Closing\n",
      "[Mon Nov 21 07:06:06 2022] [::1]:33506 Accepted\n",
      "[Mon Nov 21 07:06:06 2022] [::1]:33506 [200]: GET /demo/mysql\n",
      "[Mon Nov 21 07:06:06 2022] [::1]:33506 Closing\n"
     ]
    },
    {
     "name": "stdout",
     "output_type": "stream",
     "text": [
      "\u001b[32;1m✔\u001b[39;22m \u001b[35;1mTest04_MySQLStorageCest:\u001b[39;22m Test \u001b[32m(0.29s)\u001b[39m\n",
      "\u001b[32;1m✔\u001b[39;22m \u001b[35;1mTest05_RedisStorageCest:\u001b[39;22m Test \u001b[32m(0.05s)\u001b[39m\n",
      "- \u001b[35;1mTest06_HomepageCest:\u001b[39;22m See welcome message on homepage"
     ]
    },
    {
     "name": "stderr",
     "output_type": "stream",
     "text": [
      "[Mon Nov 21 07:06:06 2022] [::1]:33522 Accepted\n",
      "[Mon Nov 21 07:06:06 2022] [::1]:33522 [200]: GET /demo/mysql\n",
      "[Mon Nov 21 07:06:06 2022] [::1]:33522 Closing\n",
      "[Mon Nov 21 07:06:06 2022] [::1]:33538 Accepted\n",
      "[Mon Nov 21 07:06:06 2022] [::1]:33538 [200]: GET /demo/redis\n",
      "[Mon Nov 21 07:06:06 2022] [::1]:33538 Closing\n"
     ]
    },
    {
     "name": "stdout",
     "output_type": "stream",
     "text": [
      "\r",
      "\u001b[32;1m✔\u001b[39;22m \u001b[35;1mTest06_HomepageCest:\u001b[39;22m See login and register links \u001b[32m(0.12s)\u001b[39m\r\n",
      "- \u001b[35;1mTest07_RegisterCest:\u001b[39;22m Register new user"
     ]
    },
    {
     "name": "stderr",
     "output_type": "stream",
     "text": [
      "[Mon Nov 21 07:06:07 2022] [::1]:33548 Accepted\n",
      "[Mon Nov 21 07:06:07 2022] [::1]:33548 [200]: GET /\n",
      "[Mon Nov 21 07:06:07 2022] [::1]:33548 Closing\n",
      "[Mon Nov 21 07:06:07 2022] [::1]:33552 Accepted\n",
      "[Mon Nov 21 07:06:07 2022] [::1]:33552 [200]: GET /home\n",
      "[Mon Nov 21 07:06:07 2022] [::1]:33552 Closing\n",
      "[Mon Nov 21 07:06:07 2022] [::1]:33568 Accepted\n",
      "[Mon Nov 21 07:06:07 2022] [::1]:33568 [200]: GET /\n",
      "[Mon Nov 21 07:06:07 2022] [::1]:33568 Closing\n",
      "[Mon Nov 21 07:06:07 2022] [::1]:33576 Accepted\n",
      "[Mon Nov 21 07:06:07 2022] [::1]:33576 [200]: GET /auth/register\n",
      "[Mon Nov 21 07:06:07 2022] [::1]:33576 Closing\n",
      "[Mon Nov 21 07:06:07 2022] [::1]:33580 Accepted\n",
      "[Mon Nov 21 07:06:07 2022] [::1]:33580 [302]: POST /auth/register\n",
      "[Mon Nov 21 07:06:07 2022] [::1]:33580 Closing\n",
      "[Mon Nov 21 07:06:07 2022] [::1]:33592 Accepted\n",
      "[Mon Nov 21 07:06:07 2022] [::1]:33592 [200]: GET /auth/confirmation_notice\n",
      "[Mon Nov 21 07:06:07 2022] [::1]:33592 Closing\n"
     ]
    },
    {
     "name": "stdout",
     "output_type": "stream",
     "text": [
      "\u001b[32;1m✔\u001b[39;22m \u001b[35;1mTest07_RegisterCest:\u001b[39;22m Register new user \u001b[32m(0.54s)\u001b[39m\n",
      "\u001b[32;1m✔\u001b[39;22m \u001b[35;1mTest08_RegisterValidationCest:\u001b[39;22m Validate data entered during registration \u001b[32m(0.18s)\u001b[39m\n",
      "- \u001b[35;1mTest09_RegisterRememberFieldsCest:\u001b[39;22m Remember data entered during registration when validation error is present"
     ]
    },
    {
     "name": "stderr",
     "output_type": "stream",
     "text": [
      "[Mon Nov 21 07:06:07 2022] [::1]:33608 Accepted\n",
      "[Mon Nov 21 07:06:07 2022] [::1]:33608 [200]: GET /auth/register\n",
      "[Mon Nov 21 07:06:07 2022] [::1]:33608 Closing\n",
      "[Mon Nov 21 07:06:07 2022] [::1]:33612 Accepted\n",
      "[Mon Nov 21 07:06:07 2022] [::1]:33612 [200]: POST /auth/register\n",
      "[Mon Nov 21 07:06:07 2022] [::1]:33612 Closing\n",
      "[Mon Nov 21 07:06:07 2022] [::1]:33618 Accepted\n",
      "[Mon Nov 21 07:06:07 2022] [::1]:33618 [200]: POST /auth/register\n",
      "[Mon Nov 21 07:06:07 2022] [::1]:33618 Closing\n",
      "[Mon Nov 21 07:06:07 2022] [::1]:33630 Accepted\n",
      "[Mon Nov 21 07:06:07 2022] [::1]:33630 [200]: GET /auth/register\n",
      "[Mon Nov 21 07:06:07 2022] [::1]:33630 Closing\n",
      "[Mon Nov 21 07:06:07 2022] [::1]:33636 Accepted\n",
      "[Mon Nov 21 07:06:07 2022] [::1]:33636 [200]: POST /auth/register\n",
      "[Mon Nov 21 07:06:07 2022] [::1]:33636 Closing\n",
      "[Mon Nov 21 07:06:07 2022] [::1]:33646 Accepted\n",
      "[Mon Nov 21 07:06:07 2022] [::1]:33646 [200]: POST /auth/register\n",
      "[Mon Nov 21 07:06:07 2022] [::1]:33646 Closing\n",
      "[Mon Nov 21 07:06:08 2022] [::1]:33658 Accepted\n",
      "[Mon Nov 21 07:06:08 2022] [::1]:33658 [200]: POST /auth/register\n",
      "[Mon Nov 21 07:06:08 2022] [::1]:33658 Closing\n",
      "[Mon Nov 21 07:06:08 2022] [::1]:33674 Accepted\n",
      "[Mon Nov 21 07:06:08 2022] [::1]:33674 [200]: POST /auth/register\n",
      "[Mon Nov 21 07:06:08 2022] [::1]:33674 Closing\n",
      "[Mon Nov 21 07:06:08 2022] [::1]:33688 Accepted\n",
      "[Mon Nov 21 07:06:08 2022] [::1]:33688 [200]: POST /auth/register\n",
      "[Mon Nov 21 07:06:08 2022] [::1]:33688 Closing\n",
      "[Mon Nov 21 07:06:08 2022] [::1]:33696 Accepted\n",
      "[Mon Nov 21 07:06:08 2022] [::1]:33696 [200]: GET /auth/register\n",
      "[Mon Nov 21 07:06:08 2022] [::1]:33696 Closing\n"
     ]
    },
    {
     "name": "stdout",
     "output_type": "stream",
     "text": [
      "\u001b[32;1m✔\u001b[39;22m \u001b[35;1mTest09_RegisterRememberFieldsCest:\u001b[39;22m Remember data entered during registration when validation error is present \u001b[32m(0.33s)\u001b[39m\n",
      "\u001b[31;1m✖\u001b[39;22m \u001b[35;1mTest10_RegisterConfirmCest:\u001b[39;22m See an error when token is invalid \u001b[32m(0.27s)\u001b[39m\n",
      "\u001b[31;1m✖\u001b[39;22m oginNotExistingCest:\u001b[39;22m See error when user does not exists"
     ]
    },
    {
     "name": "stderr",
     "output_type": "stream",
     "text": [
      "[Mon Nov 21 07:06:08 2022] [::1]:33710 Accepted\n",
      "[Mon Nov 21 07:06:08 2022] [::1]:33710 [302]: GET /auth/confirm/ThisIsAnInvalidEmailConfirmationToken\n",
      "[Mon Nov 21 07:06:08 2022] [::1]:33710 Closing\n",
      "[Mon Nov 21 07:06:08 2022] [::1]:33724 Accepted\n",
      "[Mon Nov 21 07:06:08 2022] [::1]:33724 [200]: GET /\n",
      "[Mon Nov 21 07:06:08 2022] [::1]:33724 Closing\n",
      "[Mon Nov 21 07:06:08 2022] [::1]:33736 Accepted\n",
      "[Mon Nov 21 07:06:08 2022] [::1]:33736 [200]: GET /auth/login\n",
      "[Mon Nov 21 07:06:08 2022] [::1]:33736 Closing\n"
     ]
    },
    {
     "name": "stdout",
     "output_type": "stream",
     "text": [
      "\u001b[35;1mTest11_LoginNotExistingCest:\u001b[39;22m See error when user does not exists \u001b[32m(0.12s)\u001b[39m\n",
      "\u001b[31;1m✖\u001b[39;22m \u001b[35;1mTest12_LoginWrongPasswordCest:\u001b[39;22m See error when wrong password is entered \u001b[32m(0.13s)\u001b[39m\n",
      "\u001b[31;1m✖\u001b[39;22m \u001b[35;1mTest13_LoginNotConfirmedCest:\u001b[39;22m Be remained about email confirmation when trying to login \u001b[32m(0.10s)\u001b[39m\n",
      "- \u001b[35;1mTest14_LoginLogoutSeeHiddenContentCest:\u001b[39;22m See hidden content after login"
     ]
    },
    {
     "name": "stderr",
     "output_type": "stream",
     "text": [
      "[Mon Nov 21 07:06:08 2022] [::1]:33738 Accepted\n",
      "[Mon Nov 21 07:06:08 2022] [::1]:33738 [200]: GET /auth/login\n",
      "[Mon Nov 21 07:06:08 2022] [::1]:33738 Closing\n",
      "[Mon Nov 21 07:06:08 2022] [::1]:33744 Accepted\n",
      "[Mon Nov 21 07:06:08 2022] [::1]:33744 [200]: GET /auth/login\n",
      "[Mon Nov 21 07:06:08 2022] [::1]:33744 Closing\n"
     ]
    },
    {
     "name": "stdout",
     "output_type": "stream",
     "text": [
      "\u001b[31;1mE\u001b[39;22m \u001b[35;1mTest14_LoginLogoutSeeHiddenContentCest:\u001b[39;22m See hidden content after login \u001b[32m(0.27s)\u001b[39m\n",
      "--------------------------------------------------------------------------------\n",
      "Time: 00:02.916, Memory: 12.00 MB\n",
      "\n",
      "There was 1 error:\n",
      "1) \u001b[35;1mTest14_LoginLogoutSeeHiddenContentCest:\u001b[39;22m See hidden content after login\n",
      "\u001b[37;41;1m Test  \u001b[39;49;22mtests/Acceptance/Test14_LoginLogoutSeeHiddenContentCest.php:test\n",
      "\u001b[37;41;1m                                                                                \u001b[39;49;22m\n",
      "\u001b[37;41;1m  [TypeError] Cannot assign null to property Model\\User::$token of type string  \u001b[39;49;22m\n",
      "\u001b[37;41;1m                                                                                \u001b[39;49;22m\n",
      "#1  /home/student/php_2022_adam_lewinski/07_testing/02_exercise/project/tests/Acceptance/Test14_LoginLogoutSeeHiddenContentCest.php:24\n",
      "#2  Tests\\Acceptance\\Test14_LoginLogoutSeeHiddenContentCest->test\n",
      "#3  /home/student/php_2022_adam_lewinski/07_testing/02_exercise/project/vendor/bin/codecept:120\n",
      "\n",
      "---------\n",
      "\n",
      "There were 4 failures:\n",
      "1) \u001b[35;1mTest10_RegisterConfirmCest:\u001b[39;22m See an error when token is invalid\n",
      "\u001b[37;41;1m Test  \u001b[39;49;22mtests/Acceptance/Test10_RegisterConfirmCest.php:test\n",
      "\u001b[37;41;1m Step \u001b[39;49;22m See in title \"Login\"\n",
      "\u001b[37;41;1m Fail \u001b[39;49;22m Element located either by name, CSS or XPath element with 'li.error' was not found.\n",
      "\u001b[33m\n",
      "Scenario Steps:\n",
      "\u001b[39m\n",
      "\u001b[1m 4. $I->see(\"Provided token is invalid!\",\"li.error\")\u001b[22m at \u001b[32mtests/Acceptance/Test10_RegisterConfirmCest.php:37\u001b[39m\n",
      " 3. $I->seeCurrentUrlEquals(\"/\") at \u001b[32mtests/Acceptance/Test10_RegisterConfirmCest.php:36\u001b[39m\n",
      " 2. $I->amOnPage(\"/auth/confirm/ThisIsAnInvalidEmailConfirmationToken\") at \u001b[32mtests/Acceptance/Test10_RegisterConfirmCest.php:34\u001b[39m\n",
      " 1. $I->haveInDatabase(\"objects\",{\"key\":\"model_user_1\",\"data\":\"O:10:\"Model\\...}) at \u001b[32mtests/Acceptance/Test10_RegisterConfirmCest.php:29\u001b[39m\n",
      "\n",
      "\u001b[33mArtifacts:\u001b[39m\n",
      "\n",
      "Html: \u001b[36m/home/student/php_2022_adam_lewinski/07_testing/02_exercise/project/tests/_output/Tests.Acceptance.Test10_RegisterConfirmCest.test.fail.html\u001b[39m\n",
      "Response: \u001b[36m/home/student/php_2022_adam_lewinski/07_testing/02_exercise/project/tests/_output/Tests.Acceptance.Test10_RegisterConfirmCest.test.fail.html\u001b[39m\n",
      "2) \u001b[35;1mTest11_LoginNotExistingCest:\u001b[39;22m See error when user does not exists\n",
      "\u001b[37;41;1m Test  \u001b[39;49;22mtests/Acceptance/Test11_LoginNotExistingCest.php:test\n",
      "\u001b[37;41;1m Step \u001b[39;49;22m See in title \"Login\"\n",
      "\u001b[37;41;1m Fail \u001b[39;49;22m page title contains Login\n",
      "Failed asserting that '404' contains \"Login\".\n",
      "\u001b[33m\n",
      "Scenario Steps:\n",
      "\u001b[39m\n",
      "\u001b[1m 2. $I->seeInTitle(\"Login\")\u001b[22m at \u001b[32mtests/Acceptance/Test11_LoginNotExistingCest.php:18\u001b[39m\n",
      " 1. $I->amOnPage(\"/auth/login\") at \u001b[32mtests/Acceptance/Test11_LoginNotExistingCest.php:16\u001b[39m\n",
      "\n",
      "\u001b[33mArtifacts:\u001b[39m\n",
      "\n",
      "Html: \u001b[36m/home/student/php_2022_adam_lewinski/07_testing/02_exercise/project/tests/_output/Tests.Acceptance.Test11_LoginNotExistingCest.test.fail.html\u001b[39m\n",
      "Response: \u001b[36m/home/student/php_2022_adam_lewinski/07_testing/02_exercise/project/tests/_output/Tests.Acceptance.Test11_LoginNotExistingCest.test.fail.html\u001b[39m\n",
      "3) \u001b[35;1mTest12_LoginWrongPasswordCest:\u001b[39;22m See error when wrong password is entered\n",
      "\u001b[37;41;1m Test  \u001b[39;49;22mtests/Acceptance/Test12_LoginWrongPasswordCest.php:test\n",
      "\u001b[37;41;1m Step \u001b[39;49;22m See in title \"Login\"\n",
      "\u001b[37;41;1m Fail \u001b[39;49;22m page title contains Login\n",
      "Failed asserting that '404' contains \"Login\".\n",
      "\u001b[33m\n",
      "Scenario Steps:\n",
      "\u001b[39m\n",
      "\u001b[1m 2. $I->seeInTitle(\"Login\")\u001b[22m at \u001b[32mtests/Acceptance/Test12_LoginWrongPasswordCest.php:19\u001b[39m\n",
      " 1. $I->amOnPage(\"/auth/login\") at \u001b[32mtests/Acceptance/Test12_LoginWrongPasswordCest.php:17\u001b[39m\n",
      "\n",
      "\u001b[33mArtifacts:\u001b[39m\n",
      "\n",
      "Html: \u001b[36m/home/student/php_2022_adam_lewinski/07_testing/02_exercise/project/tests/_output/Tests.Acceptance.Test12_LoginWrongPasswordCest.test.fail.html\u001b[39m\n",
      "Response: \u001b[36m/home/student/php_2022_adam_lewinski/07_testing/02_exercise/project/tests/_output/Tests.Acceptance.Test12_LoginWrongPasswordCest.test.fail.html\u001b[39m\n",
      "4) \u001b[35;1mTest13_LoginNotConfirmedCest:\u001b[39;22m Be remained about email confirmation when trying to login\n",
      "\u001b[37;41;1m Test  \u001b[39;49;22mtests/Acceptance/Test13_LoginNotConfirmedCest.php:test\n",
      "page title contains Login\n",
      "Failed asserting that '404' contains \"Login\".\n",
      "\u001b[33m\n",
      "Scenario Steps:\n",
      "\u001b[39m\n",
      "\u001b[1m 2. $I->seeInTitle(\"Login\")\u001b[22m at \u001b[32mtests/Acceptance/Test13_LoginNotConfirmedCest.php:18\u001b[39m\n",
      " 1. $I->amOnPage(\"/auth/login\") at \u001b[32mtests/Acceptance/Test13_LoginNotConfirmedCest.php:16\u001b[39m\n",
      "\n",
      "\u001b[33mArtifacts:\u001b[39m\n",
      "\n",
      "Html: \u001b[36m/home/student/php_2022_adam_lewinski/07_testing/02_exercise/project/tests/_output/Tests.Acceptance.Test13_LoginNotConfirmedCest.test.fail.html\u001b[39m\n",
      "Response: \u001b[36m/home/student/php_2022_adam_lewinski/07_testing/02_exercise/project/tests/_output/Tests.Acceptance.Test13_LoginNotConfirmedCest.test.fail.html\u001b[39m\n",
      "\n",
      "\u001b[37;41;1mERRORS!\u001b[39;49;22m\n",
      "\u001b[37;41;1mTests: 15, Assertions: 239, Errors: 1, Failures: 4.\u001b[39;49;22m\n",
      "- \u001b[1mJUNIT XML\u001b[22m report generated in \u001b[33mfile:///home/student/php_2022_adam_lewinski/07_testing/02_exercise/project/tests/_output/test_report.xml\u001b[39m\n"
     ]
    }
   ],
   "source": [
    "! vendor/bin/codecept run Acceptance --xml test_report.xml"
   ]
  },
  {
   "cell_type": "code",
   "execution_count": 46,
   "metadata": {},
   "outputs": [],
   "source": [
    "phpServer.kill()"
   ]
  },
  {
   "cell_type": "code",
   "execution_count": 47,
   "metadata": {},
   "outputs": [
    {
     "name": "stdout",
     "output_type": "stream",
     "text": [
      "/home/student/php_2022_adam_lewinski/07_testing/02_exercise\n"
     ]
    }
   ],
   "source": [
    "%cd ../"
   ]
  },
  {
   "cell_type": "markdown",
   "metadata": {},
   "source": [
    "Stop the databses:"
   ]
  },
  {
   "cell_type": "code",
   "execution_count": null,
   "metadata": {},
   "outputs": [],
   "source": [
    "! docker container stop redis"
   ]
  },
  {
   "cell_type": "code",
   "execution_count": null,
   "metadata": {},
   "outputs": [],
   "source": [
    "! docker container stop mysql"
   ]
  }
 ],
 "metadata": {
  "kernelspec": {
   "display_name": "Python 3 (ipykernel)",
   "language": "python",
   "name": "python3"
  },
  "language_info": {
   "codemirror_mode": {
    "name": "ipython",
    "version": 3
   },
   "file_extension": ".py",
   "mimetype": "text/x-python",
   "name": "python",
   "nbconvert_exporter": "python",
   "pygments_lexer": "ipython3",
   "version": "3.10.6"
  }
 },
 "nbformat": 4,
 "nbformat_minor": 4
}
