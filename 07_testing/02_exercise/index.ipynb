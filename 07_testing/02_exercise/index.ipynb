{
 "cells": [
  {
   "cell_type": "markdown",
   "metadata": {},
   "source": [
    "# PHP 2022"
   ]
  },
  {
   "cell_type": "markdown",
   "metadata": {},
   "source": [
    "## 7. Testing"
   ]
  },
  {
   "cell_type": "markdown",
   "metadata": {},
   "source": [
    "### 7.2 Exercise"
   ]
  },
  {
   "cell_type": "markdown",
   "metadata": {},
   "source": [
    "Implment missing code."
   ]
  },
  {
   "cell_type": "markdown",
   "metadata": {},
   "source": [
    "Start the databses:"
   ]
  },
  {
   "cell_type": "code",
   "execution_count": 1,
   "metadata": {},
   "outputs": [
    {
     "name": "stdout",
     "output_type": "stream",
     "text": [
      "2f368ff7f00acd95fea7ec283bd9110e954e646692f85f4bd0daee08356b0bd3\r\n"
     ]
    }
   ],
   "source": [
    "! docker run --net=host --rm --name redis -d redis"
   ]
  },
  {
   "cell_type": "code",
   "execution_count": 2,
   "metadata": {},
   "outputs": [
    {
     "name": "stdout",
     "output_type": "stream",
     "text": [
      "dc24693c41d3c91cbf2e691a574b753b65c43c2d69cb7c51d1021a6553ca21f5\r\n"
     ]
    }
   ],
   "source": [
    "! docker run --name=mysql --net=host --rm --env MYSQL_ROOT_PASSWORD=root123 --env MYSQL_DATABASE=test --env MYSQL_USER=test --env MYSQL_PASSWORD=test123 -d mysql/mysql-server:8.0"
   ]
  },
  {
   "cell_type": "code",
   "execution_count": 3,
   "metadata": {},
   "outputs": [
    {
     "name": "stdout",
     "output_type": "stream",
     "text": [
      "Done.\r\n"
     ]
    }
   ],
   "source": [
    "! while ! timeout 1 bash -c \"echo > /dev/tcp/localhost/6379\" 2> /dev/null; do sleep 1; done; echo \"Done.\";"
   ]
  },
  {
   "cell_type": "code",
   "execution_count": 4,
   "metadata": {},
   "outputs": [
    {
     "name": "stdout",
     "output_type": "stream",
     "text": [
      "Done.\r\n"
     ]
    }
   ],
   "source": [
    "! while ! timeout 1 bash -c \"echo > /dev/tcp/localhost/3306\" 2> /dev/null; do sleep 1; done; echo \"Done.\";"
   ]
  },
  {
   "cell_type": "markdown",
   "metadata": {},
   "source": [
    "Edit the code:"
   ]
  },
  {
   "cell_type": "code",
   "execution_count": null,
   "metadata": {},
   "outputs": [
    {
     "name": "stdout",
     "output_type": "stream",
     "text": [
      "CompileCommand: exclude com/intellij/openapi/vfs/impl/FilePartNodeRoot.trieDescend bool exclude = true\n",
      "2022-11-21 22:33:24,747 [   3070] SEVERE - #c.i.d.LoadingState - Should be called at least in the state COMPONENTS_LOADED, the current state is: CONFIGURATION_STORE_INITIALIZED\n",
      "Current violators count: 1\n",
      "\n",
      "\n",
      "java.lang.Throwable\n",
      "\tat com.intellij.diagnostic.LoadingState.logStateError(LoadingState.java:52)\n",
      "\tat com.intellij.diagnostic.LoadingState.checkOccurred(LoadingState.java:48)\n",
      "\tat com.intellij.openapi.actionSystem.impl.ActionManagerImpl.<init>(ActionManagerImpl.java:133)\n",
      "\tat com.jetbrains.rdserver.ui.actionPopupMenu.BackendActionManager.<init>(BackendActionManager.kt:17)\n",
      "\tat java.base/jdk.internal.reflect.NativeConstructorAccessorImpl.newInstance0(Native Method)\n",
      "\tat java.base/jdk.internal.reflect.NativeConstructorAccessorImpl.newInstance(NativeConstructorAccessorImpl.java:77)\n",
      "\tat java.base/jdk.internal.reflect.DelegatingConstructorAccessorImpl.newInstance(DelegatingConstructorAccessorImpl.java:45)\n",
      "\tat java.base/java.lang.reflect.Constructor.newInstanceWithCaller(Constructor.java:499)\n",
      "\tat java.base/java.lang.reflect.Constructor.newInstance(Constructor.java:480)\n",
      "\tat com.intellij.serviceContainer.ConstructorInjectionKt.instantiateUsingPicoContainer(constructorInjection.kt:47)\n",
      "\tat com.intellij.serviceContainer.ComponentManagerImpl.instantiateClassWithConstructorInjection(ComponentManagerImpl.kt:890)\n",
      "\tat com.intellij.serviceContainer.ServiceComponentAdapter.createAndInitialize(ServiceComponentAdapter.kt:51)\n",
      "\tat com.intellij.serviceContainer.ServiceComponentAdapter.doCreateInstance(ServiceComponentAdapter.kt:41)\n",
      "\tat com.intellij.serviceContainer.BaseComponentAdapter.getInstanceUncached(BaseComponentAdapter.kt:119)\n",
      "\tat com.intellij.serviceContainer.BaseComponentAdapter.getInstance(BaseComponentAdapter.kt:73)\n",
      "\tat com.intellij.serviceContainer.BaseComponentAdapter.getInstance$default(BaseComponentAdapter.kt:66)\n",
      "\tat com.intellij.serviceContainer.ComponentManagerImpl.doGetService(ComponentManagerImpl.kt:609)\n",
      "\tat com.intellij.serviceContainer.ComponentManagerImpl.getService(ComponentManagerImpl.kt:583)\n",
      "\tat com.intellij.openapi.client.ClientAwareComponentManager.getFromSelfOrCurrentSession(ClientAwareComponentManager.kt:37)\n",
      "\tat com.intellij.openapi.client.ClientAwareComponentManager.getService(ClientAwareComponentManager.kt:22)\n",
      "\tat com.intellij.openapi.actionSystem.ActionManager.getInstance(ActionManager.java:29)\n",
      "\tat com.intellij.help.impl.KeymapGenerator.<clinit>(KeymapGenerator.java:33)\n",
      "\tat java.base/jdk.internal.misc.Unsafe.allocateInstance(Native Method)\n",
      "\tat java.base/java.lang.invoke.DirectMethodHandle.allocateInstance(DirectMethodHandle.java:520)\n",
      "\tat com.intellij.serviceContainer.ComponentManagerImpl.instantiateClass(ComponentManagerImpl.kt:844)\n",
      "\tat com.intellij.openapi.extensions.impl.XmlExtensionAdapter.instantiateClass(XmlExtensionAdapter.kt:79)\n",
      "\tat com.intellij.openapi.extensions.impl.XmlExtensionAdapter$SimpleConstructorInjectionAdapter.instantiateClass(XmlExtensionAdapter.kt:90)\n",
      "\tat com.intellij.openapi.extensions.impl.XmlExtensionAdapter.doCreateInstance(XmlExtensionAdapter.kt:50)\n",
      "\tat com.intellij.openapi.extensions.impl.XmlExtensionAdapter.createInstance(XmlExtensionAdapter.kt:31)\n",
      "\tat com.intellij.openapi.extensions.impl.ExtensionPointImpl.processAdapter(ExtensionPointImpl.java:447)\n",
      "\tat com.intellij.openapi.extensions.impl.ExtensionPointImpl.access$200(ExtensionPointImpl.java:33)\n",
      "\tat com.intellij.openapi.extensions.impl.ExtensionPointImpl$1.next(ExtensionPointImpl.java:355)\n",
      "\tat com.intellij.idea.ApplicationLoader.findAppStarter(ApplicationLoader.kt:595)\n",
      "\tat com.intellij.idea.ApplicationLoader.access$findAppStarter(ApplicationLoader.kt:1)\n",
      "\tat com.intellij.idea.ApplicationLoader$initApplication$block$3.apply(ApplicationLoader.kt:170)\n",
      "\tat com.intellij.idea.ApplicationLoader$initApplication$block$3.apply(ApplicationLoader.kt)\n",
      "\tat java.base/java.util.concurrent.CompletableFuture$UniCompose.tryFire(CompletableFuture.java:1150)\n",
      "\tat java.base/java.util.concurrent.CompletableFuture.postComplete(CompletableFuture.java:510)\n",
      "\tat java.base/java.util.concurrent.CompletableFuture.postFire(CompletableFuture.java:614)\n",
      "\tat java.base/java.util.concurrent.CompletableFuture$UniCompose.tryFire(CompletableFuture.java:1163)\n",
      "\tat java.base/java.util.concurrent.CompletableFuture$Completion.run(CompletableFuture.java:482)\n",
      "\tat com.intellij.idea.ApplicationLoader$initApplication$block$2.execute(ApplicationLoader.kt:142)\n",
      "\tat java.base/java.util.concurrent.CompletableFuture$UniCompletion.claim(CompletableFuture.java:572)\n",
      "\tat java.base/java.util.concurrent.CompletableFuture$UniCompose.tryFire(CompletableFuture.java:1147)\n",
      "\tat java.base/java.util.concurrent.CompletableFuture.postComplete(CompletableFuture.java:510)\n",
      "\tat java.base/java.util.concurrent.CompletableFuture.postFire(CompletableFuture.java:614)\n",
      "\tat java.base/java.util.concurrent.CompletableFuture$UniCompose.tryFire(CompletableFuture.java:1163)\n",
      "\tat java.base/java.util.concurrent.CompletableFuture$Completion.exec(CompletableFuture.java:483)\n",
      "\tat java.base/java.util.concurrent.ForkJoinTask.doExec(ForkJoinTask.java:373)\n",
      "\tat java.base/java.util.concurrent.ForkJoinPool$WorkQueue.topLevelExec(ForkJoinPool.java:1182)\n",
      "\tat java.base/java.util.concurrent.ForkJoinPool.scan(ForkJoinPool.java:1655)\n",
      "\tat java.base/java.util.concurrent.ForkJoinPool.runWorker(ForkJoinPool.java:1622)\n",
      "\tat java.base/java.util.concurrent.ForkJoinWorkerThread.run(ForkJoinWorkerThread.java:165)\n",
      "2022-11-21 22:33:24,769 [   3092] SEVERE - #c.i.d.LoadingState - PhpStorm 2022.2.3  Build #PS-222.4345.15\n",
      "2022-11-21 22:33:24,774 [   3097] SEVERE - #c.i.d.LoadingState - JDK: 17.0.4.1; VM: OpenJDK 64-Bit Server VM; Vendor: JetBrains s.r.o.\n",
      "2022-11-21 22:33:24,777 [   3100] SEVERE - #c.i.d.LoadingState - OS: Linux\n",
      "2022-11-21 22:33:26,132 [   4455] SEVERE - #c.i.d.LoadingState - Should be called at least in the state COMPONENTS_LOADED, the current state is: CONFIGURATION_STORE_INITIALIZED\n",
      "Current violators count: 2\n",
      "\n",
      "\n",
      "java.lang.Throwable\n",
      "\tat com.intellij.diagnostic.LoadingState.logStateError(LoadingState.java:52)\n",
      "\tat com.intellij.diagnostic.LoadingState.checkOccurred(LoadingState.java:48)\n",
      "\tat com.intellij.openapi.util.registry.Registry.getInstance(Registry.java:176)\n",
      "\tat com.intellij.openapi.util.registry.Registry.get(Registry.java:50)\n",
      "\tat com.intellij.openapi.util.registry.Registry.is(Registry.java:63)\n",
      "\tat com.intellij.execution.ExecutorRegistryImpl.isExecutorInMainGroup(ExecutorRegistryImpl.java:195)\n",
      "\tat com.intellij.execution.ExecutorRegistryImpl.initExecutorActions(ExecutorRegistryImpl.java:127)\n",
      "\tat com.intellij.execution.ExecutorRegistryImpl.init(ExecutorRegistryImpl.java:278)\n",
      "\tat com.intellij.execution.ExecutorRegistryImpl$ExecutorRegistryActionConfigurationTuner.customize(ExecutorRegistryImpl.java:92)\n",
      "\tat com.intellij.openapi.actionSystem.impl.ActionManagerImpl.lambda$new$0(ActionManagerImpl.java:141)\n",
      "\tat com.intellij.openapi.extensions.impl.ExtensionProcessingHelper.forEachExtensionSafe(ExtensionProcessingHelper.java:34)\n",
      "\tat com.intellij.openapi.extensions.ExtensionPointName.forEachExtensionSafe(ExtensionPointName.java:46)\n",
      "\tat com.intellij.openapi.actionSystem.impl.ActionManagerImpl.<init>(ActionManagerImpl.java:141)\n",
      "\tat com.jetbrains.rdserver.ui.actionPopupMenu.BackendActionManager.<init>(BackendActionManager.kt:17)\n",
      "\tat java.base/jdk.internal.reflect.NativeConstructorAccessorImpl.newInstance0(Native Method)\n",
      "\tat java.base/jdk.internal.reflect.NativeConstructorAccessorImpl.newInstance(NativeConstructorAccessorImpl.java:77)\n",
      "\tat java.base/jdk.internal.reflect.DelegatingConstructorAccessorImpl.newInstance(DelegatingConstructorAccessorImpl.java:45)\n",
      "\tat java.base/java.lang.reflect.Constructor.newInstanceWithCaller(Constructor.java:499)\n",
      "\tat java.base/java.lang.reflect.Constructor.newInstance(Constructor.java:480)\n",
      "\tat com.intellij.serviceContainer.ConstructorInjectionKt.instantiateUsingPicoContainer(constructorInjection.kt:47)\n",
      "\tat com.intellij.serviceContainer.ComponentManagerImpl.instantiateClassWithConstructorInjection(ComponentManagerImpl.kt:890)\n",
      "\tat com.intellij.serviceContainer.ServiceComponentAdapter.createAndInitialize(ServiceComponentAdapter.kt:51)\n",
      "\tat com.intellij.serviceContainer.ServiceComponentAdapter.doCreateInstance(ServiceComponentAdapter.kt:41)\n",
      "\tat com.intellij.serviceContainer.BaseComponentAdapter.getInstanceUncached(BaseComponentAdapter.kt:119)\n",
      "\tat com.intellij.serviceContainer.BaseComponentAdapter.getInstance(BaseComponentAdapter.kt:73)\n",
      "\tat com.intellij.serviceContainer.BaseComponentAdapter.getInstance$default(BaseComponentAdapter.kt:66)\n",
      "\tat com.intellij.serviceContainer.ComponentManagerImpl.doGetService(ComponentManagerImpl.kt:609)\n",
      "\tat com.intellij.serviceContainer.ComponentManagerImpl.getService(ComponentManagerImpl.kt:583)\n",
      "\tat com.intellij.openapi.client.ClientAwareComponentManager.getFromSelfOrCurrentSession(ClientAwareComponentManager.kt:37)\n",
      "\tat com.intellij.openapi.client.ClientAwareComponentManager.getService(ClientAwareComponentManager.kt:22)\n",
      "\tat com.intellij.openapi.actionSystem.ActionManager.getInstance(ActionManager.java:29)\n",
      "\tat com.intellij.help.impl.KeymapGenerator.<clinit>(KeymapGenerator.java:33)\n",
      "\tat java.base/jdk.internal.misc.Unsafe.allocateInstance(Native Method)\n",
      "\tat java.base/java.lang.invoke.DirectMethodHandle.allocateInstance(DirectMethodHandle.java:520)\n",
      "\tat com.intellij.serviceContainer.ComponentManagerImpl.instantiateClass(ComponentManagerImpl.kt:844)\n",
      "\tat com.intellij.openapi.extensions.impl.XmlExtensionAdapter.instantiateClass(XmlExtensionAdapter.kt:79)\n",
      "\tat com.intellij.openapi.extensions.impl.XmlExtensionAdapter$SimpleConstructorInjectionAdapter.instantiateClass(XmlExtensionAdapter.kt:90)\n",
      "\tat com.intellij.openapi.extensions.impl.XmlExtensionAdapter.doCreateInstance(XmlExtensionAdapter.kt:50)\n",
      "\tat com.intellij.openapi.extensions.impl.XmlExtensionAdapter.createInstance(XmlExtensionAdapter.kt:31)\n",
      "\tat com.intellij.openapi.extensions.impl.ExtensionPointImpl.processAdapter(ExtensionPointImpl.java:447)\n",
      "\tat com.intellij.openapi.extensions.impl.ExtensionPointImpl.access$200(ExtensionPointImpl.java:33)\n",
      "\tat com.intellij.openapi.extensions.impl.ExtensionPointImpl$1.next(ExtensionPointImpl.java:355)\n",
      "\tat com.intellij.idea.ApplicationLoader.findAppStarter(ApplicationLoader.kt:595)\n",
      "\tat com.intellij.idea.ApplicationLoader.access$findAppStarter(ApplicationLoader.kt:1)\n",
      "\tat com.intellij.idea.ApplicationLoader$initApplication$block$3.apply(ApplicationLoader.kt:170)\n",
      "\tat com.intellij.idea.ApplicationLoader$initApplication$block$3.apply(ApplicationLoader.kt)\n",
      "\tat java.base/java.util.concurrent.CompletableFuture$UniCompose.tryFire(CompletableFuture.java:1150)\n",
      "\tat java.base/java.util.concurrent.CompletableFuture.postComplete(CompletableFuture.java:510)\n",
      "\tat java.base/java.util.concurrent.CompletableFuture.postFire(CompletableFuture.java:614)\n",
      "\tat java.base/java.util.concurrent.CompletableFuture$UniCompose.tryFire(CompletableFuture.java:1163)\n",
      "\tat java.base/java.util.concurrent.CompletableFuture$Completion.run(CompletableFuture.java:482)\n",
      "\tat com.intellij.idea.ApplicationLoader$initApplication$block$2.execute(ApplicationLoader.kt:142)\n",
      "\tat java.base/java.util.concurrent.CompletableFuture$UniCompletion.claim(CompletableFuture.java:572)\n",
      "\tat java.base/java.util.concurrent.CompletableFuture$UniCompose.tryFire(CompletableFuture.java:1147)\n",
      "\tat java.base/java.util.concurrent.CompletableFuture.postComplete(CompletableFuture.java:510)\n",
      "\tat java.base/java.util.concurrent.CompletableFuture.postFire(CompletableFuture.java:614)\n",
      "\tat java.base/java.util.concurrent.CompletableFuture$UniCompose.tryFire(CompletableFuture.java:1163)\n",
      "\tat java.base/java.util.concurrent.CompletableFuture$Completion.exec(CompletableFuture.java:483)\n",
      "\tat java.base/java.util.concurrent.ForkJoinTask.doExec(ForkJoinTask.java:373)\n",
      "\tat java.base/java.util.concurrent.ForkJoinPool$WorkQueue.topLevelExec(ForkJoinPool.java:1182)\n",
      "\tat java.base/java.util.concurrent.ForkJoinPool.scan(ForkJoinPool.java:1655)\n",
      "\tat java.base/java.util.concurrent.ForkJoinPool.runWorker(ForkJoinPool.java:1622)\n",
      "\tat java.base/java.util.concurrent.ForkJoinWorkerThread.run(ForkJoinWorkerThread.java:165)\n"
     ]
    },
    {
     "name": "stdout",
     "output_type": "stream",
     "text": [
      "2022-11-21 22:33:26,147 [   4470] SEVERE - #c.i.d.LoadingState - PhpStorm 2022.2.3  Build #PS-222.4345.15\n",
      "2022-11-21 22:33:26,151 [   4474] SEVERE - #c.i.d.LoadingState - JDK: 17.0.4.1; VM: OpenJDK 64-Bit Server VM; Vendor: JetBrains s.r.o.\n",
      "2022-11-21 22:33:26,154 [   4477] SEVERE - #c.i.d.LoadingState - OS: Linux\n",
      "2022-11-21 22:33:26,220 [   4543] SEVERE - #c.i.d.LoadingState - Should be called at least in the state COMPONENTS_LOADED, the current state is: CONFIGURATION_STORE_INITIALIZED\n",
      "Current violators count: 3\n",
      "\n",
      "\n",
      "java.lang.Throwable\n",
      "\tat com.intellij.diagnostic.LoadingState.logStateError(LoadingState.java:52)\n",
      "\tat com.intellij.diagnostic.LoadingState.checkOccurred(LoadingState.java:48)\n",
      "\tat com.intellij.openapi.util.registry.Registry.getInstance(Registry.java:176)\n",
      "\tat com.intellij.openapi.util.registry.Registry.get(Registry.java:50)\n",
      "\tat com.intellij.openapi.util.registry.Registry.is(Registry.java:63)\n",
      "\tat com.intellij.openapi.wm.impl.GlobalMenuLinux._loadLibrary(GlobalMenuLinux.java:797)\n",
      "\tat com.intellij.openapi.wm.impl.GlobalMenuLinux.<clinit>(GlobalMenuLinux.java:164)\n",
      "\tat com.intellij.openapi.wm.impl.GlobalMenuLinux$MyActionTuner.customize(GlobalMenuLinux.java:230)\n",
      "\tat com.intellij.openapi.actionSystem.impl.ActionManagerImpl.lambda$new$0(ActionManagerImpl.java:141)\n",
      "\tat com.intellij.openapi.extensions.impl.ExtensionProcessingHelper.forEachExtensionSafe(ExtensionProcessingHelper.java:34)\n",
      "\tat com.intellij.openapi.extensions.ExtensionPointName.forEachExtensionSafe(ExtensionPointName.java:46)\n",
      "\tat com.intellij.openapi.actionSystem.impl.ActionManagerImpl.<init>(ActionManagerImpl.java:141)\n",
      "\tat com.jetbrains.rdserver.ui.actionPopupMenu.BackendActionManager.<init>(BackendActionManager.kt:17)\n",
      "\tat java.base/jdk.internal.reflect.NativeConstructorAccessorImpl.newInstance0(Native Method)\n",
      "\tat java.base/jdk.internal.reflect.NativeConstructorAccessorImpl.newInstance(NativeConstructorAccessorImpl.java:77)\n",
      "\tat java.base/jdk.internal.reflect.DelegatingConstructorAccessorImpl.newInstance(DelegatingConstructorAccessorImpl.java:45)\n",
      "\tat java.base/java.lang.reflect.Constructor.newInstanceWithCaller(Constructor.java:499)\n",
      "\tat java.base/java.lang.reflect.Constructor.newInstance(Constructor.java:480)\n",
      "\tat com.intellij.serviceContainer.ConstructorInjectionKt.instantiateUsingPicoContainer(constructorInjection.kt:47)\n",
      "\tat com.intellij.serviceContainer.ComponentManagerImpl.instantiateClassWithConstructorInjection(ComponentManagerImpl.kt:890)\n",
      "\tat com.intellij.serviceContainer.ServiceComponentAdapter.createAndInitialize(ServiceComponentAdapter.kt:51)\n",
      "\tat com.intellij.serviceContainer.ServiceComponentAdapter.doCreateInstance(ServiceComponentAdapter.kt:41)\n",
      "\tat com.intellij.serviceContainer.BaseComponentAdapter.getInstanceUncached(BaseComponentAdapter.kt:119)\n",
      "\tat com.intellij.serviceContainer.BaseComponentAdapter.getInstance(BaseComponentAdapter.kt:73)\n",
      "\tat com.intellij.serviceContainer.BaseComponentAdapter.getInstance$default(BaseComponentAdapter.kt:66)\n",
      "\tat com.intellij.serviceContainer.ComponentManagerImpl.doGetService(ComponentManagerImpl.kt:609)\n",
      "\tat com.intellij.serviceContainer.ComponentManagerImpl.getService(ComponentManagerImpl.kt:583)\n",
      "\tat com.intellij.openapi.client.ClientAwareComponentManager.getFromSelfOrCurrentSession(ClientAwareComponentManager.kt:37)\n",
      "\tat com.intellij.openapi.client.ClientAwareComponentManager.getService(ClientAwareComponentManager.kt:22)\n",
      "\tat com.intellij.openapi.actionSystem.ActionManager.getInstance(ActionManager.java:29)\n",
      "\tat com.intellij.help.impl.KeymapGenerator.<clinit>(KeymapGenerator.java:33)\n",
      "\tat java.base/jdk.internal.misc.Unsafe.allocateInstance(Native Method)\n",
      "\tat java.base/java.lang.invoke.DirectMethodHandle.allocateInstance(DirectMethodHandle.java:520)\n",
      "\tat com.intellij.serviceContainer.ComponentManagerImpl.instantiateClass(ComponentManagerImpl.kt:844)\n",
      "\tat com.intellij.openapi.extensions.impl.XmlExtensionAdapter.instantiateClass(XmlExtensionAdapter.kt:79)\n",
      "\tat com.intellij.openapi.extensions.impl.XmlExtensionAdapter$SimpleConstructorInjectionAdapter.instantiateClass(XmlExtensionAdapter.kt:90)\n",
      "\tat com.intellij.openapi.extensions.impl.XmlExtensionAdapter.doCreateInstance(XmlExtensionAdapter.kt:50)\n",
      "\tat com.intellij.openapi.extensions.impl.XmlExtensionAdapter.createInstance(XmlExtensionAdapter.kt:31)\n",
      "\tat com.intellij.openapi.extensions.impl.ExtensionPointImpl.processAdapter(ExtensionPointImpl.java:447)\n",
      "\tat com.intellij.openapi.extensions.impl.ExtensionPointImpl.access$200(ExtensionPointImpl.java:33)\n",
      "\tat com.intellij.openapi.extensions.impl.ExtensionPointImpl$1.next(ExtensionPointImpl.java:355)\n",
      "\tat com.intellij.idea.ApplicationLoader.findAppStarter(ApplicationLoader.kt:595)\n",
      "\tat com.intellij.idea.ApplicationLoader.access$findAppStarter(ApplicationLoader.kt:1)\n",
      "\tat com.intellij.idea.ApplicationLoader$initApplication$block$3.apply(ApplicationLoader.kt:170)\n",
      "\tat com.intellij.idea.ApplicationLoader$initApplication$block$3.apply(ApplicationLoader.kt)\n",
      "\tat java.base/java.util.concurrent.CompletableFuture$UniCompose.tryFire(CompletableFuture.java:1150)\n",
      "\tat java.base/java.util.concurrent.CompletableFuture.postComplete(CompletableFuture.java:510)\n",
      "\tat java.base/java.util.concurrent.CompletableFuture.postFire(CompletableFuture.java:614)\n",
      "\tat java.base/java.util.concurrent.CompletableFuture$UniCompose.tryFire(CompletableFuture.java:1163)\n",
      "\tat java.base/java.util.concurrent.CompletableFuture$Completion.run(CompletableFuture.java:482)\n",
      "\tat com.intellij.idea.ApplicationLoader$initApplication$block$2.execute(ApplicationLoader.kt:142)\n",
      "\tat java.base/java.util.concurrent.CompletableFuture$UniCompletion.claim(CompletableFuture.java:572)\n",
      "\tat java.base/java.util.concurrent.CompletableFuture$UniCompose.tryFire(CompletableFuture.java:1147)\n",
      "\tat java.base/java.util.concurrent.CompletableFuture.postComplete(CompletableFuture.java:510)\n",
      "\tat java.base/java.util.concurrent.CompletableFuture.postFire(CompletableFuture.java:614)\n",
      "\tat java.base/java.util.concurrent.CompletableFuture$UniCompose.tryFire(CompletableFuture.java:1163)\n",
      "\tat java.base/java.util.concurrent.CompletableFuture$Completion.exec(CompletableFuture.java:483)\n",
      "\tat java.base/java.util.concurrent.ForkJoinTask.doExec(ForkJoinTask.java:373)\n",
      "\tat java.base/java.util.concurrent.ForkJoinPool$WorkQueue.topLevelExec(ForkJoinPool.java:1182)\n",
      "\tat java.base/java.util.concurrent.ForkJoinPool.scan(ForkJoinPool.java:1655)\n",
      "\tat java.base/java.util.concurrent.ForkJoinPool.runWorker(ForkJoinPool.java:1622)\n",
      "\tat java.base/java.util.concurrent.ForkJoinWorkerThread.run(ForkJoinWorkerThread.java:165)\n",
      "2022-11-21 22:33:26,236 [   4559] SEVERE - #c.i.d.LoadingState - PhpStorm 2022.2.3  Build #PS-222.4345.15\n",
      "2022-11-21 22:33:26,238 [   4561] SEVERE - #c.i.d.LoadingState - JDK: 17.0.4.1; VM: OpenJDK 64-Bit Server VM; Vendor: JetBrains s.r.o.\n",
      "2022-11-21 22:33:26,240 [   4563] SEVERE - #c.i.d.LoadingState - OS: Linux\n",
      "Info  | RdCoroutineScope          | 13:JobScheduler FJ pool 1/3 | RdCoroutineHost overridden \n",
      "2022-11-21 22:33:32,498 [  10821]   WARN - #c.i.o.a.i.ActionUpdater - 574 ms to grab EDT for CWMTelephonyGroup#update@NavBarToolbar (com.jetbrains.rd.platform.codeWithMe.telephony.CWMTelephonyGroup)\n",
      "2022-11-21 22:33:36,848 [  15171]   WARN - #c.i.o.a.e.ActionUtil - Can not find action by id CompileDirty\n",
      "2022-11-21 22:33:37,293 [  15616]   WARN - #c.i.u.x.Binding - no accessors for com.jetbrains.php.testFramework.PhpTestFrameworkType\n",
      "2022-11-21 22:33:40,944 [  19267]   WARN - #c.i.o.a.i.ActionUpdater - 2321 ms to grab EDT for BackAction#update@MainToolbar (com.intellij.ide.actions.BackAction)\n",
      "2022-11-21 22:33:41,600 [  19923]   WARN - #c.i.o.a.i.ActionUpdater - 1956 ms to grab EDT for CreateWebProjectAction#update@MainMenu (com.jetbrains.plugins.webDeployment.phpStorm.CreateWebProjectAction)\n",
      "2022-11-21 22:33:51,809 [  30132]   WARN - #c.j.p.p.PharLibraryManager - Frequent root change. Source class com.jetbrains.php.phar.PharLibraryManager, delta 2988.\n",
      "Old roots: [phar:///home/student/php_2022_adam_lewinski/07_testing/02_exercise/project/vendor/bin/phpstan.phar/]\n",
      "New Roots: [phar:///home/student/php_2022_adam_lewinski/07_testing/02_exercise/project/vendor/bin/phpstan.phar/, phar:///home/student/php_2022_adam_lewinski/07_testing/02_exercise/project/vendor/phpstan/phpstan/phpstan.phar/]\n"
     ]
    },
    {
     "name": "stdout",
     "output_type": "stream",
     "text": [
      "2022-11-21 22:33:54,960 [  33283]   WARN - #c.i.o.a.i.ActionUpdater - 230 ms to grab EDT for CollapseAllAction#update@ToolwindowTitle (com.intellij.ide.actions.CollapseAllAction)\n",
      "2022-11-21 22:34:00,258 [  38581]   WARN - #c.j.p.PhpIndex - Completing type '#π(#g#F\\Controller\\view)(\"auth.index\")' took 1578ms, visited:[#π(#g#F\\Controller\\view)(\"auth.index\")]\n"
     ]
    }
   ],
   "source": [
    "! phpstorm project"
   ]
  },
  {
   "cell_type": "markdown",
   "metadata": {},
   "source": [
    "You can test your solution using included tests:"
   ]
  },
  {
   "cell_type": "code",
   "execution_count": 81,
   "metadata": {},
   "outputs": [
    {
     "name": "stdout",
     "output_type": "stream",
     "text": [
      "/home/student/php_2022_adam_lewinski/07_testing/02_exercise/project\n"
     ]
    }
   ],
   "source": [
    "%cd project"
   ]
  },
  {
   "cell_type": "code",
   "execution_count": 82,
   "metadata": {},
   "outputs": [
    {
     "name": "stdout",
     "output_type": "stream",
     "text": [
      "\u001b[32mInstalling dependencies from lock file (including require-dev)\u001b[39m\n",
      "\u001b[32mVerifying lock file contents can be installed on current platform.\u001b[39m\n",
      "Nothing to install, update or remove\n",
      "\u001b[32mGenerating autoload files\u001b[39m\n",
      "\u001b[32m60 packages you are using are looking for funding.\u001b[39m\n",
      "\u001b[32mUse the `composer fund` command to find out more!\u001b[39m\n"
     ]
    }
   ],
   "source": [
    "! composer install"
   ]
  },
  {
   "cell_type": "code",
   "execution_count": 83,
   "metadata": {},
   "outputs": [
    {
     "name": "stdout",
     "output_type": "stream",
     "text": [
      "\u001b[32mBuilding Actor classes for suites: Acceptance, Unit\u001b[39m\n",
      " -> AcceptanceTesterActions.php generated successfully. 241 methods added\n",
      "\u001b[32mTests\\AcceptanceTester\u001b[39m includes modules: PhpBrowser, Filesystem, Asserts, Db, Redis\n",
      " -> UnitTesterActions.php generated successfully. 137 methods added\n",
      "\u001b[32mTests\\UnitTester\u001b[39m includes modules: Asserts\n"
     ]
    }
   ],
   "source": [
    "! vendor/bin/codecept build"
   ]
  },
  {
   "cell_type": "code",
   "execution_count": 84,
   "metadata": {
    "scrolled": true
   },
   "outputs": [
    {
     "name": "stdout",
     "output_type": "stream",
     "text": [
      "Loaded config \u001b[33mdefault\u001b[39m from \"/home/student/php_2022_adam_lewinski/07_testing/02_exercise/project/./.php-cs-fixer.dist.php\".\n",
      "Using cache file \".php-cs-fixer.cache\".\n",
      "   1) view/home/index.php\n",
      "\u001b[33m      ---------- begin diff ----------\u001b[39m\n",
      "\u001b[31m--- /home/student/php_2022_adam_lewinski/07_testing/02_exercise/project/view/home/index.php\u001b[39m\n",
      "\u001b[32m+++ /home/student/php_2022_adam_lewinski/07_testing/02_exercise/project/view/home/index.php\u001b[39m\n",
      "\u001b[36m@@ -7,10 +7,10 @@\u001b[39m\n",
      "     echo '<ul>';\n",
      "     foreach ($flags as $flag) {\n",
      "         if ($flag instanceof \\Model\\Flagi) {\n",
      "\u001b[31m-            if($flag->id() == 1){\u001b[39m\n",
      "\u001b[32m+            if ($flag->id() == 1) {\u001b[39m\n",
      "                 echo \"<li class='error'>Provided token is invalid!</li>\";\n",
      "             }\n",
      "\u001b[31m-            if($flag->id() == 3){\u001b[39m\n",
      "\u001b[32m+            if ($flag->id() == 3) {\u001b[39m\n",
      "                 echo \"<li class='error'>Email successfully confirmed!</li>\";\n",
      "             }\n",
      "             if ($flag->id() == 2) {\n",
      "\n",
      "\u001b[33m      ----------- end diff -----------\u001b[39m\n",
      "\n",
      "\n",
      "Checked all files in 0.130 seconds, 14.000 MB memory used\n"
     ]
    }
   ],
   "source": [
    "! vendor/bin/php-cs-fixer fix --diff --dry-run ."
   ]
  },
  {
   "cell_type": "code",
   "execution_count": 85,
   "metadata": {},
   "outputs": [
    {
     "name": "stdout",
     "output_type": "stream",
     "text": [
      "  0/65 [░░░░░░░░░░░░░░░░░░░░░░░░░░░░]   0%\u001b[1G\u001b[2K 65/65 [▓▓▓▓▓▓▓▓▓▓▓▓▓▓▓▓▓▓▓▓▓▓▓▓▓▓▓▓] 100%\n",
      "\n",
      "\n",
      "\u001b[30;42m                                                                                \u001b[39;49m\n",
      "\u001b[30;42m [OK] No errors                                                                 \u001b[39;49m\n",
      "\u001b[30;42m                                                                                \u001b[39;49m\n",
      "\n"
     ]
    }
   ],
   "source": [
    "! vendor/bin/phpstan analyze --xdebug -c phpstan.neon"
   ]
  },
  {
   "cell_type": "code",
   "execution_count": 86,
   "metadata": {},
   "outputs": [
    {
     "name": "stdout",
     "output_type": "stream",
     "text": [
      "phpcpd 6.0.3 by Sebastian Bergmann.\n",
      "\n",
      "No clones found.\n",
      "\n",
      "Time: 00:00.028, Memory: 4.00 MB\n"
     ]
    }
   ],
   "source": [
    "! vendor/bin/phpcpd . --fuzzy --min-lines 1 --min-tokens 20 --exclude vendor --exclude tests"
   ]
  },
  {
   "cell_type": "code",
   "execution_count": 87,
   "metadata": {},
   "outputs": [
    {
     "name": "stdout",
     "output_type": "stream",
     "text": [
      "Codeception PHP Testing Framework v5.0.4 https://helpukrainewin.org\n",
      "\n",
      "\u001b[1mTests.Unit Tests (24) \u001b[22m----------------------------------------------------------\n",
      "\u001b[32;1m✔\u001b[39;22m tringEditorCest:\u001b[39;22m Create\u001b[35;1mTest00_StringEditorCest:\u001b[39;22m Create \u001b[32m(0.00s)\u001b[39m\n",
      "\u001b[32;1m✔\u001b[39;22m \u001b[35;1mTest00_StringEditorCest:\u001b[39;22m Replace word \u001b[32m(0.00s)\u001b[39m\n",
      "\u001b[32;1m✔\u001b[39;22m \u001b[35;1mTest00_StringEditorCest:\u001b[39;22m Lowercase \u001b[32m(0.00s)\u001b[39m\n",
      "\u001b[32;1m✔\u001b[39;22m \u001b[35;1mTest00_StringEditorCest:\u001b[39;22m Uppercase \u001b[32m(0.00s)\u001b[39m\n",
      "\u001b[32;1m✔\u001b[39;22m \u001b[35;1mTest00_StringEditorCest:\u001b[39;22m Replace and upper case \u001b[32m(0.00s)\u001b[39m\n",
      "\u001b[32;1m✔\u001b[39;22m \u001b[35;1mTest00_StringEditorCest:\u001b[39;22m Censor word \u001b[32m(0.00s)\u001b[39m\n",
      "\u001b[32;1m✔\u001b[39;22m \u001b[35;1mTest00_StringEditorCest:\u001b[39;22m Censor short and long words \u001b[32m(0.00s)\u001b[39m\n",
      "\u001b[32;1m✔\u001b[39;22m \u001b[35;1mTest00_StringEditorCest:\u001b[39;22m Repeat word \u001b[32m(0.00s)\u001b[39m\n",
      "\u001b[32;1m✔\u001b[39;22m \u001b[35;1mTest00_StringEditorCest:\u001b[39;22m Remove word \u001b[32m(0.00s)\u001b[39m\n",
      "\u001b[32;1m✔\u001b[39;22m \u001b[35;1mTest00_StringEditorCest:\u001b[39;22m Edit sentence \u001b[32m(0.00s)\u001b[39m\n",
      "\u001b[32;1m✔\u001b[39;22m \u001b[35;1mTest01_RingBufferCest:\u001b[39;22m Create \u001b[32m(0.00s)\u001b[39m\n",
      "\u001b[32;1m✔\u001b[39;22m \u001b[35;1mTest01_RingBufferCest:\u001b[39;22m Should be empty \u001b[32m(0.00s)\u001b[39m\n",
      "\u001b[32;1m✔\u001b[39;22m \u001b[35;1mTest01_RingBufferCest:\u001b[39;22m Capacity \u001b[32m(0.00s)\u001b[39m\n",
      "\u001b[32;1m✔\u001b[39;22m \u001b[35;1mTest01_RingBufferCest:\u001b[39;22m Size should be zero when empty \u001b[32m(0.00s)\u001b[39m\n",
      "\u001b[32;1m✔\u001b[39;22m \u001b[35;1mTest01_RingBufferCest:\u001b[39;22m Push value size should increase \u001b[32m(0.00s)\u001b[39m\n",
      "\u001b[32;1m✔\u001b[39;22m \u001b[35;1mTest01_RingBufferCest:\u001b[39;22m Empty should be false when full \u001b[32m(0.00s)\u001b[39m\n",
      "\u001b[32;1m✔\u001b[39;22m \u001b[35;1mTest01_RingBufferCest:\u001b[39;22m Pop from empty \u001b[32m(0.00s)\u001b[39m\n",
      "\u001b[32;1m✔\u001b[39;22m \u001b[35;1mTest01_RingBufferCest:\u001b[39;22m Push and pop single value \u001b[32m(0.00s)\u001b[39m\n",
      "\u001b[32;1m✔\u001b[39;22m \u001b[35;1mTest01_RingBufferCest:\u001b[39;22m Pop should reduce size \u001b[32m(0.00s)\u001b[39m\n",
      "\u001b[32;1m✔\u001b[39;22m \u001b[35;1mTest01_RingBufferCest:\u001b[39;22m Back should not change buffer \u001b[32m(0.00s)\u001b[39m\n",
      "\u001b[32;1m✔\u001b[39;22m \u001b[35;1mTest01_RingBufferCest:\u001b[39;22m Push multiple times \u001b[32m(0.00s)\u001b[39m\n",
      "\u001b[32;1m✔\u001b[39;22m \u001b[35;1mTest01_RingBufferCest:\u001b[39;22m Multi item buffer \u001b[32m(0.00s)\u001b[39m\n",
      "\u001b[32;1m✔\u001b[39;22m \u001b[35;1mTest01_RingBufferCest:\u001b[39;22m Push and pop all values \u001b[32m(0.00s)\u001b[39m\n",
      "\u001b[32;1m✔\u001b[39;22m \u001b[35;1mTest01_RingBufferCest:\u001b[39;22m Access values by index \u001b[32m(0.00s)\u001b[39m\n",
      "--------------------------------------------------------------------------------\n",
      "Time: 00:00.123, Memory: 8.00 MB\n",
      "\n",
      "\u001b[30;42mOK (24 tests, 75 assertions)\u001b[39;49m\n"
     ]
    }
   ],
   "source": [
    "! vendor/bin/codecept run Unit"
   ]
  },
  {
   "cell_type": "code",
   "execution_count": 88,
   "metadata": {},
   "outputs": [],
   "source": [
    "import subprocess\n",
    "phpServer = subprocess.Popen(['php', '-S', 'localhost:8888', '-t', 'public'])"
   ]
  },
  {
   "cell_type": "code",
   "execution_count": 89,
   "metadata": {},
   "outputs": [
    {
     "name": "stderr",
     "output_type": "stream",
     "text": [
      "[Mon Nov 21 22:32:40 2022] PHP 8.1.12 Development Server (http://localhost:8888) started\n"
     ]
    },
    {
     "name": "stdout",
     "output_type": "stream",
     "text": [
      "Done.\r\n"
     ]
    },
    {
     "name": "stderr",
     "output_type": "stream",
     "text": [
      "[Mon Nov 21 22:32:41 2022] [::1]:56164 Accepted\n",
      "[Mon Nov 21 22:32:41 2022] [::1]:56164 Closed without sending a request; it was probably just an unused speculative preconnection\n",
      "[Mon Nov 21 22:32:41 2022] [::1]:56164 Closing\n"
     ]
    }
   ],
   "source": [
    "! while ! timeout 1 bash -c \"echo > /dev/tcp/localhost/8888\" 2> /dev/null; do sleep 1; done; echo \"Done.\";"
   ]
  },
  {
   "cell_type": "code",
   "execution_count": 90,
   "metadata": {},
   "outputs": [
    {
     "name": "stdout",
     "output_type": "stream",
     "text": [
      "Codeception PHP Testing Framework v5.0.4 https://helpukrainewin.org\n",
      "\n",
      "\u001b[1mTests.Acceptance Tests (15) \u001b[22m----------------------------------------------------\n",
      "- \u001b[35;1mTest00_PrettyUrlCest:\u001b[39;22m Test"
     ]
    },
    {
     "name": "stderr",
     "output_type": "stream",
     "text": [
      "[Mon Nov 21 22:32:41 2022] [::1]:56166 Accepted\n",
      "[Mon Nov 21 22:32:41 2022] [::1]:56166 [200]: GET /\n",
      "[Mon Nov 21 22:32:41 2022] [::1]:56166 Closing\n",
      "[Mon Nov 21 22:32:41 2022] [::1]:56176 Accepted\n",
      "[Mon Nov 21 22:32:41 2022] [::1]:56176 [200]: GET /home\n",
      "[Mon Nov 21 22:32:41 2022] [::1]:56176 Closing\n",
      "[Mon Nov 21 22:32:41 2022] [::1]:56178 Accepted\n",
      "[Mon Nov 21 22:32:41 2022] [::1]:56178 [200]: GET /about\n",
      "[Mon Nov 21 22:32:41 2022] [::1]:56178 Closing\n",
      "[Mon Nov 21 22:32:41 2022] [::1]:56180 Accepted\n",
      "[Mon Nov 21 22:32:41 2022] [::1]:56180 [200]: GET /users\n",
      "[Mon Nov 21 22:32:41 2022] [::1]:56180 Closing\n",
      "[Mon Nov 21 22:32:41 2022] [::1]:56192 Accepted\n",
      "[Mon Nov 21 22:32:41 2022] [::1]:56192 [200]: GET /users/1\n",
      "[Mon Nov 21 22:32:41 2022] [::1]:56192 Closing\n",
      "[Mon Nov 21 22:32:41 2022] [::1]:56204 Accepted\n",
      "[Mon Nov 21 22:32:41 2022] [::1]:56204 [200]: GET /users\n",
      "[Mon Nov 21 22:32:41 2022] [::1]:56204 Closing\n",
      "[Mon Nov 21 22:32:41 2022] [::1]:56218 Accepted\n",
      "[Mon Nov 21 22:32:41 2022] [::1]:56218 [200]: GET /users/2\n",
      "[Mon Nov 21 22:32:41 2022] [::1]:56218 Closing\n",
      "[Mon Nov 21 22:32:41 2022] [::1]:56222 Accepted\n",
      "[Mon Nov 21 22:32:41 2022] [::1]:56222 [200]: GET /users\n",
      "[Mon Nov 21 22:32:41 2022] [::1]:56222 Closing\n",
      "[Mon Nov 21 22:32:41 2022] [::1]:56226 Accepted\n",
      "[Mon Nov 21 22:32:41 2022] [::1]:56226 [200]: GET /users/3\n",
      "[Mon Nov 21 22:32:41 2022] [::1]:56226 Closing\n"
     ]
    },
    {
     "name": "stdout",
     "output_type": "stream",
     "text": [
      "\u001b[32;1m✔\u001b[39;22m \u001b[35;1mTest00_PrettyUrlCest:\u001b[39;22m Test \u001b[32m(0.20s)\u001b[39m\n",
      "\u001b[32;1m✔\u001b[39;22m \u001b[35;1mTest01_FileStorageCest:\u001b[39;22m Test \u001b[32m(0.05s)\u001b[39m\n",
      "\u001b[32;1m✔\u001b[39;22m \u001b[35;1mTest02_SessionStorageCest:\u001b[39;22m Test \u001b[32m(0.02s)\u001b[39m\n",
      "- \u001b[35;1mTest03_SQLiteStorageCest:\u001b[39;22m Test"
     ]
    },
    {
     "name": "stderr",
     "output_type": "stream",
     "text": [
      "[Mon Nov 21 22:32:42 2022] [::1]:56228 Accepted\n",
      "[Mon Nov 21 22:32:42 2022] [::1]:56228 [200]: GET /demo/file\n",
      "[Mon Nov 21 22:32:42 2022] [::1]:56228 Closing\n",
      "[Mon Nov 21 22:32:42 2022] [::1]:56236 Accepted\n",
      "[Mon Nov 21 22:32:42 2022] [::1]:56236 [200]: GET /demo/session\n",
      "[Mon Nov 21 22:32:42 2022] [::1]:56236 Closing\n",
      "[Mon Nov 21 22:32:42 2022] [::1]:56246 Accepted\n",
      "[Mon Nov 21 22:32:42 2022] [::1]:56246 [200]: GET /demo/sqlite\n",
      "[Mon Nov 21 22:32:42 2022] [::1]:56246 Closing\n"
     ]
    },
    {
     "name": "stdout",
     "output_type": "stream",
     "text": [
      "\r",
      "\u001b[32;1m✔\u001b[39;22m \u001b[35;1mTest03_SQLiteStorageCest:\u001b[39;22m Test \u001b[32m(0.12s)\u001b[39m\r\n",
      "- \u001b[35;1mTest04_MySQLStorageCest:\u001b[39;22m Test"
     ]
    },
    {
     "name": "stderr",
     "output_type": "stream",
     "text": [
      "[Mon Nov 21 22:32:42 2022] [::1]:56254 Accepted\n",
      "[Mon Nov 21 22:32:42 2022] [::1]:56254 [200]: GET /demo/mysql\n",
      "[Mon Nov 21 22:32:42 2022] [::1]:56254 Closing\n",
      "[Mon Nov 21 22:32:42 2022] [::1]:56266 Accepted\n"
     ]
    },
    {
     "name": "stdout",
     "output_type": "stream",
     "text": [
      "\u001b[32;1m✔\u001b[39;22m \u001b[35;1mTest04_MySQLStorageCest:\u001b[39;22m Test \u001b[32m(0.34s)\u001b[39m\n",
      "\u001b[32;1m✔\u001b[39;22m \u001b[35;1mTest05_RedisStorageCest:\u001b[39;22m Test \u001b[32m(0.08s)\u001b[39m\n",
      "- \u001b[35;1mTest06_HomepageCest:\u001b[39;22m See welcome message on homepage"
     ]
    },
    {
     "name": "stderr",
     "output_type": "stream",
     "text": [
      "[Mon Nov 21 22:32:42 2022] [::1]:56266 [200]: GET /demo/mysql\n",
      "[Mon Nov 21 22:32:42 2022] [::1]:56266 Closing\n",
      "[Mon Nov 21 22:32:42 2022] [::1]:56268 Accepted\n",
      "[Mon Nov 21 22:32:42 2022] [::1]:56268 [200]: GET /demo/redis\n",
      "[Mon Nov 21 22:32:42 2022] [::1]:56268 Closing\n",
      "[Mon Nov 21 22:32:42 2022] [::1]:56282 Accepted\n",
      "[Mon Nov 21 22:32:42 2022] [::1]:56282 [200]: GET /\n",
      "[Mon Nov 21 22:32:42 2022] [::1]:56282 Closing\n"
     ]
    },
    {
     "name": "stdout",
     "output_type": "stream",
     "text": [
      "\u001b[32;1m✔\u001b[39;22m \u001b[35;1mTest06_HomepageCest:\u001b[39;22m See login and register links \u001b[32m(0.15s)\u001b[39m\n",
      "- \u001b[35;1mTest07_RegisterCest:\u001b[39;22m Register new user"
     ]
    },
    {
     "name": "stderr",
     "output_type": "stream",
     "text": [
      "[Mon Nov 21 22:32:42 2022] [::1]:56284 Accepted\n",
      "[Mon Nov 21 22:32:42 2022] [::1]:56284 [200]: GET /home\n",
      "[Mon Nov 21 22:32:42 2022] [::1]:56284 Closing\n",
      "[Mon Nov 21 22:32:42 2022] [::1]:56300 Accepted\n",
      "[Mon Nov 21 22:32:42 2022] [::1]:56300 [200]: GET /\n",
      "[Mon Nov 21 22:32:42 2022] [::1]:56300 Closing\n",
      "[Mon Nov 21 22:32:42 2022] [::1]:56306 Accepted\n",
      "[Mon Nov 21 22:32:42 2022] [::1]:56306 [200]: GET /auth/register\n",
      "[Mon Nov 21 22:32:42 2022] [::1]:56306 Closing\n",
      "[Mon Nov 21 22:32:43 2022] [::1]:56312 Accepted\n"
     ]
    },
    {
     "name": "stdout",
     "output_type": "stream",
     "text": [
      "\r",
      "\u001b[32;1m✔\u001b[39;22m \u001b[35;1mTest07_RegisterCest:\u001b[39;22m Register new user \u001b[32m(0.58s)\u001b[39m\r\n",
      "- \u001b[35;1mTest08_RegisterValidationCest:\u001b[39;22m Validate data entered during registration"
     ]
    },
    {
     "name": "stderr",
     "output_type": "stream",
     "text": [
      "[Mon Nov 21 22:32:43 2022] [::1]:56312 [302]: POST /auth/register\n",
      "[Mon Nov 21 22:32:43 2022] [::1]:56312 Closing\n",
      "[Mon Nov 21 22:32:43 2022] [::1]:56314 Accepted\n",
      "[Mon Nov 21 22:32:43 2022] [::1]:56314 [200]: GET /auth/confirmation_notice\n",
      "[Mon Nov 21 22:32:43 2022] [::1]:56314 Closing\n"
     ]
    },
    {
     "name": "stdout",
     "output_type": "stream",
     "text": [
      "\r",
      "\u001b[32;1m✔\u001b[39;22m \u001b[35;1mTest08_RegisterValidationCest:\u001b[39;22m Validate data entered during registration \u001b[32m(0.13s)\u001b[39m\r\n",
      "- \u001b[35;1mTest09_RegisterRememberFieldsCest:\u001b[39;22m Remember data entered during registration when validation error is present"
     ]
    },
    {
     "name": "stderr",
     "output_type": "stream",
     "text": [
      "[Mon Nov 21 22:32:43 2022] [::1]:56326 Accepted\n",
      "[Mon Nov 21 22:32:43 2022] [::1]:56326 [200]: GET /auth/register\n",
      "[Mon Nov 21 22:32:43 2022] [::1]:56326 Closing\n",
      "[Mon Nov 21 22:32:43 2022] [::1]:56334 Accepted\n",
      "[Mon Nov 21 22:32:43 2022] [::1]:56334 [200]: POST /auth/register\n",
      "[Mon Nov 21 22:32:43 2022] [::1]:56334 Closing\n",
      "[Mon Nov 21 22:32:43 2022] [::1]:56344 Accepted\n",
      "[Mon Nov 21 22:32:43 2022] [::1]:56344 [200]: POST /auth/register\n",
      "[Mon Nov 21 22:32:43 2022] [::1]:56344 Closing\n",
      "[Mon Nov 21 22:32:43 2022] [::1]:56358 Accepted\n",
      "[Mon Nov 21 22:32:43 2022] [::1]:56358 [200]: GET /auth/register\n",
      "[Mon Nov 21 22:32:43 2022] [::1]:56358 Closing\n",
      "[Mon Nov 21 22:32:43 2022] [::1]:56360 Accepted\n",
      "[Mon Nov 21 22:32:43 2022] [::1]:56360 [200]: POST /auth/register\n",
      "[Mon Nov 21 22:32:43 2022] [::1]:56360 Closing\n"
     ]
    },
    {
     "name": "stdout",
     "output_type": "stream",
     "text": [
      "\r",
      "\u001b[32;1m✔\u001b[39;22m \u001b[35;1mTest09_RegisterRememberFieldsCest:\u001b[39;22m Remember data entered during registration when validation error is present \u001b[32m(0.30s)\u001b[39m\r\n",
      "- \u001b[35;1mTest10_RegisterConfirmCest:\u001b[39;22m Confirm user using link"
     ]
    },
    {
     "name": "stderr",
     "output_type": "stream",
     "text": [
      "[Mon Nov 21 22:32:43 2022] [::1]:56370 Accepted\n",
      "[Mon Nov 21 22:32:43 2022] [::1]:56370 [200]: POST /auth/register\n",
      "[Mon Nov 21 22:32:43 2022] [::1]:56370 Closing\n",
      "[Mon Nov 21 22:32:43 2022] [::1]:56380 Accepted\n",
      "[Mon Nov 21 22:32:43 2022] [::1]:56380 [200]: POST /auth/register\n",
      "[Mon Nov 21 22:32:43 2022] [::1]:56380 Closing\n",
      "[Mon Nov 21 22:32:43 2022] [::1]:56382 Accepted\n",
      "[Mon Nov 21 22:32:43 2022] [::1]:56382 [200]: POST /auth/register\n",
      "[Mon Nov 21 22:32:43 2022] [::1]:56382 Closing\n",
      "[Mon Nov 21 22:32:43 2022] [::1]:56390 Accepted\n",
      "[Mon Nov 21 22:32:43 2022] [::1]:56390 [200]: POST /auth/register\n",
      "[Mon Nov 21 22:32:43 2022] [::1]:56390 Closing\n",
      "[Mon Nov 21 22:32:43 2022] [::1]:56406 Accepted\n",
      "[Mon Nov 21 22:32:43 2022] [::1]:56406 [200]: GET /auth/register\n",
      "[Mon Nov 21 22:32:43 2022] [::1]:56406 Closing\n"
     ]
    },
    {
     "name": "stdout",
     "output_type": "stream",
     "text": [
      "\r",
      "\u001b[31;1m✖\u001b[39;22m \u001b[35;1mTest10_RegisterConfirmCest:\u001b[39;22m Check that error disappears after page refresh \u001b[32m(0.34s)\u001b[39m\r\n",
      "- \u001b[35;1mTest11_LoginNotExistingCest:\u001b[39;22m See error when user does not exists"
     ]
    },
    {
     "name": "stderr",
     "output_type": "stream",
     "text": [
      "[Mon Nov 21 22:32:44 2022] [::1]:56420 Accepted\n",
      "[Mon Nov 21 22:32:44 2022] [::1]:56420 [302]: GET /auth/confirm/ThisIsAnInvalidEmailConfirmationToken\n",
      "[Mon Nov 21 22:32:44 2022] [::1]:56420 Closing\n",
      "[Mon Nov 21 22:32:44 2022] [::1]:56424 Accepted\n",
      "[Mon Nov 21 22:32:44 2022] [::1]:56424 [200]: GET /\n",
      "[Mon Nov 21 22:32:44 2022] [::1]:56424 Closing\n",
      "[Mon Nov 21 22:32:44 2022] [::1]:56440 Accepted\n",
      "[Mon Nov 21 22:32:44 2022] [::1]:56440 [200]: GET /\n",
      "[Mon Nov 21 22:32:44 2022] [::1]:56440 Closing\n",
      "[Mon Nov 21 22:32:44 2022] [::1]:56446 Accepted\n",
      "[Mon Nov 21 22:32:44 2022] [::1]:56446 [302]: GET /auth/confirm/2d1a58d3ac521d176b91168f9bc0be27\n",
      "[Mon Nov 21 22:32:44 2022] [::1]:56446 Closing\n",
      "[Mon Nov 21 22:32:44 2022] [::1]:56460 Accepted\n",
      "[Mon Nov 21 22:32:44 2022] [::1]:56460 [200]: GET /\n",
      "[Mon Nov 21 22:32:44 2022] [::1]:56460 Closing\n"
     ]
    },
    {
     "name": "stdout",
     "output_type": "stream",
     "text": [
      "\r",
      "\u001b[32;1m✔\u001b[39;22m \u001b[35;1mTest11_LoginNotExistingCest:\u001b[39;22m See error when user does not exists \u001b[32m(0.15s)\u001b[39m\r\n",
      "- \u001b[35;1mTest12_LoginWrongPasswordCest:\u001b[39;22m See error when wrong password is entered"
     ]
    },
    {
     "name": "stderr",
     "output_type": "stream",
     "text": [
      "[Mon Nov 21 22:32:44 2022] [::1]:56466 Accepted\n",
      "[Mon Nov 21 22:32:44 2022] [::1]:56466 [200]: GET /auth/login\n",
      "[Mon Nov 21 22:32:44 2022] [::1]:56466 Closing\n",
      "[Mon Nov 21 22:32:44 2022] [::1]:56476 Accepted\n",
      "[Mon Nov 21 22:32:44 2022] [::1]:56476 [302]: POST /auth/login\n",
      "[Mon Nov 21 22:32:44 2022] [::1]:56476 Closing\n",
      "[Mon Nov 21 22:32:44 2022] [::1]:56484 Accepted\n",
      "[Mon Nov 21 22:32:44 2022] [::1]:56484 [200]: GET /\n",
      "[Mon Nov 21 22:32:44 2022] [::1]:56484 Closing\n",
      "[Mon Nov 21 22:32:44 2022] [::1]:56490 Accepted\n",
      "[Mon Nov 21 22:32:44 2022] [::1]:56490 [200]: GET /auth/login\n",
      "[Mon Nov 21 22:32:44 2022] [::1]:56490 Closing\n",
      "[Mon Nov 21 22:32:44 2022] [::1]:56504 Accepted\n",
      "[Mon Nov 21 22:32:44 2022] [::1]:56504 [200]: POST /auth/login\n",
      "[Mon Nov 21 22:32:44 2022] [::1]:56504 Closing\n"
     ]
    },
    {
     "name": "stdout",
     "output_type": "stream",
     "text": [
      "\r",
      "\u001b[32;1m✔\u001b[39;22m \u001b[35;1mTest12_LoginWrongPasswordCest:\u001b[39;22m See error when wrong password is entered \u001b[32m(0.47s)\u001b[39m\r\n",
      "- \u001b[35;1mTest13_LoginNotConfirmedCest:\u001b[39;22m Be remained about email confirmation when trying to login"
     ]
    },
    {
     "name": "stderr",
     "output_type": "stream",
     "text": [
      "[Mon Nov 21 22:32:44 2022] [::1]:56514 Accepted\n",
      "[Mon Nov 21 22:32:44 2022] [::1]:56514 [200]: GET /auth/login\n",
      "[Mon Nov 21 22:32:44 2022] [::1]:56514 Closing\n",
      "[Mon Nov 21 22:32:45 2022] [::1]:56520 Accepted\n"
     ]
    },
    {
     "name": "stdout",
     "output_type": "stream",
     "text": [
      "\u001b[31;1m✖\u001b[39;22m \u001b[35;1mTest13_LoginNotConfirmedCest:\u001b[39;22m Be remained about email confirmation when trying to login \u001b[32m(0.44s)\u001b[39m\n",
      "- \u001b[35;1mTest14_LoginLogoutSeeHiddenContentCest:\u001b[39;22m See hidden content after login"
     ]
    },
    {
     "name": "stderr",
     "output_type": "stream",
     "text": [
      "[Mon Nov 21 22:32:45 2022] [::1]:56520 [302]: POST /auth/login\n",
      "[Mon Nov 21 22:32:45 2022] [::1]:56520 Closing\n",
      "[Mon Nov 21 22:32:45 2022] [::1]:56534 Accepted\n",
      "[Mon Nov 21 22:32:45 2022] [::1]:56534 [200]: GET /\n",
      "[Mon Nov 21 22:32:45 2022] [::1]:56534 Closing\n",
      "[Mon Nov 21 22:32:45 2022] [::1]:56540 Accepted\n",
      "[Mon Nov 21 22:32:45 2022] [::1]:56540 [200]: GET /\n",
      "[Mon Nov 21 22:32:45 2022] [::1]:56540 Closing\n",
      "[Mon Nov 21 22:32:45 2022] [::1]:56554 Accepted\n",
      "[Mon Nov 21 22:32:45 2022] [::1]:56554 [200]: GET /auth/login\n",
      "[Mon Nov 21 22:32:45 2022] [::1]:56554 Closing\n",
      "[Mon Nov 21 22:32:45 2022] [::1]:56564 Accepted\n",
      "[Mon Nov 21 22:32:45 2022] [::1]:56564 [302]: POST /auth/login\n",
      "[Mon Nov 21 22:32:45 2022] [::1]:56564 Closing\n",
      "[Mon Nov 21 22:32:45 2022] [::1]:56574 Accepted\n",
      "[Mon Nov 21 22:32:45 2022] [::1]:56574 [200]: GET /\n",
      "[Mon Nov 21 22:32:45 2022] [::1]:56574 Closing\n"
     ]
    },
    {
     "name": "stdout",
     "output_type": "stream",
     "text": [
      "\u001b[31;1m✖\u001b[39;22m \u001b[35;1mTest14_LoginLogoutSeeHiddenContentCest:\u001b[39;22m See hidden content after login \u001b[32m(0.44s)\u001b[39m\n",
      "--------------------------------------------------------------------------------\n",
      "Time: 00:04.082, Memory: 12.00 MB\n",
      "\n",
      "There were 3 failures:\n",
      "1) \u001b[35;1mTest10_RegisterConfirmCest:\u001b[39;22m Check that error disappears after page refresh\n",
      "\u001b[37;41;1m Test  \u001b[39;49;22mtests/Acceptance/Test10_RegisterConfirmCest.php:test\n",
      "\u001b[37;41;1m Step \u001b[39;49;22m See \"Email successfully confirmed!\",\"li.info\"\n",
      "\u001b[37;41;1m Fail \u001b[39;49;22m Element located either by name, CSS or XPath element with 'li.info' was not found.\n",
      "\u001b[33m\n",
      "Scenario Steps:\n",
      "\u001b[39m\n",
      "\u001b[1m 11. $I->see(\"Email successfully confirmed!\",\"li.info\")\u001b[22m at \u001b[32mtests/Acceptance/Test10_RegisterConfirmCest.php:47\u001b[39m\n",
      " 10. $I->dontSee(\"Provided token is invalid!\") at \u001b[32mtests/Acceptance/Test10_RegisterConfirmCest.php:46\u001b[39m\n",
      " 9. $I->seeCurrentUrlEquals(\"/\") at \u001b[32mtests/Acceptance/Test10_RegisterConfirmCest.php:45\u001b[39m\n",
      " 8. $I->amOnPage(\"/auth/confirm/2d1a58d3ac521d176b91168f9bc0be27\") at \u001b[32mtests/Acceptance/Test10_RegisterConfirmCest.php:44\u001b[39m\n",
      " 7. // I am going to confirm user using valid token\n",
      " 6. $I->dontSee(\"Provided token is invalid!\") at \u001b[32mtests/Acceptance/Test10_RegisterConfirmCest.php:41\u001b[39m\n",
      "\n",
      "\u001b[33mArtifacts:\u001b[39m\n",
      "\n",
      "Html: \u001b[36m/home/student/php_2022_adam_lewinski/07_testing/02_exercise/project/tests/_output/Tests.Acceptance.Test10_RegisterConfirmCest.test.fail.html\u001b[39m\n",
      "Response: \u001b[36m/home/student/php_2022_adam_lewinski/07_testing/02_exercise/project/tests/_output/Tests.Acceptance.Test10_RegisterConfirmCest.test.fail.html\u001b[39m\n",
      "2) \u001b[35;1mTest13_LoginNotConfirmedCest:\u001b[39;22m Be remained about email confirmation when trying to login\n",
      "\u001b[37;41;1m Test  \u001b[39;49;22mtests/Acceptance/Test13_LoginNotConfirmedCest.php:test\n",
      "\u001b[37;41;1m Step \u001b[39;49;22m See current url equals \"/auth/confirmation_notice\"\n",
      "\u001b[37;41;1m Fail \u001b[39;49;22m Failed asserting that two strings are identical.\n",
      "\u001b[33m- Expected\u001b[39m | \u001b[32m+ Actual\u001b[39m\n",
      "@@ @@\n",
      "\u001b[33m-'/auth/confirmation_notice'\u001b[39m\n",
      "\u001b[32m+''\u001b[39m\n",
      "\u001b[33m\n",
      "Scenario Steps:\n",
      "\u001b[39m\n",
      "\u001b[1m 8. $I->seeCurrentUrlEquals(\"/auth/confirmation_notice\")\u001b[22m at \u001b[32mtests/Acceptance/Test13_LoginNotConfirmedCest.php:42\u001b[39m\n",
      " 7. $I->click(\"Enter\") at \u001b[32mtests/Acceptance/Test13_LoginNotConfirmedCest.php:40\u001b[39m\n",
      " 6. $I->fillField(\"password\",\"foo\") at \u001b[32mtests/Acceptance/Test13_LoginNotConfirmedCest.php:38\u001b[39m\n",
      " 5. $I->fillField(\"email\",\"dummy@example.com\") at \u001b[32mtests/Acceptance/Test13_LoginNotConfirmedCest.php:37\u001b[39m\n",
      " 4. $I->haveInDatabase(\"objects\",{\"key\":\"model_user_1\",\"data\":\"O:10:\"Model\\...}) at \u001b[32mtests/Acceptance/Test13_LoginNotConfirmedCest.php:33\u001b[39m\n",
      " 3. $I->see(\"Login\",\"h2\") at \u001b[32mtests/Acceptance/Test13_LoginNotConfirmedCest.php:19\u001b[39m\n",
      "\n",
      "\u001b[33mArtifacts:\u001b[39m\n",
      "\n",
      "Html: \u001b[36m/home/student/php_2022_adam_lewinski/07_testing/02_exercise/project/tests/_output/Tests.Acceptance.Test13_LoginNotConfirmedCest.test.fail.html\u001b[39m\n",
      "Response: \u001b[36m/home/student/php_2022_adam_lewinski/07_testing/02_exercise/project/tests/_output/Tests.Acceptance.Test13_LoginNotConfirmedCest.test.fail.html\u001b[39m\n",
      "3) \u001b[35;1mTest14_LoginLogoutSeeHiddenContentCest:\u001b[39;22m See hidden content after login\n",
      "\u001b[37;41;1m Test  \u001b[39;49;22mtests/Acceptance/Test14_LoginLogoutSeeHiddenContentCest.php:test\n",
      "\u001b[37;41;1m Step \u001b[39;49;22m See \"Welcome back Dummy!\"\n",
      "\u001b[37;41;1m Fail \u001b[39;49;22m Failed asserting that on page /\n",
      "-->  Homepage Home Demo About Users Welcome on homepage! Login Register \n",
      "--> contains \"Welcome back Dummy!\".\n",
      "\u001b[33m\n",
      "Scenario Steps:\n",
      "\u001b[39m\n",
      "\u001b[1m 14. $I->see(\"Welcome back Dummy!\")\u001b[22m at \u001b[32mtests/Acceptance/Test14_LoginLogoutSeeHiddenContentCest.php:53\u001b[39m\n",
      " 13. $I->seeCurrentUrlEquals(\"/\") at \u001b[32mtests/Acceptance/Test14_LoginLogoutSeeHiddenContentCest.php:52\u001b[39m\n",
      " 12. $I->click(\"Enter\") at \u001b[32mtests/Acceptance/Test14_LoginLogoutSeeHiddenContentCest.php:50\u001b[39m\n",
      " 11. $I->fillField(\"password\",\"foo\") at \u001b[32mtests/Acceptance/Test14_LoginLogoutSeeHiddenContentCest.php:48\u001b[39m\n",
      " 10. $I->fillField(\"email\",\"dummy@example.com\") at \u001b[32mtests/Acceptance/Test14_LoginLogoutSeeHiddenContentCest.php:47\u001b[39m\n",
      " 9. $I->see(\"Login\",\"h2\") at \u001b[32mtests/Acceptance/Test14_LoginLogoutSeeHiddenContentCest.php:44\u001b[39m\n",
      "\n",
      "\u001b[33mArtifacts:\u001b[39m\n",
      "\n",
      "Html: \u001b[36m/home/student/php_2022_adam_lewinski/07_testing/02_exercise/project/tests/_output/Tests.Acceptance.Test14_LoginLogoutSeeHiddenContentCest.test.fail.html\u001b[39m\n",
      "Response: \u001b[36m/home/student/php_2022_adam_lewinski/07_testing/02_exercise/project/tests/_output/Tests.Acceptance.Test14_LoginLogoutSeeHiddenContentCest.test.fail.html\u001b[39m\n",
      "\n",
      "\u001b[37;41;1mFAILURES!\u001b[39;49;22m\n",
      "\u001b[37;41;1mTests: 15, Assertions: 259, Failures: 3.\u001b[39;49;22m\n"
     ]
    }
   ],
   "source": [
    "! vendor/bin/codecept run Acceptance"
   ]
  },
  {
   "cell_type": "code",
   "execution_count": 91,
   "metadata": {},
   "outputs": [
    {
     "name": "stdout",
     "output_type": "stream",
     "text": [
      "Codeception PHP Testing Framework v5.0.4 https://helpukrainewin.org\n",
      "\n",
      "\u001b[1mTests.Acceptance Tests (15) \u001b[22m----------------------------------------------------\n",
      "\u001b[32;1m✔\u001b[39;22m \u001b[35;1mTest00_PrettyUrlCest:\u001b[39;22m Test \u001b[32m(0.14s)\u001b[39m\n",
      "- \u001b[35;1mTest01_FileStorageCest:\u001b[39;22m Test"
     ]
    },
    {
     "name": "stderr",
     "output_type": "stream",
     "text": [
      "[Mon Nov 21 22:32:46 2022] [::1]:38248 Accepted\n",
      "[Mon Nov 21 22:32:46 2022] [::1]:38248 [200]: GET /\n",
      "[Mon Nov 21 22:32:46 2022] [::1]:38248 Closing\n",
      "[Mon Nov 21 22:32:46 2022] [::1]:38254 Accepted\n",
      "[Mon Nov 21 22:32:46 2022] [::1]:38254 [200]: GET /home\n",
      "[Mon Nov 21 22:32:46 2022] [::1]:38254 Closing\n",
      "[Mon Nov 21 22:32:46 2022] [::1]:38264 Accepted\n",
      "[Mon Nov 21 22:32:46 2022] [::1]:38264 [200]: GET /about\n",
      "[Mon Nov 21 22:32:46 2022] [::1]:38264 Closing\n",
      "[Mon Nov 21 22:32:46 2022] [::1]:38266 Accepted\n",
      "[Mon Nov 21 22:32:46 2022] [::1]:38266 [200]: GET /users\n",
      "[Mon Nov 21 22:32:46 2022] [::1]:38266 Closing\n",
      "[Mon Nov 21 22:32:46 2022] [::1]:38272 Accepted\n",
      "[Mon Nov 21 22:32:46 2022] [::1]:38272 [200]: GET /users/1\n",
      "[Mon Nov 21 22:32:46 2022] [::1]:38272 Closing\n",
      "[Mon Nov 21 22:32:46 2022] [::1]:38274 Accepted\n",
      "[Mon Nov 21 22:32:46 2022] [::1]:38274 [200]: GET /users\n",
      "[Mon Nov 21 22:32:46 2022] [::1]:38274 Closing\n",
      "[Mon Nov 21 22:32:46 2022] [::1]:38284 Accepted\n",
      "[Mon Nov 21 22:32:46 2022] [::1]:38284 [200]: GET /users/2\n",
      "[Mon Nov 21 22:32:46 2022] [::1]:38284 Closing\n",
      "[Mon Nov 21 22:32:46 2022] [::1]:38288 Accepted\n",
      "[Mon Nov 21 22:32:46 2022] [::1]:38288 [200]: GET /users\n",
      "[Mon Nov 21 22:32:46 2022] [::1]:38288 Closing\n",
      "[Mon Nov 21 22:32:46 2022] [::1]:38294 Accepted\n",
      "[Mon Nov 21 22:32:46 2022] [::1]:38294 [200]: GET /users/3\n",
      "[Mon Nov 21 22:32:46 2022] [::1]:38294 Closing\n",
      "[Mon Nov 21 22:32:46 2022] [::1]:38304 Accepted\n",
      "[Mon Nov 21 22:32:46 2022] [::1]:38304 [200]: GET /demo/file\n",
      "[Mon Nov 21 22:32:46 2022] [::1]:38304 Closing\n",
      "[Mon Nov 21 22:32:46 2022] [::1]:38308 Accepted\n",
      "[Mon Nov 21 22:32:46 2022] [::1]:38308 [200]: GET /demo/session\n",
      "[Mon Nov 21 22:32:46 2022] [::1]:38308 Closing\n",
      "[Mon Nov 21 22:32:46 2022] [::1]:38322 Accepted\n"
     ]
    },
    {
     "name": "stdout",
     "output_type": "stream",
     "text": [
      "\u001b[32;1m✔\u001b[39;22m \u001b[35;1mTest01_FileStorageCest:\u001b[39;22m Test \u001b[32m(0.03s)\u001b[39m\n",
      "\u001b[32;1m✔\u001b[39;22m \u001b[35;1mTest02_SessionStorageCest:\u001b[39;22m Test \u001b[32m(0.01s)\u001b[39m\n",
      "\u001b[32;1m✔\u001b[39;22m \u001b[35;1mTest03_SQLiteStorageCest:\u001b[39;22m Test \u001b[32m(0.12s)\u001b[39m\n",
      "- \u001b[35;1mTest04_MySQLStorageCest:\u001b[39;22m Test"
     ]
    },
    {
     "name": "stderr",
     "output_type": "stream",
     "text": [
      "[Mon Nov 21 22:32:46 2022] [::1]:38322 [200]: GET /demo/sqlite\n",
      "[Mon Nov 21 22:32:46 2022] [::1]:38322 Closing\n",
      "[Mon Nov 21 22:32:46 2022] [::1]:38328 Accepted\n",
      "[Mon Nov 21 22:32:46 2022] [::1]:38328 [200]: GET /demo/mysql\n",
      "[Mon Nov 21 22:32:46 2022] [::1]:38328 Closing\n"
     ]
    },
    {
     "name": "stdout",
     "output_type": "stream",
     "text": [
      "\r",
      "\u001b[32;1m✔\u001b[39;22m \u001b[35;1mTest04_MySQLStorageCest:\u001b[39;22m Test \u001b[32m(0.31s)\u001b[39m\r\n",
      "- \u001b[35;1mTest05_RedisStorageCest:\u001b[39;22m Test\r",
      "\u001b[32;1m✔\u001b[39;22m "
     ]
    },
    {
     "name": "stderr",
     "output_type": "stream",
     "text": [
      "[Mon Nov 21 22:32:46 2022] [::1]:38330 Accepted\n",
      "[Mon Nov 21 22:32:46 2022] [::1]:38330 [200]: GET /demo/mysql\n",
      "[Mon Nov 21 22:32:46 2022] [::1]:38330 Closing\n",
      "[Mon Nov 21 22:32:46 2022] [::1]:38340 Accepted\n",
      "[Mon Nov 21 22:32:46 2022] [::1]:38340 [200]: GET /demo/redis\n",
      "[Mon Nov 21 22:32:46 2022] [::1]:38340 Closing\n"
     ]
    },
    {
     "name": "stdout",
     "output_type": "stream",
     "text": [
      "\u001b[35;1mTest05_RedisStorageCest:\u001b[39;22m Test \u001b[32m(0.03s)\u001b[39m\n",
      "\u001b[32;1m✔\u001b[39;22m \u001b[35;1mTest06_HomepageCest:\u001b[39;22m See login and register links \u001b[32m(0.11s)\u001b[39m\n",
      "- \u001b[35;1mTest07_RegisterCest:\u001b[39;22m Register new user"
     ]
    },
    {
     "name": "stderr",
     "output_type": "stream",
     "text": [
      "[Mon Nov 21 22:32:46 2022] [::1]:38346 Accepted\n",
      "[Mon Nov 21 22:32:46 2022] [::1]:38346 [200]: GET /\n",
      "[Mon Nov 21 22:32:46 2022] [::1]:38346 Closing\n",
      "[Mon Nov 21 22:32:47 2022] [::1]:38362 Accepted\n",
      "[Mon Nov 21 22:32:47 2022] [::1]:38362 [200]: GET /home\n",
      "[Mon Nov 21 22:32:47 2022] [::1]:38362 Closing\n",
      "[Mon Nov 21 22:32:47 2022] [::1]:38370 Accepted\n",
      "[Mon Nov 21 22:32:47 2022] [::1]:38370 [200]: GET /\n",
      "[Mon Nov 21 22:32:47 2022] [::1]:38370 Closing\n",
      "[Mon Nov 21 22:32:47 2022] [::1]:38380 Accepted\n",
      "[Mon Nov 21 22:32:47 2022] [::1]:38380 [200]: GET /auth/register\n",
      "[Mon Nov 21 22:32:47 2022] [::1]:38380 Closing\n",
      "[Mon Nov 21 22:32:47 2022] [::1]:38392 Accepted\n",
      "[Mon Nov 21 22:32:47 2022] [::1]:38392 [302]: POST /auth/register\n",
      "[Mon Nov 21 22:32:47 2022] [::1]:38392 Closing\n",
      "[Mon Nov 21 22:32:47 2022] [::1]:38408 Accepted\n",
      "[Mon Nov 21 22:32:47 2022] [::1]:38408 [200]: GET /auth/confirmation_notice\n",
      "[Mon Nov 21 22:32:47 2022] [::1]:38408 Closing\n"
     ]
    },
    {
     "name": "stdout",
     "output_type": "stream",
     "text": [
      "\u001b[32;1m✔\u001b[39;22m \u001b[35;1mTest07_RegisterCest:\u001b[39;22m Register new user \u001b[32m(0.49s)\u001b[39m\n",
      "\u001b[32;1m✔\u001b[39;22m \u001b[35;1mTest08_RegisterValidationCest:\u001b[39;22m Validate data entered during registration \u001b[32m(0.18s)\u001b[39m\n",
      "- \u001b[35;1mTest09_RegisterRememberFieldsCest:\u001b[39;22m Remember data entered during registration when validation error is present"
     ]
    },
    {
     "name": "stderr",
     "output_type": "stream",
     "text": [
      "[Mon Nov 21 22:32:47 2022] [::1]:38422 Accepted\n",
      "[Mon Nov 21 22:32:47 2022] [::1]:38422 [200]: GET /auth/register\n",
      "[Mon Nov 21 22:32:47 2022] [::1]:38422 Closing\n",
      "[Mon Nov 21 22:32:47 2022] [::1]:38428 Accepted\n",
      "[Mon Nov 21 22:32:47 2022] [::1]:38428 [200]: POST /auth/register\n",
      "[Mon Nov 21 22:32:47 2022] [::1]:38428 Closing\n",
      "[Mon Nov 21 22:32:47 2022] [::1]:38442 Accepted\n",
      "[Mon Nov 21 22:32:47 2022] [::1]:38442 [200]: POST /auth/register\n",
      "[Mon Nov 21 22:32:47 2022] [::1]:38442 Closing\n",
      "[Mon Nov 21 22:32:47 2022] [::1]:38446 Accepted\n",
      "[Mon Nov 21 22:32:47 2022] [::1]:38446 [200]: GET /auth/register\n",
      "[Mon Nov 21 22:32:47 2022] [::1]:38446 Closing\n",
      "[Mon Nov 21 22:32:47 2022] [::1]:38458 Accepted\n",
      "[Mon Nov 21 22:32:47 2022] [::1]:38458 [200]: POST /auth/register\n",
      "[Mon Nov 21 22:32:47 2022] [::1]:38458 Closing\n",
      "[Mon Nov 21 22:32:47 2022] [::1]:38474 Accepted\n",
      "[Mon Nov 21 22:32:47 2022] [::1]:38474 [200]: POST /auth/register\n",
      "[Mon Nov 21 22:32:47 2022] [::1]:38474 Closing\n"
     ]
    },
    {
     "name": "stdout",
     "output_type": "stream",
     "text": [
      "\u001b[32;1m✔\u001b[39;22m \u001b[35;1mTest09_RegisterRememberFieldsCest:\u001b[39;22m Remember data entered during registration when validation error is present \u001b[32m(0.22s)\u001b[39m\n",
      "- \u001b[35;1mTest10_RegisterConfirmCest:\u001b[39;22m Confirm user using link"
     ]
    },
    {
     "name": "stderr",
     "output_type": "stream",
     "text": [
      "[Mon Nov 21 22:32:47 2022] [::1]:38480 Accepted\n",
      "[Mon Nov 21 22:32:47 2022] [::1]:38480 [200]: POST /auth/register\n",
      "[Mon Nov 21 22:32:47 2022] [::1]:38480 Closing\n",
      "[Mon Nov 21 22:32:47 2022] [::1]:38490 Accepted\n",
      "[Mon Nov 21 22:32:47 2022] [::1]:38490 [200]: POST /auth/register\n",
      "[Mon Nov 21 22:32:47 2022] [::1]:38490 Closing\n",
      "[Mon Nov 21 22:32:47 2022] [::1]:38496 Accepted\n",
      "[Mon Nov 21 22:32:47 2022] [::1]:38496 [200]: POST /auth/register\n",
      "[Mon Nov 21 22:32:47 2022] [::1]:38496 Closing\n",
      "[Mon Nov 21 22:32:47 2022] [::1]:38512 Accepted\n",
      "[Mon Nov 21 22:32:47 2022] [::1]:38512 [200]: GET /auth/register\n",
      "[Mon Nov 21 22:32:47 2022] [::1]:38512 Closing\n"
     ]
    },
    {
     "name": "stdout",
     "output_type": "stream",
     "text": [
      "\u001b[31;1m✖\u001b[39;22m \u001b[35;1mTest10_RegisterConfirmCest:\u001b[39;22m Check that error disappears after page refresh \u001b[32m(0.32s)\u001b[39m\n",
      "- \u001b[35;1mTest11_LoginNotExistingCest:\u001b[39;22m See error when user does not exists"
     ]
    },
    {
     "name": "stderr",
     "output_type": "stream",
     "text": [
      "[Mon Nov 21 22:32:48 2022] [::1]:38518 Accepted\n",
      "[Mon Nov 21 22:32:48 2022] [::1]:38518 [302]: GET /auth/confirm/ThisIsAnInvalidEmailConfirmationToken\n",
      "[Mon Nov 21 22:32:48 2022] [::1]:38518 Closing\n",
      "[Mon Nov 21 22:32:48 2022] [::1]:38534 Accepted\n",
      "[Mon Nov 21 22:32:48 2022] [::1]:38534 [200]: GET /\n",
      "[Mon Nov 21 22:32:48 2022] [::1]:38534 Closing\n",
      "[Mon Nov 21 22:32:48 2022] [::1]:38546 Accepted\n",
      "[Mon Nov 21 22:32:48 2022] [::1]:38546 [200]: GET /\n",
      "[Mon Nov 21 22:32:48 2022] [::1]:38546 Closing\n",
      "[Mon Nov 21 22:32:48 2022] [::1]:38552 Accepted\n",
      "[Mon Nov 21 22:32:48 2022] [::1]:38552 [302]: GET /auth/confirm/2a7c165bb7033275b533e2a924b525c7\n",
      "[Mon Nov 21 22:32:48 2022] [::1]:38552 Closing\n",
      "[Mon Nov 21 22:32:48 2022] [::1]:38560 Accepted\n",
      "[Mon Nov 21 22:32:48 2022] [::1]:38560 [200]: GET /\n",
      "[Mon Nov 21 22:32:48 2022] [::1]:38560 Closing\n",
      "[Mon Nov 21 22:32:48 2022] [::1]:38576 Accepted\n"
     ]
    },
    {
     "name": "stdout",
     "output_type": "stream",
     "text": [
      "\r",
      "\u001b[32;1m✔\u001b[39;22m \u001b[35;1mTest11_LoginNotExistingCest:\u001b[39;22m See error when user does not exists \u001b[32m(0.12s)\u001b[39m\r\n",
      "- \u001b[35;1mTest12_LoginWrongPasswordCest:\u001b[39;22m See error when wrong password is entered"
     ]
    },
    {
     "name": "stderr",
     "output_type": "stream",
     "text": [
      "[Mon Nov 21 22:32:48 2022] [::1]:38576 [200]: GET /auth/login\n",
      "[Mon Nov 21 22:32:48 2022] [::1]:38576 Closing\n",
      "[Mon Nov 21 22:32:48 2022] [::1]:38588 Accepted\n",
      "[Mon Nov 21 22:32:48 2022] [::1]:38588 [302]: POST /auth/login\n",
      "[Mon Nov 21 22:32:48 2022] [::1]:38588 Closing\n",
      "[Mon Nov 21 22:32:48 2022] [::1]:38598 Accepted\n",
      "[Mon Nov 21 22:32:48 2022] [::1]:38598 [200]: GET /\n",
      "[Mon Nov 21 22:32:48 2022] [::1]:38598 Closing\n",
      "[Mon Nov 21 22:32:48 2022] [::1]:38610 Accepted\n",
      "[Mon Nov 21 22:32:48 2022] [::1]:38610 [200]: GET /auth/login\n",
      "[Mon Nov 21 22:32:48 2022] [::1]:38610 Closing\n"
     ]
    },
    {
     "name": "stdout",
     "output_type": "stream",
     "text": [
      "\r",
      "\u001b[32;1m✔\u001b[39;22m \u001b[35;1mTest12_LoginWrongPasswordCest:\u001b[39;22m See error when wrong password is entered \u001b[32m(0.40s)\u001b[39m\r\n",
      "- \u001b[35;1mTest13_LoginNotConfirmedCest:\u001b[39;22m Be remained about email confirmation when trying to login"
     ]
    },
    {
     "name": "stderr",
     "output_type": "stream",
     "text": [
      "[Mon Nov 21 22:32:48 2022] [::1]:38626 Accepted\n",
      "[Mon Nov 21 22:32:48 2022] [::1]:38626 [200]: POST /auth/login\n",
      "[Mon Nov 21 22:32:48 2022] [::1]:38626 Closing\n",
      "[Mon Nov 21 22:32:48 2022] [::1]:38638 Accepted\n",
      "[Mon Nov 21 22:32:48 2022] [::1]:38638 [200]: GET /auth/login\n",
      "[Mon Nov 21 22:32:48 2022] [::1]:38638 Closing\n",
      "[Mon Nov 21 22:32:49 2022] [::1]:38644 Accepted\n"
     ]
    },
    {
     "name": "stdout",
     "output_type": "stream",
     "text": [
      "\r",
      "\u001b[31;1m✖\u001b[39;22m \u001b[35;1mTest13_LoginNotConfirmedCest:\u001b[39;22m Be remained about email confirmation when trying to login \u001b[32m(0.41s)\u001b[39m\r\n",
      "- \u001b[35;1mTest14_LoginLogoutSeeHiddenContentCest:\u001b[39;22m See hidden content after login"
     ]
    },
    {
     "name": "stderr",
     "output_type": "stream",
     "text": [
      "[Mon Nov 21 22:32:49 2022] [::1]:38644 [302]: POST /auth/login\n",
      "[Mon Nov 21 22:32:49 2022] [::1]:38644 Closing\n",
      "[Mon Nov 21 22:32:49 2022] [::1]:38660 Accepted\n",
      "[Mon Nov 21 22:32:49 2022] [::1]:38660 [200]: GET /\n",
      "[Mon Nov 21 22:32:49 2022] [::1]:38660 Closing\n",
      "[Mon Nov 21 22:32:49 2022] [::1]:38676 Accepted\n",
      "[Mon Nov 21 22:32:49 2022] [::1]:38676 [200]: GET /\n",
      "[Mon Nov 21 22:32:49 2022] [::1]:38676 Closing\n",
      "[Mon Nov 21 22:32:49 2022] [::1]:38684 Accepted\n",
      "[Mon Nov 21 22:32:49 2022] [::1]:38684 [200]: GET /auth/login\n",
      "[Mon Nov 21 22:32:49 2022] [::1]:38684 Closing\n",
      "[Mon Nov 21 22:32:49 2022] [::1]:38690 Accepted\n",
      "[Mon Nov 21 22:32:49 2022] [::1]:38690 [302]: POST /auth/login\n",
      "[Mon Nov 21 22:32:49 2022] [::1]:38690 Closing\n",
      "[Mon Nov 21 22:32:49 2022] [::1]:38698 Accepted\n",
      "[Mon Nov 21 22:32:49 2022] [::1]:38698 [200]: GET /\n",
      "[Mon Nov 21 22:32:49 2022] [::1]:38698 Closing\n"
     ]
    },
    {
     "name": "stdout",
     "output_type": "stream",
     "text": [
      "\u001b[31;1m✖\u001b[39;22m \u001b[35;1mTest14_LoginLogoutSeeHiddenContentCest:\u001b[39;22m See hidden content after login \u001b[32m(0.41s)\u001b[39m\n",
      "--------------------------------------------------------------------------------\n",
      "Time: 00:03.574, Memory: 12.00 MB\n",
      "\n",
      "There were 3 failures:\n",
      "1) \u001b[35;1mTest10_RegisterConfirmCest:\u001b[39;22m Check that error disappears after page refresh\n",
      "\u001b[37;41;1m Test  \u001b[39;49;22mtests/Acceptance/Test10_RegisterConfirmCest.php:test\n",
      "\u001b[37;41;1m Step \u001b[39;49;22m See \"Email successfully confirmed!\",\"li.info\"\n",
      "\u001b[37;41;1m Fail \u001b[39;49;22m Element located either by name, CSS or XPath element with 'li.info' was not found.\n",
      "\u001b[33m\n",
      "Scenario Steps:\n",
      "\u001b[39m\n",
      "\u001b[1m 11. $I->see(\"Email successfully confirmed!\",\"li.info\")\u001b[22m at \u001b[32mtests/Acceptance/Test10_RegisterConfirmCest.php:47\u001b[39m\n",
      " 10. $I->dontSee(\"Provided token is invalid!\") at \u001b[32mtests/Acceptance/Test10_RegisterConfirmCest.php:46\u001b[39m\n",
      " 9. $I->seeCurrentUrlEquals(\"/\") at \u001b[32mtests/Acceptance/Test10_RegisterConfirmCest.php:45\u001b[39m\n",
      " 8. $I->amOnPage(\"/auth/confirm/2a7c165bb7033275b533e2a924b525c7\") at \u001b[32mtests/Acceptance/Test10_RegisterConfirmCest.php:44\u001b[39m\n",
      " 7. // I am going to confirm user using valid token\n",
      " 6. $I->dontSee(\"Provided token is invalid!\") at \u001b[32mtests/Acceptance/Test10_RegisterConfirmCest.php:41\u001b[39m\n",
      "\n",
      "\u001b[33mArtifacts:\u001b[39m\n",
      "\n",
      "Html: \u001b[36m/home/student/php_2022_adam_lewinski/07_testing/02_exercise/project/tests/_output/Tests.Acceptance.Test10_RegisterConfirmCest.test.fail.html\u001b[39m\n",
      "Response: \u001b[36m/home/student/php_2022_adam_lewinski/07_testing/02_exercise/project/tests/_output/Tests.Acceptance.Test10_RegisterConfirmCest.test.fail.html\u001b[39m\n",
      "2) \u001b[35;1mTest13_LoginNotConfirmedCest:\u001b[39;22m Be remained about email confirmation when trying to login\n",
      "\u001b[37;41;1m Test  \u001b[39;49;22mtests/Acceptance/Test13_LoginNotConfirmedCest.php:test\n",
      "\u001b[37;41;1m Step \u001b[39;49;22m See current url equals \"/auth/confirmation_notice\"\n",
      "\u001b[37;41;1m Fail \u001b[39;49;22m Failed asserting that two strings are identical.\n",
      "\u001b[33m- Expected\u001b[39m | \u001b[32m+ Actual\u001b[39m\n",
      "@@ @@\n",
      "\u001b[33m-'/auth/confirmation_notice'\u001b[39m\n",
      "\u001b[32m+''\u001b[39m\n",
      "\u001b[33m\n",
      "Scenario Steps:\n",
      "\u001b[39m\n",
      "\u001b[1m 8. $I->seeCurrentUrlEquals(\"/auth/confirmation_notice\")\u001b[22m at \u001b[32mtests/Acceptance/Test13_LoginNotConfirmedCest.php:42\u001b[39m\n",
      " 7. $I->click(\"Enter\") at \u001b[32mtests/Acceptance/Test13_LoginNotConfirmedCest.php:40\u001b[39m\n",
      " 6. $I->fillField(\"password\",\"foo\") at \u001b[32mtests/Acceptance/Test13_LoginNotConfirmedCest.php:38\u001b[39m\n",
      " 5. $I->fillField(\"email\",\"dummy@example.com\") at \u001b[32mtests/Acceptance/Test13_LoginNotConfirmedCest.php:37\u001b[39m\n",
      " 4. $I->haveInDatabase(\"objects\",{\"key\":\"model_user_1\",\"data\":\"O:10:\"Model\\...}) at \u001b[32mtests/Acceptance/Test13_LoginNotConfirmedCest.php:33\u001b[39m\n",
      " 3. $I->see(\"Login\",\"h2\") at \u001b[32mtests/Acceptance/Test13_LoginNotConfirmedCest.php:19\u001b[39m\n",
      "\n",
      "\u001b[33mArtifacts:\u001b[39m\n",
      "\n",
      "Html: \u001b[36m/home/student/php_2022_adam_lewinski/07_testing/02_exercise/project/tests/_output/Tests.Acceptance.Test13_LoginNotConfirmedCest.test.fail.html\u001b[39m\n",
      "Response: \u001b[36m/home/student/php_2022_adam_lewinski/07_testing/02_exercise/project/tests/_output/Tests.Acceptance.Test13_LoginNotConfirmedCest.test.fail.html\u001b[39m\n",
      "3) \u001b[35;1mTest14_LoginLogoutSeeHiddenContentCest:\u001b[39;22m See hidden content after login\n",
      "\u001b[37;41;1m Test  \u001b[39;49;22mtests/Acceptance/Test14_LoginLogoutSeeHiddenContentCest.php:test\n",
      "\u001b[37;41;1m Step \u001b[39;49;22m See \"Welcome back Dummy!\"\n",
      "\u001b[37;41;1m Fail \u001b[39;49;22m Failed asserting that on page /\n",
      "-->  Homepage Home Demo About Users Welcome on homepage! Login Register \n",
      "--> contains \"Welcome back Dummy!\".\n",
      "\u001b[33m\n",
      "Scenario Steps:\n",
      "\u001b[39m\n",
      "\u001b[1m 14. $I->see(\"Welcome back Dummy!\")\u001b[22m at \u001b[32mtests/Acceptance/Test14_LoginLogoutSeeHiddenContentCest.php:53\u001b[39m\n",
      " 13. $I->seeCurrentUrlEquals(\"/\") at \u001b[32mtests/Acceptance/Test14_LoginLogoutSeeHiddenContentCest.php:52\u001b[39m\n",
      " 12. $I->click(\"Enter\") at \u001b[32mtests/Acceptance/Test14_LoginLogoutSeeHiddenContentCest.php:50\u001b[39m\n",
      " 11. $I->fillField(\"password\",\"foo\") at \u001b[32mtests/Acceptance/Test14_LoginLogoutSeeHiddenContentCest.php:48\u001b[39m\n",
      " 10. $I->fillField(\"email\",\"dummy@example.com\") at \u001b[32mtests/Acceptance/Test14_LoginLogoutSeeHiddenContentCest.php:47\u001b[39m\n",
      " 9. $I->see(\"Login\",\"h2\") at \u001b[32mtests/Acceptance/Test14_LoginLogoutSeeHiddenContentCest.php:44\u001b[39m\n",
      "\n",
      "\u001b[33mArtifacts:\u001b[39m\n",
      "\n",
      "Html: \u001b[36m/home/student/php_2022_adam_lewinski/07_testing/02_exercise/project/tests/_output/Tests.Acceptance.Test14_LoginLogoutSeeHiddenContentCest.test.fail.html\u001b[39m\n",
      "Response: \u001b[36m/home/student/php_2022_adam_lewinski/07_testing/02_exercise/project/tests/_output/Tests.Acceptance.Test14_LoginLogoutSeeHiddenContentCest.test.fail.html\u001b[39m\n",
      "\n",
      "\u001b[37;41;1mFAILURES!\u001b[39;49;22m\n",
      "\u001b[37;41;1mTests: 15, Assertions: 259, Failures: 3.\u001b[39;49;22m\n",
      "- \u001b[1mJUNIT XML\u001b[22m report generated in \u001b[33mfile:///home/student/php_2022_adam_lewinski/07_testing/02_exercise/project/tests/_output/test_report.xml\u001b[39m\n"
     ]
    }
   ],
   "source": [
    "! vendor/bin/codecept run Acceptance --xml test_report.xml"
   ]
  },
  {
   "cell_type": "code",
   "execution_count": 92,
   "metadata": {},
   "outputs": [],
   "source": [
    "phpServer.kill()"
   ]
  },
  {
   "cell_type": "code",
   "execution_count": 93,
   "metadata": {},
   "outputs": [
    {
     "name": "stdout",
     "output_type": "stream",
     "text": [
      "/home/student/php_2022_adam_lewinski/07_testing/02_exercise\n"
     ]
    }
   ],
   "source": [
    "%cd ../"
   ]
  },
  {
   "cell_type": "markdown",
   "metadata": {},
   "source": [
    "Stop the databses:"
   ]
  },
  {
   "cell_type": "code",
   "execution_count": null,
   "metadata": {},
   "outputs": [],
   "source": [
    "! docker container stop redis"
   ]
  },
  {
   "cell_type": "code",
   "execution_count": null,
   "metadata": {},
   "outputs": [],
   "source": [
    "! docker container stop mysql"
   ]
  }
 ],
 "metadata": {
  "kernelspec": {
   "display_name": "Python 3 (ipykernel)",
   "language": "python",
   "name": "python3"
  },
  "language_info": {
   "codemirror_mode": {
    "name": "ipython",
    "version": 3
   },
   "file_extension": ".py",
   "mimetype": "text/x-python",
   "name": "python",
   "nbconvert_exporter": "python",
   "pygments_lexer": "ipython3",
   "version": "3.10.6"
  }
 },
 "nbformat": 4,
 "nbformat_minor": 4
}
