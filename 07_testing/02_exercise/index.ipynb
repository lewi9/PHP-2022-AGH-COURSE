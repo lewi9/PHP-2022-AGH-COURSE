{
 "cells": [
  {
   "cell_type": "markdown",
   "metadata": {},
   "source": [
    "# PHP 2022"
   ]
  },
  {
   "cell_type": "markdown",
   "metadata": {},
   "source": [
    "## 7. Testing"
   ]
  },
  {
   "cell_type": "markdown",
   "metadata": {},
   "source": [
    "### 7.2 Exercise"
   ]
  },
  {
   "cell_type": "markdown",
   "metadata": {},
   "source": [
    "Implment missing code."
   ]
  },
  {
   "cell_type": "markdown",
   "metadata": {},
   "source": [
    "Start the databses:"
   ]
  },
  {
   "cell_type": "code",
   "execution_count": 1,
   "metadata": {},
   "outputs": [
    {
     "name": "stdout",
     "output_type": "stream",
     "text": [
      "2f368ff7f00acd95fea7ec283bd9110e954e646692f85f4bd0daee08356b0bd3\r\n"
     ]
    }
   ],
   "source": [
    "! docker run --net=host --rm --name redis -d redis"
   ]
  },
  {
   "cell_type": "code",
   "execution_count": 2,
   "metadata": {},
   "outputs": [
    {
     "name": "stdout",
     "output_type": "stream",
     "text": [
      "dc24693c41d3c91cbf2e691a574b753b65c43c2d69cb7c51d1021a6553ca21f5\r\n"
     ]
    }
   ],
   "source": [
    "! docker run --name=mysql --net=host --rm --env MYSQL_ROOT_PASSWORD=root123 --env MYSQL_DATABASE=test --env MYSQL_USER=test --env MYSQL_PASSWORD=test123 -d mysql/mysql-server:8.0"
   ]
  },
  {
   "cell_type": "code",
   "execution_count": 3,
   "metadata": {},
   "outputs": [
    {
     "name": "stdout",
     "output_type": "stream",
     "text": [
      "Done.\r\n"
     ]
    }
   ],
   "source": [
    "! while ! timeout 1 bash -c \"echo > /dev/tcp/localhost/6379\" 2> /dev/null; do sleep 1; done; echo \"Done.\";"
   ]
  },
  {
   "cell_type": "code",
   "execution_count": 4,
   "metadata": {},
   "outputs": [
    {
     "name": "stdout",
     "output_type": "stream",
     "text": [
      "Done.\r\n"
     ]
    }
   ],
   "source": [
    "! while ! timeout 1 bash -c \"echo > /dev/tcp/localhost/3306\" 2> /dev/null; do sleep 1; done; echo \"Done.\";"
   ]
  },
  {
   "cell_type": "markdown",
   "metadata": {},
   "source": [
    "Edit the code:"
   ]
  },
  {
   "cell_type": "code",
   "execution_count": 184,
   "metadata": {},
   "outputs": [
    {
     "name": "stdout",
     "output_type": "stream",
     "text": [
      "CompileCommand: exclude com/intellij/openapi/vfs/impl/FilePartNodeRoot.trieDescend bool exclude = true\n",
      "2022-11-21 23:15:37,167 [   1841] SEVERE - #c.i.d.LoadingState - Should be called at least in the state COMPONENTS_LOADED, the current state is: CONFIGURATION_STORE_INITIALIZED\n",
      "Current violators count: 1\n",
      "\n",
      "\n",
      "java.lang.Throwable\n",
      "\tat com.intellij.diagnostic.LoadingState.logStateError(LoadingState.java:52)\n",
      "\tat com.intellij.diagnostic.LoadingState.checkOccurred(LoadingState.java:48)\n",
      "\tat com.intellij.openapi.actionSystem.impl.ActionManagerImpl.<init>(ActionManagerImpl.java:133)\n",
      "\tat com.jetbrains.rdserver.ui.actionPopupMenu.BackendActionManager.<init>(BackendActionManager.kt:17)\n",
      "\tat java.base/jdk.internal.reflect.NativeConstructorAccessorImpl.newInstance0(Native Method)\n",
      "\tat java.base/jdk.internal.reflect.NativeConstructorAccessorImpl.newInstance(NativeConstructorAccessorImpl.java:77)\n",
      "\tat java.base/jdk.internal.reflect.DelegatingConstructorAccessorImpl.newInstance(DelegatingConstructorAccessorImpl.java:45)\n",
      "\tat java.base/java.lang.reflect.Constructor.newInstanceWithCaller(Constructor.java:499)\n",
      "\tat java.base/java.lang.reflect.Constructor.newInstance(Constructor.java:480)\n",
      "\tat com.intellij.serviceContainer.ConstructorInjectionKt.instantiateUsingPicoContainer(constructorInjection.kt:47)\n",
      "\tat com.intellij.serviceContainer.ComponentManagerImpl.instantiateClassWithConstructorInjection(ComponentManagerImpl.kt:890)\n",
      "\tat com.intellij.serviceContainer.ServiceComponentAdapter.createAndInitialize(ServiceComponentAdapter.kt:51)\n",
      "\tat com.intellij.serviceContainer.ServiceComponentAdapter.doCreateInstance(ServiceComponentAdapter.kt:41)\n",
      "\tat com.intellij.serviceContainer.BaseComponentAdapter.getInstanceUncached(BaseComponentAdapter.kt:119)\n",
      "\tat com.intellij.serviceContainer.BaseComponentAdapter.getInstance(BaseComponentAdapter.kt:73)\n",
      "\tat com.intellij.serviceContainer.BaseComponentAdapter.getInstance$default(BaseComponentAdapter.kt:66)\n",
      "\tat com.intellij.serviceContainer.ComponentManagerImpl.doGetService(ComponentManagerImpl.kt:609)\n",
      "\tat com.intellij.serviceContainer.ComponentManagerImpl.getService(ComponentManagerImpl.kt:583)\n",
      "\tat com.intellij.openapi.client.ClientAwareComponentManager.getFromSelfOrCurrentSession(ClientAwareComponentManager.kt:37)\n",
      "\tat com.intellij.openapi.client.ClientAwareComponentManager.getService(ClientAwareComponentManager.kt:22)\n",
      "\tat com.intellij.openapi.actionSystem.ActionManager.getInstance(ActionManager.java:29)\n",
      "\tat com.intellij.help.impl.KeymapGenerator.<clinit>(KeymapGenerator.java:33)\n",
      "\tat java.base/jdk.internal.misc.Unsafe.allocateInstance(Native Method)\n",
      "\tat java.base/java.lang.invoke.DirectMethodHandle.allocateInstance(DirectMethodHandle.java:520)\n",
      "\tat com.intellij.serviceContainer.ComponentManagerImpl.instantiateClass(ComponentManagerImpl.kt:844)\n",
      "\tat com.intellij.openapi.extensions.impl.XmlExtensionAdapter.instantiateClass(XmlExtensionAdapter.kt:79)\n",
      "\tat com.intellij.openapi.extensions.impl.XmlExtensionAdapter$SimpleConstructorInjectionAdapter.instantiateClass(XmlExtensionAdapter.kt:90)\n",
      "\tat com.intellij.openapi.extensions.impl.XmlExtensionAdapter.doCreateInstance(XmlExtensionAdapter.kt:50)\n",
      "\tat com.intellij.openapi.extensions.impl.XmlExtensionAdapter.createInstance(XmlExtensionAdapter.kt:31)\n",
      "\tat com.intellij.openapi.extensions.impl.ExtensionPointImpl.processAdapter(ExtensionPointImpl.java:447)\n",
      "\tat com.intellij.openapi.extensions.impl.ExtensionPointImpl.access$200(ExtensionPointImpl.java:33)\n",
      "\tat com.intellij.openapi.extensions.impl.ExtensionPointImpl$1.next(ExtensionPointImpl.java:355)\n",
      "\tat com.intellij.idea.ApplicationLoader.findAppStarter(ApplicationLoader.kt:595)\n",
      "\tat com.intellij.idea.ApplicationLoader.access$findAppStarter(ApplicationLoader.kt:1)\n",
      "\tat com.intellij.idea.ApplicationLoader$initApplication$block$3.apply(ApplicationLoader.kt:170)\n",
      "\tat com.intellij.idea.ApplicationLoader$initApplication$block$3.apply(ApplicationLoader.kt)\n",
      "\tat java.base/java.util.concurrent.CompletableFuture$UniCompose.tryFire(CompletableFuture.java:1150)\n",
      "\tat java.base/java.util.concurrent.CompletableFuture.postComplete(CompletableFuture.java:510)\n",
      "\tat java.base/java.util.concurrent.CompletableFuture.postFire(CompletableFuture.java:614)\n",
      "\tat java.base/java.util.concurrent.CompletableFuture$UniCompose.tryFire(CompletableFuture.java:1163)\n",
      "\tat java.base/java.util.concurrent.CompletableFuture$Completion.run(CompletableFuture.java:482)\n",
      "\tat com.intellij.idea.ApplicationLoader$initApplication$block$2.execute(ApplicationLoader.kt:142)\n",
      "\tat java.base/java.util.concurrent.CompletableFuture$UniCompletion.claim(CompletableFuture.java:572)\n",
      "\tat java.base/java.util.concurrent.CompletableFuture$UniCompose.tryFire(CompletableFuture.java:1147)\n",
      "\tat java.base/java.util.concurrent.CompletableFuture.postComplete(CompletableFuture.java:510)\n",
      "\tat java.base/java.util.concurrent.CompletableFuture.postFire(CompletableFuture.java:614)\n",
      "\tat java.base/java.util.concurrent.CompletableFuture$UniCompose.tryFire(CompletableFuture.java:1163)\n",
      "\tat java.base/java.util.concurrent.CompletableFuture$Completion.exec(CompletableFuture.java:483)\n",
      "\tat java.base/java.util.concurrent.ForkJoinTask.doExec(ForkJoinTask.java:373)\n",
      "\tat java.base/java.util.concurrent.ForkJoinPool$WorkQueue.topLevelExec(ForkJoinPool.java:1182)\n",
      "\tat java.base/java.util.concurrent.ForkJoinPool.scan(ForkJoinPool.java:1655)\n",
      "\tat java.base/java.util.concurrent.ForkJoinPool.runWorker(ForkJoinPool.java:1622)\n",
      "\tat java.base/java.util.concurrent.ForkJoinWorkerThread.run(ForkJoinWorkerThread.java:165)\n",
      "2022-11-21 23:15:37,183 [   1857] SEVERE - #c.i.d.LoadingState - PhpStorm 2022.2.3  Build #PS-222.4345.15\n",
      "2022-11-21 23:15:37,185 [   1859] SEVERE - #c.i.d.LoadingState - JDK: 17.0.4.1; VM: OpenJDK 64-Bit Server VM; Vendor: JetBrains s.r.o.\n",
      "2022-11-21 23:15:37,186 [   1860] SEVERE - #c.i.d.LoadingState - OS: Linux\n",
      "2022-11-21 23:15:37,760 [   2434] SEVERE - #c.i.d.LoadingState - Should be called at least in the state COMPONENTS_LOADED, the current state is: CONFIGURATION_STORE_INITIALIZED\n",
      "Current violators count: 2\n",
      "\n",
      "\n",
      "java.lang.Throwable\n",
      "\tat com.intellij.diagnostic.LoadingState.logStateError(LoadingState.java:52)\n",
      "\tat com.intellij.diagnostic.LoadingState.checkOccurred(LoadingState.java:48)\n",
      "\tat com.intellij.openapi.util.registry.Registry.getInstance(Registry.java:176)\n",
      "\tat com.intellij.openapi.util.registry.Registry.get(Registry.java:50)\n",
      "\tat com.intellij.openapi.util.registry.Registry.is(Registry.java:63)\n",
      "\tat com.intellij.execution.ExecutorRegistryImpl.isExecutorInMainGroup(ExecutorRegistryImpl.java:195)\n",
      "\tat com.intellij.execution.ExecutorRegistryImpl.initExecutorActions(ExecutorRegistryImpl.java:127)\n",
      "\tat com.intellij.execution.ExecutorRegistryImpl.init(ExecutorRegistryImpl.java:278)\n",
      "\tat com.intellij.execution.ExecutorRegistryImpl$ExecutorRegistryActionConfigurationTuner.customize(ExecutorRegistryImpl.java:92)\n",
      "\tat com.intellij.openapi.actionSystem.impl.ActionManagerImpl.lambda$new$0(ActionManagerImpl.java:141)\n",
      "\tat com.intellij.openapi.extensions.impl.ExtensionProcessingHelper.forEachExtensionSafe(ExtensionProcessingHelper.java:34)\n",
      "\tat com.intellij.openapi.extensions.ExtensionPointName.forEachExtensionSafe(ExtensionPointName.java:46)\n",
      "\tat com.intellij.openapi.actionSystem.impl.ActionManagerImpl.<init>(ActionManagerImpl.java:141)\n",
      "\tat com.jetbrains.rdserver.ui.actionPopupMenu.BackendActionManager.<init>(BackendActionManager.kt:17)\n",
      "\tat java.base/jdk.internal.reflect.NativeConstructorAccessorImpl.newInstance0(Native Method)\n",
      "\tat java.base/jdk.internal.reflect.NativeConstructorAccessorImpl.newInstance(NativeConstructorAccessorImpl.java:77)\n",
      "\tat java.base/jdk.internal.reflect.DelegatingConstructorAccessorImpl.newInstance(DelegatingConstructorAccessorImpl.java:45)\n",
      "\tat java.base/java.lang.reflect.Constructor.newInstanceWithCaller(Constructor.java:499)\n",
      "\tat java.base/java.lang.reflect.Constructor.newInstance(Constructor.java:480)\n",
      "\tat com.intellij.serviceContainer.ConstructorInjectionKt.instantiateUsingPicoContainer(constructorInjection.kt:47)\n",
      "\tat com.intellij.serviceContainer.ComponentManagerImpl.instantiateClassWithConstructorInjection(ComponentManagerImpl.kt:890)\n",
      "\tat com.intellij.serviceContainer.ServiceComponentAdapter.createAndInitialize(ServiceComponentAdapter.kt:51)\n",
      "\tat com.intellij.serviceContainer.ServiceComponentAdapter.doCreateInstance(ServiceComponentAdapter.kt:41)\n",
      "\tat com.intellij.serviceContainer.BaseComponentAdapter.getInstanceUncached(BaseComponentAdapter.kt:119)\n",
      "\tat com.intellij.serviceContainer.BaseComponentAdapter.getInstance(BaseComponentAdapter.kt:73)\n",
      "\tat com.intellij.serviceContainer.BaseComponentAdapter.getInstance$default(BaseComponentAdapter.kt:66)\n",
      "\tat com.intellij.serviceContainer.ComponentManagerImpl.doGetService(ComponentManagerImpl.kt:609)\n",
      "\tat com.intellij.serviceContainer.ComponentManagerImpl.getService(ComponentManagerImpl.kt:583)\n",
      "\tat com.intellij.openapi.client.ClientAwareComponentManager.getFromSelfOrCurrentSession(ClientAwareComponentManager.kt:37)\n",
      "\tat com.intellij.openapi.client.ClientAwareComponentManager.getService(ClientAwareComponentManager.kt:22)\n",
      "\tat com.intellij.openapi.actionSystem.ActionManager.getInstance(ActionManager.java:29)\n",
      "\tat com.intellij.help.impl.KeymapGenerator.<clinit>(KeymapGenerator.java:33)\n",
      "\tat java.base/jdk.internal.misc.Unsafe.allocateInstance(Native Method)\n",
      "\tat java.base/java.lang.invoke.DirectMethodHandle.allocateInstance(DirectMethodHandle.java:520)\n",
      "\tat com.intellij.serviceContainer.ComponentManagerImpl.instantiateClass(ComponentManagerImpl.kt:844)\n",
      "\tat com.intellij.openapi.extensions.impl.XmlExtensionAdapter.instantiateClass(XmlExtensionAdapter.kt:79)\n",
      "\tat com.intellij.openapi.extensions.impl.XmlExtensionAdapter$SimpleConstructorInjectionAdapter.instantiateClass(XmlExtensionAdapter.kt:90)\n",
      "\tat com.intellij.openapi.extensions.impl.XmlExtensionAdapter.doCreateInstance(XmlExtensionAdapter.kt:50)\n",
      "\tat com.intellij.openapi.extensions.impl.XmlExtensionAdapter.createInstance(XmlExtensionAdapter.kt:31)\n",
      "\tat com.intellij.openapi.extensions.impl.ExtensionPointImpl.processAdapter(ExtensionPointImpl.java:447)\n",
      "\tat com.intellij.openapi.extensions.impl.ExtensionPointImpl.access$200(ExtensionPointImpl.java:33)\n",
      "\tat com.intellij.openapi.extensions.impl.ExtensionPointImpl$1.next(ExtensionPointImpl.java:355)\n",
      "\tat com.intellij.idea.ApplicationLoader.findAppStarter(ApplicationLoader.kt:595)\n",
      "\tat com.intellij.idea.ApplicationLoader.access$findAppStarter(ApplicationLoader.kt:1)\n",
      "\tat com.intellij.idea.ApplicationLoader$initApplication$block$3.apply(ApplicationLoader.kt:170)\n",
      "\tat com.intellij.idea.ApplicationLoader$initApplication$block$3.apply(ApplicationLoader.kt)\n",
      "\tat java.base/java.util.concurrent.CompletableFuture$UniCompose.tryFire(CompletableFuture.java:1150)\n",
      "\tat java.base/java.util.concurrent.CompletableFuture.postComplete(CompletableFuture.java:510)\n",
      "\tat java.base/java.util.concurrent.CompletableFuture.postFire(CompletableFuture.java:614)\n",
      "\tat java.base/java.util.concurrent.CompletableFuture$UniCompose.tryFire(CompletableFuture.java:1163)\n",
      "\tat java.base/java.util.concurrent.CompletableFuture$Completion.run(CompletableFuture.java:482)\n",
      "\tat com.intellij.idea.ApplicationLoader$initApplication$block$2.execute(ApplicationLoader.kt:142)\n",
      "\tat java.base/java.util.concurrent.CompletableFuture$UniCompletion.claim(CompletableFuture.java:572)\n",
      "\tat java.base/java.util.concurrent.CompletableFuture$UniCompose.tryFire(CompletableFuture.java:1147)\n",
      "\tat java.base/java.util.concurrent.CompletableFuture.postComplete(CompletableFuture.java:510)\n",
      "\tat java.base/java.util.concurrent.CompletableFuture.postFire(CompletableFuture.java:614)\n",
      "\tat java.base/java.util.concurrent.CompletableFuture$UniCompose.tryFire(CompletableFuture.java:1163)\n",
      "\tat java.base/java.util.concurrent.CompletableFuture$Completion.exec(CompletableFuture.java:483)\n",
      "\tat java.base/java.util.concurrent.ForkJoinTask.doExec(ForkJoinTask.java:373)\n",
      "\tat java.base/java.util.concurrent.ForkJoinPool$WorkQueue.topLevelExec(ForkJoinPool.java:1182)\n",
      "\tat java.base/java.util.concurrent.ForkJoinPool.scan(ForkJoinPool.java:1655)\n",
      "\tat java.base/java.util.concurrent.ForkJoinPool.runWorker(ForkJoinPool.java:1622)\n",
      "\tat java.base/java.util.concurrent.ForkJoinWorkerThread.run(ForkJoinWorkerThread.java:165)\n",
      "2022-11-21 23:15:37,764 [   2438] SEVERE - #c.i.d.LoadingState - PhpStorm 2022.2.3  Build #PS-222.4345.15\n",
      "2022-11-21 23:15:37,765 [   2439] SEVERE - #c.i.d.LoadingState - JDK: 17.0.4.1; VM: OpenJDK 64-Bit Server VM; Vendor: JetBrains s.r.o.\n",
      "2022-11-21 23:15:37,765 [   2439] SEVERE - #c.i.d.LoadingState - OS: Linux\n"
     ]
    },
    {
     "name": "stdout",
     "output_type": "stream",
     "text": [
      "2022-11-21 23:15:37,789 [   2463] SEVERE - #c.i.d.LoadingState - Should be called at least in the state COMPONENTS_LOADED, the current state is: CONFIGURATION_STORE_INITIALIZED\n",
      "Current violators count: 3\n",
      "\n",
      "\n",
      "java.lang.Throwable\n",
      "\tat com.intellij.diagnostic.LoadingState.logStateError(LoadingState.java:52)\n",
      "\tat com.intellij.diagnostic.LoadingState.checkOccurred(LoadingState.java:48)\n",
      "\tat com.intellij.openapi.util.registry.Registry.getInstance(Registry.java:176)\n",
      "\tat com.intellij.openapi.util.registry.Registry.get(Registry.java:50)\n",
      "\tat com.intellij.openapi.util.registry.Registry.is(Registry.java:63)\n",
      "\tat com.intellij.openapi.wm.impl.GlobalMenuLinux._loadLibrary(GlobalMenuLinux.java:797)\n",
      "\tat com.intellij.openapi.wm.impl.GlobalMenuLinux.<clinit>(GlobalMenuLinux.java:164)\n",
      "\tat com.intellij.openapi.wm.impl.GlobalMenuLinux$MyActionTuner.customize(GlobalMenuLinux.java:230)\n",
      "\tat com.intellij.openapi.actionSystem.impl.ActionManagerImpl.lambda$new$0(ActionManagerImpl.java:141)\n",
      "\tat com.intellij.openapi.extensions.impl.ExtensionProcessingHelper.forEachExtensionSafe(ExtensionProcessingHelper.java:34)\n",
      "\tat com.intellij.openapi.extensions.ExtensionPointName.forEachExtensionSafe(ExtensionPointName.java:46)\n",
      "\tat com.intellij.openapi.actionSystem.impl.ActionManagerImpl.<init>(ActionManagerImpl.java:141)\n",
      "\tat com.jetbrains.rdserver.ui.actionPopupMenu.BackendActionManager.<init>(BackendActionManager.kt:17)\n",
      "\tat java.base/jdk.internal.reflect.NativeConstructorAccessorImpl.newInstance0(Native Method)\n",
      "\tat java.base/jdk.internal.reflect.NativeConstructorAccessorImpl.newInstance(NativeConstructorAccessorImpl.java:77)\n",
      "\tat java.base/jdk.internal.reflect.DelegatingConstructorAccessorImpl.newInstance(DelegatingConstructorAccessorImpl.java:45)\n",
      "\tat java.base/java.lang.reflect.Constructor.newInstanceWithCaller(Constructor.java:499)\n",
      "\tat java.base/java.lang.reflect.Constructor.newInstance(Constructor.java:480)\n",
      "\tat com.intellij.serviceContainer.ConstructorInjectionKt.instantiateUsingPicoContainer(constructorInjection.kt:47)\n",
      "\tat com.intellij.serviceContainer.ComponentManagerImpl.instantiateClassWithConstructorInjection(ComponentManagerImpl.kt:890)\n",
      "\tat com.intellij.serviceContainer.ServiceComponentAdapter.createAndInitialize(ServiceComponentAdapter.kt:51)\n",
      "\tat com.intellij.serviceContainer.ServiceComponentAdapter.doCreateInstance(ServiceComponentAdapter.kt:41)\n",
      "\tat com.intellij.serviceContainer.BaseComponentAdapter.getInstanceUncached(BaseComponentAdapter.kt:119)\n",
      "\tat com.intellij.serviceContainer.BaseComponentAdapter.getInstance(BaseComponentAdapter.kt:73)\n",
      "\tat com.intellij.serviceContainer.BaseComponentAdapter.getInstance$default(BaseComponentAdapter.kt:66)\n",
      "\tat com.intellij.serviceContainer.ComponentManagerImpl.doGetService(ComponentManagerImpl.kt:609)\n",
      "\tat com.intellij.serviceContainer.ComponentManagerImpl.getService(ComponentManagerImpl.kt:583)\n",
      "\tat com.intellij.openapi.client.ClientAwareComponentManager.getFromSelfOrCurrentSession(ClientAwareComponentManager.kt:37)\n",
      "\tat com.intellij.openapi.client.ClientAwareComponentManager.getService(ClientAwareComponentManager.kt:22)\n",
      "\tat com.intellij.openapi.actionSystem.ActionManager.getInstance(ActionManager.java:29)\n",
      "\tat com.intellij.help.impl.KeymapGenerator.<clinit>(KeymapGenerator.java:33)\n",
      "\tat java.base/jdk.internal.misc.Unsafe.allocateInstance(Native Method)\n",
      "\tat java.base/java.lang.invoke.DirectMethodHandle.allocateInstance(DirectMethodHandle.java:520)\n",
      "\tat com.intellij.serviceContainer.ComponentManagerImpl.instantiateClass(ComponentManagerImpl.kt:844)\n",
      "\tat com.intellij.openapi.extensions.impl.XmlExtensionAdapter.instantiateClass(XmlExtensionAdapter.kt:79)\n",
      "\tat com.intellij.openapi.extensions.impl.XmlExtensionAdapter$SimpleConstructorInjectionAdapter.instantiateClass(XmlExtensionAdapter.kt:90)\n",
      "\tat com.intellij.openapi.extensions.impl.XmlExtensionAdapter.doCreateInstance(XmlExtensionAdapter.kt:50)\n",
      "\tat com.intellij.openapi.extensions.impl.XmlExtensionAdapter.createInstance(XmlExtensionAdapter.kt:31)\n",
      "\tat com.intellij.openapi.extensions.impl.ExtensionPointImpl.processAdapter(ExtensionPointImpl.java:447)\n",
      "\tat com.intellij.openapi.extensions.impl.ExtensionPointImpl.access$200(ExtensionPointImpl.java:33)\n",
      "\tat com.intellij.openapi.extensions.impl.ExtensionPointImpl$1.next(ExtensionPointImpl.java:355)\n",
      "\tat com.intellij.idea.ApplicationLoader.findAppStarter(ApplicationLoader.kt:595)\n",
      "\tat com.intellij.idea.ApplicationLoader.access$findAppStarter(ApplicationLoader.kt:1)\n",
      "\tat com.intellij.idea.ApplicationLoader$initApplication$block$3.apply(ApplicationLoader.kt:170)\n",
      "\tat com.intellij.idea.ApplicationLoader$initApplication$block$3.apply(ApplicationLoader.kt)\n",
      "\tat java.base/java.util.concurrent.CompletableFuture$UniCompose.tryFire(CompletableFuture.java:1150)\n",
      "\tat java.base/java.util.concurrent.CompletableFuture.postComplete(CompletableFuture.java:510)\n",
      "\tat java.base/java.util.concurrent.CompletableFuture.postFire(CompletableFuture.java:614)\n",
      "\tat java.base/java.util.concurrent.CompletableFuture$UniCompose.tryFire(CompletableFuture.java:1163)\n",
      "\tat java.base/java.util.concurrent.CompletableFuture$Completion.run(CompletableFuture.java:482)\n",
      "\tat com.intellij.idea.ApplicationLoader$initApplication$block$2.execute(ApplicationLoader.kt:142)\n",
      "\tat java.base/java.util.concurrent.CompletableFuture$UniCompletion.claim(CompletableFuture.java:572)\n",
      "\tat java.base/java.util.concurrent.CompletableFuture$UniCompose.tryFire(CompletableFuture.java:1147)\n",
      "\tat java.base/java.util.concurrent.CompletableFuture.postComplete(CompletableFuture.java:510)\n",
      "\tat java.base/java.util.concurrent.CompletableFuture.postFire(CompletableFuture.java:614)\n",
      "\tat java.base/java.util.concurrent.CompletableFuture$UniCompose.tryFire(CompletableFuture.java:1163)\n",
      "\tat java.base/java.util.concurrent.CompletableFuture$Completion.exec(CompletableFuture.java:483)\n",
      "\tat java.base/java.util.concurrent.ForkJoinTask.doExec(ForkJoinTask.java:373)\n",
      "\tat java.base/java.util.concurrent.ForkJoinPool$WorkQueue.topLevelExec(ForkJoinPool.java:1182)\n",
      "\tat java.base/java.util.concurrent.ForkJoinPool.scan(ForkJoinPool.java:1655)\n",
      "\tat java.base/java.util.concurrent.ForkJoinPool.runWorker(ForkJoinPool.java:1622)\n",
      "\tat java.base/java.util.concurrent.ForkJoinWorkerThread.run(ForkJoinWorkerThread.java:165)\n",
      "2022-11-21 23:15:37,793 [   2467] SEVERE - #c.i.d.LoadingState - PhpStorm 2022.2.3  Build #PS-222.4345.15\n",
      "2022-11-21 23:15:37,795 [   2469] SEVERE - #c.i.d.LoadingState - JDK: 17.0.4.1; VM: OpenJDK 64-Bit Server VM; Vendor: JetBrains s.r.o.\n",
      "2022-11-21 23:15:37,796 [   2470] SEVERE - #c.i.d.LoadingState - OS: Linux\n",
      "Info  | RdCoroutineScope          | 13:JobScheduler FJ pool 1/3 | RdCoroutineHost overridden \n",
      "2022-11-21 23:15:43,439 [   8113]   WARN - #c.i.o.a.i.ActionUpdater - 318 ms to grab EDT for CWMTelephonyGroup#update@NavBarToolbar (com.jetbrains.rd.platform.codeWithMe.telephony.CWMTelephonyGroup)\n",
      "2022-11-21 23:15:48,237 [  12911]   WARN - #c.i.o.a.e.ActionUtil - Can not find action by id CompileDirty\n",
      "2022-11-21 23:15:48,429 [  13103]   WARN - #c.i.u.x.Binding - no accessors for com.jetbrains.php.testFramework.PhpTestFrameworkType\n",
      "2022-11-21 23:15:56,204 [  20878]   WARN - #c.i.o.a.i.ActionUpdater - 222 ms to grab EDT for CWMTelephonyGroup#update@NavBarToolbar (com.jetbrains.rd.platform.codeWithMe.telephony.CWMTelephonyGroup)\n",
      "2022-11-21 23:15:56,753 [  21427]   WARN - #c.i.o.a.i.ActionUpdater - 278 ms to grab EDT for RestorePreviewTextAction#update@ContextToolbar (com.intellij.application.options.colors.FontEditorPreview$RestorePreviewTextAction)\n",
      "2022-11-21 23:15:56,781 [  21455]   WARN - #c.i.o.a.i.ActionUpdater - 295 ms to grab EDT for CWMTelephonyGroup#update@NavBarToolbar (com.jetbrains.rd.platform.codeWithMe.telephony.CWMTelephonyGroup)\n",
      "2022-11-21 23:16:02,883 [  27557]   WARN - #c.j.p.p.PharLibraryManager - Frequent root change. Source class com.jetbrains.php.phar.PharLibraryManager, delta 4478.\n",
      "Old roots: [phar:///home/student/php_2022_adam_lewinski/07_testing/02_exercise/project/vendor/bin/phpstan.phar/]\n",
      "New Roots: [phar:///home/student/php_2022_adam_lewinski/07_testing/02_exercise/project/vendor/bin/phpstan.phar/, phar:///home/student/php_2022_adam_lewinski/07_testing/02_exercise/project/vendor/phpstan/phpstan/phpstan.phar/]\n",
      "2022-11-21 23:16:10,090 [  34764]   WARN - #c.j.p.PhpIndex - Completing type '#Vflags' took 1622ms, visited:[#Vflags]\n",
      "2022-11-21 23:16:10,094 [  34768]   WARN - #c.j.p.PhpIndex - Completing type '#顶#-#Vflags∆n' took 1627ms, visited:[#顶#-#Vflags∆n]\n",
      "2022-11-21 23:16:10,094 [  34768]   WARN - #c.j.p.PhpIndex - Completing type '#Vflags' took 1474ms, visited:[#Vflags]\n",
      "2022-11-21 23:16:10,099 [  34773]   WARN - #c.j.p.PhpIndex - Completing type '#顶#-#Vflags∆n' took 1485ms, visited:[#顶#-#Vflags∆n]\n"
     ]
    },
    {
     "name": "stdout",
     "output_type": "stream",
     "text": [
      "2022-11-21 23:16:56,401 [  81075]   WARN - #c.i.u.x.Binding - no accessors for org.jetbrains.idea.perforce.perforce.ConnectionId\n",
      "2022-11-21 23:16:56,616 [  81290]   WARN - #c.i.o.a.i.ActionUpdater - 335 ms to grab EDT for CWMTelephonyGroup#update@NavBarToolbar (com.jetbrains.rd.platform.codeWithMe.telephony.CWMTelephonyGroup)\n"
     ]
    }
   ],
   "source": [
    "! phpstorm project"
   ]
  },
  {
   "cell_type": "markdown",
   "metadata": {},
   "source": [
    "You can test your solution using included tests:"
   ]
  },
  {
   "cell_type": "code",
   "execution_count": 185,
   "metadata": {},
   "outputs": [
    {
     "name": "stdout",
     "output_type": "stream",
     "text": [
      "/home/student/php_2022_adam_lewinski/07_testing/02_exercise/project\n"
     ]
    }
   ],
   "source": [
    "%cd project"
   ]
  },
  {
   "cell_type": "code",
   "execution_count": 186,
   "metadata": {},
   "outputs": [
    {
     "name": "stdout",
     "output_type": "stream",
     "text": [
      "\u001b[32mInstalling dependencies from lock file (including require-dev)\u001b[39m\n",
      "\u001b[32mVerifying lock file contents can be installed on current platform.\u001b[39m\n",
      "Nothing to install, update or remove\n",
      "\u001b[32mGenerating autoload files\u001b[39m\n",
      "\u001b[32m60 packages you are using are looking for funding.\u001b[39m\n",
      "\u001b[32mUse the `composer fund` command to find out more!\u001b[39m\n"
     ]
    }
   ],
   "source": [
    "! composer install"
   ]
  },
  {
   "cell_type": "code",
   "execution_count": 187,
   "metadata": {},
   "outputs": [
    {
     "name": "stdout",
     "output_type": "stream",
     "text": [
      "\u001b[32mBuilding Actor classes for suites: Acceptance, Unit\u001b[39m\n",
      " -> AcceptanceTesterActions.php generated successfully. 241 methods added\n",
      "\u001b[32mTests\\AcceptanceTester\u001b[39m includes modules: PhpBrowser, Filesystem, Asserts, Db, Redis\n",
      " -> UnitTesterActions.php generated successfully. 137 methods added\n",
      "\u001b[32mTests\\UnitTester\u001b[39m includes modules: Asserts\n"
     ]
    }
   ],
   "source": [
    "! vendor/bin/codecept build"
   ]
  },
  {
   "cell_type": "code",
   "execution_count": 188,
   "metadata": {
    "scrolled": true
   },
   "outputs": [
    {
     "name": "stdout",
     "output_type": "stream",
     "text": [
      "Loaded config \u001b[33mdefault\u001b[39m from \"/home/student/php_2022_adam_lewinski/07_testing/02_exercise/project/./.php-cs-fixer.dist.php\".\n",
      "Using cache file \".php-cs-fixer.cache\".\n",
      "\n",
      "Checked all files in 0.011 seconds, 14.000 MB memory used\n"
     ]
    }
   ],
   "source": [
    "! vendor/bin/php-cs-fixer fix  --diff --dry-run ."
   ]
  },
  {
   "cell_type": "code",
   "execution_count": 189,
   "metadata": {},
   "outputs": [
    {
     "name": "stdout",
     "output_type": "stream",
     "text": [
      "  0/65 [░░░░░░░░░░░░░░░░░░░░░░░░░░░░]   0%\u001b[1G\u001b[2K 65/65 [▓▓▓▓▓▓▓▓▓▓▓▓▓▓▓▓▓▓▓▓▓▓▓▓▓▓▓▓] 100%\n",
      "\n",
      "\n",
      "\u001b[30;42m                                                                                \u001b[39;49m\n",
      "\u001b[30;42m [OK] No errors                                                                 \u001b[39;49m\n",
      "\u001b[30;42m                                                                                \u001b[39;49m\n",
      "\n"
     ]
    }
   ],
   "source": [
    "! vendor/bin/phpstan analyze --xdebug -c phpstan.neon"
   ]
  },
  {
   "cell_type": "code",
   "execution_count": 190,
   "metadata": {},
   "outputs": [
    {
     "name": "stdout",
     "output_type": "stream",
     "text": [
      "phpcpd 6.0.3 by Sebastian Bergmann.\n",
      "\n",
      "No clones found.\n",
      "\n",
      "Time: 00:00.032, Memory: 4.00 MB\n"
     ]
    }
   ],
   "source": [
    "! vendor/bin/phpcpd . --fuzzy --min-lines 1 --min-tokens 20 --exclude vendor --exclude tests"
   ]
  },
  {
   "cell_type": "code",
   "execution_count": 191,
   "metadata": {},
   "outputs": [
    {
     "name": "stdout",
     "output_type": "stream",
     "text": [
      "Codeception PHP Testing Framework v5.0.4 https://helpukrainewin.org\n",
      "\n",
      "\u001b[1mTests.Unit Tests (24) \u001b[22m----------------------------------------------------------\n",
      "\u001b[32;1m✔\u001b[39;22m \u001b[35;1mTest00_StringEditorCest:\u001b[39;22m Create \u001b[32m(0.00s)\u001b[39m\n",
      "\u001b[32;1m✔\u001b[39;22m \u001b[35;1mTest00_StringEditorCest:\u001b[39;22m Replace word \u001b[32m(0.00s)\u001b[39m\n",
      "\u001b[32;1m✔\u001b[39;22m \u001b[35;1mTest00_StringEditorCest:\u001b[39;22m Lowercase \u001b[32m(0.00s)\u001b[39m\n",
      "\u001b[32;1m✔\u001b[39;22m \u001b[35;1mTest00_StringEditorCest:\u001b[39;22m Uppercase \u001b[32m(0.00s)\u001b[39m\n",
      "\u001b[32;1m✔\u001b[39;22m \u001b[35;1mTest00_StringEditorCest:\u001b[39;22m Replace and upper case \u001b[32m(0.00s)\u001b[39m\n",
      "\u001b[32;1m✔\u001b[39;22m \u001b[35;1mTest00_StringEditorCest:\u001b[39;22m Censor word \u001b[32m(0.00s)\u001b[39m\n",
      "\u001b[32;1m✔\u001b[39;22m \u001b[35;1mTest00_StringEditorCest:\u001b[39;22m Censor short and long words \u001b[32m(0.00s)\u001b[39m\n",
      "\u001b[32;1m✔\u001b[39;22m \u001b[35;1mTest00_StringEditorCest:\u001b[39;22m Repeat word \u001b[32m(0.00s)\u001b[39m\n",
      "\u001b[32;1m✔\u001b[39;22m \u001b[35;1mTest00_StringEditorCest:\u001b[39;22m Remove word \u001b[32m(0.00s)\u001b[39m\n",
      "\u001b[32;1m✔\u001b[39;22m \u001b[35;1mTest00_StringEditorCest:\u001b[39;22m Edit sentence \u001b[32m(0.00s)\u001b[39m\n",
      "\u001b[32;1m✔\u001b[39;22m \u001b[35;1mTest01_RingBufferCest:\u001b[39;22m Create \u001b[32m(0.00s)\u001b[39m\n",
      "\u001b[32;1m✔\u001b[39;22m \u001b[35;1mTest01_RingBufferCest:\u001b[39;22m Should be empty \u001b[32m(0.00s)\u001b[39m\n",
      "\u001b[32;1m✔\u001b[39;22m \u001b[35;1mTest01_RingBufferCest:\u001b[39;22m Capacity \u001b[32m(0.00s)\u001b[39m\n",
      "\u001b[32;1m✔\u001b[39;22m \u001b[35;1mTest01_RingBufferCest:\u001b[39;22m Size should be zero when empty \u001b[32m(0.00s)\u001b[39m\n",
      "\u001b[32;1m✔\u001b[39;22m \u001b[35;1mTest01_RingBufferCest:\u001b[39;22m Push value size should increase \u001b[32m(0.00s)\u001b[39m\n",
      "\u001b[32;1m✔\u001b[39;22m \u001b[35;1mTest01_RingBufferCest:\u001b[39;22m Empty should be false when full \u001b[32m(0.00s)\u001b[39m\n",
      "\u001b[32;1m✔\u001b[39;22m \u001b[35;1mTest01_RingBufferCest:\u001b[39;22m Pop from empty \u001b[32m(0.00s)\u001b[39m\n",
      "\u001b[32;1m✔\u001b[39;22m \u001b[35;1mTest01_RingBufferCest:\u001b[39;22m Push and pop single value \u001b[32m(0.00s)\u001b[39m\n",
      "\u001b[32;1m✔\u001b[39;22m \u001b[35;1mTest01_RingBufferCest:\u001b[39;22m Pop should reduce size \u001b[32m(0.00s)\u001b[39m\n",
      "\u001b[32;1m✔\u001b[39;22m \u001b[35;1mTest01_RingBufferCest:\u001b[39;22m Back should not change buffer \u001b[32m(0.00s)\u001b[39m\n",
      "\u001b[32;1m✔\u001b[39;22m \u001b[35;1mTest01_RingBufferCest:\u001b[39;22m Push multiple times \u001b[32m(0.00s)\u001b[39m\n",
      "\u001b[32;1m✔\u001b[39;22m \u001b[35;1mTest01_RingBufferCest:\u001b[39;22m Multi item buffer \u001b[32m(0.00s)\u001b[39m\n",
      "\u001b[32;1m✔\u001b[39;22m \u001b[35;1mTest01_RingBufferCest:\u001b[39;22m Push and pop all values \u001b[32m(0.00s)\u001b[39m\n",
      "\u001b[32;1m✔\u001b[39;22m \u001b[35;1mTest01_RingBufferCest:\u001b[39;22m Access values by index \u001b[32m(0.00s)\u001b[39m\n",
      "--------------------------------------------------------------------------------\n",
      "Time: 00:00.124, Memory: 8.00 MB\n",
      "\n",
      "\u001b[30;42mOK (24 tests, 75 assertions)\u001b[39;49m\n"
     ]
    }
   ],
   "source": [
    "! vendor/bin/codecept run Unit"
   ]
  },
  {
   "cell_type": "code",
   "execution_count": 192,
   "metadata": {},
   "outputs": [],
   "source": [
    "import subprocess\n",
    "phpServer = subprocess.Popen(['php', '-S', 'localhost:8888', '-t', 'public'])"
   ]
  },
  {
   "cell_type": "code",
   "execution_count": 193,
   "metadata": {},
   "outputs": [
    {
     "name": "stdout",
     "output_type": "stream",
     "text": [
      "Done.\r\n"
     ]
    },
    {
     "name": "stderr",
     "output_type": "stream",
     "text": [
      "[Mon Nov 21 23:17:56 2022] PHP 8.1.12 Development Server (http://localhost:8888) started\n",
      "[Mon Nov 21 23:17:56 2022] [::1]:40312 Accepted\n",
      "[Mon Nov 21 23:17:56 2022] [::1]:40312 Closed without sending a request; it was probably just an unused speculative preconnection\n",
      "[Mon Nov 21 23:17:56 2022] [::1]:40312 Closing\n"
     ]
    }
   ],
   "source": [
    "! while ! timeout 1 bash -c \"echo > /dev/tcp/localhost/8888\" 2> /dev/null; do sleep 1; done; echo \"Done.\";"
   ]
  },
  {
   "cell_type": "code",
   "execution_count": 194,
   "metadata": {},
   "outputs": [
    {
     "name": "stdout",
     "output_type": "stream",
     "text": [
      "Codeception PHP Testing Framework v5.0.4 https://helpukrainewin.org\n",
      "\n",
      "\u001b[1mTests.Acceptance Tests (15) \u001b[22m----------------------------------------------------\n",
      "- \u001b[35;1mTest00_PrettyUrlCest:\u001b[39;22m Test"
     ]
    },
    {
     "name": "stderr",
     "output_type": "stream",
     "text": [
      "[Mon Nov 21 23:17:56 2022] [::1]:40328 Accepted\n",
      "[Mon Nov 21 23:17:56 2022] [::1]:40328 [200]: GET /\n",
      "[Mon Nov 21 23:17:56 2022] [::1]:40328 Closing\n",
      "[Mon Nov 21 23:17:56 2022] [::1]:40344 Accepted\n",
      "[Mon Nov 21 23:17:56 2022] [::1]:40344 [200]: GET /home\n",
      "[Mon Nov 21 23:17:56 2022] [::1]:40344 Closing\n",
      "[Mon Nov 21 23:17:56 2022] [::1]:40356 Accepted\n",
      "[Mon Nov 21 23:17:56 2022] [::1]:40356 [200]: GET /about\n",
      "[Mon Nov 21 23:17:56 2022] [::1]:40356 Closing\n",
      "[Mon Nov 21 23:17:56 2022] [::1]:40360 Accepted\n",
      "[Mon Nov 21 23:17:56 2022] [::1]:40360 [200]: GET /users\n",
      "[Mon Nov 21 23:17:56 2022] [::1]:40360 Closing\n",
      "[Mon Nov 21 23:17:57 2022] [::1]:40366 Accepted\n",
      "[Mon Nov 21 23:17:57 2022] [::1]:40366 [200]: GET /users/1\n",
      "[Mon Nov 21 23:17:57 2022] [::1]:40366 Closing\n",
      "[Mon Nov 21 23:17:57 2022] [::1]:40376 Accepted\n",
      "[Mon Nov 21 23:17:57 2022] [::1]:40376 [200]: GET /users\n",
      "[Mon Nov 21 23:17:57 2022] [::1]:40376 Closing\n",
      "[Mon Nov 21 23:17:57 2022] [::1]:40386 Accepted\n",
      "[Mon Nov 21 23:17:57 2022] [::1]:40386 [200]: GET /users/2\n",
      "[Mon Nov 21 23:17:57 2022] [::1]:40386 Closing\n",
      "[Mon Nov 21 23:17:57 2022] [::1]:40394 Accepted\n",
      "[Mon Nov 21 23:17:57 2022] [::1]:40394 [200]: GET /users\n",
      "[Mon Nov 21 23:17:57 2022] [::1]:40394 Closing\n",
      "[Mon Nov 21 23:17:57 2022] [::1]:40402 Accepted\n",
      "[Mon Nov 21 23:17:57 2022] [::1]:40402 [200]: GET /users/3\n",
      "[Mon Nov 21 23:17:57 2022] [::1]:40402 Closing\n"
     ]
    },
    {
     "name": "stdout",
     "output_type": "stream",
     "text": [
      "\u001b[32;1m✔\u001b[39;22m \u001b[35;1mTest00_PrettyUrlCest:\u001b[39;22m Test \u001b[32m(0.20s)\u001b[39m\n",
      "\u001b[32;1m✔\u001b[39;22m \u001b[35;1mTest01_FileStorageCest:\u001b[39;22m Test \u001b[32m(0.05s)\u001b[39m\n",
      "\u001b[32;1m✔\u001b[39;22m \u001b[35;1mTest02_SessionStorageCest:\u001b[39;22m Test \u001b[32m(0.02s)\u001b[39m\n",
      "\u001b[32;1m✔\u001b[39;22m \u001b[35;1mTest03_SQLiteStorageCest:\u001b[39;22m Test \u001b[32m(0.11s)\u001b[39m\n",
      "- \u001b[35;1mTest04_MySQLStorageCest:\u001b[39;22m Test"
     ]
    },
    {
     "name": "stderr",
     "output_type": "stream",
     "text": [
      "[Mon Nov 21 23:17:57 2022] [::1]:40410 Accepted\n",
      "[Mon Nov 21 23:17:57 2022] [::1]:40410 [200]: GET /demo/file\n",
      "[Mon Nov 21 23:17:57 2022] [::1]:40410 Closing\n",
      "[Mon Nov 21 23:17:57 2022] [::1]:40416 Accepted\n",
      "[Mon Nov 21 23:17:57 2022] [::1]:40416 [200]: GET /demo/session\n",
      "[Mon Nov 21 23:17:57 2022] [::1]:40416 Closing\n",
      "[Mon Nov 21 23:17:57 2022] [::1]:40428 Accepted\n",
      "[Mon Nov 21 23:17:57 2022] [::1]:40428 [200]: GET /demo/sqlite\n",
      "[Mon Nov 21 23:17:57 2022] [::1]:40428 Closing\n",
      "[Mon Nov 21 23:17:57 2022] [::1]:40436 Accepted\n",
      "[Mon Nov 21 23:17:57 2022] [::1]:40436 [200]: GET /demo/mysql\n",
      "[Mon Nov 21 23:17:57 2022] [::1]:40436 Closing\n",
      "[Mon Nov 21 23:17:57 2022] [::1]:40440 Accepted\n"
     ]
    },
    {
     "name": "stdout",
     "output_type": "stream",
     "text": [
      "\u001b[32;1m✔\u001b[39;22m \u001b[35;1mTest04_MySQLStorageCest:\u001b[39;22m Test \u001b[32m(0.34s)\u001b[39m\n",
      "\u001b[32;1m✔\u001b[39;22m \u001b[35;1mTest05_RedisStorageCest:\u001b[39;22m Test \u001b[32m(0.08s)\u001b[39m\n",
      "- \u001b[35;1mTest06_HomepageCest:\u001b[39;22m See welcome message on homepage"
     ]
    },
    {
     "name": "stderr",
     "output_type": "stream",
     "text": [
      "[Mon Nov 21 23:17:57 2022] [::1]:40440 [200]: GET /demo/mysql\n",
      "[Mon Nov 21 23:17:57 2022] [::1]:40440 Closing\n",
      "[Mon Nov 21 23:17:57 2022] [::1]:40456 Accepted\n",
      "[Mon Nov 21 23:17:57 2022] [::1]:40456 [200]: GET /demo/redis\n",
      "[Mon Nov 21 23:17:57 2022] [::1]:40456 Closing\n"
     ]
    },
    {
     "name": "stdout",
     "output_type": "stream",
     "text": [
      "\u001b[31;1m✖\u001b[39;22m \u001b[35;1mTest06_HomepageCest:\u001b[39;22m See login and register links \u001b[32m(0.13s)\u001b[39m\n",
      "\u001b[31;1m✖\u001b[39;22m \u001b[35;1mTest07_RegisterCest:\u001b[39;22m Register new user \u001b[32m(0.11s)\u001b[39m\n",
      "- \u001b[35;1mTest08_RegisterValidationCest:\u001b[39;22m Validate data entered during registration"
     ]
    },
    {
     "name": "stderr",
     "output_type": "stream",
     "text": [
      "[Mon Nov 21 23:17:57 2022] [::1]:40464 Accepted\n",
      "[Mon Nov 21 23:17:57 2022] [::1]:40464 [200]: GET /\n",
      "[Mon Nov 21 23:17:57 2022] [::1]:40464 Closing\n",
      "[Mon Nov 21 23:17:57 2022] [::1]:40470 Accepted\n",
      "[Mon Nov 21 23:17:57 2022] [::1]:40470 [200]: GET /home\n",
      "[Mon Nov 21 23:17:57 2022] [::1]:40470 Closing\n",
      "[Mon Nov 21 23:17:57 2022] [::1]:40478 Accepted\n",
      "[Mon Nov 21 23:17:57 2022] [::1]:40478 [200]: GET /\n",
      "[Mon Nov 21 23:17:57 2022] [::1]:40478 Closing\n",
      "[Mon Nov 21 23:17:57 2022] [::1]:40482 Accepted\n",
      "[Mon Nov 21 23:17:57 2022] [::1]:40482 [200]: GET /auth/login%3ELogin%3C/a%3E%3Ca%20href=\n",
      "[Mon Nov 21 23:17:57 2022] [::1]:40482 Closing\n"
     ]
    },
    {
     "name": "stdout",
     "output_type": "stream",
     "text": [
      "\r",
      "\u001b[32;1m✔\u001b[39;22m \u001b[35;1mTest08_RegisterValidationCest:\u001b[39;22m Validate data entered during registration \u001b[32m(0.14s)\u001b[39m\r\n",
      "- \u001b[35;1mTest09_RegisterRememberFieldsCest:\u001b[39;22m Remember data entered during registration when validation error is present"
     ]
    },
    {
     "name": "stderr",
     "output_type": "stream",
     "text": [
      "[Mon Nov 21 23:17:57 2022] [::1]:40492 Accepted\n",
      "[Mon Nov 21 23:17:57 2022] [::1]:40492 [200]: GET /auth/register\n",
      "[Mon Nov 21 23:17:57 2022] [::1]:40492 Closing\n",
      "[Mon Nov 21 23:17:58 2022] [::1]:40506 Accepted\n",
      "[Mon Nov 21 23:17:58 2022] [::1]:40506 [200]: POST /auth/register\n",
      "[Mon Nov 21 23:17:58 2022] [::1]:40506 Closing\n",
      "[Mon Nov 21 23:17:58 2022] [::1]:40512 Accepted\n",
      "[Mon Nov 21 23:17:58 2022] [::1]:40512 [200]: POST /auth/register\n",
      "[Mon Nov 21 23:17:58 2022] [::1]:40512 Closing\n",
      "[Mon Nov 21 23:17:58 2022] [::1]:40516 Accepted\n",
      "[Mon Nov 21 23:17:58 2022] [::1]:40516 [200]: GET /auth/register\n",
      "[Mon Nov 21 23:17:58 2022] [::1]:40516 Closing\n",
      "[Mon Nov 21 23:17:58 2022] [::1]:40526 Accepted\n",
      "[Mon Nov 21 23:17:58 2022] [::1]:40526 [200]: POST /auth/register\n",
      "[Mon Nov 21 23:17:58 2022] [::1]:40526 Closing\n",
      "[Mon Nov 21 23:17:58 2022] [::1]:40540 Accepted\n",
      "[Mon Nov 21 23:17:58 2022] [::1]:40540 [200]: POST /auth/register\n",
      "[Mon Nov 21 23:17:58 2022] [::1]:40540 Closing\n",
      "[Mon Nov 21 23:17:58 2022] [::1]:40548 Accepted\n",
      "[Mon Nov 21 23:17:58 2022] [::1]:40548 [200]: POST /auth/register\n",
      "[Mon Nov 21 23:17:58 2022] [::1]:40548 Closing\n",
      "[Mon Nov 21 23:17:58 2022] [::1]:40556 Accepted\n",
      "[Mon Nov 21 23:17:58 2022] [::1]:40556 [200]: POST /auth/register\n",
      "[Mon Nov 21 23:17:58 2022] [::1]:40556 Closing\n",
      "[Mon Nov 21 23:17:58 2022] [::1]:40564 Accepted\n",
      "[Mon Nov 21 23:17:58 2022] [::1]:40564 [200]: POST /auth/register\n",
      "[Mon Nov 21 23:17:58 2022] [::1]:40564 Closing\n",
      "[Mon Nov 21 23:17:58 2022] [::1]:40568 Accepted\n",
      "[Mon Nov 21 23:17:58 2022] [::1]:40568 [200]: GET /auth/register\n",
      "[Mon Nov 21 23:17:58 2022] [::1]:40568 Closing\n"
     ]
    },
    {
     "name": "stdout",
     "output_type": "stream",
     "text": [
      "\u001b[32;1m✔\u001b[39;22m \u001b[35;1mTest09_RegisterRememberFieldsCest:\u001b[39;22m Remember data entered during registration when validation error is present \u001b[32m(0.34s)\u001b[39m\n",
      "\u001b[32;1m✔\u001b[39;22m \u001b[35;1mTest10_RegisterConfirmCest:\u001b[39;22m Check that info disappears after page refresh \u001b[32m(0.35s)\u001b[39m\n",
      "- \u001b[35;1mTest11_LoginNotExistingCest:\u001b[39;22m See error when user does not exists"
     ]
    },
    {
     "name": "stderr",
     "output_type": "stream",
     "text": [
      "[Mon Nov 21 23:17:58 2022] [::1]:40570 Accepted\n",
      "[Mon Nov 21 23:17:58 2022] [::1]:40570 [302]: GET /auth/confirm/ThisIsAnInvalidEmailConfirmationToken\n",
      "[Mon Nov 21 23:17:58 2022] [::1]:40570 Closing\n",
      "[Mon Nov 21 23:17:58 2022] [::1]:40576 Accepted\n",
      "[Mon Nov 21 23:17:58 2022] [::1]:40576 [200]: GET /\n",
      "[Mon Nov 21 23:17:58 2022] [::1]:40576 Closing\n",
      "[Mon Nov 21 23:17:58 2022] [::1]:40582 Accepted\n",
      "[Mon Nov 21 23:17:58 2022] [::1]:40582 [200]: GET /\n",
      "[Mon Nov 21 23:17:58 2022] [::1]:40582 Closing\n",
      "[Mon Nov 21 23:17:58 2022] [::1]:40590 Accepted\n",
      "[Mon Nov 21 23:17:58 2022] [::1]:40590 [302]: GET /auth/confirm/ef9b012179a1f66346d497202cfa538f\n",
      "[Mon Nov 21 23:17:58 2022] [::1]:40590 Closing\n",
      "[Mon Nov 21 23:17:58 2022] [::1]:40604 Accepted\n",
      "[Mon Nov 21 23:17:58 2022] [::1]:40604 [200]: GET /\n",
      "[Mon Nov 21 23:17:58 2022] [::1]:40604 Closing\n",
      "[Mon Nov 21 23:17:58 2022] [::1]:40608 Accepted\n",
      "[Mon Nov 21 23:17:58 2022] [::1]:40608 [200]: GET /\n",
      "[Mon Nov 21 23:17:58 2022] [::1]:40608 Closing\n"
     ]
    },
    {
     "name": "stdout",
     "output_type": "stream",
     "text": [
      "\r",
      "\u001b[32;1m✔\u001b[39;22m \u001b[35;1mTest11_LoginNotExistingCest:\u001b[39;22m See error when user does not exists \u001b[32m(0.17s)\u001b[39m\r\n",
      "- \u001b[35;1mTest12_LoginWrongPasswordCest:\u001b[39;22m See error when wrong password is entered"
     ]
    },
    {
     "name": "stderr",
     "output_type": "stream",
     "text": [
      "[Mon Nov 21 23:17:58 2022] [::1]:40622 Accepted\n",
      "[Mon Nov 21 23:17:58 2022] [::1]:40622 [200]: GET /auth/login\n",
      "[Mon Nov 21 23:17:58 2022] [::1]:40622 Closing\n",
      "[Mon Nov 21 23:17:58 2022] [::1]:40624 Accepted\n",
      "[Mon Nov 21 23:17:58 2022] [::1]:40624 [302]: POST /auth/login\n",
      "[Mon Nov 21 23:17:58 2022] [::1]:40624 Closing\n",
      "[Mon Nov 21 23:17:58 2022] [::1]:40638 Accepted\n",
      "[Mon Nov 21 23:17:58 2022] [::1]:40638 [200]: GET /\n",
      "[Mon Nov 21 23:17:58 2022] [::1]:40638 Closing\n",
      "[Mon Nov 21 23:17:59 2022] [::1]:40648 Accepted\n",
      "[Mon Nov 21 23:17:59 2022] [::1]:40648 [200]: GET /auth/login\n",
      "[Mon Nov 21 23:17:59 2022] [::1]:40648 Closing\n"
     ]
    },
    {
     "name": "stdout",
     "output_type": "stream",
     "text": [
      "\r",
      "\u001b[32;1m✔\u001b[39;22m \u001b[35;1mTest12_LoginWrongPasswordCest:\u001b[39;22m See error when wrong password is entered \u001b[32m(0.41s)\u001b[39m\r\n",
      "- \u001b[35;1mTest13_LoginNotConfirmedCest:\u001b[39;22m Be remained about email confirmation when trying to login"
     ]
    },
    {
     "name": "stderr",
     "output_type": "stream",
     "text": [
      "[Mon Nov 21 23:17:59 2022] [::1]:40664 Accepted\n",
      "[Mon Nov 21 23:17:59 2022] [::1]:40664 [200]: POST /auth/login\n",
      "[Mon Nov 21 23:17:59 2022] [::1]:40664 Closing\n",
      "[Mon Nov 21 23:17:59 2022] [::1]:40670 Accepted\n",
      "[Mon Nov 21 23:17:59 2022] [::1]:40670 [200]: GET /auth/login\n",
      "[Mon Nov 21 23:17:59 2022] [::1]:40670 Closing\n",
      "[Mon Nov 21 23:17:59 2022] [::1]:40684 Accepted\n"
     ]
    },
    {
     "name": "stdout",
     "output_type": "stream",
     "text": [
      "\r",
      "\u001b[32;1m✔\u001b[39;22m \u001b[35;1mTest13_LoginNotConfirmedCest:\u001b[39;22m Be remained about email confirmation when trying to login \u001b[32m(0.41s)\u001b[39m\r\n",
      "- \u001b[35;1mTest14_LoginLogoutSeeHiddenContentCest:\u001b[39;22m See hidden content after login"
     ]
    },
    {
     "name": "stderr",
     "output_type": "stream",
     "text": [
      "[Mon Nov 21 23:17:59 2022] [::1]:40684 [302]: POST /auth/login\n",
      "[Mon Nov 21 23:17:59 2022] [::1]:40684 Closing\n",
      "[Mon Nov 21 23:17:59 2022] [::1]:40700 Accepted\n",
      "[Mon Nov 21 23:17:59 2022] [::1]:40700 [200]: GET /auth/confirmation_notice\n",
      "[Mon Nov 21 23:17:59 2022] [::1]:40700 Closing\n"
     ]
    },
    {
     "name": "stdout",
     "output_type": "stream",
     "text": [
      "\u001b[31;1m✖\u001b[39;22m \u001b[35;1mTest14_LoginLogoutSeeHiddenContentCest:\u001b[39;22m See hidden content after login \u001b[32m(0.27s)\u001b[39m\n",
      "--------------------------------------------------------------------------------\n",
      "Time: 00:03.391, Memory: 12.00 MB\n",
      "\n",
      "There were 3 failures:\n",
      "1) \u001b[35;1mTest06_HomepageCest:\u001b[39;22m See login and register links\n",
      "\u001b[37;41;1m Test  \u001b[39;49;22mtests/Acceptance/Test06_HomepageCest.php:test\n",
      "\u001b[37;41;1m Step \u001b[39;49;22m See link \"Login\",\"/auth/login\"\n",
      "\u001b[37;41;1m Fail \u001b[39;49;22m No links containing text 'Login' were found in page /home\n",
      "\u001b[33m\n",
      "Scenario Steps:\n",
      "\u001b[39m\n",
      "\u001b[1m 9. $I->seeLink(\"Login\",\"/auth/login\")\u001b[22m at \u001b[32mtests/Acceptance/Test06_HomepageCest.php:29\u001b[39m\n",
      " 8. $I->see(\"Welcome on homepage!\",\"h1.welcome\") at \u001b[32mtests/Acceptance/Test06_HomepageCest.php:26\u001b[39m\n",
      " 7. $I->seeInTitle(\"Homepage\") at \u001b[32mtests/Acceptance/Test06_HomepageCest.php:25\u001b[39m\n",
      " 6. $I->seeCurrentUrlEquals(\"/home\") at \u001b[32mtests/Acceptance/Test06_HomepageCest.php:24\u001b[39m\n",
      " 5. $I->click(\"Home\") at \u001b[32mtests/Acceptance/Test06_HomepageCest.php:23\u001b[39m\n",
      " 4. $I->seeNumRecords(0,\"objects\") at \u001b[32mtests/Acceptance/Test06_HomepageCest.php:20\u001b[39m\n",
      "\n",
      "\u001b[33mArtifacts:\u001b[39m\n",
      "\n",
      "Html: \u001b[36m/home/student/php_2022_adam_lewinski/07_testing/02_exercise/project/tests/_output/Tests.Acceptance.Test06_HomepageCest.test.fail.html\u001b[39m\n",
      "Response: \u001b[36m/home/student/php_2022_adam_lewinski/07_testing/02_exercise/project/tests/_output/Tests.Acceptance.Test06_HomepageCest.test.fail.html\u001b[39m\n",
      "2) \u001b[35;1mTest07_RegisterCest:\u001b[39;22m Register new user\n",
      "\u001b[37;41;1m Test  \u001b[39;49;22mtests/Acceptance/Test07_RegisterCest.php:test\n",
      "\u001b[37;41;1m Step \u001b[39;49;22m See in current url \"/auth/register\"\n",
      "\u001b[37;41;1m Fail \u001b[39;49;22m Failed asserting that '/auth/login%3ELogin%3C/a%3E%3Ca%20href=' contains \"/auth/register\".\n",
      "\u001b[33m\n",
      "Scenario Steps:\n",
      "\u001b[39m\n",
      "\u001b[1m 3. $I->seeInCurrentUrl(\"/auth/register\")\u001b[22m at \u001b[32mtests/Acceptance/Test07_RegisterCest.php:20\u001b[39m\n",
      " 2. $I->click(\"Register\") at \u001b[32mtests/Acceptance/Test07_RegisterCest.php:18\u001b[39m\n",
      " 1. $I->amOnPage(\"/\") at \u001b[32mtests/Acceptance/Test07_RegisterCest.php:16\u001b[39m\n",
      "\n",
      "\u001b[33mArtifacts:\u001b[39m\n",
      "\n",
      "Html: \u001b[36m/home/student/php_2022_adam_lewinski/07_testing/02_exercise/project/tests/_output/Tests.Acceptance.Test07_RegisterCest.test.fail.html\u001b[39m\n",
      "Response: \u001b[36m/home/student/php_2022_adam_lewinski/07_testing/02_exercise/project/tests/_output/Tests.Acceptance.Test07_RegisterCest.test.fail.html\u001b[39m\n",
      "3) \u001b[35;1mTest14_LoginLogoutSeeHiddenContentCest:\u001b[39;22m See hidden content after login\n",
      "\u001b[37;41;1m Test  \u001b[39;49;22mtests/Acceptance/Test14_LoginLogoutSeeHiddenContentCest.php:test\n",
      "\u001b[37;41;1m Step \u001b[39;49;22m See link \"Login\",\"/auth/login\"\n",
      "\u001b[37;41;1m Fail \u001b[39;49;22m No links containing text 'Login' were found in page /\n",
      "\u001b[33m\n",
      "Scenario Steps:\n",
      "\u001b[39m\n",
      "\u001b[1m 3. $I->seeLink(\"Login\",\"/auth/login\")\u001b[22m at \u001b[32mtests/Acceptance/Test14_LoginLogoutSeeHiddenContentCest.php:34\u001b[39m\n",
      " 2. $I->amOnPage(\"/\") at \u001b[32mtests/Acceptance/Test14_LoginLogoutSeeHiddenContentCest.php:32\u001b[39m\n",
      " 1. $I->haveInDatabase(\"objects\",{\"key\":\"model_user_1\",\"data\":\"O:10:\"Model\\...}) at \u001b[32mtests/Acceptance/Test14_LoginLogoutSeeHiddenContentCest.php:28\u001b[39m\n",
      "\n",
      "\u001b[33mArtifacts:\u001b[39m\n",
      "\n",
      "Html: \u001b[36m/home/student/php_2022_adam_lewinski/07_testing/02_exercise/project/tests/_output/Tests.Acceptance.Test14_LoginLogoutSeeHiddenContentCest.test.fail.html\u001b[39m\n",
      "Response: \u001b[36m/home/student/php_2022_adam_lewinski/07_testing/02_exercise/project/tests/_output/Tests.Acceptance.Test14_LoginLogoutSeeHiddenContentCest.test.fail.html\u001b[39m\n",
      "\n",
      "\u001b[37;41;1mFAILURES!\u001b[39;49;22m\n",
      "\u001b[37;41;1mTests: 15, Assertions: 245, Failures: 3.\u001b[39;49;22m\n"
     ]
    },
    {
     "name": "stderr",
     "output_type": "stream",
     "text": [
      "[Mon Nov 21 23:18:00 2022] [::1]:40716 Accepted\n",
      "[Mon Nov 21 23:18:00 2022] [::1]:40716 [200]: GET /\n",
      "[Mon Nov 21 23:18:00 2022] [::1]:40716 Closing\n"
     ]
    }
   ],
   "source": [
    "! vendor/bin/codecept run Acceptance"
   ]
  },
  {
   "cell_type": "code",
   "execution_count": 195,
   "metadata": {},
   "outputs": [
    {
     "name": "stdout",
     "output_type": "stream",
     "text": [
      "Codeception PHP Testing Framework v5.0.4 https://helpukrainewin.org\n",
      "\n",
      "\u001b[1mTests.Acceptance Tests (15) \u001b[22m----------------------------------------------------\n",
      "\u001b[32;1m✔\u001b[39;22m \u001b[35;1mTest00_PrettyUrlCest:\u001b[39;22m Test \u001b[32m(0.14s)\u001b[39m\n",
      "- \u001b[35;1mTest01_FileStorageCest:\u001b[39;22m Test"
     ]
    },
    {
     "name": "stderr",
     "output_type": "stream",
     "text": [
      "[Mon Nov 21 23:18:00 2022] [::1]:40728 Accepted\n",
      "[Mon Nov 21 23:18:00 2022] [::1]:40728 [200]: GET /\n",
      "[Mon Nov 21 23:18:00 2022] [::1]:40728 Closing\n",
      "[Mon Nov 21 23:18:00 2022] [::1]:40730 Accepted\n",
      "[Mon Nov 21 23:18:00 2022] [::1]:40730 [200]: GET /home\n",
      "[Mon Nov 21 23:18:00 2022] [::1]:40730 Closing\n",
      "[Mon Nov 21 23:18:00 2022] [::1]:40732 Accepted\n",
      "[Mon Nov 21 23:18:00 2022] [::1]:40732 [200]: GET /about\n",
      "[Mon Nov 21 23:18:00 2022] [::1]:40732 Closing\n",
      "[Mon Nov 21 23:18:00 2022] [::1]:40742 Accepted\n",
      "[Mon Nov 21 23:18:00 2022] [::1]:40742 [200]: GET /users\n",
      "[Mon Nov 21 23:18:00 2022] [::1]:40742 Closing\n",
      "[Mon Nov 21 23:18:00 2022] [::1]:40746 Accepted\n",
      "[Mon Nov 21 23:18:00 2022] [::1]:40746 [200]: GET /users/1\n",
      "[Mon Nov 21 23:18:00 2022] [::1]:40746 Closing\n",
      "[Mon Nov 21 23:18:00 2022] [::1]:40760 Accepted\n",
      "[Mon Nov 21 23:18:00 2022] [::1]:40760 [200]: GET /users\n",
      "[Mon Nov 21 23:18:00 2022] [::1]:40760 Closing\n",
      "[Mon Nov 21 23:18:00 2022] [::1]:40768 Accepted\n",
      "[Mon Nov 21 23:18:00 2022] [::1]:40768 [200]: GET /users/2\n",
      "[Mon Nov 21 23:18:00 2022] [::1]:40768 Closing\n",
      "[Mon Nov 21 23:18:00 2022] [::1]:40780 Accepted\n",
      "[Mon Nov 21 23:18:00 2022] [::1]:40780 [200]: GET /users\n",
      "[Mon Nov 21 23:18:00 2022] [::1]:40780 Closing\n",
      "[Mon Nov 21 23:18:00 2022] [::1]:40796 Accepted\n",
      "[Mon Nov 21 23:18:00 2022] [::1]:40796 [200]: GET /users/3\n",
      "[Mon Nov 21 23:18:00 2022] [::1]:40796 Closing\n",
      "[Mon Nov 21 23:18:00 2022] [::1]:40806 Accepted\n",
      "[Mon Nov 21 23:18:00 2022] [::1]:40806 [200]: GET /demo/file\n",
      "[Mon Nov 21 23:18:00 2022] [::1]:40806 Closing\n",
      "[Mon Nov 21 23:18:00 2022] [::1]:40812 Accepted\n",
      "[Mon Nov 21 23:18:00 2022] [::1]:40812 [200]: GET /demo/session\n",
      "[Mon Nov 21 23:18:00 2022] [::1]:40812 Closing\n",
      "[Mon Nov 21 23:18:00 2022] [::1]:40816 Accepted\n"
     ]
    },
    {
     "name": "stdout",
     "output_type": "stream",
     "text": [
      "\u001b[32;1m✔\u001b[39;22m \u001b[35;1mTest01_FileStorageCest:\u001b[39;22m Test \u001b[32m(0.04s)\u001b[39m\n",
      "\u001b[32;1m✔\u001b[39;22m \u001b[35;1mTest02_SessionStorageCest:\u001b[39;22m Test \u001b[32m(0.02s)\u001b[39m\n",
      "\u001b[32;1m✔\u001b[39;22m \u001b[35;1mTest03_SQLiteStorageCest:\u001b[39;22m Test \u001b[32m(0.11s)\u001b[39m\n",
      "- \u001b[35;1mTest04_MySQLStorageCest:\u001b[39;22m Test"
     ]
    },
    {
     "name": "stderr",
     "output_type": "stream",
     "text": [
      "[Mon Nov 21 23:18:00 2022] [::1]:40816 [200]: GET /demo/sqlite\n",
      "[Mon Nov 21 23:18:00 2022] [::1]:40816 Closing\n",
      "[Mon Nov 21 23:18:00 2022] [::1]:40824 Accepted\n",
      "[Mon Nov 21 23:18:01 2022] [::1]:40824 [200]: GET /demo/mysql\n",
      "[Mon Nov 21 23:18:01 2022] [::1]:40824 Closing\n",
      "[Mon Nov 21 23:18:01 2022] [::1]:40832 Accepted\n"
     ]
    },
    {
     "name": "stdout",
     "output_type": "stream",
     "text": [
      "\u001b[32;1m✔\u001b[39;22m \u001b[35;1mTest04_MySQLStorageCest:\u001b[39;22m Test \u001b[32m(0.33s)\u001b[39m\n",
      "\u001b[32;1m✔\u001b[39;22m \u001b[35;1mTest05_RedisStorageCest:\u001b[39;22m Test \u001b[32m(0.06s)\u001b[39m\n",
      "- \u001b[35;1mTest06_HomepageCest:\u001b[39;22m See welcome message on homepage"
     ]
    },
    {
     "name": "stderr",
     "output_type": "stream",
     "text": [
      "[Mon Nov 21 23:18:01 2022] [::1]:40832 [200]: GET /demo/mysql\n",
      "[Mon Nov 21 23:18:01 2022] [::1]:40832 Closing\n",
      "[Mon Nov 21 23:18:01 2022] [::1]:40846 Accepted\n",
      "[Mon Nov 21 23:18:01 2022] [::1]:40846 [200]: GET /demo/redis\n",
      "[Mon Nov 21 23:18:01 2022] [::1]:40846 Closing\n",
      "[Mon Nov 21 23:18:01 2022] [::1]:40854 Accepted\n",
      "[Mon Nov 21 23:18:01 2022] [::1]:40854 [200]: GET /\n",
      "[Mon Nov 21 23:18:01 2022] [::1]:40854 Closing\n"
     ]
    },
    {
     "name": "stdout",
     "output_type": "stream",
     "text": [
      "\u001b[31;1m✖\u001b[39;22m \u001b[35;1mTest06_HomepageCest:\u001b[39;22m See login and register links \u001b[32m(0.12s)\u001b[39m\n",
      "\u001b[31;1m✖\u001b[39;22m \u001b[35;1mTest07_RegisterCest:\u001b[39;22m Register new user \u001b[32m(0.11s)\u001b[39m\n",
      "- \u001b[35;1mTest08_RegisterValidationCest:\u001b[39;22m Validate data entered during registration"
     ]
    },
    {
     "name": "stderr",
     "output_type": "stream",
     "text": [
      "[Mon Nov 21 23:18:01 2022] [::1]:40866 Accepted\n",
      "[Mon Nov 21 23:18:01 2022] [::1]:40866 [200]: GET /home\n",
      "[Mon Nov 21 23:18:01 2022] [::1]:40866 Closing\n",
      "[Mon Nov 21 23:18:01 2022] [::1]:40872 Accepted\n",
      "[Mon Nov 21 23:18:01 2022] [::1]:40872 [200]: GET /\n",
      "[Mon Nov 21 23:18:01 2022] [::1]:40872 Closing\n",
      "[Mon Nov 21 23:18:01 2022] [::1]:40886 Accepted\n",
      "[Mon Nov 21 23:18:01 2022] [::1]:40886 [200]: GET /auth/login%3ELogin%3C/a%3E%3Ca%20href=\n",
      "[Mon Nov 21 23:18:01 2022] [::1]:40886 Closing\n"
     ]
    },
    {
     "name": "stdout",
     "output_type": "stream",
     "text": [
      "\r",
      "\u001b[32;1m✔\u001b[39;22m \u001b[35;1mTest08_RegisterValidationCest:\u001b[39;22m Validate data entered during registration \u001b[32m(0.19s)\u001b[39m\r\n",
      "- \u001b[35;1mTest09_RegisterRememberFieldsCest:\u001b[39;22m Remember data entered during registration when validation error is present"
     ]
    },
    {
     "name": "stderr",
     "output_type": "stream",
     "text": [
      "[Mon Nov 21 23:18:01 2022] [::1]:40888 Accepted\n",
      "[Mon Nov 21 23:18:01 2022] [::1]:40888 [200]: GET /auth/register\n",
      "[Mon Nov 21 23:18:01 2022] [::1]:40888 Closing\n",
      "[Mon Nov 21 23:18:01 2022] [::1]:40892 Accepted\n",
      "[Mon Nov 21 23:18:01 2022] [::1]:40892 [200]: POST /auth/register\n",
      "[Mon Nov 21 23:18:01 2022] [::1]:40892 Closing\n",
      "[Mon Nov 21 23:18:01 2022] [::1]:40894 Accepted\n",
      "[Mon Nov 21 23:18:01 2022] [::1]:40894 [200]: POST /auth/register\n",
      "[Mon Nov 21 23:18:01 2022] [::1]:40894 Closing\n",
      "[Mon Nov 21 23:18:01 2022] [::1]:40902 Accepted\n",
      "[Mon Nov 21 23:18:01 2022] [::1]:40902 [200]: GET /auth/register\n",
      "[Mon Nov 21 23:18:01 2022] [::1]:40902 Closing\n",
      "[Mon Nov 21 23:18:01 2022] [::1]:40908 Accepted\n",
      "[Mon Nov 21 23:18:01 2022] [::1]:40908 [200]: POST /auth/register\n",
      "[Mon Nov 21 23:18:01 2022] [::1]:40908 Closing\n",
      "[Mon Nov 21 23:18:01 2022] [::1]:40912 Accepted\n",
      "[Mon Nov 21 23:18:01 2022] [::1]:40912 [200]: POST /auth/register\n",
      "[Mon Nov 21 23:18:01 2022] [::1]:40912 Closing\n",
      "[Mon Nov 21 23:18:01 2022] [::1]:40926 Accepted\n",
      "[Mon Nov 21 23:18:01 2022] [::1]:40926 [200]: POST /auth/register\n",
      "[Mon Nov 21 23:18:01 2022] [::1]:40926 Closing\n",
      "[Mon Nov 21 23:18:01 2022] [::1]:40936 Accepted\n",
      "[Mon Nov 21 23:18:01 2022] [::1]:40936 [200]: POST /auth/register\n",
      "[Mon Nov 21 23:18:01 2022] [::1]:40936 Closing\n",
      "[Mon Nov 21 23:18:01 2022] [::1]:40944 Accepted\n",
      "[Mon Nov 21 23:18:01 2022] [::1]:40944 [200]: POST /auth/register\n",
      "[Mon Nov 21 23:18:01 2022] [::1]:40944 Closing\n",
      "[Mon Nov 21 23:18:01 2022] [::1]:40956 Accepted\n",
      "[Mon Nov 21 23:18:01 2022] [::1]:40956 [200]: GET /auth/register\n",
      "[Mon Nov 21 23:18:02 2022] [::1]:40956 Closing\n"
     ]
    },
    {
     "name": "stdout",
     "output_type": "stream",
     "text": [
      "\u001b[32;1m✔\u001b[39;22m \u001b[35;1mTest09_RegisterRememberFieldsCest:\u001b[39;22m Remember data entered during registration when validation error is present \u001b[32m(0.30s)\u001b[39m\n",
      "\u001b[32;1m✔\u001b[39;22m \u001b[35;1mTest10_RegisterConfirmCest:\u001b[39;22m Check that info disappears after page refresh \u001b[32m(0.29s)\u001b[39m\n",
      "- \u001b[35;1mTest11_LoginNotExistingCest:\u001b[39;22m See error when user does not exists\r"
     ]
    },
    {
     "name": "stderr",
     "output_type": "stream",
     "text": [
      "[Mon Nov 21 23:18:02 2022] [::1]:40966 Accepted\n",
      "[Mon Nov 21 23:18:02 2022] [::1]:40966 [302]: GET /auth/confirm/ThisIsAnInvalidEmailConfirmationToken\n",
      "[Mon Nov 21 23:18:02 2022] [::1]:40966 Closing\n",
      "[Mon Nov 21 23:18:02 2022] [::1]:40970 Accepted\n",
      "[Mon Nov 21 23:18:02 2022] [::1]:40970 [200]: GET /\n",
      "[Mon Nov 21 23:18:02 2022] [::1]:40970 Closing\n",
      "[Mon Nov 21 23:18:02 2022] [::1]:40974 Accepted\n",
      "[Mon Nov 21 23:18:02 2022] [::1]:40974 [200]: GET /\n",
      "[Mon Nov 21 23:18:02 2022] [::1]:40974 Closing\n",
      "[Mon Nov 21 23:18:02 2022] [::1]:40984 Accepted\n",
      "[Mon Nov 21 23:18:02 2022] [::1]:40984 [302]: GET /auth/confirm/4cd2b02bba93d003d11d7c9f809cf6bb\n",
      "[Mon Nov 21 23:18:02 2022] [::1]:40984 Closing\n",
      "[Mon Nov 21 23:18:02 2022] [::1]:40992 Accepted\n",
      "[Mon Nov 21 23:18:02 2022] [::1]:40992 [200]: GET /\n",
      "[Mon Nov 21 23:18:02 2022] [::1]:40992 Closing\n",
      "[Mon Nov 21 23:18:02 2022] [::1]:41008 Accepted\n",
      "[Mon Nov 21 23:18:02 2022] [::1]:41008 [200]: GET /\n",
      "[Mon Nov 21 23:18:02 2022] [::1]:41008 Closing\n",
      "[Mon Nov 21 23:18:02 2022] [::1]:41014 Accepted\n",
      "[Mon Nov 21 23:18:02 2022] [::1]:41014 [200]: GET /auth/login\n",
      "[Mon Nov 21 23:18:02 2022] [::1]:41014 Closing\n",
      "[Mon Nov 21 23:18:02 2022] [::1]:41024 Accepted\n",
      "[Mon Nov 21 23:18:02 2022] [::1]:41024 [302]: POST /auth/login\n",
      "[Mon Nov 21 23:18:02 2022] [::1]:41024 Closing\n",
      "[Mon Nov 21 23:18:02 2022] [::1]:41038 Accepted\n",
      "[Mon Nov 21 23:18:02 2022] [::1]:41038 [200]: GET /\n",
      "[Mon Nov 21 23:18:02 2022] [::1]:41038 Closing\n"
     ]
    },
    {
     "name": "stdout",
     "output_type": "stream",
     "text": [
      "\u001b[32;1m✔\u001b[39;22m \u001b[35;1mTest11_LoginNotExistingCest:\u001b[39;22m See error when user does not exists \u001b[32m(0.10s)\u001b[39m\r\n",
      "- \u001b[35;1mTest12_LoginWrongPasswordCest:\u001b[39;22m See error when wrong password is entered"
     ]
    },
    {
     "name": "stderr",
     "output_type": "stream",
     "text": [
      "[Mon Nov 21 23:18:02 2022] [::1]:41052 Accepted\n",
      "[Mon Nov 21 23:18:02 2022] [::1]:41052 [200]: GET /auth/login\n",
      "[Mon Nov 21 23:18:02 2022] [::1]:41052 Closing\n",
      "[Mon Nov 21 23:18:02 2022] [::1]:41060 Accepted\n"
     ]
    },
    {
     "name": "stdout",
     "output_type": "stream",
     "text": [
      "\r",
      "\u001b[32;1m✔\u001b[39;22m \u001b[35;1mTest12_LoginWrongPasswordCest:\u001b[39;22m See error when wrong password is entered \u001b[32m(0.40s)\u001b[39m\r\n",
      "- \u001b[35;1mTest13_LoginNotConfirmedCest:\u001b[39;22m Be remained about email confirmation when trying to login"
     ]
    },
    {
     "name": "stderr",
     "output_type": "stream",
     "text": [
      "[Mon Nov 21 23:18:02 2022] [::1]:41060 [200]: POST /auth/login\n",
      "[Mon Nov 21 23:18:02 2022] [::1]:41060 Closing\n",
      "[Mon Nov 21 23:18:02 2022] [::1]:41068 Accepted\n",
      "[Mon Nov 21 23:18:02 2022] [::1]:41068 [200]: GET /auth/login\n",
      "[Mon Nov 21 23:18:02 2022] [::1]:41068 Closing\n",
      "[Mon Nov 21 23:18:03 2022] [::1]:41078 Accepted\n",
      "[Mon Nov 21 23:18:03 2022] [::1]:41078 [302]: POST /auth/login\n",
      "[Mon Nov 21 23:18:03 2022] [::1]:41078 Closing\n",
      "[Mon Nov 21 23:18:03 2022] [::1]:41092 Accepted\n",
      "[Mon Nov 21 23:18:03 2022] [::1]:41092 [200]: GET /auth/confirmation_notice\n",
      "[Mon Nov 21 23:18:03 2022] [::1]:41092 Closing\n"
     ]
    },
    {
     "name": "stdout",
     "output_type": "stream",
     "text": [
      "\u001b[32;1m✔\u001b[39;22m \u001b[35;1mTest13_LoginNotConfirmedCest:\u001b[39;22m Be remained about email confirmation when trying to login \u001b[32m(0.43s)\u001b[39m\n",
      "\u001b[31;1m✖\u001b[39;22m \u001b[35;1mTest14_LoginLogoutSeeHiddenContentCest:\u001b[39;22m See hidden content after login \u001b[32m(0.23s)\u001b[39m\n",
      "--------------------------------------------------------------------------------\n",
      "Time: 00:03.109, Memory: 12.00 MB\n",
      "\n",
      "There were 3 failures:\n",
      "1) \u001b[35;1mTest06_HomepageCest:\u001b[39;22m See login and register links\n",
      "\u001b[37;41;1m Test  \u001b[39;49;22mtests/Acceptance/Test06_HomepageCest.php:test\n",
      "\u001b[37;41;1m Step \u001b[39;49;22m See link \"Login\",\"/auth/login\"\n",
      "\u001b[37;41;1m Fail \u001b[39;49;22m No links containing text 'Login' were found in page /home\n",
      "\u001b[33m\n",
      "Scenario Steps:\n",
      "\u001b[39m\n",
      "\u001b[1m 9. $I->seeLink(\"Login\",\"/auth/login\")\u001b[22m at \u001b[32mtests/Acceptance/Test06_HomepageCest.php:29\u001b[39m\n",
      " 8. $I->see(\"Welcome on homepage!\",\"h1.welcome\") at \u001b[32mtests/Acceptance/Test06_HomepageCest.php:26\u001b[39m\n",
      " 7. $I->seeInTitle(\"Homepage\") at \u001b[32mtests/Acceptance/Test06_HomepageCest.php:25\u001b[39m\n",
      " 6. $I->seeCurrentUrlEquals(\"/home\") at \u001b[32mtests/Acceptance/Test06_HomepageCest.php:24\u001b[39m\n",
      " 5. $I->click(\"Home\") at \u001b[32mtests/Acceptance/Test06_HomepageCest.php:23\u001b[39m\n",
      " 4. $I->seeNumRecords(0,\"objects\") at \u001b[32mtests/Acceptance/Test06_HomepageCest.php:20\u001b[39m\n",
      "\n",
      "\u001b[33mArtifacts:\u001b[39m\n",
      "\n",
      "Html: \u001b[36m/home/student/php_2022_adam_lewinski/07_testing/02_exercise/project/tests/_output/Tests.Acceptance.Test06_HomepageCest.test.fail.html\u001b[39m\n",
      "Response: \u001b[36m/home/student/php_2022_adam_lewinski/07_testing/02_exercise/project/tests/_output/Tests.Acceptance.Test06_HomepageCest.test.fail.html\u001b[39m\n",
      "2) \u001b[35;1mTest07_RegisterCest:\u001b[39;22m Register new user\n",
      "\u001b[37;41;1m Test  \u001b[39;49;22mtests/Acceptance/Test07_RegisterCest.php:test\n",
      "\u001b[37;41;1m Step \u001b[39;49;22m See in current url \"/auth/register\"\n",
      "\u001b[37;41;1m Fail \u001b[39;49;22m Failed asserting that '/auth/login%3ELogin%3C/a%3E%3Ca%20href=' contains \"/auth/register\".\n",
      "\u001b[33m\n",
      "Scenario Steps:\n",
      "\u001b[39m\n",
      "\u001b[1m 3. $I->seeInCurrentUrl(\"/auth/register\")\u001b[22m at \u001b[32mtests/Acceptance/Test07_RegisterCest.php:20\u001b[39m\n",
      " 2. $I->click(\"Register\") at \u001b[32mtests/Acceptance/Test07_RegisterCest.php:18\u001b[39m\n",
      " 1. $I->amOnPage(\"/\") at \u001b[32mtests/Acceptance/Test07_RegisterCest.php:16\u001b[39m\n",
      "\n",
      "\u001b[33mArtifacts:\u001b[39m\n",
      "\n",
      "Html: \u001b[36m/home/student/php_2022_adam_lewinski/07_testing/02_exercise/project/tests/_output/Tests.Acceptance.Test07_RegisterCest.test.fail.html\u001b[39m\n",
      "Response: \u001b[36m/home/student/php_2022_adam_lewinski/07_testing/02_exercise/project/tests/_output/Tests.Acceptance.Test07_RegisterCest.test.fail.html\u001b[39m\n",
      "3) \u001b[35;1mTest14_LoginLogoutSeeHiddenContentCest:\u001b[39;22m See hidden content after login\n",
      "\u001b[37;41;1m Test  \u001b[39;49;22mtests/Acceptance/Test14_LoginLogoutSeeHiddenContentCest.php:test\n",
      "\u001b[37;41;1m Step \u001b[39;49;22m See link \"Login\",\"/auth/login\"\n",
      "\u001b[37;41;1m Fail \u001b[39;49;22m No links containing text 'Login' were found in page /\n",
      "\u001b[33m\n",
      "Scenario Steps:\n",
      "\u001b[39m\n",
      "\u001b[1m 3. $I->seeLink(\"Login\",\"/auth/login\")\u001b[22m at \u001b[32mtests/Acceptance/Test14_LoginLogoutSeeHiddenContentCest.php:34\u001b[39m\n",
      " 2. $I->amOnPage(\"/\") at \u001b[32mtests/Acceptance/Test14_LoginLogoutSeeHiddenContentCest.php:32\u001b[39m\n",
      " 1. $I->haveInDatabase(\"objects\",{\"key\":\"model_user_1\",\"data\":\"O:10:\"Model\\...}) at \u001b[32mtests/Acceptance/Test14_LoginLogoutSeeHiddenContentCest.php:28\u001b[39m\n",
      "\n",
      "\u001b[33mArtifacts:\u001b[39m\n",
      "\n",
      "Html: \u001b[36m/home/student/php_2022_adam_lewinski/07_testing/02_exercise/project/tests/_output/Tests.Acceptance.Test14_LoginLogoutSeeHiddenContentCest.test.fail.html\u001b[39m\n",
      "Response: \u001b[36m/home/student/php_2022_adam_lewinski/07_testing/02_exercise/project/tests/_output/Tests.Acceptance.Test14_LoginLogoutSeeHiddenContentCest.test.fail.html\u001b[39m\n",
      "\n",
      "\u001b[37;41;1mFAILURES!\u001b[39;49;22m\n",
      "\u001b[37;41;1mTests: 15, Assertions: 245, Failures: 3.\u001b[39;49;22m\n",
      "- \u001b[1mJUNIT XML\u001b[22m report generated in \u001b[33mfile:///home/student/php_2022_adam_lewinski/07_testing/02_exercise/project/tests/_output/test_report.xml\u001b[39m\n"
     ]
    },
    {
     "name": "stderr",
     "output_type": "stream",
     "text": [
      "[Mon Nov 21 23:18:03 2022] [::1]:41100 Accepted\n",
      "[Mon Nov 21 23:18:03 2022] [::1]:41100 [200]: GET /\n",
      "[Mon Nov 21 23:18:03 2022] [::1]:41100 Closing\n"
     ]
    }
   ],
   "source": [
    "! vendor/bin/codecept run Acceptance --xml test_report.xml"
   ]
  },
  {
   "cell_type": "code",
   "execution_count": 196,
   "metadata": {},
   "outputs": [],
   "source": [
    "phpServer.kill()"
   ]
  },
  {
   "cell_type": "code",
   "execution_count": 197,
   "metadata": {},
   "outputs": [
    {
     "name": "stdout",
     "output_type": "stream",
     "text": [
      "/home/student/php_2022_adam_lewinski/07_testing/02_exercise\n"
     ]
    }
   ],
   "source": [
    "%cd ../"
   ]
  },
  {
   "cell_type": "markdown",
   "metadata": {},
   "source": [
    "Stop the databses:"
   ]
  },
  {
   "cell_type": "code",
   "execution_count": null,
   "metadata": {},
   "outputs": [],
   "source": [
    "! docker container stop redis"
   ]
  },
  {
   "cell_type": "code",
   "execution_count": null,
   "metadata": {},
   "outputs": [],
   "source": [
    "! docker container stop mysql"
   ]
  }
 ],
 "metadata": {
  "kernelspec": {
   "display_name": "Python 3 (ipykernel)",
   "language": "python",
   "name": "python3"
  },
  "language_info": {
   "codemirror_mode": {
    "name": "ipython",
    "version": 3
   },
   "file_extension": ".py",
   "mimetype": "text/x-python",
   "name": "python",
   "nbconvert_exporter": "python",
   "pygments_lexer": "ipython3",
   "version": "3.10.6"
  }
 },
 "nbformat": 4,
 "nbformat_minor": 4
}
