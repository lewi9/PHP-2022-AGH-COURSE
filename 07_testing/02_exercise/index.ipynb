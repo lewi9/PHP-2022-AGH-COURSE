{
 "cells": [
  {
   "cell_type": "markdown",
   "metadata": {},
   "source": [
    "# PHP 2022"
   ]
  },
  {
   "cell_type": "markdown",
   "metadata": {},
   "source": [
    "## 7. Testing"
   ]
  },
  {
   "cell_type": "markdown",
   "metadata": {},
   "source": [
    "### 7.2 Exercise"
   ]
  },
  {
   "cell_type": "markdown",
   "metadata": {},
   "source": [
    "Implment missing code."
   ]
  },
  {
   "cell_type": "markdown",
   "metadata": {},
   "source": [
    "Start the databses:"
   ]
  },
  {
   "cell_type": "code",
   "execution_count": 1,
   "metadata": {},
   "outputs": [
    {
     "name": "stdout",
     "output_type": "stream",
     "text": [
      "2f368ff7f00acd95fea7ec283bd9110e954e646692f85f4bd0daee08356b0bd3\r\n"
     ]
    }
   ],
   "source": [
    "! docker run --net=host --rm --name redis -d redis"
   ]
  },
  {
   "cell_type": "code",
   "execution_count": 2,
   "metadata": {},
   "outputs": [
    {
     "name": "stdout",
     "output_type": "stream",
     "text": [
      "dc24693c41d3c91cbf2e691a574b753b65c43c2d69cb7c51d1021a6553ca21f5\r\n"
     ]
    }
   ],
   "source": [
    "! docker run --name=mysql --net=host --rm --env MYSQL_ROOT_PASSWORD=root123 --env MYSQL_DATABASE=test --env MYSQL_USER=test --env MYSQL_PASSWORD=test123 -d mysql/mysql-server:8.0"
   ]
  },
  {
   "cell_type": "code",
   "execution_count": 3,
   "metadata": {},
   "outputs": [
    {
     "name": "stdout",
     "output_type": "stream",
     "text": [
      "Done.\r\n"
     ]
    }
   ],
   "source": [
    "! while ! timeout 1 bash -c \"echo > /dev/tcp/localhost/6379\" 2> /dev/null; do sleep 1; done; echo \"Done.\";"
   ]
  },
  {
   "cell_type": "code",
   "execution_count": 4,
   "metadata": {},
   "outputs": [
    {
     "name": "stdout",
     "output_type": "stream",
     "text": [
      "Done.\r\n"
     ]
    }
   ],
   "source": [
    "! while ! timeout 1 bash -c \"echo > /dev/tcp/localhost/3306\" 2> /dev/null; do sleep 1; done; echo \"Done.\";"
   ]
  },
  {
   "cell_type": "markdown",
   "metadata": {},
   "source": [
    "Edit the code:"
   ]
  },
  {
   "cell_type": "code",
   "execution_count": null,
   "metadata": {},
   "outputs": [
    {
     "name": "stdout",
     "output_type": "stream",
     "text": [
      "CompileCommand: exclude com/intellij/openapi/vfs/impl/FilePartNodeRoot.trieDescend bool exclude = true\n",
      "2022-11-21 23:07:19,305 [   2386] SEVERE - #c.i.d.LoadingState - Should be called at least in the state COMPONENTS_LOADED, the current state is: CONFIGURATION_STORE_INITIALIZED\n",
      "Current violators count: 1\n",
      "\n",
      "\n",
      "java.lang.Throwable\n",
      "\tat com.intellij.diagnostic.LoadingState.logStateError(LoadingState.java:52)\n",
      "\tat com.intellij.diagnostic.LoadingState.checkOccurred(LoadingState.java:48)\n",
      "\tat com.intellij.openapi.actionSystem.impl.ActionManagerImpl.<init>(ActionManagerImpl.java:133)\n",
      "\tat com.jetbrains.rdserver.ui.actionPopupMenu.BackendActionManager.<init>(BackendActionManager.kt:17)\n",
      "\tat java.base/jdk.internal.reflect.NativeConstructorAccessorImpl.newInstance0(Native Method)\n",
      "\tat java.base/jdk.internal.reflect.NativeConstructorAccessorImpl.newInstance(NativeConstructorAccessorImpl.java:77)\n",
      "\tat java.base/jdk.internal.reflect.DelegatingConstructorAccessorImpl.newInstance(DelegatingConstructorAccessorImpl.java:45)\n",
      "\tat java.base/java.lang.reflect.Constructor.newInstanceWithCaller(Constructor.java:499)\n",
      "\tat java.base/java.lang.reflect.Constructor.newInstance(Constructor.java:480)\n",
      "\tat com.intellij.serviceContainer.ConstructorInjectionKt.instantiateUsingPicoContainer(constructorInjection.kt:47)\n",
      "\tat com.intellij.serviceContainer.ComponentManagerImpl.instantiateClassWithConstructorInjection(ComponentManagerImpl.kt:890)\n",
      "\tat com.intellij.serviceContainer.ServiceComponentAdapter.createAndInitialize(ServiceComponentAdapter.kt:51)\n",
      "\tat com.intellij.serviceContainer.ServiceComponentAdapter.doCreateInstance(ServiceComponentAdapter.kt:41)\n",
      "\tat com.intellij.serviceContainer.BaseComponentAdapter.getInstanceUncached(BaseComponentAdapter.kt:119)\n",
      "\tat com.intellij.serviceContainer.BaseComponentAdapter.getInstance(BaseComponentAdapter.kt:73)\n",
      "\tat com.intellij.serviceContainer.BaseComponentAdapter.getInstance$default(BaseComponentAdapter.kt:66)\n",
      "\tat com.intellij.serviceContainer.ComponentManagerImpl.doGetService(ComponentManagerImpl.kt:609)\n",
      "\tat com.intellij.serviceContainer.ComponentManagerImpl.getService(ComponentManagerImpl.kt:583)\n",
      "\tat com.intellij.openapi.client.ClientAwareComponentManager.getFromSelfOrCurrentSession(ClientAwareComponentManager.kt:37)\n",
      "\tat com.intellij.openapi.client.ClientAwareComponentManager.getService(ClientAwareComponentManager.kt:22)\n",
      "\tat com.intellij.openapi.actionSystem.ActionManager.getInstance(ActionManager.java:29)\n",
      "\tat com.intellij.help.impl.KeymapGenerator.<clinit>(KeymapGenerator.java:33)\n",
      "\tat java.base/jdk.internal.misc.Unsafe.allocateInstance(Native Method)\n",
      "\tat java.base/java.lang.invoke.DirectMethodHandle.allocateInstance(DirectMethodHandle.java:520)\n",
      "\tat com.intellij.serviceContainer.ComponentManagerImpl.instantiateClass(ComponentManagerImpl.kt:844)\n",
      "\tat com.intellij.openapi.extensions.impl.XmlExtensionAdapter.instantiateClass(XmlExtensionAdapter.kt:79)\n",
      "\tat com.intellij.openapi.extensions.impl.XmlExtensionAdapter$SimpleConstructorInjectionAdapter.instantiateClass(XmlExtensionAdapter.kt:90)\n",
      "\tat com.intellij.openapi.extensions.impl.XmlExtensionAdapter.doCreateInstance(XmlExtensionAdapter.kt:50)\n",
      "\tat com.intellij.openapi.extensions.impl.XmlExtensionAdapter.createInstance(XmlExtensionAdapter.kt:31)\n",
      "\tat com.intellij.openapi.extensions.impl.ExtensionPointImpl.processAdapter(ExtensionPointImpl.java:447)\n",
      "\tat com.intellij.openapi.extensions.impl.ExtensionPointImpl.access$200(ExtensionPointImpl.java:33)\n",
      "\tat com.intellij.openapi.extensions.impl.ExtensionPointImpl$1.next(ExtensionPointImpl.java:355)\n",
      "\tat com.intellij.idea.ApplicationLoader.findAppStarter(ApplicationLoader.kt:595)\n",
      "\tat com.intellij.idea.ApplicationLoader.access$findAppStarter(ApplicationLoader.kt:1)\n",
      "\tat com.intellij.idea.ApplicationLoader$initApplication$block$3.apply(ApplicationLoader.kt:170)\n",
      "\tat com.intellij.idea.ApplicationLoader$initApplication$block$3.apply(ApplicationLoader.kt)\n",
      "\tat java.base/java.util.concurrent.CompletableFuture$UniCompose.tryFire(CompletableFuture.java:1150)\n",
      "\tat java.base/java.util.concurrent.CompletableFuture.postComplete(CompletableFuture.java:510)\n",
      "\tat java.base/java.util.concurrent.CompletableFuture.postFire(CompletableFuture.java:614)\n",
      "\tat java.base/java.util.concurrent.CompletableFuture$UniCompose.tryFire(CompletableFuture.java:1163)\n",
      "\tat java.base/java.util.concurrent.CompletableFuture$Completion.run(CompletableFuture.java:482)\n",
      "\tat com.intellij.idea.ApplicationLoader$initApplication$block$2.execute(ApplicationLoader.kt:142)\n",
      "\tat java.base/java.util.concurrent.CompletableFuture$UniCompletion.claim(CompletableFuture.java:572)\n",
      "\tat java.base/java.util.concurrent.CompletableFuture$UniCompose.tryFire(CompletableFuture.java:1147)\n",
      "\tat java.base/java.util.concurrent.CompletableFuture.postComplete(CompletableFuture.java:510)\n",
      "\tat java.base/java.util.concurrent.CompletableFuture.postFire(CompletableFuture.java:614)\n",
      "\tat java.base/java.util.concurrent.CompletableFuture$UniCompose.tryFire(CompletableFuture.java:1163)\n",
      "\tat java.base/java.util.concurrent.CompletableFuture$Completion.exec(CompletableFuture.java:483)\n",
      "\tat java.base/java.util.concurrent.ForkJoinTask.doExec(ForkJoinTask.java:373)\n",
      "\tat java.base/java.util.concurrent.ForkJoinPool$WorkQueue.topLevelExec(ForkJoinPool.java:1182)\n",
      "\tat java.base/java.util.concurrent.ForkJoinPool.scan(ForkJoinPool.java:1655)\n",
      "\tat java.base/java.util.concurrent.ForkJoinPool.runWorker(ForkJoinPool.java:1622)\n",
      "\tat java.base/java.util.concurrent.ForkJoinWorkerThread.run(ForkJoinWorkerThread.java:165)\n",
      "2022-11-21 23:07:19,318 [   2399] SEVERE - #c.i.d.LoadingState - PhpStorm 2022.2.3  Build #PS-222.4345.15\n",
      "2022-11-21 23:07:19,319 [   2400] SEVERE - #c.i.d.LoadingState - JDK: 17.0.4.1; VM: OpenJDK 64-Bit Server VM; Vendor: JetBrains s.r.o.\n",
      "2022-11-21 23:07:19,320 [   2401] SEVERE - #c.i.d.LoadingState - OS: Linux\n",
      "2022-11-21 23:07:19,914 [   2995] SEVERE - #c.i.d.LoadingState - Should be called at least in the state COMPONENTS_LOADED, the current state is: CONFIGURATION_STORE_INITIALIZED\n",
      "Current violators count: 2\n",
      "\n",
      "\n",
      "java.lang.Throwable\n",
      "\tat com.intellij.diagnostic.LoadingState.logStateError(LoadingState.java:52)\n",
      "\tat com.intellij.diagnostic.LoadingState.checkOccurred(LoadingState.java:48)\n",
      "\tat com.intellij.openapi.util.registry.Registry.getInstance(Registry.java:176)\n",
      "\tat com.intellij.openapi.util.registry.Registry.get(Registry.java:50)\n",
      "\tat com.intellij.openapi.util.registry.Registry.is(Registry.java:63)\n",
      "\tat com.intellij.execution.ExecutorRegistryImpl.isExecutorInMainGroup(ExecutorRegistryImpl.java:195)\n",
      "\tat com.intellij.execution.ExecutorRegistryImpl.initExecutorActions(ExecutorRegistryImpl.java:127)\n",
      "\tat com.intellij.execution.ExecutorRegistryImpl.init(ExecutorRegistryImpl.java:278)\n",
      "\tat com.intellij.execution.ExecutorRegistryImpl$ExecutorRegistryActionConfigurationTuner.customize(ExecutorRegistryImpl.java:92)\n",
      "\tat com.intellij.openapi.actionSystem.impl.ActionManagerImpl.lambda$new$0(ActionManagerImpl.java:141)\n",
      "\tat com.intellij.openapi.extensions.impl.ExtensionProcessingHelper.forEachExtensionSafe(ExtensionProcessingHelper.java:34)\n",
      "\tat com.intellij.openapi.extensions.ExtensionPointName.forEachExtensionSafe(ExtensionPointName.java:46)\n",
      "\tat com.intellij.openapi.actionSystem.impl.ActionManagerImpl.<init>(ActionManagerImpl.java:141)\n",
      "\tat com.jetbrains.rdserver.ui.actionPopupMenu.BackendActionManager.<init>(BackendActionManager.kt:17)\n",
      "\tat java.base/jdk.internal.reflect.NativeConstructorAccessorImpl.newInstance0(Native Method)\n",
      "\tat java.base/jdk.internal.reflect.NativeConstructorAccessorImpl.newInstance(NativeConstructorAccessorImpl.java:77)\n",
      "\tat java.base/jdk.internal.reflect.DelegatingConstructorAccessorImpl.newInstance(DelegatingConstructorAccessorImpl.java:45)\n",
      "\tat java.base/java.lang.reflect.Constructor.newInstanceWithCaller(Constructor.java:499)\n",
      "\tat java.base/java.lang.reflect.Constructor.newInstance(Constructor.java:480)\n",
      "\tat com.intellij.serviceContainer.ConstructorInjectionKt.instantiateUsingPicoContainer(constructorInjection.kt:47)\n",
      "\tat com.intellij.serviceContainer.ComponentManagerImpl.instantiateClassWithConstructorInjection(ComponentManagerImpl.kt:890)\n",
      "\tat com.intellij.serviceContainer.ServiceComponentAdapter.createAndInitialize(ServiceComponentAdapter.kt:51)\n",
      "\tat com.intellij.serviceContainer.ServiceComponentAdapter.doCreateInstance(ServiceComponentAdapter.kt:41)\n",
      "\tat com.intellij.serviceContainer.BaseComponentAdapter.getInstanceUncached(BaseComponentAdapter.kt:119)\n",
      "\tat com.intellij.serviceContainer.BaseComponentAdapter.getInstance(BaseComponentAdapter.kt:73)\n",
      "\tat com.intellij.serviceContainer.BaseComponentAdapter.getInstance$default(BaseComponentAdapter.kt:66)\n",
      "\tat com.intellij.serviceContainer.ComponentManagerImpl.doGetService(ComponentManagerImpl.kt:609)\n",
      "\tat com.intellij.serviceContainer.ComponentManagerImpl.getService(ComponentManagerImpl.kt:583)\n",
      "\tat com.intellij.openapi.client.ClientAwareComponentManager.getFromSelfOrCurrentSession(ClientAwareComponentManager.kt:37)\n",
      "\tat com.intellij.openapi.client.ClientAwareComponentManager.getService(ClientAwareComponentManager.kt:22)\n",
      "\tat com.intellij.openapi.actionSystem.ActionManager.getInstance(ActionManager.java:29)\n",
      "\tat com.intellij.help.impl.KeymapGenerator.<clinit>(KeymapGenerator.java:33)\n",
      "\tat java.base/jdk.internal.misc.Unsafe.allocateInstance(Native Method)\n",
      "\tat java.base/java.lang.invoke.DirectMethodHandle.allocateInstance(DirectMethodHandle.java:520)\n",
      "\tat com.intellij.serviceContainer.ComponentManagerImpl.instantiateClass(ComponentManagerImpl.kt:844)\n",
      "\tat com.intellij.openapi.extensions.impl.XmlExtensionAdapter.instantiateClass(XmlExtensionAdapter.kt:79)\n",
      "\tat com.intellij.openapi.extensions.impl.XmlExtensionAdapter$SimpleConstructorInjectionAdapter.instantiateClass(XmlExtensionAdapter.kt:90)\n",
      "\tat com.intellij.openapi.extensions.impl.XmlExtensionAdapter.doCreateInstance(XmlExtensionAdapter.kt:50)\n",
      "\tat com.intellij.openapi.extensions.impl.XmlExtensionAdapter.createInstance(XmlExtensionAdapter.kt:31)\n",
      "\tat com.intellij.openapi.extensions.impl.ExtensionPointImpl.processAdapter(ExtensionPointImpl.java:447)\n",
      "\tat com.intellij.openapi.extensions.impl.ExtensionPointImpl.access$200(ExtensionPointImpl.java:33)\n",
      "\tat com.intellij.openapi.extensions.impl.ExtensionPointImpl$1.next(ExtensionPointImpl.java:355)\n",
      "\tat com.intellij.idea.ApplicationLoader.findAppStarter(ApplicationLoader.kt:595)\n",
      "\tat com.intellij.idea.ApplicationLoader.access$findAppStarter(ApplicationLoader.kt:1)\n",
      "\tat com.intellij.idea.ApplicationLoader$initApplication$block$3.apply(ApplicationLoader.kt:170)\n",
      "\tat com.intellij.idea.ApplicationLoader$initApplication$block$3.apply(ApplicationLoader.kt)\n",
      "\tat java.base/java.util.concurrent.CompletableFuture$UniCompose.tryFire(CompletableFuture.java:1150)\n",
      "\tat java.base/java.util.concurrent.CompletableFuture.postComplete(CompletableFuture.java:510)\n",
      "\tat java.base/java.util.concurrent.CompletableFuture.postFire(CompletableFuture.java:614)\n",
      "\tat java.base/java.util.concurrent.CompletableFuture$UniCompose.tryFire(CompletableFuture.java:1163)\n",
      "\tat java.base/java.util.concurrent.CompletableFuture$Completion.run(CompletableFuture.java:482)\n",
      "\tat com.intellij.idea.ApplicationLoader$initApplication$block$2.execute(ApplicationLoader.kt:142)\n",
      "\tat java.base/java.util.concurrent.CompletableFuture$UniCompletion.claim(CompletableFuture.java:572)\n",
      "\tat java.base/java.util.concurrent.CompletableFuture$UniCompose.tryFire(CompletableFuture.java:1147)\n",
      "\tat java.base/java.util.concurrent.CompletableFuture.postComplete(CompletableFuture.java:510)\n",
      "\tat java.base/java.util.concurrent.CompletableFuture.postFire(CompletableFuture.java:614)\n",
      "\tat java.base/java.util.concurrent.CompletableFuture$UniCompose.tryFire(CompletableFuture.java:1163)\n",
      "\tat java.base/java.util.concurrent.CompletableFuture$Completion.exec(CompletableFuture.java:483)\n",
      "\tat java.base/java.util.concurrent.ForkJoinTask.doExec(ForkJoinTask.java:373)\n",
      "\tat java.base/java.util.concurrent.ForkJoinPool$WorkQueue.topLevelExec(ForkJoinPool.java:1182)\n",
      "\tat java.base/java.util.concurrent.ForkJoinPool.scan(ForkJoinPool.java:1655)\n",
      "\tat java.base/java.util.concurrent.ForkJoinPool.runWorker(ForkJoinPool.java:1622)\n",
      "\tat java.base/java.util.concurrent.ForkJoinWorkerThread.run(ForkJoinWorkerThread.java:165)\n",
      "2022-11-21 23:07:19,920 [   3001] SEVERE - #c.i.d.LoadingState - PhpStorm 2022.2.3  Build #PS-222.4345.15\n",
      "2022-11-21 23:07:19,921 [   3002] SEVERE - #c.i.d.LoadingState - JDK: 17.0.4.1; VM: OpenJDK 64-Bit Server VM; Vendor: JetBrains s.r.o.\n",
      "2022-11-21 23:07:19,922 [   3003] SEVERE - #c.i.d.LoadingState - OS: Linux\n",
      "2022-11-21 23:07:19,940 [   3021] SEVERE - #c.i.d.LoadingState - Should be called at least in the state COMPONENTS_LOADED, the current state is: CONFIGURATION_STORE_INITIALIZED\n",
      "Current violators count: 3\n",
      "\n",
      "\n",
      "java.lang.Throwable\n",
      "\tat com.intellij.diagnostic.LoadingState.logStateError(LoadingState.java:52)\n",
      "\tat com.intellij.diagnostic.LoadingState.checkOccurred(LoadingState.java:48)\n",
      "\tat com.intellij.openapi.util.registry.Registry.getInstance(Registry.java:176)\n",
      "\tat com.intellij.openapi.util.registry.Registry.get(Registry.java:50)\n",
      "\tat com.intellij.openapi.util.registry.Registry.is(Registry.java:63)\n",
      "\tat com.intellij.openapi.wm.impl.GlobalMenuLinux._loadLibrary(GlobalMenuLinux.java:797)\n",
      "\tat com.intellij.openapi.wm.impl.GlobalMenuLinux.<clinit>(GlobalMenuLinux.java:164)\n",
      "\tat com.intellij.openapi.wm.impl.GlobalMenuLinux$MyActionTuner.customize(GlobalMenuLinux.java:230)\n",
      "\tat com.intellij.openapi.actionSystem.impl.ActionManagerImpl.lambda$new$0(ActionManagerImpl.java:141)\n",
      "\tat com.intellij.openapi.extensions.impl.ExtensionProcessingHelper.forEachExtensionSafe(ExtensionProcessingHelper.java:34)\n",
      "\tat com.intellij.openapi.extensions.ExtensionPointName.forEachExtensionSafe(ExtensionPointName.java:46)\n",
      "\tat com.intellij.openapi.actionSystem.impl.ActionManagerImpl.<init>(ActionManagerImpl.java:141)\n",
      "\tat com.jetbrains.rdserver.ui.actionPopupMenu.BackendActionManager.<init>(BackendActionManager.kt:17)\n",
      "\tat java.base/jdk.internal.reflect.NativeConstructorAccessorImpl.newInstance0(Native Method)\n",
      "\tat java.base/jdk.internal.reflect.NativeConstructorAccessorImpl.newInstance(NativeConstructorAccessorImpl.java:77)\n",
      "\tat java.base/jdk.internal.reflect.DelegatingConstructorAccessorImpl.newInstance(DelegatingConstructorAccessorImpl.java:45)\n",
      "\tat java.base/java.lang.reflect.Constructor.newInstanceWithCaller(Constructor.java:499)\n",
      "\tat java.base/java.lang.reflect.Constructor.newInstance(Constructor.java:480)\n",
      "\tat com.intellij.serviceContainer.ConstructorInjectionKt.instantiateUsingPicoContainer(constructorInjection.kt:47)\n",
      "\tat com.intellij.serviceContainer.ComponentManagerImpl.instantiateClassWithConstructorInjection(ComponentManagerImpl.kt:890)\n",
      "\tat com.intellij.serviceContainer.ServiceComponentAdapter.createAndInitialize(ServiceComponentAdapter.kt:51)\n",
      "\tat com.intellij.serviceContainer.ServiceComponentAdapter.doCreateInstance(ServiceComponentAdapter.kt:41)\n",
      "\tat com.intellij.serviceContainer.BaseComponentAdapter.getInstanceUncached(BaseComponentAdapter.kt:119)\n",
      "\tat com.intellij.serviceContainer.BaseComponentAdapter.getInstance(BaseComponentAdapter.kt:73)\n",
      "\tat com.intellij.serviceContainer.BaseComponentAdapter.getInstance$default(BaseComponentAdapter.kt:66)\n",
      "\tat com.intellij.serviceContainer.ComponentManagerImpl.doGetService(ComponentManagerImpl.kt:609)\n",
      "\tat com.intellij.serviceContainer.ComponentManagerImpl.getService(ComponentManagerImpl.kt:583)\n",
      "\tat com.intellij.openapi.client.ClientAwareComponentManager.getFromSelfOrCurrentSession(ClientAwareComponentManager.kt:37)\n",
      "\tat com.intellij.openapi.client.ClientAwareComponentManager.getService(ClientAwareComponentManager.kt:22)\n",
      "\tat com.intellij.openapi.actionSystem.ActionManager.getInstance(ActionManager.java:29)\n",
      "\tat com.intellij.help.impl.KeymapGenerator.<clinit>(KeymapGenerator.java:33)\n",
      "\tat java.base/jdk.internal.misc.Unsafe.allocateInstance(Native Method)\n",
      "\tat java.base/java.lang.invoke.DirectMethodHandle.allocateInstance(DirectMethodHandle.java:520)\n",
      "\tat com.intellij.serviceContainer.ComponentManagerImpl.instantiateClass(ComponentManagerImpl.kt:844)\n",
      "\tat com.intellij.openapi.extensions.impl.XmlExtensionAdapter.instantiateClass(XmlExtensionAdapter.kt:79)\n",
      "\tat com.intellij.openapi.extensions.impl.XmlExtensionAdapter$SimpleConstructorInjectionAdapter.instantiateClass(XmlExtensionAdapter.kt:90)\n",
      "\tat com.intellij.openapi.extensions.impl.XmlExtensionAdapter.doCreateInstance(XmlExtensionAdapter.kt:50)\n",
      "\tat com.intellij.openapi.extensions.impl.XmlExtensionAdapter.createInstance(XmlExtensionAdapter.kt:31)\n",
      "\tat com.intellij.openapi.extensions.impl.ExtensionPointImpl.processAdapter(ExtensionPointImpl.java:447)\n",
      "\tat com.intellij.openapi.extensions.impl.ExtensionPointImpl.access$200(ExtensionPointImpl.java:33)\n",
      "\tat com.intellij.openapi.extensions.impl.ExtensionPointImpl$1.next(ExtensionPointImpl.java:355)\n",
      "\tat com.intellij.idea.ApplicationLoader.findAppStarter(ApplicationLoader.kt:595)\n",
      "\tat com.intellij.idea.ApplicationLoader.access$findAppStarter(ApplicationLoader.kt:1)\n",
      "\tat com.intellij.idea.ApplicationLoader$initApplication$block$3.apply(ApplicationLoader.kt:170)\n",
      "\tat com.intellij.idea.ApplicationLoader$initApplication$block$3.apply(ApplicationLoader.kt)\n",
      "\tat java.base/java.util.concurrent.CompletableFuture$UniCompose.tryFire(CompletableFuture.java:1150)\n",
      "\tat java.base/java.util.concurrent.CompletableFuture.postComplete(CompletableFuture.java:510)\n",
      "\tat java.base/java.util.concurrent.CompletableFuture.postFire(CompletableFuture.java:614)\n",
      "\tat java.base/java.util.concurrent.CompletableFuture$UniCompose.tryFire(CompletableFuture.java:1163)\n",
      "\tat java.base/java.util.concurrent.CompletableFuture$Completion.run(CompletableFuture.java:482)\n",
      "\tat com.intellij.idea.ApplicationLoader$initApplication$block$2.execute(ApplicationLoader.kt:142)\n",
      "\tat java.base/java.util.concurrent.CompletableFuture$UniCompletion.claim(CompletableFuture.java:572)\n",
      "\tat java.base/java.util.concurrent.CompletableFuture$UniCompose.tryFire(CompletableFuture.java:1147)\n",
      "\tat java.base/java.util.concurrent.CompletableFuture.postComplete(CompletableFuture.java:510)\n",
      "\tat java.base/java.util.concurrent.CompletableFuture.postFire(CompletableFuture.java:614)\n",
      "\tat java.base/java.util.concurrent.CompletableFuture$UniCompose.tryFire(CompletableFuture.java:1163)\n",
      "\tat java.base/java.util.concurrent.CompletableFuture$Completion.exec(CompletableFuture.java:483)\n",
      "\tat java.base/java.util.concurrent.ForkJoinTask.doExec(ForkJoinTask.java:373)\n"
     ]
    },
    {
     "name": "stdout",
     "output_type": "stream",
     "text": [
      "\tat java.base/java.util.concurrent.ForkJoinPool$WorkQueue.topLevelExec(ForkJoinPool.java:1182)\n",
      "\tat java.base/java.util.concurrent.ForkJoinPool.scan(ForkJoinPool.java:1655)\n",
      "\tat java.base/java.util.concurrent.ForkJoinPool.runWorker(ForkJoinPool.java:1622)\n",
      "\tat java.base/java.util.concurrent.ForkJoinWorkerThread.run(ForkJoinWorkerThread.java:165)\n",
      "2022-11-21 23:07:19,944 [   3025] SEVERE - #c.i.d.LoadingState - PhpStorm 2022.2.3  Build #PS-222.4345.15\n",
      "2022-11-21 23:07:19,945 [   3026] SEVERE - #c.i.d.LoadingState - JDK: 17.0.4.1; VM: OpenJDK 64-Bit Server VM; Vendor: JetBrains s.r.o.\n",
      "2022-11-21 23:07:19,945 [   3026] SEVERE - #c.i.d.LoadingState - OS: Linux\n",
      "Info  | RdCoroutineScope          | 13:JobScheduler FJ pool 1/3 | RdCoroutineHost overridden \n",
      "2022-11-21 23:07:26,383 [   9464]   WARN - #c.i.o.a.i.ActionUpdater - 274 ms to grab EDT for CWMTelephonyGroup#update@NavBarToolbar (com.jetbrains.rd.platform.codeWithMe.telephony.CWMTelephonyGroup)\n",
      "2022-11-21 23:07:31,950 [  15031]   WARN - #c.i.o.a.e.ActionUtil - Can not find action by id CompileDirty\n",
      "2022-11-21 23:07:32,396 [  15477]   WARN - #c.i.u.x.Binding - no accessors for com.jetbrains.php.testFramework.PhpTestFrameworkType\n",
      "2022-11-21 23:07:38,545 [  21626]   WARN - #c.i.o.a.i.ActionUpdater - 296 ms to grab EDT for CWMTelephonyGroup#update@NavBarToolbar (com.jetbrains.rd.platform.codeWithMe.telephony.CWMTelephonyGroup)\n",
      "2022-11-21 23:07:39,722 [  22803]   WARN - #c.i.o.a.i.ActionUpdater - 232 ms to grab EDT for CWMTelephonyGroup#update@NavBarToolbar (com.jetbrains.rd.platform.codeWithMe.telephony.CWMTelephonyGroup)\n",
      "2022-11-21 23:07:44,767 [  27848]   WARN - #c.j.p.p.PharLibraryManager - Frequent root change. Source class com.jetbrains.php.phar.PharLibraryManager, delta 4192.\n",
      "Old roots: [phar:///home/student/php_2022_adam_lewinski/07_testing/02_exercise/project/vendor/bin/phpstan.phar/]\n",
      "New Roots: [phar:///home/student/php_2022_adam_lewinski/07_testing/02_exercise/project/vendor/bin/phpstan.phar/, phar:///home/student/php_2022_adam_lewinski/07_testing/02_exercise/project/vendor/phpstan/phpstan/phpstan.phar/]\n",
      "2022-11-21 23:07:49,652 [  32733]   WARN - #c.j.p.PhpIndex - Completing type '#Vflags' took 793ms, visited:[#Vflags]\n",
      "2022-11-21 23:07:49,677 [  32758]   WARN - #c.j.p.PhpIndex - Completing type '#顶#-#Vflags∆n' took 819ms, visited:[#顶#-#Vflags∆n]\n",
      "2022-11-21 23:08:11,733 [  54814]   WARN - #c.i.o.a.i.ActionUpdater - 338 ms to grab EDT for DockToolWindowAction#update@ToolwindowTitle (com.intellij.openapi.wm.impl.DockToolWindowAction)\n",
      "2022-11-21 23:08:11,904 [  54985]   WARN - #c.i.u.x.Binding - no accessors for org.jetbrains.idea.perforce.perforce.ConnectionId\n",
      "2022-11-21 23:08:12,098 [  55179]   WARN - #c.i.o.a.i.ActionUpdater - 335 ms to grab EDT for CWMTelephonyGroup#update@NavBarToolbar (com.jetbrains.rd.platform.codeWithMe.telephony.CWMTelephonyGroup)\n"
     ]
    }
   ],
   "source": [
    "! phpstorm project"
   ]
  },
  {
   "cell_type": "markdown",
   "metadata": {},
   "source": [
    "You can test your solution using included tests:"
   ]
  },
  {
   "cell_type": "code",
   "execution_count": 141,
   "metadata": {},
   "outputs": [
    {
     "name": "stdout",
     "output_type": "stream",
     "text": [
      "/home/student/php_2022_adam_lewinski/07_testing/02_exercise/project\n"
     ]
    }
   ],
   "source": [
    "%cd project"
   ]
  },
  {
   "cell_type": "code",
   "execution_count": 142,
   "metadata": {},
   "outputs": [
    {
     "name": "stdout",
     "output_type": "stream",
     "text": [
      "\u001b[32mInstalling dependencies from lock file (including require-dev)\u001b[39m\n",
      "\u001b[32mVerifying lock file contents can be installed on current platform.\u001b[39m\n",
      "Nothing to install, update or remove\n",
      "\u001b[32mGenerating autoload files\u001b[39m\n",
      "\u001b[32m60 packages you are using are looking for funding.\u001b[39m\n",
      "\u001b[32mUse the `composer fund` command to find out more!\u001b[39m\n"
     ]
    }
   ],
   "source": [
    "! composer install"
   ]
  },
  {
   "cell_type": "code",
   "execution_count": 143,
   "metadata": {},
   "outputs": [
    {
     "name": "stdout",
     "output_type": "stream",
     "text": [
      "\u001b[32mBuilding Actor classes for suites: Acceptance, Unit\u001b[39m\n",
      " -> AcceptanceTesterActions.php generated successfully. 241 methods added\n",
      "\u001b[32mTests\\AcceptanceTester\u001b[39m includes modules: PhpBrowser, Filesystem, Asserts, Db, Redis\n",
      " -> UnitTesterActions.php generated successfully. 137 methods added\n",
      "\u001b[32mTests\\UnitTester\u001b[39m includes modules: Asserts\n"
     ]
    }
   ],
   "source": [
    "! vendor/bin/codecept build"
   ]
  },
  {
   "cell_type": "code",
   "execution_count": 148,
   "metadata": {
    "scrolled": true
   },
   "outputs": [
    {
     "name": "stdout",
     "output_type": "stream",
     "text": [
      "Loaded config \u001b[33mdefault\u001b[39m from \"/home/student/php_2022_adam_lewinski/07_testing/02_exercise/project/./.php-cs-fixer.dist.php\".\n",
      "Using cache file \".php-cs-fixer.cache\".\n",
      "\n",
      "Checked all files in 0.011 seconds, 14.000 MB memory used\n"
     ]
    }
   ],
   "source": [
    "! vendor/bin/php-cs-fixer fix  --diff --dry-run ."
   ]
  },
  {
   "cell_type": "code",
   "execution_count": 145,
   "metadata": {},
   "outputs": [
    {
     "name": "stdout",
     "output_type": "stream",
     "text": [
      "  0/65 [░░░░░░░░░░░░░░░░░░░░░░░░░░░░]   0%\u001b[1G\u001b[2K 65/65 [▓▓▓▓▓▓▓▓▓▓▓▓▓▓▓▓▓▓▓▓▓▓▓▓▓▓▓▓] 100%\n",
      "\n",
      "\n",
      "\u001b[30;42m                                                                                \u001b[39;49m\n",
      "\u001b[30;42m [OK] No errors                                                                 \u001b[39;49m\n",
      "\u001b[30;42m                                                                                \u001b[39;49m\n",
      "\n"
     ]
    }
   ],
   "source": [
    "! vendor/bin/phpstan analyze --xdebug -c phpstan.neon"
   ]
  },
  {
   "cell_type": "code",
   "execution_count": 146,
   "metadata": {},
   "outputs": [
    {
     "name": "stdout",
     "output_type": "stream",
     "text": [
      "phpcpd 6.0.3 by Sebastian Bergmann.\n",
      "\n",
      "No clones found.\n",
      "\n",
      "Time: 00:00.042, Memory: 4.00 MB\n"
     ]
    }
   ],
   "source": [
    "! vendor/bin/phpcpd . --fuzzy --min-lines 1 --min-tokens 20 --exclude vendor --exclude tests"
   ]
  },
  {
   "cell_type": "code",
   "execution_count": 149,
   "metadata": {},
   "outputs": [
    {
     "name": "stdout",
     "output_type": "stream",
     "text": [
      "Codeception PHP Testing Framework v5.0.4 https://helpukrainewin.org\n",
      "\n",
      "\u001b[1mTests.Unit Tests (24) \u001b[22m----------------------------------------------------------\n",
      "\u001b[32;1m✔\u001b[39;22m \u001b[35;1mTest00_StringEditorCest:\u001b[39;22m Create \u001b[32m(0.00s)\u001b[39m\n",
      "\u001b[32;1m✔\u001b[39;22m \u001b[35;1mTest00_StringEditorCest:\u001b[39;22m Replace word \u001b[32m(0.00s)\u001b[39m\n",
      "\u001b[32;1m✔\u001b[39;22m \u001b[35;1mTest00_StringEditorCest:\u001b[39;22m Lowercase \u001b[32m(0.00s)\u001b[39m\n",
      "\u001b[32;1m✔\u001b[39;22m \u001b[35;1mTest00_StringEditorCest:\u001b[39;22m Uppercase \u001b[32m(0.00s)\u001b[39m\n",
      "\u001b[32;1m✔\u001b[39;22m \u001b[35;1mTest00_StringEditorCest:\u001b[39;22m Replace and upper case \u001b[32m(0.00s)\u001b[39m\n",
      "\u001b[32;1m✔\u001b[39;22m \u001b[35;1mTest00_StringEditorCest:\u001b[39;22m Censor word \u001b[32m(0.00s)\u001b[39m\n",
      "\u001b[32;1m✔\u001b[39;22m \u001b[35;1mTest00_StringEditorCest:\u001b[39;22m Censor short and long words \u001b[32m(0.00s)\u001b[39m\n",
      "\u001b[32;1m✔\u001b[39;22m \u001b[35;1mTest00_StringEditorCest:\u001b[39;22m Repeat word \u001b[32m(0.00s)\u001b[39m\n",
      "\u001b[32;1m✔\u001b[39;22m \u001b[35;1mTest00_StringEditorCest:\u001b[39;22m Remove word \u001b[32m(0.00s)\u001b[39m\n",
      "\u001b[32;1m✔\u001b[39;22m \u001b[35;1mTest00_StringEditorCest:\u001b[39;22m Edit sentence \u001b[32m(0.00s)\u001b[39m\n",
      "\u001b[32;1m✔\u001b[39;22m \u001b[35;1mTest01_RingBufferCest:\u001b[39;22m Create \u001b[32m(0.00s)\u001b[39m\n",
      "\u001b[32;1m✔\u001b[39;22m \u001b[35;1mTest01_RingBufferCest:\u001b[39;22m Should be empty \u001b[32m(0.00s)\u001b[39m\n",
      "\u001b[32;1m✔\u001b[39;22m \u001b[35;1mTest01_RingBufferCest:\u001b[39;22m Capacity \u001b[32m(0.00s)\u001b[39m\n",
      "\u001b[32;1m✔\u001b[39;22m \u001b[35;1mTest01_RingBufferCest:\u001b[39;22m Size should be zero when empty \u001b[32m(0.00s)\u001b[39m\n",
      "\u001b[32;1m✔\u001b[39;22m \u001b[35;1mTest01_RingBufferCest:\u001b[39;22m Push value size should increase \u001b[32m(0.00s)\u001b[39m\n",
      "\u001b[32;1m✔\u001b[39;22m \u001b[35;1mTest01_RingBufferCest:\u001b[39;22m Empty should be false when full \u001b[32m(0.00s)\u001b[39m\n",
      "\u001b[32;1m✔\u001b[39;22m \u001b[35;1mTest01_RingBufferCest:\u001b[39;22m Pop from empty \u001b[32m(0.00s)\u001b[39m\n",
      "\u001b[32;1m✔\u001b[39;22m \u001b[35;1mTest01_RingBufferCest:\u001b[39;22m Push and pop single value \u001b[32m(0.00s)\u001b[39m\n",
      "\u001b[32;1m✔\u001b[39;22m \u001b[35;1mTest01_RingBufferCest:\u001b[39;22m Pop should reduce size \u001b[32m(0.00s)\u001b[39m\n",
      "\u001b[32;1m✔\u001b[39;22m \u001b[35;1mTest01_RingBufferCest:\u001b[39;22m Back should not change buffer \u001b[32m(0.00s)\u001b[39m\n",
      "\u001b[32;1m✔\u001b[39;22m \u001b[35;1mTest01_RingBufferCest:\u001b[39;22m Push multiple times \u001b[32m(0.00s)\u001b[39m\n",
      "\u001b[32;1m✔\u001b[39;22m \u001b[35;1mTest01_RingBufferCest:\u001b[39;22m Multi item buffer \u001b[32m(0.00s)\u001b[39m\n",
      "\u001b[32;1m✔\u001b[39;22m \u001b[35;1mTest01_RingBufferCest:\u001b[39;22m Push and pop all values \u001b[32m(0.00s)\u001b[39m\n",
      "\u001b[32;1m✔\u001b[39;22m \u001b[35;1mTest01_RingBufferCest:\u001b[39;22m Access values by index \u001b[32m(0.00s)\u001b[39m\n",
      "--------------------------------------------------------------------------------\n",
      "Time: 00:00.114, Memory: 8.00 MB\n",
      "\n",
      "\u001b[30;42mOK (24 tests, 75 assertions)\u001b[39;49m\n"
     ]
    }
   ],
   "source": [
    "! vendor/bin/codecept run Unit"
   ]
  },
  {
   "cell_type": "code",
   "execution_count": 150,
   "metadata": {},
   "outputs": [
    {
     "name": "stderr",
     "output_type": "stream",
     "text": [
      "[Mon Nov 21 23:06:47 2022] PHP 8.1.12 Development Server (http://localhost:8888) started\n"
     ]
    }
   ],
   "source": [
    "import subprocess\n",
    "phpServer = subprocess.Popen(['php', '-S', 'localhost:8888', '-t', 'public'])"
   ]
  },
  {
   "cell_type": "code",
   "execution_count": 151,
   "metadata": {},
   "outputs": [
    {
     "name": "stdout",
     "output_type": "stream",
     "text": [
      "Done.\r\n"
     ]
    },
    {
     "name": "stderr",
     "output_type": "stream",
     "text": [
      "[Mon Nov 21 23:06:47 2022] [::1]:43788 Accepted\n",
      "[Mon Nov 21 23:06:47 2022] [::1]:43788 Closed without sending a request; it was probably just an unused speculative preconnection\n",
      "[Mon Nov 21 23:06:47 2022] [::1]:43788 Closing\n"
     ]
    }
   ],
   "source": [
    "! while ! timeout 1 bash -c \"echo > /dev/tcp/localhost/8888\" 2> /dev/null; do sleep 1; done; echo \"Done.\";"
   ]
  },
  {
   "cell_type": "code",
   "execution_count": 152,
   "metadata": {},
   "outputs": [
    {
     "name": "stdout",
     "output_type": "stream",
     "text": [
      "Codeception PHP Testing Framework v5.0.4 https://helpukrainewin.org\n",
      "\n",
      "\u001b[1mTests.Acceptance Tests (15) \u001b[22m----------------------------------------------------\n",
      "\u001b[32;1m✔\u001b[39;22m \u001b[35;1mTest00_PrettyUrlCest:\u001b[39;22m Test \u001b[32m(0.19s)\u001b[39m\n",
      "- \u001b[35;1mTest01_FileStorageCest:\u001b[39;22m Test"
     ]
    },
    {
     "name": "stderr",
     "output_type": "stream",
     "text": [
      "[Mon Nov 21 23:06:48 2022] [::1]:43804 Accepted\n",
      "[Mon Nov 21 23:06:48 2022] [::1]:43804 [200]: GET /\n",
      "[Mon Nov 21 23:06:48 2022] [::1]:43804 Closing\n",
      "[Mon Nov 21 23:06:48 2022] [::1]:43806 Accepted\n",
      "[Mon Nov 21 23:06:48 2022] [::1]:43806 [200]: GET /home\n",
      "[Mon Nov 21 23:06:48 2022] [::1]:43806 Closing\n",
      "[Mon Nov 21 23:06:48 2022] [::1]:43816 Accepted\n",
      "[Mon Nov 21 23:06:48 2022] [::1]:43816 [200]: GET /about\n",
      "[Mon Nov 21 23:06:48 2022] [::1]:43816 Closing\n",
      "[Mon Nov 21 23:06:48 2022] [::1]:43818 Accepted\n",
      "[Mon Nov 21 23:06:48 2022] [::1]:43818 [200]: GET /users\n",
      "[Mon Nov 21 23:06:48 2022] [::1]:43818 Closing\n",
      "[Mon Nov 21 23:06:48 2022] [::1]:43824 Accepted\n",
      "[Mon Nov 21 23:06:48 2022] [::1]:43824 [200]: GET /users/1\n",
      "[Mon Nov 21 23:06:48 2022] [::1]:43824 Closing\n",
      "[Mon Nov 21 23:06:48 2022] [::1]:43840 Accepted\n",
      "[Mon Nov 21 23:06:48 2022] [::1]:43840 [200]: GET /users\n",
      "[Mon Nov 21 23:06:48 2022] [::1]:43840 Closing\n",
      "[Mon Nov 21 23:06:48 2022] [::1]:43854 Accepted\n",
      "[Mon Nov 21 23:06:48 2022] [::1]:43854 [200]: GET /users/2\n",
      "[Mon Nov 21 23:06:48 2022] [::1]:43854 Closing\n",
      "[Mon Nov 21 23:06:48 2022] [::1]:43862 Accepted\n",
      "[Mon Nov 21 23:06:48 2022] [::1]:43862 [200]: GET /users\n",
      "[Mon Nov 21 23:06:48 2022] [::1]:43862 Closing\n",
      "[Mon Nov 21 23:06:48 2022] [::1]:43872 Accepted\n",
      "[Mon Nov 21 23:06:48 2022] [::1]:43872 [200]: GET /users/3\n",
      "[Mon Nov 21 23:06:48 2022] [::1]:43872 Closing\n",
      "[Mon Nov 21 23:06:48 2022] [::1]:43882 Accepted\n",
      "[Mon Nov 21 23:06:48 2022] [::1]:43882 [200]: GET /demo/file\n",
      "[Mon Nov 21 23:06:48 2022] [::1]:43882 Closing\n"
     ]
    },
    {
     "name": "stdout",
     "output_type": "stream",
     "text": [
      "\u001b[32;1m✔\u001b[39;22m \u001b[35;1mTest01_FileStorageCest:\u001b[39;22m Test \u001b[32m(0.04s)\u001b[39m\n",
      "\u001b[32;1m✔\u001b[39;22m \u001b[35;1mTest02_SessionStorageCest:\u001b[39;22m Test \u001b[32m(0.02s)\u001b[39m\n",
      "\u001b[32;1m✔\u001b[39;22m \u001b[35;1mTest03_SQLiteStorageCest:\u001b[39;22m Test \u001b[32m(0.12s)\u001b[39m\n",
      "- \u001b[35;1mTest04_MySQLStorageCest:\u001b[39;22m Test"
     ]
    },
    {
     "name": "stderr",
     "output_type": "stream",
     "text": [
      "[Mon Nov 21 23:06:48 2022] [::1]:43898 Accepted\n",
      "[Mon Nov 21 23:06:48 2022] [::1]:43898 [200]: GET /demo/session\n",
      "[Mon Nov 21 23:06:48 2022] [::1]:43898 Closing\n",
      "[Mon Nov 21 23:06:48 2022] [::1]:43900 Accepted\n",
      "[Mon Nov 21 23:06:48 2022] [::1]:43900 [200]: GET /demo/sqlite\n",
      "[Mon Nov 21 23:06:48 2022] [::1]:43900 Closing\n",
      "[Mon Nov 21 23:06:48 2022] [::1]:43908 Accepted\n"
     ]
    },
    {
     "name": "stdout",
     "output_type": "stream",
     "text": [
      "\r",
      "\u001b[32;1m✔\u001b[39;22m \u001b[35;1mTest04_MySQLStorageCest:\u001b[39;22m Test \u001b[32m(0.26s)\u001b[39m\r\n",
      "- \u001b[35;1mTest05_RedisStorageCest:\u001b[39;22m Test"
     ]
    },
    {
     "name": "stderr",
     "output_type": "stream",
     "text": [
      "[Mon Nov 21 23:06:49 2022] [::1]:43908 [200]: GET /demo/mysql\n",
      "[Mon Nov 21 23:06:49 2022] [::1]:43908 Closing\n",
      "[Mon Nov 21 23:06:49 2022] [::1]:43924 Accepted\n",
      "[Mon Nov 21 23:06:49 2022] [::1]:43924 [200]: GET /demo/mysql\n",
      "[Mon Nov 21 23:06:49 2022] [::1]:43924 Closing\n",
      "[Mon Nov 21 23:06:49 2022] [::1]:43932 Accepted\n",
      "[Mon Nov 21 23:06:49 2022] [::1]:43932 [200]: GET /demo/redis\n",
      "[Mon Nov 21 23:06:49 2022] [::1]:43932 Closing\n"
     ]
    },
    {
     "name": "stdout",
     "output_type": "stream",
     "text": [
      "\u001b[32;1m✔\u001b[39;22m \u001b[35;1mTest05_RedisStorageCest:\u001b[39;22m Test \u001b[32m(0.05s)\u001b[39m\n",
      "\u001b[31;1m✖\u001b[39;22m \u001b[35;1mTest06_HomepageCest:\u001b[39;22m See login and register links \u001b[32m(0.12s)\u001b[39m\n",
      "\u001b[31;1m✖\u001b[39;22m \u001b[35;1mTest07_RegisterCest:\u001b[39;22m Register new user \u001b[32m(0.12s)\u001b[39m\n",
      "- \u001b[35;1mTest08_RegisterValidationCest:\u001b[39;22m Validate data entered during registration"
     ]
    },
    {
     "name": "stderr",
     "output_type": "stream",
     "text": [
      "[Mon Nov 21 23:06:49 2022] [::1]:43942 Accepted\n",
      "[Mon Nov 21 23:06:49 2022] [::1]:43942 [200]: GET /\n",
      "[Mon Nov 21 23:06:49 2022] [::1]:43942 Closing\n",
      "[Mon Nov 21 23:06:49 2022] [::1]:43956 Accepted\n",
      "[Mon Nov 21 23:06:49 2022] [::1]:43956 [200]: GET /home\n",
      "[Mon Nov 21 23:06:49 2022] [::1]:43956 Closing\n",
      "[Mon Nov 21 23:06:49 2022] [::1]:43958 Accepted\n",
      "[Mon Nov 21 23:06:49 2022] [::1]:43958 [200]: GET /\n",
      "[Mon Nov 21 23:06:49 2022] [::1]:43958 Closing\n"
     ]
    },
    {
     "name": "stdout",
     "output_type": "stream",
     "text": [
      "\r",
      "\u001b[32;1m✔\u001b[39;22m \u001b[35;1mTest08_RegisterValidationCest:\u001b[39;22m Validate data entered during registration \u001b[32m(0.14s)\u001b[39m\r\n",
      "- \u001b[35;1mTest09_RegisterRememberFieldsCest:\u001b[39;22m Remember data entered during registration when validation error is present"
     ]
    },
    {
     "name": "stderr",
     "output_type": "stream",
     "text": [
      "[Mon Nov 21 23:06:49 2022] [::1]:43960 Accepted\n",
      "[Mon Nov 21 23:06:49 2022] [::1]:43960 [200]: GET /auth/register\n",
      "[Mon Nov 21 23:06:49 2022] [::1]:43960 Closing\n",
      "[Mon Nov 21 23:06:49 2022] [::1]:43962 Accepted\n",
      "[Mon Nov 21 23:06:49 2022] [::1]:43962 [200]: POST /auth/register\n",
      "[Mon Nov 21 23:06:49 2022] [::1]:43962 Closing\n",
      "[Mon Nov 21 23:06:49 2022] [::1]:43974 Accepted\n",
      "[Mon Nov 21 23:06:49 2022] [::1]:43974 [200]: POST /auth/register\n",
      "[Mon Nov 21 23:06:49 2022] [::1]:43974 Closing\n",
      "[Mon Nov 21 23:06:49 2022] [::1]:43980 Accepted\n",
      "[Mon Nov 21 23:06:49 2022] [::1]:43980 [200]: GET /auth/register\n",
      "[Mon Nov 21 23:06:49 2022] [::1]:43980 Closing\n",
      "[Mon Nov 21 23:06:49 2022] [::1]:43984 Accepted\n",
      "[Mon Nov 21 23:06:49 2022] [::1]:43984 [200]: POST /auth/register\n",
      "[Mon Nov 21 23:06:49 2022] [::1]:43984 Closing\n",
      "[Mon Nov 21 23:06:49 2022] [::1]:43986 Accepted\n",
      "[Mon Nov 21 23:06:49 2022] [::1]:43986 [200]: POST /auth/register\n",
      "[Mon Nov 21 23:06:49 2022] [::1]:43986 Closing\n",
      "[Mon Nov 21 23:06:49 2022] [::1]:43992 Accepted\n",
      "[Mon Nov 21 23:06:49 2022] [::1]:43992 [200]: POST /auth/register\n",
      "[Mon Nov 21 23:06:49 2022] [::1]:43992 Closing\n"
     ]
    },
    {
     "name": "stdout",
     "output_type": "stream",
     "text": [
      "\r",
      "\u001b[32;1m✔\u001b[39;22m \u001b[35;1mTest09_RegisterRememberFieldsCest:\u001b[39;22m Remember data entered during registration when validation error is present \u001b[32m(0.23s)\u001b[39m\r\n",
      "- \u001b[35;1mTest10_RegisterConfirmCest:\u001b[39;22m Confirm user using link"
     ]
    },
    {
     "name": "stderr",
     "output_type": "stream",
     "text": [
      "[Mon Nov 21 23:06:49 2022] [::1]:43994 Accepted\n",
      "[Mon Nov 21 23:06:49 2022] [::1]:43994 [200]: POST /auth/register\n",
      "[Mon Nov 21 23:06:49 2022] [::1]:43994 Closing\n",
      "[Mon Nov 21 23:06:49 2022] [::1]:43998 Accepted\n",
      "[Mon Nov 21 23:06:49 2022] [::1]:43998 [200]: POST /auth/register\n",
      "[Mon Nov 21 23:06:49 2022] [::1]:43998 Closing\n",
      "[Mon Nov 21 23:06:49 2022] [::1]:44014 Accepted\n",
      "[Mon Nov 21 23:06:49 2022] [::1]:44014 [200]: GET /auth/register\n",
      "[Mon Nov 21 23:06:49 2022] [::1]:44014 Closing\n"
     ]
    },
    {
     "name": "stdout",
     "output_type": "stream",
     "text": [
      "\r",
      "\u001b[32;1m✔\u001b[39;22m \u001b[35;1mTest10_RegisterConfirmCest:\u001b[39;22m Check that info disappears after page refresh \u001b[32m(0.33s)\u001b[39m\r\n",
      "- \u001b[35;1mTest11_LoginNotExistingCest:\u001b[39;22m See error when user does not exists"
     ]
    },
    {
     "name": "stderr",
     "output_type": "stream",
     "text": [
      "[Mon Nov 21 23:06:50 2022] [::1]:44020 Accepted\n",
      "[Mon Nov 21 23:06:50 2022] [::1]:44020 [302]: GET /auth/confirm/ThisIsAnInvalidEmailConfirmationToken\n",
      "[Mon Nov 21 23:06:50 2022] [::1]:44020 Closing\n",
      "[Mon Nov 21 23:06:50 2022] [::1]:44022 Accepted\n",
      "[Mon Nov 21 23:06:50 2022] [::1]:44022 [200]: GET /\n",
      "[Mon Nov 21 23:06:50 2022] [::1]:44022 Closing\n",
      "[Mon Nov 21 23:06:50 2022] [::1]:44030 Accepted\n",
      "[Mon Nov 21 23:06:50 2022] [::1]:44030 [200]: GET /\n",
      "[Mon Nov 21 23:06:50 2022] [::1]:44030 Closing\n",
      "[Mon Nov 21 23:06:50 2022] [::1]:44032 Accepted\n",
      "[Mon Nov 21 23:06:50 2022] [::1]:44032 [302]: GET /auth/confirm/a29a208593a49cf6c20a98ca8e5d3831\n",
      "[Mon Nov 21 23:06:50 2022] [::1]:44032 Closing\n",
      "[Mon Nov 21 23:06:50 2022] [::1]:44036 Accepted\n",
      "[Mon Nov 21 23:06:50 2022] [::1]:44036 [200]: GET /\n",
      "[Mon Nov 21 23:06:50 2022] [::1]:44036 Closing\n",
      "[Mon Nov 21 23:06:50 2022] [::1]:44038 Accepted\n",
      "[Mon Nov 21 23:06:50 2022] [::1]:44038 [200]: GET /\n",
      "[Mon Nov 21 23:06:50 2022] [::1]:44038 Closing\n",
      "[Mon Nov 21 23:06:50 2022] [::1]:44040 Accepted\n",
      "[Mon Nov 21 23:06:50 2022] [::1]:44040 [200]: GET /auth/login\n",
      "[Mon Nov 21 23:06:50 2022] [::1]:44040 Closing\n",
      "[Mon Nov 21 23:06:50 2022] [::1]:44050 Accepted\n",
      "[Mon Nov 21 23:06:50 2022] [::1]:44050 [302]: POST /auth/login\n",
      "[Mon Nov 21 23:06:50 2022] [::1]:44050 Closing\n",
      "[Mon Nov 21 23:06:50 2022] [::1]:44052 Accepted\n",
      "[Mon Nov 21 23:06:50 2022] [::1]:44052 [200]: GET /\n",
      "[Mon Nov 21 23:06:50 2022] [::1]:44052 Closing\n"
     ]
    },
    {
     "name": "stdout",
     "output_type": "stream",
     "text": [
      "\r",
      "\u001b[32;1m✔\u001b[39;22m \u001b[35;1mTest11_LoginNotExistingCest:\u001b[39;22m See error when user does not exists \u001b[32m(0.11s)\u001b[39m\r\n",
      "- \u001b[35;1mTest12_LoginWrongPasswordCest:\u001b[39;22m See error when wrong password is entered"
     ]
    },
    {
     "name": "stderr",
     "output_type": "stream",
     "text": [
      "[Mon Nov 21 23:06:50 2022] [::1]:44060 Accepted\n",
      "[Mon Nov 21 23:06:50 2022] [::1]:44060 [200]: GET /auth/login\n",
      "[Mon Nov 21 23:06:50 2022] [::1]:44060 Closing\n",
      "[Mon Nov 21 23:06:50 2022] [::1]:44070 Accepted\n"
     ]
    },
    {
     "name": "stdout",
     "output_type": "stream",
     "text": [
      "\r",
      "\u001b[32;1m✔\u001b[39;22m \u001b[35;1mTest12_LoginWrongPasswordCest:\u001b[39;22m See error when wrong password is entered \u001b[32m(0.41s)\u001b[39m\r\n",
      "- \u001b[35;1mTest13_LoginNotConfirmedCest:\u001b[39;22m Be remained about email confirmation when trying to login"
     ]
    },
    {
     "name": "stderr",
     "output_type": "stream",
     "text": [
      "[Mon Nov 21 23:06:50 2022] [::1]:44070 [200]: POST /auth/login\n",
      "[Mon Nov 21 23:06:50 2022] [::1]:44070 Closing\n",
      "[Mon Nov 21 23:06:50 2022] [::1]:44078 Accepted\n",
      "[Mon Nov 21 23:06:50 2022] [::1]:44078 [200]: GET /auth/login\n",
      "[Mon Nov 21 23:06:50 2022] [::1]:44078 Closing\n"
     ]
    },
    {
     "name": "stdout",
     "output_type": "stream",
     "text": [
      "\r",
      "\u001b[32;1m✔\u001b[39;22m \u001b[35;1mTest13_LoginNotConfirmedCest:\u001b[39;22m Be remained about email confirmation when trying to login "
     ]
    },
    {
     "name": "stderr",
     "output_type": "stream",
     "text": [
      "[Mon Nov 21 23:06:50 2022] [::1]:44088 Accepted\n",
      "[Mon Nov 21 23:06:51 2022] [::1]:44088 [302]: POST /auth/login\n",
      "[Mon Nov 21 23:06:51 2022] [::1]:44088 Closing\n",
      "[Mon Nov 21 23:06:51 2022] [::1]:44096 Accepted\n",
      "[Mon Nov 21 23:06:51 2022] [::1]:44096 [200]: GET /auth/confirmation_notice\n",
      "[Mon Nov 21 23:06:51 2022] [::1]:44096 Closing\n"
     ]
    },
    {
     "name": "stdout",
     "output_type": "stream",
     "text": [
      "\u001b[32m(0.40s)\u001b[39m\n",
      "\u001b[31;1m✖\u001b[39;22m \u001b[35;1mTest14_LoginLogoutSeeHiddenContentCest:\u001b[39;22m See hidden content after login \u001b[32m(0.26s)\u001b[39m\n",
      "--------------------------------------------------------------------------------\n",
      "Time: 00:03.021, Memory: 12.00 MB\n",
      "\n",
      "There were 3 failures:\n",
      "1) \u001b[35;1mTest06_HomepageCest:\u001b[39;22m See login and register links\n",
      "\u001b[37;41;1m Test  \u001b[39;49;22mtests/Acceptance/Test06_HomepageCest.php:test\n",
      "\u001b[37;41;1m Step \u001b[39;49;22m See link \"Login\",\"/auth/login\"\n",
      "\u001b[37;41;1m Fail \u001b[39;49;22m No links containing text 'Login' were found in page /home\n",
      "\u001b[33m\n",
      "Scenario Steps:\n",
      "\u001b[39m\n",
      "\u001b[1m 9. $I->seeLink(\"Login\",\"/auth/login\")\u001b[22m at \u001b[32mtests/Acceptance/Test06_HomepageCest.php:29\u001b[39m\n",
      " 8. $I->see(\"Welcome on homepage!\",\"h1.welcome\") at \u001b[32mtests/Acceptance/Test06_HomepageCest.php:26\u001b[39m\n",
      " 7. $I->seeInTitle(\"Homepage\") at \u001b[32mtests/Acceptance/Test06_HomepageCest.php:25\u001b[39m\n",
      " 6. $I->seeCurrentUrlEquals(\"/home\") at \u001b[32mtests/Acceptance/Test06_HomepageCest.php:24\u001b[39m\n",
      " 5. $I->click(\"Home\") at \u001b[32mtests/Acceptance/Test06_HomepageCest.php:23\u001b[39m\n",
      " 4. $I->seeNumRecords(0,\"objects\") at \u001b[32mtests/Acceptance/Test06_HomepageCest.php:20\u001b[39m\n",
      "\n",
      "\u001b[33mArtifacts:\u001b[39m\n",
      "\n",
      "Html: \u001b[36m/home/student/php_2022_adam_lewinski/07_testing/02_exercise/project/tests/_output/Tests.Acceptance.Test06_HomepageCest.test.fail.html\u001b[39m\n",
      "Response: \u001b[36m/home/student/php_2022_adam_lewinski/07_testing/02_exercise/project/tests/_output/Tests.Acceptance.Test06_HomepageCest.test.fail.html\u001b[39m\n",
      "2) \u001b[35;1mTest07_RegisterCest:\u001b[39;22m Register new user\n",
      "\u001b[37;41;1m Test  \u001b[39;49;22mtests/Acceptance/Test07_RegisterCest.php:test\n",
      "\u001b[37;41;1m Step \u001b[39;49;22m Click \"Register\"\n",
      "\u001b[37;41;1m Fail \u001b[39;49;22m Link or Button by name or CSS or XPath element with 'Register' was not found.\n",
      "\u001b[33m\n",
      "Scenario Steps:\n",
      "\u001b[39m\n",
      "\u001b[1m 2. $I->click(\"Register\")\u001b[22m at \u001b[32mtests/Acceptance/Test07_RegisterCest.php:18\u001b[39m\n",
      " 1. $I->amOnPage(\"/\") at \u001b[32mtests/Acceptance/Test07_RegisterCest.php:16\u001b[39m\n",
      "\n",
      "\u001b[33mArtifacts:\u001b[39m\n",
      "\n",
      "Html: \u001b[36m/home/student/php_2022_adam_lewinski/07_testing/02_exercise/project/tests/_output/Tests.Acceptance.Test07_RegisterCest.test.fail.html\u001b[39m\n",
      "Response: \u001b[36m/home/student/php_2022_adam_lewinski/07_testing/02_exercise/project/tests/_output/Tests.Acceptance.Test07_RegisterCest.test.fail.html\u001b[39m\n",
      "3) \u001b[35;1mTest14_LoginLogoutSeeHiddenContentCest:\u001b[39;22m See hidden content after login\n",
      "\u001b[37;41;1m Test  \u001b[39;49;22mtests/Acceptance/Test14_LoginLogoutSeeHiddenContentCest.php:test\n",
      "\u001b[37;41;1m Step \u001b[39;49;22m See link \"Login\",\"/auth/login\"\n",
      "\u001b[37;41;1m Fail \u001b[39;49;22m No links containing text 'Login' were found in page /\n",
      "\u001b[33m\n",
      "Scenario Steps:\n",
      "\u001b[39m\n",
      "\u001b[1m 3. $I->seeLink(\"Login\",\"/auth/login\")\u001b[22m at \u001b[32mtests/Acceptance/Test14_LoginLogoutSeeHiddenContentCest.php:34\u001b[39m\n",
      " 2. $I->amOnPage(\"/\") at \u001b[32mtests/Acceptance/Test14_LoginLogoutSeeHiddenContentCest.php:32\u001b[39m\n",
      " 1. $I->haveInDatabase(\"objects\",{\"key\":\"model_user_1\",\"data\":\"O:10:\"Model\\...}) at \u001b[32mtests/Acceptance/Test14_LoginLogoutSeeHiddenContentCest.php:28\u001b[39m\n",
      "\n",
      "\u001b[33mArtifacts:\u001b[39m\n",
      "\n",
      "Html: \u001b[36m/home/student/php_2022_adam_lewinski/07_testing/02_exercise/project/tests/_output/Tests.Acceptance.Test14_LoginLogoutSeeHiddenContentCest.test.fail.html\u001b[39m\n",
      "Response: \u001b[36m/home/student/php_2022_adam_lewinski/07_testing/02_exercise/project/tests/_output/Tests.Acceptance.Test14_LoginLogoutSeeHiddenContentCest.test.fail.html\u001b[39m\n",
      "\n",
      "\u001b[37;41;1mFAILURES!\u001b[39;49;22m\n",
      "\u001b[37;41;1mTests: 15, Assertions: 244, Failures: 3.\u001b[39;49;22m\n"
     ]
    },
    {
     "name": "stderr",
     "output_type": "stream",
     "text": [
      "[Mon Nov 21 23:06:51 2022] [::1]:44098 Accepted\n",
      "[Mon Nov 21 23:06:51 2022] [::1]:44098 [200]: GET /\n",
      "[Mon Nov 21 23:06:51 2022] [::1]:44098 Closing\n"
     ]
    }
   ],
   "source": [
    "! vendor/bin/codecept run Acceptance"
   ]
  },
  {
   "cell_type": "code",
   "execution_count": 153,
   "metadata": {},
   "outputs": [
    {
     "name": "stdout",
     "output_type": "stream",
     "text": [
      "Codeception PHP Testing Framework v5.0.4 https://helpukrainewin.org\n",
      "\n",
      "\u001b[1mTests.Acceptance Tests (15) \u001b[22m----------------------------------------------------\n",
      "\u001b[32;1m✔\u001b[39;22m \u001b[35;1mTest00_PrettyUrlCest:\u001b[39;22m Test \u001b[32m(0.14s)\u001b[39m\n",
      "\u001b[32;1m✔\u001b[39;22m \u001b[35;1mTest01_FileStorageCest:\u001b[39;22m Test \u001b[32m(0.03s)\u001b[39m\n",
      "- \u001b[35;1mTest02_SessionStorageCest:\u001b[39;22m Test"
     ]
    },
    {
     "name": "stderr",
     "output_type": "stream",
     "text": [
      "[Mon Nov 21 23:06:51 2022] [::1]:44112 Accepted\n",
      "[Mon Nov 21 23:06:51 2022] [::1]:44112 [200]: GET /\n",
      "[Mon Nov 21 23:06:51 2022] [::1]:44112 Closing\n",
      "[Mon Nov 21 23:06:51 2022] [::1]:44116 Accepted\n",
      "[Mon Nov 21 23:06:51 2022] [::1]:44116 [200]: GET /home\n",
      "[Mon Nov 21 23:06:51 2022] [::1]:44116 Closing\n",
      "[Mon Nov 21 23:06:51 2022] [::1]:44122 Accepted\n",
      "[Mon Nov 21 23:06:51 2022] [::1]:44122 [200]: GET /about\n",
      "[Mon Nov 21 23:06:51 2022] [::1]:44122 Closing\n",
      "[Mon Nov 21 23:06:51 2022] [::1]:44132 Accepted\n",
      "[Mon Nov 21 23:06:51 2022] [::1]:44132 [200]: GET /users\n",
      "[Mon Nov 21 23:06:51 2022] [::1]:44132 Closing\n",
      "[Mon Nov 21 23:06:51 2022] [::1]:44146 Accepted\n",
      "[Mon Nov 21 23:06:51 2022] [::1]:44146 [200]: GET /users/1\n",
      "[Mon Nov 21 23:06:51 2022] [::1]:44146 Closing\n",
      "[Mon Nov 21 23:06:51 2022] [::1]:44156 Accepted\n",
      "[Mon Nov 21 23:06:52 2022] [::1]:44156 [200]: GET /users\n",
      "[Mon Nov 21 23:06:52 2022] [::1]:44156 Closing\n",
      "[Mon Nov 21 23:06:52 2022] [::1]:44160 Accepted\n",
      "[Mon Nov 21 23:06:52 2022] [::1]:44160 [200]: GET /users/2\n",
      "[Mon Nov 21 23:06:52 2022] [::1]:44160 Closing\n",
      "[Mon Nov 21 23:06:52 2022] [::1]:44170 Accepted\n",
      "[Mon Nov 21 23:06:52 2022] [::1]:44170 [200]: GET /users\n",
      "[Mon Nov 21 23:06:52 2022] [::1]:44170 Closing\n",
      "[Mon Nov 21 23:06:52 2022] [::1]:44178 Accepted\n",
      "[Mon Nov 21 23:06:52 2022] [::1]:44178 [200]: GET /users/3\n",
      "[Mon Nov 21 23:06:52 2022] [::1]:44178 Closing\n",
      "[Mon Nov 21 23:06:52 2022] [::1]:44186 Accepted\n",
      "[Mon Nov 21 23:06:52 2022] [::1]:44186 [200]: GET /demo/file\n",
      "[Mon Nov 21 23:06:52 2022] [::1]:44186 Closing\n",
      "[Mon Nov 21 23:06:52 2022] [::1]:44202 Accepted\n",
      "[Mon Nov 21 23:06:52 2022] [::1]:44202 [200]: GET /demo/session\n",
      "[Mon Nov 21 23:06:52 2022] [::1]:44202 Closing\n",
      "[Mon Nov 21 23:06:52 2022] [::1]:44208 Accepted\n"
     ]
    },
    {
     "name": "stdout",
     "output_type": "stream",
     "text": [
      "\u001b[32;1m✔\u001b[39;22m \u001b[35;1mTest02_SessionStorageCest:\u001b[39;22m Test \u001b[32m(0.01s)\u001b[39m\n",
      "\u001b[32;1m✔\u001b[39;22m \u001b[35;1mTest03_SQLiteStorageCest:\u001b[39;22m Test \u001b[32m(0.11s)\u001b[39m\n",
      "- \u001b[35;1mTest04_MySQLStorageCest:\u001b[39;22m Test"
     ]
    },
    {
     "name": "stderr",
     "output_type": "stream",
     "text": [
      "[Mon Nov 21 23:06:52 2022] [::1]:44208 [200]: GET /demo/sqlite\n",
      "[Mon Nov 21 23:06:52 2022] [::1]:44208 Closing\n",
      "[Mon Nov 21 23:06:52 2022] [::1]:44222 Accepted\n",
      "[Mon Nov 21 23:06:52 2022] [::1]:44222 [200]: GET /demo/mysql\n",
      "[Mon Nov 21 23:06:52 2022] [::1]:44222 Closing\n",
      "[Mon Nov 21 23:06:52 2022] [::1]:44234 Accepted\n"
     ]
    },
    {
     "name": "stdout",
     "output_type": "stream",
     "text": [
      "\u001b[32;1m✔\u001b[39;22m \u001b[35;1mTest04_MySQLStorageCest:\u001b[39;22m Test \u001b[32m(0.28s)\u001b[39m\n",
      "\u001b[32;1m✔\u001b[39;22m \u001b[35;1mTest05_RedisStorageCest:\u001b[39;22m Test \u001b[32m(0.03s)\u001b[39m\n",
      "\u001b[31;1m✖\u001b[39;22m \u001b[35;1mTest06_HomepageCest:\u001b[39;22m See login and register links \u001b[32m(0.11s)\u001b[39m\n",
      "- \u001b[35;1mTest07_RegisterCest:\u001b[39;22m Register new user"
     ]
    },
    {
     "name": "stderr",
     "output_type": "stream",
     "text": [
      "[Mon Nov 21 23:06:52 2022] [::1]:44234 [200]: GET /demo/mysql\n",
      "[Mon Nov 21 23:06:52 2022] [::1]:44234 Closing\n",
      "[Mon Nov 21 23:06:52 2022] [::1]:44238 Accepted\n",
      "[Mon Nov 21 23:06:52 2022] [::1]:44238 [200]: GET /demo/redis\n",
      "[Mon Nov 21 23:06:52 2022] [::1]:44238 Closing\n",
      "[Mon Nov 21 23:06:52 2022] [::1]:44242 Accepted\n",
      "[Mon Nov 21 23:06:52 2022] [::1]:44242 [200]: GET /\n",
      "[Mon Nov 21 23:06:52 2022] [::1]:44242 Closing\n",
      "[Mon Nov 21 23:06:52 2022] [::1]:44258 Accepted\n",
      "[Mon Nov 21 23:06:52 2022] [::1]:44258 [200]: GET /home\n",
      "[Mon Nov 21 23:06:52 2022] [::1]:44258 Closing\n"
     ]
    },
    {
     "name": "stdout",
     "output_type": "stream",
     "text": [
      "\u001b[31;1m✖\u001b[39;22m \u001b[35;1mTest07_RegisterCest:\u001b[39;22m Register new user \u001b[32m(0.08s)\u001b[39m\n",
      "\u001b[32;1m✔\u001b[39;22m \u001b[35;1mTest08_RegisterValidationCest:\u001b[39;22m Validate data entered during registration \u001b[32m(0.14s)\u001b[39m\n",
      "- \u001b[35;1mTest09_RegisterRememberFieldsCest:\u001b[39;22m Remember data entered during registration when validation error is present"
     ]
    },
    {
     "name": "stderr",
     "output_type": "stream",
     "text": [
      "[Mon Nov 21 23:06:52 2022] [::1]:44268 Accepted\n",
      "[Mon Nov 21 23:06:52 2022] [::1]:44268 [200]: GET /\n",
      "[Mon Nov 21 23:06:52 2022] [::1]:44268 Closing\n",
      "[Mon Nov 21 23:06:52 2022] [::1]:44282 Accepted\n",
      "[Mon Nov 21 23:06:52 2022] [::1]:44282 [200]: GET /auth/register\n",
      "[Mon Nov 21 23:06:52 2022] [::1]:44282 Closing\n",
      "[Mon Nov 21 23:06:52 2022] [::1]:44296 Accepted\n",
      "[Mon Nov 21 23:06:52 2022] [::1]:44296 [200]: POST /auth/register\n",
      "[Mon Nov 21 23:06:52 2022] [::1]:44296 Closing\n",
      "[Mon Nov 21 23:06:52 2022] [::1]:44310 Accepted\n",
      "[Mon Nov 21 23:06:52 2022] [::1]:44310 [200]: POST /auth/register\n",
      "[Mon Nov 21 23:06:52 2022] [::1]:44310 Closing\n"
     ]
    },
    {
     "name": "stdout",
     "output_type": "stream",
     "text": [
      "\r",
      "\u001b[32;1m✔\u001b[39;22m \u001b[35;1mTest09_RegisterRememberFieldsCest:\u001b[39;22m Remember data entered during registration when validation error is present \u001b[32m(0.26s)\u001b[39m\r\n",
      "- \u001b[35;1mTest10_RegisterConfirmCest:\u001b[39;22m Confirm user using link"
     ]
    },
    {
     "name": "stderr",
     "output_type": "stream",
     "text": [
      "[Mon Nov 21 23:06:52 2022] [::1]:44314 Accepted\n",
      "[Mon Nov 21 23:06:52 2022] [::1]:44314 [200]: GET /auth/register\n",
      "[Mon Nov 21 23:06:52 2022] [::1]:44314 Closing\n",
      "[Mon Nov 21 23:06:52 2022] [::1]:44316 Accepted\n",
      "[Mon Nov 21 23:06:52 2022] [::1]:44316 [200]: POST /auth/register\n",
      "[Mon Nov 21 23:06:52 2022] [::1]:44316 Closing\n",
      "[Mon Nov 21 23:06:53 2022] [::1]:44332 Accepted\n",
      "[Mon Nov 21 23:06:53 2022] [::1]:44332 [200]: POST /auth/register\n",
      "[Mon Nov 21 23:06:53 2022] [::1]:44332 Closing\n",
      "[Mon Nov 21 23:06:53 2022] [::1]:44340 Accepted\n",
      "[Mon Nov 21 23:06:53 2022] [::1]:44340 [200]: POST /auth/register\n",
      "[Mon Nov 21 23:06:53 2022] [::1]:44340 Closing\n",
      "[Mon Nov 21 23:06:53 2022] [::1]:44354 Accepted\n",
      "[Mon Nov 21 23:06:53 2022] [::1]:44354 [200]: POST /auth/register\n",
      "[Mon Nov 21 23:06:53 2022] [::1]:44354 Closing\n",
      "[Mon Nov 21 23:06:53 2022] [::1]:44358 Accepted\n",
      "[Mon Nov 21 23:06:53 2022] [::1]:44358 [200]: POST /auth/register\n",
      "[Mon Nov 21 23:06:53 2022] [::1]:44358 Closing\n",
      "[Mon Nov 21 23:06:53 2022] [::1]:44366 Accepted\n",
      "[Mon Nov 21 23:06:53 2022] [::1]:44366 [200]: GET /auth/register\n",
      "[Mon Nov 21 23:06:53 2022] [::1]:44366 Closing\n"
     ]
    },
    {
     "name": "stdout",
     "output_type": "stream",
     "text": [
      "\r",
      "\u001b[32;1m✔\u001b[39;22m \u001b[35;1mTest10_RegisterConfirmCest:\u001b[39;22m Check that info disappears after page refresh \u001b[32m(0.34s)\u001b[39m\r\n",
      "- \u001b[35;1mTest11_LoginNotExistingCest:\u001b[39;22m See error when user does not exists"
     ]
    },
    {
     "name": "stderr",
     "output_type": "stream",
     "text": [
      "[Mon Nov 21 23:06:53 2022] [::1]:44382 Accepted\n",
      "[Mon Nov 21 23:06:53 2022] [::1]:44382 [302]: GET /auth/confirm/ThisIsAnInvalidEmailConfirmationToken\n",
      "[Mon Nov 21 23:06:53 2022] [::1]:44382 Closing\n",
      "[Mon Nov 21 23:06:53 2022] [::1]:44386 Accepted\n",
      "[Mon Nov 21 23:06:53 2022] [::1]:44386 [200]: GET /\n",
      "[Mon Nov 21 23:06:53 2022] [::1]:44386 Closing\n",
      "[Mon Nov 21 23:06:53 2022] [::1]:44396 Accepted\n",
      "[Mon Nov 21 23:06:53 2022] [::1]:44396 [200]: GET /\n",
      "[Mon Nov 21 23:06:53 2022] [::1]:44396 Closing\n",
      "[Mon Nov 21 23:06:53 2022] [::1]:44404 Accepted\n",
      "[Mon Nov 21 23:06:53 2022] [::1]:44404 [302]: GET /auth/confirm/adf2172dd9172c354ce0683558cc4bc3\n",
      "[Mon Nov 21 23:06:53 2022] [::1]:44404 Closing\n",
      "[Mon Nov 21 23:06:53 2022] [::1]:44412 Accepted\n",
      "[Mon Nov 21 23:06:53 2022] [::1]:44412 [200]: GET /\n",
      "[Mon Nov 21 23:06:53 2022] [::1]:44412 Closing\n",
      "[Mon Nov 21 23:06:53 2022] [::1]:44420 Accepted\n",
      "[Mon Nov 21 23:06:53 2022] [::1]:44420 [200]: GET /\n",
      "[Mon Nov 21 23:06:53 2022] [::1]:44420 Closing\n",
      "[Mon Nov 21 23:06:53 2022] [::1]:44436 Accepted\n",
      "[Mon Nov 21 23:06:53 2022] [::1]:44436 [200]: GET /auth/login\n",
      "[Mon Nov 21 23:06:53 2022] [::1]:44436 Closing\n",
      "[Mon Nov 21 23:06:53 2022] [::1]:44450 Accepted\n"
     ]
    },
    {
     "name": "stdout",
     "output_type": "stream",
     "text": [
      "\r",
      "\u001b[32;1m✔\u001b[39;22m \u001b[35;1mTest11_LoginNotExistingCest:\u001b[39;22m See error when user does not exists \u001b[32m(0.13s)\u001b[39m\r\n",
      "- \u001b[35;1mTest12_LoginWrongPasswordCest:\u001b[39;22m See error when wrong password is entered"
     ]
    },
    {
     "name": "stderr",
     "output_type": "stream",
     "text": [
      "[Mon Nov 21 23:06:53 2022] [::1]:44450 [302]: POST /auth/login\n",
      "[Mon Nov 21 23:06:53 2022] [::1]:44450 Closing\n",
      "[Mon Nov 21 23:06:53 2022] [::1]:44460 Accepted\n",
      "[Mon Nov 21 23:06:53 2022] [::1]:44460 [200]: GET /\n",
      "[Mon Nov 21 23:06:53 2022] [::1]:44460 Closing\n",
      "[Mon Nov 21 23:06:53 2022] [::1]:44470 Accepted\n",
      "[Mon Nov 21 23:06:53 2022] [::1]:44470 [200]: GET /auth/login\n",
      "[Mon Nov 21 23:06:53 2022] [::1]:44470 Closing\n"
     ]
    },
    {
     "name": "stdout",
     "output_type": "stream",
     "text": [
      "\r",
      "\u001b[32;1m✔\u001b[39;22m \u001b[35;1mTest12_LoginWrongPasswordCest:\u001b[39;22m See error when wrong password is entered \u001b[32m(0.42s)\u001b[39m\r\n"
     ]
    },
    {
     "name": "stderr",
     "output_type": "stream",
     "text": [
      "[Mon Nov 21 23:06:53 2022] [::1]:44472 Accepted\n",
      "[Mon Nov 21 23:06:54 2022] [::1]:44472 [200]: POST /auth/login\n",
      "[Mon Nov 21 23:06:54 2022] [::1]:44472 Closing\n"
     ]
    },
    {
     "name": "stdout",
     "output_type": "stream",
     "text": [
      "- \u001b[35;1mTest13_LoginNotConfirmedCest:\u001b[39;22m Be remained about email confirmation when trying to login"
     ]
    },
    {
     "name": "stderr",
     "output_type": "stream",
     "text": [
      "[Mon Nov 21 23:06:54 2022] [::1]:44476 Accepted\n",
      "[Mon Nov 21 23:06:54 2022] [::1]:44476 [200]: GET /auth/login\n",
      "[Mon Nov 21 23:06:54 2022] [::1]:44476 Closing\n",
      "[Mon Nov 21 23:06:54 2022] [::1]:44484 Accepted\n"
     ]
    },
    {
     "name": "stdout",
     "output_type": "stream",
     "text": [
      "\r",
      "\u001b[32;1m✔\u001b[39;22m \u001b[35;1mTest13_LoginNotConfirmedCest:\u001b[39;22m Be remained about email confirmation when trying to login \u001b[32m(0.43s)\u001b[39m\r\n",
      "- \u001b[35;1mTest14_LoginLogoutSeeHiddenContentCest:\u001b[39;22m See hidden content after login"
     ]
    },
    {
     "name": "stderr",
     "output_type": "stream",
     "text": [
      "[Mon Nov 21 23:06:54 2022] [::1]:44484 [302]: POST /auth/login\n",
      "[Mon Nov 21 23:06:54 2022] [::1]:44484 Closing\n",
      "[Mon Nov 21 23:06:54 2022] [::1]:44490 Accepted\n",
      "[Mon Nov 21 23:06:54 2022] [::1]:44490 [200]: GET /auth/confirmation_notice\n",
      "[Mon Nov 21 23:06:54 2022] [::1]:44490 Closing\n"
     ]
    },
    {
     "name": "stdout",
     "output_type": "stream",
     "text": [
      "\r",
      "\u001b[31;1m✖\u001b[39;22m \u001b[35;1mTest14_LoginLogoutSeeHiddenContentCest:\u001b[39;22m See hidden content after login \u001b[32m(0.26s)\u001b[39m\r\n",
      "--------------------------------------------------------------------------------\r\n",
      "Time: 00:03.011, Memory: 12.00 MB\r\n",
      "\r\n",
      "There were 3 failures:\r\n",
      "1) \u001b[35;1mTest06_HomepageCest:\u001b[39;22m See login and register links\r\n",
      "\u001b[37;41;1m Test  \u001b[39;49;22mtests/Acceptance/Test06_HomepageCest.php:test\r\n",
      "\u001b[37;41;1m Step \u001b[39;49;22m See link \"Login\",\"/auth/login\"\r\n",
      "\u001b[37;41;1m Fail \u001b[39;49;22m No links containing text 'Login' were found in page /home\r\n",
      "\u001b[33m\r\n",
      "Scenario Steps:\r\n",
      "\u001b[39m\r\n",
      "\u001b[1m 9. $I->seeLink(\"Login\",\"/auth/login\")\u001b[22m at \u001b[32mtests/Acceptance/Test06_HomepageCest.php:29\u001b[39m\r\n",
      " 8. $I->see(\"Welcome on homepage!\",\"h1.welcome\") at \u001b[32mtests/Acceptance/Test06_HomepageCest.php:26\u001b[39m\r\n",
      " 7. $I->seeInTitle(\"Homepage\") at \u001b[32mtests/Acceptance/Test06_HomepageCest.php:25\u001b[39m\r\n",
      " 6. $I->seeCurrentUrlEquals(\"/home\") at \u001b[32mtests/Acceptance/Test06_HomepageCest.php:24\u001b[39m\r\n",
      " 5. $I->click(\"Home\") at \u001b[32mtests/Acceptance/Test06_HomepageCest.php:23\u001b[39m\r\n",
      " 4. $I->seeNumRecords(0,\"objects\") at \u001b[32mtests/Acceptance/Test06_HomepageCest.php:20\u001b[39m\r\n",
      "\r\n",
      "\u001b[33mArtifacts:\u001b[39m\r\n",
      "\r\n",
      "Html: \u001b[36m/home/student/php_2022_adam_lewinski/07_testing/02_exercise/project/tests/_output/Tests.Acceptance.Test06_HomepageCest.test.fail.html\u001b[39m\r\n",
      "Response: \u001b[36m/home/student/php_2022_adam_lewinski/07_testing/02_exercise/project/tests/_output/Tests.Acceptance.Test06_HomepageCest.test.fail.html\u001b[39m\r\n",
      "2) \u001b[35;1mTest07_RegisterCest:\u001b[39;22m Register new user\r\n",
      "\u001b[37;41;1m Test  \u001b[39;49;22mtests/Acceptance/Test07_RegisterCest.php:test\r\n",
      "\u001b[37;41;1m Step \u001b[39;49;22m Click \"Register\"\r\n",
      "\u001b[37;41;1m Fail \u001b[39;49;22m Link or Button by name or CSS or XPath element with 'Register' was not found.\r\n",
      "\u001b[33m\r\n",
      "Scenario Steps:\r\n",
      "\u001b[39m\r\n",
      "\u001b[1m 2. $I->click(\"Register\")\u001b[22m at \u001b[32mtests/Acceptance/Test07_RegisterCest.php:18\u001b[39m\r\n",
      " 1. $I->amOnPage(\"/\") at \u001b[32mtests/Acceptance/Test07_RegisterCest.php:16\u001b[39m\r\n",
      "\r\n",
      "\u001b[33mArtifacts:\u001b[39m\r\n",
      "\r\n",
      "Html: \u001b[36m/home/student/php_2022_adam_lewinski/07_testing/02_exercise/project/tests/_output/Tests.Acceptance.Test07_RegisterCest.test.fail.html\u001b[39m\r\n",
      "Response: \u001b[36m/home/student/php_2022_adam_lewinski/07_testing/02_exercise/project/tests/_output/Tests.Acceptance.Test07_RegisterCest.test.fail.html\u001b[39m\r\n",
      "3) \u001b[35;1mTest14_LoginLogoutSeeHiddenContentCest:\u001b[39;22m See hidden content after login\r\n",
      "\u001b[37;41;1m Test  \u001b[39;49;22mtests/Acceptance/Test14_LoginLogoutSeeHiddenContentCest.php:test\r\n",
      "\u001b[37;41;1m Step \u001b[39;49;22m See link \"Login\",\"/auth/login\"\r\n",
      "\u001b[37;41;1m Fail \u001b[39;49;22m No links containing text 'Login' were found in page /\r\n",
      "\u001b[33m\r\n",
      "Scenario Steps:\r\n",
      "\u001b[39m\r\n",
      "\u001b[1m 3. $I->seeLink(\"Login\",\"/auth/login\")\u001b[22m at \u001b[32mtests/Acceptance/Test14_LoginLogoutSeeHiddenContentCest.php:34\u001b[39m\r\n",
      " 2. $I->amOnPage(\"/\") at \u001b[32mtests/Acceptance/Test14_LoginLogoutSeeHiddenContentCest.php:32\u001b[39m\r\n",
      " 1. $I->haveInDatabase(\"objects\",{\"key\":\"model_user_1\",\"data\":\"O:10:\"Model\\...}) at \u001b[32mtests/Acceptance/Test14_LoginLogoutSeeHiddenContentCest.php:28\u001b[39m\r\n",
      "\r\n",
      "\u001b[33mArtifacts:\u001b[39m\r\n",
      "\r\n",
      "Html: \u001b[36m/home/student/php_2022_adam_lewinski/07_testing/02_exercise/project/tests/_output/Tests.Acceptance.Test14_LoginLogoutSeeHiddenContentCest.test.fail.html\u001b[39m\r\n",
      "Response: \u001b[36m/home/student/php_2022_adam_lewinski/07_testing/02_exercise/project/tests/_output/Tests.Acceptance.Test14_LoginLogoutSeeHiddenContentCest.test.fail.html\u001b[39m\r\n",
      "\r\n",
      "\u001b[37;41;1mFAILURES!\u001b[39;49;22m\r\n",
      "\u001b[37;41;1mTests: 15, Assertions: 244, Failures: 3.\u001b[39;49;22m\r\n",
      "- \u001b[1mJUNIT XML\u001b[22m report generated in \u001b[33mfile:///home/student/php_2022_adam_lewinski/07_testing/02_exercise/project/tests/_output/test_report.xml\u001b[39m\r\n"
     ]
    },
    {
     "name": "stderr",
     "output_type": "stream",
     "text": [
      "[Mon Nov 21 23:06:54 2022] [::1]:44492 Accepted\n",
      "[Mon Nov 21 23:06:54 2022] [::1]:44492 [200]: GET /\n",
      "[Mon Nov 21 23:06:54 2022] [::1]:44492 Closing\n"
     ]
    }
   ],
   "source": [
    "! vendor/bin/codecept run Acceptance --xml test_report.xml"
   ]
  },
  {
   "cell_type": "code",
   "execution_count": 154,
   "metadata": {},
   "outputs": [],
   "source": [
    "phpServer.kill()"
   ]
  },
  {
   "cell_type": "code",
   "execution_count": 155,
   "metadata": {},
   "outputs": [
    {
     "name": "stdout",
     "output_type": "stream",
     "text": [
      "/home/student/php_2022_adam_lewinski/07_testing/02_exercise\n"
     ]
    }
   ],
   "source": [
    "%cd ../"
   ]
  },
  {
   "cell_type": "markdown",
   "metadata": {},
   "source": [
    "Stop the databses:"
   ]
  },
  {
   "cell_type": "code",
   "execution_count": null,
   "metadata": {},
   "outputs": [],
   "source": [
    "! docker container stop redis"
   ]
  },
  {
   "cell_type": "code",
   "execution_count": null,
   "metadata": {},
   "outputs": [],
   "source": [
    "! docker container stop mysql"
   ]
  }
 ],
 "metadata": {
  "kernelspec": {
   "display_name": "Python 3 (ipykernel)",
   "language": "python",
   "name": "python3"
  },
  "language_info": {
   "codemirror_mode": {
    "name": "ipython",
    "version": 3
   },
   "file_extension": ".py",
   "mimetype": "text/x-python",
   "name": "python",
   "nbconvert_exporter": "python",
   "pygments_lexer": "ipython3",
   "version": "3.10.6"
  }
 },
 "nbformat": 4,
 "nbformat_minor": 4
}
