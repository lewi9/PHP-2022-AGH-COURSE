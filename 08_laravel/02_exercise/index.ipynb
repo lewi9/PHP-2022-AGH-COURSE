{
 "cells": [
  {
   "cell_type": "markdown",
   "metadata": {},
   "source": [
    "# PHP 2022"
   ]
  },
  {
   "cell_type": "markdown",
   "metadata": {},
   "source": [
    "## 8. Laravel"
   ]
  },
  {
   "cell_type": "markdown",
   "metadata": {},
   "source": [
    "### 8.2 Exercise"
   ]
  },
  {
   "cell_type": "markdown",
   "metadata": {},
   "source": [
    "Tasks:\n",
    "\n",
    "- Create new Laravel project in ```project``` directory and bootstrap ```Codeception``` tests in the ```tests_codeception``` directory (follow the tutorial)\n",
    "- Add below test in ```tests_codeception/Acceptance/CommentsCest.php``` and make it pass by changing Laravel project:\n",
    "\n",
    "```php\n",
    "<?php\n",
    "\n",
    "namespace TestsCodeception\\Acceptance;\n",
    "\n",
    "use TestsCodeception\\Support\\AcceptanceTester;\n",
    "\n",
    "class CommentsCest\n",
    "{\n",
    "    public function tryToTest(AcceptanceTester $I): void\n",
    "    {\n",
    "        $I->wantTo('see comments from DB displayed on page');\n",
    "\n",
    "        $I->seeNumRecords(0, \"comments\");\n",
    "\n",
    "        $randomNumber = rand();\n",
    "\n",
    "        $title = \"Title $randomNumber\";\n",
    "        $text = \"Some text $randomNumber\";\n",
    "\n",
    "        $id = $I->haveInDatabase('comments', ['title' => $title, 'text' => $text]);\n",
    "\n",
    "        $I->amOnPage('/comments');\n",
    "        $I->see('Comments', 'h1');\n",
    "        $I->seeLink($title, \"/comments/$id\");\n",
    "\n",
    "        $I->click($title);\n",
    "        $I->seeCurrentUrlEquals(\"/comments/$id\");\n",
    "\n",
    "        $I->see($title, 'h1');\n",
    "        $I->see($text, 'p');\n",
    "    }\n",
    "}\n",
    "\n",
    "```"
   ]
  },
  {
   "cell_type": "markdown",
   "metadata": {},
   "source": [
    "Start database:"
   ]
  },
  {
   "cell_type": "code",
   "execution_count": 6,
   "metadata": {},
   "outputs": [
    {
     "name": "stdout",
     "output_type": "stream",
     "text": [
      "cefa443bbe8b267edcdbbed7daf0f83e60f2cd98b147c7e0452778af2a698700\r\n"
     ]
    }
   ],
   "source": [
    "! docker run --name=mysql --net=host --rm --env MYSQL_ROOT_PASSWORD=root123 --env MYSQL_ROOT_HOST=% --env MYSQL_DATABASE=test --env MYSQL_USER=test --env MYSQL_PASSWORD=test123 -d mysql/mysql-server:8.0"
   ]
  },
  {
   "cell_type": "code",
   "execution_count": 7,
   "metadata": {},
   "outputs": [
    {
     "name": "stdout",
     "output_type": "stream",
     "text": [
      "Done.\r\n"
     ]
    }
   ],
   "source": [
    "! while ! timeout 1 bash -c \"echo > /dev/tcp/localhost/3306\" 2> /dev/null; do sleep 1; done; echo \"Done.\";"
   ]
  },
  {
   "cell_type": "markdown",
   "metadata": {},
   "source": [
    "Edit the code:"
   ]
  },
  {
   "cell_type": "code",
   "execution_count": 131,
   "metadata": {},
   "outputs": [
    {
     "name": "stdout",
     "output_type": "stream",
     "text": [
      "CompileCommand: exclude com/intellij/openapi/vfs/impl/FilePartNodeRoot.trieDescend bool exclude = true\n",
      "2022-11-30 21:28:50,099 [   1900] SEVERE - #c.i.d.LoadingState - Should be called at least in the state COMPONENTS_LOADED, the current state is: CONFIGURATION_STORE_INITIALIZED\n",
      "Current violators count: 1\n",
      "\n",
      "\n",
      "java.lang.Throwable\n",
      "\tat com.intellij.diagnostic.LoadingState.logStateError(LoadingState.java:52)\n",
      "\tat com.intellij.diagnostic.LoadingState.checkOccurred(LoadingState.java:48)\n",
      "\tat com.intellij.openapi.actionSystem.impl.ActionManagerImpl.<init>(ActionManagerImpl.java:133)\n",
      "\tat com.jetbrains.rdserver.ui.actionPopupMenu.BackendActionManager.<init>(BackendActionManager.kt:17)\n",
      "\tat java.base/jdk.internal.reflect.NativeConstructorAccessorImpl.newInstance0(Native Method)\n",
      "\tat java.base/jdk.internal.reflect.NativeConstructorAccessorImpl.newInstance(NativeConstructorAccessorImpl.java:77)\n",
      "\tat java.base/jdk.internal.reflect.DelegatingConstructorAccessorImpl.newInstance(DelegatingConstructorAccessorImpl.java:45)\n",
      "\tat java.base/java.lang.reflect.Constructor.newInstanceWithCaller(Constructor.java:499)\n",
      "\tat java.base/java.lang.reflect.Constructor.newInstance(Constructor.java:480)\n",
      "\tat com.intellij.serviceContainer.ConstructorInjectionKt.instantiateUsingPicoContainer(constructorInjection.kt:47)\n",
      "\tat com.intellij.serviceContainer.ComponentManagerImpl.instantiateClassWithConstructorInjection(ComponentManagerImpl.kt:890)\n",
      "\tat com.intellij.serviceContainer.ServiceComponentAdapter.createAndInitialize(ServiceComponentAdapter.kt:51)\n",
      "\tat com.intellij.serviceContainer.ServiceComponentAdapter.doCreateInstance(ServiceComponentAdapter.kt:41)\n",
      "\tat com.intellij.serviceContainer.BaseComponentAdapter.getInstanceUncached(BaseComponentAdapter.kt:119)\n",
      "\tat com.intellij.serviceContainer.BaseComponentAdapter.getInstance(BaseComponentAdapter.kt:73)\n",
      "\tat com.intellij.serviceContainer.BaseComponentAdapter.getInstance$default(BaseComponentAdapter.kt:66)\n",
      "\tat com.intellij.serviceContainer.ComponentManagerImpl.doGetService(ComponentManagerImpl.kt:609)\n",
      "\tat com.intellij.serviceContainer.ComponentManagerImpl.getService(ComponentManagerImpl.kt:583)\n",
      "\tat com.intellij.openapi.client.ClientAwareComponentManager.getFromSelfOrCurrentSession(ClientAwareComponentManager.kt:37)\n",
      "\tat com.intellij.openapi.client.ClientAwareComponentManager.getService(ClientAwareComponentManager.kt:22)\n",
      "\tat com.intellij.openapi.actionSystem.ActionManager.getInstance(ActionManager.java:29)\n",
      "\tat com.intellij.help.impl.KeymapGenerator.<clinit>(KeymapGenerator.java:33)\n",
      "\tat java.base/jdk.internal.misc.Unsafe.allocateInstance(Native Method)\n",
      "\tat java.base/java.lang.invoke.DirectMethodHandle.allocateInstance(DirectMethodHandle.java:520)\n",
      "\tat com.intellij.serviceContainer.ComponentManagerImpl.instantiateClass(ComponentManagerImpl.kt:844)\n",
      "\tat com.intellij.openapi.extensions.impl.XmlExtensionAdapter.instantiateClass(XmlExtensionAdapter.kt:79)\n",
      "\tat com.intellij.openapi.extensions.impl.XmlExtensionAdapter$SimpleConstructorInjectionAdapter.instantiateClass(XmlExtensionAdapter.kt:90)\n",
      "\tat com.intellij.openapi.extensions.impl.XmlExtensionAdapter.doCreateInstance(XmlExtensionAdapter.kt:50)\n",
      "\tat com.intellij.openapi.extensions.impl.XmlExtensionAdapter.createInstance(XmlExtensionAdapter.kt:31)\n",
      "\tat com.intellij.openapi.extensions.impl.ExtensionPointImpl.processAdapter(ExtensionPointImpl.java:447)\n",
      "\tat com.intellij.openapi.extensions.impl.ExtensionPointImpl.access$200(ExtensionPointImpl.java:33)\n",
      "\tat com.intellij.openapi.extensions.impl.ExtensionPointImpl$1.next(ExtensionPointImpl.java:355)\n",
      "\tat com.intellij.idea.ApplicationLoader.findAppStarter(ApplicationLoader.kt:595)\n",
      "\tat com.intellij.idea.ApplicationLoader.access$findAppStarter(ApplicationLoader.kt:1)\n",
      "\tat com.intellij.idea.ApplicationLoader$initApplication$block$3.apply(ApplicationLoader.kt:170)\n",
      "\tat com.intellij.idea.ApplicationLoader$initApplication$block$3.apply(ApplicationLoader.kt)\n",
      "\tat java.base/java.util.concurrent.CompletableFuture$UniCompose.tryFire(CompletableFuture.java:1150)\n",
      "\tat java.base/java.util.concurrent.CompletableFuture.postComplete(CompletableFuture.java:510)\n",
      "\tat java.base/java.util.concurrent.CompletableFuture.postFire(CompletableFuture.java:614)\n",
      "\tat java.base/java.util.concurrent.CompletableFuture$UniCompose.tryFire(CompletableFuture.java:1163)\n",
      "\tat java.base/java.util.concurrent.CompletableFuture$Completion.run(CompletableFuture.java:482)\n",
      "\tat com.intellij.idea.ApplicationLoader$initApplication$block$2.execute(ApplicationLoader.kt:142)\n",
      "\tat java.base/java.util.concurrent.CompletableFuture$UniCompletion.claim(CompletableFuture.java:572)\n",
      "\tat java.base/java.util.concurrent.CompletableFuture$UniCompose.tryFire(CompletableFuture.java:1147)\n",
      "\tat java.base/java.util.concurrent.CompletableFuture.postComplete(CompletableFuture.java:510)\n",
      "\tat java.base/java.util.concurrent.CompletableFuture.postFire(CompletableFuture.java:614)\n",
      "\tat java.base/java.util.concurrent.CompletableFuture$UniCompose.tryFire(CompletableFuture.java:1163)\n",
      "\tat java.base/java.util.concurrent.CompletableFuture$Completion.exec(CompletableFuture.java:483)\n",
      "\tat java.base/java.util.concurrent.ForkJoinTask.doExec(ForkJoinTask.java:373)\n",
      "\tat java.base/java.util.concurrent.ForkJoinPool$WorkQueue.topLevelExec(ForkJoinPool.java:1182)\n",
      "\tat java.base/java.util.concurrent.ForkJoinPool.scan(ForkJoinPool.java:1655)\n",
      "\tat java.base/java.util.concurrent.ForkJoinPool.runWorker(ForkJoinPool.java:1622)\n",
      "\tat java.base/java.util.concurrent.ForkJoinWorkerThread.run(ForkJoinWorkerThread.java:165)\n",
      "2022-11-30 21:28:50,114 [   1915] SEVERE - #c.i.d.LoadingState - PhpStorm 2022.2.3  Build #PS-222.4345.15\n",
      "2022-11-30 21:28:50,116 [   1917] SEVERE - #c.i.d.LoadingState - JDK: 17.0.4.1; VM: OpenJDK 64-Bit Server VM; Vendor: JetBrains s.r.o.\n",
      "2022-11-30 21:28:50,118 [   1919] SEVERE - #c.i.d.LoadingState - OS: Linux\n",
      "2022-11-30 21:28:50,753 [   2554] SEVERE - #c.i.d.LoadingState - Should be called at least in the state COMPONENTS_LOADED, the current state is: CONFIGURATION_STORE_INITIALIZED\n",
      "Current violators count: 2\n",
      "\n",
      "\n",
      "java.lang.Throwable\n",
      "\tat com.intellij.diagnostic.LoadingState.logStateError(LoadingState.java:52)\n",
      "\tat com.intellij.diagnostic.LoadingState.checkOccurred(LoadingState.java:48)\n",
      "\tat com.intellij.openapi.util.registry.Registry.getInstance(Registry.java:176)\n",
      "\tat com.intellij.openapi.util.registry.Registry.get(Registry.java:50)\n",
      "\tat com.intellij.openapi.util.registry.Registry.is(Registry.java:63)\n",
      "\tat com.intellij.execution.ExecutorRegistryImpl.isExecutorInMainGroup(ExecutorRegistryImpl.java:195)\n",
      "\tat com.intellij.execution.ExecutorRegistryImpl.initExecutorActions(ExecutorRegistryImpl.java:127)\n",
      "\tat com.intellij.execution.ExecutorRegistryImpl.init(ExecutorRegistryImpl.java:278)\n",
      "\tat com.intellij.execution.ExecutorRegistryImpl$ExecutorRegistryActionConfigurationTuner.customize(ExecutorRegistryImpl.java:92)\n",
      "\tat com.intellij.openapi.actionSystem.impl.ActionManagerImpl.lambda$new$0(ActionManagerImpl.java:141)\n",
      "\tat com.intellij.openapi.extensions.impl.ExtensionProcessingHelper.forEachExtensionSafe(ExtensionProcessingHelper.java:34)\n",
      "\tat com.intellij.openapi.extensions.ExtensionPointName.forEachExtensionSafe(ExtensionPointName.java:46)\n",
      "\tat com.intellij.openapi.actionSystem.impl.ActionManagerImpl.<init>(ActionManagerImpl.java:141)\n",
      "\tat com.jetbrains.rdserver.ui.actionPopupMenu.BackendActionManager.<init>(BackendActionManager.kt:17)\n",
      "\tat java.base/jdk.internal.reflect.NativeConstructorAccessorImpl.newInstance0(Native Method)\n",
      "\tat java.base/jdk.internal.reflect.NativeConstructorAccessorImpl.newInstance(NativeConstructorAccessorImpl.java:77)\n",
      "\tat java.base/jdk.internal.reflect.DelegatingConstructorAccessorImpl.newInstance(DelegatingConstructorAccessorImpl.java:45)\n",
      "\tat java.base/java.lang.reflect.Constructor.newInstanceWithCaller(Constructor.java:499)\n",
      "\tat java.base/java.lang.reflect.Constructor.newInstance(Constructor.java:480)\n",
      "\tat com.intellij.serviceContainer.ConstructorInjectionKt.instantiateUsingPicoContainer(constructorInjection.kt:47)\n",
      "\tat com.intellij.serviceContainer.ComponentManagerImpl.instantiateClassWithConstructorInjection(ComponentManagerImpl.kt:890)\n",
      "\tat com.intellij.serviceContainer.ServiceComponentAdapter.createAndInitialize(ServiceComponentAdapter.kt:51)\n",
      "\tat com.intellij.serviceContainer.ServiceComponentAdapter.doCreateInstance(ServiceComponentAdapter.kt:41)\n",
      "\tat com.intellij.serviceContainer.BaseComponentAdapter.getInstanceUncached(BaseComponentAdapter.kt:119)\n",
      "\tat com.intellij.serviceContainer.BaseComponentAdapter.getInstance(BaseComponentAdapter.kt:73)\n",
      "\tat com.intellij.serviceContainer.BaseComponentAdapter.getInstance$default(BaseComponentAdapter.kt:66)\n",
      "\tat com.intellij.serviceContainer.ComponentManagerImpl.doGetService(ComponentManagerImpl.kt:609)\n",
      "\tat com.intellij.serviceContainer.ComponentManagerImpl.getService(ComponentManagerImpl.kt:583)\n",
      "\tat com.intellij.openapi.client.ClientAwareComponentManager.getFromSelfOrCurrentSession(ClientAwareComponentManager.kt:37)\n",
      "\tat com.intellij.openapi.client.ClientAwareComponentManager.getService(ClientAwareComponentManager.kt:22)\n",
      "\tat com.intellij.openapi.actionSystem.ActionManager.getInstance(ActionManager.java:29)\n",
      "\tat com.intellij.help.impl.KeymapGenerator.<clinit>(KeymapGenerator.java:33)\n",
      "\tat java.base/jdk.internal.misc.Unsafe.allocateInstance(Native Method)\n",
      "\tat java.base/java.lang.invoke.DirectMethodHandle.allocateInstance(DirectMethodHandle.java:520)\n",
      "\tat com.intellij.serviceContainer.ComponentManagerImpl.instantiateClass(ComponentManagerImpl.kt:844)\n",
      "\tat com.intellij.openapi.extensions.impl.XmlExtensionAdapter.instantiateClass(XmlExtensionAdapter.kt:79)\n",
      "\tat com.intellij.openapi.extensions.impl.XmlExtensionAdapter$SimpleConstructorInjectionAdapter.instantiateClass(XmlExtensionAdapter.kt:90)\n",
      "\tat com.intellij.openapi.extensions.impl.XmlExtensionAdapter.doCreateInstance(XmlExtensionAdapter.kt:50)\n",
      "\tat com.intellij.openapi.extensions.impl.XmlExtensionAdapter.createInstance(XmlExtensionAdapter.kt:31)\n",
      "\tat com.intellij.openapi.extensions.impl.ExtensionPointImpl.processAdapter(ExtensionPointImpl.java:447)\n",
      "\tat com.intellij.openapi.extensions.impl.ExtensionPointImpl.access$200(ExtensionPointImpl.java:33)\n",
      "\tat com.intellij.openapi.extensions.impl.ExtensionPointImpl$1.next(ExtensionPointImpl.java:355)\n",
      "\tat com.intellij.idea.ApplicationLoader.findAppStarter(ApplicationLoader.kt:595)\n",
      "\tat com.intellij.idea.ApplicationLoader.access$findAppStarter(ApplicationLoader.kt:1)\n",
      "\tat com.intellij.idea.ApplicationLoader$initApplication$block$3.apply(ApplicationLoader.kt:170)\n",
      "\tat com.intellij.idea.ApplicationLoader$initApplication$block$3.apply(ApplicationLoader.kt)\n",
      "\tat java.base/java.util.concurrent.CompletableFuture$UniCompose.tryFire(CompletableFuture.java:1150)\n",
      "\tat java.base/java.util.concurrent.CompletableFuture.postComplete(CompletableFuture.java:510)\n",
      "\tat java.base/java.util.concurrent.CompletableFuture.postFire(CompletableFuture.java:614)\n",
      "\tat java.base/java.util.concurrent.CompletableFuture$UniCompose.tryFire(CompletableFuture.java:1163)\n",
      "\tat java.base/java.util.concurrent.CompletableFuture$Completion.run(CompletableFuture.java:482)\n",
      "\tat com.intellij.idea.ApplicationLoader$initApplication$block$2.execute(ApplicationLoader.kt:142)\n",
      "\tat java.base/java.util.concurrent.CompletableFuture$UniCompletion.claim(CompletableFuture.java:572)\n",
      "\tat java.base/java.util.concurrent.CompletableFuture$UniCompose.tryFire(CompletableFuture.java:1147)\n",
      "\tat java.base/java.util.concurrent.CompletableFuture.postComplete(CompletableFuture.java:510)\n",
      "\tat java.base/java.util.concurrent.CompletableFuture.postFire(CompletableFuture.java:614)\n",
      "\tat java.base/java.util.concurrent.CompletableFuture$UniCompose.tryFire(CompletableFuture.java:1163)\n",
      "\tat java.base/java.util.concurrent.CompletableFuture$Completion.exec(CompletableFuture.java:483)\n",
      "\tat java.base/java.util.concurrent.ForkJoinTask.doExec(ForkJoinTask.java:373)\n",
      "\tat java.base/java.util.concurrent.ForkJoinPool$WorkQueue.topLevelExec(ForkJoinPool.java:1182)\n",
      "\tat java.base/java.util.concurrent.ForkJoinPool.scan(ForkJoinPool.java:1655)\n",
      "\tat java.base/java.util.concurrent.ForkJoinPool.runWorker(ForkJoinPool.java:1622)\n",
      "\tat java.base/java.util.concurrent.ForkJoinWorkerThread.run(ForkJoinWorkerThread.java:165)\n",
      "2022-11-30 21:28:50,756 [   2557] SEVERE - #c.i.d.LoadingState - PhpStorm 2022.2.3  Build #PS-222.4345.15\n",
      "2022-11-30 21:28:50,757 [   2558] SEVERE - #c.i.d.LoadingState - JDK: 17.0.4.1; VM: OpenJDK 64-Bit Server VM; Vendor: JetBrains s.r.o.\n",
      "2022-11-30 21:28:50,758 [   2559] SEVERE - #c.i.d.LoadingState - OS: Linux\n",
      "2022-11-30 21:28:50,777 [   2578] SEVERE - #c.i.d.LoadingState - Should be called at least in the state COMPONENTS_LOADED, the current state is: CONFIGURATION_STORE_INITIALIZED\n",
      "Current violators count: 3\n",
      "\n",
      "\n",
      "java.lang.Throwable\n",
      "\tat com.intellij.diagnostic.LoadingState.logStateError(LoadingState.java:52)\n",
      "\tat com.intellij.diagnostic.LoadingState.checkOccurred(LoadingState.java:48)\n",
      "\tat com.intellij.openapi.util.registry.Registry.getInstance(Registry.java:176)\n",
      "\tat com.intellij.openapi.util.registry.Registry.get(Registry.java:50)\n",
      "\tat com.intellij.openapi.util.registry.Registry.is(Registry.java:63)\n",
      "\tat com.intellij.openapi.wm.impl.GlobalMenuLinux._loadLibrary(GlobalMenuLinux.java:797)\n",
      "\tat com.intellij.openapi.wm.impl.GlobalMenuLinux.<clinit>(GlobalMenuLinux.java:164)\n",
      "\tat com.intellij.openapi.wm.impl.GlobalMenuLinux$MyActionTuner.customize(GlobalMenuLinux.java:230)\n",
      "\tat com.intellij.openapi.actionSystem.impl.ActionManagerImpl.lambda$new$0(ActionManagerImpl.java:141)\n",
      "\tat com.intellij.openapi.extensions.impl.ExtensionProcessingHelper.forEachExtensionSafe(ExtensionProcessingHelper.java:34)\n",
      "\tat com.intellij.openapi.extensions.ExtensionPointName.forEachExtensionSafe(ExtensionPointName.java:46)\n",
      "\tat com.intellij.openapi.actionSystem.impl.ActionManagerImpl.<init>(ActionManagerImpl.java:141)\n",
      "\tat com.jetbrains.rdserver.ui.actionPopupMenu.BackendActionManager.<init>(BackendActionManager.kt:17)\n",
      "\tat java.base/jdk.internal.reflect.NativeConstructorAccessorImpl.newInstance0(Native Method)\n",
      "\tat java.base/jdk.internal.reflect.NativeConstructorAccessorImpl.newInstance(NativeConstructorAccessorImpl.java:77)\n",
      "\tat java.base/jdk.internal.reflect.DelegatingConstructorAccessorImpl.newInstance(DelegatingConstructorAccessorImpl.java:45)\n",
      "\tat java.base/java.lang.reflect.Constructor.newInstanceWithCaller(Constructor.java:499)\n",
      "\tat java.base/java.lang.reflect.Constructor.newInstance(Constructor.java:480)\n",
      "\tat com.intellij.serviceContainer.ConstructorInjectionKt.instantiateUsingPicoContainer(constructorInjection.kt:47)\n",
      "\tat com.intellij.serviceContainer.ComponentManagerImpl.instantiateClassWithConstructorInjection(ComponentManagerImpl.kt:890)\n",
      "\tat com.intellij.serviceContainer.ServiceComponentAdapter.createAndInitialize(ServiceComponentAdapter.kt:51)\n",
      "\tat com.intellij.serviceContainer.ServiceComponentAdapter.doCreateInstance(ServiceComponentAdapter.kt:41)\n",
      "\tat com.intellij.serviceContainer.BaseComponentAdapter.getInstanceUncached(BaseComponentAdapter.kt:119)\n",
      "\tat com.intellij.serviceContainer.BaseComponentAdapter.getInstance(BaseComponentAdapter.kt:73)\n",
      "\tat com.intellij.serviceContainer.BaseComponentAdapter.getInstance$default(BaseComponentAdapter.kt:66)\n",
      "\tat com.intellij.serviceContainer.ComponentManagerImpl.doGetService(ComponentManagerImpl.kt:609)\n",
      "\tat com.intellij.serviceContainer.ComponentManagerImpl.getService(ComponentManagerImpl.kt:583)\n",
      "\tat com.intellij.openapi.client.ClientAwareComponentManager.getFromSelfOrCurrentSession(ClientAwareComponentManager.kt:37)\n",
      "\tat com.intellij.openapi.client.ClientAwareComponentManager.getService(ClientAwareComponentManager.kt:22)\n",
      "\tat com.intellij.openapi.actionSystem.ActionManager.getInstance(ActionManager.java:29)\n",
      "\tat com.intellij.help.impl.KeymapGenerator.<clinit>(KeymapGenerator.java:33)\n",
      "\tat java.base/jdk.internal.misc.Unsafe.allocateInstance(Native Method)\n",
      "\tat java.base/java.lang.invoke.DirectMethodHandle.allocateInstance(DirectMethodHandle.java:520)\n",
      "\tat com.intellij.serviceContainer.ComponentManagerImpl.instantiateClass(ComponentManagerImpl.kt:844)\n",
      "\tat com.intellij.openapi.extensions.impl.XmlExtensionAdapter.instantiateClass(XmlExtensionAdapter.kt:79)\n",
      "\tat com.intellij.openapi.extensions.impl.XmlExtensionAdapter$SimpleConstructorInjectionAdapter.instantiateClass(XmlExtensionAdapter.kt:90)\n",
      "\tat com.intellij.openapi.extensions.impl.XmlExtensionAdapter.doCreateInstance(XmlExtensionAdapter.kt:50)\n",
      "\tat com.intellij.openapi.extensions.impl.XmlExtensionAdapter.createInstance(XmlExtensionAdapter.kt:31)\n",
      "\tat com.intellij.openapi.extensions.impl.ExtensionPointImpl.processAdapter(ExtensionPointImpl.java:447)\n",
      "\tat com.intellij.openapi.extensions.impl.ExtensionPointImpl.access$200(ExtensionPointImpl.java:33)\n",
      "\tat com.intellij.openapi.extensions.impl.ExtensionPointImpl$1.next(ExtensionPointImpl.java:355)\n",
      "\tat com.intellij.idea.ApplicationLoader.findAppStarter(ApplicationLoader.kt:595)\n",
      "\tat com.intellij.idea.ApplicationLoader.access$findAppStarter(ApplicationLoader.kt:1)\n",
      "\tat com.intellij.idea.ApplicationLoader$initApplication$block$3.apply(ApplicationLoader.kt:170)\n",
      "\tat com.intellij.idea.ApplicationLoader$initApplication$block$3.apply(ApplicationLoader.kt)\n",
      "\tat java.base/java.util.concurrent.CompletableFuture$UniCompose.tryFire(CompletableFuture.java:1150)\n",
      "\tat java.base/java.util.concurrent.CompletableFuture.postComplete(CompletableFuture.java:510)\n",
      "\tat java.base/java.util.concurrent.CompletableFuture.postFire(CompletableFuture.java:614)\n",
      "\tat java.base/java.util.concurrent.CompletableFuture$UniCompose.tryFire(CompletableFuture.java:1163)\n",
      "\tat java.base/java.util.concurrent.CompletableFuture$Completion.run(CompletableFuture.java:482)\n",
      "\tat com.intellij.idea.ApplicationLoader$initApplication$block$2.execute(ApplicationLoader.kt:142)\n",
      "\tat java.base/java.util.concurrent.CompletableFuture$UniCompletion.claim(CompletableFuture.java:572)\n",
      "\tat java.base/java.util.concurrent.CompletableFuture$UniCompose.tryFire(CompletableFuture.java:1147)\n",
      "\tat java.base/java.util.concurrent.CompletableFuture.postComplete(CompletableFuture.java:510)\n",
      "\tat java.base/java.util.concurrent.CompletableFuture.postFire(CompletableFuture.java:614)\n",
      "\tat java.base/java.util.concurrent.CompletableFuture$UniCompose.tryFire(CompletableFuture.java:1163)\n",
      "\tat java.base/java.util.concurrent.CompletableFuture$Completion.exec(CompletableFuture.java:483)\n",
      "\tat java.base/java.util.concurrent.ForkJoinTask.doExec(ForkJoinTask.java:373)\n",
      "\tat java.base/java.util.concurrent.ForkJoinPool$WorkQueue.topLevelExec(ForkJoinPool.java:1182)\n",
      "\tat java.base/java.util.concurrent.ForkJoinPool.scan(ForkJoinPool.java:1655)\n",
      "\tat java.base/java.util.concurrent.ForkJoinPool.runWorker(ForkJoinPool.java:1622)\n",
      "\tat java.base/java.util.concurrent.ForkJoinWorkerThread.run(ForkJoinWorkerThread.java:165)\n",
      "2022-11-30 21:28:50,780 [   2581] SEVERE - #c.i.d.LoadingState - PhpStorm 2022.2.3  Build #PS-222.4345.15\n",
      "2022-11-30 21:28:50,781 [   2582] SEVERE - #c.i.d.LoadingState - JDK: 17.0.4.1; VM: OpenJDK 64-Bit Server VM; Vendor: JetBrains s.r.o.\n",
      "2022-11-30 21:28:50,782 [   2583] SEVERE - #c.i.d.LoadingState - OS: Linux\n"
     ]
    },
    {
     "name": "stdout",
     "output_type": "stream",
     "text": [
      "Info  | RdCoroutineScope          | 14:JobScheduler FJ pool 2/3 | RdCoroutineHost overridden \n",
      "2022-11-30 21:28:56,015 [   7816]   WARN - #c.i.o.a.i.ActionUpdater - 354 ms to grab EDT for CWMTelephonyGroup#update@NavBarToolbar (com.jetbrains.rd.platform.codeWithMe.telephony.CWMTelephonyGroup)\n",
      "2022-11-30 21:29:02,053 [  13854]   WARN - #c.i.o.a.e.ActionUtil - Can not find action by id CompileDirty\n",
      "2022-11-30 21:29:02,599 [  14400]   WARN - #c.i.u.x.Binding - no accessors for com.jetbrains.php.testFramework.PhpTestFrameworkType\n",
      "2022-11-30 21:29:05,447 [  17248]   WARN - #c.i.o.a.i.ActionUpdater - 1883 ms to grab EDT for #update@ToolwindowTitle (com.intellij.toolWindow.ToolWindowHeader$2)\n",
      "2022-11-30 21:29:05,586 [  17387]   WARN - #c.i.o.a.i.ActionUpdater - 2008 ms to grab EDT for SeverityFiltersActionGroup#update@com.intellij.analysis.problemsView.toolWindow.HighlightingPanel (com.intellij.analysis.problemsView.toolWindow.SeverityFiltersActionGroup)\n",
      "2022-11-30 21:29:09,169 [  20970]   WARN - #c.i.o.a.i.ActionUpdater - 270 ms to grab EDT for DockToolWindowAction#update@ToolwindowTitle (com.intellij.openapi.wm.impl.DockToolWindowAction)\n",
      "2022-11-30 21:29:10,273 [  22074]   WARN - #c.i.o.a.i.ActionUpdater - 218 ms to grab EDT for CWMTelephonyGroup#update@NavBarToolbar (com.jetbrains.rd.platform.codeWithMe.telephony.CWMTelephonyGroup)\n",
      "2022-11-30 21:29:13,952 [  25753]   WARN - #c.i.o.a.i.ActionUpdater - 312 ms to grab EDT for CWMTelephonyGroup#update@NavBarToolbar (com.jetbrains.rd.platform.codeWithMe.telephony.CWMTelephonyGroup)\n",
      "2022-11-30 21:29:34,599 [  46400]   WARN - #c.j.p.PhpIndex - Completing type '#C\\TestsCodeception\\Support\\FunctionalTester' took 5476ms, visited:[#C\\TestsCodeception\\Support\\FunctionalTester]\n",
      "2022-11-30 21:29:34,674 [  46475]   WARN - #c.j.p.PhpIndex - Completing type '#Э#A#M#C\\TestsCodeception\\Support\\FunctionalTester.amGoingTo.0' took 5564ms, visited:[#Э#A#M#C\\TestsCodeception\\Support\\FunctionalTester.amGoingTo.0]\n",
      "2022-11-30 21:29:54,512 [  66313]   WARN - #c.i.o.a.i.ActionUpdater - 326 ms to grab EDT for CWMTelephonyGroup#update@NavBarToolbar (com.jetbrains.rd.platform.codeWithMe.telephony.CWMTelephonyGroup)\n",
      "2022-11-30 21:30:44,126 [ 115927]   WARN - #c.i.o.a.i.ActionUpdater - 848 ms to grab EDT for SeverityFilterAction#update@com.intellij.analysis.problemsView.toolWindow.HighlightingPanel (com.intellij.analysis.problemsView.toolWindow.SeverityFilterAction)\n",
      "2022-11-30 21:30:48,122 [ 119923]   WARN - #c.j.p.PhpIndex - Completing type '#C\\TestsCodeception\\Support\\AcceptanceTester' took 3572ms, visited:[#C\\TestsCodeception\\Support\\AcceptanceTester]\n",
      "2022-11-30 21:30:48,246 [ 120047]   WARN - #c.j.p.PhpIndex - Completing type '#Э#A#M#C\\TestsCodeception\\Support\\AcceptanceTester.amGoingTo.0' took 3695ms, visited:[#Э#A#M#C\\TestsCodeception\\Support\\AcceptanceTester.amGoingTo.0]\n",
      "2022-11-30 21:34:11,220 [ 323021]   WARN - #c.i.u.x.Binding - no accessors for org.jetbrains.idea.perforce.perforce.ConnectionId\n"
     ]
    }
   ],
   "source": [
    "! phpstorm project"
   ]
  },
  {
   "cell_type": "markdown",
   "metadata": {},
   "source": [
    "You can test your solution using included tests:"
   ]
  },
  {
   "cell_type": "code",
   "execution_count": 132,
   "metadata": {},
   "outputs": [
    {
     "name": "stdout",
     "output_type": "stream",
     "text": [
      "/home/student/php_2022_adam_lewinski/08_laravel/02_exercise/project\n"
     ]
    }
   ],
   "source": [
    "%cd project"
   ]
  },
  {
   "cell_type": "code",
   "execution_count": null,
   "metadata": {},
   "outputs": [
    {
     "name": "stdout",
     "output_type": "stream",
     "text": [
      "\u001b[32mInstalling dependencies from lock file (including require-dev)\u001b[39m\n",
      "\u001b[32mVerifying lock file contents can be installed on current platform.\u001b[39m\n",
      "Nothing to install, update or remove\n",
      "\u001b[32mGenerating optimized autoload files\u001b[39m\n"
     ]
    }
   ],
   "source": [
    "! composer install"
   ]
  },
  {
   "cell_type": "code",
   "execution_count": null,
   "metadata": {},
   "outputs": [],
   "source": [
    "! cp .env.example .env"
   ]
  },
  {
   "cell_type": "code",
   "execution_count": null,
   "metadata": {},
   "outputs": [],
   "source": [
    "! php artisan key:generate"
   ]
  },
  {
   "cell_type": "code",
   "execution_count": null,
   "metadata": {},
   "outputs": [],
   "source": [
    "! php artisan migrate:fresh"
   ]
  },
  {
   "cell_type": "code",
   "execution_count": null,
   "metadata": {},
   "outputs": [],
   "source": [
    "! mysqldump -h127.0.0.1 -u root --password=root123 test > tests_codeception/_data/dump.sql"
   ]
  },
  {
   "cell_type": "code",
   "execution_count": null,
   "metadata": {},
   "outputs": [],
   "source": [
    "! npm install"
   ]
  },
  {
   "cell_type": "code",
   "execution_count": null,
   "metadata": {},
   "outputs": [],
   "source": [
    "! npm run build"
   ]
  },
  {
   "cell_type": "code",
   "execution_count": null,
   "metadata": {},
   "outputs": [],
   "source": [
    "import subprocess\n",
    "artisanServe = subprocess.Popen(['php', 'artisan', 'serve', '--port', '8888'])"
   ]
  },
  {
   "cell_type": "code",
   "execution_count": null,
   "metadata": {},
   "outputs": [],
   "source": [
    "! vendor/bin/codecept run"
   ]
  },
  {
   "cell_type": "code",
   "execution_count": 121,
   "metadata": {},
   "outputs": [
    {
     "name": "stdout",
     "output_type": "stream",
     "text": [
      "Codeception PHP Testing Framework v5.0.5 https://helpukrainewin.org\n",
      "PHP Fatal error:  Trait \"TestsCodeception\\Support\\_generated\\AcceptanceTesterActions\" not found in /home/student/php_2022_adam_lewinski/08_laravel/02_exercise/project/tests_codeception/Support/AcceptanceTester.php on line 22\n",
      "PHP Stack trace:\n",
      "PHP   1. {main}() /home/student/php_2022_adam_lewinski/08_laravel/02_exercise/project/vendor/bin/codecept:0\n",
      "PHP   2. include() /home/student/php_2022_adam_lewinski/08_laravel/02_exercise/project/vendor/bin/codecept:120\n",
      "PHP   3. require() /home/student/php_2022_adam_lewinski/08_laravel/02_exercise/project/vendor/codeception/codeception/codecept:7\n",
      "PHP   4. {closure:/home/student/php_2022_adam_lewinski/08_laravel/02_exercise/project/vendor/codeception/codeception/app.php:7-46}() /home/student/php_2022_adam_lewinski/08_laravel/02_exercise/project/vendor/codeception/codeception/app.php:46\n",
      "PHP   5. Codeception\\Application->run($input = *uninitialized*, $output = *uninitialized*) /home/student/php_2022_adam_lewinski/08_laravel/02_exercise/project/vendor/codeception/codeception/app.php:45\n",
      "PHP   6. Symfony\\Component\\Console\\Application->run($input = class Symfony\\Component\\Console\\Input\\ArgvInput { protected $definition = class Symfony\\Component\\Console\\Input\\InputDefinition { private array $arguments = [...]; private int $requiredCount = 1; private ?Symfony\\Component\\Console\\Input\\InputArgument $lastArrayArgument = NULL; private ?Symfony\\Component\\Console\\Input\\InputArgument $lastOptionalArgument = class Symfony\\Component\\Console\\Input\\InputArgument { ... }; private array $options = [...]; private array $negations = [...]; private array $shortcuts = [...] }; protected $stream = NULL; protected $options = []; protected $arguments = ['command' => 'run']; protected $interactive = TRUE; private array $tokens = [0 => 'run']; private array $parsed = [] }, $output = NULL) /home/student/php_2022_adam_lewinski/08_laravel/02_exercise/project/vendor/codeception/codeception/src/Codeception/Application.php:112\n",
      "PHP   7. Symfony\\Component\\Console\\Application->doRun($input = class Symfony\\Component\\Console\\Input\\ArgvInput { protected $definition = class Symfony\\Component\\Console\\Input\\InputDefinition { private array $arguments = [...]; private int $requiredCount = 1; private ?Symfony\\Component\\Console\\Input\\InputArgument $lastArrayArgument = NULL; private ?Symfony\\Component\\Console\\Input\\InputArgument $lastOptionalArgument = class Symfony\\Component\\Console\\Input\\InputArgument { ... }; private array $options = [...]; private array $negations = [...]; private array $shortcuts = [...] }; protected $stream = NULL; protected $options = []; protected $arguments = ['command' => 'run']; protected $interactive = TRUE; private array $tokens = [0 => 'run']; private array $parsed = [] }, $output = class Symfony\\Component\\Console\\Output\\ConsoleOutput { private int ${Symfony\\Component\\Console\\Output\\Output}verbosity = 32; private Symfony\\Component\\Console\\Formatter\\OutputFormatterInterface ${Symfony\\Component\\Console\\Output\\Output}formatter = class Symfony\\Component\\Console\\Formatter\\OutputFormatter { private bool $decorated = TRUE; private array $styles = [...]; private Symfony\\Component\\Console\\Formatter\\OutputFormatterStyleStack $styleStack = class Symfony\\Component\\Console\\Formatter\\OutputFormatterStyleStack { ... } }; private ${Symfony\\Component\\Console\\Output\\StreamOutput}stream = resource(2) of type (stream); private Symfony\\Component\\Console\\Output\\OutputInterface $stderr = class Symfony\\Component\\Console\\Output\\StreamOutput { private int ${Symfony\\Component\\Console\\Output\\Output}verbosity = 32; private Symfony\\Component\\Console\\Formatter\\OutputFormatterInterface ${Symfony\\Component\\Console\\Output\\Output}formatter = class Symfony\\Component\\Console\\Formatter\\OutputFormatter { ... }; private $stream = resource(3) of type (stream) }; private array $consoleSectionOutputs = [] }) /home/student/php_2022_adam_lewinski/08_laravel/02_exercise/project/vendor/symfony/console/Application.php:168\n",
      "PHP   8. Symfony\\Component\\Console\\Application->doRunCommand($command = class Codeception\\Command\\Run { private ?Symfony\\Component\\Console\\Application ${Symfony\\Component\\Console\\Command\\Command}application = class Codeception\\Application { private array ${Symfony\\Component\\Console\\Application}commands = [...]; private bool ${Symfony\\Component\\Console\\Application}wantHelps = FALSE; private ?Symfony\\Component\\Console\\Command\\Command ${Symfony\\Component\\Console\\Application}runningCommand = ...; private string ${Symfony\\Component\\Console\\Application}name = 'Codeception'; private string ${Symfony\\Component\\Console\\Application}version = '5.0.5'; private ?Symfony\\Component\\Console\\CommandLoader\\CommandLoaderInterface ${Symfony\\Component\\Console\\Application}commandLoader = NULL; private bool ${Symfony\\Component\\Console\\Application}catchExceptions = TRUE; private bool ${Symfony\\Component\\Console\\Application}autoExit = TRUE; private Symfony\\Component\\Console\\Input\\InputDefinition ${Symfony\\Component\\Console\\Application}definition = class Symfony\\Component\\Console\\Input\\InputDefinition { ... }; private Symfony\\Component\\Console\\Helper\\HelperSet ${Symfony\\Component\\Console\\Application}helperSet = class Symfony\\Component\\Console\\Helper\\HelperSet { ... }; private ?Symfony\\Contracts\\EventDispatcher\\EventDispatcherInterface ${Symfony\\Component\\Console\\Application}dispatcher = NULL; private Symfony\\Component\\Console\\Terminal ${Symfony\\Component\\Console\\Application}terminal = class Symfony\\Component\\Console\\Terminal { ... }; private string ${Symfony\\Component\\Console\\Application}defaultCommand = 'list'; private bool ${Symfony\\Component\\Console\\Application}singleCommand = FALSE; private bool ${Symfony\\Component\\Console\\Application}initialized = TRUE; private Symfony\\Component\\Console\\SignalRegistry\\SignalRegistry ${Symfony\\Component\\Console\\Application}signalRegistry = class Symfony\\Component\\Console\\SignalRegistry\\SignalRegistry { ... }; private array ${Symfony\\Component\\Console\\Application}signalsToDispatchEvent = [...]; protected ?Symfony\\Component\\Console\\Input\\ArgvInput $coreArguments = class Symfony\\Component\\Console\\Input\\ArgvInput { ... } }; private ?string ${Symfony\\Component\\Console\\Command\\Command}name = 'run'; private ?string ${Symfony\\Component\\Console\\Command\\Command}processTitle = NULL; private array ${Symfony\\Component\\Console\\Command\\Command}aliases = []; private Symfony\\Component\\Console\\Input\\InputDefinition ${Symfony\\Component\\Console\\Command\\Command}definition = class Symfony\\Component\\Console\\Input\\InputDefinition { private array $arguments = [...]; private int $requiredCount = 0; private ?Symfony\\Component\\Console\\Input\\InputArgument $lastArrayArgument = NULL; private ?Symfony\\Component\\Console\\Input\\InputArgument $lastOptionalArgument = class Symfony\\Component\\Console\\Input\\InputArgument { ... }; private array $options = [...]; private array $negations = [...]; private array $shortcuts = [...] }; private bool ${Symfony\\Component\\Console\\Command\\Command}hidden = FALSE; private string ${Symfony\\Component\\Console\\Command\\Command}help = ''; private string ${Symfony\\Component\\Console\\Command\\Command}description = ''; private ?Symfony\\Component\\Console\\Input\\InputDefinition ${Symfony\\Component\\Console\\Command\\Command}fullDefinition = class Symfony\\Component\\Console\\Input\\InputDefinition { private array $arguments = [...]; private int $requiredCount = 1; private ?Symfony\\Component\\Console\\Input\\InputArgument $lastArrayArgument = NULL; private ?Symfony\\Component\\Console\\Input\\InputArgument $lastOptionalArgument = class Symfony\\Component\\Console\\Input\\InputArgument { ... }; private array $options = [...]; private array $negations = [...]; private array $shortcuts = [...] }; private bool ${Symfony\\Component\\Console\\Command\\Command}ignoreValidationErrors = FALSE; private ?Closure ${Symfony\\Component\\Console\\Command\\Command}code = NULL; private array ${Symfony\\Component\\Console\\Command\\Command}synopsis = []; private array ${Symfony\\Component\\Console\\Command\\Command}usages = []; private ?Symfony\\Component\\Console\\Helper\\HelperSet ${Symfony\\Component\\Console\\Command\\Command}helperSet = class Symfony\\Component\\Console\\Helper\\HelperSet { private array $helpers = [...] }; protected ?Codeception\\Codecept $codecept = class Codeception\\Codecept { protected Codeception\\ResultAggregator $resultAggregator = class Codeception\\ResultAggregator { ... }; protected Symfony\\Component\\EventDispatcher\\EventDispatcher $dispatcher = class Symfony\\Component\\EventDispatcher\\EventDispatcher { ... }; protected Codeception\\Subscriber\\ExtensionLoader $extensionLoader = class Codeception\\Subscriber\\ExtensionLoader { ... }; protected array $options = [...]; protected array $config = [...]; protected array $extensions = [...]; private Codeception\\Lib\\Console\\Output $output = class Codeception\\Lib\\Console\\Output { ... } }; protected int $executed = 0; protected array $options = ['override' => [...], 'ext' => [...], 'report' => FALSE, 'html' => 'report.html', 'xml' => 'report.xml', 'phpunit-xml' => 'phpunit-report.xml', 'colors' => TRUE, 'no-colors' => FALSE, 'silent' => FALSE, 'steps' => FALSE, 'debug' => FALSE, 'shard' => NULL, 'filter' => NULL, 'grep' => NULL, 'bootstrap' => FALSE, 'no-redirect' => FALSE, 'coverage' => NULL, 'coverage-html' => NULL, 'coverage-xml' => NULL, 'coverage-text' => NULL, 'coverage-crap4j' => NULL, 'coverage-cobertura' => NULL, 'coverage-phpunit' => NULL, 'no-exit' => FALSE, 'group' => [...], 'skip' => [...], 'skip-group' => [...], 'env' => [...], 'fail-fast' => NULL, 'no-rebuild' => FALSE, 'seed' => NULL, 'no-artifacts' => FALSE, 'help' => FALSE, 'quiet' => FALSE, 'verbose' => FALSE, 'version' => FALSE, 'ansi' => NULL, 'no-interaction' => FALSE, 'config' => NULL]; protected ?Symfony\\Component\\Console\\Output\\OutputInterface $output = class Symfony\\Component\\Console\\Output\\ConsoleOutput { private int ${Symfony\\Component\\Console\\Output\\Output}verbosity = 32; private Symfony\\Component\\Console\\Formatter\\OutputFormatterInterface ${Symfony\\Component\\Console\\Output\\Output}formatter = class Symfony\\Component\\Console\\Formatter\\OutputFormatter { ... }; private ${Symfony\\Component\\Console\\Output\\StreamOutput}stream = resource(2) of type (stream); private Symfony\\Component\\Console\\Output\\OutputInterface $stderr = class Symfony\\Component\\Console\\Output\\StreamOutput { ... }; private array $consoleSectionOutputs = [...] } }, $input = class Symfony\\Component\\Console\\Input\\ArgvInput { protected $definition = class Symfony\\Component\\Console\\Input\\InputDefinition { private array $arguments = [...]; private int $requiredCount = 1; private ?Symfony\\Component\\Console\\Input\\InputArgument $lastArrayArgument = NULL; private ?Symfony\\Component\\Console\\Input\\InputArgument $lastOptionalArgument = class Symfony\\Component\\Console\\Input\\InputArgument { ... }; private array $options = [...]; private array $negations = [...]; private array $shortcuts = [...] }; protected $stream = NULL; protected $options = []; protected $arguments = ['command' => 'run']; protected $interactive = TRUE; private array $tokens = [0 => 'run']; private array $parsed = [] }, $output = class Symfony\\Component\\Console\\Output\\ConsoleOutput { private int ${Symfony\\Component\\Console\\Output\\Output}verbosity = 32; private Symfony\\Component\\Console\\Formatter\\OutputFormatterInterface ${Symfony\\Component\\Console\\Output\\Output}formatter = class Symfony\\Component\\Console\\Formatter\\OutputFormatter { private bool $decorated = TRUE; private array $styles = [...]; private Symfony\\Component\\Console\\Formatter\\OutputFormatterStyleStack $styleStack = class Symfony\\Component\\Console\\Formatter\\OutputFormatterStyleStack { ... } }; private ${Symfony\\Component\\Console\\Output\\StreamOutput}stream = resource(2) of type (stream); private Symfony\\Component\\Console\\Output\\OutputInterface $stderr = class Symfony\\Component\\Console\\Output\\StreamOutput { private int ${Symfony\\Component\\Console\\Output\\Output}verbosity = 32; private Symfony\\Component\\Console\\Formatter\\OutputFormatterInterface ${Symfony\\Component\\Console\\Output\\Output}formatter = class Symfony\\Component\\Console\\Formatter\\OutputFormatter { ... }; private $stream = resource(3) of type (stream) }; private array $consoleSectionOutputs = [] }) /home/student/php_2022_adam_lewinski/08_laravel/02_exercise/project/vendor/symfony/console/Application.php:312\n",
      "PHP   9. Symfony\\Component\\Console\\Command\\Command->run($input = class Symfony\\Component\\Console\\Input\\ArgvInput { protected $definition = class Symfony\\Component\\Console\\Input\\InputDefinition { private array $arguments = [...]; private int $requiredCount = 1; private ?Symfony\\Component\\Console\\Input\\InputArgument $lastArrayArgument = NULL; private ?Symfony\\Component\\Console\\Input\\InputArgument $lastOptionalArgument = class Symfony\\Component\\Console\\Input\\InputArgument { ... }; private array $options = [...]; private array $negations = [...]; private array $shortcuts = [...] }; protected $stream = NULL; protected $options = []; protected $arguments = ['command' => 'run']; protected $interactive = TRUE; private array $tokens = [0 => 'run']; private array $parsed = [] }, $output = class Symfony\\Component\\Console\\Output\\ConsoleOutput { private int ${Symfony\\Component\\Console\\Output\\Output}verbosity = 32; private Symfony\\Component\\Console\\Formatter\\OutputFormatterInterface ${Symfony\\Component\\Console\\Output\\Output}formatter = class Symfony\\Component\\Console\\Formatter\\OutputFormatter { private bool $decorated = TRUE; private array $styles = [...]; private Symfony\\Component\\Console\\Formatter\\OutputFormatterStyleStack $styleStack = class Symfony\\Component\\Console\\Formatter\\OutputFormatterStyleStack { ... } }; private ${Symfony\\Component\\Console\\Output\\StreamOutput}stream = resource(2) of type (stream); private Symfony\\Component\\Console\\Output\\OutputInterface $stderr = class Symfony\\Component\\Console\\Output\\StreamOutput { private int ${Symfony\\Component\\Console\\Output\\Output}verbosity = 32; private Symfony\\Component\\Console\\Formatter\\OutputFormatterInterface ${Symfony\\Component\\Console\\Output\\Output}formatter = class Symfony\\Component\\Console\\Formatter\\OutputFormatter { ... }; private $stream = resource(3) of type (stream) }; private array $consoleSectionOutputs = [] }) /home/student/php_2022_adam_lewinski/08_laravel/02_exercise/project/vendor/symfony/console/Application.php:1020\n",
      "PHP  10. Codeception\\Command\\Run->execute($input = class Symfony\\Component\\Console\\Input\\ArgvInput { protected $definition = class Symfony\\Component\\Console\\Input\\InputDefinition { private array $arguments = [...]; private int $requiredCount = 1; private ?Symfony\\Component\\Console\\Input\\InputArgument $lastArrayArgument = NULL; private ?Symfony\\Component\\Console\\Input\\InputArgument $lastOptionalArgument = class Symfony\\Component\\Console\\Input\\InputArgument { ... }; private array $options = [...]; private array $negations = [...]; private array $shortcuts = [...] }; protected $stream = NULL; protected $options = []; protected $arguments = ['command' => 'run']; protected $interactive = TRUE; private array $tokens = [0 => 'run']; private array $parsed = [] }, $output = class Symfony\\Component\\Console\\Output\\ConsoleOutput { private int ${Symfony\\Component\\Console\\Output\\Output}verbosity = 32; private Symfony\\Component\\Console\\Formatter\\OutputFormatterInterface ${Symfony\\Component\\Console\\Output\\Output}formatter = class Symfony\\Component\\Console\\Formatter\\OutputFormatter { private bool $decorated = TRUE; private array $styles = [...]; private Symfony\\Component\\Console\\Formatter\\OutputFormatterStyleStack $styleStack = class Symfony\\Component\\Console\\Formatter\\OutputFormatterStyleStack { ... } }; private ${Symfony\\Component\\Console\\Output\\StreamOutput}stream = resource(2) of type (stream); private Symfony\\Component\\Console\\Output\\OutputInterface $stderr = class Symfony\\Component\\Console\\Output\\StreamOutput { private int ${Symfony\\Component\\Console\\Output\\Output}verbosity = 32; private Symfony\\Component\\Console\\Formatter\\OutputFormatterInterface ${Symfony\\Component\\Console\\Output\\Output}formatter = class Symfony\\Component\\Console\\Formatter\\OutputFormatter { ... }; private $stream = resource(3) of type (stream) }; private array $consoleSectionOutputs = [] }) /home/student/php_2022_adam_lewinski/08_laravel/02_exercise/project/vendor/symfony/console/Command/Command.php:312\n",
      "PHP  11. Codeception\\Command\\Run->runSuites($suites = [0 => 'Acceptance'], $skippedSuites = []) /home/student/php_2022_adam_lewinski/08_laravel/02_exercise/project/vendor/codeception/codeception/src/Codeception/Command/Run.php:467\n",
      "PHP  12. Codeception\\Codecept->run($suite = 'Acceptance', $test = *uninitialized*, $config = *uninitialized*) /home/student/php_2022_adam_lewinski/08_laravel/02_exercise/project/vendor/codeception/codeception/src/Codeception/Command/Run.php:646\n",
      "PHP  13. Codeception\\Codecept->runSuite($settings = ['actor' => 'AcceptanceTester', 'class_name' => 'AcceptanceTester', 'modules' => ['enabled' => [...], 'config' => [...], 'depends' => [...]], 'step_decorators' => NULL, 'colors' => TRUE, 'bootstrap' => FALSE, 'strict_xml' => FALSE, 'lint' => TRUE, 'backup_globals' => TRUE, 'report_useless_tests' => FALSE, 'be_strict_about_changes_to_global_state' => FALSE, 'shuffle' => FALSE, 'coverage' => [], 'support_namespace' => 'Support', 'namespace' => 'TestsCodeception', 'groups' => ['failed' => 'tests_codeception/_output/failed'], 'gherkin' => [], 'extensions' => ['enabled' => [...], 'config' => [...], 'commands' => [...]], 'path' => '/home/student/php_2022_adam_lewinski/08_laravel/02_exercise/project/tests_codeception/Acceptance/', 'extends' => NULL, 'formats' => [], 'error_level' => 'E_ALL & ~E_STRICT & ~E_DEPRECATED', 'convert_deprecations_to_exceptions' => FALSE, 'suite' => 'Acceptance', 'suite_namespace' => 'TestsCodeception\\\\Acceptance'], $suite = 'Acceptance', $test = NULL) /home/student/php_2022_adam_lewinski/08_laravel/02_exercise/project/vendor/codeception/codeception/src/Codeception/Codecept.php:216\n",
      "PHP  14. Codeception\\SuiteManager->loadTests($path = NULL) /home/student/php_2022_adam_lewinski/08_laravel/02_exercise/project/vendor/codeception/codeception/src/Codeception/Codecept.php:258\n",
      "PHP  15. Codeception\\Test\\Loader->__construct($suiteSettings = ['actor' => 'AcceptanceTester', 'class_name' => 'AcceptanceTester', 'modules' => ['enabled' => [...], 'config' => [...], 'depends' => [...]], 'step_decorators' => NULL, 'colors' => TRUE, 'bootstrap' => FALSE, 'strict_xml' => FALSE, 'lint' => TRUE, 'backup_globals' => TRUE, 'report_useless_tests' => FALSE, 'be_strict_about_changes_to_global_state' => FALSE, 'shuffle' => FALSE, 'coverage' => [], 'support_namespace' => 'Support', 'namespace' => 'TestsCodeception', 'groups' => ['failed' => 'tests_codeception/_output/failed'], 'gherkin' => [], 'extensions' => ['enabled' => [...], 'config' => [...], 'commands' => [...]], 'path' => '/home/student/php_2022_adam_lewinski/08_laravel/02_exercise/project/tests_codeception/Acceptance/', 'extends' => NULL, 'formats' => [], 'error_level' => 'E_ALL & ~E_STRICT & ~E_DEPRECATED', 'convert_deprecations_to_exceptions' => FALSE, 'suite' => 'Acceptance', 'suite_namespace' => 'TestsCodeception\\\\Acceptance', 'shard' => NULL]) /home/student/php_2022_adam_lewinski/08_laravel/02_exercise/project/vendor/codeception/codeception/src/Codeception/SuiteManager.php:83\n",
      "PHP  16. Codeception\\Test\\Loader\\Gherkin->__construct($settings = ['actor' => 'AcceptanceTester', 'class_name' => 'AcceptanceTester', 'modules' => ['enabled' => [...], 'config' => [...], 'depends' => [...]], 'step_decorators' => NULL, 'colors' => TRUE, 'bootstrap' => FALSE, 'strict_xml' => FALSE, 'lint' => TRUE, 'backup_globals' => TRUE, 'report_useless_tests' => FALSE, 'be_strict_about_changes_to_global_state' => FALSE, 'shuffle' => FALSE, 'coverage' => [], 'support_namespace' => 'Support', 'namespace' => 'TestsCodeception', 'groups' => ['failed' => 'tests_codeception/_output/failed'], 'gherkin' => [], 'extensions' => ['enabled' => [...], 'config' => [...], 'commands' => [...]], 'path' => '/home/student/php_2022_adam_lewinski/08_laravel/02_exercise/project/tests_codeception/Acceptance/', 'extends' => NULL, 'formats' => [], 'error_level' => 'E_ALL & ~E_STRICT & ~E_DEPRECATED', 'convert_deprecations_to_exceptions' => FALSE, 'suite' => 'Acceptance', 'suite_namespace' => 'TestsCodeception\\\\Acceptance', 'shard' => NULL]) /home/student/php_2022_adam_lewinski/08_laravel/02_exercise/project/vendor/codeception/codeception/src/Codeception/Test/Loader.php:73\n",
      "PHP  17. Codeception\\Test\\Loader\\Gherkin->fetchGherkinSteps() /home/student/php_2022_adam_lewinski/08_laravel/02_exercise/project/vendor/codeception/codeception/src/Codeception/Test/Loader/Gherkin.php:82\n",
      "PHP  18. Codeception\\Test\\Loader\\Gherkin->addSteps($contexts = [0 => 'TestsCodeception\\\\Support\\\\AcceptanceTester'], $group = *uninitialized*) /home/student/php_2022_adam_lewinski/08_laravel/02_exercise/project/vendor/codeception/codeception/src/Codeception/Test/Loader/Gherkin.php:119\n",
      "PHP  19. class_exists($class = 'TestsCodeception\\\\Support\\\\AcceptanceTester') /home/student/php_2022_adam_lewinski/08_laravel/02_exercise/project/vendor/codeception/codeception/src/Codeception/Test/Loader/Gherkin.php:129\n",
      "PHP  20. Composer\\Autoload\\ClassLoader->loadClass($class = 'TestsCodeception\\\\Support\\\\AcceptanceTester') /home/student/php_2022_adam_lewinski/08_laravel/02_exercise/project/vendor/codeception/codeception/src/Codeception/Test/Loader/Gherkin.php:129\n",
      "PHP  21. Composer\\Autoload\\includeFile($file = '/home/student/php_2022_adam_lewinski/08_laravel/02_exercise/project/vendor/composer/../../tests_codeception/Support/AcceptanceTester.php') /home/student/php_2022_adam_lewinski/08_laravel/02_exercise/project/vendor/composer/ClassLoader.php:428\n",
      "PHP  22. include() /home/student/php_2022_adam_lewinski/08_laravel/02_exercise/project/vendor/composer/ClassLoader.php:571\n"
     ]
    }
   ],
   "source": [
    "! vendor/bin/codecept run"
   ]
  },
  {
   "cell_type": "code",
   "execution_count": 122,
   "metadata": {},
   "outputs": [],
   "source": [
    "! killall php php8.1"
   ]
  },
  {
   "cell_type": "code",
   "execution_count": 123,
   "metadata": {},
   "outputs": [
    {
     "name": "stdout",
     "output_type": "stream",
     "text": [
      "\u001b[32mBuilding Actor classes for suites: Acceptance\u001b[39m\r\n",
      " -> AcceptanceTesterActions.php generated successfully. 81 methods added\r\n",
      "\u001b[32mTestsCodeception\\AcceptanceTester\u001b[39m includes modules: Db, PhpBrowser\r\n"
     ]
    }
   ],
   "source": [
    "! vendor/bin/codecept build"
   ]
  },
  {
   "cell_type": "code",
   "execution_count": 124,
   "metadata": {},
   "outputs": [
    {
     "name": "stdout",
     "output_type": "stream",
     "text": [
      "Loaded config \u001b[33mdefault\u001b[39m from \"/home/student/php_2022_adam_lewinski/08_laravel/02_exercise/project/./.php-cs-fixer.dist.php\".\n",
      "Using cache file \".php-cs-fixer.cache\".\n",
      "\n",
      "Checked all files in 0.190 seconds, 16.000 MB memory used\n"
     ]
    }
   ],
   "source": [
    "! vendor/bin/php-cs-fixer fix --diff --dry-run ."
   ]
  },
  {
   "cell_type": "code",
   "execution_count": 125,
   "metadata": {},
   "outputs": [
    {
     "name": "stdout",
     "output_type": "stream",
     "text": [
      "  0/60 [░░░░░░░░░░░░░░░░░░░░░░░░░░░░]   0%\u001b[1G\u001b[2K 60/60 [▓▓▓▓▓▓▓▓▓▓▓▓▓▓▓▓▓▓▓▓▓▓▓▓▓▓▓▓] 100%\n",
      "\n",
      " ------ ----------------------------------------------------------------- \n",
      "  \u001b[32mLine\u001b[39m   \u001b[32mtests_codeception/Acceptance/HomepageCest.php\u001b[39m                    \n",
      " ------ ----------------------------------------------------------------- \n",
      "  13     Call to an undefined method                                      \n",
      "         TestsCodeception\\Support\\AcceptanceTester::amOnPage().           \n",
      "  15     Call to an undefined method                                      \n",
      "         TestsCodeception\\Support\\AcceptanceTester::seeInTitle().         \n",
      "  17     Call to an undefined method                                      \n",
      "         TestsCodeception\\Support\\AcceptanceTester::seeLink().            \n",
      "  18     Call to an undefined method                                      \n",
      "         TestsCodeception\\Support\\AcceptanceTester::seeLink().            \n",
      "  19     Call to an undefined method                                      \n",
      "         TestsCodeception\\Support\\AcceptanceTester::seeLink().            \n",
      "  21     Call to an undefined method                                      \n",
      "         TestsCodeception\\Support\\AcceptanceTester::dontSeeInDatabase().  \n",
      " ------ ----------------------------------------------------------------- \n",
      "\n",
      " ------ --------------------------------------------------------------------- \n",
      "  \u001b[32mLine\u001b[39m   \u001b[32mtests_codeception/Support/AcceptanceTester.php\u001b[39m                       \n",
      " ------ --------------------------------------------------------------------- \n",
      "  24     Class TestsCodeception\\Support\\AcceptanceTester uses unknown trait   \n",
      "         TestsCodeception\\Support\\_generated\\AcceptanceTesterActions.         \n",
      "         💡 Learn more at https://phpstan.org/user-guide/discovering-symbols  \n",
      " ------ --------------------------------------------------------------------- \n",
      "\n",
      " ------ --------------------------------------------------------------------- \n",
      "  \u001b[32mLine\u001b[39m   \u001b[32mtests_codeception/Support/FunctionalTester.php\u001b[39m                       \n",
      " ------ --------------------------------------------------------------------- \n",
      "  24     Class TestsCodeception\\Support\\FunctionalTester uses unknown trait   \n",
      "         TestsCodeception\\Support\\_generated\\FunctionalTesterActions.         \n",
      "         💡 Learn more at https://phpstan.org/user-guide/discovering-symbols  \n",
      " ------ --------------------------------------------------------------------- \n",
      "\n",
      " ------ --------------------------------------------------------------------- \n",
      "  \u001b[32mLine\u001b[39m   \u001b[32mtests_codeception/Support/UnitTester.php\u001b[39m                             \n",
      " ------ --------------------------------------------------------------------- \n",
      "  24     Class TestsCodeception\\Support\\UnitTester uses unknown trait         \n",
      "         TestsCodeception\\Support\\_generated\\UnitTesterActions.               \n",
      "         💡 Learn more at https://phpstan.org/user-guide/discovering-symbols  \n",
      " ------ --------------------------------------------------------------------- \n",
      "\n",
      "\u001b[37;41m                                                                                \u001b[39;49m\n",
      "\u001b[37;41m [ERROR] Found 9 errors                                                         \u001b[39;49m\n",
      "\u001b[37;41m                                                                                \u001b[39;49m\n",
      "\n"
     ]
    }
   ],
   "source": [
    "! vendor/bin/phpstan analyze -c phpstan.neon --xdebug"
   ]
  },
  {
   "cell_type": "code",
   "execution_count": 126,
   "metadata": {},
   "outputs": [
    {
     "name": "stdout",
     "output_type": "stream",
     "text": [
      "phpcpd 6.0.3 by Sebastian Bergmann.\n",
      "\n",
      "Found 1 clones with 95 duplicated lines in 2 files:\n",
      "\n",
      "  - /home/student/php_2022_adam_lewinski/08_laravel/02_exercise/project/storage/framework/views/94a97908c45e4c6c4e7c7274063de44cd24836c5.php:32-127 (95 lines)\n",
      "    /home/student/php_2022_adam_lewinski/08_laravel/02_exercise/project/storage/framework/views/dcda9f1bc1e5126055dfd82c61264f04c6d45c44.php:32-127\n",
      "\n",
      "4.91% duplicated lines out of 1935 total lines of code.\n",
      "Average size of duplication is 95 lines, largest clone has 95 of lines\n",
      "\n",
      "Time: 00:00.027, Memory: 8.00 MB\n"
     ]
    }
   ],
   "source": [
    "! vendor/bin/phpcpd . --fuzzy --min-lines 1 --min-tokens 20 --exclude vendor --exclude tests* --exclude config"
   ]
  },
  {
   "cell_type": "code",
   "execution_count": 128,
   "metadata": {},
   "outputs": [
    {
     "name": "stdout",
     "output_type": "stream",
     "text": [
      "/home/student/php_2022_adam_lewinski/08_laravel\n"
     ]
    }
   ],
   "source": [
    "%cd .."
   ]
  },
  {
   "cell_type": "markdown",
   "metadata": {},
   "source": [
    "Stop database:"
   ]
  },
  {
   "cell_type": "code",
   "execution_count": null,
   "metadata": {},
   "outputs": [],
   "source": [
    "! docker container stop mysql"
   ]
  }
 ],
 "metadata": {
  "kernelspec": {
   "display_name": "Python 3 (ipykernel)",
   "language": "python",
   "name": "python3"
  },
  "language_info": {
   "codemirror_mode": {
    "name": "ipython",
    "version": 3
   },
   "file_extension": ".py",
   "mimetype": "text/x-python",
   "name": "python",
   "nbconvert_exporter": "python",
   "pygments_lexer": "ipython3",
   "version": "3.10.6"
  }
 },
 "nbformat": 4,
 "nbformat_minor": 4
}
