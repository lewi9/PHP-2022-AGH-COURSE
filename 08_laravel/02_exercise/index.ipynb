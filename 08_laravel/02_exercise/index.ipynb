{
 "cells": [
  {
   "cell_type": "markdown",
   "metadata": {},
   "source": [
    "# PHP 2022"
   ]
  },
  {
   "cell_type": "markdown",
   "metadata": {},
   "source": [
    "## 8. Laravel"
   ]
  },
  {
   "cell_type": "markdown",
   "metadata": {},
   "source": [
    "### 8.2 Exercise"
   ]
  },
  {
   "cell_type": "markdown",
   "metadata": {},
   "source": [
    "Tasks:\n",
    "\n",
    "- Create new Laravel project in ```project``` directory and bootstrap ```Codeception``` tests in the ```tests_codeception``` directory (follow the tutorial)\n",
    "- Add below test in ```tests_codeception/Acceptance/CommentsCest.php``` and make it pass by changing Laravel project:\n",
    "\n",
    "```php\n",
    "<?php\n",
    "\n",
    "namespace TestsCodeception\\Acceptance;\n",
    "\n",
    "use TestsCodeception\\Support\\AcceptanceTester;\n",
    "\n",
    "class CommentsCest\n",
    "{\n",
    "    public function tryToTest(AcceptanceTester $I): void\n",
    "    {\n",
    "        $I->wantTo('see comments from DB displayed on page');\n",
    "\n",
    "        $I->seeNumRecords(0, \"comments\");\n",
    "\n",
    "        $randomNumber = rand();\n",
    "\n",
    "        $title = \"Title $randomNumber\";\n",
    "        $text = \"Some text $randomNumber\";\n",
    "\n",
    "        $id = $I->haveInDatabase('comments', ['title' => $title, 'text' => $text]);\n",
    "\n",
    "        $I->amOnPage('/comments');\n",
    "        $I->see('Comments', 'h1');\n",
    "        $I->seeLink($title, \"/comments/$id\");\n",
    "\n",
    "        $I->click($title);\n",
    "        $I->seeCurrentUrlEquals(\"/comments/$id\");\n",
    "\n",
    "        $I->see($title, 'h1');\n",
    "        $I->see($text, 'p');\n",
    "    }\n",
    "}\n",
    "\n",
    "```"
   ]
  },
  {
   "cell_type": "markdown",
   "metadata": {},
   "source": [
    "Start database:"
   ]
  },
  {
   "cell_type": "code",
   "execution_count": 6,
   "metadata": {},
   "outputs": [
    {
     "name": "stdout",
     "output_type": "stream",
     "text": [
      "cefa443bbe8b267edcdbbed7daf0f83e60f2cd98b147c7e0452778af2a698700\r\n"
     ]
    }
   ],
   "source": [
    "! docker run --name=mysql --net=host --rm --env MYSQL_ROOT_PASSWORD=root123 --env MYSQL_ROOT_HOST=% --env MYSQL_DATABASE=test --env MYSQL_USER=test --env MYSQL_PASSWORD=test123 -d mysql/mysql-server:8.0"
   ]
  },
  {
   "cell_type": "code",
   "execution_count": 7,
   "metadata": {},
   "outputs": [
    {
     "name": "stdout",
     "output_type": "stream",
     "text": [
      "Done.\r\n"
     ]
    }
   ],
   "source": [
    "! while ! timeout 1 bash -c \"echo > /dev/tcp/localhost/3306\" 2> /dev/null; do sleep 1; done; echo \"Done.\";"
   ]
  },
  {
   "cell_type": "markdown",
   "metadata": {},
   "source": [
    "Edit the code:"
   ]
  },
  {
   "cell_type": "code",
   "execution_count": 190,
   "metadata": {},
   "outputs": [
    {
     "name": "stdout",
     "output_type": "stream",
     "text": [
      "CompileCommand: exclude com/intellij/openapi/vfs/impl/FilePartNodeRoot.trieDescend bool exclude = true\n",
      "2022-11-30 21:49:13,744 [   2376] SEVERE - #c.i.d.LoadingState - Should be called at least in the state COMPONENTS_LOADED, the current state is: CONFIGURATION_STORE_INITIALIZED\n",
      "Current violators count: 1\n",
      "\n",
      "\n",
      "java.lang.Throwable\n",
      "\tat com.intellij.diagnostic.LoadingState.logStateError(LoadingState.java:52)\n",
      "\tat com.intellij.diagnostic.LoadingState.checkOccurred(LoadingState.java:48)\n",
      "\tat com.intellij.openapi.actionSystem.impl.ActionManagerImpl.<init>(ActionManagerImpl.java:133)\n",
      "\tat com.jetbrains.rdserver.ui.actionPopupMenu.BackendActionManager.<init>(BackendActionManager.kt:17)\n",
      "\tat java.base/jdk.internal.reflect.NativeConstructorAccessorImpl.newInstance0(Native Method)\n",
      "\tat java.base/jdk.internal.reflect.NativeConstructorAccessorImpl.newInstance(NativeConstructorAccessorImpl.java:77)\n",
      "\tat java.base/jdk.internal.reflect.DelegatingConstructorAccessorImpl.newInstance(DelegatingConstructorAccessorImpl.java:45)\n",
      "\tat java.base/java.lang.reflect.Constructor.newInstanceWithCaller(Constructor.java:499)\n",
      "\tat java.base/java.lang.reflect.Constructor.newInstance(Constructor.java:480)\n",
      "\tat com.intellij.serviceContainer.ConstructorInjectionKt.instantiateUsingPicoContainer(constructorInjection.kt:47)\n",
      "\tat com.intellij.serviceContainer.ComponentManagerImpl.instantiateClassWithConstructorInjection(ComponentManagerImpl.kt:890)\n",
      "\tat com.intellij.serviceContainer.ServiceComponentAdapter.createAndInitialize(ServiceComponentAdapter.kt:51)\n",
      "\tat com.intellij.serviceContainer.ServiceComponentAdapter.doCreateInstance(ServiceComponentAdapter.kt:41)\n",
      "\tat com.intellij.serviceContainer.BaseComponentAdapter.getInstanceUncached(BaseComponentAdapter.kt:119)\n",
      "\tat com.intellij.serviceContainer.BaseComponentAdapter.getInstance(BaseComponentAdapter.kt:73)\n",
      "\tat com.intellij.serviceContainer.BaseComponentAdapter.getInstance$default(BaseComponentAdapter.kt:66)\n",
      "\tat com.intellij.serviceContainer.ComponentManagerImpl.doGetService(ComponentManagerImpl.kt:609)\n",
      "\tat com.intellij.serviceContainer.ComponentManagerImpl.getService(ComponentManagerImpl.kt:583)\n",
      "\tat com.intellij.openapi.client.ClientAwareComponentManager.getFromSelfOrCurrentSession(ClientAwareComponentManager.kt:37)\n",
      "\tat com.intellij.openapi.client.ClientAwareComponentManager.getService(ClientAwareComponentManager.kt:22)\n",
      "\tat com.intellij.openapi.actionSystem.ActionManager.getInstance(ActionManager.java:29)\n",
      "\tat com.intellij.help.impl.KeymapGenerator.<clinit>(KeymapGenerator.java:33)\n",
      "\tat java.base/jdk.internal.misc.Unsafe.allocateInstance(Native Method)\n",
      "\tat java.base/java.lang.invoke.DirectMethodHandle.allocateInstance(DirectMethodHandle.java:520)\n",
      "\tat com.intellij.serviceContainer.ComponentManagerImpl.instantiateClass(ComponentManagerImpl.kt:844)\n",
      "\tat com.intellij.openapi.extensions.impl.XmlExtensionAdapter.instantiateClass(XmlExtensionAdapter.kt:79)\n",
      "\tat com.intellij.openapi.extensions.impl.XmlExtensionAdapter$SimpleConstructorInjectionAdapter.instantiateClass(XmlExtensionAdapter.kt:90)\n",
      "\tat com.intellij.openapi.extensions.impl.XmlExtensionAdapter.doCreateInstance(XmlExtensionAdapter.kt:50)\n",
      "\tat com.intellij.openapi.extensions.impl.XmlExtensionAdapter.createInstance(XmlExtensionAdapter.kt:31)\n",
      "\tat com.intellij.openapi.extensions.impl.ExtensionPointImpl.processAdapter(ExtensionPointImpl.java:447)\n",
      "\tat com.intellij.openapi.extensions.impl.ExtensionPointImpl.access$200(ExtensionPointImpl.java:33)\n",
      "\tat com.intellij.openapi.extensions.impl.ExtensionPointImpl$1.next(ExtensionPointImpl.java:355)\n",
      "\tat com.intellij.idea.ApplicationLoader.findAppStarter(ApplicationLoader.kt:595)\n",
      "\tat com.intellij.idea.ApplicationLoader.access$findAppStarter(ApplicationLoader.kt:1)\n",
      "\tat com.intellij.idea.ApplicationLoader$initApplication$block$3.apply(ApplicationLoader.kt:170)\n",
      "\tat com.intellij.idea.ApplicationLoader$initApplication$block$3.apply(ApplicationLoader.kt)\n",
      "\tat java.base/java.util.concurrent.CompletableFuture$UniCompose.tryFire(CompletableFuture.java:1150)\n",
      "\tat java.base/java.util.concurrent.CompletableFuture.postComplete(CompletableFuture.java:510)\n",
      "\tat java.base/java.util.concurrent.CompletableFuture.postFire(CompletableFuture.java:614)\n",
      "\tat java.base/java.util.concurrent.CompletableFuture$UniCompose.tryFire(CompletableFuture.java:1163)\n",
      "\tat java.base/java.util.concurrent.CompletableFuture$Completion.run(CompletableFuture.java:482)\n",
      "\tat com.intellij.idea.ApplicationLoader$initApplication$block$2.execute(ApplicationLoader.kt:142)\n",
      "\tat java.base/java.util.concurrent.CompletableFuture$UniCompletion.claim(CompletableFuture.java:572)\n",
      "\tat java.base/java.util.concurrent.CompletableFuture$UniCompose.tryFire(CompletableFuture.java:1147)\n",
      "\tat java.base/java.util.concurrent.CompletableFuture.postComplete(CompletableFuture.java:510)\n",
      "\tat java.base/java.util.concurrent.CompletableFuture.postFire(CompletableFuture.java:614)\n",
      "\tat java.base/java.util.concurrent.CompletableFuture$UniCompose.tryFire(CompletableFuture.java:1163)\n",
      "\tat java.base/java.util.concurrent.CompletableFuture$Completion.exec(CompletableFuture.java:483)\n",
      "\tat java.base/java.util.concurrent.ForkJoinTask.doExec(ForkJoinTask.java:373)\n",
      "\tat java.base/java.util.concurrent.ForkJoinPool$WorkQueue.topLevelExec(ForkJoinPool.java:1182)\n",
      "\tat java.base/java.util.concurrent.ForkJoinPool.scan(ForkJoinPool.java:1655)\n",
      "\tat java.base/java.util.concurrent.ForkJoinPool.runWorker(ForkJoinPool.java:1622)\n",
      "\tat java.base/java.util.concurrent.ForkJoinWorkerThread.run(ForkJoinWorkerThread.java:165)\n",
      "2022-11-30 21:49:13,755 [   2387] SEVERE - #c.i.d.LoadingState - PhpStorm 2022.2.3  Build #PS-222.4345.15\n",
      "2022-11-30 21:49:13,756 [   2388] SEVERE - #c.i.d.LoadingState - JDK: 17.0.4.1; VM: OpenJDK 64-Bit Server VM; Vendor: JetBrains s.r.o.\n",
      "2022-11-30 21:49:13,758 [   2390] SEVERE - #c.i.d.LoadingState - OS: Linux\n",
      "2022-11-30 21:49:14,331 [   2963] SEVERE - #c.i.d.LoadingState - Should be called at least in the state COMPONENTS_LOADED, the current state is: CONFIGURATION_STORE_INITIALIZED\n",
      "Current violators count: 2\n",
      "\n",
      "\n",
      "java.lang.Throwable\n",
      "\tat com.intellij.diagnostic.LoadingState.logStateError(LoadingState.java:52)\n",
      "\tat com.intellij.diagnostic.LoadingState.checkOccurred(LoadingState.java:48)\n",
      "\tat com.intellij.openapi.util.registry.Registry.getInstance(Registry.java:176)\n",
      "\tat com.intellij.openapi.util.registry.Registry.get(Registry.java:50)\n",
      "\tat com.intellij.openapi.util.registry.Registry.is(Registry.java:63)\n",
      "\tat com.intellij.execution.ExecutorRegistryImpl.isExecutorInMainGroup(ExecutorRegistryImpl.java:195)\n",
      "\tat com.intellij.execution.ExecutorRegistryImpl.initExecutorActions(ExecutorRegistryImpl.java:127)\n",
      "\tat com.intellij.execution.ExecutorRegistryImpl.init(ExecutorRegistryImpl.java:278)\n",
      "\tat com.intellij.execution.ExecutorRegistryImpl$ExecutorRegistryActionConfigurationTuner.customize(ExecutorRegistryImpl.java:92)\n",
      "\tat com.intellij.openapi.actionSystem.impl.ActionManagerImpl.lambda$new$0(ActionManagerImpl.java:141)\n",
      "\tat com.intellij.openapi.extensions.impl.ExtensionProcessingHelper.forEachExtensionSafe(ExtensionProcessingHelper.java:34)\n",
      "\tat com.intellij.openapi.extensions.ExtensionPointName.forEachExtensionSafe(ExtensionPointName.java:46)\n",
      "\tat com.intellij.openapi.actionSystem.impl.ActionManagerImpl.<init>(ActionManagerImpl.java:141)\n",
      "\tat com.jetbrains.rdserver.ui.actionPopupMenu.BackendActionManager.<init>(BackendActionManager.kt:17)\n",
      "\tat java.base/jdk.internal.reflect.NativeConstructorAccessorImpl.newInstance0(Native Method)\n",
      "\tat java.base/jdk.internal.reflect.NativeConstructorAccessorImpl.newInstance(NativeConstructorAccessorImpl.java:77)\n",
      "\tat java.base/jdk.internal.reflect.DelegatingConstructorAccessorImpl.newInstance(DelegatingConstructorAccessorImpl.java:45)\n",
      "\tat java.base/java.lang.reflect.Constructor.newInstanceWithCaller(Constructor.java:499)\n",
      "\tat java.base/java.lang.reflect.Constructor.newInstance(Constructor.java:480)\n",
      "\tat com.intellij.serviceContainer.ConstructorInjectionKt.instantiateUsingPicoContainer(constructorInjection.kt:47)\n",
      "\tat com.intellij.serviceContainer.ComponentManagerImpl.instantiateClassWithConstructorInjection(ComponentManagerImpl.kt:890)\n",
      "\tat com.intellij.serviceContainer.ServiceComponentAdapter.createAndInitialize(ServiceComponentAdapter.kt:51)\n",
      "\tat com.intellij.serviceContainer.ServiceComponentAdapter.doCreateInstance(ServiceComponentAdapter.kt:41)\n",
      "\tat com.intellij.serviceContainer.BaseComponentAdapter.getInstanceUncached(BaseComponentAdapter.kt:119)\n",
      "\tat com.intellij.serviceContainer.BaseComponentAdapter.getInstance(BaseComponentAdapter.kt:73)\n",
      "\tat com.intellij.serviceContainer.BaseComponentAdapter.getInstance$default(BaseComponentAdapter.kt:66)\n",
      "\tat com.intellij.serviceContainer.ComponentManagerImpl.doGetService(ComponentManagerImpl.kt:609)\n",
      "\tat com.intellij.serviceContainer.ComponentManagerImpl.getService(ComponentManagerImpl.kt:583)\n",
      "\tat com.intellij.openapi.client.ClientAwareComponentManager.getFromSelfOrCurrentSession(ClientAwareComponentManager.kt:37)\n",
      "\tat com.intellij.openapi.client.ClientAwareComponentManager.getService(ClientAwareComponentManager.kt:22)\n",
      "\tat com.intellij.openapi.actionSystem.ActionManager.getInstance(ActionManager.java:29)\n",
      "\tat com.intellij.help.impl.KeymapGenerator.<clinit>(KeymapGenerator.java:33)\n",
      "\tat java.base/jdk.internal.misc.Unsafe.allocateInstance(Native Method)\n",
      "\tat java.base/java.lang.invoke.DirectMethodHandle.allocateInstance(DirectMethodHandle.java:520)\n",
      "\tat com.intellij.serviceContainer.ComponentManagerImpl.instantiateClass(ComponentManagerImpl.kt:844)\n",
      "\tat com.intellij.openapi.extensions.impl.XmlExtensionAdapter.instantiateClass(XmlExtensionAdapter.kt:79)\n",
      "\tat com.intellij.openapi.extensions.impl.XmlExtensionAdapter$SimpleConstructorInjectionAdapter.instantiateClass(XmlExtensionAdapter.kt:90)\n",
      "\tat com.intellij.openapi.extensions.impl.XmlExtensionAdapter.doCreateInstance(XmlExtensionAdapter.kt:50)\n",
      "\tat com.intellij.openapi.extensions.impl.XmlExtensionAdapter.createInstance(XmlExtensionAdapter.kt:31)\n",
      "\tat com.intellij.openapi.extensions.impl.ExtensionPointImpl.processAdapter(ExtensionPointImpl.java:447)\n",
      "\tat com.intellij.openapi.extensions.impl.ExtensionPointImpl.access$200(ExtensionPointImpl.java:33)\n",
      "\tat com.intellij.openapi.extensions.impl.ExtensionPointImpl$1.next(ExtensionPointImpl.java:355)\n",
      "\tat com.intellij.idea.ApplicationLoader.findAppStarter(ApplicationLoader.kt:595)\n",
      "\tat com.intellij.idea.ApplicationLoader.access$findAppStarter(ApplicationLoader.kt:1)\n",
      "\tat com.intellij.idea.ApplicationLoader$initApplication$block$3.apply(ApplicationLoader.kt:170)\n",
      "\tat com.intellij.idea.ApplicationLoader$initApplication$block$3.apply(ApplicationLoader.kt)\n",
      "\tat java.base/java.util.concurrent.CompletableFuture$UniCompose.tryFire(CompletableFuture.java:1150)\n",
      "\tat java.base/java.util.concurrent.CompletableFuture.postComplete(CompletableFuture.java:510)\n",
      "\tat java.base/java.util.concurrent.CompletableFuture.postFire(CompletableFuture.java:614)\n",
      "\tat java.base/java.util.concurrent.CompletableFuture$UniCompose.tryFire(CompletableFuture.java:1163)\n",
      "\tat java.base/java.util.concurrent.CompletableFuture$Completion.run(CompletableFuture.java:482)\n",
      "\tat com.intellij.idea.ApplicationLoader$initApplication$block$2.execute(ApplicationLoader.kt:142)\n",
      "\tat java.base/java.util.concurrent.CompletableFuture$UniCompletion.claim(CompletableFuture.java:572)\n",
      "\tat java.base/java.util.concurrent.CompletableFuture$UniCompose.tryFire(CompletableFuture.java:1147)\n",
      "\tat java.base/java.util.concurrent.CompletableFuture.postComplete(CompletableFuture.java:510)\n",
      "\tat java.base/java.util.concurrent.CompletableFuture.postFire(CompletableFuture.java:614)\n",
      "\tat java.base/java.util.concurrent.CompletableFuture$UniCompose.tryFire(CompletableFuture.java:1163)\n",
      "\tat java.base/java.util.concurrent.CompletableFuture$Completion.exec(CompletableFuture.java:483)\n",
      "\tat java.base/java.util.concurrent.ForkJoinTask.doExec(ForkJoinTask.java:373)\n",
      "\tat java.base/java.util.concurrent.ForkJoinPool$WorkQueue.topLevelExec(ForkJoinPool.java:1182)\n",
      "\tat java.base/java.util.concurrent.ForkJoinPool.scan(ForkJoinPool.java:1655)\n",
      "\tat java.base/java.util.concurrent.ForkJoinPool.runWorker(ForkJoinPool.java:1622)\n",
      "\tat java.base/java.util.concurrent.ForkJoinWorkerThread.run(ForkJoinWorkerThread.java:165)\n",
      "2022-11-30 21:49:14,335 [   2967] SEVERE - #c.i.d.LoadingState - PhpStorm 2022.2.3  Build #PS-222.4345.15\n",
      "2022-11-30 21:49:14,337 [   2969] SEVERE - #c.i.d.LoadingState - JDK: 17.0.4.1; VM: OpenJDK 64-Bit Server VM; Vendor: JetBrains s.r.o.\n",
      "2022-11-30 21:49:14,337 [   2969] SEVERE - #c.i.d.LoadingState - OS: Linux\n",
      "2022-11-30 21:49:14,358 [   2990] SEVERE - #c.i.d.LoadingState - Should be called at least in the state COMPONENTS_LOADED, the current state is: CONFIGURATION_STORE_INITIALIZED\n",
      "Current violators count: 3\n",
      "\n",
      "\n",
      "java.lang.Throwable\n",
      "\tat com.intellij.diagnostic.LoadingState.logStateError(LoadingState.java:52)\n",
      "\tat com.intellij.diagnostic.LoadingState.checkOccurred(LoadingState.java:48)\n",
      "\tat com.intellij.openapi.util.registry.Registry.getInstance(Registry.java:176)\n",
      "\tat com.intellij.openapi.util.registry.Registry.get(Registry.java:50)\n",
      "\tat com.intellij.openapi.util.registry.Registry.is(Registry.java:63)\n",
      "\tat com.intellij.openapi.wm.impl.GlobalMenuLinux._loadLibrary(GlobalMenuLinux.java:797)\n",
      "\tat com.intellij.openapi.wm.impl.GlobalMenuLinux.<clinit>(GlobalMenuLinux.java:164)\n",
      "\tat com.intellij.openapi.wm.impl.GlobalMenuLinux$MyActionTuner.customize(GlobalMenuLinux.java:230)\n",
      "\tat com.intellij.openapi.actionSystem.impl.ActionManagerImpl.lambda$new$0(ActionManagerImpl.java:141)\n",
      "\tat com.intellij.openapi.extensions.impl.ExtensionProcessingHelper.forEachExtensionSafe(ExtensionProcessingHelper.java:34)\n",
      "\tat com.intellij.openapi.extensions.ExtensionPointName.forEachExtensionSafe(ExtensionPointName.java:46)\n",
      "\tat com.intellij.openapi.actionSystem.impl.ActionManagerImpl.<init>(ActionManagerImpl.java:141)\n",
      "\tat com.jetbrains.rdserver.ui.actionPopupMenu.BackendActionManager.<init>(BackendActionManager.kt:17)\n",
      "\tat java.base/jdk.internal.reflect.NativeConstructorAccessorImpl.newInstance0(Native Method)\n",
      "\tat java.base/jdk.internal.reflect.NativeConstructorAccessorImpl.newInstance(NativeConstructorAccessorImpl.java:77)\n",
      "\tat java.base/jdk.internal.reflect.DelegatingConstructorAccessorImpl.newInstance(DelegatingConstructorAccessorImpl.java:45)\n",
      "\tat java.base/java.lang.reflect.Constructor.newInstanceWithCaller(Constructor.java:499)\n",
      "\tat java.base/java.lang.reflect.Constructor.newInstance(Constructor.java:480)\n",
      "\tat com.intellij.serviceContainer.ConstructorInjectionKt.instantiateUsingPicoContainer(constructorInjection.kt:47)\n",
      "\tat com.intellij.serviceContainer.ComponentManagerImpl.instantiateClassWithConstructorInjection(ComponentManagerImpl.kt:890)\n",
      "\tat com.intellij.serviceContainer.ServiceComponentAdapter.createAndInitialize(ServiceComponentAdapter.kt:51)\n",
      "\tat com.intellij.serviceContainer.ServiceComponentAdapter.doCreateInstance(ServiceComponentAdapter.kt:41)\n",
      "\tat com.intellij.serviceContainer.BaseComponentAdapter.getInstanceUncached(BaseComponentAdapter.kt:119)\n",
      "\tat com.intellij.serviceContainer.BaseComponentAdapter.getInstance(BaseComponentAdapter.kt:73)\n",
      "\tat com.intellij.serviceContainer.BaseComponentAdapter.getInstance$default(BaseComponentAdapter.kt:66)\n",
      "\tat com.intellij.serviceContainer.ComponentManagerImpl.doGetService(ComponentManagerImpl.kt:609)\n",
      "\tat com.intellij.serviceContainer.ComponentManagerImpl.getService(ComponentManagerImpl.kt:583)\n",
      "\tat com.intellij.openapi.client.ClientAwareComponentManager.getFromSelfOrCurrentSession(ClientAwareComponentManager.kt:37)\n",
      "\tat com.intellij.openapi.client.ClientAwareComponentManager.getService(ClientAwareComponentManager.kt:22)\n",
      "\tat com.intellij.openapi.actionSystem.ActionManager.getInstance(ActionManager.java:29)\n",
      "\tat com.intellij.help.impl.KeymapGenerator.<clinit>(KeymapGenerator.java:33)\n",
      "\tat java.base/jdk.internal.misc.Unsafe.allocateInstance(Native Method)\n",
      "\tat java.base/java.lang.invoke.DirectMethodHandle.allocateInstance(DirectMethodHandle.java:520)\n",
      "\tat com.intellij.serviceContainer.ComponentManagerImpl.instantiateClass(ComponentManagerImpl.kt:844)\n",
      "\tat com.intellij.openapi.extensions.impl.XmlExtensionAdapter.instantiateClass(XmlExtensionAdapter.kt:79)\n",
      "\tat com.intellij.openapi.extensions.impl.XmlExtensionAdapter$SimpleConstructorInjectionAdapter.instantiateClass(XmlExtensionAdapter.kt:90)\n",
      "\tat com.intellij.openapi.extensions.impl.XmlExtensionAdapter.doCreateInstance(XmlExtensionAdapter.kt:50)\n",
      "\tat com.intellij.openapi.extensions.impl.XmlExtensionAdapter.createInstance(XmlExtensionAdapter.kt:31)\n",
      "\tat com.intellij.openapi.extensions.impl.ExtensionPointImpl.processAdapter(ExtensionPointImpl.java:447)\n",
      "\tat com.intellij.openapi.extensions.impl.ExtensionPointImpl.access$200(ExtensionPointImpl.java:33)\n",
      "\tat com.intellij.openapi.extensions.impl.ExtensionPointImpl$1.next(ExtensionPointImpl.java:355)\n",
      "\tat com.intellij.idea.ApplicationLoader.findAppStarter(ApplicationLoader.kt:595)\n",
      "\tat com.intellij.idea.ApplicationLoader.access$findAppStarter(ApplicationLoader.kt:1)\n",
      "\tat com.intellij.idea.ApplicationLoader$initApplication$block$3.apply(ApplicationLoader.kt:170)\n",
      "\tat com.intellij.idea.ApplicationLoader$initApplication$block$3.apply(ApplicationLoader.kt)\n",
      "\tat java.base/java.util.concurrent.CompletableFuture$UniCompose.tryFire(CompletableFuture.java:1150)\n",
      "\tat java.base/java.util.concurrent.CompletableFuture.postComplete(CompletableFuture.java:510)\n",
      "\tat java.base/java.util.concurrent.CompletableFuture.postFire(CompletableFuture.java:614)\n",
      "\tat java.base/java.util.concurrent.CompletableFuture$UniCompose.tryFire(CompletableFuture.java:1163)\n",
      "\tat java.base/java.util.concurrent.CompletableFuture$Completion.run(CompletableFuture.java:482)\n",
      "\tat com.intellij.idea.ApplicationLoader$initApplication$block$2.execute(ApplicationLoader.kt:142)\n",
      "\tat java.base/java.util.concurrent.CompletableFuture$UniCompletion.claim(CompletableFuture.java:572)\n",
      "\tat java.base/java.util.concurrent.CompletableFuture$UniCompose.tryFire(CompletableFuture.java:1147)\n",
      "\tat java.base/java.util.concurrent.CompletableFuture.postComplete(CompletableFuture.java:510)\n",
      "\tat java.base/java.util.concurrent.CompletableFuture.postFire(CompletableFuture.java:614)\n",
      "\tat java.base/java.util.concurrent.CompletableFuture$UniCompose.tryFire(CompletableFuture.java:1163)\n",
      "\tat java.base/java.util.concurrent.CompletableFuture$Completion.exec(CompletableFuture.java:483)\n",
      "\tat java.base/java.util.concurrent.ForkJoinTask.doExec(ForkJoinTask.java:373)\n",
      "\tat java.base/java.util.concurrent.ForkJoinPool$WorkQueue.topLevelExec(ForkJoinPool.java:1182)\n",
      "\tat java.base/java.util.concurrent.ForkJoinPool.scan(ForkJoinPool.java:1655)\n",
      "\tat java.base/java.util.concurrent.ForkJoinPool.runWorker(ForkJoinPool.java:1622)\n",
      "\tat java.base/java.util.concurrent.ForkJoinWorkerThread.run(ForkJoinWorkerThread.java:165)\n",
      "2022-11-30 21:49:14,363 [   2995] SEVERE - #c.i.d.LoadingState - PhpStorm 2022.2.3  Build #PS-222.4345.15\n",
      "2022-11-30 21:49:14,364 [   2996] SEVERE - #c.i.d.LoadingState - JDK: 17.0.4.1; VM: OpenJDK 64-Bit Server VM; Vendor: JetBrains s.r.o.\n",
      "2022-11-30 21:49:14,365 [   2997] SEVERE - #c.i.d.LoadingState - OS: Linux\n"
     ]
    },
    {
     "name": "stdout",
     "output_type": "stream",
     "text": [
      "Info  | RdCoroutineScope          | 13:JobScheduler FJ pool 1/3 | RdCoroutineHost overridden \n",
      "2022-11-30 21:49:20,095 [   8727]   WARN - #c.i.o.a.i.ActionUpdater - 398 ms to grab EDT for CWMTelephonyGroup#update@NavBarToolbar (com.jetbrains.rd.platform.codeWithMe.telephony.CWMTelephonyGroup)\n",
      "2022-11-30 21:49:23,537 [  12169]   WARN - #c.i.o.a.i.ActionUpdater - 3038 ms to grab EDT for UndoAction#update@MainMenu (com.intellij.ide.actions.UndoAction)\n",
      "2022-11-30 21:49:23,584 [  12216]   WARN - #c.i.o.a.i.ActionUpdater - 3038 ms total to grab EDT 1 times to expand DefaultActionGroup@MainMenu (com.intellij.openapi.actionSystem.DefaultActionGroup). Use `ActionUpdateThread.BGT`.\n",
      "2022-11-30 21:49:25,796 [  14428]   WARN - #c.i.o.a.e.ActionUtil - Can not find action by id CompileDirty\n",
      "2022-11-30 21:49:26,224 [  14856]   WARN - #c.i.u.x.Binding - no accessors for com.jetbrains.php.testFramework.PhpTestFrameworkType\n",
      "2022-11-30 21:49:32,687 [  21319]   WARN - #c.i.o.a.i.ActionUpdater - 215 ms to grab EDT for GitCommitWithStagingAreaAction#update@NavBarToolbar (git4idea.index.actions.GitCommitWithStagingAreaAction)\n",
      "2022-11-30 21:49:38,068 [  26700]   WARN - #c.i.o.a.i.ActionUpdater - 262 ms to grab EDT for CWMTelephonyGroup#update@NavBarToolbar (com.jetbrains.rd.platform.codeWithMe.telephony.CWMTelephonyGroup)\n",
      "2022-11-30 21:49:44,715 [  33347]   WARN - #c.j.p.c.l.PhpIncludePathManager - Frequent root change. Source class com.jetbrains.php.config.library.PhpIncludePathManager, delta 65.\n",
      "Old roots: [file:///home/student/php_2022_adam_lewinski/08_laravel/02_exercise/project/vendor/behat/gherkin, file:///home/student/php_2022_adam_lewinski/08_laravel/02_exercise/project/vendor/brick/math, file:///home/student/php_2022_adam_lewinski/08_laravel/02_exercise/project/vendor/codeception/codeception, file:///home/student/php_2022_adam_lewinski/08_laravel/02_exercise/project/vendor/codeception/lib-asserts, file:///home/student/php_2022_adam_lewinski/08_laravel/02_exercise/project/vendor/codeception/lib-innerbrowser, file:///home/student/php_2022_adam_lewinski/08_laravel/02_exercise/project/vendor/codeception/lib-web, file:///home/student/php_2022_adam_lewinski/08_laravel/02_exercise/project/vendor/codeception/module-asserts, file:///home/student/php_2022_adam_lewinski/08_laravel/02_exercise/project/vendor/codeception/module-db, file:///home/student/php_2022_adam_lewinski/08_laravel/02_exercise/project/vendor/codeception/module-phpbrowser, file:///home/student/php_2022_adam_lewinski/08_laravel/02_exercise/project/vendor/codeception/stub, file:///home/student/php_2022_adam_lewinski/08_laravel/02_exercise/project/vendor/composer, file:///home/student/php_2022_adam_lewinski/08_laravel/02_exercise/project/vendor/dflydev/dot-access-data, file:///home/student/php_2022_adam_lewinski/08_laravel/02_exercise/project/vendor/doctrine/annotations, file:///home/student/php_2022_adam_lewinski/08_laravel/02_exercise/project/vendor/doctrine/inflector, file:///home/student/php_2022_adam_lewinski/08_laravel/02_exercise/project/vendor/doctrine/instantiator, file:///home/student/php_2022_adam_lewinski/08_laravel/02_exercise/project/vendor/doctrine/lexer, file:///home/student/php_2022_adam_lewinski/08_laravel/02_exercise/project/vendor/dragonmantank/cron-expression, file:///home/student/php_2022_adam_lewinski/08_laravel/02_exercise/project/vendor/egulias/email-validator, file:///home/student/php_2022_adam_lewinski/08_laravel/02_exercise/project/vendor/fakerphp/faker, file:///home/student/php_2022_adam_lewinski/08_laravel/02_exercise/project/vendor/filp/whoops, file:///home/student/php_2022_adam_lewinski/08_laravel/02_exercise/project/vendor/friendsofphp/php-cs-fixer, file:///home/student/php_2022_adam_lewinski/08_laravel/02_exercise/project/vendor/fruitcake/php-cors, file:///home/student/php_2022_adam_lewinski/08_laravel/02_exercise/project/vendor/graham-campbell/result-type, file:///home/student/php_2022_adam_lewinski/08_laravel/02_exercise/project/vendor/guzzlehttp/guzzle, file:///home/student/php_2022_adam_lewinski/08_laravel/02_exercise/project/vendor/guzzlehttp/promises, file:///home/student/php_2022_adam_lewinski/08_laravel/02_exercise/project/vendor/guzzlehttp/psr7, file:///home/student/php_2022_adam_lewinski/08_laravel/02_exercise/project/vendor/hamcrest/hamcrest-php, file:///home/student/php_2022_adam_lewinski/08_laravel/02_exercise/project/vendor/laravel/framework, file:///home/student/php_2022_adam_lewinski/08_laravel/02_exercise/project/vendor/laravel/pint, file:///home/student/php_2022_adam_lewinski/08_laravel/02_exercise/project/vendor/laravel/sail, file:///home/student/php_2022_adam_lewinski/08_laravel/02_exercise/project/vendor/laravel/sanctum, file:///home/student/php_2022_adam_lewinski/08_laravel/02_exercise/project/vendor/laravel/serializable-closure, file:///home/student/php_2022_adam_lewinski/08_laravel/02_exercise/project/vendor/laravel/tinker, file:///home/student/php_2022_adam_lewinski/08_laravel/02_exercise/project/vendor/league/commonmark, file:///home/student/php_2022_adam_lewinski/08_laravel/02_exercise/project/vendor/league/config, file:///home/student/php_2022_adam_lewinski/08_laravel/02_exercise/project/vendor/league/flysystem, file:///home/student/php_2022_adam_lewinski/08_laravel/02_exercise/project/vendor/league/mime-type-detection, file:///home/student/php_2022_adam_lewinski/08_laravel/02_exercise/project/vendor/masterminds/html5, file:///home/student/php_2022_adam_lewinski/08_laravel/02_exercise/project/vendor/mockery/mockery, file:///home/student/php_2022_adam_lewinski/08_laravel/02_exercise/project/vendor/monolog/monolog, file:///home/student/php_2022_adam_lewinski/08_laravel/02_exercise/project/vendor/myclabs/deep-copy, file:///home/student/php_2022_adam_lewinski/08_laravel/02_exercise/project/vendor/nesbot/carbon, file:///home/student/php_2022_adam_lewinski/08_laravel/02_exercise/project/vendor/nette/schema, file:///home/student/php_2022_adam_lewinski/08_laravel/02_exercise/project/vendor/nette/utils, file:///home/student/php_2022_adam_lewinski/08_laravel/02_exercise/project/vendor/nikic/php-parser, file:///home/student/php_2022_adam_lewinski/08_laravel/02_exercise/project/vendor/nunomaduro/collision, file:///home/student/php_2022_adam_lewinski/08_laravel/02_exercise/project/vendor/nunomaduro/larastan, file:///home/student/php_2022_adam_lewinski/08_laravel/02_exercise/project/vendor/nunomaduro/termwind, file:///home/student/php_2022_adam_lewinski/08_laravel/02_exercise/project/vendor/phar-io/manifest, file:///home/student/php_2022_adam_lewinski/08_laravel/02_exercise/project/vendor/phar-io/version, file:///home/student/php_2022_adam_lewinski/08_laravel/02_exercise/project/vendor/phpmyadmin/sql-parser, file:///home/student/php_2022_adam_lewinski/08_laravel/02_exercise/project/vendor/phpoption/phpoption, file:///home/student/php_2022_adam_lewinski/08_laravel/02_exercise/project/vendor/phpstan/phpstan, file:///home/student/php_2022_adam_lewinski/08_laravel/02_exercise/project/vendor/phpunit/php-code-coverage, file:///home/student/php_2022_adam_lewinski/08_laravel/02_exercise/project/vendor/phpunit/php-file-iterator, file:///home/student/php_2022_adam_lewinski/08_laravel/02_exercise/project/vendor/phpunit/php-invoker, file:///home/student/php_2022_adam_lewinski/08_laravel/02_exercise/project/vendor/phpunit/php-text-template, file:///home/student/php_2022_adam_lewinski/08_laravel/02_exercise/project/vendor/phpunit/php-timer, file:///home/student/php_2022_adam_lewinski/08_laravel/02_exercise/project/vendor/phpunit/phpunit, file:///home/student/php_2022_adam_lewinski/08_laravel/02_exercise/project/vendor/psr/cache, file:///home/student/php_2022_adam_lewinski/08_laravel/02_exercise/project/vendor/psr/container, file:///home/student/php_2022_adam_lewinski/08_laravel/02_exercise/project/vendor/psr/event-dispatcher, file:///home/student/php_2022_adam_lewinski/08_laravel/02_exercise/project/vendor/psr/http-client, file:///home/student/php_2022_adam_lewinski/08_laravel/02_exercise/project/vendor/psr/http-factory, file:///home/student/php_2022_adam_lewinski/08_laravel/02_exercise/project/vendor/psr/http-message, file:///home/student/php_2022_adam_lewinski/08_laravel/02_exercise/project/vendor/psr/log, file:///home/student/php_2022_adam_lewinski/08_laravel/02_exercise/project/vendor/psr/simple-cache, file:///home/student/php_2022_adam_lewinski/08_laravel/02_exercise/project/vendor/psy/psysh, file:///home/student/php_2022_adam_lewinski/08_laravel/02_exercise/project/vendor/ralouphie/getallheaders, file:///home/student/php_2022_adam_lewinski/08_laravel/02_exercise/project/vendor/ramsey/collection, file:///home/student/php_2022_adam_lewinski/08_laravel/02_exercise/project/vendor/ramsey/uuid, file:///home/student/php_2022_adam_lewinski/08_laravel/02_exercise/project/vendor/sebastian/cli-parser, file:///home/student/php_2022_adam_lewinski/08_laravel/02_exercise/project/vendor/sebastian/code-unit, file:///home/student/php_2022_adam_lewinski/08_laravel/02_exercise/project/vendor/sebastian/code-unit-reverse-lookup, file:///home/student/php_2022_adam_lewinski/08_laravel/02_exercise/project/vendor/sebastian/comparator, file:///home/student/php_2022_adam_lewinski/08_laravel/02_exercise/project/vendor/sebastian/complexity, file:///home/student/php_2022_adam_lewinski/08_laravel/02_exercise/project/vendor/sebastian/diff, file:///home/student/php_2022_adam_lewinski/08_laravel/02_exercise/project/vendor/sebastian/environment, file:///home/student/php_2022_adam_lewinski/08_laravel/02_exercise/project/vendor/sebastian/exporter, file:///home/student/php_2022_adam_lewinski/08_laravel/02_exercise/project/vendor/sebastian/global-state, file:///home/student/php_2022_adam_lewinski/08_laravel/02_exercise/project/vendor/sebastian/lines-of-code, file:///home/student/php_2022_adam_lewinski/08_laravel/02_exercise/project/vendor/sebastian/object-enumerator, file:///home/student/php_2022_adam_lewinski/08_laravel/02_exercise/project/vendor/sebastian/object-reflector, file:///home/student/php_2022_adam_lewinski/08_laravel/02_exercise/project/vendor/sebastian/phpcpd, file:///home/student/php_2022_adam_lewinski/08_laravel/02_exercise/project/vendor/sebastian/recursion-context, file:///home/student/php_2022_adam_lewinski/08_laravel/02_exercise/project/vendor/sebastian/resource-operations, file:///home/student/php_2022_adam_lewinski/08_laravel/02_exercise/project/vendor/sebastian/type, file:///home/student/php_2022_adam_lewinski/08_laravel/02_exercise/project/vendor/sebastian/version, file:///home/student/php_2022_adam_lewinski/08_laravel/02_exercise/project/vendor/spatie/backtrace, file:///home/student/php_2022_adam_lewinski/08_laravel/02_exercise/project/vendor/spatie/flare-client-php, file:///home/student/php_2022_adam_lewinski/08_laravel/02_exercise/project/vendor/spatie/ignition, file:///home/student/php_2022_adam_lewinski/08_laravel/02_exercise/project/vendor/spatie/laravel-ignition, file:///home/student/php_2022_adam_lewinski/08_laravel/02_exercise/project/vendor/symfony/browser-kit, file:///home/student/php_2022_adam_lewinski/08_laravel/02_exercise/project/vendor/symfony/console, file:///home/student/php_2022_adam_lewinski/08_laravel/02_exercise/project/vendor/symfony/css-selector, file:///home/student/php_2022_adam_lewinski/08_laravel/02_exercise/project/vendor/symfony/deprecation-contracts, file:///home/student/php_2022_adam_lewinski/08_laravel/02_exercise/project/vendor/symfony/dom-crawler, file:///home/student/php_2022_adam_lewinski/08_laravel/02_exercise/project/vendor/symfony/error-handler, file:///home/student/php_2022_adam_lewinski/08_laravel/02_exercise/project/vendor/symfony/event-dispatcher, file:///home/student/php_2022_adam_lewinski/08_laravel/02_exercise/project/vendor/symfony/event-dispatcher-contracts, file:///home/student/php_2022_adam_lewinski/08_laravel/02_exercise/project/vendor/symfony/filesystem, file:///home/student/php_2022_adam_lewinski/08_laravel/02_exercise/project/vendor/symfony/finder, file:///home/student/php_2022_adam_lewinski/08_laravel/02_exercise/project/vendor/symfony/http-foundation, file:///home/student/php_2022_adam_lewinski/08_laravel/02_exercise/project/vendor/symfony/http-kernel, file:///home/student/php_2022_adam_lewinski/08_laravel/02_exercise/project/vendor/symfony/mailer, file:///home/student/php_2022_adam_lewinski/08_laravel/02_exercise/project/vendor/symfony/mime, file:///home/student/php_2022_adam_lewinski/08_laravel/02_exercise/project/vendor/symfony/options-resolver, file:///home/student/php_2022_adam_lewinski/08_laravel/02_exercise/project/vendor/symfony/polyfill-ctype, file:///home/student/php_2022_adam_lewinski/08_laravel/02_exercise/project/vendor/symfony/polyfill-intl-grapheme, file:///home/student/php_2022_adam_lewinski/08_laravel/02_exercise/project/vendor/symfony/polyfill-intl-idn, file:///home/student/php_2022_adam_lewinski/08_laravel/02_exercise/project/vendor/symfony/polyfill-intl-normalizer, file:///home/student/php_2022_adam_lewinski/08_laravel/02_exercise/project/vendor/symfony/polyfill-mbstring, file:///home/student/php_2022_adam_lewinski/08_laravel/02_exercise/project/vendor/symfony/polyfill-php72, file:///home/student/php_2022_adam_lewinski/08_laravel/02_exercise/project/vendor/symfony/polyfill-php80, file:///home/student/php_2022_adam_lewinski/08_laravel/02_exercise/project/vendor/symfony/polyfill-php81, file:///home/student/php_2022_adam_lewinski/08_laravel/02_exercise/project/vendor/symfony/polyfill-uuid, file:///home/student/php_2022_adam_lewinski/08_laravel/02_exercise/project/vendor/symfony/process, file:///home/student/php_2022_adam_lewinski/08_laravel/02_exercise/project/vendor/symfony/routing, file:///home/student/php_2022_adam_lewinski/08_laravel/02_exercise/project/vendor/symfony/service-contracts, file:///home/student/php_2022_adam_lewinski/08_laravel/02_exercise/project/vendor/symfony/stopwatch, file:///home/student/php_2022_adam_lewinski/08_laravel/02_exercise/project/vendor/symfony/string, file:///home/student/php_2022_adam_lewinski/08_laravel/02_exercise/project/vendor/symfony/translation, file:///home/student/php_2022_adam_lewinski/08_laravel/02_exercise/project/vendor/symfony/translation-contracts, file:///home/student/php_2022_adam_lewinski/08_laravel/02_exercise/project/vendor/symfony/uid, file:///home/student/php_2022_adam_lewinski/08_laravel/02_exercise/project/vendor/symfony/var-dumper, file:///home/student/php_2022_adam_lewinski/08_laravel/02_exercise/project/vendor/symfony/yaml, file:///home/student/php_2022_adam_lewinski/08_laravel/02_exercise/project/vendor/theseer/tokenizer, file:///home/student/php_2022_adam_lewinski/08_laravel/02_exercise/project/vendor/tijsverkoyen/css-to-inline-styles, file:///home/student/php_2022_adam_lewinski/08_laravel/02_exercise/project/vendor/vlucas/phpdotenv, file:///home/student/php_2022_adam_lewinski/08_laravel/02_exercise/project/vendor/voku/portable-ascii, file:///home/student/php_2022_adam_lewinski/08_laravel/02_exercise/project/vendor/webmozart/assert]\n",
      "New Roots: [file:///home/student/php_2022_adam_lewinski/08_laravel/02_exercise/project/vendor/behat/gherkin, file:///home/student/php_2022_adam_lewinski/08_laravel/02_exercise/project/vendor/brick/math, file:///home/student/php_2022_adam_lewinski/08_laravel/02_exercise/project/vendor/codeception/codeception, file:///home/student/php_2022_adam_lewinski/08_laravel/02_exercise/project/vendor/codeception/lib-asserts, file:///home/student/php_2022_adam_lewinski/08_laravel/02_exercise/project/vendor/codeception/lib-innerbrowser, file:///home/student/php_2022_adam_lewinski/08_laravel/02_exercise/project/vendor/codeception/lib-web, file:///home/student/php_2022_adam_lewinski/08_laravel/02_exercise/project/vendor/codeception/module-asserts, file:///home/student/php_2022_adam_lewinski/08_laravel/02_exercise/project/vendor/codeception/module-db, file:///home/student/php_2022_adam_lewinski/08_laravel/02_exercise/project/vendor/codeception/module-filesystem, file:///home/student/php_2022_adam_lewinski/08_laravel/02_exercise/project/vendor/codeception/module-phpbrowser, file:///home/student/php_2022_adam_lewinski/08_laravel/02_exercise/project/vendor/codeception/stub, file:///home/student/php_2022_adam_lewinski/08_laravel/02_exercise/project/vendor/composer, file:///home/student/php_2022_adam_lewinski/08_laravel/02_exercise/project/vendor/dflydev/dot-access-data, file:///home/student/php_2022_adam_lewinski/08_laravel/02_exercise/project/vendor/doctrine/annotations, file:///home/student/php_2022_adam_lewinski/08_laravel/02_exercise/project/vendor/doctrine/inflector, file:///home/student/php_2022_adam_lewinski/08_laravel/02_exercise/project/vendor/doctrine/instantiator, file:///home/student/php_2022_adam_lewinski/08_laravel/02_exercise/project/vendor/doctrine/lexer, file:///home/student/php_2022_adam_lewinski/08_laravel/02_exercise/project/vendor/dragonmantank/cron-expression, file:///home/student/php_2022_adam_lewinski/08_laravel/02_exercise/project/vendor/egulias/email-validator, file:///home/student/php_2022_adam_lewinski/08_laravel/02_exercise/project/vendor/fakerphp/faker, file:///home/student/php_2022_adam_lewinski/08_laravel/02_exercise/project/vendor/filp/whoops, file:///home/student/php_2022_adam_lewinski/08_laravel/02_exercise/project/vendor/friendsofphp/php-cs-fixer, file:///home/student/php_2022_adam_lewinski/08_laravel/02_exercise/project/vendor/fruitcake/php-cors, file:///home/student/php_2022_adam_lewinski/08_laravel/02_exercise/project/vendor/graham-campbell/result-type, file:///home/student/php_2022_adam_lewinski/08_laravel/02_exercise/project/vendor/guzzlehttp/guzzle, file:///home/student/php_2022_adam_lewinski/08_laravel/02_exercise/project/vendor/guzzlehttp/promises, file:///home/student/php_2022_adam_lewinski/08_laravel/02_exercise/project/vendor/guzzlehttp/psr7, file:///home/student/php_2022_adam_lewinski/08_laravel/02_exercise/project/vendor/hamcrest/hamcrest-php, file:///home/student/php_2022_adam_lewinski/08_laravel/02_exercise/project/vendor/laravel/framework, file:///home/student/php_2022_adam_lewinski/08_laravel/02_exercise/project/vendor/laravel/pint, file:///home/student/php_2022_adam_lewinski/08_laravel/02_exercise/project/vendor/laravel/sail, file:///home/student/php_2022_adam_lewinski/08_laravel/02_exercise/project/vendor/laravel/sanctum, file:///home/student/php_2022_adam_lewinski/08_laravel/02_exercise/project/vendor/laravel/serializable-closure, file:///home/student/php_2022_adam_lewinski/08_laravel/02_exercise/project/vendor/laravel/tinker, file:///home/student/php_2022_adam_lewinski/08_laravel/02_exercise/project/vendor/league/commonmark, file:///home/student/php_2022_adam_lewinski/08_laravel/02_exercise/project/vendor/league/config, file:///home/student/php_2022_adam_lewinski/08_laravel/02_exercise/project/vendor/league/flysystem, file:///home/student/php_2022_adam_lewinski/08_laravel/02_exercise/project/vendor/league/mime-type-detection, file:///home/student/php_2022_adam_lewinski/08_laravel/02_exercise/project/vendor/masterminds/html5, file:///home/student/php_2022_adam_lewinski/08_laravel/02_exercise/project/vendor/mockery/mockery, file:///home/student/php_2022_adam_lewinski/08_laravel/02_exercise/project/vendor/monolog/monolog, file:///home/student/php_2022_adam_lewinski/08_laravel/02_exercise/project/vendor/myclabs/deep-copy, file:///home/student/php_2022_adam_lewinski/08_laravel/02_exercise/project/vendor/nesbot/carbon, file:///home/student/php_2022_adam_lewinski/08_laravel/02_exercise/project/vendor/nette/schema, file:///home/student/php_2022_adam_lewinski/08_laravel/02_exercise/project/vendor/nette/utils, file:///home/student/php_2022_adam_lewinski/08_laravel/02_exercise/project/vendor/nikic/php-parser, file:///home/student/php_2022_adam_lewinski/08_laravel/02_exercise/project/vendor/nunomaduro/collision, file:///home/student/php_2022_adam_lewinski/08_laravel/02_exercise/project/vendor/nunomaduro/larastan, file:///home/student/php_2022_adam_lewinski/08_laravel/02_exercise/project/vendor/nunomaduro/termwind, file:///home/student/php_2022_adam_lewinski/08_laravel/02_exercise/project/vendor/phar-io/manifest, file:///home/student/php_2022_adam_lewinski/08_laravel/02_exercise/project/vendor/phar-io/version, file:///home/student/php_2022_adam_lewinski/08_laravel/02_exercise/project/vendor/phpmyadmin/sql-parser, file:///home/student/php_2022_adam_lewinski/08_laravel/02_exercise/project/vendor/phpoption/phpoption, file:///home/student/php_2022_adam_lewinski/08_laravel/02_exercise/project/vendor/phpstan/phpstan, file:///home/student/php_2022_adam_lewinski/08_laravel/02_exercise/project/vendor/phpunit/php-code-coverage, file:///home/student/php_2022_adam_lewinski/08_laravel/02_exercise/project/vendor/phpunit/php-file-iterator, file:///home/student/php_2022_adam_lewinski/08_laravel/02_exercise/project/vendor/phpunit/php-invoker, file:///home/student/php_2022_adam_lewinski/08_laravel/02_exercise/project/vendor/phpunit/php-text-template, file:///home/student/php_2022_adam_lewinski/08_laravel/02_exercise/project/vendor/phpunit/php-timer, file:///home/student/php_2022_adam_lewinski/08_laravel/02_exercise/project/vendor/phpunit/phpunit, file:///home/student/php_2022_adam_lewinski/08_laravel/02_exercise/project/vendor/psr/cache, file:///home/student/php_2022_adam_lewinski/08_laravel/02_exercise/project/vendor/psr/container, file:///home/student/php_2022_adam_lewinski/08_laravel/02_exercise/project/vendor/psr/event-dispatcher, file:///home/student/php_2022_adam_lewinski/08_laravel/02_exercise/project/vendor/psr/http-client, file:///home/student/php_2022_adam_lewinski/08_laravel/02_exercise/project/vendor/psr/http-factory, file:///home/student/php_2022_adam_lewinski/08_laravel/02_exercise/project/vendor/psr/http-message, file:///home/student/php_2022_adam_lewinski/08_laravel/02_exercise/project/vendor/psr/log, file:///home/student/php_2022_adam_lewinski/08_laravel/02_exercise/project/vendor/psr/simple-cache, file:///home/student/php_2022_adam_lewinski/08_laravel/02_exercise/project/vendor/psy/psysh, file:///home/student/php_2022_adam_lewinski/08_laravel/02_exercise/project/vendor/ralouphie/getallheaders, file:///home/student/php_2022_adam_lewinski/08_laravel/02_exercise/project/vendor/ramsey/collection, file:///home/student/php_2022_adam_lewinski/08_laravel/02_exercise/project/vendor/ramsey/uuid, file:///home/student/php_2022_adam_lewinski/08_laravel/02_exercise/project/vendor/sebastian/cli-parser, file:///home/student/php_2022_adam_lewinski/08_laravel/02_exercise/project/vendor/sebastian/code-unit, file:///home/student/php_2022_adam_lewinski/08_laravel/02_exercise/project/vendor/sebastian/code-unit-reverse-lookup, file:///home/student/php_2022_adam_lewinski/08_laravel/02_exercise/project/vendor/sebastian/comparator, file:///home/student/php_2022_adam_lewinski/08_laravel/02_exercise/project/vendor/sebastian/complexity, file:///home/student/php_2022_adam_lewinski/08_laravel/02_exercise/project/vendor/sebastian/diff, file:///home/student/php_2022_adam_lewinski/08_laravel/02_exercise/project/vendor/sebastian/environment, file:///home/student/php_2022_adam_lewinski/08_laravel/02_exercise/project/vendor/sebastian/exporter, file:///home/student/php_2022_adam_lewinski/08_laravel/02_exercise/project/vendor/sebastian/global-state, file:///home/student/php_2022_adam_lewinski/08_laravel/02_exercise/project/vendor/sebastian/lines-of-code, file:///home/student/php_2022_adam_lewinski/08_laravel/02_exercise/project/vendor/sebastian/object-enumerator, file:///home/student/php_2022_adam_lewinski/08_laravel/02_exercise/project/vendor/sebastian/object-reflector, file:///home/student/php_2022_adam_lewinski/08_laravel/02_exercise/project/vendor/sebastian/phpcpd, file:///home/student/php_2022_adam_lewinski/08_laravel/02_exercise/project/vendor/sebastian/recursion-context, file:///home/student/php_2022_adam_lewinski/08_laravel/02_exercise/project/vendor/sebastian/resource-operations, file:///home/student/php_2022_adam_lewinski/08_laravel/02_exercise/project/vendor/sebastian/type, file:///home/student/php_2022_adam_lewinski/08_laravel/02_exercise/project/vendor/sebastian/version, file:///home/student/php_2022_adam_lewinski/08_laravel/02_exercise/project/vendor/spatie/backtrace, file:///home/student/php_2022_adam_lewinski/08_laravel/02_exercise/project/vendor/spatie/flare-client-php, file:///home/student/php_2022_adam_lewinski/08_laravel/02_exercise/project/vendor/spatie/ignition, file:///home/student/php_2022_adam_lewinski/08_laravel/02_exercise/project/vendor/spatie/laravel-ignition, file:///home/student/php_2022_adam_lewinski/08_laravel/02_exercise/project/vendor/symfony/browser-kit, file:///home/student/php_2022_adam_lewinski/08_laravel/02_exercise/project/vendor/symfony/console, file:///home/student/php_2022_adam_lewinski/08_laravel/02_exercise/project/vendor/symfony/css-selector, file:///home/student/php_2022_adam_lewinski/08_laravel/02_exercise/project/vendor/symfony/deprecation-contracts, file:///home/student/php_2022_adam_lewinski/08_laravel/02_exercise/project/vendor/symfony/dom-crawler, file:///home/student/php_2022_adam_lewinski/08_laravel/02_exercise/project/vendor/symfony/error-handler, file:///home/student/php_2022_adam_lewinski/08_laravel/02_exercise/project/vendor/symfony/event-dispatcher, file:///home/student/php_2022_adam_lewinski/08_laravel/02_exercise/project/vendor/symfony/event-dispatcher-contracts, file:///home/student/php_2022_adam_lewinski/08_laravel/02_exercise/project/vendor/symfony/filesystem, file:///home/student/php_2022_adam_lewinski/08_laravel/02_exercise/project/vendor/symfony/finder, file:///home/student/php_2022_adam_lewinski/08_laravel/02_exercise/project/vendor/symfony/http-foundation, file:///home/student/php_2022_adam_lewinski/08_laravel/02_exercise/project/vendor/symfony/http-kernel, file:///home/student/php_2022_adam_lewinski/08_laravel/02_exercise/project/vendor/symfony/mailer, file:///home/student/php_2022_adam_lewinski/08_laravel/02_exercise/project/vendor/symfony/mime, file:///home/student/php_2022_adam_lewinski/08_laravel/02_exercise/project/vendor/symfony/options-resolver, file:///home/student/php_2022_adam_lewinski/08_laravel/02_exercise/project/vendor/symfony/polyfill-ctype, file:///home/student/php_2022_adam_lewinski/08_laravel/02_exercise/project/vendor/symfony/polyfill-intl-grapheme, file:///home/student/php_2022_adam_lewinski/08_laravel/02_exercise/project/vendor/symfony/polyfill-intl-idn, file:///home/student/php_2022_adam_lewinski/08_laravel/02_exercise/project/vendor/symfony/polyfill-intl-normalizer, file:///home/student/php_2022_adam_lewinski/08_laravel/02_exercise/project/vendor/symfony/polyfill-mbstring, file:///home/student/php_2022_adam_lewinski/08_laravel/02_exercise/project/vendor/symfony/polyfill-php72, file:///home/student/php_2022_adam_lewinski/08_laravel/02_exercise/project/vendor/symfony/polyfill-php80, file:///home/student/php_2022_adam_lewinski/08_laravel/02_exercise/project/vendor/symfony/polyfill-php81, file:///home/student/php_2022_adam_lewinski/08_laravel/02_exercise/project/vendor/symfony/polyfill-uuid, file:///home/student/php_2022_adam_lewinski/08_laravel/02_exercise/project/vendor/symfony/process, file:///home/student/php_2022_adam_lewinski/08_laravel/02_exercise/project/vendor/symfony/routing, file:///home/student/php_2022_adam_lewinski/08_laravel/02_exercise/project/vendor/symfony/service-contracts, file:///home/student/php_2022_adam_lewinski/08_laravel/02_exercise/project/vendor/symfony/stopwatch, file:///home/student/php_2022_adam_lewinski/08_laravel/02_exercise/project/vendor/symfony/string, file:///home/student/php_2022_adam_lewinski/08_laravel/02_exercise/project/vendor/symfony/translation, file:///home/student/php_2022_adam_lewinski/08_laravel/02_exercise/project/vendor/symfony/translation-contracts, file:///home/student/php_2022_adam_lewinski/08_laravel/02_exercise/project/vendor/symfony/uid, file:///home/student/php_2022_adam_lewinski/08_laravel/02_exercise/project/vendor/symfony/var-dumper, file:///home/student/php_2022_adam_lewinski/08_laravel/02_exercise/project/vendor/symfony/yaml, file:///home/student/php_2022_adam_lewinski/08_laravel/02_exercise/project/vendor/theseer/tokenizer, file:///home/student/php_2022_adam_lewinski/08_laravel/02_exercise/project/vendor/tijsverkoyen/css-to-inline-styles, file:///home/student/php_2022_adam_lewinski/08_laravel/02_exercise/project/vendor/vlucas/phpdotenv, file:///home/student/php_2022_adam_lewinski/08_laravel/02_exercise/project/vendor/voku/portable-ascii, file:///home/student/php_2022_adam_lewinski/08_laravel/02_exercise/project/vendor/webmozart/assert]\n"
     ]
    },
    {
     "name": "stdout",
     "output_type": "stream",
     "text": [
      "2022-11-30 21:49:54,734 [  43366]   WARN - #c.i.u.x.Binding - no accessors for org.jetbrains.idea.perforce.perforce.ConnectionId\r\n"
     ]
    }
   ],
   "source": [
    "! phpstorm project"
   ]
  },
  {
   "cell_type": "markdown",
   "metadata": {},
   "source": [
    "You can test your solution using included tests:"
   ]
  },
  {
   "cell_type": "code",
   "execution_count": 191,
   "metadata": {},
   "outputs": [
    {
     "name": "stdout",
     "output_type": "stream",
     "text": [
      "/home/student/php_2022_adam_lewinski/08_laravel/02_exercise/project\n"
     ]
    }
   ],
   "source": [
    "%cd project"
   ]
  },
  {
   "cell_type": "code",
   "execution_count": 192,
   "metadata": {},
   "outputs": [
    {
     "name": "stdout",
     "output_type": "stream",
     "text": [
      "\u001b[32mInstalling dependencies from lock file (including require-dev)\u001b[39m\n",
      "\u001b[32mVerifying lock file contents can be installed on current platform.\u001b[39m\n",
      "Nothing to install, update or remove\n",
      "\u001b[32mGenerating optimized autoload files\u001b[39m\n",
      "> Illuminate\\Foundation\\ComposerScripts::postAutoloadDump\n",
      "> @php artisan package:discover --ansi\n",
      "\n",
      "  \u001b[37;44m INFO \u001b[39;49m Discovering packages.  \n",
      "\n",
      "  laravel/sail \u001b[90m.\u001b[39m\u001b[90m.\u001b[39m\u001b[90m.\u001b[39m\u001b[90m.\u001b[39m\u001b[90m.\u001b[39m\u001b[90m.\u001b[39m\u001b[90m.\u001b[39m\u001b[90m.\u001b[39m\u001b[90m.\u001b[39m\u001b[90m.\u001b[39m\u001b[90m.\u001b[39m\u001b[90m.\u001b[39m\u001b[90m.\u001b[39m\u001b[90m.\u001b[39m\u001b[90m.\u001b[39m\u001b[90m.\u001b[39m\u001b[90m.\u001b[39m\u001b[90m.\u001b[39m\u001b[90m.\u001b[39m\u001b[90m.\u001b[39m\u001b[90m.\u001b[39m\u001b[90m.\u001b[39m\u001b[90m.\u001b[39m\u001b[90m.\u001b[39m\u001b[90m.\u001b[39m\u001b[90m.\u001b[39m\u001b[90m.\u001b[39m\u001b[90m.\u001b[39m\u001b[90m.\u001b[39m\u001b[90m.\u001b[39m\u001b[90m.\u001b[39m\u001b[90m.\u001b[39m\u001b[90m.\u001b[39m\u001b[90m.\u001b[39m\u001b[90m.\u001b[39m\u001b[90m.\u001b[39m\u001b[90m.\u001b[39m\u001b[90m.\u001b[39m\u001b[90m.\u001b[39m\u001b[90m.\u001b[39m\u001b[90m.\u001b[39m\u001b[90m.\u001b[39m\u001b[90m.\u001b[39m\u001b[90m.\u001b[39m\u001b[90m.\u001b[39m\u001b[90m.\u001b[39m\u001b[90m.\u001b[39m\u001b[90m.\u001b[39m\u001b[90m.\u001b[39m\u001b[90m.\u001b[39m\u001b[90m.\u001b[39m\u001b[90m.\u001b[39m\u001b[90m.\u001b[39m\u001b[90m.\u001b[39m\u001b[90m.\u001b[39m\u001b[90m.\u001b[39m\u001b[90m.\u001b[39m\u001b[90m.\u001b[39m \u001b[32;1mDONE\u001b[39;22m\n",
      "  laravel/sanctum \u001b[90m.\u001b[39m\u001b[90m.\u001b[39m\u001b[90m.\u001b[39m\u001b[90m.\u001b[39m\u001b[90m.\u001b[39m\u001b[90m.\u001b[39m\u001b[90m.\u001b[39m\u001b[90m.\u001b[39m\u001b[90m.\u001b[39m\u001b[90m.\u001b[39m\u001b[90m.\u001b[39m\u001b[90m.\u001b[39m\u001b[90m.\u001b[39m\u001b[90m.\u001b[39m\u001b[90m.\u001b[39m\u001b[90m.\u001b[39m\u001b[90m.\u001b[39m\u001b[90m.\u001b[39m\u001b[90m.\u001b[39m\u001b[90m.\u001b[39m\u001b[90m.\u001b[39m\u001b[90m.\u001b[39m\u001b[90m.\u001b[39m\u001b[90m.\u001b[39m\u001b[90m.\u001b[39m\u001b[90m.\u001b[39m\u001b[90m.\u001b[39m\u001b[90m.\u001b[39m\u001b[90m.\u001b[39m\u001b[90m.\u001b[39m\u001b[90m.\u001b[39m\u001b[90m.\u001b[39m\u001b[90m.\u001b[39m\u001b[90m.\u001b[39m\u001b[90m.\u001b[39m\u001b[90m.\u001b[39m\u001b[90m.\u001b[39m\u001b[90m.\u001b[39m\u001b[90m.\u001b[39m\u001b[90m.\u001b[39m\u001b[90m.\u001b[39m\u001b[90m.\u001b[39m\u001b[90m.\u001b[39m\u001b[90m.\u001b[39m\u001b[90m.\u001b[39m\u001b[90m.\u001b[39m\u001b[90m.\u001b[39m\u001b[90m.\u001b[39m\u001b[90m.\u001b[39m\u001b[90m.\u001b[39m\u001b[90m.\u001b[39m\u001b[90m.\u001b[39m\u001b[90m.\u001b[39m\u001b[90m.\u001b[39m\u001b[90m.\u001b[39m \u001b[32;1mDONE\u001b[39;22m\n",
      "  laravel/tinker \u001b[90m.\u001b[39m\u001b[90m.\u001b[39m\u001b[90m.\u001b[39m\u001b[90m.\u001b[39m\u001b[90m.\u001b[39m\u001b[90m.\u001b[39m\u001b[90m.\u001b[39m\u001b[90m.\u001b[39m\u001b[90m.\u001b[39m\u001b[90m.\u001b[39m\u001b[90m.\u001b[39m\u001b[90m.\u001b[39m\u001b[90m.\u001b[39m\u001b[90m.\u001b[39m\u001b[90m.\u001b[39m\u001b[90m.\u001b[39m\u001b[90m.\u001b[39m\u001b[90m.\u001b[39m\u001b[90m.\u001b[39m\u001b[90m.\u001b[39m\u001b[90m.\u001b[39m\u001b[90m.\u001b[39m\u001b[90m.\u001b[39m\u001b[90m.\u001b[39m\u001b[90m.\u001b[39m\u001b[90m.\u001b[39m\u001b[90m.\u001b[39m\u001b[90m.\u001b[39m\u001b[90m.\u001b[39m\u001b[90m.\u001b[39m\u001b[90m.\u001b[39m\u001b[90m.\u001b[39m\u001b[90m.\u001b[39m\u001b[90m.\u001b[39m\u001b[90m.\u001b[39m\u001b[90m.\u001b[39m\u001b[90m.\u001b[39m\u001b[90m.\u001b[39m\u001b[90m.\u001b[39m\u001b[90m.\u001b[39m\u001b[90m.\u001b[39m\u001b[90m.\u001b[39m\u001b[90m.\u001b[39m\u001b[90m.\u001b[39m\u001b[90m.\u001b[39m\u001b[90m.\u001b[39m\u001b[90m.\u001b[39m\u001b[90m.\u001b[39m\u001b[90m.\u001b[39m\u001b[90m.\u001b[39m\u001b[90m.\u001b[39m\u001b[90m.\u001b[39m\u001b[90m.\u001b[39m\u001b[90m.\u001b[39m\u001b[90m.\u001b[39m\u001b[90m.\u001b[39m \u001b[32;1mDONE\u001b[39;22m\n",
      "  nesbot/carbon \u001b[90m.\u001b[39m\u001b[90m.\u001b[39m\u001b[90m.\u001b[39m\u001b[90m.\u001b[39m\u001b[90m.\u001b[39m\u001b[90m.\u001b[39m\u001b[90m.\u001b[39m\u001b[90m.\u001b[39m\u001b[90m.\u001b[39m\u001b[90m.\u001b[39m\u001b[90m.\u001b[39m\u001b[90m.\u001b[39m\u001b[90m.\u001b[39m\u001b[90m.\u001b[39m\u001b[90m.\u001b[39m\u001b[90m.\u001b[39m\u001b[90m.\u001b[39m\u001b[90m.\u001b[39m\u001b[90m.\u001b[39m\u001b[90m.\u001b[39m\u001b[90m.\u001b[39m\u001b[90m.\u001b[39m\u001b[90m.\u001b[39m\u001b[90m.\u001b[39m\u001b[90m.\u001b[39m\u001b[90m.\u001b[39m\u001b[90m.\u001b[39m\u001b[90m.\u001b[39m\u001b[90m.\u001b[39m\u001b[90m.\u001b[39m\u001b[90m.\u001b[39m\u001b[90m.\u001b[39m\u001b[90m.\u001b[39m\u001b[90m.\u001b[39m\u001b[90m.\u001b[39m\u001b[90m.\u001b[39m\u001b[90m.\u001b[39m\u001b[90m.\u001b[39m\u001b[90m.\u001b[39m\u001b[90m.\u001b[39m\u001b[90m.\u001b[39m\u001b[90m.\u001b[39m\u001b[90m.\u001b[39m\u001b[90m.\u001b[39m\u001b[90m.\u001b[39m\u001b[90m.\u001b[39m\u001b[90m.\u001b[39m\u001b[90m.\u001b[39m\u001b[90m.\u001b[39m\u001b[90m.\u001b[39m\u001b[90m.\u001b[39m\u001b[90m.\u001b[39m\u001b[90m.\u001b[39m\u001b[90m.\u001b[39m\u001b[90m.\u001b[39m\u001b[90m.\u001b[39m\u001b[90m.\u001b[39m \u001b[32;1mDONE\u001b[39;22m\n",
      "  nunomaduro/collision \u001b[90m.\u001b[39m\u001b[90m.\u001b[39m\u001b[90m.\u001b[39m\u001b[90m.\u001b[39m\u001b[90m.\u001b[39m\u001b[90m.\u001b[39m\u001b[90m.\u001b[39m\u001b[90m.\u001b[39m\u001b[90m.\u001b[39m\u001b[90m.\u001b[39m\u001b[90m.\u001b[39m\u001b[90m.\u001b[39m\u001b[90m.\u001b[39m\u001b[90m.\u001b[39m\u001b[90m.\u001b[39m\u001b[90m.\u001b[39m\u001b[90m.\u001b[39m\u001b[90m.\u001b[39m\u001b[90m.\u001b[39m\u001b[90m.\u001b[39m\u001b[90m.\u001b[39m\u001b[90m.\u001b[39m\u001b[90m.\u001b[39m\u001b[90m.\u001b[39m\u001b[90m.\u001b[39m\u001b[90m.\u001b[39m\u001b[90m.\u001b[39m\u001b[90m.\u001b[39m\u001b[90m.\u001b[39m\u001b[90m.\u001b[39m\u001b[90m.\u001b[39m\u001b[90m.\u001b[39m\u001b[90m.\u001b[39m\u001b[90m.\u001b[39m\u001b[90m.\u001b[39m\u001b[90m.\u001b[39m\u001b[90m.\u001b[39m\u001b[90m.\u001b[39m\u001b[90m.\u001b[39m\u001b[90m.\u001b[39m\u001b[90m.\u001b[39m\u001b[90m.\u001b[39m\u001b[90m.\u001b[39m\u001b[90m.\u001b[39m\u001b[90m.\u001b[39m\u001b[90m.\u001b[39m\u001b[90m.\u001b[39m\u001b[90m.\u001b[39m\u001b[90m.\u001b[39m\u001b[90m.\u001b[39m \u001b[32;1mDONE\u001b[39;22m\n",
      "  nunomaduro/termwind \u001b[90m.\u001b[39m\u001b[90m.\u001b[39m\u001b[90m.\u001b[39m\u001b[90m.\u001b[39m\u001b[90m.\u001b[39m\u001b[90m.\u001b[39m\u001b[90m.\u001b[39m\u001b[90m.\u001b[39m\u001b[90m.\u001b[39m\u001b[90m.\u001b[39m\u001b[90m.\u001b[39m\u001b[90m.\u001b[39m\u001b[90m.\u001b[39m\u001b[90m.\u001b[39m\u001b[90m.\u001b[39m\u001b[90m.\u001b[39m\u001b[90m.\u001b[39m\u001b[90m.\u001b[39m\u001b[90m.\u001b[39m\u001b[90m.\u001b[39m\u001b[90m.\u001b[39m\u001b[90m.\u001b[39m\u001b[90m.\u001b[39m\u001b[90m.\u001b[39m\u001b[90m.\u001b[39m\u001b[90m.\u001b[39m\u001b[90m.\u001b[39m\u001b[90m.\u001b[39m\u001b[90m.\u001b[39m\u001b[90m.\u001b[39m\u001b[90m.\u001b[39m\u001b[90m.\u001b[39m\u001b[90m.\u001b[39m\u001b[90m.\u001b[39m\u001b[90m.\u001b[39m\u001b[90m.\u001b[39m\u001b[90m.\u001b[39m\u001b[90m.\u001b[39m\u001b[90m.\u001b[39m\u001b[90m.\u001b[39m\u001b[90m.\u001b[39m\u001b[90m.\u001b[39m\u001b[90m.\u001b[39m\u001b[90m.\u001b[39m\u001b[90m.\u001b[39m\u001b[90m.\u001b[39m\u001b[90m.\u001b[39m\u001b[90m.\u001b[39m\u001b[90m.\u001b[39m\u001b[90m.\u001b[39m\u001b[90m.\u001b[39m \u001b[32;1mDONE\u001b[39;22m\n",
      "  spatie/laravel-ignition \u001b[90m.\u001b[39m\u001b[90m.\u001b[39m\u001b[90m.\u001b[39m\u001b[90m.\u001b[39m\u001b[90m.\u001b[39m\u001b[90m.\u001b[39m\u001b[90m.\u001b[39m\u001b[90m.\u001b[39m\u001b[90m.\u001b[39m\u001b[90m.\u001b[39m\u001b[90m.\u001b[39m\u001b[90m.\u001b[39m\u001b[90m.\u001b[39m\u001b[90m.\u001b[39m\u001b[90m.\u001b[39m\u001b[90m.\u001b[39m\u001b[90m.\u001b[39m\u001b[90m.\u001b[39m\u001b[90m.\u001b[39m\u001b[90m.\u001b[39m\u001b[90m.\u001b[39m\u001b[90m.\u001b[39m\u001b[90m.\u001b[39m\u001b[90m.\u001b[39m\u001b[90m.\u001b[39m\u001b[90m.\u001b[39m\u001b[90m.\u001b[39m\u001b[90m.\u001b[39m\u001b[90m.\u001b[39m\u001b[90m.\u001b[39m\u001b[90m.\u001b[39m\u001b[90m.\u001b[39m\u001b[90m.\u001b[39m\u001b[90m.\u001b[39m\u001b[90m.\u001b[39m\u001b[90m.\u001b[39m\u001b[90m.\u001b[39m\u001b[90m.\u001b[39m\u001b[90m.\u001b[39m\u001b[90m.\u001b[39m\u001b[90m.\u001b[39m\u001b[90m.\u001b[39m\u001b[90m.\u001b[39m\u001b[90m.\u001b[39m\u001b[90m.\u001b[39m\u001b[90m.\u001b[39m\u001b[90m.\u001b[39m \u001b[32;1mDONE\u001b[39;22m\n",
      "\n",
      "\u001b[32m95 packages you are using are looking for funding.\u001b[39m\n",
      "\u001b[32mUse the `composer fund` command to find out more!\u001b[39m\n"
     ]
    }
   ],
   "source": [
    "! composer install"
   ]
  },
  {
   "cell_type": "code",
   "execution_count": 193,
   "metadata": {},
   "outputs": [],
   "source": [
    "! cp .env.example .env"
   ]
  },
  {
   "cell_type": "code",
   "execution_count": 194,
   "metadata": {},
   "outputs": [
    {
     "name": "stdout",
     "output_type": "stream",
     "text": [
      "\r\n",
      "  \u001b[37;44m INFO \u001b[39;49m Application key set successfully.  \r\n",
      "\r\n"
     ]
    }
   ],
   "source": [
    "! php artisan key:generate"
   ]
  },
  {
   "cell_type": "code",
   "execution_count": 195,
   "metadata": {},
   "outputs": [
    {
     "name": "stdout",
     "output_type": "stream",
     "text": [
      "\n",
      "  Dropping all tables \u001b[90m.\u001b[39m\u001b[90m.\u001b[39m\u001b[90m.\u001b[39m\u001b[90m.\u001b[39m\u001b[90m.\u001b[39m\u001b[90m.\u001b[39m\u001b[90m.\u001b[39m\u001b[90m.\u001b[39m\u001b[90m.\u001b[39m\u001b[90m.\u001b[39m\u001b[90m.\u001b[39m\u001b[90m.\u001b[39m\u001b[90m.\u001b[39m\u001b[90m.\u001b[39m\u001b[90m.\u001b[39m\u001b[90m.\u001b[39m\u001b[90m.\u001b[39m\u001b[90m.\u001b[39m\u001b[90m.\u001b[39m\u001b[90m.\u001b[39m\u001b[90m.\u001b[39m\u001b[90m.\u001b[39m\u001b[90m.\u001b[39m\u001b[90m.\u001b[39m\u001b[90m.\u001b[39m\u001b[90m.\u001b[39m\u001b[90m.\u001b[39m\u001b[90m.\u001b[39m\u001b[90m.\u001b[39m\u001b[90m.\u001b[39m\u001b[90m.\u001b[39m\u001b[90m.\u001b[39m\u001b[90m.\u001b[39m\u001b[90m.\u001b[39m\u001b[90m.\u001b[39m\u001b[90m.\u001b[39m\u001b[90m.\u001b[39m\u001b[90m.\u001b[39m\u001b[90m.\u001b[39m\u001b[90m.\u001b[39m\u001b[90m.\u001b[39m\u001b[90m.\u001b[39m\u001b[90m.\u001b[39m\u001b[90m.\u001b[39m\u001b[90m.\u001b[39m\u001b[90m 135ms\u001b[39m \u001b[32;1mDONE\u001b[39;22m\n",
      "\n",
      "  \u001b[37;44m INFO \u001b[39;49m Preparing database.  \n",
      "\n",
      "  Creating migration table \u001b[90m.\u001b[39m\u001b[90m.\u001b[39m\u001b[90m.\u001b[39m\u001b[90m.\u001b[39m\u001b[90m.\u001b[39m\u001b[90m.\u001b[39m\u001b[90m.\u001b[39m\u001b[90m.\u001b[39m\u001b[90m.\u001b[39m\u001b[90m.\u001b[39m\u001b[90m.\u001b[39m\u001b[90m.\u001b[39m\u001b[90m.\u001b[39m\u001b[90m.\u001b[39m\u001b[90m.\u001b[39m\u001b[90m.\u001b[39m\u001b[90m.\u001b[39m\u001b[90m.\u001b[39m\u001b[90m.\u001b[39m\u001b[90m.\u001b[39m\u001b[90m.\u001b[39m\u001b[90m.\u001b[39m\u001b[90m.\u001b[39m\u001b[90m.\u001b[39m\u001b[90m.\u001b[39m\u001b[90m.\u001b[39m\u001b[90m.\u001b[39m\u001b[90m.\u001b[39m\u001b[90m.\u001b[39m\u001b[90m.\u001b[39m\u001b[90m.\u001b[39m\u001b[90m.\u001b[39m\u001b[90m.\u001b[39m\u001b[90m.\u001b[39m\u001b[90m.\u001b[39m\u001b[90m.\u001b[39m\u001b[90m.\u001b[39m\u001b[90m.\u001b[39m\u001b[90m.\u001b[39m\u001b[90m.\u001b[39m\u001b[90m.\u001b[39m\u001b[90m 58ms\u001b[39m \u001b[32;1mDONE\u001b[39;22m\n",
      "\n",
      "  \u001b[37;44m INFO \u001b[39;49m Running migrations.  \n",
      "\n",
      "  2014_10_12_000000_create_users_table \u001b[90m.\u001b[39m\u001b[90m.\u001b[39m\u001b[90m.\u001b[39m\u001b[90m.\u001b[39m\u001b[90m.\u001b[39m\u001b[90m.\u001b[39m\u001b[90m.\u001b[39m\u001b[90m.\u001b[39m\u001b[90m.\u001b[39m\u001b[90m.\u001b[39m\u001b[90m.\u001b[39m\u001b[90m.\u001b[39m\u001b[90m.\u001b[39m\u001b[90m.\u001b[39m\u001b[90m.\u001b[39m\u001b[90m.\u001b[39m\u001b[90m.\u001b[39m\u001b[90m.\u001b[39m\u001b[90m.\u001b[39m\u001b[90m.\u001b[39m\u001b[90m.\u001b[39m\u001b[90m.\u001b[39m\u001b[90m.\u001b[39m\u001b[90m.\u001b[39m\u001b[90m.\u001b[39m\u001b[90m.\u001b[39m\u001b[90m.\u001b[39m\u001b[90m.\u001b[39m\u001b[90m 115ms\u001b[39m \u001b[32;1mDONE\u001b[39;22m\n",
      "  2014_10_12_100000_create_password_resets_table \u001b[90m.\u001b[39m\u001b[90m.\u001b[39m\u001b[90m.\u001b[39m\u001b[90m.\u001b[39m\u001b[90m.\u001b[39m\u001b[90m.\u001b[39m\u001b[90m.\u001b[39m\u001b[90m.\u001b[39m\u001b[90m.\u001b[39m\u001b[90m.\u001b[39m\u001b[90m.\u001b[39m\u001b[90m.\u001b[39m\u001b[90m.\u001b[39m\u001b[90m.\u001b[39m\u001b[90m.\u001b[39m\u001b[90m.\u001b[39m\u001b[90m.\u001b[39m\u001b[90m.\u001b[39m\u001b[90m.\u001b[39m\u001b[90m 97ms\u001b[39m \u001b[32;1mDONE\u001b[39;22m\n",
      "  2019_08_19_000000_create_failed_jobs_table \u001b[90m.\u001b[39m\u001b[90m.\u001b[39m\u001b[90m.\u001b[39m\u001b[90m.\u001b[39m\u001b[90m.\u001b[39m\u001b[90m.\u001b[39m\u001b[90m.\u001b[39m\u001b[90m.\u001b[39m\u001b[90m.\u001b[39m\u001b[90m.\u001b[39m\u001b[90m.\u001b[39m\u001b[90m.\u001b[39m\u001b[90m.\u001b[39m\u001b[90m.\u001b[39m\u001b[90m.\u001b[39m\u001b[90m.\u001b[39m\u001b[90m.\u001b[39m\u001b[90m.\u001b[39m\u001b[90m.\u001b[39m\u001b[90m.\u001b[39m\u001b[90m.\u001b[39m\u001b[90m.\u001b[39m\u001b[90m 105ms\u001b[39m \u001b[32;1mDONE\u001b[39;22m\n",
      "  2019_12_14_000001_create_personal_access_tokens_table \u001b[90m.\u001b[39m\u001b[90m.\u001b[39m\u001b[90m.\u001b[39m\u001b[90m.\u001b[39m\u001b[90m.\u001b[39m\u001b[90m.\u001b[39m\u001b[90m.\u001b[39m\u001b[90m.\u001b[39m\u001b[90m.\u001b[39m\u001b[90m.\u001b[39m\u001b[90m.\u001b[39m\u001b[90m 182ms\u001b[39m \u001b[32;1mDONE\u001b[39;22m\n",
      "\n"
     ]
    }
   ],
   "source": [
    "! php artisan migrate:fresh"
   ]
  },
  {
   "cell_type": "code",
   "execution_count": 196,
   "metadata": {},
   "outputs": [
    {
     "name": "stdout",
     "output_type": "stream",
     "text": [
      "mysqldump: [Warning] Using a password on the command line interface can be insecure.\r\n"
     ]
    }
   ],
   "source": [
    "! mysqldump -h127.0.0.1 -u root --password=root123 test > tests_codeception/_data/dump.sql"
   ]
  },
  {
   "cell_type": "code",
   "execution_count": 197,
   "metadata": {},
   "outputs": [
    {
     "name": "stdout",
     "output_type": "stream",
     "text": [
      "\u001b[K\u001b[?25hm##################\u001b[0m) ⠴ reify:@esbuild/android-arm: \u001b[32;40mtiming\u001b[0m \u001b[35mreifyNode:node_module\u001b[0m\u001b[K\u001b[0m\u001b[K\n",
      "up to date, audited 28 packages in 1s\n",
      "\n",
      "6 packages are looking for funding\n",
      "  run `npm fund` for details\n",
      "\n",
      "found \u001b[32m\u001b[1m0\u001b[22m\u001b[39m vulnerabilities\n"
     ]
    }
   ],
   "source": [
    "! npm install"
   ]
  },
  {
   "cell_type": "code",
   "execution_count": 198,
   "metadata": {},
   "outputs": [
    {
     "name": "stdout",
     "output_type": "stream",
     "text": [
      "\n",
      "> build\n",
      "> vite build\n",
      "\n",
      "\u001b[36mvite v3.2.4 \u001b[32mbuilding for production...\u001b[36m\u001b[39m\n",
      "\u001b[2K\u001b[1Gtransforming (1) \u001b[2mresources/js/app.js\u001b[22m\u001b[2K\u001b[1Gtransforming (7) \u001b[2mnode_modules/axios/lib/axios.js\u001b[22m\u001b[2K\u001b[1Gtransforming (20) \u001b[2mnode_modules/axios/lib/helpers/spread.js\u001b[22m\u001b[2K\u001b[1Gtransforming (38) \u001b[2mnode_modules/axios/lib/platform/browser/index.js\u001b[22m\u001b[2K\u001b[1Gtransforming (47) \u001b[2mnode_modules/axios/lib/helpers/parseProtocol.js\u001b[22m\u001b[2K\u001b[1G\u001b[32m✓\u001b[39m 49 modules transformed.\n",
      "\u001b[2K\u001b[1Grendering chunks (1)...\u001b[2K\u001b[1Grendering chunks (2)...\u001b[2K\u001b[1G\u001b[90m\u001b[37m\u001b[2mpublic/build/\u001b[22m\u001b[90m\u001b[39m\u001b[32mmanifest.json           \u001b[39m \u001b[2m0.25 KiB\u001b[22m\n",
      "\u001b[90m\u001b[37m\u001b[2mpublic/build/\u001b[22m\u001b[90m\u001b[39m\u001b[36massets/app.7c3c19f8.js  \u001b[39m \u001b[2m0.00 KiB / gzip: 0.02 KiB\u001b[22m\n",
      "\u001b[90m\u001b[37m\u001b[2mpublic/build/\u001b[22m\u001b[90m\u001b[39m\u001b[36massets/app.c7a61920.js  \u001b[39m \u001b[2m97.86 KiB / gzip: 35.94 KiB\u001b[22m\n"
     ]
    }
   ],
   "source": [
    "! npm run build"
   ]
  },
  {
   "cell_type": "code",
   "execution_count": 199,
   "metadata": {},
   "outputs": [],
   "source": [
    "import subprocess\n",
    "artisanServe = subprocess.Popen(['php', 'artisan', 'serve', '--port', '8888'])"
   ]
  },
  {
   "cell_type": "code",
   "execution_count": 200,
   "metadata": {},
   "outputs": [
    {
     "name": "stdout",
     "output_type": "stream",
     "text": [
      "Codeception PHP Testing Framework v5.0.5 https://helpukrainewin.org\n",
      "\n",
      "\u001b[1mTestsCodeception.Acceptance Tests (1) \u001b[22m------------------------------------------\n",
      "- \u001b[35;1mHomepageCest:\u001b[39;22m See Laravel links on homepage\n",
      "   INFO  Server running on [http://127.0.0.1:8888].  \n",
      "\n",
      "  Press Ctrl+C to stop the server\n",
      "\n",
      "  2022-11-30 21:50:19 ................................................... ~ 1s\n",
      "\u001b[32;1m✔\u001b[39;22m \u001b[35;1mHomepageCest:\u001b[39;22m See Laravel links on homepage \u001b[32m(0.46s)\u001b[39m\n",
      "--------------------------------------------------------------------------------\n",
      "Time: 00:01.879, Memory: 14.00 MB\n",
      "\n",
      "\u001b[30;42mOK (1 test, 5 assertions)\u001b[39;49m\n"
     ]
    }
   ],
   "source": [
    "! vendor/bin/codecept run"
   ]
  },
  {
   "cell_type": "code",
   "execution_count": 201,
   "metadata": {},
   "outputs": [
    {
     "name": "stdout",
     "output_type": "stream",
     "text": [
      "Codeception PHP Testing Framework v5.0.5 https://helpukrainewin.org\n",
      "\n",
      "\u001b[1mTestsCodeception.Acceptance Tests (1) \u001b[22m------------------------------------------\n",
      "\u001b[32;1m✔\u001b[39;22m \u001b[35;1mHomepageCest:\u001b[39;22m See Laravel links on homepage \u001b[32m(0.14s)\u001b[39m\n",
      "--------------------------------------------------------------------------------\n",
      "Time: 00:01.297, Memory: 14.00 MB\n",
      "\n",
      "\u001b[30;42mOK (1 test, 5 assertions)\u001b[39;49m\n",
      "  2022-11-30 21:50:21 ................................................... ~ 0s\n"
     ]
    }
   ],
   "source": [
    "! vendor/bin/codecept run"
   ]
  },
  {
   "cell_type": "code",
   "execution_count": 202,
   "metadata": {},
   "outputs": [],
   "source": [
    "! killall php php8.1"
   ]
  },
  {
   "cell_type": "code",
   "execution_count": 203,
   "metadata": {},
   "outputs": [
    {
     "name": "stdout",
     "output_type": "stream",
     "text": [
      "\u001b[32mBuilding Actor classes for suites: Acceptance\u001b[39m\n",
      " -> AcceptanceTesterActions.php generated successfully. 81 methods added\n",
      "\u001b[32mTestsCodeception\\AcceptanceTester\u001b[39m includes modules: Db, PhpBrowser\n"
     ]
    }
   ],
   "source": [
    "! vendor/bin/codecept build"
   ]
  },
  {
   "cell_type": "code",
   "execution_count": 205,
   "metadata": {},
   "outputs": [
    {
     "name": "stdout",
     "output_type": "stream",
     "text": [
      "Loaded config \u001b[33mdefault\u001b[39m from \"/home/student/php_2022_adam_lewinski/08_laravel/02_exercise/project/./.php-cs-fixer.dist.php\".\n",
      "Using cache file \".php-cs-fixer.cache\".\n",
      "\n",
      "Checked all files in 0.063 seconds, 16.000 MB memory used\n"
     ]
    }
   ],
   "source": [
    "! vendor/bin/php-cs-fixer fix --diff --dry-run ."
   ]
  },
  {
   "cell_type": "code",
   "execution_count": null,
   "metadata": {},
   "outputs": [
    {
     "name": "stdout",
     "output_type": "stream",
     "text": [
      "  0/60 [░░░░░░░░░░░░░░░░░░░░░░░░░░░░]   0%\u001b[1G\u001b[2K 60/60 [▓▓▓▓▓▓▓▓▓▓▓▓▓▓▓▓▓▓▓▓▓▓▓▓▓▓▓▓] 100%\n",
      "\n"
     ]
    }
   ],
   "source": [
    "! vendor/bin/phpstan analyze -c phpstan.neon --xdebug"
   ]
  },
  {
   "cell_type": "code",
   "execution_count": null,
   "metadata": {},
   "outputs": [],
   "source": [
    "! vendor/bin/phpcpd . --fuzzy --min-lines 1 --min-tokens 20 --exclude vendor --exclude tests* --exclude config"
   ]
  },
  {
   "cell_type": "code",
   "execution_count": null,
   "metadata": {},
   "outputs": [],
   "source": [
    "%cd .."
   ]
  },
  {
   "cell_type": "markdown",
   "metadata": {},
   "source": [
    "Stop database:"
   ]
  },
  {
   "cell_type": "code",
   "execution_count": null,
   "metadata": {},
   "outputs": [],
   "source": [
    "! docker container stop mysql"
   ]
  }
 ],
 "metadata": {
  "kernelspec": {
   "display_name": "Python 3 (ipykernel)",
   "language": "python",
   "name": "python3"
  },
  "language_info": {
   "codemirror_mode": {
    "name": "ipython",
    "version": 3
   },
   "file_extension": ".py",
   "mimetype": "text/x-python",
   "name": "python",
   "nbconvert_exporter": "python",
   "pygments_lexer": "ipython3",
   "version": "3.10.6"
  }
 },
 "nbformat": 4,
 "nbformat_minor": 4
}
