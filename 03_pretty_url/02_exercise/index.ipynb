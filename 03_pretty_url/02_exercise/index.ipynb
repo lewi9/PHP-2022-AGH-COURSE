{
 "cells": [
  {
   "cell_type": "markdown",
   "metadata": {},
   "source": [
    "# PHP 2022"
   ]
  },
  {
   "cell_type": "markdown",
   "metadata": {},
   "source": [
    "## 3. Pretty URL"
   ]
  },
  {
   "cell_type": "markdown",
   "metadata": {},
   "source": [
    "### 3.2 Exercise"
   ]
  },
  {
   "cell_type": "markdown",
   "metadata": {},
   "source": [
    "Refactor the code to use ```$_SERVER['REQUEST_URI']``` to handle all requests in a single ```index.php``` script.\n",
    "\n",
    "Final project structure:\n",
    "\n",
    "```bash\n",
    "project/\n",
    "├── public\n",
    "│   ├── index.php\n",
    "│   └── style.css\n",
    "└── views\n",
    "    ├── 404.php\n",
    "    ├── about.php\n",
    "    ├── home.php\n",
    "    ├── layout.php\n",
    "    ├── menu.php\n",
    "    ├── user.php\n",
    "    └── users.php\n",
    "\n",
    "2 directories, 9 files\n",
    "```\n",
    "\n",
    "To start editing the code run:"
   ]
  },
  {
   "cell_type": "code",
   "execution_count": null,
   "metadata": {},
   "outputs": [
    {
     "name": "stdout",
     "output_type": "stream",
     "text": [
      "Info  | RdCoroutineScope          | 28:JobScheduler FJ pool 3/3 | RdCoroutineHost overridden \n",
      "2022-10-22 14:11:26,005 [  16291]   WARN - #c.i.o.a.i.ActionUpdater - 1051 ms to grab EDT for UndoAction#update@MainMenu (com.intellij.ide.actions.UndoAction)\n",
      "2022-10-22 14:11:26,084 [  16370]   WARN - #c.i.o.a.i.ActionUpdater - 655 ms to grab EDT for CreateWebProjectAction#update@MainMenu (com.jetbrains.plugins.webDeployment.phpStorm.CreateWebProjectAction)\n",
      "2022-10-22 14:11:31,474 [  21760]   WARN - #c.i.o.a.i.ActionUpdater - 4494 ms to grab EDT for #update@MainMenu (com.intellij.ide.actions.cache.CacheRecoveryActionGroup$toAnAction$1)\n",
      "2022-10-22 14:11:31,478 [  21764]   WARN - #c.i.o.a.i.ActionUpdater - 4484 ms to grab EDT for SelectWordAtCaretAction#update@MainMenu (com.intellij.openapi.editor.actions.SelectWordAtCaretAction)\n",
      "2022-10-22 14:11:32,161 [  22447]   WARN - #c.i.o.a.i.ActionUpdater - 5843 ms total to grab EDT 9 times to expand DefaultActionGroup@MainMenu (com.intellij.openapi.actionSystem.DefaultActionGroup). Use `ActionUpdateThread.BGT`.\n",
      "2022-10-22 14:11:32,162 [  22448]   WARN - #c.i.o.a.i.ActionUpdater - 5944 ms total to grab EDT 5 times to expand DefaultActionGroup@MainMenu (com.intellij.openapi.actionSystem.DefaultActionGroup). Use `ActionUpdateThread.BGT`.\n"
     ]
    }
   ],
   "source": [
    "! phpstorm project"
   ]
  },
  {
   "cell_type": "markdown",
   "metadata": {},
   "source": [
    "You can test your solution using included tests:"
   ]
  },
  {
   "cell_type": "code",
   "execution_count": 1,
   "metadata": {},
   "outputs": [
    {
     "name": "stderr",
     "output_type": "stream",
     "text": [
      "[Sat Oct 22 14:10:49 2022] PHP 8.1.9 Development Server (http://localhost:8888) started\n"
     ]
    }
   ],
   "source": [
    "import subprocess\n",
    "phpServer = subprocess.Popen(['php', '-S', 'localhost:8888', '-t', 'project/public'])"
   ]
  },
  {
   "cell_type": "code",
   "execution_count": 2,
   "metadata": {},
   "outputs": [
    {
     "name": "stdout",
     "output_type": "stream",
     "text": [
      "\u001b[32mInstalling dependencies from lock file (including require-dev)\u001b[39m\n",
      "\u001b[32mVerifying lock file contents can be installed on current platform.\u001b[39m\n",
      "Nothing to install, update or remove\n",
      "\u001b[30;43mPackage sebastian/resource-operations is abandoned, you should avoid using it. No replacement was suggested.\u001b[39;49m\n",
      "\u001b[32mGenerating autoload files\u001b[39m\n",
      "\u001b[32m44 packages you are using are looking for funding.\u001b[39m\n",
      "\u001b[32mUse the `composer fund` command to find out more!\u001b[39m\n",
      "Codeception PHP Testing Framework v4.1.22\n",
      "Powered by PHPUnit 9.5.9 by Sebastian Bergmann and contributors.\n",
      "\n",
      "\u001b[1mAcceptance Tests (1) \u001b[22m-----------------------------------------------------------\n",
      "- \u001b[35;1mPrettyUrlCept:\u001b[39;22m "
     ]
    },
    {
     "name": "stderr",
     "output_type": "stream",
     "text": [
      "[Sat Oct 22 14:10:53 2022] [::1]:59508 Accepted\n",
      "[Sat Oct 22 14:10:53 2022] PHP Warning:  Undefined array key 2 in /home/student/php_2022_g2_adam_lewinski/03_pretty_url/02_exercise/project/public/index.php on line 16\n",
      "[Sat Oct 22 14:10:53 2022] PHP Stack trace:\n",
      "[Sat Oct 22 14:10:53 2022] PHP   1. {main}() /home/student/php_2022_g2_adam_lewinski/03_pretty_url/02_exercise/project/public/index.php:0\n",
      "[Sat Oct 22 14:10:53 2022] [::1]:59508 [200]: GET /\n",
      "[Sat Oct 22 14:10:53 2022] [::1]:59508 Closing\n",
      "[Sat Oct 22 14:10:53 2022] [::1]:59524 Accepted\n",
      "[Sat Oct 22 14:10:53 2022] PHP Warning:  Undefined array key 2 in /home/student/php_2022_g2_adam_lewinski/03_pretty_url/02_exercise/project/public/index.php on line 16\n",
      "[Sat Oct 22 14:10:53 2022] PHP Stack trace:\n",
      "[Sat Oct 22 14:10:53 2022] PHP   1. {main}() /home/student/php_2022_g2_adam_lewinski/03_pretty_url/02_exercise/project/public/index.php:0\n",
      "[Sat Oct 22 14:10:53 2022] [::1]:59524 [200]: GET /home\n",
      "[Sat Oct 22 14:10:53 2022] [::1]:59524 Closing\n",
      "[Sat Oct 22 14:10:53 2022] [::1]:59526 Accepted\n",
      "[Sat Oct 22 14:10:53 2022] PHP Warning:  Undefined array key 2 in /home/student/php_2022_g2_adam_lewinski/03_pretty_url/02_exercise/project/public/index.php on line 16\n",
      "[Sat Oct 22 14:10:53 2022] PHP Stack trace:\n",
      "[Sat Oct 22 14:10:53 2022] PHP   1. {main}() /home/student/php_2022_g2_adam_lewinski/03_pretty_url/02_exercise/project/public/index.php:0\n",
      "[Sat Oct 22 14:10:53 2022] [::1]:59526 [200]: GET /about\n",
      "[Sat Oct 22 14:10:53 2022] [::1]:59526 Closing\n",
      "[Sat Oct 22 14:10:53 2022] [::1]:59542 Accepted\n",
      "[Sat Oct 22 14:10:53 2022] PHP Warning:  Undefined array key 2 in /home/student/php_2022_g2_adam_lewinski/03_pretty_url/02_exercise/project/public/index.php on line 16\n",
      "[Sat Oct 22 14:10:53 2022] PHP Stack trace:\n",
      "[Sat Oct 22 14:10:53 2022] PHP   1. {main}() /home/student/php_2022_g2_adam_lewinski/03_pretty_url/02_exercise/project/public/index.php:0\n",
      "[Sat Oct 22 14:10:53 2022] [::1]:59542 [200]: GET /users\n",
      "[Sat Oct 22 14:10:53 2022] [::1]:59542 Closing\n",
      "[Sat Oct 22 14:10:53 2022] [::1]:59558 Accepted\n",
      "[Sat Oct 22 14:10:53 2022] [::1]:59558 [200]: GET /user/1\n",
      "[Sat Oct 22 14:10:53 2022] [::1]:59558 Closing\n",
      "[Sat Oct 22 14:10:53 2022] [::1]:59568 Accepted\n",
      "[Sat Oct 22 14:10:53 2022] PHP Warning:  Undefined array key 2 in /home/student/php_2022_g2_adam_lewinski/03_pretty_url/02_exercise/project/public/index.php on line 16\n",
      "[Sat Oct 22 14:10:53 2022] PHP Stack trace:\n",
      "[Sat Oct 22 14:10:53 2022] PHP   1. {main}() /home/student/php_2022_g2_adam_lewinski/03_pretty_url/02_exercise/project/public/index.php:0\n",
      "[Sat Oct 22 14:10:53 2022] [::1]:59568 [200]: GET /users\n",
      "[Sat Oct 22 14:10:53 2022] [::1]:59568 Closing\n",
      "[Sat Oct 22 14:10:53 2022] [::1]:59576 Accepted\n",
      "[Sat Oct 22 14:10:53 2022] [::1]:59576 [200]: GET /user/2\n",
      "[Sat Oct 22 14:10:53 2022] [::1]:59576 Closing\n",
      "[Sat Oct 22 14:10:53 2022] [::1]:59590 Accepted\n",
      "[Sat Oct 22 14:10:53 2022] PHP Warning:  Undefined array key 2 in /home/student/php_2022_g2_adam_lewinski/03_pretty_url/02_exercise/project/public/index.php on line 16\n",
      "[Sat Oct 22 14:10:53 2022] PHP Stack trace:\n",
      "[Sat Oct 22 14:10:53 2022] PHP   1. {main}() /home/student/php_2022_g2_adam_lewinski/03_pretty_url/02_exercise/project/public/index.php:0\n",
      "[Sat Oct 22 14:10:53 2022] [::1]:59590 [200]: GET /users\n",
      "[Sat Oct 22 14:10:53 2022] [::1]:59590 Closing\n",
      "[Sat Oct 22 14:10:53 2022] [::1]:59598 Accepted\n",
      "[Sat Oct 22 14:10:53 2022] [::1]:59598 [200]: GET /user/3\n",
      "[Sat Oct 22 14:10:53 2022] [::1]:59598 Closing\n"
     ]
    },
    {
     "name": "stdout",
     "output_type": "stream",
     "text": [
      "\r",
      "\u001b[32;1m✔\u001b[39;22m \u001b[35;1mPrettyUrlCept:\u001b[39;22m  \u001b[32m(0.26s)\u001b[39m\r\n",
      "--------------------------------------------------------------------------------\r\n",
      "\r\n",
      "\r\n",
      "Time: 00:00.485, Memory: 10.00 MB\r\n",
      "\r\n",
      "\u001b[30;42mOK (1 test, 24 assertions)\u001b[0m\r\n"
     ]
    }
   ],
   "source": [
    "! cd tests && composer install && vendor/bin/codecept run"
   ]
  },
  {
   "cell_type": "code",
   "execution_count": 3,
   "metadata": {},
   "outputs": [],
   "source": [
    "phpServer.kill()"
   ]
  },
  {
   "cell_type": "code",
   "execution_count": null,
   "metadata": {},
   "outputs": [],
   "source": []
  }
 ],
 "metadata": {
  "kernelspec": {
   "display_name": "Python 3 (ipykernel)",
   "language": "python",
   "name": "python3"
  },
  "language_info": {
   "codemirror_mode": {
    "name": "ipython",
    "version": 3
   },
   "file_extension": ".py",
   "mimetype": "text/x-python",
   "name": "python",
   "nbconvert_exporter": "python",
   "pygments_lexer": "ipython3",
   "version": "3.10.4"
  }
 },
 "nbformat": 4,
 "nbformat_minor": 4
}
