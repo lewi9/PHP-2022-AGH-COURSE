{
 "cells": [
  {
   "cell_type": "markdown",
   "metadata": {},
   "source": [
    "# PHP 2022"
   ]
  },
  {
   "cell_type": "markdown",
   "metadata": {},
   "source": [
    "## 3. Pretty URL"
   ]
  },
  {
   "cell_type": "markdown",
   "metadata": {},
   "source": [
    "### 3.2 Exercise"
   ]
  },
  {
   "cell_type": "markdown",
   "metadata": {},
   "source": [
    "Refactor the code to use ```$_SERVER['REQUEST_URI']``` to handle all requests in a single ```index.php``` script.\n",
    "\n",
    "Final project structure:\n",
    "\n",
    "```bash\n",
    "project/\n",
    "├── public\n",
    "│   ├── index.php\n",
    "│   └── style.css\n",
    "└── views\n",
    "    ├── 404.php\n",
    "    ├── about.php\n",
    "    ├── home.php\n",
    "    ├── layout.php\n",
    "    ├── menu.php\n",
    "    ├── user.php\n",
    "    └── users.php\n",
    "\n",
    "2 directories, 9 files\n",
    "```\n",
    "\n",
    "To start editing the code run:"
   ]
  },
  {
   "cell_type": "code",
   "execution_count": null,
   "metadata": {},
   "outputs": [
    {
     "name": "stdout",
     "output_type": "stream",
     "text": [
      "Info  | RdCoroutineScope          | 14:JobScheduler FJ pool 2/3 | RdCoroutineHost overridden \n",
      "2022-10-18 00:12:00,408 [   8912]   WARN - #c.i.o.a.i.ActionUpdater - 628 ms to grab EDT for CWMTelephonyGroup#update@NavBarToolbar (com.jetbrains.rd.platform.codeWithMe.telephony.CWMTelephonyGroup)\n",
      "2022-10-18 00:12:00,838 [   9342]   WARN - #c.i.o.a.i.ActionUpdater - 201 ms to call on EDT SpaceMainToolBarAction#update@NavBarToolbar (com.intellij.space.vcs.actions.SpaceMainToolBarAction). Use `ActionUpdateThread.BGT`.\n",
      "2022-10-18 00:12:01,215 [   9719]   WARN - #c.i.o.a.i.ActionUpdater - 367 ms to grab EDT for #update@MainMenu (com.intellij.ide.actions.cache.CacheRecoveryActionGroup$toAnAction$1)\n",
      "2022-10-18 00:12:03,075 [  11579]   WARN - #c.i.o.a.i.ActionUpdater - 1857 ms to grab EDT for #update@MainMenu (com.intellij.ide.actions.cache.CacheRecoveryActionGroup$toAnAction$1)\n",
      "2022-10-18 00:12:03,081 [  11585]   WARN - #c.i.o.a.i.ActionUpdater - 1850 ms to grab EDT for UndoAction#update@MainMenu (com.intellij.ide.actions.UndoAction)\n",
      "2022-10-18 00:12:04,567 [  13071]   WARN - #c.i.o.a.i.ActionUpdater - 1483 ms to grab EDT for #update@MainMenu (com.intellij.ide.actions.cache.CacheRecoveryActionGroup$toAnAction$1)\n",
      "2022-10-18 00:12:04,570 [  13074]   WARN - #c.i.o.a.i.ActionUpdater - 1482 ms to grab EDT for RedoAction#update@MainMenu (com.intellij.ide.actions.RedoAction)\n",
      "2022-10-18 00:12:04,986 [  13490]   WARN - #c.i.o.a.i.ActionUpdater - 415 ms to grab EDT for #update@MainMenu (com.intellij.ide.actions.cache.CacheRecoveryActionGroup$toAnAction$1)\n",
      "2022-10-18 00:12:05,599 [  14103]   WARN - #c.i.o.a.i.ActionUpdater - 4380 ms total to grab EDT 10 times to expand DefaultActionGroup@MainMenu (com.intellij.openapi.actionSystem.DefaultActionGroup). Use `ActionUpdateThread.BGT`.\n",
      "2022-10-18 00:12:09,453 [  17957]   WARN - #c.i.o.a.i.ActionUpdater - 3794 ms total to grab EDT 7 times to expand DefaultActionGroup@MainMenu (com.intellij.openapi.actionSystem.DefaultActionGroup). Use `ActionUpdateThread.BGT`.\n",
      "2022-10-18 00:12:12,387 [  20891]   WARN - #c.i.o.a.i.ActionUpdater - 2176 ms to grab EDT for BackAction#update@MainMenu (com.intellij.ide.actions.BackAction)\n",
      "2022-10-18 00:12:12,446 [  20950]   WARN - #c.i.o.a.i.ActionUpdater - 2008 ms to grab EDT for AnalyzeStacktraceAction#update@MainMenu (com.intellij.unscramble.AnalyzeStacktraceAction)\n",
      "2022-10-18 00:12:21,132 [  29636]   WARN - #c.i.o.a.i.ActionUpdater - 1152 ms to call on BGT RenameElementAction#update@EditorPopup (com.intellij.refactoring.actions.RenameElementAction)\n",
      "2022-10-18 00:14:09,056 [ 137560]   WARN - #c.i.o.a.i.ActionUpdater - 455 ms to grab EDT for CWMTelephonyGroup#update@NavBarToolbar (com.jetbrains.rd.platform.codeWithMe.telephony.CWMTelephonyGroup)\n",
      "2022-10-18 00:14:16,783 [ 145287]   WARN - #c.i.u.x.Binding - no accessors for org.jetbrains.idea.perforce.perforce.ConnectionId\n",
      "2022-10-18 00:17:00,604 [ 309108] SEVERE - #o.j.c.AsyncPromise - Argument for @NotNull parameter 'fqn' of com/jetbrains/php/lang/inspections/PhpThrownExceptionsAnalyzer.isException must not be null\n",
      "java.lang.IllegalArgumentException: Argument for @NotNull parameter 'fqn' of com/jetbrains/php/lang/inspections/PhpThrownExceptionsAnalyzer.isException must not be null\n",
      "\tat com.jetbrains.php.lang.inspections.PhpThrownExceptionsAnalyzer.$$$reportNull$$$0(PhpThrownExceptionsAnalyzer.java)\n",
      "\tat com.jetbrains.php.lang.inspections.PhpThrownExceptionsAnalyzer.isException(PhpThrownExceptionsAnalyzer.java)\n",
      "\tat com.jetbrains.php.lang.inspections.PhpThrownExceptionsAnalyzer.filterNonThrowable(PhpThrownExceptionsAnalyzer.java:35)\n",
      "\tat com.jetbrains.php.codeInsight.highlighting.PhpHighlightExceptionsHandler.computeUsages(PhpHighlightExceptionsHandler.java:63)\n",
      "\tat com.intellij.codeInsight.daemon.impl.IdentifierHighlighterPass.doCollectInformation(IdentifierHighlighterPass.java:76)\n",
      "\tat com.intellij.codeInsight.highlighting.BackgroundHighlighter.lambda$updateHighlighted$1(BackgroundHighlighter.java:150)\n",
      "\tat com.intellij.codeInsight.highlighting.BackgroundHighlightingUtil.lambda$lookForInjectedFileInOtherThread$0(BackgroundHighlightingUtil.java:54)\n",
      "\tat com.intellij.openapi.application.impl.NonBlockingReadActionImpl$Submission.insideReadAction(NonBlockingReadActionImpl.java:536)\n",
      "\tat com.intellij.openapi.application.impl.NonBlockingReadActionImpl$Submission.lambda$attemptComputation$3(NonBlockingReadActionImpl.java:501)\n",
      "\tat com.intellij.openapi.application.impl.ApplicationImpl.tryRunReadAction(ApplicationImpl.java:1154)\n",
      "\tat com.intellij.openapi.progress.util.ProgressIndicatorUtils.lambda$runInReadActionWithWriteActionPriority$0(ProgressIndicatorUtils.java:75)\n",
      "\tat com.intellij.openapi.progress.util.ProgressIndicatorUtils.runActionAndCancelBeforeWrite(ProgressIndicatorUtils.java:158)\n",
      "\tat com.intellij.openapi.progress.util.ProgressIndicatorUtils.lambda$runWithWriteActionPriority$1(ProgressIndicatorUtils.java:115)\n",
      "\tat com.intellij.openapi.progress.ProgressManager.lambda$runProcess$0(ProgressManager.java:66)\n",
      "\tat com.intellij.openapi.progress.impl.CoreProgressManager.lambda$runProcess$2(CoreProgressManager.java:188)\n",
      "\tat com.intellij.openapi.progress.impl.CoreProgressManager.lambda$executeProcessUnderProgress$12(CoreProgressManager.java:608)\n",
      "\tat com.intellij.openapi.progress.impl.CoreProgressManager.registerIndicatorAndRun(CoreProgressManager.java:683)\n",
      "\tat com.intellij.openapi.progress.impl.CoreProgressManager.computeUnderProgress(CoreProgressManager.java:639)\n",
      "\tat com.intellij.openapi.progress.impl.CoreProgressManager.executeProcessUnderProgress(CoreProgressManager.java:607)\n",
      "\tat com.intellij.openapi.progress.impl.ProgressManagerImpl.executeProcessUnderProgress(ProgressManagerImpl.java:60)\n",
      "\tat com.intellij.openapi.progress.impl.CoreProgressManager.runProcess(CoreProgressManager.java:175)\n",
      "\tat com.intellij.openapi.progress.ProgressManager.runProcess(ProgressManager.java:66)\n",
      "\tat com.intellij.openapi.progress.util.ProgressIndicatorUtils.runWithWriteActionPriority(ProgressIndicatorUtils.java:112)\n",
      "\tat com.intellij.openapi.progress.util.ProgressIndicatorUtils.runInReadActionWithWriteActionPriority(ProgressIndicatorUtils.java:75)\n",
      "\tat com.intellij.openapi.application.impl.NonBlockingReadActionImpl$Submission.attemptComputation(NonBlockingReadActionImpl.java:501)\n",
      "\tat com.intellij.openapi.application.impl.NonBlockingReadActionImpl$Submission.lambda$transferToBgThread$1(NonBlockingReadActionImpl.java:408)\n",
      "\tat java.base/java.util.concurrent.ThreadPoolExecutor.runWorker(ThreadPoolExecutor.java:1136)\n",
      "\tat java.base/java.util.concurrent.ThreadPoolExecutor$Worker.run(ThreadPoolExecutor.java:635)\n",
      "\tat java.base/java.util.concurrent.Executors$PrivilegedThreadFactory$1$1.run(Executors.java:702)\n",
      "\tat java.base/java.util.concurrent.Executors$PrivilegedThreadFactory$1$1.run(Executors.java:699)\n",
      "\tat java.base/java.security.AccessController.doPrivileged(AccessController.java:399)\n",
      "\tat java.base/java.util.concurrent.Executors$PrivilegedThreadFactory$1.run(Executors.java:699)\n",
      "\tat java.base/java.lang.Thread.run(Thread.java:833)\n",
      "2022-10-18 00:17:00,617 [ 309121] SEVERE - #o.j.c.AsyncPromise - PhpStorm 2022.2.1  Build #PS-222.3739.61\n",
      "2022-10-18 00:17:00,622 [ 309126] SEVERE - #o.j.c.AsyncPromise - JDK: 17.0.3; VM: OpenJDK 64-Bit Server VM; Vendor: JetBrains s.r.o.\n",
      "2022-10-18 00:17:00,623 [ 309127] SEVERE - #o.j.c.AsyncPromise - OS: Linux\n",
      "2022-10-18 00:17:50,380 [ 358884]   WARN - #c.i.o.a.e.ActionUtil - Can not find action by id CompileDirty\n",
      "2022-10-18 00:17:50,713 [ 359217]   WARN - #c.i.o.a.i.ActionUpdater - 205 ms to grab EDT for #update@ToolwindowTitle (com.intellij.toolWindow.ToolWindowHeader$2)\n",
      "2022-10-18 00:20:27,394 [ 515898] SEVERE - c.j.t.m.TerminalTextBuffer - Attempt to get line out of bounds: 12 >= 12\n",
      "2022-10-18 00:20:27,396 [ 515900] SEVERE - c.j.t.m.TerminalTextBuffer - Attempt to get line out of bounds: 12 >= 12\n",
      "2022-10-18 00:20:28,443 [ 516947] SEVERE - c.j.t.m.TerminalTextBuffer - Attempt to get line out of bounds: 12 >= 12\n",
      "2022-10-18 00:20:28,450 [ 516954] SEVERE - c.j.t.m.TerminalTextBuffer - Attempt to get line out of bounds: 12 >= 12\n",
      "2022-10-18 00:25:01,737 [ 790241] SEVERE - c.j.t.m.TerminalTextBuffer - Attempt to get line out of bounds: 12 >= 12\n",
      "2022-10-18 00:25:01,742 [ 790246] SEVERE - c.j.t.m.TerminalTextBuffer - Attempt to get line out of bounds: 12 >= 12\n"
     ]
    },
    {
     "name": "stdout",
     "output_type": "stream",
     "text": [
      "2022-10-18 00:26:08,916 [ 857420] SEVERE - c.j.t.m.TerminalTextBuffer - Attempt to get line out of bounds: 12 >= 12\n",
      "2022-10-18 00:26:08,922 [ 857426] SEVERE - c.j.t.m.TerminalTextBuffer - Attempt to get line out of bounds: 12 >= 12\n",
      "2022-10-18 00:32:00,732 [1209236] SEVERE - c.j.t.m.TerminalTextBuffer - Attempt to get line out of bounds: 13 >= 13\n",
      "2022-10-18 00:32:00,734 [1209238] SEVERE - c.j.t.m.TerminalTextBuffer - Attempt to get line out of bounds: 13 >= 13\n",
      "2022-10-18 00:32:00,764 [1209268] SEVERE - c.j.t.m.TerminalTextBuffer - Attempt to get line out of bounds: 13 >= 13\n",
      "2022-10-18 00:32:00,765 [1209269] SEVERE - c.j.t.m.TerminalTextBuffer - Attempt to get line out of bounds: 13 >= 13\n",
      "2022-10-18 00:32:46,419 [1254923] SEVERE - c.j.t.m.TerminalTextBuffer - Attempt to get line out of bounds: 13 >= 13\n",
      "2022-10-18 00:32:46,421 [1254925] SEVERE - c.j.t.m.TerminalTextBuffer - Attempt to get line out of bounds: 13 >= 13\n",
      "2022-10-18 00:36:02,359 [1450863] SEVERE - c.j.t.m.TerminalTextBuffer - Attempt to get line out of bounds: 13 >= 13\n",
      "2022-10-18 00:36:02,362 [1450866] SEVERE - c.j.t.m.TerminalTextBuffer - Attempt to get line out of bounds: 13 >= 13\n",
      "2022-10-18 00:36:02,508 [1451012] SEVERE - c.j.t.m.TerminalTextBuffer - Attempt to get line out of bounds: 13 >= 13\n",
      "2022-10-18 00:36:02,509 [1451013] SEVERE - c.j.t.m.TerminalTextBuffer - Attempt to get line out of bounds: 13 >= 13\n",
      "2022-10-18 00:36:05,389 [1453893] SEVERE - c.j.t.m.TerminalTextBuffer - Attempt to get line out of bounds: 13 >= 13\n",
      "2022-10-18 00:36:05,390 [1453894] SEVERE - c.j.t.m.TerminalTextBuffer - Attempt to get line out of bounds: 13 >= 13\n",
      "2022-10-18 00:38:53,177 [1621681] SEVERE - c.j.t.m.TerminalTextBuffer - Attempt to get line out of bounds: 13 >= 13\n",
      "2022-10-18 00:38:53,178 [1621682] SEVERE - c.j.t.m.TerminalTextBuffer - Attempt to get line out of bounds: 13 >= 13\n",
      "2022-10-18 00:38:58,581 [1627085] SEVERE - c.j.t.m.TerminalTextBuffer - Attempt to get line out of bounds: 13 >= 13\n",
      "2022-10-18 00:38:58,583 [1627087] SEVERE - c.j.t.m.TerminalTextBuffer - Attempt to get line out of bounds: 13 >= 13\n"
     ]
    }
   ],
   "source": [
    "! phpstorm project"
   ]
  },
  {
   "cell_type": "markdown",
   "metadata": {},
   "source": [
    "You can test your solution using included tests:"
   ]
  },
  {
   "cell_type": "code",
   "execution_count": 6,
   "metadata": {},
   "outputs": [
    {
     "name": "stderr",
     "output_type": "stream",
     "text": [
      "[Tue Oct 18 00:06:11 2022] PHP 8.1.9 Development Server (http://localhost:8888) started\n"
     ]
    }
   ],
   "source": [
    "import subprocess\n",
    "phpServer = subprocess.Popen(['php', '-S', 'localhost:8888', '-t', 'project/public'])"
   ]
  },
  {
   "cell_type": "code",
   "execution_count": 7,
   "metadata": {},
   "outputs": [
    {
     "name": "stdout",
     "output_type": "stream",
     "text": [
      "\u001b[32mInstalling dependencies from lock file (including require-dev)\u001b[39m\n",
      "\u001b[32mVerifying lock file contents can be installed on current platform.\u001b[39m\n",
      "Nothing to install, update or remove\n",
      "\u001b[30;43mPackage sebastian/resource-operations is abandoned, you should avoid using it. No replacement was suggested.\u001b[39;49m\n",
      "\u001b[32mGenerating autoload files\u001b[39m\n",
      "\u001b[32m44 packages you are using are looking for funding.\u001b[39m\n",
      "\u001b[32mUse the `composer fund` command to find out more!\u001b[39m\n",
      "Codeception PHP Testing Framework v4.1.22\n",
      "Powered by PHPUnit 9.5.9 by Sebastian Bergmann and contributors.\n",
      "\n",
      "\u001b[1mAcceptance Tests (1) \u001b[22m-----------------------------------------------------------\n",
      "\u001b[31;1m✖\u001b[39;22m lCept:\u001b[39;22m \u001b[35;1mPrettyUrlCept:\u001b[39;22m  \u001b[32m(0.08s)\u001b[39m\n",
      "--------------------------------------------------------------------------------\n",
      "\n",
      "\n",
      "Time: 00:00.226, Memory: 10.00 MB\n",
      "\n",
      "There was 1 failure:\n",
      "\n",
      "---------\n",
      "1) \u001b[35;1mPrettyUrlCept:\u001b[39;22m \n",
      "\u001b[37;41;1m Test \u001b[39;49;22m tests/acceptance/PrettyUrlCept.php\n",
      "\u001b[37;41;1m Step \u001b[39;49;22m See \"Name: John\"\n",
      "\u001b[37;41;1m Fail \u001b[39;49;22m Failed asserting that  on page /user/1\n",
      "-->  Pretty URL Home About Users User:Name:JohnSurname:DoeAge:21 \n",
      "--> contains \"Name: John\".\n",
      "\u001b[33m\n",
      "Scenario Steps:\n",
      "\u001b[39m\n",
      "\u001b[1m 17. $I->see(\"Name: John\")\u001b[22m at \u001b[32mtests/acceptance/PrettyUrlCept.php:25\u001b[39m\n",
      " 16. $I->seeCurrentUrlEquals(\"/user/1\") at \u001b[32mtests/acceptance/PrettyUrlCept.php:24\u001b[39m\n",
      " 15. $I->click(\"John\") at \u001b[32mtests/acceptance/PrettyUrlCept.php:23\u001b[39m\n",
      " 14. $I->see(\"Paul\") at \u001b[32mtests/acceptance/PrettyUrlCept.php:21\u001b[39m\n",
      " 13. $I->see(\"Peter\") at \u001b[32mtests/acceptance/PrettyUrlCept.php:20\u001b[39m\n",
      " 12. $I->see(\"John\") at \u001b[32mtests/acceptance/PrettyUrlCept.php:19\u001b[39m\n",
      "\n",
      "\u001b[33mArtifacts:\u001b[39m\n",
      "\n",
      "Html: \u001b[36m/home/student/php_2022_g2_adam_lewinski/03_pretty_url/02_exercise/tests/tests/_output/PrettyUrlCept.fail.html\u001b[39m\n",
      "Response: \u001b[36m/home/student/php_2022_g2_adam_lewinski/03_pretty_url/02_exercise/tests/tests/_output/PrettyUrlCept.fail.html\u001b[39m\n",
      "\n",
      "\u001b[37;41mFAILURES!\u001b[0m\n",
      "\u001b[37;41mTests: 1\u001b[0m\u001b[37;41m, Assertions: 12\u001b[0m\u001b[37;41m, Failures: 1\u001b[0m\u001b[37;41m.\u001b[0m\n"
     ]
    },
    {
     "name": "stderr",
     "output_type": "stream",
     "text": [
      "[Tue Oct 18 00:06:13 2022] [::1]:36644 Accepted\n",
      "[Tue Oct 18 00:06:13 2022] [::1]:36644 [200]: GET /\n",
      "[Tue Oct 18 00:06:13 2022] [::1]:36644 Closing\n",
      "[Tue Oct 18 00:06:13 2022] [::1]:36646 Accepted\n",
      "[Tue Oct 18 00:06:13 2022] [::1]:36646 [200]: GET /home\n",
      "[Tue Oct 18 00:06:13 2022] [::1]:36646 Closing\n",
      "[Tue Oct 18 00:06:13 2022] [::1]:36650 Accepted\n",
      "[Tue Oct 18 00:06:13 2022] [::1]:36650 [200]: GET /about\n",
      "[Tue Oct 18 00:06:13 2022] [::1]:36650 Closing\n",
      "[Tue Oct 18 00:06:13 2022] [::1]:36652 Accepted\n",
      "[Tue Oct 18 00:06:13 2022] [::1]:36652 [200]: GET /users\n",
      "[Tue Oct 18 00:06:13 2022] [::1]:36652 Closing\n",
      "[Tue Oct 18 00:06:13 2022] [::1]:36664 Accepted\n",
      "[Tue Oct 18 00:06:13 2022] [::1]:36664 [200]: GET /user/1\n",
      "[Tue Oct 18 00:06:13 2022] [::1]:36664 Closing\n"
     ]
    }
   ],
   "source": [
    "! cd tests && composer install && vendor/bin/codecept run"
   ]
  },
  {
   "cell_type": "code",
   "execution_count": 8,
   "metadata": {},
   "outputs": [],
   "source": [
    "phpServer.kill()"
   ]
  },
  {
   "cell_type": "code",
   "execution_count": null,
   "metadata": {},
   "outputs": [],
   "source": []
  }
 ],
 "metadata": {
  "kernelspec": {
   "display_name": "Python 3 (ipykernel)",
   "language": "python",
   "name": "python3"
  },
  "language_info": {
   "codemirror_mode": {
    "name": "ipython",
    "version": 3
   },
   "file_extension": ".py",
   "mimetype": "text/x-python",
   "name": "python",
   "nbconvert_exporter": "python",
   "pygments_lexer": "ipython3",
   "version": "3.10.4"
  }
 },
 "nbformat": 4,
 "nbformat_minor": 4
}
