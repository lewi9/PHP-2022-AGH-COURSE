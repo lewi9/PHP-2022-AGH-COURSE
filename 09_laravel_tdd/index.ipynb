{
 "cells": [
  {
   "cell_type": "markdown",
   "metadata": {},
   "source": [
    "# PHP 2022"
   ]
  },
  {
   "cell_type": "markdown",
   "metadata": {},
   "source": [
    "## 9. Laravel TDD"
   ]
  },
  {
   "cell_type": "markdown",
   "metadata": {},
   "source": [
    "This project was started from the solution of the previous exercise.\n",
    "\n",
    "#### Laravel Breeze\n",
    "\n",
    "The [Laravel Breeze](https://laravel.com/docs/9.x/starter-kits#laravel-breeze) package was installed using the ```composer require laravel/breeze --dev``` and ```php artisan breeze:install``` commands. This package enables user registration and logging into the application.\n",
    "\n",
    "An example user is added through the [database/seeders/UsersSeeder.php](../../edit/09_laravel_tdd/project/database/seeders/UsersSeeder.php) class generated using the ```php artisan make:seeder UsersSeeder``` command. The database seeding is done during the execution of the ```php artisan db:seed``` command before the database dump.\n",
    "\n",
    "The logging-in is tested in the [tests_codeception/Acceptance/Test02_LoginCest.php](../../edit/09_laravel_tdd/project/tests_codeception/Acceptance/Test02_LoginCest.php) test.\n",
    "\n",
    "Extensive testing is also done when executing the ```php artisan test``` command because the ```php artisan breeze:install``` command added many additional tests.\n",
    "\n",
    "Because there are many tests, it was possible to safely clean up PHPStan issues in the code added by ```php artisan breeze:install``` command.\n",
    "\n",
    "#### Laravel Markdown\n",
    "\n",
    "The next change done in the project was the use of the [graham-campbell/markdown](https://packagist.org/packages/graham-campbell/markdown) package, which adds support for Markdown in Laravel.\n",
    "\n",
    "The package was installed using the ```composer require graham-campbell/markdown``` command.\n",
    "\n",
    "The [tests_codeception/Acceptance/Test01_CommentsCest.php](../../edit/09_laravel_tdd/project/tests_codeception/Acceptance/Test01_CommentsCest.php) test was extended to test for adding some **bold** text. The [resources/views/comments/show.blade.php](../../edit/09_laravel_tdd/project/resources/views/comments/show.blade.php) view was updated to render the Markdown.\n",
    "\n",
    "#### Tailwind CSS\n",
    "\n",
    "The [tailwindcss](https://tailwindcss.com/) is used to style the front end. Some examples of how to build components in HTML with CSS can be found on, e.g., [flowbite](https://flowbite.com/) site.\n",
    "\n",
    "However, I am not an expert here, so there might be much better resources ;)"
   ]
  },
  {
   "cell_type": "markdown",
   "metadata": {},
   "source": [
    "Start database:"
   ]
  },
  {
   "cell_type": "code",
   "execution_count": 1,
   "metadata": {},
   "outputs": [
    {
     "name": "stdout",
     "output_type": "stream",
     "text": [
      "cad58d5ef09187217a7fa295899fb8a03fc14a5a0ac6ec155ef7fe31f4c2affb\r\n"
     ]
    }
   ],
   "source": [
    "! docker run --name=mysql --net=host --rm --env MYSQL_ROOT_PASSWORD=root123 --env MYSQL_ROOT_HOST=% --env MYSQL_DATABASE=test --env MYSQL_USER=test --env MYSQL_PASSWORD=test123 -d mysql/mysql-server:8.0"
   ]
  },
  {
   "cell_type": "code",
   "execution_count": 2,
   "metadata": {},
   "outputs": [
    {
     "name": "stdout",
     "output_type": "stream",
     "text": [
      "Done.\r\n"
     ]
    }
   ],
   "source": [
    "! while ! timeout 1 bash -c \"echo > /dev/tcp/localhost/3306\" 2> /dev/null; do sleep 1; done; echo \"Done.\";"
   ]
  },
  {
   "cell_type": "markdown",
   "metadata": {},
   "source": [
    "Edit the code:"
   ]
  },
  {
   "cell_type": "code",
   "execution_count": null,
   "metadata": {},
   "outputs": [
    {
     "name": "stdout",
     "output_type": "stream",
     "text": [
      "CompileCommand: exclude com/intellij/openapi/vfs/impl/FilePartNodeRoot.trieDescend bool exclude = true\n",
      "2022-12-06 12:48:45,003 [   1270] SEVERE - #c.i.d.LoadingState - Should be called at least in the state COMPONENTS_LOADED, the current state is: CONFIGURATION_STORE_INITIALIZED\n",
      "Current violators count: 1\n",
      "\n",
      "\n",
      "java.lang.Throwable\n",
      "\tat com.intellij.diagnostic.LoadingState.logStateError(LoadingState.java:52)\n",
      "\tat com.intellij.diagnostic.LoadingState.checkOccurred(LoadingState.java:48)\n",
      "\tat com.intellij.openapi.actionSystem.impl.ActionManagerImpl.<init>(ActionManagerImpl.java:133)\n",
      "\tat com.jetbrains.rdserver.ui.actionPopupMenu.BackendActionManager.<init>(BackendActionManager.kt:17)\n",
      "\tat java.base/jdk.internal.reflect.NativeConstructorAccessorImpl.newInstance0(Native Method)\n",
      "\tat java.base/jdk.internal.reflect.NativeConstructorAccessorImpl.newInstance(NativeConstructorAccessorImpl.java:77)\n",
      "\tat java.base/jdk.internal.reflect.DelegatingConstructorAccessorImpl.newInstance(DelegatingConstructorAccessorImpl.java:45)\n",
      "\tat java.base/java.lang.reflect.Constructor.newInstanceWithCaller(Constructor.java:499)\n",
      "\tat java.base/java.lang.reflect.Constructor.newInstance(Constructor.java:480)\n",
      "\tat com.intellij.serviceContainer.ConstructorInjectionKt.instantiateUsingPicoContainer(constructorInjection.kt:47)\n",
      "\tat com.intellij.serviceContainer.ComponentManagerImpl.instantiateClassWithConstructorInjection(ComponentManagerImpl.kt:890)\n",
      "\tat com.intellij.serviceContainer.ServiceComponentAdapter.createAndInitialize(ServiceComponentAdapter.kt:51)\n",
      "\tat com.intellij.serviceContainer.ServiceComponentAdapter.doCreateInstance(ServiceComponentAdapter.kt:41)\n",
      "\tat com.intellij.serviceContainer.BaseComponentAdapter.getInstanceUncached(BaseComponentAdapter.kt:119)\n",
      "\tat com.intellij.serviceContainer.BaseComponentAdapter.getInstance(BaseComponentAdapter.kt:73)\n",
      "\tat com.intellij.serviceContainer.BaseComponentAdapter.getInstance$default(BaseComponentAdapter.kt:66)\n",
      "\tat com.intellij.serviceContainer.ComponentManagerImpl.doGetService(ComponentManagerImpl.kt:609)\n",
      "\tat com.intellij.serviceContainer.ComponentManagerImpl.getService(ComponentManagerImpl.kt:583)\n",
      "\tat com.intellij.openapi.client.ClientAwareComponentManager.getFromSelfOrCurrentSession(ClientAwareComponentManager.kt:37)\n",
      "\tat com.intellij.openapi.client.ClientAwareComponentManager.getService(ClientAwareComponentManager.kt:22)\n",
      "\tat com.intellij.openapi.actionSystem.ActionManager.getInstance(ActionManager.java:29)\n",
      "\tat com.intellij.help.impl.KeymapGenerator.<clinit>(KeymapGenerator.java:33)\n",
      "\tat java.base/jdk.internal.misc.Unsafe.allocateInstance(Native Method)\n",
      "\tat java.base/java.lang.invoke.DirectMethodHandle.allocateInstance(DirectMethodHandle.java:520)\n",
      "\tat com.intellij.serviceContainer.ComponentManagerImpl.instantiateClass(ComponentManagerImpl.kt:844)\n",
      "\tat com.intellij.openapi.extensions.impl.XmlExtensionAdapter.instantiateClass(XmlExtensionAdapter.kt:79)\n",
      "\tat com.intellij.openapi.extensions.impl.XmlExtensionAdapter$SimpleConstructorInjectionAdapter.instantiateClass(XmlExtensionAdapter.kt:90)\n",
      "\tat com.intellij.openapi.extensions.impl.XmlExtensionAdapter.doCreateInstance(XmlExtensionAdapter.kt:50)\n",
      "\tat com.intellij.openapi.extensions.impl.XmlExtensionAdapter.createInstance(XmlExtensionAdapter.kt:31)\n",
      "\tat com.intellij.openapi.extensions.impl.ExtensionPointImpl.processAdapter(ExtensionPointImpl.java:447)\n",
      "\tat com.intellij.openapi.extensions.impl.ExtensionPointImpl.access$200(ExtensionPointImpl.java:33)\n",
      "\tat com.intellij.openapi.extensions.impl.ExtensionPointImpl$1.next(ExtensionPointImpl.java:355)\n",
      "\tat com.intellij.idea.ApplicationLoader.findAppStarter(ApplicationLoader.kt:595)\n",
      "\tat com.intellij.idea.ApplicationLoader.access$findAppStarter(ApplicationLoader.kt:1)\n",
      "\tat com.intellij.idea.ApplicationLoader$initApplication$block$3.apply(ApplicationLoader.kt:170)\n",
      "\tat com.intellij.idea.ApplicationLoader$initApplication$block$3.apply(ApplicationLoader.kt)\n",
      "\tat java.base/java.util.concurrent.CompletableFuture$UniCompose.tryFire(CompletableFuture.java:1150)\n",
      "\tat java.base/java.util.concurrent.CompletableFuture.postComplete(CompletableFuture.java:510)\n",
      "\tat java.base/java.util.concurrent.CompletableFuture.postFire(CompletableFuture.java:614)\n",
      "\tat java.base/java.util.concurrent.CompletableFuture$UniCompose.tryFire(CompletableFuture.java:1163)\n",
      "\tat java.base/java.util.concurrent.CompletableFuture$Completion.run(CompletableFuture.java:482)\n",
      "\tat com.intellij.idea.ApplicationLoader$initApplication$block$2.execute(ApplicationLoader.kt:142)\n",
      "\tat java.base/java.util.concurrent.CompletableFuture$UniCompletion.claim(CompletableFuture.java:572)\n",
      "\tat java.base/java.util.concurrent.CompletableFuture$UniCompose.tryFire(CompletableFuture.java:1147)\n",
      "\tat java.base/java.util.concurrent.CompletableFuture.postComplete(CompletableFuture.java:510)\n",
      "\tat java.base/java.util.concurrent.CompletableFuture.postFire(CompletableFuture.java:614)\n",
      "\tat java.base/java.util.concurrent.CompletableFuture$UniCompose.tryFire(CompletableFuture.java:1163)\n",
      "\tat java.base/java.util.concurrent.CompletableFuture$Completion.exec(CompletableFuture.java:483)\n",
      "\tat java.base/java.util.concurrent.ForkJoinTask.doExec(ForkJoinTask.java:373)\n",
      "\tat java.base/java.util.concurrent.ForkJoinPool$WorkQueue.topLevelExec(ForkJoinPool.java:1182)\n",
      "\tat java.base/java.util.concurrent.ForkJoinPool.scan(ForkJoinPool.java:1655)\n",
      "\tat java.base/java.util.concurrent.ForkJoinPool.runWorker(ForkJoinPool.java:1622)\n",
      "\tat java.base/java.util.concurrent.ForkJoinWorkerThread.run(ForkJoinWorkerThread.java:165)\n",
      "2022-12-06 12:48:45,014 [   1281] SEVERE - #c.i.d.LoadingState - PhpStorm 2022.2.3  Build #PS-222.4345.15\n",
      "2022-12-06 12:48:45,016 [   1283] SEVERE - #c.i.d.LoadingState - JDK: 17.0.4.1; VM: OpenJDK 64-Bit Server VM; Vendor: JetBrains s.r.o.\n",
      "2022-12-06 12:48:45,018 [   1285] SEVERE - #c.i.d.LoadingState - OS: Linux\n",
      "2022-12-06 12:48:45,613 [   1880] SEVERE - #c.i.d.LoadingState - Should be called at least in the state COMPONENTS_LOADED, the current state is: CONFIGURATION_STORE_INITIALIZED\n",
      "Current violators count: 2\n",
      "\n",
      "\n",
      "java.lang.Throwable\n",
      "\tat com.intellij.diagnostic.LoadingState.logStateError(LoadingState.java:52)\n",
      "\tat com.intellij.diagnostic.LoadingState.checkOccurred(LoadingState.java:48)\n",
      "\tat com.intellij.openapi.util.registry.Registry.getInstance(Registry.java:176)\n",
      "\tat com.intellij.openapi.util.registry.Registry.get(Registry.java:50)\n",
      "\tat com.intellij.openapi.util.registry.Registry.is(Registry.java:63)\n",
      "\tat com.intellij.execution.ExecutorRegistryImpl.isExecutorInMainGroup(ExecutorRegistryImpl.java:195)\n",
      "\tat com.intellij.execution.ExecutorRegistryImpl.initExecutorActions(ExecutorRegistryImpl.java:127)\n",
      "\tat com.intellij.execution.ExecutorRegistryImpl.init(ExecutorRegistryImpl.java:278)\n",
      "\tat com.intellij.execution.ExecutorRegistryImpl$ExecutorRegistryActionConfigurationTuner.customize(ExecutorRegistryImpl.java:92)\n",
      "\tat com.intellij.openapi.actionSystem.impl.ActionManagerImpl.lambda$new$0(ActionManagerImpl.java:141)\n",
      "\tat com.intellij.openapi.extensions.impl.ExtensionProcessingHelper.forEachExtensionSafe(ExtensionProcessingHelper.java:34)\n",
      "\tat com.intellij.openapi.extensions.ExtensionPointName.forEachExtensionSafe(ExtensionPointName.java:46)\n",
      "\tat com.intellij.openapi.actionSystem.impl.ActionManagerImpl.<init>(ActionManagerImpl.java:141)\n",
      "\tat com.jetbrains.rdserver.ui.actionPopupMenu.BackendActionManager.<init>(BackendActionManager.kt:17)\n",
      "\tat java.base/jdk.internal.reflect.NativeConstructorAccessorImpl.newInstance0(Native Method)\n",
      "\tat java.base/jdk.internal.reflect.NativeConstructorAccessorImpl.newInstance(NativeConstructorAccessorImpl.java:77)\n",
      "\tat java.base/jdk.internal.reflect.DelegatingConstructorAccessorImpl.newInstance(DelegatingConstructorAccessorImpl.java:45)\n",
      "\tat java.base/java.lang.reflect.Constructor.newInstanceWithCaller(Constructor.java:499)\n",
      "\tat java.base/java.lang.reflect.Constructor.newInstance(Constructor.java:480)\n",
      "\tat com.intellij.serviceContainer.ConstructorInjectionKt.instantiateUsingPicoContainer(constructorInjection.kt:47)\n",
      "\tat com.intellij.serviceContainer.ComponentManagerImpl.instantiateClassWithConstructorInjection(ComponentManagerImpl.kt:890)\n",
      "\tat com.intellij.serviceContainer.ServiceComponentAdapter.createAndInitialize(ServiceComponentAdapter.kt:51)\n",
      "\tat com.intellij.serviceContainer.ServiceComponentAdapter.doCreateInstance(ServiceComponentAdapter.kt:41)\n",
      "\tat com.intellij.serviceContainer.BaseComponentAdapter.getInstanceUncached(BaseComponentAdapter.kt:119)\n",
      "\tat com.intellij.serviceContainer.BaseComponentAdapter.getInstance(BaseComponentAdapter.kt:73)\n",
      "\tat com.intellij.serviceContainer.BaseComponentAdapter.getInstance$default(BaseComponentAdapter.kt:66)\n",
      "\tat com.intellij.serviceContainer.ComponentManagerImpl.doGetService(ComponentManagerImpl.kt:609)\n",
      "\tat com.intellij.serviceContainer.ComponentManagerImpl.getService(ComponentManagerImpl.kt:583)\n",
      "\tat com.intellij.openapi.client.ClientAwareComponentManager.getFromSelfOrCurrentSession(ClientAwareComponentManager.kt:37)\n",
      "\tat com.intellij.openapi.client.ClientAwareComponentManager.getService(ClientAwareComponentManager.kt:22)\n",
      "\tat com.intellij.openapi.actionSystem.ActionManager.getInstance(ActionManager.java:29)\n",
      "\tat com.intellij.help.impl.KeymapGenerator.<clinit>(KeymapGenerator.java:33)\n",
      "\tat java.base/jdk.internal.misc.Unsafe.allocateInstance(Native Method)\n",
      "\tat java.base/java.lang.invoke.DirectMethodHandle.allocateInstance(DirectMethodHandle.java:520)\n",
      "\tat com.intellij.serviceContainer.ComponentManagerImpl.instantiateClass(ComponentManagerImpl.kt:844)\n",
      "\tat com.intellij.openapi.extensions.impl.XmlExtensionAdapter.instantiateClass(XmlExtensionAdapter.kt:79)\n",
      "\tat com.intellij.openapi.extensions.impl.XmlExtensionAdapter$SimpleConstructorInjectionAdapter.instantiateClass(XmlExtensionAdapter.kt:90)\n",
      "\tat com.intellij.openapi.extensions.impl.XmlExtensionAdapter.doCreateInstance(XmlExtensionAdapter.kt:50)\n",
      "\tat com.intellij.openapi.extensions.impl.XmlExtensionAdapter.createInstance(XmlExtensionAdapter.kt:31)\n",
      "\tat com.intellij.openapi.extensions.impl.ExtensionPointImpl.processAdapter(ExtensionPointImpl.java:447)\n",
      "\tat com.intellij.openapi.extensions.impl.ExtensionPointImpl.access$200(ExtensionPointImpl.java:33)\n",
      "\tat com.intellij.openapi.extensions.impl.ExtensionPointImpl$1.next(ExtensionPointImpl.java:355)\n",
      "\tat com.intellij.idea.ApplicationLoader.findAppStarter(ApplicationLoader.kt:595)\n",
      "\tat com.intellij.idea.ApplicationLoader.access$findAppStarter(ApplicationLoader.kt:1)\n",
      "\tat com.intellij.idea.ApplicationLoader$initApplication$block$3.apply(ApplicationLoader.kt:170)\n",
      "\tat com.intellij.idea.ApplicationLoader$initApplication$block$3.apply(ApplicationLoader.kt)\n",
      "\tat java.base/java.util.concurrent.CompletableFuture$UniCompose.tryFire(CompletableFuture.java:1150)\n",
      "\tat java.base/java.util.concurrent.CompletableFuture.postComplete(CompletableFuture.java:510)\n",
      "\tat java.base/java.util.concurrent.CompletableFuture.postFire(CompletableFuture.java:614)\n",
      "\tat java.base/java.util.concurrent.CompletableFuture$UniCompose.tryFire(CompletableFuture.java:1163)\n",
      "\tat java.base/java.util.concurrent.CompletableFuture$Completion.run(CompletableFuture.java:482)\n",
      "\tat com.intellij.idea.ApplicationLoader$initApplication$block$2.execute(ApplicationLoader.kt:142)\n",
      "\tat java.base/java.util.concurrent.CompletableFuture$UniCompletion.claim(CompletableFuture.java:572)\n",
      "\tat java.base/java.util.concurrent.CompletableFuture$UniCompose.tryFire(CompletableFuture.java:1147)\n",
      "\tat java.base/java.util.concurrent.CompletableFuture.postComplete(CompletableFuture.java:510)\n",
      "\tat java.base/java.util.concurrent.CompletableFuture.postFire(CompletableFuture.java:614)\n",
      "\tat java.base/java.util.concurrent.CompletableFuture$UniCompose.tryFire(CompletableFuture.java:1163)\n",
      "\tat java.base/java.util.concurrent.CompletableFuture$Completion.exec(CompletableFuture.java:483)\n",
      "\tat java.base/java.util.concurrent.ForkJoinTask.doExec(ForkJoinTask.java:373)\n",
      "\tat java.base/java.util.concurrent.ForkJoinPool$WorkQueue.topLevelExec(ForkJoinPool.java:1182)\n",
      "\tat java.base/java.util.concurrent.ForkJoinPool.scan(ForkJoinPool.java:1655)\n",
      "\tat java.base/java.util.concurrent.ForkJoinPool.runWorker(ForkJoinPool.java:1622)\n",
      "\tat java.base/java.util.concurrent.ForkJoinWorkerThread.run(ForkJoinWorkerThread.java:165)\n",
      "2022-12-06 12:48:45,616 [   1883] SEVERE - #c.i.d.LoadingState - PhpStorm 2022.2.3  Build #PS-222.4345.15\n",
      "2022-12-06 12:48:45,617 [   1884] SEVERE - #c.i.d.LoadingState - JDK: 17.0.4.1; VM: OpenJDK 64-Bit Server VM; Vendor: JetBrains s.r.o.\n",
      "2022-12-06 12:48:45,618 [   1885] SEVERE - #c.i.d.LoadingState - OS: Linux\n"
     ]
    },
    {
     "name": "stdout",
     "output_type": "stream",
     "text": [
      "2022-12-06 12:48:45,642 [   1909] SEVERE - #c.i.d.LoadingState - Should be called at least in the state COMPONENTS_LOADED, the current state is: CONFIGURATION_STORE_INITIALIZED\n",
      "Current violators count: 3\n",
      "\n",
      "\n",
      "java.lang.Throwable\n",
      "\tat com.intellij.diagnostic.LoadingState.logStateError(LoadingState.java:52)\n",
      "\tat com.intellij.diagnostic.LoadingState.checkOccurred(LoadingState.java:48)\n",
      "\tat com.intellij.openapi.util.registry.Registry.getInstance(Registry.java:176)\n",
      "\tat com.intellij.openapi.util.registry.Registry.get(Registry.java:50)\n",
      "\tat com.intellij.openapi.util.registry.Registry.is(Registry.java:63)\n",
      "\tat com.intellij.openapi.wm.impl.GlobalMenuLinux._loadLibrary(GlobalMenuLinux.java:797)\n",
      "\tat com.intellij.openapi.wm.impl.GlobalMenuLinux.<clinit>(GlobalMenuLinux.java:164)\n",
      "\tat com.intellij.openapi.wm.impl.GlobalMenuLinux$MyActionTuner.customize(GlobalMenuLinux.java:230)\n",
      "\tat com.intellij.openapi.actionSystem.impl.ActionManagerImpl.lambda$new$0(ActionManagerImpl.java:141)\n",
      "\tat com.intellij.openapi.extensions.impl.ExtensionProcessingHelper.forEachExtensionSafe(ExtensionProcessingHelper.java:34)\n",
      "\tat com.intellij.openapi.extensions.ExtensionPointName.forEachExtensionSafe(ExtensionPointName.java:46)\n",
      "\tat com.intellij.openapi.actionSystem.impl.ActionManagerImpl.<init>(ActionManagerImpl.java:141)\n",
      "\tat com.jetbrains.rdserver.ui.actionPopupMenu.BackendActionManager.<init>(BackendActionManager.kt:17)\n",
      "\tat java.base/jdk.internal.reflect.NativeConstructorAccessorImpl.newInstance0(Native Method)\n",
      "\tat java.base/jdk.internal.reflect.NativeConstructorAccessorImpl.newInstance(NativeConstructorAccessorImpl.java:77)\n",
      "\tat java.base/jdk.internal.reflect.DelegatingConstructorAccessorImpl.newInstance(DelegatingConstructorAccessorImpl.java:45)\n",
      "\tat java.base/java.lang.reflect.Constructor.newInstanceWithCaller(Constructor.java:499)\n",
      "\tat java.base/java.lang.reflect.Constructor.newInstance(Constructor.java:480)\n",
      "\tat com.intellij.serviceContainer.ConstructorInjectionKt.instantiateUsingPicoContainer(constructorInjection.kt:47)\n",
      "\tat com.intellij.serviceContainer.ComponentManagerImpl.instantiateClassWithConstructorInjection(ComponentManagerImpl.kt:890)\n",
      "\tat com.intellij.serviceContainer.ServiceComponentAdapter.createAndInitialize(ServiceComponentAdapter.kt:51)\n",
      "\tat com.intellij.serviceContainer.ServiceComponentAdapter.doCreateInstance(ServiceComponentAdapter.kt:41)\n",
      "\tat com.intellij.serviceContainer.BaseComponentAdapter.getInstanceUncached(BaseComponentAdapter.kt:119)\n",
      "\tat com.intellij.serviceContainer.BaseComponentAdapter.getInstance(BaseComponentAdapter.kt:73)\n",
      "\tat com.intellij.serviceContainer.BaseComponentAdapter.getInstance$default(BaseComponentAdapter.kt:66)\n",
      "\tat com.intellij.serviceContainer.ComponentManagerImpl.doGetService(ComponentManagerImpl.kt:609)\n",
      "\tat com.intellij.serviceContainer.ComponentManagerImpl.getService(ComponentManagerImpl.kt:583)\n",
      "\tat com.intellij.openapi.client.ClientAwareComponentManager.getFromSelfOrCurrentSession(ClientAwareComponentManager.kt:37)\n",
      "\tat com.intellij.openapi.client.ClientAwareComponentManager.getService(ClientAwareComponentManager.kt:22)\n",
      "\tat com.intellij.openapi.actionSystem.ActionManager.getInstance(ActionManager.java:29)\n",
      "\tat com.intellij.help.impl.KeymapGenerator.<clinit>(KeymapGenerator.java:33)\n",
      "\tat java.base/jdk.internal.misc.Unsafe.allocateInstance(Native Method)\n",
      "\tat java.base/java.lang.invoke.DirectMethodHandle.allocateInstance(DirectMethodHandle.java:520)\n",
      "\tat com.intellij.serviceContainer.ComponentManagerImpl.instantiateClass(ComponentManagerImpl.kt:844)\n",
      "\tat com.intellij.openapi.extensions.impl.XmlExtensionAdapter.instantiateClass(XmlExtensionAdapter.kt:79)\n",
      "\tat com.intellij.openapi.extensions.impl.XmlExtensionAdapter$SimpleConstructorInjectionAdapter.instantiateClass(XmlExtensionAdapter.kt:90)\n",
      "\tat com.intellij.openapi.extensions.impl.XmlExtensionAdapter.doCreateInstance(XmlExtensionAdapter.kt:50)\n",
      "\tat com.intellij.openapi.extensions.impl.XmlExtensionAdapter.createInstance(XmlExtensionAdapter.kt:31)\n",
      "\tat com.intellij.openapi.extensions.impl.ExtensionPointImpl.processAdapter(ExtensionPointImpl.java:447)\n",
      "\tat com.intellij.openapi.extensions.impl.ExtensionPointImpl.access$200(ExtensionPointImpl.java:33)\n",
      "\tat com.intellij.openapi.extensions.impl.ExtensionPointImpl$1.next(ExtensionPointImpl.java:355)\n",
      "\tat com.intellij.idea.ApplicationLoader.findAppStarter(ApplicationLoader.kt:595)\n",
      "\tat com.intellij.idea.ApplicationLoader.access$findAppStarter(ApplicationLoader.kt:1)\n",
      "\tat com.intellij.idea.ApplicationLoader$initApplication$block$3.apply(ApplicationLoader.kt:170)\n",
      "\tat com.intellij.idea.ApplicationLoader$initApplication$block$3.apply(ApplicationLoader.kt)\n",
      "\tat java.base/java.util.concurrent.CompletableFuture$UniCompose.tryFire(CompletableFuture.java:1150)\n",
      "\tat java.base/java.util.concurrent.CompletableFuture.postComplete(CompletableFuture.java:510)\n",
      "\tat java.base/java.util.concurrent.CompletableFuture.postFire(CompletableFuture.java:614)\n",
      "\tat java.base/java.util.concurrent.CompletableFuture$UniCompose.tryFire(CompletableFuture.java:1163)\n",
      "\tat java.base/java.util.concurrent.CompletableFuture$Completion.run(CompletableFuture.java:482)\n",
      "\tat com.intellij.idea.ApplicationLoader$initApplication$block$2.execute(ApplicationLoader.kt:142)\n",
      "\tat java.base/java.util.concurrent.CompletableFuture$UniCompletion.claim(CompletableFuture.java:572)\n",
      "\tat java.base/java.util.concurrent.CompletableFuture$UniCompose.tryFire(CompletableFuture.java:1147)\n",
      "\tat java.base/java.util.concurrent.CompletableFuture.postComplete(CompletableFuture.java:510)\n",
      "\tat java.base/java.util.concurrent.CompletableFuture.postFire(CompletableFuture.java:614)\n",
      "\tat java.base/java.util.concurrent.CompletableFuture$UniCompose.tryFire(CompletableFuture.java:1163)\n",
      "\tat java.base/java.util.concurrent.CompletableFuture$Completion.exec(CompletableFuture.java:483)\n",
      "\tat java.base/java.util.concurrent.ForkJoinTask.doExec(ForkJoinTask.java:373)\n",
      "\tat java.base/java.util.concurrent.ForkJoinPool$WorkQueue.topLevelExec(ForkJoinPool.java:1182)\n",
      "\tat java.base/java.util.concurrent.ForkJoinPool.scan(ForkJoinPool.java:1655)\n",
      "\tat java.base/java.util.concurrent.ForkJoinPool.runWorker(ForkJoinPool.java:1622)\n",
      "\tat java.base/java.util.concurrent.ForkJoinWorkerThread.run(ForkJoinWorkerThread.java:165)\n",
      "2022-12-06 12:48:45,645 [   1912] SEVERE - #c.i.d.LoadingState - PhpStorm 2022.2.3  Build #PS-222.4345.15\n",
      "2022-12-06 12:48:45,647 [   1914] SEVERE - #c.i.d.LoadingState - JDK: 17.0.4.1; VM: OpenJDK 64-Bit Server VM; Vendor: JetBrains s.r.o.\n",
      "2022-12-06 12:48:45,647 [   1914] SEVERE - #c.i.d.LoadingState - OS: Linux\n",
      "Info  | RdCoroutineScope          | 43:JobScheduler FJ pool 3/3 | RdCoroutineHost overridden \n",
      "Initialize stderr logger, severity=LOGSEVERITY_DISABLE\n",
      "2022-12-06 12:49:11,786 [  28053]   WARN - #c.i.o.a.i.ActionUpdater - 3050 ms to grab EDT for BackAction#update@MainToolbar (com.intellij.ide.actions.BackAction)\n",
      "2022-12-06 12:49:13,260 [  29527]   WARN - #c.i.o.a.i.ActionUpdater - 3050 ms total to grab EDT 1 times to expand DefaultActionGroup@MainToolbar (CustomisedActionGroup/com.intellij.openapi.actionSystem.DefaultActionGroup). Use `ActionUpdateThread.BGT`.\n",
      "2022-12-06 12:49:16,819 [  33086]   WARN - #c.i.o.v.ExternallyAddedFilesProcessorImpl - Cannot find project config directory for non-default and non-directory based project project\n",
      "2022-12-06 12:49:17,005 [  33272]   WARN - #c.i.o.v.ExternallyAddedFilesProcessorImpl - Cannot find project config directory for non-default and non-directory based project project\n",
      "2022-12-06 12:50:49,147 [ 125414]   WARN - #o.e.l.s.p.EditorConfigJsonSchemaParser - Found illegal descriptor: {}\n",
      "2022-12-06 12:50:49,148 [ 125415]   WARN - #o.e.l.s.p.EditorConfigJsonSchemaParser - Found illegal descriptor: {}\n",
      "2022-12-06 12:50:49,160 [ 125427]   WARN - #o.e.l.s.p.EditorConfigJsonSchemaParser - Found illegal descriptor: {}\n",
      "2022-12-06 12:50:49,162 [ 125429]   WARN - #o.e.l.s.p.EditorConfigJsonSchemaParser - Found illegal descriptor: {}\n",
      "2022-12-06 12:50:49,165 [ 125432]   WARN - #o.e.l.s.p.EditorConfigJsonSchemaParser - Found illegal descriptor: {}\n",
      "2022-12-06 12:50:49,165 [ 125432]   WARN - #o.e.l.s.p.EditorConfigJsonSchemaParser - Found illegal descriptor: {}\n",
      "2022-12-06 12:50:49,165 [ 125432]   WARN - #o.e.l.s.p.EditorConfigJsonSchemaParser - Found illegal descriptor: {}\n",
      "2022-12-06 12:50:49,166 [ 125433]   WARN - #o.e.l.s.p.EditorConfigJsonSchemaParser - Found illegal descriptor: {}\n"
     ]
    },
    {
     "name": "stdout",
     "output_type": "stream",
     "text": [
      "2022-12-06 12:50:56,932 [ 133199]   WARN - #c.j.p.p.PharHandler - Stub end marker missing: /home/student/php_2022_adam_lewinski/09_laravel_tdd/project/vendor/bin/phpstan.phar\n",
      "java.io.IOException: Stub end marker missing\n",
      "\tat com.jetbrains.php.phar.PharHandler.readStub(PharHandler.java:125)\n",
      "\tat com.jetbrains.php.phar.PharHandler.createEntriesMap(PharHandler.java:60)\n",
      "\tat com.intellij.openapi.vfs.impl.ArchiveHandler.getEntriesMap(ArchiveHandler.java:188)\n",
      "\tat com.intellij.openapi.vfs.impl.ArchiveHandler.getEntryInfo(ArchiveHandler.java:173)\n",
      "\tat com.intellij.openapi.vfs.impl.ArchiveHandler.list(ArchiveHandler.java:90)\n",
      "\tat com.intellij.openapi.vfs.newvfs.ArchiveFileSystem.lambda$new$1(ArchiveFileSystem.java:143)\n",
      "\tat com.intellij.openapi.vfs.DiskQueryRelay.lambda$accessDiskWithCheckCanceled$0(DiskQueryRelay.java:42)\n",
      "\tat java.base/java.util.concurrent.FutureTask.run(FutureTask.java:264)\n",
      "\tat java.base/java.util.concurrent.ThreadPoolExecutor.runWorker(ThreadPoolExecutor.java:1136)\n",
      "\tat java.base/java.util.concurrent.ThreadPoolExecutor$Worker.run(ThreadPoolExecutor.java:635)\n",
      "\tat java.base/java.util.concurrent.Executors$PrivilegedThreadFactory$1$1.run(Executors.java:702)\n",
      "\tat java.base/java.util.concurrent.Executors$PrivilegedThreadFactory$1$1.run(Executors.java:699)\n",
      "\tat java.base/java.security.AccessController.doPrivileged(AccessController.java:399)\n",
      "\tat java.base/java.util.concurrent.Executors$PrivilegedThreadFactory$1.run(Executors.java:699)\n",
      "\tat java.base/java.lang.Thread.run(Thread.java:833)\n",
      "2022-12-06 12:51:25,390 [ 161657]   WARN - #c.j.p.p.PharLibraryManager - Frequent root change. Source class com.jetbrains.php.phar.PharLibraryManager, delta 698.\n",
      "Old roots: [phar:///home/student/php_2022_adam_lewinski/09_laravel_tdd/project/vendor/bin/phpstan.phar/]\n",
      "New Roots: [phar:///home/student/php_2022_adam_lewinski/09_laravel_tdd/project/vendor/bin/phpstan.phar/, phar:///home/student/php_2022_adam_lewinski/09_laravel_tdd/project/vendor/phpstan/phpstan/phpstan.phar/]\n"
     ]
    }
   ],
   "source": [
    "! phpstorm project"
   ]
  },
  {
   "cell_type": "markdown",
   "metadata": {},
   "source": [
    "You can test your solution using included tests:"
   ]
  },
  {
   "cell_type": "code",
   "execution_count": 3,
   "metadata": {},
   "outputs": [
    {
     "name": "stdout",
     "output_type": "stream",
     "text": [
      "/home/student/php_2022_adam_lewinski/09_laravel_tdd/project\n"
     ]
    }
   ],
   "source": [
    "%cd project"
   ]
  },
  {
   "cell_type": "code",
   "execution_count": 4,
   "metadata": {},
   "outputs": [
    {
     "name": "stdout",
     "output_type": "stream",
     "text": [
      "\u001b[32mInstalling dependencies from lock file (including require-dev)\u001b[39m\n",
      "\u001b[32mVerifying lock file contents can be installed on current platform.\u001b[39m\n",
      "\u001b[32mPackage operations: 135 installs, 0 updates, 0 removals\u001b[39m\n",
      "  - Downloading \u001b[32mbehat/gherkin\u001b[39m (\u001b[33mv4.9.0\u001b[39m)\n",
      "  - Downloading \u001b[32msymfony/css-selector\u001b[39m (\u001b[33mv6.1.3\u001b[39m)\n",
      "  - Downloading \u001b[32mralouphie/getallheaders\u001b[39m (\u001b[33m3.0.3\u001b[39m)\n",
      "  - Downloading \u001b[32mpsr/http-message\u001b[39m (\u001b[33m1.0.1\u001b[39m)\n",
      "  - Downloading \u001b[32mpsr/http-factory\u001b[39m (\u001b[33m1.0.1\u001b[39m)\n",
      "  - Downloading \u001b[32mguzzlehttp/psr7\u001b[39m (\u001b[33m2.4.3\u001b[39m)\n",
      "  - Downloading \u001b[32msymfony/polyfill-mbstring\u001b[39m (\u001b[33mv1.27.0\u001b[39m)\n",
      "  - Downloading \u001b[32mcodeception/lib-web\u001b[39m (\u001b[33m1.0.1\u001b[39m)\n",
      "  - Downloading \u001b[32msymfony/polyfill-ctype\u001b[39m (\u001b[33mv1.27.0\u001b[39m)\n",
      "  - Downloading \u001b[32msymfony/yaml\u001b[39m (\u001b[33mv6.1.6\u001b[39m)\n",
      "  - Downloading \u001b[32msymfony/var-dumper\u001b[39m (\u001b[33mv6.1.6\u001b[39m)\n",
      "  - Downloading \u001b[32msymfony/finder\u001b[39m (\u001b[33mv6.1.3\u001b[39m)\n",
      "  - Downloading \u001b[32mpsr/event-dispatcher\u001b[39m (\u001b[33m1.0.0\u001b[39m)\n",
      "  - Downloading \u001b[32msymfony/event-dispatcher-contracts\u001b[39m (\u001b[33mv3.1.1\u001b[39m)\n",
      "  - Downloading \u001b[32msymfony/event-dispatcher\u001b[39m (\u001b[33mv6.1.0\u001b[39m)\n",
      "  - Downloading \u001b[32msymfony/polyfill-intl-normalizer\u001b[39m (\u001b[33mv1.27.0\u001b[39m)\n",
      "  - Downloading \u001b[32msymfony/polyfill-intl-grapheme\u001b[39m (\u001b[33mv1.27.0\u001b[39m)\n",
      "  - Downloading \u001b[32msymfony/console\u001b[39m (\u001b[33mv6.1.7\u001b[39m)\n",
      "  - Downloading \u001b[32msebastian/diff\u001b[39m (\u001b[33m4.0.4\u001b[39m)\n",
      "  - Downloading \u001b[32msebastian/recursion-context\u001b[39m (\u001b[33m4.0.4\u001b[39m)\n",
      "  - Downloading \u001b[32msebastian/exporter\u001b[39m (\u001b[33m4.0.5\u001b[39m)\n",
      "  - Downloading \u001b[32msebastian/comparator\u001b[39m (\u001b[33m4.0.8\u001b[39m)\n",
      "  - Downloading \u001b[32mnikic/php-parser\u001b[39m (\u001b[33mv4.15.2\u001b[39m)\n",
      "  - Downloading \u001b[32mpsy/psysh\u001b[39m (\u001b[33mv0.11.9\u001b[39m)\n",
      "  - Downloading \u001b[32msebastian/version\u001b[39m (\u001b[33m3.0.2\u001b[39m)\n",
      "  - Downloading \u001b[32msebastian/type\u001b[39m (\u001b[33m3.2.0\u001b[39m)\n",
      "  - Downloading \u001b[32msebastian/resource-operations\u001b[39m (\u001b[33m3.0.3\u001b[39m)\n",
      "  - Downloading \u001b[32msebastian/object-reflector\u001b[39m (\u001b[33m2.0.4\u001b[39m)\n",
      "  - Downloading \u001b[32msebastian/object-enumerator\u001b[39m (\u001b[33m4.0.4\u001b[39m)\n",
      "  - Downloading \u001b[32msebastian/global-state\u001b[39m (\u001b[33m5.0.5\u001b[39m)\n",
      "  - Downloading \u001b[32msebastian/environment\u001b[39m (\u001b[33m5.1.4\u001b[39m)\n",
      "  - Downloading \u001b[32msebastian/code-unit\u001b[39m (\u001b[33m1.0.8\u001b[39m)\n",
      "  - Downloading \u001b[32msebastian/cli-parser\u001b[39m (\u001b[33m1.0.1\u001b[39m)\n",
      "  - Downloading \u001b[32mphpunit/php-timer\u001b[39m (\u001b[33m5.0.3\u001b[39m)\n",
      "  - Downloading \u001b[32mphpunit/php-text-template\u001b[39m (\u001b[33m2.0.4\u001b[39m)\n",
      "  - Downloading \u001b[32mphpunit/php-invoker\u001b[39m (\u001b[33m3.1.1\u001b[39m)\n",
      "  - Downloading \u001b[32mphpunit/php-file-iterator\u001b[39m (\u001b[33m3.0.6\u001b[39m)\n",
      "  - Downloading \u001b[32mtheseer/tokenizer\u001b[39m (\u001b[33m1.2.1\u001b[39m)\n",
      "  - Downloading \u001b[32msebastian/lines-of-code\u001b[39m (\u001b[33m1.0.3\u001b[39m)\n",
      "  - Downloading \u001b[32msebastian/complexity\u001b[39m (\u001b[33m2.0.2\u001b[39m)\n",
      "  - Downloading \u001b[32msebastian/code-unit-reverse-lookup\u001b[39m (\u001b[33m2.0.3\u001b[39m)\n",
      "  - Downloading \u001b[32mphpunit/php-code-coverage\u001b[39m (\u001b[33m9.2.19\u001b[39m)\n",
      "  - Downloading \u001b[32mphar-io/version\u001b[39m (\u001b[33m3.2.1\u001b[39m)\n",
      "  - Downloading \u001b[32mphar-io/manifest\u001b[39m (\u001b[33m2.0.3\u001b[39m)\n",
      "  - Downloading \u001b[32mmyclabs/deep-copy\u001b[39m (\u001b[33m1.11.0\u001b[39m)\n",
      "  - Downloading \u001b[32mdoctrine/instantiator\u001b[39m (\u001b[33m1.4.1\u001b[39m)\n",
      "  - Downloading \u001b[32mphpunit/phpunit\u001b[39m (\u001b[33m9.5.26\u001b[39m)\n",
      "  - Downloading \u001b[32mcodeception/stub\u001b[39m (\u001b[33m4.0.2\u001b[39m)\n",
      "  - Downloading \u001b[32mcodeception/lib-asserts\u001b[39m (\u001b[33m2.0.1\u001b[39m)\n",
      "  - Downloading \u001b[32mcodeception/codeception\u001b[39m (\u001b[33m5.0.4\u001b[39m)\n",
      "  - Downloading \u001b[32mcodeception/module-asserts\u001b[39m (\u001b[33m3.0.0\u001b[39m)\n",
      "  - Downloading \u001b[32mcodeception/module-db\u001b[39m (\u001b[33m3.0.1\u001b[39m)\n",
      "  - Downloading \u001b[32mmasterminds/html5\u001b[39m (\u001b[33m2.7.6\u001b[39m)\n",
      "  - Downloading \u001b[32msymfony/dom-crawler\u001b[39m (\u001b[33mv6.1.7\u001b[39m)\n",
      "  - Downloading \u001b[32msymfony/browser-kit\u001b[39m (\u001b[33mv6.1.3\u001b[39m)\n",
      "  - Downloading \u001b[32mpsr/http-client\u001b[39m (\u001b[33m1.0.1\u001b[39m)\n",
      "  - Downloading \u001b[32mguzzlehttp/promises\u001b[39m (\u001b[33m1.5.2\u001b[39m)\n",
      "  - Downloading \u001b[32mguzzlehttp/guzzle\u001b[39m (\u001b[33m7.5.0\u001b[39m)\n",
      "  - Downloading \u001b[32mcodeception/lib-innerbrowser\u001b[39m (\u001b[33m3.1.3\u001b[39m)\n",
      "  - Downloading \u001b[32mcodeception/module-phpbrowser\u001b[39m (\u001b[33m3.0.0\u001b[39m)\n",
      "  - Downloading \u001b[32mcomposer/pcre\u001b[39m (\u001b[33m3.1.0\u001b[39m)\n",
      "  - Downloading \u001b[32mdoctrine/inflector\u001b[39m (\u001b[33m2.0.6\u001b[39m)\n",
      "  - Downloading \u001b[32mdoctrine/lexer\u001b[39m (\u001b[33m1.2.3\u001b[39m)\n",
      "  - Downloading \u001b[32mwebmozart/assert\u001b[39m (\u001b[33m1.11.0\u001b[39m)\n",
      "  - Downloading \u001b[32mdragonmantank/cron-expression\u001b[39m (\u001b[33mv3.3.2\u001b[39m)\n",
      "  - Downloading \u001b[32mfakerphp/faker\u001b[39m (\u001b[33mv1.20.0\u001b[39m)\n",
      "  - Downloading \u001b[32msymfony/stopwatch\u001b[39m (\u001b[33mv6.1.5\u001b[39m)\n",
      "  - Downloading \u001b[32msymfony/process\u001b[39m (\u001b[33mv6.1.3\u001b[39m)\n",
      "  - Downloading \u001b[32msymfony/polyfill-php81\u001b[39m (\u001b[33mv1.27.0\u001b[39m)\n",
      "  - Downloading \u001b[32msymfony/polyfill-php80\u001b[39m (\u001b[33mv1.27.0\u001b[39m)\n",
      "  - Downloading \u001b[32msymfony/options-resolver\u001b[39m (\u001b[33mv6.1.0\u001b[39m)\n",
      "  - Downloading \u001b[32msymfony/filesystem\u001b[39m (\u001b[33mv6.1.5\u001b[39m)\n",
      "  - Downloading \u001b[32mpsr/cache\u001b[39m (\u001b[33m3.0.0\u001b[39m)\n",
      "  - Downloading \u001b[32mdoctrine/annotations\u001b[39m (\u001b[33m1.13.3\u001b[39m)\n",
      "  - Downloading \u001b[32mpsr/log\u001b[39m (\u001b[33m3.0.0\u001b[39m)\n",
      "  - Downloading \u001b[32mcomposer/xdebug-handler\u001b[39m (\u001b[33m3.0.3\u001b[39m)\n",
      "  - Downloading \u001b[32mcomposer/semver\u001b[39m (\u001b[33m3.3.2\u001b[39m)\n",
      "  - Downloading \u001b[32mfriendsofphp/php-cs-fixer\u001b[39m (\u001b[33mv3.13.0\u001b[39m)\n",
      "  - Downloading \u001b[32msymfony/http-foundation\u001b[39m (\u001b[33mv6.1.7\u001b[39m)\n",
      "  - Downloading \u001b[32mfruitcake/php-cors\u001b[39m (\u001b[33mv1.2.0\u001b[39m)\n",
      "  - Downloading \u001b[32mnette/utils\u001b[39m (\u001b[33mv3.2.8\u001b[39m)\n",
      "  - Downloading \u001b[32mnette/schema\u001b[39m (\u001b[33mv1.2.3\u001b[39m)\n",
      "  - Downloading \u001b[32mdflydev/dot-access-data\u001b[39m (\u001b[33mv3.0.2\u001b[39m)\n",
      "  - Downloading \u001b[32mleague/config\u001b[39m (\u001b[33mv1.1.1\u001b[39m)\n",
      "  - Downloading \u001b[32mleague/commonmark\u001b[39m (\u001b[33m2.3.7\u001b[39m)\n",
      "  - Downloading \u001b[32mvoku/portable-ascii\u001b[39m (\u001b[33m2.0.1\u001b[39m)\n",
      "  - Downloading \u001b[32mphpoption/phpoption\u001b[39m (\u001b[33m1.9.0\u001b[39m)\n",
      "  - Downloading \u001b[32mgraham-campbell/result-type\u001b[39m (\u001b[33mv1.1.0\u001b[39m)\n",
      "  - Downloading \u001b[32mvlucas/phpdotenv\u001b[39m (\u001b[33mv5.5.0\u001b[39m)\n",
      "  - Downloading \u001b[32mtijsverkoyen/css-to-inline-styles\u001b[39m (\u001b[33m2.2.5\u001b[39m)\n",
      "  - Downloading \u001b[32msymfony/polyfill-uuid\u001b[39m (\u001b[33mv1.27.0\u001b[39m)\n",
      "  - Downloading \u001b[32msymfony/uid\u001b[39m (\u001b[33mv6.1.5\u001b[39m)\n",
      "  - Downloading \u001b[32msymfony/routing\u001b[39m (\u001b[33mv6.1.7\u001b[39m)\n",
      "  - Downloading \u001b[32msymfony/polyfill-php72\u001b[39m (\u001b[33mv1.27.0\u001b[39m)\n",
      "  - Downloading \u001b[32msymfony/polyfill-intl-idn\u001b[39m (\u001b[33mv1.27.0\u001b[39m)\n",
      "  - Downloading \u001b[32msymfony/mime\u001b[39m (\u001b[33mv6.1.7\u001b[39m)\n",
      "  - Downloading \u001b[32megulias/email-validator\u001b[39m (\u001b[33m3.2.1\u001b[39m)\n",
      "  - Downloading \u001b[32msymfony/mailer\u001b[39m (\u001b[33mv6.1.7\u001b[39m)\n",
      "  - Downloading \u001b[32msymfony/error-handler\u001b[39m (\u001b[33mv6.1.7\u001b[39m)\n",
      "  - Downloading \u001b[32msymfony/http-kernel\u001b[39m (\u001b[33mv6.1.7\u001b[39m)\n",
      "  - Downloading \u001b[32mramsey/uuid\u001b[39m (\u001b[33m4.6.0\u001b[39m)\n",
      "  - Downloading \u001b[32mpsr/simple-cache\u001b[39m (\u001b[33m3.0.0\u001b[39m)\n",
      "  - Downloading \u001b[32mnunomaduro/termwind\u001b[39m (\u001b[33mv1.14.2\u001b[39m)\n",
      "  - Downloading \u001b[32msymfony/translation-contracts\u001b[39m (\u001b[33mv3.1.1\u001b[39m)\n",
      "  - Downloading \u001b[32msymfony/translation\u001b[39m (\u001b[33mv6.1.6\u001b[39m)\n",
      "  - Downloading \u001b[32mnesbot/carbon\u001b[39m (\u001b[33m2.63.0\u001b[39m)\n",
      "  - Downloading \u001b[32mmonolog/monolog\u001b[39m (\u001b[33m2.8.0\u001b[39m)\n",
      "  - Downloading \u001b[32mleague/mime-type-detection\u001b[39m (\u001b[33m1.11.0\u001b[39m)\n",
      "  - Downloading \u001b[32mleague/flysystem\u001b[39m (\u001b[33m3.10.3\u001b[39m)\n",
      "  - Downloading \u001b[32mlaravel/serializable-closure\u001b[39m (\u001b[33mv1.2.2\u001b[39m)\n",
      "  - Downloading \u001b[32mlaravel/framework\u001b[39m (\u001b[33mv9.40.1\u001b[39m)\n",
      "  - Downloading \u001b[32mgraham-campbell/markdown\u001b[39m (\u001b[33mv14.0.0\u001b[39m)\n",
      "  - Downloading \u001b[32mhamcrest/hamcrest-php\u001b[39m (\u001b[33mv2.0.1\u001b[39m)\n",
      "  - Downloading \u001b[32mlaravel/breeze\u001b[39m (\u001b[33mv1.15.3\u001b[39m)\n",
      "  - Downloading \u001b[32mlaravel/pint\u001b[39m (\u001b[33mv1.2.0\u001b[39m)\n",
      "  - Downloading \u001b[32mlaravel/sail\u001b[39m (\u001b[33mv1.16.2\u001b[39m)\n",
      "  - Downloading \u001b[32mlaravel/sanctum\u001b[39m (\u001b[33mv3.0.1\u001b[39m)\n",
      "  - Downloading \u001b[32mlaravel/tinker\u001b[39m (\u001b[33mv2.7.3\u001b[39m)\n",
      "  - Downloading \u001b[32mfilp/whoops\u001b[39m (\u001b[33m2.14.6\u001b[39m)\n",
      "  - Downloading \u001b[32mnunomaduro/collision\u001b[39m (\u001b[33mv6.3.1\u001b[39m)\n",
      "  - Downloading \u001b[32mphpstan/phpstan\u001b[39m (\u001b[33m1.9.2\u001b[39m)\n",
      "  - Downloading \u001b[32mphpmyadmin/sql-parser\u001b[39m (\u001b[33m5.5.0\u001b[39m)\n",
      "  - Downloading \u001b[32mmockery/mockery\u001b[39m (\u001b[33m1.5.1\u001b[39m)\n",
      "  - Downloading \u001b[32mnunomaduro/larastan\u001b[39m (\u001b[33m2.2.9\u001b[39m)\n",
      "  - Downloading \u001b[32msebastian/phpcpd\u001b[39m (\u001b[33m6.0.3\u001b[39m)\n",
      "  - Downloading \u001b[32mspatie/backtrace\u001b[39m (\u001b[33m1.2.1\u001b[39m)\n",
      "  - Downloading \u001b[32mspatie/flare-client-php\u001b[39m (\u001b[33m1.3.1\u001b[39m)\n",
      "  - Downloading \u001b[32mspatie/ignition\u001b[39m (\u001b[33m1.4.1\u001b[39m)\n",
      "  - Downloading \u001b[32mspatie/laravel-ignition\u001b[39m (\u001b[33m1.6.1\u001b[39m)\n"
     ]
    },
    {
     "name": "stdout",
     "output_type": "stream",
     "text": [
      "   0/129 [>---------------------------]   0%\u001b[1G\u001b[2K  10/129 [==>-------------------------]   7%\u001b[1G\u001b[2K  16/129 [===>------------------------]  12%\u001b[1G\u001b[2K  36/129 [=======>--------------------]  27%\u001b[1G\u001b[2K  39/129 [========>-------------------]  30%\u001b[1G\u001b[2K  52/129 [===========>----------------]  40%\u001b[1G\u001b[2K  69/129 [==============>-------------]  53%\u001b[1G\u001b[2K  78/129 [================>-----------]  60%\u001b[1G\u001b[2K  92/129 [===================>--------]  71%\u001b[1G\u001b[2K 104/129 [======================>-----]  80%\u001b[1G\u001b[2K 117/129 [=========================>--]  90%\u001b[1G\u001b[2K 124/129 [==========================>-]  96%\u001b[1G\u001b[2K 125/129 [===========================>]  96%\u001b[1G\u001b[2K 127/129 [===========================>]  98%\u001b[1G\u001b[2K 128/129 [===========================>]  99%\u001b[1G\u001b[2K 129/129 [============================] 100%\u001b[1G\u001b[2K  - Installing \u001b[32mbehat/gherkin\u001b[39m (\u001b[33mv4.9.0\u001b[39m): Extracting archive\n",
      "  - Installing \u001b[32msymfony/css-selector\u001b[39m (\u001b[33mv6.1.3\u001b[39m): Extracting archive\n",
      "  - Installing \u001b[32mralouphie/getallheaders\u001b[39m (\u001b[33m3.0.3\u001b[39m): Extracting archive\n",
      "  - Installing \u001b[32mpsr/http-message\u001b[39m (\u001b[33m1.0.1\u001b[39m): Extracting archive\n",
      "  - Installing \u001b[32mpsr/http-factory\u001b[39m (\u001b[33m1.0.1\u001b[39m): Extracting archive\n",
      "  - Installing \u001b[32mguzzlehttp/psr7\u001b[39m (\u001b[33m2.4.3\u001b[39m): Extracting archive\n",
      "  - Installing \u001b[32msymfony/polyfill-mbstring\u001b[39m (\u001b[33mv1.27.0\u001b[39m): Extracting archive\n",
      "  - Installing \u001b[32mcodeception/lib-web\u001b[39m (\u001b[33m1.0.1\u001b[39m): Extracting archive\n",
      "  - Installing \u001b[32msymfony/polyfill-ctype\u001b[39m (\u001b[33mv1.27.0\u001b[39m): Extracting archive\n",
      "  - Installing \u001b[32msymfony/yaml\u001b[39m (\u001b[33mv6.1.6\u001b[39m): Extracting archive\n",
      "  - Installing \u001b[32msymfony/var-dumper\u001b[39m (\u001b[33mv6.1.6\u001b[39m): Extracting archive\n",
      "  - Installing \u001b[32msymfony/finder\u001b[39m (\u001b[33mv6.1.3\u001b[39m): Extracting archive\n",
      "  - Installing \u001b[32mpsr/event-dispatcher\u001b[39m (\u001b[33m1.0.0\u001b[39m): Extracting archive\n",
      "  - Installing \u001b[32msymfony/event-dispatcher-contracts\u001b[39m (\u001b[33mv3.1.1\u001b[39m): Extracting archive\n",
      "  - Installing \u001b[32msymfony/event-dispatcher\u001b[39m (\u001b[33mv6.1.0\u001b[39m): Extracting archive\n",
      "  - Installing \u001b[32msymfony/polyfill-intl-normalizer\u001b[39m (\u001b[33mv1.27.0\u001b[39m): Extracting archive\n",
      "  - Installing \u001b[32msymfony/polyfill-intl-grapheme\u001b[39m (\u001b[33mv1.27.0\u001b[39m): Extracting archive\n",
      "  - Installing \u001b[32msymfony/string\u001b[39m (\u001b[33mv6.1.7\u001b[39m): Extracting archive\n",
      "  - Installing \u001b[32mpsr/container\u001b[39m (\u001b[33m2.0.2\u001b[39m): Extracting archive\n",
      "  - Installing \u001b[32msymfony/service-contracts\u001b[39m (\u001b[33mv3.1.1\u001b[39m): Extracting archive\n",
      "  - Installing \u001b[32msymfony/deprecation-contracts\u001b[39m (\u001b[33mv3.1.1\u001b[39m): Extracting archive\n",
      "  - Installing \u001b[32msymfony/console\u001b[39m (\u001b[33mv6.1.7\u001b[39m): Extracting archive\n",
      "  - Installing \u001b[32msebastian/diff\u001b[39m (\u001b[33m4.0.4\u001b[39m): Extracting archive\n",
      "  - Installing \u001b[32msebastian/recursion-context\u001b[39m (\u001b[33m4.0.4\u001b[39m): Extracting archive\n",
      "  - Installing \u001b[32msebastian/exporter\u001b[39m (\u001b[33m4.0.5\u001b[39m): Extracting archive\n",
      "  - Installing \u001b[32msebastian/comparator\u001b[39m (\u001b[33m4.0.8\u001b[39m): Extracting archive\n",
      "  - Installing \u001b[32mnikic/php-parser\u001b[39m (\u001b[33mv4.15.2\u001b[39m): Extracting archive\n",
      "  - Installing \u001b[32mpsy/psysh\u001b[39m (\u001b[33mv0.11.9\u001b[39m): Extracting archive\n",
      "  - Installing \u001b[32msebastian/version\u001b[39m (\u001b[33m3.0.2\u001b[39m): Extracting archive\n",
      "  - Installing \u001b[32msebastian/type\u001b[39m (\u001b[33m3.2.0\u001b[39m): Extracting archive\n",
      "  - Installing \u001b[32msebastian/resource-operations\u001b[39m (\u001b[33m3.0.3\u001b[39m): Extracting archive\n",
      "  - Installing \u001b[32msebastian/object-reflector\u001b[39m (\u001b[33m2.0.4\u001b[39m): Extracting archive\n",
      "  - Installing \u001b[32msebastian/object-enumerator\u001b[39m (\u001b[33m4.0.4\u001b[39m): Extracting archive\n",
      "  - Installing \u001b[32msebastian/global-state\u001b[39m (\u001b[33m5.0.5\u001b[39m): Extracting archive\n",
      "  - Installing \u001b[32msebastian/environment\u001b[39m (\u001b[33m5.1.4\u001b[39m): Extracting archive\n",
      "  - Installing \u001b[32msebastian/code-unit\u001b[39m (\u001b[33m1.0.8\u001b[39m): Extracting archive\n",
      "  - Installing \u001b[32msebastian/cli-parser\u001b[39m (\u001b[33m1.0.1\u001b[39m): Extracting archive\n",
      "  - Installing \u001b[32mphpunit/php-timer\u001b[39m (\u001b[33m5.0.3\u001b[39m): Extracting archive\n",
      "  - Installing \u001b[32mphpunit/php-text-template\u001b[39m (\u001b[33m2.0.4\u001b[39m): Extracting archive\n",
      "  - Installing \u001b[32mphpunit/php-invoker\u001b[39m (\u001b[33m3.1.1\u001b[39m): Extracting archive\n",
      "  - Installing \u001b[32mphpunit/php-file-iterator\u001b[39m (\u001b[33m3.0.6\u001b[39m): Extracting archive\n",
      "  - Installing \u001b[32mtheseer/tokenizer\u001b[39m (\u001b[33m1.2.1\u001b[39m): Extracting archive\n",
      "  - Installing \u001b[32msebastian/lines-of-code\u001b[39m (\u001b[33m1.0.3\u001b[39m): Extracting archive\n",
      "  - Installing \u001b[32msebastian/complexity\u001b[39m (\u001b[33m2.0.2\u001b[39m): Extracting archive\n",
      "  - Installing \u001b[32msebastian/code-unit-reverse-lookup\u001b[39m (\u001b[33m2.0.3\u001b[39m): Extracting archive\n",
      "  - Installing \u001b[32mphpunit/php-code-coverage\u001b[39m (\u001b[33m9.2.19\u001b[39m): Extracting archive\n",
      "  - Installing \u001b[32mphar-io/version\u001b[39m (\u001b[33m3.2.1\u001b[39m): Extracting archive\n",
      "  - Installing \u001b[32mphar-io/manifest\u001b[39m (\u001b[33m2.0.3\u001b[39m): Extracting archive\n",
      "  - Installing \u001b[32mmyclabs/deep-copy\u001b[39m (\u001b[33m1.11.0\u001b[39m): Extracting archive\n",
      "  - Installing \u001b[32mdoctrine/instantiator\u001b[39m (\u001b[33m1.4.1\u001b[39m): Extracting archive\n",
      "  - Installing \u001b[32mphpunit/phpunit\u001b[39m (\u001b[33m9.5.26\u001b[39m): Extracting archive\n",
      "  - Installing \u001b[32mcodeception/stub\u001b[39m (\u001b[33m4.0.2\u001b[39m): Extracting archive\n",
      "  - Installing \u001b[32mcodeception/lib-asserts\u001b[39m (\u001b[33m2.0.1\u001b[39m): Extracting archive\n",
      "  - Installing \u001b[32mcodeception/codeception\u001b[39m (\u001b[33m5.0.4\u001b[39m): Extracting archive\n",
      "  - Installing \u001b[32mcodeception/module-asserts\u001b[39m (\u001b[33m3.0.0\u001b[39m): Extracting archive\n",
      "  - Installing \u001b[32mcodeception/module-db\u001b[39m (\u001b[33m3.0.1\u001b[39m): Extracting archive\n",
      "  - Installing \u001b[32mmasterminds/html5\u001b[39m (\u001b[33m2.7.6\u001b[39m): Extracting archive\n",
      "  - Installing \u001b[32msymfony/dom-crawler\u001b[39m (\u001b[33mv6.1.7\u001b[39m): Extracting archive\n",
      "  - Installing \u001b[32msymfony/browser-kit\u001b[39m (\u001b[33mv6.1.3\u001b[39m): Extracting archive\n",
      "  - Installing \u001b[32mpsr/http-client\u001b[39m (\u001b[33m1.0.1\u001b[39m): Extracting archive\n",
      "  - Installing \u001b[32mguzzlehttp/promises\u001b[39m (\u001b[33m1.5.2\u001b[39m): Extracting archive\n",
      "  - Installing \u001b[32mguzzlehttp/guzzle\u001b[39m (\u001b[33m7.5.0\u001b[39m): Extracting archive\n",
      "  - Installing \u001b[32mcodeception/lib-innerbrowser\u001b[39m (\u001b[33m3.1.3\u001b[39m): Extracting archive\n",
      "  - Installing \u001b[32mcodeception/module-phpbrowser\u001b[39m (\u001b[33m3.0.0\u001b[39m): Extracting archive\n",
      "  - Installing \u001b[32mcomposer/pcre\u001b[39m (\u001b[33m3.1.0\u001b[39m): Extracting archive\n",
      "  - Installing \u001b[32mdoctrine/inflector\u001b[39m (\u001b[33m2.0.6\u001b[39m): Extracting archive\n",
      "  - Installing \u001b[32mdoctrine/lexer\u001b[39m (\u001b[33m1.2.3\u001b[39m): Extracting archive\n",
      "  - Installing \u001b[32mwebmozart/assert\u001b[39m (\u001b[33m1.11.0\u001b[39m): Extracting archive\n",
      "  - Installing \u001b[32mdragonmantank/cron-expression\u001b[39m (\u001b[33mv3.3.2\u001b[39m): Extracting archive\n",
      "  - Installing \u001b[32mfakerphp/faker\u001b[39m (\u001b[33mv1.20.0\u001b[39m): Extracting archive\n",
      "  - Installing \u001b[32msymfony/stopwatch\u001b[39m (\u001b[33mv6.1.5\u001b[39m): Extracting archive\n",
      "  - Installing \u001b[32msymfony/process\u001b[39m (\u001b[33mv6.1.3\u001b[39m): Extracting archive\n",
      "  - Installing \u001b[32msymfony/polyfill-php81\u001b[39m (\u001b[33mv1.27.0\u001b[39m): Extracting archive\n",
      "  - Installing \u001b[32msymfony/polyfill-php80\u001b[39m (\u001b[33mv1.27.0\u001b[39m): Extracting archive\n",
      "  - Installing \u001b[32msymfony/options-resolver\u001b[39m (\u001b[33mv6.1.0\u001b[39m): Extracting archive\n",
      "  - Installing \u001b[32msymfony/filesystem\u001b[39m (\u001b[33mv6.1.5\u001b[39m): Extracting archive\n",
      "  - Installing \u001b[32mpsr/cache\u001b[39m (\u001b[33m3.0.0\u001b[39m): Extracting archive\n",
      "  - Installing \u001b[32mdoctrine/annotations\u001b[39m (\u001b[33m1.13.3\u001b[39m): Extracting archive\n",
      "  - Installing \u001b[32mpsr/log\u001b[39m (\u001b[33m3.0.0\u001b[39m): Extracting archive\n",
      "  - Installing \u001b[32mcomposer/xdebug-handler\u001b[39m (\u001b[33m3.0.3\u001b[39m): Extracting archive\n",
      "  - Installing \u001b[32mcomposer/semver\u001b[39m (\u001b[33m3.3.2\u001b[39m): Extracting archive\n",
      "  - Installing \u001b[32mfriendsofphp/php-cs-fixer\u001b[39m (\u001b[33mv3.13.0\u001b[39m): Extracting archive\n",
      "  - Installing \u001b[32msymfony/http-foundation\u001b[39m (\u001b[33mv6.1.7\u001b[39m): Extracting archive\n",
      "  - Installing \u001b[32mfruitcake/php-cors\u001b[39m (\u001b[33mv1.2.0\u001b[39m): Extracting archive\n",
      "  - Installing \u001b[32mnette/utils\u001b[39m (\u001b[33mv3.2.8\u001b[39m): Extracting archive\n",
      "  - Installing \u001b[32mnette/schema\u001b[39m (\u001b[33mv1.2.3\u001b[39m): Extracting archive\n",
      "  - Installing \u001b[32mdflydev/dot-access-data\u001b[39m (\u001b[33mv3.0.2\u001b[39m): Extracting archive\n",
      "  - Installing \u001b[32mleague/config\u001b[39m (\u001b[33mv1.1.1\u001b[39m): Extracting archive\n",
      "  - Installing \u001b[32mleague/commonmark\u001b[39m (\u001b[33m2.3.7\u001b[39m): Extracting archive\n",
      "  - Installing \u001b[32mvoku/portable-ascii\u001b[39m (\u001b[33m2.0.1\u001b[39m): Extracting archive\n",
      "  - Installing \u001b[32mphpoption/phpoption\u001b[39m (\u001b[33m1.9.0\u001b[39m): Extracting archive\n",
      "  - Installing \u001b[32mgraham-campbell/result-type\u001b[39m (\u001b[33mv1.1.0\u001b[39m): Extracting archive\n",
      "  - Installing \u001b[32mvlucas/phpdotenv\u001b[39m (\u001b[33mv5.5.0\u001b[39m): Extracting archive\n",
      "  - Installing \u001b[32mtijsverkoyen/css-to-inline-styles\u001b[39m (\u001b[33m2.2.5\u001b[39m): Extracting archive\n",
      "  - Installing \u001b[32msymfony/polyfill-uuid\u001b[39m (\u001b[33mv1.27.0\u001b[39m): Extracting archive\n",
      "  - Installing \u001b[32msymfony/uid\u001b[39m (\u001b[33mv6.1.5\u001b[39m): Extracting archive\n",
      "  - Installing \u001b[32msymfony/routing\u001b[39m (\u001b[33mv6.1.7\u001b[39m): Extracting archive\n",
      "  - Installing \u001b[32msymfony/polyfill-php72\u001b[39m (\u001b[33mv1.27.0\u001b[39m): Extracting archive\n",
      "  - Installing \u001b[32msymfony/polyfill-intl-idn\u001b[39m (\u001b[33mv1.27.0\u001b[39m): Extracting archive\n",
      "  - Installing \u001b[32msymfony/mime\u001b[39m (\u001b[33mv6.1.7\u001b[39m): Extracting archive\n",
      "  - Installing \u001b[32megulias/email-validator\u001b[39m (\u001b[33m3.2.1\u001b[39m): Extracting archive\n",
      "  - Installing \u001b[32msymfony/mailer\u001b[39m (\u001b[33mv6.1.7\u001b[39m): Extracting archive\n",
      "  - Installing \u001b[32msymfony/error-handler\u001b[39m (\u001b[33mv6.1.7\u001b[39m): Extracting archive\n",
      "  - Installing \u001b[32msymfony/http-kernel\u001b[39m (\u001b[33mv6.1.7\u001b[39m): Extracting archive\n",
      "  - Installing \u001b[32mramsey/collection\u001b[39m (\u001b[33m1.2.2\u001b[39m): Extracting archive\n",
      "  - Installing \u001b[32mbrick/math\u001b[39m (\u001b[33m0.10.2\u001b[39m): Extracting archive\n",
      "  - Installing \u001b[32mramsey/uuid\u001b[39m (\u001b[33m4.6.0\u001b[39m): Extracting archive\n",
      "  - Installing \u001b[32mpsr/simple-cache\u001b[39m (\u001b[33m3.0.0\u001b[39m): Extracting archive\n",
      "  - Installing \u001b[32mnunomaduro/termwind\u001b[39m (\u001b[33mv1.14.2\u001b[39m): Extracting archive\n",
      "  - Installing \u001b[32msymfony/translation-contracts\u001b[39m (\u001b[33mv3.1.1\u001b[39m): Extracting archive\n"
     ]
    },
    {
     "name": "stdout",
     "output_type": "stream",
     "text": [
      "  - Installing \u001b[32msymfony/translation\u001b[39m (\u001b[33mv6.1.6\u001b[39m): Extracting archive\n",
      "  - Installing \u001b[32mnesbot/carbon\u001b[39m (\u001b[33m2.63.0\u001b[39m): Extracting archive\n",
      "  - Installing \u001b[32mmonolog/monolog\u001b[39m (\u001b[33m2.8.0\u001b[39m): Extracting archive\n",
      "  - Installing \u001b[32mleague/mime-type-detection\u001b[39m (\u001b[33m1.11.0\u001b[39m): Extracting archive\n",
      "  - Installing \u001b[32mleague/flysystem\u001b[39m (\u001b[33m3.10.3\u001b[39m): Extracting archive\n",
      "  - Installing \u001b[32mlaravel/serializable-closure\u001b[39m (\u001b[33mv1.2.2\u001b[39m): Extracting archive\n",
      "  - Installing \u001b[32mlaravel/framework\u001b[39m (\u001b[33mv9.40.1\u001b[39m): Extracting archive\n",
      "  - Installing \u001b[32mgraham-campbell/markdown\u001b[39m (\u001b[33mv14.0.0\u001b[39m): Extracting archive\n",
      "  - Installing \u001b[32mhamcrest/hamcrest-php\u001b[39m (\u001b[33mv2.0.1\u001b[39m): Extracting archive\n",
      "  - Installing \u001b[32mlaravel/breeze\u001b[39m (\u001b[33mv1.15.3\u001b[39m): Extracting archive\n",
      "  - Installing \u001b[32mlaravel/pint\u001b[39m (\u001b[33mv1.2.0\u001b[39m): Extracting archive\n",
      "  - Installing \u001b[32mlaravel/sail\u001b[39m (\u001b[33mv1.16.2\u001b[39m): Extracting archive\n",
      "  - Installing \u001b[32mlaravel/sanctum\u001b[39m (\u001b[33mv3.0.1\u001b[39m): Extracting archive\n",
      "  - Installing \u001b[32mlaravel/tinker\u001b[39m (\u001b[33mv2.7.3\u001b[39m): Extracting archive\n",
      "  - Installing \u001b[32mfilp/whoops\u001b[39m (\u001b[33m2.14.6\u001b[39m): Extracting archive\n",
      "  - Installing \u001b[32mnunomaduro/collision\u001b[39m (\u001b[33mv6.3.1\u001b[39m): Extracting archive\n",
      "  - Installing \u001b[32mphpstan/phpstan\u001b[39m (\u001b[33m1.9.2\u001b[39m): Extracting archive\n",
      "  - Installing \u001b[32mphpmyadmin/sql-parser\u001b[39m (\u001b[33m5.5.0\u001b[39m): Extracting archive\n",
      "  - Installing \u001b[32mmockery/mockery\u001b[39m (\u001b[33m1.5.1\u001b[39m): Extracting archive\n",
      "  - Installing \u001b[32mnunomaduro/larastan\u001b[39m (\u001b[33m2.2.9\u001b[39m): Extracting archive\n",
      "  - Installing \u001b[32msebastian/phpcpd\u001b[39m (\u001b[33m6.0.3\u001b[39m): Extracting archive\n",
      "  - Installing \u001b[32mspatie/backtrace\u001b[39m (\u001b[33m1.2.1\u001b[39m): Extracting archive\n",
      "  - Installing \u001b[32mspatie/flare-client-php\u001b[39m (\u001b[33m1.3.1\u001b[39m): Extracting archive\n",
      "  - Installing \u001b[32mspatie/ignition\u001b[39m (\u001b[33m1.4.1\u001b[39m): Extracting archive\n",
      "  - Installing \u001b[32mspatie/laravel-ignition\u001b[39m (\u001b[33m1.6.1\u001b[39m): Extracting archive\n",
      "   0/135 [>---------------------------]   0%\u001b[1G\u001b[2K  26/135 [=====>----------------------]  19%\u001b[1G\u001b[2K  40/135 [========>-------------------]  29%\u001b[1G\u001b[2K  56/135 [===========>----------------]  41%\u001b[1G\u001b[2K  69/135 [==============>-------------]  51%\u001b[1G\u001b[2K  81/135 [================>-----------]  60%\u001b[1G\u001b[2K 108/135 [======================>-----]  80%\u001b[1G\u001b[2K 122/135 [=========================>--]  90%\u001b[1G\u001b[2K 135/135 [============================] 100%\u001b[1G\u001b[2K\u001b[32mGenerating optimized autoload files\u001b[39m\n",
      "> Illuminate\\Foundation\\ComposerScripts::postAutoloadDump\n",
      "> @php artisan package:discover --ansi\n",
      "\n",
      "  \u001b[37;44m INFO \u001b[39;49m Discovering packages.  \n",
      "\n",
      "  graham-campbell/markdown \u001b[90m.\u001b[39m\u001b[90m.\u001b[39m\u001b[90m.\u001b[39m\u001b[90m.\u001b[39m\u001b[90m.\u001b[39m\u001b[90m.\u001b[39m\u001b[90m.\u001b[39m\u001b[90m.\u001b[39m\u001b[90m.\u001b[39m\u001b[90m.\u001b[39m\u001b[90m.\u001b[39m\u001b[90m.\u001b[39m\u001b[90m.\u001b[39m\u001b[90m.\u001b[39m\u001b[90m.\u001b[39m\u001b[90m.\u001b[39m\u001b[90m.\u001b[39m\u001b[90m.\u001b[39m\u001b[90m.\u001b[39m\u001b[90m.\u001b[39m\u001b[90m.\u001b[39m\u001b[90m.\u001b[39m\u001b[90m.\u001b[39m\u001b[90m.\u001b[39m\u001b[90m.\u001b[39m\u001b[90m.\u001b[39m\u001b[90m.\u001b[39m\u001b[90m.\u001b[39m\u001b[90m.\u001b[39m\u001b[90m.\u001b[39m\u001b[90m.\u001b[39m\u001b[90m.\u001b[39m\u001b[90m.\u001b[39m\u001b[90m.\u001b[39m\u001b[90m.\u001b[39m\u001b[90m.\u001b[39m\u001b[90m.\u001b[39m\u001b[90m.\u001b[39m\u001b[90m.\u001b[39m\u001b[90m.\u001b[39m\u001b[90m.\u001b[39m\u001b[90m.\u001b[39m\u001b[90m.\u001b[39m\u001b[90m.\u001b[39m\u001b[90m.\u001b[39m\u001b[90m.\u001b[39m \u001b[32;1mDONE\u001b[39;22m\n",
      "  laravel/breeze \u001b[90m.\u001b[39m\u001b[90m.\u001b[39m\u001b[90m.\u001b[39m\u001b[90m.\u001b[39m\u001b[90m.\u001b[39m\u001b[90m.\u001b[39m\u001b[90m.\u001b[39m\u001b[90m.\u001b[39m\u001b[90m.\u001b[39m\u001b[90m.\u001b[39m\u001b[90m.\u001b[39m\u001b[90m.\u001b[39m\u001b[90m.\u001b[39m\u001b[90m.\u001b[39m\u001b[90m.\u001b[39m\u001b[90m.\u001b[39m\u001b[90m.\u001b[39m\u001b[90m.\u001b[39m\u001b[90m.\u001b[39m\u001b[90m.\u001b[39m\u001b[90m.\u001b[39m\u001b[90m.\u001b[39m\u001b[90m.\u001b[39m\u001b[90m.\u001b[39m\u001b[90m.\u001b[39m\u001b[90m.\u001b[39m\u001b[90m.\u001b[39m\u001b[90m.\u001b[39m\u001b[90m.\u001b[39m\u001b[90m.\u001b[39m\u001b[90m.\u001b[39m\u001b[90m.\u001b[39m\u001b[90m.\u001b[39m\u001b[90m.\u001b[39m\u001b[90m.\u001b[39m\u001b[90m.\u001b[39m\u001b[90m.\u001b[39m\u001b[90m.\u001b[39m\u001b[90m.\u001b[39m\u001b[90m.\u001b[39m\u001b[90m.\u001b[39m\u001b[90m.\u001b[39m\u001b[90m.\u001b[39m\u001b[90m.\u001b[39m\u001b[90m.\u001b[39m\u001b[90m.\u001b[39m\u001b[90m.\u001b[39m\u001b[90m.\u001b[39m\u001b[90m.\u001b[39m\u001b[90m.\u001b[39m\u001b[90m.\u001b[39m\u001b[90m.\u001b[39m\u001b[90m.\u001b[39m\u001b[90m.\u001b[39m\u001b[90m.\u001b[39m\u001b[90m.\u001b[39m \u001b[32;1mDONE\u001b[39;22m\n",
      "  laravel/sail \u001b[90m.\u001b[39m\u001b[90m.\u001b[39m\u001b[90m.\u001b[39m\u001b[90m.\u001b[39m\u001b[90m.\u001b[39m\u001b[90m.\u001b[39m\u001b[90m.\u001b[39m\u001b[90m.\u001b[39m\u001b[90m.\u001b[39m\u001b[90m.\u001b[39m\u001b[90m.\u001b[39m\u001b[90m.\u001b[39m\u001b[90m.\u001b[39m\u001b[90m.\u001b[39m\u001b[90m.\u001b[39m\u001b[90m.\u001b[39m\u001b[90m.\u001b[39m\u001b[90m.\u001b[39m\u001b[90m.\u001b[39m\u001b[90m.\u001b[39m\u001b[90m.\u001b[39m\u001b[90m.\u001b[39m\u001b[90m.\u001b[39m\u001b[90m.\u001b[39m\u001b[90m.\u001b[39m\u001b[90m.\u001b[39m\u001b[90m.\u001b[39m\u001b[90m.\u001b[39m\u001b[90m.\u001b[39m\u001b[90m.\u001b[39m\u001b[90m.\u001b[39m\u001b[90m.\u001b[39m\u001b[90m.\u001b[39m\u001b[90m.\u001b[39m\u001b[90m.\u001b[39m\u001b[90m.\u001b[39m\u001b[90m.\u001b[39m\u001b[90m.\u001b[39m\u001b[90m.\u001b[39m\u001b[90m.\u001b[39m\u001b[90m.\u001b[39m\u001b[90m.\u001b[39m\u001b[90m.\u001b[39m\u001b[90m.\u001b[39m\u001b[90m.\u001b[39m\u001b[90m.\u001b[39m\u001b[90m.\u001b[39m\u001b[90m.\u001b[39m\u001b[90m.\u001b[39m\u001b[90m.\u001b[39m\u001b[90m.\u001b[39m\u001b[90m.\u001b[39m\u001b[90m.\u001b[39m\u001b[90m.\u001b[39m\u001b[90m.\u001b[39m\u001b[90m.\u001b[39m\u001b[90m.\u001b[39m\u001b[90m.\u001b[39m \u001b[32;1mDONE\u001b[39;22m\n",
      "  laravel/sanctum \u001b[90m.\u001b[39m\u001b[90m.\u001b[39m\u001b[90m.\u001b[39m\u001b[90m.\u001b[39m\u001b[90m.\u001b[39m\u001b[90m.\u001b[39m\u001b[90m.\u001b[39m\u001b[90m.\u001b[39m\u001b[90m.\u001b[39m\u001b[90m.\u001b[39m\u001b[90m.\u001b[39m\u001b[90m.\u001b[39m\u001b[90m.\u001b[39m\u001b[90m.\u001b[39m\u001b[90m.\u001b[39m\u001b[90m.\u001b[39m\u001b[90m.\u001b[39m\u001b[90m.\u001b[39m\u001b[90m.\u001b[39m\u001b[90m.\u001b[39m\u001b[90m.\u001b[39m\u001b[90m.\u001b[39m\u001b[90m.\u001b[39m\u001b[90m.\u001b[39m\u001b[90m.\u001b[39m\u001b[90m.\u001b[39m\u001b[90m.\u001b[39m\u001b[90m.\u001b[39m\u001b[90m.\u001b[39m\u001b[90m.\u001b[39m\u001b[90m.\u001b[39m\u001b[90m.\u001b[39m\u001b[90m.\u001b[39m\u001b[90m.\u001b[39m\u001b[90m.\u001b[39m\u001b[90m.\u001b[39m\u001b[90m.\u001b[39m\u001b[90m.\u001b[39m\u001b[90m.\u001b[39m\u001b[90m.\u001b[39m\u001b[90m.\u001b[39m\u001b[90m.\u001b[39m\u001b[90m.\u001b[39m\u001b[90m.\u001b[39m\u001b[90m.\u001b[39m\u001b[90m.\u001b[39m\u001b[90m.\u001b[39m\u001b[90m.\u001b[39m\u001b[90m.\u001b[39m\u001b[90m.\u001b[39m\u001b[90m.\u001b[39m\u001b[90m.\u001b[39m\u001b[90m.\u001b[39m\u001b[90m.\u001b[39m\u001b[90m.\u001b[39m \u001b[32;1mDONE\u001b[39;22m\n",
      "  laravel/tinker \u001b[90m.\u001b[39m\u001b[90m.\u001b[39m\u001b[90m.\u001b[39m\u001b[90m.\u001b[39m\u001b[90m.\u001b[39m\u001b[90m.\u001b[39m\u001b[90m.\u001b[39m\u001b[90m.\u001b[39m\u001b[90m.\u001b[39m\u001b[90m.\u001b[39m\u001b[90m.\u001b[39m\u001b[90m.\u001b[39m\u001b[90m.\u001b[39m\u001b[90m.\u001b[39m\u001b[90m.\u001b[39m\u001b[90m.\u001b[39m\u001b[90m.\u001b[39m\u001b[90m.\u001b[39m\u001b[90m.\u001b[39m\u001b[90m.\u001b[39m\u001b[90m.\u001b[39m\u001b[90m.\u001b[39m\u001b[90m.\u001b[39m\u001b[90m.\u001b[39m\u001b[90m.\u001b[39m\u001b[90m.\u001b[39m\u001b[90m.\u001b[39m\u001b[90m.\u001b[39m\u001b[90m.\u001b[39m\u001b[90m.\u001b[39m\u001b[90m.\u001b[39m\u001b[90m.\u001b[39m\u001b[90m.\u001b[39m\u001b[90m.\u001b[39m\u001b[90m.\u001b[39m\u001b[90m.\u001b[39m\u001b[90m.\u001b[39m\u001b[90m.\u001b[39m\u001b[90m.\u001b[39m\u001b[90m.\u001b[39m\u001b[90m.\u001b[39m\u001b[90m.\u001b[39m\u001b[90m.\u001b[39m\u001b[90m.\u001b[39m\u001b[90m.\u001b[39m\u001b[90m.\u001b[39m\u001b[90m.\u001b[39m\u001b[90m.\u001b[39m\u001b[90m.\u001b[39m\u001b[90m.\u001b[39m\u001b[90m.\u001b[39m\u001b[90m.\u001b[39m\u001b[90m.\u001b[39m\u001b[90m.\u001b[39m\u001b[90m.\u001b[39m\u001b[90m.\u001b[39m \u001b[32;1mDONE\u001b[39;22m\n",
      "  nesbot/carbon \u001b[90m.\u001b[39m\u001b[90m.\u001b[39m\u001b[90m.\u001b[39m\u001b[90m.\u001b[39m\u001b[90m.\u001b[39m\u001b[90m.\u001b[39m\u001b[90m.\u001b[39m\u001b[90m.\u001b[39m\u001b[90m.\u001b[39m\u001b[90m.\u001b[39m\u001b[90m.\u001b[39m\u001b[90m.\u001b[39m\u001b[90m.\u001b[39m\u001b[90m.\u001b[39m\u001b[90m.\u001b[39m\u001b[90m.\u001b[39m\u001b[90m.\u001b[39m\u001b[90m.\u001b[39m\u001b[90m.\u001b[39m\u001b[90m.\u001b[39m\u001b[90m.\u001b[39m\u001b[90m.\u001b[39m\u001b[90m.\u001b[39m\u001b[90m.\u001b[39m\u001b[90m.\u001b[39m\u001b[90m.\u001b[39m\u001b[90m.\u001b[39m\u001b[90m.\u001b[39m\u001b[90m.\u001b[39m\u001b[90m.\u001b[39m\u001b[90m.\u001b[39m\u001b[90m.\u001b[39m\u001b[90m.\u001b[39m\u001b[90m.\u001b[39m\u001b[90m.\u001b[39m\u001b[90m.\u001b[39m\u001b[90m.\u001b[39m\u001b[90m.\u001b[39m\u001b[90m.\u001b[39m\u001b[90m.\u001b[39m\u001b[90m.\u001b[39m\u001b[90m.\u001b[39m\u001b[90m.\u001b[39m\u001b[90m.\u001b[39m\u001b[90m.\u001b[39m\u001b[90m.\u001b[39m\u001b[90m.\u001b[39m\u001b[90m.\u001b[39m\u001b[90m.\u001b[39m\u001b[90m.\u001b[39m\u001b[90m.\u001b[39m\u001b[90m.\u001b[39m\u001b[90m.\u001b[39m\u001b[90m.\u001b[39m\u001b[90m.\u001b[39m\u001b[90m.\u001b[39m\u001b[90m.\u001b[39m \u001b[32;1mDONE\u001b[39;22m\n",
      "  nunomaduro/collision \u001b[90m.\u001b[39m\u001b[90m.\u001b[39m\u001b[90m.\u001b[39m\u001b[90m.\u001b[39m\u001b[90m.\u001b[39m\u001b[90m.\u001b[39m\u001b[90m.\u001b[39m\u001b[90m.\u001b[39m\u001b[90m.\u001b[39m\u001b[90m.\u001b[39m\u001b[90m.\u001b[39m\u001b[90m.\u001b[39m\u001b[90m.\u001b[39m\u001b[90m.\u001b[39m\u001b[90m.\u001b[39m\u001b[90m.\u001b[39m\u001b[90m.\u001b[39m\u001b[90m.\u001b[39m\u001b[90m.\u001b[39m\u001b[90m.\u001b[39m\u001b[90m.\u001b[39m\u001b[90m.\u001b[39m\u001b[90m.\u001b[39m\u001b[90m.\u001b[39m\u001b[90m.\u001b[39m\u001b[90m.\u001b[39m\u001b[90m.\u001b[39m\u001b[90m.\u001b[39m\u001b[90m.\u001b[39m\u001b[90m.\u001b[39m\u001b[90m.\u001b[39m\u001b[90m.\u001b[39m\u001b[90m.\u001b[39m\u001b[90m.\u001b[39m\u001b[90m.\u001b[39m\u001b[90m.\u001b[39m\u001b[90m.\u001b[39m\u001b[90m.\u001b[39m\u001b[90m.\u001b[39m\u001b[90m.\u001b[39m\u001b[90m.\u001b[39m\u001b[90m.\u001b[39m\u001b[90m.\u001b[39m\u001b[90m.\u001b[39m\u001b[90m.\u001b[39m\u001b[90m.\u001b[39m\u001b[90m.\u001b[39m\u001b[90m.\u001b[39m\u001b[90m.\u001b[39m\u001b[90m.\u001b[39m \u001b[32;1mDONE\u001b[39;22m\n",
      "  nunomaduro/termwind \u001b[90m.\u001b[39m\u001b[90m.\u001b[39m\u001b[90m.\u001b[39m\u001b[90m.\u001b[39m\u001b[90m.\u001b[39m\u001b[90m.\u001b[39m\u001b[90m.\u001b[39m\u001b[90m.\u001b[39m\u001b[90m.\u001b[39m\u001b[90m.\u001b[39m\u001b[90m.\u001b[39m\u001b[90m.\u001b[39m\u001b[90m.\u001b[39m\u001b[90m.\u001b[39m\u001b[90m.\u001b[39m\u001b[90m.\u001b[39m\u001b[90m.\u001b[39m\u001b[90m.\u001b[39m\u001b[90m.\u001b[39m\u001b[90m.\u001b[39m\u001b[90m.\u001b[39m\u001b[90m.\u001b[39m\u001b[90m.\u001b[39m\u001b[90m.\u001b[39m\u001b[90m.\u001b[39m\u001b[90m.\u001b[39m\u001b[90m.\u001b[39m\u001b[90m.\u001b[39m\u001b[90m.\u001b[39m\u001b[90m.\u001b[39m\u001b[90m.\u001b[39m\u001b[90m.\u001b[39m\u001b[90m.\u001b[39m\u001b[90m.\u001b[39m\u001b[90m.\u001b[39m\u001b[90m.\u001b[39m\u001b[90m.\u001b[39m\u001b[90m.\u001b[39m\u001b[90m.\u001b[39m\u001b[90m.\u001b[39m\u001b[90m.\u001b[39m\u001b[90m.\u001b[39m\u001b[90m.\u001b[39m\u001b[90m.\u001b[39m\u001b[90m.\u001b[39m\u001b[90m.\u001b[39m\u001b[90m.\u001b[39m\u001b[90m.\u001b[39m\u001b[90m.\u001b[39m\u001b[90m.\u001b[39m\u001b[90m.\u001b[39m \u001b[32;1mDONE\u001b[39;22m\n",
      "  spatie/laravel-ignition \u001b[90m.\u001b[39m\u001b[90m.\u001b[39m\u001b[90m.\u001b[39m\u001b[90m.\u001b[39m\u001b[90m.\u001b[39m\u001b[90m.\u001b[39m\u001b[90m.\u001b[39m\u001b[90m.\u001b[39m\u001b[90m.\u001b[39m\u001b[90m.\u001b[39m\u001b[90m.\u001b[39m\u001b[90m.\u001b[39m\u001b[90m.\u001b[39m\u001b[90m.\u001b[39m\u001b[90m.\u001b[39m\u001b[90m.\u001b[39m\u001b[90m.\u001b[39m\u001b[90m.\u001b[39m\u001b[90m.\u001b[39m\u001b[90m.\u001b[39m\u001b[90m.\u001b[39m\u001b[90m.\u001b[39m\u001b[90m.\u001b[39m\u001b[90m.\u001b[39m\u001b[90m.\u001b[39m\u001b[90m.\u001b[39m\u001b[90m.\u001b[39m\u001b[90m.\u001b[39m\u001b[90m.\u001b[39m\u001b[90m.\u001b[39m\u001b[90m.\u001b[39m\u001b[90m.\u001b[39m\u001b[90m.\u001b[39m\u001b[90m.\u001b[39m\u001b[90m.\u001b[39m\u001b[90m.\u001b[39m\u001b[90m.\u001b[39m\u001b[90m.\u001b[39m\u001b[90m.\u001b[39m\u001b[90m.\u001b[39m\u001b[90m.\u001b[39m\u001b[90m.\u001b[39m\u001b[90m.\u001b[39m\u001b[90m.\u001b[39m\u001b[90m.\u001b[39m\u001b[90m.\u001b[39m\u001b[90m.\u001b[39m \u001b[32;1mDONE\u001b[39;22m\n",
      "\n",
      "\u001b[32m96 packages you are using are looking for funding.\u001b[39m\n",
      "\u001b[32mUse the `composer fund` command to find out more!\u001b[39m\n"
     ]
    }
   ],
   "source": [
    "! composer install"
   ]
  },
  {
   "cell_type": "code",
   "execution_count": 5,
   "metadata": {},
   "outputs": [
    {
     "name": "stdout",
     "output_type": "stream",
     "text": [
      "\u001b[32mBuilding Actor classes for suites: Acceptance\u001b[39m\r\n",
      " -> AcceptanceTesterActions.php generated successfully. 81 methods added\r\n",
      "\u001b[32mTestsCodeception\\AcceptanceTester\u001b[39m includes modules: PhpBrowser, Db\r\n"
     ]
    }
   ],
   "source": [
    "! vendor/bin/codecept build"
   ]
  },
  {
   "cell_type": "code",
   "execution_count": 6,
   "metadata": {},
   "outputs": [
    {
     "name": "stdout",
     "output_type": "stream",
     "text": [
      "Loaded config \u001b[33mdefault\u001b[39m from \"/home/student/php_2022_adam_lewinski/09_laravel_tdd/project/./.php-cs-fixer.dist.php\".\n",
      "\n",
      "Checked all files in 0.459 seconds, 16.000 MB memory used\n"
     ]
    }
   ],
   "source": [
    "! vendor/bin/php-cs-fixer fix --diff --dry-run ."
   ]
  },
  {
   "cell_type": "code",
   "execution_count": 7,
   "metadata": {},
   "outputs": [
    {
     "name": "stdout",
     "output_type": "stream",
     "text": [
      "\n",
      "\u001b[33m ! [NOTE] The Xdebug PHP extension is active, but \"--xdebug\" is not used. This  \u001b[39m\n",
      "\u001b[33m !        may slow down performance and the process will not halt at            \u001b[39m\n",
      "\u001b[33m !        breakpoints.                                                          \u001b[39m\n",
      "\n",
      "  0/73 [░░░░░░░░░░░░░░░░░░░░░░░░░░░░]   0%\u001b[1G\u001b[2K 20/73 [▓▓▓▓▓▓▓░░░░░░░░░░░░░░░░░░░░░]  27%\u001b[1G\u001b[2K 40/73 [▓▓▓▓▓▓▓▓▓▓▓▓▓▓▓░░░░░░░░░░░░░]  54%\u001b[1G\u001b[2K 53/73 [▓▓▓▓▓▓▓▓▓▓▓▓▓▓▓▓▓▓▓▓░░░░░░░░]  72%\u001b[1G\u001b[2K 73/73 [▓▓▓▓▓▓▓▓▓▓▓▓▓▓▓▓▓▓▓▓▓▓▓▓▓▓▓▓] 100%\n",
      "\n",
      "\n",
      "\u001b[30;42m                                                                                \u001b[39;49m\n",
      "\u001b[30;42m [OK] No errors                                                                 \u001b[39;49m\n",
      "\u001b[30;42m                                                                                \u001b[39;49m\n",
      "\n"
     ]
    }
   ],
   "source": [
    "! vendor/bin/phpstan analyze -c phpstan.neon"
   ]
  },
  {
   "cell_type": "code",
   "execution_count": 8,
   "metadata": {},
   "outputs": [
    {
     "name": "stdout",
     "output_type": "stream",
     "text": [
      "phpcpd 6.0.3 by Sebastian Bergmann.\n",
      "\n",
      "No clones found.\n",
      "\n",
      "Time: 00:00.012, Memory: 8.00 MB\n"
     ]
    }
   ],
   "source": [
    "! vendor/bin/phpcpd . --fuzzy --min-lines 1 --min-tokens 20 --exclude vendor --exclude tests* --exclude config --exclude storage"
   ]
  },
  {
   "cell_type": "code",
   "execution_count": 9,
   "metadata": {},
   "outputs": [],
   "source": [
    "! cp .env.example .env"
   ]
  },
  {
   "cell_type": "code",
   "execution_count": 10,
   "metadata": {},
   "outputs": [
    {
     "name": "stdout",
     "output_type": "stream",
     "text": [
      "\r\n",
      "  \u001b[37;44m INFO \u001b[39;49m Application key set successfully.  \r\n",
      "\r\n"
     ]
    }
   ],
   "source": [
    "! php artisan key:generate"
   ]
  },
  {
   "cell_type": "code",
   "execution_count": 11,
   "metadata": {},
   "outputs": [
    {
     "name": "stdout",
     "output_type": "stream",
     "text": [
      "\n",
      "  Dropping all tables \u001b[90m.\u001b[39m\u001b[90m.\u001b[39m\u001b[90m.\u001b[39m\u001b[90m.\u001b[39m\u001b[90m.\u001b[39m\u001b[90m.\u001b[39m\u001b[90m.\u001b[39m\u001b[90m.\u001b[39m\u001b[90m.\u001b[39m\u001b[90m.\u001b[39m\u001b[90m.\u001b[39m\u001b[90m.\u001b[39m\u001b[90m.\u001b[39m\u001b[90m.\u001b[39m\u001b[90m.\u001b[39m\u001b[90m.\u001b[39m\u001b[90m.\u001b[39m\u001b[90m.\u001b[39m\u001b[90m.\u001b[39m\u001b[90m.\u001b[39m\u001b[90m.\u001b[39m\u001b[90m.\u001b[39m\u001b[90m.\u001b[39m\u001b[90m.\u001b[39m\u001b[90m.\u001b[39m\u001b[90m.\u001b[39m\u001b[90m.\u001b[39m\u001b[90m.\u001b[39m\u001b[90m.\u001b[39m\u001b[90m.\u001b[39m\u001b[90m.\u001b[39m\u001b[90m.\u001b[39m\u001b[90m.\u001b[39m\u001b[90m.\u001b[39m\u001b[90m.\u001b[39m\u001b[90m.\u001b[39m\u001b[90m.\u001b[39m\u001b[90m.\u001b[39m\u001b[90m.\u001b[39m\u001b[90m.\u001b[39m\u001b[90m.\u001b[39m\u001b[90m.\u001b[39m\u001b[90m.\u001b[39m\u001b[90m.\u001b[39m\u001b[90m.\u001b[39m\u001b[90m.\u001b[39m\u001b[90m 23ms\u001b[39m \u001b[32;1mDONE\u001b[39;22m\n",
      "\n",
      "  \u001b[37;44m INFO \u001b[39;49m Preparing database.  \n",
      "\n",
      "  Creating migration table \u001b[90m.\u001b[39m\u001b[90m.\u001b[39m\u001b[90m.\u001b[39m\u001b[90m.\u001b[39m\u001b[90m.\u001b[39m\u001b[90m.\u001b[39m\u001b[90m.\u001b[39m\u001b[90m.\u001b[39m\u001b[90m.\u001b[39m\u001b[90m.\u001b[39m\u001b[90m.\u001b[39m\u001b[90m.\u001b[39m\u001b[90m.\u001b[39m\u001b[90m.\u001b[39m\u001b[90m.\u001b[39m\u001b[90m.\u001b[39m\u001b[90m.\u001b[39m\u001b[90m.\u001b[39m\u001b[90m.\u001b[39m\u001b[90m.\u001b[39m\u001b[90m.\u001b[39m\u001b[90m.\u001b[39m\u001b[90m.\u001b[39m\u001b[90m.\u001b[39m\u001b[90m.\u001b[39m\u001b[90m.\u001b[39m\u001b[90m.\u001b[39m\u001b[90m.\u001b[39m\u001b[90m.\u001b[39m\u001b[90m.\u001b[39m\u001b[90m.\u001b[39m\u001b[90m.\u001b[39m\u001b[90m.\u001b[39m\u001b[90m.\u001b[39m\u001b[90m.\u001b[39m\u001b[90m.\u001b[39m\u001b[90m.\u001b[39m\u001b[90m.\u001b[39m\u001b[90m.\u001b[39m\u001b[90m.\u001b[39m\u001b[90m.\u001b[39m\u001b[90m 21ms\u001b[39m \u001b[32;1mDONE\u001b[39;22m\n",
      "\n",
      "  \u001b[37;44m INFO \u001b[39;49m Running migrations.  \n",
      "\n",
      "  2014_10_12_000000_create_users_table \u001b[90m.\u001b[39m\u001b[90m.\u001b[39m\u001b[90m.\u001b[39m\u001b[90m.\u001b[39m\u001b[90m.\u001b[39m\u001b[90m.\u001b[39m\u001b[90m.\u001b[39m\u001b[90m.\u001b[39m\u001b[90m.\u001b[39m\u001b[90m.\u001b[39m\u001b[90m.\u001b[39m\u001b[90m.\u001b[39m\u001b[90m.\u001b[39m\u001b[90m.\u001b[39m\u001b[90m.\u001b[39m\u001b[90m.\u001b[39m\u001b[90m.\u001b[39m\u001b[90m.\u001b[39m\u001b[90m.\u001b[39m\u001b[90m.\u001b[39m\u001b[90m.\u001b[39m\u001b[90m.\u001b[39m\u001b[90m.\u001b[39m\u001b[90m.\u001b[39m\u001b[90m.\u001b[39m\u001b[90m.\u001b[39m\u001b[90m.\u001b[39m\u001b[90m.\u001b[39m\u001b[90m.\u001b[39m\u001b[90m 38ms\u001b[39m \u001b[32;1mDONE\u001b[39;22m\n",
      "  2014_10_12_100000_create_password_resets_table \u001b[90m.\u001b[39m\u001b[90m.\u001b[39m\u001b[90m.\u001b[39m\u001b[90m.\u001b[39m\u001b[90m.\u001b[39m\u001b[90m.\u001b[39m\u001b[90m.\u001b[39m\u001b[90m.\u001b[39m\u001b[90m.\u001b[39m\u001b[90m.\u001b[39m\u001b[90m.\u001b[39m\u001b[90m.\u001b[39m\u001b[90m.\u001b[39m\u001b[90m.\u001b[39m\u001b[90m.\u001b[39m\u001b[90m.\u001b[39m\u001b[90m.\u001b[39m\u001b[90m.\u001b[39m\u001b[90m.\u001b[39m\u001b[90m 36ms\u001b[39m \u001b[32;1mDONE\u001b[39;22m\n",
      "  2019_08_19_000000_create_failed_jobs_table \u001b[90m.\u001b[39m\u001b[90m.\u001b[39m\u001b[90m.\u001b[39m\u001b[90m.\u001b[39m\u001b[90m.\u001b[39m\u001b[90m.\u001b[39m\u001b[90m.\u001b[39m\u001b[90m.\u001b[39m\u001b[90m.\u001b[39m\u001b[90m.\u001b[39m\u001b[90m.\u001b[39m\u001b[90m.\u001b[39m\u001b[90m.\u001b[39m\u001b[90m.\u001b[39m\u001b[90m.\u001b[39m\u001b[90m.\u001b[39m\u001b[90m.\u001b[39m\u001b[90m.\u001b[39m\u001b[90m.\u001b[39m\u001b[90m.\u001b[39m\u001b[90m.\u001b[39m\u001b[90m.\u001b[39m\u001b[90m.\u001b[39m\u001b[90m 36ms\u001b[39m \u001b[32;1mDONE\u001b[39;22m\n",
      "  2019_12_14_000001_create_personal_access_tokens_table \u001b[90m.\u001b[39m\u001b[90m.\u001b[39m\u001b[90m.\u001b[39m\u001b[90m.\u001b[39m\u001b[90m.\u001b[39m\u001b[90m.\u001b[39m\u001b[90m.\u001b[39m\u001b[90m.\u001b[39m\u001b[90m.\u001b[39m\u001b[90m.\u001b[39m\u001b[90m.\u001b[39m\u001b[90m.\u001b[39m\u001b[90m 58ms\u001b[39m \u001b[32;1mDONE\u001b[39;22m\n",
      "  2022_11_26_090903_create_comments_table \u001b[90m.\u001b[39m\u001b[90m.\u001b[39m\u001b[90m.\u001b[39m\u001b[90m.\u001b[39m\u001b[90m.\u001b[39m\u001b[90m.\u001b[39m\u001b[90m.\u001b[39m\u001b[90m.\u001b[39m\u001b[90m.\u001b[39m\u001b[90m.\u001b[39m\u001b[90m.\u001b[39m\u001b[90m.\u001b[39m\u001b[90m.\u001b[39m\u001b[90m.\u001b[39m\u001b[90m.\u001b[39m\u001b[90m.\u001b[39m\u001b[90m.\u001b[39m\u001b[90m.\u001b[39m\u001b[90m.\u001b[39m\u001b[90m.\u001b[39m\u001b[90m.\u001b[39m\u001b[90m.\u001b[39m\u001b[90m.\u001b[39m\u001b[90m.\u001b[39m\u001b[90m.\u001b[39m\u001b[90m.\u001b[39m\u001b[90m 17ms\u001b[39m \u001b[32;1mDONE\u001b[39;22m\n",
      "\n"
     ]
    }
   ],
   "source": [
    "! php artisan migrate:fresh"
   ]
  },
  {
   "cell_type": "code",
   "execution_count": 12,
   "metadata": {},
   "outputs": [
    {
     "name": "stdout",
     "output_type": "stream",
     "text": [
      "\n",
      "  \u001b[37;44m INFO \u001b[39;49m Seeding database.  \n",
      "\n",
      "  Database\\Seeders\\UsersSeeder \u001b[90m.......................................\u001b[39m \u001b[33;1mRUNNING\u001b[39;22m  \n",
      "  Database\\Seeders\\UsersSeeder \u001b[90m.................................\u001b[39m \u001b[90m62.58 ms\u001b[39m \u001b[32;1mDONE\u001b[39;22m  \n",
      "\n"
     ]
    }
   ],
   "source": [
    "! php artisan db:seed"
   ]
  },
  {
   "cell_type": "code",
   "execution_count": 13,
   "metadata": {},
   "outputs": [
    {
     "name": "stdout",
     "output_type": "stream",
     "text": [
      "mysqldump: [Warning] Using a password on the command line interface can be insecure.\r\n"
     ]
    }
   ],
   "source": [
    "! mysqldump -h127.0.0.1 -u root --password=root123 test > tests_codeception/_data/dump.sql"
   ]
  },
  {
   "cell_type": "code",
   "execution_count": 14,
   "metadata": {},
   "outputs": [
    {
     "name": "stdout",
     "output_type": "stream",
     "text": [
      "\u001b[K\u001b[?25hm##################\u001b[0m) ⠇ reify:esbuild-linux-64: \u001b[32;40mhttp\u001b[0m \u001b[35mfetch\u001b[0m GET 200 https://regis\u001b[0m\u001b[K[0m Co\u001b[0m\u001b[K\n",
      "added 93 packages, and audited 94 packages in 3s\n",
      "\n",
      "20 packages are looking for funding\n",
      "  run `npm fund` for details\n",
      "\n",
      "found \u001b[32m\u001b[1m0\u001b[22m\u001b[39m vulnerabilities\n"
     ]
    }
   ],
   "source": [
    "! npm install"
   ]
  },
  {
   "cell_type": "code",
   "execution_count": 15,
   "metadata": {},
   "outputs": [
    {
     "name": "stdout",
     "output_type": "stream",
     "text": [
      "\n",
      "> build\n",
      "> vite build\n",
      "\n",
      "\u001b[36mvite v3.2.4 \u001b[32mbuilding for production...\u001b[36m\u001b[39m\n",
      "\u001b[2K\u001b[1Gtransforming (1) \u001b[2mresources/js/app.js\u001b[22m\u001b[2K\u001b[1Gtransforming (4) \u001b[2mnode_modules/axios/index.js\u001b[22m\u001b[2K\u001b[1Gtransforming (8) \u001b[2mnode_modules/axios/lib/axios.js\u001b[22m\u001b[2K\u001b[1Gtransforming (23) \u001b[2mnode_modules/axios/lib/helpers/toURLEncodedForm.js\u001b[22m\u001b[2K\u001b[1Gtransforming (35) \u001b[2mnode_modules/axios/lib/adapters/xhr.js\u001b[22m\u001b[2K\u001b[1G\u001b[32m✓\u001b[39m 49 modules transformed.\n",
      "\u001b[2K\u001b[1Grendering chunks (1)...\u001b[2K\u001b[1Grendering chunks (2)...\u001b[2K\u001b[1G\u001b[90m\u001b[37m\u001b[2mpublic/build/\u001b[22m\u001b[90m\u001b[39m\u001b[32mmanifest.json            \u001b[39m \u001b[2m0.25 KiB\u001b[22m\n",
      "\u001b[90m\u001b[37m\u001b[2mpublic/build/\u001b[22m\u001b[90m\u001b[39m\u001b[35massets/app.d30190e9.css  \u001b[39m \u001b[2m26.49 KiB / gzip: 5.25 KiB\u001b[22m\n",
      "\u001b[90m\u001b[37m\u001b[2mpublic/build/\u001b[22m\u001b[90m\u001b[39m\u001b[36massets/app.d426e523.js   \u001b[39m \u001b[2m135.11 KiB / gzip: 49.03 KiB\u001b[22m\n"
     ]
    }
   ],
   "source": [
    "! npm run build"
   ]
  },
  {
   "cell_type": "code",
   "execution_count": 16,
   "metadata": {},
   "outputs": [
    {
     "name": "stdout",
     "output_type": "stream",
     "text": [
      "\n",
      "  \u001b[30;42;1m PASS \u001b[39;49;22m\u001b[39m Tests\\Unit\\ExampleTest\u001b[39m\n",
      "  \u001b[32;1m✓\u001b[39;22m\u001b[39m \u001b[2mthat true is true\u001b[22m\u001b[39m\n",
      "\n",
      "  \u001b[30;42;1m PASS \u001b[39;49;22m\u001b[39m Tests\\Feature\\Auth\\AuthenticationTest\u001b[39m\n",
      "  \u001b[32;1m✓\u001b[39;22m\u001b[39m \u001b[2mlogin screen can be rendered\u001b[22m\u001b[39m\n",
      "  \u001b[32;1m✓\u001b[39;22m\u001b[39m \u001b[2musers can authenticate using the login screen\u001b[22m\u001b[39m\n",
      "  \u001b[32;1m✓\u001b[39;22m\u001b[39m \u001b[2musers can not authenticate with invalid password\u001b[22m\u001b[39m\n",
      "\n",
      "  \u001b[30;42;1m PASS \u001b[39;49;22m\u001b[39m Tests\\Feature\\Auth\\EmailVerificationTest\u001b[39m\n",
      "  \u001b[32;1m✓\u001b[39;22m\u001b[39m \u001b[2memail verification screen can be rendered\u001b[22m\u001b[39m\n",
      "  \u001b[32;1m✓\u001b[39;22m\u001b[39m \u001b[2memail can be verified\u001b[22m\u001b[39m\n",
      "  \u001b[32;1m✓\u001b[39;22m\u001b[39m \u001b[2memail is not verified with invalid hash\u001b[22m\u001b[39m\n",
      "\n",
      "  \u001b[30;42;1m PASS \u001b[39;49;22m\u001b[39m Tests\\Feature\\Auth\\PasswordConfirmationTest\u001b[39m\n",
      "  \u001b[32;1m✓\u001b[39;22m\u001b[39m \u001b[2mconfirm password screen can be rendered\u001b[22m\u001b[39m\n",
      "  \u001b[32;1m✓\u001b[39;22m\u001b[39m \u001b[2mpassword can be confirmed\u001b[22m\u001b[39m\n",
      "  \u001b[32;1m✓\u001b[39;22m\u001b[39m \u001b[2mpassword is not confirmed with invalid password\u001b[22m\u001b[39m\n",
      "\n",
      "  \u001b[30;42;1m PASS \u001b[39;49;22m\u001b[39m Tests\\Feature\\Auth\\PasswordResetTest\u001b[39m\n",
      "  \u001b[32;1m✓\u001b[39;22m\u001b[39m \u001b[2mreset password link screen can be rendered\u001b[22m\u001b[39m\n",
      "  \u001b[32;1m✓\u001b[39;22m\u001b[39m \u001b[2mreset password link can be requested\u001b[22m\u001b[39m\n",
      "  \u001b[32;1m✓\u001b[39;22m\u001b[39m \u001b[2mreset password screen can be rendered\u001b[22m\u001b[39m\n",
      "  \u001b[32;1m✓\u001b[39;22m\u001b[39m \u001b[2mpassword can be reset with valid token\u001b[22m\u001b[39m\n",
      "\n",
      "  \u001b[30;42;1m PASS \u001b[39;49;22m\u001b[39m Tests\\Feature\\Auth\\PasswordUpdateTest\u001b[39m\n",
      "  \u001b[32;1m✓\u001b[39;22m\u001b[39m \u001b[2mpassword can be updated\u001b[22m\u001b[39m\n",
      "  \u001b[32;1m✓\u001b[39;22m\u001b[39m \u001b[2mcorrect password must be provided to update password\u001b[22m\u001b[39m\n",
      "\n",
      "  \u001b[30;42;1m PASS \u001b[39;49;22m\u001b[39m Tests\\Feature\\Auth\\RegistrationTest\u001b[39m\n",
      "  \u001b[32;1m✓\u001b[39;22m\u001b[39m \u001b[2mregistration screen can be rendered\u001b[22m\u001b[39m\n",
      "  \u001b[32;1m✓\u001b[39;22m\u001b[39m \u001b[2mnew users can register\u001b[22m\u001b[39m\n",
      "\n",
      "  \u001b[30;42;1m PASS \u001b[39;49;22m\u001b[39m Tests\\Feature\\ExampleTest\u001b[39m\n",
      "  \u001b[32;1m✓\u001b[39;22m\u001b[39m \u001b[2mthe application returns a successful response\u001b[22m\u001b[39m\n",
      "\n",
      "  \u001b[30;42;1m PASS \u001b[39;49;22m\u001b[39m Tests\\Feature\\ProfileTest\u001b[39m\n",
      "  \u001b[32;1m✓\u001b[39;22m\u001b[39m \u001b[2mprofile page is displayed\u001b[22m\u001b[39m\n",
      "  \u001b[32;1m✓\u001b[39;22m\u001b[39m \u001b[2mprofile information can be updated\u001b[22m\u001b[39m\n",
      "  \u001b[32;1m✓\u001b[39;22m\u001b[39m \u001b[2memail verification status is unchanged when the email address is unchanged\u001b[22m\u001b[39m\n",
      "  \u001b[32;1m✓\u001b[39;22m\u001b[39m \u001b[2muser can delete their account\u001b[22m\u001b[39m\n",
      "  \u001b[32;1m✓\u001b[39;22m\u001b[39m \u001b[2mcorrect password must be provided to delete account\u001b[22m\u001b[39m\n",
      "\n",
      "  \u001b[37;1mTests:  \u001b[39;22m\u001b[32;1m24 passed\u001b[39;22m\n",
      "  \u001b[37;1mTime:   \u001b[39;22m\u001b[39m2.19s\u001b[39m\n",
      "\n",
      "\n"
     ]
    }
   ],
   "source": [
    "! php artisan test"
   ]
  },
  {
   "cell_type": "code",
   "execution_count": 17,
   "metadata": {},
   "outputs": [],
   "source": [
    "import subprocess\n",
    "artisanServe = subprocess.Popen(['php', 'artisan', 'serve', '--port', '8888'])"
   ]
  },
  {
   "cell_type": "code",
   "execution_count": 18,
   "metadata": {},
   "outputs": [
    {
     "name": "stdout",
     "output_type": "stream",
     "text": [
      "Codeception PHP Testing Framework v5.0.4 https://helpukrainewin.org\n",
      "\n",
      "\u001b[1mTestsCodeception.Acceptance Tests (4) \u001b[22m------------------------------------------\n",
      "- \u001b[35;1mTest00_HomepageCest:\u001b[39;22m See Laravel links on homepage\n",
      "   INFO  Server running on [http://127.0.0.1:8888].  \n",
      "\n",
      "  Press Ctrl+C to stop the server\n",
      "\n",
      "\u001b[32;1m✔\u001b[39;22m \u001b[35;1mTest00_HomepageCest:\u001b[39;22m See Laravel links on homepage \u001b[32m(0.19s)\u001b[39m\n",
      "\u001b[32;1m✔\u001b[39;22m \u001b[35;1mTest01_CommentsCest:\u001b[39;22m See comments from DB displayed on page \u001b[32m(0.12s)\u001b[39m\n",
      "- \u001b[35;1mTest02_LoginCest:\u001b[39;22m Login with existing user  2022-12-06 12:48:41 ................................................... ~ 0s\n",
      "  2022-12-06 12:48:42 ................................................... ~ 0s\n",
      "  2022-12-06 12:48:42 ................................................... ~ 0s\n",
      "\u001b[32;1m✔\u001b[39;22m \u001b[35;1mTest02_LoginCest:\u001b[39;22m Login with existing user \u001b[32m(0.22s)\u001b[39m\n",
      "- \u001b[35;1mTest03_BooksCest:\u001b[39;22m Have books page  2022-12-06 12:48:42 ................................................... ~ 0s\n",
      "  2022-12-06 12:48:42 ................................................... ~ 0s\n",
      "  2022-12-06 12:48:42 ................................................... ~ 0s\n",
      "  2022-12-06 12:48:42 ................................................... ~ 0s\n",
      "\u001b[31;1m✖\u001b[39;22m \u001b[35;1mTest03_BooksCest:\u001b[39;22m Have books page \u001b[32m(0.04s)\u001b[39m\n",
      "--------------------------------------------------------------------------------\n",
      "Time: 00:01.752, Memory: 14.00 MB\n",
      "\n",
      "There was 1 failure:\n",
      "1) \u001b[35;1mTest03_BooksCest:\u001b[39;22m Have books page\n",
      "\u001b[37;41;1m Test  \u001b[39;49;22mtests_codeception/Acceptance/Test03_BooksCest.php:booksTest\n",
      "\u001b[37;41;1m Step \u001b[39;49;22m See current url equals \"/login\"\n",
      "\u001b[37;41;1m Fail \u001b[39;49;22m Failed asserting that two strings are identical.\n",
      "\u001b[33m- Expected\u001b[39m | \u001b[32m+ Actual\u001b[39m\n",
      "@@ @@\n",
      "\u001b[33m-'/login'\u001b[39m\n",
      "\u001b[32m+'/books'\u001b[39m\n",
      "\u001b[33m\n",
      "Scenario Steps:\n",
      "\u001b[39m\n",
      "\u001b[1m 2. $I->seeCurrentUrlEquals(\"/login\")\u001b[22m at \u001b[32mtests_codeception/Acceptance/Test03_BooksCest.php:14\u001b[39m\n",
      " 1. $I->amOnPage(\"/books\") at \u001b[32mtests_codeception/Acceptance/Test03_BooksCest.php:13\u001b[39m\n",
      "\n",
      "\u001b[33mArtifacts:\u001b[39m\n",
      "\n",
      "Html: \u001b[36m/home/student/php_2022_adam_lewinski/09_laravel_tdd/project/tests_codeception/_output/TestsCodeception.Acceptance.Test03_BooksCest.booksTest.fail.html\u001b[39m\n",
      "Response: \u001b[36m/home/student/php_2022_adam_lewinski/09_laravel_tdd/project/tests_codeception/_output/TestsCodeception.Acceptance.Test03_BooksCest.booksTest.fail.html\u001b[39m\n",
      "\n",
      "\u001b[37;41;1mFAILURES!\u001b[39;49;22m\n",
      "\u001b[37;41;1mTests: 4, Assertions: 16, Failures: 1.\u001b[39;49;22m\n"
     ]
    }
   ],
   "source": [
    "! vendor/bin/codecept run"
   ]
  },
  {
   "cell_type": "code",
   "execution_count": 19,
   "metadata": {},
   "outputs": [],
   "source": [
    "! killall php php8.1"
   ]
  },
  {
   "cell_type": "code",
   "execution_count": 20,
   "metadata": {},
   "outputs": [
    {
     "name": "stdout",
     "output_type": "stream",
     "text": [
      "/home/student/php_2022_adam_lewinski/09_laravel_tdd\n"
     ]
    }
   ],
   "source": [
    "%cd .."
   ]
  },
  {
   "cell_type": "markdown",
   "metadata": {},
   "source": [
    "Stop database:"
   ]
  },
  {
   "cell_type": "code",
   "execution_count": null,
   "metadata": {},
   "outputs": [],
   "source": [
    "! docker container stop mysql"
   ]
  }
 ],
 "metadata": {
  "kernelspec": {
   "display_name": "Python 3 (ipykernel)",
   "language": "python",
   "name": "python3"
  },
  "language_info": {
   "codemirror_mode": {
    "name": "ipython",
    "version": 3
   },
   "file_extension": ".py",
   "mimetype": "text/x-python",
   "name": "python",
   "nbconvert_exporter": "python",
   "pygments_lexer": "ipython3",
   "version": "3.10.6"
  }
 },
 "nbformat": 4,
 "nbformat_minor": 4
}
