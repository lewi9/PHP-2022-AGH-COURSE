{
 "cells": [
  {
   "cell_type": "markdown",
   "metadata": {},
   "source": [
    "# PHP 2022"
   ]
  },
  {
   "cell_type": "markdown",
   "metadata": {},
   "source": [
    "## 2. Superglobals"
   ]
  },
  {
   "cell_type": "markdown",
   "metadata": {},
   "source": [
    "### 2.2 Chessboard"
   ]
  },
  {
   "cell_type": "markdown",
   "metadata": {},
   "source": [
    "Requirements:\n",
    "\n",
    "- The colour of the array is sored in a cookie\n",
    "- The default colour is grey, but it can be changed to red, green and blue\n",
    "- The size of the chessboard is stored in the session and can be configured using the post method\n",
    "- The array is constructed from links that can be clicked\n",
    "- After clicking two points, a white line is drawn between the points\n",
    "- Multiple lines can be added\n",
    "\n",
    "When in doubt, run the acceptance tests :)"
   ]
  },
  {
   "cell_type": "markdown",
   "metadata": {},
   "source": [
    "To start editing run:"
   ]
  },
  {
   "cell_type": "code",
   "execution_count": null,
   "metadata": {},
   "outputs": [
    {
     "name": "stdout",
     "output_type": "stream",
     "text": [
      "Info  | RdCoroutineScope          | 13:JobScheduler FJ pool 1/3 | RdCoroutineHost overridden \n",
      "2022-10-11 00:58:31,695 [  11077]   WARN - #c.i.o.a.i.ActionUpdater - 1231 ms to grab EDT for UndoAction#update@MainMenu (com.intellij.ide.actions.UndoAction)\n",
      "2022-10-11 00:58:32,167 [  11549]   WARN - #c.i.o.a.i.ActionUpdater - 1223 ms to grab EDT for CreateWebProjectAction#update@MainMenu (com.jetbrains.plugins.webDeployment.phpStorm.CreateWebProjectAction)\n",
      "2022-10-11 00:58:32,281 [  11663]   WARN - #c.i.o.a.i.ActionUpdater - 585 ms to grab EDT for RedoAction#update@MainMenu (com.intellij.ide.actions.RedoAction)\n"
     ]
    }
   ],
   "source": [
    "! phpstorm project"
   ]
  },
  {
   "cell_type": "markdown",
   "metadata": {},
   "source": [
    "Working application:\n",
    "\n",
    "![01_initial](images/01_initial.jpg)\n",
    "![02_click](images/02_click.jpg)\n",
    "![03_clicked](images/03_clicked.jpg)\n",
    "![04_click](images/04_click.jpg)\n",
    "![05_clicked](images/05_clicked.jpg)\n",
    "![06_change](images/06_change.jpg)\n",
    "![07_changed](images/07_changed.jpg)\n",
    "![08_color_change](images/08_color_change.jpg)\n",
    "![09_color_changed](images/09_color_changed.jpg)"
   ]
  },
  {
   "cell_type": "markdown",
   "metadata": {},
   "source": [
    "You can test your solution using included tests:"
   ]
  },
  {
   "cell_type": "code",
   "execution_count": 9,
   "metadata": {},
   "outputs": [
    {
     "name": "stderr",
     "output_type": "stream",
     "text": [
      "[Tue Oct 11 00:57:49 2022] PHP 8.1.9 Development Server (http://localhost:8888) started\n"
     ]
    }
   ],
   "source": [
    "import subprocess\n",
    "phpServer = subprocess.Popen(['php', '-S', 'localhost:8888', '-t', 'project/'])"
   ]
  },
  {
   "cell_type": "code",
   "execution_count": 10,
   "metadata": {},
   "outputs": [
    {
     "name": "stdout",
     "output_type": "stream",
     "text": [
      "\u001b[32mInstalling dependencies from lock file (including require-dev)\u001b[39m\n",
      "\u001b[32mVerifying lock file contents can be installed on current platform.\u001b[39m\n",
      "Nothing to install, update or remove\n",
      "\u001b[30;43mPackage sebastian/resource-operations is abandoned, you should avoid using it. No replacement was suggested.\u001b[39;49m\n",
      "\u001b[32mGenerating autoload files\u001b[39m\n",
      "\u001b[32m44 packages you are using are looking for funding.\u001b[39m\n",
      "\u001b[32mUse the `composer fund` command to find out more!\u001b[39m\n",
      "Codeception PHP Testing Framework v4.1.22\n",
      "Powered by PHPUnit 9.5.9 by Sebastian Bergmann and contributors.\n",
      "\n",
      "\u001b[1mAcceptance Tests (3) \u001b[22m-----------------------------------------------------------\n",
      "- \u001b[35;1mColorsCept:\u001b[39;22m "
     ]
    },
    {
     "name": "stderr",
     "output_type": "stream",
     "text": [
      "[Tue Oct 11 00:57:52 2022] [::1]:58372 Accepted\n",
      "[Tue Oct 11 00:57:52 2022] PHP Warning:  Undefined array key \"craate_cookie\" in /home/student/php_2022_g2_adam_lewinski/02_superglobals/02_chessboard/project/index.php on line 26\n",
      "[Tue Oct 11 00:57:52 2022] PHP Stack trace:\n",
      "[Tue Oct 11 00:57:52 2022] PHP   1. {main}() /home/student/php_2022_g2_adam_lewinski/02_superglobals/02_chessboard/project/index.php:0\n",
      "[Tue Oct 11 00:57:52 2022] [::1]:58372 [200]: GET /\n",
      "[Tue Oct 11 00:57:52 2022] [::1]:58372 Closing\n",
      "[Tue Oct 11 00:57:52 2022] [::1]:58384 Accepted\n",
      "[Tue Oct 11 00:57:52 2022] [::1]:58384 [200]: POST /\n",
      "[Tue Oct 11 00:57:52 2022] [::1]:58384 Closing\n",
      "[Tue Oct 11 00:57:52 2022] [::1]:58398 Accepted\n",
      "[Tue Oct 11 00:57:52 2022] [::1]:58398 [200]: POST /\n",
      "[Tue Oct 11 00:57:52 2022] [::1]:58398 Closing\n",
      "[Tue Oct 11 00:57:53 2022] [::1]:58410 Accepted\n",
      "[Tue Oct 11 00:57:53 2022] [::1]:58410 [200]: POST /\n",
      "[Tue Oct 11 00:57:53 2022] [::1]:58410 Closing\n",
      "[Tue Oct 11 00:57:53 2022] [::1]:58424 Accepted\n",
      "[Tue Oct 11 00:57:53 2022] [::1]:58424 [200]: GET /\n",
      "[Tue Oct 11 00:57:53 2022] [::1]:58424 Closing\n"
     ]
    },
    {
     "name": "stdout",
     "output_type": "stream",
     "text": [
      "\r",
      "\u001b[31;1m✖\u001b[39;22m \u001b[35;1mColorsCept:\u001b[39;22m  \u001b[32m(1.72s)\u001b[39m\r\n",
      "- \u001b[35;1mPatternCept:\u001b[39;22m "
     ]
    },
    {
     "name": "stderr",
     "output_type": "stream",
     "text": [
      "[Tue Oct 11 00:57:53 2022] [::1]:58434 Accepted\n",
      "[Tue Oct 11 00:57:53 2022] PHP Warning:  Undefined array key \"craate_cookie\" in /home/student/php_2022_g2_adam_lewinski/02_superglobals/02_chessboard/project/index.php on line 26\n",
      "[Tue Oct 11 00:57:53 2022] PHP Stack trace:\n",
      "[Tue Oct 11 00:57:53 2022] PHP   1. {main}() /home/student/php_2022_g2_adam_lewinski/02_superglobals/02_chessboard/project/index.php:0\n",
      "[Tue Oct 11 00:57:53 2022] [::1]:58434 [200]: GET /\n",
      "[Tue Oct 11 00:57:53 2022] [::1]:58434 Closing\n",
      "[Tue Oct 11 00:57:54 2022] [::1]:58444 Accepted\n",
      "[Tue Oct 11 00:57:54 2022] [::1]:58444 [200]: GET /?x=1&z=1\n",
      "[Tue Oct 11 00:57:54 2022] [::1]:58444 Closing\n",
      "[Tue Oct 11 00:57:54 2022] [::1]:58454 Accepted\n",
      "[Tue Oct 11 00:57:54 2022] [::1]:58454 [200]: GET /?x=8&z=8\n",
      "[Tue Oct 11 00:57:54 2022] [::1]:58454 Closing\n",
      "[Tue Oct 11 00:57:54 2022] [::1]:58462 Accepted\n",
      "[Tue Oct 11 00:57:54 2022] [::1]:58462 [200]: GET /?x=8&z=1\n",
      "[Tue Oct 11 00:57:54 2022] [::1]:58462 Closing\n",
      "[Tue Oct 11 00:57:55 2022] [::1]:58476 Accepted\n",
      "[Tue Oct 11 00:57:55 2022] [::1]:58476 [200]: GET /?x=1&z=8\n",
      "[Tue Oct 11 00:57:55 2022] [::1]:58476 Closing\n",
      "[Tue Oct 11 00:57:55 2022] [::1]:58488 Accepted\n",
      "[Tue Oct 11 00:57:55 2022] [::1]:58488 [200]: GET /?x=4&z=0\n",
      "[Tue Oct 11 00:57:55 2022] [::1]:58488 Closing\n",
      "[Tue Oct 11 00:57:55 2022] [::1]:58498 Accepted\n",
      "[Tue Oct 11 00:57:55 2022] [::1]:58498 [200]: GET /?x=5&z=9\n",
      "[Tue Oct 11 00:57:55 2022] [::1]:58498 Closing\n",
      "[Tue Oct 11 00:57:56 2022] [::1]:58504 Accepted\n",
      "[Tue Oct 11 00:57:56 2022] [::1]:58504 [200]: GET /?x=0&z=4\n",
      "[Tue Oct 11 00:57:56 2022] [::1]:58504 Closing\n",
      "[Tue Oct 11 00:57:56 2022] [::1]:58514 Accepted\n",
      "[Tue Oct 11 00:57:56 2022] [::1]:58514 [200]: GET /?x=9&z=5\n",
      "[Tue Oct 11 00:57:56 2022] [::1]:58514 Closing\n",
      "[Tue Oct 11 00:57:56 2022] [::1]:58526 Accepted\n",
      "[Tue Oct 11 00:57:56 2022] [::1]:58526 [200]: GET /\n",
      "[Tue Oct 11 00:57:56 2022] [::1]:58526 Closing\n",
      "[Tue Oct 11 00:57:57 2022] [::1]:58536 Accepted\n",
      "[Tue Oct 11 00:57:57 2022] [::1]:58536 [200]: GET /?x=1&z=0\n",
      "[Tue Oct 11 00:57:57 2022] [::1]:58536 Closing\n",
      "[Tue Oct 11 00:57:57 2022] [::1]:58544 Accepted\n",
      "[Tue Oct 11 00:57:57 2022] [::1]:58544 [200]: GET /?x=5&z=9\n",
      "[Tue Oct 11 00:57:57 2022] [::1]:58544 Closing\n",
      "[Tue Oct 11 00:57:57 2022] [::1]:58552 Accepted\n",
      "[Tue Oct 11 00:57:57 2022] [::1]:58552 [200]: GET /?x=3&z=0\n",
      "[Tue Oct 11 00:57:57 2022] [::1]:58552 Closing\n",
      "[Tue Oct 11 00:57:57 2022] [::1]:58562 Accepted\n",
      "[Tue Oct 11 00:57:57 2022] [::1]:58562 [200]: GET /?x=9&z=9\n",
      "[Tue Oct 11 00:57:57 2022] [::1]:58562 Closing\n"
     ]
    },
    {
     "name": "stdout",
     "output_type": "stream",
     "text": [
      "\r",
      "\u001b[32;1m✔\u001b[39;22m \u001b[35;1mPatternCept:\u001b[39;22m  \u001b[32m(4.52s)\u001b[39m\r\n",
      "- \u001b[35;1mSizeCept:\u001b[39;22m "
     ]
    },
    {
     "name": "stderr",
     "output_type": "stream",
     "text": [
      "[Tue Oct 11 00:57:58 2022] [::1]:39132 Accepted\n",
      "[Tue Oct 11 00:57:58 2022] PHP Warning:  Undefined array key \"craate_cookie\" in /home/student/php_2022_g2_adam_lewinski/02_superglobals/02_chessboard/project/index.php on line 26\n",
      "[Tue Oct 11 00:57:58 2022] PHP Stack trace:\n",
      "[Tue Oct 11 00:57:58 2022] PHP   1. {main}() /home/student/php_2022_g2_adam_lewinski/02_superglobals/02_chessboard/project/index.php:0\n",
      "[Tue Oct 11 00:57:58 2022] [::1]:39132 [200]: GET /\n",
      "[Tue Oct 11 00:57:58 2022] [::1]:39132 Closing\n",
      "[Tue Oct 11 00:57:58 2022] [::1]:39148 Accepted\n",
      "[Tue Oct 11 00:57:58 2022] [::1]:39148 [200]: POST /\n",
      "[Tue Oct 11 00:57:58 2022] [::1]:39148 Closing\n",
      "[Tue Oct 11 00:57:58 2022] [::1]:39162 Accepted\n",
      "[Tue Oct 11 00:57:58 2022] [::1]:39162 [200]: POST /\n",
      "[Tue Oct 11 00:57:58 2022] [::1]:39162 Closing\n",
      "[Tue Oct 11 00:57:58 2022] [::1]:39164 Accepted\n",
      "[Tue Oct 11 00:57:58 2022] [::1]:39164 [200]: POST /\n",
      "[Tue Oct 11 00:57:58 2022] [::1]:39164 Closing\n",
      "[Tue Oct 11 00:57:58 2022] [::1]:39178 Accepted\n",
      "[Tue Oct 11 00:57:58 2022] [::1]:39178 [200]: POST /\n",
      "[Tue Oct 11 00:57:58 2022] [::1]:39178 Closing\n",
      "[Tue Oct 11 00:57:58 2022] [::1]:39194 Accepted\n",
      "[Tue Oct 11 00:57:58 2022] [::1]:39194 [200]: POST /\n",
      "[Tue Oct 11 00:57:58 2022] [::1]:39194 Closing\n",
      "[Tue Oct 11 00:57:58 2022] [::1]:39206 Accepted\n",
      "[Tue Oct 11 00:57:58 2022] [::1]:39206 [200]: GET /\n",
      "[Tue Oct 11 00:57:58 2022] [::1]:39206 Closing\n"
     ]
    },
    {
     "name": "stdout",
     "output_type": "stream",
     "text": [
      "\r",
      "\u001b[32;1m✔\u001b[39;22m \u001b[35;1mSizeCept:\u001b[39;22m  \u001b[32m(0.89s)\u001b[39m\r\n",
      "--------------------------------------------------------------------------------\r\n",
      "\r\n",
      "\r\n",
      "Time: 00:07.230, Memory: 16.00 MB\r\n",
      "\r\n",
      "There was 1 failure:\r\n",
      "\r\n",
      "---------\r\n",
      "1) \u001b[35;1mColorsCept:\u001b[39;22m \r\n",
      "\u001b[37;41;1m Test \u001b[39;49;22m tests/acceptance/ColorsCept.php\r\n",
      "\u001b[37;41;1m Step \u001b[39;49;22m See element \"a\",{\"class\":\"block gray\"}\r\n",
      "\u001b[37;41;1m Fail \u001b[39;49;22m Element located either by name, CSS or XPath element with a' with attribute(s) '\"class\":\"block gray\" was not found.\r\n",
      "\u001b[33m\r\n",
      "Scenario Steps:\r\n",
      "\u001b[39m\r\n",
      "\u001b[1m 540. $I->seeElement(\"a\",{\"class\":\"block gray\"})\u001b[22m at \u001b[32mtests/acceptance/ColorsCept.php:48\u001b[39m\r\n",
      " 539. $I->seeElement(\"a\",{\"href\":\"?x=9&z=9\"}) at \u001b[32mtests/_support/AcceptanceTester.php:33\u001b[39m\r\n",
      " 538. $I->seeElement(\"a\",{\"href\":\"?x=9&z=8\"}) at \u001b[32mtests/_support/AcceptanceTester.php:33\u001b[39m\r\n",
      " 537. $I->seeElement(\"a\",{\"href\":\"?x=9&z=7\"}) at \u001b[32mtests/_support/AcceptanceTester.php:33\u001b[39m\r\n",
      " 536. $I->seeElement(\"a\",{\"href\":\"?x=9&z=6\"}) at \u001b[32mtests/_support/AcceptanceTester.php:33\u001b[39m\r\n",
      " 535. $I->seeElement(\"a\",{\"href\":\"?x=9&z=5\"}) at \u001b[32mtests/_support/AcceptanceTester.php:33\u001b[39m\r\n",
      "\r\n",
      "\u001b[33mArtifacts:\u001b[39m\r\n",
      "\r\n",
      "Html: \u001b[36m/home/student/php_2022_g2_adam_lewinski/02_superglobals/02_chessboard/tests/tests/_output/ColorsCept.fail.html\u001b[39m\r\n",
      "Response: \u001b[36m/home/student/php_2022_g2_adam_lewinski/02_superglobals/02_chessboard/tests/tests/_output/ColorsCept.fail.html\u001b[39m\r\n",
      "\r\n",
      "\u001b[37;41mFAILURES!\u001b[0m\r\n",
      "\u001b[37;41mTests: 3\u001b[0m\u001b[37;41m, Assertions: 2257\u001b[0m\u001b[37;41m, Failures: 1\u001b[0m\u001b[37;41m.\u001b[0m\r\n"
     ]
    }
   ],
   "source": [
    "! cd tests && composer install && vendor/bin/codecept run"
   ]
  },
  {
   "cell_type": "code",
   "execution_count": 11,
   "metadata": {},
   "outputs": [],
   "source": [
    "phpServer.kill()"
   ]
  },
  {
   "cell_type": "code",
   "execution_count": null,
   "metadata": {},
   "outputs": [],
   "source": []
  }
 ],
 "metadata": {
  "kernelspec": {
   "display_name": "Python 3 (ipykernel)",
   "language": "python",
   "name": "python3"
  },
  "language_info": {
   "codemirror_mode": {
    "name": "ipython",
    "version": 3
   },
   "file_extension": ".py",
   "mimetype": "text/x-python",
   "name": "python",
   "nbconvert_exporter": "python",
   "pygments_lexer": "ipython3",
   "version": "3.10.4"
  }
 },
 "nbformat": 4,
 "nbformat_minor": 4
}
