{
 "cells": [
  {
   "cell_type": "markdown",
   "metadata": {},
   "source": [
    "# PHP 2022"
   ]
  },
  {
   "cell_type": "markdown",
   "metadata": {},
   "source": [
    "## 2. Superglobals"
   ]
  },
  {
   "cell_type": "markdown",
   "metadata": {},
   "source": [
    "### 2.2 Chessboard"
   ]
  },
  {
   "cell_type": "markdown",
   "metadata": {},
   "source": [
    "Requirements:\n",
    "\n",
    "- The colour of the array is sored in a cookie\n",
    "- The default colour is grey, but it can be changed to red, green and blue\n",
    "- The size of the chessboard is stored in the session and can be configured using the post method\n",
    "- The array is constructed from links that can be clicked\n",
    "- After clicking two points, a white line is drawn between the points\n",
    "- Multiple lines can be added\n",
    "\n",
    "When in doubt, run the acceptance tests :)"
   ]
  },
  {
   "cell_type": "markdown",
   "metadata": {},
   "source": [
    "To start editing run:"
   ]
  },
  {
   "cell_type": "code",
   "execution_count": null,
   "metadata": {},
   "outputs": [
    {
     "name": "stdout",
     "output_type": "stream",
     "text": [
      "Info  | RdCoroutineScope          | 13:JobScheduler FJ pool 1/3 | RdCoroutineHost overridden \n",
      "2022-10-10 23:01:06,775 [  16985]   WARN - #c.i.o.a.i.ActionUpdater - 2102 ms to grab EDT for #update@ToolwindowTitle (com.intellij.toolWindow.ToolWindowHeader$2)\n",
      "2022-10-10 23:01:08,255 [  18465]   WARN - #c.i.o.a.i.ActionUpdater - 1476 ms to grab EDT for #getChildren@ToolwindowTitle (com.intellij.toolWindow.ToolWindowHeader$2)\n",
      "2022-10-10 23:01:08,628 [  18838]   WARN - #c.i.o.a.i.ActionUpdater - 646 ms to grab EDT for #update@ToolwindowTitle (com.intellij.toolWindow.ToolWindowHeader$2)\n",
      "2022-10-10 23:01:08,743 [  18953]   WARN - #c.i.o.a.i.ActionUpdater - 3578 ms total to grab EDT 2 times to expand @ToolwindowTitle (com.intellij.toolWindow.ToolWindowHeader$2). Use `ActionUpdateThread.BGT`.\n",
      "2022-10-10 23:06:23,477 [ 333687]   WARN - #c.i.o.a.i.ActionUpdater - 482 ms to grab EDT for TrafficLightAction#update@EditorInspectionsToolbar (com.intellij.openapi.editor.impl.EditorMarkupModelImpl$TrafficLightAction)\n",
      "2022-10-10 23:06:23,477 [ 333687]   WARN - #c.i.o.a.i.ActionUpdater - 481 ms to grab EDT for GitCommitWithStagingAreaAction#update@NavBarToolbar (git4idea.index.actions.GitCommitWithStagingAreaAction)\n",
      "2022-10-10 23:06:23,715 [ 333925]   WARN - #c.i.u.x.Binding - no accessors for org.jetbrains.idea.perforce.perforce.ConnectionId\n"
     ]
    }
   ],
   "source": [
    "! phpstorm project"
   ]
  },
  {
   "cell_type": "markdown",
   "metadata": {},
   "source": [
    "Working application:\n",
    "\n",
    "![01_initial](images/01_initial.jpg)\n",
    "![02_click](images/02_click.jpg)\n",
    "![03_clicked](images/03_clicked.jpg)\n",
    "![04_click](images/04_click.jpg)\n",
    "![05_clicked](images/05_clicked.jpg)\n",
    "![06_change](images/06_change.jpg)\n",
    "![07_changed](images/07_changed.jpg)\n",
    "![08_color_change](images/08_color_change.jpg)\n",
    "![09_color_changed](images/09_color_changed.jpg)"
   ]
  },
  {
   "cell_type": "markdown",
   "metadata": {},
   "source": [
    "You can test your solution using included tests:"
   ]
  },
  {
   "cell_type": "code",
   "execution_count": null,
   "metadata": {},
   "outputs": [],
   "source": [
    "import subprocess\n",
    "phpServer = subprocess.Popen(['php', '-S', 'localhost:8888', '-t', 'project/'])"
   ]
  },
  {
   "cell_type": "code",
   "execution_count": null,
   "metadata": {},
   "outputs": [],
   "source": [
    "! cd tests && composer install && vendor/bin/codecept run"
   ]
  },
  {
   "cell_type": "code",
   "execution_count": null,
   "metadata": {},
   "outputs": [],
   "source": [
    "phpServer.kill()"
   ]
  }
 ],
 "metadata": {
  "kernelspec": {
   "display_name": "Python 3 (ipykernel)",
   "language": "python",
   "name": "python3"
  },
  "language_info": {
   "codemirror_mode": {
    "name": "ipython",
    "version": 3
   },
   "file_extension": ".py",
   "mimetype": "text/x-python",
   "name": "python",
   "nbconvert_exporter": "python",
   "pygments_lexer": "ipython3",
   "version": "3.10.4"
  }
 },
 "nbformat": 4,
 "nbformat_minor": 4
}
