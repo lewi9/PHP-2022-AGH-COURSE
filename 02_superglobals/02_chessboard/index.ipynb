{
 "cells": [
  {
   "cell_type": "markdown",
   "metadata": {},
   "source": [
    "# PHP 2022"
   ]
  },
  {
   "cell_type": "markdown",
   "metadata": {},
   "source": [
    "## 2. Superglobals"
   ]
  },
  {
   "cell_type": "markdown",
   "metadata": {},
   "source": [
    "### 2.2 Chessboard"
   ]
  },
  {
   "cell_type": "markdown",
   "metadata": {},
   "source": [
    "Requirements:\n",
    "\n",
    "- The colour of the array is sored in a cookie\n",
    "- The default colour is grey, but it can be changed to red, green and blue\n",
    "- The size of the chessboard is stored in the session and can be configured using the post method\n",
    "- The array is constructed from links that can be clicked\n",
    "- After clicking two points, a white line is drawn between the points\n",
    "- Multiple lines can be added\n",
    "\n",
    "When in doubt, run the acceptance tests :)"
   ]
  },
  {
   "cell_type": "markdown",
   "metadata": {},
   "source": [
    "To start editing run:"
   ]
  },
  {
   "cell_type": "code",
   "execution_count": null,
   "metadata": {},
   "outputs": [
    {
     "name": "stdout",
     "output_type": "stream",
     "text": [
      "Info  | RdCoroutineScope          | 13:JobScheduler FJ pool 1/3 | RdCoroutineHost overridden \n",
      "2022-10-10 16:48:43,174 [  24353]   WARN - #c.i.o.a.i.ActionUpdater - 2390 ms to grab EDT for BackAction#update@MainToolbar (com.intellij.ide.actions.BackAction)\n",
      "2022-10-10 16:48:44,339 [  25518]   WARN - #c.i.o.v.ExternallyAddedFilesProcessorImpl - Cannot find project config directory for non-default and non-directory based project project\n",
      "2022-10-10 16:48:46,061 [  27240]   WARN - #c.i.o.a.i.ActionUpdater - 235 ms to grab EDT for #update@ToolwindowTitle (com.intellij.toolWindow.ToolWindowHeader$2)\n",
      "2022-10-10 16:48:46,070 [  27249]   WARN - #c.i.o.a.i.ActionUpdater - 235 ms to grab EDT for CWMTelephonyGroup#update@NavBarToolbar (com.jetbrains.rd.platform.codeWithMe.telephony.CWMTelephonyGroup)\n",
      "2022-10-10 16:48:47,095 [  28274]   WARN - #c.i.o.a.i.ActionUpdater - 499 ms to grab EDT for ExpandAllAction#update@ToolwindowTitle (com.intellij.ide.actions.ExpandAllAction)\n",
      "2022-10-10 16:48:54,397 [  35576]   WARN - #c.i.o.a.i.ActionUpdater - 615 ms to grab EDT for #update@ToolwindowTitle (com.intellij.toolWindow.ToolWindowHeader$2)\n",
      "2022-10-10 16:48:54,853 [  36032]   WARN - #c.i.o.a.i.ActionUpdater - 476 ms to grab EDT for CWMTelephonyGroup#update@NavBarToolbar (com.jetbrains.rd.platform.codeWithMe.telephony.CWMTelephonyGroup)\n",
      "2022-10-10 16:48:54,854 [  36033]   WARN - #c.i.o.a.i.ActionUpdater - 453 ms to grab EDT for #getChildren@ToolwindowTitle (com.intellij.toolWindow.ToolWindowHeader$2)\n",
      "2022-10-10 16:48:56,852 [  38031]   WARN - #c.i.o.a.i.ActionUpdater - 330 ms to grab EDT for SelectFileAction#update@ToolwindowTitle (com.intellij.ide.projectView.impl.SelectFileAction)\n",
      "2022-10-10 16:48:57,135 [  38314]   WARN - #c.i.o.a.i.ActionUpdater - 1289 ms to call on BGT ExecutorAction#update@NavBarToolbar (com.intellij.execution.ExecutorRegistryImpl$ExecutorAction)\n",
      "2022-10-10 16:55:06,718 [ 407897]   WARN - #c.i.u.x.Binding - no accessors for org.jetbrains.idea.perforce.perforce.ConnectionId\n",
      "2022-10-10 16:55:06,843 [ 408022]   WARN - #c.i.o.a.i.ActionUpdater - 207 ms to grab EDT for #update@EditorInspectionsToolbar (com.intellij.openapi.editor.impl.EditorMarkupModelImpl$1)\n",
      "2022-10-10 17:00:53,790 [ 754969]   WARN - #c.i.o.a.i.ActionUpdater - 238 ms to grab EDT for CWMTelephonyGroup#update@NavBarToolbar (com.jetbrains.rd.platform.codeWithMe.telephony.CWMTelephonyGroup)\n",
      "2022-10-10 17:00:53,820 [ 754999]   WARN - #c.i.o.a.i.ActionUpdater - 203 ms to grab EDT for #getChildren@ToolwindowTitle (com.intellij.toolWindow.ToolWindowHeader$2)\n",
      "2022-10-10 17:37:39,913 [2961092]   WARN - #c.j.p.PhpIndex - Invalid Signature '\\class-string<#ᢐ\\T.>'\n",
      "2022-10-10 17:58:11,469 [4192648]   WARN - #c.i.o.a.i.ActionToolbarImpl - 'run.anything.toolbar' toolbar by default uses any focused component to update its actions. Toolbar actions that need local UI context would be incorrectly disabled. Please call toolbar.setTargetComponent() explicitly.\n",
      "java.lang.Throwable: toolbar creation trace\n",
      "\tat com.intellij.openapi.actionSystem.impl.ActionToolbarImpl.<init>(ActionToolbarImpl.java:115)\n",
      "\tat com.intellij.openapi.actionSystem.impl.ActionToolbarImpl.<init>(ActionToolbarImpl.java:173)\n",
      "\tat com.intellij.openapi.actionSystem.impl.ActionManagerImpl.createActionToolbar(ActionManagerImpl.java:445)\n",
      "\tat com.intellij.openapi.actionSystem.impl.ActionManagerImpl.createActionToolbar(ActionManagerImpl.java:440)\n",
      "\tat com.intellij.ide.actions.runAnything.RunAnythingPopupUI.createHeader(RunAnythingPopupUI.java:801)\n",
      "\tat com.intellij.ide.actions.BigPopupUI.init(BigPopupUI.java:167)\n",
      "\tat com.intellij.ide.actions.runAnything.RunAnythingPopupUI.<init>(RunAnythingPopupUI.java:692)\n",
      "\tat com.intellij.ide.actions.runAnything.RunAnythingManager.createView(RunAnythingManager.java:140)\n",
      "\tat com.intellij.ide.actions.runAnything.RunAnythingManager.show(RunAnythingManager.java:46)\n",
      "\tat com.intellij.ide.actions.runAnything.RunAnythingManager.show(RunAnythingManager.java:38)\n",
      "\tat com.intellij.ide.actions.runAnything.RunAnythingAction.actionPerformed(RunAnythingAction.java:80)\n",
      "\tat com.intellij.openapi.actionSystem.ex.ActionUtil.doPerformActionOrShowPopup(ActionUtil.java:315)\n",
      "\tat com.intellij.openapi.actionSystem.ex.ActionUtil.lambda$performActionDumbAwareWithCallbacks$4(ActionUtil.java:294)\n",
      "\tat com.intellij.openapi.actionSystem.ex.ActionUtil.performDumbAwareWithCallbacks(ActionUtil.java:337)\n",
      "\tat com.intellij.openapi.actionSystem.ex.ActionUtil.performActionDumbAwareWithCallbacks(ActionUtil.java:294)\n",
      "\tat com.intellij.openapi.keymap.impl.ModifierKeyDoubleClickHandler$MyDispatcher.run(ModifierKeyDoubleClickHandler.java:274)\n",
      "\tat com.intellij.openapi.keymap.impl.ModifierKeyDoubleClickHandler$MyDispatcher.handleModifier(ModifierKeyDoubleClickHandler.java:239)\n",
      "\tat com.intellij.openapi.keymap.impl.ModifierKeyDoubleClickHandler$MyDispatcher.dispatch(ModifierKeyDoubleClickHandler.java:176)\n",
      "\tat com.intellij.openapi.keymap.impl.ModifierKeyDoubleClickHandler$MyEventDispatcher.dispatch(ModifierKeyDoubleClickHandler.java:93)\n",
      "\tat com.intellij.ide.IdeEventQueue.dispatchByCustomDispatchers(IdeEventQueue.java:869)\n",
      "\tat com.intellij.ide.IdeEventQueue._dispatchEvent(IdeEventQueue.java:741)\n",
      "\tat com.intellij.ide.IdeEventQueue.lambda$dispatchEvent$6(IdeEventQueue.java:450)\n",
      "\tat com.intellij.openapi.progress.impl.CoreProgressManager.computePrioritized(CoreProgressManager.java:791)\n",
      "\tat com.intellij.ide.IdeEventQueue.lambda$dispatchEvent$7(IdeEventQueue.java:449)\n",
      "\tat com.intellij.openapi.application.TransactionGuardImpl.performActivity(TransactionGuardImpl.java:113)\n",
      "\tat com.intellij.ide.IdeEventQueue.performActivity(IdeEventQueue.java:624)\n",
      "\tat com.intellij.ide.IdeEventQueue.lambda$dispatchEvent$8(IdeEventQueue.java:447)\n",
      "\tat com.intellij.openapi.application.impl.ApplicationImpl.runIntendedWriteActionOnCurrentThread(ApplicationImpl.java:881)\n",
      "\tat com.intellij.ide.IdeEventQueue.dispatchEvent(IdeEventQueue.java:493)\n",
      "\tat java.desktop/java.awt.EventDispatchThread.pumpOneEventForFilters(EventDispatchThread.java:207)\n",
      "\tat java.desktop/java.awt.EventDispatchThread.pumpEventsForFilter(EventDispatchThread.java:128)\n",
      "\tat java.desktop/java.awt.EventDispatchThread.pumpEventsForHierarchy(EventDispatchThread.java:117)\n",
      "\tat java.desktop/java.awt.EventDispatchThread.pumpEvents(EventDispatchThread.java:113)\n",
      "\tat java.desktop/java.awt.EventDispatchThread.pumpEvents(EventDispatchThread.java:105)\n",
      "\tat java.desktop/java.awt.EventDispatchThread.run(EventDispatchThread.java:92)\n",
      "2022-10-10 20:26:22,947 [13084126]   WARN - #c.i.o.a.i.ActionUpdater - 1206 ms to grab EDT for #update@ToolwindowTitle (com.intellij.toolWindow.ToolWindowHeader$2)\n",
      "2022-10-10 20:26:22,948 [13084127]   WARN - #c.i.o.a.i.ActionUpdater - 1212 ms to grab EDT for CWMTelephonyGroup#update@NavBarToolbar (com.jetbrains.rd.platform.codeWithMe.telephony.CWMTelephonyGroup)\n",
      "2022-10-10 20:26:24,142 [13085321]   WARN - #c.i.o.a.i.ActionUpdater - 1013 ms to grab EDT for #update@ToolwindowTitle (com.intellij.toolWindow.ToolWindowHeader$2)\n",
      "2022-10-10 20:26:24,222 [13085401]   WARN - #c.i.o.a.i.ActionUpdater - 1077 ms to grab EDT for CWMTelephonyGroup#update@NavBarToolbar (com.jetbrains.rd.platform.codeWithMe.telephony.CWMTelephonyGroup)\n",
      "2022-10-10 20:39:25,006 [13866185]   WARN - #c.j.p.PhpIndex - Invalid Signature ';\n",
      "    $_COOKIE\")'\n",
      "2022-10-10 20:40:55,605 [13956784]   WARN - #c.i.o.a.e.ActionUtil - Can not find action by id CompileDirty\n",
      "2022-10-10 20:45:48,703 [14249882]   WARN - #c.j.p.PhpIndex - Invalid Signature ';\n",
      "    $_COOKIE\")'\n",
      "2022-10-10 20:46:15,837 [14277016]   WARN - #c.j.p.PhpIndex - Invalid Signature ';\n",
      "$_COOKIE\")'\n",
      "2022-10-10 20:55:07,889 [14809068] SEVERE - c.j.t.m.TerminalTextBuffer - Attempt to get line out of bounds: 8 >= 8\n",
      "2022-10-10 20:55:07,908 [14809087] SEVERE - c.j.t.m.TerminalTextBuffer - Attempt to get line out of bounds: 8 >= 8\n",
      "2022-10-10 21:30:30,615 [16931794]   WARN - #c.i.o.a.i.ActionUpdater - 309 ms to grab EDT for #update@ToolwindowTitle (com.intellij.toolWindow.ToolWindowHeader$2)\n",
      "2022-10-10 21:30:30,662 [16931841]   WARN - #c.i.o.a.i.ActionUpdater - 311 ms to grab EDT for ResumeAction#update@DebuggerToolbar (com.intellij.xdebugger.impl.actions.ResumeAction)\n",
      "2022-10-10 21:38:01,809 [17382988] SEVERE - c.j.t.m.TerminalTextBuffer - Attempt to get line out of bounds: 8 >= 8\n",
      "2022-10-10 21:38:01,810 [17382989] SEVERE - c.j.t.m.TerminalTextBuffer - Attempt to get line out of bounds: 8 >= 8\n"
     ]
    },
    {
     "name": "stdout",
     "output_type": "stream",
     "text": [
      "2022-10-10 21:42:35,537 [17656716] SEVERE - c.j.t.m.TerminalTextBuffer - Attempt to get line out of bounds: 8 >= 8\n",
      "2022-10-10 21:42:35,538 [17656717] SEVERE - c.j.t.m.TerminalTextBuffer - Attempt to get line out of bounds: 8 >= 8\n",
      "2022-10-10 21:50:06,358 [18107537] SEVERE - c.j.t.m.TerminalTextBuffer - Attempt to get line out of bounds: 8 >= 8\n",
      "2022-10-10 21:50:06,367 [18107546] SEVERE - c.j.t.m.TerminalTextBuffer - Attempt to get line out of bounds: 8 >= 8\n",
      "2022-10-10 21:52:25,317 [18246496] SEVERE - c.j.t.m.TerminalTextBuffer - Attempt to get line out of bounds: 8 >= 8\n",
      "2022-10-10 21:52:25,318 [18246497] SEVERE - c.j.t.m.TerminalTextBuffer - Attempt to get line out of bounds: 8 >= 8\n"
     ]
    }
   ],
   "source": [
    "! phpstorm project"
   ]
  },
  {
   "cell_type": "markdown",
   "metadata": {},
   "source": [
    "Working application:\n",
    "\n",
    "![01_initial](images/01_initial.jpg)\n",
    "![02_click](images/02_click.jpg)\n",
    "![03_clicked](images/03_clicked.jpg)\n",
    "![04_click](images/04_click.jpg)\n",
    "![05_clicked](images/05_clicked.jpg)\n",
    "![06_change](images/06_change.jpg)\n",
    "![07_changed](images/07_changed.jpg)\n",
    "![08_color_change](images/08_color_change.jpg)\n",
    "![09_color_changed](images/09_color_changed.jpg)"
   ]
  },
  {
   "cell_type": "markdown",
   "metadata": {},
   "source": [
    "You can test your solution using included tests:"
   ]
  },
  {
   "cell_type": "code",
   "execution_count": null,
   "metadata": {},
   "outputs": [],
   "source": [
    "import subprocess\n",
    "phpServer = subprocess.Popen(['php', '-S', 'localhost:8888', '-t', 'project/'])"
   ]
  },
  {
   "cell_type": "code",
   "execution_count": null,
   "metadata": {},
   "outputs": [],
   "source": [
    "! cd tests && composer install && vendor/bin/codecept run"
   ]
  },
  {
   "cell_type": "code",
   "execution_count": null,
   "metadata": {},
   "outputs": [],
   "source": [
    "phpServer.kill()"
   ]
  }
 ],
 "metadata": {
  "kernelspec": {
   "display_name": "Python 3 (ipykernel)",
   "language": "python",
   "name": "python3"
  },
  "language_info": {
   "codemirror_mode": {
    "name": "ipython",
    "version": 3
   },
   "file_extension": ".py",
   "mimetype": "text/x-python",
   "name": "python",
   "nbconvert_exporter": "python",
   "pygments_lexer": "ipython3",
   "version": "3.10.4"
  }
 },
 "nbformat": 4,
 "nbformat_minor": 4
}
